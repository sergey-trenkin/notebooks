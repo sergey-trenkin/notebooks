{
 "cells": [
  {
   "cell_type": "code",
   "execution_count": 55,
   "metadata": {},
   "outputs": [],
   "source": [
    "from sqlalchemy import create_engine\n",
    "from tqdm import tqdm\n",
    "import datetime as dt\n",
    "import pandas as pd\n",
    "import numpy as np\n",
    "import warnings\n",
    "import json\n",
    "import os\n",
    "\n",
    "warnings.filterwarnings('ignore')\n",
    "pd.set_option('display.max_columns', None)"
   ]
  },
  {
   "cell_type": "code",
   "execution_count": 56,
   "metadata": {},
   "outputs": [],
   "source": [
    "os.chdir('../')\n",
    "path = os.getcwd()"
   ]
  },
  {
   "cell_type": "code",
   "execution_count": 57,
   "metadata": {},
   "outputs": [],
   "source": [
    "date_now = dt.datetime.now().date().strftime('%d.%m.%Y')"
   ]
  },
  {
   "cell_type": "code",
   "execution_count": 58,
   "metadata": {},
   "outputs": [],
   "source": [
    "date_now = '04.06.2024'"
   ]
  },
  {
   "cell_type": "markdown",
   "metadata": {},
   "source": [
    "# 1. Sokolov"
   ]
  },
  {
   "cell_type": "code",
   "execution_count": 91,
   "metadata": {},
   "outputs": [],
   "source": [
    "df_sokolov = pd.read_csv(rf'{path}\\sokolov\\parsed_data\\result\\sokolov_all_{date_now}.csv')\n"
   ]
  },
  {
   "cell_type": "code",
   "execution_count": 92,
   "metadata": {},
   "outputs": [
    {
     "data": {
      "text/plain": [
       "discount\n",
       "Второе украшение с бриллиантами БЕСПЛАТНО! 1 ＝ 2               3840\n",
       "NaN                                                            3699\n",
       "Дополнительная скидка по акции «Готовимся к лету!» ЕЩЁ -10%    2593\n",
       "Дополнительная скидка по акции «Готовимся к лету!» ЕЩЁ -20%     884\n",
       "Name: count, dtype: int64"
      ]
     },
     "execution_count": 92,
     "metadata": {},
     "output_type": "execute_result"
    }
   ],
   "source": [
    "df_sokolov['discount'].value_counts(dropna=False)"
   ]
  },
  {
   "cell_type": "code",
   "execution_count": 93,
   "metadata": {},
   "outputs": [],
   "source": [
    "df_sokolov.columns = ['date', 'competitor', 'name', 'group', 'weight', 'price', 'price_old',\n",
    "                    'discount', 'insert', 'metal', 'lock_type_or_weaving_type', 'url']\n"
   ]
  },
  {
   "cell_type": "code",
   "execution_count": 94,
   "metadata": {},
   "outputs": [],
   "source": [
    "df_sokolov['discount_for_dash'] = df_sokolov['discount']"
   ]
  },
  {
   "cell_type": "code",
   "execution_count": 95,
   "metadata": {},
   "outputs": [
    {
     "data": {
      "text/html": [
       "<div>\n",
       "<style scoped>\n",
       "    .dataframe tbody tr th:only-of-type {\n",
       "        vertical-align: middle;\n",
       "    }\n",
       "\n",
       "    .dataframe tbody tr th {\n",
       "        vertical-align: top;\n",
       "    }\n",
       "\n",
       "    .dataframe thead th {\n",
       "        text-align: right;\n",
       "    }\n",
       "</style>\n",
       "<table border=\"1\" class=\"dataframe\">\n",
       "  <thead>\n",
       "    <tr style=\"text-align: right;\">\n",
       "      <th></th>\n",
       "      <th>date</th>\n",
       "      <th>competitor</th>\n",
       "      <th>name</th>\n",
       "      <th>group</th>\n",
       "      <th>weight</th>\n",
       "      <th>price</th>\n",
       "      <th>price_old</th>\n",
       "      <th>discount</th>\n",
       "      <th>insert</th>\n",
       "      <th>metal</th>\n",
       "      <th>lock_type_or_weaving_type</th>\n",
       "      <th>url</th>\n",
       "      <th>discount_for_dash</th>\n",
       "    </tr>\n",
       "  </thead>\n",
       "  <tbody>\n",
       "    <tr>\n",
       "      <th>0</th>\n",
       "      <td>04-06-2024</td>\n",
       "      <td>Sokolov</td>\n",
       "      <td>Серьги из белого золота с бриллиантами и танза...</td>\n",
       "      <td>earrings</td>\n",
       "      <td>2.18 г</td>\n",
       "      <td>96750</td>\n",
       "      <td>214990</td>\n",
       "      <td>Второе украшение с бриллиантами БЕСПЛАТНО! 1 ＝ 2</td>\n",
       "      <td>Бриллиант (природный) (36 шт, 0.135 карат) и е...</td>\n",
       "      <td>Белое золото 585 пробы</td>\n",
       "      <td>Пусет</td>\n",
       "      <td>6024434-3</td>\n",
       "      <td>Второе украшение с бриллиантами БЕСПЛАТНО! 1 ＝ 2</td>\n",
       "    </tr>\n",
       "    <tr>\n",
       "      <th>1</th>\n",
       "      <td>04-06-2024</td>\n",
       "      <td>Sokolov</td>\n",
       "      <td>Подвеска из белого золота с бриллиантами и тан...</td>\n",
       "      <td>pendants</td>\n",
       "      <td>0.86 г</td>\n",
       "      <td>44100</td>\n",
       "      <td>97990</td>\n",
       "      <td>Второе украшение с бриллиантами БЕСПЛАТНО! 1 ＝ 2</td>\n",
       "      <td>Бриллиант (природный) (18 шт, 0.067 карат) и е...</td>\n",
       "      <td>Белое золото 585 пробы</td>\n",
       "      <td>NaN</td>\n",
       "      <td>6034150-3</td>\n",
       "      <td>Второе украшение с бриллиантами БЕСПЛАТНО! 1 ＝ 2</td>\n",
       "    </tr>\n",
       "    <tr>\n",
       "      <th>2</th>\n",
       "      <td>04-06-2024</td>\n",
       "      <td>Sokolov</td>\n",
       "      <td>Кольцо из белого золота с бриллиантами и танза...</td>\n",
       "      <td>rings</td>\n",
       "      <td>2.16 г</td>\n",
       "      <td>65250</td>\n",
       "      <td>144990</td>\n",
       "      <td>Второе украшение с бриллиантами БЕСПЛАТНО! 1 ＝ 2</td>\n",
       "      <td>Бриллиант (природный) (18 шт, 0.067 карат) и е...</td>\n",
       "      <td>Белое золото 585 пробы</td>\n",
       "      <td>NaN</td>\n",
       "      <td>6014351-3</td>\n",
       "      <td>Второе украшение с бриллиантами БЕСПЛАТНО! 1 ＝ 2</td>\n",
       "    </tr>\n",
       "    <tr>\n",
       "      <th>3</th>\n",
       "      <td>04-06-2024</td>\n",
       "      <td>Sokolov</td>\n",
       "      <td>Колье из белого золота с бриллиантами и танзан...</td>\n",
       "      <td>necklaces</td>\n",
       "      <td>2.61 г</td>\n",
       "      <td>63000</td>\n",
       "      <td>139990</td>\n",
       "      <td>Второе украшение с бриллиантами БЕСПЛАТНО! 1 ＝ 2</td>\n",
       "      <td>Бриллиант (природный) (16 шт, 0.046 карат) и е...</td>\n",
       "      <td>Белое золото 585 пробы</td>\n",
       "      <td>NaN</td>\n",
       "      <td>6074002</td>\n",
       "      <td>Второе украшение с бриллиантами БЕСПЛАТНО! 1 ＝ 2</td>\n",
       "    </tr>\n",
       "    <tr>\n",
       "      <th>4</th>\n",
       "      <td>04-06-2024</td>\n",
       "      <td>Sokolov</td>\n",
       "      <td>Серьги из белого золота с бриллиантами</td>\n",
       "      <td>earrings</td>\n",
       "      <td>2.03 г</td>\n",
       "      <td>51750</td>\n",
       "      <td>114990</td>\n",
       "      <td>Второе украшение с бриллиантами БЕСПЛАТНО! 1 ＝ 2</td>\n",
       "      <td>Бриллиант (природный) (12 шт, 0.102 карат) и е...</td>\n",
       "      <td>Белое золото 585 пробы</td>\n",
       "      <td>Пусет</td>\n",
       "      <td>1021708</td>\n",
       "      <td>Второе украшение с бриллиантами БЕСПЛАТНО! 1 ＝ 2</td>\n",
       "    </tr>\n",
       "    <tr>\n",
       "      <th>...</th>\n",
       "      <td>...</td>\n",
       "      <td>...</td>\n",
       "      <td>...</td>\n",
       "      <td>...</td>\n",
       "      <td>...</td>\n",
       "      <td>...</td>\n",
       "      <td>...</td>\n",
       "      <td>...</td>\n",
       "      <td>...</td>\n",
       "      <td>...</td>\n",
       "      <td>...</td>\n",
       "      <td>...</td>\n",
       "      <td>...</td>\n",
       "    </tr>\n",
       "    <tr>\n",
       "      <th>11011</th>\n",
       "      <td>04-06-2024</td>\n",
       "      <td>Sokolov</td>\n",
       "      <td>Серьги из золота с бриллиантами</td>\n",
       "      <td>earrings</td>\n",
       "      <td>1.45 г</td>\n",
       "      <td>30600</td>\n",
       "      <td>67990</td>\n",
       "      <td>Второе украшение с бриллиантами БЕСПЛАТНО! 1 ＝ 2</td>\n",
       "      <td>Бриллиант (природный) (6 шт, 0.017 карат)</td>\n",
       "      <td>Красное золото 585 пробы</td>\n",
       "      <td>Английский</td>\n",
       "      <td>1021454</td>\n",
       "      <td>Второе украшение с бриллиантами БЕСПЛАТНО! 1 ＝ 2</td>\n",
       "    </tr>\n",
       "    <tr>\n",
       "      <th>11012</th>\n",
       "      <td>04-06-2024</td>\n",
       "      <td>Sokolov</td>\n",
       "      <td>Серьги из золота с бриллиантами</td>\n",
       "      <td>earrings</td>\n",
       "      <td>1.42 г</td>\n",
       "      <td>28350</td>\n",
       "      <td>62990</td>\n",
       "      <td>Второе украшение с бриллиантами БЕСПЛАТНО! 1 ＝ 2</td>\n",
       "      <td>Бриллиант (природный) (2 шт, 0.016 карат) и еще 1</td>\n",
       "      <td>Красное золото 585 пробы</td>\n",
       "      <td>Английский</td>\n",
       "      <td>1021455</td>\n",
       "      <td>Второе украшение с бриллиантами БЕСПЛАТНО! 1 ＝ 2</td>\n",
       "    </tr>\n",
       "    <tr>\n",
       "      <th>11013</th>\n",
       "      <td>04-06-2024</td>\n",
       "      <td>Sokolov</td>\n",
       "      <td>Серьги из золота с бриллиантами</td>\n",
       "      <td>earrings</td>\n",
       "      <td>3.15 г</td>\n",
       "      <td>83250</td>\n",
       "      <td>184990</td>\n",
       "      <td>Второе украшение с бриллиантами БЕСПЛАТНО! 1 ＝ 2</td>\n",
       "      <td>Бриллиант (природный) (50 шт, 0.188 карат)</td>\n",
       "      <td>Красное золото 585 пробы</td>\n",
       "      <td>Английский</td>\n",
       "      <td>1021465</td>\n",
       "      <td>Второе украшение с бриллиантами БЕСПЛАТНО! 1 ＝ 2</td>\n",
       "    </tr>\n",
       "    <tr>\n",
       "      <th>11014</th>\n",
       "      <td>04-06-2024</td>\n",
       "      <td>Sokolov</td>\n",
       "      <td>Серьги из белого золота с бриллиантами</td>\n",
       "      <td>earrings</td>\n",
       "      <td>3.6 г</td>\n",
       "      <td>73500</td>\n",
       "      <td>244990</td>\n",
       "      <td>Второе украшение с бриллиантами БЕСПЛАТНО! 1 ＝ 2</td>\n",
       "      <td>Бриллиант (природный) (80 шт, 0.307 карат)</td>\n",
       "      <td>Белое золото 585 пробы</td>\n",
       "      <td>Английский</td>\n",
       "      <td>1021468</td>\n",
       "      <td>Второе украшение с бриллиантами БЕСПЛАТНО! 1 ＝ 2</td>\n",
       "    </tr>\n",
       "    <tr>\n",
       "      <th>11015</th>\n",
       "      <td>04-06-2024</td>\n",
       "      <td>Sokolov</td>\n",
       "      <td>Серьги из белого золота с бриллиантами</td>\n",
       "      <td>earrings</td>\n",
       "      <td>1.95 г</td>\n",
       "      <td>41850</td>\n",
       "      <td>92990</td>\n",
       "      <td>Второе украшение с бриллиантами БЕСПЛАТНО! 1 ＝ 2</td>\n",
       "      <td>Бриллиант (природный) (2 шт, 0.02 карат)</td>\n",
       "      <td>Белое золото 585 пробы</td>\n",
       "      <td>Пусет</td>\n",
       "      <td>1021482</td>\n",
       "      <td>Второе украшение с бриллиантами БЕСПЛАТНО! 1 ＝ 2</td>\n",
       "    </tr>\n",
       "  </tbody>\n",
       "</table>\n",
       "<p>11016 rows × 13 columns</p>\n",
       "</div>"
      ],
      "text/plain": [
       "             date competitor  \\\n",
       "0      04-06-2024    Sokolov   \n",
       "1      04-06-2024    Sokolov   \n",
       "2      04-06-2024    Sokolov   \n",
       "3      04-06-2024    Sokolov   \n",
       "4      04-06-2024    Sokolov   \n",
       "...           ...        ...   \n",
       "11011  04-06-2024    Sokolov   \n",
       "11012  04-06-2024    Sokolov   \n",
       "11013  04-06-2024    Sokolov   \n",
       "11014  04-06-2024    Sokolov   \n",
       "11015  04-06-2024    Sokolov   \n",
       "\n",
       "                                                    name      group  weight  \\\n",
       "0      Серьги из белого золота с бриллиантами и танза...   earrings  2.18 г   \n",
       "1      Подвеска из белого золота с бриллиантами и тан...   pendants  0.86 г   \n",
       "2      Кольцо из белого золота с бриллиантами и танза...      rings  2.16 г   \n",
       "3      Колье из белого золота с бриллиантами и танзан...  necklaces  2.61 г   \n",
       "4                 Серьги из белого золота с бриллиантами   earrings  2.03 г   \n",
       "...                                                  ...        ...     ...   \n",
       "11011                    Серьги из золота с бриллиантами   earrings  1.45 г   \n",
       "11012                    Серьги из золота с бриллиантами   earrings  1.42 г   \n",
       "11013                    Серьги из золота с бриллиантами   earrings  3.15 г   \n",
       "11014             Серьги из белого золота с бриллиантами   earrings   3.6 г   \n",
       "11015             Серьги из белого золота с бриллиантами   earrings  1.95 г   \n",
       "\n",
       "       price  price_old                                          discount  \\\n",
       "0      96750     214990  Второе украшение с бриллиантами БЕСПЛАТНО! 1 ＝ 2   \n",
       "1      44100      97990  Второе украшение с бриллиантами БЕСПЛАТНО! 1 ＝ 2   \n",
       "2      65250     144990  Второе украшение с бриллиантами БЕСПЛАТНО! 1 ＝ 2   \n",
       "3      63000     139990  Второе украшение с бриллиантами БЕСПЛАТНО! 1 ＝ 2   \n",
       "4      51750     114990  Второе украшение с бриллиантами БЕСПЛАТНО! 1 ＝ 2   \n",
       "...      ...        ...                                               ...   \n",
       "11011  30600      67990  Второе украшение с бриллиантами БЕСПЛАТНО! 1 ＝ 2   \n",
       "11012  28350      62990  Второе украшение с бриллиантами БЕСПЛАТНО! 1 ＝ 2   \n",
       "11013  83250     184990  Второе украшение с бриллиантами БЕСПЛАТНО! 1 ＝ 2   \n",
       "11014  73500     244990  Второе украшение с бриллиантами БЕСПЛАТНО! 1 ＝ 2   \n",
       "11015  41850      92990  Второе украшение с бриллиантами БЕСПЛАТНО! 1 ＝ 2   \n",
       "\n",
       "                                                  insert  \\\n",
       "0      Бриллиант (природный) (36 шт, 0.135 карат) и е...   \n",
       "1      Бриллиант (природный) (18 шт, 0.067 карат) и е...   \n",
       "2      Бриллиант (природный) (18 шт, 0.067 карат) и е...   \n",
       "3      Бриллиант (природный) (16 шт, 0.046 карат) и е...   \n",
       "4      Бриллиант (природный) (12 шт, 0.102 карат) и е...   \n",
       "...                                                  ...   \n",
       "11011          Бриллиант (природный) (6 шт, 0.017 карат)   \n",
       "11012  Бриллиант (природный) (2 шт, 0.016 карат) и еще 1   \n",
       "11013         Бриллиант (природный) (50 шт, 0.188 карат)   \n",
       "11014         Бриллиант (природный) (80 шт, 0.307 карат)   \n",
       "11015           Бриллиант (природный) (2 шт, 0.02 карат)   \n",
       "\n",
       "                          metal lock_type_or_weaving_type        url  \\\n",
       "0        Белое золото 585 пробы                     Пусет  6024434-3   \n",
       "1        Белое золото 585 пробы                       NaN  6034150-3   \n",
       "2        Белое золото 585 пробы                       NaN  6014351-3   \n",
       "3        Белое золото 585 пробы                       NaN    6074002   \n",
       "4        Белое золото 585 пробы                     Пусет    1021708   \n",
       "...                         ...                       ...        ...   \n",
       "11011  Красное золото 585 пробы                Английский    1021454   \n",
       "11012  Красное золото 585 пробы                Английский    1021455   \n",
       "11013  Красное золото 585 пробы                Английский    1021465   \n",
       "11014    Белое золото 585 пробы                Английский    1021468   \n",
       "11015    Белое золото 585 пробы                     Пусет    1021482   \n",
       "\n",
       "                                      discount_for_dash  \n",
       "0      Второе украшение с бриллиантами БЕСПЛАТНО! 1 ＝ 2  \n",
       "1      Второе украшение с бриллиантами БЕСПЛАТНО! 1 ＝ 2  \n",
       "2      Второе украшение с бриллиантами БЕСПЛАТНО! 1 ＝ 2  \n",
       "3      Второе украшение с бриллиантами БЕСПЛАТНО! 1 ＝ 2  \n",
       "4      Второе украшение с бриллиантами БЕСПЛАТНО! 1 ＝ 2  \n",
       "...                                                 ...  \n",
       "11011  Второе украшение с бриллиантами БЕСПЛАТНО! 1 ＝ 2  \n",
       "11012  Второе украшение с бриллиантами БЕСПЛАТНО! 1 ＝ 2  \n",
       "11013  Второе украшение с бриллиантами БЕСПЛАТНО! 1 ＝ 2  \n",
       "11014  Второе украшение с бриллиантами БЕСПЛАТНО! 1 ＝ 2  \n",
       "11015  Второе украшение с бриллиантами БЕСПЛАТНО! 1 ＝ 2  \n",
       "\n",
       "[11016 rows x 13 columns]"
      ]
     },
     "execution_count": 95,
     "metadata": {},
     "output_type": "execute_result"
    }
   ],
   "source": [
    "df_sokolov"
   ]
  },
  {
   "cell_type": "code",
   "execution_count": 96,
   "metadata": {},
   "outputs": [],
   "source": [
    "df_sokolov['discount_for_dash'] = df_sokolov['discount_for_dash'].fillna('нет скидочного купона')"
   ]
  },
  {
   "cell_type": "code",
   "execution_count": 97,
   "metadata": {},
   "outputs": [],
   "source": [
    "for i in df_sokolov.index:\n",
    "    if df_sokolov['price_old'][i] == 0:\n",
    "        df_sokolov['discount_for_dash'][i] = 'ШОК-ЦЕНА'"
   ]
  },
  {
   "cell_type": "code",
   "execution_count": 98,
   "metadata": {},
   "outputs": [],
   "source": [
    "df_sokolov['discount'] = np.where(\n",
    "    df_sokolov['discount_for_dash'].str.contains('Второе украшение с бриллиантами БЕСПЛАТНО! 1 ＝ 2'), 0.5, df_sokolov['discount_for_dash']\n",
    ")"
   ]
  },
  {
   "cell_type": "code",
   "execution_count": 99,
   "metadata": {},
   "outputs": [],
   "source": [
    "df_sokolov['discount'].fillna(1, inplace=True)"
   ]
  },
  {
   "cell_type": "code",
   "execution_count": 100,
   "metadata": {},
   "outputs": [],
   "source": [
    "def discount_value(discount):\n",
    "    if '10%' in discount:\n",
    "        return 0.9\n",
    "    elif '15%' in discount:\n",
    "        return 0.85\n",
    "    elif '20%' in discount:\n",
    "        return 0.8\n",
    "    elif '25%' in discount:\n",
    "        return 0.75\n",
    "    elif '30%' in discount:\n",
    "        return 0.7\n",
    "    elif 'нет скидочного' in discount or 'ШОК' in discount:\n",
    "        return 1\n",
    "    return discount"
   ]
  },
  {
   "cell_type": "code",
   "execution_count": 101,
   "metadata": {},
   "outputs": [],
   "source": [
    "df_sokolov['discount'] = df_sokolov['discount'].astype(str)\n",
    "df_sokolov['discount'] = df_sokolov['discount'].apply(discount_value)\n",
    "df_sokolov['discount'] = df_sokolov['discount'].astype(float)"
   ]
  },
  {
   "cell_type": "code",
   "execution_count": 102,
   "metadata": {},
   "outputs": [
    {
     "data": {
      "text/plain": [
       "discount_for_dash\n",
       "Второе украшение с бриллиантами БЕСПЛАТНО! 1 ＝ 2               3840\n",
       "нет скидочного купона                                          3609\n",
       "Дополнительная скидка по акции «Готовимся к лету!» ЕЩЁ -10%    2593\n",
       "Дополнительная скидка по акции «Готовимся к лету!» ЕЩЁ -20%     884\n",
       "ШОК-ЦЕНА                                                         90\n",
       "Name: count, dtype: int64"
      ]
     },
     "execution_count": 102,
     "metadata": {},
     "output_type": "execute_result"
    }
   ],
   "source": [
    "df_sokolov['discount_for_dash'].value_counts()"
   ]
  },
  {
   "cell_type": "code",
   "execution_count": 103,
   "metadata": {},
   "outputs": [],
   "source": [
    "df_sokolov['price_personal'] = df_sokolov['price'] * df_sokolov['discount']"
   ]
  },
  {
   "cell_type": "code",
   "execution_count": 110,
   "metadata": {},
   "outputs": [
    {
     "data": {
      "text/html": [
       "<div>\n",
       "<style scoped>\n",
       "    .dataframe tbody tr th:only-of-type {\n",
       "        vertical-align: middle;\n",
       "    }\n",
       "\n",
       "    .dataframe tbody tr th {\n",
       "        vertical-align: top;\n",
       "    }\n",
       "\n",
       "    .dataframe thead th {\n",
       "        text-align: right;\n",
       "    }\n",
       "</style>\n",
       "<table border=\"1\" class=\"dataframe\">\n",
       "  <thead>\n",
       "    <tr style=\"text-align: right;\">\n",
       "      <th></th>\n",
       "      <th>date</th>\n",
       "      <th>competitor</th>\n",
       "      <th>name</th>\n",
       "      <th>group</th>\n",
       "      <th>weight</th>\n",
       "      <th>price</th>\n",
       "      <th>price_old</th>\n",
       "      <th>discount</th>\n",
       "      <th>insert</th>\n",
       "      <th>metal</th>\n",
       "      <th>lock_type_or_weaving_type</th>\n",
       "      <th>url</th>\n",
       "      <th>discount_for_dash</th>\n",
       "      <th>price_personal</th>\n",
       "      <th>discount_flag</th>\n",
       "    </tr>\n",
       "  </thead>\n",
       "  <tbody>\n",
       "    <tr>\n",
       "      <th>0</th>\n",
       "      <td>04-06-2024</td>\n",
       "      <td>Sokolov</td>\n",
       "      <td>Серьги из белого золота с бриллиантами и танза...</td>\n",
       "      <td>earrings</td>\n",
       "      <td>2.18 г</td>\n",
       "      <td>96750</td>\n",
       "      <td>214990</td>\n",
       "      <td>0.5</td>\n",
       "      <td>Бриллиант (природный) (36 шт, 0.135 карат) и е...</td>\n",
       "      <td>Белое золото 585 пробы</td>\n",
       "      <td>Пусет</td>\n",
       "      <td>6024434-3</td>\n",
       "      <td>Второе украшение с бриллиантами БЕСПЛАТНО! 1 ＝ 2</td>\n",
       "      <td>48375.0</td>\n",
       "      <td>29025.0</td>\n",
       "    </tr>\n",
       "    <tr>\n",
       "      <th>1</th>\n",
       "      <td>04-06-2024</td>\n",
       "      <td>Sokolov</td>\n",
       "      <td>Подвеска из белого золота с бриллиантами и тан...</td>\n",
       "      <td>pendants</td>\n",
       "      <td>0.86 г</td>\n",
       "      <td>44100</td>\n",
       "      <td>97990</td>\n",
       "      <td>0.5</td>\n",
       "      <td>Бриллиант (природный) (18 шт, 0.067 карат) и е...</td>\n",
       "      <td>Белое золото 585 пробы</td>\n",
       "      <td>NaN</td>\n",
       "      <td>6034150-3</td>\n",
       "      <td>Второе украшение с бриллиантами БЕСПЛАТНО! 1 ＝ 2</td>\n",
       "      <td>22050.0</td>\n",
       "      <td>13230.0</td>\n",
       "    </tr>\n",
       "    <tr>\n",
       "      <th>2</th>\n",
       "      <td>04-06-2024</td>\n",
       "      <td>Sokolov</td>\n",
       "      <td>Кольцо из белого золота с бриллиантами и танза...</td>\n",
       "      <td>rings</td>\n",
       "      <td>2.16 г</td>\n",
       "      <td>65250</td>\n",
       "      <td>144990</td>\n",
       "      <td>0.5</td>\n",
       "      <td>Бриллиант (природный) (18 шт, 0.067 карат) и е...</td>\n",
       "      <td>Белое золото 585 пробы</td>\n",
       "      <td>NaN</td>\n",
       "      <td>6014351-3</td>\n",
       "      <td>Второе украшение с бриллиантами БЕСПЛАТНО! 1 ＝ 2</td>\n",
       "      <td>32625.0</td>\n",
       "      <td>19575.0</td>\n",
       "    </tr>\n",
       "    <tr>\n",
       "      <th>3</th>\n",
       "      <td>04-06-2024</td>\n",
       "      <td>Sokolov</td>\n",
       "      <td>Колье из белого золота с бриллиантами и танзан...</td>\n",
       "      <td>necklaces</td>\n",
       "      <td>2.61 г</td>\n",
       "      <td>63000</td>\n",
       "      <td>139990</td>\n",
       "      <td>0.5</td>\n",
       "      <td>Бриллиант (природный) (16 шт, 0.046 карат) и е...</td>\n",
       "      <td>Белое золото 585 пробы</td>\n",
       "      <td>NaN</td>\n",
       "      <td>6074002</td>\n",
       "      <td>Второе украшение с бриллиантами БЕСПЛАТНО! 1 ＝ 2</td>\n",
       "      <td>31500.0</td>\n",
       "      <td>18900.0</td>\n",
       "    </tr>\n",
       "    <tr>\n",
       "      <th>4</th>\n",
       "      <td>04-06-2024</td>\n",
       "      <td>Sokolov</td>\n",
       "      <td>Серьги из белого золота с бриллиантами</td>\n",
       "      <td>earrings</td>\n",
       "      <td>2.03 г</td>\n",
       "      <td>51750</td>\n",
       "      <td>114990</td>\n",
       "      <td>0.5</td>\n",
       "      <td>Бриллиант (природный) (12 шт, 0.102 карат) и е...</td>\n",
       "      <td>Белое золото 585 пробы</td>\n",
       "      <td>Пусет</td>\n",
       "      <td>1021708</td>\n",
       "      <td>Второе украшение с бриллиантами БЕСПЛАТНО! 1 ＝ 2</td>\n",
       "      <td>25875.0</td>\n",
       "      <td>15525.0</td>\n",
       "    </tr>\n",
       "    <tr>\n",
       "      <th>...</th>\n",
       "      <td>...</td>\n",
       "      <td>...</td>\n",
       "      <td>...</td>\n",
       "      <td>...</td>\n",
       "      <td>...</td>\n",
       "      <td>...</td>\n",
       "      <td>...</td>\n",
       "      <td>...</td>\n",
       "      <td>...</td>\n",
       "      <td>...</td>\n",
       "      <td>...</td>\n",
       "      <td>...</td>\n",
       "      <td>...</td>\n",
       "      <td>...</td>\n",
       "      <td>...</td>\n",
       "    </tr>\n",
       "    <tr>\n",
       "      <th>11011</th>\n",
       "      <td>04-06-2024</td>\n",
       "      <td>Sokolov</td>\n",
       "      <td>Серьги из золота с бриллиантами</td>\n",
       "      <td>earrings</td>\n",
       "      <td>1.45 г</td>\n",
       "      <td>30600</td>\n",
       "      <td>67990</td>\n",
       "      <td>0.5</td>\n",
       "      <td>Бриллиант (природный) (6 шт, 0.017 карат)</td>\n",
       "      <td>Красное золото 585 пробы</td>\n",
       "      <td>Английский</td>\n",
       "      <td>1021454</td>\n",
       "      <td>Второе украшение с бриллиантами БЕСПЛАТНО! 1 ＝ 2</td>\n",
       "      <td>15300.0</td>\n",
       "      <td>9180.0</td>\n",
       "    </tr>\n",
       "    <tr>\n",
       "      <th>11012</th>\n",
       "      <td>04-06-2024</td>\n",
       "      <td>Sokolov</td>\n",
       "      <td>Серьги из золота с бриллиантами</td>\n",
       "      <td>earrings</td>\n",
       "      <td>1.42 г</td>\n",
       "      <td>28350</td>\n",
       "      <td>62990</td>\n",
       "      <td>0.5</td>\n",
       "      <td>Бриллиант (природный) (2 шт, 0.016 карат) и еще 1</td>\n",
       "      <td>Красное золото 585 пробы</td>\n",
       "      <td>Английский</td>\n",
       "      <td>1021455</td>\n",
       "      <td>Второе украшение с бриллиантами БЕСПЛАТНО! 1 ＝ 2</td>\n",
       "      <td>14175.0</td>\n",
       "      <td>8505.0</td>\n",
       "    </tr>\n",
       "    <tr>\n",
       "      <th>11013</th>\n",
       "      <td>04-06-2024</td>\n",
       "      <td>Sokolov</td>\n",
       "      <td>Серьги из золота с бриллиантами</td>\n",
       "      <td>earrings</td>\n",
       "      <td>3.15 г</td>\n",
       "      <td>83250</td>\n",
       "      <td>184990</td>\n",
       "      <td>0.5</td>\n",
       "      <td>Бриллиант (природный) (50 шт, 0.188 карат)</td>\n",
       "      <td>Красное золото 585 пробы</td>\n",
       "      <td>Английский</td>\n",
       "      <td>1021465</td>\n",
       "      <td>Второе украшение с бриллиантами БЕСПЛАТНО! 1 ＝ 2</td>\n",
       "      <td>41625.0</td>\n",
       "      <td>24975.0</td>\n",
       "    </tr>\n",
       "    <tr>\n",
       "      <th>11014</th>\n",
       "      <td>04-06-2024</td>\n",
       "      <td>Sokolov</td>\n",
       "      <td>Серьги из белого золота с бриллиантами</td>\n",
       "      <td>earrings</td>\n",
       "      <td>3.6 г</td>\n",
       "      <td>73500</td>\n",
       "      <td>244990</td>\n",
       "      <td>0.5</td>\n",
       "      <td>Бриллиант (природный) (80 шт, 0.307 карат)</td>\n",
       "      <td>Белое золото 585 пробы</td>\n",
       "      <td>Английский</td>\n",
       "      <td>1021468</td>\n",
       "      <td>Второе украшение с бриллиантами БЕСПЛАТНО! 1 ＝ 2</td>\n",
       "      <td>36750.0</td>\n",
       "      <td>22050.0</td>\n",
       "    </tr>\n",
       "    <tr>\n",
       "      <th>11015</th>\n",
       "      <td>04-06-2024</td>\n",
       "      <td>Sokolov</td>\n",
       "      <td>Серьги из белого золота с бриллиантами</td>\n",
       "      <td>earrings</td>\n",
       "      <td>1.95 г</td>\n",
       "      <td>41850</td>\n",
       "      <td>92990</td>\n",
       "      <td>0.5</td>\n",
       "      <td>Бриллиант (природный) (2 шт, 0.02 карат)</td>\n",
       "      <td>Белое золото 585 пробы</td>\n",
       "      <td>Пусет</td>\n",
       "      <td>1021482</td>\n",
       "      <td>Второе украшение с бриллиантами БЕСПЛАТНО! 1 ＝ 2</td>\n",
       "      <td>20925.0</td>\n",
       "      <td>12555.0</td>\n",
       "    </tr>\n",
       "  </tbody>\n",
       "</table>\n",
       "<p>11016 rows × 15 columns</p>\n",
       "</div>"
      ],
      "text/plain": [
       "             date competitor  \\\n",
       "0      04-06-2024    Sokolov   \n",
       "1      04-06-2024    Sokolov   \n",
       "2      04-06-2024    Sokolov   \n",
       "3      04-06-2024    Sokolov   \n",
       "4      04-06-2024    Sokolov   \n",
       "...           ...        ...   \n",
       "11011  04-06-2024    Sokolov   \n",
       "11012  04-06-2024    Sokolov   \n",
       "11013  04-06-2024    Sokolov   \n",
       "11014  04-06-2024    Sokolov   \n",
       "11015  04-06-2024    Sokolov   \n",
       "\n",
       "                                                    name      group  weight  \\\n",
       "0      Серьги из белого золота с бриллиантами и танза...   earrings  2.18 г   \n",
       "1      Подвеска из белого золота с бриллиантами и тан...   pendants  0.86 г   \n",
       "2      Кольцо из белого золота с бриллиантами и танза...      rings  2.16 г   \n",
       "3      Колье из белого золота с бриллиантами и танзан...  necklaces  2.61 г   \n",
       "4                 Серьги из белого золота с бриллиантами   earrings  2.03 г   \n",
       "...                                                  ...        ...     ...   \n",
       "11011                    Серьги из золота с бриллиантами   earrings  1.45 г   \n",
       "11012                    Серьги из золота с бриллиантами   earrings  1.42 г   \n",
       "11013                    Серьги из золота с бриллиантами   earrings  3.15 г   \n",
       "11014             Серьги из белого золота с бриллиантами   earrings   3.6 г   \n",
       "11015             Серьги из белого золота с бриллиантами   earrings  1.95 г   \n",
       "\n",
       "       price  price_old  discount  \\\n",
       "0      96750     214990       0.5   \n",
       "1      44100      97990       0.5   \n",
       "2      65250     144990       0.5   \n",
       "3      63000     139990       0.5   \n",
       "4      51750     114990       0.5   \n",
       "...      ...        ...       ...   \n",
       "11011  30600      67990       0.5   \n",
       "11012  28350      62990       0.5   \n",
       "11013  83250     184990       0.5   \n",
       "11014  73500     244990       0.5   \n",
       "11015  41850      92990       0.5   \n",
       "\n",
       "                                                  insert  \\\n",
       "0      Бриллиант (природный) (36 шт, 0.135 карат) и е...   \n",
       "1      Бриллиант (природный) (18 шт, 0.067 карат) и е...   \n",
       "2      Бриллиант (природный) (18 шт, 0.067 карат) и е...   \n",
       "3      Бриллиант (природный) (16 шт, 0.046 карат) и е...   \n",
       "4      Бриллиант (природный) (12 шт, 0.102 карат) и е...   \n",
       "...                                                  ...   \n",
       "11011          Бриллиант (природный) (6 шт, 0.017 карат)   \n",
       "11012  Бриллиант (природный) (2 шт, 0.016 карат) и еще 1   \n",
       "11013         Бриллиант (природный) (50 шт, 0.188 карат)   \n",
       "11014         Бриллиант (природный) (80 шт, 0.307 карат)   \n",
       "11015           Бриллиант (природный) (2 шт, 0.02 карат)   \n",
       "\n",
       "                          metal lock_type_or_weaving_type        url  \\\n",
       "0        Белое золото 585 пробы                     Пусет  6024434-3   \n",
       "1        Белое золото 585 пробы                       NaN  6034150-3   \n",
       "2        Белое золото 585 пробы                       NaN  6014351-3   \n",
       "3        Белое золото 585 пробы                       NaN    6074002   \n",
       "4        Белое золото 585 пробы                     Пусет    1021708   \n",
       "...                         ...                       ...        ...   \n",
       "11011  Красное золото 585 пробы                Английский    1021454   \n",
       "11012  Красное золото 585 пробы                Английский    1021455   \n",
       "11013  Красное золото 585 пробы                Английский    1021465   \n",
       "11014    Белое золото 585 пробы                Английский    1021468   \n",
       "11015    Белое золото 585 пробы                     Пусет    1021482   \n",
       "\n",
       "                                      discount_for_dash  price_personal  \\\n",
       "0      Второе украшение с бриллиантами БЕСПЛАТНО! 1 ＝ 2         48375.0   \n",
       "1      Второе украшение с бриллиантами БЕСПЛАТНО! 1 ＝ 2         22050.0   \n",
       "2      Второе украшение с бриллиантами БЕСПЛАТНО! 1 ＝ 2         32625.0   \n",
       "3      Второе украшение с бриллиантами БЕСПЛАТНО! 1 ＝ 2         31500.0   \n",
       "4      Второе украшение с бриллиантами БЕСПЛАТНО! 1 ＝ 2         25875.0   \n",
       "...                                                 ...             ...   \n",
       "11011  Второе украшение с бриллиантами БЕСПЛАТНО! 1 ＝ 2         15300.0   \n",
       "11012  Второе украшение с бриллиантами БЕСПЛАТНО! 1 ＝ 2         14175.0   \n",
       "11013  Второе украшение с бриллиантами БЕСПЛАТНО! 1 ＝ 2         41625.0   \n",
       "11014  Второе украшение с бриллиантами БЕСПЛАТНО! 1 ＝ 2         36750.0   \n",
       "11015  Второе украшение с бриллиантами БЕСПЛАТНО! 1 ＝ 2         20925.0   \n",
       "\n",
       "       discount_flag  \n",
       "0            29025.0  \n",
       "1            13230.0  \n",
       "2            19575.0  \n",
       "3            18900.0  \n",
       "4            15525.0  \n",
       "...              ...  \n",
       "11011         9180.0  \n",
       "11012         8505.0  \n",
       "11013        24975.0  \n",
       "11014        22050.0  \n",
       "11015        12555.0  \n",
       "\n",
       "[11016 rows x 15 columns]"
      ]
     },
     "execution_count": 110,
     "metadata": {},
     "output_type": "execute_result"
    }
   ],
   "source": [
    "df_sokolov"
   ]
  },
  {
   "cell_type": "code",
   "execution_count": 105,
   "metadata": {},
   "outputs": [],
   "source": [
    "no_discount = 0\n",
    "df_sokolov['discount_flag'] = np.nan\n",
    "for i in df_sokolov.index:\n",
    "    if df_sokolov['price_old'][i] != 0:\n",
    "        df_sokolov['discount_flag'][i] = df_sokolov['price'][i] * 0.3\n",
    "    else:\n",
    "        df_sokolov['discount_flag'][i] = no_discount"
   ]
  },
  {
   "cell_type": "code",
   "execution_count": 109,
   "metadata": {},
   "outputs": [],
   "source": [
    "df_sokolov['price_personal'] = np.nan\n",
    "for i in df_sokolov.index:\n",
    "    if df_sokolov['discount'][i] == 0.5:\n",
    "        df_sokolov['price_personal'][i] = df_sokolov['price'][i] * 0.5\n",
    "    elif df_sokolov['discount_flag'][i] <= (df_sokolov['price'][i] * 0.3):\n",
    "        df_sokolov['price_personal'][i] = df_sokolov['price'][i] - df_sokolov['discount_flag'][i]\n",
    "    else:\n",
    "        df_sokolov['price_personal'][i] = df_sokolov['price'][i] - (df_sokolov['price'][i] * 0.3)"
   ]
  },
  {
   "cell_type": "code",
   "execution_count": 111,
   "metadata": {},
   "outputs": [],
   "source": [
    "df_sokolov['price_old'] = np.where(\n",
    "    df_sokolov['price_old'] == 0, df_sokolov['price'], df_sokolov['price_old']\n",
    ")"
   ]
  },
  {
   "cell_type": "code",
   "execution_count": 112,
   "metadata": {},
   "outputs": [],
   "source": [
    "old = df_sokolov['price_old'].describe()"
   ]
  },
  {
   "cell_type": "code",
   "execution_count": 113,
   "metadata": {},
   "outputs": [],
   "source": [
    "price = df_sokolov['price'].describe()"
   ]
  },
  {
   "cell_type": "code",
   "execution_count": 114,
   "metadata": {},
   "outputs": [],
   "source": [
    "result = df_sokolov['price_personal'].describe()"
   ]
  },
  {
   "cell_type": "code",
   "execution_count": 115,
   "metadata": {},
   "outputs": [],
   "source": [
    "df = pd.merge(result, old, right_index = True, left_index = True).merge(price, right_index = True, left_index = True)"
   ]
  },
  {
   "cell_type": "code",
   "execution_count": 116,
   "metadata": {},
   "outputs": [],
   "source": [
    "df.columns = ['Цена в корзине пользователя', 'Перечёркнутая цена', 'Цена до скидок']"
   ]
  },
  {
   "cell_type": "code",
   "execution_count": 117,
   "metadata": {},
   "outputs": [],
   "source": [
    "df['Цена в корзине пользователя'] = df['Цена в корзине пользователя'].astype(int)\n",
    "df['Перечёркнутая цена'] = df['Перечёркнутая цена'].astype(int)\n",
    "df['Цена до скидок'] = df['Цена до скидок'].astype(int)"
   ]
  },
  {
   "cell_type": "code",
   "execution_count": 118,
   "metadata": {},
   "outputs": [],
   "source": [
    "df = df[['Перечёркнутая цена', 'Цена до скидок', 'Цена в корзине пользователя']]"
   ]
  },
  {
   "cell_type": "code",
   "execution_count": 119,
   "metadata": {},
   "outputs": [],
   "source": [
    "df = df.iloc[1:,:]"
   ]
  },
  {
   "cell_type": "code",
   "execution_count": 120,
   "metadata": {},
   "outputs": [],
   "source": [
    "df['Дата мониторинга'] = pd.to_datetime(date_now, format = 'mixed')"
   ]
  },
  {
   "cell_type": "code",
   "execution_count": 121,
   "metadata": {},
   "outputs": [],
   "source": [
    "df['competitor'] = 'Sokolov'"
   ]
  },
  {
   "cell_type": "code",
   "execution_count": 177,
   "metadata": {},
   "outputs": [
    {
     "name": "stdout",
     "output_type": "stream",
     "text": [
      "Collecting brewer2mpl\n",
      "  Downloading brewer2mpl-1.4.1-py2.py3-none-any.whl.metadata (3.7 kB)\n",
      "Downloading brewer2mpl-1.4.1-py2.py3-none-any.whl (24 kB)\n",
      "Installing collected packages: brewer2mpl\n",
      "Successfully installed brewer2mpl-1.4.1\n",
      "Note: you may need to restart the kernel to use updated packages.\n"
     ]
    },
    {
     "name": "stderr",
     "output_type": "stream",
     "text": [
      "C:\\Users\\Trenkin.Sergey\\AppData\\Roaming\\Python\\Python312\\site-packages\\IPython\\utils\\_process_win32.py:124: ResourceWarning: unclosed file <_io.BufferedWriter name=4>\n",
      "  return process_handler(cmd, _system_body)\n",
      "ResourceWarning: Enable tracemalloc to get the object allocation traceback\n",
      "C:\\Users\\Trenkin.Sergey\\AppData\\Roaming\\Python\\Python312\\site-packages\\IPython\\utils\\_process_win32.py:124: ResourceWarning: unclosed file <_io.BufferedReader name=5>\n",
      "  return process_handler(cmd, _system_body)\n",
      "ResourceWarning: Enable tracemalloc to get the object allocation traceback\n",
      "C:\\Users\\Trenkin.Sergey\\AppData\\Roaming\\Python\\Python312\\site-packages\\IPython\\utils\\_process_win32.py:124: ResourceWarning: unclosed file <_io.BufferedReader name=6>\n",
      "  return process_handler(cmd, _system_body)\n",
      "ResourceWarning: Enable tracemalloc to get the object allocation traceback\n"
     ]
    }
   ],
   "source": [
    "pip install brewer2mpl"
   ]
  },
  {
   "cell_type": "code",
   "execution_count": 197,
   "metadata": {},
   "outputs": [
    {
     "name": "stdout",
     "output_type": "stream",
     "text": [
      "3.8.0\n",
      "0.13.0\n"
     ]
    }
   ],
   "source": [
    "import numpy as np\n",
    "import pandas as pd\n",
    "import matplotlib as mpl\n",
    "import matplotlib.pyplot as plt\n",
    "import seaborn as sns\n",
    "import warnings; warnings.filterwarnings(action='ignore')\n",
    "\n",
    "large = 22; med = 16; small = 12\n",
    "params = {'axes.titlesize': med,\n",
    "          'legend.fontsize': med,\n",
    "          'figure.figsize': (8, 5),\n",
    "          'axes.labelsize': med,\n",
    "          'axes.titlesize': med,\n",
    "          'xtick.labelsize': med,\n",
    "          'ytick.labelsize': med,\n",
    "          'figure.titlesize': large}\n",
    "plt.rcParams.update(params)\n",
    "sns.set_style(\"white\")\n",
    "%matplotlib inline\n",
    "\n",
    "# Version\n",
    "print(mpl.__version__)  #> 3.0.0\n",
    "print(sns.__version__)  #> 0.9.0"
   ]
  },
  {
   "cell_type": "code",
   "execution_count": 216,
   "metadata": {},
   "outputs": [],
   "source": [
    "df = df_sokolov[['price_old', 'price', 'price_personal']]"
   ]
  },
  {
   "cell_type": "code",
   "execution_count": 217,
   "metadata": {},
   "outputs": [],
   "source": [
    "df.columns = ['Перечёркнутая цена', 'Цена до скидок', 'Цена персональная']"
   ]
  },
  {
   "cell_type": "code",
   "execution_count": 205,
   "metadata": {},
   "outputs": [],
   "source": [
    "import joypy"
   ]
  },
  {
   "cell_type": "code",
   "execution_count": 218,
   "metadata": {},
   "outputs": [],
   "source": [
    "df = df[df['Перечёркнутая цена'] < 250000]"
   ]
  },
  {
   "cell_type": "code",
   "execution_count": 227,
   "metadata": {},
   "outputs": [
    {
     "data": {
      "text/plain": [
       "<Figure size 1280x800 with 0 Axes>"
      ]
     },
     "metadata": {},
     "output_type": "display_data"
    },
    {
     "data": {
      "image/png": "[encoded data removed]",
      "text/plain": [
       "<Figure size 1000x500 with 4 Axes>"
      ]
     },
     "metadata": {},
     "output_type": "display_data"
    }
   ],
   "source": [
    "plt.figure(figsize=(16,10), dpi= 80)\n",
    "fig, axes = joypy.joyplot(df, column=['Перечёркнутая цена', 'Цена до скидок', 'Цена персональная'], figsize=(10,5))\n",
    "\n",
    "# Decoration\n",
    "plt.title('Распределение цен Sokolov', fontsize=16)\n",
    "plt.show()"
   ]
  },
  {
   "cell_type": "code",
   "execution_count": 232,
   "metadata": {},
   "outputs": [
    {
     "data": {
      "text/plain": [
       "<Axes: xlabel='Цена персональная', ylabel='Density'>"
      ]
     },
     "execution_count": 232,
     "metadata": {},
     "output_type": "execute_result"
    },
    {
     "data": {
      "image/png": "[encoded data removed]",
      "text/plain": [
       "<Figure size 800x500 with 1 Axes>"
      ]
     },
     "metadata": {},
     "output_type": "display_data"
    }
   ],
   "source": [
    "sns.distplot(df['Цена персональная'], hist=True, kde=True, \n",
    "            bins=df['Цена персональная'].count() // 10, color = 'darkblue', \n",
    "            hist_kws={'edgecolor':'black'},\n",
    "            kde_kws={'linewidth': 2})"
   ]
  },
  {
   "cell_type": "code",
   "execution_count": null,
   "metadata": {},
   "outputs": [],
   "source": []
  }
 ],
 "metadata": {
  "kernelspec": {
   "display_name": "Python 3",
   "language": "python",
   "name": "python3"
  },
  "language_info": {
   "codemirror_mode": {
    "name": "ipython",
    "version": 3
   },
   "file_extension": ".py",
   "mimetype": "text/x-python",
   "name": "python",
   "nbconvert_exporter": "python",
   "pygments_lexer": "ipython3",
   "version": "3.12.0"
  }
 },
 "nbformat": 4,
 "nbformat_minor": 2
}
