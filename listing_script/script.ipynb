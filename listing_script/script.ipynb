{
 "cells": [
  {
   "cell_type": "code",
   "execution_count": 1,
   "metadata": {},
   "outputs": [
    {
     "data": {
      "text/plain": [
       "'ru_RU.UTF-8'"
      ]
     },
     "execution_count": 1,
     "metadata": {},
     "output_type": "execute_result"
    }
   ],
   "source": [
    "from bs4 import BeautifulSoup as bs\n",
    "from tqdm import tqdm\n",
    "import datetime as dt\n",
    "import pandas as pd\n",
    "import numpy as np\n",
    "import warnings\n",
    "import pymssql\n",
    "import locale\n",
    "import json\n",
    "import glob\n",
    "import os\n",
    "\n",
    "warnings.filterwarnings('ignore')\n",
    "pd.set_option('use_inf_as_na', True)\n",
    "pd.options.display.max_columns = None\n",
    "pd.set_option('float_format', '{:.2f}'.format)\n",
    "locale.setlocale(locale.LC_ALL, 'ru_RU.UTF-8')"
   ]
  },
  {
   "cell_type": "code",
   "execution_count": 2,
   "metadata": {},
   "outputs": [],
   "source": [
    "PL = 0.8"
   ]
  },
  {
   "cell_type": "code",
   "execution_count": 3,
   "metadata": {},
   "outputs": [],
   "source": [
    "conn = pymssql.connect(server='spb-s-sql-dwh', database='DWH_DEV', charset='WINDOWS-1251')\n",
    "cursor = conn.cursor()\n",
    "\n",
    "\n",
    "sql_product = f'''\n",
    "SELECT \n",
    "[name], [article], [data], [category_id], [id], [price], [old_price]\n",
    "from [DWH_DEV].[ecom].[catalog_product]\n",
    "'''\n",
    "\n",
    "sql_sku = f'''\n",
    "SELECT \n",
    "[data], [ext_id], [id], [deleted]\n",
    "from [DWH_DEV].[ecom].[catalog_sku]\n",
    "'''\n",
    "\n",
    "sql_orders_item = f'''\n",
    "SELECT \n",
    "[data], [price], [state], [id], [order_id], [outlet_id], [product_id]\n",
    "from [DWH_DEV].[ecom].[orders_orderitem]\n",
    "'''\n",
    "\n",
    "sql_orders_order = f'''\n",
    "SELECT\n",
    "[id], [is_test]\n",
    "from [DWH_DEV].[ecom].[orders_order]\n",
    "where ([DWH_DEV].[ecom].[orders_order].[created] > '2024-02-01' and [DWH_DEV].[ecom].[orders_order].[created] < '2024-05-01')\n",
    "'''\n",
    "\n",
    "sql_sku_article = f'''\n",
    "SELECT\n",
    "*\n",
    "from [DWH_DEV].[ecom].[sku_article]\n",
    "'''\n",
    "\n",
    "\n",
    "catalog_product = pd.read_sql_query(sql_product, conn)\n",
    "catalog_sku = pd.read_sql_query(sql_sku, conn)\n",
    "orders_item = pd.read_sql_query(sql_orders_item, conn)\n",
    "orders_order = pd.read_sql_query(sql_orders_order, conn)\n",
    "sku_article = pd.read_sql_query(sql_sku_article, conn)\n",
    "\n",
    "\n",
    "catalog_product = pd.DataFrame(catalog_product)\n",
    "catalog_sku = pd.DataFrame(catalog_sku)\n",
    "orders_item = pd.DataFrame(orders_item)\n",
    "orders_order = pd.DataFrame(orders_order)\n",
    "sku_article = pd.DataFrame(sku_article)"
   ]
  },
  {
   "cell_type": "code",
   "execution_count": 4,
   "metadata": {},
   "outputs": [],
   "source": [
    "catalog_product = catalog_product.query('price > 0')\n",
    "orders_order = orders_order.query('is_test == False')"
   ]
  },
  {
   "cell_type": "code",
   "execution_count": 5,
   "metadata": {},
   "outputs": [],
   "source": [
    "sku_article.columns = ['ext_id', 'article']\n",
    "catalog_sku = catalog_sku.merge(sku_article, how='left', on='ext_id')\n",
    "\n",
    "del sku_article\n",
    "\n",
    "catalog_sku = catalog_sku.dropna(subset=['article'])"
   ]
  },
  {
   "cell_type": "code",
   "execution_count": 6,
   "metadata": {},
   "outputs": [],
   "source": [
    "catalog_product = catalog_product.dropna(subset=['price'])"
   ]
  },
  {
   "cell_type": "code",
   "execution_count": 7,
   "metadata": {},
   "outputs": [],
   "source": [
    "def parse_column(data):\n",
    "    try:\n",
    "        return json.loads(data)\n",
    "    except Exception as e:\n",
    "        print(e)\n",
    "        return None"
   ]
  },
  {
   "cell_type": "code",
   "execution_count": 8,
   "metadata": {},
   "outputs": [
    {
     "name": "stdout",
     "output_type": "stream",
     "text": [
      "Expecting value: line 1 column 19501 (char 19500)\n",
      "Expecting property name enclosed in double quotes: line 1 column 19501 (char 19500)\n",
      "Unterminated string starting at: line 1 column 19489 (char 19488)\n",
      "Unterminated string starting at: line 1 column 19500 (char 19499)\n",
      "Unterminated string starting at: line 1 column 19494 (char 19493)\n",
      "Unterminated string starting at: line 1 column 19499 (char 19498)\n"
     ]
    }
   ],
   "source": [
    "catalog_product['data'] = catalog_product['data'].apply(lambda x: parse_column(x)) \n",
    "catalog_sku['data'] = catalog_sku['data'].apply(lambda x: parse_column(x))\n",
    "orders_item['data'] = orders_item['data'].apply(lambda x: parse_column(x))"
   ]
  },
  {
   "cell_type": "code",
   "execution_count": 9,
   "metadata": {},
   "outputs": [
    {
     "name": "stderr",
     "output_type": "stream",
     "text": [
      "100%|██████████| 529227/529227 [01:04<00:00, 8192.78it/s] \n"
     ]
    }
   ],
   "source": [
    "catalog_sku['jewel'] = np.nan\n",
    "catalog_sku['material'] = np.nan\n",
    "catalog_sku['design'] = np.nan\n",
    "catalog_sku['type1'] = np.nan\n",
    "catalog_sku['type2'] = np.nan\n",
    "catalog_sku['type3'] = np.nan\n",
    "catalog_sku['product_line'] = np.nan\n",
    "catalog_sku['product_group'] = np.nan\n",
    "catalog_sku['margin_groups'] = np.nan\n",
    "catalog_sku['size'] = np.nan\n",
    "\n",
    "for i in tqdm(catalog_sku.index):\n",
    "    try: catalog_sku['jewel'][i] = catalog_sku['data'][i]['jewel']['name']\n",
    "    except: catalog_sku['jewel'][i] = np.nan \n",
    "    \n",
    "    try: catalog_sku['material'][i] = catalog_sku['data'][i]['material']['name']\n",
    "    except: catalog_sku['material'][i] = np.nan \n",
    "    \n",
    "    try: catalog_sku['design'][i] = catalog_sku['data'][i]['design']['name']\n",
    "    except: catalog_sku['design'][i] = np.nan \n",
    "    \n",
    "    try: catalog_sku['type1'][i] = catalog_sku['data'][i]['type1']['name']\n",
    "    except: catalog_sku['type1'][i] = np.nan \n",
    "    \n",
    "    try: catalog_sku['type2'][i] = catalog_sku['data'][i]['type2']['name']\n",
    "    except: catalog_sku['type2'][i] = np.nan \n",
    "    \n",
    "    try: catalog_sku['type3'][i] = catalog_sku['data'][i]['type3']['name']\n",
    "    except: catalog_sku['type3'][i] = np.nan \n",
    "    \n",
    "    try: catalog_sku['product_line'][i] = catalog_sku['data'][i]['product_line']['name']\n",
    "    except: catalog_sku['product_line'][i] = np.nan\n",
    "    \n",
    "    try: catalog_sku['product_group'][i] = catalog_sku['data'][i]['product_group']['name']\n",
    "    except: catalog_sku['product_group'][i] = np.nan\n",
    "    \n",
    "    try: catalog_sku['margin_groups'][i] = catalog_sku['data'][i]['margin_groups']['name']\n",
    "    except: catalog_sku['margin_groups'][i] = np.nan\n",
    "    \n",
    "    try: catalog_sku['size'][i] = catalog_sku['data'][i]['size']\n",
    "    except: catalog_sku['size'][i] = np.nan"
   ]
  },
  {
   "cell_type": "code",
   "execution_count": 10,
   "metadata": {},
   "outputs": [],
   "source": [
    "catalog_sku.drop(columns=['data'], inplace = True)\n",
    "catalog_product = catalog_product.merge(catalog_sku, how='left', on='article')\n",
    "\n",
    "del catalog_sku"
   ]
  },
  {
   "cell_type": "code",
   "execution_count": 11,
   "metadata": {},
   "outputs": [
    {
     "name": "stderr",
     "output_type": "stream",
     "text": [
      "100%|██████████| 298786/298786 [00:21<00:00, 14093.56it/s]\n"
     ]
    }
   ],
   "source": [
    "catalog_product['type_for_TG'] = np.nan\n",
    "catalog_product['type1_from_cp2'] = np.nan\n",
    "catalog_product['fineness'] = np.nan\n",
    "catalog_product['brand'] = np.nan \n",
    "\n",
    "for i in tqdm(catalog_product.index):\n",
    "    try: catalog_product['type_for_TG'][i] = catalog_product['data'][i]['kind'][0]['name']\n",
    "    except: catalog_product['type_for_TG'][i] = np.nan \n",
    "\n",
    "    try: catalog_product['type1_from_cp2'][i] = catalog_product['data'][i]['type'][0]['name']\n",
    "    except: catalog_product['type1_from_cp2'][i] = np.nan \n",
    "\n",
    "    try: catalog_product['fineness'][i] = catalog_product['data'][i]['fineness']['description']\n",
    "    except: catalog_product['fineness'][i] = np.nan \n",
    "    \n",
    "    try: catalog_product['brand'][i] = catalog_product['data'][i]['brand']['name']\n",
    "    except: catalog_product['brand'][i] = np.nan "
   ]
  },
  {
   "cell_type": "code",
   "execution_count": 12,
   "metadata": {},
   "outputs": [],
   "source": [
    "catalog_product.drop(columns=['data'], inplace = True)"
   ]
  },
  {
   "cell_type": "code",
   "execution_count": 13,
   "metadata": {},
   "outputs": [],
   "source": [
    "orders_item = orders_item.query('state == \"done\" & price > 0')\n",
    "orders_item = orders_item.drop(columns=['state'])"
   ]
  },
  {
   "cell_type": "code",
   "execution_count": 14,
   "metadata": {},
   "outputs": [
    {
     "name": "stderr",
     "output_type": "stream",
     "text": [
      "  0%|          | 0/1233409 [00:00<?, ?it/s]"
     ]
    },
    {
     "name": "stderr",
     "output_type": "stream",
     "text": [
      "100%|██████████| 1233409/1233409 [14:59<00:00, 1370.50it/s]\n"
     ]
    }
   ],
   "source": [
    "orders_item['count'] = np.nan \n",
    "orders_item['revenue'] = np.nan \n",
    "orders_item['sum_cost_price'] = np.nan\n",
    "orders_item['size']  = np.nan \n",
    "orders_item['ext_id'] = np.nan \n",
    "\n",
    "\n",
    "for i in tqdm(orders_item.index): \n",
    "    try: orders_item['count'][i] = orders_item['data'][i]['balance']['count']\n",
    "    except: orders_item['count'][i] = np.nan \n",
    "    \n",
    "    try: orders_item['revenue'][i] = orders_item['price'][i] * orders_item['data'][i]['balance']['count']\n",
    "    except: orders_item['revenue'][i] = np.nan \n",
    "    \n",
    "    try: orders_item['sum_cost_price'][i] = orders_item['data'][i]['balance']['cost_price'] * orders_item['data'][i]['balance']['count']\n",
    "    except: orders_item['sum_cost_price'][i] = np.nan\n",
    "    \n",
    "    try: orders_item['size'][i] = orders_item['data'][i]['size']\n",
    "    except:orders_item['size'][i] = np.nan\n",
    "    \n",
    "    try: orders_item['ext_id'][i] = orders_item['data'][i]['balance']['sku_ext_id'] \n",
    "    except:\n",
    "        try: orders_item['ext_id'][i] = orders_item['data'][i]['balances']['sku_ext_id'] \n",
    "        except: orders_item['ext_id'][i] = np.nan "
   ]
  },
  {
   "cell_type": "code",
   "execution_count": 15,
   "metadata": {},
   "outputs": [],
   "source": [
    "catalog_product = catalog_product[catalog_product['deleted'].astype(str) == 'NaT']\n",
    "catalog_product.drop(columns=['deleted'], inplace=True)"
   ]
  },
  {
   "cell_type": "code",
   "execution_count": 16,
   "metadata": {},
   "outputs": [],
   "source": [
    "conn = pymssql.connect(server='AX-SQL', database='Staging')\n",
    "cursor = conn.cursor()\n",
    "\n",
    "staging = '''\n",
    "SELECT [Код склада], [Товарное направление], [Товарная группа], [Запрет скидки], [Код товара]\n",
    "from [Staging].[Reports].[Remainings_8h]\n",
    "'''\n",
    "staging = pd.read_sql_query(staging, conn)"
   ]
  },
  {
   "cell_type": "code",
   "execution_count": 17,
   "metadata": {},
   "outputs": [],
   "source": [
    "staging.rename(columns={\n",
    "    'Код склада': 'code',\n",
    "    'Товарное направление': 'tn',\n",
    "    'Товарная группа': 'tg',\n",
    "    'Запрет скидки': 'discount',\n",
    "    'Код товара': 'ext_id'\n",
    "}, inplace=True)\n",
    "\n",
    "catalog_product = catalog_product.merge(staging, how='left', on='ext_id')\n",
    "\n",
    "del staging"
   ]
  },
  {
   "cell_type": "code",
   "execution_count": 18,
   "metadata": {},
   "outputs": [],
   "source": [
    "# предварительно убираю ID, т.к не понятно их предназначение\n",
    "\n",
    "catalog_product.drop(columns=['id_x', 'id_y'], inplace=True)"
   ]
  },
  {
   "cell_type": "code",
   "execution_count": 19,
   "metadata": {},
   "outputs": [],
   "source": [
    "catalog_product['final_price'] = np.where(\n",
    "    catalog_product['discount'] == 'Да', catalog_product['price'], catalog_product['price'] * PL \n",
    ")"
   ]
  },
  {
   "cell_type": "code",
   "execution_count": 20,
   "metadata": {},
   "outputs": [],
   "source": [
    "result = catalog_product.groupby(by = 'article', as_index=False)['final_price'].agg({'min', 'median', 'max'})\n",
    "result.rename(columns={\n",
    "    'max': 'Максимальная цена', \n",
    "    'median': 'Медианная цена', \n",
    "    'min': 'Минимальная цена'\n",
    "}, inplace =True)"
   ]
  },
  {
   "cell_type": "code",
   "execution_count": 21,
   "metadata": {},
   "outputs": [],
   "source": [
    "catalog_product.drop(columns=['price', 'old_price'], \n",
    "                    inplace=True)"
   ]
  },
  {
   "cell_type": "code",
   "execution_count": 22,
   "metadata": {},
   "outputs": [],
   "source": [
    "catalog_product_article = catalog_product.groupby(by = 'article', as_index=False)"
   ]
  },
  {
   "cell_type": "code",
   "execution_count": 26,
   "metadata": {},
   "outputs": [],
   "source": [
    "catalog_product.dropna(subset=['product_line'], inplace=True)"
   ]
  },
  {
   "cell_type": "code",
   "execution_count": null,
   "metadata": {},
   "outputs": [],
   "source": []
  }
 ],
 "metadata": {
  "kernelspec": {
   "display_name": "Python 3",
   "language": "python",
   "name": "python3"
  },
  "language_info": {
   "codemirror_mode": {
    "name": "ipython",
    "version": 3
   },
   "file_extension": ".py",
   "mimetype": "text/x-python",
   "name": "python",
   "nbconvert_exporter": "python",
   "pygments_lexer": "ipython3",
   "version": "3.12.4"
  }
 },
 "nbformat": 4,
 "nbformat_minor": 2
}
