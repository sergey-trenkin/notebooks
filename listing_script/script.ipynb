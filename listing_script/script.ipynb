{
 "cells": [
  {
   "cell_type": "code",
   "execution_count": 7,
   "metadata": {},
   "outputs": [
    {
     "data": {
      "text/plain": [
       "'ru_RU.UTF-8'"
      ]
     },
     "execution_count": 7,
     "metadata": {},
     "output_type": "execute_result"
    }
   ],
   "source": [
    "from bs4 import BeautifulSoup as bs\n",
    "from tqdm import tqdm\n",
    "import datetime as dt\n",
    "import pandas as pd\n",
    "import numpy as np\n",
    "import warnings\n",
    "import pymssql\n",
    "import locale\n",
    "import json\n",
    "import glob\n",
    "import os\n",
    "\n",
    "warnings.filterwarnings('ignore')\n",
    "pd.set_option('use_inf_as_na', True)\n",
    "pd.options.display.max_columns = None\n",
    "pd.set_option('float_format', '{:.2f}'.format)\n",
    "locale.setlocale(locale.LC_ALL, 'ru_RU.UTF-8')"
   ]
  },
  {
   "cell_type": "code",
   "execution_count": 8,
   "metadata": {},
   "outputs": [],
   "source": [
    "conn = pymssql.connect(server='spb-s-sql-dwh', database='DWH_DEV', charset='WINDOWS-1251')\n",
    "cursor = conn.cursor()\n",
    "\n",
    "sql_product = f'''\n",
    "SELECT \n",
    "[name], [article], [data], [category_id], [id], [price], [old_price]\n",
    "from [DWH_DEV].[ecom].[catalog_product]\n",
    "'''\n",
    "\n",
    "sql_sku = f'''\n",
    "SELECT \n",
    "[data], [ext_id], [id]\n",
    "from [DWH_DEV].[ecom].[catalog_sku]\n",
    "'''\n",
    "\n",
    "sql_orders_item = f'''\n",
    "SELECT \n",
    "[data], [price]\n",
    "from [DWH_DEV].[ecom].[orders_orderitem]\n",
    "'''\n",
    "\n",
    "sql_orders_order = f'''\n",
    "SELECT\n",
    "[id]\n",
    "from [DWH_DEV].[ecom].[orders_order]\n",
    "'''\n",
    "\n",
    "sql_sku_article = f'''\n",
    "SELECT\n",
    "*\n",
    "from [DWH_DEV].[ecom].[sku_article]\n",
    "'''\n",
    "\n",
    "catalog_product = pd.read_sql_query(sql_product, conn)\n",
    "catalog_sku = pd.read_sql_query(sql_sku, conn)\n",
    "orders_item = pd.read_sql_query(sql_orders_item, conn)\n",
    "orders_order = pd.read_sql_query(sql_orders_order, conn)\n",
    "sku_article = pd.read_sql_query(sql_sku_article, conn)\n",
    "\n",
    "\n",
    "catalog_product = pd.DataFrame(catalog_product)\n",
    "catalog_sku = pd.DataFrame(catalog_sku)\n",
    "orders_item = pd.DataFrame(orders_item)\n",
    "orders_order = pd.DataFrame(orders_order)\n",
    "sku_article = pd.DataFrame(sku_article)"
   ]
  },
  {
   "cell_type": "code",
   "execution_count": 9,
   "metadata": {},
   "outputs": [],
   "source": [
    "catalog_product = catalog_product.query('price > 0')"
   ]
  },
  {
   "cell_type": "code",
   "execution_count": 10,
   "metadata": {},
   "outputs": [],
   "source": [
    "sku_article.columns = ['ext_id', 'article']\n",
    "catalog_sku = catalog_sku.merge(sku_article, how='left', on='ext_id')\n",
    "\n",
    "del sku_article\n",
    "\n",
    "catalog_sku = catalog_sku.dropna(subset=['article'])"
   ]
  },
  {
   "cell_type": "code",
   "execution_count": 11,
   "metadata": {},
   "outputs": [],
   "source": [
    "catalog_product = catalog_product.dropna(subset=['price'])"
   ]
  },
  {
   "cell_type": "code",
   "execution_count": 12,
   "metadata": {},
   "outputs": [],
   "source": [
    "def parse_column(data):\n",
    "    try:\n",
    "        return json.loads(data)\n",
    "    except Exception as e:\n",
    "        print(e)\n",
    "        return None"
   ]
  },
  {
   "cell_type": "code",
   "execution_count": 13,
   "metadata": {},
   "outputs": [
    {
     "name": "stdout",
     "output_type": "stream",
     "text": [
      "Expecting value: line 1 column 19501 (char 19500)\n",
      "Unterminated string starting at: line 1 column 19499 (char 19498)\n"
     ]
    }
   ],
   "source": [
    "catalog_product['data'] = catalog_product['data'].apply(lambda x: parse_column(x)) \n",
    "catalog_sku['data'] = catalog_sku['data'].apply(lambda x: parse_column(x))\n",
    "orders_item['data'] = orders_item['data'].apply(lambda x: parse_column(x))"
   ]
  },
  {
   "cell_type": "code",
   "execution_count": 14,
   "metadata": {},
   "outputs": [
    {
     "name": "stderr",
     "output_type": "stream",
     "text": [
      "100%|██████████| 528773/528773 [00:49<00:00, 10774.73it/s]\n"
     ]
    }
   ],
   "source": [
    "catalog_sku['jewel'] = np.nan\n",
    "catalog_sku['material'] = np.nan\n",
    "catalog_sku['design'] = np.nan\n",
    "catalog_sku['type1'] = np.nan\n",
    "catalog_sku['type2'] = np.nan\n",
    "catalog_sku['type3'] = np.nan\n",
    "catalog_sku['product_line'] = np.nan\n",
    "catalog_sku['product_group'] = np.nan\n",
    "catalog_sku['margin_groups'] = np.nan\n",
    "\n",
    "\n",
    "for i in tqdm(catalog_sku.index):\n",
    "    try: catalog_sku['jewel'][i] = catalog_sku['data'][i]['jewel']['name']\n",
    "    except: catalog_sku['jewel'][i] = np.nan \n",
    "    \n",
    "    try: catalog_sku['material'][i] = catalog_sku['data'][i]['material']['name']\n",
    "    except: catalog_sku['material'][i] = np.nan \n",
    "    \n",
    "    try: catalog_sku['design'][i] = catalog_sku['data'][i]['design']['name']\n",
    "    except: catalog_sku['design'][i] = np.nan \n",
    "    \n",
    "    try: catalog_sku['type1'][i] = catalog_sku['data'][i]['type1']['name']\n",
    "    except: catalog_sku['type1'][i] = np.nan \n",
    "    \n",
    "    try: catalog_sku['type2'][i] = catalog_sku['data'][i]['type2']['name']\n",
    "    except: catalog_sku['type2'][i] = np.nan \n",
    "    \n",
    "    try: catalog_sku['type3'][i] = catalog_sku['data'][i]['type3']['name']\n",
    "    except: catalog_sku['type3'][i] = np.nan \n",
    "    \n",
    "    try: catalog_sku['product_line'][i] = catalog_sku['data'][i]['product_line']['name']\n",
    "    except: catalog_sku['product_line'][i] = np.nan\n",
    "    \n",
    "    try: catalog_sku['product_group'][i] = catalog_sku['data'][i]['product_group']['name']\n",
    "    except: catalog_sku['product_group'][i] = np.nan\n",
    "    \n",
    "    try: catalog_sku['margin_groups'][i] = catalog_sku['data'][i]['margin_groups']['name']\n",
    "    except: catalog_sku['margin_groups'][i] = np.nan\n",
    "    \n",
    "catalog_sku.drop(columns=['data'], inplace = True)\n",
    "catalog_product = catalog_product.merge(catalog_sku, how='left', on='article')"
   ]
  },
  {
   "cell_type": "code",
   "execution_count": 15,
   "metadata": {},
   "outputs": [],
   "source": [
    "del catalog_sku"
   ]
  },
  {
   "cell_type": "code",
   "execution_count": 33,
   "metadata": {},
   "outputs": [
    {
     "name": "stderr",
     "output_type": "stream",
     "text": [
      "100%|██████████| 317400/317400 [00:20<00:00, 15243.51it/s]\n"
     ]
    }
   ],
   "source": [
    "catalog_product['type_for_TG'] = np.nan\n",
    "catalog_product['type1_from_cp2'] = np.nan\n",
    "catalog_product['fineness'] = np.nan\n",
    "catalog_product['brand'] = np.nan \n",
    "\n",
    "\n",
    "for i in tqdm(catalog_product.index):\n",
    "    try: catalog_product['type_for_TG'][i] = catalog_product['data'][i]['kind'][0]['name']\n",
    "    except: catalog_product['type_for_TG'][i] = np.nan \n",
    "\n",
    "    try: catalog_product['type1_from_cp2'][i] = catalog_product['data'][i]['type'][0]['name']\n",
    "    except: catalog_product['type1_from_cp2'][i] = np.nan \n",
    "\n",
    "    try: catalog_product['fineness'][i] = catalog_product['data'][i]['fineness']['description']\n",
    "    except: catalog_product['fineness'][i] = np.nan \n",
    "    \n",
    "    try: catalog_product['brand'][i] = catalog_product['data'][i]['brand']['name']\n",
    "    except: catalog_product['brand'][i] = np.nan "
   ]
  },
  {
   "cell_type": "code",
   "execution_count": 34,
   "metadata": {},
   "outputs": [],
   "source": [
    "catalog_product.drop(columns=['data'], inplace = True)"
   ]
  },
  {
   "cell_type": "code",
   "execution_count": 40,
   "metadata": {},
   "outputs": [
    {
     "data": {
      "text/plain": [
       "1"
      ]
     },
     "execution_count": 40,
     "metadata": {},
     "output_type": "execute_result"
    }
   ],
   "source": []
  },
  {
   "cell_type": "code",
   "execution_count": 38,
   "metadata": {},
   "outputs": [
    {
     "data": {
      "text/plain": [
       "{'size': None,\n",
       " 'balance': {'sku': '320cd0c7-ca3d-429e-b919-570f54d7a0fb',\n",
       "  'uin': '6432300990288570',\n",
       "  'count': 1,\n",
       "  'price': 817.0,\n",
       "  'weight': 0.57,\n",
       "  'balance': '2026746b-821f-4b80-b149-cca797083c76',\n",
       "  'barcode': '2078604673691',\n",
       "  'vat_group': 'ТОВ20',\n",
       "  'cost_price': 91.77,\n",
       "  'net_weight': 0.551,\n",
       "  'sku_ext_id': 'ТОВ1190623'},\n",
       " 'balances': [{'sku': '320cd0c7-ca3d-429e-b919-570f54d7a0fb',\n",
       "   'uin': '6432300990288570',\n",
       "   'count': 1,\n",
       "   'price': 817.0,\n",
       "   'weight': 0.57,\n",
       "   'balance': '2026746b-821f-4b80-b149-cca797083c76',\n",
       "   'barcode': '2078604673691',\n",
       "   'vat_group': 'ТОВ20',\n",
       "   'cost_price': 91.77,\n",
       "   'net_weight': 0.551,\n",
       "   'sku_ext_id': 'ТОВ1190623'}],\n",
       " 'motivation': {'collection_duration': 15326},\n",
       " 'promo_code': {'code': '35e6caa5-627b-4aff-a8b7-fc384d23d143',\n",
       "  'amount': 250.0,\n",
       "  'discount': 50},\n",
       " 'bonus_discount': 25}"
      ]
     },
     "execution_count": 38,
     "metadata": {},
     "output_type": "execute_result"
    }
   ],
   "source": [
    "orders_item['count'] = np.nan \n",
    "orders_item['revenue'] = np.nan \n",
    "orders_item['sum_cost_price'] = np.nan\n",
    "\n",
    "for i in tqdm(orders_item.index): \n",
    "    try: orders_item['count'][i] = orders_item['data'][i]['balance']['count']\n",
    "    except: orders_item['count'][i] = np.nan \n",
    "    \n",
    "    try: orders_item['count'][i] = orders_item['data'][i]['balance']['count']\n",
    "    except: orders_item['count'][i] = np.nan "
   ]
  },
  {
   "cell_type": "code",
   "execution_count": null,
   "metadata": {},
   "outputs": [],
   "source": [
    "'''\n",
    "catalog_product.name,\n",
    "catalog_product.article,\n",
    "catalog_sku.data -> 'jewel' ->> 'name' as jewel,\n",
    "catalog_sku.data -> 'material' ->> 'name' as material,\n",
    "catalog_sku.data -> 'design' ->> 'name' as design,\n",
    "catalog_sku.data -> 'type1' ->> 'name' as type1,\n",
    "catalog_sku.data -> 'type2' ->> 'name' as type2,\n",
    "catalog_sku.data -> 'type3' ->> 'name' as type3,\n",
    "catalog_product.data #>> '{fineness, description}' as fineness,\n",
    "catalog_sku.data -> 'product_line' ->> 'name' as product_line,\n",
    "catalog_sku.data -> 'product_group' ->> 'name' as product_group,\n",
    "catalog_product.data #>> '{brand, name}' as brand,\n",
    "catalog_sku.data -> 'margin_groups' ->> 'name' as margin_group,\n",
    "catalog_productcategory.\"name\" as online_group,\n",
    "(catalog_product.data::json -> 'kind' -> 0 ->> 'name'):: text as type_for_TG,\n",
    "(catalog_product.data::json -> 'type' -> 0 ->> 'name'):: text as type1_from_cp2,\n",
    "sum((orders_orderitem.data #>> '{balance, count}')::numeric) as count,\n",
    "sum((orders_orderitem.data #>> '{balance, count}')::numeric * orders_orderitem.price) as revenue,\n",
    "sum((orders_orderitem.data #>> '{balance, cost_price}')::numeric * (orders_orderitem.data #>> '{balance, count}')::numeric) as sum_cost_price\n",
    "from orders_orderitem\n",
    "left join orders_order on orders_orderitem.order_id = orders_order.id\n",
    "left join catalog_sku on catalog_sku.id = (orders_orderitem.data #>> '{balance, sku}'):: uuid\n",
    "left join catalog_product on catalog_sku.product_id = catalog_product.id\n",
    "left join catalog_productcategory on catalog_productcategory.id = catalog_product.category_id\n",
    "where (orders_order.created > '2024-02-01' and orders_order.created < '2024-05-01')\n",
    "and orders_orderitem.state = 'done'\n",
    "and catalog_sku.deleted is null\n",
    "and orders_order.is_test = 'false'\n",
    "group by 1,2,3,4,5,6,7,8,9,10,11,12,13,14,15,16\n",
    "'''"
   ]
  },
  {
   "cell_type": "code",
   "execution_count": null,
   "metadata": {},
   "outputs": [],
   "source": []
  }
 ],
 "metadata": {
  "kernelspec": {
   "display_name": "Python 3",
   "language": "python",
   "name": "python3"
  },
  "language_info": {
   "codemirror_mode": {
    "name": "ipython",
    "version": 3
   },
   "file_extension": ".py",
   "mimetype": "text/x-python",
   "name": "python",
   "nbconvert_exporter": "python",
   "pygments_lexer": "ipython3",
   "version": "3.12.4"
  }
 },
 "nbformat": 4,
 "nbformat_minor": 2
}
