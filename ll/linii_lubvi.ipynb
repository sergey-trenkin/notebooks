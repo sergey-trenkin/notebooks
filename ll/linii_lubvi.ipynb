{
 "cells": [
  {
   "cell_type": "code",
   "execution_count": 1,
   "metadata": {},
   "outputs": [],
   "source": [
    "import json\n",
    "import time\n",
    "import os\n",
    "import requests\n",
    "import numpy as np\n",
    "from tqdm import tqdm\n",
    "import datetime as dt\n",
    "from bs4 import BeautifulSoup as bs\n",
    "from selenium.webdriver.common.by import By\n",
    "from fake_useragent import UserAgent\n",
    "import pandas as pd\n",
    "import warnings\n",
    "warnings.filterwarnings('ignore')"
   ]
  },
  {
   "cell_type": "code",
   "execution_count": 2,
   "metadata": {},
   "outputs": [],
   "source": [
    "way = os.getcwd()"
   ]
  },
  {
   "cell_type": "code",
   "execution_count": 3,
   "metadata": {},
   "outputs": [],
   "source": [
    "date_now = dt.datetime.now().date().strftime('%d.%m.%Y')"
   ]
  },
  {
   "cell_type": "code",
   "execution_count": 4,
   "metadata": {},
   "outputs": [],
   "source": [
    "df = pd.DataFrame()"
   ]
  },
  {
   "cell_type": "code",
   "execution_count": 5,
   "metadata": {},
   "outputs": [],
   "source": [
    "filename = f'linii_lubvi_{date_now}'"
   ]
  },
  {
   "cell_type": "code",
   "execution_count": 6,
   "metadata": {},
   "outputs": [],
   "source": [
    "cookies = {\n",
    "    '__ddgid_': 'JX58qbbb3PHdWZ43',\n",
    "    '__ddg2_': 'SasnCXcXaSPjKfkF',\n",
    "    '__ddg1_': 'wLWQw8kuYGGbgxttlHm2',\n",
    "    'experimentVariantId_ll8': '11',\n",
    "    'subscribe-popup': 'cookiesubscribe',\n",
    "    'rrpvid': '822158495319251',\n",
    "    '_ym_uid': '1698041660594023635',\n",
    "    '_ym_d': '1698041660',\n",
    "    'tmr_lvid': '53c65497a757cbb85074d9e298748caa',\n",
    "    'tmr_lvidTS': '1698041659870',\n",
    "    'rcuid': '6527aace80057fba2add642e',\n",
    "    'BX_USER_ID': '6d8e8ec7412fc8bf94b4e13d087ffa5f',\n",
    "    '_userGUID': '0:lo2i5umr:ORWCpvmo~q0hArF1bVbRQxprFHm4mxD2',\n",
    "    'popmechanic_sbjs_migrations': 'popmechanic_1418474375998%3D1%7C%7C%7C1471519752600%3D1%7C%7C%7C1471519752605%3D1',\n",
    "    'BITRIX_SM_UIDH': 'ba56e56642279fea4b479ba31d92b4e5',\n",
    "    'BITRIX_SM_UIDL': 'LL_79093180245',\n",
    "    'BITRIX_SM_SALE_UID': '0',\n",
    "    '__utmz': '117815316.1706506202.10.2.utmcsr=google|utmccn=(organic)|utmcmd=organic|utmctr=(not%20provided)',\n",
    "    'advcake_track_id': 'ed260e2f-f044-66c5-ec29-60132d81d363',\n",
    "    'advcake_session_id': '9ea27407-3a65-709f-99e7-01d641ed886b',\n",
    "    '_gid': 'GA1.2.475253905.1709724082',\n",
    "    '_ym_isad': '1',\n",
    "    'BITRIX_SM_SOUND_LOGIN_PLAYED': 'Y',\n",
    "    '_ga_cid': '378912807.1698041660',\n",
    "    'BITRIX_CONVERSION_CONTEXT_od': '%7B%22ID%22%3A1%2C%22EXPIRE%22%3A1709845140%2C%22UNIQUE%22%3A%5B%22conversion_visit_day%22%5D%7D',\n",
    "    '__utma': '117815316.378912807.1698041660.1709724083.1709793716.16',\n",
    "    '__utmc': '117815316',\n",
    "    '__utmt_UA-32426418-13': '1',\n",
    "    'dSesn': '927bd3c3-6e52-4584-f940-cb41aaf2414e',\n",
    "    '_dvs': '0:ltgv1742:55CGZykIuGpd4ewHt~U8PMQbUD3aUZ2L',\n",
    "    'digi_uc': 'W1sidiIsIjEwMDE5OTY5IiwxNzA5NzI1MzMwNzU0XSxbInYiLCI4NDQ5OTQ2IiwxNzA5NzkzNzE2NTU3XSxbInYiLCIxMDM1OTQ2MyIsMTcwOTI4MzA0OTUyMV0sWyJ2IiwiMTAzNTkzNzUiLDE3MDkyODMwNDI5MjNdLFsidiIsIjEwMzU5MzczIiwxNzA5MjgzMDM0ODQzXV0=',\n",
    "    'full': '0',\n",
    "    'PHPSESSID': '1qop03lqnadl6slqja15k3bbsf',\n",
    "    '_gat': '1',\n",
    "    '_ga_Q2GKTC7MRN': 'GS1.1.1709793716.18.1.1709793812.0.0.0',\n",
    "    '_ga': 'GA1.1.378912807.1698041660',\n",
    "    '__utmb': '117815316.9.10.1709793716',\n",
    "    '_ga_P3KP5WRTY8': 'GS1.2.1709793716.15.1.1709793812.47.0.0',\n",
    "    'tmr_detect': '1%7C1709793812253',\n",
    "    'mindboxDeviceUUID': '6e9424e5-a80e-43b6-b480-b1d86e4084fd',\n",
    "    'directCrm-session': '%7B%22deviceGuid%22%3A%226e9424e5-a80e-43b6-b480-b1d86e4084fd%22%7D',\n",
    "}\n",
    "headers = {'user-agent': UserAgent().random}"
   ]
  },
  {
   "cell_type": "code",
   "execution_count": 7,
   "metadata": {},
   "outputs": [],
   "source": [
    "response = requests.get(f'https://liniilubvi.ru/catalog/zolotye/proba_585/', headers=headers, cookies=cookies)"
   ]
  },
  {
   "cell_type": "code",
   "execution_count": 8,
   "metadata": {},
   "outputs": [],
   "source": [
    "soup = bs(response.content, 'html.parser')\n",
    "pages = soup.find_all('a', class_='pager-item')[-1].get('href')\n",
    "id = pages.find('=')\n",
    "total = int(pages[id+1:])\n",
    "\n",
    "paginator = pages.find('?')\n",
    "paginator = pages[paginator:pages.find('=')+1]"
   ]
  },
  {
   "cell_type": "code",
   "execution_count": 9,
   "metadata": {},
   "outputs": [],
   "source": [
    "urls = list()\n",
    "prices = list()"
   ]
  },
  {
   "cell_type": "code",
   "execution_count": 10,
   "metadata": {},
   "outputs": [
    {
     "name": "stderr",
     "output_type": "stream",
     "text": [
      "  0%|          | 0/121 [00:00<?, ?it/s]"
     ]
    },
    {
     "name": "stderr",
     "output_type": "stream",
     "text": [
      "100%|██████████| 121/121 [03:24<00:00,  1.69s/it]\n"
     ]
    }
   ],
   "source": [
    "for page in tqdm(range(1, total + 1)):\n",
    "    response = requests.get(f'https://liniilubvi.ru/catalog/zolotye/proba_585/{paginator}{page}', headers=headers, cookies=cookies)\n",
    "    soup = bs(response.content, 'html.parser')\n",
    "    links = soup.find_all('div', class_='b-fade-slider mob-hide-1024')\n",
    "    prices_ = soup.find_all('span', class_='carusel-wrap-line-center-item-list-item-price price_rub')\n",
    "    if len(prices_) == len(links):\n",
    "        for link in links:\n",
    "            urls.append(link.get('href'))\n",
    "        for price in prices_:\n",
    "            prices.append(price.text.strip())"
   ]
  },
  {
   "cell_type": "code",
   "execution_count": 11,
   "metadata": {},
   "outputs": [],
   "source": [
    "df = pd.DataFrame({'links': urls, 'price': prices}).drop_duplicates(ignore_index=True)\n",
    "df.to_csv(rf'{way}\\parsed_data\\links.csv', index=False)"
   ]
  },
  {
   "cell_type": "code",
   "execution_count": 12,
   "metadata": {},
   "outputs": [],
   "source": [
    "groups = list()\n",
    "names = list()\n",
    "weights = list()\n",
    "params = list()"
   ]
  },
  {
   "cell_type": "code",
   "execution_count": 13,
   "metadata": {},
   "outputs": [
    {
     "name": "stderr",
     "output_type": "stream",
     "text": [
      "100%|██████████| 1443/1443 [25:10<00:00,  1.05s/it]\n"
     ]
    }
   ],
   "source": [
    "for link in tqdm(df['links'].tolist()):\n",
    "    try:\n",
    "        response = requests.get(f'https://liniilubvi.ru{link}', headers=headers, cookies=cookies).content\n",
    "    except Exception as ex:\n",
    "        print(ex)\n",
    "        groups.append(np.nan)\n",
    "        names.append(np.nan)\n",
    "        weights.append(np.nan)\n",
    "        prices.append(np.nan)\n",
    "        params.append(np.nan)\n",
    "        continue\n",
    "    \n",
    "    soup = bs(response, 'html.parser')\n",
    "    \n",
    "    try:\n",
    "        group = soup.find('span', class_=\"breadcrumbs__item-text\").text\n",
    "    except:\n",
    "        group = np.nan\n",
    "        \n",
    "    try:\n",
    "        price = soup.find('a', class_=\"btn red btn--block\").text.strip()\n",
    "        try:\n",
    "            price = soup.find('div', class_=\"pro-price-block\").find('span', class_=\"pro-price-item\").text\n",
    "        except:\n",
    "            price = np.nan\n",
    "    except:\n",
    "        price = np.nan\n",
    "        \n",
    "    try:\n",
    "        name = soup.find('div', class_=\"title-border title-border--mb\").find('h1', {'itemprop': 'name'}).text\n",
    "    except:\n",
    "        name = np.nan\n",
    "\n",
    "    try:\n",
    "        weight = soup.find('div', class_=\"param-item-right middle-weight\").text\n",
    "    except:\n",
    "        weight = np.nan\n",
    "    \n",
    "    params_names = []\n",
    "    params_values = []\n",
    "    \n",
    "    param = soup.find_all('li', class_='param-item clearfix')\n",
    "    \n",
    "    \n",
    "    len_params = len(param)\n",
    "    for i in range(0, len_params):\n",
    "        name_ = param[i].find('div', class_='param-item-left').text.strip()\n",
    "        try:\n",
    "            value = param[i].find('div', class_='param-item-right 111').text.strip()\n",
    "        except:\n",
    "            try:\n",
    "                value = param[i].find('div', class_='param-item-right 111').find('a').text.stip()\n",
    "            except:\n",
    "                value = param[i].find('div', class_='param-item-right 222').text.strip()\n",
    "        params_names.append(name_)\n",
    "        try:\n",
    "            params_values.append(value)\n",
    "        except:\n",
    "            params_values.append(np.nan)\n",
    "\n",
    "    linii_params = dict(zip(params_names, params_values))\n",
    "    \n",
    "    groups.append(group)\n",
    "    names.append(name)\n",
    "    weights.append(weight)\n",
    "    prices.append(price)\n",
    "    params.append(linii_params)    "
   ]
  },
  {
   "cell_type": "code",
   "execution_count": 14,
   "metadata": {},
   "outputs": [],
   "source": [
    "cards = pd.DataFrame({'name': names, \n",
    "                    'weight': weights, \n",
    "                    'group': groups, \n",
    "                    'params': params})"
   ]
  },
  {
   "cell_type": "code",
   "execution_count": 15,
   "metadata": {},
   "outputs": [],
   "source": [
    "df = pd.concat([df, cards], axis=True)"
   ]
  },
  {
   "cell_type": "code",
   "execution_count": 16,
   "metadata": {},
   "outputs": [
    {
     "data": {
      "text/html": [
       "<div>\n",
       "<style scoped>\n",
       "    .dataframe tbody tr th:only-of-type {\n",
       "        vertical-align: middle;\n",
       "    }\n",
       "\n",
       "    .dataframe tbody tr th {\n",
       "        vertical-align: top;\n",
       "    }\n",
       "\n",
       "    .dataframe thead th {\n",
       "        text-align: right;\n",
       "    }\n",
       "</style>\n",
       "<table border=\"1\" class=\"dataframe\">\n",
       "  <thead>\n",
       "    <tr style=\"text-align: right;\">\n",
       "      <th></th>\n",
       "      <th>links</th>\n",
       "      <th>price</th>\n",
       "      <th>name</th>\n",
       "      <th>weight</th>\n",
       "      <th>group</th>\n",
       "      <th>params</th>\n",
       "    </tr>\n",
       "  </thead>\n",
       "  <tbody>\n",
       "    <tr>\n",
       "      <th>0</th>\n",
       "      <td>/catalog/product/kolca_2155372/</td>\n",
       "      <td>32 270</td>\n",
       "      <td>Кольцо обручальное из красного золота (арт. Т1...</td>\n",
       "      <td>2.64 г</td>\n",
       "      <td>Кольца</td>\n",
       "      <td>{'Ширина': '5 мм', 'Металл': 'Золото (Красное)...</td>\n",
       "    </tr>\n",
       "    <tr>\n",
       "      <th>1</th>\n",
       "      <td>/catalog/product/kolca_2150980/</td>\n",
       "      <td>25 020</td>\n",
       "      <td>Кольцо обручальное из красного золота (арт. Т1...</td>\n",
       "      <td>2.24 г</td>\n",
       "      <td>Кольца</td>\n",
       "      <td>{'Ширина': '4 мм', 'Металл': 'Золото (Красное)...</td>\n",
       "    </tr>\n",
       "    <tr>\n",
       "      <th>2</th>\n",
       "      <td>/catalog/product/kolca_2253156/</td>\n",
       "      <td>20 500</td>\n",
       "      <td>Кольцо обручальное из разных цветов золота (ар...</td>\n",
       "      <td>1.77 г</td>\n",
       "      <td>Кольца</td>\n",
       "      <td>{'Ширина': '4 мм', 'Металл': 'Золото (Мультицв...</td>\n",
       "    </tr>\n",
       "    <tr>\n",
       "      <th>3</th>\n",
       "      <td>/catalog/product/kolca_7248203/</td>\n",
       "      <td>31 300</td>\n",
       "      <td>Кольцо обручальное из красного золота (арт. Т1...</td>\n",
       "      <td>2.83 г</td>\n",
       "      <td>Кольца</td>\n",
       "      <td>{'Ширина': '3 мм', 'Высота': '1 мм', 'Металл':...</td>\n",
       "    </tr>\n",
       "    <tr>\n",
       "      <th>4</th>\n",
       "      <td>/catalog/product/cepochki_2207738/</td>\n",
       "      <td>62 340</td>\n",
       "      <td>Цепочка из красного золота (арт. ЦНН20512050)</td>\n",
       "      <td>6.1 г</td>\n",
       "      <td>Цепи</td>\n",
       "      <td>{'Ширина': '2 мм', 'Металл': 'Золото (Красное)...</td>\n",
       "    </tr>\n",
       "    <tr>\n",
       "      <th>...</th>\n",
       "      <td>...</td>\n",
       "      <td>...</td>\n",
       "      <td>...</td>\n",
       "      <td>...</td>\n",
       "      <td>...</td>\n",
       "      <td>...</td>\n",
       "    </tr>\n",
       "    <tr>\n",
       "      <th>1438</th>\n",
       "      <td>/catalog/product/sergi_9637335/</td>\n",
       "      <td>39 590</td>\n",
       "      <td>Серьги из красного золота (арт. Т140029609)</td>\n",
       "      <td>3.22 г</td>\n",
       "      <td>Серьги</td>\n",
       "      <td>{'Металл': 'Золото (Красное)', 'Проба': '585',...</td>\n",
       "    </tr>\n",
       "    <tr>\n",
       "      <th>1439</th>\n",
       "      <td>/catalog/product/sergi_9653503/</td>\n",
       "      <td>108 690</td>\n",
       "      <td>Серьги с бриллиантами (арт. Т145629340)</td>\n",
       "      <td>2.69 г</td>\n",
       "      <td>Серьги</td>\n",
       "      <td>{'Длина': '18 мм', 'Ширина': '6 мм', 'Металл':...</td>\n",
       "    </tr>\n",
       "    <tr>\n",
       "      <th>1440</th>\n",
       "      <td>/catalog/product/kole_10401901/</td>\n",
       "      <td>11 490</td>\n",
       "      <td>Колье с фианитом (арт. Т10711634)</td>\n",
       "      <td></td>\n",
       "      <td>Колье</td>\n",
       "      <td>{'Длина': '5 мм', 'Ширина': '5 мм', 'Металл': ...</td>\n",
       "    </tr>\n",
       "    <tr>\n",
       "      <th>1441</th>\n",
       "      <td>/catalog/product/kole_9552036/</td>\n",
       "      <td>42 990</td>\n",
       "      <td>Колье с бриллиантами (арт. Т30111980)</td>\n",
       "      <td>1.83 г</td>\n",
       "      <td>Колье</td>\n",
       "      <td>{'Длина': '13 мм', 'Ширина': '4 мм', 'Металл':...</td>\n",
       "    </tr>\n",
       "    <tr>\n",
       "      <th>1442</th>\n",
       "      <td>/catalog/product/sergi_9725312/</td>\n",
       "      <td>251 990</td>\n",
       "      <td>Серьги с бриллиантами (арт. Т301025064)</td>\n",
       "      <td>2.43 г</td>\n",
       "      <td>Серьги</td>\n",
       "      <td>{'Длина': '14 мм', 'Ширина': '2 мм', 'Металл':...</td>\n",
       "    </tr>\n",
       "  </tbody>\n",
       "</table>\n",
       "<p>1443 rows × 6 columns</p>\n",
       "</div>"
      ],
      "text/plain": [
       "                                   links    price  \\\n",
       "0        /catalog/product/kolca_2155372/   32 270   \n",
       "1        /catalog/product/kolca_2150980/   25 020   \n",
       "2        /catalog/product/kolca_2253156/   20 500   \n",
       "3        /catalog/product/kolca_7248203/   31 300   \n",
       "4     /catalog/product/cepochki_2207738/   62 340   \n",
       "...                                  ...      ...   \n",
       "1438     /catalog/product/sergi_9637335/   39 590   \n",
       "1439     /catalog/product/sergi_9653503/  108 690   \n",
       "1440     /catalog/product/kole_10401901/   11 490   \n",
       "1441      /catalog/product/kole_9552036/   42 990   \n",
       "1442     /catalog/product/sergi_9725312/  251 990   \n",
       "\n",
       "                                                   name  weight   group  \\\n",
       "0     Кольцо обручальное из красного золота (арт. Т1...  2.64 г  Кольца   \n",
       "1     Кольцо обручальное из красного золота (арт. Т1...  2.24 г  Кольца   \n",
       "2     Кольцо обручальное из разных цветов золота (ар...  1.77 г  Кольца   \n",
       "3     Кольцо обручальное из красного золота (арт. Т1...  2.83 г  Кольца   \n",
       "4         Цепочка из красного золота (арт. ЦНН20512050)   6.1 г    Цепи   \n",
       "...                                                 ...     ...     ...   \n",
       "1438        Серьги из красного золота (арт. Т140029609)  3.22 г  Серьги   \n",
       "1439            Серьги с бриллиантами (арт. Т145629340)  2.69 г  Серьги   \n",
       "1440                  Колье с фианитом (арт. Т10711634)           Колье   \n",
       "1441              Колье с бриллиантами (арт. Т30111980)  1.83 г   Колье   \n",
       "1442            Серьги с бриллиантами (арт. Т301025064)  2.43 г  Серьги   \n",
       "\n",
       "                                                 params  \n",
       "0     {'Ширина': '5 мм', 'Металл': 'Золото (Красное)...  \n",
       "1     {'Ширина': '4 мм', 'Металл': 'Золото (Красное)...  \n",
       "2     {'Ширина': '4 мм', 'Металл': 'Золото (Мультицв...  \n",
       "3     {'Ширина': '3 мм', 'Высота': '1 мм', 'Металл':...  \n",
       "4     {'Ширина': '2 мм', 'Металл': 'Золото (Красное)...  \n",
       "...                                                 ...  \n",
       "1438  {'Металл': 'Золото (Красное)', 'Проба': '585',...  \n",
       "1439  {'Длина': '18 мм', 'Ширина': '6 мм', 'Металл':...  \n",
       "1440  {'Длина': '5 мм', 'Ширина': '5 мм', 'Металл': ...  \n",
       "1441  {'Длина': '13 мм', 'Ширина': '4 мм', 'Металл':...  \n",
       "1442  {'Длина': '14 мм', 'Ширина': '2 мм', 'Металл':...  \n",
       "\n",
       "[1443 rows x 6 columns]"
      ]
     },
     "execution_count": 16,
     "metadata": {},
     "output_type": "execute_result"
    }
   ],
   "source": [
    "df"
   ]
  },
  {
   "cell_type": "code",
   "execution_count": 17,
   "metadata": {},
   "outputs": [],
   "source": [
    "def fill_weight(weight):\n",
    "    try:\n",
    "        int(weight[0])\n",
    "        return float(weight)\n",
    "    except:\n",
    "        return -1"
   ]
  },
  {
   "cell_type": "code",
   "execution_count": 18,
   "metadata": {},
   "outputs": [
    {
     "data": {
      "text/plain": [
       "pandas.core.series.Series"
      ]
     },
     "execution_count": 18,
     "metadata": {},
     "output_type": "execute_result"
    }
   ],
   "source": [
    "type(df['weight'])"
   ]
  },
  {
   "cell_type": "code",
   "execution_count": 19,
   "metadata": {},
   "outputs": [],
   "source": [
    "df['weight'] = df['weight'].str.replace(' г', '')\n",
    "df['weight'] = df['weight'].apply(fill_weight)\n",
    "df['price'] = df['price'].str.replace(' ', '').astype('int')"
   ]
  },
  {
   "cell_type": "code",
   "execution_count": 20,
   "metadata": {},
   "outputs": [],
   "source": [
    "df_test = df[df['weight'] > -1]"
   ]
  },
  {
   "cell_type": "code",
   "execution_count": 21,
   "metadata": {},
   "outputs": [],
   "source": [
    "def fill_mean(weight):\n",
    "    if weight < 1:\n",
    "        return df_test['weight'].mean()\n",
    "    return weight"
   ]
  },
  {
   "cell_type": "code",
   "execution_count": 22,
   "metadata": {},
   "outputs": [],
   "source": [
    "df['weight'] = df['weight'].apply(fill_mean)"
   ]
  },
  {
   "cell_type": "code",
   "execution_count": 23,
   "metadata": {},
   "outputs": [
    {
     "name": "stdout",
     "output_type": "stream",
     "text": [
      "<class 'pandas.core.frame.DataFrame'>\n",
      "RangeIndex: 1443 entries, 0 to 1442\n",
      "Data columns (total 6 columns):\n",
      " #   Column  Non-Null Count  Dtype  \n",
      "---  ------  --------------  -----  \n",
      " 0   links   1443 non-null   object \n",
      " 1   price   1443 non-null   int32  \n",
      " 2   name    1442 non-null   object \n",
      " 3   weight  1443 non-null   float64\n",
      " 4   group   1442 non-null   object \n",
      " 5   params  1443 non-null   object \n",
      "dtypes: float64(1), int32(1), object(4)\n",
      "memory usage: 62.1+ KB\n"
     ]
    }
   ],
   "source": [
    "df.info()"
   ]
  },
  {
   "cell_type": "code",
   "execution_count": 24,
   "metadata": {},
   "outputs": [],
   "source": [
    "df.to_csv(f'{way}\\parsed_data\\{filename}.csv', index=False)"
   ]
  },
  {
   "cell_type": "code",
   "execution_count": 25,
   "metadata": {},
   "outputs": [],
   "source": [
    "df['data'] = pd.to_datetime(f'{date_now}', format='mixed')"
   ]
  },
  {
   "cell_type": "code",
   "execution_count": 26,
   "metadata": {},
   "outputs": [],
   "source": [
    "stock = r'\\\\gold585.int\\uk\\Общее хранилище файлов\\Служба аналитики\\МЮР\\parsed_data\\linii_lubvi_raw.csv'"
   ]
  },
  {
   "cell_type": "code",
   "execution_count": 27,
   "metadata": {},
   "outputs": [],
   "source": [
    "previous = pd.read_csv(stock)"
   ]
  },
  {
   "cell_type": "code",
   "execution_count": 28,
   "metadata": {},
   "outputs": [],
   "source": [
    "df = pd.concat([previous, df], ignore_index= True)"
   ]
  },
  {
   "cell_type": "code",
   "execution_count": 29,
   "metadata": {},
   "outputs": [],
   "source": [
    "df.to_csv(rf'{stock}', index=False)"
   ]
  },
  {
   "cell_type": "code",
   "execution_count": 30,
   "metadata": {},
   "outputs": [
    {
     "data": {
      "text/html": [
       "<div>\n",
       "<style scoped>\n",
       "    .dataframe tbody tr th:only-of-type {\n",
       "        vertical-align: middle;\n",
       "    }\n",
       "\n",
       "    .dataframe tbody tr th {\n",
       "        vertical-align: top;\n",
       "    }\n",
       "\n",
       "    .dataframe thead th {\n",
       "        text-align: right;\n",
       "    }\n",
       "</style>\n",
       "<table border=\"1\" class=\"dataframe\">\n",
       "  <thead>\n",
       "    <tr style=\"text-align: right;\">\n",
       "      <th></th>\n",
       "      <th>links</th>\n",
       "      <th>price</th>\n",
       "      <th>name</th>\n",
       "      <th>weight</th>\n",
       "      <th>group</th>\n",
       "      <th>params</th>\n",
       "      <th>data</th>\n",
       "    </tr>\n",
       "  </thead>\n",
       "  <tbody>\n",
       "    <tr>\n",
       "      <th>0</th>\n",
       "      <td>/catalog/product/kolca_2155372/</td>\n",
       "      <td>32270</td>\n",
       "      <td>Кольцо обручальное из красного золота (арт. Т1...</td>\n",
       "      <td>2.640000</td>\n",
       "      <td>Кольца</td>\n",
       "      <td>{'Ширина': '5 мм', 'Металл': 'Золото (Красное)...</td>\n",
       "      <td>NaN</td>\n",
       "    </tr>\n",
       "    <tr>\n",
       "      <th>1</th>\n",
       "      <td>/catalog/product/kolca_2150980/</td>\n",
       "      <td>25020</td>\n",
       "      <td>Кольцо обручальное из красного золота (арт. Т1...</td>\n",
       "      <td>2.240000</td>\n",
       "      <td>Кольца</td>\n",
       "      <td>{'Ширина': '4 мм', 'Металл': 'Золото (Красное)...</td>\n",
       "      <td>NaN</td>\n",
       "    </tr>\n",
       "    <tr>\n",
       "      <th>2</th>\n",
       "      <td>/catalog/product/kolca_2253156/</td>\n",
       "      <td>20500</td>\n",
       "      <td>Кольцо обручальное из разных цветов золота (ар...</td>\n",
       "      <td>1.770000</td>\n",
       "      <td>Кольца</td>\n",
       "      <td>{'Ширина': '4 мм', 'Металл': 'Золото (Мультицв...</td>\n",
       "      <td>NaN</td>\n",
       "    </tr>\n",
       "    <tr>\n",
       "      <th>3</th>\n",
       "      <td>/catalog/product/kolca_7248203/</td>\n",
       "      <td>31300</td>\n",
       "      <td>Кольцо обручальное из красного золота (арт. Т1...</td>\n",
       "      <td>2.830000</td>\n",
       "      <td>Кольца</td>\n",
       "      <td>{'Ширина': '3 мм', 'Высота': '1 мм', 'Металл':...</td>\n",
       "      <td>NaN</td>\n",
       "    </tr>\n",
       "    <tr>\n",
       "      <th>4</th>\n",
       "      <td>/catalog/product/cepochki_2207738/</td>\n",
       "      <td>62340</td>\n",
       "      <td>Цепочка из красного золота (арт. ЦНН20512050)</td>\n",
       "      <td>6.100000</td>\n",
       "      <td>Цепи</td>\n",
       "      <td>{'Ширина': '2 мм', 'Металл': 'Золото (Красное)...</td>\n",
       "      <td>NaN</td>\n",
       "    </tr>\n",
       "    <tr>\n",
       "      <th>...</th>\n",
       "      <td>...</td>\n",
       "      <td>...</td>\n",
       "      <td>...</td>\n",
       "      <td>...</td>\n",
       "      <td>...</td>\n",
       "      <td>...</td>\n",
       "      <td>...</td>\n",
       "    </tr>\n",
       "    <tr>\n",
       "      <th>5733</th>\n",
       "      <td>/catalog/product/sergi_9637335/</td>\n",
       "      <td>39590</td>\n",
       "      <td>Серьги из красного золота (арт. Т140029609)</td>\n",
       "      <td>3.220000</td>\n",
       "      <td>Серьги</td>\n",
       "      <td>{'Металл': 'Золото (Красное)', 'Проба': '585',...</td>\n",
       "      <td>2024-05-30 00:00:00</td>\n",
       "    </tr>\n",
       "    <tr>\n",
       "      <th>5734</th>\n",
       "      <td>/catalog/product/sergi_9653503/</td>\n",
       "      <td>108690</td>\n",
       "      <td>Серьги с бриллиантами (арт. Т145629340)</td>\n",
       "      <td>2.690000</td>\n",
       "      <td>Серьги</td>\n",
       "      <td>{'Длина': '18 мм', 'Ширина': '6 мм', 'Металл':...</td>\n",
       "      <td>2024-05-30 00:00:00</td>\n",
       "    </tr>\n",
       "    <tr>\n",
       "      <th>5735</th>\n",
       "      <td>/catalog/product/kole_10401901/</td>\n",
       "      <td>11490</td>\n",
       "      <td>Колье с фианитом (арт. Т10711634)</td>\n",
       "      <td>2.299538</td>\n",
       "      <td>Колье</td>\n",
       "      <td>{'Длина': '5 мм', 'Ширина': '5 мм', 'Металл': ...</td>\n",
       "      <td>2024-05-30 00:00:00</td>\n",
       "    </tr>\n",
       "    <tr>\n",
       "      <th>5736</th>\n",
       "      <td>/catalog/product/kole_9552036/</td>\n",
       "      <td>42990</td>\n",
       "      <td>Колье с бриллиантами (арт. Т30111980)</td>\n",
       "      <td>1.830000</td>\n",
       "      <td>Колье</td>\n",
       "      <td>{'Длина': '13 мм', 'Ширина': '4 мм', 'Металл':...</td>\n",
       "      <td>2024-05-30 00:00:00</td>\n",
       "    </tr>\n",
       "    <tr>\n",
       "      <th>5737</th>\n",
       "      <td>/catalog/product/sergi_9725312/</td>\n",
       "      <td>251990</td>\n",
       "      <td>Серьги с бриллиантами (арт. Т301025064)</td>\n",
       "      <td>2.430000</td>\n",
       "      <td>Серьги</td>\n",
       "      <td>{'Длина': '14 мм', 'Ширина': '2 мм', 'Металл':...</td>\n",
       "      <td>2024-05-30 00:00:00</td>\n",
       "    </tr>\n",
       "  </tbody>\n",
       "</table>\n",
       "<p>5738 rows × 7 columns</p>\n",
       "</div>"
      ],
      "text/plain": [
       "                                   links   price  \\\n",
       "0        /catalog/product/kolca_2155372/   32270   \n",
       "1        /catalog/product/kolca_2150980/   25020   \n",
       "2        /catalog/product/kolca_2253156/   20500   \n",
       "3        /catalog/product/kolca_7248203/   31300   \n",
       "4     /catalog/product/cepochki_2207738/   62340   \n",
       "...                                  ...     ...   \n",
       "5733     /catalog/product/sergi_9637335/   39590   \n",
       "5734     /catalog/product/sergi_9653503/  108690   \n",
       "5735     /catalog/product/kole_10401901/   11490   \n",
       "5736      /catalog/product/kole_9552036/   42990   \n",
       "5737     /catalog/product/sergi_9725312/  251990   \n",
       "\n",
       "                                                   name    weight   group  \\\n",
       "0     Кольцо обручальное из красного золота (арт. Т1...  2.640000  Кольца   \n",
       "1     Кольцо обручальное из красного золота (арт. Т1...  2.240000  Кольца   \n",
       "2     Кольцо обручальное из разных цветов золота (ар...  1.770000  Кольца   \n",
       "3     Кольцо обручальное из красного золота (арт. Т1...  2.830000  Кольца   \n",
       "4         Цепочка из красного золота (арт. ЦНН20512050)  6.100000    Цепи   \n",
       "...                                                 ...       ...     ...   \n",
       "5733        Серьги из красного золота (арт. Т140029609)  3.220000  Серьги   \n",
       "5734            Серьги с бриллиантами (арт. Т145629340)  2.690000  Серьги   \n",
       "5735                  Колье с фианитом (арт. Т10711634)  2.299538   Колье   \n",
       "5736              Колье с бриллиантами (арт. Т30111980)  1.830000   Колье   \n",
       "5737            Серьги с бриллиантами (арт. Т301025064)  2.430000  Серьги   \n",
       "\n",
       "                                                 params                 data  \n",
       "0     {'Ширина': '5 мм', 'Металл': 'Золото (Красное)...                  NaN  \n",
       "1     {'Ширина': '4 мм', 'Металл': 'Золото (Красное)...                  NaN  \n",
       "2     {'Ширина': '4 мм', 'Металл': 'Золото (Мультицв...                  NaN  \n",
       "3     {'Ширина': '3 мм', 'Высота': '1 мм', 'Металл':...                  NaN  \n",
       "4     {'Ширина': '2 мм', 'Металл': 'Золото (Красное)...                  NaN  \n",
       "...                                                 ...                  ...  \n",
       "5733  {'Металл': 'Золото (Красное)', 'Проба': '585',...  2024-05-30 00:00:00  \n",
       "5734  {'Длина': '18 мм', 'Ширина': '6 мм', 'Металл':...  2024-05-30 00:00:00  \n",
       "5735  {'Длина': '5 мм', 'Ширина': '5 мм', 'Металл': ...  2024-05-30 00:00:00  \n",
       "5736  {'Длина': '13 мм', 'Ширина': '4 мм', 'Металл':...  2024-05-30 00:00:00  \n",
       "5737  {'Длина': '14 мм', 'Ширина': '2 мм', 'Металл':...  2024-05-30 00:00:00  \n",
       "\n",
       "[5738 rows x 7 columns]"
      ]
     },
     "execution_count": 30,
     "metadata": {},
     "output_type": "execute_result"
    }
   ],
   "source": [
    "df"
   ]
  },
  {
   "cell_type": "code",
   "execution_count": null,
   "metadata": {},
   "outputs": [],
   "source": []
  }
 ],
 "metadata": {
  "kernelspec": {
   "display_name": "Python 3",
   "language": "python",
   "name": "python3"
  },
  "language_info": {
   "codemirror_mode": {
    "name": "ipython",
    "version": 3
   },
   "file_extension": ".py",
   "mimetype": "text/x-python",
   "name": "python",
   "nbconvert_exporter": "python",
   "pygments_lexer": "ipython3",
   "version": "3.12.0"
  }
 },
 "nbformat": 4,
 "nbformat_minor": 2
}
