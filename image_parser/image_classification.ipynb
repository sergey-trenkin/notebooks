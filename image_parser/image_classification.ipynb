{
 "cells": [
  {
   "cell_type": "code",
   "execution_count": 1,
   "metadata": {},
   "outputs": [],
   "source": [
    "from openpyxl.drawing.image import Image as im\n",
    "from fake_useragent import UserAgent\n",
    "from openpyxl import load_workbook\n",
    "from bs4 import BeautifulSoup\n",
    "from PIL import Image \n",
    "from tqdm import tqdm\n",
    "import pandas as pd\n",
    "import urllib.request \n",
    "import requests\n",
    "import glob\n",
    "import time\n",
    "import os\n",
    "import warnings\n",
    "warnings.filterwarnings('ignore')"
   ]
  },
  {
   "cell_type": "code",
   "execution_count": 2,
   "metadata": {},
   "outputs": [],
   "source": [
    "cookies = {\n",
    "    'ab_criteo': 'E',\n",
    "    'city_id': '118',\n",
    "    'city_name': '%D0%A1%D0%B0%D0%BD%D0%BA%D1%82-%D0%9F%D0%B5%D1%82%D0%B5%D1%80%D0%B1%D1%83%D1%80%D0%B3',\n",
    "    'city_full_name': '%D0%A1%D0%B0%D0%BD%D0%BA%D1%82-%D0%9F%D0%B5%D1%82%D0%B5%D1%80%D0%B1%D1%83%D1%80%D0%B3',\n",
    "    'region_id': '090a0c31-3b91-49a3-aa35-0c784898170b',\n",
    "    'region_name': '%D0%A1%D0%B0%D0%BD%D0%BA%D1%82-%D0%9F%D0%B5%D1%82%D0%B5%D1%80%D0%B1%D1%83%D1%80%D0%B3',\n",
    "    'region_subdomain': 'spb',\n",
    "    '_ga': 'GA1.3.1274284271.1697011591',\n",
    "    'tmr_lvid': '5f6ab165f41caef626387d8e9d8799df',\n",
    "    'tmr_lvidTS': '1697011590764',\n",
    "    '_ym_uid': '1697011591885937639',\n",
    "    '_userGUID': '0:lnlgvw2j:o1KgZ6l_h~pfqeCW61D6bPbHGiG~Vaw7',\n",
    "    '_tt_enable_cookie': '1',\n",
    "    '_ttp': 'fKiEqa8XyglrSfN_aUZvbCNG6ew',\n",
    "    'ccart': 'off',\n",
    "    'uxs_uid': '1766f130-680d-11ee-8541-1b4e2f56831c',\n",
    "    'c_medium': 'referral',\n",
    "    'show-go-to-the-app-banner': '1',\n",
    "    'auid': '4e746ac8-4d70-4eb7-a74a-11d7f62e2108:1qxOzl:rtj4wzhX0CuidGzddzUBiYO9IwYMmG9mxkKuCpEhymQ',\n",
    "    '_ga_GRSMPDQ6SE': 'GS1.3.1698659470.15.1.1698659741.41.0.0',\n",
    "    '_ga_G74SVHM1ZG': 'GS1.2.1699861115.2.0.1699861115.60.0.0',\n",
    "    '_ga_GRDJMMMRHQ': 'GS1.2.1699861115.2.0.1699861115.60.0.0',\n",
    "    '_ga_G74SVHM1ZG': 'GS1.3.1700813998.19.1.1700814004.54.0.0',\n",
    "    '_ga_GRDJMMMRHQ': 'GS1.3.1700813998.19.1.1700814004.54.0.0',\n",
    "    '_ga_GRSMPDQ6SE': 'GS1.2.1700813998.38.1.1700814004.54.0.0',\n",
    "    '_ga_M9ZHPEJXBM': 'GS1.2.1700813998.38.1.1700814004.54.0.0',\n",
    "    'loggedin': '\"\"',\n",
    "    'sessionid': 'zm1yjl12753j5al72kjmvv0911k9wsi5',\n",
    "    '_ga_HJNSJ6NG5J': 'deleted',\n",
    "    'mindboxDeviceUUID': '6e9424e5-a80e-43b6-b480-b1d86e4084fd',\n",
    "    'directCrm-session': '%7B%22deviceGuid%22%3A%226e9424e5-a80e-43b6-b480-b1d86e4084fd%22%7D',\n",
    "    'c_source': 'ya.ru',\n",
    "    'popmechanic_sbjs_migrations': 'popmechanic_1418474375998%3D1%7C%7C%7C1471519752600%3D1%7C%7C%7C1471519752605%3D1',\n",
    "    'popmechanic_sbjs_migrations': 'popmechanic_1418474375998%3D1%7C%7C%7C1471519752600%3D1%7C%7C%7C1471519752605%3D1',\n",
    "    'cart': 'on',\n",
    "    '_ym_d': '1712858858',\n",
    "    'Fuuid': 'c2002280-6e61-4dea-b987-227a840695cb,1713337607',\n",
    "    '_ga_HJNSJ6NG5J': 'deleted',\n",
    "    'qr-go-to-the-app-banner': '1',\n",
    "    'sncid': '8950bf39-fe61-4ea0-90db-96547caf2084:1sPfZh:Hp-6o10aSLf4gPmuGcDSuKuBelJ_CY4ZFgyBbKq47v4',\n",
    "    'cart': 'on',\n",
    "    'clt': 'new',\n",
    "    'city_auto_popup_shown': '1',\n",
    "    'digi_ab': 'controlB',\n",
    "    '_ym_isad': '1',\n",
    "    'authorization': 'true',\n",
    "    '_gid': 'GA1.2.775343026.1722238231',\n",
    "    '_gid': 'GA1.3.775343026.1722238231',\n",
    "    'ccart': 'off',\n",
    "    'digi_uc': '|v:171981:354020:983711!171982:285517!172060:349589:355713!172078:330728:339950!172223:285519|c:172223:79334',\n",
    "    'skPageCount': '5',\n",
    "    'dSesn': 'b3faf47f-f10e-02fc-c5a8-1a68ae8e5583',\n",
    "    '_dvs': '0:lz6vmv43:tzKbMyDUVrf3278UJIIP_xFNB6ZNtv_u',\n",
    "    '_sp_ses.a00f': '*',\n",
    "    '_sp_id.a00f': '93cea260-ac9e-421d-8b5b-4bd3cce114e3.1719818149.10.1722250761.1722238792.4ba23490-c714-4328-8db5-9cf98fa04360.a1f252e3-2454-4acd-9777-5a8ce9d5e6f1.10419c22-2c5e-4d62-88e0-b7e2b529b31e.1722250760117.2',\n",
    "    '_ym_visorc': 'b',\n",
    "    '_ga_HJNSJ6NG5J': 'GS1.1.1722250758.128.1.1722250762.56.0.0',\n",
    "    '_ga': 'GA1.2.1274284271.1697011591',\n",
    "    '_dc_gtm_UA-11277336-1': '1',\n",
    "    '_dc_gtm_objectObject': '1',\n",
    "    'Dsign': 'y',\n",
    "    'Duuid': 'a1434413-0ae0-482c-a9b8-84d52dbe7cc4',\n",
    "}\n",
    "headers = {\n",
    "    'Accept': 'text/html,application/xhtml+xml,application/xml;q=0.9,image/avif,image/webp,image/apng,*/*;q=0.8,application/signed-exchange;v=b3;q=0.7',\n",
    "    'Accept-Language': 'ru-RU,ru;q=0.9,en-US;q=0.8,en;q=0.7',\n",
    "    'Cache-Control': 'max-age=0',\n",
    "    'Connection': 'keep-alive',\n",
    "    # 'Cookie': 'ab_criteo=E; city_id=118; city_name=%D0%A1%D0%B0%D0%BD%D0%BA%D1%82-%D0%9F%D0%B5%D1%82%D0%B5%D1%80%D0%B1%D1%83%D1%80%D0%B3; city_full_name=%D0%A1%D0%B0%D0%BD%D0%BA%D1%82-%D0%9F%D0%B5%D1%82%D0%B5%D1%80%D0%B1%D1%83%D1%80%D0%B3; region_id=090a0c31-3b91-49a3-aa35-0c784898170b; region_name=%D0%A1%D0%B0%D0%BD%D0%BA%D1%82-%D0%9F%D0%B5%D1%82%D0%B5%D1%80%D0%B1%D1%83%D1%80%D0%B3; region_subdomain=spb; _ga=GA1.3.1274284271.1697011591; tmr_lvid=5f6ab165f41caef626387d8e9d8799df; tmr_lvidTS=1697011590764; _ym_uid=1697011591885937639; _userGUID=0:lnlgvw2j:o1KgZ6l_h~pfqeCW61D6bPbHGiG~Vaw7; _tt_enable_cookie=1; _ttp=fKiEqa8XyglrSfN_aUZvbCNG6ew; ccart=off; uxs_uid=1766f130-680d-11ee-8541-1b4e2f56831c; c_medium=referral; show-go-to-the-app-banner=1; auid=4e746ac8-4d70-4eb7-a74a-11d7f62e2108:1qxOzl:rtj4wzhX0CuidGzddzUBiYO9IwYMmG9mxkKuCpEhymQ; _ga_GRSMPDQ6SE=GS1.3.1698659470.15.1.1698659741.41.0.0; _ga_G74SVHM1ZG=GS1.2.1699861115.2.0.1699861115.60.0.0; _ga_GRDJMMMRHQ=GS1.2.1699861115.2.0.1699861115.60.0.0; _ga_G74SVHM1ZG=GS1.3.1700813998.19.1.1700814004.54.0.0; _ga_GRDJMMMRHQ=GS1.3.1700813998.19.1.1700814004.54.0.0; _ga_GRSMPDQ6SE=GS1.2.1700813998.38.1.1700814004.54.0.0; _ga_M9ZHPEJXBM=GS1.2.1700813998.38.1.1700814004.54.0.0; loggedin=\"\"; sessionid=zm1yjl12753j5al72kjmvv0911k9wsi5; _ga_HJNSJ6NG5J=deleted; mindboxDeviceUUID=6e9424e5-a80e-43b6-b480-b1d86e4084fd; directCrm-session=%7B%22deviceGuid%22%3A%226e9424e5-a80e-43b6-b480-b1d86e4084fd%22%7D; c_source=ya.ru; popmechanic_sbjs_migrations=popmechanic_1418474375998%3D1%7C%7C%7C1471519752600%3D1%7C%7C%7C1471519752605%3D1; popmechanic_sbjs_migrations=popmechanic_1418474375998%3D1%7C%7C%7C1471519752600%3D1%7C%7C%7C1471519752605%3D1; cart=on; _ym_d=1712858858; Fuuid=c2002280-6e61-4dea-b987-227a840695cb,1713337607; _ga_HJNSJ6NG5J=deleted; qr-go-to-the-app-banner=1; sncid=8950bf39-fe61-4ea0-90db-96547caf2084:1sPfZh:Hp-6o10aSLf4gPmuGcDSuKuBelJ_CY4ZFgyBbKq47v4; cart=on; clt=new; city_auto_popup_shown=1; digi_ab=controlB; _ym_isad=1; authorization=true; _gid=GA1.2.775343026.1722238231; _gid=GA1.3.775343026.1722238231; ccart=off; digi_uc=|v:171981:354020:983711!171982:285517!172060:349589:355713!172078:330728:339950!172223:285519|c:172223:79334; skPageCount=5; dSesn=b3faf47f-f10e-02fc-c5a8-1a68ae8e5583; _dvs=0:lz6vmv43:tzKbMyDUVrf3278UJIIP_xFNB6ZNtv_u; _sp_ses.a00f=*; _sp_id.a00f=93cea260-ac9e-421d-8b5b-4bd3cce114e3.1719818149.10.1722250761.1722238792.4ba23490-c714-4328-8db5-9cf98fa04360.a1f252e3-2454-4acd-9777-5a8ce9d5e6f1.10419c22-2c5e-4d62-88e0-b7e2b529b31e.1722250760117.2; _ym_visorc=b; _ga_HJNSJ6NG5J=GS1.1.1722250758.128.1.1722250762.56.0.0; _ga=GA1.2.1274284271.1697011591; _dc_gtm_UA-11277336-1=1; _dc_gtm_objectObject=1; Dsign=y; Duuid=a1434413-0ae0-482c-a9b8-84d52dbe7cc4',\n",
    "    'Referer': 'https://spb.sunlight.net/catalog/?material=632&product_type=8&stone=13,15,31',\n",
    "    'Sec-Fetch-Dest': 'document',\n",
    "    'Sec-Fetch-Mode': 'navigate',\n",
    "    'Sec-Fetch-Site': 'same-origin',\n",
    "    'Sec-Fetch-User': '?1',\n",
    "    'Upgrade-Insecure-Requests': '1',\n",
    "    'User-Agent': 'Mozilla/5.0 (Windows NT 10.0; Win64; x64) AppleWebKit/537.36 (KHTML, like Gecko) Chrome/127.0.0.0 Safari/537.36',\n",
    "    'sec-ch-ua': '\"Not)A;Brand\";v=\"99\", \"Google Chrome\";v=\"127\", \"Chromium\";v=\"127\"',\n",
    "    'sec-ch-ua-mobile': '?0',\n",
    "    'sec-ch-ua-platform': '\"Windows\"',\n",
    "}"
   ]
  },
  {
   "cell_type": "code",
   "execution_count": 3,
   "metadata": {},
   "outputs": [],
   "source": [
    "def get_links(url_sunlight):\n",
    "    home = 'https://sunlight.net'\n",
    "    links = []\n",
    "    pages_max = 14\n",
    "    pages = int(pages_max + 1)\n",
    "    for i in tqdm(range(1, pages)):\n",
    "        url = f'{url_sunlight}&page={i}'\n",
    "        resp = requests.get(url, headers={'User-Agent': UserAgent().chrome}, verify=False, timeout=70)\n",
    "        soup = BeautifulSoup(resp.text, 'html.parser')\n",
    "        for link in soup.find_all('div', class_=\"cl-item js-cl-item\"):\n",
    "            links.append(home + link.find('a', href=True)['href'])\n",
    "    links = list(map(lambda x: x.replace('#product-reviews', ''), links))\n",
    "    return links"
   ]
  },
  {
   "cell_type": "code",
   "execution_count": 4,
   "metadata": {},
   "outputs": [
    {
     "name": "stderr",
     "output_type": "stream",
     "text": [
      "100%|██████████| 14/14 [00:12<00:00,  1.08it/s]\n"
     ]
    }
   ],
   "source": [
    "links_sunlight = get_links('https://spb.sunlight.net/catalog/?material=632&product_type=8&stone=13,15,21,31')"
   ]
  },
  {
   "cell_type": "code",
   "execution_count": 5,
   "metadata": {},
   "outputs": [],
   "source": [
    "links_sunlight = pd.DataFrame(links_sunlight)\n",
    "links_sunlight = links_sunlight.drop_duplicates()\n",
    "links_sunlight = links_sunlight[0].tolist()"
   ]
  },
  {
   "cell_type": "code",
   "execution_count": 11,
   "metadata": {},
   "outputs": [],
   "source": [
    "number = 0"
   ]
  },
  {
   "cell_type": "code",
   "execution_count": 12,
   "metadata": {},
   "outputs": [
    {
     "name": "stderr",
     "output_type": "stream",
     "text": [
      "100%|██████████| 799/799 [24:06<00:00,  1.81s/it]\n"
     ]
    }
   ],
   "source": [
    "for link in tqdm(links_sunlight):\n",
    "    try:\n",
    "        response = requests.get(link, cookies=cookies, headers=headers, timeout=30)\n",
    "        soup = BeautifulSoup(response.content, \"html.parser\")\n",
    "    except:\n",
    "        time.sleep(10)\n",
    "        response = requests.get(link, cookies=cookies, headers=headers, timeout=30)\n",
    "        soup = BeautifulSoup(response.content, \"html.parser\")\n",
    "\n",
    "    img_tags = soup.find_all(\"img\")\n",
    "    images = []\n",
    "\n",
    "    for img_tag in img_tags:\n",
    "        src = img_tag.get(\"src\")\n",
    "        images.append(src)\n",
    "\n",
    "    for image in images:\n",
    "        if 'products' in image:\n",
    "            break\n",
    "    number += 1\n",
    "    urllib.request.urlretrieve(image, fr\"C:\\Users\\Trenkin.Sergey\\Desktop\\Фото санлайт\\{number}.png\")  "
   ]
  },
  {
   "cell_type": "code",
   "execution_count": null,
   "metadata": {},
   "outputs": [],
   "source": []
  }
 ],
 "metadata": {
  "kernelspec": {
   "display_name": "Python 3",
   "language": "python",
   "name": "python3"
  },
  "language_info": {
   "codemirror_mode": {
    "name": "ipython",
    "version": 3
   },
   "file_extension": ".py",
   "mimetype": "text/x-python",
   "name": "python",
   "nbconvert_exporter": "python",
   "pygments_lexer": "ipython3",
   "version": "3.12.4"
  }
 },
 "nbformat": 4,
 "nbformat_minor": 2
}
