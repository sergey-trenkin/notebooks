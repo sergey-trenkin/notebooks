{
 "cells": [
  {
   "cell_type": "code",
   "execution_count": 1,
   "id": "0de2798c-82a4-4564-9f25-675ef49ea9a7",
   "metadata": {
    "tags": []
   },
   "outputs": [],
   "source": [
    "import json\n",
    "import re\n",
    "import time\n",
    "import requests\n",
    "import numpy as np\n",
    "import pandas as pd\n",
    "import os\n",
    "import glob\n",
    "from tqdm import tqdm\n",
    "from datetime import datetime\n",
    "from bs4 import BeautifulSoup\n",
    "from fake_useragent import UserAgent\n",
    "import warnings\n",
    "warnings.filterwarnings('ignore')\n",
    "from random import choice"
   ]
  },
  {
   "cell_type": "code",
   "execution_count": 2,
   "id": "6073ea0a-a53b-4c27-9a06-2c13d2c38e0e",
   "metadata": {
    "tags": []
   },
   "outputs": [],
   "source": [
    "current_datetime = datetime.now().strftime(\"%d-%m-%Y\")\n",
    "month_now = datetime.now().month\n",
    "day_now = datetime.now().day"
   ]
  },
  {
   "cell_type": "code",
   "execution_count": 3,
   "id": "51d301fa",
   "metadata": {},
   "outputs": [],
   "source": [
    "way = os.getcwd()"
   ]
  },
  {
   "cell_type": "markdown",
   "id": "28c397fc-d1ff-43b7-9815-46ec328e9fb5",
   "metadata": {},
   "source": [
    "# Cookies and Headers для парсинга скидки и цены"
   ]
  },
  {
   "cell_type": "code",
   "execution_count": 4,
   "id": "8f8f8bd1-9a62-4c54-b774-8aa3a44c1d1d",
   "metadata": {
    "tags": []
   },
   "outputs": [],
   "source": [
    "cookies_discount = {\n",
    "    'tmr_lvid': '286726132090325c59b36aa6b5e4aeaa',\n",
    "    'tmr_lvidTS': '1692163620235',\n",
    "    '_ym_uid': '1692163620496112993',\n",
    "    '_ym_d': '1692163620',\n",
    "    'city_id': '118',\n",
    "    'city_name': '%D0%A1%D0%B0%D0%BD%D0%BA%D1%82-%D0%9F%D0%B5%D1%82%D0%B5%D1%80%D0%B1%D1%83%D1%80%D0%B3',\n",
    "    'city_full_name': '%D0%A1%D0%B0%D0%BD%D0%BA%D1%82-%D0%9F%D0%B5%D1%82%D0%B5%D1%80%D0%B1%D1%83%D1%80%D0%B3',\n",
    "    'region_id': '090a0c31-3b91-49a3-aa35-0c784898170b',\n",
    "    'region_name': '%D0%A1%D0%B0%D0%BD%D0%BA%D1%82-%D0%9F%D0%B5%D1%82%D0%B5%D1%80%D0%B1%D1%83%D1%80%D0%B3',\n",
    "    'region_subdomain': 'spb',\n",
    "    '_tt_enable_cookie': '1',\n",
    "    '_ttp': 'tbKEEA3IkGrgdKpaT6-HRNf0K8h',\n",
    "    'ccart': 'off',\n",
    "    'uxs_uid': '898ab7e0-3bf5-11ee-8efe-f5b770db12a1',\n",
    "    'loggedin': '%D0%AE%D1%80%D0%B8%D0%B9',\n",
    "    'cseid': 'f4935df6bdac0029832e99cef94a5bc2',\n",
    "    'sessionid': 'nr24mlml3ze25rk734gkkmgx3yv9ou7x',\n",
    "    'authorization': 'true',\n",
    "    'mindboxDeviceUUID': 'c254fa3f-cfcd-4146-9778-65be21c6a4df',\n",
    "    'directCrm-session': '%7B%22deviceGuid%22%3A%22c254fa3f-cfcd-4146-9778-65be21c6a4df%22%7D',\n",
    "    'auid': '651660ce-a06e-4b17-bd6f-69feaf135b08:1r5lu8:WYtTZugo2xVE6SqAc5ZSp_W-n1s5ztPHYxPs8YIwGQA',\n",
    "    '_ga_G74SVHM1ZG': 'GS1.2.1700824600.19.0.1700824600.60.0.0',\n",
    "    '_ga_GRDJMMMRHQ': 'GS1.2.1700824600.33.0.1700824601.59.0.0',\n",
    "    '_ga_GRSMPDQ6SE': 'GS1.2.1700824598.88.1.1700825516.60.0.0',\n",
    "    '_ga_M9ZHPEJXBM': 'GS1.2.1700824599.88.1.1700825517.60.0.0',\n",
    "    'qr-go-to-the-app-banner': '1',\n",
    "    'sncid': 'b36ee46b-981d-11e5-add2-0050568f2465:1rBa43:O1Wy8KuwGDddSCM7NMHFsjGhdPaqxcjhdblvWWbVams',\n",
    "    'clt': 'new_old',\n",
    "    '_ym_isad': '2',\n",
    "    '_gid': 'GA1.2.2131018395.1702274408',\n",
    "    'city_auto_popup_shown': '1',\n",
    "    '_ym_visorc': 'b',\n",
    "    '_ga': 'GA1.2.333284150.1692163620',\n",
    "    '_ga_HJNSJ6NG5J': 'GS1.1.1702276831.120.1.1702280271.20.0.0',\n",
    "    'digi_uc': 'W1sidiIsIjM0OTMxNCIsMTcwMjI4MTIxMjA0Nl0sWyJ2IiwiODQwMjIiLDE3MDIyODAyMzEzNjZdLFsidiIsIjQ2Nzk3IiwxNzAyMjgwMTI4Mzc3XSxbInYiLCI5OTM3NTQiLDE3MDIyNzgwMTczMjddLFsidiIsIjE0NjUyMSIsMTcwMjI3NzI5NDExM10sWyJ2IiwiOTI2ODAiLDE3MDIyNzY5NDQ1NDRdLFsidiIsIjg4MjEzIiwxNzAxODU5MjE3OTg0XSxbInYiLCI5MTAyMSIsMTcwMTg1OTA2ODA2MF0sWyJ2IiwiOTg3MDUwIiwxNzAxNzc4NDc0NzY5XSxbInYiLCIyNTYyMTciLDE3MDEzNDIzNTc4NTRdXQ==',\n",
    "}\n",
    "\n",
    "headers_discount = {\n",
    "    'AB-TESTS': '{}',\n",
    "    'Accept': 'application/json, text/javascript, */*; q=0.01',\n",
    "    'Accept-Language': 'ru-RU,ru;q=0.9,en-US;q=0.8,en;q=0.7',\n",
    "    'Connection': 'keep-alive',\n",
    "    'Content-Type': 'application/json',\n",
    "    # 'Cookie': 'tmr_lvid=286726132090325c59b36aa6b5e4aeaa; tmr_lvidTS=1692163620235; _ym_uid=1692163620496112993; _ym_d=1692163620; city_id=118; city_name=%D0%A1%D0%B0%D0%BD%D0%BA%D1%82-%D0%9F%D0%B5%D1%82%D0%B5%D1%80%D0%B1%D1%83%D1%80%D0%B3; city_full_name=%D0%A1%D0%B0%D0%BD%D0%BA%D1%82-%D0%9F%D0%B5%D1%82%D0%B5%D1%80%D0%B1%D1%83%D1%80%D0%B3; region_id=090a0c31-3b91-49a3-aa35-0c784898170b; region_name=%D0%A1%D0%B0%D0%BD%D0%BA%D1%82-%D0%9F%D0%B5%D1%82%D0%B5%D1%80%D0%B1%D1%83%D1%80%D0%B3; region_subdomain=spb; _tt_enable_cookie=1; _ttp=tbKEEA3IkGrgdKpaT6-HRNf0K8h; ccart=off; uxs_uid=898ab7e0-3bf5-11ee-8efe-f5b770db12a1; loggedin=%D0%AE%D1%80%D0%B8%D0%B9; cseid=f4935df6bdac0029832e99cef94a5bc2; sessionid=nr24mlml3ze25rk734gkkmgx3yv9ou7x; authorization=true; mindboxDeviceUUID=c254fa3f-cfcd-4146-9778-65be21c6a4df; directCrm-session=%7B%22deviceGuid%22%3A%22c254fa3f-cfcd-4146-9778-65be21c6a4df%22%7D; auid=651660ce-a06e-4b17-bd6f-69feaf135b08:1r5lu8:WYtTZugo2xVE6SqAc5ZSp_W-n1s5ztPHYxPs8YIwGQA; _ga_G74SVHM1ZG=GS1.2.1700824600.19.0.1700824600.60.0.0; _ga_GRDJMMMRHQ=GS1.2.1700824600.33.0.1700824601.59.0.0; _ga_GRSMPDQ6SE=GS1.2.1700824598.88.1.1700825516.60.0.0; _ga_M9ZHPEJXBM=GS1.2.1700824599.88.1.1700825517.60.0.0; qr-go-to-the-app-banner=1; sncid=b36ee46b-981d-11e5-add2-0050568f2465:1rBa43:O1Wy8KuwGDddSCM7NMHFsjGhdPaqxcjhdblvWWbVams; clt=new_old; _ym_isad=2; _gid=GA1.2.2131018395.1702274408; city_auto_popup_shown=1; _ym_visorc=b; _ga=GA1.2.333284150.1692163620; _ga_HJNSJ6NG5J=GS1.1.1702276831.120.1.1702280271.20.0.0; digi_uc=W1sidiIsIjM0OTMxNCIsMTcwMjI4MTIxMjA0Nl0sWyJ2IiwiODQwMjIiLDE3MDIyODAyMzEzNjZdLFsidiIsIjQ2Nzk3IiwxNzAyMjgwMTI4Mzc3XSxbInYiLCI5OTM3NTQiLDE3MDIyNzgwMTczMjddLFsidiIsIjE0NjUyMSIsMTcwMjI3NzI5NDExM10sWyJ2IiwiOTI2ODAiLDE3MDIyNzY5NDQ1NDRdLFsidiIsIjg4MjEzIiwxNzAxODU5MjE3OTg0XSxbInYiLCI5MTAyMSIsMTcwMTg1OTA2ODA2MF0sWyJ2IiwiOTg3MDUwIiwxNzAxNzc4NDc0NzY5XSxbInYiLCIyNTYyMTciLDE3MDEzNDIzNTc4NTRdXQ==',\n",
    "    'Origin': 'https://spb.sunlight.net',\n",
    "    'Sec-Fetch-Dest': 'empty',\n",
    "    'Sec-Fetch-Mode': 'cors',\n",
    "    'Sec-Fetch-Site': 'same-site',\n",
    "    'User-Agent': 'Mozilla/5.0 (Windows NT 10.0; Win64; x64) AppleWebKit/537.36 (KHTML, like Gecko) Chrome/120.0.0.0 Safari/537.36',\n",
    "    'X-Requested-With': 'SunlightFrontendApp',\n",
    "    'sec-ch-ua': '\"Not_A Brand\";v=\"8\", \"Chromium\";v=\"120\", \"Google Chrome\";v=\"120\"',\n",
    "    'sec-ch-ua-mobile': '?0',\n",
    "    'sec-ch-ua-platform': '\"Windows\"',\n",
    "}\n",
    "\n",
    "# params = {\n",
    "#     'article': '35517',\n",
    "#     'city_id': '118',\n",
    "# }\n",
    "\n",
    "# response = requests.get(\n",
    "#     'https://api.sunlight.net/v6/catalog/products/card/purchase/',\n",
    "#     params=params,\n",
    "#     cookies=cookies_discount,\n",
    "#     headers=headers_discount,\n",
    "# )"
   ]
  },
  {
   "cell_type": "markdown",
   "id": "80c71c8e-ef5b-4839-9dfc-1e6182abcd2c",
   "metadata": {},
   "source": [
    "# Сбор скидок и цен"
   ]
  },
  {
   "cell_type": "code",
   "execution_count": 5,
   "id": "544d1d64-1b8a-4c62-a5b4-529f239d6cb5",
   "metadata": {
    "tags": []
   },
   "outputs": [],
   "source": [
    "def get_personal_price(table):\n",
    "    data_price = []\n",
    "    for art in tqdm(range(len(table['article']))):\n",
    "        # prx = choice(proxy_list)\n",
    "        params = {\n",
    "            'article': table['article'][art],\n",
    "            'city_id': '118'\n",
    "        }\n",
    "        try:\n",
    "            price_json = requests.get(\n",
    "                'https://api.sunlight.net/v6/catalog/products/card/prices/',\n",
    "                params=params,\n",
    "                cookies=cookies_discount,\n",
    "                headers=headers_discount,\n",
    "                timeout=15,\n",
    "                verify=False\n",
    "        )\n",
    "        except:\n",
    "            time.sleep(6)\n",
    "            price_json = requests.get(\n",
    "                'https://api.sunlight.net/v6/catalog/products/card/prices/',\n",
    "                params=params,\n",
    "                cookies=cookies_discount,\n",
    "                headers=headers_discount,\n",
    "                timeout=15,\n",
    "                verify=False\n",
    "                            )\n",
    "        try:\n",
    "            discount_json = requests.get(\n",
    "                'https://api.sunlight.net/v6/catalog/products/card/purchase/',\n",
    "                params=params,\n",
    "                cookies=cookies_discount,\n",
    "                headers=headers_discount,\n",
    "                timeout=15,\n",
    "                verify=False\n",
    "                            )\n",
    "        except:\n",
    "            time.sleep(6)\n",
    "            discount_json = requests.get(\n",
    "                'https://api.sunlight.net/v6/catalog/products/card/purchase/',\n",
    "                params=params,\n",
    "                cookies=cookies_discount,\n",
    "                headers=headers_discount,\n",
    "                timeout=15,\n",
    "                verify=False\n",
    "                            )\n",
    "        discount = []\n",
    "        try:\n",
    "            price_old = price_json.json()['content']['default_price']['base_sum']\n",
    "        except:\n",
    "            price_old = np.nan\n",
    "        try:\n",
    "            price = price_json.json()['content']['default_price'][('result_sum')]\n",
    "        except:\n",
    "            price = np.nan\n",
    "        try:\n",
    "            price_personal = price_json.json()['content']['default_price']['personal_block']['value']\n",
    "        except:\n",
    "            price_personal = np.nan\n",
    "\n",
    "        try:\n",
    "            for i in range(len(discount_json.json()['content']['nameplates'])):\n",
    "                discount.append(discount_json.json()['content']['nameplates'][i]['text']['label'])\n",
    "        except:\n",
    "            discount.append(np.nan)\n",
    "            \n",
    "        data_price.append({\n",
    "            'article': table['article'][art],\n",
    "            'price_old': price_old,\n",
    "            'price': price,\n",
    "            'price_personal': price_personal,\n",
    "            'discount': discount\n",
    "\n",
    "        })\n",
    "    return data_price"
   ]
  },
  {
   "cell_type": "markdown",
   "id": "039dc4ab-e90b-422e-a7eb-da872ef9a0cc",
   "metadata": {},
   "source": [
    "# Сбор цены, названия, группы, артикула"
   ]
  },
  {
   "cell_type": "code",
   "execution_count": 6,
   "id": "18788b3a-7f05-42fc-8856-81487b576762",
   "metadata": {},
   "outputs": [],
   "source": [
    "def get_sunlight(soup):\n",
    "    try:\n",
    "        price = soup.find(class_=\"supreme-product-card__price-discount-price\").text\n",
    "        price = re.sub(r'\\D', '', str(price))\n",
    "    except:\n",
    "        price = np.nan\n",
    "    try:\n",
    "        name_product = soup.find('h1', class_=\"supreme-product-card__info-name-title\").text\n",
    "    except:\n",
    "        name_product = np.nan\n",
    "    try:\n",
    "        group_product = soup.find_all('span', {'property': 'name'})[1].text\n",
    "    except:\n",
    "        group_product = np.nan\n",
    "    try:\n",
    "        article_product = soup.find_all('div', class_=\"supreme-product-card__info-name-article\")[0].find('span').text\n",
    "        article_product = re.sub('\\D', '', str(article_product))\n",
    "    except:\n",
    "        article_product = np.nan\n",
    "    return price, name_product, group_product, article_product"
   ]
  },
  {
   "cell_type": "markdown",
   "id": "9147182a-9bbe-4c10-99f5-e7c12cea41ac",
   "metadata": {},
   "source": [
    "# Сбор всех параметров словарем"
   ]
  },
  {
   "cell_type": "code",
   "execution_count": 7,
   "id": "54919764-c77c-48ed-87a7-f0821c4ffbd6",
   "metadata": {
    "tags": []
   },
   "outputs": [],
   "source": [
    "def get_params(soup):\n",
    "    names = []\n",
    "    values = []\n",
    "    leight = len(soup.find_all('span', {'class': 'supreme-product-card-description__item-text'}))\n",
    "    list_names = soup.find_all('div', {'class': 'supreme-product-card-description__item-title'})[-leight:]\n",
    "    for i in range(leight):\n",
    "        try:\n",
    "            nam = list_names[i].text\n",
    "            names.append(nam.replace('\\n', '').strip())\n",
    "        except:\n",
    "            names.append(np.nan)\n",
    "        try:\n",
    "            values.append(soup.find_all('span', {'class': 'supreme-product-card-description__item-text'})[i].text)\n",
    "        except:\n",
    "            values.append(np.nan)\n",
    "    sunlight_params = dict(zip(names, values))\n",
    "    return sunlight_params"
   ]
  },
  {
   "cell_type": "markdown",
   "id": "e3a98a99-7b19-4585-8689-7664e5a26baf",
   "metadata": {
    "tags": []
   },
   "source": [
    "# Сбор ссылок"
   ]
  },
  {
   "cell_type": "code",
   "execution_count": 8,
   "id": "340b4cef-0f0b-4bab-93c0-d2c5c5b79393",
   "metadata": {
    "tags": []
   },
   "outputs": [],
   "source": [
    "def get_links(url_sunlight):\n",
    "    home = 'https://sunlight.net'\n",
    "    links = []\n",
    "    pages_max = 250\n",
    "    pages = int(pages_max + 1)\n",
    "    for i in tqdm(range(1, pages)):\n",
    "        url = f'{url_sunlight}&page={i}'\n",
    "        resp = requests.get(url, headers={'User-Agent': UserAgent().chrome}, verify=False, timeout=70)\n",
    "        soup = BeautifulSoup(resp.text, 'html.parser')\n",
    "        for link in soup.find_all('div', class_=\"cl-item js-cl-item\"):\n",
    "            links.append(home + link.find('a', href=True)['href'])\n",
    "    links = list(map(lambda x: x.replace('#product-reviews', ''), links))\n",
    "    return links"
   ]
  },
  {
   "cell_type": "markdown",
   "id": "3ed459ba-afaf-4562-afd3-38fc8accc435",
   "metadata": {
    "tags": []
   },
   "source": [
    "# Общий сбор данных"
   ]
  },
  {
   "cell_type": "code",
   "execution_count": 9,
   "id": "4ff1e528-5aad-43fa-bb38-7a84fd5871d9",
   "metadata": {
    "tags": []
   },
   "outputs": [],
   "source": [
    "def sunlight_parser(links):\n",
    "    data = []\n",
    "    click = 0\n",
    "    for link_pars in tqdm(links):\n",
    "        # prx = choice(proxy_list)\n",
    "        try:\n",
    "            resp = requests.get(link_pars, headers={'User-Agent': UserAgent().chrome}, timeout=70, verify=False)\n",
    "        except:\n",
    "            time.sleep(6)\n",
    "            resp = requests.get(link_pars, headers={'User-Agent': UserAgent().chrome}, timeout=70, verify=False)\n",
    "        good = BeautifulSoup(resp.text, 'lxml')\n",
    "        data.append({\"date\": current_datetime,\n",
    "                    \"competitor\": \"Sunlight\",\n",
    "                    \"name\": get_sunlight(good)[1],\n",
    "                    \"group\": get_sunlight(good)[2],\n",
    "                    \"params\": get_params(good),\n",
    "                    \"price\": get_sunlight(good)[0],\n",
    "                    \"article\": get_sunlight(good)[3],\n",
    "                    'url': link_pars\n",
    "                    })\n",
    "        if click == 50:\n",
    "            click = 0\n",
    "            time.sleep(0.5)\n",
    "        else:\n",
    "            continue\n",
    "    data = pd.DataFrame(data)\n",
    "    return data"
   ]
  },
  {
   "cell_type": "code",
   "execution_count": 10,
   "id": "c8a8da36-e515-4a32-9e1a-da4b5607da23",
   "metadata": {
    "tags": []
   },
   "outputs": [
    {
     "name": "stderr",
     "output_type": "stream",
     "text": [
      "  0%|          | 0/250 [00:00<?, ?it/s]"
     ]
    },
    {
     "name": "stderr",
     "output_type": "stream",
     "text": [
      "100%|██████████| 250/250 [02:53<00:00,  1.44it/s]\n"
     ]
    }
   ],
   "source": [
    "links_sunlight = get_links('https://spb.sunlight.net/catalog/?proba=2494')"
   ]
  },
  {
   "cell_type": "code",
   "execution_count": 11,
   "id": "814a6cdd",
   "metadata": {},
   "outputs": [],
   "source": [
    "b = pd.DataFrame(links_sunlight)"
   ]
  },
  {
   "cell_type": "code",
   "execution_count": 12,
   "id": "9c932189",
   "metadata": {},
   "outputs": [],
   "source": [
    "b = b.drop_duplicates()"
   ]
  },
  {
   "cell_type": "code",
   "execution_count": 13,
   "id": "bbba5f83",
   "metadata": {},
   "outputs": [],
   "source": [
    "b = b[0].tolist()"
   ]
  },
  {
   "cell_type": "code",
   "execution_count": 14,
   "id": "e448f1c9-0512-4bec-a461-fccb0e3fcf80",
   "metadata": {
    "tags": []
   },
   "outputs": [],
   "source": [
    "slices = 100\n",
    "chunks = np.array_split(b, slices)"
   ]
  },
  {
   "cell_type": "code",
   "execution_count": 15,
   "id": "289e454a-ff1d-4c0c-a012-f3a6427f81df",
   "metadata": {
    "tags": []
   },
   "outputs": [
    {
     "name": "stdout",
     "output_type": "stream",
     "text": [
      "начало парсинга 1 части ссылок\n"
     ]
    },
    {
     "name": "stderr",
     "output_type": "stream",
     "text": [
      "100%|██████████| 137/137 [02:11<00:00,  1.04it/s]\n"
     ]
    },
    {
     "name": "stdout",
     "output_type": "stream",
     "text": [
      "начало парсинга 2 части ссылок\n"
     ]
    },
    {
     "name": "stderr",
     "output_type": "stream",
     "text": [
      "100%|██████████| 137/137 [02:23<00:00,  1.05s/it]\n"
     ]
    },
    {
     "name": "stdout",
     "output_type": "stream",
     "text": [
      "начало парсинга 3 части ссылок\n"
     ]
    },
    {
     "name": "stderr",
     "output_type": "stream",
     "text": [
      "100%|██████████| 137/137 [02:27<00:00,  1.07s/it]\n"
     ]
    },
    {
     "name": "stdout",
     "output_type": "stream",
     "text": [
      "начало парсинга 4 части ссылок\n"
     ]
    },
    {
     "name": "stderr",
     "output_type": "stream",
     "text": [
      "100%|██████████| 137/137 [02:25<00:00,  1.06s/it]\n"
     ]
    },
    {
     "name": "stdout",
     "output_type": "stream",
     "text": [
      "начало парсинга 5 части ссылок\n"
     ]
    },
    {
     "name": "stderr",
     "output_type": "stream",
     "text": [
      "100%|██████████| 137/137 [02:32<00:00,  1.11s/it]\n"
     ]
    },
    {
     "name": "stdout",
     "output_type": "stream",
     "text": [
      "начало парсинга 6 части ссылок\n"
     ]
    },
    {
     "name": "stderr",
     "output_type": "stream",
     "text": [
      "100%|██████████| 137/137 [02:30<00:00,  1.10s/it]\n"
     ]
    },
    {
     "name": "stdout",
     "output_type": "stream",
     "text": [
      "начало парсинга 7 части ссылок\n"
     ]
    },
    {
     "name": "stderr",
     "output_type": "stream",
     "text": [
      "100%|██████████| 137/137 [02:44<00:00,  1.20s/it]\n"
     ]
    },
    {
     "name": "stdout",
     "output_type": "stream",
     "text": [
      "начало парсинга 8 части ссылок\n"
     ]
    },
    {
     "name": "stderr",
     "output_type": "stream",
     "text": [
      "100%|██████████| 137/137 [02:27<00:00,  1.07s/it]\n"
     ]
    },
    {
     "name": "stdout",
     "output_type": "stream",
     "text": [
      "начало парсинга 9 части ссылок\n"
     ]
    },
    {
     "name": "stderr",
     "output_type": "stream",
     "text": [
      "100%|██████████| 137/137 [02:27<00:00,  1.08s/it]\n"
     ]
    },
    {
     "name": "stdout",
     "output_type": "stream",
     "text": [
      "начало парсинга 10 части ссылок\n"
     ]
    },
    {
     "name": "stderr",
     "output_type": "stream",
     "text": [
      "100%|██████████| 137/137 [02:27<00:00,  1.08s/it]\n"
     ]
    },
    {
     "name": "stdout",
     "output_type": "stream",
     "text": [
      "начало парсинга 11 части ссылок\n"
     ]
    },
    {
     "name": "stderr",
     "output_type": "stream",
     "text": [
      "100%|██████████| 137/137 [02:25<00:00,  1.06s/it]\n"
     ]
    },
    {
     "name": "stdout",
     "output_type": "stream",
     "text": [
      "начало парсинга 12 части ссылок\n"
     ]
    },
    {
     "name": "stderr",
     "output_type": "stream",
     "text": [
      "100%|██████████| 137/137 [02:19<00:00,  1.02s/it]\n"
     ]
    },
    {
     "name": "stdout",
     "output_type": "stream",
     "text": [
      "начало парсинга 13 части ссылок\n"
     ]
    },
    {
     "name": "stderr",
     "output_type": "stream",
     "text": [
      "100%|██████████| 137/137 [02:24<00:00,  1.05s/it]\n"
     ]
    },
    {
     "name": "stdout",
     "output_type": "stream",
     "text": [
      "начало парсинга 14 части ссылок\n"
     ]
    },
    {
     "name": "stderr",
     "output_type": "stream",
     "text": [
      "100%|██████████| 137/137 [02:35<00:00,  1.13s/it]\n"
     ]
    },
    {
     "name": "stdout",
     "output_type": "stream",
     "text": [
      "начало парсинга 15 части ссылок\n"
     ]
    },
    {
     "name": "stderr",
     "output_type": "stream",
     "text": [
      "100%|██████████| 137/137 [02:29<00:00,  1.09s/it]\n"
     ]
    },
    {
     "name": "stdout",
     "output_type": "stream",
     "text": [
      "начало парсинга 16 части ссылок\n"
     ]
    },
    {
     "name": "stderr",
     "output_type": "stream",
     "text": [
      "100%|██████████| 137/137 [02:20<00:00,  1.02s/it]\n"
     ]
    },
    {
     "name": "stdout",
     "output_type": "stream",
     "text": [
      "начало парсинга 17 части ссылок\n"
     ]
    },
    {
     "name": "stderr",
     "output_type": "stream",
     "text": [
      "100%|██████████| 137/137 [02:22<00:00,  1.04s/it]\n"
     ]
    },
    {
     "name": "stdout",
     "output_type": "stream",
     "text": [
      "начало парсинга 18 части ссылок\n"
     ]
    },
    {
     "name": "stderr",
     "output_type": "stream",
     "text": [
      "100%|██████████| 137/137 [02:23<00:00,  1.05s/it]\n"
     ]
    },
    {
     "name": "stdout",
     "output_type": "stream",
     "text": [
      "начало парсинга 19 части ссылок\n"
     ]
    },
    {
     "name": "stderr",
     "output_type": "stream",
     "text": [
      "100%|██████████| 137/137 [02:25<00:00,  1.06s/it]\n"
     ]
    },
    {
     "name": "stdout",
     "output_type": "stream",
     "text": [
      "начало парсинга 20 части ссылок\n"
     ]
    },
    {
     "name": "stderr",
     "output_type": "stream",
     "text": [
      "100%|██████████| 137/137 [02:19<00:00,  1.02s/it]\n"
     ]
    },
    {
     "name": "stdout",
     "output_type": "stream",
     "text": [
      "начало парсинга 21 части ссылок\n"
     ]
    },
    {
     "name": "stderr",
     "output_type": "stream",
     "text": [
      "100%|██████████| 137/137 [02:18<00:00,  1.01s/it]\n"
     ]
    },
    {
     "name": "stdout",
     "output_type": "stream",
     "text": [
      "начало парсинга 22 части ссылок\n"
     ]
    },
    {
     "name": "stderr",
     "output_type": "stream",
     "text": [
      "100%|██████████| 137/137 [02:16<00:00,  1.00it/s]\n"
     ]
    },
    {
     "name": "stdout",
     "output_type": "stream",
     "text": [
      "начало парсинга 23 части ссылок\n"
     ]
    },
    {
     "name": "stderr",
     "output_type": "stream",
     "text": [
      "100%|██████████| 137/137 [02:19<00:00,  1.02s/it]\n"
     ]
    },
    {
     "name": "stdout",
     "output_type": "stream",
     "text": [
      "начало парсинга 24 части ссылок\n"
     ]
    },
    {
     "name": "stderr",
     "output_type": "stream",
     "text": [
      "100%|██████████| 137/137 [02:15<00:00,  1.01it/s]\n"
     ]
    },
    {
     "name": "stdout",
     "output_type": "stream",
     "text": [
      "начало парсинга 25 части ссылок\n"
     ]
    },
    {
     "name": "stderr",
     "output_type": "stream",
     "text": [
      "100%|██████████| 137/137 [02:25<00:00,  1.06s/it]\n"
     ]
    },
    {
     "name": "stdout",
     "output_type": "stream",
     "text": [
      "начало парсинга 26 части ссылок\n"
     ]
    },
    {
     "name": "stderr",
     "output_type": "stream",
     "text": [
      "100%|██████████| 137/137 [02:20<00:00,  1.03s/it]\n"
     ]
    },
    {
     "name": "stdout",
     "output_type": "stream",
     "text": [
      "начало парсинга 27 части ссылок\n"
     ]
    },
    {
     "name": "stderr",
     "output_type": "stream",
     "text": [
      "100%|██████████| 137/137 [02:19<00:00,  1.02s/it]\n"
     ]
    },
    {
     "name": "stdout",
     "output_type": "stream",
     "text": [
      "начало парсинга 28 части ссылок\n"
     ]
    },
    {
     "name": "stderr",
     "output_type": "stream",
     "text": [
      "100%|██████████| 137/137 [02:17<00:00,  1.00s/it]\n"
     ]
    },
    {
     "name": "stdout",
     "output_type": "stream",
     "text": [
      "начало парсинга 29 части ссылок\n"
     ]
    },
    {
     "name": "stderr",
     "output_type": "stream",
     "text": [
      "100%|██████████| 137/137 [02:22<00:00,  1.04s/it]\n"
     ]
    },
    {
     "name": "stdout",
     "output_type": "stream",
     "text": [
      "начало парсинга 30 части ссылок\n"
     ]
    },
    {
     "name": "stderr",
     "output_type": "stream",
     "text": [
      "100%|██████████| 137/137 [02:22<00:00,  1.04s/it]\n"
     ]
    },
    {
     "name": "stdout",
     "output_type": "stream",
     "text": [
      "начало парсинга 31 части ссылок\n"
     ]
    },
    {
     "name": "stderr",
     "output_type": "stream",
     "text": [
      "100%|██████████| 137/137 [02:46<00:00,  1.21s/it]\n"
     ]
    },
    {
     "name": "stdout",
     "output_type": "stream",
     "text": [
      "начало парсинга 32 части ссылок\n"
     ]
    },
    {
     "name": "stderr",
     "output_type": "stream",
     "text": [
      "100%|██████████| 137/137 [02:18<00:00,  1.01s/it]\n"
     ]
    },
    {
     "name": "stdout",
     "output_type": "stream",
     "text": [
      "начало парсинга 33 части ссылок\n"
     ]
    },
    {
     "name": "stderr",
     "output_type": "stream",
     "text": [
      "100%|██████████| 137/137 [02:15<00:00,  1.01it/s]\n"
     ]
    },
    {
     "name": "stdout",
     "output_type": "stream",
     "text": [
      "начало парсинга 34 части ссылок\n"
     ]
    },
    {
     "name": "stderr",
     "output_type": "stream",
     "text": [
      "100%|██████████| 137/137 [02:19<00:00,  1.02s/it]\n"
     ]
    },
    {
     "name": "stdout",
     "output_type": "stream",
     "text": [
      "начало парсинга 35 части ссылок\n"
     ]
    },
    {
     "name": "stderr",
     "output_type": "stream",
     "text": [
      "100%|██████████| 137/137 [02:17<00:00,  1.01s/it]\n"
     ]
    },
    {
     "name": "stdout",
     "output_type": "stream",
     "text": [
      "начало парсинга 36 части ссылок\n"
     ]
    },
    {
     "name": "stderr",
     "output_type": "stream",
     "text": [
      "100%|██████████| 137/137 [02:18<00:00,  1.01s/it]\n"
     ]
    },
    {
     "name": "stdout",
     "output_type": "stream",
     "text": [
      "начало парсинга 37 части ссылок\n"
     ]
    },
    {
     "name": "stderr",
     "output_type": "stream",
     "text": [
      "100%|██████████| 137/137 [02:19<00:00,  1.02s/it]\n"
     ]
    },
    {
     "name": "stdout",
     "output_type": "stream",
     "text": [
      "начало парсинга 38 части ссылок\n"
     ]
    },
    {
     "name": "stderr",
     "output_type": "stream",
     "text": [
      "100%|██████████| 137/137 [02:21<00:00,  1.03s/it]\n"
     ]
    },
    {
     "name": "stdout",
     "output_type": "stream",
     "text": [
      "начало парсинга 39 части ссылок\n"
     ]
    },
    {
     "name": "stderr",
     "output_type": "stream",
     "text": [
      "100%|██████████| 137/137 [02:13<00:00,  1.02it/s]\n"
     ]
    },
    {
     "name": "stdout",
     "output_type": "stream",
     "text": [
      "начало парсинга 40 части ссылок\n"
     ]
    },
    {
     "name": "stderr",
     "output_type": "stream",
     "text": [
      "100%|██████████| 137/137 [02:26<00:00,  1.07s/it]\n"
     ]
    },
    {
     "name": "stdout",
     "output_type": "stream",
     "text": [
      "начало парсинга 41 части ссылок\n"
     ]
    },
    {
     "name": "stderr",
     "output_type": "stream",
     "text": [
      "100%|██████████| 137/137 [02:16<00:00,  1.00it/s]\n"
     ]
    },
    {
     "name": "stdout",
     "output_type": "stream",
     "text": [
      "начало парсинга 42 части ссылок\n"
     ]
    },
    {
     "name": "stderr",
     "output_type": "stream",
     "text": [
      "100%|██████████| 137/137 [02:09<00:00,  1.06it/s]\n"
     ]
    },
    {
     "name": "stdout",
     "output_type": "stream",
     "text": [
      "начало парсинга 43 части ссылок\n"
     ]
    },
    {
     "name": "stderr",
     "output_type": "stream",
     "text": [
      "100%|██████████| 137/137 [02:22<00:00,  1.04s/it]\n"
     ]
    },
    {
     "name": "stdout",
     "output_type": "stream",
     "text": [
      "начало парсинга 44 части ссылок\n"
     ]
    },
    {
     "name": "stderr",
     "output_type": "stream",
     "text": [
      "100%|██████████| 137/137 [02:14<00:00,  1.02it/s]\n"
     ]
    },
    {
     "name": "stdout",
     "output_type": "stream",
     "text": [
      "начало парсинга 45 части ссылок\n"
     ]
    },
    {
     "name": "stderr",
     "output_type": "stream",
     "text": [
      "100%|██████████| 137/137 [02:21<00:00,  1.03s/it]\n"
     ]
    },
    {
     "name": "stdout",
     "output_type": "stream",
     "text": [
      "начало парсинга 46 части ссылок\n"
     ]
    },
    {
     "name": "stderr",
     "output_type": "stream",
     "text": [
      "100%|██████████| 137/137 [02:11<00:00,  1.04it/s]\n"
     ]
    },
    {
     "name": "stdout",
     "output_type": "stream",
     "text": [
      "начало парсинга 47 части ссылок\n"
     ]
    },
    {
     "name": "stderr",
     "output_type": "stream",
     "text": [
      "100%|██████████| 137/137 [02:13<00:00,  1.03it/s]\n"
     ]
    },
    {
     "name": "stdout",
     "output_type": "stream",
     "text": [
      "начало парсинга 48 части ссылок\n"
     ]
    },
    {
     "name": "stderr",
     "output_type": "stream",
     "text": [
      "100%|██████████| 137/137 [02:19<00:00,  1.02s/it]\n"
     ]
    },
    {
     "name": "stdout",
     "output_type": "stream",
     "text": [
      "начало парсинга 49 части ссылок\n"
     ]
    },
    {
     "name": "stderr",
     "output_type": "stream",
     "text": [
      "100%|██████████| 137/137 [02:15<00:00,  1.01it/s]\n"
     ]
    },
    {
     "name": "stdout",
     "output_type": "stream",
     "text": [
      "начало парсинга 50 части ссылок\n"
     ]
    },
    {
     "name": "stderr",
     "output_type": "stream",
     "text": [
      "100%|██████████| 137/137 [02:10<00:00,  1.05it/s]\n"
     ]
    },
    {
     "name": "stdout",
     "output_type": "stream",
     "text": [
      "начало парсинга 51 части ссылок\n"
     ]
    },
    {
     "name": "stderr",
     "output_type": "stream",
     "text": [
      "100%|██████████| 137/137 [02:21<00:00,  1.03s/it]\n"
     ]
    },
    {
     "name": "stdout",
     "output_type": "stream",
     "text": [
      "начало парсинга 52 части ссылок\n"
     ]
    },
    {
     "name": "stderr",
     "output_type": "stream",
     "text": [
      "100%|██████████| 137/137 [02:15<00:00,  1.01it/s]\n"
     ]
    },
    {
     "name": "stdout",
     "output_type": "stream",
     "text": [
      "начало парсинга 53 части ссылок\n"
     ]
    },
    {
     "name": "stderr",
     "output_type": "stream",
     "text": [
      "100%|██████████| 137/137 [02:22<00:00,  1.04s/it]\n"
     ]
    },
    {
     "name": "stdout",
     "output_type": "stream",
     "text": [
      "начало парсинга 54 части ссылок\n"
     ]
    },
    {
     "name": "stderr",
     "output_type": "stream",
     "text": [
      "100%|██████████| 137/137 [02:25<00:00,  1.06s/it]\n"
     ]
    },
    {
     "name": "stdout",
     "output_type": "stream",
     "text": [
      "начало парсинга 55 части ссылок\n"
     ]
    },
    {
     "name": "stderr",
     "output_type": "stream",
     "text": [
      "100%|██████████| 137/137 [02:19<00:00,  1.02s/it]\n"
     ]
    },
    {
     "name": "stdout",
     "output_type": "stream",
     "text": [
      "начало парсинга 56 части ссылок\n"
     ]
    },
    {
     "name": "stderr",
     "output_type": "stream",
     "text": [
      "100%|██████████| 137/137 [02:29<00:00,  1.09s/it]\n"
     ]
    },
    {
     "name": "stdout",
     "output_type": "stream",
     "text": [
      "начало парсинга 57 части ссылок\n"
     ]
    },
    {
     "name": "stderr",
     "output_type": "stream",
     "text": [
      "100%|██████████| 137/137 [02:15<00:00,  1.01it/s]\n"
     ]
    },
    {
     "name": "stdout",
     "output_type": "stream",
     "text": [
      "начало парсинга 58 части ссылок\n"
     ]
    },
    {
     "name": "stderr",
     "output_type": "stream",
     "text": [
      "100%|██████████| 137/137 [02:17<00:00,  1.00s/it]\n"
     ]
    },
    {
     "name": "stdout",
     "output_type": "stream",
     "text": [
      "начало парсинга 59 части ссылок\n"
     ]
    },
    {
     "name": "stderr",
     "output_type": "stream",
     "text": [
      "100%|██████████| 137/137 [02:16<00:00,  1.00it/s]\n"
     ]
    },
    {
     "name": "stdout",
     "output_type": "stream",
     "text": [
      "начало парсинга 60 части ссылок\n"
     ]
    },
    {
     "name": "stderr",
     "output_type": "stream",
     "text": [
      "100%|██████████| 137/137 [02:25<00:00,  1.06s/it]\n"
     ]
    },
    {
     "name": "stdout",
     "output_type": "stream",
     "text": [
      "начало парсинга 61 части ссылок\n"
     ]
    },
    {
     "name": "stderr",
     "output_type": "stream",
     "text": [
      "100%|██████████| 137/137 [02:21<00:00,  1.03s/it]\n"
     ]
    },
    {
     "name": "stdout",
     "output_type": "stream",
     "text": [
      "начало парсинга 62 части ссылок\n"
     ]
    },
    {
     "name": "stderr",
     "output_type": "stream",
     "text": [
      "100%|██████████| 137/137 [02:20<00:00,  1.03s/it]\n"
     ]
    },
    {
     "name": "stdout",
     "output_type": "stream",
     "text": [
      "начало парсинга 63 части ссылок\n"
     ]
    },
    {
     "name": "stderr",
     "output_type": "stream",
     "text": [
      "100%|██████████| 137/137 [02:09<00:00,  1.06it/s]\n"
     ]
    },
    {
     "name": "stdout",
     "output_type": "stream",
     "text": [
      "начало парсинга 64 части ссылок\n"
     ]
    },
    {
     "name": "stderr",
     "output_type": "stream",
     "text": [
      "100%|██████████| 137/137 [02:16<00:00,  1.01it/s]\n"
     ]
    },
    {
     "name": "stdout",
     "output_type": "stream",
     "text": [
      "начало парсинга 65 части ссылок\n"
     ]
    },
    {
     "name": "stderr",
     "output_type": "stream",
     "text": [
      "100%|██████████| 137/137 [02:17<00:00,  1.00s/it]\n"
     ]
    },
    {
     "name": "stdout",
     "output_type": "stream",
     "text": [
      "начало парсинга 66 части ссылок\n"
     ]
    },
    {
     "name": "stderr",
     "output_type": "stream",
     "text": [
      "100%|██████████| 137/137 [02:13<00:00,  1.03it/s]\n"
     ]
    },
    {
     "name": "stdout",
     "output_type": "stream",
     "text": [
      "начало парсинга 67 части ссылок\n"
     ]
    },
    {
     "name": "stderr",
     "output_type": "stream",
     "text": [
      "100%|██████████| 137/137 [02:17<00:00,  1.01s/it]\n"
     ]
    },
    {
     "name": "stdout",
     "output_type": "stream",
     "text": [
      "начало парсинга 68 части ссылок\n"
     ]
    },
    {
     "name": "stderr",
     "output_type": "stream",
     "text": [
      "100%|██████████| 137/137 [02:26<00:00,  1.07s/it]\n"
     ]
    },
    {
     "name": "stdout",
     "output_type": "stream",
     "text": [
      "начало парсинга 69 части ссылок\n"
     ]
    },
    {
     "name": "stderr",
     "output_type": "stream",
     "text": [
      "100%|██████████| 137/137 [02:24<00:00,  1.06s/it]\n"
     ]
    },
    {
     "name": "stdout",
     "output_type": "stream",
     "text": [
      "начало парсинга 70 части ссылок\n"
     ]
    },
    {
     "name": "stderr",
     "output_type": "stream",
     "text": [
      "100%|██████████| 137/137 [02:13<00:00,  1.03it/s]\n"
     ]
    },
    {
     "name": "stdout",
     "output_type": "stream",
     "text": [
      "начало парсинга 71 части ссылок\n"
     ]
    },
    {
     "name": "stderr",
     "output_type": "stream",
     "text": [
      "100%|██████████| 137/137 [02:21<00:00,  1.04s/it]\n"
     ]
    },
    {
     "name": "stdout",
     "output_type": "stream",
     "text": [
      "начало парсинга 72 части ссылок\n"
     ]
    },
    {
     "name": "stderr",
     "output_type": "stream",
     "text": [
      "100%|██████████| 137/137 [02:17<00:00,  1.00s/it]\n"
     ]
    },
    {
     "name": "stdout",
     "output_type": "stream",
     "text": [
      "начало парсинга 73 части ссылок\n"
     ]
    },
    {
     "name": "stderr",
     "output_type": "stream",
     "text": [
      "100%|██████████| 136/136 [02:18<00:00,  1.02s/it]\n"
     ]
    },
    {
     "name": "stdout",
     "output_type": "stream",
     "text": [
      "начало парсинга 74 части ссылок\n"
     ]
    },
    {
     "name": "stderr",
     "output_type": "stream",
     "text": [
      "100%|██████████| 136/136 [02:21<00:00,  1.04s/it]\n"
     ]
    },
    {
     "name": "stdout",
     "output_type": "stream",
     "text": [
      "начало парсинга 75 части ссылок\n"
     ]
    },
    {
     "name": "stderr",
     "output_type": "stream",
     "text": [
      "100%|██████████| 136/136 [02:28<00:00,  1.09s/it]\n"
     ]
    },
    {
     "name": "stdout",
     "output_type": "stream",
     "text": [
      "начало парсинга 76 части ссылок\n"
     ]
    },
    {
     "name": "stderr",
     "output_type": "stream",
     "text": [
      "100%|██████████| 136/136 [02:21<00:00,  1.04s/it]\n"
     ]
    },
    {
     "name": "stdout",
     "output_type": "stream",
     "text": [
      "начало парсинга 77 части ссылок\n"
     ]
    },
    {
     "name": "stderr",
     "output_type": "stream",
     "text": [
      "100%|██████████| 136/136 [02:33<00:00,  1.13s/it]\n"
     ]
    },
    {
     "name": "stdout",
     "output_type": "stream",
     "text": [
      "начало парсинга 78 части ссылок\n"
     ]
    },
    {
     "name": "stderr",
     "output_type": "stream",
     "text": [
      "100%|██████████| 136/136 [02:18<00:00,  1.02s/it]\n"
     ]
    },
    {
     "name": "stdout",
     "output_type": "stream",
     "text": [
      "начало парсинга 79 части ссылок\n"
     ]
    },
    {
     "name": "stderr",
     "output_type": "stream",
     "text": [
      "100%|██████████| 136/136 [02:21<00:00,  1.04s/it]\n"
     ]
    },
    {
     "name": "stdout",
     "output_type": "stream",
     "text": [
      "начало парсинга 80 части ссылок\n"
     ]
    },
    {
     "name": "stderr",
     "output_type": "stream",
     "text": [
      "100%|██████████| 136/136 [02:19<00:00,  1.03s/it]\n"
     ]
    },
    {
     "name": "stdout",
     "output_type": "stream",
     "text": [
      "начало парсинга 81 части ссылок\n"
     ]
    },
    {
     "name": "stderr",
     "output_type": "stream",
     "text": [
      "100%|██████████| 136/136 [02:20<00:00,  1.04s/it]\n"
     ]
    },
    {
     "name": "stdout",
     "output_type": "stream",
     "text": [
      "начало парсинга 82 части ссылок\n"
     ]
    },
    {
     "name": "stderr",
     "output_type": "stream",
     "text": [
      "100%|██████████| 136/136 [02:17<00:00,  1.01s/it]\n"
     ]
    },
    {
     "name": "stdout",
     "output_type": "stream",
     "text": [
      "начало парсинга 83 части ссылок\n"
     ]
    },
    {
     "name": "stderr",
     "output_type": "stream",
     "text": [
      "100%|██████████| 136/136 [02:22<00:00,  1.05s/it]\n"
     ]
    },
    {
     "name": "stdout",
     "output_type": "stream",
     "text": [
      "начало парсинга 84 части ссылок\n"
     ]
    },
    {
     "name": "stderr",
     "output_type": "stream",
     "text": [
      "100%|██████████| 136/136 [02:09<00:00,  1.05it/s]\n"
     ]
    },
    {
     "name": "stdout",
     "output_type": "stream",
     "text": [
      "начало парсинга 85 части ссылок\n"
     ]
    },
    {
     "name": "stderr",
     "output_type": "stream",
     "text": [
      "100%|██████████| 136/136 [02:21<00:00,  1.04s/it]\n"
     ]
    },
    {
     "name": "stdout",
     "output_type": "stream",
     "text": [
      "начало парсинга 86 части ссылок\n"
     ]
    },
    {
     "name": "stderr",
     "output_type": "stream",
     "text": [
      "100%|██████████| 136/136 [02:21<00:00,  1.04s/it]\n"
     ]
    },
    {
     "name": "stdout",
     "output_type": "stream",
     "text": [
      "начало парсинга 87 части ссылок\n"
     ]
    },
    {
     "name": "stderr",
     "output_type": "stream",
     "text": [
      "100%|██████████| 136/136 [02:12<00:00,  1.03it/s]\n"
     ]
    },
    {
     "name": "stdout",
     "output_type": "stream",
     "text": [
      "начало парсинга 88 части ссылок\n"
     ]
    },
    {
     "name": "stderr",
     "output_type": "stream",
     "text": [
      "100%|██████████| 136/136 [07:32<00:00,  3.33s/it]\n"
     ]
    },
    {
     "name": "stdout",
     "output_type": "stream",
     "text": [
      "начало парсинга 89 части ссылок\n"
     ]
    },
    {
     "name": "stderr",
     "output_type": "stream",
     "text": [
      "100%|██████████| 136/136 [06:25<00:00,  2.83s/it]\n"
     ]
    },
    {
     "name": "stdout",
     "output_type": "stream",
     "text": [
      "начало парсинга 90 части ссылок\n"
     ]
    },
    {
     "name": "stderr",
     "output_type": "stream",
     "text": [
      "100%|██████████| 136/136 [05:58<00:00,  2.64s/it]\n"
     ]
    },
    {
     "name": "stdout",
     "output_type": "stream",
     "text": [
      "начало парсинга 91 части ссылок\n"
     ]
    },
    {
     "name": "stderr",
     "output_type": "stream",
     "text": [
      "100%|██████████| 136/136 [06:11<00:00,  2.73s/it]\n"
     ]
    },
    {
     "name": "stdout",
     "output_type": "stream",
     "text": [
      "начало парсинга 92 части ссылок\n"
     ]
    },
    {
     "name": "stderr",
     "output_type": "stream",
     "text": [
      "100%|██████████| 136/136 [07:46<00:00,  3.43s/it]\n"
     ]
    },
    {
     "name": "stdout",
     "output_type": "stream",
     "text": [
      "начало парсинга 93 части ссылок\n"
     ]
    },
    {
     "name": "stderr",
     "output_type": "stream",
     "text": [
      "100%|██████████| 136/136 [02:03<00:00,  1.10it/s]\n"
     ]
    },
    {
     "name": "stdout",
     "output_type": "stream",
     "text": [
      "начало парсинга 94 части ссылок\n"
     ]
    },
    {
     "name": "stderr",
     "output_type": "stream",
     "text": [
      "100%|██████████| 136/136 [02:12<00:00,  1.03it/s]\n"
     ]
    },
    {
     "name": "stdout",
     "output_type": "stream",
     "text": [
      "начало парсинга 95 части ссылок\n"
     ]
    },
    {
     "name": "stderr",
     "output_type": "stream",
     "text": [
      "100%|██████████| 136/136 [02:17<00:00,  1.01s/it]\n"
     ]
    },
    {
     "name": "stdout",
     "output_type": "stream",
     "text": [
      "начало парсинга 96 части ссылок\n"
     ]
    },
    {
     "name": "stderr",
     "output_type": "stream",
     "text": [
      "100%|██████████| 136/136 [02:18<00:00,  1.02s/it]\n"
     ]
    },
    {
     "name": "stdout",
     "output_type": "stream",
     "text": [
      "начало парсинга 97 части ссылок\n"
     ]
    },
    {
     "name": "stderr",
     "output_type": "stream",
     "text": [
      "100%|██████████| 136/136 [02:10<00:00,  1.04it/s]\n"
     ]
    },
    {
     "name": "stdout",
     "output_type": "stream",
     "text": [
      "начало парсинга 98 части ссылок\n"
     ]
    },
    {
     "name": "stderr",
     "output_type": "stream",
     "text": [
      "100%|██████████| 136/136 [03:05<00:00,  1.36s/it]\n"
     ]
    },
    {
     "name": "stdout",
     "output_type": "stream",
     "text": [
      "начало парсинга 99 части ссылок\n"
     ]
    },
    {
     "name": "stderr",
     "output_type": "stream",
     "text": [
      "100%|██████████| 136/136 [02:48<00:00,  1.24s/it]\n"
     ]
    },
    {
     "name": "stdout",
     "output_type": "stream",
     "text": [
      "начало парсинга 100 части ссылок\n"
     ]
    },
    {
     "name": "stderr",
     "output_type": "stream",
     "text": [
      "100%|██████████| 136/136 [04:14<00:00,  1.87s/it]\n"
     ]
    }
   ],
   "source": [
    "n = 0\n",
    "for i in range(n, slices):\n",
    "    n += 1\n",
    "    print(f'начало парсинга {n} части ссылок')\n",
    "    df = sunlight_parser(chunks[i])\n",
    "    df.to_csv(rf'{way}\\parsed_data\\sunlight_{day_now}_{month_now}_{n}.csv', index=False)\n",
    "    time.sleep(5)"
   ]
  },
  {
   "cell_type": "code",
   "execution_count": 16,
   "id": "8a8717a9-4841-4b69-8bf6-34f7026bcbb8",
   "metadata": {
    "tags": []
   },
   "outputs": [
    {
     "data": {
      "text/plain": [
       "100"
      ]
     },
     "execution_count": 16,
     "metadata": {},
     "output_type": "execute_result"
    }
   ],
   "source": [
    "os.chdir(rf'{way}\\parsed_data')\n",
    "extension = 'csv'\n",
    "all_filenames = [i for i in glob.glob('*.{}'.format(extension))]\n",
    "len(all_filenames)"
   ]
  },
  {
   "cell_type": "code",
   "execution_count": 17,
   "id": "ad28c4b5-5099-4c80-9921-03acd7d51888",
   "metadata": {
    "tags": []
   },
   "outputs": [],
   "source": [
    "data = pd.DataFrame()\n",
    "for name  in all_filenames:\n",
    "    df = pd.read_csv(name)\n",
    "    data = pd.concat([df, data], ignore_index=True)"
   ]
  },
  {
   "cell_type": "code",
   "execution_count": 18,
   "id": "ebec15b8-284a-45c7-9ab4-61f45b5bf818",
   "metadata": {
    "tags": []
   },
   "outputs": [
    {
     "data": {
      "text/html": [
       "<div>\n",
       "<style scoped>\n",
       "    .dataframe tbody tr th:only-of-type {\n",
       "        vertical-align: middle;\n",
       "    }\n",
       "\n",
       "    .dataframe tbody tr th {\n",
       "        vertical-align: top;\n",
       "    }\n",
       "\n",
       "    .dataframe thead th {\n",
       "        text-align: right;\n",
       "    }\n",
       "</style>\n",
       "<table border=\"1\" class=\"dataframe\">\n",
       "  <thead>\n",
       "    <tr style=\"text-align: right;\">\n",
       "      <th></th>\n",
       "      <th>date</th>\n",
       "      <th>competitor</th>\n",
       "      <th>name</th>\n",
       "      <th>group</th>\n",
       "      <th>params</th>\n",
       "      <th>price</th>\n",
       "      <th>article</th>\n",
       "      <th>url</th>\n",
       "    </tr>\n",
       "  </thead>\n",
       "  <tbody>\n",
       "    <tr>\n",
       "      <th>0</th>\n",
       "      <td>22-07-2024</td>\n",
       "      <td>Sunlight</td>\n",
       "      <td>\\n    Золотое шейное украшение\\n</td>\n",
       "      <td>Шейное украшение</td>\n",
       "      <td>{'Модель': '00496-50-030001-01*', 'Материал из...</td>\n",
       "      <td>49990.0</td>\n",
       "      <td>358923.0</td>\n",
       "      <td>https://sunlight.net/catalog/neck_decoration_3...</td>\n",
       "    </tr>\n",
       "    <tr>\n",
       "      <th>1</th>\n",
       "      <td>22-07-2024</td>\n",
       "      <td>Sunlight</td>\n",
       "      <td>\\n    Золотое шейное украшение с фианитами\\n</td>\n",
       "      <td>Шейное украшение</td>\n",
       "      <td>{'Модель': '00465-50-030006-00*', 'Материал из...</td>\n",
       "      <td>50020.0</td>\n",
       "      <td>358922.0</td>\n",
       "      <td>https://sunlight.net/catalog/neck_decoration_3...</td>\n",
       "    </tr>\n",
       "    <tr>\n",
       "      <th>2</th>\n",
       "      <td>22-07-2024</td>\n",
       "      <td>Sunlight</td>\n",
       "      <td>\\n    Золотое шейное украшение с ситаллами\\n</td>\n",
       "      <td>Шейное украшение</td>\n",
       "      <td>{'Модель': '00504-50-030008-11*', 'Материал из...</td>\n",
       "      <td>79990.0</td>\n",
       "      <td>358634.0</td>\n",
       "      <td>https://sunlight.net/catalog/neck_decoration_3...</td>\n",
       "    </tr>\n",
       "    <tr>\n",
       "      <th>3</th>\n",
       "      <td>22-07-2024</td>\n",
       "      <td>Sunlight</td>\n",
       "      <td>\\n    Золотое шейное украшение\\n</td>\n",
       "      <td>Шейное украшение</td>\n",
       "      <td>{'Модель': '2130001к*', 'Материал изделия': 'Р...</td>\n",
       "      <td>374400.0</td>\n",
       "      <td>358479.0</td>\n",
       "      <td>https://sunlight.net/catalog/neck_decoration_3...</td>\n",
       "    </tr>\n",
       "    <tr>\n",
       "      <th>4</th>\n",
       "      <td>22-07-2024</td>\n",
       "      <td>Sunlight</td>\n",
       "      <td>\\n    Золотое шейное украшение с фианитами\\n</td>\n",
       "      <td>Шейное украшение</td>\n",
       "      <td>{'Модель': '03-3676*', 'Материал изделия': 'Ро...</td>\n",
       "      <td>20480.0</td>\n",
       "      <td>356642.0</td>\n",
       "      <td>https://sunlight.net/catalog/neck_decoration_3...</td>\n",
       "    </tr>\n",
       "    <tr>\n",
       "      <th>...</th>\n",
       "      <td>...</td>\n",
       "      <td>...</td>\n",
       "      <td>...</td>\n",
       "      <td>...</td>\n",
       "      <td>...</td>\n",
       "      <td>...</td>\n",
       "      <td>...</td>\n",
       "      <td>...</td>\n",
       "    </tr>\n",
       "    <tr>\n",
       "      <th>13667</th>\n",
       "      <td>22-07-2024</td>\n",
       "      <td>Sunlight</td>\n",
       "      <td>\\n    Золотое кольцо c бриллиантами\\n</td>\n",
       "      <td>Кольца</td>\n",
       "      <td>{'Модель': '2804-K5W-02', 'Материал изделия': ...</td>\n",
       "      <td>69990.0</td>\n",
       "      <td>58133.0</td>\n",
       "      <td>https://sunlight.net/catalog/ring_58133.html</td>\n",
       "    </tr>\n",
       "    <tr>\n",
       "      <th>13668</th>\n",
       "      <td>22-07-2024</td>\n",
       "      <td>Sunlight</td>\n",
       "      <td>\\n    Золотое кольцо с бриллиантами\\n</td>\n",
       "      <td>Кольца</td>\n",
       "      <td>{'Модель': '7552-K5M-02', 'Материал изделия': ...</td>\n",
       "      <td>44990.0</td>\n",
       "      <td>280238.0</td>\n",
       "      <td>https://sunlight.net/catalog/ring_280238.html</td>\n",
       "    </tr>\n",
       "    <tr>\n",
       "      <th>13669</th>\n",
       "      <td>22-07-2024</td>\n",
       "      <td>Sunlight</td>\n",
       "      <td>\\n    Золотые серьги с бриллиантами\\n</td>\n",
       "      <td>Серьги</td>\n",
       "      <td>{'Модель': '70629-C5W-01', 'Материал изделия':...</td>\n",
       "      <td>12990.0</td>\n",
       "      <td>151456.0</td>\n",
       "      <td>https://sunlight.net/catalog/earring_151456.html</td>\n",
       "    </tr>\n",
       "    <tr>\n",
       "      <th>13670</th>\n",
       "      <td>22-07-2024</td>\n",
       "      <td>Sunlight</td>\n",
       "      <td>\\n    Гайтан с золотым замком\\n</td>\n",
       "      <td>Колье</td>\n",
       "      <td>{'Модель': '73613.1*', 'Материал изделия': 'Те...</td>\n",
       "      <td>12990.0</td>\n",
       "      <td>104816.0</td>\n",
       "      <td>https://sunlight.net/catalog/necklace_104816.html</td>\n",
       "    </tr>\n",
       "    <tr>\n",
       "      <th>13671</th>\n",
       "      <td>22-07-2024</td>\n",
       "      <td>Sunlight</td>\n",
       "      <td>\\n    Золотое кольцо\\n</td>\n",
       "      <td>Кольца</td>\n",
       "      <td>{'Модель': '01Т012119*', 'Материал изделия': '...</td>\n",
       "      <td>25970.0</td>\n",
       "      <td>358514.0</td>\n",
       "      <td>https://sunlight.net/catalog/ring_358514.html</td>\n",
       "    </tr>\n",
       "  </tbody>\n",
       "</table>\n",
       "<p>13672 rows × 8 columns</p>\n",
       "</div>"
      ],
      "text/plain": [
       "             date competitor                                            name  \\\n",
       "0      22-07-2024   Sunlight              \\n    Золотое шейное украшение\\n     \n",
       "1      22-07-2024   Sunlight  \\n    Золотое шейное украшение с фианитами\\n     \n",
       "2      22-07-2024   Sunlight  \\n    Золотое шейное украшение с ситаллами\\n     \n",
       "3      22-07-2024   Sunlight              \\n    Золотое шейное украшение\\n     \n",
       "4      22-07-2024   Sunlight  \\n    Золотое шейное украшение с фианитами\\n     \n",
       "...           ...        ...                                             ...   \n",
       "13667  22-07-2024   Sunlight         \\n    Золотое кольцо c бриллиантами\\n     \n",
       "13668  22-07-2024   Sunlight         \\n    Золотое кольцо с бриллиантами\\n     \n",
       "13669  22-07-2024   Sunlight         \\n    Золотые серьги с бриллиантами\\n     \n",
       "13670  22-07-2024   Sunlight               \\n    Гайтан с золотым замком\\n     \n",
       "13671  22-07-2024   Sunlight                        \\n    Золотое кольцо\\n     \n",
       "\n",
       "                  group                                             params  \\\n",
       "0      Шейное украшение  {'Модель': '00496-50-030001-01*', 'Материал из...   \n",
       "1      Шейное украшение  {'Модель': '00465-50-030006-00*', 'Материал из...   \n",
       "2      Шейное украшение  {'Модель': '00504-50-030008-11*', 'Материал из...   \n",
       "3      Шейное украшение  {'Модель': '2130001к*', 'Материал изделия': 'Р...   \n",
       "4      Шейное украшение  {'Модель': '03-3676*', 'Материал изделия': 'Ро...   \n",
       "...                 ...                                                ...   \n",
       "13667            Кольца  {'Модель': '2804-K5W-02', 'Материал изделия': ...   \n",
       "13668            Кольца  {'Модель': '7552-K5M-02', 'Материал изделия': ...   \n",
       "13669            Серьги  {'Модель': '70629-C5W-01', 'Материал изделия':...   \n",
       "13670             Колье  {'Модель': '73613.1*', 'Материал изделия': 'Те...   \n",
       "13671            Кольца  {'Модель': '01Т012119*', 'Материал изделия': '...   \n",
       "\n",
       "          price   article                                                url  \n",
       "0       49990.0  358923.0  https://sunlight.net/catalog/neck_decoration_3...  \n",
       "1       50020.0  358922.0  https://sunlight.net/catalog/neck_decoration_3...  \n",
       "2       79990.0  358634.0  https://sunlight.net/catalog/neck_decoration_3...  \n",
       "3      374400.0  358479.0  https://sunlight.net/catalog/neck_decoration_3...  \n",
       "4       20480.0  356642.0  https://sunlight.net/catalog/neck_decoration_3...  \n",
       "...         ...       ...                                                ...  \n",
       "13667   69990.0   58133.0       https://sunlight.net/catalog/ring_58133.html  \n",
       "13668   44990.0  280238.0      https://sunlight.net/catalog/ring_280238.html  \n",
       "13669   12990.0  151456.0   https://sunlight.net/catalog/earring_151456.html  \n",
       "13670   12990.0  104816.0  https://sunlight.net/catalog/necklace_104816.html  \n",
       "13671   25970.0  358514.0      https://sunlight.net/catalog/ring_358514.html  \n",
       "\n",
       "[13672 rows x 8 columns]"
      ]
     },
     "execution_count": 18,
     "metadata": {},
     "output_type": "execute_result"
    }
   ],
   "source": [
    "data"
   ]
  },
  {
   "cell_type": "code",
   "execution_count": 19,
   "id": "519c7daa",
   "metadata": {},
   "outputs": [],
   "source": [
    "data.to_csv(rf'{way}\\data_without_price.csv', index = False)"
   ]
  },
  {
   "cell_type": "code",
   "execution_count": 20,
   "id": "d4a7b5de",
   "metadata": {},
   "outputs": [],
   "source": [
    "# data = pd.read_csv(r'C:\\Users\\Trenkin.Sergey\\Desktop\\parsers\\sunlight_current_data\\data_without_price.csv')"
   ]
  },
  {
   "cell_type": "code",
   "execution_count": 21,
   "id": "58337692-5eb6-4eb5-9115-f144d8abbb81",
   "metadata": {
    "tags": []
   },
   "outputs": [
    {
     "name": "stdout",
     "output_type": "stream",
     "text": [
      "<class 'pandas.core.frame.DataFrame'>\n",
      "RangeIndex: 13672 entries, 0 to 13671\n",
      "Data columns (total 8 columns):\n",
      " #   Column      Non-Null Count  Dtype  \n",
      "---  ------      --------------  -----  \n",
      " 0   date        13672 non-null  object \n",
      " 1   competitor  13672 non-null  object \n",
      " 2   name        13665 non-null  object \n",
      " 3   group       13665 non-null  object \n",
      " 4   params      13672 non-null  object \n",
      " 5   price       13665 non-null  float64\n",
      " 6   article     13665 non-null  float64\n",
      " 7   url         13672 non-null  object \n",
      "dtypes: float64(2), object(6)\n",
      "memory usage: 854.6+ KB\n"
     ]
    }
   ],
   "source": [
    "data.info()"
   ]
  },
  {
   "cell_type": "code",
   "execution_count": 22,
   "id": "8417ea87-4b5c-4a25-adab-ea9dc6aa14c4",
   "metadata": {
    "tags": []
   },
   "outputs": [
    {
     "data": {
      "text/plain": [
       "0"
      ]
     },
     "execution_count": 22,
     "metadata": {},
     "output_type": "execute_result"
    }
   ],
   "source": [
    "data.duplicated().sum()"
   ]
  },
  {
   "cell_type": "code",
   "execution_count": 23,
   "id": "0b84a2f7-e088-4e35-b146-8e062b70017c",
   "metadata": {
    "tags": []
   },
   "outputs": [],
   "source": [
    "data = data.drop_duplicates()"
   ]
  },
  {
   "cell_type": "code",
   "execution_count": 24,
   "id": "6d3ae069-d73d-479d-aade-bf0c7a7af635",
   "metadata": {
    "tags": []
   },
   "outputs": [
    {
     "data": {
      "text/plain": [
       "0"
      ]
     },
     "execution_count": 24,
     "metadata": {},
     "output_type": "execute_result"
    }
   ],
   "source": [
    "data.duplicated().sum()"
   ]
  },
  {
   "cell_type": "code",
   "execution_count": 25,
   "id": "e18e867c-20ea-4daf-ac9c-c782afdb958a",
   "metadata": {
    "tags": []
   },
   "outputs": [
    {
     "data": {
      "text/plain": [
       "7"
      ]
     },
     "execution_count": 25,
     "metadata": {},
     "output_type": "execute_result"
    }
   ],
   "source": [
    "data['article'].isna().sum()"
   ]
  },
  {
   "cell_type": "code",
   "execution_count": 26,
   "id": "73e88350-0df1-4eaa-ac9c-5c898b1b55ce",
   "metadata": {
    "tags": []
   },
   "outputs": [],
   "source": [
    "data = data.dropna()"
   ]
  },
  {
   "cell_type": "code",
   "execution_count": 27,
   "id": "a64bce96-cffd-49ed-a32e-fcc4e915c981",
   "metadata": {
    "tags": []
   },
   "outputs": [],
   "source": [
    "data['article'] = data['article'].astype('int') "
   ]
  },
  {
   "cell_type": "code",
   "execution_count": 28,
   "id": "391d8621",
   "metadata": {},
   "outputs": [
    {
     "name": "stdout",
     "output_type": "stream",
     "text": [
      "<class 'pandas.core.frame.DataFrame'>\n",
      "Index: 13665 entries, 0 to 13671\n",
      "Data columns (total 8 columns):\n",
      " #   Column      Non-Null Count  Dtype  \n",
      "---  ------      --------------  -----  \n",
      " 0   date        13665 non-null  object \n",
      " 1   competitor  13665 non-null  object \n",
      " 2   name        13665 non-null  object \n",
      " 3   group       13665 non-null  object \n",
      " 4   params      13665 non-null  object \n",
      " 5   price       13665 non-null  float64\n",
      " 6   article     13665 non-null  int32  \n",
      " 7   url         13665 non-null  object \n",
      "dtypes: float64(1), int32(1), object(6)\n",
      "memory usage: 907.4+ KB\n"
     ]
    }
   ],
   "source": [
    "data.info()"
   ]
  },
  {
   "cell_type": "code",
   "execution_count": 29,
   "id": "392c3f10-6d77-45d5-ba86-f7f7d8299399",
   "metadata": {
    "tags": []
   },
   "outputs": [],
   "source": [
    "test = np.array_split(data, 20)"
   ]
  },
  {
   "cell_type": "code",
   "execution_count": 30,
   "id": "47fc7bb9",
   "metadata": {},
   "outputs": [
    {
     "data": {
      "text/html": [
       "<div>\n",
       "<style scoped>\n",
       "    .dataframe tbody tr th:only-of-type {\n",
       "        vertical-align: middle;\n",
       "    }\n",
       "\n",
       "    .dataframe tbody tr th {\n",
       "        vertical-align: top;\n",
       "    }\n",
       "\n",
       "    .dataframe thead th {\n",
       "        text-align: right;\n",
       "    }\n",
       "</style>\n",
       "<table border=\"1\" class=\"dataframe\">\n",
       "  <thead>\n",
       "    <tr style=\"text-align: right;\">\n",
       "      <th></th>\n",
       "      <th>date</th>\n",
       "      <th>competitor</th>\n",
       "      <th>name</th>\n",
       "      <th>group</th>\n",
       "      <th>params</th>\n",
       "      <th>price</th>\n",
       "      <th>article</th>\n",
       "      <th>url</th>\n",
       "    </tr>\n",
       "  </thead>\n",
       "  <tbody>\n",
       "    <tr>\n",
       "      <th>0</th>\n",
       "      <td>22-07-2024</td>\n",
       "      <td>Sunlight</td>\n",
       "      <td>\\n    Золотое шейное украшение\\n</td>\n",
       "      <td>Шейное украшение</td>\n",
       "      <td>{'Модель': '00496-50-030001-01*', 'Материал из...</td>\n",
       "      <td>49990.0</td>\n",
       "      <td>358923</td>\n",
       "      <td>https://sunlight.net/catalog/neck_decoration_3...</td>\n",
       "    </tr>\n",
       "    <tr>\n",
       "      <th>1</th>\n",
       "      <td>22-07-2024</td>\n",
       "      <td>Sunlight</td>\n",
       "      <td>\\n    Золотое шейное украшение с фианитами\\n</td>\n",
       "      <td>Шейное украшение</td>\n",
       "      <td>{'Модель': '00465-50-030006-00*', 'Материал из...</td>\n",
       "      <td>50020.0</td>\n",
       "      <td>358922</td>\n",
       "      <td>https://sunlight.net/catalog/neck_decoration_3...</td>\n",
       "    </tr>\n",
       "    <tr>\n",
       "      <th>2</th>\n",
       "      <td>22-07-2024</td>\n",
       "      <td>Sunlight</td>\n",
       "      <td>\\n    Золотое шейное украшение с ситаллами\\n</td>\n",
       "      <td>Шейное украшение</td>\n",
       "      <td>{'Модель': '00504-50-030008-11*', 'Материал из...</td>\n",
       "      <td>79990.0</td>\n",
       "      <td>358634</td>\n",
       "      <td>https://sunlight.net/catalog/neck_decoration_3...</td>\n",
       "    </tr>\n",
       "    <tr>\n",
       "      <th>3</th>\n",
       "      <td>22-07-2024</td>\n",
       "      <td>Sunlight</td>\n",
       "      <td>\\n    Золотое шейное украшение\\n</td>\n",
       "      <td>Шейное украшение</td>\n",
       "      <td>{'Модель': '2130001к*', 'Материал изделия': 'Р...</td>\n",
       "      <td>374400.0</td>\n",
       "      <td>358479</td>\n",
       "      <td>https://sunlight.net/catalog/neck_decoration_3...</td>\n",
       "    </tr>\n",
       "    <tr>\n",
       "      <th>4</th>\n",
       "      <td>22-07-2024</td>\n",
       "      <td>Sunlight</td>\n",
       "      <td>\\n    Золотое шейное украшение с фианитами\\n</td>\n",
       "      <td>Шейное украшение</td>\n",
       "      <td>{'Модель': '03-3676*', 'Материал изделия': 'Ро...</td>\n",
       "      <td>20480.0</td>\n",
       "      <td>356642</td>\n",
       "      <td>https://sunlight.net/catalog/neck_decoration_3...</td>\n",
       "    </tr>\n",
       "    <tr>\n",
       "      <th>...</th>\n",
       "      <td>...</td>\n",
       "      <td>...</td>\n",
       "      <td>...</td>\n",
       "      <td>...</td>\n",
       "      <td>...</td>\n",
       "      <td>...</td>\n",
       "      <td>...</td>\n",
       "      <td>...</td>\n",
       "    </tr>\n",
       "    <tr>\n",
       "      <th>679</th>\n",
       "      <td>22-07-2024</td>\n",
       "      <td>Sunlight</td>\n",
       "      <td>\\n    Золотые серьги с фианитами\\n</td>\n",
       "      <td>Серьги</td>\n",
       "      <td>{'Модель': '34-52-0642-00*', 'Материал изделия...</td>\n",
       "      <td>15990.0</td>\n",
       "      <td>167767</td>\n",
       "      <td>https://sunlight.net/catalog/earring_167767.html</td>\n",
       "    </tr>\n",
       "    <tr>\n",
       "      <th>680</th>\n",
       "      <td>22-07-2024</td>\n",
       "      <td>Sunlight</td>\n",
       "      <td>\\n    Золотые серьги с бриллиантами\\n</td>\n",
       "      <td>Серьги</td>\n",
       "      <td>{'Модель': 'С-14021', 'Материал изделия': 'Жел...</td>\n",
       "      <td>159990.0</td>\n",
       "      <td>100297</td>\n",
       "      <td>https://sunlight.net/catalog/earring_100297.html</td>\n",
       "    </tr>\n",
       "    <tr>\n",
       "      <th>681</th>\n",
       "      <td>22-07-2024</td>\n",
       "      <td>Sunlight</td>\n",
       "      <td>\\n    Золотое кольцо с бриллиантами\\n</td>\n",
       "      <td>Кольца</td>\n",
       "      <td>{'Модель': '20025-K5R-01', 'Материал изделия':...</td>\n",
       "      <td>59990.0</td>\n",
       "      <td>92924</td>\n",
       "      <td>https://sunlight.net/catalog/ring_92924.html</td>\n",
       "    </tr>\n",
       "    <tr>\n",
       "      <th>682</th>\n",
       "      <td>22-07-2024</td>\n",
       "      <td>Sunlight</td>\n",
       "      <td>\\n    Золотое кольцо с бриллиантами\\n</td>\n",
       "      <td>Кольца</td>\n",
       "      <td>{'Модель': '01-2443 Р', 'Материал изделия': 'Р...</td>\n",
       "      <td>79990.0</td>\n",
       "      <td>61538</td>\n",
       "      <td>https://sunlight.net/catalog/ring_61538.html</td>\n",
       "    </tr>\n",
       "    <tr>\n",
       "      <th>683</th>\n",
       "      <td>22-07-2024</td>\n",
       "      <td>Sunlight</td>\n",
       "      <td>\\n    Золотая цепь\\n</td>\n",
       "      <td>Цепи</td>\n",
       "      <td>{'Модель': 'Т1030500145*', 'Материал изделия':...</td>\n",
       "      <td>16927.0</td>\n",
       "      <td>53387</td>\n",
       "      <td>https://sunlight.net/catalog/chains_53387.html</td>\n",
       "    </tr>\n",
       "  </tbody>\n",
       "</table>\n",
       "<p>684 rows × 8 columns</p>\n",
       "</div>"
      ],
      "text/plain": [
       "           date competitor                                            name  \\\n",
       "0    22-07-2024   Sunlight              \\n    Золотое шейное украшение\\n     \n",
       "1    22-07-2024   Sunlight  \\n    Золотое шейное украшение с фианитами\\n     \n",
       "2    22-07-2024   Sunlight  \\n    Золотое шейное украшение с ситаллами\\n     \n",
       "3    22-07-2024   Sunlight              \\n    Золотое шейное украшение\\n     \n",
       "4    22-07-2024   Sunlight  \\n    Золотое шейное украшение с фианитами\\n     \n",
       "..          ...        ...                                             ...   \n",
       "679  22-07-2024   Sunlight            \\n    Золотые серьги с фианитами\\n     \n",
       "680  22-07-2024   Sunlight         \\n    Золотые серьги с бриллиантами\\n     \n",
       "681  22-07-2024   Sunlight         \\n    Золотое кольцо с бриллиантами\\n     \n",
       "682  22-07-2024   Sunlight         \\n    Золотое кольцо с бриллиантами\\n     \n",
       "683  22-07-2024   Sunlight                          \\n    Золотая цепь\\n     \n",
       "\n",
       "                group                                             params  \\\n",
       "0    Шейное украшение  {'Модель': '00496-50-030001-01*', 'Материал из...   \n",
       "1    Шейное украшение  {'Модель': '00465-50-030006-00*', 'Материал из...   \n",
       "2    Шейное украшение  {'Модель': '00504-50-030008-11*', 'Материал из...   \n",
       "3    Шейное украшение  {'Модель': '2130001к*', 'Материал изделия': 'Р...   \n",
       "4    Шейное украшение  {'Модель': '03-3676*', 'Материал изделия': 'Ро...   \n",
       "..                ...                                                ...   \n",
       "679            Серьги  {'Модель': '34-52-0642-00*', 'Материал изделия...   \n",
       "680            Серьги  {'Модель': 'С-14021', 'Материал изделия': 'Жел...   \n",
       "681            Кольца  {'Модель': '20025-K5R-01', 'Материал изделия':...   \n",
       "682            Кольца  {'Модель': '01-2443 Р', 'Материал изделия': 'Р...   \n",
       "683              Цепи  {'Модель': 'Т1030500145*', 'Материал изделия':...   \n",
       "\n",
       "        price  article                                                url  \n",
       "0     49990.0   358923  https://sunlight.net/catalog/neck_decoration_3...  \n",
       "1     50020.0   358922  https://sunlight.net/catalog/neck_decoration_3...  \n",
       "2     79990.0   358634  https://sunlight.net/catalog/neck_decoration_3...  \n",
       "3    374400.0   358479  https://sunlight.net/catalog/neck_decoration_3...  \n",
       "4     20480.0   356642  https://sunlight.net/catalog/neck_decoration_3...  \n",
       "..        ...      ...                                                ...  \n",
       "679   15990.0   167767   https://sunlight.net/catalog/earring_167767.html  \n",
       "680  159990.0   100297   https://sunlight.net/catalog/earring_100297.html  \n",
       "681   59990.0    92924       https://sunlight.net/catalog/ring_92924.html  \n",
       "682   79990.0    61538       https://sunlight.net/catalog/ring_61538.html  \n",
       "683   16927.0    53387     https://sunlight.net/catalog/chains_53387.html  \n",
       "\n",
       "[684 rows x 8 columns]"
      ]
     },
     "execution_count": 30,
     "metadata": {},
     "output_type": "execute_result"
    }
   ],
   "source": [
    "test[0]"
   ]
  },
  {
   "cell_type": "code",
   "execution_count": 31,
   "id": "2fff3cdb-166e-4363-a351-a3d39062e012",
   "metadata": {
    "tags": []
   },
   "outputs": [
    {
     "name": "stdout",
     "output_type": "stream",
     "text": [
      "начало парсинга 1 части ссылок\n"
     ]
    },
    {
     "name": "stderr",
     "output_type": "stream",
     "text": [
      "100%|██████████| 684/684 [07:19<00:00,  1.56it/s]\n"
     ]
    },
    {
     "name": "stdout",
     "output_type": "stream",
     "text": [
      "начало парсинга 2 части ссылок\n"
     ]
    },
    {
     "name": "stderr",
     "output_type": "stream",
     "text": [
      "100%|██████████| 684/684 [07:11<00:00,  1.58it/s]\n"
     ]
    },
    {
     "name": "stdout",
     "output_type": "stream",
     "text": [
      "начало парсинга 3 части ссылок\n"
     ]
    },
    {
     "name": "stderr",
     "output_type": "stream",
     "text": [
      "100%|██████████| 684/684 [07:44<00:00,  1.47it/s]\n"
     ]
    },
    {
     "name": "stdout",
     "output_type": "stream",
     "text": [
      "начало парсинга 4 части ссылок\n"
     ]
    },
    {
     "name": "stderr",
     "output_type": "stream",
     "text": [
      "100%|██████████| 684/684 [07:19<00:00,  1.56it/s]\n"
     ]
    },
    {
     "name": "stdout",
     "output_type": "stream",
     "text": [
      "начало парсинга 5 части ссылок\n"
     ]
    },
    {
     "name": "stderr",
     "output_type": "stream",
     "text": [
      "100%|██████████| 684/684 [07:27<00:00,  1.53it/s]\n"
     ]
    },
    {
     "name": "stdout",
     "output_type": "stream",
     "text": [
      "начало парсинга 6 части ссылок\n"
     ]
    },
    {
     "name": "stderr",
     "output_type": "stream",
     "text": [
      "100%|██████████| 683/683 [08:03<00:00,  1.41it/s]\n"
     ]
    },
    {
     "name": "stdout",
     "output_type": "stream",
     "text": [
      "начало парсинга 7 части ссылок\n"
     ]
    },
    {
     "name": "stderr",
     "output_type": "stream",
     "text": [
      "100%|██████████| 683/683 [08:03<00:00,  1.41it/s]\n"
     ]
    },
    {
     "name": "stdout",
     "output_type": "stream",
     "text": [
      "начало парсинга 8 части ссылок\n"
     ]
    },
    {
     "name": "stderr",
     "output_type": "stream",
     "text": [
      "100%|██████████| 683/683 [08:00<00:00,  1.42it/s]\n"
     ]
    },
    {
     "name": "stdout",
     "output_type": "stream",
     "text": [
      "начало парсинга 9 части ссылок\n"
     ]
    },
    {
     "name": "stderr",
     "output_type": "stream",
     "text": [
      "100%|██████████| 683/683 [08:19<00:00,  1.37it/s]\n"
     ]
    },
    {
     "name": "stdout",
     "output_type": "stream",
     "text": [
      "начало парсинга 10 части ссылок\n"
     ]
    },
    {
     "name": "stderr",
     "output_type": "stream",
     "text": [
      "100%|██████████| 683/683 [08:05<00:00,  1.41it/s]\n"
     ]
    },
    {
     "name": "stdout",
     "output_type": "stream",
     "text": [
      "начало парсинга 11 части ссылок\n"
     ]
    },
    {
     "name": "stderr",
     "output_type": "stream",
     "text": [
      "100%|██████████| 683/683 [08:15<00:00,  1.38it/s]\n"
     ]
    },
    {
     "name": "stdout",
     "output_type": "stream",
     "text": [
      "начало парсинга 12 части ссылок\n"
     ]
    },
    {
     "name": "stderr",
     "output_type": "stream",
     "text": [
      "100%|██████████| 683/683 [08:07<00:00,  1.40it/s]\n"
     ]
    },
    {
     "name": "stdout",
     "output_type": "stream",
     "text": [
      "начало парсинга 13 части ссылок\n"
     ]
    },
    {
     "name": "stderr",
     "output_type": "stream",
     "text": [
      "100%|██████████| 683/683 [08:09<00:00,  1.39it/s]  \n"
     ]
    },
    {
     "name": "stdout",
     "output_type": "stream",
     "text": [
      "начало парсинга 14 части ссылок\n"
     ]
    },
    {
     "name": "stderr",
     "output_type": "stream",
     "text": [
      "100%|██████████| 683/683 [08:16<00:00,  1.37it/s]\n"
     ]
    },
    {
     "name": "stdout",
     "output_type": "stream",
     "text": [
      "начало парсинга 15 части ссылок\n"
     ]
    },
    {
     "name": "stderr",
     "output_type": "stream",
     "text": [
      "100%|██████████| 683/683 [08:00<00:00,  1.42it/s]\n"
     ]
    },
    {
     "name": "stdout",
     "output_type": "stream",
     "text": [
      "начало парсинга 16 части ссылок\n"
     ]
    },
    {
     "name": "stderr",
     "output_type": "stream",
     "text": [
      "100%|██████████| 683/683 [08:12<00:00,  1.39it/s]\n"
     ]
    },
    {
     "name": "stdout",
     "output_type": "stream",
     "text": [
      "начало парсинга 17 части ссылок\n"
     ]
    },
    {
     "name": "stderr",
     "output_type": "stream",
     "text": [
      "100%|██████████| 683/683 [08:02<00:00,  1.41it/s]\n"
     ]
    },
    {
     "name": "stdout",
     "output_type": "stream",
     "text": [
      "начало парсинга 18 части ссылок\n"
     ]
    },
    {
     "name": "stderr",
     "output_type": "stream",
     "text": [
      "100%|██████████| 683/683 [08:36<00:00,  1.32it/s]\n"
     ]
    },
    {
     "name": "stdout",
     "output_type": "stream",
     "text": [
      "начало парсинга 19 части ссылок\n"
     ]
    },
    {
     "name": "stderr",
     "output_type": "stream",
     "text": [
      "100%|██████████| 683/683 [08:33<00:00,  1.33it/s]\n"
     ]
    },
    {
     "name": "stdout",
     "output_type": "stream",
     "text": [
      "начало парсинга 20 части ссылок\n"
     ]
    },
    {
     "name": "stderr",
     "output_type": "stream",
     "text": [
      "100%|██████████| 683/683 [08:42<00:00,  1.31it/s]\n"
     ]
    }
   ],
   "source": [
    "way = r'C:\\Users\\Trenkin.Sergey\\Desktop\\notebooks\\sunlight\\parsed_data'\n",
    "n = 0\n",
    "for i in range(n, 20):\n",
    "    n += 1\n",
    "    print(f'начало парсинга {n} части ссылок')\n",
    "    df = get_personal_price(test[i].reset_index())\n",
    "    df = pd.DataFrame(df)\n",
    "    df.to_csv(rf'{way}\\\\' + f'sunlight_all_data_{day_now}_{month_now}_{n}.csv', index=False)\n",
    "    time.sleep(5)"
   ]
  },
  {
   "cell_type": "code",
   "execution_count": 32,
   "id": "1cc1c7e9",
   "metadata": {},
   "outputs": [
    {
     "data": {
      "text/plain": [
       "20"
      ]
     },
     "execution_count": 32,
     "metadata": {},
     "output_type": "execute_result"
    }
   ],
   "source": [
    "os.chdir(r'C:\\Users\\Trenkin.Sergey\\Desktop\\notebooks\\sunlight\\parsed_data')\n",
    "extension = 'csv'\n",
    "all_filenames = [i for i in glob.glob('sunlight_all_data*.{}'.format(extension))]\n",
    "len(all_filenames)"
   ]
  },
  {
   "cell_type": "code",
   "execution_count": 33,
   "id": "35b46694",
   "metadata": {},
   "outputs": [
    {
     "data": {
      "text/html": [
       "<div>\n",
       "<style scoped>\n",
       "    .dataframe tbody tr th:only-of-type {\n",
       "        vertical-align: middle;\n",
       "    }\n",
       "\n",
       "    .dataframe tbody tr th {\n",
       "        vertical-align: top;\n",
       "    }\n",
       "\n",
       "    .dataframe thead th {\n",
       "        text-align: right;\n",
       "    }\n",
       "</style>\n",
       "<table border=\"1\" class=\"dataframe\">\n",
       "  <thead>\n",
       "    <tr style=\"text-align: right;\">\n",
       "      <th></th>\n",
       "      <th>date</th>\n",
       "      <th>competitor</th>\n",
       "      <th>name</th>\n",
       "      <th>group</th>\n",
       "      <th>params</th>\n",
       "      <th>price</th>\n",
       "      <th>article</th>\n",
       "      <th>url</th>\n",
       "    </tr>\n",
       "  </thead>\n",
       "  <tbody>\n",
       "    <tr>\n",
       "      <th>0</th>\n",
       "      <td>22-07-2024</td>\n",
       "      <td>Sunlight</td>\n",
       "      <td>\\n    Золотое шейное украшение\\n</td>\n",
       "      <td>Шейное украшение</td>\n",
       "      <td>{'Модель': '00496-50-030001-01*', 'Материал из...</td>\n",
       "      <td>49990.0</td>\n",
       "      <td>358923</td>\n",
       "      <td>https://sunlight.net/catalog/neck_decoration_3...</td>\n",
       "    </tr>\n",
       "    <tr>\n",
       "      <th>1</th>\n",
       "      <td>22-07-2024</td>\n",
       "      <td>Sunlight</td>\n",
       "      <td>\\n    Золотое шейное украшение с фианитами\\n</td>\n",
       "      <td>Шейное украшение</td>\n",
       "      <td>{'Модель': '00465-50-030006-00*', 'Материал из...</td>\n",
       "      <td>50020.0</td>\n",
       "      <td>358922</td>\n",
       "      <td>https://sunlight.net/catalog/neck_decoration_3...</td>\n",
       "    </tr>\n",
       "    <tr>\n",
       "      <th>2</th>\n",
       "      <td>22-07-2024</td>\n",
       "      <td>Sunlight</td>\n",
       "      <td>\\n    Золотое шейное украшение с ситаллами\\n</td>\n",
       "      <td>Шейное украшение</td>\n",
       "      <td>{'Модель': '00504-50-030008-11*', 'Материал из...</td>\n",
       "      <td>79990.0</td>\n",
       "      <td>358634</td>\n",
       "      <td>https://sunlight.net/catalog/neck_decoration_3...</td>\n",
       "    </tr>\n",
       "    <tr>\n",
       "      <th>3</th>\n",
       "      <td>22-07-2024</td>\n",
       "      <td>Sunlight</td>\n",
       "      <td>\\n    Золотое шейное украшение\\n</td>\n",
       "      <td>Шейное украшение</td>\n",
       "      <td>{'Модель': '2130001к*', 'Материал изделия': 'Р...</td>\n",
       "      <td>374400.0</td>\n",
       "      <td>358479</td>\n",
       "      <td>https://sunlight.net/catalog/neck_decoration_3...</td>\n",
       "    </tr>\n",
       "    <tr>\n",
       "      <th>4</th>\n",
       "      <td>22-07-2024</td>\n",
       "      <td>Sunlight</td>\n",
       "      <td>\\n    Золотое шейное украшение с фианитами\\n</td>\n",
       "      <td>Шейное украшение</td>\n",
       "      <td>{'Модель': '03-3676*', 'Материал изделия': 'Ро...</td>\n",
       "      <td>20480.0</td>\n",
       "      <td>356642</td>\n",
       "      <td>https://sunlight.net/catalog/neck_decoration_3...</td>\n",
       "    </tr>\n",
       "    <tr>\n",
       "      <th>...</th>\n",
       "      <td>...</td>\n",
       "      <td>...</td>\n",
       "      <td>...</td>\n",
       "      <td>...</td>\n",
       "      <td>...</td>\n",
       "      <td>...</td>\n",
       "      <td>...</td>\n",
       "      <td>...</td>\n",
       "    </tr>\n",
       "    <tr>\n",
       "      <th>13667</th>\n",
       "      <td>22-07-2024</td>\n",
       "      <td>Sunlight</td>\n",
       "      <td>\\n    Золотое кольцо c бриллиантами\\n</td>\n",
       "      <td>Кольца</td>\n",
       "      <td>{'Модель': '2804-K5W-02', 'Материал изделия': ...</td>\n",
       "      <td>69990.0</td>\n",
       "      <td>58133</td>\n",
       "      <td>https://sunlight.net/catalog/ring_58133.html</td>\n",
       "    </tr>\n",
       "    <tr>\n",
       "      <th>13668</th>\n",
       "      <td>22-07-2024</td>\n",
       "      <td>Sunlight</td>\n",
       "      <td>\\n    Золотое кольцо с бриллиантами\\n</td>\n",
       "      <td>Кольца</td>\n",
       "      <td>{'Модель': '7552-K5M-02', 'Материал изделия': ...</td>\n",
       "      <td>44990.0</td>\n",
       "      <td>280238</td>\n",
       "      <td>https://sunlight.net/catalog/ring_280238.html</td>\n",
       "    </tr>\n",
       "    <tr>\n",
       "      <th>13669</th>\n",
       "      <td>22-07-2024</td>\n",
       "      <td>Sunlight</td>\n",
       "      <td>\\n    Золотые серьги с бриллиантами\\n</td>\n",
       "      <td>Серьги</td>\n",
       "      <td>{'Модель': '70629-C5W-01', 'Материал изделия':...</td>\n",
       "      <td>12990.0</td>\n",
       "      <td>151456</td>\n",
       "      <td>https://sunlight.net/catalog/earring_151456.html</td>\n",
       "    </tr>\n",
       "    <tr>\n",
       "      <th>13670</th>\n",
       "      <td>22-07-2024</td>\n",
       "      <td>Sunlight</td>\n",
       "      <td>\\n    Гайтан с золотым замком\\n</td>\n",
       "      <td>Колье</td>\n",
       "      <td>{'Модель': '73613.1*', 'Материал изделия': 'Те...</td>\n",
       "      <td>12990.0</td>\n",
       "      <td>104816</td>\n",
       "      <td>https://sunlight.net/catalog/necklace_104816.html</td>\n",
       "    </tr>\n",
       "    <tr>\n",
       "      <th>13671</th>\n",
       "      <td>22-07-2024</td>\n",
       "      <td>Sunlight</td>\n",
       "      <td>\\n    Золотое кольцо\\n</td>\n",
       "      <td>Кольца</td>\n",
       "      <td>{'Модель': '01Т012119*', 'Материал изделия': '...</td>\n",
       "      <td>25970.0</td>\n",
       "      <td>358514</td>\n",
       "      <td>https://sunlight.net/catalog/ring_358514.html</td>\n",
       "    </tr>\n",
       "  </tbody>\n",
       "</table>\n",
       "<p>13665 rows × 8 columns</p>\n",
       "</div>"
      ],
      "text/plain": [
       "             date competitor                                            name  \\\n",
       "0      22-07-2024   Sunlight              \\n    Золотое шейное украшение\\n     \n",
       "1      22-07-2024   Sunlight  \\n    Золотое шейное украшение с фианитами\\n     \n",
       "2      22-07-2024   Sunlight  \\n    Золотое шейное украшение с ситаллами\\n     \n",
       "3      22-07-2024   Sunlight              \\n    Золотое шейное украшение\\n     \n",
       "4      22-07-2024   Sunlight  \\n    Золотое шейное украшение с фианитами\\n     \n",
       "...           ...        ...                                             ...   \n",
       "13667  22-07-2024   Sunlight         \\n    Золотое кольцо c бриллиантами\\n     \n",
       "13668  22-07-2024   Sunlight         \\n    Золотое кольцо с бриллиантами\\n     \n",
       "13669  22-07-2024   Sunlight         \\n    Золотые серьги с бриллиантами\\n     \n",
       "13670  22-07-2024   Sunlight               \\n    Гайтан с золотым замком\\n     \n",
       "13671  22-07-2024   Sunlight                        \\n    Золотое кольцо\\n     \n",
       "\n",
       "                  group                                             params  \\\n",
       "0      Шейное украшение  {'Модель': '00496-50-030001-01*', 'Материал из...   \n",
       "1      Шейное украшение  {'Модель': '00465-50-030006-00*', 'Материал из...   \n",
       "2      Шейное украшение  {'Модель': '00504-50-030008-11*', 'Материал из...   \n",
       "3      Шейное украшение  {'Модель': '2130001к*', 'Материал изделия': 'Р...   \n",
       "4      Шейное украшение  {'Модель': '03-3676*', 'Материал изделия': 'Ро...   \n",
       "...                 ...                                                ...   \n",
       "13667            Кольца  {'Модель': '2804-K5W-02', 'Материал изделия': ...   \n",
       "13668            Кольца  {'Модель': '7552-K5M-02', 'Материал изделия': ...   \n",
       "13669            Серьги  {'Модель': '70629-C5W-01', 'Материал изделия':...   \n",
       "13670             Колье  {'Модель': '73613.1*', 'Материал изделия': 'Те...   \n",
       "13671            Кольца  {'Модель': '01Т012119*', 'Материал изделия': '...   \n",
       "\n",
       "          price  article                                                url  \n",
       "0       49990.0   358923  https://sunlight.net/catalog/neck_decoration_3...  \n",
       "1       50020.0   358922  https://sunlight.net/catalog/neck_decoration_3...  \n",
       "2       79990.0   358634  https://sunlight.net/catalog/neck_decoration_3...  \n",
       "3      374400.0   358479  https://sunlight.net/catalog/neck_decoration_3...  \n",
       "4       20480.0   356642  https://sunlight.net/catalog/neck_decoration_3...  \n",
       "...         ...      ...                                                ...  \n",
       "13667   69990.0    58133       https://sunlight.net/catalog/ring_58133.html  \n",
       "13668   44990.0   280238      https://sunlight.net/catalog/ring_280238.html  \n",
       "13669   12990.0   151456   https://sunlight.net/catalog/earring_151456.html  \n",
       "13670   12990.0   104816  https://sunlight.net/catalog/necklace_104816.html  \n",
       "13671   25970.0   358514      https://sunlight.net/catalog/ring_358514.html  \n",
       "\n",
       "[13665 rows x 8 columns]"
      ]
     },
     "execution_count": 33,
     "metadata": {},
     "output_type": "execute_result"
    }
   ],
   "source": [
    "data"
   ]
  },
  {
   "cell_type": "code",
   "execution_count": 34,
   "id": "c2d69699-23f3-4c83-97bc-d2aba743a4dc",
   "metadata": {
    "tags": []
   },
   "outputs": [],
   "source": [
    "data_discount = pd.DataFrame()\n",
    "for name  in all_filenames:\n",
    "    df = pd.read_csv(name)\n",
    "    data_discount = pd.concat([df, data_discount], ignore_index=True)"
   ]
  },
  {
   "cell_type": "code",
   "execution_count": 35,
   "id": "c58ae2ff",
   "metadata": {},
   "outputs": [
    {
     "data": {
      "text/html": [
       "<div>\n",
       "<style scoped>\n",
       "    .dataframe tbody tr th:only-of-type {\n",
       "        vertical-align: middle;\n",
       "    }\n",
       "\n",
       "    .dataframe tbody tr th {\n",
       "        vertical-align: top;\n",
       "    }\n",
       "\n",
       "    .dataframe thead th {\n",
       "        text-align: right;\n",
       "    }\n",
       "</style>\n",
       "<table border=\"1\" class=\"dataframe\">\n",
       "  <thead>\n",
       "    <tr style=\"text-align: right;\">\n",
       "      <th></th>\n",
       "      <th>article</th>\n",
       "      <th>price_old</th>\n",
       "      <th>price</th>\n",
       "      <th>price_personal</th>\n",
       "      <th>discount</th>\n",
       "    </tr>\n",
       "  </thead>\n",
       "  <tbody>\n",
       "    <tr>\n",
       "      <th>0</th>\n",
       "      <td>988355</td>\n",
       "      <td>51 980 ₽</td>\n",
       "      <td>25 990 ₽</td>\n",
       "      <td>15 594 ₽</td>\n",
       "      <td>['Ещё -5 000₽ здесь! Код: КУПИТЬ до 23:59', 'Е...</td>\n",
       "    </tr>\n",
       "    <tr>\n",
       "      <th>1</th>\n",
       "      <td>331910</td>\n",
       "      <td>NaN</td>\n",
       "      <td>22 019 ₽</td>\n",
       "      <td>13 211 ₽</td>\n",
       "      <td>['Ещё -10% здесь! Код: КРАСНЫЙ до 22.07']</td>\n",
       "    </tr>\n",
       "    <tr>\n",
       "      <th>2</th>\n",
       "      <td>181069</td>\n",
       "      <td>39 980 ₽</td>\n",
       "      <td>19 990 ₽</td>\n",
       "      <td>11 994 ₽</td>\n",
       "      <td>['Ещё -500₽ здесь! Код: КУПИТЬ до 23:59', 'Ещё...</td>\n",
       "    </tr>\n",
       "    <tr>\n",
       "      <th>3</th>\n",
       "      <td>180077</td>\n",
       "      <td>25 980 ₽</td>\n",
       "      <td>12 990 ₽</td>\n",
       "      <td>7 794 ₽</td>\n",
       "      <td>['Ещё -2 000₽ здесь! Код: КУПИТЬ до 23:59', 'Е...</td>\n",
       "    </tr>\n",
       "    <tr>\n",
       "      <th>4</th>\n",
       "      <td>179902</td>\n",
       "      <td>33 460 ₽</td>\n",
       "      <td>16 730 ₽</td>\n",
       "      <td>10 038 ₽</td>\n",
       "      <td>['Ещё -3 500₽ здесь! Код: КУПИТЬ до 23:59', 'Е...</td>\n",
       "    </tr>\n",
       "    <tr>\n",
       "      <th>...</th>\n",
       "      <td>...</td>\n",
       "      <td>...</td>\n",
       "      <td>...</td>\n",
       "      <td>...</td>\n",
       "      <td>...</td>\n",
       "    </tr>\n",
       "    <tr>\n",
       "      <th>13660</th>\n",
       "      <td>167767</td>\n",
       "      <td>NaN</td>\n",
       "      <td>15 990 ₽</td>\n",
       "      <td>9 594 ₽</td>\n",
       "      <td>['Ещё -10% здесь! Код: КРАСНЫЙ до 22.07']</td>\n",
       "    </tr>\n",
       "    <tr>\n",
       "      <th>13661</th>\n",
       "      <td>100297</td>\n",
       "      <td>319 980 ₽</td>\n",
       "      <td>159 990 ₽</td>\n",
       "      <td>129 990 ₽</td>\n",
       "      <td>['Ещё -10% здесь! Код: ВЫГОДА до 23:59']</td>\n",
       "    </tr>\n",
       "    <tr>\n",
       "      <th>13662</th>\n",
       "      <td>92924</td>\n",
       "      <td>NaN</td>\n",
       "      <td>59 990 ₽</td>\n",
       "      <td>35 994 ₽</td>\n",
       "      <td>['Ещё -10% здесь! Код: КРАСНЫЙ до 22.07']</td>\n",
       "    </tr>\n",
       "    <tr>\n",
       "      <th>13663</th>\n",
       "      <td>61538</td>\n",
       "      <td>NaN</td>\n",
       "      <td>79 990 ₽</td>\n",
       "      <td>49 990 ₽</td>\n",
       "      <td>['Ещё -15% здесь! Код: КРАСНЫЙ до 22.07']</td>\n",
       "    </tr>\n",
       "    <tr>\n",
       "      <th>13664</th>\n",
       "      <td>53387</td>\n",
       "      <td>NaN</td>\n",
       "      <td>16 927 ₽</td>\n",
       "      <td>NaN</td>\n",
       "      <td>['ХИТ-цена']</td>\n",
       "    </tr>\n",
       "  </tbody>\n",
       "</table>\n",
       "<p>13665 rows × 5 columns</p>\n",
       "</div>"
      ],
      "text/plain": [
       "       article  price_old      price price_personal  \\\n",
       "0       988355   51 980 ₽   25 990 ₽       15 594 ₽   \n",
       "1       331910        NaN   22 019 ₽       13 211 ₽   \n",
       "2       181069   39 980 ₽   19 990 ₽       11 994 ₽   \n",
       "3       180077   25 980 ₽   12 990 ₽        7 794 ₽   \n",
       "4       179902   33 460 ₽   16 730 ₽       10 038 ₽   \n",
       "...        ...        ...        ...            ...   \n",
       "13660   167767        NaN   15 990 ₽        9 594 ₽   \n",
       "13661   100297  319 980 ₽  159 990 ₽      129 990 ₽   \n",
       "13662    92924        NaN   59 990 ₽       35 994 ₽   \n",
       "13663    61538        NaN   79 990 ₽       49 990 ₽   \n",
       "13664    53387        NaN   16 927 ₽            NaN   \n",
       "\n",
       "                                                discount  \n",
       "0      ['Ещё -5 000₽ здесь! Код: КУПИТЬ до 23:59', 'Е...  \n",
       "1              ['Ещё -10% здесь! Код: КРАСНЫЙ до 22.07']  \n",
       "2      ['Ещё -500₽ здесь! Код: КУПИТЬ до 23:59', 'Ещё...  \n",
       "3      ['Ещё -2 000₽ здесь! Код: КУПИТЬ до 23:59', 'Е...  \n",
       "4      ['Ещё -3 500₽ здесь! Код: КУПИТЬ до 23:59', 'Е...  \n",
       "...                                                  ...  \n",
       "13660          ['Ещё -10% здесь! Код: КРАСНЫЙ до 22.07']  \n",
       "13661           ['Ещё -10% здесь! Код: ВЫГОДА до 23:59']  \n",
       "13662          ['Ещё -10% здесь! Код: КРАСНЫЙ до 22.07']  \n",
       "13663          ['Ещё -15% здесь! Код: КРАСНЫЙ до 22.07']  \n",
       "13664                                       ['ХИТ-цена']  \n",
       "\n",
       "[13665 rows x 5 columns]"
      ]
     },
     "execution_count": 35,
     "metadata": {},
     "output_type": "execute_result"
    }
   ],
   "source": [
    "data_discount"
   ]
  },
  {
   "cell_type": "code",
   "execution_count": 36,
   "id": "c11840f3-353f-49ae-82c8-66612a359a3e",
   "metadata": {
    "tags": []
   },
   "outputs": [],
   "source": [
    "data = data.merge(data_discount, on='article', how='left')"
   ]
  },
  {
   "cell_type": "code",
   "execution_count": 37,
   "id": "97cdcac5-2bcf-4fa4-b1f2-428f3c3fd32a",
   "metadata": {
    "tags": []
   },
   "outputs": [
    {
     "name": "stdout",
     "output_type": "stream",
     "text": [
      "<class 'pandas.core.frame.DataFrame'>\n",
      "RangeIndex: 13665 entries, 0 to 13664\n",
      "Data columns (total 12 columns):\n",
      " #   Column          Non-Null Count  Dtype  \n",
      "---  ------          --------------  -----  \n",
      " 0   date            13665 non-null  object \n",
      " 1   competitor      13665 non-null  object \n",
      " 2   name            13665 non-null  object \n",
      " 3   group           13665 non-null  object \n",
      " 4   params          13665 non-null  object \n",
      " 5   price_x         13665 non-null  float64\n",
      " 6   article         13665 non-null  int32  \n",
      " 7   url             13665 non-null  object \n",
      " 8   price_old       10570 non-null  object \n",
      " 9   price_y         13665 non-null  object \n",
      " 10  price_personal  13023 non-null  object \n",
      " 11  discount        13665 non-null  object \n",
      "dtypes: float64(1), int32(1), object(10)\n",
      "memory usage: 1.2+ MB\n"
     ]
    }
   ],
   "source": [
    "data.info()"
   ]
  },
  {
   "cell_type": "code",
   "execution_count": 38,
   "id": "049e3231-7148-4da2-848d-679b26fd5889",
   "metadata": {
    "tags": []
   },
   "outputs": [
    {
     "data": {
      "text/plain": [
       "discount\n",
       "['Ещё -10% здесь! Код: КРАСНЫЙ до 22.07']                                                                                      1035\n",
       "['Ещё -2 000₽ здесь! Код: КУПИТЬ до 23:59', 'Ещё -10% здесь! Код: ВЫГОДА до 23:59']                                             961\n",
       "['Ещё -3 500₽ здесь! Код: КУПИТЬ до 23:59', 'Ещё -10% здесь! Код: ВЫГОДА до 23:59']                                             796\n",
       "['Ещё -5 000₽ здесь! Код: КУПИТЬ до 23:59', 'Ещё -10% здесь! Код: ВЫГОДА до 23:59']                                             684\n",
       "['Ещё -1 000₽ здесь! Код: КУПИТЬ до 23:59', 'Ещё -10% здесь! Код: ВЫГОДА до 23:59']                                             664\n",
       "                                                                                                                               ... \n",
       "['Ещё -7 500₽ здесь! Код: КУПИТЬ до 23:59', 'Ещё -25% здесь! Код: ВЫГОДА до 23:59', 'Цены снижены! Ещё -15%, код: СЕГОДНЯ']       1\n",
       "['Ещё -10% здесь! Код: ВЫГОДА до 23:59', 'Цены снижены! Ещё -15%, код: СЕГОДНЯ']                                                  1\n",
       "['Ещё -55% здесь! Код: КРАСНЫЙ до 22.07']                                                                                         1\n",
       "['Ещё -3 500₽ здесь! Код: КУПИТЬ до 23:59', 'Ещё -25% здесь! Код: ВЫГОДА до 23:59', 'Цены снижены! Ещё -15%, код: СЕГОДНЯ']       1\n",
       "['Ещё -1 000₽ здесь! Код: КУПИТЬ до 23:59']                                                                                       1\n",
       "Name: count, Length: 135, dtype: int64"
      ]
     },
     "execution_count": 38,
     "metadata": {},
     "output_type": "execute_result"
    }
   ],
   "source": [
    "data['discount'].value_counts()"
   ]
  },
  {
   "cell_type": "code",
   "execution_count": 39,
   "id": "1c16ae65-7ea8-4d57-994f-45815b15bbe3",
   "metadata": {
    "tags": []
   },
   "outputs": [
    {
     "data": {
      "text/html": [
       "<div>\n",
       "<style scoped>\n",
       "    .dataframe tbody tr th:only-of-type {\n",
       "        vertical-align: middle;\n",
       "    }\n",
       "\n",
       "    .dataframe tbody tr th {\n",
       "        vertical-align: top;\n",
       "    }\n",
       "\n",
       "    .dataframe thead th {\n",
       "        text-align: right;\n",
       "    }\n",
       "</style>\n",
       "<table border=\"1\" class=\"dataframe\">\n",
       "  <thead>\n",
       "    <tr style=\"text-align: right;\">\n",
       "      <th></th>\n",
       "      <th>date</th>\n",
       "      <th>competitor</th>\n",
       "      <th>name</th>\n",
       "      <th>group</th>\n",
       "      <th>params</th>\n",
       "      <th>price_x</th>\n",
       "      <th>article</th>\n",
       "      <th>url</th>\n",
       "      <th>price_old</th>\n",
       "      <th>price_y</th>\n",
       "      <th>price_personal</th>\n",
       "      <th>discount</th>\n",
       "    </tr>\n",
       "  </thead>\n",
       "  <tbody>\n",
       "    <tr>\n",
       "      <th>0</th>\n",
       "      <td>22-07-2024</td>\n",
       "      <td>Sunlight</td>\n",
       "      <td>\\n    Золотое шейное украшение\\n</td>\n",
       "      <td>Шейное украшение</td>\n",
       "      <td>{'Модель': '00496-50-030001-01*', 'Материал из...</td>\n",
       "      <td>49990.0</td>\n",
       "      <td>358923</td>\n",
       "      <td>https://sunlight.net/catalog/neck_decoration_3...</td>\n",
       "      <td>99 980 ₽</td>\n",
       "      <td>49 990 ₽</td>\n",
       "      <td>29 994 ₽</td>\n",
       "      <td>['Ещё -5 000₽ здесь! Код: КУПИТЬ до 23:59', 'Е...</td>\n",
       "    </tr>\n",
       "    <tr>\n",
       "      <th>1</th>\n",
       "      <td>22-07-2024</td>\n",
       "      <td>Sunlight</td>\n",
       "      <td>\\n    Золотое шейное украшение с фианитами\\n</td>\n",
       "      <td>Шейное украшение</td>\n",
       "      <td>{'Модель': '00465-50-030006-00*', 'Материал из...</td>\n",
       "      <td>50020.0</td>\n",
       "      <td>358922</td>\n",
       "      <td>https://sunlight.net/catalog/neck_decoration_3...</td>\n",
       "      <td>100 040 ₽</td>\n",
       "      <td>50 020 ₽</td>\n",
       "      <td>30 012 ₽</td>\n",
       "      <td>['Ещё -7 500₽ здесь! Код: КУПИТЬ до 23:59', 'Е...</td>\n",
       "    </tr>\n",
       "    <tr>\n",
       "      <th>2</th>\n",
       "      <td>22-07-2024</td>\n",
       "      <td>Sunlight</td>\n",
       "      <td>\\n    Золотое шейное украшение с ситаллами\\n</td>\n",
       "      <td>Шейное украшение</td>\n",
       "      <td>{'Модель': '00504-50-030008-11*', 'Материал из...</td>\n",
       "      <td>79990.0</td>\n",
       "      <td>358634</td>\n",
       "      <td>https://sunlight.net/catalog/neck_decoration_3...</td>\n",
       "      <td>159 980 ₽</td>\n",
       "      <td>79 990 ₽</td>\n",
       "      <td>49 990 ₽</td>\n",
       "      <td>['Ещё -25% здесь! Код: ВЫГОДА до 23:59']</td>\n",
       "    </tr>\n",
       "    <tr>\n",
       "      <th>3</th>\n",
       "      <td>22-07-2024</td>\n",
       "      <td>Sunlight</td>\n",
       "      <td>\\n    Золотое шейное украшение\\n</td>\n",
       "      <td>Шейное украшение</td>\n",
       "      <td>{'Модель': '2130001к*', 'Материал изделия': 'Р...</td>\n",
       "      <td>374400.0</td>\n",
       "      <td>358479</td>\n",
       "      <td>https://sunlight.net/catalog/neck_decoration_3...</td>\n",
       "      <td>748 800 ₽</td>\n",
       "      <td>374 400 ₽</td>\n",
       "      <td>344 400 ₽</td>\n",
       "      <td>['Ещё -40 000₽ здесь! Код: КУПИТЬ до 23:59', '...</td>\n",
       "    </tr>\n",
       "    <tr>\n",
       "      <th>4</th>\n",
       "      <td>22-07-2024</td>\n",
       "      <td>Sunlight</td>\n",
       "      <td>\\n    Золотое шейное украшение с фианитами\\n</td>\n",
       "      <td>Шейное украшение</td>\n",
       "      <td>{'Модель': '03-3676*', 'Материал изделия': 'Ро...</td>\n",
       "      <td>20480.0</td>\n",
       "      <td>356642</td>\n",
       "      <td>https://sunlight.net/catalog/neck_decoration_3...</td>\n",
       "      <td>40 960 ₽</td>\n",
       "      <td>20 480 ₽</td>\n",
       "      <td>12 288 ₽</td>\n",
       "      <td>['Ещё -2 000₽ здесь! Код: КУПИТЬ до 23:59', 'Е...</td>\n",
       "    </tr>\n",
       "    <tr>\n",
       "      <th>5</th>\n",
       "      <td>22-07-2024</td>\n",
       "      <td>Sunlight</td>\n",
       "      <td>\\n    Золотой браслет с фианитами\\n</td>\n",
       "      <td>Браслеты</td>\n",
       "      <td>{'Модель': '3С-0003-ж*', 'Материал изделия': '...</td>\n",
       "      <td>122410.0</td>\n",
       "      <td>356386</td>\n",
       "      <td>https://sunlight.net/catalog/bracelets_356386....</td>\n",
       "      <td>244 820 ₽</td>\n",
       "      <td>122 410 ₽</td>\n",
       "      <td>92 410 ₽</td>\n",
       "      <td>['Ещё -15 000₽ здесь! Код: КУПИТЬ до 23:59', '...</td>\n",
       "    </tr>\n",
       "    <tr>\n",
       "      <th>6</th>\n",
       "      <td>22-07-2024</td>\n",
       "      <td>Sunlight</td>\n",
       "      <td>\\n    Золотой браслет\\n</td>\n",
       "      <td>Браслеты</td>\n",
       "      <td>{'Модель': '10510501/1*', 'Материал изделия': ...</td>\n",
       "      <td>17920.0</td>\n",
       "      <td>355528</td>\n",
       "      <td>https://sunlight.net/catalog/bracelets_355528....</td>\n",
       "      <td>35 840 ₽</td>\n",
       "      <td>17 920 ₽</td>\n",
       "      <td>10 752 ₽</td>\n",
       "      <td>['Ещё -2 000₽ здесь! Код: КУПИТЬ до 23:59', 'Е...</td>\n",
       "    </tr>\n",
       "    <tr>\n",
       "      <th>7</th>\n",
       "      <td>22-07-2024</td>\n",
       "      <td>Sunlight</td>\n",
       "      <td>\\n    Золотой браслет с фианитами\\n</td>\n",
       "      <td>Браслеты</td>\n",
       "      <td>{'Модель': '01Б112846Р*', 'Материал изделия': ...</td>\n",
       "      <td>175340.0</td>\n",
       "      <td>354901</td>\n",
       "      <td>https://sunlight.net/catalog/bracelets_354901....</td>\n",
       "      <td>350 680 ₽</td>\n",
       "      <td>175 340 ₽</td>\n",
       "      <td>145 340 ₽</td>\n",
       "      <td>['Ещё -40 000₽ здесь! Код: КУПИТЬ до 23:59', '...</td>\n",
       "    </tr>\n",
       "    <tr>\n",
       "      <th>8</th>\n",
       "      <td>22-07-2024</td>\n",
       "      <td>Sunlight</td>\n",
       "      <td>\\n    Золотой браслет\\n</td>\n",
       "      <td>Браслеты</td>\n",
       "      <td>{'Модель': 'ЖШВБ 4-11-18*', 'Материал изделия'...</td>\n",
       "      <td>89690.0</td>\n",
       "      <td>996990</td>\n",
       "      <td>https://sunlight.net/catalog/bracelets_996990....</td>\n",
       "      <td>179 380 ₽</td>\n",
       "      <td>89 690 ₽</td>\n",
       "      <td>59 690 ₽</td>\n",
       "      <td>['Ещё -7 500₽ здесь! Код: КУПИТЬ до 23:59', 'Е...</td>\n",
       "    </tr>\n",
       "    <tr>\n",
       "      <th>9</th>\n",
       "      <td>22-07-2024</td>\n",
       "      <td>Sunlight</td>\n",
       "      <td>\\n    Золотой браслет\\n</td>\n",
       "      <td>Браслеты</td>\n",
       "      <td>{'Модель': 'ЖШБ 1-3*', 'Материал изделия': 'Ро...</td>\n",
       "      <td>67320.0</td>\n",
       "      <td>996989</td>\n",
       "      <td>https://sunlight.net/catalog/bracelets_996989....</td>\n",
       "      <td>134 640 ₽</td>\n",
       "      <td>67 320 ₽</td>\n",
       "      <td>40 392 ₽</td>\n",
       "      <td>['Ещё -10 000₽ здесь! Код: КУПИТЬ до 23:59', '...</td>\n",
       "    </tr>\n",
       "    <tr>\n",
       "      <th>10</th>\n",
       "      <td>22-07-2024</td>\n",
       "      <td>Sunlight</td>\n",
       "      <td>\\n    Золотой браслет с бриллиантами\\n</td>\n",
       "      <td>Браслеты</td>\n",
       "      <td>{'Модель': '20337-B5R-01', 'Материал изделия':...</td>\n",
       "      <td>119990.0</td>\n",
       "      <td>996750</td>\n",
       "      <td>https://sunlight.net/catalog/bracelets_996750....</td>\n",
       "      <td>NaN</td>\n",
       "      <td>119 990 ₽</td>\n",
       "      <td>89 990 ₽</td>\n",
       "      <td>['Ещё -15% здесь! Код: КРАСНЫЙ до 22.07']</td>\n",
       "    </tr>\n",
       "    <tr>\n",
       "      <th>11</th>\n",
       "      <td>22-07-2024</td>\n",
       "      <td>Sunlight</td>\n",
       "      <td>\\n    Золотой браслет с бриллиантами\\n</td>\n",
       "      <td>Браслеты</td>\n",
       "      <td>{'Модель': '20331-B5R-01', 'Материал изделия':...</td>\n",
       "      <td>99990.0</td>\n",
       "      <td>996749</td>\n",
       "      <td>https://sunlight.net/catalog/bracelets_996749....</td>\n",
       "      <td>199 980 ₽</td>\n",
       "      <td>99 990 ₽</td>\n",
       "      <td>69 990 ₽</td>\n",
       "      <td>['Ещё -15 000₽ здесь! Код: КУПИТЬ до 23:59', '...</td>\n",
       "    </tr>\n",
       "    <tr>\n",
       "      <th>12</th>\n",
       "      <td>22-07-2024</td>\n",
       "      <td>Sunlight</td>\n",
       "      <td>\\n    Золотой браслет с бриллиантами\\n</td>\n",
       "      <td>Браслеты</td>\n",
       "      <td>{'Модель': '20335-B5Y-01', 'Материал изделия':...</td>\n",
       "      <td>204990.0</td>\n",
       "      <td>996748</td>\n",
       "      <td>https://sunlight.net/catalog/bracelets_996748....</td>\n",
       "      <td>NaN</td>\n",
       "      <td>204 990 ₽</td>\n",
       "      <td>174 990 ₽</td>\n",
       "      <td>['Ещё -15% здесь! Код: КРАСНЫЙ до 22.07']</td>\n",
       "    </tr>\n",
       "    <tr>\n",
       "      <th>13</th>\n",
       "      <td>22-07-2024</td>\n",
       "      <td>Sunlight</td>\n",
       "      <td>\\n    Золотая цепь\\n</td>\n",
       "      <td>Цепи</td>\n",
       "      <td>{'Модель': '322-00-0100-37691*', 'Материал изд...</td>\n",
       "      <td>508000.0</td>\n",
       "      <td>354356</td>\n",
       "      <td>https://sunlight.net/catalog/chains_354356.html</td>\n",
       "      <td>1 015 999 ₽</td>\n",
       "      <td>508 000 ₽</td>\n",
       "      <td>478 000 ₽</td>\n",
       "      <td>['Ещё -60 000₽ здесь! Код: КУПИТЬ до 23:59', '...</td>\n",
       "    </tr>\n",
       "    <tr>\n",
       "      <th>14</th>\n",
       "      <td>22-07-2024</td>\n",
       "      <td>Sunlight</td>\n",
       "      <td>\\n    Золотой браслет с фианитами\\n</td>\n",
       "      <td>Браслеты</td>\n",
       "      <td>{'Модель': 'бр088-20-01*', 'Материал изделия':...</td>\n",
       "      <td>171990.0</td>\n",
       "      <td>354274</td>\n",
       "      <td>https://sunlight.net/catalog/bracelets_354274....</td>\n",
       "      <td>343 980 ₽</td>\n",
       "      <td>171 990 ₽</td>\n",
       "      <td>141 990 ₽</td>\n",
       "      <td>['Ещё -60 000₽ здесь! Код: КУПИТЬ до 23:59', '...</td>\n",
       "    </tr>\n",
       "    <tr>\n",
       "      <th>15</th>\n",
       "      <td>22-07-2024</td>\n",
       "      <td>Sunlight</td>\n",
       "      <td>\\n    Золотой браслет\\n</td>\n",
       "      <td>Браслеты</td>\n",
       "      <td>{'Модель': 'б-5-44*', 'Материал изделия': 'Роз...</td>\n",
       "      <td>49600.0</td>\n",
       "      <td>996622</td>\n",
       "      <td>https://sunlight.net/catalog/bracelets_996622....</td>\n",
       "      <td>99 200 ₽</td>\n",
       "      <td>49 600 ₽</td>\n",
       "      <td>29 760 ₽</td>\n",
       "      <td>['Ещё -7 500₽ здесь! Код: КУПИТЬ до 23:59', 'Е...</td>\n",
       "    </tr>\n",
       "    <tr>\n",
       "      <th>16</th>\n",
       "      <td>22-07-2024</td>\n",
       "      <td>Sunlight</td>\n",
       "      <td>\\n    Золотое шейное украшение с бриллиантами\\n</td>\n",
       "      <td>Шейное украшение</td>\n",
       "      <td>{'Модель': '73253-H5W-01', 'Материал изделия':...</td>\n",
       "      <td>81990.0</td>\n",
       "      <td>354119</td>\n",
       "      <td>https://sunlight.net/catalog/neck_decoration_3...</td>\n",
       "      <td>NaN</td>\n",
       "      <td>81 990 ₽</td>\n",
       "      <td>51 990 ₽</td>\n",
       "      <td>['Ещё -10% здесь! Код: КРАСНЫЙ до 22.07']</td>\n",
       "    </tr>\n",
       "    <tr>\n",
       "      <th>17</th>\n",
       "      <td>22-07-2024</td>\n",
       "      <td>Sunlight</td>\n",
       "      <td>\\n    Золотой браслет с фианитами\\n</td>\n",
       "      <td>Браслеты</td>\n",
       "      <td>{'Модель': 'л7705193*', 'Материал изделия': 'Ж...</td>\n",
       "      <td>59080.0</td>\n",
       "      <td>996435</td>\n",
       "      <td>https://sunlight.net/catalog/bracelets_996435....</td>\n",
       "      <td>118 160 ₽</td>\n",
       "      <td>59 080 ₽</td>\n",
       "      <td>35 448 ₽</td>\n",
       "      <td>['Ещё -5 000₽ здесь! Код: КУПИТЬ до 23:59', 'Е...</td>\n",
       "    </tr>\n",
       "    <tr>\n",
       "      <th>18</th>\n",
       "      <td>22-07-2024</td>\n",
       "      <td>Sunlight</td>\n",
       "      <td>\\n    Золотой браслет\\n</td>\n",
       "      <td>Браслеты</td>\n",
       "      <td>{'Модель': '47-22-0000-68718*', 'Материал изде...</td>\n",
       "      <td>17444.0</td>\n",
       "      <td>354027</td>\n",
       "      <td>https://sunlight.net/catalog/bracelets_354027....</td>\n",
       "      <td>NaN</td>\n",
       "      <td>17 444 ₽</td>\n",
       "      <td>10 466 ₽</td>\n",
       "      <td>['Ещё -25% здесь! Код: КРАСНЫЙ до 22.07']</td>\n",
       "    </tr>\n",
       "    <tr>\n",
       "      <th>19</th>\n",
       "      <td>22-07-2024</td>\n",
       "      <td>Sunlight</td>\n",
       "      <td>\\n    Золотое шейное украшение\\n</td>\n",
       "      <td>Шейное украшение</td>\n",
       "      <td>{'Модель': '33-20-0000-69863*', 'Материал изде...</td>\n",
       "      <td>52630.0</td>\n",
       "      <td>354008</td>\n",
       "      <td>https://sunlight.net/catalog/neck_decoration_3...</td>\n",
       "      <td>105 260 ₽</td>\n",
       "      <td>52 630 ₽</td>\n",
       "      <td>31 578 ₽</td>\n",
       "      <td>['Ещё -7 500₽ здесь! Код: КУПИТЬ до 23:59', 'Е...</td>\n",
       "    </tr>\n",
       "  </tbody>\n",
       "</table>\n",
       "</div>"
      ],
      "text/plain": [
       "          date competitor                                               name  \\\n",
       "0   22-07-2024   Sunlight                 \\n    Золотое шейное украшение\\n     \n",
       "1   22-07-2024   Sunlight     \\n    Золотое шейное украшение с фианитами\\n     \n",
       "2   22-07-2024   Sunlight     \\n    Золотое шейное украшение с ситаллами\\n     \n",
       "3   22-07-2024   Sunlight                 \\n    Золотое шейное украшение\\n     \n",
       "4   22-07-2024   Sunlight     \\n    Золотое шейное украшение с фианитами\\n     \n",
       "5   22-07-2024   Sunlight              \\n    Золотой браслет с фианитами\\n     \n",
       "6   22-07-2024   Sunlight                          \\n    Золотой браслет\\n     \n",
       "7   22-07-2024   Sunlight              \\n    Золотой браслет с фианитами\\n     \n",
       "8   22-07-2024   Sunlight                          \\n    Золотой браслет\\n     \n",
       "9   22-07-2024   Sunlight                          \\n    Золотой браслет\\n     \n",
       "10  22-07-2024   Sunlight           \\n    Золотой браслет с бриллиантами\\n     \n",
       "11  22-07-2024   Sunlight           \\n    Золотой браслет с бриллиантами\\n     \n",
       "12  22-07-2024   Sunlight           \\n    Золотой браслет с бриллиантами\\n     \n",
       "13  22-07-2024   Sunlight                             \\n    Золотая цепь\\n     \n",
       "14  22-07-2024   Sunlight              \\n    Золотой браслет с фианитами\\n     \n",
       "15  22-07-2024   Sunlight                          \\n    Золотой браслет\\n     \n",
       "16  22-07-2024   Sunlight  \\n    Золотое шейное украшение с бриллиантами\\n     \n",
       "17  22-07-2024   Sunlight              \\n    Золотой браслет с фианитами\\n     \n",
       "18  22-07-2024   Sunlight                          \\n    Золотой браслет\\n     \n",
       "19  22-07-2024   Sunlight                 \\n    Золотое шейное украшение\\n     \n",
       "\n",
       "               group                                             params  \\\n",
       "0   Шейное украшение  {'Модель': '00496-50-030001-01*', 'Материал из...   \n",
       "1   Шейное украшение  {'Модель': '00465-50-030006-00*', 'Материал из...   \n",
       "2   Шейное украшение  {'Модель': '00504-50-030008-11*', 'Материал из...   \n",
       "3   Шейное украшение  {'Модель': '2130001к*', 'Материал изделия': 'Р...   \n",
       "4   Шейное украшение  {'Модель': '03-3676*', 'Материал изделия': 'Ро...   \n",
       "5           Браслеты  {'Модель': '3С-0003-ж*', 'Материал изделия': '...   \n",
       "6           Браслеты  {'Модель': '10510501/1*', 'Материал изделия': ...   \n",
       "7           Браслеты  {'Модель': '01Б112846Р*', 'Материал изделия': ...   \n",
       "8           Браслеты  {'Модель': 'ЖШВБ 4-11-18*', 'Материал изделия'...   \n",
       "9           Браслеты  {'Модель': 'ЖШБ 1-3*', 'Материал изделия': 'Ро...   \n",
       "10          Браслеты  {'Модель': '20337-B5R-01', 'Материал изделия':...   \n",
       "11          Браслеты  {'Модель': '20331-B5R-01', 'Материал изделия':...   \n",
       "12          Браслеты  {'Модель': '20335-B5Y-01', 'Материал изделия':...   \n",
       "13              Цепи  {'Модель': '322-00-0100-37691*', 'Материал изд...   \n",
       "14          Браслеты  {'Модель': 'бр088-20-01*', 'Материал изделия':...   \n",
       "15          Браслеты  {'Модель': 'б-5-44*', 'Материал изделия': 'Роз...   \n",
       "16  Шейное украшение  {'Модель': '73253-H5W-01', 'Материал изделия':...   \n",
       "17          Браслеты  {'Модель': 'л7705193*', 'Материал изделия': 'Ж...   \n",
       "18          Браслеты  {'Модель': '47-22-0000-68718*', 'Материал изде...   \n",
       "19  Шейное украшение  {'Модель': '33-20-0000-69863*', 'Материал изде...   \n",
       "\n",
       "     price_x  article                                                url  \\\n",
       "0    49990.0   358923  https://sunlight.net/catalog/neck_decoration_3...   \n",
       "1    50020.0   358922  https://sunlight.net/catalog/neck_decoration_3...   \n",
       "2    79990.0   358634  https://sunlight.net/catalog/neck_decoration_3...   \n",
       "3   374400.0   358479  https://sunlight.net/catalog/neck_decoration_3...   \n",
       "4    20480.0   356642  https://sunlight.net/catalog/neck_decoration_3...   \n",
       "5   122410.0   356386  https://sunlight.net/catalog/bracelets_356386....   \n",
       "6    17920.0   355528  https://sunlight.net/catalog/bracelets_355528....   \n",
       "7   175340.0   354901  https://sunlight.net/catalog/bracelets_354901....   \n",
       "8    89690.0   996990  https://sunlight.net/catalog/bracelets_996990....   \n",
       "9    67320.0   996989  https://sunlight.net/catalog/bracelets_996989....   \n",
       "10  119990.0   996750  https://sunlight.net/catalog/bracelets_996750....   \n",
       "11   99990.0   996749  https://sunlight.net/catalog/bracelets_996749....   \n",
       "12  204990.0   996748  https://sunlight.net/catalog/bracelets_996748....   \n",
       "13  508000.0   354356    https://sunlight.net/catalog/chains_354356.html   \n",
       "14  171990.0   354274  https://sunlight.net/catalog/bracelets_354274....   \n",
       "15   49600.0   996622  https://sunlight.net/catalog/bracelets_996622....   \n",
       "16   81990.0   354119  https://sunlight.net/catalog/neck_decoration_3...   \n",
       "17   59080.0   996435  https://sunlight.net/catalog/bracelets_996435....   \n",
       "18   17444.0   354027  https://sunlight.net/catalog/bracelets_354027....   \n",
       "19   52630.0   354008  https://sunlight.net/catalog/neck_decoration_3...   \n",
       "\n",
       "      price_old    price_y price_personal  \\\n",
       "0      99 980 ₽   49 990 ₽       29 994 ₽   \n",
       "1     100 040 ₽   50 020 ₽       30 012 ₽   \n",
       "2     159 980 ₽   79 990 ₽       49 990 ₽   \n",
       "3     748 800 ₽  374 400 ₽      344 400 ₽   \n",
       "4      40 960 ₽   20 480 ₽       12 288 ₽   \n",
       "5     244 820 ₽  122 410 ₽       92 410 ₽   \n",
       "6      35 840 ₽   17 920 ₽       10 752 ₽   \n",
       "7     350 680 ₽  175 340 ₽      145 340 ₽   \n",
       "8     179 380 ₽   89 690 ₽       59 690 ₽   \n",
       "9     134 640 ₽   67 320 ₽       40 392 ₽   \n",
       "10          NaN  119 990 ₽       89 990 ₽   \n",
       "11    199 980 ₽   99 990 ₽       69 990 ₽   \n",
       "12          NaN  204 990 ₽      174 990 ₽   \n",
       "13  1 015 999 ₽  508 000 ₽      478 000 ₽   \n",
       "14    343 980 ₽  171 990 ₽      141 990 ₽   \n",
       "15     99 200 ₽   49 600 ₽       29 760 ₽   \n",
       "16          NaN   81 990 ₽       51 990 ₽   \n",
       "17    118 160 ₽   59 080 ₽       35 448 ₽   \n",
       "18          NaN   17 444 ₽       10 466 ₽   \n",
       "19    105 260 ₽   52 630 ₽       31 578 ₽   \n",
       "\n",
       "                                             discount  \n",
       "0   ['Ещё -5 000₽ здесь! Код: КУПИТЬ до 23:59', 'Е...  \n",
       "1   ['Ещё -7 500₽ здесь! Код: КУПИТЬ до 23:59', 'Е...  \n",
       "2            ['Ещё -25% здесь! Код: ВЫГОДА до 23:59']  \n",
       "3   ['Ещё -40 000₽ здесь! Код: КУПИТЬ до 23:59', '...  \n",
       "4   ['Ещё -2 000₽ здесь! Код: КУПИТЬ до 23:59', 'Е...  \n",
       "5   ['Ещё -15 000₽ здесь! Код: КУПИТЬ до 23:59', '...  \n",
       "6   ['Ещё -2 000₽ здесь! Код: КУПИТЬ до 23:59', 'Е...  \n",
       "7   ['Ещё -40 000₽ здесь! Код: КУПИТЬ до 23:59', '...  \n",
       "8   ['Ещё -7 500₽ здесь! Код: КУПИТЬ до 23:59', 'Е...  \n",
       "9   ['Ещё -10 000₽ здесь! Код: КУПИТЬ до 23:59', '...  \n",
       "10          ['Ещё -15% здесь! Код: КРАСНЫЙ до 22.07']  \n",
       "11  ['Ещё -15 000₽ здесь! Код: КУПИТЬ до 23:59', '...  \n",
       "12          ['Ещё -15% здесь! Код: КРАСНЫЙ до 22.07']  \n",
       "13  ['Ещё -60 000₽ здесь! Код: КУПИТЬ до 23:59', '...  \n",
       "14  ['Ещё -60 000₽ здесь! Код: КУПИТЬ до 23:59', '...  \n",
       "15  ['Ещё -7 500₽ здесь! Код: КУПИТЬ до 23:59', 'Е...  \n",
       "16          ['Ещё -10% здесь! Код: КРАСНЫЙ до 22.07']  \n",
       "17  ['Ещё -5 000₽ здесь! Код: КУПИТЬ до 23:59', 'Е...  \n",
       "18          ['Ещё -25% здесь! Код: КРАСНЫЙ до 22.07']  \n",
       "19  ['Ещё -7 500₽ здесь! Код: КУПИТЬ до 23:59', 'Е...  "
      ]
     },
     "execution_count": 39,
     "metadata": {},
     "output_type": "execute_result"
    }
   ],
   "source": [
    "data.head(20)"
   ]
  },
  {
   "cell_type": "code",
   "execution_count": 40,
   "id": "a997900f-aa12-4dbc-bf7d-9c2307055774",
   "metadata": {
    "tags": []
   },
   "outputs": [],
   "source": [
    "data.to_csv(r'C:\\Users\\Trenkin.Sergey\\Desktop\\parsers\\workspace\\\\' + f'sunlight_all_{day_now}_{month_now}_{datetime.today().year}.csv', index=False)"
   ]
  },
  {
   "cell_type": "code",
   "execution_count": 41,
   "id": "ebff4bdd",
   "metadata": {},
   "outputs": [],
   "source": [
    "previous = pd.read_csv(r'\\\\gold585.int\\uk\\Общее хранилище файлов\\Служба аналитики\\МЮР\\parsed_data\\sunlight_raw.csv')"
   ]
  },
  {
   "cell_type": "code",
   "execution_count": 42,
   "id": "2be7142b",
   "metadata": {},
   "outputs": [],
   "source": [
    "data = pd.concat([previous, data], ignore_index=True)"
   ]
  },
  {
   "cell_type": "code",
   "execution_count": 43,
   "id": "7246895b",
   "metadata": {},
   "outputs": [
    {
     "data": {
      "text/html": [
       "<div>\n",
       "<style scoped>\n",
       "    .dataframe tbody tr th:only-of-type {\n",
       "        vertical-align: middle;\n",
       "    }\n",
       "\n",
       "    .dataframe tbody tr th {\n",
       "        vertical-align: top;\n",
       "    }\n",
       "\n",
       "    .dataframe thead th {\n",
       "        text-align: right;\n",
       "    }\n",
       "</style>\n",
       "<table border=\"1\" class=\"dataframe\">\n",
       "  <thead>\n",
       "    <tr style=\"text-align: right;\">\n",
       "      <th></th>\n",
       "      <th>date</th>\n",
       "      <th>competitor</th>\n",
       "      <th>name</th>\n",
       "      <th>group</th>\n",
       "      <th>params</th>\n",
       "      <th>price_x</th>\n",
       "      <th>article</th>\n",
       "      <th>url</th>\n",
       "      <th>price_old</th>\n",
       "      <th>price_y</th>\n",
       "      <th>price_personal</th>\n",
       "      <th>discount</th>\n",
       "    </tr>\n",
       "  </thead>\n",
       "  <tbody>\n",
       "    <tr>\n",
       "      <th>0</th>\n",
       "      <td>21-05-2024</td>\n",
       "      <td>Sunlight</td>\n",
       "      <td>\\n    Золотое кольцо с бриллиантами\\n</td>\n",
       "      <td>Кольца</td>\n",
       "      <td>{'Модель': '71409-K5W-02', 'Материал изделия':...</td>\n",
       "      <td>99990.0</td>\n",
       "      <td>985936</td>\n",
       "      <td>https://sunlight.net/catalog/ring_985936.html</td>\n",
       "      <td>199 980 ₽</td>\n",
       "      <td>99 990 ₽</td>\n",
       "      <td>82 990 ₽</td>\n",
       "      <td>['Ещё -35% по коду: ЗОЛОТО до 23:59']</td>\n",
       "    </tr>\n",
       "    <tr>\n",
       "      <th>1</th>\n",
       "      <td>21-05-2024</td>\n",
       "      <td>Sunlight</td>\n",
       "      <td>\\n    Золотой браслет с бриллиантами\\n</td>\n",
       "      <td>Браслеты</td>\n",
       "      <td>{'Модель': '73353-B5R-01', 'Материал изделия':...</td>\n",
       "      <td>399990.0</td>\n",
       "      <td>985849</td>\n",
       "      <td>https://sunlight.net/catalog/bracelets_985849....</td>\n",
       "      <td>799 980 ₽</td>\n",
       "      <td>399 990 ₽</td>\n",
       "      <td>382 990 ₽</td>\n",
       "      <td>['Второе бесплатно, код:1=2 до 27.05']</td>\n",
       "    </tr>\n",
       "    <tr>\n",
       "      <th>2</th>\n",
       "      <td>21-05-2024</td>\n",
       "      <td>Sunlight</td>\n",
       "      <td>\\n    Золотая цепь\\n</td>\n",
       "      <td>Цепи</td>\n",
       "      <td>{'Модель': '01Ц032974Д*', 'Материал изделия': ...</td>\n",
       "      <td>133820.0</td>\n",
       "      <td>343470</td>\n",
       "      <td>https://sunlight.net/catalog/chains_343470.html</td>\n",
       "      <td>267 640 ₽</td>\n",
       "      <td>133 820 ₽</td>\n",
       "      <td>116 820 ₽</td>\n",
       "      <td>['Ещё -35% по коду: ЗОЛОТО до 23:59']</td>\n",
       "    </tr>\n",
       "    <tr>\n",
       "      <th>3</th>\n",
       "      <td>21-05-2024</td>\n",
       "      <td>Sunlight</td>\n",
       "      <td>\\n    Золотая цепь\\n</td>\n",
       "      <td>Цепи</td>\n",
       "      <td>{'Модель': '01Ц012974Д*', 'Материал изделия': ...</td>\n",
       "      <td>148990.0</td>\n",
       "      <td>343469</td>\n",
       "      <td>https://sunlight.net/catalog/chains_343469.html</td>\n",
       "      <td>297 980 ₽</td>\n",
       "      <td>148 990 ₽</td>\n",
       "      <td>131 990 ₽</td>\n",
       "      <td>['Ещё -35% по коду: ЗОЛОТО до 23:59']</td>\n",
       "    </tr>\n",
       "    <tr>\n",
       "      <th>4</th>\n",
       "      <td>21-05-2024</td>\n",
       "      <td>Sunlight</td>\n",
       "      <td>\\n    Золотая цепь\\n</td>\n",
       "      <td>Цепи</td>\n",
       "      <td>{'Модель': '45-0029-10*', 'Материал изделия': ...</td>\n",
       "      <td>106200.0</td>\n",
       "      <td>343447</td>\n",
       "      <td>https://sunlight.net/catalog/chains_343447.html</td>\n",
       "      <td>212 400 ₽</td>\n",
       "      <td>106 200 ₽</td>\n",
       "      <td>89 200 ₽</td>\n",
       "      <td>['Ещё -35% по коду: ЗОЛОТО до 23:59']</td>\n",
       "    </tr>\n",
       "    <tr>\n",
       "      <th>...</th>\n",
       "      <td>...</td>\n",
       "      <td>...</td>\n",
       "      <td>...</td>\n",
       "      <td>...</td>\n",
       "      <td>...</td>\n",
       "      <td>...</td>\n",
       "      <td>...</td>\n",
       "      <td>...</td>\n",
       "      <td>...</td>\n",
       "      <td>...</td>\n",
       "      <td>...</td>\n",
       "      <td>...</td>\n",
       "    </tr>\n",
       "    <tr>\n",
       "      <th>122108</th>\n",
       "      <td>22-07-2024</td>\n",
       "      <td>Sunlight</td>\n",
       "      <td>\\n    Золотое кольцо c бриллиантами\\n</td>\n",
       "      <td>Кольца</td>\n",
       "      <td>{'Модель': '2804-K5W-02', 'Материал изделия': ...</td>\n",
       "      <td>69990.0</td>\n",
       "      <td>58133</td>\n",
       "      <td>https://sunlight.net/catalog/ring_58133.html</td>\n",
       "      <td>139 980 ₽</td>\n",
       "      <td>69 990 ₽</td>\n",
       "      <td>41 994 ₽</td>\n",
       "      <td>['Ещё -10 000₽ здесь! Код: КУПИТЬ до 23:59', '...</td>\n",
       "    </tr>\n",
       "    <tr>\n",
       "      <th>122109</th>\n",
       "      <td>22-07-2024</td>\n",
       "      <td>Sunlight</td>\n",
       "      <td>\\n    Золотое кольцо с бриллиантами\\n</td>\n",
       "      <td>Кольца</td>\n",
       "      <td>{'Модель': '7552-K5M-02', 'Материал изделия': ...</td>\n",
       "      <td>44990.0</td>\n",
       "      <td>280238</td>\n",
       "      <td>https://sunlight.net/catalog/ring_280238.html</td>\n",
       "      <td>89 980 ₽</td>\n",
       "      <td>44 990 ₽</td>\n",
       "      <td>26 994 ₽</td>\n",
       "      <td>['Ещё -7 500₽ здесь! Код: КУПИТЬ до 23:59', 'Е...</td>\n",
       "    </tr>\n",
       "    <tr>\n",
       "      <th>122110</th>\n",
       "      <td>22-07-2024</td>\n",
       "      <td>Sunlight</td>\n",
       "      <td>\\n    Золотые серьги с бриллиантами\\n</td>\n",
       "      <td>Серьги</td>\n",
       "      <td>{'Модель': '70629-C5W-01', 'Материал изделия':...</td>\n",
       "      <td>12990.0</td>\n",
       "      <td>151456</td>\n",
       "      <td>https://sunlight.net/catalog/earring_151456.html</td>\n",
       "      <td>NaN</td>\n",
       "      <td>12 990 ₽</td>\n",
       "      <td>NaN</td>\n",
       "      <td>['ХИТ-цена']</td>\n",
       "    </tr>\n",
       "    <tr>\n",
       "      <th>122111</th>\n",
       "      <td>22-07-2024</td>\n",
       "      <td>Sunlight</td>\n",
       "      <td>\\n    Гайтан с золотым замком\\n</td>\n",
       "      <td>Колье</td>\n",
       "      <td>{'Модель': '73613.1*', 'Материал изделия': 'Те...</td>\n",
       "      <td>12990.0</td>\n",
       "      <td>104816</td>\n",
       "      <td>https://sunlight.net/catalog/necklace_104816.html</td>\n",
       "      <td>NaN</td>\n",
       "      <td>12 990 ₽</td>\n",
       "      <td>NaN</td>\n",
       "      <td>['ХИТ-цена']</td>\n",
       "    </tr>\n",
       "    <tr>\n",
       "      <th>122112</th>\n",
       "      <td>22-07-2024</td>\n",
       "      <td>Sunlight</td>\n",
       "      <td>\\n    Золотое кольцо\\n</td>\n",
       "      <td>Кольца</td>\n",
       "      <td>{'Модель': '01Т012119*', 'Материал изделия': '...</td>\n",
       "      <td>25970.0</td>\n",
       "      <td>358514</td>\n",
       "      <td>https://sunlight.net/catalog/ring_358514.html</td>\n",
       "      <td>51 940 ₽</td>\n",
       "      <td>25 970 ₽</td>\n",
       "      <td>15 582 ₽</td>\n",
       "      <td>['Ещё -3 500₽ здесь! Код: КУПИТЬ до 23:59', 'Е...</td>\n",
       "    </tr>\n",
       "  </tbody>\n",
       "</table>\n",
       "<p>122113 rows × 12 columns</p>\n",
       "</div>"
      ],
      "text/plain": [
       "              date competitor                                      name  \\\n",
       "0       21-05-2024   Sunlight   \\n    Золотое кольцо с бриллиантами\\n     \n",
       "1       21-05-2024   Sunlight  \\n    Золотой браслет с бриллиантами\\n     \n",
       "2       21-05-2024   Sunlight                    \\n    Золотая цепь\\n     \n",
       "3       21-05-2024   Sunlight                    \\n    Золотая цепь\\n     \n",
       "4       21-05-2024   Sunlight                    \\n    Золотая цепь\\n     \n",
       "...            ...        ...                                       ...   \n",
       "122108  22-07-2024   Sunlight   \\n    Золотое кольцо c бриллиантами\\n     \n",
       "122109  22-07-2024   Sunlight   \\n    Золотое кольцо с бриллиантами\\n     \n",
       "122110  22-07-2024   Sunlight   \\n    Золотые серьги с бриллиантами\\n     \n",
       "122111  22-07-2024   Sunlight         \\n    Гайтан с золотым замком\\n     \n",
       "122112  22-07-2024   Sunlight                  \\n    Золотое кольцо\\n     \n",
       "\n",
       "           group                                             params   price_x  \\\n",
       "0         Кольца  {'Модель': '71409-K5W-02', 'Материал изделия':...   99990.0   \n",
       "1       Браслеты  {'Модель': '73353-B5R-01', 'Материал изделия':...  399990.0   \n",
       "2           Цепи  {'Модель': '01Ц032974Д*', 'Материал изделия': ...  133820.0   \n",
       "3           Цепи  {'Модель': '01Ц012974Д*', 'Материал изделия': ...  148990.0   \n",
       "4           Цепи  {'Модель': '45-0029-10*', 'Материал изделия': ...  106200.0   \n",
       "...          ...                                                ...       ...   \n",
       "122108    Кольца  {'Модель': '2804-K5W-02', 'Материал изделия': ...   69990.0   \n",
       "122109    Кольца  {'Модель': '7552-K5M-02', 'Материал изделия': ...   44990.0   \n",
       "122110    Серьги  {'Модель': '70629-C5W-01', 'Материал изделия':...   12990.0   \n",
       "122111     Колье  {'Модель': '73613.1*', 'Материал изделия': 'Те...   12990.0   \n",
       "122112    Кольца  {'Модель': '01Т012119*', 'Материал изделия': '...   25970.0   \n",
       "\n",
       "        article                                                url  price_old  \\\n",
       "0        985936      https://sunlight.net/catalog/ring_985936.html  199 980 ₽   \n",
       "1        985849  https://sunlight.net/catalog/bracelets_985849....  799 980 ₽   \n",
       "2        343470    https://sunlight.net/catalog/chains_343470.html  267 640 ₽   \n",
       "3        343469    https://sunlight.net/catalog/chains_343469.html  297 980 ₽   \n",
       "4        343447    https://sunlight.net/catalog/chains_343447.html  212 400 ₽   \n",
       "...         ...                                                ...        ...   \n",
       "122108    58133       https://sunlight.net/catalog/ring_58133.html  139 980 ₽   \n",
       "122109   280238      https://sunlight.net/catalog/ring_280238.html   89 980 ₽   \n",
       "122110   151456   https://sunlight.net/catalog/earring_151456.html        NaN   \n",
       "122111   104816  https://sunlight.net/catalog/necklace_104816.html        NaN   \n",
       "122112   358514      https://sunlight.net/catalog/ring_358514.html   51 940 ₽   \n",
       "\n",
       "          price_y price_personal  \\\n",
       "0        99 990 ₽       82 990 ₽   \n",
       "1       399 990 ₽      382 990 ₽   \n",
       "2       133 820 ₽      116 820 ₽   \n",
       "3       148 990 ₽      131 990 ₽   \n",
       "4       106 200 ₽       89 200 ₽   \n",
       "...           ...            ...   \n",
       "122108   69 990 ₽       41 994 ₽   \n",
       "122109   44 990 ₽       26 994 ₽   \n",
       "122110   12 990 ₽            NaN   \n",
       "122111   12 990 ₽            NaN   \n",
       "122112   25 970 ₽       15 582 ₽   \n",
       "\n",
       "                                                 discount  \n",
       "0                   ['Ещё -35% по коду: ЗОЛОТО до 23:59']  \n",
       "1                  ['Второе бесплатно, код:1=2 до 27.05']  \n",
       "2                   ['Ещё -35% по коду: ЗОЛОТО до 23:59']  \n",
       "3                   ['Ещё -35% по коду: ЗОЛОТО до 23:59']  \n",
       "4                   ['Ещё -35% по коду: ЗОЛОТО до 23:59']  \n",
       "...                                                   ...  \n",
       "122108  ['Ещё -10 000₽ здесь! Код: КУПИТЬ до 23:59', '...  \n",
       "122109  ['Ещё -7 500₽ здесь! Код: КУПИТЬ до 23:59', 'Е...  \n",
       "122110                                       ['ХИТ-цена']  \n",
       "122111                                       ['ХИТ-цена']  \n",
       "122112  ['Ещё -3 500₽ здесь! Код: КУПИТЬ до 23:59', 'Е...  \n",
       "\n",
       "[122113 rows x 12 columns]"
      ]
     },
     "execution_count": 43,
     "metadata": {},
     "output_type": "execute_result"
    }
   ],
   "source": [
    "data"
   ]
  },
  {
   "cell_type": "code",
   "execution_count": 44,
   "id": "881f3ca7",
   "metadata": {},
   "outputs": [],
   "source": [
    "data.to_csv(rf'\\\\gold585.int\\uk\\Общее хранилище файлов\\Служба аналитики\\МЮР\\parsed_data\\sunlight_raw.csv', index=False)"
   ]
  },
  {
   "cell_type": "code",
   "execution_count": 45,
   "id": "c79f2675",
   "metadata": {},
   "outputs": [],
   "source": [
    "def delete_files_in_folder(folder_path):\n",
    "    for filename in os.listdir(folder_path):\n",
    "        file_path = os.path.join(folder_path, filename)\n",
    "        try:\n",
    "            if os.path.isfile(file_path):\n",
    "                os.remove(file_path)\n",
    "        except Exception as e:\n",
    "            print(f'Ошибка при удалении файла {file_path}. {e}')"
   ]
  },
  {
   "cell_type": "code",
   "execution_count": 48,
   "id": "4fc475c1",
   "metadata": {},
   "outputs": [],
   "source": [
    "delete_files_in_folder(r'C:\\Users\\Trenkin.Sergey\\Desktop\\notebooks\\sunlight\\parsed_data')"
   ]
  },
  {
   "cell_type": "code",
   "execution_count": null,
   "id": "1c889881",
   "metadata": {},
   "outputs": [],
   "source": []
  }
 ],
 "metadata": {
  "kernelspec": {
   "display_name": "Python 3 (ipykernel)",
   "language": "python",
   "name": "python3"
  },
  "language_info": {
   "codemirror_mode": {
    "name": "ipython",
    "version": 3
   },
   "file_extension": ".py",
   "mimetype": "text/x-python",
   "name": "python",
   "nbconvert_exporter": "python",
   "pygments_lexer": "ipython3",
   "version": "3.12.4"
  }
 },
 "nbformat": 4,
 "nbformat_minor": 5
}
