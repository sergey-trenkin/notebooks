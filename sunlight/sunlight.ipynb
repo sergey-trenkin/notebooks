{
 "cells": [
  {
   "cell_type": "code",
   "execution_count": 1,
   "id": "0de2798c-82a4-4564-9f25-675ef49ea9a7",
   "metadata": {
    "tags": []
   },
   "outputs": [],
   "source": [
    "import json\n",
    "import re\n",
    "import time\n",
    "import requests\n",
    "import numpy as np\n",
    "import pandas as pd\n",
    "import os\n",
    "import glob\n",
    "from tqdm import tqdm\n",
    "from datetime import datetime\n",
    "from bs4 import BeautifulSoup\n",
    "from fake_useragent import UserAgent\n",
    "import warnings\n",
    "warnings.filterwarnings('ignore')\n",
    "from random import choice"
   ]
  },
  {
   "cell_type": "code",
   "execution_count": 2,
   "id": "6073ea0a-a53b-4c27-9a06-2c13d2c38e0e",
   "metadata": {
    "tags": []
   },
   "outputs": [],
   "source": [
    "current_datetime = datetime.now().strftime(\"%d-%m-%Y\")\n",
    "month_now = datetime.now().month\n",
    "day_now = datetime.now().day"
   ]
  },
  {
   "cell_type": "code",
   "execution_count": 3,
   "id": "51d301fa",
   "metadata": {},
   "outputs": [],
   "source": [
    "way = os.getcwd()"
   ]
  },
  {
   "cell_type": "markdown",
   "id": "28c397fc-d1ff-43b7-9815-46ec328e9fb5",
   "metadata": {},
   "source": [
    "# Cookies and Headers для парсинга скидки и цены"
   ]
  },
  {
   "cell_type": "code",
   "execution_count": 4,
   "id": "8f8f8bd1-9a62-4c54-b774-8aa3a44c1d1d",
   "metadata": {
    "tags": []
   },
   "outputs": [],
   "source": [
    "cookies_discount = {\n",
    "    'tmr_lvid': '286726132090325c59b36aa6b5e4aeaa',\n",
    "    'tmr_lvidTS': '1692163620235',\n",
    "    '_ym_uid': '1692163620496112993',\n",
    "    '_ym_d': '1692163620',\n",
    "    'city_id': '118',\n",
    "    'city_name': '%D0%A1%D0%B0%D0%BD%D0%BA%D1%82-%D0%9F%D0%B5%D1%82%D0%B5%D1%80%D0%B1%D1%83%D1%80%D0%B3',\n",
    "    'city_full_name': '%D0%A1%D0%B0%D0%BD%D0%BA%D1%82-%D0%9F%D0%B5%D1%82%D0%B5%D1%80%D0%B1%D1%83%D1%80%D0%B3',\n",
    "    'region_id': '090a0c31-3b91-49a3-aa35-0c784898170b',\n",
    "    'region_name': '%D0%A1%D0%B0%D0%BD%D0%BA%D1%82-%D0%9F%D0%B5%D1%82%D0%B5%D1%80%D0%B1%D1%83%D1%80%D0%B3',\n",
    "    'region_subdomain': 'spb',\n",
    "    '_tt_enable_cookie': '1',\n",
    "    '_ttp': 'tbKEEA3IkGrgdKpaT6-HRNf0K8h',\n",
    "    'ccart': 'off',\n",
    "    'uxs_uid': '898ab7e0-3bf5-11ee-8efe-f5b770db12a1',\n",
    "    'loggedin': '%D0%AE%D1%80%D0%B8%D0%B9',\n",
    "    'cseid': 'f4935df6bdac0029832e99cef94a5bc2',\n",
    "    'sessionid': 'nr24mlml3ze25rk734gkkmgx3yv9ou7x',\n",
    "    'authorization': 'true',\n",
    "    'mindboxDeviceUUID': 'c254fa3f-cfcd-4146-9778-65be21c6a4df',\n",
    "    'directCrm-session': '%7B%22deviceGuid%22%3A%22c254fa3f-cfcd-4146-9778-65be21c6a4df%22%7D',\n",
    "    'auid': '651660ce-a06e-4b17-bd6f-69feaf135b08:1r5lu8:WYtTZugo2xVE6SqAc5ZSp_W-n1s5ztPHYxPs8YIwGQA',\n",
    "    '_ga_G74SVHM1ZG': 'GS1.2.1700824600.19.0.1700824600.60.0.0',\n",
    "    '_ga_GRDJMMMRHQ': 'GS1.2.1700824600.33.0.1700824601.59.0.0',\n",
    "    '_ga_GRSMPDQ6SE': 'GS1.2.1700824598.88.1.1700825516.60.0.0',\n",
    "    '_ga_M9ZHPEJXBM': 'GS1.2.1700824599.88.1.1700825517.60.0.0',\n",
    "    'qr-go-to-the-app-banner': '1',\n",
    "    'sncid': 'b36ee46b-981d-11e5-add2-0050568f2465:1rBa43:O1Wy8KuwGDddSCM7NMHFsjGhdPaqxcjhdblvWWbVams',\n",
    "    'clt': 'new_old',\n",
    "    '_ym_isad': '2',\n",
    "    '_gid': 'GA1.2.2131018395.1702274408',\n",
    "    'city_auto_popup_shown': '1',\n",
    "    '_ym_visorc': 'b',\n",
    "    '_ga': 'GA1.2.333284150.1692163620',\n",
    "    '_ga_HJNSJ6NG5J': 'GS1.1.1702276831.120.1.1702280271.20.0.0',\n",
    "    'digi_uc': 'W1sidiIsIjM0OTMxNCIsMTcwMjI4MTIxMjA0Nl0sWyJ2IiwiODQwMjIiLDE3MDIyODAyMzEzNjZdLFsidiIsIjQ2Nzk3IiwxNzAyMjgwMTI4Mzc3XSxbInYiLCI5OTM3NTQiLDE3MDIyNzgwMTczMjddLFsidiIsIjE0NjUyMSIsMTcwMjI3NzI5NDExM10sWyJ2IiwiOTI2ODAiLDE3MDIyNzY5NDQ1NDRdLFsidiIsIjg4MjEzIiwxNzAxODU5MjE3OTg0XSxbInYiLCI5MTAyMSIsMTcwMTg1OTA2ODA2MF0sWyJ2IiwiOTg3MDUwIiwxNzAxNzc4NDc0NzY5XSxbInYiLCIyNTYyMTciLDE3MDEzNDIzNTc4NTRdXQ==',\n",
    "}\n",
    "\n",
    "headers_discount = {\n",
    "    'AB-TESTS': '{}',\n",
    "    'Accept': 'application/json, text/javascript, */*; q=0.01',\n",
    "    'Accept-Language': 'ru-RU,ru;q=0.9,en-US;q=0.8,en;q=0.7',\n",
    "    'Connection': 'keep-alive',\n",
    "    'Content-Type': 'application/json',\n",
    "    # 'Cookie': 'tmr_lvid=286726132090325c59b36aa6b5e4aeaa; tmr_lvidTS=1692163620235; _ym_uid=1692163620496112993; _ym_d=1692163620; city_id=118; city_name=%D0%A1%D0%B0%D0%BD%D0%BA%D1%82-%D0%9F%D0%B5%D1%82%D0%B5%D1%80%D0%B1%D1%83%D1%80%D0%B3; city_full_name=%D0%A1%D0%B0%D0%BD%D0%BA%D1%82-%D0%9F%D0%B5%D1%82%D0%B5%D1%80%D0%B1%D1%83%D1%80%D0%B3; region_id=090a0c31-3b91-49a3-aa35-0c784898170b; region_name=%D0%A1%D0%B0%D0%BD%D0%BA%D1%82-%D0%9F%D0%B5%D1%82%D0%B5%D1%80%D0%B1%D1%83%D1%80%D0%B3; region_subdomain=spb; _tt_enable_cookie=1; _ttp=tbKEEA3IkGrgdKpaT6-HRNf0K8h; ccart=off; uxs_uid=898ab7e0-3bf5-11ee-8efe-f5b770db12a1; loggedin=%D0%AE%D1%80%D0%B8%D0%B9; cseid=f4935df6bdac0029832e99cef94a5bc2; sessionid=nr24mlml3ze25rk734gkkmgx3yv9ou7x; authorization=true; mindboxDeviceUUID=c254fa3f-cfcd-4146-9778-65be21c6a4df; directCrm-session=%7B%22deviceGuid%22%3A%22c254fa3f-cfcd-4146-9778-65be21c6a4df%22%7D; auid=651660ce-a06e-4b17-bd6f-69feaf135b08:1r5lu8:WYtTZugo2xVE6SqAc5ZSp_W-n1s5ztPHYxPs8YIwGQA; _ga_G74SVHM1ZG=GS1.2.1700824600.19.0.1700824600.60.0.0; _ga_GRDJMMMRHQ=GS1.2.1700824600.33.0.1700824601.59.0.0; _ga_GRSMPDQ6SE=GS1.2.1700824598.88.1.1700825516.60.0.0; _ga_M9ZHPEJXBM=GS1.2.1700824599.88.1.1700825517.60.0.0; qr-go-to-the-app-banner=1; sncid=b36ee46b-981d-11e5-add2-0050568f2465:1rBa43:O1Wy8KuwGDddSCM7NMHFsjGhdPaqxcjhdblvWWbVams; clt=new_old; _ym_isad=2; _gid=GA1.2.2131018395.1702274408; city_auto_popup_shown=1; _ym_visorc=b; _ga=GA1.2.333284150.1692163620; _ga_HJNSJ6NG5J=GS1.1.1702276831.120.1.1702280271.20.0.0; digi_uc=W1sidiIsIjM0OTMxNCIsMTcwMjI4MTIxMjA0Nl0sWyJ2IiwiODQwMjIiLDE3MDIyODAyMzEzNjZdLFsidiIsIjQ2Nzk3IiwxNzAyMjgwMTI4Mzc3XSxbInYiLCI5OTM3NTQiLDE3MDIyNzgwMTczMjddLFsidiIsIjE0NjUyMSIsMTcwMjI3NzI5NDExM10sWyJ2IiwiOTI2ODAiLDE3MDIyNzY5NDQ1NDRdLFsidiIsIjg4MjEzIiwxNzAxODU5MjE3OTg0XSxbInYiLCI5MTAyMSIsMTcwMTg1OTA2ODA2MF0sWyJ2IiwiOTg3MDUwIiwxNzAxNzc4NDc0NzY5XSxbInYiLCIyNTYyMTciLDE3MDEzNDIzNTc4NTRdXQ==',\n",
    "    'Origin': 'https://spb.sunlight.net',\n",
    "    'Sec-Fetch-Dest': 'empty',\n",
    "    'Sec-Fetch-Mode': 'cors',\n",
    "    'Sec-Fetch-Site': 'same-site',\n",
    "    'User-Agent': 'Mozilla/5.0 (Windows NT 10.0; Win64; x64) AppleWebKit/537.36 (KHTML, like Gecko) Chrome/120.0.0.0 Safari/537.36',\n",
    "    'X-Requested-With': 'SunlightFrontendApp',\n",
    "    'sec-ch-ua': '\"Not_A Brand\";v=\"8\", \"Chromium\";v=\"120\", \"Google Chrome\";v=\"120\"',\n",
    "    'sec-ch-ua-mobile': '?0',\n",
    "    'sec-ch-ua-platform': '\"Windows\"',\n",
    "}\n",
    "\n",
    "# params = {\n",
    "#     'article': '35517',\n",
    "#     'city_id': '118',\n",
    "# }\n",
    "\n",
    "# response = requests.get(\n",
    "#     'https://api.sunlight.net/v6/catalog/products/card/purchase/',\n",
    "#     params=params,\n",
    "#     cookies=cookies_discount,\n",
    "#     headers=headers_discount,\n",
    "# )"
   ]
  },
  {
   "cell_type": "markdown",
   "id": "80c71c8e-ef5b-4839-9dfc-1e6182abcd2c",
   "metadata": {},
   "source": [
    "# Сбор скидок и цен"
   ]
  },
  {
   "cell_type": "code",
   "execution_count": 5,
   "id": "544d1d64-1b8a-4c62-a5b4-529f239d6cb5",
   "metadata": {
    "tags": []
   },
   "outputs": [],
   "source": [
    "def get_personal_price(table):\n",
    "    data_price = []\n",
    "    for art in tqdm(range(len(table['article']))):\n",
    "        # prx = choice(proxy_list)\n",
    "        params = {\n",
    "            'article': table['article'][art],\n",
    "            'city_id': '118'\n",
    "        }\n",
    "        try:\n",
    "            price_json = requests.get(\n",
    "                'https://api.sunlight.net/v6/catalog/products/card/prices/',\n",
    "                params=params,\n",
    "                cookies=cookies_discount,\n",
    "                headers=headers_discount,\n",
    "                timeout=15,\n",
    "                verify=False\n",
    "        )\n",
    "        except:\n",
    "            time.sleep(6)\n",
    "            price_json = requests.get(\n",
    "                'https://api.sunlight.net/v6/catalog/products/card/prices/',\n",
    "                params=params,\n",
    "                cookies=cookies_discount,\n",
    "                headers=headers_discount,\n",
    "                timeout=15,\n",
    "                verify=False\n",
    "                            )\n",
    "        try:\n",
    "            discount_json = requests.get(\n",
    "                'https://api.sunlight.net/v6/catalog/products/card/purchase/',\n",
    "                params=params,\n",
    "                cookies=cookies_discount,\n",
    "                headers=headers_discount,\n",
    "                timeout=15,\n",
    "                verify=False\n",
    "                            )\n",
    "        except:\n",
    "            time.sleep(6)\n",
    "            discount_json = requests.get(\n",
    "                'https://api.sunlight.net/v6/catalog/products/card/purchase/',\n",
    "                params=params,\n",
    "                cookies=cookies_discount,\n",
    "                headers=headers_discount,\n",
    "                timeout=15,\n",
    "                verify=False\n",
    "                            )\n",
    "        discount = []\n",
    "        try:\n",
    "            price_old = price_json.json()['content']['default_price']['base_sum']\n",
    "        except:\n",
    "            price_old = np.nan\n",
    "        try:\n",
    "            price = price_json.json()['content']['default_price'][('result_sum')]\n",
    "        except:\n",
    "            price = np.nan\n",
    "        try:\n",
    "            price_personal = price_json.json()['content']['default_price']['personal_block']['value']\n",
    "        except:\n",
    "            price_personal = np.nan\n",
    "\n",
    "        try:\n",
    "            for i in range(len(discount_json.json()['content']['nameplates'])):\n",
    "                discount.append(discount_json.json()['content']['nameplates'][i]['text']['label'])\n",
    "        except:\n",
    "            discount.append(np.nan)\n",
    "            \n",
    "        data_price.append({\n",
    "            'article': table['article'][art],\n",
    "            'price_old': price_old,\n",
    "            'price': price,\n",
    "            'price_personal': price_personal,\n",
    "            'discount': discount\n",
    "\n",
    "        })\n",
    "    return data_price"
   ]
  },
  {
   "cell_type": "markdown",
   "id": "039dc4ab-e90b-422e-a7eb-da872ef9a0cc",
   "metadata": {},
   "source": [
    "# Сбор цены, названия, группы, артикула"
   ]
  },
  {
   "cell_type": "code",
   "execution_count": 6,
   "id": "18788b3a-7f05-42fc-8856-81487b576762",
   "metadata": {},
   "outputs": [],
   "source": [
    "def get_sunlight(soup):\n",
    "    try:\n",
    "        price = soup.find(class_=\"supreme-product-card__price-discount-price\").text\n",
    "        price = re.sub(r'\\D', '', str(price))\n",
    "    except:\n",
    "        price = np.nan\n",
    "    try:\n",
    "        name_product = soup.find('h1', class_=\"supreme-product-card__about-title\").text\n",
    "    except:\n",
    "        name_product = np.nan\n",
    "    try:\n",
    "        group_product = soup.find_all('span', {'property': 'name'})[1].text\n",
    "    except:\n",
    "        group_product = np.nan\n",
    "    try:\n",
    "        article_product = soup.find_all('div', class_=\"supreme-product-card__product-article\")[0].find('span').text\n",
    "        article_product = re.sub('\\D', '', str(article_product))\n",
    "    except:\n",
    "        article_product = np.nan\n",
    "    return price, name_product, group_product, article_product"
   ]
  },
  {
   "cell_type": "markdown",
   "id": "9147182a-9bbe-4c10-99f5-e7c12cea41ac",
   "metadata": {},
   "source": [
    "# Сбор всех параметров словарем"
   ]
  },
  {
   "cell_type": "code",
   "execution_count": 7,
   "id": "54919764-c77c-48ed-87a7-f0821c4ffbd6",
   "metadata": {
    "tags": []
   },
   "outputs": [],
   "source": [
    "def get_params(soup):\n",
    "    names = []\n",
    "    values = []\n",
    "    leight = len(soup.find_all('span', {'class': 'supreme-product-card-description__item-text'}))\n",
    "    list_names = soup.find_all('div', {'class': 'supreme-product-card-description__item-title'})[-leight:]\n",
    "    for i in range(leight):\n",
    "        try:\n",
    "            nam = list_names[i].text\n",
    "            names.append(nam.replace('\\n', '').strip())\n",
    "        except:\n",
    "            names.append(np.nan)\n",
    "        try:\n",
    "            values.append(soup.find_all('span', {'class': 'supreme-product-card-description__item-text'})[i].text)\n",
    "        except:\n",
    "            values.append(np.nan)\n",
    "    sunlight_params = dict(zip(names, values))\n",
    "    return sunlight_params"
   ]
  },
  {
   "cell_type": "markdown",
   "id": "e3a98a99-7b19-4585-8689-7664e5a26baf",
   "metadata": {
    "tags": []
   },
   "source": [
    "# Сбор ссылок"
   ]
  },
  {
   "cell_type": "code",
   "execution_count": 8,
   "id": "340b4cef-0f0b-4bab-93c0-d2c5c5b79393",
   "metadata": {
    "tags": []
   },
   "outputs": [],
   "source": [
    "def get_links(url_sunlight):\n",
    "    home = 'https://sunlight.net'\n",
    "    links = []\n",
    "    pages_max = 250\n",
    "    pages = int(pages_max + 1)\n",
    "    for i in tqdm(range(1, pages)):\n",
    "        url = f'{url_sunlight}&page={i}'\n",
    "        resp = requests.get(url, headers={'User-Agent': UserAgent().chrome}, verify=False, timeout=70)\n",
    "        soup = BeautifulSoup(resp.text, 'html.parser')\n",
    "        for link in soup.find_all('div', class_=\"cl-item js-cl-item\"):\n",
    "            links.append(home + link.find('a', href=True)['href'])\n",
    "    links = list(map(lambda x: x.replace('#product-reviews', ''), links))\n",
    "    return links"
   ]
  },
  {
   "cell_type": "markdown",
   "id": "3ed459ba-afaf-4562-afd3-38fc8accc435",
   "metadata": {
    "tags": []
   },
   "source": [
    "# Общий сбор данных"
   ]
  },
  {
   "cell_type": "code",
   "execution_count": 9,
   "id": "4ff1e528-5aad-43fa-bb38-7a84fd5871d9",
   "metadata": {
    "tags": []
   },
   "outputs": [],
   "source": [
    "def sunlight_parser(links):\n",
    "    data = []\n",
    "    click = 0\n",
    "    for link_pars in tqdm(links):\n",
    "        # prx = choice(proxy_list)\n",
    "        try:\n",
    "            resp = requests.get(link_pars, headers={'User-Agent': UserAgent().chrome}, timeout=70, verify=False)\n",
    "        except:\n",
    "            time.sleep(6)\n",
    "            resp = requests.get(link_pars, headers={'User-Agent': UserAgent().chrome}, timeout=70, verify=False)\n",
    "        good = BeautifulSoup(resp.text, 'lxml')\n",
    "        data.append({\"date\": current_datetime,\n",
    "                    \"competitor\": \"Sunlight\",\n",
    "                    \"name\": get_sunlight(good)[1],\n",
    "                    \"group\": get_sunlight(good)[2],\n",
    "                    \"params\": get_params(good),\n",
    "                    \"price\": get_sunlight(good)[0],\n",
    "                    \"article\": get_sunlight(good)[3],\n",
    "                    'url': link_pars\n",
    "                    })\n",
    "        if click == 50:\n",
    "            click = 0\n",
    "            time.sleep(0.5)\n",
    "        else:\n",
    "            continue\n",
    "    data = pd.DataFrame(data)\n",
    "    return data"
   ]
  },
  {
   "cell_type": "code",
   "execution_count": 10,
   "id": "c8a8da36-e515-4a32-9e1a-da4b5607da23",
   "metadata": {
    "tags": []
   },
   "outputs": [
    {
     "name": "stderr",
     "output_type": "stream",
     "text": [
      "  0%|          | 0/250 [00:00<?, ?it/s]"
     ]
    },
    {
     "name": "stderr",
     "output_type": "stream",
     "text": [
      "100%|██████████| 250/250 [04:29<00:00,  1.08s/it]\n"
     ]
    }
   ],
   "source": [
    "links_sunlight = get_links('https://spb.sunlight.net/catalog/?proba=2494')"
   ]
  },
  {
   "cell_type": "code",
   "execution_count": 11,
   "id": "814a6cdd",
   "metadata": {},
   "outputs": [],
   "source": [
    "b = pd.DataFrame(links_sunlight)"
   ]
  },
  {
   "cell_type": "code",
   "execution_count": 12,
   "id": "9c932189",
   "metadata": {},
   "outputs": [],
   "source": [
    "b = b.drop_duplicates()"
   ]
  },
  {
   "cell_type": "code",
   "execution_count": 13,
   "id": "bbba5f83",
   "metadata": {},
   "outputs": [],
   "source": [
    "b = b[0].tolist()"
   ]
  },
  {
   "cell_type": "code",
   "execution_count": 14,
   "id": "e448f1c9-0512-4bec-a461-fccb0e3fcf80",
   "metadata": {
    "tags": []
   },
   "outputs": [],
   "source": [
    "slices = 100\n",
    "chunks = np.array_split(b, slices)"
   ]
  },
  {
   "cell_type": "code",
   "execution_count": 15,
   "id": "289e454a-ff1d-4c0c-a012-f3a6427f81df",
   "metadata": {
    "tags": []
   },
   "outputs": [
    {
     "name": "stdout",
     "output_type": "stream",
     "text": [
      "начало парсинга 1 части ссылок\n"
     ]
    },
    {
     "name": "stderr",
     "output_type": "stream",
     "text": [
      "100%|██████████| 140/140 [02:14<00:00,  1.04it/s]\n"
     ]
    },
    {
     "name": "stdout",
     "output_type": "stream",
     "text": [
      "начало парсинга 2 части ссылок\n"
     ]
    },
    {
     "name": "stderr",
     "output_type": "stream",
     "text": [
      "100%|██████████| 140/140 [02:08<00:00,  1.09it/s]\n"
     ]
    },
    {
     "name": "stdout",
     "output_type": "stream",
     "text": [
      "начало парсинга 3 части ссылок\n"
     ]
    },
    {
     "name": "stderr",
     "output_type": "stream",
     "text": [
      "100%|██████████| 140/140 [02:13<00:00,  1.05it/s]\n"
     ]
    },
    {
     "name": "stdout",
     "output_type": "stream",
     "text": [
      "начало парсинга 4 части ссылок\n"
     ]
    },
    {
     "name": "stderr",
     "output_type": "stream",
     "text": [
      "100%|██████████| 140/140 [02:10<00:00,  1.07it/s]\n"
     ]
    },
    {
     "name": "stdout",
     "output_type": "stream",
     "text": [
      "начало парсинга 5 части ссылок\n"
     ]
    },
    {
     "name": "stderr",
     "output_type": "stream",
     "text": [
      "100%|██████████| 140/140 [02:08<00:00,  1.09it/s]\n"
     ]
    },
    {
     "name": "stdout",
     "output_type": "stream",
     "text": [
      "начало парсинга 6 части ссылок\n"
     ]
    },
    {
     "name": "stderr",
     "output_type": "stream",
     "text": [
      "100%|██████████| 140/140 [02:10<00:00,  1.07it/s]\n"
     ]
    },
    {
     "name": "stdout",
     "output_type": "stream",
     "text": [
      "начало парсинга 7 части ссылок\n"
     ]
    },
    {
     "name": "stderr",
     "output_type": "stream",
     "text": [
      "100%|██████████| 140/140 [02:05<00:00,  1.12it/s]\n"
     ]
    },
    {
     "name": "stdout",
     "output_type": "stream",
     "text": [
      "начало парсинга 8 части ссылок\n"
     ]
    },
    {
     "name": "stderr",
     "output_type": "stream",
     "text": [
      "100%|██████████| 140/140 [01:59<00:00,  1.17it/s]\n"
     ]
    },
    {
     "name": "stdout",
     "output_type": "stream",
     "text": [
      "начало парсинга 9 части ссылок\n"
     ]
    },
    {
     "name": "stderr",
     "output_type": "stream",
     "text": [
      "100%|██████████| 140/140 [02:07<00:00,  1.10it/s]\n"
     ]
    },
    {
     "name": "stdout",
     "output_type": "stream",
     "text": [
      "начало парсинга 10 части ссылок\n"
     ]
    },
    {
     "name": "stderr",
     "output_type": "stream",
     "text": [
      "100%|██████████| 140/140 [02:12<00:00,  1.06it/s]\n"
     ]
    },
    {
     "name": "stdout",
     "output_type": "stream",
     "text": [
      "начало парсинга 11 части ссылок\n"
     ]
    },
    {
     "name": "stderr",
     "output_type": "stream",
     "text": [
      "100%|██████████| 140/140 [02:12<00:00,  1.06it/s]\n"
     ]
    },
    {
     "name": "stdout",
     "output_type": "stream",
     "text": [
      "начало парсинга 12 части ссылок\n"
     ]
    },
    {
     "name": "stderr",
     "output_type": "stream",
     "text": [
      "100%|██████████| 140/140 [02:21<00:00,  1.01s/it]\n"
     ]
    },
    {
     "name": "stdout",
     "output_type": "stream",
     "text": [
      "начало парсинга 13 части ссылок\n"
     ]
    },
    {
     "name": "stderr",
     "output_type": "stream",
     "text": [
      "100%|██████████| 140/140 [02:14<00:00,  1.04it/s]\n"
     ]
    },
    {
     "name": "stdout",
     "output_type": "stream",
     "text": [
      "начало парсинга 14 части ссылок\n"
     ]
    },
    {
     "name": "stderr",
     "output_type": "stream",
     "text": [
      "100%|██████████| 140/140 [02:15<00:00,  1.04it/s]\n"
     ]
    },
    {
     "name": "stdout",
     "output_type": "stream",
     "text": [
      "начало парсинга 15 части ссылок\n"
     ]
    },
    {
     "name": "stderr",
     "output_type": "stream",
     "text": [
      "100%|██████████| 140/140 [02:13<00:00,  1.05it/s]\n"
     ]
    },
    {
     "name": "stdout",
     "output_type": "stream",
     "text": [
      "начало парсинга 16 части ссылок\n"
     ]
    },
    {
     "name": "stderr",
     "output_type": "stream",
     "text": [
      "100%|██████████| 140/140 [02:15<00:00,  1.03it/s]\n"
     ]
    },
    {
     "name": "stdout",
     "output_type": "stream",
     "text": [
      "начало парсинга 17 части ссылок\n"
     ]
    },
    {
     "name": "stderr",
     "output_type": "stream",
     "text": [
      "100%|██████████| 140/140 [02:24<00:00,  1.03s/it]\n"
     ]
    },
    {
     "name": "stdout",
     "output_type": "stream",
     "text": [
      "начало парсинга 18 части ссылок\n"
     ]
    },
    {
     "name": "stderr",
     "output_type": "stream",
     "text": [
      "100%|██████████| 140/140 [02:13<00:00,  1.05it/s]\n"
     ]
    },
    {
     "name": "stdout",
     "output_type": "stream",
     "text": [
      "начало парсинга 19 части ссылок\n"
     ]
    },
    {
     "name": "stderr",
     "output_type": "stream",
     "text": [
      "100%|██████████| 140/140 [02:16<00:00,  1.02it/s]\n"
     ]
    },
    {
     "name": "stdout",
     "output_type": "stream",
     "text": [
      "начало парсинга 20 части ссылок\n"
     ]
    },
    {
     "name": "stderr",
     "output_type": "stream",
     "text": [
      "100%|██████████| 140/140 [02:11<00:00,  1.07it/s]\n"
     ]
    },
    {
     "name": "stdout",
     "output_type": "stream",
     "text": [
      "начало парсинга 21 части ссылок\n"
     ]
    },
    {
     "name": "stderr",
     "output_type": "stream",
     "text": [
      "100%|██████████| 140/140 [02:13<00:00,  1.05it/s]\n"
     ]
    },
    {
     "name": "stdout",
     "output_type": "stream",
     "text": [
      "начало парсинга 22 части ссылок\n"
     ]
    },
    {
     "name": "stderr",
     "output_type": "stream",
     "text": [
      "100%|██████████| 140/140 [02:22<00:00,  1.02s/it]\n"
     ]
    },
    {
     "name": "stdout",
     "output_type": "stream",
     "text": [
      "начало парсинга 23 части ссылок\n"
     ]
    },
    {
     "name": "stderr",
     "output_type": "stream",
     "text": [
      "100%|██████████| 140/140 [02:14<00:00,  1.04it/s]\n"
     ]
    },
    {
     "name": "stdout",
     "output_type": "stream",
     "text": [
      "начало парсинга 24 части ссылок\n"
     ]
    },
    {
     "name": "stderr",
     "output_type": "stream",
     "text": [
      "100%|██████████| 140/140 [02:25<00:00,  1.04s/it]\n"
     ]
    },
    {
     "name": "stdout",
     "output_type": "stream",
     "text": [
      "начало парсинга 25 части ссылок\n"
     ]
    },
    {
     "name": "stderr",
     "output_type": "stream",
     "text": [
      "100%|██████████| 140/140 [02:14<00:00,  1.04it/s]\n"
     ]
    },
    {
     "name": "stdout",
     "output_type": "stream",
     "text": [
      "начало парсинга 26 части ссылок\n"
     ]
    },
    {
     "name": "stderr",
     "output_type": "stream",
     "text": [
      "100%|██████████| 140/140 [02:16<00:00,  1.03it/s]\n"
     ]
    },
    {
     "name": "stdout",
     "output_type": "stream",
     "text": [
      "начало парсинга 27 части ссылок\n"
     ]
    },
    {
     "name": "stderr",
     "output_type": "stream",
     "text": [
      "100%|██████████| 140/140 [02:12<00:00,  1.06it/s]\n"
     ]
    },
    {
     "name": "stdout",
     "output_type": "stream",
     "text": [
      "начало парсинга 28 части ссылок\n"
     ]
    },
    {
     "name": "stderr",
     "output_type": "stream",
     "text": [
      "100%|██████████| 140/140 [02:10<00:00,  1.08it/s]\n"
     ]
    },
    {
     "name": "stdout",
     "output_type": "stream",
     "text": [
      "начало парсинга 29 части ссылок\n"
     ]
    },
    {
     "name": "stderr",
     "output_type": "stream",
     "text": [
      "100%|██████████| 140/140 [02:13<00:00,  1.05it/s]\n"
     ]
    },
    {
     "name": "stdout",
     "output_type": "stream",
     "text": [
      "начало парсинга 30 части ссылок\n"
     ]
    },
    {
     "name": "stderr",
     "output_type": "stream",
     "text": [
      "100%|██████████| 140/140 [02:08<00:00,  1.09it/s]\n"
     ]
    },
    {
     "name": "stdout",
     "output_type": "stream",
     "text": [
      "начало парсинга 31 части ссылок\n"
     ]
    },
    {
     "name": "stderr",
     "output_type": "stream",
     "text": [
      "100%|██████████| 140/140 [02:13<00:00,  1.05it/s]\n"
     ]
    },
    {
     "name": "stdout",
     "output_type": "stream",
     "text": [
      "начало парсинга 32 части ссылок\n"
     ]
    },
    {
     "name": "stderr",
     "output_type": "stream",
     "text": [
      "100%|██████████| 140/140 [02:12<00:00,  1.06it/s]\n"
     ]
    },
    {
     "name": "stdout",
     "output_type": "stream",
     "text": [
      "начало парсинга 33 части ссылок\n"
     ]
    },
    {
     "name": "stderr",
     "output_type": "stream",
     "text": [
      "100%|██████████| 140/140 [02:08<00:00,  1.09it/s]\n"
     ]
    },
    {
     "name": "stdout",
     "output_type": "stream",
     "text": [
      "начало парсинга 34 части ссылок\n"
     ]
    },
    {
     "name": "stderr",
     "output_type": "stream",
     "text": [
      "100%|██████████| 140/140 [02:07<00:00,  1.09it/s]\n"
     ]
    },
    {
     "name": "stdout",
     "output_type": "stream",
     "text": [
      "начало парсинга 35 части ссылок\n"
     ]
    },
    {
     "name": "stderr",
     "output_type": "stream",
     "text": [
      "100%|██████████| 140/140 [02:09<00:00,  1.08it/s]\n"
     ]
    },
    {
     "name": "stdout",
     "output_type": "stream",
     "text": [
      "начало парсинга 36 части ссылок\n"
     ]
    },
    {
     "name": "stderr",
     "output_type": "stream",
     "text": [
      "100%|██████████| 139/139 [02:07<00:00,  1.09it/s]\n"
     ]
    },
    {
     "name": "stdout",
     "output_type": "stream",
     "text": [
      "начало парсинга 37 части ссылок\n"
     ]
    },
    {
     "name": "stderr",
     "output_type": "stream",
     "text": [
      "100%|██████████| 139/139 [02:07<00:00,  1.09it/s]\n"
     ]
    },
    {
     "name": "stdout",
     "output_type": "stream",
     "text": [
      "начало парсинга 38 части ссылок\n"
     ]
    },
    {
     "name": "stderr",
     "output_type": "stream",
     "text": [
      "100%|██████████| 139/139 [02:04<00:00,  1.11it/s]\n"
     ]
    },
    {
     "name": "stdout",
     "output_type": "stream",
     "text": [
      "начало парсинга 39 части ссылок\n"
     ]
    },
    {
     "name": "stderr",
     "output_type": "stream",
     "text": [
      "100%|██████████| 139/139 [02:12<00:00,  1.05it/s]\n"
     ]
    },
    {
     "name": "stdout",
     "output_type": "stream",
     "text": [
      "начало парсинга 40 части ссылок\n"
     ]
    },
    {
     "name": "stderr",
     "output_type": "stream",
     "text": [
      "100%|██████████| 139/139 [02:13<00:00,  1.04it/s]\n"
     ]
    },
    {
     "name": "stdout",
     "output_type": "stream",
     "text": [
      "начало парсинга 41 части ссылок\n"
     ]
    },
    {
     "name": "stderr",
     "output_type": "stream",
     "text": [
      "100%|██████████| 139/139 [02:14<00:00,  1.04it/s]\n"
     ]
    },
    {
     "name": "stdout",
     "output_type": "stream",
     "text": [
      "начало парсинга 42 части ссылок\n"
     ]
    },
    {
     "name": "stderr",
     "output_type": "stream",
     "text": [
      "100%|██████████| 139/139 [02:22<00:00,  1.03s/it]\n"
     ]
    },
    {
     "name": "stdout",
     "output_type": "stream",
     "text": [
      "начало парсинга 43 части ссылок\n"
     ]
    },
    {
     "name": "stderr",
     "output_type": "stream",
     "text": [
      "100%|██████████| 139/139 [02:20<00:00,  1.01s/it]\n"
     ]
    },
    {
     "name": "stdout",
     "output_type": "stream",
     "text": [
      "начало парсинга 44 части ссылок\n"
     ]
    },
    {
     "name": "stderr",
     "output_type": "stream",
     "text": [
      "100%|██████████| 139/139 [02:12<00:00,  1.05it/s]\n"
     ]
    },
    {
     "name": "stdout",
     "output_type": "stream",
     "text": [
      "начало парсинга 45 части ссылок\n"
     ]
    },
    {
     "name": "stderr",
     "output_type": "stream",
     "text": [
      "100%|██████████| 139/139 [02:10<00:00,  1.06it/s]\n"
     ]
    },
    {
     "name": "stdout",
     "output_type": "stream",
     "text": [
      "начало парсинга 46 части ссылок\n"
     ]
    },
    {
     "name": "stderr",
     "output_type": "stream",
     "text": [
      "100%|██████████| 139/139 [02:18<00:00,  1.01it/s]\n"
     ]
    },
    {
     "name": "stdout",
     "output_type": "stream",
     "text": [
      "начало парсинга 47 части ссылок\n"
     ]
    },
    {
     "name": "stderr",
     "output_type": "stream",
     "text": [
      "100%|██████████| 139/139 [02:01<00:00,  1.14it/s]\n"
     ]
    },
    {
     "name": "stdout",
     "output_type": "stream",
     "text": [
      "начало парсинга 48 части ссылок\n"
     ]
    },
    {
     "name": "stderr",
     "output_type": "stream",
     "text": [
      "100%|██████████| 139/139 [02:18<00:00,  1.01it/s]\n"
     ]
    },
    {
     "name": "stdout",
     "output_type": "stream",
     "text": [
      "начало парсинга 49 части ссылок\n"
     ]
    },
    {
     "name": "stderr",
     "output_type": "stream",
     "text": [
      "100%|██████████| 139/139 [02:11<00:00,  1.05it/s]\n"
     ]
    },
    {
     "name": "stdout",
     "output_type": "stream",
     "text": [
      "начало парсинга 50 части ссылок\n"
     ]
    },
    {
     "name": "stderr",
     "output_type": "stream",
     "text": [
      "100%|██████████| 139/139 [02:16<00:00,  1.02it/s]\n"
     ]
    },
    {
     "name": "stdout",
     "output_type": "stream",
     "text": [
      "начало парсинга 51 части ссылок\n"
     ]
    },
    {
     "name": "stderr",
     "output_type": "stream",
     "text": [
      "100%|██████████| 139/139 [02:08<00:00,  1.09it/s]\n"
     ]
    },
    {
     "name": "stdout",
     "output_type": "stream",
     "text": [
      "начало парсинга 52 части ссылок\n"
     ]
    },
    {
     "name": "stderr",
     "output_type": "stream",
     "text": [
      "100%|██████████| 139/139 [02:10<00:00,  1.07it/s]\n"
     ]
    },
    {
     "name": "stdout",
     "output_type": "stream",
     "text": [
      "начало парсинга 53 части ссылок\n"
     ]
    },
    {
     "name": "stderr",
     "output_type": "stream",
     "text": [
      "100%|██████████| 139/139 [02:07<00:00,  1.09it/s]\n"
     ]
    },
    {
     "name": "stdout",
     "output_type": "stream",
     "text": [
      "начало парсинга 54 части ссылок\n"
     ]
    },
    {
     "name": "stderr",
     "output_type": "stream",
     "text": [
      "100%|██████████| 139/139 [02:09<00:00,  1.08it/s]\n"
     ]
    },
    {
     "name": "stdout",
     "output_type": "stream",
     "text": [
      "начало парсинга 55 части ссылок\n"
     ]
    },
    {
     "name": "stderr",
     "output_type": "stream",
     "text": [
      "100%|██████████| 139/139 [02:07<00:00,  1.09it/s]\n"
     ]
    },
    {
     "name": "stdout",
     "output_type": "stream",
     "text": [
      "начало парсинга 56 части ссылок\n"
     ]
    },
    {
     "name": "stderr",
     "output_type": "stream",
     "text": [
      "100%|██████████| 139/139 [02:08<00:00,  1.08it/s]\n"
     ]
    },
    {
     "name": "stdout",
     "output_type": "stream",
     "text": [
      "начало парсинга 57 части ссылок\n"
     ]
    },
    {
     "name": "stderr",
     "output_type": "stream",
     "text": [
      "100%|██████████| 139/139 [02:10<00:00,  1.06it/s]\n"
     ]
    },
    {
     "name": "stdout",
     "output_type": "stream",
     "text": [
      "начало парсинга 58 части ссылок\n"
     ]
    },
    {
     "name": "stderr",
     "output_type": "stream",
     "text": [
      "100%|██████████| 139/139 [02:21<00:00,  1.02s/it]\n"
     ]
    },
    {
     "name": "stdout",
     "output_type": "stream",
     "text": [
      "начало парсинга 59 части ссылок\n"
     ]
    },
    {
     "name": "stderr",
     "output_type": "stream",
     "text": [
      "100%|██████████| 139/139 [02:11<00:00,  1.05it/s]\n"
     ]
    },
    {
     "name": "stdout",
     "output_type": "stream",
     "text": [
      "начало парсинга 60 части ссылок\n"
     ]
    },
    {
     "name": "stderr",
     "output_type": "stream",
     "text": [
      "100%|██████████| 139/139 [02:18<00:00,  1.00it/s]\n"
     ]
    },
    {
     "name": "stdout",
     "output_type": "stream",
     "text": [
      "начало парсинга 61 части ссылок\n"
     ]
    },
    {
     "name": "stderr",
     "output_type": "stream",
     "text": [
      "100%|██████████| 139/139 [02:15<00:00,  1.02it/s]\n"
     ]
    },
    {
     "name": "stdout",
     "output_type": "stream",
     "text": [
      "начало парсинга 62 части ссылок\n"
     ]
    },
    {
     "name": "stderr",
     "output_type": "stream",
     "text": [
      "100%|██████████| 139/139 [02:21<00:00,  1.02s/it]\n"
     ]
    },
    {
     "name": "stdout",
     "output_type": "stream",
     "text": [
      "начало парсинга 63 части ссылок\n"
     ]
    },
    {
     "name": "stderr",
     "output_type": "stream",
     "text": [
      "100%|██████████| 139/139 [02:08<00:00,  1.08it/s]\n"
     ]
    },
    {
     "name": "stdout",
     "output_type": "stream",
     "text": [
      "начало парсинга 64 части ссылок\n"
     ]
    },
    {
     "name": "stderr",
     "output_type": "stream",
     "text": [
      "100%|██████████| 139/139 [02:09<00:00,  1.07it/s]\n"
     ]
    },
    {
     "name": "stdout",
     "output_type": "stream",
     "text": [
      "начало парсинга 65 части ссылок\n"
     ]
    },
    {
     "name": "stderr",
     "output_type": "stream",
     "text": [
      "100%|██████████| 139/139 [02:09<00:00,  1.08it/s]\n"
     ]
    },
    {
     "name": "stdout",
     "output_type": "stream",
     "text": [
      "начало парсинга 66 части ссылок\n"
     ]
    },
    {
     "name": "stderr",
     "output_type": "stream",
     "text": [
      "100%|██████████| 139/139 [02:12<00:00,  1.05it/s]\n"
     ]
    },
    {
     "name": "stdout",
     "output_type": "stream",
     "text": [
      "начало парсинга 67 части ссылок\n"
     ]
    },
    {
     "name": "stderr",
     "output_type": "stream",
     "text": [
      "100%|██████████| 139/139 [02:05<00:00,  1.11it/s]\n"
     ]
    },
    {
     "name": "stdout",
     "output_type": "stream",
     "text": [
      "начало парсинга 68 части ссылок\n"
     ]
    },
    {
     "name": "stderr",
     "output_type": "stream",
     "text": [
      "100%|██████████| 139/139 [02:11<00:00,  1.05it/s]\n"
     ]
    },
    {
     "name": "stdout",
     "output_type": "stream",
     "text": [
      "начало парсинга 69 части ссылок\n"
     ]
    },
    {
     "name": "stderr",
     "output_type": "stream",
     "text": [
      "100%|██████████| 139/139 [02:08<00:00,  1.08it/s]\n"
     ]
    },
    {
     "name": "stdout",
     "output_type": "stream",
     "text": [
      "начало парсинга 70 части ссылок\n"
     ]
    },
    {
     "name": "stderr",
     "output_type": "stream",
     "text": [
      "100%|██████████| 139/139 [02:08<00:00,  1.08it/s]\n"
     ]
    },
    {
     "name": "stdout",
     "output_type": "stream",
     "text": [
      "начало парсинга 71 части ссылок\n"
     ]
    },
    {
     "name": "stderr",
     "output_type": "stream",
     "text": [
      "100%|██████████| 139/139 [02:04<00:00,  1.12it/s]\n"
     ]
    },
    {
     "name": "stdout",
     "output_type": "stream",
     "text": [
      "начало парсинга 72 части ссылок\n"
     ]
    },
    {
     "name": "stderr",
     "output_type": "stream",
     "text": [
      "100%|██████████| 139/139 [02:02<00:00,  1.13it/s]\n"
     ]
    },
    {
     "name": "stdout",
     "output_type": "stream",
     "text": [
      "начало парсинга 73 части ссылок\n"
     ]
    },
    {
     "name": "stderr",
     "output_type": "stream",
     "text": [
      "100%|██████████| 139/139 [02:04<00:00,  1.11it/s]\n"
     ]
    },
    {
     "name": "stdout",
     "output_type": "stream",
     "text": [
      "начало парсинга 74 части ссылок\n"
     ]
    },
    {
     "name": "stderr",
     "output_type": "stream",
     "text": [
      "100%|██████████| 139/139 [02:08<00:00,  1.08it/s]\n"
     ]
    },
    {
     "name": "stdout",
     "output_type": "stream",
     "text": [
      "начало парсинга 75 части ссылок\n"
     ]
    },
    {
     "name": "stderr",
     "output_type": "stream",
     "text": [
      "100%|██████████| 139/139 [02:10<00:00,  1.06it/s]\n"
     ]
    },
    {
     "name": "stdout",
     "output_type": "stream",
     "text": [
      "начало парсинга 76 части ссылок\n"
     ]
    },
    {
     "name": "stderr",
     "output_type": "stream",
     "text": [
      "100%|██████████| 139/139 [02:06<00:00,  1.10it/s]\n"
     ]
    },
    {
     "name": "stdout",
     "output_type": "stream",
     "text": [
      "начало парсинга 77 части ссылок\n"
     ]
    },
    {
     "name": "stderr",
     "output_type": "stream",
     "text": [
      "100%|██████████| 139/139 [02:09<00:00,  1.07it/s]\n"
     ]
    },
    {
     "name": "stdout",
     "output_type": "stream",
     "text": [
      "начало парсинга 78 части ссылок\n"
     ]
    },
    {
     "name": "stderr",
     "output_type": "stream",
     "text": [
      "100%|██████████| 139/139 [02:04<00:00,  1.12it/s]\n"
     ]
    },
    {
     "name": "stdout",
     "output_type": "stream",
     "text": [
      "начало парсинга 79 части ссылок\n"
     ]
    },
    {
     "name": "stderr",
     "output_type": "stream",
     "text": [
      "100%|██████████| 139/139 [02:08<00:00,  1.08it/s]\n"
     ]
    },
    {
     "name": "stdout",
     "output_type": "stream",
     "text": [
      "начало парсинга 80 части ссылок\n"
     ]
    },
    {
     "name": "stderr",
     "output_type": "stream",
     "text": [
      "100%|██████████| 139/139 [02:11<00:00,  1.06it/s]\n"
     ]
    },
    {
     "name": "stdout",
     "output_type": "stream",
     "text": [
      "начало парсинга 81 части ссылок\n"
     ]
    },
    {
     "name": "stderr",
     "output_type": "stream",
     "text": [
      "100%|██████████| 139/139 [02:13<00:00,  1.04it/s]\n"
     ]
    },
    {
     "name": "stdout",
     "output_type": "stream",
     "text": [
      "начало парсинга 82 части ссылок\n"
     ]
    },
    {
     "name": "stderr",
     "output_type": "stream",
     "text": [
      "100%|██████████| 139/139 [02:16<00:00,  1.02it/s]\n"
     ]
    },
    {
     "name": "stdout",
     "output_type": "stream",
     "text": [
      "начало парсинга 83 части ссылок\n"
     ]
    },
    {
     "name": "stderr",
     "output_type": "stream",
     "text": [
      "100%|██████████| 139/139 [02:01<00:00,  1.15it/s]\n"
     ]
    },
    {
     "name": "stdout",
     "output_type": "stream",
     "text": [
      "начало парсинга 84 части ссылок\n"
     ]
    },
    {
     "name": "stderr",
     "output_type": "stream",
     "text": [
      "100%|██████████| 139/139 [02:02<00:00,  1.13it/s]\n"
     ]
    },
    {
     "name": "stdout",
     "output_type": "stream",
     "text": [
      "начало парсинга 85 части ссылок\n"
     ]
    },
    {
     "name": "stderr",
     "output_type": "stream",
     "text": [
      "100%|██████████| 139/139 [02:07<00:00,  1.09it/s]\n"
     ]
    },
    {
     "name": "stdout",
     "output_type": "stream",
     "text": [
      "начало парсинга 86 части ссылок\n"
     ]
    },
    {
     "name": "stderr",
     "output_type": "stream",
     "text": [
      "100%|██████████| 139/139 [02:04<00:00,  1.12it/s]\n"
     ]
    },
    {
     "name": "stdout",
     "output_type": "stream",
     "text": [
      "начало парсинга 87 части ссылок\n"
     ]
    },
    {
     "name": "stderr",
     "output_type": "stream",
     "text": [
      "100%|██████████| 139/139 [01:58<00:00,  1.17it/s]\n"
     ]
    },
    {
     "name": "stdout",
     "output_type": "stream",
     "text": [
      "начало парсинга 88 части ссылок\n"
     ]
    },
    {
     "name": "stderr",
     "output_type": "stream",
     "text": [
      "100%|██████████| 139/139 [02:00<00:00,  1.15it/s]\n"
     ]
    },
    {
     "name": "stdout",
     "output_type": "stream",
     "text": [
      "начало парсинга 89 части ссылок\n"
     ]
    },
    {
     "name": "stderr",
     "output_type": "stream",
     "text": [
      "100%|██████████| 139/139 [02:01<00:00,  1.14it/s]\n"
     ]
    },
    {
     "name": "stdout",
     "output_type": "stream",
     "text": [
      "начало парсинга 90 части ссылок\n"
     ]
    },
    {
     "name": "stderr",
     "output_type": "stream",
     "text": [
      "100%|██████████| 139/139 [02:12<00:00,  1.05it/s]\n"
     ]
    },
    {
     "name": "stdout",
     "output_type": "stream",
     "text": [
      "начало парсинга 91 части ссылок\n"
     ]
    },
    {
     "name": "stderr",
     "output_type": "stream",
     "text": [
      "100%|██████████| 139/139 [02:25<00:00,  1.05s/it]\n"
     ]
    },
    {
     "name": "stdout",
     "output_type": "stream",
     "text": [
      "начало парсинга 92 части ссылок\n"
     ]
    },
    {
     "name": "stderr",
     "output_type": "stream",
     "text": [
      "100%|██████████| 139/139 [02:00<00:00,  1.16it/s]\n"
     ]
    },
    {
     "name": "stdout",
     "output_type": "stream",
     "text": [
      "начало парсинга 93 части ссылок\n"
     ]
    },
    {
     "name": "stderr",
     "output_type": "stream",
     "text": [
      "100%|██████████| 139/139 [02:01<00:00,  1.14it/s]\n"
     ]
    },
    {
     "name": "stdout",
     "output_type": "stream",
     "text": [
      "начало парсинга 94 части ссылок\n"
     ]
    },
    {
     "name": "stderr",
     "output_type": "stream",
     "text": [
      "100%|██████████| 139/139 [02:04<00:00,  1.11it/s]\n"
     ]
    },
    {
     "name": "stdout",
     "output_type": "stream",
     "text": [
      "начало парсинга 95 части ссылок\n"
     ]
    },
    {
     "name": "stderr",
     "output_type": "stream",
     "text": [
      "100%|██████████| 139/139 [02:08<00:00,  1.08it/s]\n"
     ]
    },
    {
     "name": "stdout",
     "output_type": "stream",
     "text": [
      "начало парсинга 96 части ссылок\n"
     ]
    },
    {
     "name": "stderr",
     "output_type": "stream",
     "text": [
      "100%|██████████| 139/139 [02:12<00:00,  1.05it/s]\n"
     ]
    },
    {
     "name": "stdout",
     "output_type": "stream",
     "text": [
      "начало парсинга 97 части ссылок\n"
     ]
    },
    {
     "name": "stderr",
     "output_type": "stream",
     "text": [
      "100%|██████████| 139/139 [01:52<00:00,  1.23it/s]\n"
     ]
    },
    {
     "name": "stdout",
     "output_type": "stream",
     "text": [
      "начало парсинга 98 части ссылок\n"
     ]
    },
    {
     "name": "stderr",
     "output_type": "stream",
     "text": [
      "100%|██████████| 139/139 [02:11<00:00,  1.06it/s]\n"
     ]
    },
    {
     "name": "stdout",
     "output_type": "stream",
     "text": [
      "начало парсинга 99 части ссылок\n"
     ]
    },
    {
     "name": "stderr",
     "output_type": "stream",
     "text": [
      "100%|██████████| 139/139 [01:51<00:00,  1.24it/s]\n"
     ]
    },
    {
     "name": "stdout",
     "output_type": "stream",
     "text": [
      "начало парсинга 100 части ссылок\n"
     ]
    },
    {
     "name": "stderr",
     "output_type": "stream",
     "text": [
      "100%|██████████| 139/139 [01:54<00:00,  1.21it/s]\n"
     ]
    }
   ],
   "source": [
    "n = 0\n",
    "for i in range(n, slices):\n",
    "    n += 1\n",
    "    print(f'начало парсинга {n} части ссылок')\n",
    "    df = sunlight_parser(chunks[i])\n",
    "    df.to_csv(rf'{way}\\parsed_data\\sunlight_{day_now}_{month_now}_{n}.csv', index=False)\n",
    "    time.sleep(5)"
   ]
  },
  {
   "cell_type": "code",
   "execution_count": 16,
   "id": "8a8717a9-4841-4b69-8bf6-34f7026bcbb8",
   "metadata": {
    "tags": []
   },
   "outputs": [
    {
     "data": {
      "text/plain": [
       "100"
      ]
     },
     "execution_count": 16,
     "metadata": {},
     "output_type": "execute_result"
    }
   ],
   "source": [
    "os.chdir(rf'{way}\\parsed_data')\n",
    "extension = 'csv'\n",
    "all_filenames = [i for i in glob.glob('*.{}'.format(extension))]\n",
    "len(all_filenames)"
   ]
  },
  {
   "cell_type": "code",
   "execution_count": 17,
   "id": "ad28c4b5-5099-4c80-9921-03acd7d51888",
   "metadata": {
    "tags": []
   },
   "outputs": [],
   "source": [
    "data = pd.DataFrame()\n",
    "for name  in all_filenames:\n",
    "    df = pd.read_csv(name)\n",
    "    data = pd.concat([df, data], ignore_index=True)"
   ]
  },
  {
   "cell_type": "code",
   "execution_count": 18,
   "id": "ebec15b8-284a-45c7-9ab4-61f45b5bf818",
   "metadata": {
    "tags": []
   },
   "outputs": [
    {
     "data": {
      "text/html": [
       "<div>\n",
       "<style scoped>\n",
       "    .dataframe tbody tr th:only-of-type {\n",
       "        vertical-align: middle;\n",
       "    }\n",
       "\n",
       "    .dataframe tbody tr th {\n",
       "        vertical-align: top;\n",
       "    }\n",
       "\n",
       "    .dataframe thead th {\n",
       "        text-align: right;\n",
       "    }\n",
       "</style>\n",
       "<table border=\"1\" class=\"dataframe\">\n",
       "  <thead>\n",
       "    <tr style=\"text-align: right;\">\n",
       "      <th></th>\n",
       "      <th>date</th>\n",
       "      <th>competitor</th>\n",
       "      <th>name</th>\n",
       "      <th>group</th>\n",
       "      <th>params</th>\n",
       "      <th>price</th>\n",
       "      <th>article</th>\n",
       "      <th>url</th>\n",
       "    </tr>\n",
       "  </thead>\n",
       "  <tbody>\n",
       "    <tr>\n",
       "      <th>0</th>\n",
       "      <td>13-06-2024</td>\n",
       "      <td>Sunlight</td>\n",
       "      <td>\\n    Золотой браслет на ногу\\n</td>\n",
       "      <td>Браслеты</td>\n",
       "      <td>{'Модель': '7025051Р-26*', 'Материал изделия':...</td>\n",
       "      <td>7528</td>\n",
       "      <td>988818</td>\n",
       "      <td>https://sunlight.net/catalog/bracelets_988818....</td>\n",
       "    </tr>\n",
       "    <tr>\n",
       "      <th>1</th>\n",
       "      <td>13-06-2024</td>\n",
       "      <td>Sunlight</td>\n",
       "      <td>\\n    Золотое шейное украшение с фианитами\\n</td>\n",
       "      <td>Шейное украшение</td>\n",
       "      <td>{'Модель': '01Л161615*', 'Материал изделия': '...</td>\n",
       "      <td>316060</td>\n",
       "      <td>988808</td>\n",
       "      <td>https://sunlight.net/catalog/neck_decoration_9...</td>\n",
       "    </tr>\n",
       "    <tr>\n",
       "      <th>2</th>\n",
       "      <td>13-06-2024</td>\n",
       "      <td>Sunlight</td>\n",
       "      <td>\\n    Золотой браслет\\n</td>\n",
       "      <td>Браслеты</td>\n",
       "      <td>{'Модель': '01Б730073*', 'Материал изделия': '...</td>\n",
       "      <td>71640</td>\n",
       "      <td>988802</td>\n",
       "      <td>https://sunlight.net/catalog/bracelets_988802....</td>\n",
       "    </tr>\n",
       "    <tr>\n",
       "      <th>3</th>\n",
       "      <td>13-06-2024</td>\n",
       "      <td>Sunlight</td>\n",
       "      <td>\\n    Золотой браслет с фианитами\\n</td>\n",
       "      <td>Браслеты</td>\n",
       "      <td>{'Модель': '7703861/19,5*', 'Вставка': 'Фианит...</td>\n",
       "      <td>14520</td>\n",
       "      <td>345882</td>\n",
       "      <td>https://sunlight.net/catalog/bracelets_345882....</td>\n",
       "    </tr>\n",
       "    <tr>\n",
       "      <th>4</th>\n",
       "      <td>13-06-2024</td>\n",
       "      <td>Sunlight</td>\n",
       "      <td>\\n    Золотой браслет с фианитами\\n</td>\n",
       "      <td>Браслеты</td>\n",
       "      <td>{'Модель': '7700406*', 'Материал изделия': 'Ро...</td>\n",
       "      <td>78290</td>\n",
       "      <td>345855</td>\n",
       "      <td>https://sunlight.net/catalog/bracelets_345855....</td>\n",
       "    </tr>\n",
       "    <tr>\n",
       "      <th>...</th>\n",
       "      <td>...</td>\n",
       "      <td>...</td>\n",
       "      <td>...</td>\n",
       "      <td>...</td>\n",
       "      <td>...</td>\n",
       "      <td>...</td>\n",
       "      <td>...</td>\n",
       "      <td>...</td>\n",
       "    </tr>\n",
       "    <tr>\n",
       "      <th>13930</th>\n",
       "      <td>13-06-2024</td>\n",
       "      <td>Sunlight</td>\n",
       "      <td>\\n    Золотое кольцо с бриллиантами\\n</td>\n",
       "      <td>Кольца</td>\n",
       "      <td>{'Модель': '3101-K5Y-04', 'Материал изделия': ...</td>\n",
       "      <td>6990</td>\n",
       "      <td>152015</td>\n",
       "      <td>https://sunlight.net/catalog/ring_152015.html</td>\n",
       "    </tr>\n",
       "    <tr>\n",
       "      <th>13931</th>\n",
       "      <td>13-06-2024</td>\n",
       "      <td>Sunlight</td>\n",
       "      <td>\\n    Золотые серьги с агатом и бриллиантами\\n</td>\n",
       "      <td>Серьги</td>\n",
       "      <td>{'Модель': '71794-C5R-01', 'Материал изделия':...</td>\n",
       "      <td>97990</td>\n",
       "      <td>310221</td>\n",
       "      <td>https://sunlight.net/catalog/earring_310221.html</td>\n",
       "    </tr>\n",
       "    <tr>\n",
       "      <th>13932</th>\n",
       "      <td>13-06-2024</td>\n",
       "      <td>Sunlight</td>\n",
       "      <td>\\n    Золотые серьги\\n</td>\n",
       "      <td>Серьги</td>\n",
       "      <td>{'Модель': '30906.1*', 'Материал изделия': 'Ро...</td>\n",
       "      <td>5490</td>\n",
       "      <td>91078</td>\n",
       "      <td>https://sunlight.net/catalog/earring_91078.html</td>\n",
       "    </tr>\n",
       "    <tr>\n",
       "      <th>13933</th>\n",
       "      <td>13-06-2024</td>\n",
       "      <td>Sunlight</td>\n",
       "      <td>\\n    Золотой крест-подвеска\\n</td>\n",
       "      <td>Крест-подвеска</td>\n",
       "      <td>{'Модель': '12623.1*', 'Материал изделия': 'Бе...</td>\n",
       "      <td>9990</td>\n",
       "      <td>88213</td>\n",
       "      <td>https://sunlight.net/catalog/pendants_88213.html</td>\n",
       "    </tr>\n",
       "    <tr>\n",
       "      <th>13934</th>\n",
       "      <td>13-06-2024</td>\n",
       "      <td>Sunlight</td>\n",
       "      <td>\\n    Золотые серьги с изумрудами и бриллианта...</td>\n",
       "      <td>Серьги</td>\n",
       "      <td>{'Модель': '70990-C5R-01', 'Материал изделия':...</td>\n",
       "      <td>54990</td>\n",
       "      <td>253164</td>\n",
       "      <td>https://sunlight.net/catalog/earring_253164.html</td>\n",
       "    </tr>\n",
       "  </tbody>\n",
       "</table>\n",
       "<p>13935 rows × 8 columns</p>\n",
       "</div>"
      ],
      "text/plain": [
       "             date competitor  \\\n",
       "0      13-06-2024   Sunlight   \n",
       "1      13-06-2024   Sunlight   \n",
       "2      13-06-2024   Sunlight   \n",
       "3      13-06-2024   Sunlight   \n",
       "4      13-06-2024   Sunlight   \n",
       "...           ...        ...   \n",
       "13930  13-06-2024   Sunlight   \n",
       "13931  13-06-2024   Sunlight   \n",
       "13932  13-06-2024   Sunlight   \n",
       "13933  13-06-2024   Sunlight   \n",
       "13934  13-06-2024   Sunlight   \n",
       "\n",
       "                                                    name             group  \\\n",
       "0                      \\n    Золотой браслет на ногу\\n            Браслеты   \n",
       "1         \\n    Золотое шейное украшение с фианитами\\n    Шейное украшение   \n",
       "2                              \\n    Золотой браслет\\n            Браслеты   \n",
       "3                  \\n    Золотой браслет с фианитами\\n            Браслеты   \n",
       "4                  \\n    Золотой браслет с фианитами\\n            Браслеты   \n",
       "...                                                  ...               ...   \n",
       "13930            \\n    Золотое кольцо с бриллиантами\\n              Кольца   \n",
       "13931   \\n    Золотые серьги с агатом и бриллиантами\\n              Серьги   \n",
       "13932                           \\n    Золотые серьги\\n              Серьги   \n",
       "13933                   \\n    Золотой крест-подвеска\\n      Крест-подвеска   \n",
       "13934  \\n    Золотые серьги с изумрудами и бриллианта...            Серьги   \n",
       "\n",
       "                                                  params   price  article  \\\n",
       "0      {'Модель': '7025051Р-26*', 'Материал изделия':...    7528   988818   \n",
       "1      {'Модель': '01Л161615*', 'Материал изделия': '...  316060   988808   \n",
       "2      {'Модель': '01Б730073*', 'Материал изделия': '...   71640   988802   \n",
       "3      {'Модель': '7703861/19,5*', 'Вставка': 'Фианит...   14520   345882   \n",
       "4      {'Модель': '7700406*', 'Материал изделия': 'Ро...   78290   345855   \n",
       "...                                                  ...     ...      ...   \n",
       "13930  {'Модель': '3101-K5Y-04', 'Материал изделия': ...    6990   152015   \n",
       "13931  {'Модель': '71794-C5R-01', 'Материал изделия':...   97990   310221   \n",
       "13932  {'Модель': '30906.1*', 'Материал изделия': 'Ро...    5490    91078   \n",
       "13933  {'Модель': '12623.1*', 'Материал изделия': 'Бе...    9990    88213   \n",
       "13934  {'Модель': '70990-C5R-01', 'Материал изделия':...   54990   253164   \n",
       "\n",
       "                                                     url  \n",
       "0      https://sunlight.net/catalog/bracelets_988818....  \n",
       "1      https://sunlight.net/catalog/neck_decoration_9...  \n",
       "2      https://sunlight.net/catalog/bracelets_988802....  \n",
       "3      https://sunlight.net/catalog/bracelets_345882....  \n",
       "4      https://sunlight.net/catalog/bracelets_345855....  \n",
       "...                                                  ...  \n",
       "13930      https://sunlight.net/catalog/ring_152015.html  \n",
       "13931   https://sunlight.net/catalog/earring_310221.html  \n",
       "13932    https://sunlight.net/catalog/earring_91078.html  \n",
       "13933   https://sunlight.net/catalog/pendants_88213.html  \n",
       "13934   https://sunlight.net/catalog/earring_253164.html  \n",
       "\n",
       "[13935 rows x 8 columns]"
      ]
     },
     "execution_count": 18,
     "metadata": {},
     "output_type": "execute_result"
    }
   ],
   "source": [
    "data"
   ]
  },
  {
   "cell_type": "code",
   "execution_count": 19,
   "id": "519c7daa",
   "metadata": {},
   "outputs": [],
   "source": [
    "data.to_csv(rf'{way}\\data_without_price.csv', index = False)"
   ]
  },
  {
   "cell_type": "code",
   "execution_count": 20,
   "id": "d4a7b5de",
   "metadata": {},
   "outputs": [],
   "source": [
    "# data = pd.read_csv(r'C:\\Users\\Trenkin.Sergey\\Desktop\\parsers\\sunlight_current_data\\data_without_price.csv')"
   ]
  },
  {
   "cell_type": "code",
   "execution_count": 21,
   "id": "58337692-5eb6-4eb5-9115-f144d8abbb81",
   "metadata": {
    "tags": []
   },
   "outputs": [
    {
     "name": "stdout",
     "output_type": "stream",
     "text": [
      "<class 'pandas.core.frame.DataFrame'>\n",
      "RangeIndex: 13935 entries, 0 to 13934\n",
      "Data columns (total 8 columns):\n",
      " #   Column      Non-Null Count  Dtype \n",
      "---  ------      --------------  ----- \n",
      " 0   date        13935 non-null  object\n",
      " 1   competitor  13935 non-null  object\n",
      " 2   name        13935 non-null  object\n",
      " 3   group       13935 non-null  object\n",
      " 4   params      13935 non-null  object\n",
      " 5   price       13935 non-null  int64 \n",
      " 6   article     13935 non-null  int64 \n",
      " 7   url         13935 non-null  object\n",
      "dtypes: int64(2), object(6)\n",
      "memory usage: 871.1+ KB\n"
     ]
    }
   ],
   "source": [
    "data.info()"
   ]
  },
  {
   "cell_type": "code",
   "execution_count": 22,
   "id": "8417ea87-4b5c-4a25-adab-ea9dc6aa14c4",
   "metadata": {
    "tags": []
   },
   "outputs": [
    {
     "data": {
      "text/plain": [
       "0"
      ]
     },
     "execution_count": 22,
     "metadata": {},
     "output_type": "execute_result"
    }
   ],
   "source": [
    "data.duplicated().sum()"
   ]
  },
  {
   "cell_type": "code",
   "execution_count": 23,
   "id": "0b84a2f7-e088-4e35-b146-8e062b70017c",
   "metadata": {
    "tags": []
   },
   "outputs": [],
   "source": [
    "data = data.drop_duplicates()"
   ]
  },
  {
   "cell_type": "code",
   "execution_count": 24,
   "id": "6d3ae069-d73d-479d-aade-bf0c7a7af635",
   "metadata": {
    "tags": []
   },
   "outputs": [
    {
     "data": {
      "text/plain": [
       "0"
      ]
     },
     "execution_count": 24,
     "metadata": {},
     "output_type": "execute_result"
    }
   ],
   "source": [
    "data.duplicated().sum()"
   ]
  },
  {
   "cell_type": "code",
   "execution_count": 25,
   "id": "e18e867c-20ea-4daf-ac9c-c782afdb958a",
   "metadata": {
    "tags": []
   },
   "outputs": [
    {
     "data": {
      "text/plain": [
       "0"
      ]
     },
     "execution_count": 25,
     "metadata": {},
     "output_type": "execute_result"
    }
   ],
   "source": [
    "data['article'].isna().sum()"
   ]
  },
  {
   "cell_type": "code",
   "execution_count": 26,
   "id": "73e88350-0df1-4eaa-ac9c-5c898b1b55ce",
   "metadata": {
    "tags": []
   },
   "outputs": [],
   "source": [
    "data = data.dropna()"
   ]
  },
  {
   "cell_type": "code",
   "execution_count": 27,
   "id": "a64bce96-cffd-49ed-a32e-fcc4e915c981",
   "metadata": {
    "tags": []
   },
   "outputs": [],
   "source": [
    "data['article'] = data['article'].astype('int') "
   ]
  },
  {
   "cell_type": "code",
   "execution_count": 38,
   "id": "391d8621",
   "metadata": {},
   "outputs": [
    {
     "name": "stdout",
     "output_type": "stream",
     "text": [
      "<class 'pandas.core.frame.DataFrame'>\n",
      "RangeIndex: 13935 entries, 0 to 13934\n",
      "Data columns (total 8 columns):\n",
      " #   Column      Non-Null Count  Dtype \n",
      "---  ------      --------------  ----- \n",
      " 0   date        13935 non-null  object\n",
      " 1   competitor  13935 non-null  object\n",
      " 2   name        13935 non-null  object\n",
      " 3   group       13935 non-null  object\n",
      " 4   params      13935 non-null  object\n",
      " 5   price       13935 non-null  int64 \n",
      " 6   article     13935 non-null  int32 \n",
      " 7   url         13935 non-null  object\n",
      "dtypes: int32(1), int64(1), object(6)\n",
      "memory usage: 816.6+ KB\n"
     ]
    }
   ],
   "source": [
    "data.info()"
   ]
  },
  {
   "cell_type": "code",
   "execution_count": 28,
   "id": "392c3f10-6d77-45d5-ba86-f7f7d8299399",
   "metadata": {
    "tags": []
   },
   "outputs": [],
   "source": [
    "test = np.array_split(data, 20)"
   ]
  },
  {
   "cell_type": "code",
   "execution_count": 36,
   "id": "699397d7",
   "metadata": {},
   "outputs": [
    {
     "data": {
      "text/plain": [
       "[           date competitor                                               name  \\\n",
       " 0    13-06-2024   Sunlight                  \\n    Золотой браслет на ногу\\n     \n",
       " 1    13-06-2024   Sunlight     \\n    Золотое шейное украшение с фианитами\\n     \n",
       " 2    13-06-2024   Sunlight                          \\n    Золотой браслет\\n     \n",
       " 3    13-06-2024   Sunlight              \\n    Золотой браслет с фианитами\\n     \n",
       " 4    13-06-2024   Sunlight              \\n    Золотой браслет с фианитами\\n     \n",
       " ..          ...        ...                                                ...   \n",
       " 692  13-06-2024   Sunlight                         \\n    Золотая подвеска\\n     \n",
       " 693  13-06-2024   Sunlight  \\n    Золотые серьги с сапфирами и бриллиантам...   \n",
       " 694  13-06-2024   Sunlight  \\n    Золотые серьги с фианитами и наноситалла...   \n",
       " 695  13-06-2024   Sunlight            \\n    Золотые серьги с бриллиантами\\n     \n",
       " 696  13-06-2024   Sunlight               \\n    Золотое кольцо с фианитами\\n     \n",
       " \n",
       "                 group                                             params  \\\n",
       " 0            Браслеты  {'Модель': '7025051Р-26*', 'Материал изделия':...   \n",
       " 1    Шейное украшение  {'Модель': '01Л161615*', 'Материал изделия': '...   \n",
       " 2            Браслеты  {'Модель': '01Б730073*', 'Материал изделия': '...   \n",
       " 3            Браслеты  {'Модель': '7703861/19,5*', 'Вставка': 'Фианит...   \n",
       " 4            Браслеты  {'Модель': '7700406*', 'Материал изделия': 'Ро...   \n",
       " ..                ...                                                ...   \n",
       " 692          Подвески  {'Модель': '097950_03_01_000_0000*', 'Материал...   \n",
       " 693            Серьги  {'Модель': '72356-C5R-01', 'Материал изделия':...   \n",
       " 694            Серьги  {'Модель': 'кл3585а-48*', 'Материал изделия': ...   \n",
       " 695            Серьги  {'Модель': '73118-C5W-01', 'Материал изделия':...   \n",
       " 696            Кольца  {'Модель': '0601489*', 'Материал изделия': 'Бе...   \n",
       " \n",
       "       price  article                                                url  \n",
       " 0      7528   988818  https://sunlight.net/catalog/bracelets_988818....  \n",
       " 1    316060   988808  https://sunlight.net/catalog/neck_decoration_9...  \n",
       " 2     71640   988802  https://sunlight.net/catalog/bracelets_988802....  \n",
       " 3     14520   345882  https://sunlight.net/catalog/bracelets_345882....  \n",
       " 4     78290   345855  https://sunlight.net/catalog/bracelets_345855....  \n",
       " ..      ...      ...                                                ...  \n",
       " 692    5990   333334  https://sunlight.net/catalog/pendants_333334.html  \n",
       " 693  109990   333037   https://sunlight.net/catalog/earring_333037.html  \n",
       " 694   40990   332957   https://sunlight.net/catalog/earring_332957.html  \n",
       " 695  699990   344886   https://sunlight.net/catalog/earring_344886.html  \n",
       " 696   22650   344426      https://sunlight.net/catalog/ring_344426.html  \n",
       " \n",
       " [697 rows x 8 columns],\n",
       "             date competitor  \\\n",
       " 697   13-06-2024   Sunlight   \n",
       " 698   13-06-2024   Sunlight   \n",
       " 699   13-06-2024   Sunlight   \n",
       " 700   13-06-2024   Sunlight   \n",
       " 701   13-06-2024   Sunlight   \n",
       " ...          ...        ...   \n",
       " 1389  13-06-2024   Sunlight   \n",
       " 1390  13-06-2024   Sunlight   \n",
       " 1391  13-06-2024   Sunlight   \n",
       " 1392  13-06-2024   Sunlight   \n",
       " 1393  13-06-2024   Sunlight   \n",
       " \n",
       "                                                    name   group  \\\n",
       " 697                            \\n    Золотые серьги\\n    Серьги   \n",
       " 698                \\n    Золотые серьги с фианитами\\n    Серьги   \n",
       " 699             \\n    Золотое кольцо с бриллиантами\\n    Кольца   \n",
       " 700                \\n    Золотые серьги с фианитами\\n    Серьги   \n",
       " 701   \\n    Золотые серьги с фианитами и кварцами ды...  Серьги   \n",
       " ...                                                 ...     ...   \n",
       " 1389                           \\n    Золотые серьги\\n    Серьги   \n",
       " 1390               \\n    Золотые серьги с фианитами\\n    Серьги   \n",
       " 1391            \\n    Золотое кольцо c бриллиантами\\n    Кольца   \n",
       " 1392  \\n    Золотые серьги с сапфирами и бриллиантам...  Серьги   \n",
       " 1393            \\n    Золотые серьги с бриллиантами\\n    Серьги   \n",
       " \n",
       "                                                  params   price  article  \\\n",
       " 697   {'Модель': 'кл3166а-01*', 'Материал изделия': ...   37990   344392   \n",
       " 698   {'Модель': 'с666-02*', 'Материал изделия': 'Бе...   34990   343935   \n",
       " 699   {'Модель': '73343-K5Y-01', 'Материал изделия':...   47990   985814   \n",
       " 700   {'Модель': '2570907 1 1 1*', 'Материал изделия...   37990   342644   \n",
       " 701   {'Модель': '021049КвдКцб', 'Материал изделия':...   46990   342274   \n",
       " ...                                                 ...     ...      ...   \n",
       " 1389  {'Модель': '2-1629*', 'Материал изделия': 'Роз...   21990   994372   \n",
       " 1390  {'Модель': '127910*', 'Материал изделия': 'Роз...   21990   345832   \n",
       " 1391  {'Модель': '2804-K5R-02', 'Материал изделия': ...   69990    17945   \n",
       " 1392  {'Модель': '73601-C5W-01', 'Материал изделия':...  114990   985649   \n",
       " 1393  {'Модель': '70486-C5R-01', 'Материал изделия':...  109990   106332   \n",
       " \n",
       "                                                    url  \n",
       " 697   https://sunlight.net/catalog/earring_344392.html  \n",
       " 698   https://sunlight.net/catalog/earring_343935.html  \n",
       " 699      https://sunlight.net/catalog/ring_985814.html  \n",
       " 700   https://sunlight.net/catalog/earring_342644.html  \n",
       " 701   https://sunlight.net/catalog/earring_342274.html  \n",
       " ...                                                ...  \n",
       " 1389  https://sunlight.net/catalog/earring_994372.html  \n",
       " 1390  https://sunlight.net/catalog/earring_345832.html  \n",
       " 1391      https://sunlight.net/catalog/ring_17945.html  \n",
       " 1392  https://sunlight.net/catalog/earring_985649.html  \n",
       " 1393  https://sunlight.net/catalog/earring_106332.html  \n",
       " \n",
       " [697 rows x 8 columns],\n",
       "             date competitor  \\\n",
       " 1394  13-06-2024   Sunlight   \n",
       " 1395  13-06-2024   Sunlight   \n",
       " 1396  13-06-2024   Sunlight   \n",
       " 1397  13-06-2024   Sunlight   \n",
       " 1398  13-06-2024   Sunlight   \n",
       " ...          ...        ...   \n",
       " 2086  13-06-2024   Sunlight   \n",
       " 2087  13-06-2024   Sunlight   \n",
       " 2088  13-06-2024   Sunlight   \n",
       " 2089  13-06-2024   Sunlight   \n",
       " 2090  13-06-2024   Sunlight   \n",
       " \n",
       "                                                    name     group  \\\n",
       " 1394               \\n    Золотые серьги с фианитами\\n      Серьги   \n",
       " 1395              \\n    Золотая подвеска с рубинами\\n    Подвески   \n",
       " 1396  \\n    Золотые серьги с рубинами и бриллиантами...    Серьги   \n",
       " 1397               \\n    Золотые серьги с фианитами\\n      Серьги   \n",
       " 1398            \\n    Золотые серьги с бриллиантами\\n      Серьги   \n",
       " ...                                                 ...       ...   \n",
       " 2086               \\n    Золотое кольцо с фианитами\\n      Кольца   \n",
       " 2087                         \\n    Золотая подвеска\\n    Подвески   \n",
       " 2088               \\n    Золотые серьги с фианитами\\n      Серьги   \n",
       " 2089                         \\n    Золотая подвеска\\n    Подвески   \n",
       " 2090               \\n    Золотые серьги с фианитами\\n      Серьги   \n",
       " \n",
       "                                                  params  price  article  \\\n",
       " 1394  {'Модель': '1125294/8*', 'Материал изделия': '...   7490   335890   \n",
       " 1395  {'Модель': '70367-P5R-02', 'Материал изделия':...  37990   347451   \n",
       " 1396  {'Модель': '70498-C5R-02', 'Материал изделия':...  49990   107158   \n",
       " 1397  {'Модель': '13-02-0001-28771*', 'Материал изде...  16990   268924   \n",
       " 1398  {'Модель': '73626-C5R-01', 'Материал изделия':...  49990   988414   \n",
       " ...                                                 ...    ...      ...   \n",
       " 2086  {'Модель': 'К13218624*', 'Материал изделия': '...  32700   182847   \n",
       " 2087  {'Модель': 'П10018959*', 'Материал изделия': '...  10990   182738   \n",
       " 2088  {'Модель': 'С43219122-501*', 'Материал изделия...  49990   182719   \n",
       " 2089  {'Модель': 'Кр250-04*', 'Материал изделия': 'Б...  61990   182679   \n",
       " 2090  {'Модель': '57709*', 'Материал изделия': 'Бело...  54990   182198   \n",
       " \n",
       "                                                     url  \n",
       " 1394   https://sunlight.net/catalog/earring_335890.html  \n",
       " 1395  https://sunlight.net/catalog/pendants_347451.html  \n",
       " 1396   https://sunlight.net/catalog/earring_107158.html  \n",
       " 1397   https://sunlight.net/catalog/earring_268924.html  \n",
       " 1398   https://sunlight.net/catalog/earring_988414.html  \n",
       " ...                                                 ...  \n",
       " 2086      https://sunlight.net/catalog/ring_182847.html  \n",
       " 2087  https://sunlight.net/catalog/pendants_182738.html  \n",
       " 2088   https://sunlight.net/catalog/earring_182719.html  \n",
       " 2089  https://sunlight.net/catalog/pendants_182679.html  \n",
       " 2090   https://sunlight.net/catalog/earring_182198.html  \n",
       " \n",
       " [697 rows x 8 columns],\n",
       "             date competitor  \\\n",
       " 2091  13-06-2024   Sunlight   \n",
       " 2092  13-06-2024   Sunlight   \n",
       " 2093  13-06-2024   Sunlight   \n",
       " 2094  13-06-2024   Sunlight   \n",
       " 2095  13-06-2024   Sunlight   \n",
       " ...          ...        ...   \n",
       " 2783  13-06-2024   Sunlight   \n",
       " 2784  13-06-2024   Sunlight   \n",
       " 2785  13-06-2024   Sunlight   \n",
       " 2786  13-06-2024   Sunlight   \n",
       " 2787  13-06-2024   Sunlight   \n",
       " \n",
       "                                                    name     group  \\\n",
       " 2091               \\n    Золотое кольцо с фианитами\\n      Кольца   \n",
       " 2092  \\n    Золотая подвеска с сапфирами и бриллиант...  Подвески   \n",
       " 2093            \\n    Золотое кольцо с бриллиантами\\n      Кольца   \n",
       " 2094               \\n    Золотые серьги с фианитами\\n      Серьги   \n",
       " 2095                           \\n    Золотые серьги\\n      Серьги   \n",
       " ...                                                 ...       ...   \n",
       " 2783                           \\n    Золотое кольцо\\n      Кольца   \n",
       " 2784                           \\n    Золотые серьги\\n      Серьги   \n",
       " 2785  \\n    Золотое кольцо с сапфирами и бриллиантам...    Кольца   \n",
       " 2786             \\n    Золотая подвеска с фианитами\\n    Подвески   \n",
       " 2787               \\n    Золотые серьги с фианитами\\n      Серьги   \n",
       " \n",
       "                                                  params   price  article  \\\n",
       " 2091  {'Модель': '34-51-0913-00*', 'Материал изделия...   19300   181702   \n",
       " 2092  {'Модель': '74204-P5W-01', 'Материал изделия':...   43990   181537   \n",
       " 2093  {'Модель': '74104-K5Y-01', 'Материал изделия':...  159990   181515   \n",
       " 2094  {'Модель': 'С13218618-501*', 'Материал изделия...   36990   181196   \n",
       " 2095  {'Модель': 'С3014-2702*', 'Материал изделия': ...   12490   181145   \n",
       " ...                                                 ...     ...      ...   \n",
       " 2783  {'Модель': '00268-10-030001-00*', 'Материал из...   74380   358960   \n",
       " 2784  {'Модель': '00490-20-030001-00*', 'Материал из...   43990   358917   \n",
       " 2785  {'Модель': '74110-K5W-01', 'Материал изделия':...  119990   995074   \n",
       " 2786  {'Модель': '3-0865*', 'Материал изделия': 'Роз...   17990   994367   \n",
       " 2787  {'Модель': 'Б2056503*', 'Материал изделия': 'Б...   23990   992057   \n",
       " \n",
       "                                                     url  \n",
       " 2091      https://sunlight.net/catalog/ring_181702.html  \n",
       " 2092  https://sunlight.net/catalog/pendants_181537.html  \n",
       " 2093      https://sunlight.net/catalog/ring_181515.html  \n",
       " 2094   https://sunlight.net/catalog/earring_181196.html  \n",
       " 2095   https://sunlight.net/catalog/earring_181145.html  \n",
       " ...                                                 ...  \n",
       " 2783      https://sunlight.net/catalog/ring_358960.html  \n",
       " 2784   https://sunlight.net/catalog/earring_358917.html  \n",
       " 2785      https://sunlight.net/catalog/ring_995074.html  \n",
       " 2786  https://sunlight.net/catalog/pendants_994367.html  \n",
       " 2787   https://sunlight.net/catalog/earring_992057.html  \n",
       " \n",
       " [697 rows x 8 columns],\n",
       "             date competitor  \\\n",
       " 2788  13-06-2024   Sunlight   \n",
       " 2789  13-06-2024   Sunlight   \n",
       " 2790  13-06-2024   Sunlight   \n",
       " 2791  13-06-2024   Sunlight   \n",
       " 2792  13-06-2024   Sunlight   \n",
       " ...          ...        ...   \n",
       " 3480  13-06-2024   Sunlight   \n",
       " 3481  13-06-2024   Sunlight   \n",
       " 3482  13-06-2024   Sunlight   \n",
       " 3483  13-06-2024   Sunlight   \n",
       " 3484  13-06-2024   Sunlight   \n",
       " \n",
       "                                                    name     group  \\\n",
       " 2788            \\n    Золотые серьги с бриллиантами\\n      Серьги   \n",
       " 2789  \\n    Золотое кольцо с изумрудами и бриллианта...    Кольца   \n",
       " 2790          \\n    Золотая подвеска с бриллиантами\\n    Подвески   \n",
       " 2791  \\n    Золотое кольцо с изумрудами и бриллианта...    Кольца   \n",
       " 2792                           \\n    Золотые серьги\\n      Серьги   \n",
       " ...                                                 ...       ...   \n",
       " 3480            \\n    Золотое кольцо с бриллиантами\\n      Кольца   \n",
       " 3481             \\n    Золотая подвеска с фианитами\\n    Подвески   \n",
       " 3482  \\n    Золотое кольцо с изумрудами и бриллианта...    Кольца   \n",
       " 3483                           \\n    Золотые серьги\\n      Серьги   \n",
       " 3484               \\n    Золотые серьги с фианитами\\n      Серьги   \n",
       " \n",
       "                                                  params   price  article  \\\n",
       " 2788  {'Модель': '71478-C5W-03', 'Материал изделия':...  259990   990297   \n",
       " 2789  {'Модель': '30138-K5W-03', 'Материал изделия':...   84990   989404   \n",
       " 2790  {'Модель': '73833-P5W-01', 'Материал изделия':...   38990   988869   \n",
       " 2791  {'Модель': '73798-K5R-01', 'Материал изделия':...   37990   987517   \n",
       " 2792  {'Модель': 'кл4224а-04*', 'Материал изделия': ...   45990   309128   \n",
       " ...                                                 ...     ...      ...   \n",
       " 3480  {'Модель': '73866-K5R-01', 'Материал изделия':...   54990   179759   \n",
       " 3481  {'Модель': '0306427*', 'Материал изделия': 'Ро...   12990   996390   \n",
       " 3482  {'Модель': '73919-K5R-01', 'Материал изделия':...   29990   989148   \n",
       " 3483  {'Модель': '1400012906*', 'Материал изделия': ...   22990   984626   \n",
       " 3484  {'Модель': 'л22045*', 'Материал изделия': 'Жел...   21990   984269   \n",
       " \n",
       "                                                     url  \n",
       " 2788   https://sunlight.net/catalog/earring_990297.html  \n",
       " 2789      https://sunlight.net/catalog/ring_989404.html  \n",
       " 2790  https://sunlight.net/catalog/pendants_988869.html  \n",
       " 2791      https://sunlight.net/catalog/ring_987517.html  \n",
       " 2792   https://sunlight.net/catalog/earring_309128.html  \n",
       " ...                                                 ...  \n",
       " 3480      https://sunlight.net/catalog/ring_179759.html  \n",
       " 3481  https://sunlight.net/catalog/pendants_996390.html  \n",
       " 3482      https://sunlight.net/catalog/ring_989148.html  \n",
       " 3483   https://sunlight.net/catalog/earring_984626.html  \n",
       " 3484   https://sunlight.net/catalog/earring_984269.html  \n",
       " \n",
       " [697 rows x 8 columns],\n",
       "             date competitor  \\\n",
       " 3485  13-06-2024   Sunlight   \n",
       " 3486  13-06-2024   Sunlight   \n",
       " 3487  13-06-2024   Sunlight   \n",
       " 3488  13-06-2024   Sunlight   \n",
       " 3489  13-06-2024   Sunlight   \n",
       " ...          ...        ...   \n",
       " 4177  13-06-2024   Sunlight   \n",
       " 4178  13-06-2024   Sunlight   \n",
       " 4179  13-06-2024   Sunlight   \n",
       " 4180  13-06-2024   Sunlight   \n",
       " 4181  13-06-2024   Sunlight   \n",
       " \n",
       "                                                    name     group  \\\n",
       " 3485             \\n    Золотая подвеска с фианитами\\n    Подвески   \n",
       " 3486               \\n    Золотое кольцо с фианитами\\n      Кольца   \n",
       " 3487               \\n    Золотое кольцо с фианитами\\n      Кольца   \n",
       " 3488             \\n    Золотая подвеска с фианитами\\n    Подвески   \n",
       " 3489               \\n    Золотые серьги с аметистом\\n      Серьги   \n",
       " ...                                                 ...       ...   \n",
       " 4177               \\n    Золотое кольцо с фианитами\\n      Кольца   \n",
       " 4178                           \\n    Золотые серьги\\n      Серьги   \n",
       " 4179             \\n    Золотая подвеска с аметистом\\n    Подвески   \n",
       " 4180             \\n    Золотая подвеска с фианитами\\n    Подвески   \n",
       " 4181  \\n    Золотые серьги с сапфирами и бриллиантам...    Серьги   \n",
       " \n",
       "                                                  params  price  article  \\\n",
       " 3485  {'Модель': 'П4326488-501*', 'Материал изделия'...  15990   299422   \n",
       " 3486  {'Модель': '01К1214640*', 'Материал изделия': ...  14400   186314   \n",
       " 3487  {'Модель': '1-4702-001Ж*', 'Материал изделия':...  32200   183454   \n",
       " 3488  {'Модель': '10125000-2*', 'Материал изделия': ...  12990   182269   \n",
       " 3489  {'Модель': 'С120-8323Ам*', 'Материал изделия':...  24990   171754   \n",
       " ...                                                 ...    ...      ...   \n",
       " 4177  {'Модель': '1105783*', 'Материал изделия': 'Ро...  17210   996403   \n",
       " 4178  {'Модель': '002-0617-0000-010*', 'Материал изд...  20990   994401   \n",
       " 4179  {'Модель': '02-53-0194-01К*', 'Материал издели...  10490   330213   \n",
       " 4180  {'Модель': '10116900-2*', 'Материал изделия': ...   7990   327989   \n",
       " 4181  {'Модель': '73897-C5R-02', 'Материал изделия':...  28990   989155   \n",
       " \n",
       "                                                     url  \n",
       " 3485  https://sunlight.net/catalog/pendants_299422.html  \n",
       " 3486      https://sunlight.net/catalog/ring_186314.html  \n",
       " 3487      https://sunlight.net/catalog/ring_183454.html  \n",
       " 3488  https://sunlight.net/catalog/pendants_182269.html  \n",
       " 3489   https://sunlight.net/catalog/earring_171754.html  \n",
       " ...                                                 ...  \n",
       " 4177      https://sunlight.net/catalog/ring_996403.html  \n",
       " 4178   https://sunlight.net/catalog/earring_994401.html  \n",
       " 4179  https://sunlight.net/catalog/pendants_330213.html  \n",
       " 4180  https://sunlight.net/catalog/pendants_327989.html  \n",
       " 4181   https://sunlight.net/catalog/earring_989155.html  \n",
       " \n",
       " [697 rows x 8 columns],\n",
       "             date competitor  \\\n",
       " 4182  13-06-2024   Sunlight   \n",
       " 4183  13-06-2024   Sunlight   \n",
       " 4184  13-06-2024   Sunlight   \n",
       " 4185  13-06-2024   Sunlight   \n",
       " 4186  13-06-2024   Sunlight   \n",
       " ...          ...        ...   \n",
       " 4874  13-06-2024   Sunlight   \n",
       " 4875  13-06-2024   Sunlight   \n",
       " 4876  13-06-2024   Sunlight   \n",
       " 4877  13-06-2024   Sunlight   \n",
       " 4878  13-06-2024   Sunlight   \n",
       " \n",
       "                                                    name     group  \\\n",
       " 4182  \\n    Золотая подвеска с гранатом и бриллианта...  Подвески   \n",
       " 4183  \\n    Серебряные серьги с фианитами и со шпине...    Серьги   \n",
       " 4184             \\n    Золотая подвеска с фианитами\\n    Подвески   \n",
       " 4185  \\n    Золотое кольцо с топазами и бриллиантами...    Кольца   \n",
       " 4186            \\n    Золотое кольцо с бриллиантами\\n      Кольца   \n",
       " ...                                                 ...       ...   \n",
       " 4874               \\n    Золотое кольцо с фианитами\\n      Кольца   \n",
       " 4875              \\n    Золотые серьги с изумрудами\\n      Серьги   \n",
       " 4876                           \\n    Золотое кольцо\\n      Кольца   \n",
       " 4877                           \\n    Золотое кольцо\\n      Кольца   \n",
       " 4878    \\n    Золотое кольцо с фианитами и топазами\\n      Кольца   \n",
       " \n",
       "                                                  params  price  article  \\\n",
       " 4182  {'Модель': '9098-P5R-04', 'Материал изделия': ...  19990   286970   \n",
       " 4183  {'Модель': 'S42802-C9W-01', 'Материал изделия'...   4790   996039   \n",
       " 4184  {'Модель': '3001011113*', 'Материал изделия': ...   5990    66617   \n",
       " 4185  {'Модель': '72246-K5W-03', 'Материал изделия':...  15990   353482   \n",
       " 4186  {'Модель': '74076-K5R-01', 'Материал изделия':...  28990   183148   \n",
       " ...                                                 ...    ...      ...   \n",
       " 4874  {'Модель': '5-4071-303-1Б*', 'Материал изделия...   8800   261672   \n",
       " 4875  {'Модель': '72997-C5R-01', 'Материал изделия':...  99990   347266   \n",
       " 4876  {'Модель': 'К10010381*', 'Материал изделия': '...  17020    87026   \n",
       " 4877  {'Модель': '21-0Т-0000-60411*', 'Материал изде...  55900   991928   \n",
       " 4878  {'Модель': '111-1415-38*', 'Материал изделия':...  14990   325910   \n",
       " \n",
       "                                                     url  \n",
       " 4182  https://sunlight.net/catalog/pendants_286970.html  \n",
       " 4183   https://sunlight.net/catalog/earring_996039.html  \n",
       " 4184   https://sunlight.net/catalog/pendants_66617.html  \n",
       " 4185       https://sunlight.net/catalog/ring_56568.html  \n",
       " 4186      https://sunlight.net/catalog/ring_183148.html  \n",
       " ...                                                 ...  \n",
       " 4874      https://sunlight.net/catalog/ring_261672.html  \n",
       " 4875   https://sunlight.net/catalog/earring_347266.html  \n",
       " 4876       https://sunlight.net/catalog/ring_87026.html  \n",
       " 4877      https://sunlight.net/catalog/ring_991928.html  \n",
       " 4878      https://sunlight.net/catalog/ring_325910.html  \n",
       " \n",
       " [697 rows x 8 columns],\n",
       "             date competitor  \\\n",
       " 4879  13-06-2024   Sunlight   \n",
       " 4880  13-06-2024   Sunlight   \n",
       " 4881  13-06-2024   Sunlight   \n",
       " 4882  13-06-2024   Sunlight   \n",
       " 4883  13-06-2024   Sunlight   \n",
       " ...          ...        ...   \n",
       " 5571  13-06-2024   Sunlight   \n",
       " 5572  13-06-2024   Sunlight   \n",
       " 5573  13-06-2024   Sunlight   \n",
       " 5574  13-06-2024   Sunlight   \n",
       " 5575  13-06-2024   Sunlight   \n",
       " \n",
       "                                                    name     group  \\\n",
       " 4879               \\n    Золотое кольцо с фианитами\\n      Кольца   \n",
       " 4880                           \\n    Золотые серьги\\n      Серьги   \n",
       " 4881                           \\n    Золотое кольцо\\n      Кольца   \n",
       " 4882            \\n    Золотое кольцо с бриллиантами\\n      Кольца   \n",
       " 4883  \\n    Золотая подвеска с фианитами и ювелирным...  Подвески   \n",
       " ...                                                 ...       ...   \n",
       " 5571               \\n    Золотое кольцо с фианитами\\n      Кольца   \n",
       " 5572              \\n    Золотое обручальное кольцо \\n      Кольца   \n",
       " 5573             \\n    Золотая подвеска с фианитами\\n    Подвески   \n",
       " 5574                           \\n    Золотые серьги\\n      Серьги   \n",
       " 5575            \\n    Золотое кольцо с бриллиантами\\n      Кольца   \n",
       " \n",
       "                                                  params   price  article  \\\n",
       " 4879  {'Модель': '45623*', 'Материал изделия': 'Розо...   27540   995613   \n",
       " 4880  {'Модель': '002-0377-0000-010*', 'Материал изд...   21990   993597   \n",
       " 4881  {'Модель': '70225800*', 'Материал изделия': 'Р...   30850   318778   \n",
       " 4882  {'Модель': '70766-K5R-01', 'Материал изделия':...   34990   233419   \n",
       " 4883  {'Модель': '11066-P5W-01', 'Материал изделия':...   19990   241161   \n",
       " ...                                                 ...     ...      ...   \n",
       " 5571  {'Модель': '001-0516-0001-041*', 'Материал изд...   34460   992634   \n",
       " 5572  {'Модель': '1-782-003К*', 'Материал изделия': ...   76360   108511   \n",
       " 5573  {'Модель': '3301011067*', 'Материал изделия': ...    3990    67996   \n",
       " 5574  {'Модель': '2010012337*', 'Материал изделия': ...   16990    50860   \n",
       " 5575  {'Модель': '72292-K5W-01', 'Материал изделия':...  249990   327368   \n",
       " \n",
       "                                                     url  \n",
       " 4879      https://sunlight.net/catalog/ring_995613.html  \n",
       " 4880   https://sunlight.net/catalog/earring_993597.html  \n",
       " 4881      https://sunlight.net/catalog/ring_318778.html  \n",
       " 4882      https://sunlight.net/catalog/ring_233419.html  \n",
       " 4883  https://sunlight.net/catalog/pendants_241161.html  \n",
       " ...                                                 ...  \n",
       " 5571      https://sunlight.net/catalog/ring_992634.html  \n",
       " 5572      https://sunlight.net/catalog/ring_108511.html  \n",
       " 5573   https://sunlight.net/catalog/pendants_67996.html  \n",
       " 5574    https://sunlight.net/catalog/earring_50860.html  \n",
       " 5575      https://sunlight.net/catalog/ring_327368.html  \n",
       " \n",
       " [697 rows x 8 columns],\n",
       "             date competitor                                     name  \\\n",
       " 5576  13-06-2024   Sunlight  \\n    Золотое кольцо с бриллиантами\\n     \n",
       " 5577  13-06-2024   Sunlight                 \\n    Золотые серьги\\n     \n",
       " 5578  13-06-2024   Sunlight  \\n    Золотые серьги с бриллиантами\\n     \n",
       " 5579  13-06-2024   Sunlight                 \\n    Золотые серьги\\n     \n",
       " 5580  13-06-2024   Sunlight    \\n    Золотое обручальное кольцо \\n     \n",
       " ...          ...        ...                                      ...   \n",
       " 6268  13-06-2024   Sunlight                \\n    Золотой браслет\\n     \n",
       " 6269  13-06-2024   Sunlight                \\n    Золотой браслет\\n     \n",
       " 6270  13-06-2024   Sunlight                   \\n    Золотая цепь\\n     \n",
       " 6271  13-06-2024   Sunlight                \\n    Золотой браслет\\n     \n",
       " 6272  13-06-2024   Sunlight    \\n    Золотой браслет с фианитами\\n     \n",
       " \n",
       "          group                                             params   price  \\\n",
       " 5576    Кольца  {'Модель': '72291-K5W-01', 'Материал изделия':...  124990   \n",
       " 5577    Серьги  {'Модель': '30-62-0340-00*', 'Материал изделия...   18990   \n",
       " 5578    Серьги  {'Модель': '73405-C5R-01', 'Материал изделия':...   47990   \n",
       " 5579    Серьги  {'Модель': '11-01-0020-40058*', 'Материал изде...   21990   \n",
       " 5580    Кольца  {'Модель': '00450-000-319*', 'Материал изделия...   40740   \n",
       " ...        ...                                                ...     ...   \n",
       " 6268  Браслеты  {'Модель': '01Б033080*', 'Материал изделия': '...  133240   \n",
       " 6269  Браслеты  {'Модель': '01Б031024*', 'Материал изделия': '...   76830   \n",
       " 6270      Цепи  {'Модель': 'И2050741345*', 'Материал изделия':...   78399   \n",
       " 6271  Браслеты  {'Модель': '01Б032892*', 'Материал изделия': '...   91060   \n",
       " 6272  Браслеты  {'Модель': '0606129', 'Материал изделия': 'Жел...  143350   \n",
       " \n",
       "       article                                                url  \n",
       " 5576   327366      https://sunlight.net/catalog/ring_327366.html  \n",
       " 5577   348026   https://sunlight.net/catalog/earring_348026.html  \n",
       " 5578   986913   https://sunlight.net/catalog/earring_986913.html  \n",
       " 5579    45746    https://sunlight.net/catalog/earring_45746.html  \n",
       " 5580   130354      https://sunlight.net/catalog/ring_130354.html  \n",
       " ...       ...                                                ...  \n",
       " 6268   351764  https://sunlight.net/catalog/bracelets_351764....  \n",
       " 6269   351761  https://sunlight.net/catalog/bracelets_351761....  \n",
       " 6270   989834    https://sunlight.net/catalog/chains_989834.html  \n",
       " 6271   343094  https://sunlight.net/catalog/bracelets_343094....  \n",
       " 6272   342623  https://sunlight.net/catalog/bracelets_342623....  \n",
       " \n",
       " [697 rows x 8 columns],\n",
       "             date competitor  \\\n",
       " 6273  13-06-2024   Sunlight   \n",
       " 6274  13-06-2024   Sunlight   \n",
       " 6275  13-06-2024   Sunlight   \n",
       " 6276  13-06-2024   Sunlight   \n",
       " 6277  13-06-2024   Sunlight   \n",
       " ...          ...        ...   \n",
       " 6965  13-06-2024   Sunlight   \n",
       " 6966  13-06-2024   Sunlight   \n",
       " 6967  13-06-2024   Sunlight   \n",
       " 6968  13-06-2024   Sunlight   \n",
       " 6969  13-06-2024   Sunlight   \n",
       " \n",
       "                                                    name             group  \\\n",
       " 6273                          \\n    Золотой браслет\\n            Браслеты   \n",
       " 6274                             \\n    Золотая цепь\\n                Цепи   \n",
       " 6275   \\n    Золотое шейное украшение с бриллиантом\\n    Шейное украшение   \n",
       " 6276                             \\n    Золотая цепь\\n                Цепи   \n",
       " 6277                         \\n    Золотая подвеска\\n            Подвески   \n",
       " ...                                                 ...               ...   \n",
       " 6965             \\n    Золотая подвеска с фианитами\\n            Подвески   \n",
       " 6966            \\n    Золотые серьги с бриллиантами\\n              Серьги   \n",
       " 6967            \\n    Золотое кольцо с бриллиантами\\n              Кольца   \n",
       " 6968  \\n    Золотые серьги с сапфирами и бриллиантам...            Серьги   \n",
       " 6969  \\n    Золотые серьги с кварцами дымчатыми и бр...            Серьги   \n",
       " \n",
       "                                                  params   price  article  \\\n",
       " 6273  {'Модель': 'БР-18/1045*', 'Материал изделия': ...   95400   341395   \n",
       " 6274  {'Модель': 'црс335а2-а51*', 'Материал изделия'...   27908   330200   \n",
       " 6275  {'Модель': '71517-H5R-02', 'Материал изделия':...  174990   308847   \n",
       " 6276  {'Модель': 'НЦ 18-028-3 0.25*', 'Материал изде...    9843    52757   \n",
       " 6277  {'Модель': '2805094Ж*', 'Материал изделия': 'Ж...    4190    47158   \n",
       " ...                                                 ...     ...      ...   \n",
       " 6965  {'Модель': '34-53-0332-01*', 'Материал изделия...    3190   349358   \n",
       " 6966  {'Модель': '72729-C5M-01', 'Материал изделия':...   15990   334768   \n",
       " 6967  {'Модель': '71616-K5W-02', 'Материал изделия':...   44990   347732   \n",
       " 6968  {'Модель': '70906-C5W-01', 'Материал изделия':...   54990   245805   \n",
       " 6969  {'Модель': '71794-C5R-03', 'Материал изделия':...   77990   993755   \n",
       " \n",
       "                                                     url  \n",
       " 6273  https://sunlight.net/catalog/bracelets_341395....  \n",
       " 6274    https://sunlight.net/catalog/chains_330200.html  \n",
       " 6275  https://sunlight.net/catalog/neck_decoration_3...  \n",
       " 6276     https://sunlight.net/catalog/chains_52757.html  \n",
       " 6277   https://sunlight.net/catalog/pendants_47158.html  \n",
       " ...                                                 ...  \n",
       " 6965  https://sunlight.net/catalog/pendants_349358.html  \n",
       " 6966   https://sunlight.net/catalog/earring_334768.html  \n",
       " 6967      https://sunlight.net/catalog/ring_347732.html  \n",
       " 6968   https://sunlight.net/catalog/earring_245805.html  \n",
       " 6969   https://sunlight.net/catalog/earring_993755.html  \n",
       " \n",
       " [697 rows x 8 columns],\n",
       "             date competitor  \\\n",
       " 6970  13-06-2024   Sunlight   \n",
       " 6971  13-06-2024   Sunlight   \n",
       " 6972  13-06-2024   Sunlight   \n",
       " 6973  13-06-2024   Sunlight   \n",
       " 6974  13-06-2024   Sunlight   \n",
       " ...          ...        ...   \n",
       " 7662  13-06-2024   Sunlight   \n",
       " 7663  13-06-2024   Sunlight   \n",
       " 7664  13-06-2024   Sunlight   \n",
       " 7665  13-06-2024   Sunlight   \n",
       " 7666  13-06-2024   Sunlight   \n",
       " \n",
       "                                                    name             group  \\\n",
       " 6970                           \\n    Золотые серьги\\n              Серьги   \n",
       " 6971            \\n    Золотое кольцо с бриллиантами\\n              Кольца   \n",
       " 6972                         \\n    Золотая подвеска\\n            Подвески   \n",
       " 6973                           \\n    Золотые серьги\\n              Серьги   \n",
       " 6974                           \\n    Золотые серьги\\n              Серьги   \n",
       " ...                                                 ...               ...   \n",
       " 7662  \\n    Золотое шейное украшение с коньячными бр...  Шейное украшение   \n",
       " 7663  \\n    Золотое обручальное кольцо с бриллиантам...            Кольца   \n",
       " 7664               \\n    Золотое кольцо с фианитами\\n              Кольца   \n",
       " 7665  \\n    Золотая брошь с сапфирами и бриллиантами...             Брошь   \n",
       " 7666            \\n    Золотые серьги с бриллиантами\\n              Серьги   \n",
       " \n",
       "                                                  params  price  article  \\\n",
       " 6970  {'Модель': '23001209*', 'Материал изделия': 'Ж...  13490   258277   \n",
       " 6971  {'Модель': '73272-K5M-01', 'Материал изделия':...  20990   985244   \n",
       " 6972  {'Модель': '00-53-0187-00*', 'Материал изделия...  10490   353004   \n",
       " 6973  {'Модель': '72037*', 'Материал изделия': 'Розо...  14990   278043   \n",
       " 6974  {'Модель': '20380А-4*', 'Материал изделия': 'Р...  32990   254869   \n",
       " ...                                                 ...    ...      ...   \n",
       " 7662  {'Модель': '71700-H5R-01', 'Покрытие': 'с элем...  71990   299758   \n",
       " 7663  {'Модель': '72560-K5R-01', 'Материал изделия':...  27990   338562   \n",
       " 7664  {'Модель': '1-532-303К*', 'Материал изделия': ...  24920   191942   \n",
       " 7665  {'Модель': '73500-O5R-01', 'Материал изделия':...  23990   351618   \n",
       " 7666  {'Модель': '9668-C5R-01', 'Материал изделия': ...  32990    49175   \n",
       " \n",
       "                                                     url  \n",
       " 6970   https://sunlight.net/catalog/earring_258277.html  \n",
       " 6971      https://sunlight.net/catalog/ring_985244.html  \n",
       " 6972  https://sunlight.net/catalog/pendants_353004.html  \n",
       " 6973   https://sunlight.net/catalog/earring_278043.html  \n",
       " 6974   https://sunlight.net/catalog/earring_254869.html  \n",
       " ...                                                 ...  \n",
       " 7662  https://sunlight.net/catalog/neck_decoration_2...  \n",
       " 7663       https://sunlight.net/catalog/ring_89592.html  \n",
       " 7664      https://sunlight.net/catalog/ring_191942.html  \n",
       " 7665    https://sunlight.net/catalog/brooch_351618.html  \n",
       " 7666    https://sunlight.net/catalog/earring_49175.html  \n",
       " \n",
       " [697 rows x 8 columns],\n",
       "             date competitor                                       name  \\\n",
       " 7667  13-06-2024   Sunlight     \\n    Золотая подвеска с фианитами\\n     \n",
       " 7668  13-06-2024   Sunlight     \\n    Золотая подвеска с фианитами\\n     \n",
       " 7669  13-06-2024   Sunlight                   \\n    Золотое кольцо\\n     \n",
       " 7670  13-06-2024   Sunlight    \\n    Золотые серьги с бриллиантами\\n     \n",
       " 7671  13-06-2024   Sunlight     \\n    Золотая подвеска с фианитами\\n     \n",
       " ...          ...        ...                                        ...   \n",
       " 8359  13-06-2024   Sunlight  \\n    Золотая подвеска с бриллиантами\\n     \n",
       " 8360  13-06-2024   Sunlight                   \\n    Золотое кольцо\\n     \n",
       " 8361  13-06-2024   Sunlight    \\n    Золотое кольцо с бриллиантами\\n     \n",
       " 8362  13-06-2024   Sunlight       \\n    Золотые серьги с фианитами\\n     \n",
       " 8363  13-06-2024   Sunlight       \\n    Золотые серьги с фианитами\\n     \n",
       " \n",
       "          group                                             params  price  \\\n",
       " 7667  Подвески  {'Модель': '0305429*', 'Материал изделия': 'Ро...  13990   \n",
       " 7668  Подвески  {'Модель': '3110671010*', 'Материал изделия': ...   3490   \n",
       " 7669    Кольца  {'Модель': '70180300-2*', 'Материал изделия': ...  14500   \n",
       " 7670    Серьги  {'Модель': '73402-C5R-01', 'Материал изделия':...  69990   \n",
       " 7671  Подвески  {'Модель': '51-02-0001-26700*', 'Материал изде...  16990   \n",
       " ...        ...                                                ...    ...   \n",
       " 8359  Подвески  {'Модель': '0107-P5Y-02', 'Материал изделия': ...  10990   \n",
       " 8360    Кольца  {'Модель': '001-0618-0000-010*', 'Материал изд...  10210   \n",
       " 8361    Кольца  {'Модель': '72740-K5R-01', 'Материал изделия':...  39990   \n",
       " 8362    Серьги  {'Модель': '2-1433-001*', 'Материал изделия': ...   9990   \n",
       " 8363    Серьги  {'Модель': '6602817*', 'Материал изделия': 'Бе...  23990   \n",
       " \n",
       "       article                                                url  \n",
       " 7667   988363  https://sunlight.net/catalog/pendants_988363.html  \n",
       " 7668   349505  https://sunlight.net/catalog/pendants_349505.html  \n",
       " 7669   328010      https://sunlight.net/catalog/ring_328010.html  \n",
       " 7670   986905   https://sunlight.net/catalog/earring_986905.html  \n",
       " 7671   170447  https://sunlight.net/catalog/pendants_170447.html  \n",
       " ...       ...                                                ...  \n",
       " 8359   300705   https://sunlight.net/catalog/pendants_60429.html  \n",
       " 8360   983990      https://sunlight.net/catalog/ring_983990.html  \n",
       " 8361   334779      https://sunlight.net/catalog/ring_334779.html  \n",
       " 8362   335049   https://sunlight.net/catalog/earring_335049.html  \n",
       " 8363   338599   https://sunlight.net/catalog/earring_338599.html  \n",
       " \n",
       " [697 rows x 8 columns],\n",
       "             date competitor                                       name  \\\n",
       " 8364  13-06-2024   Sunlight   \\n    Золотая подвеска-зодиак \"Рыбы\"\\n     \n",
       " 8365  13-06-2024   Sunlight  \\n    Золотая подвеска с бриллиантами\\n     \n",
       " 8366  13-06-2024   Sunlight       \\n    Золотые серьги с фианитами\\n     \n",
       " 8367  13-06-2024   Sunlight    \\n    Золотое кольцо с бриллиантами\\n     \n",
       " 8368  13-06-2024   Sunlight    \\n    Золотое кольцо с бриллиантами\\n     \n",
       " ...          ...        ...                                        ...   \n",
       " 9056  13-06-2024   Sunlight       \\n    Золотые серьги с фианитами\\n     \n",
       " 9057  13-06-2024   Sunlight       \\n    Золотое кольцо с фианитами\\n     \n",
       " 9058  13-06-2024   Sunlight       \\n    Золотое кольцо с цитринами\\n     \n",
       " 9059  13-06-2024   Sunlight       \\n    Золотые серьги с фианитами\\n     \n",
       " 9060  13-06-2024   Sunlight     \\n    Золотая подвеска с фианитами\\n     \n",
       " \n",
       "          group                                             params   price  \\\n",
       " 8364  Подвески  {'Модель': 'А470300.12/з*', 'Материал изделия'...   17990   \n",
       " 8365  Подвески  {'Модель': '6376-P5Y-01', 'Материал изделия': ...  109990   \n",
       " 8366    Серьги  {'Модель': '2-3553-001*', 'Материал изделия': ...   26990   \n",
       " 8367    Кольца  {'Модель': '70442-K5W-01', 'Материал изделия':...  159990   \n",
       " 8368    Кольца  {'Модель': '70410-K5R-01', 'Материал изделия':...   69990   \n",
       " ...        ...                                                ...     ...   \n",
       " 9056    Серьги  {'Модель': '0288К*', 'Материал изделия': 'Розо...   23990   \n",
       " 9057    Кольца  {'Модель': '5-4039-303-1К*', 'Материал изделия...   26990   \n",
       " 9058    Кольца  {'Модель': 'К120-5952Ц*', 'Материал изделия': ...    9990   \n",
       " 9059    Серьги  {'Модель': '48552А.1*', 'Материал изделия': 'Р...    9490   \n",
       " 9060  Подвески  {'Модель': '31259-151-52-00*', 'Материал издел...   10990   \n",
       " \n",
       "       article                                                url  \n",
       " 8364   271349  https://sunlight.net/catalog/pendants_271349.html  \n",
       " 8365   313297  https://sunlight.net/catalog/pendants_313297.html  \n",
       " 8366   285062   https://sunlight.net/catalog/earring_285062.html  \n",
       " 8367    93259       https://sunlight.net/catalog/ring_93259.html  \n",
       " 8368    99715       https://sunlight.net/catalog/ring_99715.html  \n",
       " ...       ...                                                ...  \n",
       " 9056   338564    https://sunlight.net/catalog/earring_37786.html  \n",
       " 9057   304065      https://sunlight.net/catalog/ring_304065.html  \n",
       " 9058   133791      https://sunlight.net/catalog/ring_133791.html  \n",
       " 9059   281171   https://sunlight.net/catalog/earring_281171.html  \n",
       " 9060    43238   https://sunlight.net/catalog/pendants_43238.html  \n",
       " \n",
       " [697 rows x 8 columns],\n",
       "             date competitor  \\\n",
       " 9061  13-06-2024   Sunlight   \n",
       " 9062  13-06-2024   Sunlight   \n",
       " 9063  13-06-2024   Sunlight   \n",
       " 9064  13-06-2024   Sunlight   \n",
       " 9065  13-06-2024   Sunlight   \n",
       " ...          ...        ...   \n",
       " 9753  13-06-2024   Sunlight   \n",
       " 9754  13-06-2024   Sunlight   \n",
       " 9755  13-06-2024   Sunlight   \n",
       " 9756  13-06-2024   Sunlight   \n",
       " 9757  13-06-2024   Sunlight   \n",
       " \n",
       "                                                    name           group  \\\n",
       " 9061    \\n    Золотое кольцо с гранатом и фианитами\\n            Кольца   \n",
       " 9062  \\n    Золотое кольцо с сапфирами и бриллиантам...          Кольца   \n",
       " 9063                   \\n    Золотой крест-подвеска\\n    Крест-подвеска   \n",
       " 9064            \\n    Золотое кольцо с бриллиантами\\n            Кольца   \n",
       " 9065               \\n    Золотое кольцо с фианитами\\n            Кольца   \n",
       " ...                                                 ...             ...   \n",
       " 9753                           \\n    Золотое кольцо\\n            Кольца   \n",
       " 9754            \\n    Золотые серьги с бриллиантами\\n            Серьги   \n",
       " 9755               \\n    Золотое кольцо с фианитами\\n            Кольца   \n",
       " 9756               \\n    Золотые серьги с фианитами\\n            Серьги   \n",
       " 9757            \\n    Золотые серьги с бриллиантами\\n            Серьги   \n",
       " \n",
       "                                                  params  price  article  \\\n",
       " 9061  {'Модель': '1454508 1 8 1*', 'Материал изделия...  18990   331141   \n",
       " 9062  {'Модель': '73368-K5R-02', 'Материал изделия':...  30990   349390   \n",
       " 9063  {'Модель': '12092.1*', 'Материал изделия': 'Бе...  36990    93031   \n",
       " 9064  {'Модель': '70545-K5Y-02', 'Материал изделия':...  44990   334342   \n",
       " 9065  {'Модель': '1933901*', 'Материал изделия': 'Ро...  35180   336452   \n",
       " ...                                                 ...    ...      ...   \n",
       " 9753  {'Модель': '54977.1*', 'Материал изделия': 'Ро...  18110   993778   \n",
       " 9754  {'Модель': '73609-C5R-01', 'Материал изделия':...  69990   986437   \n",
       " 9755  {'Модель': '70249200*', 'Материал изделия': 'Р...  19210   354078   \n",
       " 9756  {'Модель': 'С132-3239*', 'Материал изделия': '...  23990   988534   \n",
       " 9757  {'Модель': '72161-C5R-01', 'Материал изделия':...  54990   320346   \n",
       " \n",
       "                                                    url  \n",
       " 9061     https://sunlight.net/catalog/ring_331141.html  \n",
       " 9062     https://sunlight.net/catalog/ring_349390.html  \n",
       " 9063  https://sunlight.net/catalog/pendants_93031.html  \n",
       " 9064     https://sunlight.net/catalog/ring_334342.html  \n",
       " 9065     https://sunlight.net/catalog/ring_336452.html  \n",
       " ...                                                ...  \n",
       " 9753     https://sunlight.net/catalog/ring_993778.html  \n",
       " 9754  https://sunlight.net/catalog/earring_986437.html  \n",
       " 9755     https://sunlight.net/catalog/ring_354078.html  \n",
       " 9756  https://sunlight.net/catalog/earring_988534.html  \n",
       " 9757  https://sunlight.net/catalog/earring_320346.html  \n",
       " \n",
       " [697 rows x 8 columns],\n",
       "              date competitor                                     name  \\\n",
       " 9758   13-06-2024   Sunlight  \\n    Золотые серьги с бриллиантами\\n     \n",
       " 9759   13-06-2024   Sunlight  \\n    Золотое кольцо с бриллиантами\\n     \n",
       " 9760   13-06-2024   Sunlight                 \\n    Золотые серьги\\n     \n",
       " 9761   13-06-2024   Sunlight  \\n    Золотые серьги с бриллиантами\\n     \n",
       " 9762   13-06-2024   Sunlight     \\n    Золотые серьги с фианитами\\n     \n",
       " ...           ...        ...                                      ...   \n",
       " 10450  13-06-2024   Sunlight     \\n    Золотое кольцо с фианитами\\n     \n",
       " 10451  13-06-2024   Sunlight  \\n    Золотое кольцо c бриллиантами\\n     \n",
       " 10452  13-06-2024   Sunlight     \\n    Золотое кольцо с изумрудом\\n     \n",
       " 10453  13-06-2024   Sunlight   \\n    Золотая подвеска с фианитами\\n     \n",
       " 10454  13-06-2024   Sunlight     \\n    Золотые серьги с фианитами\\n     \n",
       " \n",
       "           group                                             params   price  \\\n",
       " 9758     Серьги  {'Модель': '73747-C5R-01', 'Материал изделия':...   33990   \n",
       " 9759     Кольца  {'Модель': '72102-K5W-01', 'Материал изделия':...   99990   \n",
       " 9760     Серьги  {'Модель': 'СКШ 15-2*', 'Материал изделия': 'Р...   23990   \n",
       " 9761     Серьги  {'Модель': '72108-C5M-01', 'Материал изделия':...  144990   \n",
       " 9762     Серьги  {'Модель': '01С1214584*', 'Материал изделия': ...   34990   \n",
       " ...         ...                                                ...     ...   \n",
       " 10450    Кольца  {'Модель': 'б116260*', 'Материал изделия': 'Бе...   13360   \n",
       " 10451    Кольца  {'Модель': '0025-K5W-01', 'Материал изделия': ...   39990   \n",
       " 10452    Кольца  {'Модель': '0496-K5R-02', 'Материал изделия': ...   15990   \n",
       " 10453  Подвески  {'Модель': '3-1500-001*', 'Материал изделия': ...    7490   \n",
       " 10454    Серьги  {'Модель': 'С330-1746*', 'Материал изделия': '...    8490   \n",
       " \n",
       "        article                                                url  \n",
       " 9758    988944   https://sunlight.net/catalog/earring_988944.html  \n",
       " 9759    317097      https://sunlight.net/catalog/ring_317097.html  \n",
       " 9760    993319   https://sunlight.net/catalog/earring_993319.html  \n",
       " 9761    317109   https://sunlight.net/catalog/earring_317109.html  \n",
       " 9762    171005   https://sunlight.net/catalog/earring_171005.html  \n",
       " ...        ...                                                ...  \n",
       " 10450   345915      https://sunlight.net/catalog/ring_345915.html  \n",
       " 10451    69177       https://sunlight.net/catalog/ring_69177.html  \n",
       " 10452    58207       https://sunlight.net/catalog/ring_58207.html  \n",
       " 10453   284202  https://sunlight.net/catalog/pendants_284202.html  \n",
       " 10454   241405   https://sunlight.net/catalog/earring_241405.html  \n",
       " \n",
       " [697 rows x 8 columns],\n",
       "              date competitor                                       name  \\\n",
       " 10455  13-06-2024   Sunlight         \\n    Золотое кольцо с опалами\\n     \n",
       " 10456  13-06-2024   Sunlight       \\n    Золотое кольцо с фианитами\\n     \n",
       " 10457  13-06-2024   Sunlight           \\n    Золотой крест-подвеска\\n     \n",
       " 10458  13-06-2024   Sunlight     \\n    Золотые серьги с перламутром\\n     \n",
       " 10459  13-06-2024   Sunlight       \\n    Золотое кольцо с фианитами\\n     \n",
       " ...           ...        ...                                        ...   \n",
       " 11146  13-06-2024   Sunlight    \\n    Золотое кольцо с бриллиантами\\n     \n",
       " 11147  13-06-2024   Sunlight    \\n    Золотые серьги с бриллиантами\\n     \n",
       " 11148  13-06-2024   Sunlight                   \\n    Золотая серьга\\n     \n",
       " 11149  13-06-2024   Sunlight  \\n    Золотая подвеска с бриллиантами\\n     \n",
       " 11150  13-06-2024   Sunlight      \\n    Золотой пирсинг с фианитами\\n     \n",
       " \n",
       "                 group                                             params  \\\n",
       " 10455          Кольца  {'Модель': '095819_01_01_000_3297*', 'Материал...   \n",
       " 10456          Кольца  {'Модель': 'б1100976*', 'Материал изделия': 'Б...   \n",
       " 10457  Крест-подвеска  {'Модель': '308-1-637РЧ*', 'Материал изделия':...   \n",
       " 10458          Серьги  {'Модель': '02-3-439-8700-110*', 'Материал изд...   \n",
       " 10459          Кольца  {'Модель': '1534507 1 15 1*', 'Материал издели...   \n",
       " ...               ...                                                ...   \n",
       " 11146          Кольца  {'Модель': '73460-K5M-01', 'Материал изделия':...   \n",
       " 11147          Серьги  {'Модель': '72827-C5R-01', 'Материал изделия':...   \n",
       " 11148          Серьга  {'Модель': '17-00-0000-80126*', 'Материал изде...   \n",
       " 11149        Подвески  {'Модель': '71119-P5R-01', 'Материал изделия':...   \n",
       " 11150         Пирсинг  {'Модель': 'S-702021е_001*', 'Материал изделия...   \n",
       " \n",
       "        price  article                                                url  \n",
       " 10455  15990   342152      https://sunlight.net/catalog/ring_342152.html  \n",
       " 10456  10250   345904      https://sunlight.net/catalog/ring_345904.html  \n",
       " 10457  67990   988793  https://sunlight.net/catalog/pendants_988793.html  \n",
       " 10458  47990   356100   https://sunlight.net/catalog/earring_356100.html  \n",
       " 10459  16800   336221      https://sunlight.net/catalog/ring_336221.html  \n",
       " ...      ...      ...                                                ...  \n",
       " 11146  40990   987449      https://sunlight.net/catalog/ring_987449.html  \n",
       " 11147  23990   335492   https://sunlight.net/catalog/earring_335492.html  \n",
       " 11148   4790   344512  https://sunlight.net/catalog/one_earring_34451...  \n",
       " 11149  15990   267860  https://sunlight.net/catalog/pendants_267860.html  \n",
       " 11150   7490   342468  https://sunlight.net/catalog/piercing_342468.html  \n",
       " \n",
       " [696 rows x 8 columns],\n",
       "              date competitor  \\\n",
       " 11151  13-06-2024   Sunlight   \n",
       " 11152  13-06-2024   Sunlight   \n",
       " 11153  13-06-2024   Sunlight   \n",
       " 11154  13-06-2024   Sunlight   \n",
       " 11155  13-06-2024   Sunlight   \n",
       " ...           ...        ...   \n",
       " 11842  13-06-2024   Sunlight   \n",
       " 11843  13-06-2024   Sunlight   \n",
       " 11844  13-06-2024   Sunlight   \n",
       " 11845  13-06-2024   Sunlight   \n",
       " 11846  13-06-2024   Sunlight   \n",
       " \n",
       "                                                     name             group  \\\n",
       " 11151  \\n    Золотое кольцо с изумрудами, сапфирами, ...            Кольца   \n",
       " 11152  \\n    Золотые серьги с танзанитом и бриллианта...            Серьги   \n",
       " 11153                             \\n    Золотая цепь\\n                Цепи   \n",
       " 11154                          \\n    Золотой браслет\\n            Браслеты   \n",
       " 11155                 \\n    Золотое шейное украшение\\n    Шейное украшение   \n",
       " ...                                                  ...               ...   \n",
       " 11842           \\n    Золотая подвеска с бриллиантом\\n            Подвески   \n",
       " 11843  \\n    Золотая подвеска с изумрудами и бриллиан...          Подвески   \n",
       " 11844               \\n    Золотые серьги с фианитами\\n              Серьги   \n",
       " 11845               \\n    Золотое кольцо с фианитами\\n              Кольца   \n",
       " 11846                             \\n    Золотая цепь\\n                Цепи   \n",
       " \n",
       "                                                   params   price  article  \\\n",
       " 11151  {'Модель': '71083-K5R-04', 'Материал изделия':...   48990   277875   \n",
       " 11152  {'Модель': '70297-C5R-01', 'Материал изделия':...   42990    99512   \n",
       " 11153  {'Модель': '8150307-40*', 'Материал изделия': ...   25952    51293   \n",
       " 11154  {'Модель': 'НБ 12-200ПГ 1,00*', 'Материал изде...   29218    89838   \n",
       " 11155  {'Модель': '10410111/1*', 'Материал изделия': ...   25960   350613   \n",
       " ...                                                  ...     ...      ...   \n",
       " 11842  {'Модель': '72015-P5R-01', 'Материал изделия':...   12990   317041   \n",
       " 11843  {'Модель': '73366-P5R-01', 'Материал изделия':...   36990   984775   \n",
       " 11844  {'Модель': '10-02-0001-80372*', 'Материал изде...   23990   990437   \n",
       " 11845  {'Модель': '001-0386-0001-011*', 'Материал изд...   12000   992406   \n",
       " 11846  {'Модель': 'НЦ 15-206 1,20*', 'Материал издели...  131838   129945   \n",
       " \n",
       "                                                      url  \n",
       " 11151      https://sunlight.net/catalog/ring_277875.html  \n",
       " 11152    https://sunlight.net/catalog/earring_99512.html  \n",
       " 11153     https://sunlight.net/catalog/chains_51293.html  \n",
       " 11154  https://sunlight.net/catalog/bracelets_89838.html  \n",
       " 11155  https://sunlight.net/catalog/neck_decoration_3...  \n",
       " ...                                                  ...  \n",
       " 11842  https://sunlight.net/catalog/pendants_317041.html  \n",
       " 11843  https://sunlight.net/catalog/pendants_984775.html  \n",
       " 11844   https://sunlight.net/catalog/earring_990437.html  \n",
       " 11845      https://sunlight.net/catalog/ring_992406.html  \n",
       " 11846    https://sunlight.net/catalog/chains_129945.html  \n",
       " \n",
       " [696 rows x 8 columns],\n",
       "              date competitor  \\\n",
       " 11847  13-06-2024   Sunlight   \n",
       " 11848  13-06-2024   Sunlight   \n",
       " 11849  13-06-2024   Sunlight   \n",
       " 11850  13-06-2024   Sunlight   \n",
       " 11851  13-06-2024   Sunlight   \n",
       " ...           ...        ...   \n",
       " 12538  13-06-2024   Sunlight   \n",
       " 12539  13-06-2024   Sunlight   \n",
       " 12540  13-06-2024   Sunlight   \n",
       " 12541  13-06-2024   Sunlight   \n",
       " 12542  13-06-2024   Sunlight   \n",
       " \n",
       "                                                     name           group  \\\n",
       " 11847                             \\n    Золотая цепь\\n              Цепи   \n",
       " 11848             \\n    Золотая подвеска с фианитами\\n          Подвески   \n",
       " 11849                   \\n    Золотой крест-подвеска\\n    Крест-подвеска   \n",
       " 11850               \\n    Золотые серьги с фианитами\\n            Серьги   \n",
       " 11851             \\n    Золотая подвеска с фианитами\\n          Подвески   \n",
       " ...                                                  ...             ...   \n",
       " 12538  \\n    Золотое кольцо с сапфирами и бриллиантам...          Кольца   \n",
       " 12539                           \\n    Золотые серьги\\n            Серьги   \n",
       " 12540                          \\n    Золотой браслет\\n          Браслеты   \n",
       " 12541            \\n    Золотое кольцо с бриллиантами\\n            Кольца   \n",
       " 12542  \\n    Золотые серьги с рубинами и бриллиантами...          Серьги   \n",
       " \n",
       "                                                   params  price  article  \\\n",
       " 11847  {'Модель': 'Т1040500145*', 'Материал изделия':...  21249    89664   \n",
       " 11848  {'Модель': '3117161010W*', 'Материал изделия':...   5490   990375   \n",
       " 11849  {'Модель': '300-1-1949*', 'Материал изделия': ...  13990   986609   \n",
       " 11850  {'Модель': '2-2024*', 'Материал изделия': 'Роз...  17990   983694   \n",
       " 11851  {'Модель': '50-02-0001-22430*', 'Материал изде...   9490   166124   \n",
       " ...                                                  ...    ...      ...   \n",
       " 12538  {'Модель': '73377-K5M-01', 'Материал изделия':...  89990   351612   \n",
       " 12539  {'Модель': '23-23-26*', 'Диаметр серег': '23 м...  18990   244046   \n",
       " 12540  {'Модель': '47-00-0000-26212*', 'Материал изде...  14410   155419   \n",
       " 12541  {'Модель': '72985-K5W-01', 'Материал изделия':...  26990   338106   \n",
       " 12542  {'Модель': '72889-C5R-01', 'Материал изделия':...  74990   341151   \n",
       " \n",
       "                                                      url  \n",
       " 11847     https://sunlight.net/catalog/chains_96448.html  \n",
       " 11848  https://sunlight.net/catalog/pendants_990375.html  \n",
       " 11849  https://sunlight.net/catalog/pendants_986609.html  \n",
       " 11850   https://sunlight.net/catalog/earring_983694.html  \n",
       " 11851  https://sunlight.net/catalog/pendants_166124.html  \n",
       " ...                                                  ...  \n",
       " 12538      https://sunlight.net/catalog/ring_351612.html  \n",
       " 12539   https://sunlight.net/catalog/earring_244046.html  \n",
       " 12540  https://sunlight.net/catalog/bracelets_155419....  \n",
       " 12541      https://sunlight.net/catalog/ring_338106.html  \n",
       " 12542   https://sunlight.net/catalog/earring_341151.html  \n",
       " \n",
       " [696 rows x 8 columns],\n",
       "              date competitor  \\\n",
       " 12543  13-06-2024   Sunlight   \n",
       " 12544  13-06-2024   Sunlight   \n",
       " 12545  13-06-2024   Sunlight   \n",
       " 12546  13-06-2024   Sunlight   \n",
       " 12547  13-06-2024   Sunlight   \n",
       " ...           ...        ...   \n",
       " 13234  13-06-2024   Sunlight   \n",
       " 13235  13-06-2024   Sunlight   \n",
       " 13236  13-06-2024   Sunlight   \n",
       " 13237  13-06-2024   Sunlight   \n",
       " 13238  13-06-2024   Sunlight   \n",
       " \n",
       "                                                     name             group  \\\n",
       " 12543  \\n    Золотая подвеска с топазами и бриллианта...          Подвески   \n",
       " 12544            \\n    Золотые серьги с бриллиантами\\n              Серьги   \n",
       " 12545               \\n    Золотые серьги с фианитами\\n              Серьги   \n",
       " 12546               \\n    Золотое кольцо с фианитами\\n              Кольца   \n",
       " 12547               \\n    Золотое кольцо с фианитами\\n              Кольца   \n",
       " ...                                                  ...               ...   \n",
       " 13234     \\n    Золотое кольцо с фианитами и бирюзой\\n              Кольца   \n",
       " 13235  \\n    Золотое шейное украшение с изумрудами и ...  Шейное украшение   \n",
       " 13236            \\n    Золотые серьги с бриллиантами\\n              Серьги   \n",
       " 13237               \\n    Золотой браслет с гранатом\\n            Браслеты   \n",
       " 13238  \\n    Золотое кольцо с сапфирами и бриллиантам...            Кольца   \n",
       " \n",
       "                                                   params  price  article  \\\n",
       " 12543  {'Модель': '70856-P5R-01', 'Материал изделия':...  12990   239344   \n",
       " 12544  {'Модель': '72828-C5W-01', 'Материал изделия':...  24990   335494   \n",
       " 12545  {'Модель': '2-933*', 'Материал изделия': 'Розо...  26990   992400   \n",
       " 12546  {'Модель': '1592107 1 1 1*', 'Материал изделия...  27500   991037   \n",
       " 12547  {'Модель': '80051000-1*', 'Материал изделия': ...   9740    66395   \n",
       " ...                                                  ...    ...      ...   \n",
       " 13234  {'Модель': '096045_01_01_005_2600*', 'Материал...  22990   276038   \n",
       " 13235  {'Модель': '73635-H5W-04', 'Материал изделия':...  57990   992114   \n",
       " 13236  {'Модель': '71218-C5R-01', 'Материал изделия':...  14490   273099   \n",
       " 13237  {'Модель': '10227800-Гр*', 'Материал изделия':...  44990   239367   \n",
       " 13238  {'Модель': '70135-K5R-01', 'Материал изделия':...  17990    90477   \n",
       " \n",
       "                                                      url  \n",
       " 12543  https://sunlight.net/catalog/pendants_239344.html  \n",
       " 12544   https://sunlight.net/catalog/earring_335494.html  \n",
       " 12545   https://sunlight.net/catalog/earring_992400.html  \n",
       " 12546      https://sunlight.net/catalog/ring_991037.html  \n",
       " 12547       https://sunlight.net/catalog/ring_66395.html  \n",
       " ...                                                  ...  \n",
       " 13234      https://sunlight.net/catalog/ring_276038.html  \n",
       " 13235  https://sunlight.net/catalog/neck_decoration_9...  \n",
       " 13236   https://sunlight.net/catalog/earring_273099.html  \n",
       " 13237  https://sunlight.net/catalog/bracelets_239367....  \n",
       " 13238       https://sunlight.net/catalog/ring_90477.html  \n",
       " \n",
       " [696 rows x 8 columns],\n",
       "              date competitor  \\\n",
       " 13239  13-06-2024   Sunlight   \n",
       " 13240  13-06-2024   Sunlight   \n",
       " 13241  13-06-2024   Sunlight   \n",
       " 13242  13-06-2024   Sunlight   \n",
       " 13243  13-06-2024   Sunlight   \n",
       " ...           ...        ...   \n",
       " 13930  13-06-2024   Sunlight   \n",
       " 13931  13-06-2024   Sunlight   \n",
       " 13932  13-06-2024   Sunlight   \n",
       " 13933  13-06-2024   Sunlight   \n",
       " 13934  13-06-2024   Sunlight   \n",
       " \n",
       "                                                     name           group  \\\n",
       " 13239  \\n    Золотые серьги с изумрудами и бриллианта...          Серьги   \n",
       " 13240                 \\n    Золотое кольцо с бирюзой\\n            Кольца   \n",
       " 13241  \\n    Золотые серьги с гранатом и бриллиантами...          Серьги   \n",
       " 13242             \\n    Золотая подвеска с фианитами\\n          Подвески   \n",
       " 13243  \\n    Золотая подвеска \"Казанская Божия Матерь...        Подвески   \n",
       " ...                                                  ...             ...   \n",
       " 13930            \\n    Золотое кольцо с бриллиантами\\n            Кольца   \n",
       " 13931   \\n    Золотые серьги с агатом и бриллиантами\\n            Серьги   \n",
       " 13932                           \\n    Золотые серьги\\n            Серьги   \n",
       " 13933                   \\n    Золотой крест-подвеска\\n    Крест-подвеска   \n",
       " 13934  \\n    Золотые серьги с изумрудами и бриллианта...          Серьги   \n",
       " \n",
       "                                                   params  price  article  \\\n",
       " 13239  {'Модель': '1539-C5R-06', 'Материал изделия': ...  61990    61092   \n",
       " 13240  {'Модель': '095819_01_01_000_2562*', 'Материал...   9990   267390   \n",
       " 13241  {'Модель': '9347-C5R-09', 'Материал изделия': ...  42990    55948   \n",
       " 13242  {'Модель': '3-1563-001*', 'Материал изделия': ...   9990   335056   \n",
       " 13243  {'Модель': '35-0633-11-61s*', 'Материал издели...   4990   241183   \n",
       " ...                                                  ...    ...      ...   \n",
       " 13930  {'Модель': '3101-K5Y-04', 'Материал изделия': ...   6990   152015   \n",
       " 13931  {'Модель': '71794-C5R-01', 'Материал изделия':...  97990   310221   \n",
       " 13932  {'Модель': '30906.1*', 'Материал изделия': 'Ро...   5490    91078   \n",
       " 13933  {'Модель': '12623.1*', 'Материал изделия': 'Бе...   9990    88213   \n",
       " 13934  {'Модель': '70990-C5R-01', 'Материал изделия':...  54990   253164   \n",
       " \n",
       "                                                      url  \n",
       " 13239    https://sunlight.net/catalog/earring_61092.html  \n",
       " 13240      https://sunlight.net/catalog/ring_267390.html  \n",
       " 13241    https://sunlight.net/catalog/earring_55948.html  \n",
       " 13242  https://sunlight.net/catalog/pendants_335056.html  \n",
       " 13243  https://sunlight.net/catalog/pendants_249538.html  \n",
       " ...                                                  ...  \n",
       " 13930      https://sunlight.net/catalog/ring_152015.html  \n",
       " 13931   https://sunlight.net/catalog/earring_310221.html  \n",
       " 13932    https://sunlight.net/catalog/earring_91078.html  \n",
       " 13933   https://sunlight.net/catalog/pendants_88213.html  \n",
       " 13934   https://sunlight.net/catalog/earring_253164.html  \n",
       " \n",
       " [696 rows x 8 columns]]"
      ]
     },
     "execution_count": 36,
     "metadata": {},
     "output_type": "execute_result"
    }
   ],
   "source": [
    "test"
   ]
  },
  {
   "cell_type": "code",
   "execution_count": 40,
   "id": "47fc7bb9",
   "metadata": {},
   "outputs": [
    {
     "data": {
      "text/html": [
       "<div>\n",
       "<style scoped>\n",
       "    .dataframe tbody tr th:only-of-type {\n",
       "        vertical-align: middle;\n",
       "    }\n",
       "\n",
       "    .dataframe tbody tr th {\n",
       "        vertical-align: top;\n",
       "    }\n",
       "\n",
       "    .dataframe thead th {\n",
       "        text-align: right;\n",
       "    }\n",
       "</style>\n",
       "<table border=\"1\" class=\"dataframe\">\n",
       "  <thead>\n",
       "    <tr style=\"text-align: right;\">\n",
       "      <th></th>\n",
       "      <th>date</th>\n",
       "      <th>competitor</th>\n",
       "      <th>name</th>\n",
       "      <th>group</th>\n",
       "      <th>params</th>\n",
       "      <th>price</th>\n",
       "      <th>article</th>\n",
       "      <th>url</th>\n",
       "    </tr>\n",
       "  </thead>\n",
       "  <tbody>\n",
       "    <tr>\n",
       "      <th>0</th>\n",
       "      <td>13-06-2024</td>\n",
       "      <td>Sunlight</td>\n",
       "      <td>\\n    Золотой браслет на ногу\\n</td>\n",
       "      <td>Браслеты</td>\n",
       "      <td>{'Модель': '7025051Р-26*', 'Материал изделия':...</td>\n",
       "      <td>7528</td>\n",
       "      <td>988818</td>\n",
       "      <td>https://sunlight.net/catalog/bracelets_988818....</td>\n",
       "    </tr>\n",
       "    <tr>\n",
       "      <th>1</th>\n",
       "      <td>13-06-2024</td>\n",
       "      <td>Sunlight</td>\n",
       "      <td>\\n    Золотое шейное украшение с фианитами\\n</td>\n",
       "      <td>Шейное украшение</td>\n",
       "      <td>{'Модель': '01Л161615*', 'Материал изделия': '...</td>\n",
       "      <td>316060</td>\n",
       "      <td>988808</td>\n",
       "      <td>https://sunlight.net/catalog/neck_decoration_9...</td>\n",
       "    </tr>\n",
       "    <tr>\n",
       "      <th>2</th>\n",
       "      <td>13-06-2024</td>\n",
       "      <td>Sunlight</td>\n",
       "      <td>\\n    Золотой браслет\\n</td>\n",
       "      <td>Браслеты</td>\n",
       "      <td>{'Модель': '01Б730073*', 'Материал изделия': '...</td>\n",
       "      <td>71640</td>\n",
       "      <td>988802</td>\n",
       "      <td>https://sunlight.net/catalog/bracelets_988802....</td>\n",
       "    </tr>\n",
       "    <tr>\n",
       "      <th>3</th>\n",
       "      <td>13-06-2024</td>\n",
       "      <td>Sunlight</td>\n",
       "      <td>\\n    Золотой браслет с фианитами\\n</td>\n",
       "      <td>Браслеты</td>\n",
       "      <td>{'Модель': '7703861/19,5*', 'Вставка': 'Фианит...</td>\n",
       "      <td>14520</td>\n",
       "      <td>345882</td>\n",
       "      <td>https://sunlight.net/catalog/bracelets_345882....</td>\n",
       "    </tr>\n",
       "    <tr>\n",
       "      <th>4</th>\n",
       "      <td>13-06-2024</td>\n",
       "      <td>Sunlight</td>\n",
       "      <td>\\n    Золотой браслет с фианитами\\n</td>\n",
       "      <td>Браслеты</td>\n",
       "      <td>{'Модель': '7700406*', 'Материал изделия': 'Ро...</td>\n",
       "      <td>78290</td>\n",
       "      <td>345855</td>\n",
       "      <td>https://sunlight.net/catalog/bracelets_345855....</td>\n",
       "    </tr>\n",
       "    <tr>\n",
       "      <th>...</th>\n",
       "      <td>...</td>\n",
       "      <td>...</td>\n",
       "      <td>...</td>\n",
       "      <td>...</td>\n",
       "      <td>...</td>\n",
       "      <td>...</td>\n",
       "      <td>...</td>\n",
       "      <td>...</td>\n",
       "    </tr>\n",
       "    <tr>\n",
       "      <th>692</th>\n",
       "      <td>13-06-2024</td>\n",
       "      <td>Sunlight</td>\n",
       "      <td>\\n    Золотая подвеска\\n</td>\n",
       "      <td>Подвески</td>\n",
       "      <td>{'Модель': '097950_03_01_000_0000*', 'Материал...</td>\n",
       "      <td>5990</td>\n",
       "      <td>333334</td>\n",
       "      <td>https://sunlight.net/catalog/pendants_333334.html</td>\n",
       "    </tr>\n",
       "    <tr>\n",
       "      <th>693</th>\n",
       "      <td>13-06-2024</td>\n",
       "      <td>Sunlight</td>\n",
       "      <td>\\n    Золотые серьги с сапфирами и бриллиантам...</td>\n",
       "      <td>Серьги</td>\n",
       "      <td>{'Модель': '72356-C5R-01', 'Материал изделия':...</td>\n",
       "      <td>109990</td>\n",
       "      <td>333037</td>\n",
       "      <td>https://sunlight.net/catalog/earring_333037.html</td>\n",
       "    </tr>\n",
       "    <tr>\n",
       "      <th>694</th>\n",
       "      <td>13-06-2024</td>\n",
       "      <td>Sunlight</td>\n",
       "      <td>\\n    Золотые серьги с фианитами и наноситалла...</td>\n",
       "      <td>Серьги</td>\n",
       "      <td>{'Модель': 'кл3585а-48*', 'Материал изделия': ...</td>\n",
       "      <td>40990</td>\n",
       "      <td>332957</td>\n",
       "      <td>https://sunlight.net/catalog/earring_332957.html</td>\n",
       "    </tr>\n",
       "    <tr>\n",
       "      <th>695</th>\n",
       "      <td>13-06-2024</td>\n",
       "      <td>Sunlight</td>\n",
       "      <td>\\n    Золотые серьги с бриллиантами\\n</td>\n",
       "      <td>Серьги</td>\n",
       "      <td>{'Модель': '73118-C5W-01', 'Материал изделия':...</td>\n",
       "      <td>699990</td>\n",
       "      <td>344886</td>\n",
       "      <td>https://sunlight.net/catalog/earring_344886.html</td>\n",
       "    </tr>\n",
       "    <tr>\n",
       "      <th>696</th>\n",
       "      <td>13-06-2024</td>\n",
       "      <td>Sunlight</td>\n",
       "      <td>\\n    Золотое кольцо с фианитами\\n</td>\n",
       "      <td>Кольца</td>\n",
       "      <td>{'Модель': '0601489*', 'Материал изделия': 'Бе...</td>\n",
       "      <td>22650</td>\n",
       "      <td>344426</td>\n",
       "      <td>https://sunlight.net/catalog/ring_344426.html</td>\n",
       "    </tr>\n",
       "  </tbody>\n",
       "</table>\n",
       "<p>697 rows × 8 columns</p>\n",
       "</div>"
      ],
      "text/plain": [
       "           date competitor                                               name  \\\n",
       "0    13-06-2024   Sunlight                  \\n    Золотой браслет на ногу\\n     \n",
       "1    13-06-2024   Sunlight     \\n    Золотое шейное украшение с фианитами\\n     \n",
       "2    13-06-2024   Sunlight                          \\n    Золотой браслет\\n     \n",
       "3    13-06-2024   Sunlight              \\n    Золотой браслет с фианитами\\n     \n",
       "4    13-06-2024   Sunlight              \\n    Золотой браслет с фианитами\\n     \n",
       "..          ...        ...                                                ...   \n",
       "692  13-06-2024   Sunlight                         \\n    Золотая подвеска\\n     \n",
       "693  13-06-2024   Sunlight  \\n    Золотые серьги с сапфирами и бриллиантам...   \n",
       "694  13-06-2024   Sunlight  \\n    Золотые серьги с фианитами и наноситалла...   \n",
       "695  13-06-2024   Sunlight            \\n    Золотые серьги с бриллиантами\\n     \n",
       "696  13-06-2024   Sunlight               \\n    Золотое кольцо с фианитами\\n     \n",
       "\n",
       "                group                                             params  \\\n",
       "0            Браслеты  {'Модель': '7025051Р-26*', 'Материал изделия':...   \n",
       "1    Шейное украшение  {'Модель': '01Л161615*', 'Материал изделия': '...   \n",
       "2            Браслеты  {'Модель': '01Б730073*', 'Материал изделия': '...   \n",
       "3            Браслеты  {'Модель': '7703861/19,5*', 'Вставка': 'Фианит...   \n",
       "4            Браслеты  {'Модель': '7700406*', 'Материал изделия': 'Ро...   \n",
       "..                ...                                                ...   \n",
       "692          Подвески  {'Модель': '097950_03_01_000_0000*', 'Материал...   \n",
       "693            Серьги  {'Модель': '72356-C5R-01', 'Материал изделия':...   \n",
       "694            Серьги  {'Модель': 'кл3585а-48*', 'Материал изделия': ...   \n",
       "695            Серьги  {'Модель': '73118-C5W-01', 'Материал изделия':...   \n",
       "696            Кольца  {'Модель': '0601489*', 'Материал изделия': 'Бе...   \n",
       "\n",
       "      price  article                                                url  \n",
       "0      7528   988818  https://sunlight.net/catalog/bracelets_988818....  \n",
       "1    316060   988808  https://sunlight.net/catalog/neck_decoration_9...  \n",
       "2     71640   988802  https://sunlight.net/catalog/bracelets_988802....  \n",
       "3     14520   345882  https://sunlight.net/catalog/bracelets_345882....  \n",
       "4     78290   345855  https://sunlight.net/catalog/bracelets_345855....  \n",
       "..      ...      ...                                                ...  \n",
       "692    5990   333334  https://sunlight.net/catalog/pendants_333334.html  \n",
       "693  109990   333037   https://sunlight.net/catalog/earring_333037.html  \n",
       "694   40990   332957   https://sunlight.net/catalog/earring_332957.html  \n",
       "695  699990   344886   https://sunlight.net/catalog/earring_344886.html  \n",
       "696   22650   344426      https://sunlight.net/catalog/ring_344426.html  \n",
       "\n",
       "[697 rows x 8 columns]"
      ]
     },
     "execution_count": 40,
     "metadata": {},
     "output_type": "execute_result"
    }
   ],
   "source": [
    "test[0]"
   ]
  },
  {
   "cell_type": "code",
   "execution_count": 42,
   "id": "2fff3cdb-166e-4363-a351-a3d39062e012",
   "metadata": {
    "tags": []
   },
   "outputs": [
    {
     "name": "stdout",
     "output_type": "stream",
     "text": [
      "начало парсинга 1 части ссылок\n"
     ]
    },
    {
     "name": "stderr",
     "output_type": "stream",
     "text": [
      "100%|██████████| 697/697 [06:23<00:00,  1.82it/s]\n"
     ]
    },
    {
     "name": "stdout",
     "output_type": "stream",
     "text": [
      "начало парсинга 2 части ссылок\n"
     ]
    },
    {
     "name": "stderr",
     "output_type": "stream",
     "text": [
      "100%|██████████| 697/697 [06:17<00:00,  1.84it/s]\n"
     ]
    },
    {
     "name": "stdout",
     "output_type": "stream",
     "text": [
      "начало парсинга 3 части ссылок\n"
     ]
    },
    {
     "name": "stderr",
     "output_type": "stream",
     "text": [
      "100%|██████████| 697/697 [06:51<00:00,  1.69it/s]\n"
     ]
    },
    {
     "name": "stdout",
     "output_type": "stream",
     "text": [
      "начало парсинга 4 части ссылок\n"
     ]
    },
    {
     "name": "stderr",
     "output_type": "stream",
     "text": [
      "100%|██████████| 697/697 [06:52<00:00,  1.69it/s]\n"
     ]
    },
    {
     "name": "stdout",
     "output_type": "stream",
     "text": [
      "начало парсинга 5 части ссылок\n"
     ]
    },
    {
     "name": "stderr",
     "output_type": "stream",
     "text": [
      "100%|██████████| 697/697 [07:09<00:00,  1.62it/s]\n"
     ]
    },
    {
     "name": "stdout",
     "output_type": "stream",
     "text": [
      "начало парсинга 6 части ссылок\n"
     ]
    },
    {
     "name": "stderr",
     "output_type": "stream",
     "text": [
      "100%|██████████| 697/697 [07:10<00:00,  1.62it/s]\n"
     ]
    },
    {
     "name": "stdout",
     "output_type": "stream",
     "text": [
      "начало парсинга 7 части ссылок\n"
     ]
    },
    {
     "name": "stderr",
     "output_type": "stream",
     "text": [
      "100%|██████████| 697/697 [07:25<00:00,  1.56it/s]\n"
     ]
    },
    {
     "name": "stdout",
     "output_type": "stream",
     "text": [
      "начало парсинга 8 части ссылок\n"
     ]
    },
    {
     "name": "stderr",
     "output_type": "stream",
     "text": [
      "100%|██████████| 697/697 [06:59<00:00,  1.66it/s]\n"
     ]
    },
    {
     "name": "stdout",
     "output_type": "stream",
     "text": [
      "начало парсинга 9 части ссылок\n"
     ]
    },
    {
     "name": "stderr",
     "output_type": "stream",
     "text": [
      "100%|██████████| 697/697 [07:21<00:00,  1.58it/s]\n"
     ]
    },
    {
     "name": "stdout",
     "output_type": "stream",
     "text": [
      "начало парсинга 10 части ссылок\n"
     ]
    },
    {
     "name": "stderr",
     "output_type": "stream",
     "text": [
      "100%|██████████| 697/697 [07:18<00:00,  1.59it/s]\n"
     ]
    },
    {
     "name": "stdout",
     "output_type": "stream",
     "text": [
      "начало парсинга 11 части ссылок\n"
     ]
    },
    {
     "name": "stderr",
     "output_type": "stream",
     "text": [
      "100%|██████████| 697/697 [07:13<00:00,  1.61it/s]\n"
     ]
    },
    {
     "name": "stdout",
     "output_type": "stream",
     "text": [
      "начало парсинга 12 части ссылок\n"
     ]
    },
    {
     "name": "stderr",
     "output_type": "stream",
     "text": [
      "100%|██████████| 697/697 [07:35<00:00,  1.53it/s]\n"
     ]
    },
    {
     "name": "stdout",
     "output_type": "stream",
     "text": [
      "начало парсинга 13 части ссылок\n"
     ]
    },
    {
     "name": "stderr",
     "output_type": "stream",
     "text": [
      "100%|██████████| 697/697 [07:29<00:00,  1.55it/s]\n"
     ]
    },
    {
     "name": "stdout",
     "output_type": "stream",
     "text": [
      "начало парсинга 14 части ссылок\n"
     ]
    },
    {
     "name": "stderr",
     "output_type": "stream",
     "text": [
      "100%|██████████| 697/697 [07:41<00:00,  1.51it/s]\n"
     ]
    },
    {
     "name": "stdout",
     "output_type": "stream",
     "text": [
      "начало парсинга 15 части ссылок\n"
     ]
    },
    {
     "name": "stderr",
     "output_type": "stream",
     "text": [
      "100%|██████████| 697/697 [07:39<00:00,  1.52it/s]\n"
     ]
    },
    {
     "name": "stdout",
     "output_type": "stream",
     "text": [
      "начало парсинга 16 части ссылок\n"
     ]
    },
    {
     "name": "stderr",
     "output_type": "stream",
     "text": [
      "100%|██████████| 696/696 [08:01<00:00,  1.45it/s]\n"
     ]
    },
    {
     "name": "stdout",
     "output_type": "stream",
     "text": [
      "начало парсинга 17 части ссылок\n"
     ]
    },
    {
     "name": "stderr",
     "output_type": "stream",
     "text": [
      "100%|██████████| 696/696 [08:08<00:00,  1.43it/s]\n"
     ]
    },
    {
     "name": "stdout",
     "output_type": "stream",
     "text": [
      "начало парсинга 18 части ссылок\n"
     ]
    },
    {
     "name": "stderr",
     "output_type": "stream",
     "text": [
      "100%|██████████| 696/696 [08:50<00:00,  1.31it/s]\n"
     ]
    },
    {
     "name": "stdout",
     "output_type": "stream",
     "text": [
      "начало парсинга 19 части ссылок\n"
     ]
    },
    {
     "name": "stderr",
     "output_type": "stream",
     "text": [
      "100%|██████████| 696/696 [08:57<00:00,  1.29it/s]\n"
     ]
    },
    {
     "name": "stdout",
     "output_type": "stream",
     "text": [
      "начало парсинга 20 части ссылок\n"
     ]
    },
    {
     "name": "stderr",
     "output_type": "stream",
     "text": [
      "100%|██████████| 696/696 [09:33<00:00,  1.21it/s]\n"
     ]
    }
   ],
   "source": [
    "n = 0\n",
    "for i in range(n, 20):\n",
    "    n += 1\n",
    "    print(f'начало парсинга {n} части ссылок')\n",
    "    df = get_personal_price(test[i].reset_index())\n",
    "    df = pd.DataFrame(df)\n",
    "    df.to_csv(r'C:\\Users\\Trenkin.Sergey\\Desktop\\parsers\\sunlight_current_data\\discounts\\\\' + f'sunlight_all_data_{day_now}_{month_now}_{n}.csv', index=False)\n",
    "    time.sleep(5)"
   ]
  },
  {
   "cell_type": "code",
   "execution_count": 48,
   "id": "1cc1c7e9",
   "metadata": {},
   "outputs": [
    {
     "data": {
      "text/plain": [
       "20"
      ]
     },
     "execution_count": 48,
     "metadata": {},
     "output_type": "execute_result"
    }
   ],
   "source": [
    "os.chdir(r'C:\\Users\\Trenkin.Sergey\\Desktop\\parsers\\sunlight_current_data\\discounts')\n",
    "extension = 'csv'\n",
    "all_filenames = [i for i in glob.glob('*.{}'.format(extension))]\n",
    "len(all_filenames)"
   ]
  },
  {
   "cell_type": "code",
   "execution_count": 49,
   "id": "35b46694",
   "metadata": {},
   "outputs": [
    {
     "data": {
      "text/html": [
       "<div>\n",
       "<style scoped>\n",
       "    .dataframe tbody tr th:only-of-type {\n",
       "        vertical-align: middle;\n",
       "    }\n",
       "\n",
       "    .dataframe tbody tr th {\n",
       "        vertical-align: top;\n",
       "    }\n",
       "\n",
       "    .dataframe thead th {\n",
       "        text-align: right;\n",
       "    }\n",
       "</style>\n",
       "<table border=\"1\" class=\"dataframe\">\n",
       "  <thead>\n",
       "    <tr style=\"text-align: right;\">\n",
       "      <th></th>\n",
       "      <th>date</th>\n",
       "      <th>competitor</th>\n",
       "      <th>name</th>\n",
       "      <th>group</th>\n",
       "      <th>params</th>\n",
       "      <th>price</th>\n",
       "      <th>article</th>\n",
       "      <th>url</th>\n",
       "    </tr>\n",
       "  </thead>\n",
       "  <tbody>\n",
       "    <tr>\n",
       "      <th>0</th>\n",
       "      <td>13-06-2024</td>\n",
       "      <td>Sunlight</td>\n",
       "      <td>\\n    Золотой браслет на ногу\\n</td>\n",
       "      <td>Браслеты</td>\n",
       "      <td>{'Модель': '7025051Р-26*', 'Материал изделия':...</td>\n",
       "      <td>7528</td>\n",
       "      <td>988818</td>\n",
       "      <td>https://sunlight.net/catalog/bracelets_988818....</td>\n",
       "    </tr>\n",
       "    <tr>\n",
       "      <th>1</th>\n",
       "      <td>13-06-2024</td>\n",
       "      <td>Sunlight</td>\n",
       "      <td>\\n    Золотое шейное украшение с фианитами\\n</td>\n",
       "      <td>Шейное украшение</td>\n",
       "      <td>{'Модель': '01Л161615*', 'Материал изделия': '...</td>\n",
       "      <td>316060</td>\n",
       "      <td>988808</td>\n",
       "      <td>https://sunlight.net/catalog/neck_decoration_9...</td>\n",
       "    </tr>\n",
       "    <tr>\n",
       "      <th>2</th>\n",
       "      <td>13-06-2024</td>\n",
       "      <td>Sunlight</td>\n",
       "      <td>\\n    Золотой браслет\\n</td>\n",
       "      <td>Браслеты</td>\n",
       "      <td>{'Модель': '01Б730073*', 'Материал изделия': '...</td>\n",
       "      <td>71640</td>\n",
       "      <td>988802</td>\n",
       "      <td>https://sunlight.net/catalog/bracelets_988802....</td>\n",
       "    </tr>\n",
       "    <tr>\n",
       "      <th>3</th>\n",
       "      <td>13-06-2024</td>\n",
       "      <td>Sunlight</td>\n",
       "      <td>\\n    Золотой браслет с фианитами\\n</td>\n",
       "      <td>Браслеты</td>\n",
       "      <td>{'Модель': '7703861/19,5*', 'Вставка': 'Фианит...</td>\n",
       "      <td>14520</td>\n",
       "      <td>345882</td>\n",
       "      <td>https://sunlight.net/catalog/bracelets_345882....</td>\n",
       "    </tr>\n",
       "    <tr>\n",
       "      <th>4</th>\n",
       "      <td>13-06-2024</td>\n",
       "      <td>Sunlight</td>\n",
       "      <td>\\n    Золотой браслет с фианитами\\n</td>\n",
       "      <td>Браслеты</td>\n",
       "      <td>{'Модель': '7700406*', 'Материал изделия': 'Ро...</td>\n",
       "      <td>78290</td>\n",
       "      <td>345855</td>\n",
       "      <td>https://sunlight.net/catalog/bracelets_345855....</td>\n",
       "    </tr>\n",
       "    <tr>\n",
       "      <th>...</th>\n",
       "      <td>...</td>\n",
       "      <td>...</td>\n",
       "      <td>...</td>\n",
       "      <td>...</td>\n",
       "      <td>...</td>\n",
       "      <td>...</td>\n",
       "      <td>...</td>\n",
       "      <td>...</td>\n",
       "    </tr>\n",
       "    <tr>\n",
       "      <th>13930</th>\n",
       "      <td>13-06-2024</td>\n",
       "      <td>Sunlight</td>\n",
       "      <td>\\n    Золотое кольцо с бриллиантами\\n</td>\n",
       "      <td>Кольца</td>\n",
       "      <td>{'Модель': '3101-K5Y-04', 'Материал изделия': ...</td>\n",
       "      <td>6990</td>\n",
       "      <td>152015</td>\n",
       "      <td>https://sunlight.net/catalog/ring_152015.html</td>\n",
       "    </tr>\n",
       "    <tr>\n",
       "      <th>13931</th>\n",
       "      <td>13-06-2024</td>\n",
       "      <td>Sunlight</td>\n",
       "      <td>\\n    Золотые серьги с агатом и бриллиантами\\n</td>\n",
       "      <td>Серьги</td>\n",
       "      <td>{'Модель': '71794-C5R-01', 'Материал изделия':...</td>\n",
       "      <td>97990</td>\n",
       "      <td>310221</td>\n",
       "      <td>https://sunlight.net/catalog/earring_310221.html</td>\n",
       "    </tr>\n",
       "    <tr>\n",
       "      <th>13932</th>\n",
       "      <td>13-06-2024</td>\n",
       "      <td>Sunlight</td>\n",
       "      <td>\\n    Золотые серьги\\n</td>\n",
       "      <td>Серьги</td>\n",
       "      <td>{'Модель': '30906.1*', 'Материал изделия': 'Ро...</td>\n",
       "      <td>5490</td>\n",
       "      <td>91078</td>\n",
       "      <td>https://sunlight.net/catalog/earring_91078.html</td>\n",
       "    </tr>\n",
       "    <tr>\n",
       "      <th>13933</th>\n",
       "      <td>13-06-2024</td>\n",
       "      <td>Sunlight</td>\n",
       "      <td>\\n    Золотой крест-подвеска\\n</td>\n",
       "      <td>Крест-подвеска</td>\n",
       "      <td>{'Модель': '12623.1*', 'Материал изделия': 'Бе...</td>\n",
       "      <td>9990</td>\n",
       "      <td>88213</td>\n",
       "      <td>https://sunlight.net/catalog/pendants_88213.html</td>\n",
       "    </tr>\n",
       "    <tr>\n",
       "      <th>13934</th>\n",
       "      <td>13-06-2024</td>\n",
       "      <td>Sunlight</td>\n",
       "      <td>\\n    Золотые серьги с изумрудами и бриллианта...</td>\n",
       "      <td>Серьги</td>\n",
       "      <td>{'Модель': '70990-C5R-01', 'Материал изделия':...</td>\n",
       "      <td>54990</td>\n",
       "      <td>253164</td>\n",
       "      <td>https://sunlight.net/catalog/earring_253164.html</td>\n",
       "    </tr>\n",
       "  </tbody>\n",
       "</table>\n",
       "<p>13935 rows × 8 columns</p>\n",
       "</div>"
      ],
      "text/plain": [
       "             date competitor  \\\n",
       "0      13-06-2024   Sunlight   \n",
       "1      13-06-2024   Sunlight   \n",
       "2      13-06-2024   Sunlight   \n",
       "3      13-06-2024   Sunlight   \n",
       "4      13-06-2024   Sunlight   \n",
       "...           ...        ...   \n",
       "13930  13-06-2024   Sunlight   \n",
       "13931  13-06-2024   Sunlight   \n",
       "13932  13-06-2024   Sunlight   \n",
       "13933  13-06-2024   Sunlight   \n",
       "13934  13-06-2024   Sunlight   \n",
       "\n",
       "                                                    name             group  \\\n",
       "0                      \\n    Золотой браслет на ногу\\n            Браслеты   \n",
       "1         \\n    Золотое шейное украшение с фианитами\\n    Шейное украшение   \n",
       "2                              \\n    Золотой браслет\\n            Браслеты   \n",
       "3                  \\n    Золотой браслет с фианитами\\n            Браслеты   \n",
       "4                  \\n    Золотой браслет с фианитами\\n            Браслеты   \n",
       "...                                                  ...               ...   \n",
       "13930            \\n    Золотое кольцо с бриллиантами\\n              Кольца   \n",
       "13931   \\n    Золотые серьги с агатом и бриллиантами\\n              Серьги   \n",
       "13932                           \\n    Золотые серьги\\n              Серьги   \n",
       "13933                   \\n    Золотой крест-подвеска\\n      Крест-подвеска   \n",
       "13934  \\n    Золотые серьги с изумрудами и бриллианта...            Серьги   \n",
       "\n",
       "                                                  params   price  article  \\\n",
       "0      {'Модель': '7025051Р-26*', 'Материал изделия':...    7528   988818   \n",
       "1      {'Модель': '01Л161615*', 'Материал изделия': '...  316060   988808   \n",
       "2      {'Модель': '01Б730073*', 'Материал изделия': '...   71640   988802   \n",
       "3      {'Модель': '7703861/19,5*', 'Вставка': 'Фианит...   14520   345882   \n",
       "4      {'Модель': '7700406*', 'Материал изделия': 'Ро...   78290   345855   \n",
       "...                                                  ...     ...      ...   \n",
       "13930  {'Модель': '3101-K5Y-04', 'Материал изделия': ...    6990   152015   \n",
       "13931  {'Модель': '71794-C5R-01', 'Материал изделия':...   97990   310221   \n",
       "13932  {'Модель': '30906.1*', 'Материал изделия': 'Ро...    5490    91078   \n",
       "13933  {'Модель': '12623.1*', 'Материал изделия': 'Бе...    9990    88213   \n",
       "13934  {'Модель': '70990-C5R-01', 'Материал изделия':...   54990   253164   \n",
       "\n",
       "                                                     url  \n",
       "0      https://sunlight.net/catalog/bracelets_988818....  \n",
       "1      https://sunlight.net/catalog/neck_decoration_9...  \n",
       "2      https://sunlight.net/catalog/bracelets_988802....  \n",
       "3      https://sunlight.net/catalog/bracelets_345882....  \n",
       "4      https://sunlight.net/catalog/bracelets_345855....  \n",
       "...                                                  ...  \n",
       "13930      https://sunlight.net/catalog/ring_152015.html  \n",
       "13931   https://sunlight.net/catalog/earring_310221.html  \n",
       "13932    https://sunlight.net/catalog/earring_91078.html  \n",
       "13933   https://sunlight.net/catalog/pendants_88213.html  \n",
       "13934   https://sunlight.net/catalog/earring_253164.html  \n",
       "\n",
       "[13935 rows x 8 columns]"
      ]
     },
     "execution_count": 49,
     "metadata": {},
     "output_type": "execute_result"
    }
   ],
   "source": [
    "data"
   ]
  },
  {
   "cell_type": "code",
   "execution_count": 50,
   "id": "c2d69699-23f3-4c83-97bc-d2aba743a4dc",
   "metadata": {
    "tags": []
   },
   "outputs": [],
   "source": [
    "data_discount = pd.DataFrame()\n",
    "for name  in all_filenames:\n",
    "    df = pd.read_csv(name)\n",
    "    data_discount = pd.concat([df, data_discount], ignore_index=True)"
   ]
  },
  {
   "cell_type": "code",
   "execution_count": 51,
   "id": "c58ae2ff",
   "metadata": {},
   "outputs": [
    {
     "data": {
      "text/html": [
       "<div>\n",
       "<style scoped>\n",
       "    .dataframe tbody tr th:only-of-type {\n",
       "        vertical-align: middle;\n",
       "    }\n",
       "\n",
       "    .dataframe tbody tr th {\n",
       "        vertical-align: top;\n",
       "    }\n",
       "\n",
       "    .dataframe thead th {\n",
       "        text-align: right;\n",
       "    }\n",
       "</style>\n",
       "<table border=\"1\" class=\"dataframe\">\n",
       "  <thead>\n",
       "    <tr style=\"text-align: right;\">\n",
       "      <th></th>\n",
       "      <th>article</th>\n",
       "      <th>price_old</th>\n",
       "      <th>price</th>\n",
       "      <th>price_personal</th>\n",
       "      <th>discount</th>\n",
       "    </tr>\n",
       "  </thead>\n",
       "  <tbody>\n",
       "    <tr>\n",
       "      <th>0</th>\n",
       "      <td>327366</td>\n",
       "      <td>416 633 ₽</td>\n",
       "      <td>124 990 ₽</td>\n",
       "      <td>96 990 ₽</td>\n",
       "      <td>['Цены 8 марта! Ещё -10%, код: МАРТ до 23:59']</td>\n",
       "    </tr>\n",
       "    <tr>\n",
       "      <th>1</th>\n",
       "      <td>348026</td>\n",
       "      <td>37 980 ₽</td>\n",
       "      <td>18 990 ₽</td>\n",
       "      <td>11 394 ₽</td>\n",
       "      <td>['Цены 8 марта! Ещё -10%, код: МАРТ до 23:59']</td>\n",
       "    </tr>\n",
       "    <tr>\n",
       "      <th>2</th>\n",
       "      <td>986913</td>\n",
       "      <td>95 980 ₽</td>\n",
       "      <td>47 990 ₽</td>\n",
       "      <td>28 794 ₽</td>\n",
       "      <td>['Цены 8 марта! Ещё -15%, код: МАРТ до 23:59']</td>\n",
       "    </tr>\n",
       "    <tr>\n",
       "      <th>3</th>\n",
       "      <td>45746</td>\n",
       "      <td>43 980 ₽</td>\n",
       "      <td>21 990 ₽</td>\n",
       "      <td>13 194 ₽</td>\n",
       "      <td>['Цены 8 марта! Ещё -10%, код: МАРТ до 23:59']</td>\n",
       "    </tr>\n",
       "    <tr>\n",
       "      <th>4</th>\n",
       "      <td>130354</td>\n",
       "      <td>81 480 ₽</td>\n",
       "      <td>40 740 ₽</td>\n",
       "      <td>24 444 ₽</td>\n",
       "      <td>['Цены 8 марта! Ещё -10%, код: МАРТ до 23:59']</td>\n",
       "    </tr>\n",
       "    <tr>\n",
       "      <th>...</th>\n",
       "      <td>...</td>\n",
       "      <td>...</td>\n",
       "      <td>...</td>\n",
       "      <td>...</td>\n",
       "      <td>...</td>\n",
       "    </tr>\n",
       "    <tr>\n",
       "      <th>13930</th>\n",
       "      <td>333334</td>\n",
       "      <td>11 980 ₽</td>\n",
       "      <td>5 990 ₽</td>\n",
       "      <td>3 594 ₽</td>\n",
       "      <td>['Цены 8 марта! Ещё -10%, код: МАРТ до 23:59']</td>\n",
       "    </tr>\n",
       "    <tr>\n",
       "      <th>13931</th>\n",
       "      <td>333037</td>\n",
       "      <td>219 980 ₽</td>\n",
       "      <td>109 990 ₽</td>\n",
       "      <td>81 990 ₽</td>\n",
       "      <td>['Цены 8 марта! Ещё -15%, код: МАРТ до 23:59']</td>\n",
       "    </tr>\n",
       "    <tr>\n",
       "      <th>13932</th>\n",
       "      <td>332957</td>\n",
       "      <td>81 980 ₽</td>\n",
       "      <td>40 990 ₽</td>\n",
       "      <td>24 594 ₽</td>\n",
       "      <td>['Цены 8 марта! Ещё -15%, код: МАРТ до 23:59']</td>\n",
       "    </tr>\n",
       "    <tr>\n",
       "      <th>13933</th>\n",
       "      <td>344886</td>\n",
       "      <td>NaN</td>\n",
       "      <td>699 990 ₽</td>\n",
       "      <td>671 990 ₽</td>\n",
       "      <td>[nan]</td>\n",
       "    </tr>\n",
       "    <tr>\n",
       "      <th>13934</th>\n",
       "      <td>344426</td>\n",
       "      <td>45 300 ₽</td>\n",
       "      <td>22 650 ₽</td>\n",
       "      <td>13 590 ₽</td>\n",
       "      <td>['Цены 8 марта! Ещё -10%, код: МАРТ до 23:59']</td>\n",
       "    </tr>\n",
       "  </tbody>\n",
       "</table>\n",
       "<p>13935 rows × 5 columns</p>\n",
       "</div>"
      ],
      "text/plain": [
       "       article  price_old      price price_personal  \\\n",
       "0       327366  416 633 ₽  124 990 ₽       96 990 ₽   \n",
       "1       348026   37 980 ₽   18 990 ₽       11 394 ₽   \n",
       "2       986913   95 980 ₽   47 990 ₽       28 794 ₽   \n",
       "3        45746   43 980 ₽   21 990 ₽       13 194 ₽   \n",
       "4       130354   81 480 ₽   40 740 ₽       24 444 ₽   \n",
       "...        ...        ...        ...            ...   \n",
       "13930   333334   11 980 ₽    5 990 ₽        3 594 ₽   \n",
       "13931   333037  219 980 ₽  109 990 ₽       81 990 ₽   \n",
       "13932   332957   81 980 ₽   40 990 ₽       24 594 ₽   \n",
       "13933   344886        NaN  699 990 ₽      671 990 ₽   \n",
       "13934   344426   45 300 ₽   22 650 ₽       13 590 ₽   \n",
       "\n",
       "                                             discount  \n",
       "0      ['Цены 8 марта! Ещё -10%, код: МАРТ до 23:59']  \n",
       "1      ['Цены 8 марта! Ещё -10%, код: МАРТ до 23:59']  \n",
       "2      ['Цены 8 марта! Ещё -15%, код: МАРТ до 23:59']  \n",
       "3      ['Цены 8 марта! Ещё -10%, код: МАРТ до 23:59']  \n",
       "4      ['Цены 8 марта! Ещё -10%, код: МАРТ до 23:59']  \n",
       "...                                               ...  \n",
       "13930  ['Цены 8 марта! Ещё -10%, код: МАРТ до 23:59']  \n",
       "13931  ['Цены 8 марта! Ещё -15%, код: МАРТ до 23:59']  \n",
       "13932  ['Цены 8 марта! Ещё -15%, код: МАРТ до 23:59']  \n",
       "13933                                           [nan]  \n",
       "13934  ['Цены 8 марта! Ещё -10%, код: МАРТ до 23:59']  \n",
       "\n",
       "[13935 rows x 5 columns]"
      ]
     },
     "execution_count": 51,
     "metadata": {},
     "output_type": "execute_result"
    }
   ],
   "source": [
    "data_discount"
   ]
  },
  {
   "cell_type": "code",
   "execution_count": 52,
   "id": "c11840f3-353f-49ae-82c8-66612a359a3e",
   "metadata": {
    "tags": []
   },
   "outputs": [],
   "source": [
    "data = data.merge(data_discount, on='article', how='left')"
   ]
  },
  {
   "cell_type": "code",
   "execution_count": 53,
   "id": "97cdcac5-2bcf-4fa4-b1f2-428f3c3fd32a",
   "metadata": {
    "tags": []
   },
   "outputs": [
    {
     "name": "stdout",
     "output_type": "stream",
     "text": [
      "<class 'pandas.core.frame.DataFrame'>\n",
      "RangeIndex: 13935 entries, 0 to 13934\n",
      "Data columns (total 12 columns):\n",
      " #   Column          Non-Null Count  Dtype \n",
      "---  ------          --------------  ----- \n",
      " 0   date            13935 non-null  object\n",
      " 1   competitor      13935 non-null  object\n",
      " 2   name            13935 non-null  object\n",
      " 3   group           13935 non-null  object\n",
      " 4   params          13935 non-null  object\n",
      " 5   price_x         13935 non-null  int64 \n",
      " 6   article         13935 non-null  int32 \n",
      " 7   url             13935 non-null  object\n",
      " 8   price_old       13097 non-null  object\n",
      " 9   price_y         13935 non-null  object\n",
      " 10  price_personal  13212 non-null  object\n",
      " 11  discount        13935 non-null  object\n",
      "dtypes: int32(1), int64(1), object(10)\n",
      "memory usage: 1.2+ MB\n"
     ]
    }
   ],
   "source": [
    "data.info()"
   ]
  },
  {
   "cell_type": "code",
   "execution_count": 54,
   "id": "049e3231-7148-4da2-848d-679b26fd5889",
   "metadata": {
    "tags": []
   },
   "outputs": [
    {
     "data": {
      "text/plain": [
       "discount\n",
       "['Цены 8 марта! Ещё -10%, код: МАРТ до 23:59']                                                  9357\n",
       "['Цены 8 марта! Ещё -15%, код: МАРТ до 23:59']                                                  3455\n",
       "['ХИТ-цена']                                                                                     710\n",
       "['Цены снижены! Ещё -15%, код: СЕГОДНЯ']                                                         198\n",
       "[nan]                                                                                            134\n",
       "['Цены 8 марта! Ещё -35%, код: МАРТ до 23:59']                                                    28\n",
       "['Цены 8 марта! Ещё -20%, код: МАРТ до 23:59']                                                    19\n",
       "['Цены 8 марта! Ещё -30%, код: МАРТ до 23:59']                                                    10\n",
       "['Цены 8 марта! Ещё -45%, код: МАРТ до 23:59']                                                     9\n",
       "['Цены 8 марта! Ещё -55%, код: МАРТ до 23:59']                                                     7\n",
       "['ХИТ-цена', 'Выгодно! Золото 5 290 р/г']                                                          7\n",
       "['Цены 8 марта! Ещё -15%, код: МАРТ до 23:59', 'Цены 8 марта! Ещё -10%, код: МАРТ до 23:59']       1\n",
       "Name: count, dtype: int64"
      ]
     },
     "execution_count": 54,
     "metadata": {},
     "output_type": "execute_result"
    }
   ],
   "source": [
    "data['discount'].value_counts()"
   ]
  },
  {
   "cell_type": "code",
   "execution_count": 55,
   "id": "1c16ae65-7ea8-4d57-994f-45815b15bbe3",
   "metadata": {
    "tags": []
   },
   "outputs": [
    {
     "data": {
      "text/html": [
       "<div>\n",
       "<style scoped>\n",
       "    .dataframe tbody tr th:only-of-type {\n",
       "        vertical-align: middle;\n",
       "    }\n",
       "\n",
       "    .dataframe tbody tr th {\n",
       "        vertical-align: top;\n",
       "    }\n",
       "\n",
       "    .dataframe thead th {\n",
       "        text-align: right;\n",
       "    }\n",
       "</style>\n",
       "<table border=\"1\" class=\"dataframe\">\n",
       "  <thead>\n",
       "    <tr style=\"text-align: right;\">\n",
       "      <th></th>\n",
       "      <th>date</th>\n",
       "      <th>competitor</th>\n",
       "      <th>name</th>\n",
       "      <th>group</th>\n",
       "      <th>params</th>\n",
       "      <th>price_x</th>\n",
       "      <th>article</th>\n",
       "      <th>url</th>\n",
       "      <th>price_old</th>\n",
       "      <th>price_y</th>\n",
       "      <th>price_personal</th>\n",
       "      <th>discount</th>\n",
       "    </tr>\n",
       "  </thead>\n",
       "  <tbody>\n",
       "    <tr>\n",
       "      <th>0</th>\n",
       "      <td>13-06-2024</td>\n",
       "      <td>Sunlight</td>\n",
       "      <td>\\n    Золотой браслет на ногу\\n</td>\n",
       "      <td>Браслеты</td>\n",
       "      <td>{'Модель': '7025051Р-26*', 'Материал изделия':...</td>\n",
       "      <td>7528</td>\n",
       "      <td>988818</td>\n",
       "      <td>https://sunlight.net/catalog/bracelets_988818....</td>\n",
       "      <td>NaN</td>\n",
       "      <td>7 528 ₽</td>\n",
       "      <td>NaN</td>\n",
       "      <td>['ХИТ-цена']</td>\n",
       "    </tr>\n",
       "    <tr>\n",
       "      <th>1</th>\n",
       "      <td>13-06-2024</td>\n",
       "      <td>Sunlight</td>\n",
       "      <td>\\n    Золотое шейное украшение с фианитами\\n</td>\n",
       "      <td>Шейное украшение</td>\n",
       "      <td>{'Модель': '01Л161615*', 'Материал изделия': '...</td>\n",
       "      <td>316060</td>\n",
       "      <td>988808</td>\n",
       "      <td>https://sunlight.net/catalog/neck_decoration_9...</td>\n",
       "      <td>632 120 ₽</td>\n",
       "      <td>316 060 ₽</td>\n",
       "      <td>288 060 ₽</td>\n",
       "      <td>['Цены 8 марта! Ещё -15%, код: МАРТ до 23:59']</td>\n",
       "    </tr>\n",
       "    <tr>\n",
       "      <th>2</th>\n",
       "      <td>13-06-2024</td>\n",
       "      <td>Sunlight</td>\n",
       "      <td>\\n    Золотой браслет\\n</td>\n",
       "      <td>Браслеты</td>\n",
       "      <td>{'Модель': '01Б730073*', 'Материал изделия': '...</td>\n",
       "      <td>71640</td>\n",
       "      <td>988802</td>\n",
       "      <td>https://sunlight.net/catalog/bracelets_988802....</td>\n",
       "      <td>143 280 ₽</td>\n",
       "      <td>71 640 ₽</td>\n",
       "      <td>43 640 ₽</td>\n",
       "      <td>['Цены 8 марта! Ещё -10%, код: МАРТ до 23:59']</td>\n",
       "    </tr>\n",
       "    <tr>\n",
       "      <th>3</th>\n",
       "      <td>13-06-2024</td>\n",
       "      <td>Sunlight</td>\n",
       "      <td>\\n    Золотой браслет с фианитами\\n</td>\n",
       "      <td>Браслеты</td>\n",
       "      <td>{'Модель': '7703861/19,5*', 'Вставка': 'Фианит...</td>\n",
       "      <td>14520</td>\n",
       "      <td>345882</td>\n",
       "      <td>https://sunlight.net/catalog/bracelets_345882....</td>\n",
       "      <td>29 040 ₽</td>\n",
       "      <td>14 520 ₽</td>\n",
       "      <td>8 712 ₽</td>\n",
       "      <td>['Цены 8 марта! Ещё -10%, код: МАРТ до 23:59']</td>\n",
       "    </tr>\n",
       "    <tr>\n",
       "      <th>4</th>\n",
       "      <td>13-06-2024</td>\n",
       "      <td>Sunlight</td>\n",
       "      <td>\\n    Золотой браслет с фианитами\\n</td>\n",
       "      <td>Браслеты</td>\n",
       "      <td>{'Модель': '7700406*', 'Материал изделия': 'Ро...</td>\n",
       "      <td>78290</td>\n",
       "      <td>345855</td>\n",
       "      <td>https://sunlight.net/catalog/bracelets_345855....</td>\n",
       "      <td>156 580 ₽</td>\n",
       "      <td>78 290 ₽</td>\n",
       "      <td>50 290 ₽</td>\n",
       "      <td>['Цены 8 марта! Ещё -10%, код: МАРТ до 23:59']</td>\n",
       "    </tr>\n",
       "    <tr>\n",
       "      <th>5</th>\n",
       "      <td>13-06-2024</td>\n",
       "      <td>Sunlight</td>\n",
       "      <td>\\n    Золотой браслет с фианитами\\n</td>\n",
       "      <td>Браслеты</td>\n",
       "      <td>{'Модель': '7700377*', 'Материал изделия': 'Ро...</td>\n",
       "      <td>94480</td>\n",
       "      <td>345853</td>\n",
       "      <td>https://sunlight.net/catalog/bracelets_345853....</td>\n",
       "      <td>188 960 ₽</td>\n",
       "      <td>94 480 ₽</td>\n",
       "      <td>66 480 ₽</td>\n",
       "      <td>['Цены 8 марта! Ещё -10%, код: МАРТ до 23:59']</td>\n",
       "    </tr>\n",
       "    <tr>\n",
       "      <th>6</th>\n",
       "      <td>13-06-2024</td>\n",
       "      <td>Sunlight</td>\n",
       "      <td>\\n    Золотой браслет с изумрудами и бриллиант...</td>\n",
       "      <td>Браслеты</td>\n",
       "      <td>{'Модель': '73963-B5W-02', 'Материал изделия':...</td>\n",
       "      <td>129990</td>\n",
       "      <td>987833</td>\n",
       "      <td>https://sunlight.net/catalog/bracelets_987833....</td>\n",
       "      <td>259 980 ₽</td>\n",
       "      <td>129 990 ₽</td>\n",
       "      <td>101 990 ₽</td>\n",
       "      <td>['Цены 8 марта! Ещё -15%, код: МАРТ до 23:59']</td>\n",
       "    </tr>\n",
       "    <tr>\n",
       "      <th>7</th>\n",
       "      <td>13-06-2024</td>\n",
       "      <td>Sunlight</td>\n",
       "      <td>\\n    Золотой браслет с сапфирами и бриллианта...</td>\n",
       "      <td>Браслеты</td>\n",
       "      <td>{'Модель': '73963-B5W-01', 'Материал изделия':...</td>\n",
       "      <td>114990</td>\n",
       "      <td>987832</td>\n",
       "      <td>https://sunlight.net/catalog/bracelets_987832....</td>\n",
       "      <td>229 980 ₽</td>\n",
       "      <td>114 990 ₽</td>\n",
       "      <td>86 990 ₽</td>\n",
       "      <td>['Цены 8 марта! Ещё -15%, код: МАРТ до 23:59']</td>\n",
       "    </tr>\n",
       "    <tr>\n",
       "      <th>8</th>\n",
       "      <td>13-06-2024</td>\n",
       "      <td>Sunlight</td>\n",
       "      <td>\\n    Золотой браслет\\n</td>\n",
       "      <td>Браслеты</td>\n",
       "      <td>{'Модель': '46-0010-11*', 'Материал изделия': ...</td>\n",
       "      <td>88830</td>\n",
       "      <td>345090</td>\n",
       "      <td>https://sunlight.net/catalog/bracelets_345090....</td>\n",
       "      <td>177 660 ₽</td>\n",
       "      <td>88 830 ₽</td>\n",
       "      <td>60 830 ₽</td>\n",
       "      <td>['Цены 8 марта! Ещё -10%, код: МАРТ до 23:59']</td>\n",
       "    </tr>\n",
       "    <tr>\n",
       "      <th>9</th>\n",
       "      <td>13-06-2024</td>\n",
       "      <td>Sunlight</td>\n",
       "      <td>\\n    Золотой браслет\\n</td>\n",
       "      <td>Браслеты</td>\n",
       "      <td>{'Модель': '46-0009-11-61*', 'Материал изделия...</td>\n",
       "      <td>81010</td>\n",
       "      <td>345089</td>\n",
       "      <td>https://sunlight.net/catalog/bracelets_345089....</td>\n",
       "      <td>162 020 ₽</td>\n",
       "      <td>81 010 ₽</td>\n",
       "      <td>53 010 ₽</td>\n",
       "      <td>['Цены 8 марта! Ещё -10%, код: МАРТ до 23:59']</td>\n",
       "    </tr>\n",
       "    <tr>\n",
       "      <th>10</th>\n",
       "      <td>13-06-2024</td>\n",
       "      <td>Sunlight</td>\n",
       "      <td>\\n    Золотой браслет\\n</td>\n",
       "      <td>Браслеты</td>\n",
       "      <td>{'Модель': '46-0003-11*', 'Материал изделия': ...</td>\n",
       "      <td>94850</td>\n",
       "      <td>345087</td>\n",
       "      <td>https://sunlight.net/catalog/bracelets_345087....</td>\n",
       "      <td>189 700 ₽</td>\n",
       "      <td>94 850 ₽</td>\n",
       "      <td>66 850 ₽</td>\n",
       "      <td>['Цены 8 марта! Ещё -10%, код: МАРТ до 23:59']</td>\n",
       "    </tr>\n",
       "    <tr>\n",
       "      <th>11</th>\n",
       "      <td>13-06-2024</td>\n",
       "      <td>Sunlight</td>\n",
       "      <td>\\n    Золотая цепь\\n</td>\n",
       "      <td>Цепи</td>\n",
       "      <td>{'Модель': '342-00-0180-31130*', 'Материал изд...</td>\n",
       "      <td>866212</td>\n",
       "      <td>344747</td>\n",
       "      <td>https://sunlight.net/catalog/chains_344747.html</td>\n",
       "      <td>NaN</td>\n",
       "      <td>866 212 ₽</td>\n",
       "      <td>NaN</td>\n",
       "      <td>['ХИТ-цена']</td>\n",
       "    </tr>\n",
       "    <tr>\n",
       "      <th>12</th>\n",
       "      <td>13-06-2024</td>\n",
       "      <td>Sunlight</td>\n",
       "      <td>\\n    Золотая цепь\\n</td>\n",
       "      <td>Цепи</td>\n",
       "      <td>{'Модель': '342-00-0140-31130*', 'Материал изд...</td>\n",
       "      <td>533793</td>\n",
       "      <td>344746</td>\n",
       "      <td>https://sunlight.net/catalog/chains_344746.html</td>\n",
       "      <td>NaN</td>\n",
       "      <td>533 793 ₽</td>\n",
       "      <td>NaN</td>\n",
       "      <td>['ХИТ-цена']</td>\n",
       "    </tr>\n",
       "    <tr>\n",
       "      <th>13</th>\n",
       "      <td>13-06-2024</td>\n",
       "      <td>Sunlight</td>\n",
       "      <td>\\n    Золотой браслет с фианитами\\n</td>\n",
       "      <td>Браслеты</td>\n",
       "      <td>{'Модель': 'бр081-20р-01*', 'Материал изделия'...</td>\n",
       "      <td>94710</td>\n",
       "      <td>344374</td>\n",
       "      <td>https://sunlight.net/catalog/bracelets_344374....</td>\n",
       "      <td>189 420 ₽</td>\n",
       "      <td>94 710 ₽</td>\n",
       "      <td>66 710 ₽</td>\n",
       "      <td>['Цены 8 марта! Ещё -10%, код: МАРТ до 23:59']</td>\n",
       "    </tr>\n",
       "    <tr>\n",
       "      <th>14</th>\n",
       "      <td>13-06-2024</td>\n",
       "      <td>Sunlight</td>\n",
       "      <td>\\n    Золотой браслет с фианитами\\n</td>\n",
       "      <td>Браслеты</td>\n",
       "      <td>{'Модель': 'бр081-20с-01*', 'Материал изделия'...</td>\n",
       "      <td>76710</td>\n",
       "      <td>344373</td>\n",
       "      <td>https://sunlight.net/catalog/bracelets_344373....</td>\n",
       "      <td>153 420 ₽</td>\n",
       "      <td>76 710 ₽</td>\n",
       "      <td>48 710 ₽</td>\n",
       "      <td>['Цены 8 марта! Ещё -10%, код: МАРТ до 23:59']</td>\n",
       "    </tr>\n",
       "    <tr>\n",
       "      <th>15</th>\n",
       "      <td>13-06-2024</td>\n",
       "      <td>Sunlight</td>\n",
       "      <td>\\n    Золотой браслет с бриллиантами\\n</td>\n",
       "      <td>Браслеты</td>\n",
       "      <td>{'Модель': '73314-B5W-01', 'Материал изделия':...</td>\n",
       "      <td>194990</td>\n",
       "      <td>986416</td>\n",
       "      <td>https://sunlight.net/catalog/bracelets_986416....</td>\n",
       "      <td>389 980 ₽</td>\n",
       "      <td>194 990 ₽</td>\n",
       "      <td>166 990 ₽</td>\n",
       "      <td>['Цены 8 марта! Ещё -10%, код: МАРТ до 23:59']</td>\n",
       "    </tr>\n",
       "    <tr>\n",
       "      <th>16</th>\n",
       "      <td>13-06-2024</td>\n",
       "      <td>Sunlight</td>\n",
       "      <td>\\n    Золотой браслет\\n</td>\n",
       "      <td>Браслеты</td>\n",
       "      <td>{'Модель': '47-00-0000-11176*', 'Материал изде...</td>\n",
       "      <td>12720</td>\n",
       "      <td>344031</td>\n",
       "      <td>https://sunlight.net/catalog/bracelets_344031....</td>\n",
       "      <td>25 440 ₽</td>\n",
       "      <td>12 720 ₽</td>\n",
       "      <td>7 632 ₽</td>\n",
       "      <td>['Цены 8 марта! Ещё -10%, код: МАРТ до 23:59']</td>\n",
       "    </tr>\n",
       "    <tr>\n",
       "      <th>17</th>\n",
       "      <td>13-06-2024</td>\n",
       "      <td>Sunlight</td>\n",
       "      <td>\\n    Золотое шейное украшение\\n</td>\n",
       "      <td>Шейное украшение</td>\n",
       "      <td>{'Модель': '6150456-45*', 'Страна производства...</td>\n",
       "      <td>48480</td>\n",
       "      <td>343992</td>\n",
       "      <td>https://sunlight.net/catalog/neck_decoration_3...</td>\n",
       "      <td>96 960 ₽</td>\n",
       "      <td>48 480 ₽</td>\n",
       "      <td>29 088 ₽</td>\n",
       "      <td>['Цены 8 марта! Ещё -10%, код: МАРТ до 23:59']</td>\n",
       "    </tr>\n",
       "    <tr>\n",
       "      <th>18</th>\n",
       "      <td>13-06-2024</td>\n",
       "      <td>Sunlight</td>\n",
       "      <td>\\n    Золотое шейное украшение с глиттером\\n</td>\n",
       "      <td>Шейное украшение</td>\n",
       "      <td>{'Модель': '12929-H5Y-01', 'Материал изделия':...</td>\n",
       "      <td>28990</td>\n",
       "      <td>986086</td>\n",
       "      <td>https://sunlight.net/catalog/neck_decoration_9...</td>\n",
       "      <td>57 980 ₽</td>\n",
       "      <td>28 990 ₽</td>\n",
       "      <td>17 394 ₽</td>\n",
       "      <td>['Цены 8 марта! Ещё -15%, код: МАРТ до 23:59']</td>\n",
       "    </tr>\n",
       "    <tr>\n",
       "      <th>19</th>\n",
       "      <td>13-06-2024</td>\n",
       "      <td>Sunlight</td>\n",
       "      <td>\\n    Золотой браслет\\n</td>\n",
       "      <td>Браслеты</td>\n",
       "      <td>{'Модель': '12932-B5Y-01', 'Материал изделия':...</td>\n",
       "      <td>57990</td>\n",
       "      <td>986078</td>\n",
       "      <td>https://sunlight.net/catalog/bracelets_986078....</td>\n",
       "      <td>115 980 ₽</td>\n",
       "      <td>57 990 ₽</td>\n",
       "      <td>34 794 ₽</td>\n",
       "      <td>['Цены 8 марта! Ещё -15%, код: МАРТ до 23:59']</td>\n",
       "    </tr>\n",
       "  </tbody>\n",
       "</table>\n",
       "</div>"
      ],
      "text/plain": [
       "          date competitor                                               name  \\\n",
       "0   13-06-2024   Sunlight                  \\n    Золотой браслет на ногу\\n     \n",
       "1   13-06-2024   Sunlight     \\n    Золотое шейное украшение с фианитами\\n     \n",
       "2   13-06-2024   Sunlight                          \\n    Золотой браслет\\n     \n",
       "3   13-06-2024   Sunlight              \\n    Золотой браслет с фианитами\\n     \n",
       "4   13-06-2024   Sunlight              \\n    Золотой браслет с фианитами\\n     \n",
       "5   13-06-2024   Sunlight              \\n    Золотой браслет с фианитами\\n     \n",
       "6   13-06-2024   Sunlight  \\n    Золотой браслет с изумрудами и бриллиант...   \n",
       "7   13-06-2024   Sunlight  \\n    Золотой браслет с сапфирами и бриллианта...   \n",
       "8   13-06-2024   Sunlight                          \\n    Золотой браслет\\n     \n",
       "9   13-06-2024   Sunlight                          \\n    Золотой браслет\\n     \n",
       "10  13-06-2024   Sunlight                          \\n    Золотой браслет\\n     \n",
       "11  13-06-2024   Sunlight                             \\n    Золотая цепь\\n     \n",
       "12  13-06-2024   Sunlight                             \\n    Золотая цепь\\n     \n",
       "13  13-06-2024   Sunlight              \\n    Золотой браслет с фианитами\\n     \n",
       "14  13-06-2024   Sunlight              \\n    Золотой браслет с фианитами\\n     \n",
       "15  13-06-2024   Sunlight           \\n    Золотой браслет с бриллиантами\\n     \n",
       "16  13-06-2024   Sunlight                          \\n    Золотой браслет\\n     \n",
       "17  13-06-2024   Sunlight                 \\n    Золотое шейное украшение\\n     \n",
       "18  13-06-2024   Sunlight     \\n    Золотое шейное украшение с глиттером\\n     \n",
       "19  13-06-2024   Sunlight                          \\n    Золотой браслет\\n     \n",
       "\n",
       "               group                                             params  \\\n",
       "0           Браслеты  {'Модель': '7025051Р-26*', 'Материал изделия':...   \n",
       "1   Шейное украшение  {'Модель': '01Л161615*', 'Материал изделия': '...   \n",
       "2           Браслеты  {'Модель': '01Б730073*', 'Материал изделия': '...   \n",
       "3           Браслеты  {'Модель': '7703861/19,5*', 'Вставка': 'Фианит...   \n",
       "4           Браслеты  {'Модель': '7700406*', 'Материал изделия': 'Ро...   \n",
       "5           Браслеты  {'Модель': '7700377*', 'Материал изделия': 'Ро...   \n",
       "6           Браслеты  {'Модель': '73963-B5W-02', 'Материал изделия':...   \n",
       "7           Браслеты  {'Модель': '73963-B5W-01', 'Материал изделия':...   \n",
       "8           Браслеты  {'Модель': '46-0010-11*', 'Материал изделия': ...   \n",
       "9           Браслеты  {'Модель': '46-0009-11-61*', 'Материал изделия...   \n",
       "10          Браслеты  {'Модель': '46-0003-11*', 'Материал изделия': ...   \n",
       "11              Цепи  {'Модель': '342-00-0180-31130*', 'Материал изд...   \n",
       "12              Цепи  {'Модель': '342-00-0140-31130*', 'Материал изд...   \n",
       "13          Браслеты  {'Модель': 'бр081-20р-01*', 'Материал изделия'...   \n",
       "14          Браслеты  {'Модель': 'бр081-20с-01*', 'Материал изделия'...   \n",
       "15          Браслеты  {'Модель': '73314-B5W-01', 'Материал изделия':...   \n",
       "16          Браслеты  {'Модель': '47-00-0000-11176*', 'Материал изде...   \n",
       "17  Шейное украшение  {'Модель': '6150456-45*', 'Страна производства...   \n",
       "18  Шейное украшение  {'Модель': '12929-H5Y-01', 'Материал изделия':...   \n",
       "19          Браслеты  {'Модель': '12932-B5Y-01', 'Материал изделия':...   \n",
       "\n",
       "    price_x  article                                                url  \\\n",
       "0      7528   988818  https://sunlight.net/catalog/bracelets_988818....   \n",
       "1    316060   988808  https://sunlight.net/catalog/neck_decoration_9...   \n",
       "2     71640   988802  https://sunlight.net/catalog/bracelets_988802....   \n",
       "3     14520   345882  https://sunlight.net/catalog/bracelets_345882....   \n",
       "4     78290   345855  https://sunlight.net/catalog/bracelets_345855....   \n",
       "5     94480   345853  https://sunlight.net/catalog/bracelets_345853....   \n",
       "6    129990   987833  https://sunlight.net/catalog/bracelets_987833....   \n",
       "7    114990   987832  https://sunlight.net/catalog/bracelets_987832....   \n",
       "8     88830   345090  https://sunlight.net/catalog/bracelets_345090....   \n",
       "9     81010   345089  https://sunlight.net/catalog/bracelets_345089....   \n",
       "10    94850   345087  https://sunlight.net/catalog/bracelets_345087....   \n",
       "11   866212   344747    https://sunlight.net/catalog/chains_344747.html   \n",
       "12   533793   344746    https://sunlight.net/catalog/chains_344746.html   \n",
       "13    94710   344374  https://sunlight.net/catalog/bracelets_344374....   \n",
       "14    76710   344373  https://sunlight.net/catalog/bracelets_344373....   \n",
       "15   194990   986416  https://sunlight.net/catalog/bracelets_986416....   \n",
       "16    12720   344031  https://sunlight.net/catalog/bracelets_344031....   \n",
       "17    48480   343992  https://sunlight.net/catalog/neck_decoration_3...   \n",
       "18    28990   986086  https://sunlight.net/catalog/neck_decoration_9...   \n",
       "19    57990   986078  https://sunlight.net/catalog/bracelets_986078....   \n",
       "\n",
       "    price_old    price_y price_personal  \\\n",
       "0         NaN    7 528 ₽            NaN   \n",
       "1   632 120 ₽  316 060 ₽      288 060 ₽   \n",
       "2   143 280 ₽   71 640 ₽       43 640 ₽   \n",
       "3    29 040 ₽   14 520 ₽        8 712 ₽   \n",
       "4   156 580 ₽   78 290 ₽       50 290 ₽   \n",
       "5   188 960 ₽   94 480 ₽       66 480 ₽   \n",
       "6   259 980 ₽  129 990 ₽      101 990 ₽   \n",
       "7   229 980 ₽  114 990 ₽       86 990 ₽   \n",
       "8   177 660 ₽   88 830 ₽       60 830 ₽   \n",
       "9   162 020 ₽   81 010 ₽       53 010 ₽   \n",
       "10  189 700 ₽   94 850 ₽       66 850 ₽   \n",
       "11        NaN  866 212 ₽            NaN   \n",
       "12        NaN  533 793 ₽            NaN   \n",
       "13  189 420 ₽   94 710 ₽       66 710 ₽   \n",
       "14  153 420 ₽   76 710 ₽       48 710 ₽   \n",
       "15  389 980 ₽  194 990 ₽      166 990 ₽   \n",
       "16   25 440 ₽   12 720 ₽        7 632 ₽   \n",
       "17   96 960 ₽   48 480 ₽       29 088 ₽   \n",
       "18   57 980 ₽   28 990 ₽       17 394 ₽   \n",
       "19  115 980 ₽   57 990 ₽       34 794 ₽   \n",
       "\n",
       "                                          discount  \n",
       "0                                     ['ХИТ-цена']  \n",
       "1   ['Цены 8 марта! Ещё -15%, код: МАРТ до 23:59']  \n",
       "2   ['Цены 8 марта! Ещё -10%, код: МАРТ до 23:59']  \n",
       "3   ['Цены 8 марта! Ещё -10%, код: МАРТ до 23:59']  \n",
       "4   ['Цены 8 марта! Ещё -10%, код: МАРТ до 23:59']  \n",
       "5   ['Цены 8 марта! Ещё -10%, код: МАРТ до 23:59']  \n",
       "6   ['Цены 8 марта! Ещё -15%, код: МАРТ до 23:59']  \n",
       "7   ['Цены 8 марта! Ещё -15%, код: МАРТ до 23:59']  \n",
       "8   ['Цены 8 марта! Ещё -10%, код: МАРТ до 23:59']  \n",
       "9   ['Цены 8 марта! Ещё -10%, код: МАРТ до 23:59']  \n",
       "10  ['Цены 8 марта! Ещё -10%, код: МАРТ до 23:59']  \n",
       "11                                    ['ХИТ-цена']  \n",
       "12                                    ['ХИТ-цена']  \n",
       "13  ['Цены 8 марта! Ещё -10%, код: МАРТ до 23:59']  \n",
       "14  ['Цены 8 марта! Ещё -10%, код: МАРТ до 23:59']  \n",
       "15  ['Цены 8 марта! Ещё -10%, код: МАРТ до 23:59']  \n",
       "16  ['Цены 8 марта! Ещё -10%, код: МАРТ до 23:59']  \n",
       "17  ['Цены 8 марта! Ещё -10%, код: МАРТ до 23:59']  \n",
       "18  ['Цены 8 марта! Ещё -15%, код: МАРТ до 23:59']  \n",
       "19  ['Цены 8 марта! Ещё -15%, код: МАРТ до 23:59']  "
      ]
     },
     "execution_count": 55,
     "metadata": {},
     "output_type": "execute_result"
    }
   ],
   "source": [
    "data.head(20)"
   ]
  },
  {
   "cell_type": "code",
   "execution_count": 56,
   "id": "a997900f-aa12-4dbc-bf7d-9c2307055774",
   "metadata": {
    "tags": []
   },
   "outputs": [],
   "source": [
    "data.to_csv(r'C:\\Users\\Trenkin.Sergey\\Desktop\\parsers\\workspace\\\\' + f'sunlight_all_{day_now}_{month_now}_{datetime.today().year}.csv', index=False)"
   ]
  },
  {
   "cell_type": "code",
   "execution_count": 57,
   "id": "ebff4bdd",
   "metadata": {},
   "outputs": [],
   "source": [
    "previous = pd.read_csv(r'\\\\gold585.int\\uk\\Общее хранилище файлов\\Служба аналитики\\МЮР\\parsed_data\\sunlight_raw.csv')"
   ]
  },
  {
   "cell_type": "code",
   "execution_count": 58,
   "id": "2be7142b",
   "metadata": {},
   "outputs": [],
   "source": [
    "data = pd.concat([previous, data], ignore_index=True)"
   ]
  },
  {
   "cell_type": "code",
   "execution_count": 59,
   "id": "7246895b",
   "metadata": {},
   "outputs": [
    {
     "data": {
      "text/html": [
       "<div>\n",
       "<style scoped>\n",
       "    .dataframe tbody tr th:only-of-type {\n",
       "        vertical-align: middle;\n",
       "    }\n",
       "\n",
       "    .dataframe tbody tr th {\n",
       "        vertical-align: top;\n",
       "    }\n",
       "\n",
       "    .dataframe thead th {\n",
       "        text-align: right;\n",
       "    }\n",
       "</style>\n",
       "<table border=\"1\" class=\"dataframe\">\n",
       "  <thead>\n",
       "    <tr style=\"text-align: right;\">\n",
       "      <th></th>\n",
       "      <th>date</th>\n",
       "      <th>competitor</th>\n",
       "      <th>name</th>\n",
       "      <th>group</th>\n",
       "      <th>params</th>\n",
       "      <th>price_x</th>\n",
       "      <th>article</th>\n",
       "      <th>url</th>\n",
       "      <th>price_old</th>\n",
       "      <th>price_y</th>\n",
       "      <th>price_personal</th>\n",
       "      <th>discount</th>\n",
       "    </tr>\n",
       "  </thead>\n",
       "  <tbody>\n",
       "    <tr>\n",
       "      <th>0</th>\n",
       "      <td>21-05-2024</td>\n",
       "      <td>Sunlight</td>\n",
       "      <td>\\n    Золотое кольцо с бриллиантами\\n</td>\n",
       "      <td>Кольца</td>\n",
       "      <td>{'Модель': '71409-K5W-02', 'Материал изделия':...</td>\n",
       "      <td>99990.0</td>\n",
       "      <td>985936</td>\n",
       "      <td>https://sunlight.net/catalog/ring_985936.html</td>\n",
       "      <td>199 980 ₽</td>\n",
       "      <td>99 990 ₽</td>\n",
       "      <td>82 990 ₽</td>\n",
       "      <td>['Ещё -35% по коду: ЗОЛОТО до 23:59']</td>\n",
       "    </tr>\n",
       "    <tr>\n",
       "      <th>1</th>\n",
       "      <td>21-05-2024</td>\n",
       "      <td>Sunlight</td>\n",
       "      <td>\\n    Золотой браслет с бриллиантами\\n</td>\n",
       "      <td>Браслеты</td>\n",
       "      <td>{'Модель': '73353-B5R-01', 'Материал изделия':...</td>\n",
       "      <td>399990.0</td>\n",
       "      <td>985849</td>\n",
       "      <td>https://sunlight.net/catalog/bracelets_985849....</td>\n",
       "      <td>799 980 ₽</td>\n",
       "      <td>399 990 ₽</td>\n",
       "      <td>382 990 ₽</td>\n",
       "      <td>['Второе бесплатно, код:1=2 до 27.05']</td>\n",
       "    </tr>\n",
       "    <tr>\n",
       "      <th>2</th>\n",
       "      <td>21-05-2024</td>\n",
       "      <td>Sunlight</td>\n",
       "      <td>\\n    Золотая цепь\\n</td>\n",
       "      <td>Цепи</td>\n",
       "      <td>{'Модель': '01Ц032974Д*', 'Материал изделия': ...</td>\n",
       "      <td>133820.0</td>\n",
       "      <td>343470</td>\n",
       "      <td>https://sunlight.net/catalog/chains_343470.html</td>\n",
       "      <td>267 640 ₽</td>\n",
       "      <td>133 820 ₽</td>\n",
       "      <td>116 820 ₽</td>\n",
       "      <td>['Ещё -35% по коду: ЗОЛОТО до 23:59']</td>\n",
       "    </tr>\n",
       "    <tr>\n",
       "      <th>3</th>\n",
       "      <td>21-05-2024</td>\n",
       "      <td>Sunlight</td>\n",
       "      <td>\\n    Золотая цепь\\n</td>\n",
       "      <td>Цепи</td>\n",
       "      <td>{'Модель': '01Ц012974Д*', 'Материал изделия': ...</td>\n",
       "      <td>148990.0</td>\n",
       "      <td>343469</td>\n",
       "      <td>https://sunlight.net/catalog/chains_343469.html</td>\n",
       "      <td>297 980 ₽</td>\n",
       "      <td>148 990 ₽</td>\n",
       "      <td>131 990 ₽</td>\n",
       "      <td>['Ещё -35% по коду: ЗОЛОТО до 23:59']</td>\n",
       "    </tr>\n",
       "    <tr>\n",
       "      <th>4</th>\n",
       "      <td>21-05-2024</td>\n",
       "      <td>Sunlight</td>\n",
       "      <td>\\n    Золотая цепь\\n</td>\n",
       "      <td>Цепи</td>\n",
       "      <td>{'Модель': '45-0029-10*', 'Материал изделия': ...</td>\n",
       "      <td>106200.0</td>\n",
       "      <td>343447</td>\n",
       "      <td>https://sunlight.net/catalog/chains_343447.html</td>\n",
       "      <td>212 400 ₽</td>\n",
       "      <td>106 200 ₽</td>\n",
       "      <td>89 200 ₽</td>\n",
       "      <td>['Ещё -35% по коду: ЗОЛОТО до 23:59']</td>\n",
       "    </tr>\n",
       "    <tr>\n",
       "      <th>...</th>\n",
       "      <td>...</td>\n",
       "      <td>...</td>\n",
       "      <td>...</td>\n",
       "      <td>...</td>\n",
       "      <td>...</td>\n",
       "      <td>...</td>\n",
       "      <td>...</td>\n",
       "      <td>...</td>\n",
       "      <td>...</td>\n",
       "      <td>...</td>\n",
       "      <td>...</td>\n",
       "      <td>...</td>\n",
       "    </tr>\n",
       "    <tr>\n",
       "      <th>71722</th>\n",
       "      <td>13-06-2024</td>\n",
       "      <td>Sunlight</td>\n",
       "      <td>\\n    Золотое кольцо с бриллиантами\\n</td>\n",
       "      <td>Кольца</td>\n",
       "      <td>{'Модель': '3101-K5Y-04', 'Материал изделия': ...</td>\n",
       "      <td>6990.0</td>\n",
       "      <td>152015</td>\n",
       "      <td>https://sunlight.net/catalog/ring_152015.html</td>\n",
       "      <td>NaN</td>\n",
       "      <td>6 990 ₽</td>\n",
       "      <td>NaN</td>\n",
       "      <td>['ХИТ-цена']</td>\n",
       "    </tr>\n",
       "    <tr>\n",
       "      <th>71723</th>\n",
       "      <td>13-06-2024</td>\n",
       "      <td>Sunlight</td>\n",
       "      <td>\\n    Золотые серьги с агатом и бриллиантами\\n</td>\n",
       "      <td>Серьги</td>\n",
       "      <td>{'Модель': '71794-C5R-01', 'Материал изделия':...</td>\n",
       "      <td>97990.0</td>\n",
       "      <td>310221</td>\n",
       "      <td>https://sunlight.net/catalog/earring_310221.html</td>\n",
       "      <td>195 980 ₽</td>\n",
       "      <td>97 990 ₽</td>\n",
       "      <td>69 990 ₽</td>\n",
       "      <td>['Цены 8 марта! Ещё -15%, код: МАРТ до 23:59']</td>\n",
       "    </tr>\n",
       "    <tr>\n",
       "      <th>71724</th>\n",
       "      <td>13-06-2024</td>\n",
       "      <td>Sunlight</td>\n",
       "      <td>\\n    Золотые серьги\\n</td>\n",
       "      <td>Серьги</td>\n",
       "      <td>{'Модель': '30906.1*', 'Материал изделия': 'Ро...</td>\n",
       "      <td>5490.0</td>\n",
       "      <td>91078</td>\n",
       "      <td>https://sunlight.net/catalog/earring_91078.html</td>\n",
       "      <td>NaN</td>\n",
       "      <td>5 490 ₽</td>\n",
       "      <td>NaN</td>\n",
       "      <td>['ХИТ-цена']</td>\n",
       "    </tr>\n",
       "    <tr>\n",
       "      <th>71725</th>\n",
       "      <td>13-06-2024</td>\n",
       "      <td>Sunlight</td>\n",
       "      <td>\\n    Золотой крест-подвеска\\n</td>\n",
       "      <td>Крест-подвеска</td>\n",
       "      <td>{'Модель': '12623.1*', 'Материал изделия': 'Бе...</td>\n",
       "      <td>9990.0</td>\n",
       "      <td>88213</td>\n",
       "      <td>https://sunlight.net/catalog/pendants_88213.html</td>\n",
       "      <td>19 980 ₽</td>\n",
       "      <td>9 990 ₽</td>\n",
       "      <td>5 994 ₽</td>\n",
       "      <td>['Цены 8 марта! Ещё -10%, код: МАРТ до 23:59']</td>\n",
       "    </tr>\n",
       "    <tr>\n",
       "      <th>71726</th>\n",
       "      <td>13-06-2024</td>\n",
       "      <td>Sunlight</td>\n",
       "      <td>\\n    Золотые серьги с изумрудами и бриллианта...</td>\n",
       "      <td>Серьги</td>\n",
       "      <td>{'Модель': '70990-C5R-01', 'Материал изделия':...</td>\n",
       "      <td>54990.0</td>\n",
       "      <td>253164</td>\n",
       "      <td>https://sunlight.net/catalog/earring_253164.html</td>\n",
       "      <td>183 300 ₽</td>\n",
       "      <td>54 990 ₽</td>\n",
       "      <td>32 994 ₽</td>\n",
       "      <td>['Цены 8 марта! Ещё -15%, код: МАРТ до 23:59']</td>\n",
       "    </tr>\n",
       "  </tbody>\n",
       "</table>\n",
       "<p>71727 rows × 12 columns</p>\n",
       "</div>"
      ],
      "text/plain": [
       "             date competitor  \\\n",
       "0      21-05-2024   Sunlight   \n",
       "1      21-05-2024   Sunlight   \n",
       "2      21-05-2024   Sunlight   \n",
       "3      21-05-2024   Sunlight   \n",
       "4      21-05-2024   Sunlight   \n",
       "...           ...        ...   \n",
       "71722  13-06-2024   Sunlight   \n",
       "71723  13-06-2024   Sunlight   \n",
       "71724  13-06-2024   Sunlight   \n",
       "71725  13-06-2024   Sunlight   \n",
       "71726  13-06-2024   Sunlight   \n",
       "\n",
       "                                                    name           group  \\\n",
       "0                \\n    Золотое кольцо с бриллиантами\\n            Кольца   \n",
       "1               \\n    Золотой браслет с бриллиантами\\n          Браслеты   \n",
       "2                                 \\n    Золотая цепь\\n              Цепи   \n",
       "3                                 \\n    Золотая цепь\\n              Цепи   \n",
       "4                                 \\n    Золотая цепь\\n              Цепи   \n",
       "...                                                  ...             ...   \n",
       "71722            \\n    Золотое кольцо с бриллиантами\\n            Кольца   \n",
       "71723   \\n    Золотые серьги с агатом и бриллиантами\\n            Серьги   \n",
       "71724                           \\n    Золотые серьги\\n            Серьги   \n",
       "71725                   \\n    Золотой крест-подвеска\\n    Крест-подвеска   \n",
       "71726  \\n    Золотые серьги с изумрудами и бриллианта...          Серьги   \n",
       "\n",
       "                                                  params   price_x  article  \\\n",
       "0      {'Модель': '71409-K5W-02', 'Материал изделия':...   99990.0   985936   \n",
       "1      {'Модель': '73353-B5R-01', 'Материал изделия':...  399990.0   985849   \n",
       "2      {'Модель': '01Ц032974Д*', 'Материал изделия': ...  133820.0   343470   \n",
       "3      {'Модель': '01Ц012974Д*', 'Материал изделия': ...  148990.0   343469   \n",
       "4      {'Модель': '45-0029-10*', 'Материал изделия': ...  106200.0   343447   \n",
       "...                                                  ...       ...      ...   \n",
       "71722  {'Модель': '3101-K5Y-04', 'Материал изделия': ...    6990.0   152015   \n",
       "71723  {'Модель': '71794-C5R-01', 'Материал изделия':...   97990.0   310221   \n",
       "71724  {'Модель': '30906.1*', 'Материал изделия': 'Ро...    5490.0    91078   \n",
       "71725  {'Модель': '12623.1*', 'Материал изделия': 'Бе...    9990.0    88213   \n",
       "71726  {'Модель': '70990-C5R-01', 'Материал изделия':...   54990.0   253164   \n",
       "\n",
       "                                                     url  price_old  \\\n",
       "0          https://sunlight.net/catalog/ring_985936.html  199 980 ₽   \n",
       "1      https://sunlight.net/catalog/bracelets_985849....  799 980 ₽   \n",
       "2        https://sunlight.net/catalog/chains_343470.html  267 640 ₽   \n",
       "3        https://sunlight.net/catalog/chains_343469.html  297 980 ₽   \n",
       "4        https://sunlight.net/catalog/chains_343447.html  212 400 ₽   \n",
       "...                                                  ...        ...   \n",
       "71722      https://sunlight.net/catalog/ring_152015.html        NaN   \n",
       "71723   https://sunlight.net/catalog/earring_310221.html  195 980 ₽   \n",
       "71724    https://sunlight.net/catalog/earring_91078.html        NaN   \n",
       "71725   https://sunlight.net/catalog/pendants_88213.html   19 980 ₽   \n",
       "71726   https://sunlight.net/catalog/earring_253164.html  183 300 ₽   \n",
       "\n",
       "         price_y price_personal  \\\n",
       "0       99 990 ₽       82 990 ₽   \n",
       "1      399 990 ₽      382 990 ₽   \n",
       "2      133 820 ₽      116 820 ₽   \n",
       "3      148 990 ₽      131 990 ₽   \n",
       "4      106 200 ₽       89 200 ₽   \n",
       "...          ...            ...   \n",
       "71722    6 990 ₽            NaN   \n",
       "71723   97 990 ₽       69 990 ₽   \n",
       "71724    5 490 ₽            NaN   \n",
       "71725    9 990 ₽        5 994 ₽   \n",
       "71726   54 990 ₽       32 994 ₽   \n",
       "\n",
       "                                             discount  \n",
       "0               ['Ещё -35% по коду: ЗОЛОТО до 23:59']  \n",
       "1              ['Второе бесплатно, код:1=2 до 27.05']  \n",
       "2               ['Ещё -35% по коду: ЗОЛОТО до 23:59']  \n",
       "3               ['Ещё -35% по коду: ЗОЛОТО до 23:59']  \n",
       "4               ['Ещё -35% по коду: ЗОЛОТО до 23:59']  \n",
       "...                                               ...  \n",
       "71722                                    ['ХИТ-цена']  \n",
       "71723  ['Цены 8 марта! Ещё -15%, код: МАРТ до 23:59']  \n",
       "71724                                    ['ХИТ-цена']  \n",
       "71725  ['Цены 8 марта! Ещё -10%, код: МАРТ до 23:59']  \n",
       "71726  ['Цены 8 марта! Ещё -15%, код: МАРТ до 23:59']  \n",
       "\n",
       "[71727 rows x 12 columns]"
      ]
     },
     "execution_count": 59,
     "metadata": {},
     "output_type": "execute_result"
    }
   ],
   "source": [
    "data"
   ]
  },
  {
   "cell_type": "code",
   "execution_count": 60,
   "id": "881f3ca7",
   "metadata": {},
   "outputs": [],
   "source": [
    "data.to_csv(rf'\\\\gold585.int\\uk\\Общее хранилище файлов\\Служба аналитики\\МЮР\\parsed_data\\sunlight_raw.csv', index=False)"
   ]
  },
  {
   "cell_type": "code",
   "execution_count": 61,
   "id": "c79f2675",
   "metadata": {},
   "outputs": [],
   "source": [
    "def delete_files_in_folder(folder_path):\n",
    "    for filename in os.listdir(folder_path):\n",
    "        file_path = os.path.join(folder_path, filename)\n",
    "        try:\n",
    "            if os.path.isfile(file_path):\n",
    "                os.remove(file_path)\n",
    "        except Exception as e:\n",
    "            print(f'Ошибка при удалении файла {file_path}. {e}')"
   ]
  },
  {
   "cell_type": "code",
   "execution_count": 62,
   "id": "4fc475c1",
   "metadata": {},
   "outputs": [],
   "source": [
    "delete_files_in_folder('C:\\\\Users\\Trenkin.Sergey\\Desktop\\parsers\\sunlight_current_data')\n",
    "delete_files_in_folder('C:\\\\Users\\Trenkin.Sergey\\Desktop\\parsers\\sunlight_current_data\\discounts')"
   ]
  },
  {
   "cell_type": "code",
   "execution_count": null,
   "id": "1c889881",
   "metadata": {},
   "outputs": [],
   "source": []
  }
 ],
 "metadata": {
  "kernelspec": {
   "display_name": "Python 3 (ipykernel)",
   "language": "python",
   "name": "python3"
  },
  "language_info": {
   "codemirror_mode": {
    "name": "ipython",
    "version": 3
   },
   "file_extension": ".py",
   "mimetype": "text/x-python",
   "name": "python",
   "nbconvert_exporter": "python",
   "pygments_lexer": "ipython3",
   "version": "3.12.0"
  }
 },
 "nbformat": 4,
 "nbformat_minor": 5
}
