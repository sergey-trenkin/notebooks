{
 "cells": [
  {
   "cell_type": "code",
   "execution_count": 1,
   "id": "0de2798c-82a4-4564-9f25-675ef49ea9a7",
   "metadata": {
    "tags": []
   },
   "outputs": [],
   "source": [
    "import json\n",
    "import re\n",
    "import time\n",
    "import requests\n",
    "import numpy as np\n",
    "import pandas as pd\n",
    "import os\n",
    "import glob\n",
    "from tqdm import tqdm\n",
    "from datetime import datetime\n",
    "from bs4 import BeautifulSoup\n",
    "from fake_useragent import UserAgent\n",
    "import warnings\n",
    "warnings.filterwarnings('ignore')\n",
    "from random import choice"
   ]
  },
  {
   "cell_type": "code",
   "execution_count": 2,
   "id": "6073ea0a-a53b-4c27-9a06-2c13d2c38e0e",
   "metadata": {
    "tags": []
   },
   "outputs": [],
   "source": [
    "current_datetime = datetime.now().strftime(\"%d-%m-%Y\")\n",
    "month_now = datetime.now().month\n",
    "day_now = datetime.now().day"
   ]
  },
  {
   "cell_type": "code",
   "execution_count": 3,
   "id": "51d301fa",
   "metadata": {},
   "outputs": [],
   "source": [
    "way = os.getcwd()"
   ]
  },
  {
   "cell_type": "markdown",
   "id": "28c397fc-d1ff-43b7-9815-46ec328e9fb5",
   "metadata": {},
   "source": [
    "# Cookies and Headers для парсинга скидки и цены"
   ]
  },
  {
   "cell_type": "code",
   "execution_count": 4,
   "id": "8f8f8bd1-9a62-4c54-b774-8aa3a44c1d1d",
   "metadata": {
    "tags": []
   },
   "outputs": [],
   "source": [
    "cookies_discount = {\n",
    "    'tmr_lvid': '286726132090325c59b36aa6b5e4aeaa',\n",
    "    'tmr_lvidTS': '1692163620235',\n",
    "    '_ym_uid': '1692163620496112993',\n",
    "    '_ym_d': '1692163620',\n",
    "    'city_id': '118',\n",
    "    'city_name': '%D0%A1%D0%B0%D0%BD%D0%BA%D1%82-%D0%9F%D0%B5%D1%82%D0%B5%D1%80%D0%B1%D1%83%D1%80%D0%B3',\n",
    "    'city_full_name': '%D0%A1%D0%B0%D0%BD%D0%BA%D1%82-%D0%9F%D0%B5%D1%82%D0%B5%D1%80%D0%B1%D1%83%D1%80%D0%B3',\n",
    "    'region_id': '090a0c31-3b91-49a3-aa35-0c784898170b',\n",
    "    'region_name': '%D0%A1%D0%B0%D0%BD%D0%BA%D1%82-%D0%9F%D0%B5%D1%82%D0%B5%D1%80%D0%B1%D1%83%D1%80%D0%B3',\n",
    "    'region_subdomain': 'spb',\n",
    "    '_tt_enable_cookie': '1',\n",
    "    '_ttp': 'tbKEEA3IkGrgdKpaT6-HRNf0K8h',\n",
    "    'ccart': 'off',\n",
    "    'uxs_uid': '898ab7e0-3bf5-11ee-8efe-f5b770db12a1',\n",
    "    'loggedin': '%D0%AE%D1%80%D0%B8%D0%B9',\n",
    "    'cseid': 'f4935df6bdac0029832e99cef94a5bc2',\n",
    "    'sessionid': 'nr24mlml3ze25rk734gkkmgx3yv9ou7x',\n",
    "    'authorization': 'true',\n",
    "    'mindboxDeviceUUID': 'c254fa3f-cfcd-4146-9778-65be21c6a4df',\n",
    "    'directCrm-session': '%7B%22deviceGuid%22%3A%22c254fa3f-cfcd-4146-9778-65be21c6a4df%22%7D',\n",
    "    'auid': '651660ce-a06e-4b17-bd6f-69feaf135b08:1r5lu8:WYtTZugo2xVE6SqAc5ZSp_W-n1s5ztPHYxPs8YIwGQA',\n",
    "    '_ga_G74SVHM1ZG': 'GS1.2.1700824600.19.0.1700824600.60.0.0',\n",
    "    '_ga_GRDJMMMRHQ': 'GS1.2.1700824600.33.0.1700824601.59.0.0',\n",
    "    '_ga_GRSMPDQ6SE': 'GS1.2.1700824598.88.1.1700825516.60.0.0',\n",
    "    '_ga_M9ZHPEJXBM': 'GS1.2.1700824599.88.1.1700825517.60.0.0',\n",
    "    'qr-go-to-the-app-banner': '1',\n",
    "    'sncid': 'b36ee46b-981d-11e5-add2-0050568f2465:1rBa43:O1Wy8KuwGDddSCM7NMHFsjGhdPaqxcjhdblvWWbVams',\n",
    "    'clt': 'new_old',\n",
    "    '_ym_isad': '2',\n",
    "    '_gid': 'GA1.2.2131018395.1702274408',\n",
    "    'city_auto_popup_shown': '1',\n",
    "    '_ym_visorc': 'b',\n",
    "    '_ga': 'GA1.2.333284150.1692163620',\n",
    "    '_ga_HJNSJ6NG5J': 'GS1.1.1702276831.120.1.1702280271.20.0.0',\n",
    "    'digi_uc': 'W1sidiIsIjM0OTMxNCIsMTcwMjI4MTIxMjA0Nl0sWyJ2IiwiODQwMjIiLDE3MDIyODAyMzEzNjZdLFsidiIsIjQ2Nzk3IiwxNzAyMjgwMTI4Mzc3XSxbInYiLCI5OTM3NTQiLDE3MDIyNzgwMTczMjddLFsidiIsIjE0NjUyMSIsMTcwMjI3NzI5NDExM10sWyJ2IiwiOTI2ODAiLDE3MDIyNzY5NDQ1NDRdLFsidiIsIjg4MjEzIiwxNzAxODU5MjE3OTg0XSxbInYiLCI5MTAyMSIsMTcwMTg1OTA2ODA2MF0sWyJ2IiwiOTg3MDUwIiwxNzAxNzc4NDc0NzY5XSxbInYiLCIyNTYyMTciLDE3MDEzNDIzNTc4NTRdXQ==',\n",
    "}\n",
    "\n",
    "headers_discount = {\n",
    "    'AB-TESTS': '{}',\n",
    "    'Accept': 'application/json, text/javascript, */*; q=0.01',\n",
    "    'Accept-Language': 'ru-RU,ru;q=0.9,en-US;q=0.8,en;q=0.7',\n",
    "    'Connection': 'keep-alive',\n",
    "    'Content-Type': 'application/json',\n",
    "    # 'Cookie': 'tmr_lvid=286726132090325c59b36aa6b5e4aeaa; tmr_lvidTS=1692163620235; _ym_uid=1692163620496112993; _ym_d=1692163620; city_id=118; city_name=%D0%A1%D0%B0%D0%BD%D0%BA%D1%82-%D0%9F%D0%B5%D1%82%D0%B5%D1%80%D0%B1%D1%83%D1%80%D0%B3; city_full_name=%D0%A1%D0%B0%D0%BD%D0%BA%D1%82-%D0%9F%D0%B5%D1%82%D0%B5%D1%80%D0%B1%D1%83%D1%80%D0%B3; region_id=090a0c31-3b91-49a3-aa35-0c784898170b; region_name=%D0%A1%D0%B0%D0%BD%D0%BA%D1%82-%D0%9F%D0%B5%D1%82%D0%B5%D1%80%D0%B1%D1%83%D1%80%D0%B3; region_subdomain=spb; _tt_enable_cookie=1; _ttp=tbKEEA3IkGrgdKpaT6-HRNf0K8h; ccart=off; uxs_uid=898ab7e0-3bf5-11ee-8efe-f5b770db12a1; loggedin=%D0%AE%D1%80%D0%B8%D0%B9; cseid=f4935df6bdac0029832e99cef94a5bc2; sessionid=nr24mlml3ze25rk734gkkmgx3yv9ou7x; authorization=true; mindboxDeviceUUID=c254fa3f-cfcd-4146-9778-65be21c6a4df; directCrm-session=%7B%22deviceGuid%22%3A%22c254fa3f-cfcd-4146-9778-65be21c6a4df%22%7D; auid=651660ce-a06e-4b17-bd6f-69feaf135b08:1r5lu8:WYtTZugo2xVE6SqAc5ZSp_W-n1s5ztPHYxPs8YIwGQA; _ga_G74SVHM1ZG=GS1.2.1700824600.19.0.1700824600.60.0.0; _ga_GRDJMMMRHQ=GS1.2.1700824600.33.0.1700824601.59.0.0; _ga_GRSMPDQ6SE=GS1.2.1700824598.88.1.1700825516.60.0.0; _ga_M9ZHPEJXBM=GS1.2.1700824599.88.1.1700825517.60.0.0; qr-go-to-the-app-banner=1; sncid=b36ee46b-981d-11e5-add2-0050568f2465:1rBa43:O1Wy8KuwGDddSCM7NMHFsjGhdPaqxcjhdblvWWbVams; clt=new_old; _ym_isad=2; _gid=GA1.2.2131018395.1702274408; city_auto_popup_shown=1; _ym_visorc=b; _ga=GA1.2.333284150.1692163620; _ga_HJNSJ6NG5J=GS1.1.1702276831.120.1.1702280271.20.0.0; digi_uc=W1sidiIsIjM0OTMxNCIsMTcwMjI4MTIxMjA0Nl0sWyJ2IiwiODQwMjIiLDE3MDIyODAyMzEzNjZdLFsidiIsIjQ2Nzk3IiwxNzAyMjgwMTI4Mzc3XSxbInYiLCI5OTM3NTQiLDE3MDIyNzgwMTczMjddLFsidiIsIjE0NjUyMSIsMTcwMjI3NzI5NDExM10sWyJ2IiwiOTI2ODAiLDE3MDIyNzY5NDQ1NDRdLFsidiIsIjg4MjEzIiwxNzAxODU5MjE3OTg0XSxbInYiLCI5MTAyMSIsMTcwMTg1OTA2ODA2MF0sWyJ2IiwiOTg3MDUwIiwxNzAxNzc4NDc0NzY5XSxbInYiLCIyNTYyMTciLDE3MDEzNDIzNTc4NTRdXQ==',\n",
    "    'Origin': 'https://spb.sunlight.net',\n",
    "    'Sec-Fetch-Dest': 'empty',\n",
    "    'Sec-Fetch-Mode': 'cors',\n",
    "    'Sec-Fetch-Site': 'same-site',\n",
    "    'User-Agent': 'Mozilla/5.0 (Windows NT 10.0; Win64; x64) AppleWebKit/537.36 (KHTML, like Gecko) Chrome/120.0.0.0 Safari/537.36',\n",
    "    'X-Requested-With': 'SunlightFrontendApp',\n",
    "    'sec-ch-ua': '\"Not_A Brand\";v=\"8\", \"Chromium\";v=\"120\", \"Google Chrome\";v=\"120\"',\n",
    "    'sec-ch-ua-mobile': '?0',\n",
    "    'sec-ch-ua-platform': '\"Windows\"',\n",
    "}\n",
    "\n",
    "# params = {\n",
    "#     'article': '35517',\n",
    "#     'city_id': '118',\n",
    "# }\n",
    "\n",
    "# response = requests.get(\n",
    "#     'https://api.sunlight.net/v6/catalog/products/card/purchase/',\n",
    "#     params=params,\n",
    "#     cookies=cookies_discount,\n",
    "#     headers=headers_discount,\n",
    "# )"
   ]
  },
  {
   "cell_type": "markdown",
   "id": "80c71c8e-ef5b-4839-9dfc-1e6182abcd2c",
   "metadata": {},
   "source": [
    "# Сбор скидок и цен"
   ]
  },
  {
   "cell_type": "code",
   "execution_count": 5,
   "id": "544d1d64-1b8a-4c62-a5b4-529f239d6cb5",
   "metadata": {
    "tags": []
   },
   "outputs": [],
   "source": [
    "def get_personal_price(table):\n",
    "    data_price = []\n",
    "    for art in tqdm(range(len(table['article']))):\n",
    "        # prx = choice(proxy_list)\n",
    "        params = {\n",
    "            'article': table['article'][art],\n",
    "            'city_id': '118'\n",
    "        }\n",
    "        try:\n",
    "            price_json = requests.get(\n",
    "                'https://api.sunlight.net/v6/catalog/products/card/prices/',\n",
    "                params=params,\n",
    "                cookies=cookies_discount,\n",
    "                headers=headers_discount,\n",
    "                timeout=15,\n",
    "                verify=False\n",
    "        )\n",
    "        except:\n",
    "            time.sleep(6)\n",
    "            price_json = requests.get(\n",
    "                'https://api.sunlight.net/v6/catalog/products/card/prices/',\n",
    "                params=params,\n",
    "                cookies=cookies_discount,\n",
    "                headers=headers_discount,\n",
    "                timeout=15,\n",
    "                verify=False\n",
    "                            )\n",
    "        try:\n",
    "            discount_json = requests.get(\n",
    "                'https://api.sunlight.net/v6/catalog/products/card/purchase/',\n",
    "                params=params,\n",
    "                cookies=cookies_discount,\n",
    "                headers=headers_discount,\n",
    "                timeout=15,\n",
    "                verify=False\n",
    "                            )\n",
    "        except:\n",
    "            time.sleep(6)\n",
    "            discount_json = requests.get(\n",
    "                'https://api.sunlight.net/v6/catalog/products/card/purchase/',\n",
    "                params=params,\n",
    "                cookies=cookies_discount,\n",
    "                headers=headers_discount,\n",
    "                timeout=15,\n",
    "                verify=False\n",
    "                            )\n",
    "        discount = []\n",
    "        try:\n",
    "            price_old = price_json.json()['content']['default_price']['base_sum']\n",
    "        except:\n",
    "            price_old = np.nan\n",
    "        try:\n",
    "            price = price_json.json()['content']['default_price'][('result_sum')]\n",
    "        except:\n",
    "            price = np.nan\n",
    "        try:\n",
    "            price_personal = price_json.json()['content']['default_price']['personal_block']['value']\n",
    "        except:\n",
    "            price_personal = np.nan\n",
    "\n",
    "        try:\n",
    "            for i in range(len(discount_json.json()['content']['nameplates'])):\n",
    "                discount.append(discount_json.json()['content']['nameplates'][i]['text']['label'])\n",
    "        except:\n",
    "            discount.append(np.nan)\n",
    "            \n",
    "        data_price.append({\n",
    "            'article': table['article'][art],\n",
    "            'price_old': price_old,\n",
    "            'price': price,\n",
    "            'price_personal': price_personal,\n",
    "            'discount': discount\n",
    "\n",
    "        })\n",
    "    return data_price"
   ]
  },
  {
   "cell_type": "markdown",
   "id": "039dc4ab-e90b-422e-a7eb-da872ef9a0cc",
   "metadata": {},
   "source": [
    "# Сбор цены, названия, группы, артикула"
   ]
  },
  {
   "cell_type": "code",
   "execution_count": 6,
   "id": "18788b3a-7f05-42fc-8856-81487b576762",
   "metadata": {},
   "outputs": [],
   "source": [
    "def get_sunlight(soup):\n",
    "    try:\n",
    "        price = soup.find(class_=\"supreme-product-card__price-discount-price\").text\n",
    "        price = re.sub(r'\\D', '', str(price))\n",
    "    except:\n",
    "        price = np.nan\n",
    "    try:\n",
    "        name_product = soup.find('h1', class_=\"supreme-product-card__about-title\").text\n",
    "    except:\n",
    "        name_product = np.nan\n",
    "    try:\n",
    "        group_product = soup.find_all('span', {'property': 'name'})[1].text\n",
    "    except:\n",
    "        group_product = np.nan\n",
    "    try:\n",
    "        article_product = soup.find_all('div', class_=\"supreme-product-card__product-article\")[0].find('span').text\n",
    "        article_product = re.sub('\\D', '', str(article_product))\n",
    "    except:\n",
    "        article_product = np.nan\n",
    "    return price, name_product, group_product, article_product"
   ]
  },
  {
   "cell_type": "markdown",
   "id": "9147182a-9bbe-4c10-99f5-e7c12cea41ac",
   "metadata": {},
   "source": [
    "# Сбор всех параметров словарем"
   ]
  },
  {
   "cell_type": "code",
   "execution_count": 7,
   "id": "54919764-c77c-48ed-87a7-f0821c4ffbd6",
   "metadata": {
    "tags": []
   },
   "outputs": [],
   "source": [
    "def get_params(soup):\n",
    "    names = []\n",
    "    values = []\n",
    "    leight = len(soup.find_all('span', {'class': 'supreme-product-card-description__item-text'}))\n",
    "    list_names = soup.find_all('div', {'class': 'supreme-product-card-description__item-title'})[-leight:]\n",
    "    for i in range(leight):\n",
    "        try:\n",
    "            nam = list_names[i].text\n",
    "            names.append(nam.replace('\\n', '').strip())\n",
    "        except:\n",
    "            names.append(np.nan)\n",
    "        try:\n",
    "            values.append(soup.find_all('span', {'class': 'supreme-product-card-description__item-text'})[i].text)\n",
    "        except:\n",
    "            values.append(np.nan)\n",
    "    sunlight_params = dict(zip(names, values))\n",
    "    return sunlight_params"
   ]
  },
  {
   "cell_type": "markdown",
   "id": "e3a98a99-7b19-4585-8689-7664e5a26baf",
   "metadata": {
    "tags": []
   },
   "source": [
    "# Сбор ссылок"
   ]
  },
  {
   "cell_type": "code",
   "execution_count": 8,
   "id": "340b4cef-0f0b-4bab-93c0-d2c5c5b79393",
   "metadata": {
    "tags": []
   },
   "outputs": [],
   "source": [
    "def get_links(url_sunlight):\n",
    "    home = 'https://sunlight.net'\n",
    "    links = []\n",
    "    pages_max = 250\n",
    "    pages = int(pages_max + 1)\n",
    "    for i in tqdm(range(1, pages)):\n",
    "        url = f'{url_sunlight}&page={i}'\n",
    "        resp = requests.get(url, headers={'User-Agent': UserAgent().chrome}, verify=False, timeout=70)\n",
    "        soup = BeautifulSoup(resp.text, 'html.parser')\n",
    "        for link in soup.find_all('div', class_=\"cl-item js-cl-item\"):\n",
    "            links.append(home + link.find('a', href=True)['href'])\n",
    "    links = list(map(lambda x: x.replace('#product-reviews', ''), links))\n",
    "    return links"
   ]
  },
  {
   "cell_type": "markdown",
   "id": "3ed459ba-afaf-4562-afd3-38fc8accc435",
   "metadata": {
    "tags": []
   },
   "source": [
    "# Общий сбор данных"
   ]
  },
  {
   "cell_type": "code",
   "execution_count": 9,
   "id": "4ff1e528-5aad-43fa-bb38-7a84fd5871d9",
   "metadata": {
    "tags": []
   },
   "outputs": [],
   "source": [
    "def sunlight_parser(links):\n",
    "    data = []\n",
    "    click = 0\n",
    "    for link_pars in tqdm(links):\n",
    "        # prx = choice(proxy_list)\n",
    "        try:\n",
    "            resp = requests.get(link_pars, headers={'User-Agent': UserAgent().chrome}, timeout=70, verify=False)\n",
    "        except:\n",
    "            time.sleep(6)\n",
    "            resp = requests.get(link_pars, headers={'User-Agent': UserAgent().chrome}, timeout=70, verify=False)\n",
    "        good = BeautifulSoup(resp.text, 'lxml')\n",
    "        data.append({\"date\": current_datetime,\n",
    "                    \"competitor\": \"Sunlight\",\n",
    "                    \"name\": get_sunlight(good)[1],\n",
    "                    \"group\": get_sunlight(good)[2],\n",
    "                    \"params\": get_params(good),\n",
    "                    \"price\": get_sunlight(good)[0],\n",
    "                    \"article\": get_sunlight(good)[3],\n",
    "                    'url': link_pars\n",
    "                    })\n",
    "        if click == 50:\n",
    "            click = 0\n",
    "            time.sleep(0.5)\n",
    "        else:\n",
    "            continue\n",
    "    data = pd.DataFrame(data)\n",
    "    return data"
   ]
  },
  {
   "cell_type": "code",
   "execution_count": 9,
   "id": "c8a8da36-e515-4a32-9e1a-da4b5607da23",
   "metadata": {
    "tags": []
   },
   "outputs": [
    {
     "name": "stderr",
     "output_type": "stream",
     "text": [
      "100%|██████████| 250/250 [04:31<00:00,  1.08s/it]\n"
     ]
    }
   ],
   "source": [
    "links_sunlight = get_links('https://spb.sunlight.net/catalog/?proba=2494')"
   ]
  },
  {
   "cell_type": "code",
   "execution_count": 10,
   "id": "814a6cdd",
   "metadata": {},
   "outputs": [],
   "source": [
    "b = pd.DataFrame(links_sunlight)"
   ]
  },
  {
   "cell_type": "code",
   "execution_count": 11,
   "id": "9c932189",
   "metadata": {},
   "outputs": [],
   "source": [
    "b = b.drop_duplicates()"
   ]
  },
  {
   "cell_type": "code",
   "execution_count": 12,
   "id": "bbba5f83",
   "metadata": {},
   "outputs": [],
   "source": [
    "b = b[0].tolist()"
   ]
  },
  {
   "cell_type": "code",
   "execution_count": 13,
   "id": "e448f1c9-0512-4bec-a461-fccb0e3fcf80",
   "metadata": {
    "tags": []
   },
   "outputs": [],
   "source": [
    "slices = 100\n",
    "chunks = np.array_split(b, slices)"
   ]
  },
  {
   "cell_type": "code",
   "execution_count": 14,
   "id": "289e454a-ff1d-4c0c-a012-f3a6427f81df",
   "metadata": {
    "tags": []
   },
   "outputs": [
    {
     "name": "stdout",
     "output_type": "stream",
     "text": [
      "начало парсинга 1 части ссылок\n"
     ]
    },
    {
     "name": "stderr",
     "output_type": "stream",
     "text": [
      "100%|██████████| 146/146 [02:10<00:00,  1.12it/s]\n"
     ]
    },
    {
     "name": "stdout",
     "output_type": "stream",
     "text": [
      "начало парсинга 2 части ссылок\n"
     ]
    },
    {
     "name": "stderr",
     "output_type": "stream",
     "text": [
      "100%|██████████| 146/146 [02:14<00:00,  1.09it/s]\n"
     ]
    },
    {
     "name": "stdout",
     "output_type": "stream",
     "text": [
      "начало парсинга 3 части ссылок\n"
     ]
    },
    {
     "name": "stderr",
     "output_type": "stream",
     "text": [
      "100%|██████████| 146/146 [02:27<00:00,  1.01s/it]\n"
     ]
    },
    {
     "name": "stdout",
     "output_type": "stream",
     "text": [
      "начало парсинга 4 части ссылок\n"
     ]
    },
    {
     "name": "stderr",
     "output_type": "stream",
     "text": [
      "100%|██████████| 146/146 [02:14<00:00,  1.08it/s]\n"
     ]
    },
    {
     "name": "stdout",
     "output_type": "stream",
     "text": [
      "начало парсинга 5 части ссылок\n"
     ]
    },
    {
     "name": "stderr",
     "output_type": "stream",
     "text": [
      "100%|██████████| 146/146 [02:17<00:00,  1.06it/s]\n"
     ]
    },
    {
     "name": "stdout",
     "output_type": "stream",
     "text": [
      "начало парсинга 6 части ссылок\n"
     ]
    },
    {
     "name": "stderr",
     "output_type": "stream",
     "text": [
      "100%|██████████| 146/146 [02:12<00:00,  1.11it/s]\n"
     ]
    },
    {
     "name": "stdout",
     "output_type": "stream",
     "text": [
      "начало парсинга 7 части ссылок\n"
     ]
    },
    {
     "name": "stderr",
     "output_type": "stream",
     "text": [
      "100%|██████████| 146/146 [02:13<00:00,  1.09it/s]\n"
     ]
    },
    {
     "name": "stdout",
     "output_type": "stream",
     "text": [
      "начало парсинга 8 части ссылок\n"
     ]
    },
    {
     "name": "stderr",
     "output_type": "stream",
     "text": [
      "100%|██████████| 146/146 [02:09<00:00,  1.13it/s]\n"
     ]
    },
    {
     "name": "stdout",
     "output_type": "stream",
     "text": [
      "начало парсинга 9 части ссылок\n"
     ]
    },
    {
     "name": "stderr",
     "output_type": "stream",
     "text": [
      "100%|██████████| 146/146 [02:13<00:00,  1.10it/s]\n"
     ]
    },
    {
     "name": "stdout",
     "output_type": "stream",
     "text": [
      "начало парсинга 10 части ссылок\n"
     ]
    },
    {
     "name": "stderr",
     "output_type": "stream",
     "text": [
      "100%|██████████| 146/146 [02:14<00:00,  1.09it/s]\n"
     ]
    },
    {
     "name": "stdout",
     "output_type": "stream",
     "text": [
      "начало парсинга 11 части ссылок\n"
     ]
    },
    {
     "name": "stderr",
     "output_type": "stream",
     "text": [
      "100%|██████████| 146/146 [02:12<00:00,  1.10it/s]\n"
     ]
    },
    {
     "name": "stdout",
     "output_type": "stream",
     "text": [
      "начало парсинга 12 части ссылок\n"
     ]
    },
    {
     "name": "stderr",
     "output_type": "stream",
     "text": [
      "100%|██████████| 146/146 [02:14<00:00,  1.09it/s]\n"
     ]
    },
    {
     "name": "stdout",
     "output_type": "stream",
     "text": [
      "начало парсинга 13 части ссылок\n"
     ]
    },
    {
     "name": "stderr",
     "output_type": "stream",
     "text": [
      "100%|██████████| 146/146 [02:14<00:00,  1.08it/s]\n"
     ]
    },
    {
     "name": "stdout",
     "output_type": "stream",
     "text": [
      "начало парсинга 14 части ссылок\n"
     ]
    },
    {
     "name": "stderr",
     "output_type": "stream",
     "text": [
      "100%|██████████| 146/146 [02:16<00:00,  1.07it/s]\n"
     ]
    },
    {
     "name": "stdout",
     "output_type": "stream",
     "text": [
      "начало парсинга 15 части ссылок\n"
     ]
    },
    {
     "name": "stderr",
     "output_type": "stream",
     "text": [
      "100%|██████████| 146/146 [02:13<00:00,  1.09it/s]\n"
     ]
    },
    {
     "name": "stdout",
     "output_type": "stream",
     "text": [
      "начало парсинга 16 части ссылок\n"
     ]
    },
    {
     "name": "stderr",
     "output_type": "stream",
     "text": [
      "100%|██████████| 146/146 [02:12<00:00,  1.11it/s]\n"
     ]
    },
    {
     "name": "stdout",
     "output_type": "stream",
     "text": [
      "начало парсинга 17 части ссылок\n"
     ]
    },
    {
     "name": "stderr",
     "output_type": "stream",
     "text": [
      "100%|██████████| 146/146 [02:17<00:00,  1.06it/s]\n"
     ]
    },
    {
     "name": "stdout",
     "output_type": "stream",
     "text": [
      "начало парсинга 18 части ссылок\n"
     ]
    },
    {
     "name": "stderr",
     "output_type": "stream",
     "text": [
      "100%|██████████| 146/146 [02:12<00:00,  1.10it/s]\n"
     ]
    },
    {
     "name": "stdout",
     "output_type": "stream",
     "text": [
      "начало парсинга 19 части ссылок\n"
     ]
    },
    {
     "name": "stderr",
     "output_type": "stream",
     "text": [
      "100%|██████████| 146/146 [02:14<00:00,  1.09it/s]\n"
     ]
    },
    {
     "name": "stdout",
     "output_type": "stream",
     "text": [
      "начало парсинга 20 части ссылок\n"
     ]
    },
    {
     "name": "stderr",
     "output_type": "stream",
     "text": [
      "100%|██████████| 146/146 [02:15<00:00,  1.08it/s]\n"
     ]
    },
    {
     "name": "stdout",
     "output_type": "stream",
     "text": [
      "начало парсинга 21 части ссылок\n"
     ]
    },
    {
     "name": "stderr",
     "output_type": "stream",
     "text": [
      "100%|██████████| 146/146 [02:18<00:00,  1.06it/s]\n"
     ]
    },
    {
     "name": "stdout",
     "output_type": "stream",
     "text": [
      "начало парсинга 22 части ссылок\n"
     ]
    },
    {
     "name": "stderr",
     "output_type": "stream",
     "text": [
      "100%|██████████| 146/146 [02:14<00:00,  1.08it/s]\n"
     ]
    },
    {
     "name": "stdout",
     "output_type": "stream",
     "text": [
      "начало парсинга 23 части ссылок\n"
     ]
    },
    {
     "name": "stderr",
     "output_type": "stream",
     "text": [
      "100%|██████████| 146/146 [02:12<00:00,  1.10it/s]\n"
     ]
    },
    {
     "name": "stdout",
     "output_type": "stream",
     "text": [
      "начало парсинга 24 части ссылок\n"
     ]
    },
    {
     "name": "stderr",
     "output_type": "stream",
     "text": [
      "100%|██████████| 146/146 [02:17<00:00,  1.07it/s]\n"
     ]
    },
    {
     "name": "stdout",
     "output_type": "stream",
     "text": [
      "начало парсинга 25 части ссылок\n"
     ]
    },
    {
     "name": "stderr",
     "output_type": "stream",
     "text": [
      "100%|██████████| 146/146 [02:23<00:00,  1.02it/s]\n"
     ]
    },
    {
     "name": "stdout",
     "output_type": "stream",
     "text": [
      "начало парсинга 26 части ссылок\n"
     ]
    },
    {
     "name": "stderr",
     "output_type": "stream",
     "text": [
      "100%|██████████| 146/146 [02:25<00:00,  1.01it/s]\n"
     ]
    },
    {
     "name": "stdout",
     "output_type": "stream",
     "text": [
      "начало парсинга 27 части ссылок\n"
     ]
    },
    {
     "name": "stderr",
     "output_type": "stream",
     "text": [
      "100%|██████████| 146/146 [02:30<00:00,  1.03s/it]\n"
     ]
    },
    {
     "name": "stdout",
     "output_type": "stream",
     "text": [
      "начало парсинга 28 части ссылок\n"
     ]
    },
    {
     "name": "stderr",
     "output_type": "stream",
     "text": [
      "100%|██████████| 146/146 [02:27<00:00,  1.01s/it]\n"
     ]
    },
    {
     "name": "stdout",
     "output_type": "stream",
     "text": [
      "начало парсинга 29 части ссылок\n"
     ]
    },
    {
     "name": "stderr",
     "output_type": "stream",
     "text": [
      "100%|██████████| 146/146 [02:33<00:00,  1.05s/it]\n"
     ]
    },
    {
     "name": "stdout",
     "output_type": "stream",
     "text": [
      "начало парсинга 30 части ссылок\n"
     ]
    },
    {
     "name": "stderr",
     "output_type": "stream",
     "text": [
      "100%|██████████| 146/146 [02:24<00:00,  1.01it/s]\n"
     ]
    },
    {
     "name": "stdout",
     "output_type": "stream",
     "text": [
      "начало парсинга 31 части ссылок\n"
     ]
    },
    {
     "name": "stderr",
     "output_type": "stream",
     "text": [
      "100%|██████████| 146/146 [02:44<00:00,  1.13s/it]\n"
     ]
    },
    {
     "name": "stdout",
     "output_type": "stream",
     "text": [
      "начало парсинга 32 части ссылок\n"
     ]
    },
    {
     "name": "stderr",
     "output_type": "stream",
     "text": [
      "100%|██████████| 146/146 [02:24<00:00,  1.01it/s]\n"
     ]
    },
    {
     "name": "stdout",
     "output_type": "stream",
     "text": [
      "начало парсинга 33 части ссылок\n"
     ]
    },
    {
     "name": "stderr",
     "output_type": "stream",
     "text": [
      "100%|██████████| 146/146 [02:15<00:00,  1.08it/s]\n"
     ]
    },
    {
     "name": "stdout",
     "output_type": "stream",
     "text": [
      "начало парсинга 34 части ссылок\n"
     ]
    },
    {
     "name": "stderr",
     "output_type": "stream",
     "text": [
      "100%|██████████| 146/146 [02:17<00:00,  1.06it/s]\n"
     ]
    },
    {
     "name": "stdout",
     "output_type": "stream",
     "text": [
      "начало парсинга 35 части ссылок\n"
     ]
    },
    {
     "name": "stderr",
     "output_type": "stream",
     "text": [
      "100%|██████████| 146/146 [02:26<00:00,  1.00s/it]\n"
     ]
    },
    {
     "name": "stdout",
     "output_type": "stream",
     "text": [
      "начало парсинга 36 части ссылок\n"
     ]
    },
    {
     "name": "stderr",
     "output_type": "stream",
     "text": [
      "100%|██████████| 146/146 [02:26<00:00,  1.00s/it]\n"
     ]
    },
    {
     "name": "stdout",
     "output_type": "stream",
     "text": [
      "начало парсинга 37 части ссылок\n"
     ]
    },
    {
     "name": "stderr",
     "output_type": "stream",
     "text": [
      "100%|██████████| 146/146 [02:20<00:00,  1.04it/s]\n"
     ]
    },
    {
     "name": "stdout",
     "output_type": "stream",
     "text": [
      "начало парсинга 38 части ссылок\n"
     ]
    },
    {
     "name": "stderr",
     "output_type": "stream",
     "text": [
      "100%|██████████| 146/146 [02:32<00:00,  1.04s/it]\n"
     ]
    },
    {
     "name": "stdout",
     "output_type": "stream",
     "text": [
      "начало парсинга 39 части ссылок\n"
     ]
    },
    {
     "name": "stderr",
     "output_type": "stream",
     "text": [
      "100%|██████████| 146/146 [02:13<00:00,  1.09it/s]\n"
     ]
    },
    {
     "name": "stdout",
     "output_type": "stream",
     "text": [
      "начало парсинга 40 части ссылок\n"
     ]
    },
    {
     "name": "stderr",
     "output_type": "stream",
     "text": [
      "100%|██████████| 146/146 [02:22<00:00,  1.02it/s]\n"
     ]
    },
    {
     "name": "stdout",
     "output_type": "stream",
     "text": [
      "начало парсинга 41 части ссылок\n"
     ]
    },
    {
     "name": "stderr",
     "output_type": "stream",
     "text": [
      "100%|██████████| 146/146 [02:07<00:00,  1.14it/s]\n"
     ]
    },
    {
     "name": "stdout",
     "output_type": "stream",
     "text": [
      "начало парсинга 42 части ссылок\n"
     ]
    },
    {
     "name": "stderr",
     "output_type": "stream",
     "text": [
      "100%|██████████| 146/146 [02:11<00:00,  1.11it/s]\n"
     ]
    },
    {
     "name": "stdout",
     "output_type": "stream",
     "text": [
      "начало парсинга 43 части ссылок\n"
     ]
    },
    {
     "name": "stderr",
     "output_type": "stream",
     "text": [
      "100%|██████████| 146/146 [02:05<00:00,  1.17it/s]\n"
     ]
    },
    {
     "name": "stdout",
     "output_type": "stream",
     "text": [
      "начало парсинга 44 части ссылок\n"
     ]
    },
    {
     "name": "stderr",
     "output_type": "stream",
     "text": [
      "100%|██████████| 146/146 [02:07<00:00,  1.15it/s]\n"
     ]
    },
    {
     "name": "stdout",
     "output_type": "stream",
     "text": [
      "начало парсинга 45 части ссылок\n"
     ]
    },
    {
     "name": "stderr",
     "output_type": "stream",
     "text": [
      "100%|██████████| 146/146 [02:06<00:00,  1.15it/s]\n"
     ]
    },
    {
     "name": "stdout",
     "output_type": "stream",
     "text": [
      "начало парсинга 46 части ссылок\n"
     ]
    },
    {
     "name": "stderr",
     "output_type": "stream",
     "text": [
      "100%|██████████| 146/146 [02:05<00:00,  1.16it/s]\n"
     ]
    },
    {
     "name": "stdout",
     "output_type": "stream",
     "text": [
      "начало парсинга 47 части ссылок\n"
     ]
    },
    {
     "name": "stderr",
     "output_type": "stream",
     "text": [
      "100%|██████████| 146/146 [02:15<00:00,  1.08it/s]\n"
     ]
    },
    {
     "name": "stdout",
     "output_type": "stream",
     "text": [
      "начало парсинга 48 части ссылок\n"
     ]
    },
    {
     "name": "stderr",
     "output_type": "stream",
     "text": [
      "100%|██████████| 146/146 [02:14<00:00,  1.08it/s]\n"
     ]
    },
    {
     "name": "stdout",
     "output_type": "stream",
     "text": [
      "начало парсинга 49 части ссылок\n"
     ]
    },
    {
     "name": "stderr",
     "output_type": "stream",
     "text": [
      "100%|██████████| 146/146 [02:06<00:00,  1.16it/s]\n"
     ]
    },
    {
     "name": "stdout",
     "output_type": "stream",
     "text": [
      "начало парсинга 50 части ссылок\n"
     ]
    },
    {
     "name": "stderr",
     "output_type": "stream",
     "text": [
      "100%|██████████| 146/146 [02:08<00:00,  1.13it/s]\n"
     ]
    },
    {
     "name": "stdout",
     "output_type": "stream",
     "text": [
      "начало парсинга 51 части ссылок\n"
     ]
    },
    {
     "name": "stderr",
     "output_type": "stream",
     "text": [
      "100%|██████████| 146/146 [02:09<00:00,  1.13it/s]\n"
     ]
    },
    {
     "name": "stdout",
     "output_type": "stream",
     "text": [
      "начало парсинга 52 части ссылок\n"
     ]
    },
    {
     "name": "stderr",
     "output_type": "stream",
     "text": [
      "100%|██████████| 146/146 [02:01<00:00,  1.21it/s]\n"
     ]
    },
    {
     "name": "stdout",
     "output_type": "stream",
     "text": [
      "начало парсинга 53 части ссылок\n"
     ]
    },
    {
     "name": "stderr",
     "output_type": "stream",
     "text": [
      "100%|██████████| 146/146 [02:07<00:00,  1.15it/s]\n"
     ]
    },
    {
     "name": "stdout",
     "output_type": "stream",
     "text": [
      "начало парсинга 54 части ссылок\n"
     ]
    },
    {
     "name": "stderr",
     "output_type": "stream",
     "text": [
      "100%|██████████| 146/146 [02:03<00:00,  1.19it/s]\n"
     ]
    },
    {
     "name": "stdout",
     "output_type": "stream",
     "text": [
      "начало парсинга 55 части ссылок\n"
     ]
    },
    {
     "name": "stderr",
     "output_type": "stream",
     "text": [
      "100%|██████████| 146/146 [02:04<00:00,  1.17it/s]\n"
     ]
    },
    {
     "name": "stdout",
     "output_type": "stream",
     "text": [
      "начало парсинга 56 части ссылок\n"
     ]
    },
    {
     "name": "stderr",
     "output_type": "stream",
     "text": [
      "100%|██████████| 146/146 [02:07<00:00,  1.15it/s]\n"
     ]
    },
    {
     "name": "stdout",
     "output_type": "stream",
     "text": [
      "начало парсинга 57 части ссылок\n"
     ]
    },
    {
     "name": "stderr",
     "output_type": "stream",
     "text": [
      "100%|██████████| 146/146 [02:20<00:00,  1.04it/s]\n"
     ]
    },
    {
     "name": "stdout",
     "output_type": "stream",
     "text": [
      "начало парсинга 58 части ссылок\n"
     ]
    },
    {
     "name": "stderr",
     "output_type": "stream",
     "text": [
      "100%|██████████| 146/146 [02:13<00:00,  1.09it/s]\n"
     ]
    },
    {
     "name": "stdout",
     "output_type": "stream",
     "text": [
      "начало парсинга 59 части ссылок\n"
     ]
    },
    {
     "name": "stderr",
     "output_type": "stream",
     "text": [
      "100%|██████████| 146/146 [02:15<00:00,  1.07it/s]\n"
     ]
    },
    {
     "name": "stdout",
     "output_type": "stream",
     "text": [
      "начало парсинга 60 части ссылок\n"
     ]
    },
    {
     "name": "stderr",
     "output_type": "stream",
     "text": [
      "100%|██████████| 146/146 [02:07<00:00,  1.15it/s]\n"
     ]
    },
    {
     "name": "stdout",
     "output_type": "stream",
     "text": [
      "начало парсинга 61 части ссылок\n"
     ]
    },
    {
     "name": "stderr",
     "output_type": "stream",
     "text": [
      "100%|██████████| 146/146 [02:08<00:00,  1.14it/s]\n"
     ]
    },
    {
     "name": "stdout",
     "output_type": "stream",
     "text": [
      "начало парсинга 62 части ссылок\n"
     ]
    },
    {
     "name": "stderr",
     "output_type": "stream",
     "text": [
      "100%|██████████| 146/146 [02:11<00:00,  1.11it/s]\n"
     ]
    },
    {
     "name": "stdout",
     "output_type": "stream",
     "text": [
      "начало парсинга 63 части ссылок\n"
     ]
    },
    {
     "name": "stderr",
     "output_type": "stream",
     "text": [
      "100%|██████████| 146/146 [02:06<00:00,  1.16it/s]\n"
     ]
    },
    {
     "name": "stdout",
     "output_type": "stream",
     "text": [
      "начало парсинга 64 части ссылок\n"
     ]
    },
    {
     "name": "stderr",
     "output_type": "stream",
     "text": [
      "100%|██████████| 146/146 [02:07<00:00,  1.14it/s]\n"
     ]
    },
    {
     "name": "stdout",
     "output_type": "stream",
     "text": [
      "начало парсинга 65 части ссылок\n"
     ]
    },
    {
     "name": "stderr",
     "output_type": "stream",
     "text": [
      "100%|██████████| 146/146 [02:10<00:00,  1.12it/s]\n"
     ]
    },
    {
     "name": "stdout",
     "output_type": "stream",
     "text": [
      "начало парсинга 66 части ссылок\n"
     ]
    },
    {
     "name": "stderr",
     "output_type": "stream",
     "text": [
      "100%|██████████| 146/146 [02:12<00:00,  1.10it/s]\n"
     ]
    },
    {
     "name": "stdout",
     "output_type": "stream",
     "text": [
      "начало парсинга 67 части ссылок\n"
     ]
    },
    {
     "name": "stderr",
     "output_type": "stream",
     "text": [
      "100%|██████████| 145/145 [02:18<00:00,  1.05it/s]\n"
     ]
    },
    {
     "name": "stdout",
     "output_type": "stream",
     "text": [
      "начало парсинга 68 части ссылок\n"
     ]
    },
    {
     "name": "stderr",
     "output_type": "stream",
     "text": [
      "100%|██████████| 145/145 [02:28<00:00,  1.03s/it]\n"
     ]
    },
    {
     "name": "stdout",
     "output_type": "stream",
     "text": [
      "начало парсинга 69 части ссылок\n"
     ]
    },
    {
     "name": "stderr",
     "output_type": "stream",
     "text": [
      "100%|██████████| 145/145 [02:11<00:00,  1.10it/s]\n"
     ]
    },
    {
     "name": "stdout",
     "output_type": "stream",
     "text": [
      "начало парсинга 70 части ссылок\n"
     ]
    },
    {
     "name": "stderr",
     "output_type": "stream",
     "text": [
      "100%|██████████| 145/145 [02:13<00:00,  1.08it/s]\n"
     ]
    },
    {
     "name": "stdout",
     "output_type": "stream",
     "text": [
      "начало парсинга 71 части ссылок\n"
     ]
    },
    {
     "name": "stderr",
     "output_type": "stream",
     "text": [
      "100%|██████████| 145/145 [02:11<00:00,  1.10it/s]\n"
     ]
    },
    {
     "name": "stdout",
     "output_type": "stream",
     "text": [
      "начало парсинга 72 части ссылок\n"
     ]
    },
    {
     "name": "stderr",
     "output_type": "stream",
     "text": [
      "100%|██████████| 145/145 [02:11<00:00,  1.10it/s]\n"
     ]
    },
    {
     "name": "stdout",
     "output_type": "stream",
     "text": [
      "начало парсинга 73 части ссылок\n"
     ]
    },
    {
     "name": "stderr",
     "output_type": "stream",
     "text": [
      "100%|██████████| 145/145 [02:19<00:00,  1.04it/s]\n"
     ]
    },
    {
     "name": "stdout",
     "output_type": "stream",
     "text": [
      "начало парсинга 74 части ссылок\n"
     ]
    },
    {
     "name": "stderr",
     "output_type": "stream",
     "text": [
      "100%|██████████| 145/145 [02:13<00:00,  1.09it/s]\n"
     ]
    },
    {
     "name": "stdout",
     "output_type": "stream",
     "text": [
      "начало парсинга 75 части ссылок\n"
     ]
    },
    {
     "name": "stderr",
     "output_type": "stream",
     "text": [
      "100%|██████████| 145/145 [02:16<00:00,  1.06it/s]\n"
     ]
    },
    {
     "name": "stdout",
     "output_type": "stream",
     "text": [
      "начало парсинга 76 части ссылок\n"
     ]
    },
    {
     "name": "stderr",
     "output_type": "stream",
     "text": [
      "100%|██████████| 145/145 [02:11<00:00,  1.10it/s]\n"
     ]
    },
    {
     "name": "stdout",
     "output_type": "stream",
     "text": [
      "начало парсинга 77 части ссылок\n"
     ]
    },
    {
     "name": "stderr",
     "output_type": "stream",
     "text": [
      "100%|██████████| 145/145 [02:19<00:00,  1.04it/s]\n"
     ]
    },
    {
     "name": "stdout",
     "output_type": "stream",
     "text": [
      "начало парсинга 78 части ссылок\n"
     ]
    },
    {
     "name": "stderr",
     "output_type": "stream",
     "text": [
      "100%|██████████| 145/145 [02:19<00:00,  1.04it/s]\n"
     ]
    },
    {
     "name": "stdout",
     "output_type": "stream",
     "text": [
      "начало парсинга 79 части ссылок\n"
     ]
    },
    {
     "name": "stderr",
     "output_type": "stream",
     "text": [
      "100%|██████████| 145/145 [02:16<00:00,  1.06it/s]\n"
     ]
    },
    {
     "name": "stdout",
     "output_type": "stream",
     "text": [
      "начало парсинга 80 части ссылок\n"
     ]
    },
    {
     "name": "stderr",
     "output_type": "stream",
     "text": [
      "100%|██████████| 145/145 [02:15<00:00,  1.07it/s]\n"
     ]
    },
    {
     "name": "stdout",
     "output_type": "stream",
     "text": [
      "начало парсинга 81 части ссылок\n"
     ]
    },
    {
     "name": "stderr",
     "output_type": "stream",
     "text": [
      "100%|██████████| 145/145 [02:13<00:00,  1.09it/s]\n"
     ]
    },
    {
     "name": "stdout",
     "output_type": "stream",
     "text": [
      "начало парсинга 82 части ссылок\n"
     ]
    },
    {
     "name": "stderr",
     "output_type": "stream",
     "text": [
      "100%|██████████| 145/145 [02:12<00:00,  1.09it/s]\n"
     ]
    },
    {
     "name": "stdout",
     "output_type": "stream",
     "text": [
      "начало парсинга 83 части ссылок\n"
     ]
    },
    {
     "name": "stderr",
     "output_type": "stream",
     "text": [
      "100%|██████████| 145/145 [02:22<00:00,  1.02it/s]\n"
     ]
    },
    {
     "name": "stdout",
     "output_type": "stream",
     "text": [
      "начало парсинга 84 части ссылок\n"
     ]
    },
    {
     "name": "stderr",
     "output_type": "stream",
     "text": [
      "100%|██████████| 145/145 [02:06<00:00,  1.15it/s]\n"
     ]
    },
    {
     "name": "stdout",
     "output_type": "stream",
     "text": [
      "начало парсинга 85 части ссылок\n"
     ]
    },
    {
     "name": "stderr",
     "output_type": "stream",
     "text": [
      "100%|██████████| 145/145 [02:08<00:00,  1.12it/s]\n"
     ]
    },
    {
     "name": "stdout",
     "output_type": "stream",
     "text": [
      "начало парсинга 86 части ссылок\n"
     ]
    },
    {
     "name": "stderr",
     "output_type": "stream",
     "text": [
      "100%|██████████| 145/145 [02:19<00:00,  1.04it/s]\n"
     ]
    },
    {
     "name": "stdout",
     "output_type": "stream",
     "text": [
      "начало парсинга 87 части ссылок\n"
     ]
    },
    {
     "name": "stderr",
     "output_type": "stream",
     "text": [
      "100%|██████████| 145/145 [02:12<00:00,  1.09it/s]\n"
     ]
    },
    {
     "name": "stdout",
     "output_type": "stream",
     "text": [
      "начало парсинга 88 части ссылок\n"
     ]
    },
    {
     "name": "stderr",
     "output_type": "stream",
     "text": [
      "100%|██████████| 145/145 [02:20<00:00,  1.03it/s]\n"
     ]
    },
    {
     "name": "stdout",
     "output_type": "stream",
     "text": [
      "начало парсинга 89 части ссылок\n"
     ]
    },
    {
     "name": "stderr",
     "output_type": "stream",
     "text": [
      "100%|██████████| 145/145 [02:08<00:00,  1.13it/s]\n"
     ]
    },
    {
     "name": "stdout",
     "output_type": "stream",
     "text": [
      "начало парсинга 90 части ссылок\n"
     ]
    },
    {
     "name": "stderr",
     "output_type": "stream",
     "text": [
      "100%|██████████| 145/145 [02:06<00:00,  1.15it/s]\n"
     ]
    },
    {
     "name": "stdout",
     "output_type": "stream",
     "text": [
      "начало парсинга 91 части ссылок\n"
     ]
    },
    {
     "name": "stderr",
     "output_type": "stream",
     "text": [
      "100%|██████████| 145/145 [02:08<00:00,  1.13it/s]\n"
     ]
    },
    {
     "name": "stdout",
     "output_type": "stream",
     "text": [
      "начало парсинга 92 части ссылок\n"
     ]
    },
    {
     "name": "stderr",
     "output_type": "stream",
     "text": [
      "100%|██████████| 145/145 [02:04<00:00,  1.17it/s]\n"
     ]
    },
    {
     "name": "stdout",
     "output_type": "stream",
     "text": [
      "начало парсинга 93 части ссылок\n"
     ]
    },
    {
     "name": "stderr",
     "output_type": "stream",
     "text": [
      "100%|██████████| 145/145 [02:03<00:00,  1.18it/s]\n"
     ]
    },
    {
     "name": "stdout",
     "output_type": "stream",
     "text": [
      "начало парсинга 94 части ссылок\n"
     ]
    },
    {
     "name": "stderr",
     "output_type": "stream",
     "text": [
      "100%|██████████| 145/145 [02:01<00:00,  1.20it/s]\n"
     ]
    },
    {
     "name": "stdout",
     "output_type": "stream",
     "text": [
      "начало парсинга 95 части ссылок\n"
     ]
    },
    {
     "name": "stderr",
     "output_type": "stream",
     "text": [
      "100%|██████████| 145/145 [02:09<00:00,  1.12it/s]\n"
     ]
    },
    {
     "name": "stdout",
     "output_type": "stream",
     "text": [
      "начало парсинга 96 части ссылок\n"
     ]
    },
    {
     "name": "stderr",
     "output_type": "stream",
     "text": [
      "100%|██████████| 145/145 [02:00<00:00,  1.21it/s]\n"
     ]
    },
    {
     "name": "stdout",
     "output_type": "stream",
     "text": [
      "начало парсинга 97 части ссылок\n"
     ]
    },
    {
     "name": "stderr",
     "output_type": "stream",
     "text": [
      "100%|██████████| 145/145 [02:10<00:00,  1.11it/s]\n"
     ]
    },
    {
     "name": "stdout",
     "output_type": "stream",
     "text": [
      "начало парсинга 98 части ссылок\n"
     ]
    },
    {
     "name": "stderr",
     "output_type": "stream",
     "text": [
      "100%|██████████| 145/145 [01:59<00:00,  1.21it/s]\n"
     ]
    },
    {
     "name": "stdout",
     "output_type": "stream",
     "text": [
      "начало парсинга 99 части ссылок\n"
     ]
    },
    {
     "name": "stderr",
     "output_type": "stream",
     "text": [
      "100%|██████████| 145/145 [01:59<00:00,  1.22it/s]\n"
     ]
    },
    {
     "name": "stdout",
     "output_type": "stream",
     "text": [
      "начало парсинга 100 части ссылок\n"
     ]
    },
    {
     "name": "stderr",
     "output_type": "stream",
     "text": [
      "100%|██████████| 145/145 [02:06<00:00,  1.15it/s]\n"
     ]
    }
   ],
   "source": [
    "n = 0\n",
    "for i in range(n, slices):\n",
    "    n += 1\n",
    "    print(f'начало парсинга {n} части ссылок')\n",
    "    df = sunlight_parser(chunks[i])\n",
    "    df.to_csv(rf'{way}\\parsed_data\\sunlight_{day_now}_{month_now}_{n}.csv', index=False)\n",
    "    time.sleep(5)"
   ]
  },
  {
   "cell_type": "code",
   "execution_count": 15,
   "id": "8a8717a9-4841-4b69-8bf6-34f7026bcbb8",
   "metadata": {
    "tags": []
   },
   "outputs": [
    {
     "data": {
      "text/plain": [
       "100"
      ]
     },
     "execution_count": 15,
     "metadata": {},
     "output_type": "execute_result"
    }
   ],
   "source": [
    "os.chdir(rf'{way}\\parsed_data')\n",
    "extension = 'csv'\n",
    "all_filenames = [i for i in glob.glob('*.{}'.format(extension))]\n",
    "len(all_filenames)"
   ]
  },
  {
   "cell_type": "code",
   "execution_count": 16,
   "id": "ad28c4b5-5099-4c80-9921-03acd7d51888",
   "metadata": {
    "tags": []
   },
   "outputs": [],
   "source": [
    "data = pd.DataFrame()\n",
    "for name  in all_filenames:\n",
    "    df = pd.read_csv(name)\n",
    "    data = pd.concat([df, data], ignore_index=True)"
   ]
  },
  {
   "cell_type": "code",
   "execution_count": 17,
   "id": "ebec15b8-284a-45c7-9ab4-61f45b5bf818",
   "metadata": {
    "tags": []
   },
   "outputs": [
    {
     "data": {
      "text/html": [
       "<div>\n",
       "<style scoped>\n",
       "    .dataframe tbody tr th:only-of-type {\n",
       "        vertical-align: middle;\n",
       "    }\n",
       "\n",
       "    .dataframe tbody tr th {\n",
       "        vertical-align: top;\n",
       "    }\n",
       "\n",
       "    .dataframe thead th {\n",
       "        text-align: right;\n",
       "    }\n",
       "</style>\n",
       "<table border=\"1\" class=\"dataframe\">\n",
       "  <thead>\n",
       "    <tr style=\"text-align: right;\">\n",
       "      <th></th>\n",
       "      <th>date</th>\n",
       "      <th>competitor</th>\n",
       "      <th>name</th>\n",
       "      <th>group</th>\n",
       "      <th>params</th>\n",
       "      <th>price</th>\n",
       "      <th>article</th>\n",
       "      <th>url</th>\n",
       "    </tr>\n",
       "  </thead>\n",
       "  <tbody>\n",
       "    <tr>\n",
       "      <th>0</th>\n",
       "      <td>04-06-2024</td>\n",
       "      <td>Sunlight</td>\n",
       "      <td>\\n    Золотой браслет с бриллиантами\\n</td>\n",
       "      <td>Браслеты</td>\n",
       "      <td>{'Модель': '73314-B5W-01', 'Материал изделия':...</td>\n",
       "      <td>194990</td>\n",
       "      <td>986416</td>\n",
       "      <td>https://sunlight.net/catalog/bracelets_986416....</td>\n",
       "    </tr>\n",
       "    <tr>\n",
       "      <th>1</th>\n",
       "      <td>04-06-2024</td>\n",
       "      <td>Sunlight</td>\n",
       "      <td>\\n    Золотой браслет\\n</td>\n",
       "      <td>Браслеты</td>\n",
       "      <td>{'Модель': '47-00-0000-11176*', 'Материал изде...</td>\n",
       "      <td>12720</td>\n",
       "      <td>344031</td>\n",
       "      <td>https://sunlight.net/catalog/bracelets_344031....</td>\n",
       "    </tr>\n",
       "    <tr>\n",
       "      <th>2</th>\n",
       "      <td>04-06-2024</td>\n",
       "      <td>Sunlight</td>\n",
       "      <td>\\n    Золотое шейное украшение\\n</td>\n",
       "      <td>Шейное украшение</td>\n",
       "      <td>{'Модель': '6150456-45*', 'Страна производства...</td>\n",
       "      <td>48480</td>\n",
       "      <td>343992</td>\n",
       "      <td>https://sunlight.net/catalog/neck_decoration_3...</td>\n",
       "    </tr>\n",
       "    <tr>\n",
       "      <th>3</th>\n",
       "      <td>04-06-2024</td>\n",
       "      <td>Sunlight</td>\n",
       "      <td>\\n    Золотое шейное украшение с глиттером\\n</td>\n",
       "      <td>Шейное украшение</td>\n",
       "      <td>{'Модель': '12929-H5Y-01', 'Материал изделия':...</td>\n",
       "      <td>28990</td>\n",
       "      <td>986086</td>\n",
       "      <td>https://sunlight.net/catalog/neck_decoration_9...</td>\n",
       "    </tr>\n",
       "    <tr>\n",
       "      <th>4</th>\n",
       "      <td>04-06-2024</td>\n",
       "      <td>Sunlight</td>\n",
       "      <td>\\n    Золотой браслет\\n</td>\n",
       "      <td>Браслеты</td>\n",
       "      <td>{'Модель': '12932-B5Y-01', 'Материал изделия':...</td>\n",
       "      <td>57990</td>\n",
       "      <td>986078</td>\n",
       "      <td>https://sunlight.net/catalog/bracelets_986078....</td>\n",
       "    </tr>\n",
       "    <tr>\n",
       "      <th>...</th>\n",
       "      <td>...</td>\n",
       "      <td>...</td>\n",
       "      <td>...</td>\n",
       "      <td>...</td>\n",
       "      <td>...</td>\n",
       "      <td>...</td>\n",
       "      <td>...</td>\n",
       "      <td>...</td>\n",
       "    </tr>\n",
       "    <tr>\n",
       "      <th>14561</th>\n",
       "      <td>04-06-2024</td>\n",
       "      <td>Sunlight</td>\n",
       "      <td>\\n    Золотые серьги с бриллиантами\\n</td>\n",
       "      <td>Серьги</td>\n",
       "      <td>{'Модель': '0275-C5M-02', 'Материал изделия': ...</td>\n",
       "      <td>21990</td>\n",
       "      <td>55703</td>\n",
       "      <td>https://sunlight.net/catalog/earring_55703.html</td>\n",
       "    </tr>\n",
       "    <tr>\n",
       "      <th>14562</th>\n",
       "      <td>04-06-2024</td>\n",
       "      <td>Sunlight</td>\n",
       "      <td>\\n    Золотой крест-подвеска\\n</td>\n",
       "      <td>Крест-подвеска</td>\n",
       "      <td>{'Модель': '14592.1*', 'Материал изделия': 'Бе...</td>\n",
       "      <td>3990</td>\n",
       "      <td>288514</td>\n",
       "      <td>https://sunlight.net/catalog/pendants_288514.html</td>\n",
       "    </tr>\n",
       "    <tr>\n",
       "      <th>14563</th>\n",
       "      <td>04-06-2024</td>\n",
       "      <td>Sunlight</td>\n",
       "      <td>\\n    Золотое кольцо с фианитами\\n</td>\n",
       "      <td>Кольца</td>\n",
       "      <td>{'Модель': '20-02-0001-12622*', 'Материал изде...</td>\n",
       "      <td>13990</td>\n",
       "      <td>348664</td>\n",
       "      <td>https://sunlight.net/catalog/ring_261669.html</td>\n",
       "    </tr>\n",
       "    <tr>\n",
       "      <th>14564</th>\n",
       "      <td>04-06-2024</td>\n",
       "      <td>Sunlight</td>\n",
       "      <td>\\n    Золотое кольцо с сапфирами и бриллиантам...</td>\n",
       "      <td>Кольца</td>\n",
       "      <td>{'Модель': '73061-K5R-01', 'Материал изделия':...</td>\n",
       "      <td>15990</td>\n",
       "      <td>341090</td>\n",
       "      <td>https://sunlight.net/catalog/ring_341090.html</td>\n",
       "    </tr>\n",
       "    <tr>\n",
       "      <th>14565</th>\n",
       "      <td>04-06-2024</td>\n",
       "      <td>Sunlight</td>\n",
       "      <td>\\n    Золотая подвеска с бриллиантами\\n</td>\n",
       "      <td>Подвески</td>\n",
       "      <td>{'Модель': '73691-P5R-01', 'Материал изделия':...</td>\n",
       "      <td>28990</td>\n",
       "      <td>988887</td>\n",
       "      <td>https://sunlight.net/catalog/pendants_988887.html</td>\n",
       "    </tr>\n",
       "  </tbody>\n",
       "</table>\n",
       "<p>14566 rows × 8 columns</p>\n",
       "</div>"
      ],
      "text/plain": [
       "             date competitor  \\\n",
       "0      04-06-2024   Sunlight   \n",
       "1      04-06-2024   Sunlight   \n",
       "2      04-06-2024   Sunlight   \n",
       "3      04-06-2024   Sunlight   \n",
       "4      04-06-2024   Sunlight   \n",
       "...           ...        ...   \n",
       "14561  04-06-2024   Sunlight   \n",
       "14562  04-06-2024   Sunlight   \n",
       "14563  04-06-2024   Sunlight   \n",
       "14564  04-06-2024   Sunlight   \n",
       "14565  04-06-2024   Sunlight   \n",
       "\n",
       "                                                    name             group  \\\n",
       "0               \\n    Золотой браслет с бриллиантами\\n            Браслеты   \n",
       "1                              \\n    Золотой браслет\\n            Браслеты   \n",
       "2                     \\n    Золотое шейное украшение\\n    Шейное украшение   \n",
       "3         \\n    Золотое шейное украшение с глиттером\\n    Шейное украшение   \n",
       "4                              \\n    Золотой браслет\\n            Браслеты   \n",
       "...                                                  ...               ...   \n",
       "14561            \\n    Золотые серьги с бриллиантами\\n              Серьги   \n",
       "14562                   \\n    Золотой крест-подвеска\\n      Крест-подвеска   \n",
       "14563               \\n    Золотое кольцо с фианитами\\n              Кольца   \n",
       "14564  \\n    Золотое кольцо с сапфирами и бриллиантам...            Кольца   \n",
       "14565          \\n    Золотая подвеска с бриллиантами\\n            Подвески   \n",
       "\n",
       "                                                  params   price  article  \\\n",
       "0      {'Модель': '73314-B5W-01', 'Материал изделия':...  194990   986416   \n",
       "1      {'Модель': '47-00-0000-11176*', 'Материал изде...   12720   344031   \n",
       "2      {'Модель': '6150456-45*', 'Страна производства...   48480   343992   \n",
       "3      {'Модель': '12929-H5Y-01', 'Материал изделия':...   28990   986086   \n",
       "4      {'Модель': '12932-B5Y-01', 'Материал изделия':...   57990   986078   \n",
       "...                                                  ...     ...      ...   \n",
       "14561  {'Модель': '0275-C5M-02', 'Материал изделия': ...   21990    55703   \n",
       "14562  {'Модель': '14592.1*', 'Материал изделия': 'Бе...    3990   288514   \n",
       "14563  {'Модель': '20-02-0001-12622*', 'Материал изде...   13990   348664   \n",
       "14564  {'Модель': '73061-K5R-01', 'Материал изделия':...   15990   341090   \n",
       "14565  {'Модель': '73691-P5R-01', 'Материал изделия':...   28990   988887   \n",
       "\n",
       "                                                     url  \n",
       "0      https://sunlight.net/catalog/bracelets_986416....  \n",
       "1      https://sunlight.net/catalog/bracelets_344031....  \n",
       "2      https://sunlight.net/catalog/neck_decoration_3...  \n",
       "3      https://sunlight.net/catalog/neck_decoration_9...  \n",
       "4      https://sunlight.net/catalog/bracelets_986078....  \n",
       "...                                                  ...  \n",
       "14561    https://sunlight.net/catalog/earring_55703.html  \n",
       "14562  https://sunlight.net/catalog/pendants_288514.html  \n",
       "14563      https://sunlight.net/catalog/ring_261669.html  \n",
       "14564      https://sunlight.net/catalog/ring_341090.html  \n",
       "14565  https://sunlight.net/catalog/pendants_988887.html  \n",
       "\n",
       "[14566 rows x 8 columns]"
      ]
     },
     "execution_count": 17,
     "metadata": {},
     "output_type": "execute_result"
    }
   ],
   "source": [
    "data"
   ]
  },
  {
   "cell_type": "code",
   "execution_count": 18,
   "id": "519c7daa",
   "metadata": {},
   "outputs": [],
   "source": [
    "data.to_csv(rf'{way}\\data_without_price.csv', index = False)"
   ]
  },
  {
   "cell_type": "code",
   "execution_count": 10,
   "id": "d4a7b5de",
   "metadata": {},
   "outputs": [],
   "source": [
    "data = pd.read_csv(r'C:\\Users\\Trenkin.Sergey\\Desktop\\parsers\\sunlight_current_data\\data_without_price.csv')"
   ]
  },
  {
   "cell_type": "code",
   "execution_count": 11,
   "id": "58337692-5eb6-4eb5-9115-f144d8abbb81",
   "metadata": {
    "tags": []
   },
   "outputs": [
    {
     "name": "stdout",
     "output_type": "stream",
     "text": [
      "<class 'pandas.core.frame.DataFrame'>\n",
      "RangeIndex: 14566 entries, 0 to 14565\n",
      "Data columns (total 8 columns):\n",
      " #   Column      Non-Null Count  Dtype \n",
      "---  ------      --------------  ----- \n",
      " 0   date        14566 non-null  object\n",
      " 1   competitor  14566 non-null  object\n",
      " 2   name        14566 non-null  object\n",
      " 3   group       14566 non-null  object\n",
      " 4   params      14566 non-null  object\n",
      " 5   price       14566 non-null  int64 \n",
      " 6   article     14566 non-null  int64 \n",
      " 7   url         14566 non-null  object\n",
      "dtypes: int64(2), object(6)\n",
      "memory usage: 910.5+ KB\n"
     ]
    }
   ],
   "source": [
    "data.info()"
   ]
  },
  {
   "cell_type": "code",
   "execution_count": 12,
   "id": "8417ea87-4b5c-4a25-adab-ea9dc6aa14c4",
   "metadata": {
    "tags": []
   },
   "outputs": [
    {
     "data": {
      "text/plain": [
       "0"
      ]
     },
     "execution_count": 12,
     "metadata": {},
     "output_type": "execute_result"
    }
   ],
   "source": [
    "data.duplicated().sum()"
   ]
  },
  {
   "cell_type": "code",
   "execution_count": 13,
   "id": "0b84a2f7-e088-4e35-b146-8e062b70017c",
   "metadata": {
    "tags": []
   },
   "outputs": [],
   "source": [
    "data = data.drop_duplicates()"
   ]
  },
  {
   "cell_type": "code",
   "execution_count": 14,
   "id": "6d3ae069-d73d-479d-aade-bf0c7a7af635",
   "metadata": {
    "tags": []
   },
   "outputs": [
    {
     "data": {
      "text/plain": [
       "0"
      ]
     },
     "execution_count": 14,
     "metadata": {},
     "output_type": "execute_result"
    }
   ],
   "source": [
    "data.duplicated().sum()"
   ]
  },
  {
   "cell_type": "code",
   "execution_count": 15,
   "id": "e18e867c-20ea-4daf-ac9c-c782afdb958a",
   "metadata": {
    "tags": []
   },
   "outputs": [
    {
     "data": {
      "text/plain": [
       "0"
      ]
     },
     "execution_count": 15,
     "metadata": {},
     "output_type": "execute_result"
    }
   ],
   "source": [
    "data['article'].isna().sum()"
   ]
  },
  {
   "cell_type": "code",
   "execution_count": 16,
   "id": "73e88350-0df1-4eaa-ac9c-5c898b1b55ce",
   "metadata": {
    "tags": []
   },
   "outputs": [],
   "source": [
    "data = data.dropna()"
   ]
  },
  {
   "cell_type": "code",
   "execution_count": 17,
   "id": "a64bce96-cffd-49ed-a32e-fcc4e915c981",
   "metadata": {
    "tags": []
   },
   "outputs": [],
   "source": [
    "data['article'] = data['article'].astype('int') "
   ]
  },
  {
   "cell_type": "code",
   "execution_count": 18,
   "id": "392c3f10-6d77-45d5-ba86-f7f7d8299399",
   "metadata": {
    "tags": []
   },
   "outputs": [],
   "source": [
    "test = np.array_split(data, 20)"
   ]
  },
  {
   "cell_type": "code",
   "execution_count": 19,
   "id": "2fff3cdb-166e-4363-a351-a3d39062e012",
   "metadata": {
    "tags": []
   },
   "outputs": [
    {
     "name": "stdout",
     "output_type": "stream",
     "text": [
      "начало парсинга 1 части ссылок\n"
     ]
    },
    {
     "name": "stderr",
     "output_type": "stream",
     "text": [
      "100%|██████████| 729/729 [06:34<00:00,  1.85it/s]\n"
     ]
    },
    {
     "name": "stdout",
     "output_type": "stream",
     "text": [
      "начало парсинга 2 части ссылок\n"
     ]
    },
    {
     "name": "stderr",
     "output_type": "stream",
     "text": [
      "100%|██████████| 729/729 [06:35<00:00,  1.84it/s]\n"
     ]
    },
    {
     "name": "stdout",
     "output_type": "stream",
     "text": [
      "начало парсинга 3 части ссылок\n"
     ]
    },
    {
     "name": "stderr",
     "output_type": "stream",
     "text": [
      "100%|██████████| 729/729 [06:42<00:00,  1.81it/s]\n"
     ]
    },
    {
     "name": "stdout",
     "output_type": "stream",
     "text": [
      "начало парсинга 4 части ссылок\n"
     ]
    },
    {
     "name": "stderr",
     "output_type": "stream",
     "text": [
      "100%|██████████| 729/729 [06:48<00:00,  1.79it/s]\n"
     ]
    },
    {
     "name": "stdout",
     "output_type": "stream",
     "text": [
      "начало парсинга 5 части ссылок\n"
     ]
    },
    {
     "name": "stderr",
     "output_type": "stream",
     "text": [
      "100%|██████████| 729/729 [07:12<00:00,  1.69it/s]\n"
     ]
    },
    {
     "name": "stdout",
     "output_type": "stream",
     "text": [
      "начало парсинга 6 части ссылок\n"
     ]
    },
    {
     "name": "stderr",
     "output_type": "stream",
     "text": [
      "100%|██████████| 729/729 [07:23<00:00,  1.65it/s]\n"
     ]
    },
    {
     "name": "stdout",
     "output_type": "stream",
     "text": [
      "начало парсинга 7 части ссылок\n"
     ]
    },
    {
     "name": "stderr",
     "output_type": "stream",
     "text": [
      "100%|██████████| 728/728 [07:25<00:00,  1.63it/s]\n"
     ]
    },
    {
     "name": "stdout",
     "output_type": "stream",
     "text": [
      "начало парсинга 8 части ссылок\n"
     ]
    },
    {
     "name": "stderr",
     "output_type": "stream",
     "text": [
      "100%|██████████| 728/728 [06:45<00:00,  1.79it/s]\n"
     ]
    },
    {
     "name": "stdout",
     "output_type": "stream",
     "text": [
      "начало парсинга 9 части ссылок\n"
     ]
    },
    {
     "name": "stderr",
     "output_type": "stream",
     "text": [
      "100%|██████████| 728/728 [07:06<00:00,  1.71it/s]\n"
     ]
    },
    {
     "name": "stdout",
     "output_type": "stream",
     "text": [
      "начало парсинга 10 части ссылок\n"
     ]
    },
    {
     "name": "stderr",
     "output_type": "stream",
     "text": [
      "100%|██████████| 728/728 [07:17<00:00,  1.66it/s]\n"
     ]
    },
    {
     "name": "stdout",
     "output_type": "stream",
     "text": [
      "начало парсинга 11 части ссылок\n"
     ]
    },
    {
     "name": "stderr",
     "output_type": "stream",
     "text": [
      "100%|██████████| 728/728 [07:24<00:00,  1.64it/s]\n"
     ]
    },
    {
     "name": "stdout",
     "output_type": "stream",
     "text": [
      "начало парсинга 12 части ссылок\n"
     ]
    },
    {
     "name": "stderr",
     "output_type": "stream",
     "text": [
      "100%|██████████| 728/728 [06:54<00:00,  1.76it/s]\n"
     ]
    },
    {
     "name": "stdout",
     "output_type": "stream",
     "text": [
      "начало парсинга 13 части ссылок\n"
     ]
    },
    {
     "name": "stderr",
     "output_type": "stream",
     "text": [
      "100%|██████████| 728/728 [06:49<00:00,  1.78it/s]\n"
     ]
    },
    {
     "name": "stdout",
     "output_type": "stream",
     "text": [
      "начало парсинга 14 части ссылок\n"
     ]
    },
    {
     "name": "stderr",
     "output_type": "stream",
     "text": [
      "100%|██████████| 728/728 [07:06<00:00,  1.71it/s]\n"
     ]
    },
    {
     "name": "stdout",
     "output_type": "stream",
     "text": [
      "начало парсинга 15 части ссылок\n"
     ]
    },
    {
     "name": "stderr",
     "output_type": "stream",
     "text": [
      "100%|██████████| 728/728 [06:49<00:00,  1.78it/s]\n"
     ]
    },
    {
     "name": "stdout",
     "output_type": "stream",
     "text": [
      "начало парсинга 16 части ссылок\n"
     ]
    },
    {
     "name": "stderr",
     "output_type": "stream",
     "text": [
      "100%|██████████| 728/728 [06:59<00:00,  1.74it/s]\n"
     ]
    },
    {
     "name": "stdout",
     "output_type": "stream",
     "text": [
      "начало парсинга 17 части ссылок\n"
     ]
    },
    {
     "name": "stderr",
     "output_type": "stream",
     "text": [
      "100%|██████████| 728/728 [06:44<00:00,  1.80it/s]\n"
     ]
    },
    {
     "name": "stdout",
     "output_type": "stream",
     "text": [
      "начало парсинга 18 части ссылок\n"
     ]
    },
    {
     "name": "stderr",
     "output_type": "stream",
     "text": [
      "100%|██████████| 728/728 [07:03<00:00,  1.72it/s]\n"
     ]
    },
    {
     "name": "stdout",
     "output_type": "stream",
     "text": [
      "начало парсинга 19 части ссылок\n"
     ]
    },
    {
     "name": "stderr",
     "output_type": "stream",
     "text": [
      "100%|██████████| 728/728 [07:20<00:00,  1.65it/s]\n"
     ]
    },
    {
     "name": "stdout",
     "output_type": "stream",
     "text": [
      "начало парсинга 20 части ссылок\n"
     ]
    },
    {
     "name": "stderr",
     "output_type": "stream",
     "text": [
      "100%|██████████| 728/728 [07:41<00:00,  1.58it/s]\n"
     ]
    }
   ],
   "source": [
    "n = 0\n",
    "for i in range(n, 20):\n",
    "    n += 1\n",
    "    print(f'начало парсинга {n} части ссылок')\n",
    "    df = get_personal_price(test[i].reset_index())\n",
    "    df = pd.DataFrame(df)\n",
    "    df.to_csv(r'C:\\Users\\Trenkin.Sergey\\Desktop\\parsers\\sunlight_current_data\\discounts\\\\' + f'sunlight_all_data_{day_now}_{month_now}_{n}.csv', index=False)\n",
    "    time.sleep(5)"
   ]
  },
  {
   "cell_type": "code",
   "execution_count": 20,
   "id": "1cc1c7e9",
   "metadata": {},
   "outputs": [
    {
     "data": {
      "text/plain": [
       "20"
      ]
     },
     "execution_count": 20,
     "metadata": {},
     "output_type": "execute_result"
    }
   ],
   "source": [
    "os.chdir(r'C:\\Users\\Trenkin.Sergey\\Desktop\\parsers\\sunlight_current_data\\discounts')\n",
    "extension = 'csv'\n",
    "all_filenames = [i for i in glob.glob('*.{}'.format(extension))]\n",
    "len(all_filenames)"
   ]
  },
  {
   "cell_type": "code",
   "execution_count": 21,
   "id": "35b46694",
   "metadata": {},
   "outputs": [
    {
     "data": {
      "text/html": [
       "<div>\n",
       "<style scoped>\n",
       "    .dataframe tbody tr th:only-of-type {\n",
       "        vertical-align: middle;\n",
       "    }\n",
       "\n",
       "    .dataframe tbody tr th {\n",
       "        vertical-align: top;\n",
       "    }\n",
       "\n",
       "    .dataframe thead th {\n",
       "        text-align: right;\n",
       "    }\n",
       "</style>\n",
       "<table border=\"1\" class=\"dataframe\">\n",
       "  <thead>\n",
       "    <tr style=\"text-align: right;\">\n",
       "      <th></th>\n",
       "      <th>date</th>\n",
       "      <th>competitor</th>\n",
       "      <th>name</th>\n",
       "      <th>group</th>\n",
       "      <th>params</th>\n",
       "      <th>price</th>\n",
       "      <th>article</th>\n",
       "      <th>url</th>\n",
       "    </tr>\n",
       "  </thead>\n",
       "  <tbody>\n",
       "    <tr>\n",
       "      <th>0</th>\n",
       "      <td>04-06-2024</td>\n",
       "      <td>Sunlight</td>\n",
       "      <td>\\n    Золотой браслет с бриллиантами\\n</td>\n",
       "      <td>Браслеты</td>\n",
       "      <td>{'Модель': '73314-B5W-01', 'Материал изделия':...</td>\n",
       "      <td>194990</td>\n",
       "      <td>986416</td>\n",
       "      <td>https://sunlight.net/catalog/bracelets_986416....</td>\n",
       "    </tr>\n",
       "    <tr>\n",
       "      <th>1</th>\n",
       "      <td>04-06-2024</td>\n",
       "      <td>Sunlight</td>\n",
       "      <td>\\n    Золотой браслет\\n</td>\n",
       "      <td>Браслеты</td>\n",
       "      <td>{'Модель': '47-00-0000-11176*', 'Материал изде...</td>\n",
       "      <td>12720</td>\n",
       "      <td>344031</td>\n",
       "      <td>https://sunlight.net/catalog/bracelets_344031....</td>\n",
       "    </tr>\n",
       "    <tr>\n",
       "      <th>2</th>\n",
       "      <td>04-06-2024</td>\n",
       "      <td>Sunlight</td>\n",
       "      <td>\\n    Золотое шейное украшение\\n</td>\n",
       "      <td>Шейное украшение</td>\n",
       "      <td>{'Модель': '6150456-45*', 'Страна производства...</td>\n",
       "      <td>48480</td>\n",
       "      <td>343992</td>\n",
       "      <td>https://sunlight.net/catalog/neck_decoration_3...</td>\n",
       "    </tr>\n",
       "    <tr>\n",
       "      <th>3</th>\n",
       "      <td>04-06-2024</td>\n",
       "      <td>Sunlight</td>\n",
       "      <td>\\n    Золотое шейное украшение с глиттером\\n</td>\n",
       "      <td>Шейное украшение</td>\n",
       "      <td>{'Модель': '12929-H5Y-01', 'Материал изделия':...</td>\n",
       "      <td>28990</td>\n",
       "      <td>986086</td>\n",
       "      <td>https://sunlight.net/catalog/neck_decoration_9...</td>\n",
       "    </tr>\n",
       "    <tr>\n",
       "      <th>4</th>\n",
       "      <td>04-06-2024</td>\n",
       "      <td>Sunlight</td>\n",
       "      <td>\\n    Золотой браслет\\n</td>\n",
       "      <td>Браслеты</td>\n",
       "      <td>{'Модель': '12932-B5Y-01', 'Материал изделия':...</td>\n",
       "      <td>57990</td>\n",
       "      <td>986078</td>\n",
       "      <td>https://sunlight.net/catalog/bracelets_986078....</td>\n",
       "    </tr>\n",
       "    <tr>\n",
       "      <th>...</th>\n",
       "      <td>...</td>\n",
       "      <td>...</td>\n",
       "      <td>...</td>\n",
       "      <td>...</td>\n",
       "      <td>...</td>\n",
       "      <td>...</td>\n",
       "      <td>...</td>\n",
       "      <td>...</td>\n",
       "    </tr>\n",
       "    <tr>\n",
       "      <th>14561</th>\n",
       "      <td>04-06-2024</td>\n",
       "      <td>Sunlight</td>\n",
       "      <td>\\n    Золотые серьги с бриллиантами\\n</td>\n",
       "      <td>Серьги</td>\n",
       "      <td>{'Модель': '0275-C5M-02', 'Материал изделия': ...</td>\n",
       "      <td>21990</td>\n",
       "      <td>55703</td>\n",
       "      <td>https://sunlight.net/catalog/earring_55703.html</td>\n",
       "    </tr>\n",
       "    <tr>\n",
       "      <th>14562</th>\n",
       "      <td>04-06-2024</td>\n",
       "      <td>Sunlight</td>\n",
       "      <td>\\n    Золотой крест-подвеска\\n</td>\n",
       "      <td>Крест-подвеска</td>\n",
       "      <td>{'Модель': '14592.1*', 'Материал изделия': 'Бе...</td>\n",
       "      <td>3990</td>\n",
       "      <td>288514</td>\n",
       "      <td>https://sunlight.net/catalog/pendants_288514.html</td>\n",
       "    </tr>\n",
       "    <tr>\n",
       "      <th>14563</th>\n",
       "      <td>04-06-2024</td>\n",
       "      <td>Sunlight</td>\n",
       "      <td>\\n    Золотое кольцо с фианитами\\n</td>\n",
       "      <td>Кольца</td>\n",
       "      <td>{'Модель': '20-02-0001-12622*', 'Материал изде...</td>\n",
       "      <td>13990</td>\n",
       "      <td>348664</td>\n",
       "      <td>https://sunlight.net/catalog/ring_261669.html</td>\n",
       "    </tr>\n",
       "    <tr>\n",
       "      <th>14564</th>\n",
       "      <td>04-06-2024</td>\n",
       "      <td>Sunlight</td>\n",
       "      <td>\\n    Золотое кольцо с сапфирами и бриллиантам...</td>\n",
       "      <td>Кольца</td>\n",
       "      <td>{'Модель': '73061-K5R-01', 'Материал изделия':...</td>\n",
       "      <td>15990</td>\n",
       "      <td>341090</td>\n",
       "      <td>https://sunlight.net/catalog/ring_341090.html</td>\n",
       "    </tr>\n",
       "    <tr>\n",
       "      <th>14565</th>\n",
       "      <td>04-06-2024</td>\n",
       "      <td>Sunlight</td>\n",
       "      <td>\\n    Золотая подвеска с бриллиантами\\n</td>\n",
       "      <td>Подвески</td>\n",
       "      <td>{'Модель': '73691-P5R-01', 'Материал изделия':...</td>\n",
       "      <td>28990</td>\n",
       "      <td>988887</td>\n",
       "      <td>https://sunlight.net/catalog/pendants_988887.html</td>\n",
       "    </tr>\n",
       "  </tbody>\n",
       "</table>\n",
       "<p>14566 rows × 8 columns</p>\n",
       "</div>"
      ],
      "text/plain": [
       "             date competitor  \\\n",
       "0      04-06-2024   Sunlight   \n",
       "1      04-06-2024   Sunlight   \n",
       "2      04-06-2024   Sunlight   \n",
       "3      04-06-2024   Sunlight   \n",
       "4      04-06-2024   Sunlight   \n",
       "...           ...        ...   \n",
       "14561  04-06-2024   Sunlight   \n",
       "14562  04-06-2024   Sunlight   \n",
       "14563  04-06-2024   Sunlight   \n",
       "14564  04-06-2024   Sunlight   \n",
       "14565  04-06-2024   Sunlight   \n",
       "\n",
       "                                                    name             group  \\\n",
       "0               \\n    Золотой браслет с бриллиантами\\n            Браслеты   \n",
       "1                              \\n    Золотой браслет\\n            Браслеты   \n",
       "2                     \\n    Золотое шейное украшение\\n    Шейное украшение   \n",
       "3         \\n    Золотое шейное украшение с глиттером\\n    Шейное украшение   \n",
       "4                              \\n    Золотой браслет\\n            Браслеты   \n",
       "...                                                  ...               ...   \n",
       "14561            \\n    Золотые серьги с бриллиантами\\n              Серьги   \n",
       "14562                   \\n    Золотой крест-подвеска\\n      Крест-подвеска   \n",
       "14563               \\n    Золотое кольцо с фианитами\\n              Кольца   \n",
       "14564  \\n    Золотое кольцо с сапфирами и бриллиантам...            Кольца   \n",
       "14565          \\n    Золотая подвеска с бриллиантами\\n            Подвески   \n",
       "\n",
       "                                                  params   price  article  \\\n",
       "0      {'Модель': '73314-B5W-01', 'Материал изделия':...  194990   986416   \n",
       "1      {'Модель': '47-00-0000-11176*', 'Материал изде...   12720   344031   \n",
       "2      {'Модель': '6150456-45*', 'Страна производства...   48480   343992   \n",
       "3      {'Модель': '12929-H5Y-01', 'Материал изделия':...   28990   986086   \n",
       "4      {'Модель': '12932-B5Y-01', 'Материал изделия':...   57990   986078   \n",
       "...                                                  ...     ...      ...   \n",
       "14561  {'Модель': '0275-C5M-02', 'Материал изделия': ...   21990    55703   \n",
       "14562  {'Модель': '14592.1*', 'Материал изделия': 'Бе...    3990   288514   \n",
       "14563  {'Модель': '20-02-0001-12622*', 'Материал изде...   13990   348664   \n",
       "14564  {'Модель': '73061-K5R-01', 'Материал изделия':...   15990   341090   \n",
       "14565  {'Модель': '73691-P5R-01', 'Материал изделия':...   28990   988887   \n",
       "\n",
       "                                                     url  \n",
       "0      https://sunlight.net/catalog/bracelets_986416....  \n",
       "1      https://sunlight.net/catalog/bracelets_344031....  \n",
       "2      https://sunlight.net/catalog/neck_decoration_3...  \n",
       "3      https://sunlight.net/catalog/neck_decoration_9...  \n",
       "4      https://sunlight.net/catalog/bracelets_986078....  \n",
       "...                                                  ...  \n",
       "14561    https://sunlight.net/catalog/earring_55703.html  \n",
       "14562  https://sunlight.net/catalog/pendants_288514.html  \n",
       "14563      https://sunlight.net/catalog/ring_261669.html  \n",
       "14564      https://sunlight.net/catalog/ring_341090.html  \n",
       "14565  https://sunlight.net/catalog/pendants_988887.html  \n",
       "\n",
       "[14566 rows x 8 columns]"
      ]
     },
     "execution_count": 21,
     "metadata": {},
     "output_type": "execute_result"
    }
   ],
   "source": [
    "data"
   ]
  },
  {
   "cell_type": "code",
   "execution_count": 22,
   "id": "c2d69699-23f3-4c83-97bc-d2aba743a4dc",
   "metadata": {
    "tags": []
   },
   "outputs": [],
   "source": [
    "data_discount = pd.DataFrame()\n",
    "for name  in all_filenames:\n",
    "    df = pd.read_csv(name)\n",
    "    data_discount = pd.concat([df, data_discount], ignore_index=True)"
   ]
  },
  {
   "cell_type": "code",
   "execution_count": 23,
   "id": "c11840f3-353f-49ae-82c8-66612a359a3e",
   "metadata": {
    "tags": []
   },
   "outputs": [],
   "source": [
    "data = data.merge(data_discount, on='article', how='left')"
   ]
  },
  {
   "cell_type": "code",
   "execution_count": 24,
   "id": "97cdcac5-2bcf-4fa4-b1f2-428f3c3fd32a",
   "metadata": {
    "tags": []
   },
   "outputs": [
    {
     "name": "stdout",
     "output_type": "stream",
     "text": [
      "<class 'pandas.core.frame.DataFrame'>\n",
      "RangeIndex: 14566 entries, 0 to 14565\n",
      "Data columns (total 12 columns):\n",
      " #   Column          Non-Null Count  Dtype \n",
      "---  ------          --------------  ----- \n",
      " 0   date            14566 non-null  object\n",
      " 1   competitor      14566 non-null  object\n",
      " 2   name            14566 non-null  object\n",
      " 3   group           14566 non-null  object\n",
      " 4   params          14566 non-null  object\n",
      " 5   price_x         14566 non-null  int64 \n",
      " 6   article         14566 non-null  int32 \n",
      " 7   url             14566 non-null  object\n",
      " 8   price_old       13723 non-null  object\n",
      " 9   price_y         14563 non-null  object\n",
      " 10  price_personal  13834 non-null  object\n",
      " 11  discount        14566 non-null  object\n",
      "dtypes: int32(1), int64(1), object(10)\n",
      "memory usage: 1.3+ MB\n"
     ]
    }
   ],
   "source": [
    "data.info()"
   ]
  },
  {
   "cell_type": "code",
   "execution_count": 25,
   "id": "049e3231-7148-4da2-848d-679b26fd5889",
   "metadata": {
    "tags": []
   },
   "outputs": [
    {
     "data": {
      "text/plain": [
       "discount\n",
       "['Цены ниже! Ещё -20%, код: НОЧЬ до 11:00']    6454\n",
       "['Цены ниже! Ещё -15%, код: НОЧЬ до 11:00']    4861\n",
       "['Цены ниже! Ещё -10%, код: НОЧЬ до 11:00']    2145\n",
       "['ХИТ-цена']                                    718\n",
       "[nan]                                           201\n",
       "['Цены ниже! Ещё -5%, код: НОЧЬ до 11:00']      107\n",
       "['Цены снижены! Ещё -15%, код: СЕГОДНЯ']         74\n",
       "['ХИТ-цена', 'Выгодно! Золото 5 290 р/г']         6\n",
       "Name: count, dtype: int64"
      ]
     },
     "execution_count": 25,
     "metadata": {},
     "output_type": "execute_result"
    }
   ],
   "source": [
    "data['discount'].value_counts()"
   ]
  },
  {
   "cell_type": "code",
   "execution_count": 26,
   "id": "1c16ae65-7ea8-4d57-994f-45815b15bbe3",
   "metadata": {
    "tags": []
   },
   "outputs": [
    {
     "data": {
      "text/html": [
       "<div>\n",
       "<style scoped>\n",
       "    .dataframe tbody tr th:only-of-type {\n",
       "        vertical-align: middle;\n",
       "    }\n",
       "\n",
       "    .dataframe tbody tr th {\n",
       "        vertical-align: top;\n",
       "    }\n",
       "\n",
       "    .dataframe thead th {\n",
       "        text-align: right;\n",
       "    }\n",
       "</style>\n",
       "<table border=\"1\" class=\"dataframe\">\n",
       "  <thead>\n",
       "    <tr style=\"text-align: right;\">\n",
       "      <th></th>\n",
       "      <th>date</th>\n",
       "      <th>competitor</th>\n",
       "      <th>name</th>\n",
       "      <th>group</th>\n",
       "      <th>params</th>\n",
       "      <th>price_x</th>\n",
       "      <th>article</th>\n",
       "      <th>url</th>\n",
       "      <th>price_old</th>\n",
       "      <th>price_y</th>\n",
       "      <th>price_personal</th>\n",
       "      <th>discount</th>\n",
       "    </tr>\n",
       "  </thead>\n",
       "  <tbody>\n",
       "    <tr>\n",
       "      <th>0</th>\n",
       "      <td>04-06-2024</td>\n",
       "      <td>Sunlight</td>\n",
       "      <td>\\n    Золотой браслет с бриллиантами\\n</td>\n",
       "      <td>Браслеты</td>\n",
       "      <td>{'Модель': '73314-B5W-01', 'Материал изделия':...</td>\n",
       "      <td>194990</td>\n",
       "      <td>986416</td>\n",
       "      <td>https://sunlight.net/catalog/bracelets_986416....</td>\n",
       "      <td>389 980 ₽</td>\n",
       "      <td>194 990 ₽</td>\n",
       "      <td>181 991 ₽</td>\n",
       "      <td>['Цены ниже! Ещё -10%, код: НОЧЬ до 11:00']</td>\n",
       "    </tr>\n",
       "    <tr>\n",
       "      <th>1</th>\n",
       "      <td>04-06-2024</td>\n",
       "      <td>Sunlight</td>\n",
       "      <td>\\n    Золотой браслет\\n</td>\n",
       "      <td>Браслеты</td>\n",
       "      <td>{'Модель': '47-00-0000-11176*', 'Материал изде...</td>\n",
       "      <td>12720</td>\n",
       "      <td>344031</td>\n",
       "      <td>https://sunlight.net/catalog/bracelets_344031....</td>\n",
       "      <td>25 440 ₽</td>\n",
       "      <td>12 720 ₽</td>\n",
       "      <td>8 904 ₽</td>\n",
       "      <td>['Цены ниже! Ещё -15%, код: НОЧЬ до 11:00']</td>\n",
       "    </tr>\n",
       "    <tr>\n",
       "      <th>2</th>\n",
       "      <td>04-06-2024</td>\n",
       "      <td>Sunlight</td>\n",
       "      <td>\\n    Золотое шейное украшение\\n</td>\n",
       "      <td>Шейное украшение</td>\n",
       "      <td>{'Модель': '6150456-45*', 'Страна производства...</td>\n",
       "      <td>48480</td>\n",
       "      <td>343992</td>\n",
       "      <td>https://sunlight.net/catalog/neck_decoration_3...</td>\n",
       "      <td>96 960 ₽</td>\n",
       "      <td>48 480 ₽</td>\n",
       "      <td>35 481 ₽</td>\n",
       "      <td>['Цены ниже! Ещё -15%, код: НОЧЬ до 11:00']</td>\n",
       "    </tr>\n",
       "    <tr>\n",
       "      <th>3</th>\n",
       "      <td>04-06-2024</td>\n",
       "      <td>Sunlight</td>\n",
       "      <td>\\n    Золотое шейное украшение с глиттером\\n</td>\n",
       "      <td>Шейное украшение</td>\n",
       "      <td>{'Модель': '12929-H5Y-01', 'Материал изделия':...</td>\n",
       "      <td>28990</td>\n",
       "      <td>986086</td>\n",
       "      <td>https://sunlight.net/catalog/neck_decoration_9...</td>\n",
       "      <td>57 980 ₽</td>\n",
       "      <td>28 990 ₽</td>\n",
       "      <td>20 293 ₽</td>\n",
       "      <td>['Цены ниже! Ещё -20%, код: НОЧЬ до 11:00']</td>\n",
       "    </tr>\n",
       "    <tr>\n",
       "      <th>4</th>\n",
       "      <td>04-06-2024</td>\n",
       "      <td>Sunlight</td>\n",
       "      <td>\\n    Золотой браслет\\n</td>\n",
       "      <td>Браслеты</td>\n",
       "      <td>{'Модель': '12932-B5Y-01', 'Материал изделия':...</td>\n",
       "      <td>57990</td>\n",
       "      <td>986078</td>\n",
       "      <td>https://sunlight.net/catalog/bracelets_986078....</td>\n",
       "      <td>115 980 ₽</td>\n",
       "      <td>57 990 ₽</td>\n",
       "      <td>44 991 ₽</td>\n",
       "      <td>['Цены ниже! Ещё -20%, код: НОЧЬ до 11:00']</td>\n",
       "    </tr>\n",
       "    <tr>\n",
       "      <th>5</th>\n",
       "      <td>04-06-2024</td>\n",
       "      <td>Sunlight</td>\n",
       "      <td>\\n    Золотое кольцо с бриллиантами\\n</td>\n",
       "      <td>Кольца</td>\n",
       "      <td>{'Модель': '71409-K5W-02', 'Материал изделия':...</td>\n",
       "      <td>74990</td>\n",
       "      <td>985936</td>\n",
       "      <td>https://sunlight.net/catalog/ring_985936.html</td>\n",
       "      <td>149 980 ₽</td>\n",
       "      <td>74 990 ₽</td>\n",
       "      <td>61 991 ₽</td>\n",
       "      <td>['Цены ниже! Ещё -20%, код: НОЧЬ до 11:00']</td>\n",
       "    </tr>\n",
       "    <tr>\n",
       "      <th>6</th>\n",
       "      <td>04-06-2024</td>\n",
       "      <td>Sunlight</td>\n",
       "      <td>\\n    Золотой браслет с бриллиантами\\n</td>\n",
       "      <td>Браслеты</td>\n",
       "      <td>{'Модель': '73353-B5R-01', 'Материал изделия':...</td>\n",
       "      <td>399990</td>\n",
       "      <td>985849</td>\n",
       "      <td>https://sunlight.net/catalog/bracelets_985849....</td>\n",
       "      <td>799 980 ₽</td>\n",
       "      <td>399 990 ₽</td>\n",
       "      <td>386 991 ₽</td>\n",
       "      <td>['Цены ниже! Ещё -20%, код: НОЧЬ до 11:00']</td>\n",
       "    </tr>\n",
       "    <tr>\n",
       "      <th>7</th>\n",
       "      <td>04-06-2024</td>\n",
       "      <td>Sunlight</td>\n",
       "      <td>\\n    Золотая цепь\\n</td>\n",
       "      <td>Цепи</td>\n",
       "      <td>{'Модель': '01Ц012974Д*', 'Материал изделия': ...</td>\n",
       "      <td>89861</td>\n",
       "      <td>343469</td>\n",
       "      <td>https://sunlight.net/catalog/chains_343469.html</td>\n",
       "      <td>NaN</td>\n",
       "      <td>89 861 ₽</td>\n",
       "      <td>NaN</td>\n",
       "      <td>['ХИТ-цена']</td>\n",
       "    </tr>\n",
       "    <tr>\n",
       "      <th>8</th>\n",
       "      <td>04-06-2024</td>\n",
       "      <td>Sunlight</td>\n",
       "      <td>\\n    Золотая цепь\\n</td>\n",
       "      <td>Цепи</td>\n",
       "      <td>{'Модель': '45-0029-10*', 'Материал изделия': ...</td>\n",
       "      <td>85840</td>\n",
       "      <td>343447</td>\n",
       "      <td>https://sunlight.net/catalog/chains_343447.html</td>\n",
       "      <td>171 680 ₽</td>\n",
       "      <td>85 840 ₽</td>\n",
       "      <td>72 841 ₽</td>\n",
       "      <td>['Цены ниже! Ещё -20%, код: НОЧЬ до 11:00']</td>\n",
       "    </tr>\n",
       "    <tr>\n",
       "      <th>9</th>\n",
       "      <td>04-06-2024</td>\n",
       "      <td>Sunlight</td>\n",
       "      <td>\\n    Золотой браслет с фианитами\\n</td>\n",
       "      <td>Браслеты</td>\n",
       "      <td>{'Модель': '2203701*', 'Материал изделия': 'Ро...</td>\n",
       "      <td>80120</td>\n",
       "      <td>343396</td>\n",
       "      <td>https://sunlight.net/catalog/bracelets_343396....</td>\n",
       "      <td>160 240 ₽</td>\n",
       "      <td>80 120 ₽</td>\n",
       "      <td>67 121 ₽</td>\n",
       "      <td>['Цены ниже! Ещё -20%, код: НОЧЬ до 11:00']</td>\n",
       "    </tr>\n",
       "    <tr>\n",
       "      <th>10</th>\n",
       "      <td>04-06-2024</td>\n",
       "      <td>Sunlight</td>\n",
       "      <td>\\n    Золотой браслет с фианитами\\n</td>\n",
       "      <td>Браслеты</td>\n",
       "      <td>{'Модель': '2179601*', 'Материал изделия': 'Ро...</td>\n",
       "      <td>110740</td>\n",
       "      <td>343395</td>\n",
       "      <td>https://sunlight.net/catalog/bracelets_343395....</td>\n",
       "      <td>221 480 ₽</td>\n",
       "      <td>110 740 ₽</td>\n",
       "      <td>97 741 ₽</td>\n",
       "      <td>['Цены ниже! Ещё -20%, код: НОЧЬ до 11:00']</td>\n",
       "    </tr>\n",
       "    <tr>\n",
       "      <th>11</th>\n",
       "      <td>04-06-2024</td>\n",
       "      <td>Sunlight</td>\n",
       "      <td>\\n    Золотой браслет с фианитами\\n</td>\n",
       "      <td>Браслеты</td>\n",
       "      <td>{'Модель': '2174701*', 'Материал изделия': 'Ро...</td>\n",
       "      <td>191700</td>\n",
       "      <td>343394</td>\n",
       "      <td>https://sunlight.net/catalog/bracelets_343394....</td>\n",
       "      <td>383 400 ₽</td>\n",
       "      <td>191 700 ₽</td>\n",
       "      <td>178 701 ₽</td>\n",
       "      <td>['Цены ниже! Ещё -20%, код: НОЧЬ до 11:00']</td>\n",
       "    </tr>\n",
       "    <tr>\n",
       "      <th>12</th>\n",
       "      <td>04-06-2024</td>\n",
       "      <td>Sunlight</td>\n",
       "      <td>\\n    Золотой браслет с фианитами\\n</td>\n",
       "      <td>Браслеты</td>\n",
       "      <td>{'Модель': '2168401*', 'Материал изделия': 'Ро...</td>\n",
       "      <td>66300</td>\n",
       "      <td>343393</td>\n",
       "      <td>https://sunlight.net/catalog/bracelets_343393....</td>\n",
       "      <td>132 600 ₽</td>\n",
       "      <td>66 300 ₽</td>\n",
       "      <td>53 301 ₽</td>\n",
       "      <td>['Цены ниже! Ещё -20%, код: НОЧЬ до 11:00']</td>\n",
       "    </tr>\n",
       "    <tr>\n",
       "      <th>13</th>\n",
       "      <td>04-06-2024</td>\n",
       "      <td>Sunlight</td>\n",
       "      <td>\\n    Золотой браслет с фианитами\\n</td>\n",
       "      <td>Браслеты</td>\n",
       "      <td>{'Модель': '2168101*', 'Материал изделия': 'Ро...</td>\n",
       "      <td>83530</td>\n",
       "      <td>343392</td>\n",
       "      <td>https://sunlight.net/catalog/bracelets_343392....</td>\n",
       "      <td>167 060 ₽</td>\n",
       "      <td>83 530 ₽</td>\n",
       "      <td>70 531 ₽</td>\n",
       "      <td>['Цены ниже! Ещё -20%, код: НОЧЬ до 11:00']</td>\n",
       "    </tr>\n",
       "    <tr>\n",
       "      <th>14</th>\n",
       "      <td>04-06-2024</td>\n",
       "      <td>Sunlight</td>\n",
       "      <td>\\n    Золотой браслет с фианитами\\n</td>\n",
       "      <td>Браслеты</td>\n",
       "      <td>{'Модель': '2167301*', 'Материал изделия': 'Ро...</td>\n",
       "      <td>58210</td>\n",
       "      <td>343391</td>\n",
       "      <td>https://sunlight.net/catalog/bracelets_343391....</td>\n",
       "      <td>116 420 ₽</td>\n",
       "      <td>58 210 ₽</td>\n",
       "      <td>45 211 ₽</td>\n",
       "      <td>['Цены ниже! Ещё -15%, код: НОЧЬ до 11:00']</td>\n",
       "    </tr>\n",
       "    <tr>\n",
       "      <th>15</th>\n",
       "      <td>04-06-2024</td>\n",
       "      <td>Sunlight</td>\n",
       "      <td>\\n    Золотой браслет с фианитами\\n</td>\n",
       "      <td>Браслеты</td>\n",
       "      <td>{'Модель': '2158301*', 'Материал изделия': 'Ро...</td>\n",
       "      <td>95930</td>\n",
       "      <td>343389</td>\n",
       "      <td>https://sunlight.net/catalog/bracelets_343389....</td>\n",
       "      <td>191 860 ₽</td>\n",
       "      <td>95 930 ₽</td>\n",
       "      <td>82 931 ₽</td>\n",
       "      <td>['Цены ниже! Ещё -20%, код: НОЧЬ до 11:00']</td>\n",
       "    </tr>\n",
       "    <tr>\n",
       "      <th>16</th>\n",
       "      <td>04-06-2024</td>\n",
       "      <td>Sunlight</td>\n",
       "      <td>\\n    Золотой браслет\\n</td>\n",
       "      <td>Браслеты</td>\n",
       "      <td>{'Модель': '2158001*', 'Материал изделия': 'Ро...</td>\n",
       "      <td>53680</td>\n",
       "      <td>343388</td>\n",
       "      <td>https://sunlight.net/catalog/bracelets_343388....</td>\n",
       "      <td>107 360 ₽</td>\n",
       "      <td>53 680 ₽</td>\n",
       "      <td>40 681 ₽</td>\n",
       "      <td>['Цены ниже! Ещё -10%, код: НОЧЬ до 11:00']</td>\n",
       "    </tr>\n",
       "    <tr>\n",
       "      <th>17</th>\n",
       "      <td>04-06-2024</td>\n",
       "      <td>Sunlight</td>\n",
       "      <td>\\n    Золотой браслет с фианитами\\n</td>\n",
       "      <td>Браслеты</td>\n",
       "      <td>{'Модель': '2150601*', 'Материал изделия': 'Ро...</td>\n",
       "      <td>141810</td>\n",
       "      <td>343387</td>\n",
       "      <td>https://sunlight.net/catalog/bracelets_343387....</td>\n",
       "      <td>283 620 ₽</td>\n",
       "      <td>141 810 ₽</td>\n",
       "      <td>128 811 ₽</td>\n",
       "      <td>['Цены ниже! Ещё -20%, код: НОЧЬ до 11:00']</td>\n",
       "    </tr>\n",
       "    <tr>\n",
       "      <th>18</th>\n",
       "      <td>04-06-2024</td>\n",
       "      <td>Sunlight</td>\n",
       "      <td>\\n    Золотой браслет\\n</td>\n",
       "      <td>Браслеты</td>\n",
       "      <td>{'Модель': '2209001*', 'Материал изделия': 'Ро...</td>\n",
       "      <td>85440</td>\n",
       "      <td>343365</td>\n",
       "      <td>https://sunlight.net/catalog/bracelets_343365....</td>\n",
       "      <td>170 880 ₽</td>\n",
       "      <td>85 440 ₽</td>\n",
       "      <td>72 441 ₽</td>\n",
       "      <td>['Цены ниже! Ещё -15%, код: НОЧЬ до 11:00']</td>\n",
       "    </tr>\n",
       "    <tr>\n",
       "      <th>19</th>\n",
       "      <td>04-06-2024</td>\n",
       "      <td>Sunlight</td>\n",
       "      <td>\\n    Золотой браслет\\n</td>\n",
       "      <td>Браслеты</td>\n",
       "      <td>{'Модель': '01Б032998*', 'Материал изделия': '...</td>\n",
       "      <td>35070</td>\n",
       "      <td>343345</td>\n",
       "      <td>https://sunlight.net/catalog/bracelets_343345....</td>\n",
       "      <td>70 140 ₽</td>\n",
       "      <td>35 070 ₽</td>\n",
       "      <td>24 549 ₽</td>\n",
       "      <td>['Цены ниже! Ещё -10%, код: НОЧЬ до 11:00']</td>\n",
       "    </tr>\n",
       "  </tbody>\n",
       "</table>\n",
       "</div>"
      ],
      "text/plain": [
       "          date competitor                                            name  \\\n",
       "0   04-06-2024   Sunlight        \\n    Золотой браслет с бриллиантами\\n     \n",
       "1   04-06-2024   Sunlight                       \\n    Золотой браслет\\n     \n",
       "2   04-06-2024   Sunlight              \\n    Золотое шейное украшение\\n     \n",
       "3   04-06-2024   Sunlight  \\n    Золотое шейное украшение с глиттером\\n     \n",
       "4   04-06-2024   Sunlight                       \\n    Золотой браслет\\n     \n",
       "5   04-06-2024   Sunlight         \\n    Золотое кольцо с бриллиантами\\n     \n",
       "6   04-06-2024   Sunlight        \\n    Золотой браслет с бриллиантами\\n     \n",
       "7   04-06-2024   Sunlight                          \\n    Золотая цепь\\n     \n",
       "8   04-06-2024   Sunlight                          \\n    Золотая цепь\\n     \n",
       "9   04-06-2024   Sunlight           \\n    Золотой браслет с фианитами\\n     \n",
       "10  04-06-2024   Sunlight           \\n    Золотой браслет с фианитами\\n     \n",
       "11  04-06-2024   Sunlight           \\n    Золотой браслет с фианитами\\n     \n",
       "12  04-06-2024   Sunlight           \\n    Золотой браслет с фианитами\\n     \n",
       "13  04-06-2024   Sunlight           \\n    Золотой браслет с фианитами\\n     \n",
       "14  04-06-2024   Sunlight           \\n    Золотой браслет с фианитами\\n     \n",
       "15  04-06-2024   Sunlight           \\n    Золотой браслет с фианитами\\n     \n",
       "16  04-06-2024   Sunlight                       \\n    Золотой браслет\\n     \n",
       "17  04-06-2024   Sunlight           \\n    Золотой браслет с фианитами\\n     \n",
       "18  04-06-2024   Sunlight                       \\n    Золотой браслет\\n     \n",
       "19  04-06-2024   Sunlight                       \\n    Золотой браслет\\n     \n",
       "\n",
       "               group                                             params  \\\n",
       "0           Браслеты  {'Модель': '73314-B5W-01', 'Материал изделия':...   \n",
       "1           Браслеты  {'Модель': '47-00-0000-11176*', 'Материал изде...   \n",
       "2   Шейное украшение  {'Модель': '6150456-45*', 'Страна производства...   \n",
       "3   Шейное украшение  {'Модель': '12929-H5Y-01', 'Материал изделия':...   \n",
       "4           Браслеты  {'Модель': '12932-B5Y-01', 'Материал изделия':...   \n",
       "5             Кольца  {'Модель': '71409-K5W-02', 'Материал изделия':...   \n",
       "6           Браслеты  {'Модель': '73353-B5R-01', 'Материал изделия':...   \n",
       "7               Цепи  {'Модель': '01Ц012974Д*', 'Материал изделия': ...   \n",
       "8               Цепи  {'Модель': '45-0029-10*', 'Материал изделия': ...   \n",
       "9           Браслеты  {'Модель': '2203701*', 'Материал изделия': 'Ро...   \n",
       "10          Браслеты  {'Модель': '2179601*', 'Материал изделия': 'Ро...   \n",
       "11          Браслеты  {'Модель': '2174701*', 'Материал изделия': 'Ро...   \n",
       "12          Браслеты  {'Модель': '2168401*', 'Материал изделия': 'Ро...   \n",
       "13          Браслеты  {'Модель': '2168101*', 'Материал изделия': 'Ро...   \n",
       "14          Браслеты  {'Модель': '2167301*', 'Материал изделия': 'Ро...   \n",
       "15          Браслеты  {'Модель': '2158301*', 'Материал изделия': 'Ро...   \n",
       "16          Браслеты  {'Модель': '2158001*', 'Материал изделия': 'Ро...   \n",
       "17          Браслеты  {'Модель': '2150601*', 'Материал изделия': 'Ро...   \n",
       "18          Браслеты  {'Модель': '2209001*', 'Материал изделия': 'Ро...   \n",
       "19          Браслеты  {'Модель': '01Б032998*', 'Материал изделия': '...   \n",
       "\n",
       "    price_x  article                                                url  \\\n",
       "0    194990   986416  https://sunlight.net/catalog/bracelets_986416....   \n",
       "1     12720   344031  https://sunlight.net/catalog/bracelets_344031....   \n",
       "2     48480   343992  https://sunlight.net/catalog/neck_decoration_3...   \n",
       "3     28990   986086  https://sunlight.net/catalog/neck_decoration_9...   \n",
       "4     57990   986078  https://sunlight.net/catalog/bracelets_986078....   \n",
       "5     74990   985936      https://sunlight.net/catalog/ring_985936.html   \n",
       "6    399990   985849  https://sunlight.net/catalog/bracelets_985849....   \n",
       "7     89861   343469    https://sunlight.net/catalog/chains_343469.html   \n",
       "8     85840   343447    https://sunlight.net/catalog/chains_343447.html   \n",
       "9     80120   343396  https://sunlight.net/catalog/bracelets_343396....   \n",
       "10   110740   343395  https://sunlight.net/catalog/bracelets_343395....   \n",
       "11   191700   343394  https://sunlight.net/catalog/bracelets_343394....   \n",
       "12    66300   343393  https://sunlight.net/catalog/bracelets_343393....   \n",
       "13    83530   343392  https://sunlight.net/catalog/bracelets_343392....   \n",
       "14    58210   343391  https://sunlight.net/catalog/bracelets_343391....   \n",
       "15    95930   343389  https://sunlight.net/catalog/bracelets_343389....   \n",
       "16    53680   343388  https://sunlight.net/catalog/bracelets_343388....   \n",
       "17   141810   343387  https://sunlight.net/catalog/bracelets_343387....   \n",
       "18    85440   343365  https://sunlight.net/catalog/bracelets_343365....   \n",
       "19    35070   343345  https://sunlight.net/catalog/bracelets_343345....   \n",
       "\n",
       "    price_old    price_y price_personal  \\\n",
       "0   389 980 ₽  194 990 ₽      181 991 ₽   \n",
       "1    25 440 ₽   12 720 ₽        8 904 ₽   \n",
       "2    96 960 ₽   48 480 ₽       35 481 ₽   \n",
       "3    57 980 ₽   28 990 ₽       20 293 ₽   \n",
       "4   115 980 ₽   57 990 ₽       44 991 ₽   \n",
       "5   149 980 ₽   74 990 ₽       61 991 ₽   \n",
       "6   799 980 ₽  399 990 ₽      386 991 ₽   \n",
       "7         NaN   89 861 ₽            NaN   \n",
       "8   171 680 ₽   85 840 ₽       72 841 ₽   \n",
       "9   160 240 ₽   80 120 ₽       67 121 ₽   \n",
       "10  221 480 ₽  110 740 ₽       97 741 ₽   \n",
       "11  383 400 ₽  191 700 ₽      178 701 ₽   \n",
       "12  132 600 ₽   66 300 ₽       53 301 ₽   \n",
       "13  167 060 ₽   83 530 ₽       70 531 ₽   \n",
       "14  116 420 ₽   58 210 ₽       45 211 ₽   \n",
       "15  191 860 ₽   95 930 ₽       82 931 ₽   \n",
       "16  107 360 ₽   53 680 ₽       40 681 ₽   \n",
       "17  283 620 ₽  141 810 ₽      128 811 ₽   \n",
       "18  170 880 ₽   85 440 ₽       72 441 ₽   \n",
       "19   70 140 ₽   35 070 ₽       24 549 ₽   \n",
       "\n",
       "                                       discount  \n",
       "0   ['Цены ниже! Ещё -10%, код: НОЧЬ до 11:00']  \n",
       "1   ['Цены ниже! Ещё -15%, код: НОЧЬ до 11:00']  \n",
       "2   ['Цены ниже! Ещё -15%, код: НОЧЬ до 11:00']  \n",
       "3   ['Цены ниже! Ещё -20%, код: НОЧЬ до 11:00']  \n",
       "4   ['Цены ниже! Ещё -20%, код: НОЧЬ до 11:00']  \n",
       "5   ['Цены ниже! Ещё -20%, код: НОЧЬ до 11:00']  \n",
       "6   ['Цены ниже! Ещё -20%, код: НОЧЬ до 11:00']  \n",
       "7                                  ['ХИТ-цена']  \n",
       "8   ['Цены ниже! Ещё -20%, код: НОЧЬ до 11:00']  \n",
       "9   ['Цены ниже! Ещё -20%, код: НОЧЬ до 11:00']  \n",
       "10  ['Цены ниже! Ещё -20%, код: НОЧЬ до 11:00']  \n",
       "11  ['Цены ниже! Ещё -20%, код: НОЧЬ до 11:00']  \n",
       "12  ['Цены ниже! Ещё -20%, код: НОЧЬ до 11:00']  \n",
       "13  ['Цены ниже! Ещё -20%, код: НОЧЬ до 11:00']  \n",
       "14  ['Цены ниже! Ещё -15%, код: НОЧЬ до 11:00']  \n",
       "15  ['Цены ниже! Ещё -20%, код: НОЧЬ до 11:00']  \n",
       "16  ['Цены ниже! Ещё -10%, код: НОЧЬ до 11:00']  \n",
       "17  ['Цены ниже! Ещё -20%, код: НОЧЬ до 11:00']  \n",
       "18  ['Цены ниже! Ещё -15%, код: НОЧЬ до 11:00']  \n",
       "19  ['Цены ниже! Ещё -10%, код: НОЧЬ до 11:00']  "
      ]
     },
     "execution_count": 26,
     "metadata": {},
     "output_type": "execute_result"
    }
   ],
   "source": [
    "data.head(20)"
   ]
  },
  {
   "cell_type": "code",
   "execution_count": 27,
   "id": "a997900f-aa12-4dbc-bf7d-9c2307055774",
   "metadata": {
    "tags": []
   },
   "outputs": [],
   "source": [
    "data.to_csv(r'C:\\Users\\Trenkin.Sergey\\Desktop\\parsers\\workspace\\\\' + f'sunlight_all_{day_now}_{month_now}_{datetime.today().year}.csv', index=False)"
   ]
  },
  {
   "cell_type": "code",
   "execution_count": 28,
   "id": "ebff4bdd",
   "metadata": {},
   "outputs": [],
   "source": [
    "previous = pd.read_csv(r'\\\\gold585.int\\uk\\Общее хранилище файлов\\Служба аналитики\\МЮР\\parsed_data\\sunlight_raw.csv')"
   ]
  },
  {
   "cell_type": "code",
   "execution_count": 29,
   "id": "2be7142b",
   "metadata": {},
   "outputs": [],
   "source": [
    "data = pd.concat([previous, data], ignore_index=True)"
   ]
  },
  {
   "cell_type": "code",
   "execution_count": 30,
   "id": "7246895b",
   "metadata": {},
   "outputs": [
    {
     "data": {
      "text/html": [
       "<div>\n",
       "<style scoped>\n",
       "    .dataframe tbody tr th:only-of-type {\n",
       "        vertical-align: middle;\n",
       "    }\n",
       "\n",
       "    .dataframe tbody tr th {\n",
       "        vertical-align: top;\n",
       "    }\n",
       "\n",
       "    .dataframe thead th {\n",
       "        text-align: right;\n",
       "    }\n",
       "</style>\n",
       "<table border=\"1\" class=\"dataframe\">\n",
       "  <thead>\n",
       "    <tr style=\"text-align: right;\">\n",
       "      <th></th>\n",
       "      <th>date</th>\n",
       "      <th>competitor</th>\n",
       "      <th>name</th>\n",
       "      <th>group</th>\n",
       "      <th>params</th>\n",
       "      <th>price_x</th>\n",
       "      <th>article</th>\n",
       "      <th>url</th>\n",
       "      <th>price_old</th>\n",
       "      <th>price_y</th>\n",
       "      <th>price_personal</th>\n",
       "      <th>discount</th>\n",
       "    </tr>\n",
       "  </thead>\n",
       "  <tbody>\n",
       "    <tr>\n",
       "      <th>0</th>\n",
       "      <td>21-05-2024</td>\n",
       "      <td>Sunlight</td>\n",
       "      <td>\\n    Золотое кольцо с бриллиантами\\n</td>\n",
       "      <td>Кольца</td>\n",
       "      <td>{'Модель': '71409-K5W-02', 'Материал изделия':...</td>\n",
       "      <td>99990.0</td>\n",
       "      <td>985936</td>\n",
       "      <td>https://sunlight.net/catalog/ring_985936.html</td>\n",
       "      <td>199 980 ₽</td>\n",
       "      <td>99 990 ₽</td>\n",
       "      <td>82 990 ₽</td>\n",
       "      <td>['Ещё -35% по коду: ЗОЛОТО до 23:59']</td>\n",
       "    </tr>\n",
       "    <tr>\n",
       "      <th>1</th>\n",
       "      <td>21-05-2024</td>\n",
       "      <td>Sunlight</td>\n",
       "      <td>\\n    Золотой браслет с бриллиантами\\n</td>\n",
       "      <td>Браслеты</td>\n",
       "      <td>{'Модель': '73353-B5R-01', 'Материал изделия':...</td>\n",
       "      <td>399990.0</td>\n",
       "      <td>985849</td>\n",
       "      <td>https://sunlight.net/catalog/bracelets_985849....</td>\n",
       "      <td>799 980 ₽</td>\n",
       "      <td>399 990 ₽</td>\n",
       "      <td>382 990 ₽</td>\n",
       "      <td>['Второе бесплатно, код:1=2 до 27.05']</td>\n",
       "    </tr>\n",
       "    <tr>\n",
       "      <th>2</th>\n",
       "      <td>21-05-2024</td>\n",
       "      <td>Sunlight</td>\n",
       "      <td>\\n    Золотая цепь\\n</td>\n",
       "      <td>Цепи</td>\n",
       "      <td>{'Модель': '01Ц032974Д*', 'Материал изделия': ...</td>\n",
       "      <td>133820.0</td>\n",
       "      <td>343470</td>\n",
       "      <td>https://sunlight.net/catalog/chains_343470.html</td>\n",
       "      <td>267 640 ₽</td>\n",
       "      <td>133 820 ₽</td>\n",
       "      <td>116 820 ₽</td>\n",
       "      <td>['Ещё -35% по коду: ЗОЛОТО до 23:59']</td>\n",
       "    </tr>\n",
       "    <tr>\n",
       "      <th>3</th>\n",
       "      <td>21-05-2024</td>\n",
       "      <td>Sunlight</td>\n",
       "      <td>\\n    Золотая цепь\\n</td>\n",
       "      <td>Цепи</td>\n",
       "      <td>{'Модель': '01Ц012974Д*', 'Материал изделия': ...</td>\n",
       "      <td>148990.0</td>\n",
       "      <td>343469</td>\n",
       "      <td>https://sunlight.net/catalog/chains_343469.html</td>\n",
       "      <td>297 980 ₽</td>\n",
       "      <td>148 990 ₽</td>\n",
       "      <td>131 990 ₽</td>\n",
       "      <td>['Ещё -35% по коду: ЗОЛОТО до 23:59']</td>\n",
       "    </tr>\n",
       "    <tr>\n",
       "      <th>4</th>\n",
       "      <td>21-05-2024</td>\n",
       "      <td>Sunlight</td>\n",
       "      <td>\\n    Золотая цепь\\n</td>\n",
       "      <td>Цепи</td>\n",
       "      <td>{'Модель': '45-0029-10*', 'Материал изделия': ...</td>\n",
       "      <td>106200.0</td>\n",
       "      <td>343447</td>\n",
       "      <td>https://sunlight.net/catalog/chains_343447.html</td>\n",
       "      <td>212 400 ₽</td>\n",
       "      <td>106 200 ₽</td>\n",
       "      <td>89 200 ₽</td>\n",
       "      <td>['Ещё -35% по коду: ЗОЛОТО до 23:59']</td>\n",
       "    </tr>\n",
       "    <tr>\n",
       "      <th>...</th>\n",
       "      <td>...</td>\n",
       "      <td>...</td>\n",
       "      <td>...</td>\n",
       "      <td>...</td>\n",
       "      <td>...</td>\n",
       "      <td>...</td>\n",
       "      <td>...</td>\n",
       "      <td>...</td>\n",
       "      <td>...</td>\n",
       "      <td>...</td>\n",
       "      <td>...</td>\n",
       "      <td>...</td>\n",
       "    </tr>\n",
       "    <tr>\n",
       "      <th>57787</th>\n",
       "      <td>04-06-2024</td>\n",
       "      <td>Sunlight</td>\n",
       "      <td>\\n    Золотые серьги с бриллиантами\\n</td>\n",
       "      <td>Серьги</td>\n",
       "      <td>{'Модель': '0275-C5M-02', 'Материал изделия': ...</td>\n",
       "      <td>21990.0</td>\n",
       "      <td>55703</td>\n",
       "      <td>https://sunlight.net/catalog/earring_55703.html</td>\n",
       "      <td>NaN</td>\n",
       "      <td>21 990 ₽</td>\n",
       "      <td>NaN</td>\n",
       "      <td>['ХИТ-цена']</td>\n",
       "    </tr>\n",
       "    <tr>\n",
       "      <th>57788</th>\n",
       "      <td>04-06-2024</td>\n",
       "      <td>Sunlight</td>\n",
       "      <td>\\n    Золотой крест-подвеска\\n</td>\n",
       "      <td>Крест-подвеска</td>\n",
       "      <td>{'Модель': '14592.1*', 'Материал изделия': 'Бе...</td>\n",
       "      <td>3990.0</td>\n",
       "      <td>288514</td>\n",
       "      <td>https://sunlight.net/catalog/pendants_288514.html</td>\n",
       "      <td>NaN</td>\n",
       "      <td>3 990 ₽</td>\n",
       "      <td>NaN</td>\n",
       "      <td>['ХИТ-цена']</td>\n",
       "    </tr>\n",
       "    <tr>\n",
       "      <th>57789</th>\n",
       "      <td>04-06-2024</td>\n",
       "      <td>Sunlight</td>\n",
       "      <td>\\n    Золотое кольцо с фианитами\\n</td>\n",
       "      <td>Кольца</td>\n",
       "      <td>{'Модель': '20-02-0001-12622*', 'Материал изде...</td>\n",
       "      <td>13990.0</td>\n",
       "      <td>348664</td>\n",
       "      <td>https://sunlight.net/catalog/ring_261669.html</td>\n",
       "      <td>27 980 ₽</td>\n",
       "      <td>13 990 ₽</td>\n",
       "      <td>9 793 ₽</td>\n",
       "      <td>['Цены ниже! Ещё -20%, код: НОЧЬ до 11:00']</td>\n",
       "    </tr>\n",
       "    <tr>\n",
       "      <th>57790</th>\n",
       "      <td>04-06-2024</td>\n",
       "      <td>Sunlight</td>\n",
       "      <td>\\n    Золотое кольцо с сапфирами и бриллиантам...</td>\n",
       "      <td>Кольца</td>\n",
       "      <td>{'Модель': '73061-K5R-01', 'Материал изделия':...</td>\n",
       "      <td>15990.0</td>\n",
       "      <td>341090</td>\n",
       "      <td>https://sunlight.net/catalog/ring_341090.html</td>\n",
       "      <td>NaN</td>\n",
       "      <td>15 990 ₽</td>\n",
       "      <td>NaN</td>\n",
       "      <td>['ХИТ-цена']</td>\n",
       "    </tr>\n",
       "    <tr>\n",
       "      <th>57791</th>\n",
       "      <td>04-06-2024</td>\n",
       "      <td>Sunlight</td>\n",
       "      <td>\\n    Золотая подвеска с бриллиантами\\n</td>\n",
       "      <td>Подвески</td>\n",
       "      <td>{'Модель': '73691-P5R-01', 'Материал изделия':...</td>\n",
       "      <td>28990.0</td>\n",
       "      <td>988887</td>\n",
       "      <td>https://sunlight.net/catalog/pendants_988887.html</td>\n",
       "      <td>57 980 ₽</td>\n",
       "      <td>28 990 ₽</td>\n",
       "      <td>20 293 ₽</td>\n",
       "      <td>['Цены ниже! Ещё -20%, код: НОЧЬ до 11:00']</td>\n",
       "    </tr>\n",
       "  </tbody>\n",
       "</table>\n",
       "<p>57792 rows × 12 columns</p>\n",
       "</div>"
      ],
      "text/plain": [
       "             date competitor  \\\n",
       "0      21-05-2024   Sunlight   \n",
       "1      21-05-2024   Sunlight   \n",
       "2      21-05-2024   Sunlight   \n",
       "3      21-05-2024   Sunlight   \n",
       "4      21-05-2024   Sunlight   \n",
       "...           ...        ...   \n",
       "57787  04-06-2024   Sunlight   \n",
       "57788  04-06-2024   Sunlight   \n",
       "57789  04-06-2024   Sunlight   \n",
       "57790  04-06-2024   Sunlight   \n",
       "57791  04-06-2024   Sunlight   \n",
       "\n",
       "                                                    name           group  \\\n",
       "0                \\n    Золотое кольцо с бриллиантами\\n            Кольца   \n",
       "1               \\n    Золотой браслет с бриллиантами\\n          Браслеты   \n",
       "2                                 \\n    Золотая цепь\\n              Цепи   \n",
       "3                                 \\n    Золотая цепь\\n              Цепи   \n",
       "4                                 \\n    Золотая цепь\\n              Цепи   \n",
       "...                                                  ...             ...   \n",
       "57787            \\n    Золотые серьги с бриллиантами\\n            Серьги   \n",
       "57788                   \\n    Золотой крест-подвеска\\n    Крест-подвеска   \n",
       "57789               \\n    Золотое кольцо с фианитами\\n            Кольца   \n",
       "57790  \\n    Золотое кольцо с сапфирами и бриллиантам...          Кольца   \n",
       "57791          \\n    Золотая подвеска с бриллиантами\\n          Подвески   \n",
       "\n",
       "                                                  params   price_x  article  \\\n",
       "0      {'Модель': '71409-K5W-02', 'Материал изделия':...   99990.0   985936   \n",
       "1      {'Модель': '73353-B5R-01', 'Материал изделия':...  399990.0   985849   \n",
       "2      {'Модель': '01Ц032974Д*', 'Материал изделия': ...  133820.0   343470   \n",
       "3      {'Модель': '01Ц012974Д*', 'Материал изделия': ...  148990.0   343469   \n",
       "4      {'Модель': '45-0029-10*', 'Материал изделия': ...  106200.0   343447   \n",
       "...                                                  ...       ...      ...   \n",
       "57787  {'Модель': '0275-C5M-02', 'Материал изделия': ...   21990.0    55703   \n",
       "57788  {'Модель': '14592.1*', 'Материал изделия': 'Бе...    3990.0   288514   \n",
       "57789  {'Модель': '20-02-0001-12622*', 'Материал изде...   13990.0   348664   \n",
       "57790  {'Модель': '73061-K5R-01', 'Материал изделия':...   15990.0   341090   \n",
       "57791  {'Модель': '73691-P5R-01', 'Материал изделия':...   28990.0   988887   \n",
       "\n",
       "                                                     url  price_old  \\\n",
       "0          https://sunlight.net/catalog/ring_985936.html  199 980 ₽   \n",
       "1      https://sunlight.net/catalog/bracelets_985849....  799 980 ₽   \n",
       "2        https://sunlight.net/catalog/chains_343470.html  267 640 ₽   \n",
       "3        https://sunlight.net/catalog/chains_343469.html  297 980 ₽   \n",
       "4        https://sunlight.net/catalog/chains_343447.html  212 400 ₽   \n",
       "...                                                  ...        ...   \n",
       "57787    https://sunlight.net/catalog/earring_55703.html        NaN   \n",
       "57788  https://sunlight.net/catalog/pendants_288514.html        NaN   \n",
       "57789      https://sunlight.net/catalog/ring_261669.html   27 980 ₽   \n",
       "57790      https://sunlight.net/catalog/ring_341090.html        NaN   \n",
       "57791  https://sunlight.net/catalog/pendants_988887.html   57 980 ₽   \n",
       "\n",
       "         price_y price_personal                                     discount  \n",
       "0       99 990 ₽       82 990 ₽        ['Ещё -35% по коду: ЗОЛОТО до 23:59']  \n",
       "1      399 990 ₽      382 990 ₽       ['Второе бесплатно, код:1=2 до 27.05']  \n",
       "2      133 820 ₽      116 820 ₽        ['Ещё -35% по коду: ЗОЛОТО до 23:59']  \n",
       "3      148 990 ₽      131 990 ₽        ['Ещё -35% по коду: ЗОЛОТО до 23:59']  \n",
       "4      106 200 ₽       89 200 ₽        ['Ещё -35% по коду: ЗОЛОТО до 23:59']  \n",
       "...          ...            ...                                          ...  \n",
       "57787   21 990 ₽            NaN                                 ['ХИТ-цена']  \n",
       "57788    3 990 ₽            NaN                                 ['ХИТ-цена']  \n",
       "57789   13 990 ₽        9 793 ₽  ['Цены ниже! Ещё -20%, код: НОЧЬ до 11:00']  \n",
       "57790   15 990 ₽            NaN                                 ['ХИТ-цена']  \n",
       "57791   28 990 ₽       20 293 ₽  ['Цены ниже! Ещё -20%, код: НОЧЬ до 11:00']  \n",
       "\n",
       "[57792 rows x 12 columns]"
      ]
     },
     "execution_count": 30,
     "metadata": {},
     "output_type": "execute_result"
    }
   ],
   "source": [
    "data"
   ]
  },
  {
   "cell_type": "code",
   "execution_count": 31,
   "id": "881f3ca7",
   "metadata": {},
   "outputs": [],
   "source": [
    "data.to_csv(rf'\\\\gold585.int\\uk\\Общее хранилище файлов\\Служба аналитики\\МЮР\\parsed_data\\sunlight_raw.csv', index=False)"
   ]
  },
  {
   "cell_type": "code",
   "execution_count": 32,
   "id": "c79f2675",
   "metadata": {},
   "outputs": [],
   "source": [
    "def delete_files_in_folder(folder_path):\n",
    "    for filename in os.listdir(folder_path):\n",
    "        file_path = os.path.join(folder_path, filename)\n",
    "        try:\n",
    "            if os.path.isfile(file_path):\n",
    "                os.remove(file_path)\n",
    "        except Exception as e:\n",
    "            print(f'Ошибка при удалении файла {file_path}. {e}')"
   ]
  },
  {
   "cell_type": "code",
   "execution_count": 33,
   "id": "4fc475c1",
   "metadata": {},
   "outputs": [],
   "source": [
    "delete_files_in_folder('C:\\\\Users\\Trenkin.Sergey\\Desktop\\parsers\\sunlight_current_data')\n",
    "delete_files_in_folder('C:\\\\Users\\Trenkin.Sergey\\Desktop\\parsers\\sunlight_current_data\\discounts')"
   ]
  },
  {
   "cell_type": "code",
   "execution_count": null,
   "id": "1c889881",
   "metadata": {},
   "outputs": [],
   "source": []
  }
 ],
 "metadata": {
  "kernelspec": {
   "display_name": "Python 3 (ipykernel)",
   "language": "python",
   "name": "python3"
  },
  "language_info": {
   "codemirror_mode": {
    "name": "ipython",
    "version": 3
   },
   "file_extension": ".py",
   "mimetype": "text/x-python",
   "name": "python",
   "nbconvert_exporter": "python",
   "pygments_lexer": "ipython3",
   "version": "3.12.0"
  }
 },
 "nbformat": 4,
 "nbformat_minor": 5
}
