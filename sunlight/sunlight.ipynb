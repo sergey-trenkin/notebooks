{
 "cells": [
  {
   "cell_type": "code",
   "execution_count": 1,
   "id": "0de2798c-82a4-4564-9f25-675ef49ea9a7",
   "metadata": {
    "tags": []
   },
   "outputs": [],
   "source": [
    "import json\n",
    "import re\n",
    "import time\n",
    "import requests\n",
    "import numpy as np\n",
    "import pandas as pd\n",
    "import os\n",
    "import glob\n",
    "from tqdm import tqdm\n",
    "from datetime import datetime\n",
    "from bs4 import BeautifulSoup\n",
    "from fake_useragent import UserAgent\n",
    "import warnings\n",
    "warnings.filterwarnings('ignore')\n",
    "from random import choice"
   ]
  },
  {
   "cell_type": "code",
   "execution_count": 2,
   "id": "6073ea0a-a53b-4c27-9a06-2c13d2c38e0e",
   "metadata": {
    "tags": []
   },
   "outputs": [],
   "source": [
    "current_datetime = datetime.now().strftime(\"%d-%m-%Y\")\n",
    "month_now = datetime.now().month\n",
    "day_now = datetime.now().day"
   ]
  },
  {
   "cell_type": "code",
   "execution_count": 3,
   "id": "51d301fa",
   "metadata": {},
   "outputs": [],
   "source": [
    "way = os.getcwd()"
   ]
  },
  {
   "cell_type": "markdown",
   "id": "28c397fc-d1ff-43b7-9815-46ec328e9fb5",
   "metadata": {},
   "source": [
    "# Cookies and Headers для парсинга скидки и цены"
   ]
  },
  {
   "cell_type": "code",
   "execution_count": 4,
   "id": "8f8f8bd1-9a62-4c54-b774-8aa3a44c1d1d",
   "metadata": {
    "tags": []
   },
   "outputs": [],
   "source": [
    "cookies_discount = {\n",
    "    'tmr_lvid': '286726132090325c59b36aa6b5e4aeaa',\n",
    "    'tmr_lvidTS': '1692163620235',\n",
    "    '_ym_uid': '1692163620496112993',\n",
    "    '_ym_d': '1692163620',\n",
    "    'city_id': '118',\n",
    "    'city_name': '%D0%A1%D0%B0%D0%BD%D0%BA%D1%82-%D0%9F%D0%B5%D1%82%D0%B5%D1%80%D0%B1%D1%83%D1%80%D0%B3',\n",
    "    'city_full_name': '%D0%A1%D0%B0%D0%BD%D0%BA%D1%82-%D0%9F%D0%B5%D1%82%D0%B5%D1%80%D0%B1%D1%83%D1%80%D0%B3',\n",
    "    'region_id': '090a0c31-3b91-49a3-aa35-0c784898170b',\n",
    "    'region_name': '%D0%A1%D0%B0%D0%BD%D0%BA%D1%82-%D0%9F%D0%B5%D1%82%D0%B5%D1%80%D0%B1%D1%83%D1%80%D0%B3',\n",
    "    'region_subdomain': 'spb',\n",
    "    '_tt_enable_cookie': '1',\n",
    "    '_ttp': 'tbKEEA3IkGrgdKpaT6-HRNf0K8h',\n",
    "    'ccart': 'off',\n",
    "    'uxs_uid': '898ab7e0-3bf5-11ee-8efe-f5b770db12a1',\n",
    "    'loggedin': '%D0%AE%D1%80%D0%B8%D0%B9',\n",
    "    'cseid': 'f4935df6bdac0029832e99cef94a5bc2',\n",
    "    'sessionid': 'nr24mlml3ze25rk734gkkmgx3yv9ou7x',\n",
    "    'authorization': 'true',\n",
    "    'mindboxDeviceUUID': 'c254fa3f-cfcd-4146-9778-65be21c6a4df',\n",
    "    'directCrm-session': '%7B%22deviceGuid%22%3A%22c254fa3f-cfcd-4146-9778-65be21c6a4df%22%7D',\n",
    "    'auid': '651660ce-a06e-4b17-bd6f-69feaf135b08:1r5lu8:WYtTZugo2xVE6SqAc5ZSp_W-n1s5ztPHYxPs8YIwGQA',\n",
    "    '_ga_G74SVHM1ZG': 'GS1.2.1700824600.19.0.1700824600.60.0.0',\n",
    "    '_ga_GRDJMMMRHQ': 'GS1.2.1700824600.33.0.1700824601.59.0.0',\n",
    "    '_ga_GRSMPDQ6SE': 'GS1.2.1700824598.88.1.1700825516.60.0.0',\n",
    "    '_ga_M9ZHPEJXBM': 'GS1.2.1700824599.88.1.1700825517.60.0.0',\n",
    "    'qr-go-to-the-app-banner': '1',\n",
    "    'sncid': 'b36ee46b-981d-11e5-add2-0050568f2465:1rBa43:O1Wy8KuwGDddSCM7NMHFsjGhdPaqxcjhdblvWWbVams',\n",
    "    'clt': 'new_old',\n",
    "    '_ym_isad': '2',\n",
    "    '_gid': 'GA1.2.2131018395.1702274408',\n",
    "    'city_auto_popup_shown': '1',\n",
    "    '_ym_visorc': 'b',\n",
    "    '_ga': 'GA1.2.333284150.1692163620',\n",
    "    '_ga_HJNSJ6NG5J': 'GS1.1.1702276831.120.1.1702280271.20.0.0',\n",
    "    'digi_uc': 'W1sidiIsIjM0OTMxNCIsMTcwMjI4MTIxMjA0Nl0sWyJ2IiwiODQwMjIiLDE3MDIyODAyMzEzNjZdLFsidiIsIjQ2Nzk3IiwxNzAyMjgwMTI4Mzc3XSxbInYiLCI5OTM3NTQiLDE3MDIyNzgwMTczMjddLFsidiIsIjE0NjUyMSIsMTcwMjI3NzI5NDExM10sWyJ2IiwiOTI2ODAiLDE3MDIyNzY5NDQ1NDRdLFsidiIsIjg4MjEzIiwxNzAxODU5MjE3OTg0XSxbInYiLCI5MTAyMSIsMTcwMTg1OTA2ODA2MF0sWyJ2IiwiOTg3MDUwIiwxNzAxNzc4NDc0NzY5XSxbInYiLCIyNTYyMTciLDE3MDEzNDIzNTc4NTRdXQ==',\n",
    "}\n",
    "\n",
    "headers_discount = {\n",
    "    'AB-TESTS': '{}',\n",
    "    'Accept': 'application/json, text/javascript, */*; q=0.01',\n",
    "    'Accept-Language': 'ru-RU,ru;q=0.9,en-US;q=0.8,en;q=0.7',\n",
    "    'Connection': 'keep-alive',\n",
    "    'Content-Type': 'application/json',\n",
    "    # 'Cookie': 'tmr_lvid=286726132090325c59b36aa6b5e4aeaa; tmr_lvidTS=1692163620235; _ym_uid=1692163620496112993; _ym_d=1692163620; city_id=118; city_name=%D0%A1%D0%B0%D0%BD%D0%BA%D1%82-%D0%9F%D0%B5%D1%82%D0%B5%D1%80%D0%B1%D1%83%D1%80%D0%B3; city_full_name=%D0%A1%D0%B0%D0%BD%D0%BA%D1%82-%D0%9F%D0%B5%D1%82%D0%B5%D1%80%D0%B1%D1%83%D1%80%D0%B3; region_id=090a0c31-3b91-49a3-aa35-0c784898170b; region_name=%D0%A1%D0%B0%D0%BD%D0%BA%D1%82-%D0%9F%D0%B5%D1%82%D0%B5%D1%80%D0%B1%D1%83%D1%80%D0%B3; region_subdomain=spb; _tt_enable_cookie=1; _ttp=tbKEEA3IkGrgdKpaT6-HRNf0K8h; ccart=off; uxs_uid=898ab7e0-3bf5-11ee-8efe-f5b770db12a1; loggedin=%D0%AE%D1%80%D0%B8%D0%B9; cseid=f4935df6bdac0029832e99cef94a5bc2; sessionid=nr24mlml3ze25rk734gkkmgx3yv9ou7x; authorization=true; mindboxDeviceUUID=c254fa3f-cfcd-4146-9778-65be21c6a4df; directCrm-session=%7B%22deviceGuid%22%3A%22c254fa3f-cfcd-4146-9778-65be21c6a4df%22%7D; auid=651660ce-a06e-4b17-bd6f-69feaf135b08:1r5lu8:WYtTZugo2xVE6SqAc5ZSp_W-n1s5ztPHYxPs8YIwGQA; _ga_G74SVHM1ZG=GS1.2.1700824600.19.0.1700824600.60.0.0; _ga_GRDJMMMRHQ=GS1.2.1700824600.33.0.1700824601.59.0.0; _ga_GRSMPDQ6SE=GS1.2.1700824598.88.1.1700825516.60.0.0; _ga_M9ZHPEJXBM=GS1.2.1700824599.88.1.1700825517.60.0.0; qr-go-to-the-app-banner=1; sncid=b36ee46b-981d-11e5-add2-0050568f2465:1rBa43:O1Wy8KuwGDddSCM7NMHFsjGhdPaqxcjhdblvWWbVams; clt=new_old; _ym_isad=2; _gid=GA1.2.2131018395.1702274408; city_auto_popup_shown=1; _ym_visorc=b; _ga=GA1.2.333284150.1692163620; _ga_HJNSJ6NG5J=GS1.1.1702276831.120.1.1702280271.20.0.0; digi_uc=W1sidiIsIjM0OTMxNCIsMTcwMjI4MTIxMjA0Nl0sWyJ2IiwiODQwMjIiLDE3MDIyODAyMzEzNjZdLFsidiIsIjQ2Nzk3IiwxNzAyMjgwMTI4Mzc3XSxbInYiLCI5OTM3NTQiLDE3MDIyNzgwMTczMjddLFsidiIsIjE0NjUyMSIsMTcwMjI3NzI5NDExM10sWyJ2IiwiOTI2ODAiLDE3MDIyNzY5NDQ1NDRdLFsidiIsIjg4MjEzIiwxNzAxODU5MjE3OTg0XSxbInYiLCI5MTAyMSIsMTcwMTg1OTA2ODA2MF0sWyJ2IiwiOTg3MDUwIiwxNzAxNzc4NDc0NzY5XSxbInYiLCIyNTYyMTciLDE3MDEzNDIzNTc4NTRdXQ==',\n",
    "    'Origin': 'https://spb.sunlight.net',\n",
    "    'Sec-Fetch-Dest': 'empty',\n",
    "    'Sec-Fetch-Mode': 'cors',\n",
    "    'Sec-Fetch-Site': 'same-site',\n",
    "    'User-Agent': 'Mozilla/5.0 (Windows NT 10.0; Win64; x64) AppleWebKit/537.36 (KHTML, like Gecko) Chrome/120.0.0.0 Safari/537.36',\n",
    "    'X-Requested-With': 'SunlightFrontendApp',\n",
    "    'sec-ch-ua': '\"Not_A Brand\";v=\"8\", \"Chromium\";v=\"120\", \"Google Chrome\";v=\"120\"',\n",
    "    'sec-ch-ua-mobile': '?0',\n",
    "    'sec-ch-ua-platform': '\"Windows\"',\n",
    "}\n",
    "\n",
    "# params = {\n",
    "#     'article': '35517',\n",
    "#     'city_id': '118',\n",
    "# }\n",
    "\n",
    "# response = requests.get(\n",
    "#     'https://api.sunlight.net/v6/catalog/products/card/purchase/',\n",
    "#     params=params,\n",
    "#     cookies=cookies_discount,\n",
    "#     headers=headers_discount,\n",
    "# )"
   ]
  },
  {
   "cell_type": "markdown",
   "id": "80c71c8e-ef5b-4839-9dfc-1e6182abcd2c",
   "metadata": {},
   "source": [
    "# Сбор скидок и цен"
   ]
  },
  {
   "cell_type": "code",
   "execution_count": 5,
   "id": "544d1d64-1b8a-4c62-a5b4-529f239d6cb5",
   "metadata": {
    "tags": []
   },
   "outputs": [],
   "source": [
    "def get_personal_price(table):\n",
    "    data_price = []\n",
    "    for art in tqdm(range(len(table['article']))):\n",
    "        # prx = choice(proxy_list)\n",
    "        params = {\n",
    "            'article': table['article'][art],\n",
    "            'city_id': '118'\n",
    "        }\n",
    "        try:\n",
    "            price_json = requests.get(\n",
    "                'https://api.sunlight.net/v6/catalog/products/card/prices/',\n",
    "                params=params,\n",
    "                cookies=cookies_discount,\n",
    "                headers=headers_discount,\n",
    "                timeout=15,\n",
    "                verify=False\n",
    "        )\n",
    "        except:\n",
    "            time.sleep(6)\n",
    "            price_json = requests.get(\n",
    "                'https://api.sunlight.net/v6/catalog/products/card/prices/',\n",
    "                params=params,\n",
    "                cookies=cookies_discount,\n",
    "                headers=headers_discount,\n",
    "                timeout=15,\n",
    "                verify=False\n",
    "                            )\n",
    "        try:\n",
    "            discount_json = requests.get(\n",
    "                'https://api.sunlight.net/v6/catalog/products/card/purchase/',\n",
    "                params=params,\n",
    "                cookies=cookies_discount,\n",
    "                headers=headers_discount,\n",
    "                timeout=15,\n",
    "                verify=False\n",
    "                            )\n",
    "        except:\n",
    "            time.sleep(6)\n",
    "            discount_json = requests.get(\n",
    "                'https://api.sunlight.net/v6/catalog/products/card/purchase/',\n",
    "                params=params,\n",
    "                cookies=cookies_discount,\n",
    "                headers=headers_discount,\n",
    "                timeout=15,\n",
    "                verify=False\n",
    "                            )\n",
    "        discount = []\n",
    "        try:\n",
    "            price_old = price_json.json()['content']['default_price']['base_sum']\n",
    "        except:\n",
    "            price_old = np.nan\n",
    "        try:\n",
    "            price = price_json.json()['content']['default_price'][('result_sum')]\n",
    "        except:\n",
    "            price = np.nan\n",
    "        try:\n",
    "            price_personal = price_json.json()['content']['default_price']['personal_block']['value']\n",
    "        except:\n",
    "            price_personal = np.nan\n",
    "\n",
    "        try:\n",
    "            for i in range(len(discount_json.json()['content']['nameplates'])):\n",
    "                discount.append(discount_json.json()['content']['nameplates'][i]['text']['label'])\n",
    "        except:\n",
    "            discount.append(np.nan)\n",
    "            \n",
    "        data_price.append({\n",
    "            'article': table['article'][art],\n",
    "            'price_old': price_old,\n",
    "            'price': price,\n",
    "            'price_personal': price_personal,\n",
    "            'discount': discount\n",
    "\n",
    "        })\n",
    "    return data_price"
   ]
  },
  {
   "cell_type": "markdown",
   "id": "039dc4ab-e90b-422e-a7eb-da872ef9a0cc",
   "metadata": {},
   "source": [
    "# Сбор цены, названия, группы, артикула"
   ]
  },
  {
   "cell_type": "code",
   "execution_count": 6,
   "id": "18788b3a-7f05-42fc-8856-81487b576762",
   "metadata": {},
   "outputs": [],
   "source": [
    "def get_sunlight(soup):\n",
    "    try:\n",
    "        price = soup.find(class_=\"supreme-product-card__price-discount-price\").text\n",
    "        price = re.sub(r'\\D', '', str(price))\n",
    "    except:\n",
    "        price = np.nan\n",
    "    try:\n",
    "        name_product = soup.find('h1', class_=\"supreme-product-card__info-name-title\").text\n",
    "    except:\n",
    "        name_product = np.nan\n",
    "    try:\n",
    "        group_product = soup.find_all('span', {'property': 'name'})[1].text\n",
    "    except:\n",
    "        group_product = np.nan\n",
    "    try:\n",
    "        article_product = soup.find_all('div', class_=\"supreme-product-card__info-name-article\")[0].find('span').text\n",
    "        article_product = re.sub('\\D', '', str(article_product))\n",
    "    except:\n",
    "        article_product = np.nan\n",
    "    return price, name_product, group_product, article_product"
   ]
  },
  {
   "cell_type": "markdown",
   "id": "9147182a-9bbe-4c10-99f5-e7c12cea41ac",
   "metadata": {},
   "source": [
    "# Сбор всех параметров словарем"
   ]
  },
  {
   "cell_type": "code",
   "execution_count": 7,
   "id": "54919764-c77c-48ed-87a7-f0821c4ffbd6",
   "metadata": {
    "tags": []
   },
   "outputs": [],
   "source": [
    "def get_params(soup):\n",
    "    names = []\n",
    "    values = []\n",
    "    leight = len(soup.find_all('span', {'class': 'supreme-product-card-description__item-text'}))\n",
    "    list_names = soup.find_all('div', {'class': 'supreme-product-card-description__item-title'})[-leight:]\n",
    "    for i in range(leight):\n",
    "        try:\n",
    "            nam = list_names[i].text\n",
    "            names.append(nam.replace('\\n', '').strip())\n",
    "        except:\n",
    "            names.append(np.nan)\n",
    "        try:\n",
    "            values.append(soup.find_all('span', {'class': 'supreme-product-card-description__item-text'})[i].text)\n",
    "        except:\n",
    "            values.append(np.nan)\n",
    "    sunlight_params = dict(zip(names, values))\n",
    "    return sunlight_params"
   ]
  },
  {
   "cell_type": "markdown",
   "id": "e3a98a99-7b19-4585-8689-7664e5a26baf",
   "metadata": {
    "tags": []
   },
   "source": [
    "# Сбор ссылок"
   ]
  },
  {
   "cell_type": "code",
   "execution_count": 8,
   "id": "340b4cef-0f0b-4bab-93c0-d2c5c5b79393",
   "metadata": {
    "tags": []
   },
   "outputs": [],
   "source": [
    "def get_links(url_sunlight):\n",
    "    home = 'https://sunlight.net'\n",
    "    links = []\n",
    "    pages_max = 250\n",
    "    pages = int(pages_max + 1)\n",
    "    for i in tqdm(range(1, pages)):\n",
    "        url = f'{url_sunlight}&page={i}'\n",
    "        resp = requests.get(url, headers={'User-Agent': UserAgent().chrome}, verify=False, timeout=70)\n",
    "        soup = BeautifulSoup(resp.text, 'html.parser')\n",
    "        for link in soup.find_all('div', class_=\"cl-item js-cl-item\"):\n",
    "            links.append(home + link.find('a', href=True)['href'])\n",
    "    links = list(map(lambda x: x.replace('#product-reviews', ''), links))\n",
    "    return links"
   ]
  },
  {
   "cell_type": "markdown",
   "id": "3ed459ba-afaf-4562-afd3-38fc8accc435",
   "metadata": {
    "tags": []
   },
   "source": [
    "# Общий сбор данных"
   ]
  },
  {
   "cell_type": "code",
   "execution_count": 9,
   "id": "4ff1e528-5aad-43fa-bb38-7a84fd5871d9",
   "metadata": {
    "tags": []
   },
   "outputs": [],
   "source": [
    "def sunlight_parser(links):\n",
    "    data = []\n",
    "    click = 0\n",
    "    for link_pars in tqdm(links):\n",
    "        # prx = choice(proxy_list)\n",
    "        try:\n",
    "            resp = requests.get(link_pars, headers={'User-Agent': UserAgent().chrome}, timeout=70, verify=False)\n",
    "        except:\n",
    "            time.sleep(6)\n",
    "            resp = requests.get(link_pars, headers={'User-Agent': UserAgent().chrome}, timeout=70, verify=False)\n",
    "        good = BeautifulSoup(resp.text, 'lxml')\n",
    "        data.append({\"date\": current_datetime,\n",
    "                    \"competitor\": \"Sunlight\",\n",
    "                    \"name\": get_sunlight(good)[1],\n",
    "                    \"group\": get_sunlight(good)[2],\n",
    "                    \"params\": get_params(good),\n",
    "                    \"price\": get_sunlight(good)[0],\n",
    "                    \"article\": get_sunlight(good)[3],\n",
    "                    'url': link_pars\n",
    "                    })\n",
    "        if click == 50:\n",
    "            click = 0\n",
    "            time.sleep(0.5)\n",
    "        else:\n",
    "            continue\n",
    "    data = pd.DataFrame(data)\n",
    "    return data"
   ]
  },
  {
   "cell_type": "code",
   "execution_count": 10,
   "id": "c8a8da36-e515-4a32-9e1a-da4b5607da23",
   "metadata": {
    "tags": []
   },
   "outputs": [
    {
     "name": "stderr",
     "output_type": "stream",
     "text": [
      "  0%|          | 0/250 [00:00<?, ?it/s]"
     ]
    },
    {
     "name": "stderr",
     "output_type": "stream",
     "text": [
      "100%|██████████| 250/250 [04:02<00:00,  1.03it/s]\n"
     ]
    }
   ],
   "source": [
    "links_sunlight = get_links('https://spb.sunlight.net/catalog/?proba=2494')"
   ]
  },
  {
   "cell_type": "code",
   "execution_count": 11,
   "id": "814a6cdd",
   "metadata": {},
   "outputs": [],
   "source": [
    "b = pd.DataFrame(links_sunlight)"
   ]
  },
  {
   "cell_type": "code",
   "execution_count": 12,
   "id": "9c932189",
   "metadata": {},
   "outputs": [],
   "source": [
    "b = b.drop_duplicates()"
   ]
  },
  {
   "cell_type": "code",
   "execution_count": 13,
   "id": "bbba5f83",
   "metadata": {},
   "outputs": [],
   "source": [
    "b = b[0].tolist()"
   ]
  },
  {
   "cell_type": "code",
   "execution_count": 14,
   "id": "e448f1c9-0512-4bec-a461-fccb0e3fcf80",
   "metadata": {
    "tags": []
   },
   "outputs": [],
   "source": [
    "slices = 100\n",
    "chunks = np.array_split(b, slices)"
   ]
  },
  {
   "cell_type": "code",
   "execution_count": 15,
   "id": "289e454a-ff1d-4c0c-a012-f3a6427f81df",
   "metadata": {
    "tags": []
   },
   "outputs": [
    {
     "name": "stdout",
     "output_type": "stream",
     "text": [
      "начало парсинга 51 части ссылок\n"
     ]
    },
    {
     "name": "stderr",
     "output_type": "stream",
     "text": [
      "100%|██████████| 140/140 [02:45<00:00,  1.18s/it]\n"
     ]
    },
    {
     "name": "stdout",
     "output_type": "stream",
     "text": [
      "начало парсинга 52 части ссылок\n"
     ]
    },
    {
     "name": "stderr",
     "output_type": "stream",
     "text": [
      "100%|██████████| 140/140 [02:14<00:00,  1.04it/s]\n"
     ]
    },
    {
     "name": "stdout",
     "output_type": "stream",
     "text": [
      "начало парсинга 53 части ссылок\n"
     ]
    },
    {
     "name": "stderr",
     "output_type": "stream",
     "text": [
      "100%|██████████| 140/140 [02:12<00:00,  1.05it/s]\n"
     ]
    },
    {
     "name": "stdout",
     "output_type": "stream",
     "text": [
      "начало парсинга 54 части ссылок\n"
     ]
    },
    {
     "name": "stderr",
     "output_type": "stream",
     "text": [
      "100%|██████████| 140/140 [02:08<00:00,  1.09it/s]\n"
     ]
    },
    {
     "name": "stdout",
     "output_type": "stream",
     "text": [
      "начало парсинга 55 части ссылок\n"
     ]
    },
    {
     "name": "stderr",
     "output_type": "stream",
     "text": [
      "100%|██████████| 140/140 [02:11<00:00,  1.06it/s]\n"
     ]
    },
    {
     "name": "stdout",
     "output_type": "stream",
     "text": [
      "начало парсинга 56 части ссылок\n"
     ]
    },
    {
     "name": "stderr",
     "output_type": "stream",
     "text": [
      "100%|██████████| 140/140 [02:07<00:00,  1.10it/s]\n"
     ]
    },
    {
     "name": "stdout",
     "output_type": "stream",
     "text": [
      "начало парсинга 57 части ссылок\n"
     ]
    },
    {
     "name": "stderr",
     "output_type": "stream",
     "text": [
      "100%|██████████| 140/140 [02:13<00:00,  1.05it/s]\n"
     ]
    },
    {
     "name": "stdout",
     "output_type": "stream",
     "text": [
      "начало парсинга 58 части ссылок\n"
     ]
    },
    {
     "name": "stderr",
     "output_type": "stream",
     "text": [
      "100%|██████████| 140/140 [02:13<00:00,  1.05it/s]\n"
     ]
    },
    {
     "name": "stdout",
     "output_type": "stream",
     "text": [
      "начало парсинга 59 части ссылок\n"
     ]
    },
    {
     "name": "stderr",
     "output_type": "stream",
     "text": [
      "100%|██████████| 140/140 [02:08<00:00,  1.09it/s]\n"
     ]
    },
    {
     "name": "stdout",
     "output_type": "stream",
     "text": [
      "начало парсинга 60 части ссылок\n"
     ]
    },
    {
     "name": "stderr",
     "output_type": "stream",
     "text": [
      "100%|██████████| 140/140 [02:17<00:00,  1.02it/s]\n"
     ]
    },
    {
     "name": "stdout",
     "output_type": "stream",
     "text": [
      "начало парсинга 61 части ссылок\n"
     ]
    },
    {
     "name": "stderr",
     "output_type": "stream",
     "text": [
      "100%|██████████| 139/139 [02:03<00:00,  1.12it/s]\n"
     ]
    },
    {
     "name": "stdout",
     "output_type": "stream",
     "text": [
      "начало парсинга 62 части ссылок\n"
     ]
    },
    {
     "name": "stderr",
     "output_type": "stream",
     "text": [
      "100%|██████████| 139/139 [02:00<00:00,  1.15it/s]\n"
     ]
    },
    {
     "name": "stdout",
     "output_type": "stream",
     "text": [
      "начало парсинга 63 части ссылок\n"
     ]
    },
    {
     "name": "stderr",
     "output_type": "stream",
     "text": [
      "100%|██████████| 139/139 [02:20<00:00,  1.01s/it]\n"
     ]
    },
    {
     "name": "stdout",
     "output_type": "stream",
     "text": [
      "начало парсинга 64 части ссылок\n"
     ]
    },
    {
     "name": "stderr",
     "output_type": "stream",
     "text": [
      "100%|██████████| 139/139 [02:00<00:00,  1.16it/s]\n"
     ]
    },
    {
     "name": "stdout",
     "output_type": "stream",
     "text": [
      "начало парсинга 65 части ссылок\n"
     ]
    },
    {
     "name": "stderr",
     "output_type": "stream",
     "text": [
      "100%|██████████| 139/139 [02:02<00:00,  1.13it/s]\n"
     ]
    },
    {
     "name": "stdout",
     "output_type": "stream",
     "text": [
      "начало парсинга 66 части ссылок\n"
     ]
    },
    {
     "name": "stderr",
     "output_type": "stream",
     "text": [
      "100%|██████████| 139/139 [02:08<00:00,  1.09it/s]\n"
     ]
    },
    {
     "name": "stdout",
     "output_type": "stream",
     "text": [
      "начало парсинга 67 части ссылок\n"
     ]
    },
    {
     "name": "stderr",
     "output_type": "stream",
     "text": [
      "100%|██████████| 139/139 [02:09<00:00,  1.08it/s]\n"
     ]
    },
    {
     "name": "stdout",
     "output_type": "stream",
     "text": [
      "начало парсинга 68 части ссылок\n"
     ]
    },
    {
     "name": "stderr",
     "output_type": "stream",
     "text": [
      "100%|██████████| 139/139 [02:15<00:00,  1.02it/s]\n"
     ]
    },
    {
     "name": "stdout",
     "output_type": "stream",
     "text": [
      "начало парсинга 69 части ссылок\n"
     ]
    },
    {
     "name": "stderr",
     "output_type": "stream",
     "text": [
      "100%|██████████| 139/139 [02:14<00:00,  1.04it/s]\n"
     ]
    },
    {
     "name": "stdout",
     "output_type": "stream",
     "text": [
      "начало парсинга 70 части ссылок\n"
     ]
    },
    {
     "name": "stderr",
     "output_type": "stream",
     "text": [
      "100%|██████████| 139/139 [02:13<00:00,  1.04it/s]\n"
     ]
    },
    {
     "name": "stdout",
     "output_type": "stream",
     "text": [
      "начало парсинга 71 части ссылок\n"
     ]
    },
    {
     "name": "stderr",
     "output_type": "stream",
     "text": [
      "100%|██████████| 139/139 [03:28<00:00,  1.50s/it]\n"
     ]
    },
    {
     "name": "stdout",
     "output_type": "stream",
     "text": [
      "начало парсинга 72 части ссылок\n"
     ]
    },
    {
     "name": "stderr",
     "output_type": "stream",
     "text": [
      "100%|██████████| 139/139 [02:05<00:00,  1.10it/s]\n"
     ]
    },
    {
     "name": "stdout",
     "output_type": "stream",
     "text": [
      "начало парсинга 73 части ссылок\n"
     ]
    },
    {
     "name": "stderr",
     "output_type": "stream",
     "text": [
      "100%|██████████| 139/139 [02:08<00:00,  1.08it/s]\n"
     ]
    },
    {
     "name": "stdout",
     "output_type": "stream",
     "text": [
      "начало парсинга 74 части ссылок\n"
     ]
    },
    {
     "name": "stderr",
     "output_type": "stream",
     "text": [
      "100%|██████████| 139/139 [02:05<00:00,  1.11it/s]\n"
     ]
    },
    {
     "name": "stdout",
     "output_type": "stream",
     "text": [
      "начало парсинга 75 части ссылок\n"
     ]
    },
    {
     "name": "stderr",
     "output_type": "stream",
     "text": [
      "100%|██████████| 139/139 [02:06<00:00,  1.10it/s]\n"
     ]
    },
    {
     "name": "stdout",
     "output_type": "stream",
     "text": [
      "начало парсинга 76 части ссылок\n"
     ]
    },
    {
     "name": "stderr",
     "output_type": "stream",
     "text": [
      "100%|██████████| 139/139 [02:02<00:00,  1.14it/s]\n"
     ]
    },
    {
     "name": "stdout",
     "output_type": "stream",
     "text": [
      "начало парсинга 77 части ссылок\n"
     ]
    },
    {
     "name": "stderr",
     "output_type": "stream",
     "text": [
      "100%|██████████| 139/139 [02:02<00:00,  1.13it/s]\n"
     ]
    },
    {
     "name": "stdout",
     "output_type": "stream",
     "text": [
      "начало парсинга 78 части ссылок\n"
     ]
    },
    {
     "name": "stderr",
     "output_type": "stream",
     "text": [
      "100%|██████████| 139/139 [02:10<00:00,  1.06it/s]\n"
     ]
    },
    {
     "name": "stdout",
     "output_type": "stream",
     "text": [
      "начало парсинга 79 части ссылок\n"
     ]
    },
    {
     "name": "stderr",
     "output_type": "stream",
     "text": [
      "100%|██████████| 139/139 [02:02<00:00,  1.13it/s]\n"
     ]
    },
    {
     "name": "stdout",
     "output_type": "stream",
     "text": [
      "начало парсинга 80 части ссылок\n"
     ]
    },
    {
     "name": "stderr",
     "output_type": "stream",
     "text": [
      "100%|██████████| 139/139 [02:02<00:00,  1.13it/s]\n"
     ]
    },
    {
     "name": "stdout",
     "output_type": "stream",
     "text": [
      "начало парсинга 81 части ссылок\n"
     ]
    },
    {
     "name": "stderr",
     "output_type": "stream",
     "text": [
      "100%|██████████| 139/139 [02:06<00:00,  1.10it/s]\n"
     ]
    },
    {
     "name": "stdout",
     "output_type": "stream",
     "text": [
      "начало парсинга 82 части ссылок\n"
     ]
    },
    {
     "name": "stderr",
     "output_type": "stream",
     "text": [
      "100%|██████████| 139/139 [02:04<00:00,  1.12it/s]\n"
     ]
    },
    {
     "name": "stdout",
     "output_type": "stream",
     "text": [
      "начало парсинга 83 части ссылок\n"
     ]
    },
    {
     "name": "stderr",
     "output_type": "stream",
     "text": [
      "100%|██████████| 139/139 [02:02<00:00,  1.14it/s]\n"
     ]
    },
    {
     "name": "stdout",
     "output_type": "stream",
     "text": [
      "начало парсинга 84 части ссылок\n"
     ]
    },
    {
     "name": "stderr",
     "output_type": "stream",
     "text": [
      "100%|██████████| 139/139 [02:02<00:00,  1.14it/s]\n"
     ]
    },
    {
     "name": "stdout",
     "output_type": "stream",
     "text": [
      "начало парсинга 85 части ссылок\n"
     ]
    },
    {
     "name": "stderr",
     "output_type": "stream",
     "text": [
      "100%|██████████| 139/139 [01:59<00:00,  1.16it/s]\n"
     ]
    },
    {
     "name": "stdout",
     "output_type": "stream",
     "text": [
      "начало парсинга 86 части ссылок\n"
     ]
    },
    {
     "name": "stderr",
     "output_type": "stream",
     "text": [
      "100%|██████████| 139/139 [02:02<00:00,  1.14it/s]\n"
     ]
    },
    {
     "name": "stdout",
     "output_type": "stream",
     "text": [
      "начало парсинга 87 части ссылок\n"
     ]
    },
    {
     "name": "stderr",
     "output_type": "stream",
     "text": [
      "100%|██████████| 139/139 [02:01<00:00,  1.14it/s]\n"
     ]
    },
    {
     "name": "stdout",
     "output_type": "stream",
     "text": [
      "начало парсинга 88 части ссылок\n"
     ]
    },
    {
     "name": "stderr",
     "output_type": "stream",
     "text": [
      "100%|██████████| 139/139 [02:09<00:00,  1.07it/s]\n"
     ]
    },
    {
     "name": "stdout",
     "output_type": "stream",
     "text": [
      "начало парсинга 89 части ссылок\n"
     ]
    },
    {
     "name": "stderr",
     "output_type": "stream",
     "text": [
      "100%|██████████| 139/139 [02:04<00:00,  1.11it/s]\n"
     ]
    },
    {
     "name": "stdout",
     "output_type": "stream",
     "text": [
      "начало парсинга 90 части ссылок\n"
     ]
    },
    {
     "name": "stderr",
     "output_type": "stream",
     "text": [
      "100%|██████████| 139/139 [02:06<00:00,  1.10it/s]\n"
     ]
    },
    {
     "name": "stdout",
     "output_type": "stream",
     "text": [
      "начало парсинга 91 части ссылок\n"
     ]
    },
    {
     "name": "stderr",
     "output_type": "stream",
     "text": [
      "100%|██████████| 139/139 [02:55<00:00,  1.26s/it]\n"
     ]
    },
    {
     "name": "stdout",
     "output_type": "stream",
     "text": [
      "начало парсинга 92 части ссылок\n"
     ]
    },
    {
     "name": "stderr",
     "output_type": "stream",
     "text": [
      "100%|██████████| 139/139 [02:08<00:00,  1.08it/s]\n"
     ]
    },
    {
     "name": "stdout",
     "output_type": "stream",
     "text": [
      "начало парсинга 93 части ссылок\n"
     ]
    },
    {
     "name": "stderr",
     "output_type": "stream",
     "text": [
      "100%|██████████| 139/139 [02:12<00:00,  1.05it/s]\n"
     ]
    },
    {
     "name": "stdout",
     "output_type": "stream",
     "text": [
      "начало парсинга 94 части ссылок\n"
     ]
    },
    {
     "name": "stderr",
     "output_type": "stream",
     "text": [
      "100%|██████████| 139/139 [02:09<00:00,  1.07it/s]\n"
     ]
    },
    {
     "name": "stdout",
     "output_type": "stream",
     "text": [
      "начало парсинга 95 части ссылок\n"
     ]
    },
    {
     "name": "stderr",
     "output_type": "stream",
     "text": [
      "100%|██████████| 139/139 [02:13<00:00,  1.04it/s]\n"
     ]
    },
    {
     "name": "stdout",
     "output_type": "stream",
     "text": [
      "начало парсинга 96 части ссылок\n"
     ]
    },
    {
     "name": "stderr",
     "output_type": "stream",
     "text": [
      "100%|██████████| 139/139 [02:03<00:00,  1.12it/s]\n"
     ]
    },
    {
     "name": "stdout",
     "output_type": "stream",
     "text": [
      "начало парсинга 97 части ссылок\n"
     ]
    },
    {
     "name": "stderr",
     "output_type": "stream",
     "text": [
      "100%|██████████| 139/139 [02:05<00:00,  1.11it/s]\n"
     ]
    },
    {
     "name": "stdout",
     "output_type": "stream",
     "text": [
      "начало парсинга 98 части ссылок\n"
     ]
    },
    {
     "name": "stderr",
     "output_type": "stream",
     "text": [
      "100%|██████████| 139/139 [02:00<00:00,  1.15it/s]\n"
     ]
    },
    {
     "name": "stdout",
     "output_type": "stream",
     "text": [
      "начало парсинга 99 части ссылок\n"
     ]
    },
    {
     "name": "stderr",
     "output_type": "stream",
     "text": [
      "100%|██████████| 139/139 [02:02<00:00,  1.13it/s]\n"
     ]
    },
    {
     "name": "stdout",
     "output_type": "stream",
     "text": [
      "начало парсинга 100 части ссылок\n"
     ]
    },
    {
     "name": "stderr",
     "output_type": "stream",
     "text": [
      "100%|██████████| 139/139 [01:58<00:00,  1.17it/s]\n"
     ]
    }
   ],
   "source": [
    "n = 50\n",
    "for i in range(n, slices):\n",
    "    n += 1\n",
    "    print(f'начало парсинга {n} части ссылок')\n",
    "    df = sunlight_parser(chunks[i])\n",
    "    df.to_csv(rf'{way}\\parsed_data\\sunlight_{day_now}_{month_now}_{n}.csv', index=False)\n",
    "    time.sleep(5)"
   ]
  },
  {
   "cell_type": "code",
   "execution_count": 16,
   "id": "8a8717a9-4841-4b69-8bf6-34f7026bcbb8",
   "metadata": {
    "tags": []
   },
   "outputs": [
    {
     "data": {
      "text/plain": [
       "100"
      ]
     },
     "execution_count": 16,
     "metadata": {},
     "output_type": "execute_result"
    }
   ],
   "source": [
    "os.chdir(rf'{way}\\parsed_data')\n",
    "extension = 'csv'\n",
    "all_filenames = [i for i in glob.glob('*.{}'.format(extension))]\n",
    "len(all_filenames)"
   ]
  },
  {
   "cell_type": "code",
   "execution_count": 17,
   "id": "ad28c4b5-5099-4c80-9921-03acd7d51888",
   "metadata": {
    "tags": []
   },
   "outputs": [],
   "source": [
    "data = pd.DataFrame()\n",
    "for name  in all_filenames:\n",
    "    df = pd.read_csv(name)\n",
    "    data = pd.concat([df, data], ignore_index=True)"
   ]
  },
  {
   "cell_type": "code",
   "execution_count": 18,
   "id": "ebec15b8-284a-45c7-9ab4-61f45b5bf818",
   "metadata": {
    "tags": []
   },
   "outputs": [
    {
     "data": {
      "text/html": [
       "<div>\n",
       "<style scoped>\n",
       "    .dataframe tbody tr th:only-of-type {\n",
       "        vertical-align: middle;\n",
       "    }\n",
       "\n",
       "    .dataframe tbody tr th {\n",
       "        vertical-align: top;\n",
       "    }\n",
       "\n",
       "    .dataframe thead th {\n",
       "        text-align: right;\n",
       "    }\n",
       "</style>\n",
       "<table border=\"1\" class=\"dataframe\">\n",
       "  <thead>\n",
       "    <tr style=\"text-align: right;\">\n",
       "      <th></th>\n",
       "      <th>date</th>\n",
       "      <th>competitor</th>\n",
       "      <th>name</th>\n",
       "      <th>group</th>\n",
       "      <th>params</th>\n",
       "      <th>price</th>\n",
       "      <th>article</th>\n",
       "      <th>url</th>\n",
       "    </tr>\n",
       "  </thead>\n",
       "  <tbody>\n",
       "    <tr>\n",
       "      <th>0</th>\n",
       "      <td>18-06-2024</td>\n",
       "      <td>Sunlight</td>\n",
       "      <td>NaN</td>\n",
       "      <td>Браслеты</td>\n",
       "      <td>{'Модель': '73520-B5Y-01', 'Материал изделия':...</td>\n",
       "      <td>219990.0</td>\n",
       "      <td>NaN</td>\n",
       "      <td>https://sunlight.net/catalog/bracelets_989819....</td>\n",
       "    </tr>\n",
       "    <tr>\n",
       "      <th>1</th>\n",
       "      <td>18-06-2024</td>\n",
       "      <td>Sunlight</td>\n",
       "      <td>NaN</td>\n",
       "      <td>Браслеты</td>\n",
       "      <td>{'Модель': '73751-B5Y-01', 'Материал изделия':...</td>\n",
       "      <td>699990.0</td>\n",
       "      <td>NaN</td>\n",
       "      <td>https://sunlight.net/catalog/bracelets_989802....</td>\n",
       "    </tr>\n",
       "    <tr>\n",
       "      <th>2</th>\n",
       "      <td>18-06-2024</td>\n",
       "      <td>Sunlight</td>\n",
       "      <td>NaN</td>\n",
       "      <td>Браслеты</td>\n",
       "      <td>{'Модель': '30139-B5W-02', 'Материал изделия':...</td>\n",
       "      <td>239990.0</td>\n",
       "      <td>NaN</td>\n",
       "      <td>https://sunlight.net/catalog/bracelets_989418....</td>\n",
       "    </tr>\n",
       "    <tr>\n",
       "      <th>3</th>\n",
       "      <td>18-06-2024</td>\n",
       "      <td>Sunlight</td>\n",
       "      <td>NaN</td>\n",
       "      <td>Браслеты</td>\n",
       "      <td>{'Модель': '30141-B5Y-01', 'Материал изделия':...</td>\n",
       "      <td>244990.0</td>\n",
       "      <td>NaN</td>\n",
       "      <td>https://sunlight.net/catalog/bracelets_989416....</td>\n",
       "    </tr>\n",
       "    <tr>\n",
       "      <th>4</th>\n",
       "      <td>18-06-2024</td>\n",
       "      <td>Sunlight</td>\n",
       "      <td>NaN</td>\n",
       "      <td>Браслеты</td>\n",
       "      <td>{'Модель': '30141-B5W-01', 'Материал изделия':...</td>\n",
       "      <td>239990.0</td>\n",
       "      <td>NaN</td>\n",
       "      <td>https://sunlight.net/catalog/bracelets_989415....</td>\n",
       "    </tr>\n",
       "    <tr>\n",
       "      <th>...</th>\n",
       "      <td>...</td>\n",
       "      <td>...</td>\n",
       "      <td>...</td>\n",
       "      <td>...</td>\n",
       "      <td>...</td>\n",
       "      <td>...</td>\n",
       "      <td>...</td>\n",
       "      <td>...</td>\n",
       "    </tr>\n",
       "    <tr>\n",
       "      <th>13955</th>\n",
       "      <td>18-06-2024</td>\n",
       "      <td>Sunlight</td>\n",
       "      <td>\\n    Золотые серьги с агатом и бриллиантами\\n</td>\n",
       "      <td>Серьги</td>\n",
       "      <td>{'Модель': '71794-C5R-01', 'Материал изделия':...</td>\n",
       "      <td>97990.0</td>\n",
       "      <td>310221.0</td>\n",
       "      <td>https://sunlight.net/catalog/earring_310221.html</td>\n",
       "    </tr>\n",
       "    <tr>\n",
       "      <th>13956</th>\n",
       "      <td>18-06-2024</td>\n",
       "      <td>Sunlight</td>\n",
       "      <td>\\n    Золотые серьги\\n</td>\n",
       "      <td>Серьги</td>\n",
       "      <td>{'Модель': '30906.1*', 'Материал изделия': 'Ро...</td>\n",
       "      <td>5490.0</td>\n",
       "      <td>91078.0</td>\n",
       "      <td>https://sunlight.net/catalog/earring_91078.html</td>\n",
       "    </tr>\n",
       "    <tr>\n",
       "      <th>13957</th>\n",
       "      <td>18-06-2024</td>\n",
       "      <td>Sunlight</td>\n",
       "      <td>\\n    Золотой крест-подвеска\\n</td>\n",
       "      <td>Крест-подвеска</td>\n",
       "      <td>{'Модель': '12623.1*', 'Материал изделия': 'Бе...</td>\n",
       "      <td>9990.0</td>\n",
       "      <td>88213.0</td>\n",
       "      <td>https://sunlight.net/catalog/pendants_88213.html</td>\n",
       "    </tr>\n",
       "    <tr>\n",
       "      <th>13958</th>\n",
       "      <td>18-06-2024</td>\n",
       "      <td>Sunlight</td>\n",
       "      <td>\\n    Золотые серьги с изумрудами и бриллианта...</td>\n",
       "      <td>Серьги</td>\n",
       "      <td>{'Модель': '70990-C5R-01', 'Материал изделия':...</td>\n",
       "      <td>54990.0</td>\n",
       "      <td>253164.0</td>\n",
       "      <td>https://sunlight.net/catalog/earring_253164.html</td>\n",
       "    </tr>\n",
       "    <tr>\n",
       "      <th>13959</th>\n",
       "      <td>18-06-2024</td>\n",
       "      <td>Sunlight</td>\n",
       "      <td>\\n    Золотая цепь\\n</td>\n",
       "      <td>Цепи</td>\n",
       "      <td>{'Модель': 'НЦ 12-076 0,50*', 'Материал издели...</td>\n",
       "      <td>32957.0</td>\n",
       "      <td>84022.0</td>\n",
       "      <td>https://sunlight.net/catalog/chains_84022.html</td>\n",
       "    </tr>\n",
       "  </tbody>\n",
       "</table>\n",
       "<p>13960 rows × 8 columns</p>\n",
       "</div>"
      ],
      "text/plain": [
       "             date competitor  \\\n",
       "0      18-06-2024   Sunlight   \n",
       "1      18-06-2024   Sunlight   \n",
       "2      18-06-2024   Sunlight   \n",
       "3      18-06-2024   Sunlight   \n",
       "4      18-06-2024   Sunlight   \n",
       "...           ...        ...   \n",
       "13955  18-06-2024   Sunlight   \n",
       "13956  18-06-2024   Sunlight   \n",
       "13957  18-06-2024   Sunlight   \n",
       "13958  18-06-2024   Sunlight   \n",
       "13959  18-06-2024   Sunlight   \n",
       "\n",
       "                                                    name           group  \\\n",
       "0                                                    NaN        Браслеты   \n",
       "1                                                    NaN        Браслеты   \n",
       "2                                                    NaN        Браслеты   \n",
       "3                                                    NaN        Браслеты   \n",
       "4                                                    NaN        Браслеты   \n",
       "...                                                  ...             ...   \n",
       "13955   \\n    Золотые серьги с агатом и бриллиантами\\n            Серьги   \n",
       "13956                           \\n    Золотые серьги\\n            Серьги   \n",
       "13957                   \\n    Золотой крест-подвеска\\n    Крест-подвеска   \n",
       "13958  \\n    Золотые серьги с изумрудами и бриллианта...          Серьги   \n",
       "13959                             \\n    Золотая цепь\\n              Цепи   \n",
       "\n",
       "                                                  params     price   article  \\\n",
       "0      {'Модель': '73520-B5Y-01', 'Материал изделия':...  219990.0       NaN   \n",
       "1      {'Модель': '73751-B5Y-01', 'Материал изделия':...  699990.0       NaN   \n",
       "2      {'Модель': '30139-B5W-02', 'Материал изделия':...  239990.0       NaN   \n",
       "3      {'Модель': '30141-B5Y-01', 'Материал изделия':...  244990.0       NaN   \n",
       "4      {'Модель': '30141-B5W-01', 'Материал изделия':...  239990.0       NaN   \n",
       "...                                                  ...       ...       ...   \n",
       "13955  {'Модель': '71794-C5R-01', 'Материал изделия':...   97990.0  310221.0   \n",
       "13956  {'Модель': '30906.1*', 'Материал изделия': 'Ро...    5490.0   91078.0   \n",
       "13957  {'Модель': '12623.1*', 'Материал изделия': 'Бе...    9990.0   88213.0   \n",
       "13958  {'Модель': '70990-C5R-01', 'Материал изделия':...   54990.0  253164.0   \n",
       "13959  {'Модель': 'НЦ 12-076 0,50*', 'Материал издели...   32957.0   84022.0   \n",
       "\n",
       "                                                     url  \n",
       "0      https://sunlight.net/catalog/bracelets_989819....  \n",
       "1      https://sunlight.net/catalog/bracelets_989802....  \n",
       "2      https://sunlight.net/catalog/bracelets_989418....  \n",
       "3      https://sunlight.net/catalog/bracelets_989416....  \n",
       "4      https://sunlight.net/catalog/bracelets_989415....  \n",
       "...                                                  ...  \n",
       "13955   https://sunlight.net/catalog/earring_310221.html  \n",
       "13956    https://sunlight.net/catalog/earring_91078.html  \n",
       "13957   https://sunlight.net/catalog/pendants_88213.html  \n",
       "13958   https://sunlight.net/catalog/earring_253164.html  \n",
       "13959     https://sunlight.net/catalog/chains_84022.html  \n",
       "\n",
       "[13960 rows x 8 columns]"
      ]
     },
     "execution_count": 18,
     "metadata": {},
     "output_type": "execute_result"
    }
   ],
   "source": [
    "data"
   ]
  },
  {
   "cell_type": "code",
   "execution_count": 19,
   "id": "519c7daa",
   "metadata": {},
   "outputs": [],
   "source": [
    "data.to_csv(rf'{way}\\data_without_price.csv', index = False)"
   ]
  },
  {
   "cell_type": "code",
   "execution_count": 20,
   "id": "d4a7b5de",
   "metadata": {},
   "outputs": [],
   "source": [
    "# data = pd.read_csv(r'C:\\Users\\Trenkin.Sergey\\Desktop\\parsers\\sunlight_current_data\\data_without_price.csv')"
   ]
  },
  {
   "cell_type": "code",
   "execution_count": 21,
   "id": "58337692-5eb6-4eb5-9115-f144d8abbb81",
   "metadata": {
    "tags": []
   },
   "outputs": [
    {
     "name": "stdout",
     "output_type": "stream",
     "text": [
      "<class 'pandas.core.frame.DataFrame'>\n",
      "RangeIndex: 13960 entries, 0 to 13959\n",
      "Data columns (total 8 columns):\n",
      " #   Column      Non-Null Count  Dtype  \n",
      "---  ------      --------------  -----  \n",
      " 0   date        13960 non-null  object \n",
      " 1   competitor  13960 non-null  object \n",
      " 2   name        8632 non-null   object \n",
      " 3   group       13619 non-null  object \n",
      " 4   params      13960 non-null  object \n",
      " 5   price       13619 non-null  float64\n",
      " 6   article     8632 non-null   float64\n",
      " 7   url         13960 non-null  object \n",
      "dtypes: float64(2), object(6)\n",
      "memory usage: 872.6+ KB\n"
     ]
    }
   ],
   "source": [
    "data.info()"
   ]
  },
  {
   "cell_type": "code",
   "execution_count": 22,
   "id": "8417ea87-4b5c-4a25-adab-ea9dc6aa14c4",
   "metadata": {
    "tags": []
   },
   "outputs": [
    {
     "data": {
      "text/plain": [
       "0"
      ]
     },
     "execution_count": 22,
     "metadata": {},
     "output_type": "execute_result"
    }
   ],
   "source": [
    "data.duplicated().sum()"
   ]
  },
  {
   "cell_type": "code",
   "execution_count": 23,
   "id": "0b84a2f7-e088-4e35-b146-8e062b70017c",
   "metadata": {
    "tags": []
   },
   "outputs": [],
   "source": [
    "data = data.drop_duplicates()"
   ]
  },
  {
   "cell_type": "code",
   "execution_count": 24,
   "id": "6d3ae069-d73d-479d-aade-bf0c7a7af635",
   "metadata": {
    "tags": []
   },
   "outputs": [
    {
     "data": {
      "text/plain": [
       "0"
      ]
     },
     "execution_count": 24,
     "metadata": {},
     "output_type": "execute_result"
    }
   ],
   "source": [
    "data.duplicated().sum()"
   ]
  },
  {
   "cell_type": "code",
   "execution_count": 25,
   "id": "e18e867c-20ea-4daf-ac9c-c782afdb958a",
   "metadata": {
    "tags": []
   },
   "outputs": [
    {
     "data": {
      "text/plain": [
       "5328"
      ]
     },
     "execution_count": 25,
     "metadata": {},
     "output_type": "execute_result"
    }
   ],
   "source": [
    "data['article'].isna().sum()"
   ]
  },
  {
   "cell_type": "code",
   "execution_count": 26,
   "id": "73e88350-0df1-4eaa-ac9c-5c898b1b55ce",
   "metadata": {
    "tags": []
   },
   "outputs": [],
   "source": [
    "data = data.dropna()"
   ]
  },
  {
   "cell_type": "code",
   "execution_count": 27,
   "id": "a64bce96-cffd-49ed-a32e-fcc4e915c981",
   "metadata": {
    "tags": []
   },
   "outputs": [],
   "source": [
    "data['article'] = data['article'].astype('int') "
   ]
  },
  {
   "cell_type": "code",
   "execution_count": 28,
   "id": "391d8621",
   "metadata": {},
   "outputs": [
    {
     "name": "stdout",
     "output_type": "stream",
     "text": [
      "<class 'pandas.core.frame.DataFrame'>\n",
      "Index: 8632 entries, 1390 to 13959\n",
      "Data columns (total 8 columns):\n",
      " #   Column      Non-Null Count  Dtype  \n",
      "---  ------      --------------  -----  \n",
      " 0   date        8632 non-null   object \n",
      " 1   competitor  8632 non-null   object \n",
      " 2   name        8632 non-null   object \n",
      " 3   group       8632 non-null   object \n",
      " 4   params      8632 non-null   object \n",
      " 5   price       8632 non-null   float64\n",
      " 6   article     8632 non-null   int32  \n",
      " 7   url         8632 non-null   object \n",
      "dtypes: float64(1), int32(1), object(6)\n",
      "memory usage: 573.2+ KB\n"
     ]
    }
   ],
   "source": [
    "data.info()"
   ]
  },
  {
   "cell_type": "code",
   "execution_count": 29,
   "id": "392c3f10-6d77-45d5-ba86-f7f7d8299399",
   "metadata": {
    "tags": []
   },
   "outputs": [],
   "source": [
    "test = np.array_split(data, 20)"
   ]
  },
  {
   "cell_type": "code",
   "execution_count": 30,
   "id": "47fc7bb9",
   "metadata": {},
   "outputs": [
    {
     "data": {
      "text/html": [
       "<div>\n",
       "<style scoped>\n",
       "    .dataframe tbody tr th:only-of-type {\n",
       "        vertical-align: middle;\n",
       "    }\n",
       "\n",
       "    .dataframe tbody tr th {\n",
       "        vertical-align: top;\n",
       "    }\n",
       "\n",
       "    .dataframe thead th {\n",
       "        text-align: right;\n",
       "    }\n",
       "</style>\n",
       "<table border=\"1\" class=\"dataframe\">\n",
       "  <thead>\n",
       "    <tr style=\"text-align: right;\">\n",
       "      <th></th>\n",
       "      <th>date</th>\n",
       "      <th>competitor</th>\n",
       "      <th>name</th>\n",
       "      <th>group</th>\n",
       "      <th>params</th>\n",
       "      <th>price</th>\n",
       "      <th>article</th>\n",
       "      <th>url</th>\n",
       "    </tr>\n",
       "  </thead>\n",
       "  <tbody>\n",
       "    <tr>\n",
       "      <th>1390</th>\n",
       "      <td>18-06-2024</td>\n",
       "      <td>Sunlight</td>\n",
       "      <td>\\n    Золотые серьги\\n</td>\n",
       "      <td>Серьги</td>\n",
       "      <td>{'Модель': '221223*', 'Материал изделия': 'Роз...</td>\n",
       "      <td>32990.0</td>\n",
       "      <td>87003</td>\n",
       "      <td>https://sunlight.net/catalog/earring_87003.html</td>\n",
       "    </tr>\n",
       "    <tr>\n",
       "      <th>1391</th>\n",
       "      <td>18-06-2024</td>\n",
       "      <td>Sunlight</td>\n",
       "      <td>\\n    Золотое кольцо с бриллиантами\\n</td>\n",
       "      <td>Кольца</td>\n",
       "      <td>{'Модель': '73586-K5Y-01', 'Материал изделия':...</td>\n",
       "      <td>71990.0</td>\n",
       "      <td>990408</td>\n",
       "      <td>https://sunlight.net/catalog/ring_990408.html</td>\n",
       "    </tr>\n",
       "    <tr>\n",
       "      <th>1392</th>\n",
       "      <td>18-06-2024</td>\n",
       "      <td>Sunlight</td>\n",
       "      <td>\\n    Золотая подвеска\\n</td>\n",
       "      <td>Подвески</td>\n",
       "      <td>{'Модель': '00-63-0170-00*', 'Материал изделия...</td>\n",
       "      <td>28990.0</td>\n",
       "      <td>991939</td>\n",
       "      <td>https://sunlight.net/catalog/pendants_991939.html</td>\n",
       "    </tr>\n",
       "    <tr>\n",
       "      <th>1393</th>\n",
       "      <td>18-06-2024</td>\n",
       "      <td>Sunlight</td>\n",
       "      <td>\\n    Золотые серьги с бриллиантами\\n</td>\n",
       "      <td>Серьги</td>\n",
       "      <td>{'Модель': '71221-С5R-01', 'Материал изделия':...</td>\n",
       "      <td>45990.0</td>\n",
       "      <td>275421</td>\n",
       "      <td>https://sunlight.net/catalog/earring_275421.html</td>\n",
       "    </tr>\n",
       "    <tr>\n",
       "      <th>1394</th>\n",
       "      <td>18-06-2024</td>\n",
       "      <td>Sunlight</td>\n",
       "      <td>\\n    Золотые серьги с фианитами\\n</td>\n",
       "      <td>Серьги</td>\n",
       "      <td>{'Модель': '2139881010*', 'Материал изделия': ...</td>\n",
       "      <td>23990.0</td>\n",
       "      <td>349502</td>\n",
       "      <td>https://sunlight.net/catalog/earring_349502.html</td>\n",
       "    </tr>\n",
       "    <tr>\n",
       "      <th>...</th>\n",
       "      <td>...</td>\n",
       "      <td>...</td>\n",
       "      <td>...</td>\n",
       "      <td>...</td>\n",
       "      <td>...</td>\n",
       "      <td>...</td>\n",
       "      <td>...</td>\n",
       "      <td>...</td>\n",
       "    </tr>\n",
       "    <tr>\n",
       "      <th>5292</th>\n",
       "      <td>18-06-2024</td>\n",
       "      <td>Sunlight</td>\n",
       "      <td>\\n    Золотое колье с бриллиантами\\n</td>\n",
       "      <td>Колье</td>\n",
       "      <td>{'Модель': '72553-H5R-01', 'Материал изделия':...</td>\n",
       "      <td>48990.0</td>\n",
       "      <td>329827</td>\n",
       "      <td>https://sunlight.net/catalog/necklace_329827.html</td>\n",
       "    </tr>\n",
       "    <tr>\n",
       "      <th>5298</th>\n",
       "      <td>18-06-2024</td>\n",
       "      <td>Sunlight</td>\n",
       "      <td>\\n    Золотые серьги с фианитами\\n</td>\n",
       "      <td>Серьги</td>\n",
       "      <td>{'Модель': '04-62-0153-09*', 'Материал изделия...</td>\n",
       "      <td>10490.0</td>\n",
       "      <td>348316</td>\n",
       "      <td>https://sunlight.net/catalog/earring_348316.html</td>\n",
       "    </tr>\n",
       "    <tr>\n",
       "      <th>5301</th>\n",
       "      <td>18-06-2024</td>\n",
       "      <td>Sunlight</td>\n",
       "      <td>\\n    Золотое кольцо с фианитами и ситаллами\\n</td>\n",
       "      <td>Кольца</td>\n",
       "      <td>{'Модель': '100-1645_prst-212', 'Материал изде...</td>\n",
       "      <td>36990.0</td>\n",
       "      <td>355389</td>\n",
       "      <td>https://sunlight.net/catalog/ring_355389.html</td>\n",
       "    </tr>\n",
       "    <tr>\n",
       "      <th>5304</th>\n",
       "      <td>18-06-2024</td>\n",
       "      <td>Sunlight</td>\n",
       "      <td>\\n    Золотое кольцо с ониксом и бриллиантами\\n</td>\n",
       "      <td>Кольца</td>\n",
       "      <td>{'Модель': '90095-K5Y-01', 'Покрытие': 'с элем...</td>\n",
       "      <td>57990.0</td>\n",
       "      <td>99429</td>\n",
       "      <td>https://sunlight.net/catalog/ring_99429.html</td>\n",
       "    </tr>\n",
       "    <tr>\n",
       "      <th>5305</th>\n",
       "      <td>18-06-2024</td>\n",
       "      <td>Sunlight</td>\n",
       "      <td>\\n    Золотая подвеска\\n</td>\n",
       "      <td>Подвески</td>\n",
       "      <td>{'Модель': '10118500-2*', 'Материал изделия': ...</td>\n",
       "      <td>10990.0</td>\n",
       "      <td>351281</td>\n",
       "      <td>https://sunlight.net/catalog/pendants_351281.html</td>\n",
       "    </tr>\n",
       "  </tbody>\n",
       "</table>\n",
       "<p>432 rows × 8 columns</p>\n",
       "</div>"
      ],
      "text/plain": [
       "            date competitor  \\\n",
       "1390  18-06-2024   Sunlight   \n",
       "1391  18-06-2024   Sunlight   \n",
       "1392  18-06-2024   Sunlight   \n",
       "1393  18-06-2024   Sunlight   \n",
       "1394  18-06-2024   Sunlight   \n",
       "...          ...        ...   \n",
       "5292  18-06-2024   Sunlight   \n",
       "5298  18-06-2024   Sunlight   \n",
       "5301  18-06-2024   Sunlight   \n",
       "5304  18-06-2024   Sunlight   \n",
       "5305  18-06-2024   Sunlight   \n",
       "\n",
       "                                                   name     group  \\\n",
       "1390                           \\n    Золотые серьги\\n      Серьги   \n",
       "1391            \\n    Золотое кольцо с бриллиантами\\n      Кольца   \n",
       "1392                         \\n    Золотая подвеска\\n    Подвески   \n",
       "1393            \\n    Золотые серьги с бриллиантами\\n      Серьги   \n",
       "1394               \\n    Золотые серьги с фианитами\\n      Серьги   \n",
       "...                                                 ...       ...   \n",
       "5292             \\n    Золотое колье с бриллиантами\\n       Колье   \n",
       "5298               \\n    Золотые серьги с фианитами\\n      Серьги   \n",
       "5301   \\n    Золотое кольцо с фианитами и ситаллами\\n      Кольца   \n",
       "5304  \\n    Золотое кольцо с ониксом и бриллиантами\\n      Кольца   \n",
       "5305                         \\n    Золотая подвеска\\n    Подвески   \n",
       "\n",
       "                                                 params    price  article  \\\n",
       "1390  {'Модель': '221223*', 'Материал изделия': 'Роз...  32990.0    87003   \n",
       "1391  {'Модель': '73586-K5Y-01', 'Материал изделия':...  71990.0   990408   \n",
       "1392  {'Модель': '00-63-0170-00*', 'Материал изделия...  28990.0   991939   \n",
       "1393  {'Модель': '71221-С5R-01', 'Материал изделия':...  45990.0   275421   \n",
       "1394  {'Модель': '2139881010*', 'Материал изделия': ...  23990.0   349502   \n",
       "...                                                 ...      ...      ...   \n",
       "5292  {'Модель': '72553-H5R-01', 'Материал изделия':...  48990.0   329827   \n",
       "5298  {'Модель': '04-62-0153-09*', 'Материал изделия...  10490.0   348316   \n",
       "5301  {'Модель': '100-1645_prst-212', 'Материал изде...  36990.0   355389   \n",
       "5304  {'Модель': '90095-K5Y-01', 'Покрытие': 'с элем...  57990.0    99429   \n",
       "5305  {'Модель': '10118500-2*', 'Материал изделия': ...  10990.0   351281   \n",
       "\n",
       "                                                    url  \n",
       "1390    https://sunlight.net/catalog/earring_87003.html  \n",
       "1391      https://sunlight.net/catalog/ring_990408.html  \n",
       "1392  https://sunlight.net/catalog/pendants_991939.html  \n",
       "1393   https://sunlight.net/catalog/earring_275421.html  \n",
       "1394   https://sunlight.net/catalog/earring_349502.html  \n",
       "...                                                 ...  \n",
       "5292  https://sunlight.net/catalog/necklace_329827.html  \n",
       "5298   https://sunlight.net/catalog/earring_348316.html  \n",
       "5301      https://sunlight.net/catalog/ring_355389.html  \n",
       "5304       https://sunlight.net/catalog/ring_99429.html  \n",
       "5305  https://sunlight.net/catalog/pendants_351281.html  \n",
       "\n",
       "[432 rows x 8 columns]"
      ]
     },
     "execution_count": 30,
     "metadata": {},
     "output_type": "execute_result"
    }
   ],
   "source": [
    "test[0]"
   ]
  },
  {
   "cell_type": "code",
   "execution_count": 31,
   "id": "2fff3cdb-166e-4363-a351-a3d39062e012",
   "metadata": {
    "tags": []
   },
   "outputs": [
    {
     "name": "stdout",
     "output_type": "stream",
     "text": [
      "начало парсинга 1 части ссылок\n"
     ]
    },
    {
     "name": "stderr",
     "output_type": "stream",
     "text": [
      "100%|██████████| 432/432 [05:01<00:00,  1.43it/s]\n"
     ]
    },
    {
     "name": "stdout",
     "output_type": "stream",
     "text": [
      "начало парсинга 2 части ссылок\n"
     ]
    },
    {
     "name": "stderr",
     "output_type": "stream",
     "text": [
      "100%|██████████| 432/432 [04:42<00:00,  1.53it/s]\n"
     ]
    },
    {
     "name": "stdout",
     "output_type": "stream",
     "text": [
      "начало парсинга 3 части ссылок\n"
     ]
    },
    {
     "name": "stderr",
     "output_type": "stream",
     "text": [
      "100%|██████████| 432/432 [04:39<00:00,  1.54it/s]\n"
     ]
    },
    {
     "name": "stdout",
     "output_type": "stream",
     "text": [
      "начало парсинга 4 части ссылок\n"
     ]
    },
    {
     "name": "stderr",
     "output_type": "stream",
     "text": [
      "100%|██████████| 432/432 [04:26<00:00,  1.62it/s]\n"
     ]
    },
    {
     "name": "stdout",
     "output_type": "stream",
     "text": [
      "начало парсинга 5 части ссылок\n"
     ]
    },
    {
     "name": "stderr",
     "output_type": "stream",
     "text": [
      "100%|██████████| 432/432 [04:27<00:00,  1.61it/s]\n"
     ]
    },
    {
     "name": "stdout",
     "output_type": "stream",
     "text": [
      "начало парсинга 6 части ссылок\n"
     ]
    },
    {
     "name": "stderr",
     "output_type": "stream",
     "text": [
      "100%|██████████| 432/432 [04:41<00:00,  1.54it/s]\n"
     ]
    },
    {
     "name": "stdout",
     "output_type": "stream",
     "text": [
      "начало парсинга 7 части ссылок\n"
     ]
    },
    {
     "name": "stderr",
     "output_type": "stream",
     "text": [
      "100%|██████████| 432/432 [05:09<00:00,  1.40it/s]\n"
     ]
    },
    {
     "name": "stdout",
     "output_type": "stream",
     "text": [
      "начало парсинга 8 части ссылок\n"
     ]
    },
    {
     "name": "stderr",
     "output_type": "stream",
     "text": [
      "100%|██████████| 432/432 [04:25<00:00,  1.63it/s]\n"
     ]
    },
    {
     "name": "stdout",
     "output_type": "stream",
     "text": [
      "начало парсинга 9 части ссылок\n"
     ]
    },
    {
     "name": "stderr",
     "output_type": "stream",
     "text": [
      "100%|██████████| 432/432 [04:29<00:00,  1.60it/s]\n"
     ]
    },
    {
     "name": "stdout",
     "output_type": "stream",
     "text": [
      "начало парсинга 10 части ссылок\n"
     ]
    },
    {
     "name": "stderr",
     "output_type": "stream",
     "text": [
      "100%|██████████| 432/432 [04:34<00:00,  1.57it/s]\n"
     ]
    },
    {
     "name": "stdout",
     "output_type": "stream",
     "text": [
      "начало парсинга 11 части ссылок\n"
     ]
    },
    {
     "name": "stderr",
     "output_type": "stream",
     "text": [
      "100%|██████████| 432/432 [04:25<00:00,  1.63it/s]\n"
     ]
    },
    {
     "name": "stdout",
     "output_type": "stream",
     "text": [
      "начало парсинга 12 части ссылок\n"
     ]
    },
    {
     "name": "stderr",
     "output_type": "stream",
     "text": [
      "100%|██████████| 432/432 [04:35<00:00,  1.57it/s]\n"
     ]
    },
    {
     "name": "stdout",
     "output_type": "stream",
     "text": [
      "начало парсинга 13 части ссылок\n"
     ]
    },
    {
     "name": "stderr",
     "output_type": "stream",
     "text": [
      "100%|██████████| 431/431 [04:38<00:00,  1.55it/s]\n"
     ]
    },
    {
     "name": "stdout",
     "output_type": "stream",
     "text": [
      "начало парсинга 14 части ссылок\n"
     ]
    },
    {
     "name": "stderr",
     "output_type": "stream",
     "text": [
      "100%|██████████| 431/431 [04:36<00:00,  1.56it/s]\n"
     ]
    },
    {
     "name": "stdout",
     "output_type": "stream",
     "text": [
      "начало парсинга 15 части ссылок\n"
     ]
    },
    {
     "name": "stderr",
     "output_type": "stream",
     "text": [
      "100%|██████████| 431/431 [04:40<00:00,  1.54it/s]\n"
     ]
    },
    {
     "name": "stdout",
     "output_type": "stream",
     "text": [
      "начало парсинга 16 части ссылок\n"
     ]
    },
    {
     "name": "stderr",
     "output_type": "stream",
     "text": [
      "100%|██████████| 431/431 [04:57<00:00,  1.45it/s]\n"
     ]
    },
    {
     "name": "stdout",
     "output_type": "stream",
     "text": [
      "начало парсинга 17 части ссылок\n"
     ]
    },
    {
     "name": "stderr",
     "output_type": "stream",
     "text": [
      "100%|██████████| 431/431 [04:52<00:00,  1.48it/s]\n"
     ]
    },
    {
     "name": "stdout",
     "output_type": "stream",
     "text": [
      "начало парсинга 18 части ссылок\n"
     ]
    },
    {
     "name": "stderr",
     "output_type": "stream",
     "text": [
      "100%|██████████| 431/431 [04:33<00:00,  1.57it/s]\n"
     ]
    },
    {
     "name": "stdout",
     "output_type": "stream",
     "text": [
      "начало парсинга 19 части ссылок\n"
     ]
    },
    {
     "name": "stderr",
     "output_type": "stream",
     "text": [
      "100%|██████████| 431/431 [04:28<00:00,  1.60it/s]\n"
     ]
    },
    {
     "name": "stdout",
     "output_type": "stream",
     "text": [
      "начало парсинга 20 части ссылок\n"
     ]
    },
    {
     "name": "stderr",
     "output_type": "stream",
     "text": [
      "100%|██████████| 431/431 [04:51<00:00,  1.48it/s]\n"
     ]
    }
   ],
   "source": [
    "n = 0\n",
    "for i in range(n, 20):\n",
    "    n += 1\n",
    "    print(f'начало парсинга {n} части ссылок')\n",
    "    df = get_personal_price(test[i].reset_index())\n",
    "    df = pd.DataFrame(df)\n",
    "    df.to_csv(r'C:\\Users\\Trenkin.Sergey\\Desktop\\parsers\\sunlight_current_data\\discounts\\\\' + f'sunlight_all_data_{day_now}_{month_now}_{n}.csv', index=False)\n",
    "    time.sleep(5)"
   ]
  },
  {
   "cell_type": "code",
   "execution_count": 32,
   "id": "1cc1c7e9",
   "metadata": {},
   "outputs": [
    {
     "data": {
      "text/plain": [
       "20"
      ]
     },
     "execution_count": 32,
     "metadata": {},
     "output_type": "execute_result"
    }
   ],
   "source": [
    "os.chdir(r'C:\\Users\\Trenkin.Sergey\\Desktop\\parsers\\sunlight_current_data\\discounts')\n",
    "extension = 'csv'\n",
    "all_filenames = [i for i in glob.glob('*.{}'.format(extension))]\n",
    "len(all_filenames)"
   ]
  },
  {
   "cell_type": "code",
   "execution_count": 33,
   "id": "35b46694",
   "metadata": {},
   "outputs": [
    {
     "data": {
      "text/html": [
       "<div>\n",
       "<style scoped>\n",
       "    .dataframe tbody tr th:only-of-type {\n",
       "        vertical-align: middle;\n",
       "    }\n",
       "\n",
       "    .dataframe tbody tr th {\n",
       "        vertical-align: top;\n",
       "    }\n",
       "\n",
       "    .dataframe thead th {\n",
       "        text-align: right;\n",
       "    }\n",
       "</style>\n",
       "<table border=\"1\" class=\"dataframe\">\n",
       "  <thead>\n",
       "    <tr style=\"text-align: right;\">\n",
       "      <th></th>\n",
       "      <th>date</th>\n",
       "      <th>competitor</th>\n",
       "      <th>name</th>\n",
       "      <th>group</th>\n",
       "      <th>params</th>\n",
       "      <th>price</th>\n",
       "      <th>article</th>\n",
       "      <th>url</th>\n",
       "    </tr>\n",
       "  </thead>\n",
       "  <tbody>\n",
       "    <tr>\n",
       "      <th>1390</th>\n",
       "      <td>18-06-2024</td>\n",
       "      <td>Sunlight</td>\n",
       "      <td>\\n    Золотые серьги\\n</td>\n",
       "      <td>Серьги</td>\n",
       "      <td>{'Модель': '221223*', 'Материал изделия': 'Роз...</td>\n",
       "      <td>32990.0</td>\n",
       "      <td>87003</td>\n",
       "      <td>https://sunlight.net/catalog/earring_87003.html</td>\n",
       "    </tr>\n",
       "    <tr>\n",
       "      <th>1391</th>\n",
       "      <td>18-06-2024</td>\n",
       "      <td>Sunlight</td>\n",
       "      <td>\\n    Золотое кольцо с бриллиантами\\n</td>\n",
       "      <td>Кольца</td>\n",
       "      <td>{'Модель': '73586-K5Y-01', 'Материал изделия':...</td>\n",
       "      <td>71990.0</td>\n",
       "      <td>990408</td>\n",
       "      <td>https://sunlight.net/catalog/ring_990408.html</td>\n",
       "    </tr>\n",
       "    <tr>\n",
       "      <th>1392</th>\n",
       "      <td>18-06-2024</td>\n",
       "      <td>Sunlight</td>\n",
       "      <td>\\n    Золотая подвеска\\n</td>\n",
       "      <td>Подвески</td>\n",
       "      <td>{'Модель': '00-63-0170-00*', 'Материал изделия...</td>\n",
       "      <td>28990.0</td>\n",
       "      <td>991939</td>\n",
       "      <td>https://sunlight.net/catalog/pendants_991939.html</td>\n",
       "    </tr>\n",
       "    <tr>\n",
       "      <th>1393</th>\n",
       "      <td>18-06-2024</td>\n",
       "      <td>Sunlight</td>\n",
       "      <td>\\n    Золотые серьги с бриллиантами\\n</td>\n",
       "      <td>Серьги</td>\n",
       "      <td>{'Модель': '71221-С5R-01', 'Материал изделия':...</td>\n",
       "      <td>45990.0</td>\n",
       "      <td>275421</td>\n",
       "      <td>https://sunlight.net/catalog/earring_275421.html</td>\n",
       "    </tr>\n",
       "    <tr>\n",
       "      <th>1394</th>\n",
       "      <td>18-06-2024</td>\n",
       "      <td>Sunlight</td>\n",
       "      <td>\\n    Золотые серьги с фианитами\\n</td>\n",
       "      <td>Серьги</td>\n",
       "      <td>{'Модель': '2139881010*', 'Материал изделия': ...</td>\n",
       "      <td>23990.0</td>\n",
       "      <td>349502</td>\n",
       "      <td>https://sunlight.net/catalog/earring_349502.html</td>\n",
       "    </tr>\n",
       "    <tr>\n",
       "      <th>...</th>\n",
       "      <td>...</td>\n",
       "      <td>...</td>\n",
       "      <td>...</td>\n",
       "      <td>...</td>\n",
       "      <td>...</td>\n",
       "      <td>...</td>\n",
       "      <td>...</td>\n",
       "      <td>...</td>\n",
       "    </tr>\n",
       "    <tr>\n",
       "      <th>13955</th>\n",
       "      <td>18-06-2024</td>\n",
       "      <td>Sunlight</td>\n",
       "      <td>\\n    Золотые серьги с агатом и бриллиантами\\n</td>\n",
       "      <td>Серьги</td>\n",
       "      <td>{'Модель': '71794-C5R-01', 'Материал изделия':...</td>\n",
       "      <td>97990.0</td>\n",
       "      <td>310221</td>\n",
       "      <td>https://sunlight.net/catalog/earring_310221.html</td>\n",
       "    </tr>\n",
       "    <tr>\n",
       "      <th>13956</th>\n",
       "      <td>18-06-2024</td>\n",
       "      <td>Sunlight</td>\n",
       "      <td>\\n    Золотые серьги\\n</td>\n",
       "      <td>Серьги</td>\n",
       "      <td>{'Модель': '30906.1*', 'Материал изделия': 'Ро...</td>\n",
       "      <td>5490.0</td>\n",
       "      <td>91078</td>\n",
       "      <td>https://sunlight.net/catalog/earring_91078.html</td>\n",
       "    </tr>\n",
       "    <tr>\n",
       "      <th>13957</th>\n",
       "      <td>18-06-2024</td>\n",
       "      <td>Sunlight</td>\n",
       "      <td>\\n    Золотой крест-подвеска\\n</td>\n",
       "      <td>Крест-подвеска</td>\n",
       "      <td>{'Модель': '12623.1*', 'Материал изделия': 'Бе...</td>\n",
       "      <td>9990.0</td>\n",
       "      <td>88213</td>\n",
       "      <td>https://sunlight.net/catalog/pendants_88213.html</td>\n",
       "    </tr>\n",
       "    <tr>\n",
       "      <th>13958</th>\n",
       "      <td>18-06-2024</td>\n",
       "      <td>Sunlight</td>\n",
       "      <td>\\n    Золотые серьги с изумрудами и бриллианта...</td>\n",
       "      <td>Серьги</td>\n",
       "      <td>{'Модель': '70990-C5R-01', 'Материал изделия':...</td>\n",
       "      <td>54990.0</td>\n",
       "      <td>253164</td>\n",
       "      <td>https://sunlight.net/catalog/earring_253164.html</td>\n",
       "    </tr>\n",
       "    <tr>\n",
       "      <th>13959</th>\n",
       "      <td>18-06-2024</td>\n",
       "      <td>Sunlight</td>\n",
       "      <td>\\n    Золотая цепь\\n</td>\n",
       "      <td>Цепи</td>\n",
       "      <td>{'Модель': 'НЦ 12-076 0,50*', 'Материал издели...</td>\n",
       "      <td>32957.0</td>\n",
       "      <td>84022</td>\n",
       "      <td>https://sunlight.net/catalog/chains_84022.html</td>\n",
       "    </tr>\n",
       "  </tbody>\n",
       "</table>\n",
       "<p>8632 rows × 8 columns</p>\n",
       "</div>"
      ],
      "text/plain": [
       "             date competitor  \\\n",
       "1390   18-06-2024   Sunlight   \n",
       "1391   18-06-2024   Sunlight   \n",
       "1392   18-06-2024   Sunlight   \n",
       "1393   18-06-2024   Sunlight   \n",
       "1394   18-06-2024   Sunlight   \n",
       "...           ...        ...   \n",
       "13955  18-06-2024   Sunlight   \n",
       "13956  18-06-2024   Sunlight   \n",
       "13957  18-06-2024   Sunlight   \n",
       "13958  18-06-2024   Sunlight   \n",
       "13959  18-06-2024   Sunlight   \n",
       "\n",
       "                                                    name           group  \\\n",
       "1390                            \\n    Золотые серьги\\n            Серьги   \n",
       "1391             \\n    Золотое кольцо с бриллиантами\\n            Кольца   \n",
       "1392                          \\n    Золотая подвеска\\n          Подвески   \n",
       "1393             \\n    Золотые серьги с бриллиантами\\n            Серьги   \n",
       "1394                \\n    Золотые серьги с фианитами\\n            Серьги   \n",
       "...                                                  ...             ...   \n",
       "13955   \\n    Золотые серьги с агатом и бриллиантами\\n            Серьги   \n",
       "13956                           \\n    Золотые серьги\\n            Серьги   \n",
       "13957                   \\n    Золотой крест-подвеска\\n    Крест-подвеска   \n",
       "13958  \\n    Золотые серьги с изумрудами и бриллианта...          Серьги   \n",
       "13959                             \\n    Золотая цепь\\n              Цепи   \n",
       "\n",
       "                                                  params    price  article  \\\n",
       "1390   {'Модель': '221223*', 'Материал изделия': 'Роз...  32990.0    87003   \n",
       "1391   {'Модель': '73586-K5Y-01', 'Материал изделия':...  71990.0   990408   \n",
       "1392   {'Модель': '00-63-0170-00*', 'Материал изделия...  28990.0   991939   \n",
       "1393   {'Модель': '71221-С5R-01', 'Материал изделия':...  45990.0   275421   \n",
       "1394   {'Модель': '2139881010*', 'Материал изделия': ...  23990.0   349502   \n",
       "...                                                  ...      ...      ...   \n",
       "13955  {'Модель': '71794-C5R-01', 'Материал изделия':...  97990.0   310221   \n",
       "13956  {'Модель': '30906.1*', 'Материал изделия': 'Ро...   5490.0    91078   \n",
       "13957  {'Модель': '12623.1*', 'Материал изделия': 'Бе...   9990.0    88213   \n",
       "13958  {'Модель': '70990-C5R-01', 'Материал изделия':...  54990.0   253164   \n",
       "13959  {'Модель': 'НЦ 12-076 0,50*', 'Материал издели...  32957.0    84022   \n",
       "\n",
       "                                                     url  \n",
       "1390     https://sunlight.net/catalog/earring_87003.html  \n",
       "1391       https://sunlight.net/catalog/ring_990408.html  \n",
       "1392   https://sunlight.net/catalog/pendants_991939.html  \n",
       "1393    https://sunlight.net/catalog/earring_275421.html  \n",
       "1394    https://sunlight.net/catalog/earring_349502.html  \n",
       "...                                                  ...  \n",
       "13955   https://sunlight.net/catalog/earring_310221.html  \n",
       "13956    https://sunlight.net/catalog/earring_91078.html  \n",
       "13957   https://sunlight.net/catalog/pendants_88213.html  \n",
       "13958   https://sunlight.net/catalog/earring_253164.html  \n",
       "13959     https://sunlight.net/catalog/chains_84022.html  \n",
       "\n",
       "[8632 rows x 8 columns]"
      ]
     },
     "execution_count": 33,
     "metadata": {},
     "output_type": "execute_result"
    }
   ],
   "source": [
    "data"
   ]
  },
  {
   "cell_type": "code",
   "execution_count": 34,
   "id": "c2d69699-23f3-4c83-97bc-d2aba743a4dc",
   "metadata": {
    "tags": []
   },
   "outputs": [],
   "source": [
    "data_discount = pd.DataFrame()\n",
    "for name  in all_filenames:\n",
    "    df = pd.read_csv(name)\n",
    "    data_discount = pd.concat([df, data_discount], ignore_index=True)"
   ]
  },
  {
   "cell_type": "code",
   "execution_count": 35,
   "id": "c58ae2ff",
   "metadata": {},
   "outputs": [
    {
     "data": {
      "text/html": [
       "<div>\n",
       "<style scoped>\n",
       "    .dataframe tbody tr th:only-of-type {\n",
       "        vertical-align: middle;\n",
       "    }\n",
       "\n",
       "    .dataframe tbody tr th {\n",
       "        vertical-align: top;\n",
       "    }\n",
       "\n",
       "    .dataframe thead th {\n",
       "        text-align: right;\n",
       "    }\n",
       "</style>\n",
       "<table border=\"1\" class=\"dataframe\">\n",
       "  <thead>\n",
       "    <tr style=\"text-align: right;\">\n",
       "      <th></th>\n",
       "      <th>article</th>\n",
       "      <th>price_old</th>\n",
       "      <th>price</th>\n",
       "      <th>price_personal</th>\n",
       "      <th>discount</th>\n",
       "    </tr>\n",
       "  </thead>\n",
       "  <tbody>\n",
       "    <tr>\n",
       "      <th>0</th>\n",
       "      <td>353478</td>\n",
       "      <td>55 980 ₽</td>\n",
       "      <td>27 990 ₽</td>\n",
       "      <td>16 794 ₽</td>\n",
       "      <td>['Цены 8 марта! Ещё -10%, код: МАРТ до 20.06']</td>\n",
       "    </tr>\n",
       "    <tr>\n",
       "      <th>1</th>\n",
       "      <td>300010</td>\n",
       "      <td>37 980 ₽</td>\n",
       "      <td>18 990 ₽</td>\n",
       "      <td>11 394 ₽</td>\n",
       "      <td>['Цены 8 марта! Ещё -5%, код: МАРТ до 20.06']</td>\n",
       "    </tr>\n",
       "    <tr>\n",
       "      <th>2</th>\n",
       "      <td>353665</td>\n",
       "      <td>46 220 ₽</td>\n",
       "      <td>23 110 ₽</td>\n",
       "      <td>13 866 ₽</td>\n",
       "      <td>['Цены 8 марта! Ещё -5%, код: МАРТ до 20.06']</td>\n",
       "    </tr>\n",
       "    <tr>\n",
       "      <th>3</th>\n",
       "      <td>991701</td>\n",
       "      <td>239 980 ₽</td>\n",
       "      <td>119 990 ₽</td>\n",
       "      <td>91 990 ₽</td>\n",
       "      <td>['Цены 8 марта! Ещё -10%, код: МАРТ до 20.06']</td>\n",
       "    </tr>\n",
       "    <tr>\n",
       "      <th>4</th>\n",
       "      <td>241109</td>\n",
       "      <td>173 300 ₽</td>\n",
       "      <td>51 990 ₽</td>\n",
       "      <td>31 194 ₽</td>\n",
       "      <td>['Цены 8 марта! Ещё -5%, код: МАРТ до 20.06']</td>\n",
       "    </tr>\n",
       "    <tr>\n",
       "      <th>...</th>\n",
       "      <td>...</td>\n",
       "      <td>...</td>\n",
       "      <td>...</td>\n",
       "      <td>...</td>\n",
       "      <td>...</td>\n",
       "    </tr>\n",
       "    <tr>\n",
       "      <th>8627</th>\n",
       "      <td>329827</td>\n",
       "      <td>97 980 ₽</td>\n",
       "      <td>48 990 ₽</td>\n",
       "      <td>29 394 ₽</td>\n",
       "      <td>['Цены 8 марта! Ещё -5%, код: МАРТ до 20.06']</td>\n",
       "    </tr>\n",
       "    <tr>\n",
       "      <th>8628</th>\n",
       "      <td>348316</td>\n",
       "      <td>20 980 ₽</td>\n",
       "      <td>10 490 ₽</td>\n",
       "      <td>6 294 ₽</td>\n",
       "      <td>['Цены 8 марта! Ещё -10%, код: МАРТ до 20.06']</td>\n",
       "    </tr>\n",
       "    <tr>\n",
       "      <th>8629</th>\n",
       "      <td>355389</td>\n",
       "      <td>73 980 ₽</td>\n",
       "      <td>36 990 ₽</td>\n",
       "      <td>22 194 ₽</td>\n",
       "      <td>['Цены 8 марта! Ещё -15%, код: МАРТ до 20.06']</td>\n",
       "    </tr>\n",
       "    <tr>\n",
       "      <th>8630</th>\n",
       "      <td>99429</td>\n",
       "      <td>115 980 ₽</td>\n",
       "      <td>57 990 ₽</td>\n",
       "      <td>34 794 ₽</td>\n",
       "      <td>['Цены 8 марта! Ещё -5%, код: МАРТ до 20.06']</td>\n",
       "    </tr>\n",
       "    <tr>\n",
       "      <th>8631</th>\n",
       "      <td>351281</td>\n",
       "      <td>21 980 ₽</td>\n",
       "      <td>10 990 ₽</td>\n",
       "      <td>6 594 ₽</td>\n",
       "      <td>['Цены 8 марта! Ещё -10%, код: МАРТ до 20.06']</td>\n",
       "    </tr>\n",
       "  </tbody>\n",
       "</table>\n",
       "<p>8632 rows × 5 columns</p>\n",
       "</div>"
      ],
      "text/plain": [
       "      article  price_old      price price_personal  \\\n",
       "0      353478   55 980 ₽   27 990 ₽       16 794 ₽   \n",
       "1      300010   37 980 ₽   18 990 ₽       11 394 ₽   \n",
       "2      353665   46 220 ₽   23 110 ₽       13 866 ₽   \n",
       "3      991701  239 980 ₽  119 990 ₽       91 990 ₽   \n",
       "4      241109  173 300 ₽   51 990 ₽       31 194 ₽   \n",
       "...       ...        ...        ...            ...   \n",
       "8627   329827   97 980 ₽   48 990 ₽       29 394 ₽   \n",
       "8628   348316   20 980 ₽   10 490 ₽        6 294 ₽   \n",
       "8629   355389   73 980 ₽   36 990 ₽       22 194 ₽   \n",
       "8630    99429  115 980 ₽   57 990 ₽       34 794 ₽   \n",
       "8631   351281   21 980 ₽   10 990 ₽        6 594 ₽   \n",
       "\n",
       "                                            discount  \n",
       "0     ['Цены 8 марта! Ещё -10%, код: МАРТ до 20.06']  \n",
       "1      ['Цены 8 марта! Ещё -5%, код: МАРТ до 20.06']  \n",
       "2      ['Цены 8 марта! Ещё -5%, код: МАРТ до 20.06']  \n",
       "3     ['Цены 8 марта! Ещё -10%, код: МАРТ до 20.06']  \n",
       "4      ['Цены 8 марта! Ещё -5%, код: МАРТ до 20.06']  \n",
       "...                                              ...  \n",
       "8627   ['Цены 8 марта! Ещё -5%, код: МАРТ до 20.06']  \n",
       "8628  ['Цены 8 марта! Ещё -10%, код: МАРТ до 20.06']  \n",
       "8629  ['Цены 8 марта! Ещё -15%, код: МАРТ до 20.06']  \n",
       "8630   ['Цены 8 марта! Ещё -5%, код: МАРТ до 20.06']  \n",
       "8631  ['Цены 8 марта! Ещё -10%, код: МАРТ до 20.06']  \n",
       "\n",
       "[8632 rows x 5 columns]"
      ]
     },
     "execution_count": 35,
     "metadata": {},
     "output_type": "execute_result"
    }
   ],
   "source": [
    "data_discount"
   ]
  },
  {
   "cell_type": "code",
   "execution_count": 36,
   "id": "c11840f3-353f-49ae-82c8-66612a359a3e",
   "metadata": {
    "tags": []
   },
   "outputs": [],
   "source": [
    "data = data.merge(data_discount, on='article', how='left')"
   ]
  },
  {
   "cell_type": "code",
   "execution_count": 37,
   "id": "97cdcac5-2bcf-4fa4-b1f2-428f3c3fd32a",
   "metadata": {
    "tags": []
   },
   "outputs": [
    {
     "name": "stdout",
     "output_type": "stream",
     "text": [
      "<class 'pandas.core.frame.DataFrame'>\n",
      "RangeIndex: 8632 entries, 0 to 8631\n",
      "Data columns (total 12 columns):\n",
      " #   Column          Non-Null Count  Dtype  \n",
      "---  ------          --------------  -----  \n",
      " 0   date            8632 non-null   object \n",
      " 1   competitor      8632 non-null   object \n",
      " 2   name            8632 non-null   object \n",
      " 3   group           8632 non-null   object \n",
      " 4   params          8632 non-null   object \n",
      " 5   price_x         8632 non-null   float64\n",
      " 6   article         8632 non-null   int32  \n",
      " 7   url             8632 non-null   object \n",
      " 8   price_old       7975 non-null   object \n",
      " 9   price_y         8632 non-null   object \n",
      " 10  price_personal  7979 non-null   object \n",
      " 11  discount        8632 non-null   object \n",
      "dtypes: float64(1), int32(1), object(10)\n",
      "memory usage: 775.7+ KB\n"
     ]
    }
   ],
   "source": [
    "data.info()"
   ]
  },
  {
   "cell_type": "code",
   "execution_count": 38,
   "id": "049e3231-7148-4da2-848d-679b26fd5889",
   "metadata": {
    "tags": []
   },
   "outputs": [
    {
     "data": {
      "text/plain": [
       "discount\n",
       "['Цены 8 марта! Ещё -5%, код: МАРТ до 20.06']                                                                             4777\n",
       "['Цены 8 марта! Ещё -10%, код: МАРТ до 20.06']                                                                            1632\n",
       "['Ещё -10% при покупке двух, код: ДВА', 'Ещё -15% при покупке трех, код: ТРИ']                                            1185\n",
       "['ХИТ-цена']                                                                                                               637\n",
       "['Цены 8 марта! Ещё -15%, код: МАРТ до 20.06']                                                                             250\n",
       "['Цены снижены! Ещё -15%, код: СЕГОДНЯ']                                                                                    83\n",
       "['Ещё -10% при покупке двух, код: ДВА', 'Ещё -15% при покупке трех, код: ТРИ', 'Цены снижены! Ещё -15%, код: СЕГОДНЯ']      21\n",
       "[nan]                                                                                                                       14\n",
       "['Цены 8 марта! Ещё -20%, код: МАРТ до 20.06']                                                                               8\n",
       "['Цены 8 марта! Ещё -35%, код: МАРТ до 20.06']                                                                               8\n",
       "['ХИТ-цена', 'Выгодно! Золото 5 290 р/г']                                                                                    7\n",
       "['Цены 8 марта! Ещё -25%, код: МАРТ до 20.06']                                                                               6\n",
       "['Цены 8 марта! Ещё -45%, код: МАРТ до 20.06']                                                                               4\n",
       "Name: count, dtype: int64"
      ]
     },
     "execution_count": 38,
     "metadata": {},
     "output_type": "execute_result"
    }
   ],
   "source": [
    "data['discount'].value_counts()"
   ]
  },
  {
   "cell_type": "code",
   "execution_count": 39,
   "id": "1c16ae65-7ea8-4d57-994f-45815b15bbe3",
   "metadata": {
    "tags": []
   },
   "outputs": [
    {
     "data": {
      "text/html": [
       "<div>\n",
       "<style scoped>\n",
       "    .dataframe tbody tr th:only-of-type {\n",
       "        vertical-align: middle;\n",
       "    }\n",
       "\n",
       "    .dataframe tbody tr th {\n",
       "        vertical-align: top;\n",
       "    }\n",
       "\n",
       "    .dataframe thead th {\n",
       "        text-align: right;\n",
       "    }\n",
       "</style>\n",
       "<table border=\"1\" class=\"dataframe\">\n",
       "  <thead>\n",
       "    <tr style=\"text-align: right;\">\n",
       "      <th></th>\n",
       "      <th>date</th>\n",
       "      <th>competitor</th>\n",
       "      <th>name</th>\n",
       "      <th>group</th>\n",
       "      <th>params</th>\n",
       "      <th>price_x</th>\n",
       "      <th>article</th>\n",
       "      <th>url</th>\n",
       "      <th>price_old</th>\n",
       "      <th>price_y</th>\n",
       "      <th>price_personal</th>\n",
       "      <th>discount</th>\n",
       "    </tr>\n",
       "  </thead>\n",
       "  <tbody>\n",
       "    <tr>\n",
       "      <th>0</th>\n",
       "      <td>18-06-2024</td>\n",
       "      <td>Sunlight</td>\n",
       "      <td>\\n    Золотые серьги\\n</td>\n",
       "      <td>Серьги</td>\n",
       "      <td>{'Модель': '221223*', 'Материал изделия': 'Роз...</td>\n",
       "      <td>32990.0</td>\n",
       "      <td>87003</td>\n",
       "      <td>https://sunlight.net/catalog/earring_87003.html</td>\n",
       "      <td>65 980 ₽</td>\n",
       "      <td>32 990 ₽</td>\n",
       "      <td>19 794 ₽</td>\n",
       "      <td>['Цены 8 марта! Ещё -5%, код: МАРТ до 20.06']</td>\n",
       "    </tr>\n",
       "    <tr>\n",
       "      <th>1</th>\n",
       "      <td>18-06-2024</td>\n",
       "      <td>Sunlight</td>\n",
       "      <td>\\n    Золотое кольцо с бриллиантами\\n</td>\n",
       "      <td>Кольца</td>\n",
       "      <td>{'Модель': '73586-K5Y-01', 'Материал изделия':...</td>\n",
       "      <td>71990.0</td>\n",
       "      <td>990408</td>\n",
       "      <td>https://sunlight.net/catalog/ring_990408.html</td>\n",
       "      <td>143 980 ₽</td>\n",
       "      <td>71 990 ₽</td>\n",
       "      <td>43 990 ₽</td>\n",
       "      <td>['Ещё -10% при покупке двух, код: ДВА', 'Ещё -...</td>\n",
       "    </tr>\n",
       "    <tr>\n",
       "      <th>2</th>\n",
       "      <td>18-06-2024</td>\n",
       "      <td>Sunlight</td>\n",
       "      <td>\\n    Золотая подвеска\\n</td>\n",
       "      <td>Подвески</td>\n",
       "      <td>{'Модель': '00-63-0170-00*', 'Материал изделия...</td>\n",
       "      <td>28990.0</td>\n",
       "      <td>991939</td>\n",
       "      <td>https://sunlight.net/catalog/pendants_991939.html</td>\n",
       "      <td>57 980 ₽</td>\n",
       "      <td>28 990 ₽</td>\n",
       "      <td>17 394 ₽</td>\n",
       "      <td>['Цены 8 марта! Ещё -5%, код: МАРТ до 20.06']</td>\n",
       "    </tr>\n",
       "    <tr>\n",
       "      <th>3</th>\n",
       "      <td>18-06-2024</td>\n",
       "      <td>Sunlight</td>\n",
       "      <td>\\n    Золотые серьги с бриллиантами\\n</td>\n",
       "      <td>Серьги</td>\n",
       "      <td>{'Модель': '71221-С5R-01', 'Материал изделия':...</td>\n",
       "      <td>45990.0</td>\n",
       "      <td>275421</td>\n",
       "      <td>https://sunlight.net/catalog/earring_275421.html</td>\n",
       "      <td>91 980 ₽</td>\n",
       "      <td>45 990 ₽</td>\n",
       "      <td>27 594 ₽</td>\n",
       "      <td>['Цены 8 марта! Ещё -5%, код: МАРТ до 20.06']</td>\n",
       "    </tr>\n",
       "    <tr>\n",
       "      <th>4</th>\n",
       "      <td>18-06-2024</td>\n",
       "      <td>Sunlight</td>\n",
       "      <td>\\n    Золотые серьги с фианитами\\n</td>\n",
       "      <td>Серьги</td>\n",
       "      <td>{'Модель': '2139881010*', 'Материал изделия': ...</td>\n",
       "      <td>23990.0</td>\n",
       "      <td>349502</td>\n",
       "      <td>https://sunlight.net/catalog/earring_349502.html</td>\n",
       "      <td>47 980 ₽</td>\n",
       "      <td>23 990 ₽</td>\n",
       "      <td>14 394 ₽</td>\n",
       "      <td>['Цены 8 марта! Ещё -5%, код: МАРТ до 20.06']</td>\n",
       "    </tr>\n",
       "    <tr>\n",
       "      <th>5</th>\n",
       "      <td>18-06-2024</td>\n",
       "      <td>Sunlight</td>\n",
       "      <td>\\n    Золотые серьги с фианитами\\n</td>\n",
       "      <td>Серьги</td>\n",
       "      <td>{'Модель': '127910*', 'Материал изделия': 'Роз...</td>\n",
       "      <td>21990.0</td>\n",
       "      <td>345832</td>\n",
       "      <td>https://sunlight.net/catalog/earring_345832.html</td>\n",
       "      <td>43 980 ₽</td>\n",
       "      <td>21 990 ₽</td>\n",
       "      <td>13 194 ₽</td>\n",
       "      <td>['Цены 8 марта! Ещё -5%, код: МАРТ до 20.06']</td>\n",
       "    </tr>\n",
       "    <tr>\n",
       "      <th>6</th>\n",
       "      <td>18-06-2024</td>\n",
       "      <td>Sunlight</td>\n",
       "      <td>\\n    Золотое кольцо c бриллиантами\\n</td>\n",
       "      <td>Кольца</td>\n",
       "      <td>{'Модель': '2804-K5R-02', 'Материал изделия': ...</td>\n",
       "      <td>69990.0</td>\n",
       "      <td>17945</td>\n",
       "      <td>https://sunlight.net/catalog/ring_17945.html</td>\n",
       "      <td>139 980 ₽</td>\n",
       "      <td>69 990 ₽</td>\n",
       "      <td>41 994 ₽</td>\n",
       "      <td>['Цены 8 марта! Ещё -5%, код: МАРТ до 20.06']</td>\n",
       "    </tr>\n",
       "    <tr>\n",
       "      <th>7</th>\n",
       "      <td>18-06-2024</td>\n",
       "      <td>Sunlight</td>\n",
       "      <td>\\n    Золотые серьги с сапфирами и бриллиантам...</td>\n",
       "      <td>Серьги</td>\n",
       "      <td>{'Модель': '73601-C5W-01', 'Материал изделия':...</td>\n",
       "      <td>114990.0</td>\n",
       "      <td>985649</td>\n",
       "      <td>https://sunlight.net/catalog/earring_985649.html</td>\n",
       "      <td>229 980 ₽</td>\n",
       "      <td>114 990 ₽</td>\n",
       "      <td>86 990 ₽</td>\n",
       "      <td>['Цены 8 марта! Ещё -5%, код: МАРТ до 20.06']</td>\n",
       "    </tr>\n",
       "    <tr>\n",
       "      <th>8</th>\n",
       "      <td>18-06-2024</td>\n",
       "      <td>Sunlight</td>\n",
       "      <td>\\n    Золотые серьги с бриллиантами\\n</td>\n",
       "      <td>Серьги</td>\n",
       "      <td>{'Модель': '70486-C5R-01', 'Материал изделия':...</td>\n",
       "      <td>109990.0</td>\n",
       "      <td>106332</td>\n",
       "      <td>https://sunlight.net/catalog/earring_106332.html</td>\n",
       "      <td>219 980 ₽</td>\n",
       "      <td>109 990 ₽</td>\n",
       "      <td>81 990 ₽</td>\n",
       "      <td>['Цены 8 марта! Ещё -5%, код: МАРТ до 20.06']</td>\n",
       "    </tr>\n",
       "    <tr>\n",
       "      <th>9</th>\n",
       "      <td>18-06-2024</td>\n",
       "      <td>Sunlight</td>\n",
       "      <td>\\n    Золотые серьги с фианитами\\n</td>\n",
       "      <td>Серьги</td>\n",
       "      <td>{'Модель': '1125294/8*', 'Материал изделия': '...</td>\n",
       "      <td>7490.0</td>\n",
       "      <td>335890</td>\n",
       "      <td>https://sunlight.net/catalog/earring_335890.html</td>\n",
       "      <td>14 980 ₽</td>\n",
       "      <td>7 490 ₽</td>\n",
       "      <td>4 494 ₽</td>\n",
       "      <td>['Цены 8 марта! Ещё -10%, код: МАРТ до 20.06']</td>\n",
       "    </tr>\n",
       "    <tr>\n",
       "      <th>10</th>\n",
       "      <td>18-06-2024</td>\n",
       "      <td>Sunlight</td>\n",
       "      <td>\\n    Золотая подвеска с рубинами\\n</td>\n",
       "      <td>Подвески</td>\n",
       "      <td>{'Модель': '70367-P5R-02', 'Материал изделия':...</td>\n",
       "      <td>37990.0</td>\n",
       "      <td>347451</td>\n",
       "      <td>https://sunlight.net/catalog/pendants_347451.html</td>\n",
       "      <td>75 980 ₽</td>\n",
       "      <td>37 990 ₽</td>\n",
       "      <td>22 794 ₽</td>\n",
       "      <td>['Ещё -10% при покупке двух, код: ДВА', 'Ещё -...</td>\n",
       "    </tr>\n",
       "    <tr>\n",
       "      <th>11</th>\n",
       "      <td>18-06-2024</td>\n",
       "      <td>Sunlight</td>\n",
       "      <td>\\n    Золотые серьги с рубинами и бриллиантами...</td>\n",
       "      <td>Серьги</td>\n",
       "      <td>{'Модель': '70498-C5R-02', 'Материал изделия':...</td>\n",
       "      <td>49990.0</td>\n",
       "      <td>107158</td>\n",
       "      <td>https://sunlight.net/catalog/earring_107158.html</td>\n",
       "      <td>99 980 ₽</td>\n",
       "      <td>49 990 ₽</td>\n",
       "      <td>29 994 ₽</td>\n",
       "      <td>['Ещё -10% при покупке двух, код: ДВА', 'Ещё -...</td>\n",
       "    </tr>\n",
       "    <tr>\n",
       "      <th>12</th>\n",
       "      <td>18-06-2024</td>\n",
       "      <td>Sunlight</td>\n",
       "      <td>\\n    Золотые серьги с фианитами\\n</td>\n",
       "      <td>Серьги</td>\n",
       "      <td>{'Модель': '13-02-0001-28771*', 'Материал изде...</td>\n",
       "      <td>16990.0</td>\n",
       "      <td>268924</td>\n",
       "      <td>https://sunlight.net/catalog/earring_268924.html</td>\n",
       "      <td>33 980 ₽</td>\n",
       "      <td>16 990 ₽</td>\n",
       "      <td>10 194 ₽</td>\n",
       "      <td>['Цены 8 марта! Ещё -5%, код: МАРТ до 20.06']</td>\n",
       "    </tr>\n",
       "    <tr>\n",
       "      <th>13</th>\n",
       "      <td>18-06-2024</td>\n",
       "      <td>Sunlight</td>\n",
       "      <td>\\n    Золотые серьги с бриллиантами\\n</td>\n",
       "      <td>Серьги</td>\n",
       "      <td>{'Модель': '73626-C5R-01', 'Материал изделия':...</td>\n",
       "      <td>49990.0</td>\n",
       "      <td>988414</td>\n",
       "      <td>https://sunlight.net/catalog/earring_988414.html</td>\n",
       "      <td>99 980 ₽</td>\n",
       "      <td>49 990 ₽</td>\n",
       "      <td>29 994 ₽</td>\n",
       "      <td>['Ещё -10% при покупке двух, код: ДВА', 'Ещё -...</td>\n",
       "    </tr>\n",
       "    <tr>\n",
       "      <th>14</th>\n",
       "      <td>18-06-2024</td>\n",
       "      <td>Sunlight</td>\n",
       "      <td>\\n    Золотая подвеска с изумрудами и бриллиан...</td>\n",
       "      <td>Подвески</td>\n",
       "      <td>{'Модель': '6227-P5R-08', 'Материал изделия': ...</td>\n",
       "      <td>28990.0</td>\n",
       "      <td>51661</td>\n",
       "      <td>https://sunlight.net/catalog/pendants_51661.html</td>\n",
       "      <td>57 980 ₽</td>\n",
       "      <td>28 990 ₽</td>\n",
       "      <td>17 394 ₽</td>\n",
       "      <td>['Цены 8 марта! Ещё -5%, код: МАРТ до 20.06']</td>\n",
       "    </tr>\n",
       "    <tr>\n",
       "      <th>15</th>\n",
       "      <td>18-06-2024</td>\n",
       "      <td>Sunlight</td>\n",
       "      <td>\\n    Золотые серьги с фианитами\\n</td>\n",
       "      <td>Серьги</td>\n",
       "      <td>{'Модель': '022597*', 'Материал изделия': 'Роз...</td>\n",
       "      <td>32990.0</td>\n",
       "      <td>992731</td>\n",
       "      <td>https://sunlight.net/catalog/earring_992731.html</td>\n",
       "      <td>65 980 ₽</td>\n",
       "      <td>32 990 ₽</td>\n",
       "      <td>19 794 ₽</td>\n",
       "      <td>['Ещё -10% при покупке двух, код: ДВА', 'Ещё -...</td>\n",
       "    </tr>\n",
       "    <tr>\n",
       "      <th>16</th>\n",
       "      <td>18-06-2024</td>\n",
       "      <td>Sunlight</td>\n",
       "      <td>\\n    Золотая подвеска с топазами и бриллианта...</td>\n",
       "      <td>Подвески</td>\n",
       "      <td>{'Модель': '9106-P5R-07', 'Материал изделия': ...</td>\n",
       "      <td>9490.0</td>\n",
       "      <td>57340</td>\n",
       "      <td>https://sunlight.net/catalog/pendants_57340.html</td>\n",
       "      <td>18 980 ₽</td>\n",
       "      <td>9 490 ₽</td>\n",
       "      <td>5 694 ₽</td>\n",
       "      <td>['Цены 8 марта! Ещё -5%, код: МАРТ до 20.06']</td>\n",
       "    </tr>\n",
       "    <tr>\n",
       "      <th>17</th>\n",
       "      <td>18-06-2024</td>\n",
       "      <td>Sunlight</td>\n",
       "      <td>\\n    Золотые серьги с фианитами\\n</td>\n",
       "      <td>Серьги</td>\n",
       "      <td>{'Модель': 'С132-1213*', 'Материал изделия': '...</td>\n",
       "      <td>15990.0</td>\n",
       "      <td>245318</td>\n",
       "      <td>https://sunlight.net/catalog/earring_245318.html</td>\n",
       "      <td>31 980 ₽</td>\n",
       "      <td>15 990 ₽</td>\n",
       "      <td>9 594 ₽</td>\n",
       "      <td>['Цены 8 марта! Ещё -5%, код: МАРТ до 20.06']</td>\n",
       "    </tr>\n",
       "    <tr>\n",
       "      <th>18</th>\n",
       "      <td>18-06-2024</td>\n",
       "      <td>Sunlight</td>\n",
       "      <td>\\n    Золотое кольцо с изумрудами и бриллианта...</td>\n",
       "      <td>Кольца</td>\n",
       "      <td>{'Модель': '71533-K5R-01', 'Материал изделия':...</td>\n",
       "      <td>31990.0</td>\n",
       "      <td>283610</td>\n",
       "      <td>https://sunlight.net/catalog/ring_283610.html</td>\n",
       "      <td>63 980 ₽</td>\n",
       "      <td>31 990 ₽</td>\n",
       "      <td>19 194 ₽</td>\n",
       "      <td>['Ещё -10% при покупке двух, код: ДВА', 'Ещё -...</td>\n",
       "    </tr>\n",
       "    <tr>\n",
       "      <th>19</th>\n",
       "      <td>18-06-2024</td>\n",
       "      <td>Sunlight</td>\n",
       "      <td>\\n    Золотые серьги с празиолитами\\n</td>\n",
       "      <td>Серьги</td>\n",
       "      <td>{'Модель': '2111442_01*', 'Материал изделия': ...</td>\n",
       "      <td>37990.0</td>\n",
       "      <td>279401</td>\n",
       "      <td>https://sunlight.net/catalog/earring_279401.html</td>\n",
       "      <td>75 980 ₽</td>\n",
       "      <td>37 990 ₽</td>\n",
       "      <td>22 794 ₽</td>\n",
       "      <td>['Ещё -10% при покупке двух, код: ДВА', 'Ещё -...</td>\n",
       "    </tr>\n",
       "  </tbody>\n",
       "</table>\n",
       "</div>"
      ],
      "text/plain": [
       "          date competitor                                               name  \\\n",
       "0   18-06-2024   Sunlight                           \\n    Золотые серьги\\n     \n",
       "1   18-06-2024   Sunlight            \\n    Золотое кольцо с бриллиантами\\n     \n",
       "2   18-06-2024   Sunlight                         \\n    Золотая подвеска\\n     \n",
       "3   18-06-2024   Sunlight            \\n    Золотые серьги с бриллиантами\\n     \n",
       "4   18-06-2024   Sunlight               \\n    Золотые серьги с фианитами\\n     \n",
       "5   18-06-2024   Sunlight               \\n    Золотые серьги с фианитами\\n     \n",
       "6   18-06-2024   Sunlight            \\n    Золотое кольцо c бриллиантами\\n     \n",
       "7   18-06-2024   Sunlight  \\n    Золотые серьги с сапфирами и бриллиантам...   \n",
       "8   18-06-2024   Sunlight            \\n    Золотые серьги с бриллиантами\\n     \n",
       "9   18-06-2024   Sunlight               \\n    Золотые серьги с фианитами\\n     \n",
       "10  18-06-2024   Sunlight              \\n    Золотая подвеска с рубинами\\n     \n",
       "11  18-06-2024   Sunlight  \\n    Золотые серьги с рубинами и бриллиантами...   \n",
       "12  18-06-2024   Sunlight               \\n    Золотые серьги с фианитами\\n     \n",
       "13  18-06-2024   Sunlight            \\n    Золотые серьги с бриллиантами\\n     \n",
       "14  18-06-2024   Sunlight  \\n    Золотая подвеска с изумрудами и бриллиан...   \n",
       "15  18-06-2024   Sunlight               \\n    Золотые серьги с фианитами\\n     \n",
       "16  18-06-2024   Sunlight  \\n    Золотая подвеска с топазами и бриллианта...   \n",
       "17  18-06-2024   Sunlight               \\n    Золотые серьги с фианитами\\n     \n",
       "18  18-06-2024   Sunlight  \\n    Золотое кольцо с изумрудами и бриллианта...   \n",
       "19  18-06-2024   Sunlight            \\n    Золотые серьги с празиолитами\\n     \n",
       "\n",
       "       group                                             params   price_x  \\\n",
       "0     Серьги  {'Модель': '221223*', 'Материал изделия': 'Роз...   32990.0   \n",
       "1     Кольца  {'Модель': '73586-K5Y-01', 'Материал изделия':...   71990.0   \n",
       "2   Подвески  {'Модель': '00-63-0170-00*', 'Материал изделия...   28990.0   \n",
       "3     Серьги  {'Модель': '71221-С5R-01', 'Материал изделия':...   45990.0   \n",
       "4     Серьги  {'Модель': '2139881010*', 'Материал изделия': ...   23990.0   \n",
       "5     Серьги  {'Модель': '127910*', 'Материал изделия': 'Роз...   21990.0   \n",
       "6     Кольца  {'Модель': '2804-K5R-02', 'Материал изделия': ...   69990.0   \n",
       "7     Серьги  {'Модель': '73601-C5W-01', 'Материал изделия':...  114990.0   \n",
       "8     Серьги  {'Модель': '70486-C5R-01', 'Материал изделия':...  109990.0   \n",
       "9     Серьги  {'Модель': '1125294/8*', 'Материал изделия': '...    7490.0   \n",
       "10  Подвески  {'Модель': '70367-P5R-02', 'Материал изделия':...   37990.0   \n",
       "11    Серьги  {'Модель': '70498-C5R-02', 'Материал изделия':...   49990.0   \n",
       "12    Серьги  {'Модель': '13-02-0001-28771*', 'Материал изде...   16990.0   \n",
       "13    Серьги  {'Модель': '73626-C5R-01', 'Материал изделия':...   49990.0   \n",
       "14  Подвески  {'Модель': '6227-P5R-08', 'Материал изделия': ...   28990.0   \n",
       "15    Серьги  {'Модель': '022597*', 'Материал изделия': 'Роз...   32990.0   \n",
       "16  Подвески  {'Модель': '9106-P5R-07', 'Материал изделия': ...    9490.0   \n",
       "17    Серьги  {'Модель': 'С132-1213*', 'Материал изделия': '...   15990.0   \n",
       "18    Кольца  {'Модель': '71533-K5R-01', 'Материал изделия':...   31990.0   \n",
       "19    Серьги  {'Модель': '2111442_01*', 'Материал изделия': ...   37990.0   \n",
       "\n",
       "    article                                                url  price_old  \\\n",
       "0     87003    https://sunlight.net/catalog/earring_87003.html   65 980 ₽   \n",
       "1    990408      https://sunlight.net/catalog/ring_990408.html  143 980 ₽   \n",
       "2    991939  https://sunlight.net/catalog/pendants_991939.html   57 980 ₽   \n",
       "3    275421   https://sunlight.net/catalog/earring_275421.html   91 980 ₽   \n",
       "4    349502   https://sunlight.net/catalog/earring_349502.html   47 980 ₽   \n",
       "5    345832   https://sunlight.net/catalog/earring_345832.html   43 980 ₽   \n",
       "6     17945       https://sunlight.net/catalog/ring_17945.html  139 980 ₽   \n",
       "7    985649   https://sunlight.net/catalog/earring_985649.html  229 980 ₽   \n",
       "8    106332   https://sunlight.net/catalog/earring_106332.html  219 980 ₽   \n",
       "9    335890   https://sunlight.net/catalog/earring_335890.html   14 980 ₽   \n",
       "10   347451  https://sunlight.net/catalog/pendants_347451.html   75 980 ₽   \n",
       "11   107158   https://sunlight.net/catalog/earring_107158.html   99 980 ₽   \n",
       "12   268924   https://sunlight.net/catalog/earring_268924.html   33 980 ₽   \n",
       "13   988414   https://sunlight.net/catalog/earring_988414.html   99 980 ₽   \n",
       "14    51661   https://sunlight.net/catalog/pendants_51661.html   57 980 ₽   \n",
       "15   992731   https://sunlight.net/catalog/earring_992731.html   65 980 ₽   \n",
       "16    57340   https://sunlight.net/catalog/pendants_57340.html   18 980 ₽   \n",
       "17   245318   https://sunlight.net/catalog/earring_245318.html   31 980 ₽   \n",
       "18   283610      https://sunlight.net/catalog/ring_283610.html   63 980 ₽   \n",
       "19   279401   https://sunlight.net/catalog/earring_279401.html   75 980 ₽   \n",
       "\n",
       "      price_y price_personal  \\\n",
       "0    32 990 ₽       19 794 ₽   \n",
       "1    71 990 ₽       43 990 ₽   \n",
       "2    28 990 ₽       17 394 ₽   \n",
       "3    45 990 ₽       27 594 ₽   \n",
       "4    23 990 ₽       14 394 ₽   \n",
       "5    21 990 ₽       13 194 ₽   \n",
       "6    69 990 ₽       41 994 ₽   \n",
       "7   114 990 ₽       86 990 ₽   \n",
       "8   109 990 ₽       81 990 ₽   \n",
       "9     7 490 ₽        4 494 ₽   \n",
       "10   37 990 ₽       22 794 ₽   \n",
       "11   49 990 ₽       29 994 ₽   \n",
       "12   16 990 ₽       10 194 ₽   \n",
       "13   49 990 ₽       29 994 ₽   \n",
       "14   28 990 ₽       17 394 ₽   \n",
       "15   32 990 ₽       19 794 ₽   \n",
       "16    9 490 ₽        5 694 ₽   \n",
       "17   15 990 ₽        9 594 ₽   \n",
       "18   31 990 ₽       19 194 ₽   \n",
       "19   37 990 ₽       22 794 ₽   \n",
       "\n",
       "                                             discount  \n",
       "0       ['Цены 8 марта! Ещё -5%, код: МАРТ до 20.06']  \n",
       "1   ['Ещё -10% при покупке двух, код: ДВА', 'Ещё -...  \n",
       "2       ['Цены 8 марта! Ещё -5%, код: МАРТ до 20.06']  \n",
       "3       ['Цены 8 марта! Ещё -5%, код: МАРТ до 20.06']  \n",
       "4       ['Цены 8 марта! Ещё -5%, код: МАРТ до 20.06']  \n",
       "5       ['Цены 8 марта! Ещё -5%, код: МАРТ до 20.06']  \n",
       "6       ['Цены 8 марта! Ещё -5%, код: МАРТ до 20.06']  \n",
       "7       ['Цены 8 марта! Ещё -5%, код: МАРТ до 20.06']  \n",
       "8       ['Цены 8 марта! Ещё -5%, код: МАРТ до 20.06']  \n",
       "9      ['Цены 8 марта! Ещё -10%, код: МАРТ до 20.06']  \n",
       "10  ['Ещё -10% при покупке двух, код: ДВА', 'Ещё -...  \n",
       "11  ['Ещё -10% при покупке двух, код: ДВА', 'Ещё -...  \n",
       "12      ['Цены 8 марта! Ещё -5%, код: МАРТ до 20.06']  \n",
       "13  ['Ещё -10% при покупке двух, код: ДВА', 'Ещё -...  \n",
       "14      ['Цены 8 марта! Ещё -5%, код: МАРТ до 20.06']  \n",
       "15  ['Ещё -10% при покупке двух, код: ДВА', 'Ещё -...  \n",
       "16      ['Цены 8 марта! Ещё -5%, код: МАРТ до 20.06']  \n",
       "17      ['Цены 8 марта! Ещё -5%, код: МАРТ до 20.06']  \n",
       "18  ['Ещё -10% при покупке двух, код: ДВА', 'Ещё -...  \n",
       "19  ['Ещё -10% при покупке двух, код: ДВА', 'Ещё -...  "
      ]
     },
     "execution_count": 39,
     "metadata": {},
     "output_type": "execute_result"
    }
   ],
   "source": [
    "data.head(20)"
   ]
  },
  {
   "cell_type": "code",
   "execution_count": 40,
   "id": "a997900f-aa12-4dbc-bf7d-9c2307055774",
   "metadata": {
    "tags": []
   },
   "outputs": [],
   "source": [
    "data.to_csv(r'C:\\Users\\Trenkin.Sergey\\Desktop\\parsers\\workspace\\\\' + f'sunlight_all_{day_now}_{month_now}_{datetime.today().year}.csv', index=False)"
   ]
  },
  {
   "cell_type": "code",
   "execution_count": 41,
   "id": "ebff4bdd",
   "metadata": {},
   "outputs": [],
   "source": [
    "previous = pd.read_csv(r'\\\\gold585.int\\uk\\Общее хранилище файлов\\Служба аналитики\\МЮР\\parsed_data\\sunlight_raw.csv')"
   ]
  },
  {
   "cell_type": "code",
   "execution_count": 42,
   "id": "2be7142b",
   "metadata": {},
   "outputs": [],
   "source": [
    "data = pd.concat([previous, data], ignore_index=True)"
   ]
  },
  {
   "cell_type": "code",
   "execution_count": 43,
   "id": "7246895b",
   "metadata": {},
   "outputs": [
    {
     "data": {
      "text/html": [
       "<div>\n",
       "<style scoped>\n",
       "    .dataframe tbody tr th:only-of-type {\n",
       "        vertical-align: middle;\n",
       "    }\n",
       "\n",
       "    .dataframe tbody tr th {\n",
       "        vertical-align: top;\n",
       "    }\n",
       "\n",
       "    .dataframe thead th {\n",
       "        text-align: right;\n",
       "    }\n",
       "</style>\n",
       "<table border=\"1\" class=\"dataframe\">\n",
       "  <thead>\n",
       "    <tr style=\"text-align: right;\">\n",
       "      <th></th>\n",
       "      <th>date</th>\n",
       "      <th>competitor</th>\n",
       "      <th>name</th>\n",
       "      <th>group</th>\n",
       "      <th>params</th>\n",
       "      <th>price_x</th>\n",
       "      <th>article</th>\n",
       "      <th>url</th>\n",
       "      <th>price_old</th>\n",
       "      <th>price_y</th>\n",
       "      <th>price_personal</th>\n",
       "      <th>discount</th>\n",
       "    </tr>\n",
       "  </thead>\n",
       "  <tbody>\n",
       "    <tr>\n",
       "      <th>0</th>\n",
       "      <td>21-05-2024</td>\n",
       "      <td>Sunlight</td>\n",
       "      <td>\\n    Золотое кольцо с бриллиантами\\n</td>\n",
       "      <td>Кольца</td>\n",
       "      <td>{'Модель': '71409-K5W-02', 'Материал изделия':...</td>\n",
       "      <td>99990.0</td>\n",
       "      <td>985936</td>\n",
       "      <td>https://sunlight.net/catalog/ring_985936.html</td>\n",
       "      <td>199 980 ₽</td>\n",
       "      <td>99 990 ₽</td>\n",
       "      <td>82 990 ₽</td>\n",
       "      <td>['Ещё -35% по коду: ЗОЛОТО до 23:59']</td>\n",
       "    </tr>\n",
       "    <tr>\n",
       "      <th>1</th>\n",
       "      <td>21-05-2024</td>\n",
       "      <td>Sunlight</td>\n",
       "      <td>\\n    Золотой браслет с бриллиантами\\n</td>\n",
       "      <td>Браслеты</td>\n",
       "      <td>{'Модель': '73353-B5R-01', 'Материал изделия':...</td>\n",
       "      <td>399990.0</td>\n",
       "      <td>985849</td>\n",
       "      <td>https://sunlight.net/catalog/bracelets_985849....</td>\n",
       "      <td>799 980 ₽</td>\n",
       "      <td>399 990 ₽</td>\n",
       "      <td>382 990 ₽</td>\n",
       "      <td>['Второе бесплатно, код:1=2 до 27.05']</td>\n",
       "    </tr>\n",
       "    <tr>\n",
       "      <th>2</th>\n",
       "      <td>21-05-2024</td>\n",
       "      <td>Sunlight</td>\n",
       "      <td>\\n    Золотая цепь\\n</td>\n",
       "      <td>Цепи</td>\n",
       "      <td>{'Модель': '01Ц032974Д*', 'Материал изделия': ...</td>\n",
       "      <td>133820.0</td>\n",
       "      <td>343470</td>\n",
       "      <td>https://sunlight.net/catalog/chains_343470.html</td>\n",
       "      <td>267 640 ₽</td>\n",
       "      <td>133 820 ₽</td>\n",
       "      <td>116 820 ₽</td>\n",
       "      <td>['Ещё -35% по коду: ЗОЛОТО до 23:59']</td>\n",
       "    </tr>\n",
       "    <tr>\n",
       "      <th>3</th>\n",
       "      <td>21-05-2024</td>\n",
       "      <td>Sunlight</td>\n",
       "      <td>\\n    Золотая цепь\\n</td>\n",
       "      <td>Цепи</td>\n",
       "      <td>{'Модель': '01Ц012974Д*', 'Материал изделия': ...</td>\n",
       "      <td>148990.0</td>\n",
       "      <td>343469</td>\n",
       "      <td>https://sunlight.net/catalog/chains_343469.html</td>\n",
       "      <td>297 980 ₽</td>\n",
       "      <td>148 990 ₽</td>\n",
       "      <td>131 990 ₽</td>\n",
       "      <td>['Ещё -35% по коду: ЗОЛОТО до 23:59']</td>\n",
       "    </tr>\n",
       "    <tr>\n",
       "      <th>4</th>\n",
       "      <td>21-05-2024</td>\n",
       "      <td>Sunlight</td>\n",
       "      <td>\\n    Золотая цепь\\n</td>\n",
       "      <td>Цепи</td>\n",
       "      <td>{'Модель': '45-0029-10*', 'Материал изделия': ...</td>\n",
       "      <td>106200.0</td>\n",
       "      <td>343447</td>\n",
       "      <td>https://sunlight.net/catalog/chains_343447.html</td>\n",
       "      <td>212 400 ₽</td>\n",
       "      <td>106 200 ₽</td>\n",
       "      <td>89 200 ₽</td>\n",
       "      <td>['Ещё -35% по коду: ЗОЛОТО до 23:59']</td>\n",
       "    </tr>\n",
       "    <tr>\n",
       "      <th>...</th>\n",
       "      <td>...</td>\n",
       "      <td>...</td>\n",
       "      <td>...</td>\n",
       "      <td>...</td>\n",
       "      <td>...</td>\n",
       "      <td>...</td>\n",
       "      <td>...</td>\n",
       "      <td>...</td>\n",
       "      <td>...</td>\n",
       "      <td>...</td>\n",
       "      <td>...</td>\n",
       "      <td>...</td>\n",
       "    </tr>\n",
       "    <tr>\n",
       "      <th>80354</th>\n",
       "      <td>18-06-2024</td>\n",
       "      <td>Sunlight</td>\n",
       "      <td>\\n    Золотые серьги с агатом и бриллиантами\\n</td>\n",
       "      <td>Серьги</td>\n",
       "      <td>{'Модель': '71794-C5R-01', 'Материал изделия':...</td>\n",
       "      <td>97990.0</td>\n",
       "      <td>310221</td>\n",
       "      <td>https://sunlight.net/catalog/earring_310221.html</td>\n",
       "      <td>195 980 ₽</td>\n",
       "      <td>97 990 ₽</td>\n",
       "      <td>69 990 ₽</td>\n",
       "      <td>['Цены 8 марта! Ещё -5%, код: МАРТ до 20.06']</td>\n",
       "    </tr>\n",
       "    <tr>\n",
       "      <th>80355</th>\n",
       "      <td>18-06-2024</td>\n",
       "      <td>Sunlight</td>\n",
       "      <td>\\n    Золотые серьги\\n</td>\n",
       "      <td>Серьги</td>\n",
       "      <td>{'Модель': '30906.1*', 'Материал изделия': 'Ро...</td>\n",
       "      <td>5490.0</td>\n",
       "      <td>91078</td>\n",
       "      <td>https://sunlight.net/catalog/earring_91078.html</td>\n",
       "      <td>NaN</td>\n",
       "      <td>5 490 ₽</td>\n",
       "      <td>NaN</td>\n",
       "      <td>['ХИТ-цена']</td>\n",
       "    </tr>\n",
       "    <tr>\n",
       "      <th>80356</th>\n",
       "      <td>18-06-2024</td>\n",
       "      <td>Sunlight</td>\n",
       "      <td>\\n    Золотой крест-подвеска\\n</td>\n",
       "      <td>Крест-подвеска</td>\n",
       "      <td>{'Модель': '12623.1*', 'Материал изделия': 'Бе...</td>\n",
       "      <td>9990.0</td>\n",
       "      <td>88213</td>\n",
       "      <td>https://sunlight.net/catalog/pendants_88213.html</td>\n",
       "      <td>19 980 ₽</td>\n",
       "      <td>9 990 ₽</td>\n",
       "      <td>5 994 ₽</td>\n",
       "      <td>['Цены 8 марта! Ещё -5%, код: МАРТ до 20.06']</td>\n",
       "    </tr>\n",
       "    <tr>\n",
       "      <th>80357</th>\n",
       "      <td>18-06-2024</td>\n",
       "      <td>Sunlight</td>\n",
       "      <td>\\n    Золотые серьги с изумрудами и бриллианта...</td>\n",
       "      <td>Серьги</td>\n",
       "      <td>{'Модель': '70990-C5R-01', 'Материал изделия':...</td>\n",
       "      <td>54990.0</td>\n",
       "      <td>253164</td>\n",
       "      <td>https://sunlight.net/catalog/earring_253164.html</td>\n",
       "      <td>183 300 ₽</td>\n",
       "      <td>54 990 ₽</td>\n",
       "      <td>32 994 ₽</td>\n",
       "      <td>['Цены 8 марта! Ещё -5%, код: МАРТ до 20.06']</td>\n",
       "    </tr>\n",
       "    <tr>\n",
       "      <th>80358</th>\n",
       "      <td>18-06-2024</td>\n",
       "      <td>Sunlight</td>\n",
       "      <td>\\n    Золотая цепь\\n</td>\n",
       "      <td>Цепи</td>\n",
       "      <td>{'Модель': 'НЦ 12-076 0,50*', 'Материал издели...</td>\n",
       "      <td>32957.0</td>\n",
       "      <td>84022</td>\n",
       "      <td>https://sunlight.net/catalog/chains_84022.html</td>\n",
       "      <td>NaN</td>\n",
       "      <td>32 957 ₽</td>\n",
       "      <td>NaN</td>\n",
       "      <td>['ХИТ-цена']</td>\n",
       "    </tr>\n",
       "  </tbody>\n",
       "</table>\n",
       "<p>80359 rows × 12 columns</p>\n",
       "</div>"
      ],
      "text/plain": [
       "             date competitor  \\\n",
       "0      21-05-2024   Sunlight   \n",
       "1      21-05-2024   Sunlight   \n",
       "2      21-05-2024   Sunlight   \n",
       "3      21-05-2024   Sunlight   \n",
       "4      21-05-2024   Sunlight   \n",
       "...           ...        ...   \n",
       "80354  18-06-2024   Sunlight   \n",
       "80355  18-06-2024   Sunlight   \n",
       "80356  18-06-2024   Sunlight   \n",
       "80357  18-06-2024   Sunlight   \n",
       "80358  18-06-2024   Sunlight   \n",
       "\n",
       "                                                    name           group  \\\n",
       "0                \\n    Золотое кольцо с бриллиантами\\n            Кольца   \n",
       "1               \\n    Золотой браслет с бриллиантами\\n          Браслеты   \n",
       "2                                 \\n    Золотая цепь\\n              Цепи   \n",
       "3                                 \\n    Золотая цепь\\n              Цепи   \n",
       "4                                 \\n    Золотая цепь\\n              Цепи   \n",
       "...                                                  ...             ...   \n",
       "80354   \\n    Золотые серьги с агатом и бриллиантами\\n            Серьги   \n",
       "80355                           \\n    Золотые серьги\\n            Серьги   \n",
       "80356                   \\n    Золотой крест-подвеска\\n    Крест-подвеска   \n",
       "80357  \\n    Золотые серьги с изумрудами и бриллианта...          Серьги   \n",
       "80358                             \\n    Золотая цепь\\n              Цепи   \n",
       "\n",
       "                                                  params   price_x  article  \\\n",
       "0      {'Модель': '71409-K5W-02', 'Материал изделия':...   99990.0   985936   \n",
       "1      {'Модель': '73353-B5R-01', 'Материал изделия':...  399990.0   985849   \n",
       "2      {'Модель': '01Ц032974Д*', 'Материал изделия': ...  133820.0   343470   \n",
       "3      {'Модель': '01Ц012974Д*', 'Материал изделия': ...  148990.0   343469   \n",
       "4      {'Модель': '45-0029-10*', 'Материал изделия': ...  106200.0   343447   \n",
       "...                                                  ...       ...      ...   \n",
       "80354  {'Модель': '71794-C5R-01', 'Материал изделия':...   97990.0   310221   \n",
       "80355  {'Модель': '30906.1*', 'Материал изделия': 'Ро...    5490.0    91078   \n",
       "80356  {'Модель': '12623.1*', 'Материал изделия': 'Бе...    9990.0    88213   \n",
       "80357  {'Модель': '70990-C5R-01', 'Материал изделия':...   54990.0   253164   \n",
       "80358  {'Модель': 'НЦ 12-076 0,50*', 'Материал издели...   32957.0    84022   \n",
       "\n",
       "                                                     url  price_old  \\\n",
       "0          https://sunlight.net/catalog/ring_985936.html  199 980 ₽   \n",
       "1      https://sunlight.net/catalog/bracelets_985849....  799 980 ₽   \n",
       "2        https://sunlight.net/catalog/chains_343470.html  267 640 ₽   \n",
       "3        https://sunlight.net/catalog/chains_343469.html  297 980 ₽   \n",
       "4        https://sunlight.net/catalog/chains_343447.html  212 400 ₽   \n",
       "...                                                  ...        ...   \n",
       "80354   https://sunlight.net/catalog/earring_310221.html  195 980 ₽   \n",
       "80355    https://sunlight.net/catalog/earring_91078.html        NaN   \n",
       "80356   https://sunlight.net/catalog/pendants_88213.html   19 980 ₽   \n",
       "80357   https://sunlight.net/catalog/earring_253164.html  183 300 ₽   \n",
       "80358     https://sunlight.net/catalog/chains_84022.html        NaN   \n",
       "\n",
       "         price_y price_personal                                       discount  \n",
       "0       99 990 ₽       82 990 ₽          ['Ещё -35% по коду: ЗОЛОТО до 23:59']  \n",
       "1      399 990 ₽      382 990 ₽         ['Второе бесплатно, код:1=2 до 27.05']  \n",
       "2      133 820 ₽      116 820 ₽          ['Ещё -35% по коду: ЗОЛОТО до 23:59']  \n",
       "3      148 990 ₽      131 990 ₽          ['Ещё -35% по коду: ЗОЛОТО до 23:59']  \n",
       "4      106 200 ₽       89 200 ₽          ['Ещё -35% по коду: ЗОЛОТО до 23:59']  \n",
       "...          ...            ...                                            ...  \n",
       "80354   97 990 ₽       69 990 ₽  ['Цены 8 марта! Ещё -5%, код: МАРТ до 20.06']  \n",
       "80355    5 490 ₽            NaN                                   ['ХИТ-цена']  \n",
       "80356    9 990 ₽        5 994 ₽  ['Цены 8 марта! Ещё -5%, код: МАРТ до 20.06']  \n",
       "80357   54 990 ₽       32 994 ₽  ['Цены 8 марта! Ещё -5%, код: МАРТ до 20.06']  \n",
       "80358   32 957 ₽            NaN                                   ['ХИТ-цена']  \n",
       "\n",
       "[80359 rows x 12 columns]"
      ]
     },
     "execution_count": 43,
     "metadata": {},
     "output_type": "execute_result"
    }
   ],
   "source": [
    "data"
   ]
  },
  {
   "cell_type": "code",
   "execution_count": 44,
   "id": "881f3ca7",
   "metadata": {},
   "outputs": [],
   "source": [
    "data.to_csv(rf'\\\\gold585.int\\uk\\Общее хранилище файлов\\Служба аналитики\\МЮР\\parsed_data\\sunlight_raw.csv', index=False)"
   ]
  },
  {
   "cell_type": "code",
   "execution_count": 45,
   "id": "c79f2675",
   "metadata": {},
   "outputs": [],
   "source": [
    "def delete_files_in_folder(folder_path):\n",
    "    for filename in os.listdir(folder_path):\n",
    "        file_path = os.path.join(folder_path, filename)\n",
    "        try:\n",
    "            if os.path.isfile(file_path):\n",
    "                os.remove(file_path)\n",
    "        except Exception as e:\n",
    "            print(f'Ошибка при удалении файла {file_path}. {e}')"
   ]
  },
  {
   "cell_type": "code",
   "execution_count": 46,
   "id": "4fc475c1",
   "metadata": {},
   "outputs": [],
   "source": [
    "delete_files_in_folder('C:\\\\Users\\Trenkin.Sergey\\Desktop\\parsers\\sunlight_current_data')\n",
    "delete_files_in_folder('C:\\\\Users\\Trenkin.Sergey\\Desktop\\parsers\\sunlight_current_data\\discounts')"
   ]
  },
  {
   "cell_type": "code",
   "execution_count": null,
   "id": "1c889881",
   "metadata": {},
   "outputs": [],
   "source": []
  }
 ],
 "metadata": {
  "kernelspec": {
   "display_name": "Python 3 (ipykernel)",
   "language": "python",
   "name": "python3"
  },
  "language_info": {
   "codemirror_mode": {
    "name": "ipython",
    "version": 3
   },
   "file_extension": ".py",
   "mimetype": "text/x-python",
   "name": "python",
   "nbconvert_exporter": "python",
   "pygments_lexer": "ipython3",
   "version": "3.12.0"
  }
 },
 "nbformat": 4,
 "nbformat_minor": 5
}
