{
 "cells": [
  {
   "cell_type": "code",
   "execution_count": 1,
   "id": "0de2798c-82a4-4564-9f25-675ef49ea9a7",
   "metadata": {
    "tags": []
   },
   "outputs": [],
   "source": [
    "import json\n",
    "import re\n",
    "import time\n",
    "import requests\n",
    "import numpy as np\n",
    "import pandas as pd\n",
    "import os\n",
    "import glob\n",
    "from tqdm import tqdm\n",
    "import datetime as dt\n",
    "from bs4 import BeautifulSoup\n",
    "from fake_useragent import UserAgent\n",
    "import warnings\n",
    "warnings.filterwarnings('ignore')"
   ]
  },
  {
   "cell_type": "code",
   "execution_count": 2,
   "id": "6073ea0a-a53b-4c27-9a06-2c13d2c38e0e",
   "metadata": {
    "tags": []
   },
   "outputs": [],
   "source": [
    "date_now = dt.datetime.now().date().strftime('%d.%m.%Y')\n",
    "way = os.getcwd()"
   ]
  },
  {
   "cell_type": "markdown",
   "id": "28c397fc-d1ff-43b7-9815-46ec328e9fb5",
   "metadata": {},
   "source": [
    "# Cookies and Headers для парсинга скидки и цены"
   ]
  },
  {
   "cell_type": "code",
   "execution_count": 3,
   "id": "8f8f8bd1-9a62-4c54-b774-8aa3a44c1d1d",
   "metadata": {
    "tags": []
   },
   "outputs": [],
   "source": [
    "cookies_discount = {\n",
    "    'tmr_lvid': '286726132090325c59b36aa6b5e4aeaa',\n",
    "    'tmr_lvidTS': '1692163620235',\n",
    "    '_ym_uid': '1692163620496112993',\n",
    "    '_ym_d': '1692163620',\n",
    "    'city_id': '118',\n",
    "    'city_name': '%D0%A1%D0%B0%D0%BD%D0%BA%D1%82-%D0%9F%D0%B5%D1%82%D0%B5%D1%80%D0%B1%D1%83%D1%80%D0%B3',\n",
    "    'city_full_name': '%D0%A1%D0%B0%D0%BD%D0%BA%D1%82-%D0%9F%D0%B5%D1%82%D0%B5%D1%80%D0%B1%D1%83%D1%80%D0%B3',\n",
    "    'region_id': '090a0c31-3b91-49a3-aa35-0c784898170b',\n",
    "    'region_name': '%D0%A1%D0%B0%D0%BD%D0%BA%D1%82-%D0%9F%D0%B5%D1%82%D0%B5%D1%80%D0%B1%D1%83%D1%80%D0%B3',\n",
    "    'region_subdomain': 'spb',\n",
    "    '_tt_enable_cookie': '1',\n",
    "    '_ttp': 'tbKEEA3IkGrgdKpaT6-HRNf0K8h',\n",
    "    'ccart': 'off',\n",
    "    'uxs_uid': '898ab7e0-3bf5-11ee-8efe-f5b770db12a1',\n",
    "    'loggedin': '%D0%AE%D1%80%D0%B8%D0%B9',\n",
    "    'cseid': 'f4935df6bdac0029832e99cef94a5bc2',\n",
    "    'sessionid': 'nr24mlml3ze25rk734gkkmgx3yv9ou7x',\n",
    "    'authorization': 'true',\n",
    "    'mindboxDeviceUUID': 'c254fa3f-cfcd-4146-9778-65be21c6a4df',\n",
    "    'directCrm-session': '%7B%22deviceGuid%22%3A%22c254fa3f-cfcd-4146-9778-65be21c6a4df%22%7D',\n",
    "    'auid': '651660ce-a06e-4b17-bd6f-69feaf135b08:1r5lu8:WYtTZugo2xVE6SqAc5ZSp_W-n1s5ztPHYxPs8YIwGQA',\n",
    "    '_ga_G74SVHM1ZG': 'GS1.2.1700824600.19.0.1700824600.60.0.0',\n",
    "    '_ga_GRDJMMMRHQ': 'GS1.2.1700824600.33.0.1700824601.59.0.0',\n",
    "    '_ga_GRSMPDQ6SE': 'GS1.2.1700824598.88.1.1700825516.60.0.0',\n",
    "    '_ga_M9ZHPEJXBM': 'GS1.2.1700824599.88.1.1700825517.60.0.0',\n",
    "    'qr-go-to-the-app-banner': '1',\n",
    "    'sncid': 'b36ee46b-981d-11e5-add2-0050568f2465:1rBa43:O1Wy8KuwGDddSCM7NMHFsjGhdPaqxcjhdblvWWbVams',\n",
    "    'clt': 'new_old',\n",
    "    '_ym_isad': '2',\n",
    "    '_gid': 'GA1.2.2131018395.1702274408',\n",
    "    'city_auto_popup_shown': '1',\n",
    "    '_ym_visorc': 'b',\n",
    "    '_ga': 'GA1.2.333284150.1692163620',\n",
    "    '_ga_HJNSJ6NG5J': 'GS1.1.1702276831.120.1.1702280271.20.0.0',\n",
    "    'digi_uc': 'W1sidiIsIjM0OTMxNCIsMTcwMjI4MTIxMjA0Nl0sWyJ2IiwiODQwMjIiLDE3MDIyODAyMzEzNjZdLFsidiIsIjQ2Nzk3IiwxNzAyMjgwMTI4Mzc3XSxbInYiLCI5OTM3NTQiLDE3MDIyNzgwMTczMjddLFsidiIsIjE0NjUyMSIsMTcwMjI3NzI5NDExM10sWyJ2IiwiOTI2ODAiLDE3MDIyNzY5NDQ1NDRdLFsidiIsIjg4MjEzIiwxNzAxODU5MjE3OTg0XSxbInYiLCI5MTAyMSIsMTcwMTg1OTA2ODA2MF0sWyJ2IiwiOTg3MDUwIiwxNzAxNzc4NDc0NzY5XSxbInYiLCIyNTYyMTciLDE3MDEzNDIzNTc4NTRdXQ==',\n",
    "}\n",
    "\n",
    "headers_discount = {\n",
    "    'AB-TESTS': '{}',\n",
    "    'Accept': 'application/json, text/javascript, */*; q=0.01',\n",
    "    'Accept-Language': 'ru-RU,ru;q=0.9,en-US;q=0.8,en;q=0.7',\n",
    "    'Connection': 'keep-alive',\n",
    "    'Content-Type': 'application/json',\n",
    "    # 'Cookie': 'tmr_lvid=286726132090325c59b36aa6b5e4aeaa; tmr_lvidTS=1692163620235; _ym_uid=1692163620496112993; _ym_d=1692163620; city_id=118; city_name=%D0%A1%D0%B0%D0%BD%D0%BA%D1%82-%D0%9F%D0%B5%D1%82%D0%B5%D1%80%D0%B1%D1%83%D1%80%D0%B3; city_full_name=%D0%A1%D0%B0%D0%BD%D0%BA%D1%82-%D0%9F%D0%B5%D1%82%D0%B5%D1%80%D0%B1%D1%83%D1%80%D0%B3; region_id=090a0c31-3b91-49a3-aa35-0c784898170b; region_name=%D0%A1%D0%B0%D0%BD%D0%BA%D1%82-%D0%9F%D0%B5%D1%82%D0%B5%D1%80%D0%B1%D1%83%D1%80%D0%B3; region_subdomain=spb; _tt_enable_cookie=1; _ttp=tbKEEA3IkGrgdKpaT6-HRNf0K8h; ccart=off; uxs_uid=898ab7e0-3bf5-11ee-8efe-f5b770db12a1; loggedin=%D0%AE%D1%80%D0%B8%D0%B9; cseid=f4935df6bdac0029832e99cef94a5bc2; sessionid=nr24mlml3ze25rk734gkkmgx3yv9ou7x; authorization=true; mindboxDeviceUUID=c254fa3f-cfcd-4146-9778-65be21c6a4df; directCrm-session=%7B%22deviceGuid%22%3A%22c254fa3f-cfcd-4146-9778-65be21c6a4df%22%7D; auid=651660ce-a06e-4b17-bd6f-69feaf135b08:1r5lu8:WYtTZugo2xVE6SqAc5ZSp_W-n1s5ztPHYxPs8YIwGQA; _ga_G74SVHM1ZG=GS1.2.1700824600.19.0.1700824600.60.0.0; _ga_GRDJMMMRHQ=GS1.2.1700824600.33.0.1700824601.59.0.0; _ga_GRSMPDQ6SE=GS1.2.1700824598.88.1.1700825516.60.0.0; _ga_M9ZHPEJXBM=GS1.2.1700824599.88.1.1700825517.60.0.0; qr-go-to-the-app-banner=1; sncid=b36ee46b-981d-11e5-add2-0050568f2465:1rBa43:O1Wy8KuwGDddSCM7NMHFsjGhdPaqxcjhdblvWWbVams; clt=new_old; _ym_isad=2; _gid=GA1.2.2131018395.1702274408; city_auto_popup_shown=1; _ym_visorc=b; _ga=GA1.2.333284150.1692163620; _ga_HJNSJ6NG5J=GS1.1.1702276831.120.1.1702280271.20.0.0; digi_uc=W1sidiIsIjM0OTMxNCIsMTcwMjI4MTIxMjA0Nl0sWyJ2IiwiODQwMjIiLDE3MDIyODAyMzEzNjZdLFsidiIsIjQ2Nzk3IiwxNzAyMjgwMTI4Mzc3XSxbInYiLCI5OTM3NTQiLDE3MDIyNzgwMTczMjddLFsidiIsIjE0NjUyMSIsMTcwMjI3NzI5NDExM10sWyJ2IiwiOTI2ODAiLDE3MDIyNzY5NDQ1NDRdLFsidiIsIjg4MjEzIiwxNzAxODU5MjE3OTg0XSxbInYiLCI5MTAyMSIsMTcwMTg1OTA2ODA2MF0sWyJ2IiwiOTg3MDUwIiwxNzAxNzc4NDc0NzY5XSxbInYiLCIyNTYyMTciLDE3MDEzNDIzNTc4NTRdXQ==',\n",
    "    'Origin': 'https://spb.sunlight.net',\n",
    "    'Sec-Fetch-Dest': 'empty',\n",
    "    'Sec-Fetch-Mode': 'cors',\n",
    "    'Sec-Fetch-Site': 'same-site',\n",
    "    'User-Agent': 'Mozilla/5.0 (Windows NT 10.0; Win64; x64) AppleWebKit/537.36 (KHTML, like Gecko) Chrome/120.0.0.0 Safari/537.36',\n",
    "    'X-Requested-With': 'SunlightFrontendApp',\n",
    "    'sec-ch-ua': '\"Not_A Brand\";v=\"8\", \"Chromium\";v=\"120\", \"Google Chrome\";v=\"120\"',\n",
    "    'sec-ch-ua-mobile': '?0',\n",
    "    'sec-ch-ua-platform': '\"Windows\"',\n",
    "}\n",
    "\n",
    "# params = {\n",
    "#     'article': '35517',\n",
    "#     'city_id': '118',\n",
    "# }\n",
    "\n",
    "# response = requests.get(\n",
    "#     'https://api.sunlight.net/v6/catalog/products/card/purchase/',\n",
    "#     params=params,\n",
    "#     cookies=cookies_discount,\n",
    "#     headers=headers_discount,\n",
    "# )"
   ]
  },
  {
   "cell_type": "markdown",
   "id": "80c71c8e-ef5b-4839-9dfc-1e6182abcd2c",
   "metadata": {},
   "source": [
    "# Сбор скидок и цен"
   ]
  },
  {
   "cell_type": "code",
   "execution_count": 4,
   "id": "544d1d64-1b8a-4c62-a5b4-529f239d6cb5",
   "metadata": {
    "tags": []
   },
   "outputs": [],
   "source": [
    "def get_personal_price(table):\n",
    "    data_price = []\n",
    "    for art in tqdm(range(len(table['article']))):\n",
    "        params = {\n",
    "            'article': table['article'][art],\n",
    "            'city_id': '118'\n",
    "        }\n",
    "        try:\n",
    "            price_json = requests.get(\n",
    "                'https://api.sunlight.net/v6/catalog/products/card/prices/',\n",
    "                params=params,\n",
    "                cookies=cookies_discount,\n",
    "                headers=headers_discount,\n",
    "                timeout=15,\n",
    "                verify=False\n",
    "        )\n",
    "        except:\n",
    "            time.sleep(6)\n",
    "            price_json = requests.get(\n",
    "                'https://api.sunlight.net/v6/catalog/products/card/prices/',\n",
    "                params=params,\n",
    "                cookies=cookies_discount,\n",
    "                headers=headers_discount,\n",
    "                timeout=15,\n",
    "                verify=False\n",
    "                            )\n",
    "        try:\n",
    "            discount_json = requests.get(\n",
    "                'https://api.sunlight.net/v6/catalog/products/card/purchase/',\n",
    "                params=params,\n",
    "                cookies=cookies_discount,\n",
    "                headers=headers_discount,\n",
    "                timeout=15,\n",
    "                verify=False\n",
    "                            )\n",
    "        except:\n",
    "            time.sleep(6)\n",
    "            discount_json = requests.get(\n",
    "                'https://api.sunlight.net/v6/catalog/products/card/purchase/',\n",
    "                params=params,\n",
    "                cookies=cookies_discount,\n",
    "                headers=headers_discount,\n",
    "                timeout=15,\n",
    "                verify=False\n",
    "                            )\n",
    "        discount = []\n",
    "        try:\n",
    "            price_old = price_json.json()['content']['default_price']['base_sum']\n",
    "        except:\n",
    "            price_old = np.nan\n",
    "        try:\n",
    "            price = price_json.json()['content']['default_price'][('result_sum')]\n",
    "        except:\n",
    "            price = np.nan\n",
    "        try:\n",
    "            price_personal = price_json.json()['content']['default_price']['personal_block']['value']\n",
    "        except:\n",
    "            price_personal = np.nan\n",
    "\n",
    "        try:\n",
    "            for i in range(len(discount_json.json()['content']['nameplates'])):\n",
    "                discount.append(discount_json.json()['content']['nameplates'][i]['text']['label'])\n",
    "        except:\n",
    "            discount.append(np.nan)\n",
    "            \n",
    "        data_price.append({\n",
    "            'article': table['article'][art],\n",
    "            'price_old': price_old,\n",
    "            'price': price,\n",
    "            'price_personal': price_personal,\n",
    "            'discount': discount\n",
    "\n",
    "        })\n",
    "    return data_price"
   ]
  },
  {
   "cell_type": "markdown",
   "id": "039dc4ab-e90b-422e-a7eb-da872ef9a0cc",
   "metadata": {},
   "source": [
    "# Сбор цены, названия, группы, артикула"
   ]
  },
  {
   "cell_type": "code",
   "execution_count": 5,
   "id": "18788b3a-7f05-42fc-8856-81487b576762",
   "metadata": {},
   "outputs": [],
   "source": [
    "def get_sunlight(soup):\n",
    "    try:\n",
    "        price = soup.find(class_=\"supreme-product-card__price-discount-price\").text\n",
    "        price = re.sub(r'\\D', '', str(price))\n",
    "    except:\n",
    "        price = np.nan\n",
    "    try:\n",
    "        name_product = soup.find('h1', class_=\"supreme-product-card__info-name-title\").text\n",
    "    except:\n",
    "        name_product = np.nan\n",
    "    try:\n",
    "        group_product = soup.find_all('span', {'property': 'name'})[1].text\n",
    "    except:\n",
    "        group_product = np.nan\n",
    "    try:\n",
    "        article_product = soup.find_all('div', class_=\"supreme-product-card__info-name-article\")[0].find('span').text\n",
    "        article_product = re.sub('\\D', '', str(article_product))\n",
    "    except:\n",
    "        article_product = np.nan\n",
    "    return price, name_product, group_product, article_product"
   ]
  },
  {
   "cell_type": "markdown",
   "id": "9147182a-9bbe-4c10-99f5-e7c12cea41ac",
   "metadata": {},
   "source": [
    "# Сбор всех параметров словарем"
   ]
  },
  {
   "cell_type": "code",
   "execution_count": 6,
   "id": "54919764-c77c-48ed-87a7-f0821c4ffbd6",
   "metadata": {
    "tags": []
   },
   "outputs": [],
   "source": [
    "def get_params(soup):\n",
    "    names = []\n",
    "    values = []\n",
    "    leight = len(soup.find_all('span', {'class': 'supreme-product-card-description__item-text'}))\n",
    "    list_names = soup.find_all('div', {'class': 'supreme-product-card-description__item-title'})[-leight:]\n",
    "    for i in range(leight):\n",
    "        try:\n",
    "            nam = list_names[i].text\n",
    "            names.append(nam.replace('\\n', '').strip())\n",
    "        except:\n",
    "            names.append(np.nan)\n",
    "        try:\n",
    "            values.append(soup.find_all('span', {'class': 'supreme-product-card-description__item-text'})[i].text)\n",
    "        except:\n",
    "            values.append(np.nan)\n",
    "    sunlight_params = dict(zip(names, values))\n",
    "    return sunlight_params"
   ]
  },
  {
   "cell_type": "markdown",
   "id": "e3a98a99-7b19-4585-8689-7664e5a26baf",
   "metadata": {
    "tags": []
   },
   "source": [
    "# Сбор ссылок"
   ]
  },
  {
   "cell_type": "code",
   "execution_count": 7,
   "id": "340b4cef-0f0b-4bab-93c0-d2c5c5b79393",
   "metadata": {
    "tags": []
   },
   "outputs": [],
   "source": [
    "def get_links(url_sunlight):\n",
    "    home = 'https://sunlight.net'\n",
    "    links = []\n",
    "    pages_max = 63\n",
    "    \n",
    "    pages = int(pages_max + 1)\n",
    "    for i in tqdm(range(1, pages)):\n",
    "        url = f'{url_sunlight}&page={i}'\n",
    "        resp = requests.get(url, headers={'User-Agent': UserAgent().chrome}, verify=False)\n",
    "        soup = BeautifulSoup(resp.text, 'html.parser')\n",
    "        for link in soup.find_all('div', class_=\"cl-item js-cl-item\"):\n",
    "            links.append(home + link.find('a', href=True)['href'])\n",
    "    links = list(map(lambda x: x.replace('#product-reviews', ''), links))\n",
    "    return links"
   ]
  },
  {
   "cell_type": "markdown",
   "id": "3ed459ba-afaf-4562-afd3-38fc8accc435",
   "metadata": {
    "tags": []
   },
   "source": [
    "# Общий сбор данных"
   ]
  },
  {
   "cell_type": "code",
   "execution_count": 8,
   "id": "4ff1e528-5aad-43fa-bb38-7a84fd5871d9",
   "metadata": {
    "tags": []
   },
   "outputs": [],
   "source": [
    "def sunlight_parser(links):\n",
    "    data = []\n",
    "    click = 0\n",
    "    for link_pars in tqdm(links):\n",
    "        resp = requests.get(link_pars, headers={'User-Agent': UserAgent().chrome}, timeout=70, verify=False)\n",
    "        good = BeautifulSoup(resp.text, 'lxml')\n",
    "        data.append({\"date\": date_now,\n",
    "                    \"competitor\": \"Sunlight\",\n",
    "                    \"name\": get_sunlight(good)[1],\n",
    "                    \"group\": get_sunlight(good)[2],\n",
    "                    \"params\": get_params(good),\n",
    "                    \"price\": get_sunlight(good)[0],\n",
    "                    \"article\": get_sunlight(good)[3],\n",
    "                    'url': link_pars\n",
    "                    })\n",
    "        if click == 500:\n",
    "            time.sleep(2)\n",
    "        else:\n",
    "            continue\n",
    "    data = pd.DataFrame(data)\n",
    "    return data"
   ]
  },
  {
   "cell_type": "code",
   "execution_count": 9,
   "id": "c8a8da36-e515-4a32-9e1a-da4b5607da23",
   "metadata": {
    "tags": []
   },
   "outputs": [
    {
     "name": "stderr",
     "output_type": "stream",
     "text": [
      "  0%|          | 0/63 [00:00<?, ?it/s]"
     ]
    },
    {
     "name": "stderr",
     "output_type": "stream",
     "text": [
      "100%|██████████| 63/63 [00:57<00:00,  1.09it/s]\n"
     ]
    }
   ],
   "source": [
    "links_sunlight = get_links('https://spb.sunlight.net/catalog/?proba=2494&stone=1')"
   ]
  },
  {
   "cell_type": "code",
   "execution_count": 10,
   "id": "37938580",
   "metadata": {},
   "outputs": [],
   "source": [
    "links = pd.DataFrame(links_sunlight)"
   ]
  },
  {
   "cell_type": "code",
   "execution_count": 11,
   "id": "a0cb9f35",
   "metadata": {},
   "outputs": [],
   "source": [
    "links = links.drop_duplicates()"
   ]
  },
  {
   "cell_type": "code",
   "execution_count": 12,
   "id": "7c18eb74",
   "metadata": {},
   "outputs": [],
   "source": [
    "links = pd.DataFrame()"
   ]
  },
  {
   "cell_type": "code",
   "execution_count": 13,
   "id": "b2a1a22d",
   "metadata": {},
   "outputs": [],
   "source": [
    "links.to_csv(f'{way}\\links.csv', index = False)"
   ]
  },
  {
   "cell_type": "code",
   "execution_count": 14,
   "id": "e448f1c9-0512-4bec-a461-fccb0e3fcf80",
   "metadata": {
    "tags": []
   },
   "outputs": [],
   "source": [
    "slices = 10\n",
    "chunks = np.array_split(links_sunlight, slices)"
   ]
  },
  {
   "cell_type": "code",
   "execution_count": 15,
   "id": "289e454a-ff1d-4c0c-a012-f3a6427f81df",
   "metadata": {
    "tags": []
   },
   "outputs": [
    {
     "name": "stdout",
     "output_type": "stream",
     "text": [
      "начало парсинга 1 части ссылок\n"
     ]
    },
    {
     "name": "stderr",
     "output_type": "stream",
     "text": [
      "100%|██████████| 376/376 [05:18<00:00,  1.18it/s]\n"
     ]
    },
    {
     "name": "stdout",
     "output_type": "stream",
     "text": [
      "начало парсинга 2 части ссылок\n"
     ]
    },
    {
     "name": "stderr",
     "output_type": "stream",
     "text": [
      "100%|██████████| 376/376 [05:18<00:00,  1.18it/s]\n"
     ]
    },
    {
     "name": "stdout",
     "output_type": "stream",
     "text": [
      "начало парсинга 3 части ссылок\n"
     ]
    },
    {
     "name": "stderr",
     "output_type": "stream",
     "text": [
      "100%|██████████| 376/376 [05:25<00:00,  1.16it/s]\n"
     ]
    },
    {
     "name": "stdout",
     "output_type": "stream",
     "text": [
      "начало парсинга 4 части ссылок\n"
     ]
    },
    {
     "name": "stderr",
     "output_type": "stream",
     "text": [
      "100%|██████████| 376/376 [05:24<00:00,  1.16it/s]\n"
     ]
    },
    {
     "name": "stdout",
     "output_type": "stream",
     "text": [
      "начало парсинга 5 части ссылок\n"
     ]
    },
    {
     "name": "stderr",
     "output_type": "stream",
     "text": [
      "100%|██████████| 376/376 [05:50<00:00,  1.07it/s]\n"
     ]
    },
    {
     "name": "stdout",
     "output_type": "stream",
     "text": [
      "начало парсинга 6 части ссылок\n"
     ]
    },
    {
     "name": "stderr",
     "output_type": "stream",
     "text": [
      "100%|██████████| 376/376 [05:41<00:00,  1.10it/s]\n"
     ]
    },
    {
     "name": "stdout",
     "output_type": "stream",
     "text": [
      "начало парсинга 7 части ссылок\n"
     ]
    },
    {
     "name": "stderr",
     "output_type": "stream",
     "text": [
      "100%|██████████| 376/376 [05:48<00:00,  1.08it/s]\n"
     ]
    },
    {
     "name": "stdout",
     "output_type": "stream",
     "text": [
      "начало парсинга 8 части ссылок\n"
     ]
    },
    {
     "name": "stderr",
     "output_type": "stream",
     "text": [
      "100%|██████████| 376/376 [05:42<00:00,  1.10it/s]\n"
     ]
    },
    {
     "name": "stdout",
     "output_type": "stream",
     "text": [
      "начало парсинга 9 части ссылок\n"
     ]
    },
    {
     "name": "stderr",
     "output_type": "stream",
     "text": [
      "100%|██████████| 376/376 [05:42<00:00,  1.10it/s]\n"
     ]
    },
    {
     "name": "stdout",
     "output_type": "stream",
     "text": [
      "начало парсинга 10 части ссылок\n"
     ]
    },
    {
     "name": "stderr",
     "output_type": "stream",
     "text": [
      "100%|██████████| 375/375 [03:20<00:00,  1.87it/s]\n"
     ]
    }
   ],
   "source": [
    "n = 0\n",
    "for i in range(n, slices):\n",
    "    n += 1\n",
    "    print(f'начало парсинга {n} части ссылок')\n",
    "    df = sunlight_parser(chunks[i])\n",
    "    df.to_csv(rf'{way}\\parsed_data\\bk_sunlight_{date_now}_{n}.csv', index=False)\n",
    "    time.sleep(5)"
   ]
  },
  {
   "cell_type": "code",
   "execution_count": 16,
   "id": "8a8717a9-4841-4b69-8bf6-34f7026bcbb8",
   "metadata": {
    "tags": []
   },
   "outputs": [
    {
     "data": {
      "text/plain": [
       "['bk_sunlight_28.06.2024_1.csv',\n",
       " 'bk_sunlight_28.06.2024_10.csv',\n",
       " 'bk_sunlight_28.06.2024_2.csv',\n",
       " 'bk_sunlight_28.06.2024_3.csv',\n",
       " 'bk_sunlight_28.06.2024_4.csv',\n",
       " 'bk_sunlight_28.06.2024_5.csv',\n",
       " 'bk_sunlight_28.06.2024_6.csv',\n",
       " 'bk_sunlight_28.06.2024_7.csv',\n",
       " 'bk_sunlight_28.06.2024_8.csv',\n",
       " 'bk_sunlight_28.06.2024_9.csv']"
      ]
     },
     "execution_count": 16,
     "metadata": {},
     "output_type": "execute_result"
    }
   ],
   "source": [
    "os.chdir(rf'{way}\\parsed_data')\n",
    "extension = 'csv'\n",
    "all_filenames = [i for i in glob.glob('bk_sunlight_*.{}'.format(extension))]\n",
    "all_filenames"
   ]
  },
  {
   "cell_type": "code",
   "execution_count": 17,
   "id": "ad28c4b5-5099-4c80-9921-03acd7d51888",
   "metadata": {
    "tags": []
   },
   "outputs": [],
   "source": [
    "data = pd.DataFrame()\n",
    "for name in all_filenames:\n",
    "    df = pd.read_csv(name)\n",
    "    data = pd.concat([data, df], ignore_index= True)"
   ]
  },
  {
   "cell_type": "code",
   "execution_count": 18,
   "id": "58337692-5eb6-4eb5-9115-f144d8abbb81",
   "metadata": {
    "tags": []
   },
   "outputs": [],
   "source": [
    "data = data.dropna().reset_index()\n",
    "data['article'] = data['article'].astype(int)"
   ]
  },
  {
   "cell_type": "code",
   "execution_count": 19,
   "id": "3cc4fba9",
   "metadata": {},
   "outputs": [
    {
     "data": {
      "text/html": [
       "<div>\n",
       "<style scoped>\n",
       "    .dataframe tbody tr th:only-of-type {\n",
       "        vertical-align: middle;\n",
       "    }\n",
       "\n",
       "    .dataframe tbody tr th {\n",
       "        vertical-align: top;\n",
       "    }\n",
       "\n",
       "    .dataframe thead th {\n",
       "        text-align: right;\n",
       "    }\n",
       "</style>\n",
       "<table border=\"1\" class=\"dataframe\">\n",
       "  <thead>\n",
       "    <tr style=\"text-align: right;\">\n",
       "      <th></th>\n",
       "      <th>index</th>\n",
       "      <th>date</th>\n",
       "      <th>competitor</th>\n",
       "      <th>name</th>\n",
       "      <th>group</th>\n",
       "      <th>params</th>\n",
       "      <th>price</th>\n",
       "      <th>article</th>\n",
       "      <th>url</th>\n",
       "    </tr>\n",
       "  </thead>\n",
       "  <tbody>\n",
       "    <tr>\n",
       "      <th>0</th>\n",
       "      <td>0</td>\n",
       "      <td>28.06.2024</td>\n",
       "      <td>Sunlight</td>\n",
       "      <td>\\n    Золотые серьги\\n</td>\n",
       "      <td>Серьги</td>\n",
       "      <td>{'Модель': '200100.16-1ш/з*', 'Материал издели...</td>\n",
       "      <td>10490</td>\n",
       "      <td>271510</td>\n",
       "      <td>https://sunlight.net/catalog/earring_271510.html</td>\n",
       "    </tr>\n",
       "    <tr>\n",
       "      <th>1</th>\n",
       "      <td>1</td>\n",
       "      <td>28.06.2024</td>\n",
       "      <td>Sunlight</td>\n",
       "      <td>\\n    Золотые серьги\\n</td>\n",
       "      <td>Серьги</td>\n",
       "      <td>{'Модель': '200200.4-1ш/з*', 'Материал изделия...</td>\n",
       "      <td>9990</td>\n",
       "      <td>271409</td>\n",
       "      <td>https://sunlight.net/catalog/earring_271409.html</td>\n",
       "    </tr>\n",
       "    <tr>\n",
       "      <th>2</th>\n",
       "      <td>2</td>\n",
       "      <td>28.06.2024</td>\n",
       "      <td>Sunlight</td>\n",
       "      <td>\\n    Золотые серьги\\n</td>\n",
       "      <td>Серьги</td>\n",
       "      <td>{'Модель': '10-00-0000-27628*', 'Материал изде...</td>\n",
       "      <td>20990</td>\n",
       "      <td>235978</td>\n",
       "      <td>https://sunlight.net/catalog/earring_235978.html</td>\n",
       "    </tr>\n",
       "    <tr>\n",
       "      <th>3</th>\n",
       "      <td>3</td>\n",
       "      <td>28.06.2024</td>\n",
       "      <td>Sunlight</td>\n",
       "      <td>\\n    Золотой крест-подвеска\\n</td>\n",
       "      <td>Крест-подвеска</td>\n",
       "      <td>{'Модель': '10021700*', 'Материал изделия': 'Р...</td>\n",
       "      <td>7990</td>\n",
       "      <td>74404</td>\n",
       "      <td>https://sunlight.net/catalog/pendants_74404.html</td>\n",
       "    </tr>\n",
       "    <tr>\n",
       "      <th>4</th>\n",
       "      <td>4</td>\n",
       "      <td>28.06.2024</td>\n",
       "      <td>Sunlight</td>\n",
       "      <td>\\n    Золотое шейное украшение\\n</td>\n",
       "      <td>Шейное украшение</td>\n",
       "      <td>{'Модель': '6030408-40*', 'Материал изделия': ...</td>\n",
       "      <td>15990</td>\n",
       "      <td>334031</td>\n",
       "      <td>https://sunlight.net/catalog/necklace_119474.html</td>\n",
       "    </tr>\n",
       "    <tr>\n",
       "      <th>...</th>\n",
       "      <td>...</td>\n",
       "      <td>...</td>\n",
       "      <td>...</td>\n",
       "      <td>...</td>\n",
       "      <td>...</td>\n",
       "      <td>...</td>\n",
       "      <td>...</td>\n",
       "      <td>...</td>\n",
       "      <td>...</td>\n",
       "    </tr>\n",
       "    <tr>\n",
       "      <th>3754</th>\n",
       "      <td>3754</td>\n",
       "      <td>28.06.2024</td>\n",
       "      <td>Sunlight</td>\n",
       "      <td>\\n    Золотой браслет\\n</td>\n",
       "      <td>Браслеты</td>\n",
       "      <td>{'Модель': '46-0015-11*', 'Материал изделия': ...</td>\n",
       "      <td>48060</td>\n",
       "      <td>345091</td>\n",
       "      <td>https://sunlight.net/catalog/bracelets_345091....</td>\n",
       "    </tr>\n",
       "    <tr>\n",
       "      <th>3755</th>\n",
       "      <td>3755</td>\n",
       "      <td>28.06.2024</td>\n",
       "      <td>Sunlight</td>\n",
       "      <td>\\n    Золотой браслет\\n</td>\n",
       "      <td>Браслеты</td>\n",
       "      <td>{'Модель': '46-0009-11-61*', 'Материал изделия...</td>\n",
       "      <td>81010</td>\n",
       "      <td>345089</td>\n",
       "      <td>https://sunlight.net/catalog/bracelets_345089....</td>\n",
       "    </tr>\n",
       "    <tr>\n",
       "      <th>3756</th>\n",
       "      <td>3756</td>\n",
       "      <td>28.06.2024</td>\n",
       "      <td>Sunlight</td>\n",
       "      <td>\\n    Золотой браслет\\n</td>\n",
       "      <td>Браслеты</td>\n",
       "      <td>{'Модель': '46-0002-11-61*', 'Материал изделия...</td>\n",
       "      <td>53860</td>\n",
       "      <td>345086</td>\n",
       "      <td>https://sunlight.net/catalog/bracelets_345086....</td>\n",
       "    </tr>\n",
       "    <tr>\n",
       "      <th>3757</th>\n",
       "      <td>3757</td>\n",
       "      <td>28.06.2024</td>\n",
       "      <td>Sunlight</td>\n",
       "      <td>\\n    Золотой браслет\\n</td>\n",
       "      <td>Браслеты</td>\n",
       "      <td>{'Модель': '442-00-0180-31130*', 'Материал изд...</td>\n",
       "      <td>298327</td>\n",
       "      <td>344752</td>\n",
       "      <td>https://sunlight.net/catalog/bracelets_344752....</td>\n",
       "    </tr>\n",
       "    <tr>\n",
       "      <th>3758</th>\n",
       "      <td>3758</td>\n",
       "      <td>28.06.2024</td>\n",
       "      <td>Sunlight</td>\n",
       "      <td>\\n    Золотая цепь\\n</td>\n",
       "      <td>Цепи</td>\n",
       "      <td>{'Модель': '342-00-0180-31130*', 'Материал изд...</td>\n",
       "      <td>866212</td>\n",
       "      <td>344747</td>\n",
       "      <td>https://sunlight.net/catalog/chains_344747.html</td>\n",
       "    </tr>\n",
       "  </tbody>\n",
       "</table>\n",
       "<p>3759 rows × 9 columns</p>\n",
       "</div>"
      ],
      "text/plain": [
       "      index        date competitor                                name  \\\n",
       "0         0  28.06.2024   Sunlight            \\n    Золотые серьги\\n     \n",
       "1         1  28.06.2024   Sunlight            \\n    Золотые серьги\\n     \n",
       "2         2  28.06.2024   Sunlight            \\n    Золотые серьги\\n     \n",
       "3         3  28.06.2024   Sunlight    \\n    Золотой крест-подвеска\\n     \n",
       "4         4  28.06.2024   Sunlight  \\n    Золотое шейное украшение\\n     \n",
       "...     ...         ...        ...                                 ...   \n",
       "3754   3754  28.06.2024   Sunlight           \\n    Золотой браслет\\n     \n",
       "3755   3755  28.06.2024   Sunlight           \\n    Золотой браслет\\n     \n",
       "3756   3756  28.06.2024   Sunlight           \\n    Золотой браслет\\n     \n",
       "3757   3757  28.06.2024   Sunlight           \\n    Золотой браслет\\n     \n",
       "3758   3758  28.06.2024   Sunlight              \\n    Золотая цепь\\n     \n",
       "\n",
       "                 group                                             params  \\\n",
       "0               Серьги  {'Модель': '200100.16-1ш/з*', 'Материал издели...   \n",
       "1               Серьги  {'Модель': '200200.4-1ш/з*', 'Материал изделия...   \n",
       "2               Серьги  {'Модель': '10-00-0000-27628*', 'Материал изде...   \n",
       "3       Крест-подвеска  {'Модель': '10021700*', 'Материал изделия': 'Р...   \n",
       "4     Шейное украшение  {'Модель': '6030408-40*', 'Материал изделия': ...   \n",
       "...                ...                                                ...   \n",
       "3754          Браслеты  {'Модель': '46-0015-11*', 'Материал изделия': ...   \n",
       "3755          Браслеты  {'Модель': '46-0009-11-61*', 'Материал изделия...   \n",
       "3756          Браслеты  {'Модель': '46-0002-11-61*', 'Материал изделия...   \n",
       "3757          Браслеты  {'Модель': '442-00-0180-31130*', 'Материал изд...   \n",
       "3758              Цепи  {'Модель': '342-00-0180-31130*', 'Материал изд...   \n",
       "\n",
       "       price  article                                                url  \n",
       "0      10490   271510   https://sunlight.net/catalog/earring_271510.html  \n",
       "1       9990   271409   https://sunlight.net/catalog/earring_271409.html  \n",
       "2      20990   235978   https://sunlight.net/catalog/earring_235978.html  \n",
       "3       7990    74404   https://sunlight.net/catalog/pendants_74404.html  \n",
       "4      15990   334031  https://sunlight.net/catalog/necklace_119474.html  \n",
       "...      ...      ...                                                ...  \n",
       "3754   48060   345091  https://sunlight.net/catalog/bracelets_345091....  \n",
       "3755   81010   345089  https://sunlight.net/catalog/bracelets_345089....  \n",
       "3756   53860   345086  https://sunlight.net/catalog/bracelets_345086....  \n",
       "3757  298327   344752  https://sunlight.net/catalog/bracelets_344752....  \n",
       "3758  866212   344747    https://sunlight.net/catalog/chains_344747.html  \n",
       "\n",
       "[3759 rows x 9 columns]"
      ]
     },
     "execution_count": 19,
     "metadata": {},
     "output_type": "execute_result"
    }
   ],
   "source": [
    "data"
   ]
  },
  {
   "cell_type": "code",
   "execution_count": 20,
   "id": "98627661-b5d6-490c-bf80-f2e56f114450",
   "metadata": {
    "tags": []
   },
   "outputs": [
    {
     "name": "stderr",
     "output_type": "stream",
     "text": [
      "100%|██████████| 3759/3759 [41:19<00:00,  1.52it/s]  \n"
     ]
    }
   ],
   "source": [
    "data_discount = get_personal_price(data)\n",
    "data_discount = pd.DataFrame(data_discount)"
   ]
  },
  {
   "cell_type": "code",
   "execution_count": 21,
   "id": "c2d69699-23f3-4c83-97bc-d2aba743a4dc",
   "metadata": {
    "tags": []
   },
   "outputs": [
    {
     "data": {
      "text/html": [
       "<div>\n",
       "<style scoped>\n",
       "    .dataframe tbody tr th:only-of-type {\n",
       "        vertical-align: middle;\n",
       "    }\n",
       "\n",
       "    .dataframe tbody tr th {\n",
       "        vertical-align: top;\n",
       "    }\n",
       "\n",
       "    .dataframe thead th {\n",
       "        text-align: right;\n",
       "    }\n",
       "</style>\n",
       "<table border=\"1\" class=\"dataframe\">\n",
       "  <thead>\n",
       "    <tr style=\"text-align: right;\">\n",
       "      <th></th>\n",
       "      <th>article</th>\n",
       "      <th>price_old</th>\n",
       "      <th>price</th>\n",
       "      <th>price_personal</th>\n",
       "      <th>discount</th>\n",
       "    </tr>\n",
       "  </thead>\n",
       "  <tbody>\n",
       "    <tr>\n",
       "      <th>1887</th>\n",
       "      <td>320291</td>\n",
       "      <td>51 980 ₽</td>\n",
       "      <td>25 990 ₽</td>\n",
       "      <td>15 594 ₽</td>\n",
       "      <td>[Ещё -2 000₽, код: ЛЕТО до 1 июля, Цены 8 март...</td>\n",
       "    </tr>\n",
       "    <tr>\n",
       "      <th>1391</th>\n",
       "      <td>344957</td>\n",
       "      <td>47 980 ₽</td>\n",
       "      <td>23 990 ₽</td>\n",
       "      <td>14 394 ₽</td>\n",
       "      <td>[Ещё -2 000₽, код: ЛЕТО до 1 июля, Цены 8 март...</td>\n",
       "    </tr>\n",
       "    <tr>\n",
       "      <th>294</th>\n",
       "      <td>301207</td>\n",
       "      <td>51 980 ₽</td>\n",
       "      <td>25 990 ₽</td>\n",
       "      <td>15 594 ₽</td>\n",
       "      <td>[Ещё -5 000₽, код: ЛЕТО до 1 июля, Цены 8 март...</td>\n",
       "    </tr>\n",
       "    <tr>\n",
       "      <th>1098</th>\n",
       "      <td>89763</td>\n",
       "      <td></td>\n",
       "      <td>17 126 ₽</td>\n",
       "      <td>NaN</td>\n",
       "      <td>[ХИТ-цена]</td>\n",
       "    </tr>\n",
       "    <tr>\n",
       "      <th>787</th>\n",
       "      <td>301761</td>\n",
       "      <td>149 980 ₽</td>\n",
       "      <td>74 990 ₽</td>\n",
       "      <td>44 994 ₽</td>\n",
       "      <td>[Ещё -10 000₽, код: ЛЕТО до 1 июля, Цены 8 мар...</td>\n",
       "    </tr>\n",
       "  </tbody>\n",
       "</table>\n",
       "</div>"
      ],
      "text/plain": [
       "      article  price_old     price price_personal  \\\n",
       "1887   320291   51 980 ₽  25 990 ₽       15 594 ₽   \n",
       "1391   344957   47 980 ₽  23 990 ₽       14 394 ₽   \n",
       "294    301207   51 980 ₽  25 990 ₽       15 594 ₽   \n",
       "1098    89763             17 126 ₽            NaN   \n",
       "787    301761  149 980 ₽  74 990 ₽       44 994 ₽   \n",
       "\n",
       "                                               discount  \n",
       "1887  [Ещё -2 000₽, код: ЛЕТО до 1 июля, Цены 8 март...  \n",
       "1391  [Ещё -2 000₽, код: ЛЕТО до 1 июля, Цены 8 март...  \n",
       "294   [Ещё -5 000₽, код: ЛЕТО до 1 июля, Цены 8 март...  \n",
       "1098                                         [ХИТ-цена]  \n",
       "787   [Ещё -10 000₽, код: ЛЕТО до 1 июля, Цены 8 мар...  "
      ]
     },
     "execution_count": 21,
     "metadata": {},
     "output_type": "execute_result"
    }
   ],
   "source": [
    "data_discount.sample(5)"
   ]
  },
  {
   "cell_type": "code",
   "execution_count": 22,
   "id": "c11840f3-353f-49ae-82c8-66612a359a3e",
   "metadata": {
    "tags": []
   },
   "outputs": [],
   "source": [
    "data = data.merge(data_discount, on='article', how='left')"
   ]
  },
  {
   "cell_type": "code",
   "execution_count": 23,
   "id": "97cdcac5-2bcf-4fa4-b1f2-428f3c3fd32a",
   "metadata": {
    "tags": []
   },
   "outputs": [
    {
     "name": "stdout",
     "output_type": "stream",
     "text": [
      "<class 'pandas.core.frame.DataFrame'>\n",
      "RangeIndex: 5559 entries, 0 to 5558\n",
      "Data columns (total 13 columns):\n",
      " #   Column          Non-Null Count  Dtype \n",
      "---  ------          --------------  ----- \n",
      " 0   index           5559 non-null   int64 \n",
      " 1   date            5559 non-null   object\n",
      " 2   competitor      5559 non-null   object\n",
      " 3   name            5559 non-null   object\n",
      " 4   group           5559 non-null   object\n",
      " 5   params          5559 non-null   object\n",
      " 6   price_x         5559 non-null   int64 \n",
      " 7   article         5559 non-null   int32 \n",
      " 8   url             5559 non-null   object\n",
      " 9   price_old       5559 non-null   object\n",
      " 10  price_y         5559 non-null   object\n",
      " 11  price_personal  3782 non-null   object\n",
      " 12  discount        5559 non-null   object\n",
      "dtypes: int32(1), int64(2), object(10)\n",
      "memory usage: 543.0+ KB\n"
     ]
    }
   ],
   "source": [
    "data.info()"
   ]
  },
  {
   "cell_type": "code",
   "execution_count": 24,
   "id": "049e3231-7148-4da2-848d-679b26fd5889",
   "metadata": {
    "tags": []
   },
   "outputs": [
    {
     "data": {
      "text/plain": [
       "discount\n",
       "[ХИТ-цена]                                                                          1655\n",
       "[Ещё -1 000₽, код: ЛЕТО до 1 июля, Цены 8 марта! Ещё -10%, код: МАРТ до 23:59]      1034\n",
       "[Ещё -2 000₽, код: ЛЕТО до 1 июля, Цены 8 марта! Ещё -10%, код: МАРТ до 23:59]       566\n",
       "[Ещё -500₽, код: ЛЕТО до 1 июля, Цены 8 марта! Ещё -10%, код: МАРТ до 23:59]         478\n",
       "[Ещё -3 500₽, код: ЛЕТО до 1 июля, Цены 8 марта! Ещё -10%, код: МАРТ до 23:59]       273\n",
       "[Ещё -2 000₽, код: ЛЕТО до 1 июля, Цены 8 марта! Ещё -5%, код: МАРТ до 23:59]        196\n",
       "[Ещё -5 000₽, код: ЛЕТО до 1 июля, Цены 8 марта! Ещё -10%, код: МАРТ до 23:59]       170\n",
       "[Ещё -15%, код: ВМЕСТЕ при покупке от 2-х]                                           124\n",
       "[ХИТ-цена, Выгодно! Цепи 4990 р/г]                                                   120\n",
       "[Ещё -1 000₽, код: ЛЕТО до 1 июля, Цены 8 марта! Ещё -15%, код: МАРТ до 23:59]        86\n",
       "[Ещё -1 000₽, код: ЛЕТО до 1 июля, Цены 8 марта! Ещё -5%, код: МАРТ до 23:59]         63\n",
       "[Ещё -200₽, код: ЛЕТО до 1 июля, Цены 8 марта! Ещё -10%, код: МАРТ до 23:59]          62\n",
       "[Ещё -3 500₽, код: ЛЕТО до 1 июля, Цены 8 марта! Ещё -15%, код: МАРТ до 23:59]        61\n",
       "[Ещё -3 500₽, код: ЛЕТО до 1 июля, Цены 8 марта! Ещё -5%, код: МАРТ до 23:59]         58\n",
       "[Ещё -500₽, код: ЛЕТО до 1 июля, Цены 8 марта! Ещё -15%, код: МАРТ до 23:59]          50\n",
       "[Цены снижены! Ещё -15%, код: СЕГОДНЯ]                                                48\n",
       "[Ещё -10 000₽, код: ЛЕТО до 1 июля, Цены 8 марта! Ещё -5%, код: МАРТ до 23:59]        48\n",
       "[Ещё -10 000₽, код: ЛЕТО до 1 июля, Цены 8 марта! Ещё -10%, код: МАРТ до 23:59]       45\n",
       "[Ещё -2 000₽, код: ЛЕТО до 1 июля, Цены 8 марта! Ещё -15%, код: МАРТ до 23:59]        42\n",
       "[Ещё -5 000₽, код: ЛЕТО до 1 июля, Цены 8 марта! Ещё -5%, код: МАРТ до 23:59]         38\n",
       "[Ещё -7 500₽, код: ЛЕТО до 1 июля, Цены 8 марта! Ещё -10%, код: МАРТ до 23:59]        33\n",
       "[Ещё -100₽, код: ЛЕТО до 1 июля, Цены 8 марта! Ещё -10%, код: МАРТ до 23:59]          29\n",
       "[Ещё -500₽, код: ЛЕТО до 1 июля, Цены 8 марта! Ещё -5%, код: МАРТ до 23:59]           27\n",
       "[Ещё -200₽, код: ЛЕТО до 1 июля, Цены 8 марта! Ещё -5%, код: МАРТ до 23:59]           27\n",
       "[Ещё -5 000₽, код: ЛЕТО до 1 июля, Цены 8 марта! Ещё -15%, код: МАРТ до 23:59]        23\n",
       "[Ещё -15 00₽, код: ЛЕТО до 1 июля, Цены 8 марта! Ещё -15%, код: МАРТ до 23:59]        23\n",
       "[Ещё -15 00₽, код: ЛЕТО до 1 июля, Цены 8 марта! Ещё -10%, код: МАРТ до 23:59]        21\n",
       "[Ещё -10 000₽, код: ЛЕТО до 1 июля, Цены 8 марта! Ещё -15%, код: МАРТ до 23:59]       18\n",
       "[Ещё -200₽, код: ЛЕТО до 1 июля, Цены 8 марта! Ещё -15%, код: МАРТ до 23:59]          10\n",
       "[Ещё -2 000₽, код: ЛЕТО до 1 июля, Цены 8 марта! Ещё -20%, код: МАРТ до 23:59]        10\n",
       "[Ещё -7 500₽, код: ЛЕТО до 1 июля, Цены 8 марта! Ещё -5%, код: МАРТ до 23:59]          9\n",
       "[Ещё -1 000₽, код: ЛЕТО до 1 июля, Цены 8 марта! Ещё -20%, код: МАРТ до 23:59]         8\n",
       "[Ещё -100₽, код: ЛЕТО до 1 июля, Цены 8 марта! Ещё -5%, код: МАРТ до 23:59]            8\n",
       "[Ещё -3 500₽, код: ЛЕТО до 1 июля, Цены 8 марта! Ещё -20%, код: МАРТ до 23:59]         8\n",
       "[Ещё -25 000₽, код: ЛЕТО до 1 июля, Цены 8 марта! Ещё -10%, код: МАРТ до 23:59]        8\n",
       "[Ещё -40 000₽, код: ЛЕТО до 1 июля, Цены 8 марта! Ещё -10%, код: МАРТ до 23:59]        7\n",
       "[Ещё -7 500₽, код: ЛЕТО до 1 июля, Цены 8 марта! Ещё -15%, код: МАРТ до 23:59]         7\n",
       "[Ещё -15 00₽, код: ЛЕТО до 1 июля, Цены 8 марта! Ещё -20%, код: МАРТ до 23:59]         7\n",
       "[Ещё -500₽, код: ЛЕТО до 1 июля, Цены 8 марта! Ещё -20%, код: МАРТ до 23:59]           5\n",
       "[Ещё -25 000₽, код: ЛЕТО до 1 июля, Цены 8 марта! Ещё -15%, код: МАРТ до 23:59]        5\n",
       "[Ещё -40 000₽, код: ЛЕТО до 1 июля, Цены 8 марта! Ещё -15%, код: МАРТ до 23:59]        4\n",
       "[Ещё -10 000₽, код: ЛЕТО до 1 июля, Цены 8 марта! Ещё -20%, код: МАРТ до 23:59]        4\n",
       "[Ещё -15%, код: ВМЕСТЕ при покупке от 2-х, Цены снижены! Ещё -15%, код: СЕГОДНЯ]       4\n",
       "[Ещё -100₽, код: ЛЕТО до 1 июля, Цены 8 марта! Ещё -15%, код: МАРТ до 23:59]           4\n",
       "[Ещё -15 00₽, код: ЛЕТО до 1 июля, Цены 8 марта! Ещё -5%, код: МАРТ до 23:59]          4\n",
       "[nan]                                                                                  4\n",
       "[Ещё -7 500₽, код: ЛЕТО до 1 июля, Цены 8 марта! Ещё -20%, код: МАРТ до 23:59]         4\n",
       "[Ещё -5 000₽, код: ЛЕТО до 1 июля, Цены 8 марта! Ещё -20%, код: МАРТ до 23:59]         3\n",
       "[Ещё -200₽, код: ЛЕТО до 1 июля, Цены 8 марта! Ещё -20%, код: МАРТ до 23:59]           3\n",
       "[Ещё -40 000₽, код: ЛЕТО до 1 июля, Цены 8 марта! Ещё -20%, код: МАРТ до 23:59]        2\n",
       "[Цены 8 марта! Ещё -5%, код: МАРТ до 23:59]                                            2\n",
       "[Ещё -25 000₽, код: ЛЕТО до 1 июля, Цены 8 марта! Ещё -5%, код: МАРТ до 23:59]         2\n",
       "[Ещё -60 000₽, код: ЛЕТО до 1 июля, Цены 8 марта! Ещё -15%, код: МАРТ до 23:59]        2\n",
       "[Ещё -1 000₽, код: ЛЕТО до 1 июля, Цены 8 марта! Ещё -35%, код: МАРТ до 23:59]         1\n",
       "[Ещё -100₽, код: ЛЕТО до 1 июля]                                                       1\n",
       "[Ещё -25 000₽, код: ЛЕТО до 1 июля, Цены 8 марта! Ещё -20%, код: МАРТ до 23:59]        1\n",
       "[Ещё -60 000₽, код: ЛЕТО до 1 июля, Цены 8 марта! Ещё -5%, код: МАРТ до 23:59]         1\n",
       "[Ещё -40 000₽, код: ЛЕТО до 1 июля, Цены 8 марта! Ещё -35%, код: МАРТ до 23:59]        1\n",
       "[Ещё -500₽, код: ЛЕТО до 1 июля, Ещё -15%, код: ВМЕСТЕ при покупке от 2-х]             1\n",
       "[Ещё -60 000₽, код: ЛЕТО до 1 июля, Цены 8 марта! Ещё -10%, код: МАРТ до 23:59]        1\n",
       "Name: count, dtype: int64"
      ]
     },
     "execution_count": 24,
     "metadata": {},
     "output_type": "execute_result"
    }
   ],
   "source": [
    "data['discount'].value_counts()"
   ]
  },
  {
   "cell_type": "code",
   "execution_count": 25,
   "id": "1c16ae65-7ea8-4d57-994f-45815b15bbe3",
   "metadata": {
    "tags": []
   },
   "outputs": [
    {
     "data": {
      "text/html": [
       "<div>\n",
       "<style scoped>\n",
       "    .dataframe tbody tr th:only-of-type {\n",
       "        vertical-align: middle;\n",
       "    }\n",
       "\n",
       "    .dataframe tbody tr th {\n",
       "        vertical-align: top;\n",
       "    }\n",
       "\n",
       "    .dataframe thead th {\n",
       "        text-align: right;\n",
       "    }\n",
       "</style>\n",
       "<table border=\"1\" class=\"dataframe\">\n",
       "  <thead>\n",
       "    <tr style=\"text-align: right;\">\n",
       "      <th></th>\n",
       "      <th>index</th>\n",
       "      <th>date</th>\n",
       "      <th>competitor</th>\n",
       "      <th>name</th>\n",
       "      <th>group</th>\n",
       "      <th>params</th>\n",
       "      <th>price_x</th>\n",
       "      <th>article</th>\n",
       "      <th>url</th>\n",
       "      <th>price_old</th>\n",
       "      <th>price_y</th>\n",
       "      <th>price_personal</th>\n",
       "      <th>discount</th>\n",
       "    </tr>\n",
       "  </thead>\n",
       "  <tbody>\n",
       "    <tr>\n",
       "      <th>0</th>\n",
       "      <td>0</td>\n",
       "      <td>28.06.2024</td>\n",
       "      <td>Sunlight</td>\n",
       "      <td>\\n    Золотые серьги\\n</td>\n",
       "      <td>Серьги</td>\n",
       "      <td>{'Модель': '200100.16-1ш/з*', 'Материал издели...</td>\n",
       "      <td>10490</td>\n",
       "      <td>271510</td>\n",
       "      <td>https://sunlight.net/catalog/earring_271510.html</td>\n",
       "      <td></td>\n",
       "      <td>10 490 ₽</td>\n",
       "      <td>NaN</td>\n",
       "      <td>[ХИТ-цена]</td>\n",
       "    </tr>\n",
       "    <tr>\n",
       "      <th>1</th>\n",
       "      <td>0</td>\n",
       "      <td>28.06.2024</td>\n",
       "      <td>Sunlight</td>\n",
       "      <td>\\n    Золотые серьги\\n</td>\n",
       "      <td>Серьги</td>\n",
       "      <td>{'Модель': '200100.16-1ш/з*', 'Материал издели...</td>\n",
       "      <td>10490</td>\n",
       "      <td>271510</td>\n",
       "      <td>https://sunlight.net/catalog/earring_271510.html</td>\n",
       "      <td></td>\n",
       "      <td>10 490 ₽</td>\n",
       "      <td>NaN</td>\n",
       "      <td>[ХИТ-цена]</td>\n",
       "    </tr>\n",
       "    <tr>\n",
       "      <th>2</th>\n",
       "      <td>0</td>\n",
       "      <td>28.06.2024</td>\n",
       "      <td>Sunlight</td>\n",
       "      <td>\\n    Золотые серьги\\n</td>\n",
       "      <td>Серьги</td>\n",
       "      <td>{'Модель': '200100.16-1ш/з*', 'Материал издели...</td>\n",
       "      <td>10490</td>\n",
       "      <td>271510</td>\n",
       "      <td>https://sunlight.net/catalog/earring_271510.html</td>\n",
       "      <td></td>\n",
       "      <td>10 490 ₽</td>\n",
       "      <td>NaN</td>\n",
       "      <td>[ХИТ-цена]</td>\n",
       "    </tr>\n",
       "    <tr>\n",
       "      <th>3</th>\n",
       "      <td>0</td>\n",
       "      <td>28.06.2024</td>\n",
       "      <td>Sunlight</td>\n",
       "      <td>\\n    Золотые серьги\\n</td>\n",
       "      <td>Серьги</td>\n",
       "      <td>{'Модель': '200100.16-1ш/з*', 'Материал издели...</td>\n",
       "      <td>10490</td>\n",
       "      <td>271510</td>\n",
       "      <td>https://sunlight.net/catalog/earring_271510.html</td>\n",
       "      <td></td>\n",
       "      <td>10 490 ₽</td>\n",
       "      <td>NaN</td>\n",
       "      <td>[ХИТ-цена]</td>\n",
       "    </tr>\n",
       "    <tr>\n",
       "      <th>4</th>\n",
       "      <td>0</td>\n",
       "      <td>28.06.2024</td>\n",
       "      <td>Sunlight</td>\n",
       "      <td>\\n    Золотые серьги\\n</td>\n",
       "      <td>Серьги</td>\n",
       "      <td>{'Модель': '200100.16-1ш/з*', 'Материал издели...</td>\n",
       "      <td>10490</td>\n",
       "      <td>271510</td>\n",
       "      <td>https://sunlight.net/catalog/earring_271510.html</td>\n",
       "      <td></td>\n",
       "      <td>10 490 ₽</td>\n",
       "      <td>NaN</td>\n",
       "      <td>[ХИТ-цена]</td>\n",
       "    </tr>\n",
       "    <tr>\n",
       "      <th>5</th>\n",
       "      <td>0</td>\n",
       "      <td>28.06.2024</td>\n",
       "      <td>Sunlight</td>\n",
       "      <td>\\n    Золотые серьги\\n</td>\n",
       "      <td>Серьги</td>\n",
       "      <td>{'Модель': '200100.16-1ш/з*', 'Материал издели...</td>\n",
       "      <td>10490</td>\n",
       "      <td>271510</td>\n",
       "      <td>https://sunlight.net/catalog/earring_271510.html</td>\n",
       "      <td></td>\n",
       "      <td>10 490 ₽</td>\n",
       "      <td>NaN</td>\n",
       "      <td>[ХИТ-цена]</td>\n",
       "    </tr>\n",
       "    <tr>\n",
       "      <th>6</th>\n",
       "      <td>1</td>\n",
       "      <td>28.06.2024</td>\n",
       "      <td>Sunlight</td>\n",
       "      <td>\\n    Золотые серьги\\n</td>\n",
       "      <td>Серьги</td>\n",
       "      <td>{'Модель': '200200.4-1ш/з*', 'Материал изделия...</td>\n",
       "      <td>9990</td>\n",
       "      <td>271409</td>\n",
       "      <td>https://sunlight.net/catalog/earring_271409.html</td>\n",
       "      <td></td>\n",
       "      <td>9 990 ₽</td>\n",
       "      <td>NaN</td>\n",
       "      <td>[ХИТ-цена]</td>\n",
       "    </tr>\n",
       "    <tr>\n",
       "      <th>7</th>\n",
       "      <td>1</td>\n",
       "      <td>28.06.2024</td>\n",
       "      <td>Sunlight</td>\n",
       "      <td>\\n    Золотые серьги\\n</td>\n",
       "      <td>Серьги</td>\n",
       "      <td>{'Модель': '200200.4-1ш/з*', 'Материал изделия...</td>\n",
       "      <td>9990</td>\n",
       "      <td>271409</td>\n",
       "      <td>https://sunlight.net/catalog/earring_271409.html</td>\n",
       "      <td></td>\n",
       "      <td>9 990 ₽</td>\n",
       "      <td>NaN</td>\n",
       "      <td>[ХИТ-цена]</td>\n",
       "    </tr>\n",
       "    <tr>\n",
       "      <th>8</th>\n",
       "      <td>1</td>\n",
       "      <td>28.06.2024</td>\n",
       "      <td>Sunlight</td>\n",
       "      <td>\\n    Золотые серьги\\n</td>\n",
       "      <td>Серьги</td>\n",
       "      <td>{'Модель': '200200.4-1ш/з*', 'Материал изделия...</td>\n",
       "      <td>9990</td>\n",
       "      <td>271409</td>\n",
       "      <td>https://sunlight.net/catalog/earring_271409.html</td>\n",
       "      <td></td>\n",
       "      <td>9 990 ₽</td>\n",
       "      <td>NaN</td>\n",
       "      <td>[ХИТ-цена]</td>\n",
       "    </tr>\n",
       "    <tr>\n",
       "      <th>9</th>\n",
       "      <td>1</td>\n",
       "      <td>28.06.2024</td>\n",
       "      <td>Sunlight</td>\n",
       "      <td>\\n    Золотые серьги\\n</td>\n",
       "      <td>Серьги</td>\n",
       "      <td>{'Модель': '200200.4-1ш/з*', 'Материал изделия...</td>\n",
       "      <td>9990</td>\n",
       "      <td>271409</td>\n",
       "      <td>https://sunlight.net/catalog/earring_271409.html</td>\n",
       "      <td></td>\n",
       "      <td>9 990 ₽</td>\n",
       "      <td>NaN</td>\n",
       "      <td>[ХИТ-цена]</td>\n",
       "    </tr>\n",
       "    <tr>\n",
       "      <th>10</th>\n",
       "      <td>1</td>\n",
       "      <td>28.06.2024</td>\n",
       "      <td>Sunlight</td>\n",
       "      <td>\\n    Золотые серьги\\n</td>\n",
       "      <td>Серьги</td>\n",
       "      <td>{'Модель': '200200.4-1ш/з*', 'Материал изделия...</td>\n",
       "      <td>9990</td>\n",
       "      <td>271409</td>\n",
       "      <td>https://sunlight.net/catalog/earring_271409.html</td>\n",
       "      <td></td>\n",
       "      <td>9 990 ₽</td>\n",
       "      <td>NaN</td>\n",
       "      <td>[ХИТ-цена]</td>\n",
       "    </tr>\n",
       "    <tr>\n",
       "      <th>11</th>\n",
       "      <td>1</td>\n",
       "      <td>28.06.2024</td>\n",
       "      <td>Sunlight</td>\n",
       "      <td>\\n    Золотые серьги\\n</td>\n",
       "      <td>Серьги</td>\n",
       "      <td>{'Модель': '200200.4-1ш/з*', 'Материал изделия...</td>\n",
       "      <td>9990</td>\n",
       "      <td>271409</td>\n",
       "      <td>https://sunlight.net/catalog/earring_271409.html</td>\n",
       "      <td></td>\n",
       "      <td>9 990 ₽</td>\n",
       "      <td>NaN</td>\n",
       "      <td>[ХИТ-цена]</td>\n",
       "    </tr>\n",
       "    <tr>\n",
       "      <th>12</th>\n",
       "      <td>2</td>\n",
       "      <td>28.06.2024</td>\n",
       "      <td>Sunlight</td>\n",
       "      <td>\\n    Золотые серьги\\n</td>\n",
       "      <td>Серьги</td>\n",
       "      <td>{'Модель': '10-00-0000-27628*', 'Материал изде...</td>\n",
       "      <td>20990</td>\n",
       "      <td>235978</td>\n",
       "      <td>https://sunlight.net/catalog/earring_235978.html</td>\n",
       "      <td></td>\n",
       "      <td>20 990 ₽</td>\n",
       "      <td>NaN</td>\n",
       "      <td>[ХИТ-цена]</td>\n",
       "    </tr>\n",
       "    <tr>\n",
       "      <th>13</th>\n",
       "      <td>2</td>\n",
       "      <td>28.06.2024</td>\n",
       "      <td>Sunlight</td>\n",
       "      <td>\\n    Золотые серьги\\n</td>\n",
       "      <td>Серьги</td>\n",
       "      <td>{'Модель': '10-00-0000-27628*', 'Материал изде...</td>\n",
       "      <td>20990</td>\n",
       "      <td>235978</td>\n",
       "      <td>https://sunlight.net/catalog/earring_235978.html</td>\n",
       "      <td></td>\n",
       "      <td>20 990 ₽</td>\n",
       "      <td>NaN</td>\n",
       "      <td>[ХИТ-цена]</td>\n",
       "    </tr>\n",
       "    <tr>\n",
       "      <th>14</th>\n",
       "      <td>2</td>\n",
       "      <td>28.06.2024</td>\n",
       "      <td>Sunlight</td>\n",
       "      <td>\\n    Золотые серьги\\n</td>\n",
       "      <td>Серьги</td>\n",
       "      <td>{'Модель': '10-00-0000-27628*', 'Материал изде...</td>\n",
       "      <td>20990</td>\n",
       "      <td>235978</td>\n",
       "      <td>https://sunlight.net/catalog/earring_235978.html</td>\n",
       "      <td></td>\n",
       "      <td>20 990 ₽</td>\n",
       "      <td>NaN</td>\n",
       "      <td>[ХИТ-цена]</td>\n",
       "    </tr>\n",
       "    <tr>\n",
       "      <th>15</th>\n",
       "      <td>2</td>\n",
       "      <td>28.06.2024</td>\n",
       "      <td>Sunlight</td>\n",
       "      <td>\\n    Золотые серьги\\n</td>\n",
       "      <td>Серьги</td>\n",
       "      <td>{'Модель': '10-00-0000-27628*', 'Материал изде...</td>\n",
       "      <td>20990</td>\n",
       "      <td>235978</td>\n",
       "      <td>https://sunlight.net/catalog/earring_235978.html</td>\n",
       "      <td></td>\n",
       "      <td>20 990 ₽</td>\n",
       "      <td>NaN</td>\n",
       "      <td>[ХИТ-цена]</td>\n",
       "    </tr>\n",
       "    <tr>\n",
       "      <th>16</th>\n",
       "      <td>2</td>\n",
       "      <td>28.06.2024</td>\n",
       "      <td>Sunlight</td>\n",
       "      <td>\\n    Золотые серьги\\n</td>\n",
       "      <td>Серьги</td>\n",
       "      <td>{'Модель': '10-00-0000-27628*', 'Материал изде...</td>\n",
       "      <td>20990</td>\n",
       "      <td>235978</td>\n",
       "      <td>https://sunlight.net/catalog/earring_235978.html</td>\n",
       "      <td></td>\n",
       "      <td>20 990 ₽</td>\n",
       "      <td>NaN</td>\n",
       "      <td>[ХИТ-цена]</td>\n",
       "    </tr>\n",
       "    <tr>\n",
       "      <th>17</th>\n",
       "      <td>2</td>\n",
       "      <td>28.06.2024</td>\n",
       "      <td>Sunlight</td>\n",
       "      <td>\\n    Золотые серьги\\n</td>\n",
       "      <td>Серьги</td>\n",
       "      <td>{'Модель': '10-00-0000-27628*', 'Материал изде...</td>\n",
       "      <td>20990</td>\n",
       "      <td>235978</td>\n",
       "      <td>https://sunlight.net/catalog/earring_235978.html</td>\n",
       "      <td></td>\n",
       "      <td>20 990 ₽</td>\n",
       "      <td>NaN</td>\n",
       "      <td>[ХИТ-цена]</td>\n",
       "    </tr>\n",
       "    <tr>\n",
       "      <th>18</th>\n",
       "      <td>3</td>\n",
       "      <td>28.06.2024</td>\n",
       "      <td>Sunlight</td>\n",
       "      <td>\\n    Золотой крест-подвеска\\n</td>\n",
       "      <td>Крест-подвеска</td>\n",
       "      <td>{'Модель': '10021700*', 'Материал изделия': 'Р...</td>\n",
       "      <td>7990</td>\n",
       "      <td>74404</td>\n",
       "      <td>https://sunlight.net/catalog/pendants_74404.html</td>\n",
       "      <td></td>\n",
       "      <td>7 990 ₽</td>\n",
       "      <td>NaN</td>\n",
       "      <td>[ХИТ-цена]</td>\n",
       "    </tr>\n",
       "    <tr>\n",
       "      <th>19</th>\n",
       "      <td>3</td>\n",
       "      <td>28.06.2024</td>\n",
       "      <td>Sunlight</td>\n",
       "      <td>\\n    Золотой крест-подвеска\\n</td>\n",
       "      <td>Крест-подвеска</td>\n",
       "      <td>{'Модель': '10021700*', 'Материал изделия': 'Р...</td>\n",
       "      <td>7990</td>\n",
       "      <td>74404</td>\n",
       "      <td>https://sunlight.net/catalog/pendants_74404.html</td>\n",
       "      <td></td>\n",
       "      <td>7 990 ₽</td>\n",
       "      <td>NaN</td>\n",
       "      <td>[ХИТ-цена]</td>\n",
       "    </tr>\n",
       "  </tbody>\n",
       "</table>\n",
       "</div>"
      ],
      "text/plain": [
       "    index        date competitor                              name  \\\n",
       "0       0  28.06.2024   Sunlight          \\n    Золотые серьги\\n     \n",
       "1       0  28.06.2024   Sunlight          \\n    Золотые серьги\\n     \n",
       "2       0  28.06.2024   Sunlight          \\n    Золотые серьги\\n     \n",
       "3       0  28.06.2024   Sunlight          \\n    Золотые серьги\\n     \n",
       "4       0  28.06.2024   Sunlight          \\n    Золотые серьги\\n     \n",
       "5       0  28.06.2024   Sunlight          \\n    Золотые серьги\\n     \n",
       "6       1  28.06.2024   Sunlight          \\n    Золотые серьги\\n     \n",
       "7       1  28.06.2024   Sunlight          \\n    Золотые серьги\\n     \n",
       "8       1  28.06.2024   Sunlight          \\n    Золотые серьги\\n     \n",
       "9       1  28.06.2024   Sunlight          \\n    Золотые серьги\\n     \n",
       "10      1  28.06.2024   Sunlight          \\n    Золотые серьги\\n     \n",
       "11      1  28.06.2024   Sunlight          \\n    Золотые серьги\\n     \n",
       "12      2  28.06.2024   Sunlight          \\n    Золотые серьги\\n     \n",
       "13      2  28.06.2024   Sunlight          \\n    Золотые серьги\\n     \n",
       "14      2  28.06.2024   Sunlight          \\n    Золотые серьги\\n     \n",
       "15      2  28.06.2024   Sunlight          \\n    Золотые серьги\\n     \n",
       "16      2  28.06.2024   Sunlight          \\n    Золотые серьги\\n     \n",
       "17      2  28.06.2024   Sunlight          \\n    Золотые серьги\\n     \n",
       "18      3  28.06.2024   Sunlight  \\n    Золотой крест-подвеска\\n     \n",
       "19      3  28.06.2024   Sunlight  \\n    Золотой крест-подвеска\\n     \n",
       "\n",
       "             group                                             params  \\\n",
       "0           Серьги  {'Модель': '200100.16-1ш/з*', 'Материал издели...   \n",
       "1           Серьги  {'Модель': '200100.16-1ш/з*', 'Материал издели...   \n",
       "2           Серьги  {'Модель': '200100.16-1ш/з*', 'Материал издели...   \n",
       "3           Серьги  {'Модель': '200100.16-1ш/з*', 'Материал издели...   \n",
       "4           Серьги  {'Модель': '200100.16-1ш/з*', 'Материал издели...   \n",
       "5           Серьги  {'Модель': '200100.16-1ш/з*', 'Материал издели...   \n",
       "6           Серьги  {'Модель': '200200.4-1ш/з*', 'Материал изделия...   \n",
       "7           Серьги  {'Модель': '200200.4-1ш/з*', 'Материал изделия...   \n",
       "8           Серьги  {'Модель': '200200.4-1ш/з*', 'Материал изделия...   \n",
       "9           Серьги  {'Модель': '200200.4-1ш/з*', 'Материал изделия...   \n",
       "10          Серьги  {'Модель': '200200.4-1ш/з*', 'Материал изделия...   \n",
       "11          Серьги  {'Модель': '200200.4-1ш/з*', 'Материал изделия...   \n",
       "12          Серьги  {'Модель': '10-00-0000-27628*', 'Материал изде...   \n",
       "13          Серьги  {'Модель': '10-00-0000-27628*', 'Материал изде...   \n",
       "14          Серьги  {'Модель': '10-00-0000-27628*', 'Материал изде...   \n",
       "15          Серьги  {'Модель': '10-00-0000-27628*', 'Материал изде...   \n",
       "16          Серьги  {'Модель': '10-00-0000-27628*', 'Материал изде...   \n",
       "17          Серьги  {'Модель': '10-00-0000-27628*', 'Материал изде...   \n",
       "18  Крест-подвеска  {'Модель': '10021700*', 'Материал изделия': 'Р...   \n",
       "19  Крест-подвеска  {'Модель': '10021700*', 'Материал изделия': 'Р...   \n",
       "\n",
       "    price_x  article                                               url  \\\n",
       "0     10490   271510  https://sunlight.net/catalog/earring_271510.html   \n",
       "1     10490   271510  https://sunlight.net/catalog/earring_271510.html   \n",
       "2     10490   271510  https://sunlight.net/catalog/earring_271510.html   \n",
       "3     10490   271510  https://sunlight.net/catalog/earring_271510.html   \n",
       "4     10490   271510  https://sunlight.net/catalog/earring_271510.html   \n",
       "5     10490   271510  https://sunlight.net/catalog/earring_271510.html   \n",
       "6      9990   271409  https://sunlight.net/catalog/earring_271409.html   \n",
       "7      9990   271409  https://sunlight.net/catalog/earring_271409.html   \n",
       "8      9990   271409  https://sunlight.net/catalog/earring_271409.html   \n",
       "9      9990   271409  https://sunlight.net/catalog/earring_271409.html   \n",
       "10     9990   271409  https://sunlight.net/catalog/earring_271409.html   \n",
       "11     9990   271409  https://sunlight.net/catalog/earring_271409.html   \n",
       "12    20990   235978  https://sunlight.net/catalog/earring_235978.html   \n",
       "13    20990   235978  https://sunlight.net/catalog/earring_235978.html   \n",
       "14    20990   235978  https://sunlight.net/catalog/earring_235978.html   \n",
       "15    20990   235978  https://sunlight.net/catalog/earring_235978.html   \n",
       "16    20990   235978  https://sunlight.net/catalog/earring_235978.html   \n",
       "17    20990   235978  https://sunlight.net/catalog/earring_235978.html   \n",
       "18     7990    74404  https://sunlight.net/catalog/pendants_74404.html   \n",
       "19     7990    74404  https://sunlight.net/catalog/pendants_74404.html   \n",
       "\n",
       "   price_old   price_y price_personal    discount  \n",
       "0             10 490 ₽            NaN  [ХИТ-цена]  \n",
       "1             10 490 ₽            NaN  [ХИТ-цена]  \n",
       "2             10 490 ₽            NaN  [ХИТ-цена]  \n",
       "3             10 490 ₽            NaN  [ХИТ-цена]  \n",
       "4             10 490 ₽            NaN  [ХИТ-цена]  \n",
       "5             10 490 ₽            NaN  [ХИТ-цена]  \n",
       "6              9 990 ₽            NaN  [ХИТ-цена]  \n",
       "7              9 990 ₽            NaN  [ХИТ-цена]  \n",
       "8              9 990 ₽            NaN  [ХИТ-цена]  \n",
       "9              9 990 ₽            NaN  [ХИТ-цена]  \n",
       "10             9 990 ₽            NaN  [ХИТ-цена]  \n",
       "11             9 990 ₽            NaN  [ХИТ-цена]  \n",
       "12            20 990 ₽            NaN  [ХИТ-цена]  \n",
       "13            20 990 ₽            NaN  [ХИТ-цена]  \n",
       "14            20 990 ₽            NaN  [ХИТ-цена]  \n",
       "15            20 990 ₽            NaN  [ХИТ-цена]  \n",
       "16            20 990 ₽            NaN  [ХИТ-цена]  \n",
       "17            20 990 ₽            NaN  [ХИТ-цена]  \n",
       "18             7 990 ₽            NaN  [ХИТ-цена]  \n",
       "19             7 990 ₽            NaN  [ХИТ-цена]  "
      ]
     },
     "execution_count": 25,
     "metadata": {},
     "output_type": "execute_result"
    }
   ],
   "source": [
    "data.head(20)"
   ]
  },
  {
   "cell_type": "code",
   "execution_count": 26,
   "id": "a997900f-aa12-4dbc-bf7d-9c2307055774",
   "metadata": {
    "tags": []
   },
   "outputs": [],
   "source": [
    "data.to_csv(rf'{way}\\parsed_data\\result\\bk_sunlight_{date_now}.csv', index=False)\n",
    "data.to_csv(r'\\\\gold585.int\\uk\\Общее хранилище файлов\\Служба аналитики\\Тренкин Сергей\\Мониторинг Sokolov и Sunlight\\Данные парсинга\\sklv_sl_data\\raw_data\\\\' + f'bk_sunlight_{date_now}.csv', index=False)"
   ]
  },
  {
   "cell_type": "markdown",
   "id": "a5e89fe6",
   "metadata": {},
   "source": [
    "Для удаления файлов внутри папки:"
   ]
  },
  {
   "cell_type": "code",
   "execution_count": 27,
   "id": "00fdeb64-7729-4a2f-b9c0-d8bcda7715df",
   "metadata": {},
   "outputs": [],
   "source": [
    "def delete_files_in_folder(folder_path):\n",
    "    for filename in os.listdir(folder_path):\n",
    "        file_path = os.path.join(folder_path, filename)\n",
    "        try:\n",
    "            if os.path.isfile(file_path):\n",
    "                os.remove(file_path)\n",
    "        except Exception as e:\n",
    "            print(f'Ошибка при удалении файла {file_path}. {e}')"
   ]
  },
  {
   "cell_type": "code",
   "execution_count": 28,
   "id": "965bc997",
   "metadata": {},
   "outputs": [],
   "source": [
    "delete_files_in_folder(f'{way}\\parsed_data')"
   ]
  },
  {
   "cell_type": "code",
   "execution_count": 29,
   "id": "07769925",
   "metadata": {},
   "outputs": [],
   "source": [
    "# !jupyter nbconvert --to script sunlight_bk_cb.ipynb"
   ]
  },
  {
   "cell_type": "code",
   "execution_count": null,
   "id": "f0f24142",
   "metadata": {},
   "outputs": [],
   "source": []
  }
 ],
 "metadata": {
  "kernelspec": {
   "display_name": "Python 3 (ipykernel)",
   "language": "python",
   "name": "python3"
  },
  "language_info": {
   "codemirror_mode": {
    "name": "ipython",
    "version": 3
   },
   "file_extension": ".py",
   "mimetype": "text/x-python",
   "name": "python",
   "nbconvert_exporter": "python",
   "pygments_lexer": "ipython3",
   "version": "3.12.4"
  }
 },
 "nbformat": 4,
 "nbformat_minor": 5
}
