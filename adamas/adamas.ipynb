{
 "cells": [
  {
   "cell_type": "code",
   "execution_count": 7,
   "metadata": {},
   "outputs": [],
   "source": [
    "from fake_useragent import UserAgent\n",
    "from seleniumwire import webdriver\n",
    "from tqdm import tqdm\n",
    "import datetime as dt\n",
    "import pandas as pd\n",
    "import numpy as np\n",
    "import chromedriver_autoinstaller\n",
    "import itertools\n",
    "import requests\n",
    "import warnings\n",
    "import os\n",
    "\n",
    "warnings.filterwarnings('ignore')\n",
    "pd.options.display.max_columns=None\n",
    "pd.set_option('max_colwidth', 120)\n",
    "pd.set_option('display.width', 500)\n",
    "pd.options.display.float_format ='{:,.2f}'.format"
   ]
  },
  {
   "cell_type": "code",
   "execution_count": 8,
   "metadata": {},
   "outputs": [
    {
     "data": {
      "text/plain": [
       "'c:\\\\Users\\\\Trenkin.Sergey\\\\AppData\\\\Local\\\\Programs\\\\Python\\\\Python312\\\\Lib\\\\site-packages\\\\chromedriver_autoinstaller\\\\125\\\\chromedriver.exe'"
      ]
     },
     "execution_count": 8,
     "metadata": {},
     "output_type": "execute_result"
    }
   ],
   "source": [
    "chromedriver_autoinstaller.install()"
   ]
  },
  {
   "cell_type": "code",
   "execution_count": 9,
   "metadata": {},
   "outputs": [],
   "source": [
    "def extract_bearer():\n",
    "    driver = webdriver.Chrome()\n",
    "    driver.get('https://adamas.ru/catalog/earrings/21041507-01-A55-41/')\n",
    "    auth = '' \n",
    "    \n",
    "    res = driver.requests\n",
    "    for r in res:\n",
    "        auth_key = str(r.headers['authorization'])\n",
    "        if 'Bea' in auth_key:\n",
    "            auth = auth_key.split()[1]\n",
    "            \n",
    "    driver.close()\n",
    "    return auth"
   ]
  },
  {
   "cell_type": "code",
   "execution_count": 10,
   "metadata": {},
   "outputs": [],
   "source": [
    "def get_url(key):\n",
    "    headers_url = {\n",
    "        'authority': 'rest.adamas.ru',\n",
    "        'accept': 'application/json, text/plain, */*',\n",
    "        'accept-language': 'ru,en;q=0.9',\n",
    "        'authorization': f'Bearer {key}',\n",
    "        'origin': 'https://adamas.ru',\n",
    "        'referer': 'https://adamas.ru/',\n",
    "        'sec-ch-ua': '\" Not A;Brand\";v=\"99\", \"Chromium\";v=\"102\", \"Yandex\";v=\"22\"',\n",
    "        'sec-ch-ua-mobile': '?0',\n",
    "        'sec-ch-ua-platform': '\"Windows\"',\n",
    "        'sec-fetch-dest': 'empty',\n",
    "        'sec-fetch-mode': 'cors',\n",
    "        'sec-fetch-site': 'same-site',\n",
    "        'user-agent': 'Mozilla/5.0 (Windows NT 10.0; Win64; x64) AppleWebKit/537.36 (KHTML, like Gecko) Chrome/102.0.5005.167 YaBrowser/22.7.3.822 Yowser/2.5 Safari/537.36',\n",
    "    }"
   ]
  },
  {
   "cell_type": "code",
   "execution_count": 11,
   "metadata": {},
   "outputs": [],
   "source": [
    "def get_url(key):\n",
    "    headers_url = {\n",
    "        'authority': 'rest.adamas.ru',\n",
    "        'accept': 'application/json, text/plain, */*',\n",
    "        'accept-language': 'ru,en;q=0.9',\n",
    "        'authorization': f'Bearer {extract_bearer()}',\n",
    "        'origin': 'https://adamas.ru',\n",
    "        'referer': 'https://adamas.ru/',\n",
    "        'sec-ch-ua': '\" Not A;Brand\";v=\"99\", \"Chromium\";v=\"102\", \"Yandex\";v=\"22\"',\n",
    "        'sec-ch-ua-mobile': '?0',\n",
    "        'sec-ch-ua-platform': '\"Windows\"',\n",
    "        'sec-fetch-dest': 'empty',\n",
    "        'sec-fetch-mode': 'cors',\n",
    "        'sec-fetch-site': 'same-site',\n",
    "        'user-agent': 'Mozilla/5.0 (Windows NT 10.0; Win64; x64) AppleWebKit/537.36 (KHTML, like Gecko) Chrome/102.0.5005.167 YaBrowser/22.7.3.822 Yowser/2.5 Safari/537.36',\n",
    "    }\n",
    "    i = 0\n",
    "    links = []\n",
    "    params = {\n",
    "        'offset': i,\n",
    "    }\n",
    "    response = requests.get('https://rest.adamas.ru/v1/products', headers=headers_url)\n",
    "    js = response.json()\n",
    "    total_count = js['meta']['total-count']\n",
    "    while len(js['data']) > 0:\n",
    "        for d in js['data']:\n",
    "            try:\n",
    "                sizes = [i['id'] for i in d['properties'][0]['values']]\n",
    "            except:\n",
    "                sizes = np.nan\n",
    "            try:\n",
    "                group = d['category_id']\n",
    "            except:\n",
    "                group = np.nan\n",
    "            try:\n",
    "                article = d['code']\n",
    "            except:\n",
    "                article = np.nan\n",
    "            try:\n",
    "                name = d['title']\n",
    "            except:\n",
    "                name = np.nan\n",
    "            try:\n",
    "                link = 'https://adamas.ru' + d['url']\n",
    "            except:\n",
    "                link = np.nan\n",
    "            try:\n",
    "                prod_id = d['id']\n",
    "            except:\n",
    "                prod_id = np.nan\n",
    "            links.append({\n",
    "                'name':name,\n",
    "                'group_id':group,\n",
    "                'id':prod_id,\n",
    "                'article':article,\n",
    "                'sizes':sizes,                \n",
    "                'link':link\n",
    "            })\n",
    "        i += 42\n",
    "        params = {\n",
    "        'offset': i,\n",
    "        }\n",
    "        response = requests.get('https://rest.adamas.ru/v1/products', params=params, headers=headers_url)\n",
    "        js = response.json()\n",
    "        try:\n",
    "            js['data']\n",
    "        except:\n",
    "            key = extract_bearer()\n",
    "            headers_url = {\n",
    "                'authority': 'rest.adamas.ru',\n",
    "                'accept': 'application/json, text/plain, */*',\n",
    "                'accept-language': 'ru,en;q=0.9',\n",
    "                'authorization': f'Bearer {key}',\n",
    "                'origin': 'https://adamas.ru',\n",
    "                'referer': 'https://adamas.ru/',\n",
    "                'sec-ch-ua': '\" Not A;Brand\";v=\"99\", \"Chromium\";v=\"102\", \"Yandex\";v=\"22\"',\n",
    "                'sec-ch-ua-mobile': '?0',\n",
    "                'sec-ch-ua-platform': '\"Windows\"',\n",
    "                'sec-fetch-dest': 'empty',\n",
    "                'sec-fetch-mode': 'cors',\n",
    "                'sec-fetch-site': 'same-site',\n",
    "                'user-agent': 'Mozilla/5.0 (Windows NT 10.0; Win64; x64) AppleWebKit/537.36 (KHTML, like Gecko) Chrome/102.0.5005.167 YaBrowser/22.7.3.822 Yowser/2.5 Safari/537.36',\n",
    "            }\n",
    "    return links, total_count, key"
   ]
  },
  {
   "cell_type": "code",
   "execution_count": 12,
   "metadata": {},
   "outputs": [
    {
     "name": "stderr",
     "output_type": "stream",
     "text": [
      "----------------------------------------\n",
      "Exception occurred during processing of request from ('127.0.0.1', 57734)\n",
      "Traceback (most recent call last):\n",
      "  File \"c:\\Users\\Trenkin.Sergey\\AppData\\Local\\Programs\\Python\\Python312\\Lib\\socketserver.py\", line 692, in process_request_thread\n",
      "    self.finish_request(request, client_address)\n",
      "  File \"c:\\Users\\Trenkin.Sergey\\AppData\\Local\\Programs\\Python\\Python312\\Lib\\socketserver.py\", line 362, in finish_request\n",
      "    self.RequestHandlerClass(request, client_address, self)\n",
      "  File \"c:\\Users\\Trenkin.Sergey\\AppData\\Local\\Programs\\Python\\Python312\\Lib\\site-packages\\seleniumwire\\proxy\\proxy2.py\", line 65, in __init__\n",
      "    super().__init__(*args, **kwargs)\n",
      "  File \"c:\\Users\\Trenkin.Sergey\\AppData\\Local\\Programs\\Python\\Python312\\Lib\\socketserver.py\", line 761, in __init__\n",
      "    self.handle()\n",
      "  File \"c:\\Users\\Trenkin.Sergey\\AppData\\Local\\Programs\\Python\\Python312\\Lib\\http\\server.py\", line 436, in handle\n",
      "    self.handle_one_request()\n",
      "  File \"c:\\Users\\Trenkin.Sergey\\AppData\\Local\\Programs\\Python\\Python312\\Lib\\http\\server.py\", line 424, in handle_one_request\n",
      "    method()\n",
      "  File \"c:\\Users\\Trenkin.Sergey\\AppData\\Local\\Programs\\Python\\Python312\\Lib\\site-packages\\seleniumwire\\proxy\\proxy2.py\", line 76, in do_CONNECT\n",
      "    self.connect_intercept()\n",
      "  File \"c:\\Users\\Trenkin.Sergey\\AppData\\Local\\Programs\\Python\\Python312\\Lib\\site-packages\\seleniumwire\\proxy\\proxy2.py\", line 106, in connect_intercept\n",
      "    with ssl.wrap_socket(self.connection, keyfile=self.certkey, certfile=certpath, server_side=True) as conn:\n",
      "         ^^^^^^^^^^^^^^^\n",
      "AttributeError: module 'ssl' has no attribute 'wrap_socket'\n",
      "----------------------------------------\n",
      "----------------------------------------\n",
      "Exception occurred during processing of request from ('127.0.0.1', 57735)\n",
      "Traceback (most recent call last):\n",
      "  File \"c:\\Users\\Trenkin.Sergey\\AppData\\Local\\Programs\\Python\\Python312\\Lib\\socketserver.py\", line 692, in process_request_thread\n",
      "    self.finish_request(request, client_address)\n",
      "  File \"c:\\Users\\Trenkin.Sergey\\AppData\\Local\\Programs\\Python\\Python312\\Lib\\socketserver.py\", line 362, in finish_request\n",
      "    self.RequestHandlerClass(request, client_address, self)\n",
      "  File \"c:\\Users\\Trenkin.Sergey\\AppData\\Local\\Programs\\Python\\Python312\\Lib\\site-packages\\seleniumwire\\proxy\\proxy2.py\", line 65, in __init__\n",
      "    super().__init__(*args, **kwargs)\n",
      "  File \"c:\\Users\\Trenkin.Sergey\\AppData\\Local\\Programs\\Python\\Python312\\Lib\\socketserver.py\", line 761, in __init__\n",
      "    self.handle()\n",
      "  File \"c:\\Users\\Trenkin.Sergey\\AppData\\Local\\Programs\\Python\\Python312\\Lib\\http\\server.py\", line 436, in handle\n",
      "    self.handle_one_request()\n",
      "  File \"c:\\Users\\Trenkin.Sergey\\AppData\\Local\\Programs\\Python\\Python312\\Lib\\http\\server.py\", line 424, in handle_one_request\n",
      "    method()\n",
      "  File \"c:\\Users\\Trenkin.Sergey\\AppData\\Local\\Programs\\Python\\Python312\\Lib\\site-packages\\seleniumwire\\proxy\\proxy2.py\", line 76, in do_CONNECT\n",
      "    self.connect_intercept()\n",
      "  File \"c:\\Users\\Trenkin.Sergey\\AppData\\Local\\Programs\\Python\\Python312\\Lib\\site-packages\\seleniumwire\\proxy\\proxy2.py\", line 106, in connect_intercept\n",
      "    with ssl.wrap_socket(self.connection, keyfile=self.certkey, certfile=certpath, server_side=True) as conn:\n",
      "         ^^^^^^^^^^^^^^^\n",
      "AttributeError: module 'ssl' has no attribute 'wrap_socket'\n",
      "----------------------------------------\n",
      "----------------------------------------\n",
      "Exception occurred during processing of request from ('127.0.0.1', 57740)\n",
      "Traceback (most recent call last):\n",
      "  File \"c:\\Users\\Trenkin.Sergey\\AppData\\Local\\Programs\\Python\\Python312\\Lib\\socketserver.py\", line 692, in process_request_thread\n",
      "    self.finish_request(request, client_address)\n",
      "  File \"c:\\Users\\Trenkin.Sergey\\AppData\\Local\\Programs\\Python\\Python312\\Lib\\socketserver.py\", line 362, in finish_request\n",
      "    self.RequestHandlerClass(request, client_address, self)\n",
      "  File \"c:\\Users\\Trenkin.Sergey\\AppData\\Local\\Programs\\Python\\Python312\\Lib\\site-packages\\seleniumwire\\proxy\\proxy2.py\", line 65, in __init__\n",
      "    super().__init__(*args, **kwargs)\n",
      "  File \"c:\\Users\\Trenkin.Sergey\\AppData\\Local\\Programs\\Python\\Python312\\Lib\\socketserver.py\", line 761, in __init__\n",
      "    self.handle()\n",
      "  File \"c:\\Users\\Trenkin.Sergey\\AppData\\Local\\Programs\\Python\\Python312\\Lib\\http\\server.py\", line 436, in handle\n",
      "    self.handle_one_request()\n",
      "  File \"c:\\Users\\Trenkin.Sergey\\AppData\\Local\\Programs\\Python\\Python312\\Lib\\http\\server.py\", line 424, in handle_one_request\n",
      "    method()\n",
      "  File \"c:\\Users\\Trenkin.Sergey\\AppData\\Local\\Programs\\Python\\Python312\\Lib\\site-packages\\seleniumwire\\proxy\\proxy2.py\", line 76, in do_CONNECT\n",
      "    self.connect_intercept()\n",
      "  File \"c:\\Users\\Trenkin.Sergey\\AppData\\Local\\Programs\\Python\\Python312\\Lib\\site-packages\\seleniumwire\\proxy\\proxy2.py\", line 106, in connect_intercept\n",
      "    with ssl.wrap_socket(self.connection, keyfile=self.certkey, certfile=certpath, server_side=True) as conn:\n",
      "         ^^^^^^^^^^^^^^^\n",
      "AttributeError: module 'ssl' has no attribute 'wrap_socket'\n",
      "----------------------------------------\n",
      "----------------------------------------\n",
      "Exception occurred during processing of request from ('127.0.0.1', 57743)\n",
      "Traceback (most recent call last):\n",
      "  File \"c:\\Users\\Trenkin.Sergey\\AppData\\Local\\Programs\\Python\\Python312\\Lib\\socketserver.py\", line 692, in process_request_thread\n",
      "    self.finish_request(request, client_address)\n",
      "  File \"c:\\Users\\Trenkin.Sergey\\AppData\\Local\\Programs\\Python\\Python312\\Lib\\socketserver.py\", line 362, in finish_request\n",
      "    self.RequestHandlerClass(request, client_address, self)\n",
      "  File \"c:\\Users\\Trenkin.Sergey\\AppData\\Local\\Programs\\Python\\Python312\\Lib\\site-packages\\seleniumwire\\proxy\\proxy2.py\", line 65, in __init__\n",
      "    super().__init__(*args, **kwargs)\n",
      "  File \"c:\\Users\\Trenkin.Sergey\\AppData\\Local\\Programs\\Python\\Python312\\Lib\\socketserver.py\", line 761, in __init__\n",
      "    self.handle()\n",
      "  File \"c:\\Users\\Trenkin.Sergey\\AppData\\Local\\Programs\\Python\\Python312\\Lib\\http\\server.py\", line 436, in handle\n",
      "    self.handle_one_request()\n",
      "  File \"c:\\Users\\Trenkin.Sergey\\AppData\\Local\\Programs\\Python\\Python312\\Lib\\http\\server.py\", line 424, in handle_one_request\n",
      "    method()\n",
      "  File \"c:\\Users\\Trenkin.Sergey\\AppData\\Local\\Programs\\Python\\Python312\\Lib\\site-packages\\seleniumwire\\proxy\\proxy2.py\", line 76, in do_CONNECT\n",
      "    self.connect_intercept()\n",
      "  File \"c:\\Users\\Trenkin.Sergey\\AppData\\Local\\Programs\\Python\\Python312\\Lib\\site-packages\\seleniumwire\\proxy\\proxy2.py\", line 106, in connect_intercept\n",
      "    with ssl.wrap_socket(self.connection, keyfile=self.certkey, certfile=certpath, server_side=True) as conn:\n",
      "         ^^^^^^^^^^^^^^^\n",
      "AttributeError: module 'ssl' has no attribute 'wrap_socket'\n",
      "----------------------------------------\n",
      "----------------------------------------\n",
      "Exception occurred during processing of request from ('127.0.0.1', 57745)\n",
      "Traceback (most recent call last):\n",
      "  File \"c:\\Users\\Trenkin.Sergey\\AppData\\Local\\Programs\\Python\\Python312\\Lib\\socketserver.py\", line 692, in process_request_thread\n",
      "    self.finish_request(request, client_address)\n",
      "  File \"c:\\Users\\Trenkin.Sergey\\AppData\\Local\\Programs\\Python\\Python312\\Lib\\socketserver.py\", line 362, in finish_request\n",
      "    self.RequestHandlerClass(request, client_address, self)\n",
      "  File \"c:\\Users\\Trenkin.Sergey\\AppData\\Local\\Programs\\Python\\Python312\\Lib\\site-packages\\seleniumwire\\proxy\\proxy2.py\", line 65, in __init__\n",
      "    super().__init__(*args, **kwargs)\n",
      "  File \"c:\\Users\\Trenkin.Sergey\\AppData\\Local\\Programs\\Python\\Python312\\Lib\\socketserver.py\", line 761, in __init__\n",
      "    self.handle()\n",
      "  File \"c:\\Users\\Trenkin.Sergey\\AppData\\Local\\Programs\\Python\\Python312\\Lib\\http\\server.py\", line 436, in handle\n",
      "    self.handle_one_request()\n",
      "  File \"c:\\Users\\Trenkin.Sergey\\AppData\\Local\\Programs\\Python\\Python312\\Lib\\http\\server.py\", line 424, in handle_one_request\n",
      "    method()\n",
      "  File \"c:\\Users\\Trenkin.Sergey\\AppData\\Local\\Programs\\Python\\Python312\\Lib\\site-packages\\seleniumwire\\proxy\\proxy2.py\", line 76, in do_CONNECT\n",
      "    self.connect_intercept()\n",
      "  File \"c:\\Users\\Trenkin.Sergey\\AppData\\Local\\Programs\\Python\\Python312\\Lib\\site-packages\\seleniumwire\\proxy\\proxy2.py\", line 106, in connect_intercept\n",
      "    with ssl.wrap_socket(self.connection, keyfile=self.certkey, certfile=certpath, server_side=True) as conn:\n",
      "         ^^^^^^^^^^^^^^^\n",
      "AttributeError: module 'ssl' has no attribute 'wrap_socket'\n",
      "----------------------------------------\n",
      "----------------------------------------\n",
      "Exception occurred during processing of request from ('127.0.0.1', 57746)\n",
      "Traceback (most recent call last):\n",
      "  File \"c:\\Users\\Trenkin.Sergey\\AppData\\Local\\Programs\\Python\\Python312\\Lib\\socketserver.py\", line 692, in process_request_thread\n",
      "    self.finish_request(request, client_address)\n",
      "  File \"c:\\Users\\Trenkin.Sergey\\AppData\\Local\\Programs\\Python\\Python312\\Lib\\socketserver.py\", line 362, in finish_request\n",
      "    self.RequestHandlerClass(request, client_address, self)\n",
      "  File \"c:\\Users\\Trenkin.Sergey\\AppData\\Local\\Programs\\Python\\Python312\\Lib\\site-packages\\seleniumwire\\proxy\\proxy2.py\", line 65, in __init__\n",
      "    super().__init__(*args, **kwargs)\n",
      "  File \"c:\\Users\\Trenkin.Sergey\\AppData\\Local\\Programs\\Python\\Python312\\Lib\\socketserver.py\", line 761, in __init__\n",
      "    self.handle()\n",
      "  File \"c:\\Users\\Trenkin.Sergey\\AppData\\Local\\Programs\\Python\\Python312\\Lib\\http\\server.py\", line 436, in handle\n",
      "    self.handle_one_request()\n",
      "  File \"c:\\Users\\Trenkin.Sergey\\AppData\\Local\\Programs\\Python\\Python312\\Lib\\http\\server.py\", line 424, in handle_one_request\n",
      "    method()\n",
      "  File \"c:\\Users\\Trenkin.Sergey\\AppData\\Local\\Programs\\Python\\Python312\\Lib\\site-packages\\seleniumwire\\proxy\\proxy2.py\", line 76, in do_CONNECT\n",
      "    self.connect_intercept()\n",
      "  File \"c:\\Users\\Trenkin.Sergey\\AppData\\Local\\Programs\\Python\\Python312\\Lib\\site-packages\\seleniumwire\\proxy\\proxy2.py\", line 106, in connect_intercept\n",
      "    with ssl.wrap_socket(self.connection, keyfile=self.certkey, certfile=certpath, server_side=True) as conn:\n",
      "         ^^^^^^^^^^^^^^^\n",
      "AttributeError: module 'ssl' has no attribute 'wrap_socket'\n",
      "----------------------------------------\n",
      "----------------------------------------\n",
      "Exception occurred during processing of request from ('127.0.0.1', 57747)\n",
      "Traceback (most recent call last):\n",
      "  File \"c:\\Users\\Trenkin.Sergey\\AppData\\Local\\Programs\\Python\\Python312\\Lib\\socketserver.py\", line 692, in process_request_thread\n",
      "    self.finish_request(request, client_address)\n",
      "  File \"c:\\Users\\Trenkin.Sergey\\AppData\\Local\\Programs\\Python\\Python312\\Lib\\socketserver.py\", line 362, in finish_request\n",
      "    self.RequestHandlerClass(request, client_address, self)\n",
      "  File \"c:\\Users\\Trenkin.Sergey\\AppData\\Local\\Programs\\Python\\Python312\\Lib\\site-packages\\seleniumwire\\proxy\\proxy2.py\", line 65, in __init__\n",
      "    super().__init__(*args, **kwargs)\n",
      "  File \"c:\\Users\\Trenkin.Sergey\\AppData\\Local\\Programs\\Python\\Python312\\Lib\\socketserver.py\", line 761, in __init__\n",
      "    self.handle()\n",
      "  File \"c:\\Users\\Trenkin.Sergey\\AppData\\Local\\Programs\\Python\\Python312\\Lib\\http\\server.py\", line 436, in handle\n",
      "    self.handle_one_request()\n",
      "  File \"c:\\Users\\Trenkin.Sergey\\AppData\\Local\\Programs\\Python\\Python312\\Lib\\http\\server.py\", line 424, in handle_one_request\n",
      "    method()\n",
      "  File \"c:\\Users\\Trenkin.Sergey\\AppData\\Local\\Programs\\Python\\Python312\\Lib\\site-packages\\seleniumwire\\proxy\\proxy2.py\", line 76, in do_CONNECT\n",
      "    self.connect_intercept()\n",
      "  File \"c:\\Users\\Trenkin.Sergey\\AppData\\Local\\Programs\\Python\\Python312\\Lib\\site-packages\\seleniumwire\\proxy\\proxy2.py\", line 106, in connect_intercept\n",
      "    with ssl.wrap_socket(self.connection, keyfile=self.certkey, certfile=certpath, server_side=True) as conn:\n",
      "         ^^^^^^^^^^^^^^^\n",
      "AttributeError: module 'ssl' has no attribute 'wrap_socket'\n",
      "----------------------------------------\n",
      "----------------------------------------\n",
      "Exception occurred during processing of request from ('127.0.0.1', 57748)\n",
      "Traceback (most recent call last):\n",
      "  File \"c:\\Users\\Trenkin.Sergey\\AppData\\Local\\Programs\\Python\\Python312\\Lib\\socketserver.py\", line 692, in process_request_thread\n",
      "    self.finish_request(request, client_address)\n",
      "  File \"c:\\Users\\Trenkin.Sergey\\AppData\\Local\\Programs\\Python\\Python312\\Lib\\socketserver.py\", line 362, in finish_request\n",
      "    self.RequestHandlerClass(request, client_address, self)\n",
      "  File \"c:\\Users\\Trenkin.Sergey\\AppData\\Local\\Programs\\Python\\Python312\\Lib\\site-packages\\seleniumwire\\proxy\\proxy2.py\", line 65, in __init__\n",
      "    super().__init__(*args, **kwargs)\n",
      "  File \"c:\\Users\\Trenkin.Sergey\\AppData\\Local\\Programs\\Python\\Python312\\Lib\\socketserver.py\", line 761, in __init__\n",
      "    self.handle()\n",
      "  File \"c:\\Users\\Trenkin.Sergey\\AppData\\Local\\Programs\\Python\\Python312\\Lib\\http\\server.py\", line 436, in handle\n",
      "    self.handle_one_request()\n",
      "  File \"c:\\Users\\Trenkin.Sergey\\AppData\\Local\\Programs\\Python\\Python312\\Lib\\http\\server.py\", line 424, in handle_one_request\n",
      "    method()\n",
      "  File \"c:\\Users\\Trenkin.Sergey\\AppData\\Local\\Programs\\Python\\Python312\\Lib\\site-packages\\seleniumwire\\proxy\\proxy2.py\", line 76, in do_CONNECT\n",
      "    self.connect_intercept()\n",
      "  File \"c:\\Users\\Trenkin.Sergey\\AppData\\Local\\Programs\\Python\\Python312\\Lib\\site-packages\\seleniumwire\\proxy\\proxy2.py\", line 106, in connect_intercept\n",
      "    with ssl.wrap_socket(self.connection, keyfile=self.certkey, certfile=certpath, server_side=True) as conn:\n",
      "         ^^^^^^^^^^^^^^^\n",
      "AttributeError: module 'ssl' has no attribute 'wrap_socket'\n",
      "----------------------------------------\n"
     ]
    },
    {
     "ename": "WebDriverException",
     "evalue": "Message: unknown error: net::ERR_CONNECTION_CLOSED\n  (Session info: chrome=125.0.6422.113)\nStacktrace:\n\tGetHandleVerifier [0x006CB793+45827]\n\t(No symbol) [0x0065DB74]\n\t(No symbol) [0x0055150F]\n\t(No symbol) [0x00549B2B]\n\t(No symbol) [0x0053EB59]\n\t(No symbol) [0x0053D953]\n\t(No symbol) [0x0053D506]\n\t(No symbol) [0x0053D311]\n\t(No symbol) [0x0053B739]\n\t(No symbol) [0x0053BBFB]\n\t(No symbol) [0x00553CF4]\n\t(No symbol) [0x005CC717]\n\t(No symbol) [0x005B2DFC]\n\t(No symbol) [0x005CC034]\n\t(No symbol) [0x005B2B96]\n\t(No symbol) [0x00586998]\n\t(No symbol) [0x0058751D]\n\tGetHandleVerifier [0x009843C3+2899763]\n\tGetHandleVerifier [0x009D77ED+3240797]\n\tGetHandleVerifier [0x00751264+593364]\n\tGetHandleVerifier [0x0075818C+621820]\n\t(No symbol) [0x00666F54]\n\t(No symbol) [0x00663658]\n\t(No symbol) [0x006637F7]\n\t(No symbol) [0x006558AE]\n\tBaseThreadInitThunk [0x767FFCC9+25]\n\tRtlGetAppContainerNamedObjectPath [0x77507B1E+286]\n\tRtlGetAppContainerNamedObjectPath [0x77507AEE+238]\n",
     "output_type": "error",
     "traceback": [
      "\u001b[1;31m---------------------------------------------------------------------------\u001b[0m",
      "\u001b[1;31mWebDriverException\u001b[0m                        Traceback (most recent call last)",
      "Cell \u001b[1;32mIn[12], line 1\u001b[0m\n\u001b[1;32m----> 1\u001b[0m links \u001b[38;5;241m=\u001b[39m \u001b[43mget_url\u001b[49m\u001b[43m(\u001b[49m\u001b[43mextract_bearer\u001b[49m\u001b[43m)\u001b[49m\n",
      "Cell \u001b[1;32mIn[11], line 6\u001b[0m, in \u001b[0;36mget_url\u001b[1;34m(key)\u001b[0m\n\u001b[0;32m      1\u001b[0m \u001b[38;5;28;01mdef\u001b[39;00m \u001b[38;5;21mget_url\u001b[39m(key):\n\u001b[0;32m      2\u001b[0m     headers_url \u001b[38;5;241m=\u001b[39m {\n\u001b[0;32m      3\u001b[0m         \u001b[38;5;124m'\u001b[39m\u001b[38;5;124mauthority\u001b[39m\u001b[38;5;124m'\u001b[39m: \u001b[38;5;124m'\u001b[39m\u001b[38;5;124mrest.adamas.ru\u001b[39m\u001b[38;5;124m'\u001b[39m,\n\u001b[0;32m      4\u001b[0m         \u001b[38;5;124m'\u001b[39m\u001b[38;5;124maccept\u001b[39m\u001b[38;5;124m'\u001b[39m: \u001b[38;5;124m'\u001b[39m\u001b[38;5;124mapplication/json, text/plain, */*\u001b[39m\u001b[38;5;124m'\u001b[39m,\n\u001b[0;32m      5\u001b[0m         \u001b[38;5;124m'\u001b[39m\u001b[38;5;124maccept-language\u001b[39m\u001b[38;5;124m'\u001b[39m: \u001b[38;5;124m'\u001b[39m\u001b[38;5;124mru,en;q=0.9\u001b[39m\u001b[38;5;124m'\u001b[39m,\n\u001b[1;32m----> 6\u001b[0m         \u001b[38;5;124m'\u001b[39m\u001b[38;5;124mauthorization\u001b[39m\u001b[38;5;124m'\u001b[39m: \u001b[38;5;124mf\u001b[39m\u001b[38;5;124m'\u001b[39m\u001b[38;5;124mBearer \u001b[39m\u001b[38;5;132;01m{\u001b[39;00m\u001b[43mextract_bearer\u001b[49m\u001b[43m(\u001b[49m\u001b[43m)\u001b[49m\u001b[38;5;132;01m}\u001b[39;00m\u001b[38;5;124m'\u001b[39m,\n\u001b[0;32m      7\u001b[0m         \u001b[38;5;124m'\u001b[39m\u001b[38;5;124morigin\u001b[39m\u001b[38;5;124m'\u001b[39m: \u001b[38;5;124m'\u001b[39m\u001b[38;5;124mhttps://adamas.ru\u001b[39m\u001b[38;5;124m'\u001b[39m,\n\u001b[0;32m      8\u001b[0m         \u001b[38;5;124m'\u001b[39m\u001b[38;5;124mreferer\u001b[39m\u001b[38;5;124m'\u001b[39m: \u001b[38;5;124m'\u001b[39m\u001b[38;5;124mhttps://adamas.ru/\u001b[39m\u001b[38;5;124m'\u001b[39m,\n\u001b[0;32m      9\u001b[0m         \u001b[38;5;124m'\u001b[39m\u001b[38;5;124msec-ch-ua\u001b[39m\u001b[38;5;124m'\u001b[39m: \u001b[38;5;124m'\u001b[39m\u001b[38;5;124m\"\u001b[39m\u001b[38;5;124m Not A;Brand\u001b[39m\u001b[38;5;124m\"\u001b[39m\u001b[38;5;124m;v=\u001b[39m\u001b[38;5;124m\"\u001b[39m\u001b[38;5;124m99\u001b[39m\u001b[38;5;124m\"\u001b[39m\u001b[38;5;124m, \u001b[39m\u001b[38;5;124m\"\u001b[39m\u001b[38;5;124mChromium\u001b[39m\u001b[38;5;124m\"\u001b[39m\u001b[38;5;124m;v=\u001b[39m\u001b[38;5;124m\"\u001b[39m\u001b[38;5;124m102\u001b[39m\u001b[38;5;124m\"\u001b[39m\u001b[38;5;124m, \u001b[39m\u001b[38;5;124m\"\u001b[39m\u001b[38;5;124mYandex\u001b[39m\u001b[38;5;124m\"\u001b[39m\u001b[38;5;124m;v=\u001b[39m\u001b[38;5;124m\"\u001b[39m\u001b[38;5;124m22\u001b[39m\u001b[38;5;124m\"\u001b[39m\u001b[38;5;124m'\u001b[39m,\n\u001b[0;32m     10\u001b[0m         \u001b[38;5;124m'\u001b[39m\u001b[38;5;124msec-ch-ua-mobile\u001b[39m\u001b[38;5;124m'\u001b[39m: \u001b[38;5;124m'\u001b[39m\u001b[38;5;124m?0\u001b[39m\u001b[38;5;124m'\u001b[39m,\n\u001b[0;32m     11\u001b[0m         \u001b[38;5;124m'\u001b[39m\u001b[38;5;124msec-ch-ua-platform\u001b[39m\u001b[38;5;124m'\u001b[39m: \u001b[38;5;124m'\u001b[39m\u001b[38;5;124m\"\u001b[39m\u001b[38;5;124mWindows\u001b[39m\u001b[38;5;124m\"\u001b[39m\u001b[38;5;124m'\u001b[39m,\n\u001b[0;32m     12\u001b[0m         \u001b[38;5;124m'\u001b[39m\u001b[38;5;124msec-fetch-dest\u001b[39m\u001b[38;5;124m'\u001b[39m: \u001b[38;5;124m'\u001b[39m\u001b[38;5;124mempty\u001b[39m\u001b[38;5;124m'\u001b[39m,\n\u001b[0;32m     13\u001b[0m         \u001b[38;5;124m'\u001b[39m\u001b[38;5;124msec-fetch-mode\u001b[39m\u001b[38;5;124m'\u001b[39m: \u001b[38;5;124m'\u001b[39m\u001b[38;5;124mcors\u001b[39m\u001b[38;5;124m'\u001b[39m,\n\u001b[0;32m     14\u001b[0m         \u001b[38;5;124m'\u001b[39m\u001b[38;5;124msec-fetch-site\u001b[39m\u001b[38;5;124m'\u001b[39m: \u001b[38;5;124m'\u001b[39m\u001b[38;5;124msame-site\u001b[39m\u001b[38;5;124m'\u001b[39m,\n\u001b[0;32m     15\u001b[0m         \u001b[38;5;124m'\u001b[39m\u001b[38;5;124muser-agent\u001b[39m\u001b[38;5;124m'\u001b[39m: \u001b[38;5;124m'\u001b[39m\u001b[38;5;124mMozilla/5.0 (Windows NT 10.0; Win64; x64) AppleWebKit/537.36 (KHTML, like Gecko) Chrome/102.0.5005.167 YaBrowser/22.7.3.822 Yowser/2.5 Safari/537.36\u001b[39m\u001b[38;5;124m'\u001b[39m,\n\u001b[0;32m     16\u001b[0m     }\n\u001b[0;32m     17\u001b[0m     i \u001b[38;5;241m=\u001b[39m \u001b[38;5;241m0\u001b[39m\n\u001b[0;32m     18\u001b[0m     links \u001b[38;5;241m=\u001b[39m []\n",
      "Cell \u001b[1;32mIn[9], line 3\u001b[0m, in \u001b[0;36mextract_bearer\u001b[1;34m()\u001b[0m\n\u001b[0;32m      1\u001b[0m \u001b[38;5;28;01mdef\u001b[39;00m \u001b[38;5;21mextract_bearer\u001b[39m():\n\u001b[0;32m      2\u001b[0m     driver \u001b[38;5;241m=\u001b[39m webdriver\u001b[38;5;241m.\u001b[39mChrome()\n\u001b[1;32m----> 3\u001b[0m     \u001b[43mdriver\u001b[49m\u001b[38;5;241;43m.\u001b[39;49m\u001b[43mget\u001b[49m\u001b[43m(\u001b[49m\u001b[38;5;124;43m'\u001b[39;49m\u001b[38;5;124;43mhttps://adamas.ru/catalog/earrings/21041507-01-A55-41/\u001b[39;49m\u001b[38;5;124;43m'\u001b[39;49m\u001b[43m)\u001b[49m\n\u001b[0;32m      4\u001b[0m     auth \u001b[38;5;241m=\u001b[39m \u001b[38;5;124m'\u001b[39m\u001b[38;5;124m'\u001b[39m \n\u001b[0;32m      6\u001b[0m     res \u001b[38;5;241m=\u001b[39m driver\u001b[38;5;241m.\u001b[39mrequests\n",
      "File \u001b[1;32mc:\\Users\\Trenkin.Sergey\\AppData\\Local\\Programs\\Python\\Python312\\Lib\\site-packages\\selenium\\webdriver\\remote\\webdriver.py:449\u001b[0m, in \u001b[0;36mWebDriver.get\u001b[1;34m(self, url)\u001b[0m\n\u001b[0;32m    447\u001b[0m \u001b[38;5;28;01mdef\u001b[39;00m \u001b[38;5;21mget\u001b[39m(\u001b[38;5;28mself\u001b[39m, url: \u001b[38;5;28mstr\u001b[39m) \u001b[38;5;241m-\u001b[39m\u001b[38;5;241m>\u001b[39m \u001b[38;5;28;01mNone\u001b[39;00m:\n\u001b[0;32m    448\u001b[0m \u001b[38;5;250m    \u001b[39m\u001b[38;5;124;03m\"\"\"Loads a web page in the current browser session.\"\"\"\u001b[39;00m\n\u001b[1;32m--> 449\u001b[0m     \u001b[38;5;28;43mself\u001b[39;49m\u001b[38;5;241;43m.\u001b[39;49m\u001b[43mexecute\u001b[49m\u001b[43m(\u001b[49m\u001b[43mCommand\u001b[49m\u001b[38;5;241;43m.\u001b[39;49m\u001b[43mGET\u001b[49m\u001b[43m,\u001b[49m\u001b[43m \u001b[49m\u001b[43m{\u001b[49m\u001b[38;5;124;43m\"\u001b[39;49m\u001b[38;5;124;43murl\u001b[39;49m\u001b[38;5;124;43m\"\u001b[39;49m\u001b[43m:\u001b[49m\u001b[43m \u001b[49m\u001b[43murl\u001b[49m\u001b[43m}\u001b[49m\u001b[43m)\u001b[49m\n",
      "File \u001b[1;32mc:\\Users\\Trenkin.Sergey\\AppData\\Local\\Programs\\Python\\Python312\\Lib\\site-packages\\selenium\\webdriver\\remote\\webdriver.py:440\u001b[0m, in \u001b[0;36mWebDriver.execute\u001b[1;34m(self, driver_command, params)\u001b[0m\n\u001b[0;32m    438\u001b[0m response \u001b[38;5;241m=\u001b[39m \u001b[38;5;28mself\u001b[39m\u001b[38;5;241m.\u001b[39mcommand_executor\u001b[38;5;241m.\u001b[39mexecute(driver_command, params)\n\u001b[0;32m    439\u001b[0m \u001b[38;5;28;01mif\u001b[39;00m response:\n\u001b[1;32m--> 440\u001b[0m     \u001b[38;5;28;43mself\u001b[39;49m\u001b[38;5;241;43m.\u001b[39;49m\u001b[43merror_handler\u001b[49m\u001b[38;5;241;43m.\u001b[39;49m\u001b[43mcheck_response\u001b[49m\u001b[43m(\u001b[49m\u001b[43mresponse\u001b[49m\u001b[43m)\u001b[49m\n\u001b[0;32m    441\u001b[0m     response[\u001b[38;5;124m\"\u001b[39m\u001b[38;5;124mvalue\u001b[39m\u001b[38;5;124m\"\u001b[39m] \u001b[38;5;241m=\u001b[39m \u001b[38;5;28mself\u001b[39m\u001b[38;5;241m.\u001b[39m_unwrap_value(response\u001b[38;5;241m.\u001b[39mget(\u001b[38;5;124m\"\u001b[39m\u001b[38;5;124mvalue\u001b[39m\u001b[38;5;124m\"\u001b[39m, \u001b[38;5;28;01mNone\u001b[39;00m))\n\u001b[0;32m    442\u001b[0m     \u001b[38;5;28;01mreturn\u001b[39;00m response\n",
      "File \u001b[1;32mc:\\Users\\Trenkin.Sergey\\AppData\\Local\\Programs\\Python\\Python312\\Lib\\site-packages\\selenium\\webdriver\\remote\\errorhandler.py:245\u001b[0m, in \u001b[0;36mErrorHandler.check_response\u001b[1;34m(self, response)\u001b[0m\n\u001b[0;32m    243\u001b[0m         alert_text \u001b[38;5;241m=\u001b[39m value[\u001b[38;5;124m\"\u001b[39m\u001b[38;5;124malert\u001b[39m\u001b[38;5;124m\"\u001b[39m]\u001b[38;5;241m.\u001b[39mget(\u001b[38;5;124m\"\u001b[39m\u001b[38;5;124mtext\u001b[39m\u001b[38;5;124m\"\u001b[39m)\n\u001b[0;32m    244\u001b[0m     \u001b[38;5;28;01mraise\u001b[39;00m exception_class(message, screen, stacktrace, alert_text)  \u001b[38;5;66;03m# type: ignore[call-arg]  # mypy is not smart enough here\u001b[39;00m\n\u001b[1;32m--> 245\u001b[0m \u001b[38;5;28;01mraise\u001b[39;00m exception_class(message, screen, stacktrace)\n",
      "\u001b[1;31mWebDriverException\u001b[0m: Message: unknown error: net::ERR_CONNECTION_CLOSED\n  (Session info: chrome=125.0.6422.113)\nStacktrace:\n\tGetHandleVerifier [0x006CB793+45827]\n\t(No symbol) [0x0065DB74]\n\t(No symbol) [0x0055150F]\n\t(No symbol) [0x00549B2B]\n\t(No symbol) [0x0053EB59]\n\t(No symbol) [0x0053D953]\n\t(No symbol) [0x0053D506]\n\t(No symbol) [0x0053D311]\n\t(No symbol) [0x0053B739]\n\t(No symbol) [0x0053BBFB]\n\t(No symbol) [0x00553CF4]\n\t(No symbol) [0x005CC717]\n\t(No symbol) [0x005B2DFC]\n\t(No symbol) [0x005CC034]\n\t(No symbol) [0x005B2B96]\n\t(No symbol) [0x00586998]\n\t(No symbol) [0x0058751D]\n\tGetHandleVerifier [0x009843C3+2899763]\n\tGetHandleVerifier [0x009D77ED+3240797]\n\tGetHandleVerifier [0x00751264+593364]\n\tGetHandleVerifier [0x0075818C+621820]\n\t(No symbol) [0x00666F54]\n\t(No symbol) [0x00663658]\n\t(No symbol) [0x006637F7]\n\t(No symbol) [0x006558AE]\n\tBaseThreadInitThunk [0x767FFCC9+25]\n\tRtlGetAppContainerNamedObjectPath [0x77507B1E+286]\n\tRtlGetAppContainerNamedObjectPath [0x77507AEE+238]\n"
     ]
    },
    {
     "name": "stderr",
     "output_type": "stream",
     "text": [
      "----------------------------------------\n",
      "Exception occurred during processing of request from ('127.0.0.1', 57751)\n",
      "Traceback (most recent call last):\n",
      "  File \"c:\\Users\\Trenkin.Sergey\\AppData\\Local\\Programs\\Python\\Python312\\Lib\\socketserver.py\", line 692, in process_request_thread\n",
      "    self.finish_request(request, client_address)\n",
      "  File \"c:\\Users\\Trenkin.Sergey\\AppData\\Local\\Programs\\Python\\Python312\\Lib\\socketserver.py\", line 362, in finish_request\n",
      "    self.RequestHandlerClass(request, client_address, self)\n",
      "  File \"c:\\Users\\Trenkin.Sergey\\AppData\\Local\\Programs\\Python\\Python312\\Lib\\site-packages\\seleniumwire\\proxy\\proxy2.py\", line 65, in __init__\n",
      "    super().__init__(*args, **kwargs)\n",
      "  File \"c:\\Users\\Trenkin.Sergey\\AppData\\Local\\Programs\\Python\\Python312\\Lib\\socketserver.py\", line 761, in __init__\n",
      "    self.handle()\n",
      "  File \"c:\\Users\\Trenkin.Sergey\\AppData\\Local\\Programs\\Python\\Python312\\Lib\\http\\server.py\", line 436, in handle\n",
      "    self.handle_one_request()\n",
      "  File \"c:\\Users\\Trenkin.Sergey\\AppData\\Local\\Programs\\Python\\Python312\\Lib\\http\\server.py\", line 424, in handle_one_request\n",
      "    method()\n",
      "  File \"c:\\Users\\Trenkin.Sergey\\AppData\\Local\\Programs\\Python\\Python312\\Lib\\site-packages\\seleniumwire\\proxy\\proxy2.py\", line 76, in do_CONNECT\n",
      "    self.connect_intercept()\n",
      "  File \"c:\\Users\\Trenkin.Sergey\\AppData\\Local\\Programs\\Python\\Python312\\Lib\\site-packages\\seleniumwire\\proxy\\proxy2.py\", line 106, in connect_intercept\n",
      "    with ssl.wrap_socket(self.connection, keyfile=self.certkey, certfile=certpath, server_side=True) as conn:\n",
      "         ^^^^^^^^^^^^^^^\n",
      "AttributeError: module 'ssl' has no attribute 'wrap_socket'\n",
      "----------------------------------------\n",
      "----------------------------------------\n",
      "Exception occurred during processing of request from ('127.0.0.1', 57754)\n",
      "Traceback (most recent call last):\n",
      "  File \"c:\\Users\\Trenkin.Sergey\\AppData\\Local\\Programs\\Python\\Python312\\Lib\\socketserver.py\", line 692, in process_request_thread\n",
      "    self.finish_request(request, client_address)\n",
      "  File \"c:\\Users\\Trenkin.Sergey\\AppData\\Local\\Programs\\Python\\Python312\\Lib\\socketserver.py\", line 362, in finish_request\n",
      "    self.RequestHandlerClass(request, client_address, self)\n",
      "  File \"c:\\Users\\Trenkin.Sergey\\AppData\\Local\\Programs\\Python\\Python312\\Lib\\site-packages\\seleniumwire\\proxy\\proxy2.py\", line 65, in __init__\n",
      "    super().__init__(*args, **kwargs)\n",
      "  File \"c:\\Users\\Trenkin.Sergey\\AppData\\Local\\Programs\\Python\\Python312\\Lib\\socketserver.py\", line 761, in __init__\n",
      "    self.handle()\n",
      "  File \"c:\\Users\\Trenkin.Sergey\\AppData\\Local\\Programs\\Python\\Python312\\Lib\\http\\server.py\", line 436, in handle\n",
      "    self.handle_one_request()\n",
      "  File \"c:\\Users\\Trenkin.Sergey\\AppData\\Local\\Programs\\Python\\Python312\\Lib\\http\\server.py\", line 424, in handle_one_request\n",
      "    method()\n",
      "  File \"c:\\Users\\Trenkin.Sergey\\AppData\\Local\\Programs\\Python\\Python312\\Lib\\site-packages\\seleniumwire\\proxy\\proxy2.py\", line 76, in do_CONNECT\n",
      "    self.connect_intercept()\n",
      "  File \"c:\\Users\\Trenkin.Sergey\\AppData\\Local\\Programs\\Python\\Python312\\Lib\\site-packages\\seleniumwire\\proxy\\proxy2.py\", line 106, in connect_intercept\n",
      "    with ssl.wrap_socket(self.connection, keyfile=self.certkey, certfile=certpath, server_side=True) as conn:\n",
      "         ^^^^^^^^^^^^^^^\n",
      "AttributeError: module 'ssl' has no attribute 'wrap_socket'\n",
      "----------------------------------------\n",
      "----------------------------------------\n",
      "Exception occurred during processing of request from ('127.0.0.1', 57757)\n",
      "Traceback (most recent call last):\n",
      "  File \"c:\\Users\\Trenkin.Sergey\\AppData\\Local\\Programs\\Python\\Python312\\Lib\\socketserver.py\", line 692, in process_request_thread\n",
      "    self.finish_request(request, client_address)\n",
      "  File \"c:\\Users\\Trenkin.Sergey\\AppData\\Local\\Programs\\Python\\Python312\\Lib\\socketserver.py\", line 362, in finish_request\n",
      "    self.RequestHandlerClass(request, client_address, self)\n",
      "  File \"c:\\Users\\Trenkin.Sergey\\AppData\\Local\\Programs\\Python\\Python312\\Lib\\site-packages\\seleniumwire\\proxy\\proxy2.py\", line 65, in __init__\n",
      "    super().__init__(*args, **kwargs)\n",
      "  File \"c:\\Users\\Trenkin.Sergey\\AppData\\Local\\Programs\\Python\\Python312\\Lib\\socketserver.py\", line 761, in __init__\n",
      "    self.handle()\n",
      "  File \"c:\\Users\\Trenkin.Sergey\\AppData\\Local\\Programs\\Python\\Python312\\Lib\\http\\server.py\", line 436, in handle\n",
      "    self.handle_one_request()\n",
      "  File \"c:\\Users\\Trenkin.Sergey\\AppData\\Local\\Programs\\Python\\Python312\\Lib\\http\\server.py\", line 424, in handle_one_request\n",
      "    method()\n",
      "  File \"c:\\Users\\Trenkin.Sergey\\AppData\\Local\\Programs\\Python\\Python312\\Lib\\site-packages\\seleniumwire\\proxy\\proxy2.py\", line 76, in do_CONNECT\n",
      "    self.connect_intercept()\n",
      "  File \"c:\\Users\\Trenkin.Sergey\\AppData\\Local\\Programs\\Python\\Python312\\Lib\\site-packages\\seleniumwire\\proxy\\proxy2.py\", line 106, in connect_intercept\n",
      "    with ssl.wrap_socket(self.connection, keyfile=self.certkey, certfile=certpath, server_side=True) as conn:\n",
      "         ^^^^^^^^^^^^^^^\n",
      "AttributeError: module 'ssl' has no attribute 'wrap_socket'\n",
      "----------------------------------------\n",
      "----------------------------------------\n",
      "Exception occurred during processing of request from ('127.0.0.1', 57760)\n",
      "Traceback (most recent call last):\n",
      "  File \"c:\\Users\\Trenkin.Sergey\\AppData\\Local\\Programs\\Python\\Python312\\Lib\\socketserver.py\", line 692, in process_request_thread\n",
      "    self.finish_request(request, client_address)\n",
      "  File \"c:\\Users\\Trenkin.Sergey\\AppData\\Local\\Programs\\Python\\Python312\\Lib\\socketserver.py\", line 362, in finish_request\n",
      "    self.RequestHandlerClass(request, client_address, self)\n",
      "  File \"c:\\Users\\Trenkin.Sergey\\AppData\\Local\\Programs\\Python\\Python312\\Lib\\site-packages\\seleniumwire\\proxy\\proxy2.py\", line 65, in __init__\n",
      "    super().__init__(*args, **kwargs)\n",
      "  File \"c:\\Users\\Trenkin.Sergey\\AppData\\Local\\Programs\\Python\\Python312\\Lib\\socketserver.py\", line 761, in __init__\n",
      "    self.handle()\n",
      "  File \"c:\\Users\\Trenkin.Sergey\\AppData\\Local\\Programs\\Python\\Python312\\Lib\\http\\server.py\", line 436, in handle\n",
      "    self.handle_one_request()\n",
      "  File \"c:\\Users\\Trenkin.Sergey\\AppData\\Local\\Programs\\Python\\Python312\\Lib\\http\\server.py\", line 424, in handle_one_request\n",
      "    method()\n",
      "  File \"c:\\Users\\Trenkin.Sergey\\AppData\\Local\\Programs\\Python\\Python312\\Lib\\site-packages\\seleniumwire\\proxy\\proxy2.py\", line 76, in do_CONNECT\n",
      "    self.connect_intercept()\n",
      "  File \"c:\\Users\\Trenkin.Sergey\\AppData\\Local\\Programs\\Python\\Python312\\Lib\\site-packages\\seleniumwire\\proxy\\proxy2.py\", line 106, in connect_intercept\n",
      "    with ssl.wrap_socket(self.connection, keyfile=self.certkey, certfile=certpath, server_side=True) as conn:\n",
      "         ^^^^^^^^^^^^^^^\n",
      "AttributeError: module 'ssl' has no attribute 'wrap_socket'\n",
      "----------------------------------------\n",
      "----------------------------------------\n",
      "Exception occurred during processing of request from ('127.0.0.1', 57764)\n",
      "Traceback (most recent call last):\n",
      "  File \"c:\\Users\\Trenkin.Sergey\\AppData\\Local\\Programs\\Python\\Python312\\Lib\\socketserver.py\", line 692, in process_request_thread\n",
      "    self.finish_request(request, client_address)\n",
      "  File \"c:\\Users\\Trenkin.Sergey\\AppData\\Local\\Programs\\Python\\Python312\\Lib\\socketserver.py\", line 362, in finish_request\n",
      "    self.RequestHandlerClass(request, client_address, self)\n",
      "  File \"c:\\Users\\Trenkin.Sergey\\AppData\\Local\\Programs\\Python\\Python312\\Lib\\site-packages\\seleniumwire\\proxy\\proxy2.py\", line 65, in __init__\n",
      "    super().__init__(*args, **kwargs)\n",
      "  File \"c:\\Users\\Trenkin.Sergey\\AppData\\Local\\Programs\\Python\\Python312\\Lib\\socketserver.py\", line 761, in __init__\n",
      "    self.handle()\n",
      "  File \"c:\\Users\\Trenkin.Sergey\\AppData\\Local\\Programs\\Python\\Python312\\Lib\\http\\server.py\", line 436, in handle\n",
      "    self.handle_one_request()\n",
      "  File \"c:\\Users\\Trenkin.Sergey\\AppData\\Local\\Programs\\Python\\Python312\\Lib\\http\\server.py\", line 424, in handle_one_request\n",
      "    method()\n",
      "  File \"c:\\Users\\Trenkin.Sergey\\AppData\\Local\\Programs\\Python\\Python312\\Lib\\site-packages\\seleniumwire\\proxy\\proxy2.py\", line 76, in do_CONNECT\n",
      "    self.connect_intercept()\n",
      "  File \"c:\\Users\\Trenkin.Sergey\\AppData\\Local\\Programs\\Python\\Python312\\Lib\\site-packages\\seleniumwire\\proxy\\proxy2.py\", line 106, in connect_intercept\n",
      "    with ssl.wrap_socket(self.connection, keyfile=self.certkey, certfile=certpath, server_side=True) as conn:\n",
      "         ^^^^^^^^^^^^^^^\n",
      "AttributeError: module 'ssl' has no attribute 'wrap_socket'\n",
      "----------------------------------------\n",
      "----------------------------------------\n",
      "Exception occurred during processing of request from ('127.0.0.1', 57772)\n",
      "Traceback (most recent call last):\n",
      "  File \"c:\\Users\\Trenkin.Sergey\\AppData\\Local\\Programs\\Python\\Python312\\Lib\\socketserver.py\", line 692, in process_request_thread\n",
      "    self.finish_request(request, client_address)\n",
      "  File \"c:\\Users\\Trenkin.Sergey\\AppData\\Local\\Programs\\Python\\Python312\\Lib\\socketserver.py\", line 362, in finish_request\n",
      "    self.RequestHandlerClass(request, client_address, self)\n",
      "  File \"c:\\Users\\Trenkin.Sergey\\AppData\\Local\\Programs\\Python\\Python312\\Lib\\site-packages\\seleniumwire\\proxy\\proxy2.py\", line 65, in __init__\n",
      "    super().__init__(*args, **kwargs)\n",
      "  File \"c:\\Users\\Trenkin.Sergey\\AppData\\Local\\Programs\\Python\\Python312\\Lib\\socketserver.py\", line 761, in __init__\n",
      "    self.handle()\n",
      "  File \"c:\\Users\\Trenkin.Sergey\\AppData\\Local\\Programs\\Python\\Python312\\Lib\\http\\server.py\", line 436, in handle\n",
      "    self.handle_one_request()\n",
      "  File \"c:\\Users\\Trenkin.Sergey\\AppData\\Local\\Programs\\Python\\Python312\\Lib\\http\\server.py\", line 424, in handle_one_request\n",
      "    method()\n",
      "  File \"c:\\Users\\Trenkin.Sergey\\AppData\\Local\\Programs\\Python\\Python312\\Lib\\site-packages\\seleniumwire\\proxy\\proxy2.py\", line 76, in do_CONNECT\n",
      "    self.connect_intercept()\n",
      "  File \"c:\\Users\\Trenkin.Sergey\\AppData\\Local\\Programs\\Python\\Python312\\Lib\\site-packages\\seleniumwire\\proxy\\proxy2.py\", line 106, in connect_intercept\n",
      "    with ssl.wrap_socket(self.connection, keyfile=self.certkey, certfile=certpath, server_side=True) as conn:\n",
      "         ^^^^^^^^^^^^^^^\n",
      "AttributeError: module 'ssl' has no attribute 'wrap_socket'\n",
      "----------------------------------------\n"
     ]
    }
   ],
   "source": [
    "links = get_url(extract_bearer)"
   ]
  },
  {
   "cell_type": "code",
   "execution_count": null,
   "metadata": {},
   "outputs": [],
   "source": [
    "links = list(links)[0]"
   ]
  },
  {
   "cell_type": "code",
   "execution_count": null,
   "metadata": {},
   "outputs": [],
   "source": [
    "key = extract_bearer()\n",
    "df_adamas = get_prods(links, key)"
   ]
  },
  {
   "cell_type": "code",
   "execution_count": null,
   "metadata": {},
   "outputs": [],
   "source": [
    "df_adamas.info()"
   ]
  },
  {
   "cell_type": "code",
   "execution_count": null,
   "metadata": {},
   "outputs": [],
   "source": [
    "way = os.getcwd()"
   ]
  },
  {
   "cell_type": "code",
   "execution_count": null,
   "metadata": {},
   "outputs": [],
   "source": [
    "date_now = dt.datetime.today().strftime('%d.%m.%Y')\n",
    "df_adamas.to_csv(rf'{way}\\parsed_data\\adamas_all_{date_now}.csv', index=False)"
   ]
  },
  {
   "cell_type": "code",
   "execution_count": null,
   "metadata": {},
   "outputs": [],
   "source": [
    "adamas = pd.read_csv(fr'{way}\\parsed_data\\adamas_all_{date_now}.csv')"
   ]
  },
  {
   "cell_type": "code",
   "execution_count": null,
   "metadata": {},
   "outputs": [],
   "source": [
    "adamas.insert(1, 'shop', 'Adamas')"
   ]
  },
  {
   "cell_type": "code",
   "execution_count": null,
   "metadata": {},
   "outputs": [],
   "source": [
    "adamas.head()"
   ]
  },
  {
   "cell_type": "code",
   "execution_count": null,
   "metadata": {},
   "outputs": [],
   "source": [
    "def dict_params(x):\n",
    "    dict_list = eval(x)\n",
    "    result = {}\n",
    "    for d in dict_list:\n",
    "        result.update(d)\n",
    "    return result\n",
    "adamas['params'] = adamas['params'].apply(dict_params)"
   ]
  },
  {
   "cell_type": "code",
   "execution_count": null,
   "metadata": {},
   "outputs": [],
   "source": [
    "params_keys = list(set(itertools.chain(*[list(p.keys()) for p in adamas['params']])))"
   ]
  },
  {
   "cell_type": "code",
   "execution_count": null,
   "metadata": {},
   "outputs": [],
   "source": [
    "set(params_keys)"
   ]
  },
  {
   "cell_type": "code",
   "execution_count": null,
   "metadata": {},
   "outputs": [],
   "source": [
    "adamas[['color_metal', 'metal', 'insert']] = np.nan\n",
    "for i in adamas.index:\n",
    "    par_keys = adamas['params'][i].keys()\n",
    "    try:\n",
    "        if 'Цвет металла' in par_keys:\n",
    "            adamas['color_metal'][i] = adamas['params'][i]['Цвет металла']\n",
    "        if 'Металл' in par_keys:\n",
    "            adamas['metal'][i] = adamas['params'][i]['Металл']\n",
    "        if 'Вставка' in par_keys:\n",
    "            adamas['insert'][i] = adamas['params'][i]['Вставка']\n",
    "        if 'Вставки' in par_keys:\n",
    "            adamas['insert'][i] = adamas['params'][i]['Вставки']\n",
    "    except:\n",
    "        if 'Вставка' in par_keys:\n",
    "            try:\n",
    "                adamas['insert'][i] = ', '.join(map(str, adamas['params'][i]['Вставка']))\n",
    "            except Exception as e:\n",
    "                print(i)\n",
    "                print(e)"
   ]
  },
  {
   "cell_type": "code",
   "execution_count": null,
   "metadata": {},
   "outputs": [],
   "source": [
    "group_dict = {\n",
    "    304: 'Кольца',\n",
    "    302: 'Цепи',\n",
    "    305: 'Серьги',\n",
    "    303: 'Браслеты',\n",
    "    306: 'Подвески',\n",
    "    307: 'Колье',\n",
    "    308: 'Броши',\n",
    "    311: 'Пирсинг',\n",
    "    315: 'Слиток золота'\n",
    "}"
   ]
  },
  {
   "cell_type": "code",
   "execution_count": null,
   "metadata": {},
   "outputs": [],
   "source": [
    "for i in adamas['group'].unique():\n",
    "    if i not in group_dict.keys():\n",
    "        print(i)"
   ]
  },
  {
   "cell_type": "code",
   "execution_count": null,
   "metadata": {},
   "outputs": [],
   "source": [
    "adamas['group_new'] = np.nan\n",
    "for i in adamas.index:\n",
    "    adamas['group_new'][i] = group_dict[adamas['group'][i]]\n",
    "adamas['group_new'], adamas['group'] = adamas['group'], adamas['group_new']"
   ]
  },
  {
   "cell_type": "code",
   "execution_count": null,
   "metadata": {},
   "outputs": [],
   "source": [
    "adamas['metal'] = adamas['metal'].astype('int')"
   ]
  },
  {
   "cell_type": "code",
   "execution_count": null,
   "metadata": {},
   "outputs": [],
   "source": [
    "metal_dict = {\n",
    "    3: 'Серебро 925',\n",
    "    8: 'Золото 585',\n",
    "    18: 'Не драгоценный',\n",
    "    9: 'Золото 750'\n",
    "}"
   ]
  },
  {
   "cell_type": "code",
   "execution_count": null,
   "metadata": {},
   "outputs": [],
   "source": [
    "for i in adamas['metal'].unique():\n",
    "    if i not in metal_dict.keys():\n",
    "        print(i)\n",
    "        print(adamas[adamas['metal'] == i].head(1))\n",
    "        print('='*100)"
   ]
  },
  {
   "cell_type": "code",
   "execution_count": null,
   "metadata": {},
   "outputs": [],
   "source": [
    "adamas['metal_new'] = np.nan\n",
    "for i in adamas.index:\n",
    "    adamas['metal_new'][i] = metal_dict[adamas['metal'][i]]\n",
    "adamas['metal_new'], adamas['metal'] = adamas['metal'], adamas['metal_new']"
   ]
  },
  {
   "cell_type": "code",
   "execution_count": null,
   "metadata": {},
   "outputs": [],
   "source": [
    "color_metal_dict ={\n",
    "    40: 'Красный',\n",
    "    37: 'Белый',\n",
    "    38: 'Желтый',\n",
    "    0: 'Не определено'\n",
    "}"
   ]
  },
  {
   "cell_type": "code",
   "execution_count": null,
   "metadata": {},
   "outputs": [],
   "source": [
    "adamas['color_metal'] = adamas['color_metal'].fillna(0).astype('int')"
   ]
  },
  {
   "cell_type": "code",
   "execution_count": null,
   "metadata": {},
   "outputs": [],
   "source": [
    "for i in adamas['color_metal'].unique():\n",
    "    if i not in color_metal_dict.keys():\n",
    "        print(i)"
   ]
  },
  {
   "cell_type": "code",
   "execution_count": null,
   "metadata": {},
   "outputs": [],
   "source": [
    "adamas['color_met'] = np.nan\n",
    "for i in adamas.index:\n",
    "    adamas['color_met'][i] = color_metal_dict[adamas['color_metal'][i]]\n",
    "adamas['color_met'], adamas['color_metal'] = adamas['color_metal'], adamas['color_met']"
   ]
  },
  {
   "cell_type": "code",
   "execution_count": null,
   "metadata": {},
   "outputs": [],
   "source": [
    "adamas['proba'] = adamas['metal'].apply(lambda x: x.split(' ')[1])"
   ]
  },
  {
   "cell_type": "code",
   "execution_count": null,
   "metadata": {},
   "outputs": [],
   "source": [
    "adamas['sizes'] = 'Нет информации'"
   ]
  },
  {
   "cell_type": "code",
   "execution_count": null,
   "metadata": {},
   "outputs": [],
   "source": [
    "adamas.loc[(adamas['insert'] == 397), 'insert'] = 'Без вставки'\n",
    "adamas.loc[(adamas['insert'] == 106), 'insert'] = 'Фианит'\n",
    "adamas.loc[(adamas['insert'] == '<без вставок>'), 'insert'] = 'Без вставки'"
   ]
  },
  {
   "cell_type": "code",
   "execution_count": null,
   "metadata": {},
   "outputs": [],
   "source": [
    "adamas['type_insert'] = np.where(\n",
    "    adamas['insert'].str.lower().str.contains('бр|рубин|сапф|изумруд'), 'Драг', np.where(\n",
    "    adamas['insert'].str.contains('Бр|БР'), 'Драг', np.where(\n",
    "    adamas['insert'].str.lower().str.contains('аквамар|пер|ренит|лудраг|sky| гр |ончр|азурит|патит|арабин|ирит|топ|амет|ризокол|топлон|акрил|гранат|праз|марказ|жем|кварц|морганит|оникс|опал|перламутр|родолит|ситалл|султанит|топаз|турмалин|параиба|хризолит|цитрин|циркон|циркон|сваровски|александрит|шпинель|янтарь|керамика|агат|танзанит|хрусталь|муассанит|кристалл|коралл|малахит|смола|корунд|лабрадорит|лунный|бирюза|амазонит|авантюрин|вулканическая|ляпис|рубеллит|финифть|иолит|празиолит|дюмортьерит'), 'Полудраг', np.where(\n",
    "    adamas['insert'].str.lower().str.contains('фиан|стекло|фианит'), 'Фианит', np.where(\n",
    "    adamas['insert'].str.lower().str.contains('эмаль|без вставки'), 'Без вставки', 'другое'\n",
    ")))))"
   ]
  },
  {
   "cell_type": "code",
   "execution_count": null,
   "metadata": {},
   "outputs": [],
   "source": [
    "adamas[adamas['type_insert'] == 'другое']['insert'].value_counts()"
   ]
  },
  {
   "cell_type": "code",
   "execution_count": null,
   "metadata": {},
   "outputs": [],
   "source": [
    "for i in adamas[adamas['type_insert'] == 'другое'].index:\n",
    "    if type(adamas['params'][i]['Вставка']) != int:\n",
    "        adamas['insert'][i] = ', '.join([str(i) for i in adamas['params'][i]['Вставка']])\n",
    "    else:\n",
    "        adamas['insert'][i] = str(adamas['params'][i]['Вставка'])"
   ]
  },
  {
   "cell_type": "code",
   "execution_count": null,
   "metadata": {},
   "outputs": [],
   "source": [
    "adamas.loc[(adamas['insert'] == '397'), 'insert'] = 'Без вставки'\n",
    "adamas.loc[(adamas['insert'] == '117'), 'insert'] = 'Янтарь'\n",
    "adamas.loc[(adamas['insert'] == '78'), 'insert'] = 'Малахит'\n",
    "adamas.loc[(adamas['insert'] == '79, 397'), 'insert'] = 'Полудрагоценный микс'\n",
    "adamas.loc[(adamas['insert'] == '106, 397'), 'insert'] = 'Фианит'\n",
    "adamas.loc[(adamas['insert'] == '105, 106'), 'insert'] = 'Турмалин, Фианит'"
   ]
  },
  {
   "cell_type": "code",
   "execution_count": null,
   "metadata": {},
   "outputs": [],
   "source": [
    "adamas['type_insert'] = np.where(\n",
    "    adamas['insert'].str.lower().str.contains('бр|рубин|сапф|изумруд'), 'Драг', np.where(\n",
    "    adamas['insert'].str.contains('Бр|БР'), 'Драг', np.where(\n",
    "    adamas['insert'].str.lower().str.contains('аквамар|пер|ренит|лудраг|sky| гр |ончр|азурит|патит|арабин|ирит|топ|амет|ризокол|топлон|акрил|гранат|праз|марказ|жем|кварц|морганит|оникс|опал|перламутр|родолит|ситалл|султанит|топаз|турмалин|параиба|хризолит|цитрин|циркон|циркон|сваровски|александрит|шпинель|янтарь|керамика|агат|танзанит|хрусталь|муассанит|кристалл|коралл|малахит|смола|корунд|лабрадорит|лунный|бирюза|амазонит|авантюрин|вулканическая|ляпис|рубеллит|финифть|иолит|празиолит|дюмортьерит'), 'Полудраг', np.where(\n",
    "    adamas['insert'].str.lower().str.contains('фиан|стекло|фианит'), 'Фианит', np.where(\n",
    "    adamas['insert'].str.lower().str.contains('эмаль|без вставки'), 'Без вставки', 'другое'\n",
    ")))))"
   ]
  },
  {
   "cell_type": "code",
   "execution_count": null,
   "metadata": {},
   "outputs": [],
   "source": [
    "adamas[adamas['type_insert'] == 'другое'].shape[0]"
   ]
  },
  {
   "cell_type": "code",
   "execution_count": null,
   "metadata": {},
   "outputs": [],
   "source": [
    "adamas_fin = adamas[[\n",
    "    'date', 'shop', 'group', 'article', 'name', 'metal', 'color_metal', 'proba', 'weight', 'sizes', 'insert', 'type_insert', \n",
    "    'params', 'price_old', 'price', 'url'\n",
    "]]"
   ]
  },
  {
   "cell_type": "code",
   "execution_count": null,
   "metadata": {},
   "outputs": [],
   "source": [
    "adamas_fin.columns = [\n",
    "    'Дата парсинга', 'Наименование конкурента', 'Группа товаров', 'Артикул', 'Название изделия', 'Материал', 'Цвет металла', \n",
    "    'Проба', 'Вес', 'Размерный ряд', 'Вставка', 'Тип вставки', 'Прочая информация', 'Цена до скидок', 'Цена со скидками', \n",
    "    'Ссылка'\n",
    "]"
   ]
  },
  {
   "cell_type": "code",
   "execution_count": null,
   "metadata": {},
   "outputs": [],
   "source": [
    "adamas_fin.to_csv(rf'\\\\gold585.int\\uk\\Общее хранилище файлов\\Служба аналитики\\МЮР\\parsed_data\\adamas_raw.csv', index=False)"
   ]
  },
  {
   "cell_type": "code",
   "execution_count": null,
   "metadata": {},
   "outputs": [],
   "source": [
    "adamas_fin.to_csv(rf'{way}\\parsed_data\\adamas_all_{date_now}.csv', index=False)"
   ]
  }
 ],
 "metadata": {
  "kernelspec": {
   "display_name": "Python 3",
   "language": "python",
   "name": "python3"
  },
  "language_info": {
   "codemirror_mode": {
    "name": "ipython",
    "version": 3
   },
   "file_extension": ".py",
   "mimetype": "text/x-python",
   "name": "python",
   "nbconvert_exporter": "python",
   "pygments_lexer": "ipython3",
   "version": "3.12.0"
  }
 },
 "nbformat": 4,
 "nbformat_minor": 2
}
