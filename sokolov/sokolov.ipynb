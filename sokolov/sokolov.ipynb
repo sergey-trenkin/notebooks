{
 "cells": [
  {
   "cell_type": "code",
   "execution_count": 10,
   "id": "0cc894ed-995c-4555-bc3a-195b585f0ff4",
   "metadata": {
    "tags": []
   },
   "outputs": [],
   "source": [
    "import os\n",
    "import glob\n",
    "import pandas as pd\n",
    "import numpy as np\n",
    "from datetime import datetime\n",
    "import requests\n",
    "from bs4 import BeautifulSoup\n",
    "from fake_useragent import UserAgent\n",
    "from tqdm import tqdm\n",
    "import warnings\n",
    "import time\n",
    "from random import choice\n",
    "from selenium.webdriver.support.ui import WebDriverWait\n",
    "from selenium.webdriver.support import expected_conditions as EC\n",
    "from selenium.webdriver.common.by import By\n",
    "from selenium.webdriver.chrome.service import Service\n",
    "from selenium import webdriver\n",
    "from random import choice\n",
    "from webdriver_manager.chrome import ChromeDriverManager\n",
    "\n",
    "warnings.filterwarnings('ignore')"
   ]
  },
  {
   "cell_type": "code",
   "execution_count": 2,
   "id": "b83544ab",
   "metadata": {
    "tags": []
   },
   "outputs": [],
   "source": [
    "current_datetime = datetime.now().strftime(\"%d-%m-%Y\")\n",
    "month_now = datetime.now().month\n",
    "day_now = datetime.now().day\n",
    "way = os.getcwd()"
   ]
  },
  {
   "cell_type": "code",
   "execution_count": 3,
   "id": "b83e05c3-b18a-474b-9e38-65c75e60bd02",
   "metadata": {
    "tags": []
   },
   "outputs": [],
   "source": [
    "# headers для получения артикула и ссылки\n",
    "\n",
    "headers_page = {\n",
    "    'authority': 'catalog.sokolov.ru',\n",
    "    'accept': 'application/json',\n",
    "    'accept-language': 'ru-RU,ru;q=0.9,en-US;q=0.8,en;q=0.7',\n",
    "    'content-type': 'application/json',\n",
    "    'origin': 'https://sokolov.ru',\n",
    "    'referer': 'https://sokolov.ru/jewelry-catalog/gold/?page=2',\n",
    "    'sec-ch-ua': '\"Google Chrome\";v=\"117\", \"Not;A=Brand\";v=\"8\", \"Chromium\";v=\"117\"',\n",
    "    'sec-ch-ua-mobile': '?0',\n",
    "    'sec-ch-ua-platform': '\"Windows\"',\n",
    "    'sec-fetch-dest': 'empty',\n",
    "    'sec-fetch-mode': 'cors',\n",
    "    'sec-fetch-site': 'same-site',\n",
    "    'user-agent': 'Mozilla/5.0 (Windows NT 10.0; Win64; x64) AppleWebKit/537.36 (KHTML, like Gecko) Chrome/117.0.0.0 Safari/537.36',\n",
    "    'x-city-uuid': 'c2deb16a-0330-4f05-821f-1d09c93331e6',\n",
    "    'x-country-uuid': '8aa15da9-92a4-4530-ab74-1992c973c539',\n",
    "    'x-region-uuid': 'c2deb16a-0330-4f05-821f-1d09c93331e6',\n",
    "    'x-source': 'site',\n",
    "}\n",
    "\n",
    "params = {\n",
    "    'page': '1',\n",
    "    'per_page': '72',\n",
    "}\n",
    "\n",
    "catalog_gold = requests.get('https://catalog.sokolov.ru/api/v2/catalog/jewelry-catalog/gold/', params=params)"
   ]
  },
  {
   "cell_type": "code",
   "execution_count": 4,
   "id": "4a38ec8c-d517-401a-b05a-20cf0c17c652",
   "metadata": {
    "tags": []
   },
   "outputs": [],
   "source": [
    "# headers для получаения инфы с ссылки\n",
    "\n",
    "headers_url = {\n",
    "    'authority': 'catalog.sokolov.ru',\n",
    "    'accept': 'application/json',\n",
    "    'accept-language': 'ru-RU,ru;q=0.9,en-US;q=0.8,en;q=0.7',\n",
    "    'content-type': 'application/json',\n",
    "    'origin': 'https://sokolov.ru',\n",
    "    'referer': 'https://sokolov.ru/jewelry-catalog/product/1012285-3/',\n",
    "    'sec-ch-ua': '\"Google Chrome\";v=\"117\", \"Not;A=Brand\";v=\"8\", \"Chromium\";v=\"117\"',\n",
    "    'sec-ch-ua-mobile': '?0',\n",
    "    'sec-ch-ua-platform': '\"Windows\"',\n",
    "    'sec-fetch-dest': 'empty',\n",
    "    'sec-fetch-mode': 'cors',\n",
    "    'sec-fetch-site': 'same-site',\n",
    "    'user-agent': 'Mozilla/5.0 (Windows NT 10.0; Win64; x64) AppleWebKit/537.36 (KHTML, like Gecko) Chrome/117.0.0.0 Safari/537.36',\n",
    "    'x-city-uuid': 'c2deb16a-0330-4f05-821f-1d09c93331e6',\n",
    "    'x-country-uuid': '8aa15da9-92a4-4530-ab74-1992c973c539',\n",
    "    'x-region-uuid': 'c2deb16a-0330-4f05-821f-1d09c93331e6',\n",
    "    'x-source': 'site',\n",
    "}"
   ]
  },
  {
   "cell_type": "code",
   "execution_count": 5,
   "id": "43589c79-5de6-4fe1-a979-76e32991b3c4",
   "metadata": {
    "tags": []
   },
   "outputs": [],
   "source": [
    "# headers и cookies для получения скидки\n",
    "\n",
    "cookies_discont = {\n",
    "    'guid_country': '8aa15da9-92a4-4530-ab74-1992c973c539',\n",
    "    'region_timezone': 'UTC%2B3%3A00',\n",
    "    'fuser_id': 'a42ff5ab9cc1a7fd6a7c9c8887b92d3fa2433c387878b0fc6860564873ad3e29a%3A2%3A%7Bi%3A0%3Bs%3A8%3A%22fuser_id%22%3Bi%3A1%3Bs%3A32%3A%22de7a2b864fe0108aadf1b9885b8ffe60%22%3B%7D',\n",
    "    'ab-test-user-id': '519e2a35485cbf40dc30d8f644590cbf995bd4fd165b788201b48387da3044a4a%3A2%3A%7Bi%3A0%3Bs%3A15%3A%22ab-test-user-id%22%3Bi%3A1%3Bs%3A32%3A%22ad3b5516f0260cf2ab50e5c73e889e62%22%3B%7D',\n",
    "    '_userGUID': '0:llbx4b7o:qlwv_gb8EPSRUGJBVizaYWgacQYCXBlH',\n",
    "    '_gcl_au': '1.1.558677429.1692080633',\n",
    "    '_ym_uid': '1692080633101306662',\n",
    "    '_ym_d': '1692080633',\n",
    "    'tmr_lvid': 'e9600fe93abcdf9d9aaafa0c967ccdf1',\n",
    "    'tmr_lvidTS': '1692080633202',\n",
    "    'flocktory-uuid': '60efdf36-5dab-4787-a766-ce448f150b0e-6',\n",
    "    'syte_uuid': '4ecfe650-3b34-11ee-86d7-6b708077495e',\n",
    "    'adrcid': 'AtZv_rmyMET3A3qcFaqV7TA',\n",
    "    'popmechanic_sbjs_migrations': 'popmechanic_1418474375998%3D1%7C%7C%7C1471519752600%3D1%7C%7C%7C1471519752605%3D1',\n",
    "    'uxs_uid': '5032aaa0-3b34-11ee-8e27-1f685a3d14b9',\n",
    "    'syte_ab_tests': '{}',\n",
    "    'sklvt': '$2y$10$9q3XIpvh5shqDgeZrgYlp.mLWZ/Ol9wkNKYKcurQVxDPKNu/J.LEW',\n",
    "    '_identity': 'f5a810731033be7dc7bcdd45a5d91a82335e4d8f222809f4b5693c7fc42dbb6fa%3A2%3A%7Bi%3A0%3Bs%3A9%3A%22_identity%22%3Bi%3A1%3Bs%3A82%3A%22%5B13706576%2C%22%242y%2410%249q3XIpvh5shqDgeZrgYlp.mLWZ%2FOl9wkNKYKcurQVxDPKNu%2FJ.LEW%22%2C31536000%5D%22%3B%7D',\n",
    "    'guid_city': 'c2deb16a-0330-4f05-821f-1d09c93331e6',\n",
    "    'name_city': '%D0%A1%D0%B0%D0%BD%D0%BA%D1%82-%D0%9F%D0%B5%D1%82%D0%B5%D1%80%D0%B1%D1%83%D1%80%D0%B3',\n",
    "    'guid_region': 'c2deb16a-0330-4f05-821f-1d09c93331e6',\n",
    "    'inova_p_sid': '7z2jqbx_230914125535',\n",
    "    '_gid': 'GA1.2.528491887.1696240461',\n",
    "    'theme-mode': 'light',\n",
    "    'DIGI_CARTID': '52756369189',\n",
    "    'digi_uc': 'W1sidiIsIjg2OTI2MjI0MyIsMTY5NjMxODA0NDI5N10sWyJ2IiwiMTY5NDcwNDAxMiIsMTY5NjMxNjU0NDI1Nl0sWyJ2IiwiMjIyMTYxOTUxMSIsMTY5NjMxNjQ0NTAyN10sWyJ2IiwiNDExNDM0OTY2OCIsMTY5NjMxNjI4OTQ2MF0sWyJ2IiwiMzIzMjMzMzcwIiwxNjk1OTc4MjI4ODU4XSxbInYiLCIyMzU0OTUxMTI5IiwxNjk1OTc4MTkzNDI1XSxbInYiLCIxOTQyNDk0NTYzIiwxNjk1MjAxNDg4NTEwXSxbInYiLCIzMjIyNDE0MzM1IiwxNjk1MTk2ODM5ODgxXSxbInYiLCIxNzk1NzM0NjIiLDE2OTUxOTU0NjY5NzZdXQ==',\n",
    "    'mindboxDeviceUUID': '5bd41fc7-bcf0-4931-a774-4bb47744fa76',\n",
    "    'directCrm-session': '%7B%22deviceGuid%22%3A%225bd41fc7-bcf0-4931-a774-4bb47744fa76%22%7D',\n",
    "    'iso_cookie': 'undefined',\n",
    "    'UX_utm_source': 'undefined',\n",
    "    'UX_utm_medium': 'undefined',\n",
    "    '_ym_isad': '2',\n",
    "    '_dvs': '0:lnbh1ttg:9zyVbH8yOgoaIA6UAObbuoZ~0xM0gj~k',\n",
    "    'stimgs': '{%22sessionId%22:8891504%2C%22didReportCameraImpression%22:false%2C%22newUser%22:false}',\n",
    "    '_ym_visorc': 'b',\n",
    "    '_csrf': '63a971140d14ee88d2a353264cdd4c8f5fc33e69692ff5ff65df6791882a6357a%3A2%3A%7Bi%3A0%3Bs%3A5%3A%22_csrf%22%3Bi%3A1%3Bs%3A32%3A%22xLpXkEgZ5-0H0eaCihFYUwDpxoG_pcVS%22%3B%7D',\n",
    "}\n",
    "\n",
    "headers_discont = {\n",
    "    'Accept': 'application/json',\n",
    "    'Accept-Language': 'ru-RU,ru;q=0.9,en-US;q=0.8,en;q=0.7',\n",
    "    'Connection': 'keep-alive',\n",
    "    'Content-Type': 'application/json',\n",
    "    # 'Cookie': 'guid_country=8aa15da9-92a4-4530-ab74-1992c973c539; region_timezone=UTC%2B3%3A00; fuser_id=a42ff5ab9cc1a7fd6a7c9c8887b92d3fa2433c387878b0fc6860564873ad3e29a%3A2%3A%7Bi%3A0%3Bs%3A8%3A%22fuser_id%22%3Bi%3A1%3Bs%3A32%3A%22de7a2b864fe0108aadf1b9885b8ffe60%22%3B%7D; ab-test-user-id=519e2a35485cbf40dc30d8f644590cbf995bd4fd165b788201b48387da3044a4a%3A2%3A%7Bi%3A0%3Bs%3A15%3A%22ab-test-user-id%22%3Bi%3A1%3Bs%3A32%3A%22ad3b5516f0260cf2ab50e5c73e889e62%22%3B%7D; _userGUID=0:llbx4b7o:qlwv_gb8EPSRUGJBVizaYWgacQYCXBlH; _gcl_au=1.1.558677429.1692080633; _ym_uid=1692080633101306662; _ym_d=1692080633; tmr_lvid=e9600fe93abcdf9d9aaafa0c967ccdf1; tmr_lvidTS=1692080633202; flocktory-uuid=60efdf36-5dab-4787-a766-ce448f150b0e-6; syte_uuid=4ecfe650-3b34-11ee-86d7-6b708077495e; adrcid=AtZv_rmyMET3A3qcFaqV7TA; popmechanic_sbjs_migrations=popmechanic_1418474375998%3D1%7C%7C%7C1471519752600%3D1%7C%7C%7C1471519752605%3D1; uxs_uid=5032aaa0-3b34-11ee-8e27-1f685a3d14b9; syte_ab_tests={}; sklvt=$2y$10$9q3XIpvh5shqDgeZrgYlp.mLWZ/Ol9wkNKYKcurQVxDPKNu/J.LEW; _identity=f5a810731033be7dc7bcdd45a5d91a82335e4d8f222809f4b5693c7fc42dbb6fa%3A2%3A%7Bi%3A0%3Bs%3A9%3A%22_identity%22%3Bi%3A1%3Bs%3A82%3A%22%5B13706576%2C%22%242y%2410%249q3XIpvh5shqDgeZrgYlp.mLWZ%2FOl9wkNKYKcurQVxDPKNu%2FJ.LEW%22%2C31536000%5D%22%3B%7D; guid_city=c2deb16a-0330-4f05-821f-1d09c93331e6; name_city=%D0%A1%D0%B0%D0%BD%D0%BA%D1%82-%D0%9F%D0%B5%D1%82%D0%B5%D1%80%D0%B1%D1%83%D1%80%D0%B3; guid_region=c2deb16a-0330-4f05-821f-1d09c93331e6; inova_p_sid=7z2jqbx_230914125535; _gid=GA1.2.528491887.1696240461; theme-mode=light; DIGI_CARTID=52756369189; digi_uc=W1sidiIsIjg2OTI2MjI0MyIsMTY5NjMxODA0NDI5N10sWyJ2IiwiMTY5NDcwNDAxMiIsMTY5NjMxNjU0NDI1Nl0sWyJ2IiwiMjIyMTYxOTUxMSIsMTY5NjMxNjQ0NTAyN10sWyJ2IiwiNDExNDM0OTY2OCIsMTY5NjMxNjI4OTQ2MF0sWyJ2IiwiMzIzMjMzMzcwIiwxNjk1OTc4MjI4ODU4XSxbInYiLCIyMzU0OTUxMTI5IiwxNjk1OTc4MTkzNDI1XSxbInYiLCIxOTQyNDk0NTYzIiwxNjk1MjAxNDg4NTEwXSxbInYiLCIzMjIyNDE0MzM1IiwxNjk1MTk2ODM5ODgxXSxbInYiLCIxNzk1NzM0NjIiLDE2OTUxOTU0NjY5NzZdXQ==; mindboxDeviceUUID=5bd41fc7-bcf0-4931-a774-4bb47744fa76; directCrm-session=%7B%22deviceGuid%22%3A%225bd41fc7-bcf0-4931-a774-4bb47744fa76%22%7D; iso_cookie=undefined; UX_utm_source=undefined; UX_utm_medium=undefined; _ym_isad=2; _dvs=0:lnbh1ttg:9zyVbH8yOgoaIA6UAObbuoZ~0xM0gj~k; stimgs={%22sessionId%22:8891504%2C%22didReportCameraImpression%22:false%2C%22newUser%22:false}; _ym_visorc=b; _csrf=63a971140d14ee88d2a353264cdd4c8f5fc33e69692ff5ff65df6791882a6357a%3A2%3A%7Bi%3A0%3Bs%3A5%3A%22_csrf%22%3Bi%3A1%3Bs%3A32%3A%22xLpXkEgZ5-0H0eaCihFYUwDpxoG_pcVS%22%3B%7D',\n",
    "    'Referer': 'https://sokolov.ru/jewelry-catalog/product/1030855/',\n",
    "    'Sec-Fetch-Dest': 'empty',\n",
    "    'Sec-Fetch-Mode': 'cors',\n",
    "    'Sec-Fetch-Site': 'same-origin',\n",
    "    'User-Agent': 'Mozilla/5.0 (Windows NT 10.0; Win64; x64) AppleWebKit/537.36 (KHTML, like Gecko) Chrome/117.0.0.0 Safari/537.36',\n",
    "    'X-City-Uuid': 'c2deb16a-0330-4f05-821f-1d09c93331e6',\n",
    "    'X-Country-Uuid': '8aa15da9-92a4-4530-ab74-1992c973c539',\n",
    "    'X-KL-kes-Ajax-Request': 'Ajax_Request',\n",
    "    'X-Region-Uuid': 'c2deb16a-0330-4f05-821f-1d09c93331e6',\n",
    "    'X-Source': 'site',\n",
    "    'sec-ch-ua': '\"Google Chrome\";v=\"117\", \"Not;A=Brand\";v=\"8\", \"Chromium\";v=\"117\"',\n",
    "    'sec-ch-ua-mobile': '?0',\n",
    "    'sec-ch-ua-platform': '\"Windows\"',\n",
    "}"
   ]
  },
  {
   "cell_type": "code",
   "execution_count": 6,
   "id": "a9d25733-64a7-4c7f-a21e-80269fffba63",
   "metadata": {
    "tags": []
   },
   "outputs": [],
   "source": [
    "def get_article(page_max):\n",
    "    article_all = []\n",
    "    for page in tqdm(range(1, (page_max + 1))):\n",
    "        params = {'page': str(page),'per_page': '327'}\n",
    "        catalog_gold = requests.get('https://catalog.sokolov.ru/api/v2/catalog/jewelry-catalog/gold/', params=params)\n",
    "        for i in range(0, 72):\n",
    "            try:\n",
    "                article = catalog_gold.json()['data'][i]['article']\n",
    "            except:\n",
    "                article = np.nan\n",
    "            try:\n",
    "                url = 'https://sokolov.ru/jewelry-catalog/product/' + catalog_gold.json()['data'][i]['url_code']\n",
    "            except:\n",
    "                url = np.nan\n",
    "            article_all.append({'article': article,\n",
    "                                'url': url\n",
    "                            })\n",
    "        time.sleep(1)\n",
    "    return article_all"
   ]
  },
  {
   "cell_type": "code",
   "execution_count": 7,
   "id": "6f486d1f",
   "metadata": {
    "tags": []
   },
   "outputs": [],
   "source": [
    "options_chrome = webdriver.ChromeOptions()\n",
    "options_chrome.add_argument('headless')"
   ]
  },
  {
   "cell_type": "code",
   "execution_count": 8,
   "id": "f141c413-1ae2-4e46-b781-aa6e5184e565",
   "metadata": {
    "tags": []
   },
   "outputs": [],
   "source": [
    "def get_info(article):\n",
    "    data = []\n",
    "    for art in tqdm(article):\n",
    "        params_discont = {'url_code': art}\n",
    "        try:\n",
    "            url_json = requests.get(f'https://catalog.sokolov.ru/api/v2/products/{art}', \n",
    "                                headers = headers_url,\n",
    "                                timeout = None,\n",
    "                                verify = False)\n",
    "        except:\n",
    "            time.sleep(6)\n",
    "            url_json = requests.get(f'https://catalog.sokolov.ru/api/v2/products/{art}', \n",
    "                                headers = headers_url,\n",
    "                                timeout = None,\n",
    "                                verify = False)\n",
    "            \n",
    "        try:\n",
    "            discount_json = requests.get('https://sokolov.ru/api/v5/products/sale-label/',\n",
    "                                    params = params_discont,\n",
    "                                    cookies = cookies_discont,\n",
    "                                    headers = headers_discont,\n",
    "                                    timeout = None,\n",
    "                                    verify = False)\n",
    "        except:\n",
    "            time.sleep(6)\n",
    "            discount_json = requests.get('https://sokolov.ru/api/v5/products/sale-label/',\n",
    "                                    params = params_discont,\n",
    "                                    cookies = cookies_discont,\n",
    "                                    headers = headers_discont,\n",
    "                                    timeout = None,\n",
    "                                    verify = False)\n",
    "        time.sleep(0.1)\n",
    "        try:\n",
    "            name = url_json.json()['name']\n",
    "        except:\n",
    "            name = np.nan\n",
    "        try:\n",
    "            group = url_json.json()['category']\n",
    "        except:\n",
    "            group = np.nan\n",
    "        try:\n",
    "            weight = url_json.json()['characteristic_short'][1]['value']\n",
    "        except:\n",
    "            weight = np.nan\n",
    "        try:\n",
    "            price = url_json.json()['price']\n",
    "        except:\n",
    "            price = np.nan\n",
    "        try:\n",
    "            price_old = url_json.json()['old_price']\n",
    "        except:\n",
    "            price_old = np.nan\n",
    "        try:\n",
    "            insert = url_json.json()['characteristic_short'][2]['value']\n",
    "        except:\n",
    "            insert = np.nan\n",
    "        try:\n",
    "            metal = url_json.json()['characteristic_short'][0]['value']\n",
    "        except:\n",
    "            metal = np.nan\n",
    "        try:\n",
    "            lock_type_or_weaving_type = url_json.json()['characteristic'][0]['values'][4]['value']\n",
    "        except:\n",
    "            lock_type_or_weaving_type = np.nan\n",
    "        try:\n",
    "            discount = discount_json.json()['data'][0]['sticker_description'] + ' ' + discount_json.json()['data'][0]['sticker_text']\n",
    "        except:\n",
    "            discount = np.nan\n",
    "        data.append({'data': current_datetime,\n",
    "                    'competitor': 'Sokolov',\n",
    "                    'name': name,\n",
    "                    'group': group,\n",
    "                    'weight': weight,\n",
    "                    'price': price,\n",
    "                    'price_old': price_old,\n",
    "                    'discount': discount,\n",
    "                    'insert': insert,\n",
    "                    'metal': metal,\n",
    "                    'lock_type_or_weaving_type': lock_type_or_weaving_type,\n",
    "                    'article': art}\n",
    "                    )\n",
    "    return data"
   ]
  },
  {
   "cell_type": "code",
   "execution_count": 11,
   "id": "f208b4bf",
   "metadata": {
    "tags": []
   },
   "outputs": [
    {
     "name": "stderr",
     "output_type": "stream",
     "text": [
      "100%|██████████| 153/153 [07:23<00:00,  2.90s/it]\n"
     ]
    }
   ],
   "source": [
    "options_chrome = webdriver.ChromeOptions()\n",
    "options_chrome.add_argument('headless')\n",
    "browser = webdriver.Chrome(ChromeDriverManager().install(), options=options_chrome)\n",
    "links = []\n",
    "home = 'https://sokolov.ru'\n",
    "for number in tqdm(range(1, 154)):\n",
    "    url_pars = str('https://sokolov.ru/jewelry-catalog/gold/585/?stock=Y&page=' + str(number))\n",
    "    try:\n",
    "        browser.get(url_pars)\n",
    "    except:\n",
    "        browser.quit()\n",
    "    WebDriverWait(browser, 5).until(\n",
    "        EC.presence_of_element_located((By.CLASS_NAME, 'ProductList_products-list__We3gK')))\n",
    "    pause_time = 0.5\n",
    "    last_heigt = browser.execute_script(\"return document.body.scrollHeight\")\n",
    "    while True:\n",
    "        browser.execute_script(\"window.scrollTo(0, document.body.scrollHeight);\")\n",
    "        time.sleep(pause_time)\n",
    "        new_height = browser.execute_script(\"return document.body.scrollHeight\")\n",
    "        if new_height == last_heigt:\n",
    "            break\n",
    "        last_heigt = new_height\n",
    "    soup = BeautifulSoup(browser.page_source, 'html.parser')\n",
    "    for link in soup.find('div', class_='ProductList_products-list__We3gK').find_all('a', href=True):\n",
    "        links.append(home + link['href'])"
   ]
  },
  {
   "cell_type": "code",
   "execution_count": 12,
   "id": "1986b799-873e-4561-8147-a677dec5bb88",
   "metadata": {
    "tags": []
   },
   "outputs": [],
   "source": [
    "links = pd.DataFrame({'article': links})\n",
    "links_pars = links['article']\n",
    "links_pars.to_csv(rf'{way}\\parsed_data\\links.csv', index=False)"
   ]
  },
  {
   "cell_type": "code",
   "execution_count": 13,
   "id": "8f0482fb-0f61-422e-8e6a-0564c2a4f2e9",
   "metadata": {
    "tags": []
   },
   "outputs": [],
   "source": [
    "links_pars = pd.read_csv(rf'{way}\\parsed_data\\links.csv')"
   ]
  },
  {
   "cell_type": "code",
   "execution_count": 14,
   "id": "78b586ad-bd78-49b7-869b-ef109ea710da",
   "metadata": {
    "tags": []
   },
   "outputs": [
    {
     "name": "stdout",
     "output_type": "stream",
     "text": [
      "<class 'pandas.core.frame.DataFrame'>\n",
      "RangeIndex: 11016 entries, 0 to 11015\n",
      "Data columns (total 1 columns):\n",
      " #   Column   Non-Null Count  Dtype \n",
      "---  ------   --------------  ----- \n",
      " 0   article  11016 non-null  object\n",
      "dtypes: object(1)\n",
      "memory usage: 86.2+ KB\n"
     ]
    }
   ],
   "source": [
    "links_pars.info()"
   ]
  },
  {
   "cell_type": "code",
   "execution_count": 15,
   "id": "110a61cf",
   "metadata": {},
   "outputs": [],
   "source": [
    "links = links_pars['article'].tolist()"
   ]
  },
  {
   "cell_type": "code",
   "execution_count": 16,
   "id": "97aaae22",
   "metadata": {},
   "outputs": [],
   "source": [
    "links_pars = pd.DataFrame(links)\n",
    "links_pars.columns = ['article']"
   ]
  },
  {
   "cell_type": "code",
   "execution_count": 17,
   "id": "37f57780",
   "metadata": {},
   "outputs": [],
   "source": [
    "links_pars = links_pars.drop_duplicates(ignore_index=True)"
   ]
  },
  {
   "cell_type": "code",
   "execution_count": 18,
   "id": "2f847bf7",
   "metadata": {},
   "outputs": [],
   "source": [
    "links_pars = links_pars[~links_pars['article'].str.contains('reviews')]"
   ]
  },
  {
   "cell_type": "code",
   "execution_count": 19,
   "id": "fbc70617",
   "metadata": {},
   "outputs": [],
   "source": [
    "links_pars['article'] = links_pars['article'].str.replace('https://sokolov.ru/jewelry-catalog/product/', '').str.replace('/', '')"
   ]
  },
  {
   "cell_type": "code",
   "execution_count": 20,
   "id": "b840800f",
   "metadata": {},
   "outputs": [
    {
     "data": {
      "text/plain": [
       "11016"
      ]
     },
     "execution_count": 20,
     "metadata": {},
     "output_type": "execute_result"
    }
   ],
   "source": [
    "len(links_pars['article'].unique().tolist())"
   ]
  },
  {
   "cell_type": "code",
   "execution_count": 21,
   "id": "4ea82150-7bf2-4128-bba1-2f8ec7fddad4",
   "metadata": {
    "tags": []
   },
   "outputs": [],
   "source": [
    "chunks = np.array_split(links_pars['article'], 20)"
   ]
  },
  {
   "cell_type": "code",
   "execution_count": 22,
   "id": "6e58799e-c491-4b42-88db-6cdd92aebbdb",
   "metadata": {
    "tags": []
   },
   "outputs": [
    {
     "name": "stdout",
     "output_type": "stream",
     "text": [
      "начало парсинга 1 части ссылок\n"
     ]
    },
    {
     "name": "stderr",
     "output_type": "stream",
     "text": [
      "100%|██████████| 551/551 [04:22<00:00,  2.10it/s]\n"
     ]
    },
    {
     "name": "stdout",
     "output_type": "stream",
     "text": [
      "начало парсинга 2 части ссылок\n"
     ]
    },
    {
     "name": "stderr",
     "output_type": "stream",
     "text": [
      "100%|██████████| 551/551 [04:17<00:00,  2.14it/s]\n"
     ]
    },
    {
     "name": "stdout",
     "output_type": "stream",
     "text": [
      "начало парсинга 3 части ссылок\n"
     ]
    },
    {
     "name": "stderr",
     "output_type": "stream",
     "text": [
      "100%|██████████| 551/551 [04:17<00:00,  2.14it/s]\n"
     ]
    },
    {
     "name": "stdout",
     "output_type": "stream",
     "text": [
      "начало парсинга 4 части ссылок\n"
     ]
    },
    {
     "name": "stderr",
     "output_type": "stream",
     "text": [
      "100%|██████████| 551/551 [04:22<00:00,  2.10it/s]\n"
     ]
    },
    {
     "name": "stdout",
     "output_type": "stream",
     "text": [
      "начало парсинга 5 части ссылок\n"
     ]
    },
    {
     "name": "stderr",
     "output_type": "stream",
     "text": [
      "100%|██████████| 551/551 [04:21<00:00,  2.10it/s]\n"
     ]
    },
    {
     "name": "stdout",
     "output_type": "stream",
     "text": [
      "начало парсинга 6 части ссылок\n"
     ]
    },
    {
     "name": "stderr",
     "output_type": "stream",
     "text": [
      "100%|██████████| 551/551 [04:21<00:00,  2.10it/s]\n"
     ]
    },
    {
     "name": "stdout",
     "output_type": "stream",
     "text": [
      "начало парсинга 7 части ссылок\n"
     ]
    },
    {
     "name": "stderr",
     "output_type": "stream",
     "text": [
      "100%|██████████| 551/551 [04:35<00:00,  2.00it/s]\n"
     ]
    },
    {
     "name": "stdout",
     "output_type": "stream",
     "text": [
      "начало парсинга 8 части ссылок\n"
     ]
    },
    {
     "name": "stderr",
     "output_type": "stream",
     "text": [
      "100%|██████████| 551/551 [04:41<00:00,  1.96it/s]\n"
     ]
    },
    {
     "name": "stdout",
     "output_type": "stream",
     "text": [
      "начало парсинга 9 части ссылок\n"
     ]
    },
    {
     "name": "stderr",
     "output_type": "stream",
     "text": [
      "100%|██████████| 551/551 [04:39<00:00,  1.97it/s]\n"
     ]
    },
    {
     "name": "stdout",
     "output_type": "stream",
     "text": [
      "начало парсинга 10 части ссылок\n"
     ]
    },
    {
     "name": "stderr",
     "output_type": "stream",
     "text": [
      "100%|██████████| 551/551 [04:33<00:00,  2.01it/s]\n"
     ]
    },
    {
     "name": "stdout",
     "output_type": "stream",
     "text": [
      "начало парсинга 11 части ссылок\n"
     ]
    },
    {
     "name": "stderr",
     "output_type": "stream",
     "text": [
      "100%|██████████| 551/551 [05:03<00:00,  1.81it/s]\n"
     ]
    },
    {
     "name": "stdout",
     "output_type": "stream",
     "text": [
      "начало парсинга 12 части ссылок\n"
     ]
    },
    {
     "name": "stderr",
     "output_type": "stream",
     "text": [
      "100%|██████████| 551/551 [04:33<00:00,  2.02it/s]\n"
     ]
    },
    {
     "name": "stdout",
     "output_type": "stream",
     "text": [
      "начало парсинга 13 части ссылок\n"
     ]
    },
    {
     "name": "stderr",
     "output_type": "stream",
     "text": [
      "100%|██████████| 551/551 [05:17<00:00,  1.73it/s]\n"
     ]
    },
    {
     "name": "stdout",
     "output_type": "stream",
     "text": [
      "начало парсинга 14 части ссылок\n"
     ]
    },
    {
     "name": "stderr",
     "output_type": "stream",
     "text": [
      "100%|██████████| 551/551 [04:28<00:00,  2.05it/s]\n"
     ]
    },
    {
     "name": "stdout",
     "output_type": "stream",
     "text": [
      "начало парсинга 15 части ссылок\n"
     ]
    },
    {
     "name": "stderr",
     "output_type": "stream",
     "text": [
      "100%|██████████| 551/551 [04:29<00:00,  2.04it/s]\n"
     ]
    },
    {
     "name": "stdout",
     "output_type": "stream",
     "text": [
      "начало парсинга 16 части ссылок\n"
     ]
    },
    {
     "name": "stderr",
     "output_type": "stream",
     "text": [
      "100%|██████████| 551/551 [04:21<00:00,  2.11it/s]\n"
     ]
    },
    {
     "name": "stdout",
     "output_type": "stream",
     "text": [
      "начало парсинга 17 части ссылок\n"
     ]
    },
    {
     "name": "stderr",
     "output_type": "stream",
     "text": [
      "100%|██████████| 550/550 [04:27<00:00,  2.06it/s]\n"
     ]
    },
    {
     "name": "stdout",
     "output_type": "stream",
     "text": [
      "начало парсинга 18 части ссылок\n"
     ]
    },
    {
     "name": "stderr",
     "output_type": "stream",
     "text": [
      "100%|██████████| 550/550 [04:18<00:00,  2.13it/s]\n"
     ]
    },
    {
     "name": "stdout",
     "output_type": "stream",
     "text": [
      "начало парсинга 19 части ссылок\n"
     ]
    },
    {
     "name": "stderr",
     "output_type": "stream",
     "text": [
      "100%|██████████| 550/550 [04:18<00:00,  2.13it/s]\n"
     ]
    },
    {
     "name": "stdout",
     "output_type": "stream",
     "text": [
      "начало парсинга 20 части ссылок\n"
     ]
    },
    {
     "name": "stderr",
     "output_type": "stream",
     "text": [
      "100%|██████████| 550/550 [04:15<00:00,  2.15it/s]\n"
     ]
    }
   ],
   "source": [
    "n = 0\n",
    "for i in range(n, len(chunks)):\n",
    "    n += 1\n",
    "    print(f'начало парсинга {n} части ссылок')\n",
    "    df = get_info(chunks[i])\n",
    "    df = pd.DataFrame(df)\n",
    "    df.to_csv(rf'{way}\\parsed_data\\sokolov_{day_now}_{month_now}_{n}.csv', index=False)\n",
    "    time.sleep(5)"
   ]
  },
  {
   "cell_type": "code",
   "execution_count": 23,
   "id": "088ab19d",
   "metadata": {
    "tags": []
   },
   "outputs": [
    {
     "data": {
      "text/plain": [
       "['sokolov_25_6_1.csv',\n",
       " 'sokolov_25_6_10.csv',\n",
       " 'sokolov_25_6_11.csv',\n",
       " 'sokolov_25_6_12.csv',\n",
       " 'sokolov_25_6_13.csv',\n",
       " 'sokolov_25_6_14.csv',\n",
       " 'sokolov_25_6_15.csv',\n",
       " 'sokolov_25_6_16.csv',\n",
       " 'sokolov_25_6_17.csv',\n",
       " 'sokolov_25_6_18.csv',\n",
       " 'sokolov_25_6_19.csv',\n",
       " 'sokolov_25_6_2.csv',\n",
       " 'sokolov_25_6_20.csv',\n",
       " 'sokolov_25_6_3.csv',\n",
       " 'sokolov_25_6_4.csv',\n",
       " 'sokolov_25_6_5.csv',\n",
       " 'sokolov_25_6_6.csv',\n",
       " 'sokolov_25_6_7.csv',\n",
       " 'sokolov_25_6_8.csv',\n",
       " 'sokolov_25_6_9.csv']"
      ]
     },
     "execution_count": 23,
     "metadata": {},
     "output_type": "execute_result"
    }
   ],
   "source": [
    "way = f'{way}\\parsed_data'\n",
    "# Удаляем файл с ссылками\n",
    "os.remove(rf\"{way}\\links.csv\")\n",
    "# Указываем папку, в которой лежат файлы для объединения\n",
    "os.chdir(rf'{way}')\n",
    "# Указываем тип файлов, которые будем объединять\n",
    "extension = 'csv'\n",
    "all_filenames = [i for i in glob.glob('*.{}'.format(extension))]\n",
    "# Вывод имен файлов для объединения (для проверки)\n",
    "all_filenames"
   ]
  },
  {
   "cell_type": "code",
   "execution_count": 24,
   "id": "ebc75f07-5019-45af-a48e-b29a8ec5cab5",
   "metadata": {
    "tags": []
   },
   "outputs": [],
   "source": [
    "data = pd.DataFrame()\n",
    "for name in all_filenames:\n",
    "    df = pd.read_csv(name)\n",
    "    data = pd.concat([data, df], ignore_index=True)"
   ]
  },
  {
   "cell_type": "code",
   "execution_count": 25,
   "id": "7328b26b",
   "metadata": {},
   "outputs": [
    {
     "data": {
      "text/html": [
       "<div>\n",
       "<style scoped>\n",
       "    .dataframe tbody tr th:only-of-type {\n",
       "        vertical-align: middle;\n",
       "    }\n",
       "\n",
       "    .dataframe tbody tr th {\n",
       "        vertical-align: top;\n",
       "    }\n",
       "\n",
       "    .dataframe thead th {\n",
       "        text-align: right;\n",
       "    }\n",
       "</style>\n",
       "<table border=\"1\" class=\"dataframe\">\n",
       "  <thead>\n",
       "    <tr style=\"text-align: right;\">\n",
       "      <th></th>\n",
       "      <th>data</th>\n",
       "      <th>competitor</th>\n",
       "      <th>name</th>\n",
       "      <th>group</th>\n",
       "      <th>weight</th>\n",
       "      <th>price</th>\n",
       "      <th>price_old</th>\n",
       "      <th>discount</th>\n",
       "      <th>insert</th>\n",
       "      <th>metal</th>\n",
       "      <th>lock_type_or_weaving_type</th>\n",
       "      <th>article</th>\n",
       "    </tr>\n",
       "  </thead>\n",
       "  <tbody>\n",
       "    <tr>\n",
       "      <th>0</th>\n",
       "      <td>25-06-2024</td>\n",
       "      <td>Sokolov</td>\n",
       "      <td>Серьги из белого золота с бриллиантами и танза...</td>\n",
       "      <td>earrings</td>\n",
       "      <td>2.18 г</td>\n",
       "      <td>98990</td>\n",
       "      <td>179990</td>\n",
       "      <td>Дополнительная скидка по акции «БРИЛЛИАНТОВЫЕ ...</td>\n",
       "      <td>Бриллиант (природный) (36 шт, 0.134 карат) и е...</td>\n",
       "      <td>Белое золото 585 пробы</td>\n",
       "      <td>Пусет</td>\n",
       "      <td>6024434-3</td>\n",
       "    </tr>\n",
       "    <tr>\n",
       "      <th>1</th>\n",
       "      <td>25-06-2024</td>\n",
       "      <td>Sokolov</td>\n",
       "      <td>Подвеска из белого золота с бриллиантами и тан...</td>\n",
       "      <td>pendants</td>\n",
       "      <td>0.86 г</td>\n",
       "      <td>45640</td>\n",
       "      <td>82990</td>\n",
       "      <td>Дополнительная скидка по акции «БРИЛЛИАНТОВЫЕ ...</td>\n",
       "      <td>Бриллиант (природный) (18 шт, 0.067 карат) и е...</td>\n",
       "      <td>Белое золото 585 пробы</td>\n",
       "      <td>NaN</td>\n",
       "      <td>6034150-3</td>\n",
       "    </tr>\n",
       "    <tr>\n",
       "      <th>2</th>\n",
       "      <td>25-06-2024</td>\n",
       "      <td>Sokolov</td>\n",
       "      <td>Кольцо из белого золота с бриллиантами и танза...</td>\n",
       "      <td>rings</td>\n",
       "      <td>2.16 г</td>\n",
       "      <td>68740</td>\n",
       "      <td>124990</td>\n",
       "      <td>Дополнительная скидка по акции «БРИЛЛИАНТОВЫЕ ...</td>\n",
       "      <td>Бриллиант (природный) (18 шт, 0.067 карат) и е...</td>\n",
       "      <td>Белое золото 585 пробы</td>\n",
       "      <td>NaN</td>\n",
       "      <td>6014351-3</td>\n",
       "    </tr>\n",
       "    <tr>\n",
       "      <th>3</th>\n",
       "      <td>25-06-2024</td>\n",
       "      <td>Sokolov</td>\n",
       "      <td>Колье из белого золота с бриллиантами и танзан...</td>\n",
       "      <td>necklaces</td>\n",
       "      <td>2.61 г</td>\n",
       "      <td>57740</td>\n",
       "      <td>104990</td>\n",
       "      <td>Дополнительная скидка по акции «БРИЛЛИАНТОВЫЕ ...</td>\n",
       "      <td>Бриллиант (природный) (16 шт, 0.046 карат) и е...</td>\n",
       "      <td>Белое золото 585 пробы</td>\n",
       "      <td>NaN</td>\n",
       "      <td>6074002</td>\n",
       "    </tr>\n",
       "    <tr>\n",
       "      <th>4</th>\n",
       "      <td>25-06-2024</td>\n",
       "      <td>Sokolov</td>\n",
       "      <td>Серьги из белого золота с бриллиантами</td>\n",
       "      <td>earrings</td>\n",
       "      <td>2.03 г</td>\n",
       "      <td>57740</td>\n",
       "      <td>104990</td>\n",
       "      <td>Дополнительная скидка по акции «БРИЛЛИАНТОВЫЕ ...</td>\n",
       "      <td>Бриллиант (природный) (12 шт, 0.106 карат) и е...</td>\n",
       "      <td>Белое золото 585 пробы</td>\n",
       "      <td>Пусет</td>\n",
       "      <td>1021708</td>\n",
       "    </tr>\n",
       "    <tr>\n",
       "      <th>...</th>\n",
       "      <td>...</td>\n",
       "      <td>...</td>\n",
       "      <td>...</td>\n",
       "      <td>...</td>\n",
       "      <td>...</td>\n",
       "      <td>...</td>\n",
       "      <td>...</td>\n",
       "      <td>...</td>\n",
       "      <td>...</td>\n",
       "      <td>...</td>\n",
       "      <td>...</td>\n",
       "      <td>...</td>\n",
       "    </tr>\n",
       "    <tr>\n",
       "      <th>11011</th>\n",
       "      <td>25-06-2024</td>\n",
       "      <td>Sokolov</td>\n",
       "      <td>Браслет из золота</td>\n",
       "      <td>bracelets</td>\n",
       "      <td>3.1 г</td>\n",
       "      <td>38250</td>\n",
       "      <td>84990</td>\n",
       "      <td>Дополнительная скидка по акции «FLASH-РАСПРОДА...</td>\n",
       "      <td>Без вставок</td>\n",
       "      <td>Красное золото 585 пробы</td>\n",
       "      <td>NaN</td>\n",
       "      <td>051195</td>\n",
       "    </tr>\n",
       "    <tr>\n",
       "      <th>11012</th>\n",
       "      <td>25-06-2024</td>\n",
       "      <td>Sokolov</td>\n",
       "      <td>Браслет из золота с фианитами</td>\n",
       "      <td>bracelets</td>\n",
       "      <td>2.21 г</td>\n",
       "      <td>35100</td>\n",
       "      <td>77990</td>\n",
       "      <td>Дополнительная скидка по акции «FLASH-РАСПРОДА...</td>\n",
       "      <td>Фианит (5 шт, 0.816 карат)</td>\n",
       "      <td>Красное золото 585 пробы</td>\n",
       "      <td>NaN</td>\n",
       "      <td>051296</td>\n",
       "    </tr>\n",
       "    <tr>\n",
       "      <th>11013</th>\n",
       "      <td>25-06-2024</td>\n",
       "      <td>Sokolov</td>\n",
       "      <td>Браслет из золота с фианитом и эмалью</td>\n",
       "      <td>bracelets</td>\n",
       "      <td>1.4 г</td>\n",
       "      <td>18000</td>\n",
       "      <td>39990</td>\n",
       "      <td>NaN</td>\n",
       "      <td>Фианит (1 шт, 0.009 карат) и еще 1</td>\n",
       "      <td>Красное золото 585 пробы</td>\n",
       "      <td>NaN</td>\n",
       "      <td>051331</td>\n",
       "    </tr>\n",
       "    <tr>\n",
       "      <th>11014</th>\n",
       "      <td>25-06-2024</td>\n",
       "      <td>Sokolov</td>\n",
       "      <td>Браслет из белого золота</td>\n",
       "      <td>bracelets</td>\n",
       "      <td>1.1 г</td>\n",
       "      <td>17100</td>\n",
       "      <td>37990</td>\n",
       "      <td>NaN</td>\n",
       "      <td>Без вставок</td>\n",
       "      <td>Белое золото 585 пробы</td>\n",
       "      <td>NaN</td>\n",
       "      <td>051345-3</td>\n",
       "    </tr>\n",
       "    <tr>\n",
       "      <th>11015</th>\n",
       "      <td>25-06-2024</td>\n",
       "      <td>Sokolov</td>\n",
       "      <td>Браслет из золота с фианитами</td>\n",
       "      <td>bracelets</td>\n",
       "      <td>1.6 г</td>\n",
       "      <td>16500</td>\n",
       "      <td>54990</td>\n",
       "      <td>NaN</td>\n",
       "      <td>Фианит (7 шт, 0.301 карат) и еще 1</td>\n",
       "      <td>Красное золото 585 пробы</td>\n",
       "      <td>NaN</td>\n",
       "      <td>051371</td>\n",
       "    </tr>\n",
       "  </tbody>\n",
       "</table>\n",
       "<p>11016 rows × 12 columns</p>\n",
       "</div>"
      ],
      "text/plain": [
       "             data competitor  \\\n",
       "0      25-06-2024    Sokolov   \n",
       "1      25-06-2024    Sokolov   \n",
       "2      25-06-2024    Sokolov   \n",
       "3      25-06-2024    Sokolov   \n",
       "4      25-06-2024    Sokolov   \n",
       "...           ...        ...   \n",
       "11011  25-06-2024    Sokolov   \n",
       "11012  25-06-2024    Sokolov   \n",
       "11013  25-06-2024    Sokolov   \n",
       "11014  25-06-2024    Sokolov   \n",
       "11015  25-06-2024    Sokolov   \n",
       "\n",
       "                                                    name      group  weight  \\\n",
       "0      Серьги из белого золота с бриллиантами и танза...   earrings  2.18 г   \n",
       "1      Подвеска из белого золота с бриллиантами и тан...   pendants  0.86 г   \n",
       "2      Кольцо из белого золота с бриллиантами и танза...      rings  2.16 г   \n",
       "3      Колье из белого золота с бриллиантами и танзан...  necklaces  2.61 г   \n",
       "4                 Серьги из белого золота с бриллиантами   earrings  2.03 г   \n",
       "...                                                  ...        ...     ...   \n",
       "11011                                  Браслет из золота  bracelets   3.1 г   \n",
       "11012                      Браслет из золота с фианитами  bracelets  2.21 г   \n",
       "11013              Браслет из золота с фианитом и эмалью  bracelets   1.4 г   \n",
       "11014                           Браслет из белого золота  bracelets   1.1 г   \n",
       "11015                      Браслет из золота с фианитами  bracelets   1.6 г   \n",
       "\n",
       "       price  price_old                                           discount  \\\n",
       "0      98990     179990  Дополнительная скидка по акции «БРИЛЛИАНТОВЫЕ ...   \n",
       "1      45640      82990  Дополнительная скидка по акции «БРИЛЛИАНТОВЫЕ ...   \n",
       "2      68740     124990  Дополнительная скидка по акции «БРИЛЛИАНТОВЫЕ ...   \n",
       "3      57740     104990  Дополнительная скидка по акции «БРИЛЛИАНТОВЫЕ ...   \n",
       "4      57740     104990  Дополнительная скидка по акции «БРИЛЛИАНТОВЫЕ ...   \n",
       "...      ...        ...                                                ...   \n",
       "11011  38250      84990  Дополнительная скидка по акции «FLASH-РАСПРОДА...   \n",
       "11012  35100      77990  Дополнительная скидка по акции «FLASH-РАСПРОДА...   \n",
       "11013  18000      39990                                                NaN   \n",
       "11014  17100      37990                                                NaN   \n",
       "11015  16500      54990                                                NaN   \n",
       "\n",
       "                                                  insert  \\\n",
       "0      Бриллиант (природный) (36 шт, 0.134 карат) и е...   \n",
       "1      Бриллиант (природный) (18 шт, 0.067 карат) и е...   \n",
       "2      Бриллиант (природный) (18 шт, 0.067 карат) и е...   \n",
       "3      Бриллиант (природный) (16 шт, 0.046 карат) и е...   \n",
       "4      Бриллиант (природный) (12 шт, 0.106 карат) и е...   \n",
       "...                                                  ...   \n",
       "11011                                        Без вставок   \n",
       "11012                         Фианит (5 шт, 0.816 карат)   \n",
       "11013                 Фианит (1 шт, 0.009 карат) и еще 1   \n",
       "11014                                        Без вставок   \n",
       "11015                 Фианит (7 шт, 0.301 карат) и еще 1   \n",
       "\n",
       "                          metal lock_type_or_weaving_type    article  \n",
       "0        Белое золото 585 пробы                     Пусет  6024434-3  \n",
       "1        Белое золото 585 пробы                       NaN  6034150-3  \n",
       "2        Белое золото 585 пробы                       NaN  6014351-3  \n",
       "3        Белое золото 585 пробы                       NaN    6074002  \n",
       "4        Белое золото 585 пробы                     Пусет    1021708  \n",
       "...                         ...                       ...        ...  \n",
       "11011  Красное золото 585 пробы                       NaN     051195  \n",
       "11012  Красное золото 585 пробы                       NaN     051296  \n",
       "11013  Красное золото 585 пробы                       NaN     051331  \n",
       "11014    Белое золото 585 пробы                       NaN   051345-3  \n",
       "11015  Красное золото 585 пробы                       NaN     051371  \n",
       "\n",
       "[11016 rows x 12 columns]"
      ]
     },
     "execution_count": 25,
     "metadata": {},
     "output_type": "execute_result"
    }
   ],
   "source": [
    "data"
   ]
  },
  {
   "cell_type": "code",
   "execution_count": 26,
   "id": "b59babbd-9f8c-435c-87bb-49bea2fe84ad",
   "metadata": {
    "tags": []
   },
   "outputs": [
    {
     "name": "stdout",
     "output_type": "stream",
     "text": [
      "<class 'pandas.core.frame.DataFrame'>\n",
      "RangeIndex: 11016 entries, 0 to 11015\n",
      "Data columns (total 12 columns):\n",
      " #   Column                     Non-Null Count  Dtype \n",
      "---  ------                     --------------  ----- \n",
      " 0   data                       11016 non-null  object\n",
      " 1   competitor                 11016 non-null  object\n",
      " 2   name                       11016 non-null  object\n",
      " 3   group                      11013 non-null  object\n",
      " 4   weight                     11016 non-null  object\n",
      " 5   price                      11016 non-null  int64 \n",
      " 6   price_old                  11016 non-null  int64 \n",
      " 7   discount                   7261 non-null   object\n",
      " 8   insert                     11000 non-null  object\n",
      " 9   metal                      11016 non-null  object\n",
      " 10  lock_type_or_weaving_type  4780 non-null   object\n",
      " 11  article                    11016 non-null  object\n",
      "dtypes: int64(2), object(10)\n",
      "memory usage: 1.0+ MB\n"
     ]
    }
   ],
   "source": [
    "data.info()"
   ]
  },
  {
   "cell_type": "code",
   "execution_count": 27,
   "id": "31fb02ae-cd33-40be-856f-5b4cb6d7aa10",
   "metadata": {
    "tags": []
   },
   "outputs": [
    {
     "data": {
      "text/html": [
       "<div>\n",
       "<style scoped>\n",
       "    .dataframe tbody tr th:only-of-type {\n",
       "        vertical-align: middle;\n",
       "    }\n",
       "\n",
       "    .dataframe tbody tr th {\n",
       "        vertical-align: top;\n",
       "    }\n",
       "\n",
       "    .dataframe thead th {\n",
       "        text-align: right;\n",
       "    }\n",
       "</style>\n",
       "<table border=\"1\" class=\"dataframe\">\n",
       "  <thead>\n",
       "    <tr style=\"text-align: right;\">\n",
       "      <th></th>\n",
       "      <th>data</th>\n",
       "      <th>competitor</th>\n",
       "      <th>name</th>\n",
       "      <th>group</th>\n",
       "      <th>weight</th>\n",
       "      <th>price</th>\n",
       "      <th>price_old</th>\n",
       "      <th>discount</th>\n",
       "      <th>insert</th>\n",
       "      <th>metal</th>\n",
       "      <th>lock_type_or_weaving_type</th>\n",
       "      <th>article</th>\n",
       "    </tr>\n",
       "  </thead>\n",
       "  <tbody>\n",
       "    <tr>\n",
       "      <th>0</th>\n",
       "      <td>25-06-2024</td>\n",
       "      <td>Sokolov</td>\n",
       "      <td>Серьги из белого золота с бриллиантами и танза...</td>\n",
       "      <td>earrings</td>\n",
       "      <td>2.18 г</td>\n",
       "      <td>98990</td>\n",
       "      <td>179990</td>\n",
       "      <td>Дополнительная скидка по акции «БРИЛЛИАНТОВЫЕ ...</td>\n",
       "      <td>Бриллиант (природный) (36 шт, 0.134 карат) и е...</td>\n",
       "      <td>Белое золото 585 пробы</td>\n",
       "      <td>Пусет</td>\n",
       "      <td>6024434-3</td>\n",
       "    </tr>\n",
       "    <tr>\n",
       "      <th>1</th>\n",
       "      <td>25-06-2024</td>\n",
       "      <td>Sokolov</td>\n",
       "      <td>Подвеска из белого золота с бриллиантами и тан...</td>\n",
       "      <td>pendants</td>\n",
       "      <td>0.86 г</td>\n",
       "      <td>45640</td>\n",
       "      <td>82990</td>\n",
       "      <td>Дополнительная скидка по акции «БРИЛЛИАНТОВЫЕ ...</td>\n",
       "      <td>Бриллиант (природный) (18 шт, 0.067 карат) и е...</td>\n",
       "      <td>Белое золото 585 пробы</td>\n",
       "      <td>NaN</td>\n",
       "      <td>6034150-3</td>\n",
       "    </tr>\n",
       "    <tr>\n",
       "      <th>2</th>\n",
       "      <td>25-06-2024</td>\n",
       "      <td>Sokolov</td>\n",
       "      <td>Кольцо из белого золота с бриллиантами и танза...</td>\n",
       "      <td>rings</td>\n",
       "      <td>2.16 г</td>\n",
       "      <td>68740</td>\n",
       "      <td>124990</td>\n",
       "      <td>Дополнительная скидка по акции «БРИЛЛИАНТОВЫЕ ...</td>\n",
       "      <td>Бриллиант (природный) (18 шт, 0.067 карат) и е...</td>\n",
       "      <td>Белое золото 585 пробы</td>\n",
       "      <td>NaN</td>\n",
       "      <td>6014351-3</td>\n",
       "    </tr>\n",
       "    <tr>\n",
       "      <th>3</th>\n",
       "      <td>25-06-2024</td>\n",
       "      <td>Sokolov</td>\n",
       "      <td>Колье из белого золота с бриллиантами и танзан...</td>\n",
       "      <td>necklaces</td>\n",
       "      <td>2.61 г</td>\n",
       "      <td>57740</td>\n",
       "      <td>104990</td>\n",
       "      <td>Дополнительная скидка по акции «БРИЛЛИАНТОВЫЕ ...</td>\n",
       "      <td>Бриллиант (природный) (16 шт, 0.046 карат) и е...</td>\n",
       "      <td>Белое золото 585 пробы</td>\n",
       "      <td>NaN</td>\n",
       "      <td>6074002</td>\n",
       "    </tr>\n",
       "    <tr>\n",
       "      <th>4</th>\n",
       "      <td>25-06-2024</td>\n",
       "      <td>Sokolov</td>\n",
       "      <td>Серьги из белого золота с бриллиантами</td>\n",
       "      <td>earrings</td>\n",
       "      <td>2.03 г</td>\n",
       "      <td>57740</td>\n",
       "      <td>104990</td>\n",
       "      <td>Дополнительная скидка по акции «БРИЛЛИАНТОВЫЕ ...</td>\n",
       "      <td>Бриллиант (природный) (12 шт, 0.106 карат) и е...</td>\n",
       "      <td>Белое золото 585 пробы</td>\n",
       "      <td>Пусет</td>\n",
       "      <td>1021708</td>\n",
       "    </tr>\n",
       "  </tbody>\n",
       "</table>\n",
       "</div>"
      ],
      "text/plain": [
       "         data competitor                                               name  \\\n",
       "0  25-06-2024    Sokolov  Серьги из белого золота с бриллиантами и танза...   \n",
       "1  25-06-2024    Sokolov  Подвеска из белого золота с бриллиантами и тан...   \n",
       "2  25-06-2024    Sokolov  Кольцо из белого золота с бриллиантами и танза...   \n",
       "3  25-06-2024    Sokolov  Колье из белого золота с бриллиантами и танзан...   \n",
       "4  25-06-2024    Sokolov             Серьги из белого золота с бриллиантами   \n",
       "\n",
       "       group  weight  price  price_old  \\\n",
       "0   earrings  2.18 г  98990     179990   \n",
       "1   pendants  0.86 г  45640      82990   \n",
       "2      rings  2.16 г  68740     124990   \n",
       "3  necklaces  2.61 г  57740     104990   \n",
       "4   earrings  2.03 г  57740     104990   \n",
       "\n",
       "                                            discount  \\\n",
       "0  Дополнительная скидка по акции «БРИЛЛИАНТОВЫЕ ...   \n",
       "1  Дополнительная скидка по акции «БРИЛЛИАНТОВЫЕ ...   \n",
       "2  Дополнительная скидка по акции «БРИЛЛИАНТОВЫЕ ...   \n",
       "3  Дополнительная скидка по акции «БРИЛЛИАНТОВЫЕ ...   \n",
       "4  Дополнительная скидка по акции «БРИЛЛИАНТОВЫЕ ...   \n",
       "\n",
       "                                              insert                   metal  \\\n",
       "0  Бриллиант (природный) (36 шт, 0.134 карат) и е...  Белое золото 585 пробы   \n",
       "1  Бриллиант (природный) (18 шт, 0.067 карат) и е...  Белое золото 585 пробы   \n",
       "2  Бриллиант (природный) (18 шт, 0.067 карат) и е...  Белое золото 585 пробы   \n",
       "3  Бриллиант (природный) (16 шт, 0.046 карат) и е...  Белое золото 585 пробы   \n",
       "4  Бриллиант (природный) (12 шт, 0.106 карат) и е...  Белое золото 585 пробы   \n",
       "\n",
       "  lock_type_or_weaving_type    article  \n",
       "0                     Пусет  6024434-3  \n",
       "1                       NaN  6034150-3  \n",
       "2                       NaN  6014351-3  \n",
       "3                       NaN    6074002  \n",
       "4                     Пусет    1021708  "
      ]
     },
     "execution_count": 27,
     "metadata": {},
     "output_type": "execute_result"
    }
   ],
   "source": [
    "data.head()"
   ]
  },
  {
   "cell_type": "code",
   "execution_count": 28,
   "id": "08f3c295",
   "metadata": {},
   "outputs": [],
   "source": [
    "date_now = datetime.today().strftime('%d.%m.%Y')"
   ]
  },
  {
   "cell_type": "code",
   "execution_count": 29,
   "id": "016df4be-f0c1-4853-b382-c073464f592c",
   "metadata": {
    "tags": []
   },
   "outputs": [],
   "source": [
    "data.to_csv(rf'{way}\\result\\sokolov_all_{date_now}.csv', index=False)"
   ]
  },
  {
   "cell_type": "code",
   "execution_count": 30,
   "id": "96b2c484",
   "metadata": {},
   "outputs": [],
   "source": [
    "previous = pd.read_csv(rf'\\\\gold585.int\\uk\\Общее хранилище файлов\\Служба аналитики\\МЮР\\parsed_data\\sokolov_raw.csv')"
   ]
  },
  {
   "cell_type": "code",
   "execution_count": 31,
   "id": "d39c4b75",
   "metadata": {},
   "outputs": [],
   "source": [
    "data = pd.concat([previous, data], ignore_index= True)"
   ]
  },
  {
   "cell_type": "code",
   "execution_count": 32,
   "id": "f1426d49",
   "metadata": {},
   "outputs": [],
   "source": [
    "data.to_csv(rf'\\\\gold585.int\\uk\\Общее хранилище файлов\\Служба аналитики\\МЮР\\parsed_data\\sokolov_raw.csv', index=False)"
   ]
  },
  {
   "cell_type": "code",
   "execution_count": 33,
   "id": "003419ed",
   "metadata": {},
   "outputs": [],
   "source": [
    "def delete_files_in_folder(folder_path):\n",
    "    for filename in os.listdir(folder_path):\n",
    "        file_path = os.path.join(folder_path, filename)\n",
    "        try:\n",
    "            if os.path.isfile(file_path):\n",
    "                os.remove(file_path)\n",
    "        except Exception as e:\n",
    "            print(f'Ошибка при удалении файла {file_path}. {e}')\n",
    "            \n",
    "delete_files_in_folder(way)"
   ]
  },
  {
   "cell_type": "code",
   "execution_count": null,
   "id": "ce7aaa75",
   "metadata": {},
   "outputs": [],
   "source": []
  },
  {
   "cell_type": "code",
   "execution_count": null,
   "id": "533e9175",
   "metadata": {},
   "outputs": [],
   "source": []
  }
 ],
 "metadata": {
  "kernelspec": {
   "display_name": "Python 3 (ipykernel)",
   "language": "python",
   "name": "python3"
  },
  "language_info": {
   "codemirror_mode": {
    "name": "ipython",
    "version": 3
   },
   "file_extension": ".py",
   "mimetype": "text/x-python",
   "name": "python",
   "nbconvert_exporter": "python",
   "pygments_lexer": "ipython3",
   "version": "3.12.4"
  }
 },
 "nbformat": 4,
 "nbformat_minor": 5
}
