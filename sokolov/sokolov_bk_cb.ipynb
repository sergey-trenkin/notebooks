{
 "cells": [
  {
   "cell_type": "code",
   "execution_count": 1,
   "id": "0cc894ed-995c-4555-bc3a-195b585f0ff4",
   "metadata": {
    "tags": []
   },
   "outputs": [],
   "source": [
    "import os\n",
    "import glob\n",
    "import pandas as pd\n",
    "import numpy as np\n",
    "import datetime as dt\n",
    "import requests\n",
    "from bs4 import BeautifulSoup\n",
    "from fake_useragent import UserAgent\n",
    "from tqdm import tqdm\n",
    "import warnings\n",
    "warnings.filterwarnings('ignore')\n",
    "import time\n",
    "from random import choice\n",
    "from selenium.webdriver.support.ui import WebDriverWait\n",
    "from selenium.webdriver.support import expected_conditions as EC\n",
    "from selenium.webdriver.common.by import By\n",
    "from selenium import webdriver\n",
    "from selenium.webdriver.chrome.service import Service"
   ]
  },
  {
   "cell_type": "code",
   "execution_count": 2,
   "id": "b83544ab",
   "metadata": {
    "tags": []
   },
   "outputs": [],
   "source": [
    "date_now = dt.datetime.now().date().strftime('%d.%m.%Y')\n",
    "way = os.getcwd()"
   ]
  },
  {
   "cell_type": "code",
   "execution_count": 3,
   "id": "b83e05c3-b18a-474b-9e38-65c75e60bd02",
   "metadata": {
    "tags": []
   },
   "outputs": [],
   "source": [
    "# headers и coockis для получения артикула и ссылки\n",
    "\n",
    "headers_page = {\n",
    "    'authority': 'catalog.sokolov.ru',\n",
    "    'accept': 'application/json',\n",
    "    'accept-language': 'ru-RU,ru;q=0.9,en-US;q=0.8,en;q=0.7',\n",
    "    'content-type': 'application/json',\n",
    "    'origin': 'https://sokolov.ru',\n",
    "    'referer': 'https://sokolov.ru/jewelry-catalog/gold/?page=2',\n",
    "    'sec-ch-ua': '\"Google Chrome\";v=\"117\", \"Not;A=Brand\";v=\"8\", \"Chromium\";v=\"117\"',\n",
    "    'sec-ch-ua-mobile': '?0',\n",
    "    'sec-ch-ua-platform': '\"Windows\"',\n",
    "    'sec-fetch-dest': 'empty',\n",
    "    'sec-fetch-mode': 'cors',\n",
    "    'sec-fetch-site': 'same-site',\n",
    "    'user-agent': 'Mozilla/5.0 (Windows NT 10.0; Win64; x64) AppleWebKit/537.36 (KHTML, like Gecko) Chrome/117.0.0.0 Safari/537.36',\n",
    "    'x-city-uuid': 'c2deb16a-0330-4f05-821f-1d09c93331e6',\n",
    "    'x-country-uuid': '8aa15da9-92a4-4530-ab74-1992c973c539',\n",
    "    'x-region-uuid': 'c2deb16a-0330-4f05-821f-1d09c93331e6',\n",
    "    'x-source': 'site',\n",
    "}\n",
    "\n",
    "params = {\n",
    "    'page': '1',\n",
    "    'per_page': '20',\n",
    "    \n",
    "}\n",
    "\n",
    "catalog_gold = requests.get('https://catalog.sokolov.ru/api/v2/catalog/jewelry-catalog/gold/', params=params)"
   ]
  },
  {
   "cell_type": "code",
   "execution_count": 4,
   "id": "4a38ec8c-d517-401a-b05a-20cf0c17c652",
   "metadata": {
    "tags": []
   },
   "outputs": [],
   "source": [
    "# headers для получаения инфы с ссылки\n",
    "\n",
    "headers_url = {\n",
    "    'authority': 'catalog.sokolov.ru',\n",
    "    'accept': 'application/json',\n",
    "    'accept-language': 'ru-RU,ru;q=0.9,en-US;q=0.8,en;q=0.7',\n",
    "    'content-type': 'application/json',\n",
    "    'origin': 'https://sokolov.ru',\n",
    "    'referer': 'https://sokolov.ru/jewelry-catalog/product/1012285-3/',\n",
    "    'sec-ch-ua': '\"Google Chrome\";v=\"117\", \"Not;A=Brand\";v=\"8\", \"Chromium\";v=\"117\"',\n",
    "    'sec-ch-ua-mobile': '?0',\n",
    "    'sec-ch-ua-platform': '\"Windows\"',\n",
    "    'sec-fetch-dest': 'empty',\n",
    "    'sec-fetch-mode': 'cors',\n",
    "    'sec-fetch-site': 'same-site',\n",
    "    'user-agent': 'Mozilla/5.0 (Windows NT 10.0; Win64; x64) AppleWebKit/537.36 (KHTML, like Gecko) Chrome/117.0.0.0 Safari/537.36',\n",
    "    'x-city-uuid': 'c2deb16a-0330-4f05-821f-1d09c93331e6',\n",
    "    'x-country-uuid': '8aa15da9-92a4-4530-ab74-1992c973c539',\n",
    "    'x-region-uuid': 'c2deb16a-0330-4f05-821f-1d09c93331e6',\n",
    "    'x-source': 'site',\n",
    "}"
   ]
  },
  {
   "cell_type": "code",
   "execution_count": 5,
   "id": "43589c79-5de6-4fe1-a979-76e32991b3c4",
   "metadata": {
    "tags": []
   },
   "outputs": [],
   "source": [
    "# headers и cookies для получения скидки\n",
    "\n",
    "cookies_discont = {\n",
    "    'guid_country': '8aa15da9-92a4-4530-ab74-1992c973c539',\n",
    "    'region_timezone': 'UTC%2B3%3A00',\n",
    "    'fuser_id': 'a42ff5ab9cc1a7fd6a7c9c8887b92d3fa2433c387878b0fc6860564873ad3e29a%3A2%3A%7Bi%3A0%3Bs%3A8%3A%22fuser_id%22%3Bi%3A1%3Bs%3A32%3A%22de7a2b864fe0108aadf1b9885b8ffe60%22%3B%7D',\n",
    "    'ab-test-user-id': '519e2a35485cbf40dc30d8f644590cbf995bd4fd165b788201b48387da3044a4a%3A2%3A%7Bi%3A0%3Bs%3A15%3A%22ab-test-user-id%22%3Bi%3A1%3Bs%3A32%3A%22ad3b5516f0260cf2ab50e5c73e889e62%22%3B%7D',\n",
    "    '_userGUID': '0:llbx4b7o:qlwv_gb8EPSRUGJBVizaYWgacQYCXBlH',\n",
    "    '_gcl_au': '1.1.558677429.1692080633',\n",
    "    '_ym_uid': '1692080633101306662',\n",
    "    '_ym_d': '1692080633',\n",
    "    'tmr_lvid': 'e9600fe93abcdf9d9aaafa0c967ccdf1',\n",
    "    'tmr_lvidTS': '1692080633202',\n",
    "    'flocktory-uuid': '60efdf36-5dab-4787-a766-ce448f150b0e-6',\n",
    "    'syte_uuid': '4ecfe650-3b34-11ee-86d7-6b708077495e',\n",
    "    'adrcid': 'AtZv_rmyMET3A3qcFaqV7TA',\n",
    "    'popmechanic_sbjs_migrations': 'popmechanic_1418474375998%3D1%7C%7C%7C1471519752600%3D1%7C%7C%7C1471519752605%3D1',\n",
    "    'uxs_uid': '5032aaa0-3b34-11ee-8e27-1f685a3d14b9',\n",
    "    'syte_ab_tests': '{}',\n",
    "    'sklvt': '$2y$10$9q3XIpvh5shqDgeZrgYlp.mLWZ/Ol9wkNKYKcurQVxDPKNu/J.LEW',\n",
    "    '_identity': 'f5a810731033be7dc7bcdd45a5d91a82335e4d8f222809f4b5693c7fc42dbb6fa%3A2%3A%7Bi%3A0%3Bs%3A9%3A%22_identity%22%3Bi%3A1%3Bs%3A82%3A%22%5B13706576%2C%22%242y%2410%249q3XIpvh5shqDgeZrgYlp.mLWZ%2FOl9wkNKYKcurQVxDPKNu%2FJ.LEW%22%2C31536000%5D%22%3B%7D',\n",
    "    'guid_city': 'c2deb16a-0330-4f05-821f-1d09c93331e6',\n",
    "    'name_city': '%D0%A1%D0%B0%D0%BD%D0%BA%D1%82-%D0%9F%D0%B5%D1%82%D0%B5%D1%80%D0%B1%D1%83%D1%80%D0%B3',\n",
    "    'guid_region': 'c2deb16a-0330-4f05-821f-1d09c93331e6',\n",
    "    'inova_p_sid': '7z2jqbx_230914125535',\n",
    "    '_gid': 'GA1.2.528491887.1696240461',\n",
    "    'theme-mode': 'light',\n",
    "    'DIGI_CARTID': '52756369189',\n",
    "    'digi_uc': 'W1sidiIsIjg2OTI2MjI0MyIsMTY5NjMxODA0NDI5N10sWyJ2IiwiMTY5NDcwNDAxMiIsMTY5NjMxNjU0NDI1Nl0sWyJ2IiwiMjIyMTYxOTUxMSIsMTY5NjMxNjQ0NTAyN10sWyJ2IiwiNDExNDM0OTY2OCIsMTY5NjMxNjI4OTQ2MF0sWyJ2IiwiMzIzMjMzMzcwIiwxNjk1OTc4MjI4ODU4XSxbInYiLCIyMzU0OTUxMTI5IiwxNjk1OTc4MTkzNDI1XSxbInYiLCIxOTQyNDk0NTYzIiwxNjk1MjAxNDg4NTEwXSxbInYiLCIzMjIyNDE0MzM1IiwxNjk1MTk2ODM5ODgxXSxbInYiLCIxNzk1NzM0NjIiLDE2OTUxOTU0NjY5NzZdXQ==',\n",
    "    'mindboxDeviceUUID': '5bd41fc7-bcf0-4931-a774-4bb47744fa76',\n",
    "    'directCrm-session': '%7B%22deviceGuid%22%3A%225bd41fc7-bcf0-4931-a774-4bb47744fa76%22%7D',\n",
    "    'iso_cookie': 'undefined',\n",
    "    'UX_utm_source': 'undefined',\n",
    "    'UX_utm_medium': 'undefined',\n",
    "    '_ym_isad': '2',\n",
    "    '_dvs': '0:lnbh1ttg:9zyVbH8yOgoaIA6UAObbuoZ~0xM0gj~k',\n",
    "    'stimgs': '{%22sessionId%22:8891504%2C%22didReportCameraImpression%22:false%2C%22newUser%22:false}',\n",
    "    '_ym_visorc': 'b',\n",
    "    '_csrf': '63a971140d14ee88d2a353264cdd4c8f5fc33e69692ff5ff65df6791882a6357a%3A2%3A%7Bi%3A0%3Bs%3A5%3A%22_csrf%22%3Bi%3A1%3Bs%3A32%3A%22xLpXkEgZ5-0H0eaCihFYUwDpxoG_pcVS%22%3B%7D',\n",
    "}\n",
    "\n",
    "headers_discont = {\n",
    "    'Accept': 'application/json',\n",
    "    'Accept-Language': 'ru-RU,ru;q=0.9,en-US;q=0.8,en;q=0.7',\n",
    "    'Connection': 'keep-alive',\n",
    "    'Content-Type': 'application/json',\n",
    "    # 'Cookie': 'guid_country=8aa15da9-92a4-4530-ab74-1992c973c539; region_timezone=UTC%2B3%3A00; fuser_id=a42ff5ab9cc1a7fd6a7c9c8887b92d3fa2433c387878b0fc6860564873ad3e29a%3A2%3A%7Bi%3A0%3Bs%3A8%3A%22fuser_id%22%3Bi%3A1%3Bs%3A32%3A%22de7a2b864fe0108aadf1b9885b8ffe60%22%3B%7D; ab-test-user-id=519e2a35485cbf40dc30d8f644590cbf995bd4fd165b788201b48387da3044a4a%3A2%3A%7Bi%3A0%3Bs%3A15%3A%22ab-test-user-id%22%3Bi%3A1%3Bs%3A32%3A%22ad3b5516f0260cf2ab50e5c73e889e62%22%3B%7D; _userGUID=0:llbx4b7o:qlwv_gb8EPSRUGJBVizaYWgacQYCXBlH; _gcl_au=1.1.558677429.1692080633; _ym_uid=1692080633101306662; _ym_d=1692080633; tmr_lvid=e9600fe93abcdf9d9aaafa0c967ccdf1; tmr_lvidTS=1692080633202; flocktory-uuid=60efdf36-5dab-4787-a766-ce448f150b0e-6; syte_uuid=4ecfe650-3b34-11ee-86d7-6b708077495e; adrcid=AtZv_rmyMET3A3qcFaqV7TA; popmechanic_sbjs_migrations=popmechanic_1418474375998%3D1%7C%7C%7C1471519752600%3D1%7C%7C%7C1471519752605%3D1; uxs_uid=5032aaa0-3b34-11ee-8e27-1f685a3d14b9; syte_ab_tests={}; sklvt=$2y$10$9q3XIpvh5shqDgeZrgYlp.mLWZ/Ol9wkNKYKcurQVxDPKNu/J.LEW; _identity=f5a810731033be7dc7bcdd45a5d91a82335e4d8f222809f4b5693c7fc42dbb6fa%3A2%3A%7Bi%3A0%3Bs%3A9%3A%22_identity%22%3Bi%3A1%3Bs%3A82%3A%22%5B13706576%2C%22%242y%2410%249q3XIpvh5shqDgeZrgYlp.mLWZ%2FOl9wkNKYKcurQVxDPKNu%2FJ.LEW%22%2C31536000%5D%22%3B%7D; guid_city=c2deb16a-0330-4f05-821f-1d09c93331e6; name_city=%D0%A1%D0%B0%D0%BD%D0%BA%D1%82-%D0%9F%D0%B5%D1%82%D0%B5%D1%80%D0%B1%D1%83%D1%80%D0%B3; guid_region=c2deb16a-0330-4f05-821f-1d09c93331e6; inova_p_sid=7z2jqbx_230914125535; _gid=GA1.2.528491887.1696240461; theme-mode=light; DIGI_CARTID=52756369189; digi_uc=W1sidiIsIjg2OTI2MjI0MyIsMTY5NjMxODA0NDI5N10sWyJ2IiwiMTY5NDcwNDAxMiIsMTY5NjMxNjU0NDI1Nl0sWyJ2IiwiMjIyMTYxOTUxMSIsMTY5NjMxNjQ0NTAyN10sWyJ2IiwiNDExNDM0OTY2OCIsMTY5NjMxNjI4OTQ2MF0sWyJ2IiwiMzIzMjMzMzcwIiwxNjk1OTc4MjI4ODU4XSxbInYiLCIyMzU0OTUxMTI5IiwxNjk1OTc4MTkzNDI1XSxbInYiLCIxOTQyNDk0NTYzIiwxNjk1MjAxNDg4NTEwXSxbInYiLCIzMjIyNDE0MzM1IiwxNjk1MTk2ODM5ODgxXSxbInYiLCIxNzk1NzM0NjIiLDE2OTUxOTU0NjY5NzZdXQ==; mindboxDeviceUUID=5bd41fc7-bcf0-4931-a774-4bb47744fa76; directCrm-session=%7B%22deviceGuid%22%3A%225bd41fc7-bcf0-4931-a774-4bb47744fa76%22%7D; iso_cookie=undefined; UX_utm_source=undefined; UX_utm_medium=undefined; _ym_isad=2; _dvs=0:lnbh1ttg:9zyVbH8yOgoaIA6UAObbuoZ~0xM0gj~k; stimgs={%22sessionId%22:8891504%2C%22didReportCameraImpression%22:false%2C%22newUser%22:false}; _ym_visorc=b; _csrf=63a971140d14ee88d2a353264cdd4c8f5fc33e69692ff5ff65df6791882a6357a%3A2%3A%7Bi%3A0%3Bs%3A5%3A%22_csrf%22%3Bi%3A1%3Bs%3A32%3A%22xLpXkEgZ5-0H0eaCihFYUwDpxoG_pcVS%22%3B%7D',\n",
    "    'Referer': 'https://sokolov.ru/jewelry-catalog/product/1030855/',\n",
    "    'Sec-Fetch-Dest': 'empty',\n",
    "    'Sec-Fetch-Mode': 'cors',\n",
    "    'Sec-Fetch-Site': 'same-origin',\n",
    "    'User-Agent': 'Mozilla/5.0 (Windows NT 10.0; Win64; x64) AppleWebKit/537.36 (KHTML, like Gecko) Chrome/117.0.0.0 Safari/537.36',\n",
    "    'X-City-Uuid': 'c2deb16a-0330-4f05-821f-1d09c93331e6',\n",
    "    'X-Country-Uuid': '8aa15da9-92a4-4530-ab74-1992c973c539',\n",
    "    'X-KL-kes-Ajax-Request': 'Ajax_Request',\n",
    "    'X-Region-Uuid': 'c2deb16a-0330-4f05-821f-1d09c93331e6',\n",
    "    'X-Source': 'site',\n",
    "    'sec-ch-ua': '\"Google Chrome\";v=\"117\", \"Not;A=Brand\";v=\"8\", \"Chromium\";v=\"117\"',\n",
    "    'sec-ch-ua-mobile': '?0',\n",
    "    'sec-ch-ua-platform': '\"Windows\"',\n",
    "}"
   ]
  },
  {
   "cell_type": "code",
   "execution_count": 6,
   "id": "a9d25733-64a7-4c7f-a21e-80269fffba63",
   "metadata": {
    "tags": []
   },
   "outputs": [],
   "source": [
    "def get_article(page_max):\n",
    "    article_all = []\n",
    "    for page in tqdm(range(1, (page_max + 1))):\n",
    "        params = {'page': str(page),'per_page': '44'}\n",
    "        catalog_gold = requests.get('https://sokolov.ru/jewelry-catalog/gold/585/noinserts/?stock=Y', params=params)\n",
    "        for i in range(0, 72):\n",
    "            try:\n",
    "                article = catalog_gold.json()['data'][i]['article']\n",
    "            except:\n",
    "                article = np.nan\n",
    "            try:\n",
    "                url = 'https://sokolov.ru/jewelry-catalog/product/' + catalog_gold.json()['data'][i]['url_code']\n",
    "            except:\n",
    "                url = np.nan\n",
    "            article_all.append({'article': article,\n",
    "                                'url' : url\n",
    "                            })\n",
    "        time.sleep(1)\n",
    "    return article_all"
   ]
  },
  {
   "cell_type": "code",
   "execution_count": 7,
   "id": "6f486d1f",
   "metadata": {
    "tags": []
   },
   "outputs": [],
   "source": [
    "options_chrome = webdriver.ChromeOptions()\n",
    "options_chrome.add_argument('headless')"
   ]
  },
  {
   "cell_type": "code",
   "execution_count": 8,
   "id": "f141c413-1ae2-4e46-b781-aa6e5184e565",
   "metadata": {
    "tags": []
   },
   "outputs": [],
   "source": [
    "def get_info(article):\n",
    "    data = []\n",
    "    for art in tqdm(article):\n",
    "        params_discont = {'url_code': art}\n",
    "        url_json = requests.get(f'https://catalog.sokolov.ru/api/v2/products/{art}', headers=headers_url, timeout=None, verify=False)\n",
    "        discount_json = requests.get('https://sokolov.ru/api/v5/products/sale-label/', params=params_discont, cookies=cookies_discont, headers=headers_discont, timeout=None, verify=False)\n",
    "        time.sleep(0.5)\n",
    "        try:\n",
    "            name = url_json.json()['name']\n",
    "        except:\n",
    "            name = np.nan\n",
    "        try:\n",
    "            group = url_json.json()['category']\n",
    "        except:\n",
    "            group = np.nan\n",
    "        try:\n",
    "            weight = url_json.json()['characteristic_short'][1]['value']\n",
    "        except:\n",
    "            weight = np.nan\n",
    "        try:\n",
    "            price = url_json.json()['price']\n",
    "        except:\n",
    "            price = np.nan\n",
    "        try:\n",
    "            price_old = url_json.json()['old_price']\n",
    "        except:\n",
    "            price_old = np.nan\n",
    "        try:\n",
    "            insert = url_json.json()['characteristic_short'][2]['value']\n",
    "        except:\n",
    "            insert = np.nan\n",
    "        try:\n",
    "            metal = url_json.json()['characteristic_short'][0]['value']\n",
    "        except:\n",
    "            metal = np.nan\n",
    "        try:\n",
    "            lock_type_or_weaving_type = url_json.json()['characteristic'][0]['values'][4]['value']\n",
    "        except:\n",
    "            lock_type_or_weaving_type = np.nan\n",
    "        try:\n",
    "            discount = discount_json.json()['data'][0]['sticker_description'] + ' ' + discount_json.json()['data'][0]['sticker_text']\n",
    "        except:\n",
    "            discount = np.nan\n",
    "        data.append(\n",
    "            {\n",
    "                'data': date_now,\n",
    "                'competitor': 'Sokolov',\n",
    "                'name': name,\n",
    "                'group': group,\n",
    "                'weight': weight,\n",
    "                'price': price,\n",
    "                'price_old': price_old,\n",
    "                'discount': discount,\n",
    "                'insert': insert,\n",
    "                'metal': metal,\n",
    "                'lock_type_or_weaving_type': lock_type_or_weaving_type,\n",
    "                'article': art\n",
    "            }\n",
    "        )\n",
    "    return data"
   ]
  },
  {
   "cell_type": "code",
   "execution_count": 9,
   "id": "f208b4bf",
   "metadata": {
    "tags": []
   },
   "outputs": [
    {
     "name": "stderr",
     "output_type": "stream",
     "text": [
      "100%|██████████| 21/21 [01:01<00:00,  2.95s/it]\n"
     ]
    }
   ],
   "source": [
    "options_chrome = webdriver.ChromeOptions()\n",
    "options_chrome.add_argument('headless')\n",
    "browser = webdriver.Chrome(options=options_chrome, service=Service(r'C:\\Users\\Trenkin.Sergey\\.cache\\selenium\\chromedriver\\win64\\124.0.6367.201\\chromedriver.exe')) \n",
    "links = []\n",
    "home = 'https://sokolov.ru'\n",
    "for number in tqdm(range(1, 22)):\n",
    "    url_pars = str('https://sokolov.ru/jewelry-catalog/gold/noinserts/?stock=Y&page=' + str(number))\n",
    "    try:\n",
    "        browser.get(url_pars)\n",
    "    except:\n",
    "        browser.quit()\n",
    "    WebDriverWait(browser, 5).until(\n",
    "        EC.presence_of_element_located((By.CLASS_NAME, 'ProductList_products-list__We3gK')))\n",
    "    pause_time = 0.5\n",
    "    last_heigt = browser.execute_script(\"return document.body.scrollHeight\")\n",
    "    while True:\n",
    "        browser.execute_script(\"window.scrollTo(0, document.body.scrollHeight);\")\n",
    "        time.sleep(pause_time)\n",
    "        new_height = browser.execute_script(\"return document.body.scrollHeight\")\n",
    "        if new_height == last_heigt:\n",
    "            break\n",
    "        last_heigt = new_height\n",
    "    soup = BeautifulSoup(browser.page_source, 'html.parser')\n",
    "    for link in soup.find('div', class_='ProductList_products-list__We3gK').find_all('a', href=True):\n",
    "        links.append(home + link['href'])"
   ]
  },
  {
   "cell_type": "code",
   "execution_count": 10,
   "id": "1986b799-873e-4561-8147-a677dec5bb88",
   "metadata": {
    "tags": []
   },
   "outputs": [],
   "source": [
    "links = pd.DataFrame(links)\n",
    "links.columns = ['url']\n",
    "links_pars = links\n",
    "links_pars['article'] = links['url'].str.replace('https://sokolov.ru/jewelry-catalog/product/', '')\n",
    "links_pars['article'] = links_pars['article'].str.replace('/', '').str.strip()\n",
    "# chunks = np.array_split(links_pars, 10)"
   ]
  },
  {
   "cell_type": "code",
   "execution_count": 11,
   "id": "74a47560",
   "metadata": {},
   "outputs": [],
   "source": [
    "links.to_csv(f'{way}\\parsed_data\\\\links.csv', index = False)"
   ]
  },
  {
   "cell_type": "code",
   "execution_count": 12,
   "id": "4ea82150-7bf2-4128-bba1-2f8ec7fddad4",
   "metadata": {
    "tags": []
   },
   "outputs": [],
   "source": [
    "slices = 5\n",
    "chunks = np.array_split(links_pars['article'], slices)"
   ]
  },
  {
   "cell_type": "code",
   "execution_count": 13,
   "id": "6e58799e-c491-4b42-88db-6cdd92aebbdb",
   "metadata": {
    "tags": []
   },
   "outputs": [
    {
     "name": "stdout",
     "output_type": "stream",
     "text": [
      "начало парсинга 1 части ссылок\n"
     ]
    },
    {
     "name": "stderr",
     "output_type": "stream",
     "text": [
      "100%|██████████| 303/303 [04:23<00:00,  1.15it/s]\n"
     ]
    },
    {
     "name": "stdout",
     "output_type": "stream",
     "text": [
      "начало парсинга 2 части ссылок\n"
     ]
    },
    {
     "name": "stderr",
     "output_type": "stream",
     "text": [
      "100%|██████████| 303/303 [04:24<00:00,  1.15it/s]\n"
     ]
    },
    {
     "name": "stdout",
     "output_type": "stream",
     "text": [
      "начало парсинга 3 части ссылок\n"
     ]
    },
    {
     "name": "stderr",
     "output_type": "stream",
     "text": [
      "100%|██████████| 302/302 [04:21<00:00,  1.15it/s]\n"
     ]
    },
    {
     "name": "stdout",
     "output_type": "stream",
     "text": [
      "начало парсинга 4 части ссылок\n"
     ]
    },
    {
     "name": "stderr",
     "output_type": "stream",
     "text": [
      "100%|██████████| 302/302 [04:28<00:00,  1.13it/s]\n"
     ]
    },
    {
     "name": "stdout",
     "output_type": "stream",
     "text": [
      "начало парсинга 5 части ссылок\n"
     ]
    },
    {
     "name": "stderr",
     "output_type": "stream",
     "text": [
      "100%|██████████| 302/302 [04:24<00:00,  1.14it/s]\n"
     ]
    }
   ],
   "source": [
    "n = 0\n",
    "for i in range(n, slices):\n",
    "    n += 1\n",
    "    print(f'начало парсинга {n} части ссылок')\n",
    "    df = get_info(chunks[i])\n",
    "    df = pd.DataFrame(df)\n",
    "    df.to_csv(rf'{way}\\parsed_data\\\\' + f'bk_sokolov_{date_now}_{n}.csv', index=False)\n",
    "    time.sleep(5)"
   ]
  },
  {
   "cell_type": "code",
   "execution_count": 14,
   "id": "088ab19d",
   "metadata": {
    "tags": []
   },
   "outputs": [
    {
     "data": {
      "text/plain": [
       "['bk_sokolov_30.05.2024_1.csv',\n",
       " 'bk_sokolov_30.05.2024_2.csv',\n",
       " 'bk_sokolov_30.05.2024_3.csv',\n",
       " 'bk_sokolov_30.05.2024_4.csv',\n",
       " 'bk_sokolov_30.05.2024_5.csv']"
      ]
     },
     "execution_count": 14,
     "metadata": {},
     "output_type": "execute_result"
    }
   ],
   "source": [
    "way = f'{way}\\parsed_data'\n",
    "# Удаляем файл с ссылками\n",
    "os.remove(rf\"{way}\\links.csv\")\n",
    "# Указываем папку, в которой лежат файлы для объединения\n",
    "os.chdir(rf'{way}')\n",
    "# Указываем тип файлов, которые будем объединять\n",
    "extension = 'csv'\n",
    "all_filenames = [i for i in glob.glob('*.{}'.format(extension))]\n",
    "# Вывод имен файлов для объединения (для проверки)\n",
    "all_filenames"
   ]
  },
  {
   "cell_type": "code",
   "execution_count": 15,
   "id": "ebc75f07-5019-45af-a48e-b29a8ec5cab5",
   "metadata": {
    "tags": []
   },
   "outputs": [],
   "source": [
    "data = pd.DataFrame()\n",
    "for name in all_filenames:\n",
    "    df = pd.read_csv(name)\n",
    "    data = pd.concat([data, df], ignore_index=True)"
   ]
  },
  {
   "cell_type": "code",
   "execution_count": 16,
   "id": "b59babbd-9f8c-435c-87bb-49bea2fe84ad",
   "metadata": {
    "tags": []
   },
   "outputs": [
    {
     "name": "stdout",
     "output_type": "stream",
     "text": [
      "<class 'pandas.core.frame.DataFrame'>\n",
      "RangeIndex: 1512 entries, 0 to 1511\n",
      "Data columns (total 12 columns):\n",
      " #   Column                     Non-Null Count  Dtype \n",
      "---  ------                     --------------  ----- \n",
      " 0   data                       1512 non-null   object\n",
      " 1   competitor                 1512 non-null   object\n",
      " 2   name                       1512 non-null   object\n",
      " 3   group                      1509 non-null   object\n",
      " 4   weight                     1512 non-null   object\n",
      " 5   price                      1512 non-null   int64 \n",
      " 6   price_old                  1512 non-null   int64 \n",
      " 7   discount                   1179 non-null   object\n",
      " 8   insert                     1512 non-null   object\n",
      " 9   metal                      1512 non-null   object\n",
      " 10  lock_type_or_weaving_type  649 non-null    object\n",
      " 11  article                    1512 non-null   object\n",
      "dtypes: int64(2), object(10)\n",
      "memory usage: 141.9+ KB\n"
     ]
    }
   ],
   "source": [
    "data.info()"
   ]
  },
  {
   "cell_type": "code",
   "execution_count": 17,
   "id": "31fb02ae-cd33-40be-856f-5b4cb6d7aa10",
   "metadata": {
    "tags": []
   },
   "outputs": [
    {
     "data": {
      "text/html": [
       "<div>\n",
       "<style scoped>\n",
       "    .dataframe tbody tr th:only-of-type {\n",
       "        vertical-align: middle;\n",
       "    }\n",
       "\n",
       "    .dataframe tbody tr th {\n",
       "        vertical-align: top;\n",
       "    }\n",
       "\n",
       "    .dataframe thead th {\n",
       "        text-align: right;\n",
       "    }\n",
       "</style>\n",
       "<table border=\"1\" class=\"dataframe\">\n",
       "  <thead>\n",
       "    <tr style=\"text-align: right;\">\n",
       "      <th></th>\n",
       "      <th>data</th>\n",
       "      <th>competitor</th>\n",
       "      <th>name</th>\n",
       "      <th>group</th>\n",
       "      <th>weight</th>\n",
       "      <th>price</th>\n",
       "      <th>price_old</th>\n",
       "      <th>discount</th>\n",
       "      <th>insert</th>\n",
       "      <th>metal</th>\n",
       "      <th>lock_type_or_weaving_type</th>\n",
       "      <th>article</th>\n",
       "    </tr>\n",
       "  </thead>\n",
       "  <tbody>\n",
       "    <tr>\n",
       "      <th>1281</th>\n",
       "      <td>30.05.2024</td>\n",
       "      <td>Sokolov</td>\n",
       "      <td>Подвеска из золота с гравировкой</td>\n",
       "      <td>pendants</td>\n",
       "      <td>3.97 г</td>\n",
       "      <td>51750</td>\n",
       "      <td>114990</td>\n",
       "      <td>Дополнительная скидка по акции «Готовимся к ле...</td>\n",
       "      <td>Без вставок</td>\n",
       "      <td>Красное золото 585 пробы</td>\n",
       "      <td>NaN</td>\n",
       "      <td>036124</td>\n",
       "    </tr>\n",
       "    <tr>\n",
       "      <th>145</th>\n",
       "      <td>30.05.2024</td>\n",
       "      <td>Sokolov</td>\n",
       "      <td>Цепь из белого золота, плетение Сингапур, 585 ...</td>\n",
       "      <td>chains</td>\n",
       "      <td>1.65 г</td>\n",
       "      <td>27000</td>\n",
       "      <td>59990</td>\n",
       "      <td>NaN</td>\n",
       "      <td>Без вставок</td>\n",
       "      <td>Белое золото 585 пробы</td>\n",
       "      <td>Сингапур</td>\n",
       "      <td>2106020-3</td>\n",
       "    </tr>\n",
       "    <tr>\n",
       "      <th>533</th>\n",
       "      <td>30.05.2024</td>\n",
       "      <td>Sokolov</td>\n",
       "      <td>Серьги из комбинированного золота</td>\n",
       "      <td>earrings</td>\n",
       "      <td>2.53 г</td>\n",
       "      <td>28800</td>\n",
       "      <td>63990</td>\n",
       "      <td>Дополнительная скидка по акции «Готовимся к ле...</td>\n",
       "      <td>Без вставок</td>\n",
       "      <td>Комбинированное золото 585 пробы</td>\n",
       "      <td>NaN</td>\n",
       "      <td>029465</td>\n",
       "    </tr>\n",
       "    <tr>\n",
       "      <th>1496</th>\n",
       "      <td>30.05.2024</td>\n",
       "      <td>Sokolov</td>\n",
       "      <td>Серьги из желтого золота</td>\n",
       "      <td>earrings</td>\n",
       "      <td>5.3 г</td>\n",
       "      <td>67500</td>\n",
       "      <td>149990</td>\n",
       "      <td>Дополнительная скидка по акции «Готовимся к ле...</td>\n",
       "      <td>Без вставок</td>\n",
       "      <td>Жёлтое золото 585 пробы</td>\n",
       "      <td>Английский</td>\n",
       "      <td>026747-2</td>\n",
       "    </tr>\n",
       "    <tr>\n",
       "      <th>169</th>\n",
       "      <td>30.05.2024</td>\n",
       "      <td>Sokolov</td>\n",
       "      <td>Колье из золота</td>\n",
       "      <td>necklaces</td>\n",
       "      <td>1.55 г</td>\n",
       "      <td>28350</td>\n",
       "      <td>62990</td>\n",
       "      <td>Дополнительная скидка по акции «Готовимся к ле...</td>\n",
       "      <td>Без вставок</td>\n",
       "      <td>Красное золото 585 пробы</td>\n",
       "      <td>NaN</td>\n",
       "      <td>070398</td>\n",
       "    </tr>\n",
       "  </tbody>\n",
       "</table>\n",
       "</div>"
      ],
      "text/plain": [
       "            data competitor  \\\n",
       "1281  30.05.2024    Sokolov   \n",
       "145   30.05.2024    Sokolov   \n",
       "533   30.05.2024    Sokolov   \n",
       "1496  30.05.2024    Sokolov   \n",
       "169   30.05.2024    Sokolov   \n",
       "\n",
       "                                                   name      group  weight  \\\n",
       "1281                   Подвеска из золота с гравировкой   pendants  3.97 г   \n",
       "145   Цепь из белого золота, плетение Сингапур, 585 ...     chains  1.65 г   \n",
       "533                   Серьги из комбинированного золота   earrings  2.53 г   \n",
       "1496                           Серьги из желтого золота   earrings   5.3 г   \n",
       "169                                     Колье из золота  necklaces  1.55 г   \n",
       "\n",
       "      price  price_old                                           discount  \\\n",
       "1281  51750     114990  Дополнительная скидка по акции «Готовимся к ле...   \n",
       "145   27000      59990                                                NaN   \n",
       "533   28800      63990  Дополнительная скидка по акции «Готовимся к ле...   \n",
       "1496  67500     149990  Дополнительная скидка по акции «Готовимся к ле...   \n",
       "169   28350      62990  Дополнительная скидка по акции «Готовимся к ле...   \n",
       "\n",
       "           insert                             metal lock_type_or_weaving_type  \\\n",
       "1281  Без вставок          Красное золото 585 пробы                       NaN   \n",
       "145   Без вставок            Белое золото 585 пробы                  Сингапур   \n",
       "533   Без вставок  Комбинированное золото 585 пробы                       NaN   \n",
       "1496  Без вставок           Жёлтое золото 585 пробы                Английский   \n",
       "169   Без вставок          Красное золото 585 пробы                       NaN   \n",
       "\n",
       "        article  \n",
       "1281     036124  \n",
       "145   2106020-3  \n",
       "533      029465  \n",
       "1496   026747-2  \n",
       "169      070398  "
      ]
     },
     "execution_count": 17,
     "metadata": {},
     "output_type": "execute_result"
    }
   ],
   "source": [
    "data.sample(5)"
   ]
  },
  {
   "cell_type": "code",
   "execution_count": 18,
   "id": "016df4be-f0c1-4853-b382-c073464f592c",
   "metadata": {
    "tags": []
   },
   "outputs": [],
   "source": [
    "data.to_csv(rf'{way}\\result\\bk_sokolov_{date_now}.csv', index=False)\n",
    "data.to_csv(r'\\\\gold585.int\\uk\\Общее хранилище файлов\\Служба аналитики\\Тренкин Сергей\\sklv_sl_data\\raw_data\\\\' + f'bk_sokolov_{date_now}.csv', index=False)"
   ]
  },
  {
   "cell_type": "code",
   "execution_count": 19,
   "id": "a34b8759-9d49-47a4-8048-93acf7081974",
   "metadata": {},
   "outputs": [
    {
     "data": {
      "text/plain": [
       "discount\n",
       "Дополнительная скидка по акции «Готовимся к лету!» ЕЩЁ -25%    1138\n",
       "Дополнительная скидка по акции «Готовимся к лету!» ЕЩЁ -10%      26\n",
       "Дополнительная скидка по акции «Готовимся к лету!» ЕЩЁ -20%      15\n",
       "Name: count, dtype: int64"
      ]
     },
     "execution_count": 19,
     "metadata": {},
     "output_type": "execute_result"
    }
   ],
   "source": [
    "data['discount'].value_counts()"
   ]
  },
  {
   "cell_type": "markdown",
   "id": "4afa8380",
   "metadata": {},
   "source": [
    "Для удаления файлов внутри папки:"
   ]
  },
  {
   "cell_type": "code",
   "execution_count": 20,
   "id": "6f42117e-f563-481b-aa9c-b5dbe3c3d37e",
   "metadata": {},
   "outputs": [],
   "source": [
    "def delete_files_in_folder(folder_path):\n",
    "    for filename in os.listdir(folder_path):\n",
    "        file_path = os.path.join(folder_path, filename)\n",
    "        try:\n",
    "            if os.path.isfile(file_path):\n",
    "                os.remove(file_path)\n",
    "        except Exception as e:\n",
    "            print(f'Ошибка при удалении файла {file_path}. {e}')"
   ]
  },
  {
   "cell_type": "code",
   "execution_count": 21,
   "id": "a6cf537f",
   "metadata": {},
   "outputs": [],
   "source": [
    "delete_files_in_folder(f'{way}')"
   ]
  },
  {
   "cell_type": "code",
   "execution_count": null,
   "id": "8b261fd8",
   "metadata": {},
   "outputs": [],
   "source": []
  }
 ],
 "metadata": {
  "kernelspec": {
   "display_name": "Python 3 (ipykernel)",
   "language": "python",
   "name": "python3"
  },
  "language_info": {
   "codemirror_mode": {
    "name": "ipython",
    "version": 3
   },
   "file_extension": ".py",
   "mimetype": "text/x-python",
   "name": "python",
   "nbconvert_exporter": "python",
   "pygments_lexer": "ipython3",
   "version": "3.12.0"
  }
 },
 "nbformat": 4,
 "nbformat_minor": 5
}
