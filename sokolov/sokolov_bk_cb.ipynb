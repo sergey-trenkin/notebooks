{
 "cells": [
  {
   "cell_type": "code",
   "execution_count": 1,
   "id": "0cc894ed-995c-4555-bc3a-195b585f0ff4",
   "metadata": {
    "tags": []
   },
   "outputs": [],
   "source": [
    "import os\n",
    "import glob\n",
    "import pandas as pd\n",
    "import numpy as np\n",
    "import datetime as dt\n",
    "import requests\n",
    "from bs4 import BeautifulSoup\n",
    "from fake_useragent import UserAgent\n",
    "from tqdm import tqdm\n",
    "import warnings\n",
    "warnings.filterwarnings('ignore')\n",
    "import time\n",
    "from random import choice\n",
    "from selenium.webdriver.support.ui import WebDriverWait\n",
    "from selenium.webdriver.support import expected_conditions as EC\n",
    "from selenium.webdriver.common.by import By\n",
    "from selenium import webdriver\n",
    "from selenium.webdriver.chrome.service import Service\n",
    "from webdriver_manager.chrome import ChromeDriverManager"
   ]
  },
  {
   "cell_type": "code",
   "execution_count": 2,
   "id": "b83544ab",
   "metadata": {
    "tags": []
   },
   "outputs": [],
   "source": [
    "date_now = dt.datetime.now().date().strftime('%d.%m.%Y')\n",
    "way = os.getcwd()"
   ]
  },
  {
   "cell_type": "code",
   "execution_count": 3,
   "id": "b83e05c3-b18a-474b-9e38-65c75e60bd02",
   "metadata": {
    "tags": []
   },
   "outputs": [],
   "source": [
    "# headers и coockis для получения артикула и ссылки\n",
    "\n",
    "headers_page = {\n",
    "    'authority': 'catalog.sokolov.ru',\n",
    "    'accept': 'application/json',\n",
    "    'accept-language': 'ru-RU,ru;q=0.9,en-US;q=0.8,en;q=0.7',\n",
    "    'content-type': 'application/json',\n",
    "    'origin': 'https://sokolov.ru',\n",
    "    'referer': 'https://sokolov.ru/jewelry-catalog/gold/?page=2',\n",
    "    'sec-ch-ua': '\"Google Chrome\";v=\"117\", \"Not;A=Brand\";v=\"8\", \"Chromium\";v=\"117\"',\n",
    "    'sec-ch-ua-mobile': '?0',\n",
    "    'sec-ch-ua-platform': '\"Windows\"',\n",
    "    'sec-fetch-dest': 'empty',\n",
    "    'sec-fetch-mode': 'cors',\n",
    "    'sec-fetch-site': 'same-site',\n",
    "    'user-agent': 'Mozilla/5.0 (Windows NT 10.0; Win64; x64) AppleWebKit/537.36 (KHTML, like Gecko) Chrome/117.0.0.0 Safari/537.36',\n",
    "    'x-city-uuid': 'c2deb16a-0330-4f05-821f-1d09c93331e6',\n",
    "    'x-country-uuid': '8aa15da9-92a4-4530-ab74-1992c973c539',\n",
    "    'x-region-uuid': 'c2deb16a-0330-4f05-821f-1d09c93331e6',\n",
    "    'x-source': 'site',\n",
    "}\n",
    "\n",
    "params = {\n",
    "    'page': '1',\n",
    "    'per_page': '20',\n",
    "    \n",
    "}\n",
    "\n",
    "catalog_gold = requests.get('https://catalog.sokolov.ru/api/v2/catalog/jewelry-catalog/gold/', params=params)"
   ]
  },
  {
   "cell_type": "code",
   "execution_count": 4,
   "id": "4a38ec8c-d517-401a-b05a-20cf0c17c652",
   "metadata": {
    "tags": []
   },
   "outputs": [],
   "source": [
    "# headers для получаения инфы с ссылки\n",
    "\n",
    "headers_url = {\n",
    "    'authority': 'catalog.sokolov.ru',\n",
    "    'accept': 'application/json',\n",
    "    'accept-language': 'ru-RU,ru;q=0.9,en-US;q=0.8,en;q=0.7',\n",
    "    'content-type': 'application/json',\n",
    "    'origin': 'https://sokolov.ru',\n",
    "    'referer': 'https://sokolov.ru/jewelry-catalog/product/1012285-3/',\n",
    "    'sec-ch-ua': '\"Google Chrome\";v=\"117\", \"Not;A=Brand\";v=\"8\", \"Chromium\";v=\"117\"',\n",
    "    'sec-ch-ua-mobile': '?0',\n",
    "    'sec-ch-ua-platform': '\"Windows\"',\n",
    "    'sec-fetch-dest': 'empty',\n",
    "    'sec-fetch-mode': 'cors',\n",
    "    'sec-fetch-site': 'same-site',\n",
    "    'user-agent': 'Mozilla/5.0 (Windows NT 10.0; Win64; x64) AppleWebKit/537.36 (KHTML, like Gecko) Chrome/117.0.0.0 Safari/537.36',\n",
    "    'x-city-uuid': 'c2deb16a-0330-4f05-821f-1d09c93331e6',\n",
    "    'x-country-uuid': '8aa15da9-92a4-4530-ab74-1992c973c539',\n",
    "    'x-region-uuid': 'c2deb16a-0330-4f05-821f-1d09c93331e6',\n",
    "    'x-source': 'site',\n",
    "}"
   ]
  },
  {
   "cell_type": "code",
   "execution_count": 5,
   "id": "43589c79-5de6-4fe1-a979-76e32991b3c4",
   "metadata": {
    "tags": []
   },
   "outputs": [],
   "source": [
    "# headers и cookies для получения скидки\n",
    "\n",
    "cookies_discont = {\n",
    "    'guid_country': '8aa15da9-92a4-4530-ab74-1992c973c539',\n",
    "    'region_timezone': 'UTC%2B3%3A00',\n",
    "    'fuser_id': 'a42ff5ab9cc1a7fd6a7c9c8887b92d3fa2433c387878b0fc6860564873ad3e29a%3A2%3A%7Bi%3A0%3Bs%3A8%3A%22fuser_id%22%3Bi%3A1%3Bs%3A32%3A%22de7a2b864fe0108aadf1b9885b8ffe60%22%3B%7D',\n",
    "    'ab-test-user-id': '519e2a35485cbf40dc30d8f644590cbf995bd4fd165b788201b48387da3044a4a%3A2%3A%7Bi%3A0%3Bs%3A15%3A%22ab-test-user-id%22%3Bi%3A1%3Bs%3A32%3A%22ad3b5516f0260cf2ab50e5c73e889e62%22%3B%7D',\n",
    "    '_userGUID': '0:llbx4b7o:qlwv_gb8EPSRUGJBVizaYWgacQYCXBlH',\n",
    "    '_gcl_au': '1.1.558677429.1692080633',\n",
    "    '_ym_uid': '1692080633101306662',\n",
    "    '_ym_d': '1692080633',\n",
    "    'tmr_lvid': 'e9600fe93abcdf9d9aaafa0c967ccdf1',\n",
    "    'tmr_lvidTS': '1692080633202',\n",
    "    'flocktory-uuid': '60efdf36-5dab-4787-a766-ce448f150b0e-6',\n",
    "    'syte_uuid': '4ecfe650-3b34-11ee-86d7-6b708077495e',\n",
    "    'adrcid': 'AtZv_rmyMET3A3qcFaqV7TA',\n",
    "    'popmechanic_sbjs_migrations': 'popmechanic_1418474375998%3D1%7C%7C%7C1471519752600%3D1%7C%7C%7C1471519752605%3D1',\n",
    "    'uxs_uid': '5032aaa0-3b34-11ee-8e27-1f685a3d14b9',\n",
    "    'syte_ab_tests': '{}',\n",
    "    'sklvt': '$2y$10$9q3XIpvh5shqDgeZrgYlp.mLWZ/Ol9wkNKYKcurQVxDPKNu/J.LEW',\n",
    "    '_identity': 'f5a810731033be7dc7bcdd45a5d91a82335e4d8f222809f4b5693c7fc42dbb6fa%3A2%3A%7Bi%3A0%3Bs%3A9%3A%22_identity%22%3Bi%3A1%3Bs%3A82%3A%22%5B13706576%2C%22%242y%2410%249q3XIpvh5shqDgeZrgYlp.mLWZ%2FOl9wkNKYKcurQVxDPKNu%2FJ.LEW%22%2C31536000%5D%22%3B%7D',\n",
    "    'guid_city': 'c2deb16a-0330-4f05-821f-1d09c93331e6',\n",
    "    'name_city': '%D0%A1%D0%B0%D0%BD%D0%BA%D1%82-%D0%9F%D0%B5%D1%82%D0%B5%D1%80%D0%B1%D1%83%D1%80%D0%B3',\n",
    "    'guid_region': 'c2deb16a-0330-4f05-821f-1d09c93331e6',\n",
    "    'inova_p_sid': '7z2jqbx_230914125535',\n",
    "    '_gid': 'GA1.2.528491887.1696240461',\n",
    "    'theme-mode': 'light',\n",
    "    'DIGI_CARTID': '52756369189',\n",
    "    'digi_uc': 'W1sidiIsIjg2OTI2MjI0MyIsMTY5NjMxODA0NDI5N10sWyJ2IiwiMTY5NDcwNDAxMiIsMTY5NjMxNjU0NDI1Nl0sWyJ2IiwiMjIyMTYxOTUxMSIsMTY5NjMxNjQ0NTAyN10sWyJ2IiwiNDExNDM0OTY2OCIsMTY5NjMxNjI4OTQ2MF0sWyJ2IiwiMzIzMjMzMzcwIiwxNjk1OTc4MjI4ODU4XSxbInYiLCIyMzU0OTUxMTI5IiwxNjk1OTc4MTkzNDI1XSxbInYiLCIxOTQyNDk0NTYzIiwxNjk1MjAxNDg4NTEwXSxbInYiLCIzMjIyNDE0MzM1IiwxNjk1MTk2ODM5ODgxXSxbInYiLCIxNzk1NzM0NjIiLDE2OTUxOTU0NjY5NzZdXQ==',\n",
    "    'mindboxDeviceUUID': '5bd41fc7-bcf0-4931-a774-4bb47744fa76',\n",
    "    'directCrm-session': '%7B%22deviceGuid%22%3A%225bd41fc7-bcf0-4931-a774-4bb47744fa76%22%7D',\n",
    "    'iso_cookie': 'undefined',\n",
    "    'UX_utm_source': 'undefined',\n",
    "    'UX_utm_medium': 'undefined',\n",
    "    '_ym_isad': '2',\n",
    "    '_dvs': '0:lnbh1ttg:9zyVbH8yOgoaIA6UAObbuoZ~0xM0gj~k',\n",
    "    'stimgs': '{%22sessionId%22:8891504%2C%22didReportCameraImpression%22:false%2C%22newUser%22:false}',\n",
    "    '_ym_visorc': 'b',\n",
    "    '_csrf': '63a971140d14ee88d2a353264cdd4c8f5fc33e69692ff5ff65df6791882a6357a%3A2%3A%7Bi%3A0%3Bs%3A5%3A%22_csrf%22%3Bi%3A1%3Bs%3A32%3A%22xLpXkEgZ5-0H0eaCihFYUwDpxoG_pcVS%22%3B%7D',\n",
    "}\n",
    "\n",
    "headers_discont = {\n",
    "    'Accept': 'application/json',\n",
    "    'Accept-Language': 'ru-RU,ru;q=0.9,en-US;q=0.8,en;q=0.7',\n",
    "    'Connection': 'keep-alive',\n",
    "    'Content-Type': 'application/json',\n",
    "    # 'Cookie': 'guid_country=8aa15da9-92a4-4530-ab74-1992c973c539; region_timezone=UTC%2B3%3A00; fuser_id=a42ff5ab9cc1a7fd6a7c9c8887b92d3fa2433c387878b0fc6860564873ad3e29a%3A2%3A%7Bi%3A0%3Bs%3A8%3A%22fuser_id%22%3Bi%3A1%3Bs%3A32%3A%22de7a2b864fe0108aadf1b9885b8ffe60%22%3B%7D; ab-test-user-id=519e2a35485cbf40dc30d8f644590cbf995bd4fd165b788201b48387da3044a4a%3A2%3A%7Bi%3A0%3Bs%3A15%3A%22ab-test-user-id%22%3Bi%3A1%3Bs%3A32%3A%22ad3b5516f0260cf2ab50e5c73e889e62%22%3B%7D; _userGUID=0:llbx4b7o:qlwv_gb8EPSRUGJBVizaYWgacQYCXBlH; _gcl_au=1.1.558677429.1692080633; _ym_uid=1692080633101306662; _ym_d=1692080633; tmr_lvid=e9600fe93abcdf9d9aaafa0c967ccdf1; tmr_lvidTS=1692080633202; flocktory-uuid=60efdf36-5dab-4787-a766-ce448f150b0e-6; syte_uuid=4ecfe650-3b34-11ee-86d7-6b708077495e; adrcid=AtZv_rmyMET3A3qcFaqV7TA; popmechanic_sbjs_migrations=popmechanic_1418474375998%3D1%7C%7C%7C1471519752600%3D1%7C%7C%7C1471519752605%3D1; uxs_uid=5032aaa0-3b34-11ee-8e27-1f685a3d14b9; syte_ab_tests={}; sklvt=$2y$10$9q3XIpvh5shqDgeZrgYlp.mLWZ/Ol9wkNKYKcurQVxDPKNu/J.LEW; _identity=f5a810731033be7dc7bcdd45a5d91a82335e4d8f222809f4b5693c7fc42dbb6fa%3A2%3A%7Bi%3A0%3Bs%3A9%3A%22_identity%22%3Bi%3A1%3Bs%3A82%3A%22%5B13706576%2C%22%242y%2410%249q3XIpvh5shqDgeZrgYlp.mLWZ%2FOl9wkNKYKcurQVxDPKNu%2FJ.LEW%22%2C31536000%5D%22%3B%7D; guid_city=c2deb16a-0330-4f05-821f-1d09c93331e6; name_city=%D0%A1%D0%B0%D0%BD%D0%BA%D1%82-%D0%9F%D0%B5%D1%82%D0%B5%D1%80%D0%B1%D1%83%D1%80%D0%B3; guid_region=c2deb16a-0330-4f05-821f-1d09c93331e6; inova_p_sid=7z2jqbx_230914125535; _gid=GA1.2.528491887.1696240461; theme-mode=light; DIGI_CARTID=52756369189; digi_uc=W1sidiIsIjg2OTI2MjI0MyIsMTY5NjMxODA0NDI5N10sWyJ2IiwiMTY5NDcwNDAxMiIsMTY5NjMxNjU0NDI1Nl0sWyJ2IiwiMjIyMTYxOTUxMSIsMTY5NjMxNjQ0NTAyN10sWyJ2IiwiNDExNDM0OTY2OCIsMTY5NjMxNjI4OTQ2MF0sWyJ2IiwiMzIzMjMzMzcwIiwxNjk1OTc4MjI4ODU4XSxbInYiLCIyMzU0OTUxMTI5IiwxNjk1OTc4MTkzNDI1XSxbInYiLCIxOTQyNDk0NTYzIiwxNjk1MjAxNDg4NTEwXSxbInYiLCIzMjIyNDE0MzM1IiwxNjk1MTk2ODM5ODgxXSxbInYiLCIxNzk1NzM0NjIiLDE2OTUxOTU0NjY5NzZdXQ==; mindboxDeviceUUID=5bd41fc7-bcf0-4931-a774-4bb47744fa76; directCrm-session=%7B%22deviceGuid%22%3A%225bd41fc7-bcf0-4931-a774-4bb47744fa76%22%7D; iso_cookie=undefined; UX_utm_source=undefined; UX_utm_medium=undefined; _ym_isad=2; _dvs=0:lnbh1ttg:9zyVbH8yOgoaIA6UAObbuoZ~0xM0gj~k; stimgs={%22sessionId%22:8891504%2C%22didReportCameraImpression%22:false%2C%22newUser%22:false}; _ym_visorc=b; _csrf=63a971140d14ee88d2a353264cdd4c8f5fc33e69692ff5ff65df6791882a6357a%3A2%3A%7Bi%3A0%3Bs%3A5%3A%22_csrf%22%3Bi%3A1%3Bs%3A32%3A%22xLpXkEgZ5-0H0eaCihFYUwDpxoG_pcVS%22%3B%7D',\n",
    "    'Referer': 'https://sokolov.ru/jewelry-catalog/product/1030855/',\n",
    "    'Sec-Fetch-Dest': 'empty',\n",
    "    'Sec-Fetch-Mode': 'cors',\n",
    "    'Sec-Fetch-Site': 'same-origin',\n",
    "    'User-Agent': 'Mozilla/5.0 (Windows NT 10.0; Win64; x64) AppleWebKit/537.36 (KHTML, like Gecko) Chrome/117.0.0.0 Safari/537.36',\n",
    "    'X-City-Uuid': 'c2deb16a-0330-4f05-821f-1d09c93331e6',\n",
    "    'X-Country-Uuid': '8aa15da9-92a4-4530-ab74-1992c973c539',\n",
    "    'X-KL-kes-Ajax-Request': 'Ajax_Request',\n",
    "    'X-Region-Uuid': 'c2deb16a-0330-4f05-821f-1d09c93331e6',\n",
    "    'X-Source': 'site',\n",
    "    'sec-ch-ua': '\"Google Chrome\";v=\"117\", \"Not;A=Brand\";v=\"8\", \"Chromium\";v=\"117\"',\n",
    "    'sec-ch-ua-mobile': '?0',\n",
    "    'sec-ch-ua-platform': '\"Windows\"',\n",
    "}"
   ]
  },
  {
   "cell_type": "code",
   "execution_count": 6,
   "id": "a9d25733-64a7-4c7f-a21e-80269fffba63",
   "metadata": {
    "tags": []
   },
   "outputs": [],
   "source": [
    "def get_article(page_max):\n",
    "    article_all = []\n",
    "    for page in tqdm(range(1, (page_max + 1))):\n",
    "        params = {'page': str(page),'per_page': '44'}\n",
    "        catalog_gold = requests.get('https://sokolov.ru/jewelry-catalog/gold/585/noinserts/?stock=Y', params=params)\n",
    "        for i in range(0, 72):\n",
    "            try:\n",
    "                article = catalog_gold.json()['data'][i]['article']\n",
    "            except:\n",
    "                article = np.nan\n",
    "            try:\n",
    "                url = 'https://sokolov.ru/jewelry-catalog/product/' + catalog_gold.json()['data'][i]['url_code']\n",
    "            except:\n",
    "                url = np.nan\n",
    "            article_all.append({'article': article,\n",
    "                                'url' : url\n",
    "                            })\n",
    "        time.sleep(1)\n",
    "    return article_all"
   ]
  },
  {
   "cell_type": "code",
   "execution_count": 7,
   "id": "6f486d1f",
   "metadata": {
    "tags": []
   },
   "outputs": [],
   "source": [
    "options_chrome = webdriver.ChromeOptions()\n",
    "options_chrome.add_argument('headless')"
   ]
  },
  {
   "cell_type": "code",
   "execution_count": 8,
   "id": "f141c413-1ae2-4e46-b781-aa6e5184e565",
   "metadata": {
    "tags": []
   },
   "outputs": [],
   "source": [
    "def get_info(article):\n",
    "    data = []\n",
    "    for art in tqdm(article):\n",
    "        params_discont = {'url_code': art}\n",
    "        url_json = requests.get(f'https://catalog.sokolov.ru/api/v2/products/{art}', headers=headers_url, timeout=None, verify=False)\n",
    "        discount_json = requests.get('https://sokolov.ru/api/v5/products/sale-label/', params=params_discont, cookies=cookies_discont, headers=headers_discont, timeout=None, verify=False)\n",
    "        time.sleep(0.5)\n",
    "        try:\n",
    "            name = url_json.json()['name']\n",
    "        except:\n",
    "            name = np.nan\n",
    "        try:\n",
    "            group = url_json.json()['category']\n",
    "        except:\n",
    "            group = np.nan\n",
    "        try:\n",
    "            weight = url_json.json()['characteristic_short'][1]['value']\n",
    "        except:\n",
    "            weight = np.nan\n",
    "        try:\n",
    "            price = url_json.json()['price']\n",
    "        except:\n",
    "            price = np.nan\n",
    "        try:\n",
    "            price_old = url_json.json()['old_price']\n",
    "        except:\n",
    "            price_old = np.nan\n",
    "        try:\n",
    "            insert = url_json.json()['characteristic_short'][2]['value']\n",
    "        except:\n",
    "            insert = np.nan\n",
    "        try:\n",
    "            metal = url_json.json()['characteristic_short'][0]['value']\n",
    "        except:\n",
    "            metal = np.nan\n",
    "        try:\n",
    "            lock_type_or_weaving_type = url_json.json()['characteristic'][0]['values'][4]['value']\n",
    "        except:\n",
    "            lock_type_or_weaving_type = np.nan\n",
    "        try:\n",
    "            discount = discount_json.json()['data'][0]['sticker_description'] + ' ' + discount_json.json()['data'][0]['sticker_text']\n",
    "        except:\n",
    "            discount = np.nan\n",
    "        data.append(\n",
    "            {\n",
    "                'data': date_now,\n",
    "                'competitor': 'Sokolov',\n",
    "                'name': name,\n",
    "                'group': group,\n",
    "                'weight': weight,\n",
    "                'price': price,\n",
    "                'price_old': price_old,\n",
    "                'discount': discount,\n",
    "                'insert': insert,\n",
    "                'metal': metal,\n",
    "                'lock_type_or_weaving_type': lock_type_or_weaving_type,\n",
    "                'article': art\n",
    "            }\n",
    "        )\n",
    "    return data"
   ]
  },
  {
   "cell_type": "code",
   "execution_count": 9,
   "id": "f208b4bf",
   "metadata": {
    "tags": []
   },
   "outputs": [
    {
     "name": "stderr",
     "output_type": "stream",
     "text": [
      "100%|██████████| 21/21 [01:05<00:00,  3.14s/it]\n"
     ]
    }
   ],
   "source": [
    "options_chrome = webdriver.ChromeOptions()\n",
    "options_chrome.add_argument('headless')\n",
    "browser = webdriver.Chrome(ChromeDriverManager().install(), options=options_chrome)\n",
    "links = []\n",
    "home = 'https://sokolov.ru'\n",
    "for number in tqdm(range(1, 22)):\n",
    "    url_pars = str('https://sokolov.ru/jewelry-catalog/gold/noinserts/?stock=Y&page=' + str(number))\n",
    "    try:\n",
    "        browser.get(url_pars)\n",
    "    except:\n",
    "        browser.quit()\n",
    "    WebDriverWait(browser, 5).until(\n",
    "        EC.presence_of_element_located((By.CLASS_NAME, 'ProductList_products-list__We3gK')))\n",
    "    pause_time = 0.5\n",
    "    last_heigt = browser.execute_script(\"return document.body.scrollHeight\")\n",
    "    while True:\n",
    "        browser.execute_script(\"window.scrollTo(0, document.body.scrollHeight);\")\n",
    "        time.sleep(pause_time)\n",
    "        new_height = browser.execute_script(\"return document.body.scrollHeight\")\n",
    "        if new_height == last_heigt:\n",
    "            break\n",
    "        last_heigt = new_height\n",
    "    soup = BeautifulSoup(browser.page_source, 'html.parser')\n",
    "    for link in soup.find('div', class_='ProductList_products-list__We3gK').find_all('a', href=True):\n",
    "        links.append(home + link['href'])"
   ]
  },
  {
   "cell_type": "code",
   "execution_count": 10,
   "id": "1986b799-873e-4561-8147-a677dec5bb88",
   "metadata": {
    "tags": []
   },
   "outputs": [],
   "source": [
    "links = pd.DataFrame(links)\n",
    "links.columns = ['url']\n",
    "links_pars = links\n",
    "links_pars['article'] = links['url'].str.replace('https://sokolov.ru/jewelry-catalog/product/', '')\n",
    "links_pars['article'] = links_pars['article'].str.replace('/', '').str.strip()\n",
    "# chunks = np.array_split(links_pars, 10)"
   ]
  },
  {
   "cell_type": "code",
   "execution_count": 11,
   "id": "74a47560",
   "metadata": {},
   "outputs": [],
   "source": [
    "links.to_csv(f'{way}\\parsed_data\\\\links.csv', index = False)"
   ]
  },
  {
   "cell_type": "code",
   "execution_count": 12,
   "id": "4ea82150-7bf2-4128-bba1-2f8ec7fddad4",
   "metadata": {
    "tags": []
   },
   "outputs": [],
   "source": [
    "slices = 5\n",
    "chunks = np.array_split(links_pars['article'], slices)"
   ]
  },
  {
   "cell_type": "code",
   "execution_count": 13,
   "id": "6e58799e-c491-4b42-88db-6cdd92aebbdb",
   "metadata": {
    "tags": []
   },
   "outputs": [
    {
     "name": "stdout",
     "output_type": "stream",
     "text": [
      "начало парсинга 1 части ссылок\n"
     ]
    },
    {
     "name": "stderr",
     "output_type": "stream",
     "text": [
      "100%|██████████| 303/303 [04:20<00:00,  1.16it/s]\n"
     ]
    },
    {
     "name": "stdout",
     "output_type": "stream",
     "text": [
      "начало парсинга 2 части ссылок\n"
     ]
    },
    {
     "name": "stderr",
     "output_type": "stream",
     "text": [
      "100%|██████████| 303/303 [04:21<00:00,  1.16it/s]\n"
     ]
    },
    {
     "name": "stdout",
     "output_type": "stream",
     "text": [
      "начало парсинга 3 части ссылок\n"
     ]
    },
    {
     "name": "stderr",
     "output_type": "stream",
     "text": [
      "100%|██████████| 302/302 [04:18<00:00,  1.17it/s]\n"
     ]
    },
    {
     "name": "stdout",
     "output_type": "stream",
     "text": [
      "начало парсинга 4 части ссылок\n"
     ]
    },
    {
     "name": "stderr",
     "output_type": "stream",
     "text": [
      "100%|██████████| 302/302 [04:21<00:00,  1.16it/s]\n"
     ]
    },
    {
     "name": "stdout",
     "output_type": "stream",
     "text": [
      "начало парсинга 5 части ссылок\n"
     ]
    },
    {
     "name": "stderr",
     "output_type": "stream",
     "text": [
      "100%|██████████| 302/302 [04:17<00:00,  1.17it/s]\n"
     ]
    }
   ],
   "source": [
    "n = 0\n",
    "for i in range(n, slices):\n",
    "    n += 1\n",
    "    print(f'начало парсинга {n} части ссылок')\n",
    "    df = get_info(chunks[i])\n",
    "    df = pd.DataFrame(df)\n",
    "    df.to_csv(rf'{way}\\parsed_data\\\\' + f'bk_sokolov_{date_now}_{n}.csv', index=False)\n",
    "    time.sleep(5)"
   ]
  },
  {
   "cell_type": "code",
   "execution_count": 14,
   "id": "088ab19d",
   "metadata": {
    "tags": []
   },
   "outputs": [
    {
     "data": {
      "text/plain": [
       "['bk_sokolov_26.06.2024_1.csv',\n",
       " 'bk_sokolov_26.06.2024_2.csv',\n",
       " 'bk_sokolov_26.06.2024_3.csv',\n",
       " 'bk_sokolov_26.06.2024_4.csv',\n",
       " 'bk_sokolov_26.06.2024_5.csv']"
      ]
     },
     "execution_count": 14,
     "metadata": {},
     "output_type": "execute_result"
    }
   ],
   "source": [
    "way = f'{way}\\parsed_data'\n",
    "# Удаляем файл с ссылками\n",
    "os.remove(rf\"{way}\\links.csv\")\n",
    "# Указываем папку, в которой лежат файлы для объединения\n",
    "os.chdir(rf'{way}')\n",
    "# Указываем тип файлов, которые будем объединять\n",
    "extension = 'csv'\n",
    "all_filenames = [i for i in glob.glob('*.{}'.format(extension))]\n",
    "# Вывод имен файлов для объединения (для проверки)\n",
    "all_filenames"
   ]
  },
  {
   "cell_type": "code",
   "execution_count": 15,
   "id": "ebc75f07-5019-45af-a48e-b29a8ec5cab5",
   "metadata": {
    "tags": []
   },
   "outputs": [],
   "source": [
    "data = pd.DataFrame()\n",
    "for name in all_filenames:\n",
    "    df = pd.read_csv(name)\n",
    "    data = pd.concat([data, df], ignore_index=True)"
   ]
  },
  {
   "cell_type": "code",
   "execution_count": 16,
   "id": "b59babbd-9f8c-435c-87bb-49bea2fe84ad",
   "metadata": {
    "tags": []
   },
   "outputs": [
    {
     "name": "stdout",
     "output_type": "stream",
     "text": [
      "<class 'pandas.core.frame.DataFrame'>\n",
      "RangeIndex: 1512 entries, 0 to 1511\n",
      "Data columns (total 12 columns):\n",
      " #   Column                     Non-Null Count  Dtype \n",
      "---  ------                     --------------  ----- \n",
      " 0   data                       1512 non-null   object\n",
      " 1   competitor                 1512 non-null   object\n",
      " 2   name                       1512 non-null   object\n",
      " 3   group                      1509 non-null   object\n",
      " 4   weight                     1512 non-null   object\n",
      " 5   price                      1512 non-null   int64 \n",
      " 6   price_old                  1512 non-null   int64 \n",
      " 7   discount                   717 non-null    object\n",
      " 8   insert                     1512 non-null   object\n",
      " 9   metal                      1512 non-null   object\n",
      " 10  lock_type_or_weaving_type  629 non-null    object\n",
      " 11  article                    1512 non-null   object\n",
      "dtypes: int64(2), object(10)\n",
      "memory usage: 141.9+ KB\n"
     ]
    }
   ],
   "source": [
    "data.info()"
   ]
  },
  {
   "cell_type": "code",
   "execution_count": 17,
   "id": "31fb02ae-cd33-40be-856f-5b4cb6d7aa10",
   "metadata": {
    "tags": []
   },
   "outputs": [
    {
     "data": {
      "text/html": [
       "<div>\n",
       "<style scoped>\n",
       "    .dataframe tbody tr th:only-of-type {\n",
       "        vertical-align: middle;\n",
       "    }\n",
       "\n",
       "    .dataframe tbody tr th {\n",
       "        vertical-align: top;\n",
       "    }\n",
       "\n",
       "    .dataframe thead th {\n",
       "        text-align: right;\n",
       "    }\n",
       "</style>\n",
       "<table border=\"1\" class=\"dataframe\">\n",
       "  <thead>\n",
       "    <tr style=\"text-align: right;\">\n",
       "      <th></th>\n",
       "      <th>data</th>\n",
       "      <th>competitor</th>\n",
       "      <th>name</th>\n",
       "      <th>group</th>\n",
       "      <th>weight</th>\n",
       "      <th>price</th>\n",
       "      <th>price_old</th>\n",
       "      <th>discount</th>\n",
       "      <th>insert</th>\n",
       "      <th>metal</th>\n",
       "      <th>lock_type_or_weaving_type</th>\n",
       "      <th>article</th>\n",
       "    </tr>\n",
       "  </thead>\n",
       "  <tbody>\n",
       "    <tr>\n",
       "      <th>1032</th>\n",
       "      <td>26.06.2024</td>\n",
       "      <td>Sokolov</td>\n",
       "      <td>Браслет из золота</td>\n",
       "      <td>bracelets</td>\n",
       "      <td>3.16 г</td>\n",
       "      <td>35100</td>\n",
       "      <td>77990</td>\n",
       "      <td>Дополнительная скидка по акции «FLASH-РАСПРОДА...</td>\n",
       "      <td>Без вставок</td>\n",
       "      <td>Красное золото 585 пробы</td>\n",
       "      <td>NaN</td>\n",
       "      <td>050990</td>\n",
       "    </tr>\n",
       "    <tr>\n",
       "      <th>55</th>\n",
       "      <td>26.06.2024</td>\n",
       "      <td>Sokolov</td>\n",
       "      <td>Цепь из золота, плетение Панцирное, 585 проба</td>\n",
       "      <td>chains</td>\n",
       "      <td>2.42 г</td>\n",
       "      <td>33900</td>\n",
       "      <td>112990</td>\n",
       "      <td>NaN</td>\n",
       "      <td>Без вставок</td>\n",
       "      <td>Красное золото 585 пробы</td>\n",
       "      <td>Панцирное</td>\n",
       "      <td>582040502</td>\n",
       "    </tr>\n",
       "    <tr>\n",
       "      <th>962</th>\n",
       "      <td>26.06.2024</td>\n",
       "      <td>Sokolov</td>\n",
       "      <td>Обручальное кольцо из золота, 4 мм, с алмазной...</td>\n",
       "      <td>rings</td>\n",
       "      <td>2.78 г</td>\n",
       "      <td>28500</td>\n",
       "      <td>94990</td>\n",
       "      <td>NaN</td>\n",
       "      <td>Без вставок</td>\n",
       "      <td>Красное золото 585 пробы</td>\n",
       "      <td>NaN</td>\n",
       "      <td>111201</td>\n",
       "    </tr>\n",
       "    <tr>\n",
       "      <th>1092</th>\n",
       "      <td>26.06.2024</td>\n",
       "      <td>Sokolov</td>\n",
       "      <td>Цепь из золота, плетение Панцирное, 585 проба</td>\n",
       "      <td>chains</td>\n",
       "      <td>3.8 г</td>\n",
       "      <td>49500</td>\n",
       "      <td>109990</td>\n",
       "      <td>NaN</td>\n",
       "      <td>Без вставок</td>\n",
       "      <td>Красное золото 585 пробы</td>\n",
       "      <td>Панцирное</td>\n",
       "      <td>2304060</td>\n",
       "    </tr>\n",
       "    <tr>\n",
       "      <th>1306</th>\n",
       "      <td>26.06.2024</td>\n",
       "      <td>Sokolov</td>\n",
       "      <td>Подвеска из золота</td>\n",
       "      <td>pendants</td>\n",
       "      <td>0.84 г</td>\n",
       "      <td>13270</td>\n",
       "      <td>29490</td>\n",
       "      <td>NaN</td>\n",
       "      <td>Без вставок</td>\n",
       "      <td>Красное золото 585 пробы</td>\n",
       "      <td>NaN</td>\n",
       "      <td>036663</td>\n",
       "    </tr>\n",
       "  </tbody>\n",
       "</table>\n",
       "</div>"
      ],
      "text/plain": [
       "            data competitor  \\\n",
       "1032  26.06.2024    Sokolov   \n",
       "55    26.06.2024    Sokolov   \n",
       "962   26.06.2024    Sokolov   \n",
       "1092  26.06.2024    Sokolov   \n",
       "1306  26.06.2024    Sokolov   \n",
       "\n",
       "                                                   name      group  weight  \\\n",
       "1032                                  Браслет из золота  bracelets  3.16 г   \n",
       "55        Цепь из золота, плетение Панцирное, 585 проба     chains  2.42 г   \n",
       "962   Обручальное кольцо из золота, 4 мм, с алмазной...      rings  2.78 г   \n",
       "1092      Цепь из золота, плетение Панцирное, 585 проба     chains   3.8 г   \n",
       "1306                                 Подвеска из золота   pendants  0.84 г   \n",
       "\n",
       "      price  price_old                                           discount  \\\n",
       "1032  35100      77990  Дополнительная скидка по акции «FLASH-РАСПРОДА...   \n",
       "55    33900     112990                                                NaN   \n",
       "962   28500      94990                                                NaN   \n",
       "1092  49500     109990                                                NaN   \n",
       "1306  13270      29490                                                NaN   \n",
       "\n",
       "           insert                     metal lock_type_or_weaving_type  \\\n",
       "1032  Без вставок  Красное золото 585 пробы                       NaN   \n",
       "55    Без вставок  Красное золото 585 пробы                 Панцирное   \n",
       "962   Без вставок  Красное золото 585 пробы                       NaN   \n",
       "1092  Без вставок  Красное золото 585 пробы                 Панцирное   \n",
       "1306  Без вставок  Красное золото 585 пробы                       NaN   \n",
       "\n",
       "        article  \n",
       "1032     050990  \n",
       "55    582040502  \n",
       "962      111201  \n",
       "1092    2304060  \n",
       "1306     036663  "
      ]
     },
     "execution_count": 17,
     "metadata": {},
     "output_type": "execute_result"
    }
   ],
   "source": [
    "data.sample(5)"
   ]
  },
  {
   "cell_type": "code",
   "execution_count": 18,
   "id": "016df4be-f0c1-4853-b382-c073464f592c",
   "metadata": {
    "tags": []
   },
   "outputs": [],
   "source": [
    "data.to_csv(rf'{way}\\result\\bk_sokolov_{date_now}.csv', index=False)\n",
    "data.to_csv(r'\\\\gold585.int\\uk\\Общее хранилище файлов\\Служба аналитики\\Тренкин Сергей\\Мониторинг Sokolov и Sunlight\\Данные парсинга\\sklv_sl_data\\raw_data\\\\' + f'bk_sokolov_{date_now}.csv', index=False)"
   ]
  },
  {
   "cell_type": "code",
   "execution_count": 19,
   "id": "a34b8759-9d49-47a4-8048-93acf7081974",
   "metadata": {},
   "outputs": [
    {
     "data": {
      "text/plain": [
       "discount\n",
       "Дополнительная скидка по акции «FLASH-РАСПРОДАЖА» ЕЩЁ -10%    551\n",
       "Дополнительная скидка по акции «FLASH-РАСПРОДАЖА» ЕЩЁ -20%    166\n",
       "Name: count, dtype: int64"
      ]
     },
     "execution_count": 19,
     "metadata": {},
     "output_type": "execute_result"
    }
   ],
   "source": [
    "data['discount'].value_counts()"
   ]
  },
  {
   "cell_type": "markdown",
   "id": "4afa8380",
   "metadata": {},
   "source": [
    "Для удаления файлов внутри папки:"
   ]
  },
  {
   "cell_type": "code",
   "execution_count": 20,
   "id": "6f42117e-f563-481b-aa9c-b5dbe3c3d37e",
   "metadata": {},
   "outputs": [],
   "source": [
    "def delete_files_in_folder(folder_path):\n",
    "    for filename in os.listdir(folder_path):\n",
    "        file_path = os.path.join(folder_path, filename)\n",
    "        try:\n",
    "            if os.path.isfile(file_path):\n",
    "                os.remove(file_path)\n",
    "        except Exception as e:\n",
    "            print(f'Ошибка при удалении файла {file_path}. {e}')"
   ]
  },
  {
   "cell_type": "code",
   "execution_count": 21,
   "id": "a6cf537f",
   "metadata": {},
   "outputs": [],
   "source": [
    "delete_files_in_folder(f'{way}')"
   ]
  },
  {
   "cell_type": "code",
   "execution_count": null,
   "id": "8b261fd8",
   "metadata": {},
   "outputs": [],
   "source": []
  }
 ],
 "metadata": {
  "kernelspec": {
   "display_name": "Python 3 (ipykernel)",
   "language": "python",
   "name": "python3"
  },
  "language_info": {
   "codemirror_mode": {
    "name": "ipython",
    "version": 3
   },
   "file_extension": ".py",
   "mimetype": "text/x-python",
   "name": "python",
   "nbconvert_exporter": "python",
   "pygments_lexer": "ipython3",
   "version": "3.12.4"
  }
 },
 "nbformat": 4,
 "nbformat_minor": 5
}
