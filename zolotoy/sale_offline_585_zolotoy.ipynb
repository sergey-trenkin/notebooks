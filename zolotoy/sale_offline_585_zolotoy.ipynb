{
 "cells": [
  {
   "cell_type": "code",
   "execution_count": 1,
   "id": "4364f294",
   "metadata": {
    "tags": []
   },
   "outputs": [],
   "source": [
    "import pandas as pd\n",
    "import numpy as np\n",
    "import datetime as dt\n",
    "import warnings\n",
    "import glob\n",
    "import os\n",
    "\n",
    "warnings.filterwarnings('ignore')\n",
    "pd.options.display.max_columns = None\n",
    "pd.options.display.float_format ='{:,.3f}'.format"
   ]
  },
  {
   "cell_type": "code",
   "execution_count": 2,
   "id": "a23bb8d7",
   "metadata": {},
   "outputs": [],
   "source": [
    "current_date = dt.date.today()\n",
    "day = current_date.day - 1 # данные по продажам мы получаем за предыдущий день\n",
    "month = current_date.month\n",
    "year = current_date.year"
   ]
  },
  {
   "cell_type": "code",
   "execution_count": 3,
   "id": "dbc8a52c-fe30-4824-90d6-4f3438322820",
   "metadata": {
    "tags": []
   },
   "outputs": [],
   "source": [
    "path = r'\\\\gold585.int\\uk\\Общее хранилище файлов\\Служба аналитики\\Выгрузки из DWH\\Продажи по КБК из DWH new\\\\'\n",
    "list_of_files = glob.glob(path + '\\*.xlsx') \n",
    "latest_file = max(list_of_files, key=os.path.getctime)\n",
    "\n",
    "df_dwh = pd.read_excel(latest_file)"
   ]
  },
  {
   "cell_type": "code",
   "execution_count": 9,
   "id": "3f1cacbb",
   "metadata": {},
   "outputs": [
    {
     "name": "stdout",
     "output_type": "stream",
     "text": [
      "\\\\gold585.int\\uk\\Общее хранилище файлов\\Служба аналитики\\Выгрузки из DWH\\Продажи по КБК из DWH new\\2024-05-20_2024-05-28.xlsx\n"
     ]
    }
   ],
   "source": [
    "print(latest_file)"
   ]
  },
  {
   "cell_type": "code",
   "execution_count": 10,
   "id": "4bfd7e53",
   "metadata": {},
   "outputs": [],
   "source": [
    "# мы смотрим продажи со времени последнего мониторинга, для этого определяем день недели и в зависимости от этого получаем новые данные\n",
    "data = dt.datetime.isoweekday(dt.date.today())\n",
    "date_now = dt.datetime.now().date().strftime('%d.%m.%Y')\n",
    "if data == 1:\n",
    "    last_monitoring = (dt.date.today() - dt.timedelta(days=3)).strftime('%Y-%m-%d')\n",
    "else:\n",
    "    last_monitoring = (dt.date.today() - dt.timedelta(days=2)).strftime('%Y-%m-%d')\n",
    "    \n",
    "df_dwh = df_dwh[df_dwh['Дата'] >= f'{last_monitoring}']"
   ]
  },
  {
   "cell_type": "code",
   "execution_count": 11,
   "id": "e59d5b05-8a78-43d5-b9fa-f8eca0135972",
   "metadata": {
    "tags": []
   },
   "outputs": [
    {
     "data": {
      "text/html": [
       "<div>\n",
       "<style scoped>\n",
       "    .dataframe tbody tr th:only-of-type {\n",
       "        vertical-align: middle;\n",
       "    }\n",
       "\n",
       "    .dataframe tbody tr th {\n",
       "        vertical-align: top;\n",
       "    }\n",
       "\n",
       "    .dataframe thead th {\n",
       "        text-align: right;\n",
       "    }\n",
       "</style>\n",
       "<table border=\"1\" class=\"dataframe\">\n",
       "  <thead>\n",
       "    <tr style=\"text-align: right;\">\n",
       "      <th></th>\n",
       "      <th>КБК</th>\n",
       "      <th>Дата</th>\n",
       "      <th>Продавец</th>\n",
       "      <th>Номер чека</th>\n",
       "      <th>ID продажи</th>\n",
       "      <th>Тов</th>\n",
       "      <th>Артикул поставщика</th>\n",
       "      <th>Количество</th>\n",
       "      <th>Номенклатура</th>\n",
       "      <th>Номер карты</th>\n",
       "      <th>Товарная группа</th>\n",
       "      <th>Товарное направление</th>\n",
       "      <th>Тип 1</th>\n",
       "      <th>Списание СберСпасибо</th>\n",
       "      <th>Группа наценки</th>\n",
       "      <th>Вес</th>\n",
       "      <th>Проба</th>\n",
       "      <th>Размер</th>\n",
       "      <th>ШК</th>\n",
       "      <th>Цена без скидки</th>\n",
       "      <th>Базовая скидка</th>\n",
       "      <th>Скидка в руб.</th>\n",
       "      <th>Название</th>\n",
       "      <th>Цена после скидки</th>\n",
       "      <th>Phone</th>\n",
       "      <th>Себестоимость</th>\n",
       "      <th>Сумма</th>\n",
       "      <th>Услуга</th>\n",
       "      <th>Общая сумма</th>\n",
       "    </tr>\n",
       "  </thead>\n",
       "  <tbody>\n",
       "    <tr>\n",
       "      <th>206596</th>\n",
       "      <td>2-09-101</td>\n",
       "      <td>2024-05-28 07:26:00</td>\n",
       "      <td>Златова Наталья Николаевна</td>\n",
       "      <td>3618</td>\n",
       "      <td>Ch3-000778845</td>\n",
       "      <td>ТОВ1315638</td>\n",
       "      <td>2101143-00775</td>\n",
       "      <td>1</td>\n",
       "      <td>Товар</td>\n",
       "      <td>9000212237172</td>\n",
       "      <td>СИ СЕРЬГИ ИФ</td>\n",
       "      <td>СИ</td>\n",
       "      <td>СЕРЬГИ</td>\n",
       "      <td>14.880</td>\n",
       "      <td>KVI</td>\n",
       "      <td>3.078</td>\n",
       "      <td>925.000</td>\n",
       "      <td>0.000</td>\n",
       "      <td>2,078,610,688,724.000</td>\n",
       "      <td>6,633.000</td>\n",
       "      <td>70.000</td>\n",
       "      <td>1,651.700</td>\n",
       "      <td>СЕРЬГИ С ФИАН. РОД.</td>\n",
       "      <td>1,651.700</td>\n",
       "      <td>+79102625473</td>\n",
       "      <td>979.450</td>\n",
       "      <td>1,651.700</td>\n",
       "      <td>338.300</td>\n",
       "      <td>1,990.000</td>\n",
       "    </tr>\n",
       "    <tr>\n",
       "      <th>216635</th>\n",
       "      <td>5-02-081</td>\n",
       "      <td>2024-05-28 12:06:00</td>\n",
       "      <td>Мокеева Полина Викторовна</td>\n",
       "      <td>3696</td>\n",
       "      <td>Ch3-000779860</td>\n",
       "      <td>ТОВ0685368</td>\n",
       "      <td>ТОВ0685368</td>\n",
       "      <td>1</td>\n",
       "      <td>Сертификат</td>\n",
       "      <td>9000199772475</td>\n",
       "      <td>NaN</td>\n",
       "      <td>NaN</td>\n",
       "      <td>NaN</td>\n",
       "      <td>0.000</td>\n",
       "      <td>NaN</td>\n",
       "      <td>0.000</td>\n",
       "      <td>NaN</td>\n",
       "      <td>0.000</td>\n",
       "      <td>NaN</td>\n",
       "      <td>1,000.000</td>\n",
       "      <td>0.000</td>\n",
       "      <td>1,000.000</td>\n",
       "      <td>СЕРТИФИКАТ НОМ.1000</td>\n",
       "      <td>1,000.000</td>\n",
       "      <td>+79272058183</td>\n",
       "      <td>NaN</td>\n",
       "      <td>1,000.000</td>\n",
       "      <td>0.000</td>\n",
       "      <td>1,000.000</td>\n",
       "    </tr>\n",
       "    <tr>\n",
       "      <th>218536</th>\n",
       "      <td>6-01-107</td>\n",
       "      <td>2024-05-28 13:04:00</td>\n",
       "      <td>Бузулан Екатерина Александровна</td>\n",
       "      <td>2760</td>\n",
       "      <td>Ch4-000522872</td>\n",
       "      <td>ТОВ0887593</td>\n",
       "      <td>КО 15-00</td>\n",
       "      <td>1</td>\n",
       "      <td>Товар</td>\n",
       "      <td>9000120906313</td>\n",
       "      <td>БК КОЛЬЦА ОБРУЧ</td>\n",
       "      <td>БК</td>\n",
       "      <td>КОЛЬЦО ОБРУЧАЛЬНОЕ</td>\n",
       "      <td>0.000</td>\n",
       "      <td>ИФ.БК_ДОР</td>\n",
       "      <td>3.461</td>\n",
       "      <td>585.000</td>\n",
       "      <td>19.500</td>\n",
       "      <td>2,078,606,368,484.000</td>\n",
       "      <td>52,548.000</td>\n",
       "      <td>25.000</td>\n",
       "      <td>16,392.500</td>\n",
       "      <td>КОЛЬЦО ОБРУЧАЛЬНОЕ</td>\n",
       "      <td>16,392.500</td>\n",
       "      <td>+79281710728</td>\n",
       "      <td>10,669.540</td>\n",
       "      <td>16,392.500</td>\n",
       "      <td>3,357.500</td>\n",
       "      <td>19,750.000</td>\n",
       "    </tr>\n",
       "    <tr>\n",
       "      <th>224067</th>\n",
       "      <td>1-01-228</td>\n",
       "      <td>2024-05-28 16:46:00</td>\n",
       "      <td>Малярова Любовь Борисовна</td>\n",
       "      <td>2601</td>\n",
       "      <td>Ch3-000781107</td>\n",
       "      <td>ТОВ1026168</td>\n",
       "      <td>СФ 555</td>\n",
       "      <td>1</td>\n",
       "      <td>Товар</td>\n",
       "      <td>5110004838747</td>\n",
       "      <td>ИФ СЕРЬГИ</td>\n",
       "      <td>ИФ</td>\n",
       "      <td>СЕРЬГИ</td>\n",
       "      <td>0.000</td>\n",
       "      <td>ИФ.БК_СР</td>\n",
       "      <td>2.489</td>\n",
       "      <td>585.000</td>\n",
       "      <td>0.000</td>\n",
       "      <td>2,078,608,100,011.000</td>\n",
       "      <td>54,902.000</td>\n",
       "      <td>39.000</td>\n",
       "      <td>0.000</td>\n",
       "      <td>СЕРЬГИ, КУБИЧЕСКИЙ Ц</td>\n",
       "      <td>15,023.000</td>\n",
       "      <td>9517280451</td>\n",
       "      <td>9,421.820</td>\n",
       "      <td>15,023.000</td>\n",
       "      <td>3,077.000</td>\n",
       "      <td>18,100.000</td>\n",
       "    </tr>\n",
       "    <tr>\n",
       "      <th>205718</th>\n",
       "      <td>4-04-039</td>\n",
       "      <td>2024-05-28 06:58:00</td>\n",
       "      <td>Ваганова София Андреевна</td>\n",
       "      <td>3457</td>\n",
       "      <td>Ch2-000829250</td>\n",
       "      <td>ТОВ1241610</td>\n",
       "      <td>200-1046KR-PR</td>\n",
       "      <td>1</td>\n",
       "      <td>Товар</td>\n",
       "      <td>9000212234270</td>\n",
       "      <td>СИ СЕРЬГИ  ЦВ/К</td>\n",
       "      <td>СИ</td>\n",
       "      <td>СЕРЬГИ</td>\n",
       "      <td>0.000</td>\n",
       "      <td>СИ_СЕРЬГИ_СРЕДН</td>\n",
       "      <td>2.774</td>\n",
       "      <td>925.000</td>\n",
       "      <td>0.000</td>\n",
       "      <td>2,078,610,188,458.000</td>\n",
       "      <td>4,648.000</td>\n",
       "      <td>40.000</td>\n",
       "      <td>1,693.530</td>\n",
       "      <td>СЕРЬГИ С ЮВ.КРИСТ.ПО</td>\n",
       "      <td>1,303.100</td>\n",
       "      <td>+79175249671</td>\n",
       "      <td>858.680</td>\n",
       "      <td>1,303.100</td>\n",
       "      <td>266.900</td>\n",
       "      <td>1,570.000</td>\n",
       "    </tr>\n",
       "  </tbody>\n",
       "</table>\n",
       "</div>"
      ],
      "text/plain": [
       "             КБК                Дата                         Продавец  \\\n",
       "206596  2-09-101 2024-05-28 07:26:00       Златова Наталья Николаевна   \n",
       "216635  5-02-081 2024-05-28 12:06:00        Мокеева Полина Викторовна   \n",
       "218536  6-01-107 2024-05-28 13:04:00  Бузулан Екатерина Александровна   \n",
       "224067  1-01-228 2024-05-28 16:46:00        Малярова Любовь Борисовна   \n",
       "205718  4-04-039 2024-05-28 06:58:00         Ваганова София Андреевна   \n",
       "\n",
       "        Номер чека     ID продажи         Тов Артикул поставщика  Количество  \\\n",
       "206596        3618  Ch3-000778845  ТОВ1315638      2101143-00775           1   \n",
       "216635        3696  Ch3-000779860  ТОВ0685368         ТОВ0685368           1   \n",
       "218536        2760  Ch4-000522872  ТОВ0887593           КО 15-00           1   \n",
       "224067        2601  Ch3-000781107  ТОВ1026168             СФ 555           1   \n",
       "205718        3457  Ch2-000829250  ТОВ1241610      200-1046KR-PR           1   \n",
       "\n",
       "       Номенклатура    Номер карты  Товарная группа Товарное направление  \\\n",
       "206596        Товар  9000212237172     СИ СЕРЬГИ ИФ                   СИ   \n",
       "216635   Сертификат  9000199772475              NaN                  NaN   \n",
       "218536        Товар  9000120906313  БК КОЛЬЦА ОБРУЧ                   БК   \n",
       "224067        Товар  5110004838747        ИФ СЕРЬГИ                   ИФ   \n",
       "205718        Товар  9000212234270  СИ СЕРЬГИ  ЦВ/К                   СИ   \n",
       "\n",
       "                     Тип 1  Списание СберСпасибо   Группа наценки   Вес  \\\n",
       "206596              СЕРЬГИ                14.880              KVI 3.078   \n",
       "216635                 NaN                 0.000              NaN 0.000   \n",
       "218536  КОЛЬЦО ОБРУЧАЛЬНОЕ                 0.000        ИФ.БК_ДОР 3.461   \n",
       "224067              СЕРЬГИ                 0.000         ИФ.БК_СР 2.489   \n",
       "205718              СЕРЬГИ                 0.000  СИ_СЕРЬГИ_СРЕДН 2.774   \n",
       "\n",
       "         Проба  Размер                    ШК  Цена без скидки  Базовая скидка  \\\n",
       "206596 925.000   0.000 2,078,610,688,724.000        6,633.000          70.000   \n",
       "216635     NaN   0.000                   NaN        1,000.000           0.000   \n",
       "218536 585.000  19.500 2,078,606,368,484.000       52,548.000          25.000   \n",
       "224067 585.000   0.000 2,078,608,100,011.000       54,902.000          39.000   \n",
       "205718 925.000   0.000 2,078,610,188,458.000        4,648.000          40.000   \n",
       "\n",
       "        Скидка в руб.              Название  Цена после скидки         Phone  \\\n",
       "206596      1,651.700   СЕРЬГИ С ФИАН. РОД.          1,651.700  +79102625473   \n",
       "216635      1,000.000   СЕРТИФИКАТ НОМ.1000          1,000.000  +79272058183   \n",
       "218536     16,392.500    КОЛЬЦО ОБРУЧАЛЬНОЕ         16,392.500  +79281710728   \n",
       "224067          0.000  СЕРЬГИ, КУБИЧЕСКИЙ Ц         15,023.000    9517280451   \n",
       "205718      1,693.530  СЕРЬГИ С ЮВ.КРИСТ.ПО          1,303.100  +79175249671   \n",
       "\n",
       "        Себестоимость      Сумма    Услуга  Общая сумма  \n",
       "206596        979.450  1,651.700   338.300    1,990.000  \n",
       "216635            NaN  1,000.000     0.000    1,000.000  \n",
       "218536     10,669.540 16,392.500 3,357.500   19,750.000  \n",
       "224067      9,421.820 15,023.000 3,077.000   18,100.000  \n",
       "205718        858.680  1,303.100   266.900    1,570.000  "
      ]
     },
     "execution_count": 11,
     "metadata": {},
     "output_type": "execute_result"
    }
   ],
   "source": [
    "df_dwh.sample(5)"
   ]
  },
  {
   "cell_type": "code",
   "execution_count": 12,
   "id": "d04d0d1d",
   "metadata": {},
   "outputs": [
    {
     "data": {
      "text/plain": [
       "Товарная группа\n",
       "False    10861\n",
       "True      4400\n",
       "Name: count, dtype: int64"
      ]
     },
     "execution_count": 12,
     "metadata": {},
     "output_type": "execute_result"
    }
   ],
   "source": [
    "df_dwh['Товарная группа'].str.contains('ЦБ|БК').value_counts()"
   ]
  },
  {
   "cell_type": "code",
   "execution_count": 13,
   "id": "2fd04cca-80c4-4902-93a5-9d63d044b21d",
   "metadata": {
    "tags": []
   },
   "outputs": [],
   "source": [
    "df_dwh = df_dwh[(df_dwh['Товарное направление'].isin(['БК', 'ЦБ'])) & (df_dwh['Проба'] == 585.0)]"
   ]
  },
  {
   "cell_type": "code",
   "execution_count": 14,
   "id": "31ec5a9d-6866-4c10-8329-f9ec20f6fb7c",
   "metadata": {
    "tags": []
   },
   "outputs": [
    {
     "data": {
      "text/html": [
       "<div>\n",
       "<style scoped>\n",
       "    .dataframe tbody tr th:only-of-type {\n",
       "        vertical-align: middle;\n",
       "    }\n",
       "\n",
       "    .dataframe tbody tr th {\n",
       "        vertical-align: top;\n",
       "    }\n",
       "\n",
       "    .dataframe thead th {\n",
       "        text-align: right;\n",
       "    }\n",
       "</style>\n",
       "<table border=\"1\" class=\"dataframe\">\n",
       "  <thead>\n",
       "    <tr style=\"text-align: right;\">\n",
       "      <th></th>\n",
       "      <th>КБК</th>\n",
       "      <th>Дата</th>\n",
       "      <th>Продавец</th>\n",
       "      <th>Номер чека</th>\n",
       "      <th>ID продажи</th>\n",
       "      <th>Тов</th>\n",
       "      <th>Артикул поставщика</th>\n",
       "      <th>Количество</th>\n",
       "      <th>Номенклатура</th>\n",
       "      <th>Номер карты</th>\n",
       "      <th>Товарная группа</th>\n",
       "      <th>Товарное направление</th>\n",
       "      <th>Тип 1</th>\n",
       "      <th>Списание СберСпасибо</th>\n",
       "      <th>Группа наценки</th>\n",
       "      <th>Вес</th>\n",
       "      <th>Проба</th>\n",
       "      <th>Размер</th>\n",
       "      <th>ШК</th>\n",
       "      <th>Цена без скидки</th>\n",
       "      <th>Базовая скидка</th>\n",
       "      <th>Скидка в руб.</th>\n",
       "      <th>Название</th>\n",
       "      <th>Цена после скидки</th>\n",
       "      <th>Phone</th>\n",
       "      <th>Себестоимость</th>\n",
       "      <th>Сумма</th>\n",
       "      <th>Услуга</th>\n",
       "      <th>Общая сумма</th>\n",
       "    </tr>\n",
       "  </thead>\n",
       "  <tbody>\n",
       "    <tr>\n",
       "      <th>202412</th>\n",
       "      <td>3-09-049</td>\n",
       "      <td>2024-05-28 00:56:00</td>\n",
       "      <td>Вербицкая Лилия Игоревна</td>\n",
       "      <td>3890</td>\n",
       "      <td>Ch2-000828412</td>\n",
       "      <td>ТОВ01260428</td>\n",
       "      <td>311-00-0035-30555</td>\n",
       "      <td>1</td>\n",
       "      <td>Товар</td>\n",
       "      <td>9000147277779</td>\n",
       "      <td>ЦБ ЦЕПИ</td>\n",
       "      <td>ЦБ</td>\n",
       "      <td>ЦЕПЬ</td>\n",
       "      <td>0.000</td>\n",
       "      <td>ЦБ_ПУСТОТЕЛЫЕ &lt;=1,5 ГРАММ</td>\n",
       "      <td>0.952</td>\n",
       "      <td>585.000</td>\n",
       "      <td>40.000</td>\n",
       "      <td>2,078,608,358,307.000</td>\n",
       "      <td>22,368.000</td>\n",
       "      <td>31.000</td>\n",
       "      <td>6,432.500</td>\n",
       "      <td>ЦЕПЬ ЯКОРЬ ПУСТ</td>\n",
       "      <td>6,432.500</td>\n",
       "      <td>+79243376273</td>\n",
       "      <td>3,584.290</td>\n",
       "      <td>6,432.500</td>\n",
       "      <td>1,317.500</td>\n",
       "      <td>7,750.000</td>\n",
       "    </tr>\n",
       "    <tr>\n",
       "      <th>202418</th>\n",
       "      <td>3-09-019</td>\n",
       "      <td>2024-05-28 01:00:00</td>\n",
       "      <td>Тарских Ксения Александровна</td>\n",
       "      <td>3581</td>\n",
       "      <td>Ch2-000828411</td>\n",
       "      <td>ТОВ01262538</td>\n",
       "      <td>431-01-0080-37654</td>\n",
       "      <td>1</td>\n",
       "      <td>Товар</td>\n",
       "      <td>7651032893660</td>\n",
       "      <td>ЦБ БРАСЛЕТЫ</td>\n",
       "      <td>ЦБ</td>\n",
       "      <td>БРАСЛЕТ</td>\n",
       "      <td>138.490</td>\n",
       "      <td>ЦБ_ПУСТОТЕЛЫЕ &gt;3 ГРАММ</td>\n",
       "      <td>4.688</td>\n",
       "      <td>585.000</td>\n",
       "      <td>22.000</td>\n",
       "      <td>2,078,607,527,398.000</td>\n",
       "      <td>79,296.000</td>\n",
       "      <td>6.000</td>\n",
       "      <td>30,959.000</td>\n",
       "      <td>БРАСЛЕТ БИСМАРК ПУСТ</td>\n",
       "      <td>30,959.000</td>\n",
       "      <td>+79148070595</td>\n",
       "      <td>16,394.580</td>\n",
       "      <td>30,959.000</td>\n",
       "      <td>6,341.000</td>\n",
       "      <td>37,300.000</td>\n",
       "    </tr>\n",
       "    <tr>\n",
       "      <th>202422</th>\n",
       "      <td>3-09-049</td>\n",
       "      <td>2024-05-28 01:02:00</td>\n",
       "      <td>Вербицкая Лилия Игоревна</td>\n",
       "      <td>429</td>\n",
       "      <td>Ch2-000828399</td>\n",
       "      <td>ТОВ0881058</td>\n",
       "      <td>14.43_15</td>\n",
       "      <td>1</td>\n",
       "      <td>Товар</td>\n",
       "      <td>9000207895233</td>\n",
       "      <td>БК СЕРЬГИ</td>\n",
       "      <td>БК</td>\n",
       "      <td>СЕРЬГИ-КОНГО</td>\n",
       "      <td>0.000</td>\n",
       "      <td>ИФ.БК_ДЕШ</td>\n",
       "      <td>1.061</td>\n",
       "      <td>585.000</td>\n",
       "      <td>1.500</td>\n",
       "      <td>2,078,607,768,244.000</td>\n",
       "      <td>23,067.000</td>\n",
       "      <td>34.000</td>\n",
       "      <td>6,349.500</td>\n",
       "      <td>СЕРЬГИ-КОНГО</td>\n",
       "      <td>6,349.500</td>\n",
       "      <td>+79025291038</td>\n",
       "      <td>3,740.480</td>\n",
       "      <td>6,349.500</td>\n",
       "      <td>1,300.500</td>\n",
       "      <td>7,650.000</td>\n",
       "    </tr>\n",
       "    <tr>\n",
       "      <th>202444</th>\n",
       "      <td>3-09-048</td>\n",
       "      <td>2024-05-28 01:38:00</td>\n",
       "      <td>Томашик Ирина Михайловна</td>\n",
       "      <td>3243</td>\n",
       "      <td>Ch2-000828416</td>\n",
       "      <td>ТОВ1307111</td>\n",
       "      <td>41-46050-11</td>\n",
       "      <td>1</td>\n",
       "      <td>Товар</td>\n",
       "      <td>9000212217686</td>\n",
       "      <td>ЦБ БРАСЛЕТЫ</td>\n",
       "      <td>ЦБ</td>\n",
       "      <td>БРАСЛЕТ</td>\n",
       "      <td>241.210</td>\n",
       "      <td>ЦБ_РУЧНОЕ ПЛЕТЕНИЕ &gt;3 ГРАММ</td>\n",
       "      <td>3.808</td>\n",
       "      <td>585.000</td>\n",
       "      <td>18.000</td>\n",
       "      <td>2,078,607,515,534.000</td>\n",
       "      <td>65,352.000</td>\n",
       "      <td>11.000</td>\n",
       "      <td>24,153.000</td>\n",
       "      <td>БРАСЛЕТ БИСМАРК</td>\n",
       "      <td>24,153.000</td>\n",
       "      <td>(924)441-28-53</td>\n",
       "      <td>17,388.300</td>\n",
       "      <td>24,153.000</td>\n",
       "      <td>4,947.000</td>\n",
       "      <td>29,100.000</td>\n",
       "    </tr>\n",
       "    <tr>\n",
       "      <th>202445</th>\n",
       "      <td>3-09-048</td>\n",
       "      <td>2024-05-28 01:38:00</td>\n",
       "      <td>Томашик Ирина Михайловна</td>\n",
       "      <td>3243</td>\n",
       "      <td>Ch2-000828416</td>\n",
       "      <td>ТОВ1134866</td>\n",
       "      <td>НБ12-087ПГ D0,5</td>\n",
       "      <td>1</td>\n",
       "      <td>Товар</td>\n",
       "      <td>9000212217686</td>\n",
       "      <td>ЦБ БРАСЛЕТЫ</td>\n",
       "      <td>ЦБ</td>\n",
       "      <td>БРАСЛЕТ</td>\n",
       "      <td>67.550</td>\n",
       "      <td>ЦБ_ПУСТОТЕЛЫЕ &lt;=1,5 ГРАММ</td>\n",
       "      <td>1.050</td>\n",
       "      <td>585.000</td>\n",
       "      <td>16.000</td>\n",
       "      <td>2,078,608,381,507.000</td>\n",
       "      <td>23,533.000</td>\n",
       "      <td>31.000</td>\n",
       "      <td>6,764.500</td>\n",
       "      <td>БРАСЛЕТ ЛАВ ПУСТ</td>\n",
       "      <td>6,764.500</td>\n",
       "      <td>(924)441-28-53</td>\n",
       "      <td>4,605.040</td>\n",
       "      <td>6,764.500</td>\n",
       "      <td>1,385.500</td>\n",
       "      <td>8,150.000</td>\n",
       "    </tr>\n",
       "  </tbody>\n",
       "</table>\n",
       "</div>"
      ],
      "text/plain": [
       "             КБК                Дата                      Продавец  \\\n",
       "202412  3-09-049 2024-05-28 00:56:00      Вербицкая Лилия Игоревна   \n",
       "202418  3-09-019 2024-05-28 01:00:00  Тарских Ксения Александровна   \n",
       "202422  3-09-049 2024-05-28 01:02:00      Вербицкая Лилия Игоревна   \n",
       "202444  3-09-048 2024-05-28 01:38:00      Томашик Ирина Михайловна   \n",
       "202445  3-09-048 2024-05-28 01:38:00      Томашик Ирина Михайловна   \n",
       "\n",
       "        Номер чека     ID продажи          Тов Артикул поставщика  Количество  \\\n",
       "202412        3890  Ch2-000828412  ТОВ01260428  311-00-0035-30555           1   \n",
       "202418        3581  Ch2-000828411  ТОВ01262538  431-01-0080-37654           1   \n",
       "202422         429  Ch2-000828399   ТОВ0881058           14.43_15           1   \n",
       "202444        3243  Ch2-000828416   ТОВ1307111        41-46050-11           1   \n",
       "202445        3243  Ch2-000828416   ТОВ1134866    НБ12-087ПГ D0,5           1   \n",
       "\n",
       "       Номенклатура    Номер карты Товарная группа Товарное направление  \\\n",
       "202412        Товар  9000147277779         ЦБ ЦЕПИ                   ЦБ   \n",
       "202418        Товар  7651032893660     ЦБ БРАСЛЕТЫ                   ЦБ   \n",
       "202422        Товар  9000207895233       БК СЕРЬГИ                   БК   \n",
       "202444        Товар  9000212217686     ЦБ БРАСЛЕТЫ                   ЦБ   \n",
       "202445        Товар  9000212217686     ЦБ БРАСЛЕТЫ                   ЦБ   \n",
       "\n",
       "               Тип 1  Списание СберСпасибо               Группа наценки   Вес  \\\n",
       "202412          ЦЕПЬ                 0.000    ЦБ_ПУСТОТЕЛЫЕ <=1,5 ГРАММ 0.952   \n",
       "202418       БРАСЛЕТ               138.490       ЦБ_ПУСТОТЕЛЫЕ >3 ГРАММ 4.688   \n",
       "202422  СЕРЬГИ-КОНГО                 0.000                    ИФ.БК_ДЕШ 1.061   \n",
       "202444       БРАСЛЕТ               241.210  ЦБ_РУЧНОЕ ПЛЕТЕНИЕ >3 ГРАММ 3.808   \n",
       "202445       БРАСЛЕТ                67.550    ЦБ_ПУСТОТЕЛЫЕ <=1,5 ГРАММ 1.050   \n",
       "\n",
       "         Проба  Размер                    ШК  Цена без скидки  Базовая скидка  \\\n",
       "202412 585.000  40.000 2,078,608,358,307.000       22,368.000          31.000   \n",
       "202418 585.000  22.000 2,078,607,527,398.000       79,296.000           6.000   \n",
       "202422 585.000   1.500 2,078,607,768,244.000       23,067.000          34.000   \n",
       "202444 585.000  18.000 2,078,607,515,534.000       65,352.000          11.000   \n",
       "202445 585.000  16.000 2,078,608,381,507.000       23,533.000          31.000   \n",
       "\n",
       "        Скидка в руб.              Название  Цена после скидки  \\\n",
       "202412      6,432.500       ЦЕПЬ ЯКОРЬ ПУСТ          6,432.500   \n",
       "202418     30,959.000  БРАСЛЕТ БИСМАРК ПУСТ         30,959.000   \n",
       "202422      6,349.500          СЕРЬГИ-КОНГО          6,349.500   \n",
       "202444     24,153.000       БРАСЛЕТ БИСМАРК         24,153.000   \n",
       "202445      6,764.500      БРАСЛЕТ ЛАВ ПУСТ          6,764.500   \n",
       "\n",
       "                 Phone  Себестоимость      Сумма    Услуга  Общая сумма  \n",
       "202412    +79243376273      3,584.290  6,432.500 1,317.500    7,750.000  \n",
       "202418    +79148070595     16,394.580 30,959.000 6,341.000   37,300.000  \n",
       "202422    +79025291038      3,740.480  6,349.500 1,300.500    7,650.000  \n",
       "202444  (924)441-28-53     17,388.300 24,153.000 4,947.000   29,100.000  \n",
       "202445  (924)441-28-53      4,605.040  6,764.500 1,385.500    8,150.000  "
      ]
     },
     "execution_count": 14,
     "metadata": {},
     "output_type": "execute_result"
    }
   ],
   "source": [
    "df_dwh.head()"
   ]
  },
  {
   "cell_type": "code",
   "execution_count": 15,
   "id": "7a815429-89ac-47de-beaa-f50f86347a4b",
   "metadata": {
    "tags": []
   },
   "outputs": [
    {
     "data": {
      "text/plain": [
       "array(['ЦБ', 'БК'], dtype=object)"
      ]
     },
     "execution_count": 15,
     "metadata": {},
     "output_type": "execute_result"
    }
   ],
   "source": [
    "df_dwh['Товарное направление'].unique()"
   ]
  },
  {
   "cell_type": "code",
   "execution_count": 16,
   "id": "5e01490c-0d74-40aa-9dbe-0dce5e2c81b0",
   "metadata": {
    "tags": []
   },
   "outputs": [
    {
     "data": {
      "text/plain": [
       "0"
      ]
     },
     "execution_count": 16,
     "metadata": {},
     "output_type": "execute_result"
    }
   ],
   "source": [
    "df_dwh['Название'].isna().sum()"
   ]
  },
  {
   "cell_type": "code",
   "execution_count": 17,
   "id": "3e78909e-d6a5-4d98-85d7-e1510f1b9a2d",
   "metadata": {
    "tags": []
   },
   "outputs": [],
   "source": [
    "df_dwh['Название'] = df_dwh['Название'].fillna('золотое изделие')"
   ]
  },
  {
   "cell_type": "code",
   "execution_count": 18,
   "id": "1cf44d59-c331-40d5-8216-bb1f8dd58c50",
   "metadata": {
    "tags": []
   },
   "outputs": [],
   "source": [
    "df_dwh = df_dwh[(~(df_dwh['Название'].str.lower().str.contains('каучук')))]\n",
    "df_dwh = df_dwh[(~(df_dwh['Название'].str.lower().str.contains('шнурок')))]\n",
    "df_dwh = df_dwh[(~(df_dwh['Название'].str.lower().str.contains('текстиль')))]\n",
    "df_dwh = df_dwh[(~(df_dwh['Название'].str.lower().str.contains('хлопок')))]\n",
    "df_dwh = df_dwh[(~(df_dwh['Название'].str.lower().str.contains('шелк')))]\n",
    "df_dwh = df_dwh[(~(df_dwh['Название'].str.lower().str.contains('на нитке')))]\n",
    "df_dwh = df_dwh[(~(df_dwh['Название'].str.lower().str.contains('кожа')))]\n",
    "df_dwh = df_dwh[(~(df_dwh['Название'].str.lower().str.contains('жемчуг')))]"
   ]
  },
  {
   "cell_type": "code",
   "execution_count": 19,
   "id": "8a714183-7177-403e-abd1-3fbfd97863e2",
   "metadata": {
    "tags": []
   },
   "outputs": [],
   "source": [
    "df_dwh['Дата'] = pd.to_datetime(df_dwh['Дата'], format='%Y-%m-%d')\n",
    "df_dwh['Дата'] = pd.to_datetime(df_dwh['Дата'].apply(lambda x: x.strftime(\"%Y-%m-%d\")))"
   ]
  },
  {
   "cell_type": "code",
   "execution_count": 20,
   "id": "ffeecf8b-cd88-4505-8517-12043a90a749",
   "metadata": {
    "tags": []
   },
   "outputs": [],
   "source": [
    "filtr_date = df_dwh['Дата'].max()"
   ]
  },
  {
   "cell_type": "code",
   "execution_count": 21,
   "id": "e2ded21d-6073-4e6f-a71c-10a234668f5b",
   "metadata": {
    "tags": []
   },
   "outputs": [
    {
     "data": {
      "text/plain": [
       "Timestamp('2024-05-28 00:00:00')"
      ]
     },
     "execution_count": 21,
     "metadata": {},
     "output_type": "execute_result"
    }
   ],
   "source": [
    "df_dwh['Дата'].min()"
   ]
  },
  {
   "cell_type": "code",
   "execution_count": 22,
   "id": "435df7ee-2e1e-4ee8-a5e3-45dbaf0b37c2",
   "metadata": {
    "tags": []
   },
   "outputs": [],
   "source": [
    "df_dwh = df_dwh.query(\"`Дата` <= @filtr_date\")"
   ]
  },
  {
   "cell_type": "code",
   "execution_count": 23,
   "id": "0b6778b1-89b3-451e-9810-d12baff754fb",
   "metadata": {
    "tags": []
   },
   "outputs": [
    {
     "data": {
      "text/plain": [
       "<DatetimeArray>\n",
       "['2024-05-28 00:00:00']\n",
       "Length: 1, dtype: datetime64[ns]"
      ]
     },
     "execution_count": 23,
     "metadata": {},
     "output_type": "execute_result"
    }
   ],
   "source": [
    "df_dwh['Дата'].unique()"
   ]
  },
  {
   "cell_type": "code",
   "execution_count": 24,
   "id": "91693521-f7e7-44b7-a46e-faf3a6e448ee",
   "metadata": {
    "tags": []
   },
   "outputs": [
    {
     "data": {
      "text/plain": [
       "Товарное направление\n",
       "БК    1552\n",
       "ЦБ    1261\n",
       "Name: count, dtype: int64"
      ]
     },
     "execution_count": 24,
     "metadata": {},
     "output_type": "execute_result"
    }
   ],
   "source": [
    "df_dwh['Товарное направление'].value_counts()"
   ]
  },
  {
   "cell_type": "code",
   "execution_count": 25,
   "id": "a7e37ab9-694a-4fe0-9c30-40099545004a",
   "metadata": {
    "tags": []
   },
   "outputs": [
    {
     "name": "stdout",
     "output_type": "stream",
     "text": [
      "<class 'pandas.core.frame.DataFrame'>\n",
      "Index: 2813 entries, 202412 to 224975\n",
      "Data columns (total 29 columns):\n",
      " #   Column                Non-Null Count  Dtype         \n",
      "---  ------                --------------  -----         \n",
      " 0   КБК                   2813 non-null   object        \n",
      " 1   Дата                  2813 non-null   datetime64[ns]\n",
      " 2   Продавец              2813 non-null   object        \n",
      " 3   Номер чека            2813 non-null   int64         \n",
      " 4   ID продажи            2813 non-null   object        \n",
      " 5   Тов                   2813 non-null   object        \n",
      " 6   Артикул поставщика    2813 non-null   object        \n",
      " 7   Количество            2813 non-null   int64         \n",
      " 8   Номенклатура          2813 non-null   object        \n",
      " 9   Номер карты           2711 non-null   object        \n",
      " 10  Товарная группа       2813 non-null   object        \n",
      " 11  Товарное направление  2813 non-null   object        \n",
      " 12  Тип 1                 2813 non-null   object        \n",
      " 13  Списание СберСпасибо  2813 non-null   float64       \n",
      " 14  Группа наценки        2813 non-null   object        \n",
      " 15  Вес                   2813 non-null   float64       \n",
      " 16  Проба                 2813 non-null   float64       \n",
      " 17  Размер                2813 non-null   float64       \n",
      " 18  ШК                    2813 non-null   float64       \n",
      " 19  Цена без скидки       2813 non-null   float64       \n",
      " 20  Базовая скидка        2813 non-null   float64       \n",
      " 21  Скидка в руб.         2813 non-null   float64       \n",
      " 22  Название              2813 non-null   object        \n",
      " 23  Цена после скидки     2813 non-null   float64       \n",
      " 24  Phone                 2716 non-null   object        \n",
      " 25  Себестоимость         2810 non-null   float64       \n",
      " 26  Сумма                 2813 non-null   float64       \n",
      " 27  Услуга                2813 non-null   float64       \n",
      " 28  Общая сумма           2813 non-null   float64       \n",
      "dtypes: datetime64[ns](1), float64(13), int64(2), object(13)\n",
      "memory usage: 659.3+ KB\n"
     ]
    }
   ],
   "source": [
    "df_dwh.info()"
   ]
  },
  {
   "cell_type": "code",
   "execution_count": 30,
   "id": "98344b50",
   "metadata": {},
   "outputs": [],
   "source": [
    "tn = df_dwh.groupby(by = 'Товарная группа', as_index= False)[['Себестоимость', 'Вес', 'Общая сумма']].agg('sum')"
   ]
  },
  {
   "cell_type": "code",
   "execution_count": 31,
   "id": "5d5d98ad",
   "metadata": {},
   "outputs": [],
   "source": [
    "tn['Наценка продажи оффлайн'] =  tn['Общая сумма'] / tn['Себестоимость'] - 1"
   ]
  },
  {
   "cell_type": "code",
   "execution_count": 32,
   "id": "0d2a679f",
   "metadata": {},
   "outputs": [],
   "source": [
    "tn = tn[~tn['Товарная группа'].str.contains('ОПТ БК|БК ПЕЧАТКИ|ОПТ КОНГО|ОПТ ОБРУЧИ')]"
   ]
  },
  {
   "cell_type": "code",
   "execution_count": 33,
   "id": "547bb0d2",
   "metadata": {},
   "outputs": [],
   "source": [
    "tn['price_per_gramm'] = ((tn['Общая сумма'] / tn['Вес']).round(0))"
   ]
  },
  {
   "cell_type": "code",
   "execution_count": 34,
   "id": "afc1ac9a-9c72-48fa-8b0d-8240d57ecc23",
   "metadata": {
    "tags": []
   },
   "outputs": [],
   "source": [
    "tn['price_per_gramm'] = tn['price_per_gramm'].replace(',', '')\n",
    "tn['price_per_gramm'] = tn['price_per_gramm'].astype('int')"
   ]
  },
  {
   "cell_type": "code",
   "execution_count": 35,
   "id": "2856b1a9",
   "metadata": {},
   "outputs": [
    {
     "data": {
      "text/html": [
       "<div>\n",
       "<style scoped>\n",
       "    .dataframe tbody tr th:only-of-type {\n",
       "        vertical-align: middle;\n",
       "    }\n",
       "\n",
       "    .dataframe tbody tr th {\n",
       "        vertical-align: top;\n",
       "    }\n",
       "\n",
       "    .dataframe thead th {\n",
       "        text-align: right;\n",
       "    }\n",
       "</style>\n",
       "<table border=\"1\" class=\"dataframe\">\n",
       "  <thead>\n",
       "    <tr style=\"text-align: right;\">\n",
       "      <th></th>\n",
       "      <th>Товарная группа</th>\n",
       "      <th>Себестоимость</th>\n",
       "      <th>Вес</th>\n",
       "      <th>Общая сумма</th>\n",
       "      <th>Наценка продажи оффлайн</th>\n",
       "      <th>price_per_gramm</th>\n",
       "    </tr>\n",
       "  </thead>\n",
       "  <tbody>\n",
       "    <tr>\n",
       "      <th>0</th>\n",
       "      <td>БК КОЛЬЦА</td>\n",
       "      <td>979,925.560</td>\n",
       "      <td>334.214</td>\n",
       "      <td>2,201,170.000</td>\n",
       "      <td>1.246</td>\n",
       "      <td>6586</td>\n",
       "    </tr>\n",
       "    <tr>\n",
       "      <th>1</th>\n",
       "      <td>БК КОЛЬЦА ОБРУЧ</td>\n",
       "      <td>8,595,048.140</td>\n",
       "      <td>2,955.989</td>\n",
       "      <td>18,045,055.270</td>\n",
       "      <td>1.099</td>\n",
       "      <td>6105</td>\n",
       "    </tr>\n",
       "    <tr>\n",
       "      <th>3</th>\n",
       "      <td>БК ПОДВЕС ДЕКОР</td>\n",
       "      <td>617,353.550</td>\n",
       "      <td>197.075</td>\n",
       "      <td>1,389,288.000</td>\n",
       "      <td>1.250</td>\n",
       "      <td>7050</td>\n",
       "    </tr>\n",
       "    <tr>\n",
       "      <th>4</th>\n",
       "      <td>БК ПОДВЕС КУЛЬТ</td>\n",
       "      <td>2,875,881.650</td>\n",
       "      <td>940.755</td>\n",
       "      <td>6,490,609.040</td>\n",
       "      <td>1.257</td>\n",
       "      <td>6899</td>\n",
       "    </tr>\n",
       "    <tr>\n",
       "      <th>5</th>\n",
       "      <td>БК СЕРЬГИ</td>\n",
       "      <td>2,396,601.810</td>\n",
       "      <td>785.581</td>\n",
       "      <td>5,392,223.750</td>\n",
       "      <td>1.250</td>\n",
       "      <td>6864</td>\n",
       "    </tr>\n",
       "    <tr>\n",
       "      <th>8</th>\n",
       "      <td>ЦБ БРАСЛЕТЫ</td>\n",
       "      <td>9,491,666.860</td>\n",
       "      <td>2,854.096</td>\n",
       "      <td>18,771,628.580</td>\n",
       "      <td>0.978</td>\n",
       "      <td>6577</td>\n",
       "    </tr>\n",
       "    <tr>\n",
       "      <th>9</th>\n",
       "      <td>ЦБ ЦЕПИ</td>\n",
       "      <td>18,603,445.260</td>\n",
       "      <td>5,768.846</td>\n",
       "      <td>38,966,465.830</td>\n",
       "      <td>1.095</td>\n",
       "      <td>6755</td>\n",
       "    </tr>\n",
       "  </tbody>\n",
       "</table>\n",
       "</div>"
      ],
      "text/plain": [
       "   Товарная группа  Себестоимость       Вес    Общая сумма  \\\n",
       "0        БК КОЛЬЦА    979,925.560   334.214  2,201,170.000   \n",
       "1  БК КОЛЬЦА ОБРУЧ  8,595,048.140 2,955.989 18,045,055.270   \n",
       "3  БК ПОДВЕС ДЕКОР    617,353.550   197.075  1,389,288.000   \n",
       "4  БК ПОДВЕС КУЛЬТ  2,875,881.650   940.755  6,490,609.040   \n",
       "5        БК СЕРЬГИ  2,396,601.810   785.581  5,392,223.750   \n",
       "8      ЦБ БРАСЛЕТЫ  9,491,666.860 2,854.096 18,771,628.580   \n",
       "9          ЦБ ЦЕПИ 18,603,445.260 5,768.846 38,966,465.830   \n",
       "\n",
       "   Наценка продажи оффлайн  price_per_gramm  \n",
       "0                    1.246             6586  \n",
       "1                    1.099             6105  \n",
       "3                    1.250             7050  \n",
       "4                    1.257             6899  \n",
       "5                    1.250             6864  \n",
       "8                    0.978             6577  \n",
       "9                    1.095             6755  "
      ]
     },
     "execution_count": 35,
     "metadata": {},
     "output_type": "execute_result"
    }
   ],
   "source": [
    "tn"
   ]
  },
  {
   "cell_type": "code",
   "execution_count": 36,
   "id": "0b8fae47",
   "metadata": {},
   "outputs": [
    {
     "name": "stdout",
     "output_type": "stream",
     "text": [
      "Средняя цена продажи оффлайн:  6595.0\n"
     ]
    }
   ],
   "source": [
    "print('Средняя цена продажи оффлайн: ', (tn['Общая сумма'].sum() / tn['Вес'].sum()).round(0))"
   ]
  },
  {
   "cell_type": "code",
   "execution_count": 38,
   "id": "7c9f73db",
   "metadata": {},
   "outputs": [],
   "source": [
    "tn.columns = ['tg', 'cost', 'weight', 'price', 'Наценка продажи оффлайн', 'price_per_gramm']"
   ]
  },
  {
   "cell_type": "code",
   "execution_count": 39,
   "id": "c6a2ea9e",
   "metadata": {},
   "outputs": [],
   "source": [
    "tn.to_excel(rf'\\\\gold585.int\\uk\\Общее хранилище файлов\\Служба аналитики\\Тренкин Сергей\\sales_offline\\offline_sales_{date_now}.xlsx', index = False)"
   ]
  },
  {
   "cell_type": "code",
   "execution_count": 40,
   "id": "451a4285",
   "metadata": {},
   "outputs": [],
   "source": [
    "tn = tn.drop(columns=['cost', 'weight', 'price', 'Наценка продажи оффлайн'])\n",
    "tn.columns = ['tg', '585*Золотой оффлайн продажи']"
   ]
  },
  {
   "cell_type": "code",
   "execution_count": 33,
   "id": "a9fbf8a6",
   "metadata": {},
   "outputs": [],
   "source": [
    "pd.read_excel(rf'\\\\gold585.int\\uk\\Общее хранилище файлов\\Служба аналитики\\Тренкин Сергей\\sklv_sl_data\\grouped_data\\result_{date_now}.xlsx').merge(tn, how = 'left', on = 'tg').to_excel(rf'\\\\gold585.int\\uk\\Общее хранилище файлов\\Служба аналитики\\Тренкин Сергей\\sklv_sl_data\\grouped_data\\result_{date_now}.xlsx', index=False)"
   ]
  },
  {
   "cell_type": "code",
   "execution_count": null,
   "id": "a85e8042",
   "metadata": {},
   "outputs": [],
   "source": []
  }
 ],
 "metadata": {
  "kernelspec": {
   "display_name": "Python 3 (ipykernel)",
   "language": "python",
   "name": "python3"
  },
  "language_info": {
   "codemirror_mode": {
    "name": "ipython",
    "version": 3
   },
   "file_extension": ".py",
   "mimetype": "text/x-python",
   "name": "python",
   "nbconvert_exporter": "python",
   "pygments_lexer": "ipython3",
   "version": "3.12.0"
  }
 },
 "nbformat": 4,
 "nbformat_minor": 5
}
