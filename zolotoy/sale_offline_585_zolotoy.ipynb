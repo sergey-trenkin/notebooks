{
 "cells": [
  {
   "cell_type": "code",
   "execution_count": 3,
   "id": "4364f294",
   "metadata": {
    "tags": []
   },
   "outputs": [],
   "source": [
    "import pandas as pd\n",
    "import numpy as np\n",
    "import datetime as dt\n",
    "import warnings\n",
    "import glob\n",
    "import os\n",
    "\n",
    "warnings.filterwarnings('ignore')\n",
    "pd.options.display.max_columns = None\n",
    "pd.options.display.float_format ='{:,.3f}'.format"
   ]
  },
  {
   "cell_type": "code",
   "execution_count": 4,
   "id": "a23bb8d7",
   "metadata": {},
   "outputs": [],
   "source": [
    "current_date = dt.date.today()\n",
    "day = current_date.day - 1 # данные по продажам мы получаем за предыдущий день\n",
    "month = current_date.month\n",
    "year = current_date.year"
   ]
  },
  {
   "cell_type": "code",
   "execution_count": 11,
   "id": "dbc8a52c-fe30-4824-90d6-4f3438322820",
   "metadata": {
    "tags": []
   },
   "outputs": [],
   "source": [
    "path = r'\\\\gold585.int\\uk\\Общее хранилище файлов\\Служба аналитики\\Выгрузки из DWH\\Продажи по КБК из DWH new\\\\'\n",
    "list_of_files = glob.glob(path + '\\*.xlsx') \n",
    "latest_file = max(list_of_files, key=os.path.getctime)\n",
    "\n",
    "df_dwh = pd.read_excel(latest_file)"
   ]
  },
  {
   "cell_type": "code",
   "execution_count": 42,
   "id": "4bfd7e53",
   "metadata": {},
   "outputs": [],
   "source": [
    "# мы смотрим продажи со времени последнего мониторинга, для этого определяем день недели и в зависимости от этого получаем новые данные\n",
    "data = dt.datetime.isoweekday(dt.date.today())\n",
    "date_now = dt.datetime.now().date().strftime('%d.%m.%Y')\n",
    "if data == 1:\n",
    "    last_monitoring = (dt.date.today() - dt.timedelta(days=3)).strftime('%Y-%m-%d')\n",
    "else:\n",
    "    last_monitoring = (dt.date.today() - dt.timedelta(days=2)).strftime('%Y-%m-%d')\n",
    "    \n",
    "df_dwh = df_dwh[df_dwh['Дата'] >= f'{last_monitoring}']"
   ]
  },
  {
   "cell_type": "code",
   "execution_count": 14,
   "id": "e59d5b05-8a78-43d5-b9fa-f8eca0135972",
   "metadata": {
    "tags": []
   },
   "outputs": [
    {
     "data": {
      "text/html": [
       "<div>\n",
       "<style scoped>\n",
       "    .dataframe tbody tr th:only-of-type {\n",
       "        vertical-align: middle;\n",
       "    }\n",
       "\n",
       "    .dataframe tbody tr th {\n",
       "        vertical-align: top;\n",
       "    }\n",
       "\n",
       "    .dataframe thead th {\n",
       "        text-align: right;\n",
       "    }\n",
       "</style>\n",
       "<table border=\"1\" class=\"dataframe\">\n",
       "  <thead>\n",
       "    <tr style=\"text-align: right;\">\n",
       "      <th></th>\n",
       "      <th>КБК</th>\n",
       "      <th>Дата</th>\n",
       "      <th>Продавец</th>\n",
       "      <th>Номер чека</th>\n",
       "      <th>ID продажи</th>\n",
       "      <th>Тов</th>\n",
       "      <th>Артикул поставщика</th>\n",
       "      <th>Количество</th>\n",
       "      <th>Номенклатура</th>\n",
       "      <th>Номер карты</th>\n",
       "      <th>Товарная группа</th>\n",
       "      <th>Товарное направление</th>\n",
       "      <th>Тип 1</th>\n",
       "      <th>Списание СберСпасибо</th>\n",
       "      <th>Группа наценки</th>\n",
       "      <th>Вес</th>\n",
       "      <th>Проба</th>\n",
       "      <th>Размер</th>\n",
       "      <th>ШК</th>\n",
       "      <th>Цена без скидки</th>\n",
       "      <th>Базовая скидка</th>\n",
       "      <th>Скидка в руб.</th>\n",
       "      <th>Название</th>\n",
       "      <th>Цена после скидки</th>\n",
       "      <th>Phone</th>\n",
       "      <th>Себестоимость</th>\n",
       "      <th>Сумма</th>\n",
       "      <th>Услуга</th>\n",
       "      <th>Общая сумма</th>\n",
       "    </tr>\n",
       "  </thead>\n",
       "  <tbody>\n",
       "    <tr>\n",
       "      <th>181583</th>\n",
       "      <td>3-05-133</td>\n",
       "      <td>2024-05-27 04:34:00</td>\n",
       "      <td>Веретельникова Ирина Евгеньевна</td>\n",
       "      <td>6212</td>\n",
       "      <td>Ch2-000825709</td>\n",
       "      <td>ТОВ1235371</td>\n",
       "      <td>TALANT 1</td>\n",
       "      <td>1</td>\n",
       "      <td>Футляр</td>\n",
       "      <td>9000135495130</td>\n",
       "      <td>ФУТЛЯРЫ</td>\n",
       "      <td>ФУТЛЯРЫ</td>\n",
       "      <td>ПРОЧЕЕ</td>\n",
       "      <td>14.530</td>\n",
       "      <td>NaN</td>\n",
       "      <td>0.000</td>\n",
       "      <td>NaN</td>\n",
       "      <td>0.000</td>\n",
       "      <td>NaN</td>\n",
       "      <td>160.000</td>\n",
       "      <td>0.000</td>\n",
       "      <td>160.000</td>\n",
       "      <td>ФУТЛЯР БРЕНД УНИВЕРС</td>\n",
       "      <td>160.000</td>\n",
       "      <td>+79136941585</td>\n",
       "      <td>NaN</td>\n",
       "      <td>160.000</td>\n",
       "      <td>0.000</td>\n",
       "      <td>160.000</td>\n",
       "    </tr>\n",
       "    <tr>\n",
       "      <th>192834</th>\n",
       "      <td>5-02-017</td>\n",
       "      <td>2024-05-27 11:25:00</td>\n",
       "      <td>Казакова Анастасия Дмитриевна</td>\n",
       "      <td>2705</td>\n",
       "      <td>Ch3-000777012</td>\n",
       "      <td>ТОВ1163703</td>\n",
       "      <td>ANTIBACTERIAL_WIPE</td>\n",
       "      <td>1</td>\n",
       "      <td>Аксессуар футляр</td>\n",
       "      <td>9000212169046</td>\n",
       "      <td>NaN</td>\n",
       "      <td>ДФРС</td>\n",
       "      <td>ЧС</td>\n",
       "      <td>0.000</td>\n",
       "      <td>NaN</td>\n",
       "      <td>0.000</td>\n",
       "      <td>NaN</td>\n",
       "      <td>0.000</td>\n",
       "      <td>NaN</td>\n",
       "      <td>10.000</td>\n",
       "      <td>0.000</td>\n",
       "      <td>10.000</td>\n",
       "      <td>САЛФЕТКА АНТИБАКТЕРИ</td>\n",
       "      <td>10.000</td>\n",
       "      <td>+79278190952</td>\n",
       "      <td>NaN</td>\n",
       "      <td>10.000</td>\n",
       "      <td>0.000</td>\n",
       "      <td>10.000</td>\n",
       "    </tr>\n",
       "    <tr>\n",
       "      <th>192413</th>\n",
       "      <td>3-03-063</td>\n",
       "      <td>2024-05-27 11:14:00</td>\n",
       "      <td>Зайчикова Полина Сергеевна</td>\n",
       "      <td>7229</td>\n",
       "      <td>Ch2-000827473</td>\n",
       "      <td>ТОВ1305840</td>\n",
       "      <td>КП 1</td>\n",
       "      <td>1</td>\n",
       "      <td>Футляр</td>\n",
       "      <td>9000212167783</td>\n",
       "      <td>NaN</td>\n",
       "      <td>ФУТЛЯРЫ</td>\n",
       "      <td>ФУТЛЯР</td>\n",
       "      <td>0.000</td>\n",
       "      <td>NaN</td>\n",
       "      <td>0.000</td>\n",
       "      <td>NaN</td>\n",
       "      <td>0.000</td>\n",
       "      <td>NaN</td>\n",
       "      <td>0.000</td>\n",
       "      <td>0.000</td>\n",
       "      <td>0.000</td>\n",
       "      <td>КОРОБОЧКА</td>\n",
       "      <td>0.000</td>\n",
       "      <td>(908)013-67-03</td>\n",
       "      <td>NaN</td>\n",
       "      <td>0.000</td>\n",
       "      <td>0.000</td>\n",
       "      <td>0.000</td>\n",
       "    </tr>\n",
       "    <tr>\n",
       "      <th>204666</th>\n",
       "      <td>4-01-173</td>\n",
       "      <td>2024-05-28 06:16:00</td>\n",
       "      <td>Тимофеева Диана Хасановна</td>\n",
       "      <td>2524</td>\n",
       "      <td>Ch2-000829016</td>\n",
       "      <td>ТОВ1172935</td>\n",
       "      <td>CR_BOX</td>\n",
       "      <td>1</td>\n",
       "      <td>Футляр</td>\n",
       "      <td>7651016136943</td>\n",
       "      <td>NaN</td>\n",
       "      <td>ФУТЛЯРЫ</td>\n",
       "      <td>ФУТЛЯР</td>\n",
       "      <td>0.000</td>\n",
       "      <td>NaN</td>\n",
       "      <td>0.000</td>\n",
       "      <td>NaN</td>\n",
       "      <td>0.000</td>\n",
       "      <td>NaN</td>\n",
       "      <td>0.000</td>\n",
       "      <td>0.000</td>\n",
       "      <td>0.000</td>\n",
       "      <td>КОРОБОЧКА 585*Золото</td>\n",
       "      <td>0.000</td>\n",
       "      <td>+79022774710</td>\n",
       "      <td>NaN</td>\n",
       "      <td>0.000</td>\n",
       "      <td>0.000</td>\n",
       "      <td>0.000</td>\n",
       "    </tr>\n",
       "    <tr>\n",
       "      <th>212941</th>\n",
       "      <td>6-05-004</td>\n",
       "      <td>2024-05-28 10:22:00</td>\n",
       "      <td>Погосян Милена Артуровна</td>\n",
       "      <td>894</td>\n",
       "      <td>Ch4-000522412</td>\n",
       "      <td>ТОВ1255454</td>\n",
       "      <td>50-78-1000-26986</td>\n",
       "      <td>1</td>\n",
       "      <td>Товар</td>\n",
       "      <td>7670003489800</td>\n",
       "      <td>СИ ПОДАРКИ КРОСС</td>\n",
       "      <td>СИ</td>\n",
       "      <td>ПОДВЕС ДЕКОРАТИВНЫЙ</td>\n",
       "      <td>0.000</td>\n",
       "      <td>СИ_НЕЛИКВИД_70%</td>\n",
       "      <td>0.516</td>\n",
       "      <td>925.000</td>\n",
       "      <td>0.000</td>\n",
       "      <td>2,078,600,749,949.000</td>\n",
       "      <td>1,900.000</td>\n",
       "      <td>40.000</td>\n",
       "      <td>280.000</td>\n",
       "      <td>ПОДВЕС СЕРДЦЕ С БРИЛ</td>\n",
       "      <td>531.200</td>\n",
       "      <td>+79054619825</td>\n",
       "      <td>280.000</td>\n",
       "      <td>531.200</td>\n",
       "      <td>108.800</td>\n",
       "      <td>640.000</td>\n",
       "    </tr>\n",
       "  </tbody>\n",
       "</table>\n",
       "</div>"
      ],
      "text/plain": [
       "             КБК                Дата                         Продавец  \\\n",
       "181583  3-05-133 2024-05-27 04:34:00  Веретельникова Ирина Евгеньевна   \n",
       "192834  5-02-017 2024-05-27 11:25:00    Казакова Анастасия Дмитриевна   \n",
       "192413  3-03-063 2024-05-27 11:14:00       Зайчикова Полина Сергеевна   \n",
       "204666  4-01-173 2024-05-28 06:16:00        Тимофеева Диана Хасановна   \n",
       "212941  6-05-004 2024-05-28 10:22:00         Погосян Милена Артуровна   \n",
       "\n",
       "        Номер чека     ID продажи         Тов  Артикул поставщика  Количество  \\\n",
       "181583        6212  Ch2-000825709  ТОВ1235371            TALANT 1           1   \n",
       "192834        2705  Ch3-000777012  ТОВ1163703  ANTIBACTERIAL_WIPE           1   \n",
       "192413        7229  Ch2-000827473  ТОВ1305840                КП 1           1   \n",
       "204666        2524  Ch2-000829016  ТОВ1172935              CR_BOX           1   \n",
       "212941         894  Ch4-000522412  ТОВ1255454    50-78-1000-26986           1   \n",
       "\n",
       "            Номенклатура    Номер карты   Товарная группа  \\\n",
       "181583            Футляр  9000135495130           ФУТЛЯРЫ   \n",
       "192834  Аксессуар футляр  9000212169046               NaN   \n",
       "192413            Футляр  9000212167783               NaN   \n",
       "204666            Футляр  7651016136943               NaN   \n",
       "212941             Товар  7670003489800  СИ ПОДАРКИ КРОСС   \n",
       "\n",
       "       Товарное направление                Тип 1  Списание СберСпасибо  \\\n",
       "181583              ФУТЛЯРЫ               ПРОЧЕЕ                14.530   \n",
       "192834                 ДФРС                   ЧС                 0.000   \n",
       "192413              ФУТЛЯРЫ               ФУТЛЯР                 0.000   \n",
       "204666              ФУТЛЯРЫ               ФУТЛЯР                 0.000   \n",
       "212941                   СИ  ПОДВЕС ДЕКОРАТИВНЫЙ                 0.000   \n",
       "\n",
       "         Группа наценки   Вес   Проба  Размер                    ШК  \\\n",
       "181583              NaN 0.000     NaN   0.000                   NaN   \n",
       "192834              NaN 0.000     NaN   0.000                   NaN   \n",
       "192413              NaN 0.000     NaN   0.000                   NaN   \n",
       "204666              NaN 0.000     NaN   0.000                   NaN   \n",
       "212941  СИ_НЕЛИКВИД_70% 0.516 925.000   0.000 2,078,600,749,949.000   \n",
       "\n",
       "        Цена без скидки  Базовая скидка  Скидка в руб.              Название  \\\n",
       "181583          160.000           0.000        160.000  ФУТЛЯР БРЕНД УНИВЕРС   \n",
       "192834           10.000           0.000         10.000  САЛФЕТКА АНТИБАКТЕРИ   \n",
       "192413            0.000           0.000          0.000             КОРОБОЧКА   \n",
       "204666            0.000           0.000          0.000  КОРОБОЧКА 585*Золото   \n",
       "212941        1,900.000          40.000        280.000  ПОДВЕС СЕРДЦЕ С БРИЛ   \n",
       "\n",
       "        Цена после скидки           Phone  Себестоимость   Сумма  Услуга  \\\n",
       "181583            160.000    +79136941585            NaN 160.000   0.000   \n",
       "192834             10.000    +79278190952            NaN  10.000   0.000   \n",
       "192413              0.000  (908)013-67-03            NaN   0.000   0.000   \n",
       "204666              0.000    +79022774710            NaN   0.000   0.000   \n",
       "212941            531.200    +79054619825        280.000 531.200 108.800   \n",
       "\n",
       "        Общая сумма  \n",
       "181583      160.000  \n",
       "192834       10.000  \n",
       "192413        0.000  \n",
       "204666        0.000  \n",
       "212941      640.000  "
      ]
     },
     "execution_count": 14,
     "metadata": {},
     "output_type": "execute_result"
    }
   ],
   "source": [
    "df_dwh.sample(5)"
   ]
  },
  {
   "cell_type": "code",
   "execution_count": 15,
   "id": "d04d0d1d",
   "metadata": {},
   "outputs": [
    {
     "data": {
      "text/plain": [
       "Товарная группа\n",
       "False    21374\n",
       "True      8437\n",
       "Name: count, dtype: int64"
      ]
     },
     "execution_count": 15,
     "metadata": {},
     "output_type": "execute_result"
    }
   ],
   "source": [
    "df_dwh['Товарная группа'].str.contains('ЦБ|БК').value_counts()"
   ]
  },
  {
   "cell_type": "code",
   "execution_count": 16,
   "id": "2fd04cca-80c4-4902-93a5-9d63d044b21d",
   "metadata": {
    "tags": []
   },
   "outputs": [],
   "source": [
    "df_dwh = df_dwh[(df_dwh['Товарное направление'].isin(['БК', 'ЦБ'])) & (df_dwh['Проба'] == 585.0)]"
   ]
  },
  {
   "cell_type": "code",
   "execution_count": 17,
   "id": "31ec5a9d-6866-4c10-8329-f9ec20f6fb7c",
   "metadata": {
    "tags": []
   },
   "outputs": [
    {
     "data": {
      "text/html": [
       "<div>\n",
       "<style scoped>\n",
       "    .dataframe tbody tr th:only-of-type {\n",
       "        vertical-align: middle;\n",
       "    }\n",
       "\n",
       "    .dataframe tbody tr th {\n",
       "        vertical-align: top;\n",
       "    }\n",
       "\n",
       "    .dataframe thead th {\n",
       "        text-align: right;\n",
       "    }\n",
       "</style>\n",
       "<table border=\"1\" class=\"dataframe\">\n",
       "  <thead>\n",
       "    <tr style=\"text-align: right;\">\n",
       "      <th></th>\n",
       "      <th>КБК</th>\n",
       "      <th>Дата</th>\n",
       "      <th>Продавец</th>\n",
       "      <th>Номер чека</th>\n",
       "      <th>ID продажи</th>\n",
       "      <th>Тов</th>\n",
       "      <th>Артикул поставщика</th>\n",
       "      <th>Количество</th>\n",
       "      <th>Номенклатура</th>\n",
       "      <th>Номер карты</th>\n",
       "      <th>Товарная группа</th>\n",
       "      <th>Товарное направление</th>\n",
       "      <th>Тип 1</th>\n",
       "      <th>Списание СберСпасибо</th>\n",
       "      <th>Группа наценки</th>\n",
       "      <th>Вес</th>\n",
       "      <th>Проба</th>\n",
       "      <th>Размер</th>\n",
       "      <th>ШК</th>\n",
       "      <th>Цена без скидки</th>\n",
       "      <th>Базовая скидка</th>\n",
       "      <th>Скидка в руб.</th>\n",
       "      <th>Название</th>\n",
       "      <th>Цена после скидки</th>\n",
       "      <th>Phone</th>\n",
       "      <th>Себестоимость</th>\n",
       "      <th>Сумма</th>\n",
       "      <th>Услуга</th>\n",
       "      <th>Общая сумма</th>\n",
       "    </tr>\n",
       "  </thead>\n",
       "  <tbody>\n",
       "    <tr>\n",
       "      <th>180772</th>\n",
       "      <td>3-09-019</td>\n",
       "      <td>2024-05-27 00:04:00</td>\n",
       "      <td>Гусейнова Вероника Александровна</td>\n",
       "      <td>3565</td>\n",
       "      <td>Ch2-000825494</td>\n",
       "      <td>ТОВ0832965</td>\n",
       "      <td>КО 04-00</td>\n",
       "      <td>1</td>\n",
       "      <td>Товар</td>\n",
       "      <td>7651046360974</td>\n",
       "      <td>БК КОЛЬЦА ОБРУЧ</td>\n",
       "      <td>БК</td>\n",
       "      <td>КОЛЬЦО ОБРУЧАЛЬНОЕ</td>\n",
       "      <td>0.000</td>\n",
       "      <td>KVI</td>\n",
       "      <td>2.335</td>\n",
       "      <td>585.000</td>\n",
       "      <td>18.000</td>\n",
       "      <td>2,078,608,760,853.000</td>\n",
       "      <td>42,966.000</td>\n",
       "      <td>70.000</td>\n",
       "      <td>10,707.000</td>\n",
       "      <td>КОЛЬЦО ОБРУЧАЛЬНОЕ</td>\n",
       "      <td>10,707.000</td>\n",
       "      <td>+79143609510</td>\n",
       "      <td>8,420.040</td>\n",
       "      <td>10,707.000</td>\n",
       "      <td>2,193.000</td>\n",
       "      <td>12,900.000</td>\n",
       "    </tr>\n",
       "    <tr>\n",
       "      <th>180774</th>\n",
       "      <td>3-09-019</td>\n",
       "      <td>2024-05-27 00:04:00</td>\n",
       "      <td>Гусейнова Вероника Александровна</td>\n",
       "      <td>3565</td>\n",
       "      <td>Ch2-000825494</td>\n",
       "      <td>ТОВ0832974</td>\n",
       "      <td>КО 04-00</td>\n",
       "      <td>1</td>\n",
       "      <td>Товар</td>\n",
       "      <td>7651046360974</td>\n",
       "      <td>БК КОЛЬЦА ОБРУЧ</td>\n",
       "      <td>БК</td>\n",
       "      <td>КОЛЬЦО ОБРУЧАЛЬНОЕ</td>\n",
       "      <td>0.000</td>\n",
       "      <td>KVI</td>\n",
       "      <td>2.717</td>\n",
       "      <td>585.000</td>\n",
       "      <td>22.000</td>\n",
       "      <td>2,078,607,280,354.000</td>\n",
       "      <td>42,966.000</td>\n",
       "      <td>70.000</td>\n",
       "      <td>11,505.230</td>\n",
       "      <td>КОЛЬЦО ОБРУЧАЛЬНОЕ</td>\n",
       "      <td>11,505.230</td>\n",
       "      <td>+79143609510</td>\n",
       "      <td>10,004.550</td>\n",
       "      <td>11,505.230</td>\n",
       "      <td>1,394.770</td>\n",
       "      <td>12,900.000</td>\n",
       "    </tr>\n",
       "    <tr>\n",
       "      <th>180799</th>\n",
       "      <td>3-09-045</td>\n",
       "      <td>2024-05-27 01:25:00</td>\n",
       "      <td>Шумихина Вита Валентиновна</td>\n",
       "      <td>969</td>\n",
       "      <td>Ch2-000825499</td>\n",
       "      <td>ТОВ0881418</td>\n",
       "      <td>66.19_15</td>\n",
       "      <td>1</td>\n",
       "      <td>Товар</td>\n",
       "      <td>9000197333487</td>\n",
       "      <td>БК СЕРЬГИ</td>\n",
       "      <td>БК</td>\n",
       "      <td>СЕРЬГИ-КОНГО</td>\n",
       "      <td>0.000</td>\n",
       "      <td>ИФ.БК_ДЕШ</td>\n",
       "      <td>1.506</td>\n",
       "      <td>585.000</td>\n",
       "      <td>1.500</td>\n",
       "      <td>2,078,496,163,095.000</td>\n",
       "      <td>26,566.000</td>\n",
       "      <td>29.000</td>\n",
       "      <td>7,843.500</td>\n",
       "      <td>СЕРЬГИ-КОНГО</td>\n",
       "      <td>7,843.500</td>\n",
       "      <td>+79245915114</td>\n",
       "      <td>2,990.160</td>\n",
       "      <td>7,843.500</td>\n",
       "      <td>1,606.500</td>\n",
       "      <td>9,450.000</td>\n",
       "    </tr>\n",
       "    <tr>\n",
       "      <th>180811</th>\n",
       "      <td>3-09-046</td>\n",
       "      <td>2024-05-27 01:40:00</td>\n",
       "      <td>Никифорова Ирина Евгеньевна</td>\n",
       "      <td>3786</td>\n",
       "      <td>Ch2-000825505</td>\n",
       "      <td>ТОВ1192085</td>\n",
       "      <td>20-01-0000-29515</td>\n",
       "      <td>1</td>\n",
       "      <td>Товар</td>\n",
       "      <td>9000212119096</td>\n",
       "      <td>БК КОЛЬЦА</td>\n",
       "      <td>БК</td>\n",
       "      <td>КОЛЬЦО</td>\n",
       "      <td>0.000</td>\n",
       "      <td>ИФ.БК_ДЕШ</td>\n",
       "      <td>1.242</td>\n",
       "      <td>585.000</td>\n",
       "      <td>16.500</td>\n",
       "      <td>2,078,610,348,234.000</td>\n",
       "      <td>28,680.000</td>\n",
       "      <td>35.000</td>\n",
       "      <td>7,760.500</td>\n",
       "      <td>КОЛЬЦО</td>\n",
       "      <td>7,760.500</td>\n",
       "      <td>+79246833337</td>\n",
       "      <td>4,114.820</td>\n",
       "      <td>7,760.500</td>\n",
       "      <td>1,589.500</td>\n",
       "      <td>9,350.000</td>\n",
       "    </tr>\n",
       "    <tr>\n",
       "      <th>180817</th>\n",
       "      <td>3-09-018</td>\n",
       "      <td>2024-05-27 01:44:00</td>\n",
       "      <td>Дятлова Юлия Олеговна</td>\n",
       "      <td>7071</td>\n",
       "      <td>Ch2-000825512</td>\n",
       "      <td>ТОВ01260874</td>\n",
       "      <td>331-01-0060-37654</td>\n",
       "      <td>1</td>\n",
       "      <td>Товар</td>\n",
       "      <td>9000212119041</td>\n",
       "      <td>ЦБ ЦЕПИ</td>\n",
       "      <td>ЦБ</td>\n",
       "      <td>ЦЕПЬ</td>\n",
       "      <td>0.000</td>\n",
       "      <td>ЦБ_ПУСТОТЕЛЫЕ &gt;3 ГРАММ</td>\n",
       "      <td>5.917</td>\n",
       "      <td>585.000</td>\n",
       "      <td>55.000</td>\n",
       "      <td>2,078,610,115,977.000</td>\n",
       "      <td>104,475.000</td>\n",
       "      <td>20.000</td>\n",
       "      <td>34,694.000</td>\n",
       "      <td>ЦЕПЬ БИСМАРК ПУСТ С</td>\n",
       "      <td>34,694.000</td>\n",
       "      <td>+79241641575</td>\n",
       "      <td>20,501.950</td>\n",
       "      <td>34,694.000</td>\n",
       "      <td>7,106.000</td>\n",
       "      <td>41,800.000</td>\n",
       "    </tr>\n",
       "  </tbody>\n",
       "</table>\n",
       "</div>"
      ],
      "text/plain": [
       "             КБК                Дата                          Продавец  \\\n",
       "180772  3-09-019 2024-05-27 00:04:00  Гусейнова Вероника Александровна   \n",
       "180774  3-09-019 2024-05-27 00:04:00  Гусейнова Вероника Александровна   \n",
       "180799  3-09-045 2024-05-27 01:25:00        Шумихина Вита Валентиновна   \n",
       "180811  3-09-046 2024-05-27 01:40:00       Никифорова Ирина Евгеньевна   \n",
       "180817  3-09-018 2024-05-27 01:44:00             Дятлова Юлия Олеговна   \n",
       "\n",
       "        Номер чека     ID продажи          Тов Артикул поставщика  Количество  \\\n",
       "180772        3565  Ch2-000825494   ТОВ0832965           КО 04-00           1   \n",
       "180774        3565  Ch2-000825494   ТОВ0832974           КО 04-00           1   \n",
       "180799         969  Ch2-000825499   ТОВ0881418           66.19_15           1   \n",
       "180811        3786  Ch2-000825505   ТОВ1192085   20-01-0000-29515           1   \n",
       "180817        7071  Ch2-000825512  ТОВ01260874  331-01-0060-37654           1   \n",
       "\n",
       "       Номенклатура    Номер карты  Товарная группа Товарное направление  \\\n",
       "180772        Товар  7651046360974  БК КОЛЬЦА ОБРУЧ                   БК   \n",
       "180774        Товар  7651046360974  БК КОЛЬЦА ОБРУЧ                   БК   \n",
       "180799        Товар  9000197333487        БК СЕРЬГИ                   БК   \n",
       "180811        Товар  9000212119096        БК КОЛЬЦА                   БК   \n",
       "180817        Товар  9000212119041          ЦБ ЦЕПИ                   ЦБ   \n",
       "\n",
       "                     Тип 1  Списание СберСпасибо          Группа наценки  \\\n",
       "180772  КОЛЬЦО ОБРУЧАЛЬНОЕ                 0.000                     KVI   \n",
       "180774  КОЛЬЦО ОБРУЧАЛЬНОЕ                 0.000                     KVI   \n",
       "180799        СЕРЬГИ-КОНГО                 0.000               ИФ.БК_ДЕШ   \n",
       "180811              КОЛЬЦО                 0.000               ИФ.БК_ДЕШ   \n",
       "180817                ЦЕПЬ                 0.000  ЦБ_ПУСТОТЕЛЫЕ >3 ГРАММ   \n",
       "\n",
       "         Вес   Проба  Размер                    ШК  Цена без скидки  \\\n",
       "180772 2.335 585.000  18.000 2,078,608,760,853.000       42,966.000   \n",
       "180774 2.717 585.000  22.000 2,078,607,280,354.000       42,966.000   \n",
       "180799 1.506 585.000   1.500 2,078,496,163,095.000       26,566.000   \n",
       "180811 1.242 585.000  16.500 2,078,610,348,234.000       28,680.000   \n",
       "180817 5.917 585.000  55.000 2,078,610,115,977.000      104,475.000   \n",
       "\n",
       "        Базовая скидка  Скидка в руб.             Название  Цена после скидки  \\\n",
       "180772          70.000     10,707.000   КОЛЬЦО ОБРУЧАЛЬНОЕ         10,707.000   \n",
       "180774          70.000     11,505.230   КОЛЬЦО ОБРУЧАЛЬНОЕ         11,505.230   \n",
       "180799          29.000      7,843.500         СЕРЬГИ-КОНГО          7,843.500   \n",
       "180811          35.000      7,760.500               КОЛЬЦО          7,760.500   \n",
       "180817          20.000     34,694.000  ЦЕПЬ БИСМАРК ПУСТ С         34,694.000   \n",
       "\n",
       "               Phone  Себестоимость      Сумма    Услуга  Общая сумма  \n",
       "180772  +79143609510      8,420.040 10,707.000 2,193.000   12,900.000  \n",
       "180774  +79143609510     10,004.550 11,505.230 1,394.770   12,900.000  \n",
       "180799  +79245915114      2,990.160  7,843.500 1,606.500    9,450.000  \n",
       "180811  +79246833337      4,114.820  7,760.500 1,589.500    9,350.000  \n",
       "180817  +79241641575     20,501.950 34,694.000 7,106.000   41,800.000  "
      ]
     },
     "execution_count": 17,
     "metadata": {},
     "output_type": "execute_result"
    }
   ],
   "source": [
    "df_dwh.head()"
   ]
  },
  {
   "cell_type": "code",
   "execution_count": 18,
   "id": "7a815429-89ac-47de-beaa-f50f86347a4b",
   "metadata": {
    "tags": []
   },
   "outputs": [
    {
     "data": {
      "text/plain": [
       "array(['БК', 'ЦБ'], dtype=object)"
      ]
     },
     "execution_count": 18,
     "metadata": {},
     "output_type": "execute_result"
    }
   ],
   "source": [
    "df_dwh['Товарное направление'].unique()"
   ]
  },
  {
   "cell_type": "code",
   "execution_count": 19,
   "id": "5e01490c-0d74-40aa-9dbe-0dce5e2c81b0",
   "metadata": {
    "tags": []
   },
   "outputs": [
    {
     "data": {
      "text/plain": [
       "0"
      ]
     },
     "execution_count": 19,
     "metadata": {},
     "output_type": "execute_result"
    }
   ],
   "source": [
    "df_dwh['Название'].isna().sum()"
   ]
  },
  {
   "cell_type": "code",
   "execution_count": 20,
   "id": "3e78909e-d6a5-4d98-85d7-e1510f1b9a2d",
   "metadata": {
    "tags": []
   },
   "outputs": [],
   "source": [
    "df_dwh['Название'] = df_dwh['Название'].fillna('золотое изделие')"
   ]
  },
  {
   "cell_type": "code",
   "execution_count": 22,
   "id": "1cf44d59-c331-40d5-8216-bb1f8dd58c50",
   "metadata": {
    "tags": []
   },
   "outputs": [],
   "source": [
    "df_dwh = df_dwh[(~(df_dwh['Название'].str.lower().str.contains('каучук')))]\n",
    "df_dwh = df_dwh[(~(df_dwh['Название'].str.lower().str.contains('шнурок')))]\n",
    "df_dwh = df_dwh[(~(df_dwh['Название'].str.lower().str.contains('текстиль')))]\n",
    "df_dwh = df_dwh[(~(df_dwh['Название'].str.lower().str.contains('хлопок')))]\n",
    "df_dwh = df_dwh[(~(df_dwh['Название'].str.lower().str.contains('шелк')))]\n",
    "df_dwh = df_dwh[(~(df_dwh['Название'].str.lower().str.contains('на нитке')))]\n",
    "df_dwh = df_dwh[(~(df_dwh['Название'].str.lower().str.contains('кожа')))]\n",
    "df_dwh = df_dwh[(~(df_dwh['Название'].str.lower().str.contains('жемчуг')))]"
   ]
  },
  {
   "cell_type": "code",
   "execution_count": 23,
   "id": "8a714183-7177-403e-abd1-3fbfd97863e2",
   "metadata": {
    "tags": []
   },
   "outputs": [],
   "source": [
    "df_dwh['Дата'] = pd.to_datetime(df_dwh['Дата'], format='%Y-%m-%d')\n",
    "df_dwh['Дата'] = pd.to_datetime(df_dwh['Дата'].apply(lambda x: x.strftime(\"%Y-%m-%d\")))"
   ]
  },
  {
   "cell_type": "code",
   "execution_count": 24,
   "id": "ffeecf8b-cd88-4505-8517-12043a90a749",
   "metadata": {
    "tags": []
   },
   "outputs": [],
   "source": [
    "filtr_date = df_dwh['Дата'].max()"
   ]
  },
  {
   "cell_type": "code",
   "execution_count": 25,
   "id": "e2ded21d-6073-4e6f-a71c-10a234668f5b",
   "metadata": {
    "tags": []
   },
   "outputs": [
    {
     "data": {
      "text/plain": [
       "Timestamp('2024-05-27 00:00:00')"
      ]
     },
     "execution_count": 25,
     "metadata": {},
     "output_type": "execute_result"
    }
   ],
   "source": [
    "df_dwh['Дата'].min()"
   ]
  },
  {
   "cell_type": "code",
   "execution_count": 26,
   "id": "435df7ee-2e1e-4ee8-a5e3-45dbaf0b37c2",
   "metadata": {
    "tags": []
   },
   "outputs": [],
   "source": [
    "df_dwh = df_dwh.query(\"`Дата` <= @filtr_date\")"
   ]
  },
  {
   "cell_type": "code",
   "execution_count": 27,
   "id": "0b6778b1-89b3-451e-9810-d12baff754fb",
   "metadata": {
    "tags": []
   },
   "outputs": [
    {
     "data": {
      "text/plain": [
       "<DatetimeArray>\n",
       "['2024-05-27 00:00:00', '2024-05-28 00:00:00']\n",
       "Length: 2, dtype: datetime64[ns]"
      ]
     },
     "execution_count": 27,
     "metadata": {},
     "output_type": "execute_result"
    }
   ],
   "source": [
    "df_dwh['Дата'].unique()"
   ]
  },
  {
   "cell_type": "code",
   "execution_count": 28,
   "id": "91693521-f7e7-44b7-a46e-faf3a6e448ee",
   "metadata": {
    "tags": []
   },
   "outputs": [
    {
     "data": {
      "text/plain": [
       "Товарное направление\n",
       "БК    2940\n",
       "ЦБ    2404\n",
       "Name: count, dtype: int64"
      ]
     },
     "execution_count": 28,
     "metadata": {},
     "output_type": "execute_result"
    }
   ],
   "source": [
    "df_dwh['Товарное направление'].value_counts()"
   ]
  },
  {
   "cell_type": "code",
   "execution_count": 29,
   "id": "a7e37ab9-694a-4fe0-9c30-40099545004a",
   "metadata": {
    "tags": []
   },
   "outputs": [
    {
     "name": "stdout",
     "output_type": "stream",
     "text": [
      "<class 'pandas.core.frame.DataFrame'>\n",
      "Index: 5344 entries, 180772 to 224975\n",
      "Data columns (total 29 columns):\n",
      " #   Column                Non-Null Count  Dtype         \n",
      "---  ------                --------------  -----         \n",
      " 0   КБК                   5344 non-null   object        \n",
      " 1   Дата                  5344 non-null   datetime64[ns]\n",
      " 2   Продавец              5344 non-null   object        \n",
      " 3   Номер чека            5344 non-null   int64         \n",
      " 4   ID продажи            5344 non-null   object        \n",
      " 5   Тов                   5344 non-null   object        \n",
      " 6   Артикул поставщика    5344 non-null   object        \n",
      " 7   Количество            5344 non-null   int64         \n",
      " 8   Номенклатура          5344 non-null   object        \n",
      " 9   Номер карты           5140 non-null   object        \n",
      " 10  Товарная группа       5344 non-null   object        \n",
      " 11  Товарное направление  5344 non-null   object        \n",
      " 12  Тип 1                 5344 non-null   object        \n",
      " 13  Списание СберСпасибо  5344 non-null   float64       \n",
      " 14  Группа наценки        5344 non-null   object        \n",
      " 15  Вес                   5344 non-null   float64       \n",
      " 16  Проба                 5344 non-null   float64       \n",
      " 17  Размер                5344 non-null   float64       \n",
      " 18  ШК                    5344 non-null   float64       \n",
      " 19  Цена без скидки       5344 non-null   float64       \n",
      " 20  Базовая скидка        5344 non-null   float64       \n",
      " 21  Скидка в руб.         5344 non-null   float64       \n",
      " 22  Название              5344 non-null   object        \n",
      " 23  Цена после скидки     5344 non-null   float64       \n",
      " 24  Phone                 5151 non-null   object        \n",
      " 25  Себестоимость         5341 non-null   float64       \n",
      " 26  Сумма                 5344 non-null   float64       \n",
      " 27  Услуга                5344 non-null   float64       \n",
      " 28  Общая сумма           5344 non-null   float64       \n",
      "dtypes: datetime64[ns](1), float64(13), int64(2), object(13)\n",
      "memory usage: 1.2+ MB\n"
     ]
    }
   ],
   "source": [
    "df_dwh.info()"
   ]
  },
  {
   "cell_type": "code",
   "execution_count": 30,
   "id": "98344b50",
   "metadata": {},
   "outputs": [],
   "source": [
    "tn = df_dwh.groupby(by = 'Товарная группа', as_index= False)[['Себестоимость', 'Вес', 'Общая сумма']].agg('sum')"
   ]
  },
  {
   "cell_type": "code",
   "execution_count": 31,
   "id": "5d5d98ad",
   "metadata": {},
   "outputs": [],
   "source": [
    "tn['Наценка продажи оффлайн'] =  tn['Общая сумма'] / tn['Себестоимость'] - 1"
   ]
  },
  {
   "cell_type": "code",
   "execution_count": 32,
   "id": "0d2a679f",
   "metadata": {},
   "outputs": [],
   "source": [
    "tn = tn[~tn['Товарная группа'].str.contains('ОПТ БК|БК ПЕЧАТКИ|ОПТ КОНГО|ОПТ ОБРУЧИ')]"
   ]
  },
  {
   "cell_type": "code",
   "execution_count": 33,
   "id": "547bb0d2",
   "metadata": {},
   "outputs": [],
   "source": [
    "tn['price_per_gramm'] = ((tn['Общая сумма'] / tn['Вес']).round(0))"
   ]
  },
  {
   "cell_type": "code",
   "execution_count": 34,
   "id": "afc1ac9a-9c72-48fa-8b0d-8240d57ecc23",
   "metadata": {
    "tags": []
   },
   "outputs": [],
   "source": [
    "tn['price_per_gramm'] = tn['price_per_gramm'].replace(',', '')\n",
    "tn['price_per_gramm'] = tn['price_per_gramm'].astype('int')"
   ]
  },
  {
   "cell_type": "code",
   "execution_count": 35,
   "id": "2856b1a9",
   "metadata": {},
   "outputs": [
    {
     "data": {
      "text/html": [
       "<div>\n",
       "<style scoped>\n",
       "    .dataframe tbody tr th:only-of-type {\n",
       "        vertical-align: middle;\n",
       "    }\n",
       "\n",
       "    .dataframe tbody tr th {\n",
       "        vertical-align: top;\n",
       "    }\n",
       "\n",
       "    .dataframe thead th {\n",
       "        text-align: right;\n",
       "    }\n",
       "</style>\n",
       "<table border=\"1\" class=\"dataframe\">\n",
       "  <thead>\n",
       "    <tr style=\"text-align: right;\">\n",
       "      <th></th>\n",
       "      <th>Товарная группа</th>\n",
       "      <th>Себестоимость</th>\n",
       "      <th>Вес</th>\n",
       "      <th>Общая сумма</th>\n",
       "      <th>Наценка продажи оффлайн</th>\n",
       "      <th>price_per_gramm</th>\n",
       "    </tr>\n",
       "  </thead>\n",
       "  <tbody>\n",
       "    <tr>\n",
       "      <th>0</th>\n",
       "      <td>БК КОЛЬЦА</td>\n",
       "      <td>979,925.560</td>\n",
       "      <td>334.214</td>\n",
       "      <td>2,201,170.000</td>\n",
       "      <td>1.246</td>\n",
       "      <td>6586</td>\n",
       "    </tr>\n",
       "    <tr>\n",
       "      <th>1</th>\n",
       "      <td>БК КОЛЬЦА ОБРУЧ</td>\n",
       "      <td>8,595,048.140</td>\n",
       "      <td>2,955.989</td>\n",
       "      <td>18,045,055.270</td>\n",
       "      <td>1.099</td>\n",
       "      <td>6105</td>\n",
       "    </tr>\n",
       "    <tr>\n",
       "      <th>3</th>\n",
       "      <td>БК ПОДВЕС ДЕКОР</td>\n",
       "      <td>617,353.550</td>\n",
       "      <td>197.075</td>\n",
       "      <td>1,389,288.000</td>\n",
       "      <td>1.250</td>\n",
       "      <td>7050</td>\n",
       "    </tr>\n",
       "    <tr>\n",
       "      <th>4</th>\n",
       "      <td>БК ПОДВЕС КУЛЬТ</td>\n",
       "      <td>2,875,881.650</td>\n",
       "      <td>940.755</td>\n",
       "      <td>6,490,609.040</td>\n",
       "      <td>1.257</td>\n",
       "      <td>6899</td>\n",
       "    </tr>\n",
       "    <tr>\n",
       "      <th>5</th>\n",
       "      <td>БК СЕРЬГИ</td>\n",
       "      <td>2,396,601.810</td>\n",
       "      <td>785.581</td>\n",
       "      <td>5,392,223.750</td>\n",
       "      <td>1.250</td>\n",
       "      <td>6864</td>\n",
       "    </tr>\n",
       "    <tr>\n",
       "      <th>8</th>\n",
       "      <td>ЦБ БРАСЛЕТЫ</td>\n",
       "      <td>9,491,666.860</td>\n",
       "      <td>2,854.096</td>\n",
       "      <td>18,771,628.580</td>\n",
       "      <td>0.978</td>\n",
       "      <td>6577</td>\n",
       "    </tr>\n",
       "    <tr>\n",
       "      <th>9</th>\n",
       "      <td>ЦБ ЦЕПИ</td>\n",
       "      <td>18,603,445.260</td>\n",
       "      <td>5,768.846</td>\n",
       "      <td>38,966,465.830</td>\n",
       "      <td>1.095</td>\n",
       "      <td>6755</td>\n",
       "    </tr>\n",
       "  </tbody>\n",
       "</table>\n",
       "</div>"
      ],
      "text/plain": [
       "   Товарная группа  Себестоимость       Вес    Общая сумма  \\\n",
       "0        БК КОЛЬЦА    979,925.560   334.214  2,201,170.000   \n",
       "1  БК КОЛЬЦА ОБРУЧ  8,595,048.140 2,955.989 18,045,055.270   \n",
       "3  БК ПОДВЕС ДЕКОР    617,353.550   197.075  1,389,288.000   \n",
       "4  БК ПОДВЕС КУЛЬТ  2,875,881.650   940.755  6,490,609.040   \n",
       "5        БК СЕРЬГИ  2,396,601.810   785.581  5,392,223.750   \n",
       "8      ЦБ БРАСЛЕТЫ  9,491,666.860 2,854.096 18,771,628.580   \n",
       "9          ЦБ ЦЕПИ 18,603,445.260 5,768.846 38,966,465.830   \n",
       "\n",
       "   Наценка продажи оффлайн  price_per_gramm  \n",
       "0                    1.246             6586  \n",
       "1                    1.099             6105  \n",
       "3                    1.250             7050  \n",
       "4                    1.257             6899  \n",
       "5                    1.250             6864  \n",
       "8                    0.978             6577  \n",
       "9                    1.095             6755  "
      ]
     },
     "execution_count": 35,
     "metadata": {},
     "output_type": "execute_result"
    }
   ],
   "source": [
    "tn"
   ]
  },
  {
   "cell_type": "code",
   "execution_count": 36,
   "id": "0b8fae47",
   "metadata": {},
   "outputs": [
    {
     "name": "stdout",
     "output_type": "stream",
     "text": [
      "Средняя цена продажи оффлайн:  6595.0\n"
     ]
    }
   ],
   "source": [
    "print('Средняя цена продажи оффлайн: ', (tn['Общая сумма'].sum() / tn['Вес'].sum()).round(0))"
   ]
  },
  {
   "cell_type": "code",
   "execution_count": 38,
   "id": "7c9f73db",
   "metadata": {},
   "outputs": [],
   "source": [
    "tn.columns = ['tg', 'cost', 'weight', 'price', 'Наценка продажи оффлайн', 'price_per_gramm']"
   ]
  },
  {
   "cell_type": "code",
   "execution_count": 39,
   "id": "c6a2ea9e",
   "metadata": {},
   "outputs": [],
   "source": [
    "tn.to_excel(rf'\\\\gold585.int\\uk\\Общее хранилище файлов\\Служба аналитики\\Тренкин Сергей\\sales_offline\\offline_sales_{date_now}.xlsx', index = False)"
   ]
  },
  {
   "cell_type": "code",
   "execution_count": 40,
   "id": "451a4285",
   "metadata": {},
   "outputs": [],
   "source": [
    "tn = tn.drop(columns=['cost', 'weight', 'price', 'Наценка продажи оффлайн'])\n",
    "tn.columns = ['tg', '585*Золотой оффлайн продажи']"
   ]
  },
  {
   "cell_type": "code",
   "execution_count": 33,
   "id": "a9fbf8a6",
   "metadata": {},
   "outputs": [],
   "source": [
    "pd.read_excel(rf'\\\\gold585.int\\uk\\Общее хранилище файлов\\Служба аналитики\\Тренкин Сергей\\sklv_sl_data\\grouped_data\\result_{date_now}.xlsx').merge(tn, how = 'left', on = 'tg').to_excel(rf'\\\\gold585.int\\uk\\Общее хранилище файлов\\Служба аналитики\\Тренкин Сергей\\sklv_sl_data\\grouped_data\\result_{date_now}.xlsx', index=False)"
   ]
  },
  {
   "cell_type": "code",
   "execution_count": null,
   "id": "a85e8042",
   "metadata": {},
   "outputs": [],
   "source": []
  }
 ],
 "metadata": {
  "kernelspec": {
   "display_name": "Python 3 (ipykernel)",
   "language": "python",
   "name": "python3"
  },
  "language_info": {
   "codemirror_mode": {
    "name": "ipython",
    "version": 3
   },
   "file_extension": ".py",
   "mimetype": "text/x-python",
   "name": "python",
   "nbconvert_exporter": "python",
   "pygments_lexer": "ipython3",
   "version": "3.12.0"
  }
 },
 "nbformat": 4,
 "nbformat_minor": 5
}
