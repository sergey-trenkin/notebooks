{
 "cells": [
  {
   "cell_type": "code",
   "execution_count": 33,
   "id": "4364f294",
   "metadata": {
    "tags": []
   },
   "outputs": [],
   "source": [
    "import pandas as pd\n",
    "import numpy as np\n",
    "import datetime as dt\n",
    "import warnings\n",
    "import glob\n",
    "import os\n",
    "\n",
    "warnings.filterwarnings('ignore')\n",
    "pd.options.display.max_columns = None\n",
    "pd.options.display.float_format ='{:,.3f}'.format"
   ]
  },
  {
   "cell_type": "code",
   "execution_count": 34,
   "id": "a23bb8d7",
   "metadata": {},
   "outputs": [],
   "source": [
    "current_date = dt.date.today()\n",
    "day = current_date.day - 1 # данные по продажам мы получаем за предыдущий день\n",
    "month = current_date.month\n",
    "year = current_date.year"
   ]
  },
  {
   "cell_type": "code",
   "execution_count": 35,
   "id": "dbc8a52c-fe30-4824-90d6-4f3438322820",
   "metadata": {
    "tags": []
   },
   "outputs": [],
   "source": [
    "path = r'\\\\gold585.int\\uk\\Общее хранилище файлов\\Служба аналитики\\Выгрузки из DWH\\Продажи по КБК из DWH new\\\\'\n",
    "list_of_files = glob.glob(path + '\\*.xlsx') \n",
    "latest_file = max(list_of_files, key=os.path.getctime)\n",
    "\n",
    "df_dwh = pd.read_excel(latest_file)"
   ]
  },
  {
   "cell_type": "code",
   "execution_count": 36,
   "id": "3f1cacbb",
   "metadata": {},
   "outputs": [
    {
     "name": "stdout",
     "output_type": "stream",
     "text": [
      "\\\\gold585.int\\uk\\Общее хранилище файлов\\Служба аналитики\\Выгрузки из DWH\\Продажи по КБК из DWH new\\2024-06-01_2024-06-02.xlsx\n"
     ]
    }
   ],
   "source": [
    "print(latest_file)"
   ]
  },
  {
   "cell_type": "code",
   "execution_count": 37,
   "id": "4bfd7e53",
   "metadata": {},
   "outputs": [],
   "source": [
    "# мы смотрим продажи со времени последнего мониторинга, для этого определяем день недели и в зависимости от этого получаем новые данные\n",
    "data = dt.datetime.isoweekday(dt.date.today())\n",
    "date_now = dt.datetime.now().date().strftime('%d.%m.%Y')\n",
    "if data == 1:\n",
    "    last_monitoring = (dt.date.today() - dt.timedelta(days=3)).strftime('%Y-%m-%d')\n",
    "else:\n",
    "    last_monitoring = (dt.date.today() - dt.timedelta(days=2)).strftime('%Y-%m-%d')\n",
    "    \n",
    "df_dwh = df_dwh[df_dwh['Дата'] >= f'{last_monitoring}']"
   ]
  },
  {
   "cell_type": "code",
   "execution_count": 38,
   "id": "e59d5b05-8a78-43d5-b9fa-f8eca0135972",
   "metadata": {
    "tags": []
   },
   "outputs": [
    {
     "data": {
      "text/html": [
       "<div>\n",
       "<style scoped>\n",
       "    .dataframe tbody tr th:only-of-type {\n",
       "        vertical-align: middle;\n",
       "    }\n",
       "\n",
       "    .dataframe tbody tr th {\n",
       "        vertical-align: top;\n",
       "    }\n",
       "\n",
       "    .dataframe thead th {\n",
       "        text-align: right;\n",
       "    }\n",
       "</style>\n",
       "<table border=\"1\" class=\"dataframe\">\n",
       "  <thead>\n",
       "    <tr style=\"text-align: right;\">\n",
       "      <th></th>\n",
       "      <th>КБК</th>\n",
       "      <th>Дата</th>\n",
       "      <th>Продавец</th>\n",
       "      <th>Номер чека</th>\n",
       "      <th>ID продажи</th>\n",
       "      <th>Тов</th>\n",
       "      <th>Артикул поставщика</th>\n",
       "      <th>Количество</th>\n",
       "      <th>Номенклатура</th>\n",
       "      <th>Номер карты</th>\n",
       "      <th>Товарная группа</th>\n",
       "      <th>Товарное направление</th>\n",
       "      <th>Тип 1</th>\n",
       "      <th>Списание СберСпасибо</th>\n",
       "      <th>Группа наценки</th>\n",
       "      <th>Вес</th>\n",
       "      <th>Проба</th>\n",
       "      <th>Размер</th>\n",
       "      <th>ШК</th>\n",
       "      <th>Цена без скидки</th>\n",
       "      <th>Базовая скидка</th>\n",
       "      <th>Скидка в руб.</th>\n",
       "      <th>Название</th>\n",
       "      <th>Цена после скидки</th>\n",
       "      <th>Phone</th>\n",
       "      <th>Себестоимость</th>\n",
       "      <th>Сумма</th>\n",
       "      <th>Услуга</th>\n",
       "      <th>Общая сумма</th>\n",
       "    </tr>\n",
       "  </thead>\n",
       "  <tbody>\n",
       "    <tr>\n",
       "      <th>39354</th>\n",
       "      <td>4-01-152</td>\n",
       "      <td>2024-06-02 10:04:00</td>\n",
       "      <td>Елькина Екатерина Сергеевна</td>\n",
       "      <td>1011</td>\n",
       "      <td>Ch2-000847584</td>\n",
       "      <td>ТОВ1305840</td>\n",
       "      <td>КП 1</td>\n",
       "      <td>1</td>\n",
       "      <td>Футляр</td>\n",
       "      <td>9,000,212,793,937.000</td>\n",
       "      <td>NaN</td>\n",
       "      <td>ФУТЛЯРЫ</td>\n",
       "      <td>ФУТЛЯР</td>\n",
       "      <td>0</td>\n",
       "      <td>NaN</td>\n",
       "      <td>0.000</td>\n",
       "      <td>NaN</td>\n",
       "      <td>0.000</td>\n",
       "      <td>NaN</td>\n",
       "      <td>0.000</td>\n",
       "      <td>0.000</td>\n",
       "      <td>0.000</td>\n",
       "      <td>КОРОБОЧКА</td>\n",
       "      <td>0.000</td>\n",
       "      <td>(904)380-75-72</td>\n",
       "      <td>NaN</td>\n",
       "      <td>0.000</td>\n",
       "      <td>0.000</td>\n",
       "      <td>0.000</td>\n",
       "    </tr>\n",
       "    <tr>\n",
       "      <th>7636</th>\n",
       "      <td>3-04-026</td>\n",
       "      <td>2024-06-01 08:19:00</td>\n",
       "      <td>Бойко Ирина Сергеевна</td>\n",
       "      <td>2347</td>\n",
       "      <td>Ch2-000843609</td>\n",
       "      <td>ТОВ1172935</td>\n",
       "      <td>CR_BOX</td>\n",
       "      <td>1</td>\n",
       "      <td>Футляр</td>\n",
       "      <td>9,000,158,580,820.000</td>\n",
       "      <td>NaN</td>\n",
       "      <td>ФУТЛЯРЫ</td>\n",
       "      <td>ФУТЛЯР</td>\n",
       "      <td>0</td>\n",
       "      <td>NaN</td>\n",
       "      <td>0.000</td>\n",
       "      <td>NaN</td>\n",
       "      <td>0.000</td>\n",
       "      <td>NaN</td>\n",
       "      <td>0.000</td>\n",
       "      <td>0.000</td>\n",
       "      <td>0.000</td>\n",
       "      <td>КОРОБОЧКА 585*Золото</td>\n",
       "      <td>0.000</td>\n",
       "      <td>+79134383897</td>\n",
       "      <td>NaN</td>\n",
       "      <td>0.000</td>\n",
       "      <td>0.000</td>\n",
       "      <td>0.000</td>\n",
       "    </tr>\n",
       "    <tr>\n",
       "      <th>23135</th>\n",
       "      <td>6-05-020</td>\n",
       "      <td>2024-06-01 14:13:00</td>\n",
       "      <td>Романова Ольга Сергеевна</td>\n",
       "      <td>2837</td>\n",
       "      <td>Ch4-000531422</td>\n",
       "      <td>ТОВ1194920</td>\n",
       "      <td>35-0727-11-61</td>\n",
       "      <td>1</td>\n",
       "      <td>Товар</td>\n",
       "      <td>7,651,019,260,072.000</td>\n",
       "      <td>БК ПОДВЕС КУЛЬТ</td>\n",
       "      <td>БК</td>\n",
       "      <td>ПОДВЕС КУЛЬТОВЫЙ</td>\n",
       "      <td>0</td>\n",
       "      <td>ИФ.БК_СР</td>\n",
       "      <td>1.964</td>\n",
       "      <td>585.000</td>\n",
       "      <td>0.000</td>\n",
       "      <td>2,078,537,398,219.000</td>\n",
       "      <td>29,626.000</td>\n",
       "      <td>25.000</td>\n",
       "      <td>11,150.000</td>\n",
       "      <td>КРЕСТ</td>\n",
       "      <td>11,150.000</td>\n",
       "      <td>+79383466778</td>\n",
       "      <td>5,306.810</td>\n",
       "      <td>11,150.000</td>\n",
       "      <td>0.000</td>\n",
       "      <td>11,150.000</td>\n",
       "    </tr>\n",
       "    <tr>\n",
       "      <th>39726</th>\n",
       "      <td>2-09-154</td>\n",
       "      <td>2024-06-02 10:13:00</td>\n",
       "      <td>Батищева Анна Юрьевна</td>\n",
       "      <td>5222</td>\n",
       "      <td>Ch3-000794984</td>\n",
       "      <td>ТОВ1279317</td>\n",
       "      <td>15.37-50с</td>\n",
       "      <td>1</td>\n",
       "      <td>Товар</td>\n",
       "      <td>9,000,156,314,465.000</td>\n",
       "      <td>СИ СЕРЬГИ РАЗН</td>\n",
       "      <td>СИ</td>\n",
       "      <td>СЕРЬГИ-КОНГО</td>\n",
       "      <td>0</td>\n",
       "      <td>СИ_СЕРЬГИ_СРЕДН</td>\n",
       "      <td>2.909</td>\n",
       "      <td>925.000</td>\n",
       "      <td>0.000</td>\n",
       "      <td>2,078,609,922,089.000</td>\n",
       "      <td>3,314.000</td>\n",
       "      <td>40.000</td>\n",
       "      <td>1,328.000</td>\n",
       "      <td>СЕРЬГИ-КОНГО С А/Г,</td>\n",
       "      <td>1,328.000</td>\n",
       "      <td>+79067330433</td>\n",
       "      <td>619.990</td>\n",
       "      <td>1,328.000</td>\n",
       "      <td>272.000</td>\n",
       "      <td>1,600.000</td>\n",
       "    </tr>\n",
       "    <tr>\n",
       "      <th>26701</th>\n",
       "      <td>6-04-023</td>\n",
       "      <td>2024-06-01 17:14:00</td>\n",
       "      <td>Григорян Заруи Татуловна</td>\n",
       "      <td>4225</td>\n",
       "      <td>Ch4-000531790</td>\n",
       "      <td>ТОВ1163703</td>\n",
       "      <td>ANTIBACTERIAL_WIPE</td>\n",
       "      <td>1</td>\n",
       "      <td>Аксессуар футляр</td>\n",
       "      <td>4,410,024,570,230.000</td>\n",
       "      <td>NaN</td>\n",
       "      <td>ДФРС</td>\n",
       "      <td>ЧС</td>\n",
       "      <td>0</td>\n",
       "      <td>NaN</td>\n",
       "      <td>0.000</td>\n",
       "      <td>NaN</td>\n",
       "      <td>0.000</td>\n",
       "      <td>NaN</td>\n",
       "      <td>10.000</td>\n",
       "      <td>0.000</td>\n",
       "      <td>10.000</td>\n",
       "      <td>САЛФЕТКА АНТИБАКТЕРИ</td>\n",
       "      <td>10.000</td>\n",
       "      <td>+79183169737</td>\n",
       "      <td>NaN</td>\n",
       "      <td>10.000</td>\n",
       "      <td>0.000</td>\n",
       "      <td>10.000</td>\n",
       "    </tr>\n",
       "  </tbody>\n",
       "</table>\n",
       "</div>"
      ],
      "text/plain": [
       "            КБК                Дата                     Продавец  Номер чека  \\\n",
       "39354  4-01-152 2024-06-02 10:04:00  Елькина Екатерина Сергеевна        1011   \n",
       "7636   3-04-026 2024-06-01 08:19:00        Бойко Ирина Сергеевна        2347   \n",
       "23135  6-05-020 2024-06-01 14:13:00     Романова Ольга Сергеевна        2837   \n",
       "39726  2-09-154 2024-06-02 10:13:00        Батищева Анна Юрьевна        5222   \n",
       "26701  6-04-023 2024-06-01 17:14:00     Григорян Заруи Татуловна        4225   \n",
       "\n",
       "          ID продажи         Тов  Артикул поставщика  Количество  \\\n",
       "39354  Ch2-000847584  ТОВ1305840                КП 1           1   \n",
       "7636   Ch2-000843609  ТОВ1172935              CR_BOX           1   \n",
       "23135  Ch4-000531422  ТОВ1194920       35-0727-11-61           1   \n",
       "39726  Ch3-000794984  ТОВ1279317           15.37-50с           1   \n",
       "26701  Ch4-000531790  ТОВ1163703  ANTIBACTERIAL_WIPE           1   \n",
       "\n",
       "           Номенклатура           Номер карты  Товарная группа  \\\n",
       "39354            Футляр 9,000,212,793,937.000              NaN   \n",
       "7636             Футляр 9,000,158,580,820.000              NaN   \n",
       "23135             Товар 7,651,019,260,072.000  БК ПОДВЕС КУЛЬТ   \n",
       "39726             Товар 9,000,156,314,465.000   СИ СЕРЬГИ РАЗН   \n",
       "26701  Аксессуар футляр 4,410,024,570,230.000              NaN   \n",
       "\n",
       "      Товарное направление             Тип 1  Списание СберСпасибо  \\\n",
       "39354              ФУТЛЯРЫ            ФУТЛЯР                     0   \n",
       "7636               ФУТЛЯРЫ            ФУТЛЯР                     0   \n",
       "23135                   БК  ПОДВЕС КУЛЬТОВЫЙ                     0   \n",
       "39726                   СИ      СЕРЬГИ-КОНГО                     0   \n",
       "26701                 ДФРС                ЧС                     0   \n",
       "\n",
       "        Группа наценки   Вес   Проба  Размер                    ШК  \\\n",
       "39354              NaN 0.000     NaN   0.000                   NaN   \n",
       "7636               NaN 0.000     NaN   0.000                   NaN   \n",
       "23135         ИФ.БК_СР 1.964 585.000   0.000 2,078,537,398,219.000   \n",
       "39726  СИ_СЕРЬГИ_СРЕДН 2.909 925.000   0.000 2,078,609,922,089.000   \n",
       "26701              NaN 0.000     NaN   0.000                   NaN   \n",
       "\n",
       "       Цена без скидки  Базовая скидка  Скидка в руб.              Название  \\\n",
       "39354            0.000           0.000          0.000             КОРОБОЧКА   \n",
       "7636             0.000           0.000          0.000  КОРОБОЧКА 585*Золото   \n",
       "23135       29,626.000          25.000     11,150.000                 КРЕСТ   \n",
       "39726        3,314.000          40.000      1,328.000   СЕРЬГИ-КОНГО С А/Г,   \n",
       "26701           10.000           0.000         10.000  САЛФЕТКА АНТИБАКТЕРИ   \n",
       "\n",
       "       Цена после скидки           Phone  Себестоимость      Сумма  Услуга  \\\n",
       "39354              0.000  (904)380-75-72            NaN      0.000   0.000   \n",
       "7636               0.000    +79134383897            NaN      0.000   0.000   \n",
       "23135         11,150.000    +79383466778      5,306.810 11,150.000   0.000   \n",
       "39726          1,328.000    +79067330433        619.990  1,328.000 272.000   \n",
       "26701             10.000    +79183169737            NaN     10.000   0.000   \n",
       "\n",
       "       Общая сумма  \n",
       "39354        0.000  \n",
       "7636         0.000  \n",
       "23135   11,150.000  \n",
       "39726    1,600.000  \n",
       "26701       10.000  "
      ]
     },
     "execution_count": 38,
     "metadata": {},
     "output_type": "execute_result"
    }
   ],
   "source": [
    "df_dwh.sample(5)"
   ]
  },
  {
   "cell_type": "code",
   "execution_count": 39,
   "id": "d04d0d1d",
   "metadata": {},
   "outputs": [
    {
     "data": {
      "text/plain": [
       "Товарная группа\n",
       "False    25061\n",
       "True     10286\n",
       "Name: count, dtype: int64"
      ]
     },
     "execution_count": 39,
     "metadata": {},
     "output_type": "execute_result"
    }
   ],
   "source": [
    "df_dwh['Товарная группа'].str.contains('ЦБ|БК').value_counts()"
   ]
  },
  {
   "cell_type": "code",
   "execution_count": 40,
   "id": "2fd04cca-80c4-4902-93a5-9d63d044b21d",
   "metadata": {
    "tags": []
   },
   "outputs": [],
   "source": [
    "df_dwh = df_dwh[(df_dwh['Товарное направление'].isin(['БК', 'ЦБ'])) & (df_dwh['Проба'] == 585.0)]"
   ]
  },
  {
   "cell_type": "code",
   "execution_count": 41,
   "id": "31ec5a9d-6866-4c10-8329-f9ec20f6fb7c",
   "metadata": {
    "tags": []
   },
   "outputs": [
    {
     "data": {
      "text/html": [
       "<div>\n",
       "<style scoped>\n",
       "    .dataframe tbody tr th:only-of-type {\n",
       "        vertical-align: middle;\n",
       "    }\n",
       "\n",
       "    .dataframe tbody tr th {\n",
       "        vertical-align: top;\n",
       "    }\n",
       "\n",
       "    .dataframe thead th {\n",
       "        text-align: right;\n",
       "    }\n",
       "</style>\n",
       "<table border=\"1\" class=\"dataframe\">\n",
       "  <thead>\n",
       "    <tr style=\"text-align: right;\">\n",
       "      <th></th>\n",
       "      <th>КБК</th>\n",
       "      <th>Дата</th>\n",
       "      <th>Продавец</th>\n",
       "      <th>Номер чека</th>\n",
       "      <th>ID продажи</th>\n",
       "      <th>Тов</th>\n",
       "      <th>Артикул поставщика</th>\n",
       "      <th>Количество</th>\n",
       "      <th>Номенклатура</th>\n",
       "      <th>Номер карты</th>\n",
       "      <th>Товарная группа</th>\n",
       "      <th>Товарное направление</th>\n",
       "      <th>Тип 1</th>\n",
       "      <th>Списание СберСпасибо</th>\n",
       "      <th>Группа наценки</th>\n",
       "      <th>Вес</th>\n",
       "      <th>Проба</th>\n",
       "      <th>Размер</th>\n",
       "      <th>ШК</th>\n",
       "      <th>Цена без скидки</th>\n",
       "      <th>Базовая скидка</th>\n",
       "      <th>Скидка в руб.</th>\n",
       "      <th>Название</th>\n",
       "      <th>Цена после скидки</th>\n",
       "      <th>Phone</th>\n",
       "      <th>Себестоимость</th>\n",
       "      <th>Сумма</th>\n",
       "      <th>Услуга</th>\n",
       "      <th>Общая сумма</th>\n",
       "    </tr>\n",
       "  </thead>\n",
       "  <tbody>\n",
       "    <tr>\n",
       "      <th>7</th>\n",
       "      <td>3-09-042</td>\n",
       "      <td>2024-06-01 00:09:00</td>\n",
       "      <td>Крюкова Лалита Михайловна</td>\n",
       "      <td>3333</td>\n",
       "      <td>Ch2-000841987</td>\n",
       "      <td>ТОВ01262494</td>\n",
       "      <td>431-01-0080-30200</td>\n",
       "      <td>1</td>\n",
       "      <td>Товар</td>\n",
       "      <td>9,000,212,647,704.000</td>\n",
       "      <td>ЦБ БРАСЛЕТЫ</td>\n",
       "      <td>ЦБ</td>\n",
       "      <td>БРАСЛЕТ</td>\n",
       "      <td>0</td>\n",
       "      <td>ЦБ_ПУСТОТЕЛЫЕ &gt;3 ГРАММ</td>\n",
       "      <td>3.699</td>\n",
       "      <td>585.000</td>\n",
       "      <td>19.000</td>\n",
       "      <td>2,078,607,116,334.000</td>\n",
       "      <td>61,320.000</td>\n",
       "      <td>11.000</td>\n",
       "      <td>0.000</td>\n",
       "      <td>БРАСЛЕТ НОННА ПУСТ С</td>\n",
       "      <td>22,659.000</td>\n",
       "      <td>(962)501-21-73</td>\n",
       "      <td>14,142.610</td>\n",
       "      <td>22,659.000</td>\n",
       "      <td>4,641.000</td>\n",
       "      <td>27,300.000</td>\n",
       "    </tr>\n",
       "    <tr>\n",
       "      <th>15</th>\n",
       "      <td>3-09-030</td>\n",
       "      <td>2024-06-01 00:20:00</td>\n",
       "      <td>Рудинская Юлия Андреевна</td>\n",
       "      <td>4056</td>\n",
       "      <td>Ch2-000841989</td>\n",
       "      <td>ТОВ1111769</td>\n",
       "      <td>41-01-0050-30176</td>\n",
       "      <td>1</td>\n",
       "      <td>Товар</td>\n",
       "      <td>9,000,075,257,614.000</td>\n",
       "      <td>ЦБ БРАСЛЕТЫ</td>\n",
       "      <td>ЦБ</td>\n",
       "      <td>БРАСЛЕТ</td>\n",
       "      <td>0</td>\n",
       "      <td>ЦБ_ПУСТОТЕЛЫЕ &lt;=1,5 ГРАММ</td>\n",
       "      <td>1.288</td>\n",
       "      <td>585.000</td>\n",
       "      <td>17.000</td>\n",
       "      <td>2,078,485,371,906.000</td>\n",
       "      <td>24,809.000</td>\n",
       "      <td>41.000</td>\n",
       "      <td>0.000</td>\n",
       "      <td>БРАСЛЕТ РОМБ ДВОЙНОЙ</td>\n",
       "      <td>6,100.500</td>\n",
       "      <td>+79962635549</td>\n",
       "      <td>2,379.790</td>\n",
       "      <td>6,100.500</td>\n",
       "      <td>1,249.500</td>\n",
       "      <td>7,350.000</td>\n",
       "    </tr>\n",
       "    <tr>\n",
       "      <th>22</th>\n",
       "      <td>3-09-049</td>\n",
       "      <td>2024-06-01 00:43:00</td>\n",
       "      <td>Вербицкая Лилия Игоревна</td>\n",
       "      <td>3960</td>\n",
       "      <td>Ch2-000842011</td>\n",
       "      <td>ТОВ0880614</td>\n",
       "      <td>12.15_10</td>\n",
       "      <td>1</td>\n",
       "      <td>Товар</td>\n",
       "      <td>9,000,212,647,995.000</td>\n",
       "      <td>БК СЕРЬГИ</td>\n",
       "      <td>БК</td>\n",
       "      <td>СЕРЬГИ-КОНГО</td>\n",
       "      <td>0</td>\n",
       "      <td>ИФ.БК_ДЕШ</td>\n",
       "      <td>0.530</td>\n",
       "      <td>585.000</td>\n",
       "      <td>1.000</td>\n",
       "      <td>2,078,610,412,121.000</td>\n",
       "      <td>11,472.000</td>\n",
       "      <td>35.000</td>\n",
       "      <td>0.000</td>\n",
       "      <td>СЕРЬГИ-КОНГО</td>\n",
       "      <td>4,980.000</td>\n",
       "      <td>(994)104-97-51</td>\n",
       "      <td>1,696.310</td>\n",
       "      <td>4,980.000</td>\n",
       "      <td>1,020.000</td>\n",
       "      <td>6,000.000</td>\n",
       "    </tr>\n",
       "    <tr>\n",
       "      <th>29</th>\n",
       "      <td>3-09-019</td>\n",
       "      <td>2024-06-01 00:46:00</td>\n",
       "      <td>Лебединская Екатерина Сергеевна</td>\n",
       "      <td>3643</td>\n",
       "      <td>Ch2-000841990</td>\n",
       "      <td>ТОВ1172647</td>\n",
       "      <td>51-33-0000-28661</td>\n",
       "      <td>1</td>\n",
       "      <td>Товар</td>\n",
       "      <td>7,670,004,954,505.000</td>\n",
       "      <td>БК ПОДВЕС КУЛЬТ</td>\n",
       "      <td>БК</td>\n",
       "      <td>ПОДВЕС КУЛЬТОВЫЙ</td>\n",
       "      <td>0</td>\n",
       "      <td>ИФ.БК_ДЕШ</td>\n",
       "      <td>0.696</td>\n",
       "      <td>585.000</td>\n",
       "      <td>0.000</td>\n",
       "      <td>2,078,607,595,846.000</td>\n",
       "      <td>16,543.000</td>\n",
       "      <td>29.000</td>\n",
       "      <td>0.000</td>\n",
       "      <td>КРЕСТ</td>\n",
       "      <td>7,055.000</td>\n",
       "      <td>+79144805050</td>\n",
       "      <td>2,461.610</td>\n",
       "      <td>7,055.000</td>\n",
       "      <td>1,445.000</td>\n",
       "      <td>8,500.000</td>\n",
       "    </tr>\n",
       "    <tr>\n",
       "      <th>46</th>\n",
       "      <td>3-09-052</td>\n",
       "      <td>2024-06-01 01:09:00</td>\n",
       "      <td>Носкова Василиса Андреевна</td>\n",
       "      <td>1759</td>\n",
       "      <td>Ch2-000842002</td>\n",
       "      <td>ТОВ1163406</td>\n",
       "      <td>41-01-0060-30176</td>\n",
       "      <td>1</td>\n",
       "      <td>Товар</td>\n",
       "      <td>5,851,010,186,575.000</td>\n",
       "      <td>ЦБ БРАСЛЕТЫ</td>\n",
       "      <td>ЦБ</td>\n",
       "      <td>БРАСЛЕТ</td>\n",
       "      <td>0</td>\n",
       "      <td>ЦБ_ПУСТОТЕЛЫЕ &lt;=3 ГРАММ</td>\n",
       "      <td>2.298</td>\n",
       "      <td>585.000</td>\n",
       "      <td>19.000</td>\n",
       "      <td>2,078,531,363,596.000</td>\n",
       "      <td>39,085.000</td>\n",
       "      <td>15.000</td>\n",
       "      <td>0.000</td>\n",
       "      <td>БРАСЛЕТ РОМБ ДВОЙНОЙ</td>\n",
       "      <td>13,819.500</td>\n",
       "      <td>(924)153-71-41</td>\n",
       "      <td>6,128.840</td>\n",
       "      <td>13,819.500</td>\n",
       "      <td>2,830.500</td>\n",
       "      <td>16,650.000</td>\n",
       "    </tr>\n",
       "  </tbody>\n",
       "</table>\n",
       "</div>"
      ],
      "text/plain": [
       "         КБК                Дата                         Продавец  Номер чека  \\\n",
       "7   3-09-042 2024-06-01 00:09:00        Крюкова Лалита Михайловна        3333   \n",
       "15  3-09-030 2024-06-01 00:20:00         Рудинская Юлия Андреевна        4056   \n",
       "22  3-09-049 2024-06-01 00:43:00         Вербицкая Лилия Игоревна        3960   \n",
       "29  3-09-019 2024-06-01 00:46:00  Лебединская Екатерина Сергеевна        3643   \n",
       "46  3-09-052 2024-06-01 01:09:00       Носкова Василиса Андреевна        1759   \n",
       "\n",
       "       ID продажи          Тов Артикул поставщика  Количество Номенклатура  \\\n",
       "7   Ch2-000841987  ТОВ01262494  431-01-0080-30200           1        Товар   \n",
       "15  Ch2-000841989   ТОВ1111769   41-01-0050-30176           1        Товар   \n",
       "22  Ch2-000842011   ТОВ0880614           12.15_10           1        Товар   \n",
       "29  Ch2-000841990   ТОВ1172647   51-33-0000-28661           1        Товар   \n",
       "46  Ch2-000842002   ТОВ1163406   41-01-0060-30176           1        Товар   \n",
       "\n",
       "             Номер карты  Товарная группа Товарное направление  \\\n",
       "7  9,000,212,647,704.000      ЦБ БРАСЛЕТЫ                   ЦБ   \n",
       "15 9,000,075,257,614.000      ЦБ БРАСЛЕТЫ                   ЦБ   \n",
       "22 9,000,212,647,995.000        БК СЕРЬГИ                   БК   \n",
       "29 7,670,004,954,505.000  БК ПОДВЕС КУЛЬТ                   БК   \n",
       "46 5,851,010,186,575.000      ЦБ БРАСЛЕТЫ                   ЦБ   \n",
       "\n",
       "               Тип 1  Списание СберСпасибо             Группа наценки   Вес  \\\n",
       "7            БРАСЛЕТ                     0     ЦБ_ПУСТОТЕЛЫЕ >3 ГРАММ 3.699   \n",
       "15           БРАСЛЕТ                     0  ЦБ_ПУСТОТЕЛЫЕ <=1,5 ГРАММ 1.288   \n",
       "22      СЕРЬГИ-КОНГО                     0                  ИФ.БК_ДЕШ 0.530   \n",
       "29  ПОДВЕС КУЛЬТОВЫЙ                     0                  ИФ.БК_ДЕШ 0.696   \n",
       "46           БРАСЛЕТ                     0    ЦБ_ПУСТОТЕЛЫЕ <=3 ГРАММ 2.298   \n",
       "\n",
       "     Проба  Размер                    ШК  Цена без скидки  Базовая скидка  \\\n",
       "7  585.000  19.000 2,078,607,116,334.000       61,320.000          11.000   \n",
       "15 585.000  17.000 2,078,485,371,906.000       24,809.000          41.000   \n",
       "22 585.000   1.000 2,078,610,412,121.000       11,472.000          35.000   \n",
       "29 585.000   0.000 2,078,607,595,846.000       16,543.000          29.000   \n",
       "46 585.000  19.000 2,078,531,363,596.000       39,085.000          15.000   \n",
       "\n",
       "    Скидка в руб.              Название  Цена после скидки           Phone  \\\n",
       "7           0.000  БРАСЛЕТ НОННА ПУСТ С         22,659.000  (962)501-21-73   \n",
       "15          0.000  БРАСЛЕТ РОМБ ДВОЙНОЙ          6,100.500    +79962635549   \n",
       "22          0.000          СЕРЬГИ-КОНГО          4,980.000  (994)104-97-51   \n",
       "29          0.000                 КРЕСТ          7,055.000    +79144805050   \n",
       "46          0.000  БРАСЛЕТ РОМБ ДВОЙНОЙ         13,819.500  (924)153-71-41   \n",
       "\n",
       "    Себестоимость      Сумма    Услуга  Общая сумма  \n",
       "7      14,142.610 22,659.000 4,641.000   27,300.000  \n",
       "15      2,379.790  6,100.500 1,249.500    7,350.000  \n",
       "22      1,696.310  4,980.000 1,020.000    6,000.000  \n",
       "29      2,461.610  7,055.000 1,445.000    8,500.000  \n",
       "46      6,128.840 13,819.500 2,830.500   16,650.000  "
      ]
     },
     "execution_count": 41,
     "metadata": {},
     "output_type": "execute_result"
    }
   ],
   "source": [
    "df_dwh.head()"
   ]
  },
  {
   "cell_type": "code",
   "execution_count": 42,
   "id": "7a815429-89ac-47de-beaa-f50f86347a4b",
   "metadata": {
    "tags": []
   },
   "outputs": [
    {
     "data": {
      "text/plain": [
       "array(['ЦБ', 'БК'], dtype=object)"
      ]
     },
     "execution_count": 42,
     "metadata": {},
     "output_type": "execute_result"
    }
   ],
   "source": [
    "df_dwh['Товарное направление'].unique()"
   ]
  },
  {
   "cell_type": "code",
   "execution_count": 43,
   "id": "5e01490c-0d74-40aa-9dbe-0dce5e2c81b0",
   "metadata": {
    "tags": []
   },
   "outputs": [
    {
     "data": {
      "text/plain": [
       "0"
      ]
     },
     "execution_count": 43,
     "metadata": {},
     "output_type": "execute_result"
    }
   ],
   "source": [
    "df_dwh['Название'].isna().sum()"
   ]
  },
  {
   "cell_type": "code",
   "execution_count": 44,
   "id": "3e78909e-d6a5-4d98-85d7-e1510f1b9a2d",
   "metadata": {
    "tags": []
   },
   "outputs": [],
   "source": [
    "df_dwh['Название'] = df_dwh['Название'].fillna('золотое изделие')"
   ]
  },
  {
   "cell_type": "code",
   "execution_count": 45,
   "id": "1cf44d59-c331-40d5-8216-bb1f8dd58c50",
   "metadata": {
    "tags": []
   },
   "outputs": [],
   "source": [
    "df_dwh = df_dwh[(~(df_dwh['Название'].str.lower().str.contains('каучук')))]\n",
    "df_dwh = df_dwh[(~(df_dwh['Название'].str.lower().str.contains('шнурок')))]\n",
    "df_dwh = df_dwh[(~(df_dwh['Название'].str.lower().str.contains('текстиль')))]\n",
    "df_dwh = df_dwh[(~(df_dwh['Название'].str.lower().str.contains('хлопок')))]\n",
    "df_dwh = df_dwh[(~(df_dwh['Название'].str.lower().str.contains('шелк')))]\n",
    "df_dwh = df_dwh[(~(df_dwh['Название'].str.lower().str.contains('на нитке')))]\n",
    "df_dwh = df_dwh[(~(df_dwh['Название'].str.lower().str.contains('кожа')))]\n",
    "df_dwh = df_dwh[(~(df_dwh['Название'].str.lower().str.contains('жемчуг')))]"
   ]
  },
  {
   "cell_type": "code",
   "execution_count": 46,
   "id": "8a714183-7177-403e-abd1-3fbfd97863e2",
   "metadata": {
    "tags": []
   },
   "outputs": [],
   "source": [
    "df_dwh['Дата'] = pd.to_datetime(df_dwh['Дата'], format='%Y-%m-%d')\n",
    "df_dwh['Дата'] = pd.to_datetime(df_dwh['Дата'].apply(lambda x: x.strftime(\"%Y-%m-%d\")))"
   ]
  },
  {
   "cell_type": "code",
   "execution_count": 47,
   "id": "ffeecf8b-cd88-4505-8517-12043a90a749",
   "metadata": {
    "tags": []
   },
   "outputs": [],
   "source": [
    "filtr_date = df_dwh['Дата'].max()"
   ]
  },
  {
   "cell_type": "code",
   "execution_count": 48,
   "id": "e2ded21d-6073-4e6f-a71c-10a234668f5b",
   "metadata": {
    "tags": []
   },
   "outputs": [
    {
     "data": {
      "text/plain": [
       "Timestamp('2024-06-01 00:00:00')"
      ]
     },
     "execution_count": 48,
     "metadata": {},
     "output_type": "execute_result"
    }
   ],
   "source": [
    "df_dwh['Дата'].min()"
   ]
  },
  {
   "cell_type": "code",
   "execution_count": 49,
   "id": "435df7ee-2e1e-4ee8-a5e3-45dbaf0b37c2",
   "metadata": {
    "tags": []
   },
   "outputs": [],
   "source": [
    "df_dwh = df_dwh.query(\"`Дата` <= @filtr_date\")"
   ]
  },
  {
   "cell_type": "code",
   "execution_count": 50,
   "id": "0b6778b1-89b3-451e-9810-d12baff754fb",
   "metadata": {
    "tags": []
   },
   "outputs": [
    {
     "data": {
      "text/plain": [
       "<DatetimeArray>\n",
       "['2024-06-01 00:00:00', '2024-06-02 00:00:00']\n",
       "Length: 2, dtype: datetime64[ns]"
      ]
     },
     "execution_count": 50,
     "metadata": {},
     "output_type": "execute_result"
    }
   ],
   "source": [
    "df_dwh['Дата'].unique()"
   ]
  },
  {
   "cell_type": "code",
   "execution_count": 51,
   "id": "91693521-f7e7-44b7-a46e-faf3a6e448ee",
   "metadata": {
    "tags": []
   },
   "outputs": [
    {
     "data": {
      "text/plain": [
       "Товарное направление\n",
       "БК    3775\n",
       "ЦБ    2812\n",
       "Name: count, dtype: int64"
      ]
     },
     "execution_count": 51,
     "metadata": {},
     "output_type": "execute_result"
    }
   ],
   "source": [
    "df_dwh['Товарное направление'].value_counts()"
   ]
  },
  {
   "cell_type": "code",
   "execution_count": 52,
   "id": "a7e37ab9-694a-4fe0-9c30-40099545004a",
   "metadata": {
    "tags": []
   },
   "outputs": [
    {
     "name": "stdout",
     "output_type": "stream",
     "text": [
      "<class 'pandas.core.frame.DataFrame'>\n",
      "Index: 6587 entries, 7 to 52422\n",
      "Data columns (total 29 columns):\n",
      " #   Column                Non-Null Count  Dtype         \n",
      "---  ------                --------------  -----         \n",
      " 0   КБК                   6587 non-null   object        \n",
      " 1   Дата                  6587 non-null   datetime64[ns]\n",
      " 2   Продавец              6587 non-null   object        \n",
      " 3   Номер чека            6587 non-null   int64         \n",
      " 4   ID продажи            6587 non-null   object        \n",
      " 5   Тов                   6587 non-null   object        \n",
      " 6   Артикул поставщика    6587 non-null   object        \n",
      " 7   Количество            6587 non-null   int64         \n",
      " 8   Номенклатура          6587 non-null   object        \n",
      " 9   Номер карты           6369 non-null   float64       \n",
      " 10  Товарная группа       6587 non-null   object        \n",
      " 11  Товарное направление  6587 non-null   object        \n",
      " 12  Тип 1                 6587 non-null   object        \n",
      " 13  Списание СберСпасибо  6587 non-null   int64         \n",
      " 14  Группа наценки        6587 non-null   object        \n",
      " 15  Вес                   6587 non-null   float64       \n",
      " 16  Проба                 6587 non-null   float64       \n",
      " 17  Размер                6587 non-null   float64       \n",
      " 18  ШК                    6587 non-null   float64       \n",
      " 19  Цена без скидки       6587 non-null   float64       \n",
      " 20  Базовая скидка        6587 non-null   float64       \n",
      " 21  Скидка в руб.         6587 non-null   float64       \n",
      " 22  Название              6587 non-null   object        \n",
      " 23  Цена после скидки     6587 non-null   float64       \n",
      " 24  Phone                 6377 non-null   object        \n",
      " 25  Себестоимость         6587 non-null   float64       \n",
      " 26  Сумма                 6587 non-null   float64       \n",
      " 27  Услуга                6587 non-null   float64       \n",
      " 28  Общая сумма           6587 non-null   float64       \n",
      "dtypes: datetime64[ns](1), float64(13), int64(3), object(12)\n",
      "memory usage: 1.5+ MB\n"
     ]
    }
   ],
   "source": [
    "df_dwh.info()"
   ]
  },
  {
   "cell_type": "code",
   "execution_count": 53,
   "id": "98344b50",
   "metadata": {},
   "outputs": [],
   "source": [
    "tn = df_dwh.groupby(by = 'Товарная группа', as_index= False)[['Себестоимость', 'Вес', 'Общая сумма']].agg('sum')"
   ]
  },
  {
   "cell_type": "code",
   "execution_count": 54,
   "id": "5d5d98ad",
   "metadata": {},
   "outputs": [],
   "source": [
    "tn['Наценка продажи оффлайн'] =  tn['Общая сумма'] / tn['Себестоимость'] - 1"
   ]
  },
  {
   "cell_type": "code",
   "execution_count": 55,
   "id": "0d2a679f",
   "metadata": {},
   "outputs": [],
   "source": [
    "tn = tn[~tn['Товарная группа'].str.contains('ОПТ БК|БК ПЕЧАТКИ|ОПТ КОНГО|ОПТ ОБРУЧИ')]"
   ]
  },
  {
   "cell_type": "code",
   "execution_count": 56,
   "id": "547bb0d2",
   "metadata": {},
   "outputs": [],
   "source": [
    "tn['price_per_gramm'] = ((tn['Общая сумма'] / tn['Вес']).round(0))"
   ]
  },
  {
   "cell_type": "code",
   "execution_count": 57,
   "id": "afc1ac9a-9c72-48fa-8b0d-8240d57ecc23",
   "metadata": {
    "tags": []
   },
   "outputs": [],
   "source": [
    "tn['price_per_gramm'] = tn['price_per_gramm'].replace(',', '')\n",
    "tn['price_per_gramm'] = tn['price_per_gramm'].astype('int')"
   ]
  },
  {
   "cell_type": "code",
   "execution_count": 58,
   "id": "2856b1a9",
   "metadata": {},
   "outputs": [
    {
     "data": {
      "text/html": [
       "<div>\n",
       "<style scoped>\n",
       "    .dataframe tbody tr th:only-of-type {\n",
       "        vertical-align: middle;\n",
       "    }\n",
       "\n",
       "    .dataframe tbody tr th {\n",
       "        vertical-align: top;\n",
       "    }\n",
       "\n",
       "    .dataframe thead th {\n",
       "        text-align: right;\n",
       "    }\n",
       "</style>\n",
       "<table border=\"1\" class=\"dataframe\">\n",
       "  <thead>\n",
       "    <tr style=\"text-align: right;\">\n",
       "      <th></th>\n",
       "      <th>Товарная группа</th>\n",
       "      <th>Себестоимость</th>\n",
       "      <th>Вес</th>\n",
       "      <th>Общая сумма</th>\n",
       "      <th>Наценка продажи оффлайн</th>\n",
       "      <th>price_per_gramm</th>\n",
       "    </tr>\n",
       "  </thead>\n",
       "  <tbody>\n",
       "    <tr>\n",
       "      <th>0</th>\n",
       "      <td>БК КОЛЬЦА</td>\n",
       "      <td>1,308,177.100</td>\n",
       "      <td>469.666</td>\n",
       "      <td>3,056,950.000</td>\n",
       "      <td>1.337</td>\n",
       "      <td>6509</td>\n",
       "    </tr>\n",
       "    <tr>\n",
       "      <th>1</th>\n",
       "      <td>БК КОЛЬЦА ОБРУЧ</td>\n",
       "      <td>11,635,790.080</td>\n",
       "      <td>3,985.336</td>\n",
       "      <td>24,761,769.510</td>\n",
       "      <td>1.128</td>\n",
       "      <td>6213</td>\n",
       "    </tr>\n",
       "    <tr>\n",
       "      <th>3</th>\n",
       "      <td>БК ПОДВЕС ДЕКОР</td>\n",
       "      <td>972,405.800</td>\n",
       "      <td>312.908</td>\n",
       "      <td>2,173,434.530</td>\n",
       "      <td>1.235</td>\n",
       "      <td>6946</td>\n",
       "    </tr>\n",
       "    <tr>\n",
       "      <th>4</th>\n",
       "      <td>БК ПОДВЕС КУЛЬТ</td>\n",
       "      <td>3,251,100.430</td>\n",
       "      <td>1,044.551</td>\n",
       "      <td>7,404,824.000</td>\n",
       "      <td>1.278</td>\n",
       "      <td>7089</td>\n",
       "    </tr>\n",
       "    <tr>\n",
       "      <th>5</th>\n",
       "      <td>БК СЕРЬГИ</td>\n",
       "      <td>3,212,335.810</td>\n",
       "      <td>1,035.866</td>\n",
       "      <td>7,190,266.290</td>\n",
       "      <td>1.238</td>\n",
       "      <td>6941</td>\n",
       "    </tr>\n",
       "    <tr>\n",
       "      <th>9</th>\n",
       "      <td>ЦБ БРАСЛЕТЫ</td>\n",
       "      <td>11,547,721.650</td>\n",
       "      <td>3,527.227</td>\n",
       "      <td>23,405,544.700</td>\n",
       "      <td>1.027</td>\n",
       "      <td>6636</td>\n",
       "    </tr>\n",
       "    <tr>\n",
       "      <th>10</th>\n",
       "      <td>ЦБ ЦЕПИ</td>\n",
       "      <td>21,462,854.760</td>\n",
       "      <td>6,591.130</td>\n",
       "      <td>44,539,015.040</td>\n",
       "      <td>1.075</td>\n",
       "      <td>6757</td>\n",
       "    </tr>\n",
       "  </tbody>\n",
       "</table>\n",
       "</div>"
      ],
      "text/plain": [
       "    Товарная группа  Себестоимость       Вес    Общая сумма  \\\n",
       "0         БК КОЛЬЦА  1,308,177.100   469.666  3,056,950.000   \n",
       "1   БК КОЛЬЦА ОБРУЧ 11,635,790.080 3,985.336 24,761,769.510   \n",
       "3   БК ПОДВЕС ДЕКОР    972,405.800   312.908  2,173,434.530   \n",
       "4   БК ПОДВЕС КУЛЬТ  3,251,100.430 1,044.551  7,404,824.000   \n",
       "5         БК СЕРЬГИ  3,212,335.810 1,035.866  7,190,266.290   \n",
       "9       ЦБ БРАСЛЕТЫ 11,547,721.650 3,527.227 23,405,544.700   \n",
       "10          ЦБ ЦЕПИ 21,462,854.760 6,591.130 44,539,015.040   \n",
       "\n",
       "    Наценка продажи оффлайн  price_per_gramm  \n",
       "0                     1.337             6509  \n",
       "1                     1.128             6213  \n",
       "3                     1.235             6946  \n",
       "4                     1.278             7089  \n",
       "5                     1.238             6941  \n",
       "9                     1.027             6636  \n",
       "10                    1.075             6757  "
      ]
     },
     "execution_count": 58,
     "metadata": {},
     "output_type": "execute_result"
    }
   ],
   "source": [
    "tn"
   ]
  },
  {
   "cell_type": "code",
   "execution_count": 59,
   "id": "0b8fae47",
   "metadata": {},
   "outputs": [
    {
     "name": "stdout",
     "output_type": "stream",
     "text": [
      "Средняя цена продажи оффлайн:  6633.0\n"
     ]
    }
   ],
   "source": [
    "print('Средняя цена продажи оффлайн: ', (tn['Общая сумма'].sum() / tn['Вес'].sum()).round(0))"
   ]
  },
  {
   "cell_type": "code",
   "execution_count": 60,
   "id": "7c9f73db",
   "metadata": {},
   "outputs": [],
   "source": [
    "tn.columns = ['tg', 'cost', 'weight', 'price', 'Наценка продажи оффлайн', 'price_per_gramm']"
   ]
  },
  {
   "cell_type": "code",
   "execution_count": 61,
   "id": "c6a2ea9e",
   "metadata": {},
   "outputs": [],
   "source": [
    "tn.to_excel(rf'\\\\gold585.int\\uk\\Общее хранилище файлов\\Служба аналитики\\Тренкин Сергей\\sales_offline\\offline_sales_{date_now}.xlsx', index = False)"
   ]
  },
  {
   "cell_type": "code",
   "execution_count": 62,
   "id": "451a4285",
   "metadata": {},
   "outputs": [],
   "source": [
    "tn = tn.drop(columns=['cost', 'weight', 'price', 'Наценка продажи оффлайн'])\n",
    "tn.columns = ['tg', '585*Золотой оффлайн продажи']"
   ]
  },
  {
   "cell_type": "code",
   "execution_count": 63,
   "id": "a9fbf8a6",
   "metadata": {},
   "outputs": [],
   "source": [
    "pd.read_excel(rf'\\\\gold585.int\\uk\\Общее хранилище файлов\\Служба аналитики\\Тренкин Сергей\\sklv_sl_data\\grouped_data\\result_{date_now}.xlsx').merge(tn, how = 'left', on = 'tg').to_excel(rf'\\\\gold585.int\\uk\\Общее хранилище файлов\\Служба аналитики\\Тренкин Сергей\\sklv_sl_data\\grouped_data\\result_{date_now}.xlsx', index=False)"
   ]
  },
  {
   "cell_type": "code",
   "execution_count": null,
   "id": "a85e8042",
   "metadata": {},
   "outputs": [],
   "source": []
  }
 ],
 "metadata": {
  "kernelspec": {
   "display_name": "Python 3 (ipykernel)",
   "language": "python",
   "name": "python3"
  },
  "language_info": {
   "codemirror_mode": {
    "name": "ipython",
    "version": 3
   },
   "file_extension": ".py",
   "mimetype": "text/x-python",
   "name": "python",
   "nbconvert_exporter": "python",
   "pygments_lexer": "ipython3",
   "version": "3.12.0"
  }
 },
 "nbformat": 4,
 "nbformat_minor": 5
}
