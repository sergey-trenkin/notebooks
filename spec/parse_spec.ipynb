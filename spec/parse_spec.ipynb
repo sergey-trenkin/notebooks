{
 "cells": [
  {
   "cell_type": "code",
   "execution_count": 40,
   "metadata": {},
   "outputs": [],
   "source": [
    "from selenium.webdriver.common.action_chains import ActionChains\n",
    "from selenium.webdriver.support import expected_conditions as EC\n",
    "from selenium.webdriver.support.ui import WebDriverWait\n",
    "from selenium.webdriver.common.by import By\n",
    "from selenium.webdriver.common.keys import Keys\n",
    "from selenium import webdriver\n",
    "from bs4 import BeautifulSoup as bs \n",
    "import datetime as dt \n",
    "import pandas as pd \n",
    "import pymssql\n",
    "import time \n",
    "import warnings\n",
    "import glob \n",
    "import os\n",
    "\n",
    "warnings.filterwarnings('ignore')"
   ]
  },
  {
   "cell_type": "code",
   "execution_count": 11,
   "metadata": {},
   "outputs": [],
   "source": [
    "options_chrome = webdriver.ChromeOptions()\n",
    "cService = webdriver.ChromeService(executable_path=r'C:\\Users\\Trenkin.Sergey\\Downloads\\chromedriver-win64\\chromedriver-win64\\chromedriver.exe') # указать путь до хромдрайвера\n",
    "\n",
    "# https://googlechromelabs.github.io/chrome-for-testing/#stable \n",
    "# по ссылке можно скачать версию chromedriver актуальную для машины\n",
    "\n",
    "browser = webdriver.Chrome(service = cService, options=options_chrome)\n",
    "actions = ActionChains(browser)"
   ]
  },
  {
   "cell_type": "code",
   "execution_count": 12,
   "metadata": {},
   "outputs": [],
   "source": [
    "browser.get('https://cccb.ru/')\n",
    "time.sleep(1)\n",
    "browser.find_element(By.XPATH, '/html/body/header/div[1]/div/div[1]/a[3]').click()\n",
    "time.sleep(1)\n",
    "login = browser.find_element(By.XPATH, '//*[@id=\"auth-modal\"]/div/form/div[2]/div[1]/div/input')\n",
    "login.send_keys('regentgold')\n",
    "time.sleep(1)\n",
    "password = browser.find_element(By.XPATH, '//*[@id=\"auth-modal\"]/div/form/div[2]/div[2]/div/input')\n",
    "password.send_keys('kvT5P22i')\n",
    "time.sleep(1)\n",
    "browser.find_element(By.XPATH, '//*[@id=\"auth-modal\"]/div/form/div[2]/div[5]/div/input').click()\n",
    "time.sleep(1)\n",
    "browser.find_element(By.XPATH, '/html/body/div[3]/aside/ul/li[5]/a').click()\n",
    "time.sleep(1)\n",
    "actions.send_keys(Keys.PAGE_DOWN).perform()\n",
    "time.sleep(1)\n",
    "html = browser.page_source\n",
    "soup = bs(html)\n",
    "current_id = soup.find_all('input', class_='input-text startDatePicker hasDatepicker')[0]['id']\n",
    "calendar = browser.find_element(By.XPATH, f'//*[@id=\"{current_id}\"]')\n",
    "calendar.click()\n",
    "time.sleep(1)\n",
    "browser.find_element(By.XPATH, \"//*[@class='ui-state-default ui-state-highlight']\").click()\n",
    "time.sleep(1)\n",
    "browser.find_element(By.XPATH, '//*[@id=\"lk_tab-1\"]/div/div/form/div/div/input[2]').click()\n",
    "time.sleep(5)\n",
    "browser.close()"
   ]
  },
  {
   "cell_type": "code",
   "execution_count": 13,
   "metadata": {},
   "outputs": [],
   "source": [
    "path = r'C:\\\\Users\\Trenkin.Sergey\\Downloads\\\\' # указать папку, в которую падает файл после загрузки\n",
    "list_of_files = glob.glob(f'{path}Otchet_po_otpravleniyam*.xlsx') \n",
    "latest_file = max(list_of_files, key=os.path.getctime)"
   ]
  },
  {
   "cell_type": "code",
   "execution_count": 35,
   "metadata": {},
   "outputs": [],
   "source": [
    "df = pd.read_excel(latest_file, header=6)\n",
    "df.drop(columns=['Unnamed: 0'], inplace=True)\n",
    "\n",
    "df['report_date']= pd.to_datetime(dt.date.today().strftime('%Y-%m-%d'))"
   ]
  },
  {
   "cell_type": "code",
   "execution_count": 38,
   "metadata": {},
   "outputs": [
    {
     "name": "stdout",
     "output_type": "stream",
     "text": [
      "<class 'pandas.core.frame.DataFrame'>\n",
      "RangeIndex: 223 entries, 0 to 222\n",
      "Data columns (total 16 columns):\n",
      " #   Column                    Non-Null Count  Dtype         \n",
      "---  ------                    --------------  -----         \n",
      " 0   Дата заявки               223 non-null    object        \n",
      " 1   Номер заявки              222 non-null    object        \n",
      " 2   Исходящий номер           53 non-null     object        \n",
      " 3   Тип срочности             222 non-null    object        \n",
      " 4   Дата приема               222 non-null    object        \n",
      " 5   № отправления             222 non-null    float64       \n",
      " 6   Масса, кг                 223 non-null    float64       \n",
      " 7   Оценочная стоимость       222 non-null    object        \n",
      " 8   Наименование отправителя  222 non-null    object        \n",
      " 9   Город отправления         222 non-null    object        \n",
      " 10  Наименование получателя   222 non-null    object        \n",
      " 11  Город получателя          222 non-null    object        \n",
      " 12  Статус отправления        222 non-null    object        \n",
      " 13  Когда вручено             0 non-null      float64       \n",
      " 14  Кому вручено              0 non-null      float64       \n",
      " 15  report_date               223 non-null    datetime64[ns]\n",
      "dtypes: datetime64[ns](1), float64(4), object(11)\n",
      "memory usage: 28.0+ KB\n"
     ]
    }
   ],
   "source": [
    "df.to_csv()"
   ]
  },
  {
   "cell_type": "code",
   "execution_count": 44,
   "metadata": {},
   "outputs": [],
   "source": [
    "conn = pymssql.connect(server='spb-s-sql-anltc', database='analytics')\n",
    "cursor = conn.cursor()"
   ]
  },
  {
   "cell_type": "code",
   "execution_count": null,
   "metadata": {},
   "outputs": [],
   "source": [
    "sql = f'''\n",
    "CREATE TABLE analytics.dbo.INVENTITEMMOVEMENTSPECSENDINFO_ZLT \n",
    "'''\n",
    "\n",
    "sql_query = pd.read_sql_query(sql, conn)"
   ]
  }
 ],
 "metadata": {
  "kernelspec": {
   "display_name": "Python 3",
   "language": "python",
   "name": "python3"
  },
  "language_info": {
   "codemirror_mode": {
    "name": "ipython",
    "version": 3
   },
   "file_extension": ".py",
   "mimetype": "text/x-python",
   "name": "python",
   "nbconvert_exporter": "python",
   "pygments_lexer": "ipython3",
   "version": "3.12.4"
  }
 },
 "nbformat": 4,
 "nbformat_minor": 2
}
