{
 "cells": [
  {
   "cell_type": "code",
   "execution_count": 1,
   "metadata": {},
   "outputs": [],
   "source": [
    "from selenium.webdriver.common.action_chains import ActionChains\n",
    "from selenium.webdriver.support import expected_conditions as EC\n",
    "from selenium.webdriver.support.ui import WebDriverWait\n",
    "from selenium.webdriver.common.by import By\n",
    "from selenium.webdriver.common.keys import Keys\n",
    "from selenium import webdriver\n",
    "import time \n",
    "from bs4 import BeautifulSoup as bs "
   ]
  },
  {
   "cell_type": "code",
   "execution_count": 2,
   "metadata": {},
   "outputs": [],
   "source": [
    "options_chrome = webdriver.ChromeOptions()\n",
    "cService = webdriver.ChromeService(executable_path=r'C:\\Users\\Trenkin.Sergey\\Downloads\\chromedriver-win64\\chromedriver-win64\\chromedriver.exe') # указать путь до хромдрайвера\n",
    "\n",
    "# https://googlechromelabs.github.io/chrome-for-testing/#stable \n",
    "# по ссылке можно скачать версию chromedriver актуальную для машины\n",
    "\n",
    "browser = webdriver.Chrome(service = cService, options=options_chrome)\n",
    "actions = ActionChains(browser)"
   ]
  },
  {
   "cell_type": "code",
   "execution_count": 3,
   "metadata": {},
   "outputs": [],
   "source": [
    "browser.get('https://cccb.ru/')\n",
    "time.sleep(1)\n",
    "browser.find_element(By.XPATH, '/html/body/header/div[1]/div/div[1]/a[3]').click()\n",
    "time.sleep(1)\n",
    "login = browser.find_element(By.XPATH, '//*[@id=\"auth-modal\"]/div/form/div[2]/div[1]/div/input')\n",
    "login.send_keys('regentgold')\n",
    "time.sleep(1)\n",
    "password = browser.find_element(By.XPATH, '//*[@id=\"auth-modal\"]/div/form/div[2]/div[2]/div/input')\n",
    "password.send_keys('kvT5P22i')\n",
    "time.sleep(1)\n",
    "browser.find_element(By.XPATH, '//*[@id=\"auth-modal\"]/div/form/div[2]/div[5]/div/input').click()\n",
    "time.sleep(1)\n",
    "browser.find_element(By.XPATH, '/html/body/div[3]/aside/ul/li[5]/a').click()\n",
    "time.sleep(1)\n",
    "actions.send_keys(Keys.PAGE_DOWN).perform()\n",
    "time.sleep(1)\n",
    "html = browser.page_source\n",
    "soup = bs(html)\n",
    "current_id = soup.find_all('input', class_='input-text startDatePicker hasDatepicker')[0]['id']\n",
    "calendar = browser.find_element(By.XPATH, f'//*[@id=\"{current_id}\"]')\n",
    "calendar.click()\n",
    "time.sleep(1)\n",
    "browser.find_element(By.XPATH, \"//*[@class='ui-state-default ui-state-highlight']\").click()\n",
    "time.sleep(1)\n",
    "browser.find_element(By.XPATH, '//*[@id=\"lk_tab-1\"]/div/div/form/div/div/input[2]').click()"
   ]
  },
  {
   "cell_type": "code",
   "execution_count": null,
   "metadata": {},
   "outputs": [],
   "source": []
  }
 ],
 "metadata": {
  "kernelspec": {
   "display_name": "Python 3",
   "language": "python",
   "name": "python3"
  },
  "language_info": {
   "codemirror_mode": {
    "name": "ipython",
    "version": 3
   },
   "file_extension": ".py",
   "mimetype": "text/x-python",
   "name": "python",
   "nbconvert_exporter": "python",
   "pygments_lexer": "ipython3",
   "version": "3.12.4"
  }
 },
 "nbformat": 4,
 "nbformat_minor": 2
}
