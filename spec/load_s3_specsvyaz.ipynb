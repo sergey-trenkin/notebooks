{
 "cells": [
  {
   "cell_type": "code",
   "execution_count": 1,
   "metadata": {},
   "outputs": [],
   "source": [
    "import pandas as pd \n",
    "import boto3 \n",
    "import glob \n",
    "import os\n",
    "import datetime as dt\n",
    "import warnings \n",
    "\n",
    "warnings.filterwarnings('ignore')"
   ]
  },
  {
   "cell_type": "markdown",
   "metadata": {},
   "source": [
    "Загрузка файла в S3"
   ]
  },
  {
   "cell_type": "code",
   "execution_count": 2,
   "metadata": {},
   "outputs": [],
   "source": [
    "name_file = f'analytics-fileshare/specsvyaz/{dt.date.today().strftime('%Y-%m-%d')}.xlsx'\n",
    "bucket_name = 'analytics-fileshare'"
   ]
  },
  {
   "cell_type": "code",
   "execution_count": 3,
   "metadata": {},
   "outputs": [],
   "source": [
    "ACCESS_KEY='YCAJEeHTlV8i3hU5cNPYnIwmK'\n",
    "SECRET_KEY='YCOnqkRxpZOrvE2Jfrc3WPB6aS0fONeIkrgEQKX4'\n",
    "ENDPOINT = \"https://storage.yandexcloud.net\"\n",
    "\n",
    "session = boto3.Session(\n",
    "    aws_access_key_id=ACCESS_KEY,\n",
    "    aws_secret_access_key=SECRET_KEY,\n",
    "    region_name=\"ru-central1\"\n",
    ")\n",
    "\n",
    "s3_client = session.client(\n",
    "    \"s3\", endpoint_url=ENDPOINT)"
   ]
  },
  {
   "cell_type": "code",
   "execution_count": 4,
   "metadata": {},
   "outputs": [],
   "source": [
    "path = r'C:\\\\Users\\Trenkin.Sergey\\Downloads\\\\' # указать папку, в которую падает файл после загрузки\n",
    "list_of_files = glob.glob(f'{path}Otchet_po_otpravleniyam*.xlsx') \n",
    "latest_file = max(list_of_files, key=os.path.getctime)\n",
    "\n",
    "try: df = pd.read_excel(latest_file, header=6).drop(columns=['Unnamed: 0'])[:-1]\n",
    "except: df = pd.read_excel(latest_file)\n",
    "\n",
    "df['report_date'] = pd.to_datetime(dt.date.today().strftime('%Y-%m-%d'))\n",
    "\n",
    "df.to_excel(latest_file, index=False)"
   ]
  },
  {
   "cell_type": "code",
   "execution_count": 5,
   "metadata": {},
   "outputs": [],
   "source": [
    "s3_client.upload_file(latest_file, Bucket= bucket_name, Key= name_file)"
   ]
  }
 ],
 "metadata": {
  "kernelspec": {
   "display_name": "Python 3",
   "language": "python",
   "name": "python3"
  },
  "language_info": {
   "codemirror_mode": {
    "name": "ipython",
    "version": 3
   },
   "file_extension": ".py",
   "mimetype": "text/x-python",
   "name": "python",
   "nbconvert_exporter": "python",
   "pygments_lexer": "ipython3",
   "version": "3.12.4"
  }
 },
 "nbformat": 4,
 "nbformat_minor": 2
}
