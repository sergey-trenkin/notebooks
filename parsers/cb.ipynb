{
 "cells": [
  {
   "cell_type": "code",
   "execution_count": 20,
   "metadata": {},
   "outputs": [],
   "source": [
    "from bs4 import BeautifulSoup as bs\n",
    "import datetime as dt\n",
    "import pandas as pd\n",
    "import requests\n",
    "import warnings\n",
    "\n",
    "warnings.filterwarnings('ignore')"
   ]
  },
  {
   "cell_type": "code",
   "execution_count": 21,
   "metadata": {},
   "outputs": [],
   "source": [
    "cookies = {\n",
    "    '__ddg1_': 'KWn3c1WwZzj6FysUsfDd',\n",
    "    'ASPNET_SessionID': '5gqp1nhoznc4coucajtcdmt5',\n",
    "    '_ym_uid': '172173650670206345',\n",
    "    '_ym_d': '1721736506',\n",
    "    '_ym_isad': '1',\n",
    "    '_ym_visorc': 'b',\n",
    "    'accept': '1',\n",
    "}\n",
    "\n",
    "headers = {\n",
    "    'accept': 'text/html,application/xhtml+xml,application/xml;q=0.9,image/avif,image/webp,image/apng,*/*;q=0.8,application/signed-exchange;v=b3;q=0.7',\n",
    "    'accept-language': 'ru-RU,ru;q=0.9,en-US;q=0.8,en;q=0.7',\n",
    "    'cache-control': 'max-age=0',\n",
    "    # 'cookie': '__ddg1_=KWn3c1WwZzj6FysUsfDd; ASPNET_SessionID=5gqp1nhoznc4coucajtcdmt5; _ym_uid=172173650670206345; _ym_d=1721736506; _ym_isad=1; _ym_visorc=b; accept=1',\n",
    "    'priority': 'u=0, i',\n",
    "    'referer': 'https://www.cbr.ru/currency_base/',\n",
    "    'sec-ch-ua': '\"Not/A)Brand\";v=\"8\", \"Chromium\";v=\"126\", \"Google Chrome\";v=\"126\"',\n",
    "    'sec-ch-ua-mobile': '?0',\n",
    "    'sec-ch-ua-platform': '\"Windows\"',\n",
    "    'sec-fetch-dest': 'document',\n",
    "    'sec-fetch-mode': 'navigate',\n",
    "    'sec-fetch-site': 'same-origin',\n",
    "    'sec-fetch-user': '?1',\n",
    "    'upgrade-insecure-requests': '1',\n",
    "    'user-agent': 'Mozilla/5.0 (Windows NT 10.0; Win64; x64) AppleWebKit/537.36 (KHTML, like Gecko) Chrome/126.0.0.0 Safari/537.36',\n",
    "}"
   ]
  },
  {
   "cell_type": "code",
   "execution_count": 22,
   "metadata": {},
   "outputs": [],
   "source": [
    "response = requests.get('https://www.cbr.ru/currency_base/daily/', cookies=cookies, headers=headers).text\n",
    "soup = bs(response, 'html.parser')\n",
    "\n",
    "list_header = []\n",
    "data = []"
   ]
  },
  {
   "cell_type": "code",
   "execution_count": 23,
   "metadata": {},
   "outputs": [],
   "source": [
    "header = soup.find_all(\"table\")[0].find(\"tr\")\n",
    "\n",
    "for items in header:\n",
    "    try: list_header.append(items.get_text())\n",
    "    except: continue\n",
    "HTML_data = soup.find_all(\"table\")[0].find_all(\"tr\")[1:]\n",
    "\n",
    "for element in HTML_data:\n",
    "    sub_data = []\n",
    "    for sub_element in element:\n",
    "        try:\n",
    "            sub_data.append(sub_element.get_text())\n",
    "        except:\n",
    "            continue\n",
    "    data.append(sub_data)\n",
    "    \n",
    "df = pd.DataFrame(data=data, columns=list_header)"
   ]
  },
  {
   "cell_type": "code",
   "execution_count": 24,
   "metadata": {},
   "outputs": [],
   "source": [
    "df = df.loc[df['Валюта'].str.contains('Доллар США|Евро')]"
   ]
  },
  {
   "cell_type": "code",
   "execution_count": 25,
   "metadata": {},
   "outputs": [],
   "source": [
    "df['Курс'] = df['Курс'].str.replace(',', '.')\n",
    "df['Курс'] = df['Курс'].astype(float) / df['Единиц'].astype(int)\n",
    "df = df[['Букв. код', 'Курс']]\n",
    "df.rename(columns={'Букв. код': 'Валюта'}, inplace=True)\n",
    "df['Дата'] = dt.datetime.today().strftime('%d.%m.%Y')"
   ]
  },
  {
   "cell_type": "code",
   "execution_count": 93,
   "metadata": {},
   "outputs": [],
   "source": [
    "response = requests.get('https://www.cbr.ru/hd_base/metall/metall_base_new/', cookies=cookies, headers=headers).text\n",
    "soup = bs(response, 'html.parser')\n",
    "\n",
    "list_header = []\n",
    "data = []"
   ]
  },
  {
   "cell_type": "code",
   "execution_count": 94,
   "metadata": {},
   "outputs": [],
   "source": [
    "header = soup.find_all(\"table\")[0].find(\"tr\")\n",
    "\n",
    "for items in header:\n",
    "    try: list_header.append(items.get_text())\n",
    "    except: continue\n",
    "HTML_data = soup.find_all(\"table\")[0].find_all(\"tr\")[1:]\n",
    "\n",
    "for element in HTML_data:\n",
    "    sub_data = []\n",
    "    for sub_element in element:\n",
    "        try:\n",
    "            sub_data.append(sub_element.get_text())\n",
    "        except:\n",
    "            continue\n",
    "    data.append(sub_data)\n",
    "    \n",
    "df = pd.DataFrame(data=data, columns=list_header)"
   ]
  },
  {
   "cell_type": "code",
   "execution_count": 96,
   "metadata": {},
   "outputs": [],
   "source": [
    "df.rename(columns={'Дата* ▼\\n': 'Дата'}, inplace=True)"
   ]
  },
  {
   "cell_type": "code",
   "execution_count": 98,
   "metadata": {},
   "outputs": [],
   "source": [
    "df = df[['Дата', 'Золото', 'Серебро', 'Платина', 'Палладий']][:1]\n",
    "df['Дата'] = pd.to_datetime(df['Дата'], format='%d.%m.%Y')"
   ]
  },
  {
   "cell_type": "code",
   "execution_count": 99,
   "metadata": {},
   "outputs": [],
   "source": [
    "for name in df.columns[1:]:\n",
    "    df[name] = df[name].str.replace(',', '.').str.replace(' ', '').astype(float)"
   ]
  },
  {
   "cell_type": "code",
   "execution_count": null,
   "metadata": {},
   "outputs": [],
   "source": []
  }
 ],
 "metadata": {
  "kernelspec": {
   "display_name": "Python 3",
   "language": "python",
   "name": "python3"
  },
  "language_info": {
   "codemirror_mode": {
    "name": "ipython",
    "version": 3
   },
   "file_extension": ".py",
   "mimetype": "text/x-python",
   "name": "python",
   "nbconvert_exporter": "python",
   "pygments_lexer": "ipython3",
   "version": "3.12.4"
  }
 },
 "nbformat": 4,
 "nbformat_minor": 2
}
