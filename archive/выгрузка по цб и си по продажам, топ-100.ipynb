{
 "cells": [
  {
   "cell_type": "code",
   "execution_count": 1,
   "metadata": {},
   "outputs": [],
   "source": [
    "from tqdm import tqdm\n",
    "import datetime as dt\n",
    "import pymssql\n",
    "import pandas as pd\n",
    "import numpy as np\n",
    "import warnings\n",
    "import glob \n",
    "import os\n",
    "\n",
    "warnings.filterwarnings('ignore')"
   ]
  },
  {
   "cell_type": "code",
   "execution_count": 2,
   "metadata": {},
   "outputs": [],
   "source": [
    "conn = pymssql.connect(server='AX-SQL', database='Staging')\n",
    "cursor = conn.cursor()\n",
    "\n",
    "sql = f'''\n",
    "SELECT [ID Сайта], [Артикул поставщика], [Товарная группа], [Товарное направление], [Название товара], [Код склада], [Остаток], [Код товара]\n",
    "from [Staging].[Reports].[Remainings_8h]\n",
    "where [Товарное направление] in (N'ЦБ', N'СИ')\n",
    "'''\n",
    "\n",
    "sql_query = pd.read_sql_query(sql, conn)\n",
    "stock = pd.DataFrame(sql_query)"
   ]
  },
  {
   "cell_type": "code",
   "execution_count": 3,
   "metadata": {},
   "outputs": [],
   "source": [
    "path = r'\\\\gold585.int\\uk\\Общее хранилище файлов\\Служба аналитики\\Архив_отчеты\\Продажи\\По дням\\\\'\n",
    "list_of_files = glob.glob(path + '*.xlsx') \n",
    "latest_file = max(list_of_files, key=os.path.getctime)\n",
    "\n",
    "sklad = pd.read_excel(latest_file, sheet_name = 'Продажи по ассортименту', header = 2)\n",
    "\n",
    "stock['Код склада'] = stock['Код склада'].astype('float64') \n",
    "\n",
    "sklad = sklad[['Unnamed: 0','Торговая марка', 'Юр лицо', 'Код склада', 'Дата открытия объекта', 'Код объекта', 'Город', 'Наименование объекта']]\n",
    "sklad1 = sklad[['Код склада', 'Код объекта']].drop_duplicates().reset_index(drop=True)\n",
    "sklad1 = sklad1[sklad1['Код объекта'].notna()]\n",
    "\n",
    "sklad1['Код объекта'] = sklad1['Код объекта'].astype(str)\n",
    "sklad1['8'] = sklad1['Код объекта'].apply(lambda x: x[0])\n",
    "sklad1 = sklad1[sklad1['8'] != '8']\n",
    "\n",
    "stock = stock.merge(sklad1, left_on='Код склада', right_on = 'Код склада', how='inner')\n",
    "\n",
    "stock = stock.drop(columns=['8'])"
   ]
  },
  {
   "cell_type": "code",
   "execution_count": 4,
   "metadata": {},
   "outputs": [],
   "source": [
    "stock = stock[stock['ID Сайта'] != '']"
   ]
  },
  {
   "cell_type": "code",
   "execution_count": 5,
   "metadata": {},
   "outputs": [],
   "source": [
    "ost = stock.groupby(by = 'ID Сайта', as_index = False)['Остаток'].sum()"
   ]
  },
  {
   "cell_type": "code",
   "execution_count": 6,
   "metadata": {},
   "outputs": [],
   "source": [
    "stock.drop(columns=['Остаток', 'Код объекта', 'Код склада'], inplace=True)"
   ]
  },
  {
   "cell_type": "code",
   "execution_count": 7,
   "metadata": {},
   "outputs": [
    {
     "name": "stderr",
     "output_type": "stream",
     "text": [
      " 94%|█████████▍| 17/18 [03:03<00:10, 10.80s/it]\n"
     ]
    },
    {
     "ename": "PermissionError",
     "evalue": "[Errno 13] Permission denied: '~$3.2024_продажи еком.xlsx'",
     "output_type": "error",
     "traceback": [
      "\u001b[1;31m---------------------------------------------------------------------------\u001b[0m",
      "\u001b[1;31mPermissionError\u001b[0m                           Traceback (most recent call last)",
      "Cell \u001b[1;32mIn[7], line 7\u001b[0m\n\u001b[0;32m      5\u001b[0m sale \u001b[38;5;241m=\u001b[39m pd\u001b[38;5;241m.\u001b[39mDataFrame()\n\u001b[0;32m      6\u001b[0m \u001b[38;5;28;01mfor\u001b[39;00m name \u001b[38;5;129;01min\u001b[39;00m tqdm(all_sales):\n\u001b[1;32m----> 7\u001b[0m     sales \u001b[38;5;241m=\u001b[39m \u001b[43mpd\u001b[49m\u001b[38;5;241;43m.\u001b[39;49m\u001b[43mread_excel\u001b[49m\u001b[43m(\u001b[49m\u001b[43mname\u001b[49m\u001b[43m)\u001b[49m\n\u001b[0;32m      8\u001b[0m     sale \u001b[38;5;241m=\u001b[39m pd\u001b[38;5;241m.\u001b[39mconcat([sales, sale], ignore_index\u001b[38;5;241m=\u001b[39m \u001b[38;5;28;01mTrue\u001b[39;00m)\n",
      "File \u001b[1;32mc:\\Users\\Trenkin.Sergey\\AppData\\Local\\Programs\\Python\\Python312\\Lib\\site-packages\\pandas\\io\\excel\\_base.py:504\u001b[0m, in \u001b[0;36mread_excel\u001b[1;34m(io, sheet_name, header, names, index_col, usecols, dtype, engine, converters, true_values, false_values, skiprows, nrows, na_values, keep_default_na, na_filter, verbose, parse_dates, date_parser, date_format, thousands, decimal, comment, skipfooter, storage_options, dtype_backend, engine_kwargs)\u001b[0m\n\u001b[0;32m    502\u001b[0m \u001b[38;5;28;01mif\u001b[39;00m \u001b[38;5;129;01mnot\u001b[39;00m \u001b[38;5;28misinstance\u001b[39m(io, ExcelFile):\n\u001b[0;32m    503\u001b[0m     should_close \u001b[38;5;241m=\u001b[39m \u001b[38;5;28;01mTrue\u001b[39;00m\n\u001b[1;32m--> 504\u001b[0m     io \u001b[38;5;241m=\u001b[39m \u001b[43mExcelFile\u001b[49m\u001b[43m(\u001b[49m\n\u001b[0;32m    505\u001b[0m \u001b[43m        \u001b[49m\u001b[43mio\u001b[49m\u001b[43m,\u001b[49m\n\u001b[0;32m    506\u001b[0m \u001b[43m        \u001b[49m\u001b[43mstorage_options\u001b[49m\u001b[38;5;241;43m=\u001b[39;49m\u001b[43mstorage_options\u001b[49m\u001b[43m,\u001b[49m\n\u001b[0;32m    507\u001b[0m \u001b[43m        \u001b[49m\u001b[43mengine\u001b[49m\u001b[38;5;241;43m=\u001b[39;49m\u001b[43mengine\u001b[49m\u001b[43m,\u001b[49m\n\u001b[0;32m    508\u001b[0m \u001b[43m        \u001b[49m\u001b[43mengine_kwargs\u001b[49m\u001b[38;5;241;43m=\u001b[39;49m\u001b[43mengine_kwargs\u001b[49m\u001b[43m,\u001b[49m\n\u001b[0;32m    509\u001b[0m \u001b[43m    \u001b[49m\u001b[43m)\u001b[49m\n\u001b[0;32m    510\u001b[0m \u001b[38;5;28;01melif\u001b[39;00m engine \u001b[38;5;129;01mand\u001b[39;00m engine \u001b[38;5;241m!=\u001b[39m io\u001b[38;5;241m.\u001b[39mengine:\n\u001b[0;32m    511\u001b[0m     \u001b[38;5;28;01mraise\u001b[39;00m \u001b[38;5;167;01mValueError\u001b[39;00m(\n\u001b[0;32m    512\u001b[0m         \u001b[38;5;124m\"\u001b[39m\u001b[38;5;124mEngine should not be specified when passing \u001b[39m\u001b[38;5;124m\"\u001b[39m\n\u001b[0;32m    513\u001b[0m         \u001b[38;5;124m\"\u001b[39m\u001b[38;5;124man ExcelFile - ExcelFile already has the engine set\u001b[39m\u001b[38;5;124m\"\u001b[39m\n\u001b[0;32m    514\u001b[0m     )\n",
      "File \u001b[1;32mc:\\Users\\Trenkin.Sergey\\AppData\\Local\\Programs\\Python\\Python312\\Lib\\site-packages\\pandas\\io\\excel\\_base.py:1563\u001b[0m, in \u001b[0;36mExcelFile.__init__\u001b[1;34m(self, path_or_buffer, engine, storage_options, engine_kwargs)\u001b[0m\n\u001b[0;32m   1561\u001b[0m     ext \u001b[38;5;241m=\u001b[39m \u001b[38;5;124m\"\u001b[39m\u001b[38;5;124mxls\u001b[39m\u001b[38;5;124m\"\u001b[39m\n\u001b[0;32m   1562\u001b[0m \u001b[38;5;28;01melse\u001b[39;00m:\n\u001b[1;32m-> 1563\u001b[0m     ext \u001b[38;5;241m=\u001b[39m \u001b[43minspect_excel_format\u001b[49m\u001b[43m(\u001b[49m\n\u001b[0;32m   1564\u001b[0m \u001b[43m        \u001b[49m\u001b[43mcontent_or_path\u001b[49m\u001b[38;5;241;43m=\u001b[39;49m\u001b[43mpath_or_buffer\u001b[49m\u001b[43m,\u001b[49m\u001b[43m \u001b[49m\u001b[43mstorage_options\u001b[49m\u001b[38;5;241;43m=\u001b[39;49m\u001b[43mstorage_options\u001b[49m\n\u001b[0;32m   1565\u001b[0m \u001b[43m    \u001b[49m\u001b[43m)\u001b[49m\n\u001b[0;32m   1566\u001b[0m     \u001b[38;5;28;01mif\u001b[39;00m ext \u001b[38;5;129;01mis\u001b[39;00m \u001b[38;5;28;01mNone\u001b[39;00m:\n\u001b[0;32m   1567\u001b[0m         \u001b[38;5;28;01mraise\u001b[39;00m \u001b[38;5;167;01mValueError\u001b[39;00m(\n\u001b[0;32m   1568\u001b[0m             \u001b[38;5;124m\"\u001b[39m\u001b[38;5;124mExcel file format cannot be determined, you must specify \u001b[39m\u001b[38;5;124m\"\u001b[39m\n\u001b[0;32m   1569\u001b[0m             \u001b[38;5;124m\"\u001b[39m\u001b[38;5;124man engine manually.\u001b[39m\u001b[38;5;124m\"\u001b[39m\n\u001b[0;32m   1570\u001b[0m         )\n",
      "File \u001b[1;32mc:\\Users\\Trenkin.Sergey\\AppData\\Local\\Programs\\Python\\Python312\\Lib\\site-packages\\pandas\\io\\excel\\_base.py:1419\u001b[0m, in \u001b[0;36minspect_excel_format\u001b[1;34m(content_or_path, storage_options)\u001b[0m\n\u001b[0;32m   1416\u001b[0m \u001b[38;5;28;01mif\u001b[39;00m \u001b[38;5;28misinstance\u001b[39m(content_or_path, \u001b[38;5;28mbytes\u001b[39m):\n\u001b[0;32m   1417\u001b[0m     content_or_path \u001b[38;5;241m=\u001b[39m BytesIO(content_or_path)\n\u001b[1;32m-> 1419\u001b[0m \u001b[38;5;28;01mwith\u001b[39;00m \u001b[43mget_handle\u001b[49m\u001b[43m(\u001b[49m\n\u001b[0;32m   1420\u001b[0m \u001b[43m    \u001b[49m\u001b[43mcontent_or_path\u001b[49m\u001b[43m,\u001b[49m\u001b[43m \u001b[49m\u001b[38;5;124;43m\"\u001b[39;49m\u001b[38;5;124;43mrb\u001b[39;49m\u001b[38;5;124;43m\"\u001b[39;49m\u001b[43m,\u001b[49m\u001b[43m \u001b[49m\u001b[43mstorage_options\u001b[49m\u001b[38;5;241;43m=\u001b[39;49m\u001b[43mstorage_options\u001b[49m\u001b[43m,\u001b[49m\u001b[43m \u001b[49m\u001b[43mis_text\u001b[49m\u001b[38;5;241;43m=\u001b[39;49m\u001b[38;5;28;43;01mFalse\u001b[39;49;00m\n\u001b[0;32m   1421\u001b[0m \u001b[43m\u001b[49m\u001b[43m)\u001b[49m \u001b[38;5;28;01mas\u001b[39;00m handle:\n\u001b[0;32m   1422\u001b[0m     stream \u001b[38;5;241m=\u001b[39m handle\u001b[38;5;241m.\u001b[39mhandle\n\u001b[0;32m   1423\u001b[0m     stream\u001b[38;5;241m.\u001b[39mseek(\u001b[38;5;241m0\u001b[39m)\n",
      "File \u001b[1;32mc:\\Users\\Trenkin.Sergey\\AppData\\Local\\Programs\\Python\\Python312\\Lib\\site-packages\\pandas\\io\\common.py:872\u001b[0m, in \u001b[0;36mget_handle\u001b[1;34m(path_or_buf, mode, encoding, compression, memory_map, is_text, errors, storage_options)\u001b[0m\n\u001b[0;32m    863\u001b[0m         handle \u001b[38;5;241m=\u001b[39m \u001b[38;5;28mopen\u001b[39m(\n\u001b[0;32m    864\u001b[0m             handle,\n\u001b[0;32m    865\u001b[0m             ioargs\u001b[38;5;241m.\u001b[39mmode,\n\u001b[1;32m   (...)\u001b[0m\n\u001b[0;32m    868\u001b[0m             newline\u001b[38;5;241m=\u001b[39m\u001b[38;5;124m\"\u001b[39m\u001b[38;5;124m\"\u001b[39m,\n\u001b[0;32m    869\u001b[0m         )\n\u001b[0;32m    870\u001b[0m     \u001b[38;5;28;01melse\u001b[39;00m:\n\u001b[0;32m    871\u001b[0m         \u001b[38;5;66;03m# Binary mode\u001b[39;00m\n\u001b[1;32m--> 872\u001b[0m         handle \u001b[38;5;241m=\u001b[39m \u001b[38;5;28;43mopen\u001b[39;49m\u001b[43m(\u001b[49m\u001b[43mhandle\u001b[49m\u001b[43m,\u001b[49m\u001b[43m \u001b[49m\u001b[43mioargs\u001b[49m\u001b[38;5;241;43m.\u001b[39;49m\u001b[43mmode\u001b[49m\u001b[43m)\u001b[49m\n\u001b[0;32m    873\u001b[0m     handles\u001b[38;5;241m.\u001b[39mappend(handle)\n\u001b[0;32m    875\u001b[0m \u001b[38;5;66;03m# Convert BytesIO or file objects passed with an encoding\u001b[39;00m\n",
      "\u001b[1;31mPermissionError\u001b[0m: [Errno 13] Permission denied: '~$3.2024_продажи еком.xlsx'"
     ]
    }
   ],
   "source": [
    "os.chdir(r'C:\\\\Users\\Trenkin.Sergey\\Desktop\\ecomsales')\n",
    "extension = 'xlsx'\n",
    "all_sales = [i for i in glob.glob('*.{}'.format(extension))]\n",
    "\n",
    "sale = pd.DataFrame()\n",
    "for name in tqdm(all_sales):\n",
    "    sales = pd.read_excel(name)\n",
    "    sale = pd.concat([sales, sale], ignore_index= True)"
   ]
  },
  {
   "cell_type": "code",
   "execution_count": 8,
   "metadata": {},
   "outputs": [],
   "source": [
    "sale = sale.reset_index(drop=True)\n",
    "\n",
    "sale = sale[(sale['state_order'] != 'returned') & (sale['state_order'] != 'canceled')]\n",
    "sale = sale[~((sale['delivery_type'] == 'PICKUP_NOW') & (sale['payment_type'] == 'CASHIER') & (sale['type_ibox'] == 'CASHIER'))|\n",
    "                ((sale['delivery_type'] == 'PICKUP') & (sale['payment_type'] == 'CASHIER') & (sale['type_ibox'] == 'CASHIER'))]"
   ]
  },
  {
   "cell_type": "code",
   "execution_count": 9,
   "metadata": {},
   "outputs": [],
   "source": [
    "sale = sale[~sale['client_type'].str.contains('OZON')]"
   ]
  },
  {
   "cell_type": "code",
   "execution_count": 10,
   "metadata": {},
   "outputs": [],
   "source": [
    "sale['result'] = sale['price_wo_manzana']\n",
    "sale['result'].fillna(sale['price'], inplace=True)"
   ]
  },
  {
   "cell_type": "code",
   "execution_count": 11,
   "metadata": {},
   "outputs": [],
   "source": [
    "def str_float(row):\n",
    "    row = str(row)\n",
    "    row = row.replace(',','.')\n",
    "    return row\n",
    "\n",
    "sale['price'] = sale['price'].apply(str_float)\n",
    "sale['price'] = sale['price'].astype(float)\n",
    "sale = sale[sale['price'] > 1].reset_index(drop=True)"
   ]
  },
  {
   "cell_type": "code",
   "execution_count": 12,
   "metadata": {},
   "outputs": [],
   "source": [
    "sebes = sale.groupby(by = 'tov', as_index=False)['cost_price'].sum()"
   ]
  },
  {
   "cell_type": "code",
   "execution_count": 13,
   "metadata": {},
   "outputs": [],
   "source": [
    "online = sale.groupby(by = 'tov', as_index=False)['result'].agg({'sum', 'count'})"
   ]
  },
  {
   "cell_type": "code",
   "execution_count": 14,
   "metadata": {},
   "outputs": [],
   "source": [
    "online = online.merge(sebes, how='left', on='tov')"
   ]
  },
  {
   "cell_type": "code",
   "execution_count": 15,
   "metadata": {},
   "outputs": [],
   "source": [
    "online.rename(columns={'tov': 'Код товара', 'sum': 'Сумма продаж', 'count': 'Количество продаж', 'cost_price': 'Себестоимость'}, inplace=True)"
   ]
  },
  {
   "cell_type": "code",
   "execution_count": 19,
   "metadata": {},
   "outputs": [
    {
     "data": {
      "text/html": [
       "<div>\n",
       "<style scoped>\n",
       "    .dataframe tbody tr th:only-of-type {\n",
       "        vertical-align: middle;\n",
       "    }\n",
       "\n",
       "    .dataframe tbody tr th {\n",
       "        vertical-align: top;\n",
       "    }\n",
       "\n",
       "    .dataframe thead th {\n",
       "        text-align: right;\n",
       "    }\n",
       "</style>\n",
       "<table border=\"1\" class=\"dataframe\">\n",
       "  <thead>\n",
       "    <tr style=\"text-align: right;\">\n",
       "      <th></th>\n",
       "      <th>Код товара</th>\n",
       "      <th>Сумма продаж</th>\n",
       "      <th>Количество продаж</th>\n",
       "      <th>Себестоимость</th>\n",
       "    </tr>\n",
       "  </thead>\n",
       "  <tbody>\n",
       "    <tr>\n",
       "      <th>0</th>\n",
       "      <td>ТОВ0115302</td>\n",
       "      <td>33764.000000</td>\n",
       "      <td>1</td>\n",
       "      <td>15031.88</td>\n",
       "    </tr>\n",
       "    <tr>\n",
       "      <th>1</th>\n",
       "      <td>ТОВ0115418</td>\n",
       "      <td>4292.100000</td>\n",
       "      <td>1</td>\n",
       "      <td>1315.80</td>\n",
       "    </tr>\n",
       "    <tr>\n",
       "      <th>2</th>\n",
       "      <td>ТОВ0120217</td>\n",
       "      <td>8424.000000</td>\n",
       "      <td>1</td>\n",
       "      <td>3680.03</td>\n",
       "    </tr>\n",
       "    <tr>\n",
       "      <th>3</th>\n",
       "      <td>ТОВ0120218</td>\n",
       "      <td>8977.500000</td>\n",
       "      <td>1</td>\n",
       "      <td>4004.34</td>\n",
       "    </tr>\n",
       "    <tr>\n",
       "      <th>4</th>\n",
       "      <td>ТОВ0120219</td>\n",
       "      <td>16906.200000</td>\n",
       "      <td>1</td>\n",
       "      <td>4278.07</td>\n",
       "    </tr>\n",
       "    <tr>\n",
       "      <th>...</th>\n",
       "      <td>...</td>\n",
       "      <td>...</td>\n",
       "      <td>...</td>\n",
       "      <td>...</td>\n",
       "    </tr>\n",
       "    <tr>\n",
       "      <th>85408</th>\n",
       "      <td>ТОВ1334772</td>\n",
       "      <td>2970.000000</td>\n",
       "      <td>3</td>\n",
       "      <td>1337.20</td>\n",
       "    </tr>\n",
       "    <tr>\n",
       "      <th>85409</th>\n",
       "      <td>ТОВ1334773</td>\n",
       "      <td>3960.000000</td>\n",
       "      <td>4</td>\n",
       "      <td>1805.81</td>\n",
       "    </tr>\n",
       "    <tr>\n",
       "      <th>85410</th>\n",
       "      <td>ТОВ1334815</td>\n",
       "      <td>30821.315868</td>\n",
       "      <td>3</td>\n",
       "      <td>14865.07</td>\n",
       "    </tr>\n",
       "    <tr>\n",
       "      <th>85411</th>\n",
       "      <td>ТОВ1335284</td>\n",
       "      <td>1620.000000</td>\n",
       "      <td>3</td>\n",
       "      <td>783.72</td>\n",
       "    </tr>\n",
       "    <tr>\n",
       "      <th>85412</th>\n",
       "      <td>ТОВ1335479</td>\n",
       "      <td>3950.000000</td>\n",
       "      <td>2</td>\n",
       "      <td>3627.43</td>\n",
       "    </tr>\n",
       "  </tbody>\n",
       "</table>\n",
       "<p>85413 rows × 4 columns</p>\n",
       "</div>"
      ],
      "text/plain": [
       "       Код товара  Сумма продаж  Количество продаж  Себестоимость\n",
       "0      ТОВ0115302  33764.000000                  1       15031.88\n",
       "1      ТОВ0115418   4292.100000                  1        1315.80\n",
       "2      ТОВ0120217   8424.000000                  1        3680.03\n",
       "3      ТОВ0120218   8977.500000                  1        4004.34\n",
       "4      ТОВ0120219  16906.200000                  1        4278.07\n",
       "...           ...           ...                ...            ...\n",
       "85408  ТОВ1334772   2970.000000                  3        1337.20\n",
       "85409  ТОВ1334773   3960.000000                  4        1805.81\n",
       "85410  ТОВ1334815  30821.315868                  3       14865.07\n",
       "85411  ТОВ1335284   1620.000000                  3         783.72\n",
       "85412  ТОВ1335479   3950.000000                  2        3627.43\n",
       "\n",
       "[85413 rows x 4 columns]"
      ]
     },
     "execution_count": 19,
     "metadata": {},
     "output_type": "execute_result"
    }
   ],
   "source": [
    "online"
   ]
  },
  {
   "cell_type": "code",
   "execution_count": 17,
   "metadata": {},
   "outputs": [],
   "source": [
    "sale = pd.read_excel(r'C:\\Users\\Trenkin.Sergey\\Desktop\\Продажи по ТОВ СИ, ЦБ янв.23-июн.24.xlsx')"
   ]
  },
  {
   "cell_type": "code",
   "execution_count": 21,
   "metadata": {},
   "outputs": [],
   "source": [
    "sale.rename(columns={'Номер': 'Код товара'}, inplace=True)"
   ]
  },
  {
   "cell_type": "code",
   "execution_count": 22,
   "metadata": {},
   "outputs": [],
   "source": [
    "sale = sale.merge(online, how='left', on='Код товара')"
   ]
  },
  {
   "cell_type": "code",
   "execution_count": 23,
   "metadata": {},
   "outputs": [
    {
     "data": {
      "text/html": [
       "<div>\n",
       "<style scoped>\n",
       "    .dataframe tbody tr th:only-of-type {\n",
       "        vertical-align: middle;\n",
       "    }\n",
       "\n",
       "    .dataframe tbody tr th {\n",
       "        vertical-align: top;\n",
       "    }\n",
       "\n",
       "    .dataframe thead th {\n",
       "        text-align: right;\n",
       "    }\n",
       "</style>\n",
       "<table border=\"1\" class=\"dataframe\">\n",
       "  <thead>\n",
       "    <tr style=\"text-align: right;\">\n",
       "      <th></th>\n",
       "      <th>Код товара</th>\n",
       "      <th>Количество-продажи</th>\n",
       "      <th>Сумма продаж с баллами</th>\n",
       "      <th>Себестоимость продаж</th>\n",
       "      <th>Сумма продаж</th>\n",
       "      <th>Количество продаж</th>\n",
       "      <th>Себестоимость</th>\n",
       "    </tr>\n",
       "  </thead>\n",
       "  <tbody>\n",
       "    <tr>\n",
       "      <th>0</th>\n",
       "      <td>ТОВ0115302</td>\n",
       "      <td>5</td>\n",
       "      <td>198154.16</td>\n",
       "      <td>65596.85</td>\n",
       "      <td>33764.0</td>\n",
       "      <td>1.0</td>\n",
       "      <td>15031.88</td>\n",
       "    </tr>\n",
       "    <tr>\n",
       "      <th>1</th>\n",
       "      <td>ТОВ0115418</td>\n",
       "      <td>1</td>\n",
       "      <td>4292.10</td>\n",
       "      <td>1315.80</td>\n",
       "      <td>4292.1</td>\n",
       "      <td>1.0</td>\n",
       "      <td>1315.80</td>\n",
       "    </tr>\n",
       "    <tr>\n",
       "      <th>2</th>\n",
       "      <td>ТОВ0115554</td>\n",
       "      <td>1</td>\n",
       "      <td>66654.28</td>\n",
       "      <td>15108.45</td>\n",
       "      <td>NaN</td>\n",
       "      <td>NaN</td>\n",
       "      <td>NaN</td>\n",
       "    </tr>\n",
       "    <tr>\n",
       "      <th>3</th>\n",
       "      <td>ТОВ0119984</td>\n",
       "      <td>1</td>\n",
       "      <td>11000.00</td>\n",
       "      <td>2060.18</td>\n",
       "      <td>NaN</td>\n",
       "      <td>NaN</td>\n",
       "      <td>NaN</td>\n",
       "    </tr>\n",
       "    <tr>\n",
       "      <th>4</th>\n",
       "      <td>ТОВ0120217</td>\n",
       "      <td>1</td>\n",
       "      <td>8424.00</td>\n",
       "      <td>3680.03</td>\n",
       "      <td>8424.0</td>\n",
       "      <td>1.0</td>\n",
       "      <td>3680.03</td>\n",
       "    </tr>\n",
       "    <tr>\n",
       "      <th>...</th>\n",
       "      <td>...</td>\n",
       "      <td>...</td>\n",
       "      <td>...</td>\n",
       "      <td>...</td>\n",
       "      <td>...</td>\n",
       "      <td>...</td>\n",
       "      <td>...</td>\n",
       "    </tr>\n",
       "    <tr>\n",
       "      <th>104956</th>\n",
       "      <td>ТОВ1335466</td>\n",
       "      <td>2</td>\n",
       "      <td>10449.30</td>\n",
       "      <td>7512.00</td>\n",
       "      <td>NaN</td>\n",
       "      <td>NaN</td>\n",
       "      <td>NaN</td>\n",
       "    </tr>\n",
       "    <tr>\n",
       "      <th>104957</th>\n",
       "      <td>ТОВ1335467</td>\n",
       "      <td>4</td>\n",
       "      <td>23400.00</td>\n",
       "      <td>15412.00</td>\n",
       "      <td>NaN</td>\n",
       "      <td>NaN</td>\n",
       "      <td>NaN</td>\n",
       "    </tr>\n",
       "    <tr>\n",
       "      <th>104958</th>\n",
       "      <td>ТОВ1335468</td>\n",
       "      <td>1</td>\n",
       "      <td>6060.00</td>\n",
       "      <td>3986.00</td>\n",
       "      <td>NaN</td>\n",
       "      <td>NaN</td>\n",
       "      <td>NaN</td>\n",
       "    </tr>\n",
       "    <tr>\n",
       "      <th>104959</th>\n",
       "      <td>ТОВ1335469</td>\n",
       "      <td>2</td>\n",
       "      <td>12920.00</td>\n",
       "      <td>8498.00</td>\n",
       "      <td>NaN</td>\n",
       "      <td>NaN</td>\n",
       "      <td>NaN</td>\n",
       "    </tr>\n",
       "    <tr>\n",
       "      <th>104960</th>\n",
       "      <td>ТОВ1335470</td>\n",
       "      <td>1</td>\n",
       "      <td>4915.09</td>\n",
       "      <td>4313.00</td>\n",
       "      <td>NaN</td>\n",
       "      <td>NaN</td>\n",
       "      <td>NaN</td>\n",
       "    </tr>\n",
       "  </tbody>\n",
       "</table>\n",
       "<p>104961 rows × 7 columns</p>\n",
       "</div>"
      ],
      "text/plain": [
       "        Код товара  Количество-продажи  Сумма продаж с баллами  \\\n",
       "0       ТОВ0115302                   5               198154.16   \n",
       "1       ТОВ0115418                   1                 4292.10   \n",
       "2       ТОВ0115554                   1                66654.28   \n",
       "3       ТОВ0119984                   1                11000.00   \n",
       "4       ТОВ0120217                   1                 8424.00   \n",
       "...            ...                 ...                     ...   \n",
       "104956  ТОВ1335466                   2                10449.30   \n",
       "104957  ТОВ1335467                   4                23400.00   \n",
       "104958  ТОВ1335468                   1                 6060.00   \n",
       "104959  ТОВ1335469                   2                12920.00   \n",
       "104960  ТОВ1335470                   1                 4915.09   \n",
       "\n",
       "        Себестоимость продаж  Сумма продаж  Количество продаж  Себестоимость  \n",
       "0                   65596.85       33764.0                1.0       15031.88  \n",
       "1                    1315.80        4292.1                1.0        1315.80  \n",
       "2                   15108.45           NaN                NaN            NaN  \n",
       "3                    2060.18           NaN                NaN            NaN  \n",
       "4                    3680.03        8424.0                1.0        3680.03  \n",
       "...                      ...           ...                ...            ...  \n",
       "104956               7512.00           NaN                NaN            NaN  \n",
       "104957              15412.00           NaN                NaN            NaN  \n",
       "104958               3986.00           NaN                NaN            NaN  \n",
       "104959               8498.00           NaN                NaN            NaN  \n",
       "104960               4313.00           NaN                NaN            NaN  \n",
       "\n",
       "[104961 rows x 7 columns]"
      ]
     },
     "execution_count": 23,
     "metadata": {},
     "output_type": "execute_result"
    }
   ],
   "source": [
    "sale"
   ]
  },
  {
   "cell_type": "code",
   "execution_count": 26,
   "metadata": {},
   "outputs": [],
   "source": [
    "sale.fillna(0, inplace=True)"
   ]
  },
  {
   "cell_type": "code",
   "execution_count": 27,
   "metadata": {},
   "outputs": [],
   "source": [
    "sale['Сумма'] = sale['Сумма продаж'] + sale['Сумма продаж с баллами']\n",
    "sale['Себес'] = sale['Себестоимость продаж'] + sale['Себестоимость']\n",
    "sale['Кол-во'] = sale['Количество продаж'] + sale['Количество-продажи']"
   ]
  },
  {
   "cell_type": "code",
   "execution_count": 30,
   "metadata": {},
   "outputs": [],
   "source": [
    "sale.drop(columns= ['Количество-продажи', 'Сумма продаж с баллами', 'Себестоимость продаж', 'Сумма продаж', 'Количество продаж', 'Себестоимость'],\n",
    "        inplace = True)"
   ]
  },
  {
   "cell_type": "code",
   "execution_count": 33,
   "metadata": {},
   "outputs": [],
   "source": [
    "stock = stock.merge(sale, how='left', on='Код товара')"
   ]
  },
  {
   "cell_type": "code",
   "execution_count": 36,
   "metadata": {},
   "outputs": [
    {
     "data": {
      "text/html": [
       "<div>\n",
       "<style scoped>\n",
       "    .dataframe tbody tr th:only-of-type {\n",
       "        vertical-align: middle;\n",
       "    }\n",
       "\n",
       "    .dataframe tbody tr th {\n",
       "        vertical-align: top;\n",
       "    }\n",
       "\n",
       "    .dataframe thead th {\n",
       "        text-align: right;\n",
       "    }\n",
       "</style>\n",
       "<table border=\"1\" class=\"dataframe\">\n",
       "  <thead>\n",
       "    <tr style=\"text-align: right;\">\n",
       "      <th></th>\n",
       "      <th>ID Сайта</th>\n",
       "      <th>Остаток</th>\n",
       "    </tr>\n",
       "  </thead>\n",
       "  <tbody>\n",
       "    <tr>\n",
       "      <th>0</th>\n",
       "      <td>1000030</td>\n",
       "      <td>41.0</td>\n",
       "    </tr>\n",
       "    <tr>\n",
       "      <th>1</th>\n",
       "      <td>1000181</td>\n",
       "      <td>58.0</td>\n",
       "    </tr>\n",
       "    <tr>\n",
       "      <th>2</th>\n",
       "      <td>1000188</td>\n",
       "      <td>675.0</td>\n",
       "    </tr>\n",
       "    <tr>\n",
       "      <th>3</th>\n",
       "      <td>1000336</td>\n",
       "      <td>24.0</td>\n",
       "    </tr>\n",
       "    <tr>\n",
       "      <th>4</th>\n",
       "      <td>1000457</td>\n",
       "      <td>1.0</td>\n",
       "    </tr>\n",
       "    <tr>\n",
       "      <th>...</th>\n",
       "      <td>...</td>\n",
       "      <td>...</td>\n",
       "    </tr>\n",
       "    <tr>\n",
       "      <th>47742</th>\n",
       "      <td>8380059</td>\n",
       "      <td>36.0</td>\n",
       "    </tr>\n",
       "    <tr>\n",
       "      <th>47743</th>\n",
       "      <td>8380065</td>\n",
       "      <td>13.0</td>\n",
       "    </tr>\n",
       "    <tr>\n",
       "      <th>47744</th>\n",
       "      <td>8380085</td>\n",
       "      <td>2.0</td>\n",
       "    </tr>\n",
       "    <tr>\n",
       "      <th>47745</th>\n",
       "      <td>8380087</td>\n",
       "      <td>3.0</td>\n",
       "    </tr>\n",
       "    <tr>\n",
       "      <th>47746</th>\n",
       "      <td>8380608</td>\n",
       "      <td>5.0</td>\n",
       "    </tr>\n",
       "  </tbody>\n",
       "</table>\n",
       "<p>47747 rows × 2 columns</p>\n",
       "</div>"
      ],
      "text/plain": [
       "      ID Сайта  Остаток\n",
       "0      1000030     41.0\n",
       "1      1000181     58.0\n",
       "2      1000188    675.0\n",
       "3      1000336     24.0\n",
       "4      1000457      1.0\n",
       "...        ...      ...\n",
       "47742  8380059     36.0\n",
       "47743  8380065     13.0\n",
       "47744  8380085      2.0\n",
       "47745  8380087      3.0\n",
       "47746  8380608      5.0\n",
       "\n",
       "[47747 rows x 2 columns]"
      ]
     },
     "execution_count": 36,
     "metadata": {},
     "output_type": "execute_result"
    }
   ],
   "source": [
    "ost"
   ]
  },
  {
   "cell_type": "code",
   "execution_count": 37,
   "metadata": {},
   "outputs": [],
   "source": [
    "stock = stock.merge(ost, how='left', on='ID Сайта')"
   ]
  },
  {
   "cell_type": "code",
   "execution_count": 39,
   "metadata": {},
   "outputs": [],
   "source": [
    "stock.drop_duplicates(subset=['ID Сайта'], inplace=True)"
   ]
  },
  {
   "cell_type": "code",
   "execution_count": 41,
   "metadata": {},
   "outputs": [],
   "source": [
    "cb = stock[stock['Товарное направление'] == 'ЦБ']\n",
    "si = stock[stock['Товарное направление'] == 'СИ']"
   ]
  },
  {
   "cell_type": "code",
   "execution_count": 45,
   "metadata": {},
   "outputs": [],
   "source": [
    "cb.sort_values(by=['Сумма'], ascending=False, inplace=True)\n",
    "si.sort_values(by=['Сумма'], ascending=False, inplace=True)"
   ]
  },
  {
   "cell_type": "code",
   "execution_count": 49,
   "metadata": {},
   "outputs": [],
   "source": [
    "cb = cb[:100]\n",
    "si = si[:100]"
   ]
  },
  {
   "cell_type": "code",
   "execution_count": 50,
   "metadata": {},
   "outputs": [],
   "source": [
    "result = pd.concat([cb, si], ignore_index=True)"
   ]
  },
  {
   "cell_type": "code",
   "execution_count": 52,
   "metadata": {},
   "outputs": [],
   "source": [
    "images = result['ID Сайта']"
   ]
  },
  {
   "cell_type": "code",
   "execution_count": 54,
   "metadata": {},
   "outputs": [],
   "source": [
    "images.to_excel('imagestop.xlsx', index=False)"
   ]
  },
  {
   "cell_type": "code",
   "execution_count": 55,
   "metadata": {},
   "outputs": [
    {
     "data": {
      "text/plain": [
       "0      1863703\n",
       "1      1170467\n",
       "2      8348333\n",
       "3      1576139\n",
       "4      1245677\n",
       "        ...   \n",
       "195    3618947\n",
       "196    3701849\n",
       "197    1160491\n",
       "198    4866007\n",
       "199    1950133\n",
       "Name: ID Сайта, Length: 200, dtype: object"
      ]
     },
     "execution_count": 55,
     "metadata": {},
     "output_type": "execute_result"
    }
   ],
   "source": []
  },
  {
   "cell_type": "code",
   "execution_count": null,
   "metadata": {},
   "outputs": [],
   "source": []
  }
 ],
 "metadata": {
  "kernelspec": {
   "display_name": "Python 3",
   "language": "python",
   "name": "python3"
  },
  "language_info": {
   "codemirror_mode": {
    "name": "ipython",
    "version": 3
   },
   "file_extension": ".py",
   "mimetype": "text/x-python",
   "name": "python",
   "nbconvert_exporter": "python",
   "pygments_lexer": "ipython3",
   "version": "3.12.4"
  }
 },
 "nbformat": 4,
 "nbformat_minor": 2
}
