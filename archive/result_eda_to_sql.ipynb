{
 "cells": [
  {
   "cell_type": "code",
   "execution_count": 1,
   "metadata": {},
   "outputs": [],
   "source": [
    "import datetime as dt\n",
    "import psycopg2"
   ]
  },
  {
   "cell_type": "code",
   "execution_count": 2,
   "metadata": {},
   "outputs": [],
   "source": [
    "hostname = '51.250.54.232'\n",
    "username = 'yura'\n",
    "password = 'ivanov24.07'\n",
    "database = 'dldb'"
   ]
  },
  {
   "cell_type": "code",
   "execution_count": 3,
   "metadata": {},
   "outputs": [],
   "source": [
    "date_now = dt.datetime.today().strftime('%Y-%m-%d')"
   ]
  },
  {
   "cell_type": "code",
   "execution_count": 12,
   "metadata": {},
   "outputs": [],
   "source": [
    "def do_query(conn) :\n",
    "    cur = conn.cursor()\n",
    "\n",
    "    cur.execute(f'''\n",
    "                INSERT INTO yura.history_price_every_day(date_, competitor, price_per_gramm, num_shop)\n",
    "                VALUES \n",
    "                ('{date_now}', 'Sokolov', 8099, '_Sokolov'),\n",
    "                ('{date_now}', 'Sunlight', 6265, '_Sunlight'),\n",
    "                ('{date_now}', '585*Золотой онлайн продажи', 6493, '_585*Золотой онлайн продажи'),\n",
    "                ('{date_now}', '585*Золотой онлайн остатки', 6488, '_585*Золотой онлайн остатки'), \n",
    "                ('{date_now}', '585*Золотой офлайн продажи', 6586, '_585*Золотой офлайн продажи'),\n",
    "                ('{date_now}', '585*Золотой офлайн остатки', 7504, '_585*Золотой офлайн остатки');\n",
    "                ''')\n",
    "    \n",
    "    print('Данные записаны')"
   ]
  },
  {
   "cell_type": "code",
   "execution_count": 13,
   "metadata": {},
   "outputs": [],
   "source": [
    "myConnection = psycopg2.connect(host=hostname, \n",
    "                                user=username, \n",
    "                                password=password, \n",
    "                                dbname=database)"
   ]
  },
  {
   "cell_type": "code",
   "execution_count": 14,
   "metadata": {},
   "outputs": [
    {
     "name": "stdout",
     "output_type": "stream",
     "text": [
      "Данные записаны\n"
     ]
    }
   ],
   "source": [
    "do_query(myConnection)\n",
    "myConnection.close()"
   ]
  },
  {
   "cell_type": "code",
   "execution_count": null,
   "metadata": {},
   "outputs": [],
   "source": []
  }
 ],
 "metadata": {
  "kernelspec": {
   "display_name": "Python 3",
   "language": "python",
   "name": "python3"
  },
  "language_info": {
   "codemirror_mode": {
    "name": "ipython",
    "version": 3
   },
   "file_extension": ".py",
   "mimetype": "text/x-python",
   "name": "python",
   "nbconvert_exporter": "python",
   "pygments_lexer": "ipython3",
   "version": "3.12.0"
  }
 },
 "nbformat": 4,
 "nbformat_minor": 2
}
