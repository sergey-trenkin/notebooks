{
 "cells": [
  {
   "cell_type": "code",
   "execution_count": 1,
   "metadata": {},
   "outputs": [
    {
     "data": {
      "text/plain": [
       "'ru_RU.UTF-8'"
      ]
     },
     "execution_count": 1,
     "metadata": {},
     "output_type": "execute_result"
    }
   ],
   "source": [
    "from tqdm import tqdm\n",
    "import pandas as pd\n",
    "import datetime as dt\n",
    "import numpy as np\n",
    "import warnings\n",
    "import pymssql\n",
    "import locale\n",
    "import glob\n",
    "import os\n",
    "\n",
    "warnings.filterwarnings('ignore')\n",
    "pd.set_option('use_inf_as_na', True)\n",
    "pd.options.display.max_columns = None\n",
    "pd.set_option('float_format', '{:.2f}'.format)\n",
    "locale.setlocale(locale.LC_ALL, 'ru_RU.UTF-8')"
   ]
  },
  {
   "cell_type": "code",
   "execution_count": 2,
   "metadata": {},
   "outputs": [],
   "source": [
    "conn = pymssql.connect(server='AX-SQL', database='Staging')\n",
    "cursor = conn.cursor()\n",
    "\n",
    "sql = f'''\n",
    "SELECT [Код склада], [Название склада], [Артикул поставщика], [Внутренний артикул], [ID Сайта], [Название товара], [Остаток], [Цена Закупки за 1 шт. (упр сс с НДС за единицу)], [ШК], [Код товара]\n",
    "from [Staging].[Reports].[Remainings_8h]\n",
    "where [Товарное направление] in (N'БК', N'ЦБ', N'СИ', N'ИФ', N'ПДК', N'ДК', N'ВЫРИЦА', N'ЧАСЫ')\n",
    "'''\n",
    "\n",
    "sql_query = pd.read_sql_query(sql, conn)\n",
    "stock = pd.DataFrame(sql_query)"
   ]
  },
  {
   "cell_type": "code",
   "execution_count": 3,
   "metadata": {},
   "outputs": [],
   "source": [
    "path = r'\\\\gold585.int\\uk\\Общее хранилище файлов\\Служба аналитики\\Архив_отчеты\\Продажи\\По дням\\\\'\n",
    "list_of_files = glob.glob(path + '*.xlsx') \n",
    "latest_file = max(list_of_files, key=os.path.getctime)\n",
    "\n",
    "sklad = pd.read_excel(latest_file, sheet_name = 'Продажи по ассортименту', header = 2)\n",
    "\n",
    "stock['Код склада'] = stock['Код склада'].astype('float64') \n",
    "\n",
    "sklad = sklad[['Unnamed: 0','Торговая марка', 'Юр лицо', 'Код склада', 'Дата открытия объекта', 'Код объекта', 'Город', 'Наименование объекта']]\n",
    "sklad1 = sklad[['Код склада', 'Код объекта']].drop_duplicates().reset_index(drop=True)\n",
    "sklad1 = sklad1[sklad1['Код объекта'].notna()]\n",
    "\n",
    "sklad1['Код объекта'] = sklad1['Код объекта'].astype(str)\n",
    "sklad1['8'] = sklad1['Код объекта'].apply(lambda x: x[0])\n",
    "sklad1 = sklad1[sklad1['8'] != '8']\n",
    "\n",
    "stock = stock.merge(sklad1, left_on='Код склада', right_on = 'Код склада', how='inner')\n",
    "\n",
    "stock = stock.drop(columns=['8'])"
   ]
  },
  {
   "cell_type": "code",
   "execution_count": 4,
   "metadata": {},
   "outputs": [],
   "source": [
    "stock = stock[stock['ID Сайта'] != '']"
   ]
  },
  {
   "cell_type": "code",
   "execution_count": 5,
   "metadata": {},
   "outputs": [],
   "source": [
    "stock['Код склада'] = stock['Код склада'].astype(int)"
   ]
  },
  {
   "cell_type": "code",
   "execution_count": 6,
   "metadata": {},
   "outputs": [],
   "source": [
    "year_now, month_now = str(dt.datetime.today().year), str(dt.datetime.today().month)\n",
    "if int(month_now) < 10: month_now = '0' + str(month_now)"
   ]
  },
  {
   "cell_type": "code",
   "execution_count": 7,
   "metadata": {},
   "outputs": [],
   "source": [
    "os.chdir(r'\\\\gold585.int\\uk\\Общее хранилище файлов\\Служба аналитики\\Выгрузки из DWH\\Продажи по КБК из DWH new')\n",
    "extension = 'xlsx'\n",
    "filenames = [i for i in glob.glob('*.{}'.format(extension))]\n",
    "all_filenames = list()\n",
    "\n",
    "for file in filenames:\n",
    "    if year_now in file and month_now in file: \n",
    "        all_filenames.append(file) "
   ]
  },
  {
   "cell_type": "code",
   "execution_count": 8,
   "metadata": {},
   "outputs": [
    {
     "name": "stderr",
     "output_type": "stream",
     "text": [
      "  0%|          | 0/5 [00:00<?, ?it/s]"
     ]
    },
    {
     "name": "stderr",
     "output_type": "stream",
     "text": [
      "100%|██████████| 5/5 [05:55<00:00, 71.08s/it]\n"
     ]
    }
   ],
   "source": [
    "sale = pd.DataFrame()\n",
    "for name in tqdm(all_filenames):\n",
    "    sales = pd.read_excel(name)\n",
    "    sale = pd.concat([sales, sale], ignore_index= True)"
   ]
  },
  {
   "cell_type": "code",
   "execution_count": 9,
   "metadata": {},
   "outputs": [],
   "source": [
    "sale.columns = ['КБК', 'Дата', 'Продавец', 'Номер чека', 'ID продажи', 'Тов',\n",
    "    'article', 'Количество', 'Номенклатура', 'Номер карты',\n",
    "    'Товарная группа', 'Товарное направление', 'Тип 1',\n",
    "    'Списание СберСпасибо', 'Группа наценки', 'Вес', 'Проба', 'Размер',\n",
    "    'ШК', 'Цена без скидки', 'Базовая скидка', 'Скидка в руб.', 'Название',\n",
    "    'Цена после скидки', 'Phone', 'Себестоимость', 'Сумма', 'Услуга',\n",
    "    'Общая сумма']"
   ]
  },
  {
   "cell_type": "code",
   "execution_count": 10,
   "metadata": {},
   "outputs": [],
   "source": [
    "articles = stock['Артикул поставщика'].tolist()"
   ]
  },
  {
   "cell_type": "code",
   "execution_count": 11,
   "metadata": {},
   "outputs": [],
   "source": [
    "sale = sale.query('article in @articles')\n",
    "sale = sale.groupby(by = 'article', as_index=False)[['Количество', 'Общая сумма']].sum()\n",
    "sale.columns = ['Артикул поставщика', 'Количество продаж за предыдущую неделю', 'Общая сумма продаж за предыдущю неделю']"
   ]
  },
  {
   "cell_type": "code",
   "execution_count": 12,
   "metadata": {},
   "outputs": [],
   "source": [
    "center = stock[stock['Код склада'] == 3075]\n",
    "center = center.groupby(by = 'ID Сайта', as_index=False)['Остаток'].sum()\n",
    "center.columns = ['ID Сайта', 'Остаток на центральном складе']"
   ]
  },
  {
   "cell_type": "code",
   "execution_count": 13,
   "metadata": {},
   "outputs": [],
   "source": [
    "kolambus = stock[stock['Код склада'] == 5442]\n",
    "kolambus = kolambus.groupby(by = 'ID Сайта', as_index=False)['Остаток'].sum()\n",
    "kolambus.columns = ['ID Сайта', 'Остаток на складе коламбуса']"
   ]
  },
  {
   "cell_type": "code",
   "execution_count": 14,
   "metadata": {},
   "outputs": [],
   "source": [
    "federal = pd.read_excel(r'C:\\Users\\Trenkin.Sergey\\Desktop\\Федеральные склады 11.06.xlsx') # подтянуть более актуальный файл\n",
    "stock.rename(columns={'Название склада': 'name'}, inplace=True)\n",
    "federal = federal['outlet_name'].tolist() \n",
    "federal = stock.query('name in @federal')\n",
    "federal = federal.groupby(by = 'ID Сайта', as_index=False)['Остаток'].sum()\n",
    "federal.columns = ['ID Сайта', 'Остаток на федеральных складах']"
   ]
  },
  {
   "cell_type": "code",
   "execution_count": 15,
   "metadata": {},
   "outputs": [],
   "source": [
    "stock = stock.merge(federal, how='outer', on='ID Сайта')\n",
    "stock = stock.merge(kolambus, how='outer', on='ID Сайта')\n",
    "stock = stock.merge(center, how='outer', on='ID Сайта')"
   ]
  },
  {
   "cell_type": "code",
   "execution_count": 16,
   "metadata": {},
   "outputs": [],
   "source": [
    "conn = pymssql.connect(server='spb-s-sql-dwh', database='DWH_DEV', charset='WINDOWS-1251')\n",
    "cursor = conn.cursor()\n",
    "\n",
    "sql = f'''\n",
    "SELECT [article], [sort]\n",
    "from [DWH_DEV].[ecom].[catalog_product]\n",
    "'''\n",
    "\n",
    "sql_query = pd.read_sql_query(sql, conn)\n",
    "sort = pd.DataFrame(sql_query)"
   ]
  },
  {
   "cell_type": "code",
   "execution_count": 17,
   "metadata": {},
   "outputs": [],
   "source": [
    "sort.rename(columns={'article': 'ID Сайта'}, inplace=True)\n",
    "stock = stock.merge(sort, how='outer', on='ID Сайта')\n",
    "stock = stock.merge(sale, how='outer', on='Артикул поставщика')"
   ]
  },
  {
   "cell_type": "code",
   "execution_count": 18,
   "metadata": {},
   "outputs": [],
   "source": [
    "summ = stock.groupby(by='ID Сайта', as_index=False)['Остаток'].sum()\n",
    "summ.rename(columns={'Остаток': 'Общий остаток на всех складах'}, inplace=True)\n",
    "stock = stock.merge(summ, how='left', on='ID Сайта')\n",
    "stock = stock.drop_duplicates(subset=['ID Сайта', 'Общий остаток на всех складах'])"
   ]
  },
  {
   "cell_type": "code",
   "execution_count": 19,
   "metadata": {},
   "outputs": [],
   "source": [
    "stock['Остаток на складе коламбуса'].fillna(0, inplace=True)\n",
    "stock['Остаток на федеральных складах'].fillna(0, inplace=True)\n",
    "stock['Остаток на центральном складе'].fillna(0, inplace=True)"
   ]
  },
  {
   "cell_type": "code",
   "execution_count": 20,
   "metadata": {},
   "outputs": [],
   "source": [
    "stock['Сумма в себестоимости на остатках ОБЩ'] = stock['Цена Закупки за 1 шт. (упр сс с НДС за единицу)'] * stock['Общий остаток на всех складах']\n",
    "stock['Сумма в себестоимости на остатках ФЕД+КОЛАМБУС+ЦЕНТР'] = (stock['Остаток на складе коламбуса'] + stock['Остаток на федеральных складах'] + stock['Остаток на центральном складе']) * stock['Цена Закупки за 1 шт. (упр сс с НДС за единицу)']"
   ]
  },
  {
   "cell_type": "code",
   "execution_count": 21,
   "metadata": {},
   "outputs": [],
   "source": [
    "stock.dropna(subset=['name'], inplace=True)"
   ]
  },
  {
   "cell_type": "code",
   "execution_count": 22,
   "metadata": {},
   "outputs": [],
   "source": [
    "conn = pymssql.connect(server='spb-s-sql-dwh', database='DWH_DEV', charset='WINDOWS-1251')\n",
    "cursor = conn.cursor()\n",
    "\n",
    "productimage = f'''\n",
    "select \n",
    "[image], [sort], [product_id], [deleted]\n",
    "from [DWH_DEV].[ecom].[catalog_productimage]\n",
    "where [deleted] is NULL\n",
    "'''\n",
    "\n",
    "product = f'''\n",
    "select \n",
    "[id], [article], [published]\n",
    "from [DWH_DEV].[ecom].[catalog_product]\n",
    "'''\n",
    "\n",
    "catalog_productimage = pd.read_sql_query(productimage, conn)\n",
    "catalog_product = pd.read_sql_query(product, conn)"
   ]
  },
  {
   "cell_type": "code",
   "execution_count": 23,
   "metadata": {},
   "outputs": [],
   "source": [
    "catalog_product = catalog_product.query('published == True')\n",
    "catalog_productimage.rename(columns={'product_id': 'id'},\n",
    "                            inplace=True)\n",
    "images = catalog_product.merge(catalog_productimage, how='left', on='id')\n",
    "images['image'] = 'https://static2.585.cloud/media/' + images['image']\n",
    "images = images.query('sort == 1')\n",
    "images = images[['article', 'image', 'published']]\n",
    "# date = dt.date.today().strftime('%d.%m.%Y')\n",
    "# images.to_excel(f'Актуальные фото с сайта {date}.xlsx', index=False)"
   ]
  },
  {
   "cell_type": "code",
   "execution_count": 24,
   "metadata": {},
   "outputs": [],
   "source": [
    "stock['ID Сайта'] = stock['ID Сайта'].astype(str)"
   ]
  },
  {
   "cell_type": "code",
   "execution_count": 25,
   "metadata": {},
   "outputs": [],
   "source": [
    "images.rename(columns={'article': 'ID Сайта'}, inplace=True)\n",
    "images['ID Сайта'] = images['ID Сайта'].astype(str)"
   ]
  },
  {
   "cell_type": "code",
   "execution_count": 26,
   "metadata": {},
   "outputs": [],
   "source": [
    "stock = stock.merge(images, how='outer', on='ID Сайта')\n",
    "stock = stock.drop(columns=['Остаток', 'Код склада'])"
   ]
  },
  {
   "cell_type": "code",
   "execution_count": 27,
   "metadata": {},
   "outputs": [],
   "source": [
    "stock.dropna(subset=['name'], inplace=True)"
   ]
  },
  {
   "cell_type": "code",
   "execution_count": 28,
   "metadata": {},
   "outputs": [],
   "source": [
    "path = r'\\\\gold585.int\\uk\\Общее хранилище файлов\\Служба аналитики\\МЮР\\ecom_stock_raw\\\\'\n",
    "list_of_files = glob.glob(path + '\\*.xlsx') \n",
    "latest_file = max(list_of_files, key=os.path.getctime) # мы ищем тут последний выгруженный файл (занимается выгрузкой Оризу Наталья email: Orizu.Natalya@zolotoy.ru)\n",
    "\n",
    "ecom = pd.read_excel(latest_file)\n",
    "\n",
    "path = r'\\\\gold585.int\\uk\\Общее хранилище файлов\\Служба аналитики\\Тренкин Сергей\\discounts_zolotoy\\\\'\n",
    "list_of_files = glob.glob(path + '\\*.xlsx') \n",
    "latest_file = max(list_of_files, key=os.path.getctime)\n",
    "\n",
    "discount_ecom = pd.read_excel(latest_file)"
   ]
  },
  {
   "cell_type": "code",
   "execution_count": 29,
   "metadata": {},
   "outputs": [],
   "source": [
    "discount_ecom.columns = ['article', 'Опубликован', 'discount_value_promotions_1','discount_value_promotions_2', 'discount_value_promotions_3','discount_value_promotions_4']\n",
    "ecom = ecom.merge(discount_ecom, how='left', on='article')"
   ]
  },
  {
   "cell_type": "code",
   "execution_count": 30,
   "metadata": {},
   "outputs": [],
   "source": [
    "def discount_index(discount):\n",
    "    try:\n",
    "        return 1 - discount / 100\n",
    "    except:\n",
    "        return 1\n",
    "    \n",
    "ecom.discount_value_promotions_1 = ecom.discount_value_promotions_1.apply(discount_index)\n",
    "\n",
    "ecom['Цена со скидками Ecom'] = np.where(\n",
    "    (ecom['price'] == ecom['discount_price']) & (ecom['discount_value_promotions_1'] == 1), ecom['discount_price'] * ecom['discount_value_promotions_1'], \n",
    "    np.where(\n",
    "        ecom['discount_value_promotions_1'] == 0.5, ecom['discount_price'] * ecom['discount_value_promotions_1'], ecom['discount_price'] * ecom['discount_value_promotions_1'] * 0.8\n",
    "    )\n",
    ")"
   ]
  },
  {
   "cell_type": "code",
   "execution_count": 31,
   "metadata": {},
   "outputs": [],
   "source": [
    "ecom['article'] = ecom['article'].astype(str)\n",
    "ecom = ecom[['article', 'Цена со скидками Ecom']]\n",
    "ecom.columns = ['ID Сайта', 'Цена со скидками Ecom']\n",
    "stock = stock.merge(ecom, how='left', on='ID Сайта')\n",
    "stock = stock.drop_duplicates(subset=['ID Сайта'])"
   ]
  },
  {
   "cell_type": "code",
   "execution_count": 32,
   "metadata": {},
   "outputs": [],
   "source": [
    "stock = stock.drop(columns=['name', 'Код объекта', 'Цена Закупки за 1 шт. (упр сс с НДС за единицу)'])"
   ]
  },
  {
   "cell_type": "code",
   "execution_count": 33,
   "metadata": {},
   "outputs": [],
   "source": [
    "stock.columns = ['Артикул поставщика', 'Внутренний артикул', 'ID Сайта',\n",
    "    'Название товара', 'ШК', 'Код товара', 'Остаток на федеральных складах',\n",
    "    'Остаток на складе коламбуса', 'Остаток на центральном складе', 'sort',\n",
    "    'Количество продаж за предыдущую неделю',\n",
    "    'Общая сумма продаж за предыдущю неделю',\n",
    "    'Общий остаток на всех складах',\n",
    "    'Сумма в себестоимости на остатках ОБЩ',\n",
    "    'Сумма в себестоимости на остатках ФЕД+КОЛАМБУС+ЦЕНТР', 'Ссылка на изображение', \n",
    "    'Опубликован', 'Цена со скидками Ecom']"
   ]
  },
  {
   "cell_type": "code",
   "execution_count": 34,
   "metadata": {},
   "outputs": [],
   "source": [
    "zapret = pd.read_excel(r'C:\\Users\\Trenkin.Sergey\\Desktop\\запрет Артикулы к размещению.xlsx')['Артикул сайта'].astype(str).tolist() # сюда более актуальный файл\n",
    "\n",
    "stock['Запрет к размещению'] = np.nan\n",
    "for i in stock.index:\n",
    "    if stock['ID Сайта'][i] in zapret: stock['Запрет к размещению'][i] = True\n",
    "    else: stock['Запрет к размещению'][i] = False"
   ]
  },
  {
   "cell_type": "code",
   "execution_count": 35,
   "metadata": {},
   "outputs": [
    {
     "data": {
      "text/plain": [
       "Запрет к размещению\n",
       "False    94215\n",
       "True        44\n",
       "Name: count, dtype: int64"
      ]
     },
     "execution_count": 35,
     "metadata": {},
     "output_type": "execute_result"
    }
   ],
   "source": [
    "stock['Запрет к размещению'].value_counts()"
   ]
  },
  {
   "cell_type": "code",
   "execution_count": 36,
   "metadata": {},
   "outputs": [],
   "source": [
    "stock.dropna(subset=['ШК'], inplace=True)"
   ]
  },
  {
   "cell_type": "code",
   "execution_count": 37,
   "metadata": {},
   "outputs": [],
   "source": [
    "stock1 = stock[~stock['Ссылка на изображение'].astype(str).str.contains('http')]\n",
    "stock2 = stock[(stock['Ссылка на изображение'].astype(str).str.contains('http')) & (stock['Запрет к размещению'] == False)]"
   ]
  },
  {
   "cell_type": "code",
   "execution_count": 38,
   "metadata": {},
   "outputs": [],
   "source": [
    "stock = pd.concat([stock1, stock2], ignore_index=True)"
   ]
  },
  {
   "cell_type": "code",
   "execution_count": 39,
   "metadata": {},
   "outputs": [],
   "source": [
    "stock = stock[(stock['Остаток на складе коламбуса'] != 0) | (stock['Остаток на федеральных складах'] != 0) | (stock['Остаток на центральном складе'] != 0)]"
   ]
  },
  {
   "cell_type": "code",
   "execution_count": 40,
   "metadata": {},
   "outputs": [],
   "source": [
    "stock.to_excel(fr'\\\\gold585.int\\uk\\Общее хранилище файлов\\Служба аналитики\\Тренкин Сергей\\Отчётность для контента\\\\{dt.datetime.today().strftime('%d.%m.%Y')} для контента.xlsx', index=False)"
   ]
  },
  {
   "cell_type": "code",
   "execution_count": null,
   "metadata": {},
   "outputs": [],
   "source": []
  }
 ],
 "metadata": {
  "kernelspec": {
   "display_name": "Python 3",
   "language": "python",
   "name": "python3"
  },
  "language_info": {
   "codemirror_mode": {
    "name": "ipython",
    "version": 3
   },
   "file_extension": ".py",
   "mimetype": "text/x-python",
   "name": "python",
   "nbconvert_exporter": "python",
   "pygments_lexer": "ipython3",
   "version": "3.12.4"
  }
 },
 "nbformat": 4,
 "nbformat_minor": 2
}
