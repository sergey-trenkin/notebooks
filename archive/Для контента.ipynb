{
 "cells": [
  {
   "cell_type": "code",
   "execution_count": 45,
   "metadata": {},
   "outputs": [
    {
     "data": {
      "text/plain": [
       "'ru_RU.UTF-8'"
      ]
     },
     "execution_count": 45,
     "metadata": {},
     "output_type": "execute_result"
    }
   ],
   "source": [
    "from tqdm import tqdm\n",
    "import pandas as pd\n",
    "import datetime as dt\n",
    "import numpy as np\n",
    "import warnings\n",
    "import pymssql\n",
    "import locale\n",
    "import glob\n",
    "import os\n",
    "\n",
    "warnings.filterwarnings('ignore')\n",
    "pd.set_option('use_inf_as_na', True)\n",
    "pd.options.display.max_columns = None\n",
    "pd.set_option('float_format', '{:.2f}'.format)\n",
    "locale.setlocale(locale.LC_ALL, 'ru_RU.UTF-8')"
   ]
  },
  {
   "cell_type": "code",
   "execution_count": 46,
   "metadata": {},
   "outputs": [],
   "source": [
    "conn = pymssql.connect(server='AX-SQL', database='Staging')\n",
    "cursor = conn.cursor()\n",
    "\n",
    "sql = f'''\n",
    "SELECT [Код склада], [Название склада], [Артикул поставщика], [Внутренний артикул], [ID Сайта], [Название товара], [Остаток], [Цена Закупки за 1 шт. (упр сс с НДС за единицу)], [ШК], [Код товара]\n",
    "from [Staging].[Reports].[Remainings_8h]\n",
    "where [Товарное направление] in (N'БК', N'ЦБ', N'СИ', N'ИФ', N'ПДК', N'ДК', N'ВЫРИЦА', N'ЧАСЫ')\n",
    "'''\n",
    "\n",
    "sql_query = pd.read_sql_query(sql, conn)\n",
    "stock = pd.DataFrame(sql_query)"
   ]
  },
  {
   "cell_type": "code",
   "execution_count": 48,
   "metadata": {},
   "outputs": [
    {
     "data": {
      "text/html": [
       "<div>\n",
       "<style scoped>\n",
       "    .dataframe tbody tr th:only-of-type {\n",
       "        vertical-align: middle;\n",
       "    }\n",
       "\n",
       "    .dataframe tbody tr th {\n",
       "        vertical-align: top;\n",
       "    }\n",
       "\n",
       "    .dataframe thead th {\n",
       "        text-align: right;\n",
       "    }\n",
       "</style>\n",
       "<table border=\"1\" class=\"dataframe\">\n",
       "  <thead>\n",
       "    <tr style=\"text-align: right;\">\n",
       "      <th></th>\n",
       "      <th>Код склада</th>\n",
       "      <th>Название склада</th>\n",
       "      <th>Артикул поставщика</th>\n",
       "      <th>Внутренний артикул</th>\n",
       "      <th>ID Сайта</th>\n",
       "      <th>Название товара</th>\n",
       "      <th>Остаток</th>\n",
       "      <th>Цена Закупки за 1 шт. (упр сс с НДС за единицу)</th>\n",
       "      <th>ШК</th>\n",
       "      <th>Код товара</th>\n",
       "    </tr>\n",
       "  </thead>\n",
       "  <tbody>\n",
       "    <tr>\n",
       "      <th>4453656</th>\n",
       "      <td>6540</td>\n",
       "      <td>Тверь, пл. Гагарина, 5</td>\n",
       "      <td>190380488РЧ</td>\n",
       "      <td>190380488РЧ_ДК</td>\n",
       "      <td>5199512</td>\n",
       "      <td>Подвеска с родолитом+брилл. с родированием</td>\n",
       "      <td>1.00</td>\n",
       "      <td>1535.00</td>\n",
       "      <td>2078082063259</td>\n",
       "      <td>ТОВ0740120</td>\n",
       "    </tr>\n",
       "    <tr>\n",
       "      <th>5059096</th>\n",
       "      <td>5729</td>\n",
       "      <td>СПб, Колпино, Тазаева, 5</td>\n",
       "      <td>190380488РЧ</td>\n",
       "      <td>190380488РЧ_ДК</td>\n",
       "      <td>5199512</td>\n",
       "      <td>Подвеска с родолитом+брилл. с родированием</td>\n",
       "      <td>1.00</td>\n",
       "      <td>1535.00</td>\n",
       "      <td>2078079716724</td>\n",
       "      <td>ТОВ0740120</td>\n",
       "    </tr>\n",
       "  </tbody>\n",
       "</table>\n",
       "</div>"
      ],
      "text/plain": [
       "        Код склада           Название склада Артикул поставщика  \\\n",
       "4453656       6540    Тверь, пл. Гагарина, 5        190380488РЧ   \n",
       "5059096       5729  СПб, Колпино, Тазаева, 5        190380488РЧ   \n",
       "\n",
       "        Внутренний артикул ID Сайта  \\\n",
       "4453656     190380488РЧ_ДК  5199512   \n",
       "5059096     190380488РЧ_ДК  5199512   \n",
       "\n",
       "                                    Название товара  Остаток  \\\n",
       "4453656  Подвеска с родолитом+брилл. с родированием     1.00   \n",
       "5059096  Подвеска с родолитом+брилл. с родированием     1.00   \n",
       "\n",
       "         Цена Закупки за 1 шт. (упр сс с НДС за единицу)             ШК  \\\n",
       "4453656                                          1535.00  2078082063259   \n",
       "5059096                                          1535.00  2078079716724   \n",
       "\n",
       "         Код товара  \n",
       "4453656  ТОВ0740120  \n",
       "5059096  ТОВ0740120  "
      ]
     },
     "execution_count": 48,
     "metadata": {},
     "output_type": "execute_result"
    }
   ],
   "source": [
    "stock[stock['Код товара'] == 'ТОВ0740120']"
   ]
  },
  {
   "cell_type": "code",
   "execution_count": 3,
   "metadata": {},
   "outputs": [],
   "source": [
    "path = r'\\\\gold585.int\\uk\\Общее хранилище файлов\\Служба аналитики\\Архив_отчеты\\Продажи\\По дням\\\\'\n",
    "list_of_files = glob.glob(path + '*.xlsx') \n",
    "latest_file = max(list_of_files, key=os.path.getctime)\n",
    "\n",
    "sklad = pd.read_excel(latest_file, sheet_name = 'Продажи по ассортименту', header = 2)\n",
    "\n",
    "stock['Код склада'] = stock['Код склада'].astype('float64') \n",
    "\n",
    "sklad = sklad[['Unnamed: 0','Торговая марка', 'Юр лицо', 'Код склада', 'Дата открытия объекта', 'Код объекта', 'Город', 'Наименование объекта']]\n",
    "sklad1 = sklad[['Код склада', 'Код объекта']].drop_duplicates().reset_index(drop=True)\n",
    "sklad1 = sklad1[sklad1['Код объекта'].notna()]\n",
    "\n",
    "sklad1['Код объекта'] = sklad1['Код объекта'].astype(str)\n",
    "sklad1['8'] = sklad1['Код объекта'].apply(lambda x: x[0])\n",
    "sklad1 = sklad1[sklad1['8'] != '8']\n",
    "\n",
    "stock = stock.merge(sklad1, left_on='Код склада', right_on = 'Код склада', how='inner')\n",
    "\n",
    "stock = stock.drop(columns=['8'])"
   ]
  },
  {
   "cell_type": "code",
   "execution_count": 4,
   "metadata": {},
   "outputs": [],
   "source": [
    "stock = stock[stock['ID Сайта'] != '']"
   ]
  },
  {
   "cell_type": "code",
   "execution_count": 5,
   "metadata": {},
   "outputs": [],
   "source": [
    "stock['Код склада'] = stock['Код склада'].astype(int)"
   ]
  },
  {
   "cell_type": "code",
   "execution_count": 6,
   "metadata": {},
   "outputs": [],
   "source": [
    "year_now, month_now = str(dt.datetime.today().year), str(dt.datetime.today().month)\n",
    "if int(month_now) < 10: month_now = '0' + str(month_now)"
   ]
  },
  {
   "cell_type": "code",
   "execution_count": 7,
   "metadata": {},
   "outputs": [],
   "source": [
    "os.chdir(r'\\\\gold585.int\\uk\\Общее хранилище файлов\\Служба аналитики\\Выгрузки из DWH\\Продажи по КБК из DWH new')\n",
    "extension = 'xlsx'\n",
    "filenames = [i for i in glob.glob('*.{}'.format(extension))]\n",
    "all_filenames = list()\n",
    "\n",
    "for file in filenames:\n",
    "    if year_now in file and month_now in file: \n",
    "        all_filenames.append(file) "
   ]
  },
  {
   "cell_type": "code",
   "execution_count": 8,
   "metadata": {},
   "outputs": [
    {
     "name": "stderr",
     "output_type": "stream",
     "text": [
      "100%|██████████| 4/4 [02:50<00:00, 42.60s/it]\n"
     ]
    }
   ],
   "source": [
    "sale = pd.DataFrame()\n",
    "for name in tqdm(all_filenames):\n",
    "    \n",
    "    sales = pd.read_excel(name)\n",
    "    sale = pd.concat([sales, sale], ignore_index= True)"
   ]
  },
  {
   "cell_type": "code",
   "execution_count": 9,
   "metadata": {},
   "outputs": [],
   "source": [
    "sale.columns = ['КБК', 'Дата', 'Продавец', 'Номер чека', 'ID продажи', 'Тов',\n",
    "    'article', 'Количество', 'Номенклатура', 'Номер карты',\n",
    "    'Товарная группа', 'Товарное направление', 'Тип 1',\n",
    "    'Списание СберСпасибо', 'Группа наценки', 'Вес', 'Проба', 'Размер',\n",
    "    'ШК', 'Цена без скидки', 'Базовая скидка', 'Скидка в руб.', 'Название',\n",
    "    'Цена после скидки', 'Phone', 'Себестоимость', 'Сумма', 'Услуга',\n",
    "    'Общая сумма']"
   ]
  },
  {
   "cell_type": "code",
   "execution_count": 10,
   "metadata": {},
   "outputs": [],
   "source": [
    "articles = stock['Артикул поставщика'].tolist()"
   ]
  },
  {
   "cell_type": "code",
   "execution_count": 11,
   "metadata": {},
   "outputs": [],
   "source": [
    "sale = sale.query('article in @articles')\n",
    "sale = sale.groupby(by = 'article', as_index=False)[['Количество', 'Общая сумма']].sum()\n",
    "sale.columns = ['Артикул поставщика', 'Количество продаж за предыдущую неделю', 'Общая сумма продаж за предыдущю неделю']"
   ]
  },
  {
   "cell_type": "code",
   "execution_count": 12,
   "metadata": {},
   "outputs": [],
   "source": [
    "center = stock[stock['Код склада'] == 3075]\n",
    "center = center.groupby(by = 'ID Сайта', as_index=False)['Остаток'].sum()\n",
    "center.columns = ['ID Сайта', 'Остаток на центральном складе']"
   ]
  },
  {
   "cell_type": "code",
   "execution_count": 13,
   "metadata": {},
   "outputs": [],
   "source": [
    "kolambus = stock[stock['Код склада'] == 5442]\n",
    "kolambus = kolambus.groupby(by = 'ID Сайта', as_index=False)['Остаток'].sum()\n",
    "kolambus.columns = ['ID Сайта', 'Остаток на складе коламбуса']"
   ]
  },
  {
   "cell_type": "code",
   "execution_count": 14,
   "metadata": {},
   "outputs": [],
   "source": [
    "federal = pd.read_excel(r'C:\\Users\\Trenkin.Sergey\\Desktop\\Федеральные склады 11.06.xlsx')\n",
    "stock.rename(columns={'Название склада': 'name'}, inplace=True)\n",
    "federal = federal['outlet_name'].tolist() \n",
    "federal = stock.query('name in @federal')\n",
    "federal = federal.groupby(by = 'ID Сайта', as_index=False)['Остаток'].sum()\n",
    "federal.columns = ['ID Сайта', 'Остаток на федеральных складах']"
   ]
  },
  {
   "cell_type": "code",
   "execution_count": 15,
   "metadata": {},
   "outputs": [],
   "source": [
    "stock = stock.merge(federal, how='outer', on='ID Сайта')\n",
    "stock = stock.merge(kolambus, how='outer', on='ID Сайта')\n",
    "stock = stock.merge(center, how='outer', on='ID Сайта')"
   ]
  },
  {
   "cell_type": "code",
   "execution_count": 16,
   "metadata": {},
   "outputs": [],
   "source": [
    "conn = pymssql.connect(server='spb-s-sql-dwh', database='DWH_DEV', charset='WINDOWS-1251')\n",
    "cursor = conn.cursor()\n",
    "\n",
    "sql = f'''\n",
    "SELECT [article], [sort]\n",
    "from [DWH_DEV].[ecom].[catalog_product]\n",
    "'''\n",
    "\n",
    "sql_query = pd.read_sql_query(sql, conn)\n",
    "sort = pd.DataFrame(sql_query)"
   ]
  },
  {
   "cell_type": "code",
   "execution_count": 17,
   "metadata": {},
   "outputs": [
    {
     "name": "stdout",
     "output_type": "stream",
     "text": [
      "<class 'pandas.core.frame.DataFrame'>\n",
      "RangeIndex: 5717665 entries, 0 to 5717664\n",
      "Data columns (total 14 columns):\n",
      " #   Column                                           Dtype  \n",
      "---  ------                                           -----  \n",
      " 0   Код склада                                       int32  \n",
      " 1   name                                             object \n",
      " 2   Артикул поставщика                               object \n",
      " 3   Внутренний артикул                               object \n",
      " 4   ID Сайта                                         object \n",
      " 5   Название товара                                  object \n",
      " 6   Остаток                                          float64\n",
      " 7   Цена Закупки за 1 шт. (упр сс с НДС за единицу)  float64\n",
      " 8   ШК                                               object \n",
      " 9   Код товара                                       object \n",
      " 10  Код объекта                                      object \n",
      " 11  Остаток на федеральных складах                   float64\n",
      " 12  Остаток на складе коламбуса                      float64\n",
      " 13  Остаток на центральном складе                    float64\n",
      "dtypes: float64(5), int32(1), object(8)\n",
      "memory usage: 588.9+ MB\n"
     ]
    }
   ],
   "source": [
    "stock.info()"
   ]
  },
  {
   "cell_type": "code",
   "execution_count": 18,
   "metadata": {},
   "outputs": [],
   "source": [
    "sort.rename(columns={'article': 'ID Сайта'}, inplace=True)\n",
    "stock = stock.merge(sort, how='outer', on='ID Сайта')\n",
    "stock = stock.merge(sale, how='outer', on='Артикул поставщика')"
   ]
  },
  {
   "cell_type": "code",
   "execution_count": 19,
   "metadata": {},
   "outputs": [],
   "source": [
    "summ = stock.groupby(by='ID Сайта', as_index=False)['Остаток'].sum()\n",
    "summ.rename(columns={'Остаток': 'Общий остаток на всех складах'}, inplace=True)\n",
    "stock = stock.merge(summ, how='left', on='ID Сайта')\n",
    "stock = stock.drop_duplicates(subset=['ID Сайта', 'Общий остаток на всех складах'])"
   ]
  },
  {
   "cell_type": "code",
   "execution_count": 20,
   "metadata": {},
   "outputs": [],
   "source": [
    "stock['Остаток на складе коламбуса'].fillna(0, inplace=True)\n",
    "stock['Остаток на федеральных складах'].fillna(0, inplace=True)\n",
    "stock['Остаток на центральном складе'].fillna(0, inplace=True)"
   ]
  },
  {
   "cell_type": "code",
   "execution_count": 21,
   "metadata": {},
   "outputs": [],
   "source": [
    "stock['Сумма в себестоимости на остатках ОБЩ'] = stock['Цена Закупки за 1 шт. (упр сс с НДС за единицу)'] * stock['Общий остаток на всех складах']\n",
    "stock['Сумма в себестоимости на остатках ФЕД+КОЛАМБУС+ЦЕНТР'] = (stock['Остаток на складе коламбуса'] + stock['Остаток на федеральных складах'] + stock['Остаток на центральном складе']) * stock['Цена Закупки за 1 шт. (упр сс с НДС за единицу)']"
   ]
  },
  {
   "cell_type": "code",
   "execution_count": 22,
   "metadata": {},
   "outputs": [],
   "source": [
    "images = pd.read_excel(r'C:\\Users\\Trenkin.Sergey\\Desktop\\Артикул-фото 2024.06.11_.xlsx')\n",
    "images = images[['article', 'Ссылка на изображение', 'published']]\n",
    "images.rename(columns={'article': 'ID Сайта'}, inplace=True)\n",
    "images['ID Сайта'] = images['ID Сайта'].astype(str)"
   ]
  },
  {
   "cell_type": "code",
   "execution_count": 23,
   "metadata": {},
   "outputs": [],
   "source": [
    "stock = stock.merge(images, how='outer', on='ID Сайта')\n",
    "stock = stock.drop(columns=['Остаток', 'Код склада'])"
   ]
  },
  {
   "cell_type": "code",
   "execution_count": 24,
   "metadata": {},
   "outputs": [],
   "source": [
    "path = r'\\\\gold585.int\\uk\\Общее хранилище файлов\\Служба аналитики\\МЮР\\ecom_stock_raw\\\\'\n",
    "list_of_files = glob.glob(path + '\\*.xlsx') \n",
    "latest_file = max(list_of_files, key=os.path.getctime) # мы ищем тут последний выгруженный файл (занимается выгрузкой Оризу Наталья email: Orizu.Natalya@zolotoy.ru)\n",
    "\n",
    "ecom = pd.read_excel(latest_file)\n",
    "\n",
    "path = r'\\\\gold585.int\\uk\\Общее хранилище файлов\\Служба аналитики\\Тренкин Сергей\\discounts_zolotoy\\\\'\n",
    "list_of_files = glob.glob(path + '\\*.xlsx') \n",
    "latest_file = max(list_of_files, key=os.path.getctime)\n",
    "\n",
    "discount_ecom = pd.read_excel(latest_file)"
   ]
  },
  {
   "cell_type": "code",
   "execution_count": 25,
   "metadata": {},
   "outputs": [],
   "source": [
    "discount_ecom.columns = ['article', 'Опубликован', 'discount_value_promotions_1','discount_value_promotions_2', 'discount_value_promotions_3','discount_value_promotions_4']\n",
    "ecom = ecom.merge(discount_ecom, how='left', on='article')"
   ]
  },
  {
   "cell_type": "code",
   "execution_count": 26,
   "metadata": {},
   "outputs": [],
   "source": [
    "def discount_index(discount):\n",
    "    try:\n",
    "        return 1 - discount / 100\n",
    "    except:\n",
    "        return 1\n",
    "    \n",
    "ecom.discount_value_promotions_1 = ecom.discount_value_promotions_1.apply(discount_index)\n",
    "\n",
    "ecom['Цена со скидками Ecom'] = np.where(\n",
    "    (ecom['price'] == ecom['discount_price']) & (ecom['discount_value_promotions_1'] == 1), ecom['discount_price'] * ecom['discount_value_promotions_1'], \n",
    "    np.where(\n",
    "        ecom['discount_value_promotions_1'] == 0.5, ecom['discount_price'] * ecom['discount_value_promotions_1'], ecom['discount_price'] * ecom['discount_value_promotions_1'] * 0.8\n",
    "    )\n",
    ")"
   ]
  },
  {
   "cell_type": "code",
   "execution_count": 27,
   "metadata": {},
   "outputs": [],
   "source": [
    "ecom['article'] = ecom['article'].astype(str)\n",
    "ecom = ecom[['article', 'Цена со скидками Ecom']]\n",
    "ecom.columns = ['ID Сайта', 'Цена со скидками Ecom']\n",
    "stock = stock.merge(ecom, how='left', on='ID Сайта')\n",
    "stock = stock.drop_duplicates(subset=['ID Сайта'])"
   ]
  },
  {
   "cell_type": "code",
   "execution_count": 28,
   "metadata": {},
   "outputs": [],
   "source": [
    "stock = stock.drop(columns=['name', 'Код объекта', 'Цена Закупки за 1 шт. (упр сс с НДС за единицу)'])"
   ]
  },
  {
   "cell_type": "code",
   "execution_count": 29,
   "metadata": {},
   "outputs": [],
   "source": [
    "stock.columns =['Артикул поставщика', 'Внутренний артикул', 'ID Сайта',\n",
    "    'Название товара', 'ШК', 'Код товара', 'Остаток на федеральных складах',\n",
    "    'Остаток на складе коламбуса', 'Остаток на центральном складе', 'Ранг на сайте',\n",
    "    'Количество продаж', 'Общая сумма продаж за июнь',\n",
    "    'Общий остаток на всех складах',\n",
    "    'Сумма в себестоимости на остатках ОБЩ',\n",
    "    'Сумма в себестоимости на остатках ФЕД+КОЛАМБУС+ЦЕНТР',\n",
    "    'Ссылка на изображение', 'Опубликован', 'Цена со скидками Ecom']"
   ]
  },
  {
   "cell_type": "code",
   "execution_count": 30,
   "metadata": {},
   "outputs": [],
   "source": [
    "zapret = pd.read_excel(r'C:\\Users\\Trenkin.Sergey\\Desktop\\запрет Артикулы к размещению.xlsx')['Артикул сайта'].astype(str).tolist()\n",
    "\n",
    "stock['Запрет к размещению'] = np.nan\n",
    "for i in stock.index:\n",
    "    if stock['ID Сайта'][i] in zapret:\n",
    "        stock['Запрет к размещению'][i] = True\n",
    "    else:\n",
    "        stock['Запрет к размещению'][i] = False"
   ]
  },
  {
   "cell_type": "code",
   "execution_count": 31,
   "metadata": {},
   "outputs": [
    {
     "data": {
      "text/plain": [
       "Запрет к размещению\n",
       "False    197286\n",
       "True         44\n",
       "Name: count, dtype: int64"
      ]
     },
     "execution_count": 31,
     "metadata": {},
     "output_type": "execute_result"
    }
   ],
   "source": [
    "stock['Запрет к размещению'].value_counts()"
   ]
  },
  {
   "cell_type": "code",
   "execution_count": 32,
   "metadata": {},
   "outputs": [],
   "source": [
    "stock.dropna(subset=['ШК'], inplace=True)"
   ]
  },
  {
   "cell_type": "code",
   "execution_count": 33,
   "metadata": {},
   "outputs": [
    {
     "data": {
      "text/plain": [
       "Опубликован\n",
       "True     71116\n",
       "False     4391\n",
       "Name: count, dtype: int64"
      ]
     },
     "execution_count": 33,
     "metadata": {},
     "output_type": "execute_result"
    }
   ],
   "source": [
    "stock['Опубликован'].value_counts()"
   ]
  },
  {
   "cell_type": "code",
   "execution_count": 34,
   "metadata": {},
   "outputs": [],
   "source": [
    "stock1 = stock[~stock['Ссылка на изображение'].astype(str).str.contains('http')]\n",
    "stock2 = stock[(stock['Ссылка на изображение'].astype(str).str.contains('http')) & (stock['Запрет к размещению'] == False) & (stock['Опубликован'] == False)]"
   ]
  },
  {
   "cell_type": "code",
   "execution_count": 39,
   "metadata": {},
   "outputs": [],
   "source": [
    "stock = pd.concat([stock1, stock2], ignore_index=True)"
   ]
  },
  {
   "cell_type": "code",
   "execution_count": 41,
   "metadata": {},
   "outputs": [],
   "source": [
    "stock = stock[(stock['Остаток на складе коламбуса'] != 0) | (stock['Остаток на федеральных складах'] != 0) | (stock['Остаток на центральном складе'] != 0)]"
   ]
  },
  {
   "cell_type": "code",
   "execution_count": 43,
   "metadata": {},
   "outputs": [
    {
     "data": {
      "text/html": [
       "<div>\n",
       "<style scoped>\n",
       "    .dataframe tbody tr th:only-of-type {\n",
       "        vertical-align: middle;\n",
       "    }\n",
       "\n",
       "    .dataframe tbody tr th {\n",
       "        vertical-align: top;\n",
       "    }\n",
       "\n",
       "    .dataframe thead th {\n",
       "        text-align: right;\n",
       "    }\n",
       "</style>\n",
       "<table border=\"1\" class=\"dataframe\">\n",
       "  <thead>\n",
       "    <tr style=\"text-align: right;\">\n",
       "      <th></th>\n",
       "      <th>Артикул поставщика</th>\n",
       "      <th>Внутренний артикул</th>\n",
       "      <th>ID Сайта</th>\n",
       "      <th>Название товара</th>\n",
       "      <th>ШК</th>\n",
       "      <th>Код товара</th>\n",
       "      <th>Остаток на федеральных складах</th>\n",
       "      <th>Остаток на складе коламбуса</th>\n",
       "      <th>Остаток на центральном складе</th>\n",
       "      <th>Ранг на сайте</th>\n",
       "      <th>Количество продаж</th>\n",
       "      <th>Общая сумма продаж за июнь</th>\n",
       "      <th>Общий остаток на всех складах</th>\n",
       "      <th>Сумма в себестоимости на остатках ОБЩ</th>\n",
       "      <th>Сумма в себестоимости на остатках ФЕД+КОЛАМБУС+ЦЕНТР</th>\n",
       "      <th>Ссылка на изображение</th>\n",
       "      <th>Опубликован</th>\n",
       "      <th>Цена со скидками Ecom</th>\n",
       "      <th>Запрет к размещению</th>\n",
       "    </tr>\n",
       "  </thead>\n",
       "  <tbody>\n",
       "  </tbody>\n",
       "</table>\n",
       "</div>"
      ],
      "text/plain": [
       "Empty DataFrame\n",
       "Columns: [Артикул поставщика, Внутренний артикул, ID Сайта, Название товара, ШК, Код товара, Остаток на федеральных складах, Остаток на складе коламбуса, Остаток на центральном складе, Ранг на сайте, Количество продаж, Общая сумма продаж за июнь, Общий остаток на всех складах, Сумма в себестоимости на остатках ОБЩ, Сумма в себестоимости на остатках ФЕД+КОЛАМБУС+ЦЕНТР, Ссылка на изображение, Опубликован, Цена со скидками Ecom, Запрет к размещению]\n",
       "Index: []"
      ]
     },
     "execution_count": 43,
     "metadata": {},
     "output_type": "execute_result"
    }
   ],
   "source": []
  },
  {
   "cell_type": "code",
   "execution_count": null,
   "metadata": {},
   "outputs": [],
   "source": [
    "stock = stock[stock['Остатки'] !]"
   ]
  },
  {
   "cell_type": "code",
   "execution_count": 44,
   "metadata": {},
   "outputs": [],
   "source": [
    "stock.to_excel(fr'\\\\gold585.int\\uk\\Общее хранилище файлов\\Служба аналитики\\Тренкин Сергей\\Отчётность для контента\\\\{dt.datetime.today().strftime('%d.%m.%Y')} для контента.xlsx', index=False)"
   ]
  },
  {
   "cell_type": "code",
   "execution_count": null,
   "metadata": {},
   "outputs": [],
   "source": []
  }
 ],
 "metadata": {
  "kernelspec": {
   "display_name": "Python 3",
   "language": "python",
   "name": "python3"
  },
  "language_info": {
   "codemirror_mode": {
    "name": "ipython",
    "version": 3
   },
   "file_extension": ".py",
   "mimetype": "text/x-python",
   "name": "python",
   "nbconvert_exporter": "python",
   "pygments_lexer": "ipython3",
   "version": "3.12.4"
  }
 },
 "nbformat": 4,
 "nbformat_minor": 2
}
