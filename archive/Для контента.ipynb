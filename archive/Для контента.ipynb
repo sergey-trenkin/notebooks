{
 "cells": [
  {
   "cell_type": "code",
   "execution_count": 32,
   "metadata": {},
   "outputs": [
    {
     "data": {
      "text/plain": [
       "'ru_RU.UTF-8'"
      ]
     },
     "execution_count": 32,
     "metadata": {},
     "output_type": "execute_result"
    }
   ],
   "source": [
    "from tqdm import tqdm\n",
    "import pandas as pd\n",
    "import datetime as dt\n",
    "import numpy as np\n",
    "import warnings\n",
    "import pymssql\n",
    "import locale\n",
    "import glob\n",
    "import os\n",
    "\n",
    "warnings.filterwarnings('ignore')\n",
    "pd.set_option('use_inf_as_na', True)\n",
    "pd.options.display.max_columns = None\n",
    "pd.set_option('float_format', '{:.2f}'.format)\n",
    "locale.setlocale(locale.LC_ALL, 'ru_RU.UTF-8')"
   ]
  },
  {
   "cell_type": "code",
   "execution_count": 3,
   "metadata": {},
   "outputs": [],
   "source": [
    "conn = pymssql.connect(server='AX-SQL', database='Staging')\n",
    "cursor = conn.cursor()\n",
    "\n",
    "sql = f'''\n",
    "SELECT [Код склада], [Название склада], [Артикул поставщика], [Внутренний артикул], [ID Сайта], [Название товара], [Остаток], [Цена Закупки за 1 шт. (упр сс с НДС за единицу)], [ШК], [Код товара]\n",
    "from [Staging].[Reports].[Remainings_8h]\n",
    "where [Товарное направление] in (N'БК', N'ЦБ', N'СИ', N'ИФ', N'ПДК', N'ДК', N'ВЫРИЦА', N'ЧАСЫ')\n",
    "'''\n",
    "\n",
    "sql_query = pd.read_sql_query(sql, conn)\n",
    "stock = pd.DataFrame(sql_query)"
   ]
  },
  {
   "cell_type": "code",
   "execution_count": 4,
   "metadata": {},
   "outputs": [],
   "source": [
    "path = r'\\\\gold585.int\\uk\\Общее хранилище файлов\\Служба аналитики\\Архив_отчеты\\Продажи\\По дням\\\\'\n",
    "list_of_files = glob.glob(path + '*.xlsx') \n",
    "latest_file = max(list_of_files, key=os.path.getctime)\n",
    "\n",
    "sklad = pd.read_excel(latest_file, sheet_name = 'Продажи по ассортименту', header = 2)\n",
    "\n",
    "stock['Код склада'] = stock['Код склада'].astype('float64') \n",
    "\n",
    "sklad = sklad[['Unnamed: 0','Торговая марка', 'Юр лицо', 'Код склада', 'Дата открытия объекта', 'Код объекта', 'Город', 'Наименование объекта']]\n",
    "sklad1 = sklad[['Код склада', 'Код объекта']].drop_duplicates().reset_index(drop=True)\n",
    "sklad1 = sklad1[sklad1['Код объекта'].notna()]\n",
    "\n",
    "sklad1['Код объекта'] = sklad1['Код объекта'].astype(str)\n",
    "sklad1['8'] = sklad1['Код объекта'].apply(lambda x: x[0])\n",
    "sklad1 = sklad1[sklad1['8'] != '8']\n",
    "\n",
    "stock = stock.merge(sklad1, left_on='Код склада', right_on = 'Код склада', how='inner')\n",
    "\n",
    "stock = stock.drop(columns=['8'])"
   ]
  },
  {
   "cell_type": "code",
   "execution_count": 5,
   "metadata": {},
   "outputs": [],
   "source": [
    "stock = stock[stock['ID Сайта'] != '']"
   ]
  },
  {
   "cell_type": "code",
   "execution_count": 6,
   "metadata": {},
   "outputs": [],
   "source": [
    "stock['Код склада'] = stock['Код склада'].astype(int)"
   ]
  },
  {
   "cell_type": "code",
   "execution_count": 28,
   "metadata": {},
   "outputs": [],
   "source": [
    "year_now, month_now = str(dt.datetime.today().year), str(dt.datetime.today().month)\n",
    "if int(month_now) < 10: month_now = '0' + str(month_now)"
   ]
  },
  {
   "cell_type": "code",
   "execution_count": 29,
   "metadata": {},
   "outputs": [],
   "source": [
    "os.chdir(r'\\\\gold585.int\\uk\\Общее хранилище файлов\\Служба аналитики\\Выгрузки из DWH\\Продажи по КБК из DWH new')\n",
    "extension = 'xlsx'\n",
    "filenames = [i for i in glob.glob('*.{}'.format(extension))]\n",
    "all_filenames = list()\n",
    "\n",
    "for file in filenames:\n",
    "    if year_now in file and month_now in file: \n",
    "        all_filenames.append(file) "
   ]
  },
  {
   "cell_type": "code",
   "execution_count": 31,
   "metadata": {},
   "outputs": [],
   "source": [
    "sale = pd.DataFrame()\n",
    "for name in tqdm(all_filenames):\n",
    "    \n",
    "    sales = pd.read_excel(name)\n",
    "    sale = pd.concat([sales, sale], ignore_index= True)"
   ]
  },
  {
   "cell_type": "code",
   "execution_count": 34,
   "metadata": {},
   "outputs": [],
   "source": [
    "sale.columns = ['КБК', 'Дата', 'Продавец', 'Номер чека', 'ID продажи', 'Тов',\n",
    "    'article', 'Количество', 'Номенклатура', 'Номер карты',\n",
    "    'Товарная группа', 'Товарное направление', 'Тип 1',\n",
    "    'Списание СберСпасибо', 'Группа наценки', 'Вес', 'Проба', 'Размер',\n",
    "    'ШК', 'Цена без скидки', 'Базовая скидка', 'Скидка в руб.', 'Название',\n",
    "    'Цена после скидки', 'Phone', 'Себестоимость', 'Сумма', 'Услуга',\n",
    "    'Общая сумма']"
   ]
  },
  {
   "cell_type": "code",
   "execution_count": 35,
   "metadata": {},
   "outputs": [],
   "source": [
    "articles = stock['Артикул поставщика'].tolist()"
   ]
  },
  {
   "cell_type": "code",
   "execution_count": 36,
   "metadata": {},
   "outputs": [],
   "source": [
    "sale = sale.query('article in @articles')"
   ]
  },
  {
   "cell_type": "code",
   "execution_count": 37,
   "metadata": {},
   "outputs": [],
   "source": [
    "sale = sale.groupby(by = 'article', as_index=False)[['Количество', 'Общая сумма']].sum()"
   ]
  },
  {
   "cell_type": "code",
   "execution_count": 38,
   "metadata": {},
   "outputs": [],
   "source": [
    "sale.columns = ['Артикул поставщика', 'Количество продаж за предыдущую неделю', 'Общая сумма продаж за предыдущю неделю']"
   ]
  },
  {
   "cell_type": "code",
   "execution_count": 39,
   "metadata": {},
   "outputs": [],
   "source": [
    "center = stock[stock['Код склада'] == 3075]\n",
    "center = center.groupby(by = 'ID Сайта', as_index=False)['Остаток'].sum()\n",
    "center.columns = ['ID Сайта', 'Остаток на центральном складе']"
   ]
  },
  {
   "cell_type": "code",
   "execution_count": 40,
   "metadata": {},
   "outputs": [],
   "source": [
    "kolambus = stock[stock['Код склада'] == 5442]\n",
    "kolambus = kolambus.groupby(by = 'ID Сайта', as_index=False)['Остаток'].sum()\n",
    "kolambus.columns = ['ID Сайта', 'Остаток на складе коламбуса']"
   ]
  },
  {
   "cell_type": "code",
   "execution_count": 42,
   "metadata": {},
   "outputs": [],
   "source": [
    "federal = pd.read_excel(r'C:\\Users\\Trenkin.Sergey\\Desktop\\Федеральные склады 11.06.xlsx')"
   ]
  },
  {
   "cell_type": "code",
   "execution_count": 43,
   "metadata": {},
   "outputs": [],
   "source": [
    "stock.rename(columns={'Название склада': 'name'}, inplace=True)"
   ]
  },
  {
   "cell_type": "code",
   "execution_count": 44,
   "metadata": {},
   "outputs": [],
   "source": [
    "federal = federal['outlet_name'].tolist() "
   ]
  },
  {
   "cell_type": "code",
   "execution_count": 45,
   "metadata": {},
   "outputs": [],
   "source": [
    "federal = stock.query('name in @federal')"
   ]
  },
  {
   "cell_type": "code",
   "execution_count": 46,
   "metadata": {},
   "outputs": [],
   "source": [
    "federal = federal.groupby(by = 'ID Сайта', as_index=False)['Остаток'].sum()\n",
    "federal.columns = ['ID Сайта', 'Остаток на федеральных складах']"
   ]
  },
  {
   "cell_type": "code",
   "execution_count": 47,
   "metadata": {},
   "outputs": [],
   "source": [
    "stock = stock.merge(federal, how='outer', on='ID Сайта')\n",
    "stock = stock.merge(kolambus, how='outer', on='ID Сайта')\n",
    "stock = stock.merge(center, how='outer', on='ID Сайта')"
   ]
  },
  {
   "cell_type": "code",
   "execution_count": 48,
   "metadata": {},
   "outputs": [],
   "source": [
    "conn = pymssql.connect(server='spb-s-sql-dwh', database='DWH_DEV', charset='WINDOWS-1251')\n",
    "cursor = conn.cursor()\n",
    "\n",
    "sql = f'''\n",
    "SELECT [article], [sort]\n",
    "from [DWH_DEV].[ecom].[catalog_product]\n",
    "'''\n",
    "\n",
    "sql_query = pd.read_sql_query(sql, conn)\n",
    "sort = pd.DataFrame(sql_query)"
   ]
  },
  {
   "cell_type": "code",
   "execution_count": 49,
   "metadata": {},
   "outputs": [
    {
     "name": "stdout",
     "output_type": "stream",
     "text": [
      "<class 'pandas.core.frame.DataFrame'>\n",
      "RangeIndex: 5758254 entries, 0 to 5758253\n",
      "Data columns (total 14 columns):\n",
      " #   Column                                           Dtype  \n",
      "---  ------                                           -----  \n",
      " 0   Код склада                                       int32  \n",
      " 1   name                                             object \n",
      " 2   Артикул поставщика                               object \n",
      " 3   Внутренний артикул                               object \n",
      " 4   ID Сайта                                         object \n",
      " 5   Название товара                                  object \n",
      " 6   Остаток                                          float64\n",
      " 7   Цена Закупки за 1 шт. (упр сс с НДС за единицу)  float64\n",
      " 8   ШК                                               object \n",
      " 9   Код товара                                       object \n",
      " 10  Код объекта                                      object \n",
      " 11  Остаток на федеральных складах                   float64\n",
      " 12  Остаток на складе коламбуса                      float64\n",
      " 13  Остаток на центральном складе                    float64\n",
      "dtypes: float64(5), int32(1), object(8)\n",
      "memory usage: 593.1+ MB\n"
     ]
    }
   ],
   "source": [
    "stock.info()"
   ]
  },
  {
   "cell_type": "code",
   "execution_count": 50,
   "metadata": {},
   "outputs": [],
   "source": [
    "sort.rename(columns={'article': 'ID Сайта'}, inplace=True)"
   ]
  },
  {
   "cell_type": "code",
   "execution_count": 51,
   "metadata": {},
   "outputs": [],
   "source": [
    "stock = stock.merge(sort, how='outer', on='ID Сайта')"
   ]
  },
  {
   "cell_type": "code",
   "execution_count": 52,
   "metadata": {},
   "outputs": [],
   "source": [
    "stock = stock.merge(sale, how='outer', on='Артикул поставщика')"
   ]
  },
  {
   "cell_type": "code",
   "execution_count": 53,
   "metadata": {},
   "outputs": [],
   "source": [
    "summ = stock.groupby(by='ID Сайта', as_index=False)['Остаток'].sum()"
   ]
  },
  {
   "cell_type": "code",
   "execution_count": 54,
   "metadata": {},
   "outputs": [],
   "source": [
    "summ.rename(columns={'Остаток': 'Общий остаток на всех складах'}, inplace=True)"
   ]
  },
  {
   "cell_type": "code",
   "execution_count": 55,
   "metadata": {},
   "outputs": [],
   "source": [
    "stock = stock.merge(summ, how='left', on='ID Сайта')\n",
    "stock = stock.drop_duplicates(subset=['ID Сайта', 'Общий остаток на всех складах'])"
   ]
  },
  {
   "cell_type": "code",
   "execution_count": 56,
   "metadata": {},
   "outputs": [],
   "source": [
    "stock['Остаток на складе коламбуса'].fillna(0, inplace=True)\n",
    "stock['Остаток на федеральных складах'].fillna(0, inplace=True)\n",
    "stock['Остаток на центральном складе'].fillna(0, inplace=True)"
   ]
  },
  {
   "cell_type": "code",
   "execution_count": 57,
   "metadata": {},
   "outputs": [],
   "source": [
    "stock['Сумма в себестоимости на остатках ОБЩ'] = stock['Цена Закупки за 1 шт. (упр сс с НДС за единицу)'] * stock['Общий остаток на всех складах']\n",
    "stock['Сумма в себестоимости на остатках ФЕД+КОЛАМБУС+ЦЕНТР'] = (stock['Остаток на складе коламбуса'] + stock['Остаток на федеральных складах'] + stock['Остаток на центральном складе']) * stock['Цена Закупки за 1 шт. (упр сс с НДС за единицу)']"
   ]
  },
  {
   "cell_type": "code",
   "execution_count": 58,
   "metadata": {},
   "outputs": [
    {
     "data": {
      "text/html": [
       "<div>\n",
       "<style scoped>\n",
       "    .dataframe tbody tr th:only-of-type {\n",
       "        vertical-align: middle;\n",
       "    }\n",
       "\n",
       "    .dataframe tbody tr th {\n",
       "        vertical-align: top;\n",
       "    }\n",
       "\n",
       "    .dataframe thead th {\n",
       "        text-align: right;\n",
       "    }\n",
       "</style>\n",
       "<table border=\"1\" class=\"dataframe\">\n",
       "  <thead>\n",
       "    <tr style=\"text-align: right;\">\n",
       "      <th></th>\n",
       "      <th>Код склада</th>\n",
       "      <th>name</th>\n",
       "      <th>Артикул поставщика</th>\n",
       "      <th>Внутренний артикул</th>\n",
       "      <th>ID Сайта</th>\n",
       "      <th>Название товара</th>\n",
       "      <th>Остаток</th>\n",
       "      <th>Цена Закупки за 1 шт. (упр сс с НДС за единицу)</th>\n",
       "      <th>ШК</th>\n",
       "      <th>Код товара</th>\n",
       "      <th>Код объекта</th>\n",
       "      <th>Остаток на федеральных складах</th>\n",
       "      <th>Остаток на складе коламбуса</th>\n",
       "      <th>Остаток на центральном складе</th>\n",
       "      <th>sort</th>\n",
       "      <th>Количество продаж за предыдущую неделю</th>\n",
       "      <th>Общая сумма продаж за предыдущю неделю</th>\n",
       "      <th>Общий остаток на всех складах</th>\n",
       "      <th>Сумма в себестоимости на остатках ОБЩ</th>\n",
       "      <th>Сумма в себестоимости на остатках ФЕД+КОЛАМБУС+ЦЕНТР</th>\n",
       "    </tr>\n",
       "  </thead>\n",
       "  <tbody>\n",
       "    <tr>\n",
       "      <th>0</th>\n",
       "      <td>5112.00</td>\n",
       "      <td>Краснодар, Нефтяников, 42, ТЦ «Сказка»(Дубль)</td>\n",
       "      <td>SL-R01641-X-GB-X-XBR</td>\n",
       "      <td>SL-R01641-X-GB-X-XBR_СИ</td>\n",
       "      <td>1749451</td>\n",
       "      <td>Кольцо с коричн.фиан. поз., чёрн.род.</td>\n",
       "      <td>1.00</td>\n",
       "      <td>941.00</td>\n",
       "      <td>2078600686279</td>\n",
       "      <td>ТОВ01444848</td>\n",
       "      <td>6-04-076</td>\n",
       "      <td>2.00</td>\n",
       "      <td>4.00</td>\n",
       "      <td>0.00</td>\n",
       "      <td>0</td>\n",
       "      <td>NaN</td>\n",
       "      <td>NaN</td>\n",
       "      <td>172.00</td>\n",
       "      <td>161852.00</td>\n",
       "      <td>5646.00</td>\n",
       "    </tr>\n",
       "    <tr>\n",
       "      <th>172</th>\n",
       "      <td>5112.00</td>\n",
       "      <td>Краснодар, Нефтяников, 42, ТЦ «Сказка»(Дубль)</td>\n",
       "      <td>SL-R01641-X-WB-X-XBR</td>\n",
       "      <td>SL-R01641-X-WB-X-XBR_СИ</td>\n",
       "      <td>1947198</td>\n",
       "      <td>Кольцо с коричн.фиан. бел., чёрн.род.</td>\n",
       "      <td>1.00</td>\n",
       "      <td>932.00</td>\n",
       "      <td>2078600679645</td>\n",
       "      <td>ТОВ01444874</td>\n",
       "      <td>6-04-076</td>\n",
       "      <td>0.00</td>\n",
       "      <td>1.00</td>\n",
       "      <td>0.00</td>\n",
       "      <td>0</td>\n",
       "      <td>2.00</td>\n",
       "      <td>2240.00</td>\n",
       "      <td>137.00</td>\n",
       "      <td>127684.00</td>\n",
       "      <td>932.00</td>\n",
       "    </tr>\n",
       "    <tr>\n",
       "      <th>309</th>\n",
       "      <td>5112.00</td>\n",
       "      <td>Краснодар, Нефтяников, 42, ТЦ «Сказка»(Дубль)</td>\n",
       "      <td>SL-R01642-X-GB-BRXBR</td>\n",
       "      <td>SL-R01642-X-GB-BRXBR_СИ</td>\n",
       "      <td>1695943</td>\n",
       "      <td>Кольцо с коричн.фиан. поз., чёрн.род.</td>\n",
       "      <td>1.00</td>\n",
       "      <td>993.00</td>\n",
       "      <td>2078600680176</td>\n",
       "      <td>ТОВ01444876</td>\n",
       "      <td>6-04-076</td>\n",
       "      <td>1.00</td>\n",
       "      <td>2.00</td>\n",
       "      <td>0.00</td>\n",
       "      <td>0</td>\n",
       "      <td>NaN</td>\n",
       "      <td>NaN</td>\n",
       "      <td>168.00</td>\n",
       "      <td>166824.00</td>\n",
       "      <td>2979.00</td>\n",
       "    </tr>\n",
       "    <tr>\n",
       "      <th>477</th>\n",
       "      <td>5112.00</td>\n",
       "      <td>Краснодар, Нефтяников, 42, ТЦ «Сказка»(Дубль)</td>\n",
       "      <td>SL-R01642-X-WB-BRXBR</td>\n",
       "      <td>SL-R01642-X-WB-BRXBR_СИ</td>\n",
       "      <td>1395098</td>\n",
       "      <td>Кольцо с коричн.фиан. бел., чёрн.род.</td>\n",
       "      <td>1.00</td>\n",
       "      <td>1005.00</td>\n",
       "      <td>2078600679467</td>\n",
       "      <td>ТОВ01444888</td>\n",
       "      <td>6-04-076</td>\n",
       "      <td>0.00</td>\n",
       "      <td>3.00</td>\n",
       "      <td>0.00</td>\n",
       "      <td>0</td>\n",
       "      <td>1.00</td>\n",
       "      <td>1005.00</td>\n",
       "      <td>183.00</td>\n",
       "      <td>183915.00</td>\n",
       "      <td>3015.00</td>\n",
       "    </tr>\n",
       "    <tr>\n",
       "      <th>660</th>\n",
       "      <td>5112.00</td>\n",
       "      <td>Краснодар, Нефтяников, 42, ТЦ «Сказка»(Дубль)</td>\n",
       "      <td>CZ-E01195-X-GB-X-XBR</td>\n",
       "      <td>CZ-E01195-X-GB-X-XBR_СИ</td>\n",
       "      <td>1529463</td>\n",
       "      <td>Серьги с коричн.фиан. поз., чёрн.род.</td>\n",
       "      <td>1.00</td>\n",
       "      <td>1802.00</td>\n",
       "      <td>2078600690426</td>\n",
       "      <td>ТОВ01444900</td>\n",
       "      <td>6-04-076</td>\n",
       "      <td>1.00</td>\n",
       "      <td>1.00</td>\n",
       "      <td>0.00</td>\n",
       "      <td>0</td>\n",
       "      <td>4.00</td>\n",
       "      <td>15600.00</td>\n",
       "      <td>123.00</td>\n",
       "      <td>221646.00</td>\n",
       "      <td>3604.00</td>\n",
       "    </tr>\n",
       "    <tr>\n",
       "      <th>...</th>\n",
       "      <td>...</td>\n",
       "      <td>...</td>\n",
       "      <td>...</td>\n",
       "      <td>...</td>\n",
       "      <td>...</td>\n",
       "      <td>...</td>\n",
       "      <td>...</td>\n",
       "      <td>...</td>\n",
       "      <td>...</td>\n",
       "      <td>...</td>\n",
       "      <td>...</td>\n",
       "      <td>...</td>\n",
       "      <td>...</td>\n",
       "      <td>...</td>\n",
       "      <td>...</td>\n",
       "      <td>...</td>\n",
       "      <td>...</td>\n",
       "      <td>...</td>\n",
       "      <td>...</td>\n",
       "      <td>...</td>\n",
       "    </tr>\n",
       "    <tr>\n",
       "      <th>5860673</th>\n",
       "      <td>NaN</td>\n",
       "      <td>NaN</td>\n",
       "      <td>NaN</td>\n",
       "      <td>NaN</td>\n",
       "      <td>2235328</td>\n",
       "      <td>NaN</td>\n",
       "      <td>NaN</td>\n",
       "      <td>NaN</td>\n",
       "      <td>NaN</td>\n",
       "      <td>NaN</td>\n",
       "      <td>NaN</td>\n",
       "      <td>0.00</td>\n",
       "      <td>0.00</td>\n",
       "      <td>0.00</td>\n",
       "      <td>0</td>\n",
       "      <td>NaN</td>\n",
       "      <td>NaN</td>\n",
       "      <td>0.00</td>\n",
       "      <td>NaN</td>\n",
       "      <td>NaN</td>\n",
       "    </tr>\n",
       "    <tr>\n",
       "      <th>5860674</th>\n",
       "      <td>NaN</td>\n",
       "      <td>NaN</td>\n",
       "      <td>NaN</td>\n",
       "      <td>NaN</td>\n",
       "      <td>7741803</td>\n",
       "      <td>NaN</td>\n",
       "      <td>NaN</td>\n",
       "      <td>NaN</td>\n",
       "      <td>NaN</td>\n",
       "      <td>NaN</td>\n",
       "      <td>NaN</td>\n",
       "      <td>0.00</td>\n",
       "      <td>0.00</td>\n",
       "      <td>0.00</td>\n",
       "      <td>0</td>\n",
       "      <td>NaN</td>\n",
       "      <td>NaN</td>\n",
       "      <td>0.00</td>\n",
       "      <td>NaN</td>\n",
       "      <td>NaN</td>\n",
       "    </tr>\n",
       "    <tr>\n",
       "      <th>5860675</th>\n",
       "      <td>NaN</td>\n",
       "      <td>NaN</td>\n",
       "      <td>NaN</td>\n",
       "      <td>NaN</td>\n",
       "      <td>2212903</td>\n",
       "      <td>NaN</td>\n",
       "      <td>NaN</td>\n",
       "      <td>NaN</td>\n",
       "      <td>NaN</td>\n",
       "      <td>NaN</td>\n",
       "      <td>NaN</td>\n",
       "      <td>0.00</td>\n",
       "      <td>0.00</td>\n",
       "      <td>0.00</td>\n",
       "      <td>0</td>\n",
       "      <td>NaN</td>\n",
       "      <td>NaN</td>\n",
       "      <td>0.00</td>\n",
       "      <td>NaN</td>\n",
       "      <td>NaN</td>\n",
       "    </tr>\n",
       "    <tr>\n",
       "      <th>5860676</th>\n",
       "      <td>NaN</td>\n",
       "      <td>NaN</td>\n",
       "      <td>NaN</td>\n",
       "      <td>NaN</td>\n",
       "      <td>1357200</td>\n",
       "      <td>NaN</td>\n",
       "      <td>NaN</td>\n",
       "      <td>NaN</td>\n",
       "      <td>NaN</td>\n",
       "      <td>NaN</td>\n",
       "      <td>NaN</td>\n",
       "      <td>0.00</td>\n",
       "      <td>0.00</td>\n",
       "      <td>0.00</td>\n",
       "      <td>0</td>\n",
       "      <td>NaN</td>\n",
       "      <td>NaN</td>\n",
       "      <td>0.00</td>\n",
       "      <td>NaN</td>\n",
       "      <td>NaN</td>\n",
       "    </tr>\n",
       "    <tr>\n",
       "      <th>5860677</th>\n",
       "      <td>NaN</td>\n",
       "      <td>NaN</td>\n",
       "      <td>NaN</td>\n",
       "      <td>NaN</td>\n",
       "      <td>3590672</td>\n",
       "      <td>NaN</td>\n",
       "      <td>NaN</td>\n",
       "      <td>NaN</td>\n",
       "      <td>NaN</td>\n",
       "      <td>NaN</td>\n",
       "      <td>NaN</td>\n",
       "      <td>0.00</td>\n",
       "      <td>0.00</td>\n",
       "      <td>0.00</td>\n",
       "      <td>0</td>\n",
       "      <td>NaN</td>\n",
       "      <td>NaN</td>\n",
       "      <td>0.00</td>\n",
       "      <td>NaN</td>\n",
       "      <td>NaN</td>\n",
       "    </tr>\n",
       "  </tbody>\n",
       "</table>\n",
       "<p>197330 rows × 20 columns</p>\n",
       "</div>"
      ],
      "text/plain": [
       "         Код склада                                           name  \\\n",
       "0           5112.00  Краснодар, Нефтяников, 42, ТЦ «Сказка»(Дубль)   \n",
       "172         5112.00  Краснодар, Нефтяников, 42, ТЦ «Сказка»(Дубль)   \n",
       "309         5112.00  Краснодар, Нефтяников, 42, ТЦ «Сказка»(Дубль)   \n",
       "477         5112.00  Краснодар, Нефтяников, 42, ТЦ «Сказка»(Дубль)   \n",
       "660         5112.00  Краснодар, Нефтяников, 42, ТЦ «Сказка»(Дубль)   \n",
       "...             ...                                            ...   \n",
       "5860673         NaN                                            NaN   \n",
       "5860674         NaN                                            NaN   \n",
       "5860675         NaN                                            NaN   \n",
       "5860676         NaN                                            NaN   \n",
       "5860677         NaN                                            NaN   \n",
       "\n",
       "           Артикул поставщика       Внутренний артикул ID Сайта  \\\n",
       "0        SL-R01641-X-GB-X-XBR  SL-R01641-X-GB-X-XBR_СИ  1749451   \n",
       "172      SL-R01641-X-WB-X-XBR  SL-R01641-X-WB-X-XBR_СИ  1947198   \n",
       "309      SL-R01642-X-GB-BRXBR  SL-R01642-X-GB-BRXBR_СИ  1695943   \n",
       "477      SL-R01642-X-WB-BRXBR  SL-R01642-X-WB-BRXBR_СИ  1395098   \n",
       "660      CZ-E01195-X-GB-X-XBR  CZ-E01195-X-GB-X-XBR_СИ  1529463   \n",
       "...                       ...                      ...      ...   \n",
       "5860673                   NaN                      NaN  2235328   \n",
       "5860674                   NaN                      NaN  7741803   \n",
       "5860675                   NaN                      NaN  2212903   \n",
       "5860676                   NaN                      NaN  1357200   \n",
       "5860677                   NaN                      NaN  3590672   \n",
       "\n",
       "                               Название товара  Остаток  \\\n",
       "0        Кольцо с коричн.фиан. поз., чёрн.род.     1.00   \n",
       "172      Кольцо с коричн.фиан. бел., чёрн.род.     1.00   \n",
       "309      Кольцо с коричн.фиан. поз., чёрн.род.     1.00   \n",
       "477      Кольцо с коричн.фиан. бел., чёрн.род.     1.00   \n",
       "660      Серьги с коричн.фиан. поз., чёрн.род.     1.00   \n",
       "...                                        ...      ...   \n",
       "5860673                                    NaN      NaN   \n",
       "5860674                                    NaN      NaN   \n",
       "5860675                                    NaN      NaN   \n",
       "5860676                                    NaN      NaN   \n",
       "5860677                                    NaN      NaN   \n",
       "\n",
       "         Цена Закупки за 1 шт. (упр сс с НДС за единицу)             ШК  \\\n",
       "0                                                 941.00  2078600686279   \n",
       "172                                               932.00  2078600679645   \n",
       "309                                               993.00  2078600680176   \n",
       "477                                              1005.00  2078600679467   \n",
       "660                                              1802.00  2078600690426   \n",
       "...                                                  ...            ...   \n",
       "5860673                                              NaN            NaN   \n",
       "5860674                                              NaN            NaN   \n",
       "5860675                                              NaN            NaN   \n",
       "5860676                                              NaN            NaN   \n",
       "5860677                                              NaN            NaN   \n",
       "\n",
       "          Код товара Код объекта  Остаток на федеральных складах  \\\n",
       "0        ТОВ01444848    6-04-076                            2.00   \n",
       "172      ТОВ01444874    6-04-076                            0.00   \n",
       "309      ТОВ01444876    6-04-076                            1.00   \n",
       "477      ТОВ01444888    6-04-076                            0.00   \n",
       "660      ТОВ01444900    6-04-076                            1.00   \n",
       "...              ...         ...                             ...   \n",
       "5860673          NaN         NaN                            0.00   \n",
       "5860674          NaN         NaN                            0.00   \n",
       "5860675          NaN         NaN                            0.00   \n",
       "5860676          NaN         NaN                            0.00   \n",
       "5860677          NaN         NaN                            0.00   \n",
       "\n",
       "         Остаток на складе коламбуса  Остаток на центральном складе  sort  \\\n",
       "0                               4.00                           0.00     0   \n",
       "172                             1.00                           0.00     0   \n",
       "309                             2.00                           0.00     0   \n",
       "477                             3.00                           0.00     0   \n",
       "660                             1.00                           0.00     0   \n",
       "...                              ...                            ...   ...   \n",
       "5860673                         0.00                           0.00     0   \n",
       "5860674                         0.00                           0.00     0   \n",
       "5860675                         0.00                           0.00     0   \n",
       "5860676                         0.00                           0.00     0   \n",
       "5860677                         0.00                           0.00     0   \n",
       "\n",
       "         Количество продаж за предыдущую неделю  \\\n",
       "0                                           NaN   \n",
       "172                                        2.00   \n",
       "309                                         NaN   \n",
       "477                                        1.00   \n",
       "660                                        4.00   \n",
       "...                                         ...   \n",
       "5860673                                     NaN   \n",
       "5860674                                     NaN   \n",
       "5860675                                     NaN   \n",
       "5860676                                     NaN   \n",
       "5860677                                     NaN   \n",
       "\n",
       "         Общая сумма продаж за предыдущю неделю  \\\n",
       "0                                           NaN   \n",
       "172                                     2240.00   \n",
       "309                                         NaN   \n",
       "477                                     1005.00   \n",
       "660                                    15600.00   \n",
       "...                                         ...   \n",
       "5860673                                     NaN   \n",
       "5860674                                     NaN   \n",
       "5860675                                     NaN   \n",
       "5860676                                     NaN   \n",
       "5860677                                     NaN   \n",
       "\n",
       "         Общий остаток на всех складах  Сумма в себестоимости на остатках ОБЩ  \\\n",
       "0                               172.00                              161852.00   \n",
       "172                             137.00                              127684.00   \n",
       "309                             168.00                              166824.00   \n",
       "477                             183.00                              183915.00   \n",
       "660                             123.00                              221646.00   \n",
       "...                                ...                                    ...   \n",
       "5860673                           0.00                                    NaN   \n",
       "5860674                           0.00                                    NaN   \n",
       "5860675                           0.00                                    NaN   \n",
       "5860676                           0.00                                    NaN   \n",
       "5860677                           0.00                                    NaN   \n",
       "\n",
       "         Сумма в себестоимости на остатках ФЕД+КОЛАМБУС+ЦЕНТР  \n",
       "0                                                  5646.00     \n",
       "172                                                 932.00     \n",
       "309                                                2979.00     \n",
       "477                                                3015.00     \n",
       "660                                                3604.00     \n",
       "...                                                    ...     \n",
       "5860673                                                NaN     \n",
       "5860674                                                NaN     \n",
       "5860675                                                NaN     \n",
       "5860676                                                NaN     \n",
       "5860677                                                NaN     \n",
       "\n",
       "[197330 rows x 20 columns]"
      ]
     },
     "execution_count": 58,
     "metadata": {},
     "output_type": "execute_result"
    }
   ],
   "source": [
    "stock"
   ]
  },
  {
   "cell_type": "code",
   "execution_count": 60,
   "metadata": {},
   "outputs": [],
   "source": [
    "images = pd.read_excel(r'C:\\Users\\Trenkin.Sergey\\Desktop\\Артикул-фото 2024.06.11_.xlsx')"
   ]
  },
  {
   "cell_type": "code",
   "execution_count": 61,
   "metadata": {},
   "outputs": [],
   "source": [
    "images = images[['article', 'Ссылка на изображение', 'published']]"
   ]
  },
  {
   "cell_type": "code",
   "execution_count": 62,
   "metadata": {},
   "outputs": [],
   "source": [
    "images.rename(columns={'article': 'ID Сайта'}, inplace=True)"
   ]
  },
  {
   "cell_type": "code",
   "execution_count": 63,
   "metadata": {},
   "outputs": [],
   "source": [
    "images['ID Сайта'] = images['ID Сайта'].astype(str)"
   ]
  },
  {
   "cell_type": "code",
   "execution_count": 64,
   "metadata": {},
   "outputs": [],
   "source": [
    "stock = stock.merge(images, how='outer', on='ID Сайта')"
   ]
  },
  {
   "cell_type": "code",
   "execution_count": 65,
   "metadata": {},
   "outputs": [],
   "source": [
    "stock = stock.drop(columns=['Остаток', 'Код склада'])"
   ]
  },
  {
   "cell_type": "code",
   "execution_count": 67,
   "metadata": {},
   "outputs": [],
   "source": [
    "ecom = pd.read_excel(r'\\\\gold585.int\\uk\\Общее хранилище файлов\\Служба аналитики\\МЮР\\ecom_stock_raw\\Остатки 2024.07.12.xlsx')"
   ]
  },
  {
   "cell_type": "code",
   "execution_count": 68,
   "metadata": {},
   "outputs": [],
   "source": [
    "path = r'\\\\gold585.int\\uk\\Общее хранилище файлов\\Служба аналитики\\Тренкин Сергей\\discounts_zolotoy\\\\'\n",
    "list_of_files = glob.glob(path + '\\*.xlsx') \n",
    "latest_file = max(list_of_files, key=os.path.getctime)\n",
    "\n",
    "discount_ecom = pd.read_excel(latest_file)"
   ]
  },
  {
   "cell_type": "code",
   "execution_count": 69,
   "metadata": {},
   "outputs": [],
   "source": [
    "discount_ecom.columns = ['article', 'Опубликован', 'discount_value_promotions_1','discount_value_promotions_2', 'discount_value_promotions_3','discount_value_promotions_4']\n",
    "ecom = ecom.merge(discount_ecom, how='left', on='article')"
   ]
  },
  {
   "cell_type": "code",
   "execution_count": 70,
   "metadata": {},
   "outputs": [],
   "source": [
    "def discount_index(discount):\n",
    "    try:\n",
    "        return 1 - discount / 100\n",
    "    except:\n",
    "        return 1\n",
    "    \n",
    "ecom.discount_value_promotions_1 = ecom.discount_value_promotions_1.apply(discount_index)\n",
    "\n",
    "ecom['Цена со скидками Ecom'] = np.where(\n",
    "    (ecom['price'] == ecom['discount_price']) & (ecom['discount_value_promotions_1'] == 1), ecom['discount_price'] * ecom['discount_value_promotions_1'], \n",
    "    np.where(\n",
    "        ecom['discount_value_promotions_1'] == 0.5, ecom['discount_price'] * ecom['discount_value_promotions_1'], ecom['discount_price'] * ecom['discount_value_promotions_1'] * 0.8\n",
    "    )\n",
    ")"
   ]
  },
  {
   "cell_type": "code",
   "execution_count": 71,
   "metadata": {},
   "outputs": [],
   "source": [
    "ecom['article'] = ecom['article'].astype(str)\n",
    "ecom = ecom[['article', 'Цена со скидками Ecom']]"
   ]
  },
  {
   "cell_type": "code",
   "execution_count": 72,
   "metadata": {},
   "outputs": [],
   "source": [
    "ecom.columns = ['ID Сайта', 'Цена со скидками Ecom']\n",
    "stock = stock.merge(ecom, how='left', on='ID Сайта')"
   ]
  },
  {
   "cell_type": "code",
   "execution_count": 73,
   "metadata": {},
   "outputs": [],
   "source": [
    "stock = stock.drop_duplicates(subset=['ID Сайта'])"
   ]
  },
  {
   "cell_type": "code",
   "execution_count": 74,
   "metadata": {},
   "outputs": [],
   "source": [
    "stock = stock.drop(columns=['name', 'Код объекта', 'Цена Закупки за 1 шт. (упр сс с НДС за единицу)'])"
   ]
  },
  {
   "cell_type": "code",
   "execution_count": 75,
   "metadata": {},
   "outputs": [],
   "source": [
    "stock.columns =['Артикул поставщика', 'Внутренний артикул', 'ID Сайта',\n",
    "    'Название товара', 'ШК', 'Код товара', 'Остаток на федеральных складах',\n",
    "    'Остаток на складе коламбуса', 'Остаток на центральном складе', 'Ранг на сайте',\n",
    "    'Количество продаж', 'Общая сумма продаж за июнь',\n",
    "    'Общий остаток на всех складах',\n",
    "    'Сумма в себестоимости на остатках ОБЩ',\n",
    "    'Сумма в себестоимости на остатках ФЕД+КОЛАМБУС+ЦЕНТР',\n",
    "    'Ссылка на изображение', 'Опубликован', 'Цена со скидками Ecom']"
   ]
  },
  {
   "cell_type": "code",
   "execution_count": 77,
   "metadata": {},
   "outputs": [],
   "source": [
    "zapret = pd.read_excel(r'C:\\Users\\Trenkin.Sergey\\Desktop\\запрет Артикулы к размещению.xlsx')['Артикул сайта'].astype(str).tolist()"
   ]
  },
  {
   "cell_type": "code",
   "execution_count": 78,
   "metadata": {},
   "outputs": [
    {
     "name": "stdout",
     "output_type": "stream",
     "text": [
      "<class 'pandas.core.frame.DataFrame'>\n",
      "Index: 197330 entries, 0 to 400296\n",
      "Data columns (total 18 columns):\n",
      " #   Column                                                Non-Null Count   Dtype  \n",
      "---  ------                                                --------------   -----  \n",
      " 0   Артикул поставщика                                    94906 non-null   object \n",
      " 1   Внутренний артикул                                    94906 non-null   object \n",
      " 2   ID Сайта                                              197330 non-null  object \n",
      " 3   Название товара                                       94906 non-null   object \n",
      " 4   ШК                                                    94906 non-null   object \n",
      " 5   Код товара                                            94906 non-null   object \n",
      " 6   Остаток на федеральных складах                        197330 non-null  float64\n",
      " 7   Остаток на складе коламбуса                           197330 non-null  float64\n",
      " 8   Остаток на центральном складе                         197330 non-null  float64\n",
      " 9   Ранг на сайте                                         197330 non-null  int64  \n",
      " 10  Количество продаж                                     23642 non-null   float64\n",
      " 11  Общая сумма продаж за июнь                            23642 non-null   float64\n",
      " 12  Общий остаток на всех складах                         197330 non-null  float64\n",
      " 13  Сумма в себестоимости на остатках ОБЩ                 94906 non-null   float64\n",
      " 14  Сумма в себестоимости на остатках ФЕД+КОЛАМБУС+ЦЕНТР  94906 non-null   float64\n",
      " 15  Ссылка на изображение                                 130307 non-null  object \n",
      " 16  Опубликован                                           130307 non-null  object \n",
      " 17  Цена со скидками Ecom                                 91862 non-null   float64\n",
      "dtypes: float64(9), int64(1), object(8)\n",
      "memory usage: 28.6+ MB\n"
     ]
    }
   ],
   "source": [
    "stock.info()"
   ]
  },
  {
   "cell_type": "code",
   "execution_count": 79,
   "metadata": {},
   "outputs": [],
   "source": [
    "stock['Запрет к размещению'] = np.nan\n",
    "for i in stock.index:\n",
    "    if stock['ID Сайта'][i] in zapret:\n",
    "        stock['Запрет к размещению'][i] = True\n",
    "    else:\n",
    "        stock['Запрет к размещению'][i] = False"
   ]
  },
  {
   "cell_type": "code",
   "execution_count": 81,
   "metadata": {},
   "outputs": [
    {
     "data": {
      "text/plain": [
       "Запрет к размещению\n",
       "False    197286\n",
       "True         44\n",
       "Name: count, dtype: int64"
      ]
     },
     "execution_count": 81,
     "metadata": {},
     "output_type": "execute_result"
    }
   ],
   "source": [
    "stock['Запрет к размещению'].value_counts()"
   ]
  },
  {
   "cell_type": "code",
   "execution_count": 82,
   "metadata": {},
   "outputs": [],
   "source": [
    "stock.dropna(subset=['ШК'], inplace=True)"
   ]
  },
  {
   "cell_type": "code",
   "execution_count": 83,
   "metadata": {},
   "outputs": [
    {
     "data": {
      "text/plain": [
       "Опубликован\n",
       "True     71329\n",
       "False     4390\n",
       "Name: count, dtype: int64"
      ]
     },
     "execution_count": 83,
     "metadata": {},
     "output_type": "execute_result"
    }
   ],
   "source": [
    "stock['Опубликован'].value_counts()"
   ]
  },
  {
   "cell_type": "code",
   "execution_count": 84,
   "metadata": {},
   "outputs": [],
   "source": [
    "stock1 = stock[~stock['Ссылка на изображение'].astype(str).str.contains('http')]\n",
    "# df = df[df['Ссылка на изображение'].astype(str).str.contains('http')]"
   ]
  },
  {
   "cell_type": "code",
   "execution_count": 85,
   "metadata": {},
   "outputs": [],
   "source": [
    "stock2 = stock[(stock['Ссылка на изображение'].astype(str).str.contains('http')) & (stock['Запрет к размещению'] == False) & (stock['Опубликован'] == False)]"
   ]
  },
  {
   "cell_type": "code",
   "execution_count": 86,
   "metadata": {},
   "outputs": [],
   "source": [
    "stock = pd.concat([stock1, stock2], ignore_index=True)"
   ]
  },
  {
   "cell_type": "code",
   "execution_count": 71,
   "metadata": {},
   "outputs": [],
   "source": [
    "stock.to_excel('08.07.24 для контента.xlsx')"
   ]
  },
  {
   "cell_type": "code",
   "execution_count": null,
   "metadata": {},
   "outputs": [],
   "source": []
  }
 ],
 "metadata": {
  "kernelspec": {
   "display_name": "Python 3",
   "language": "python",
   "name": "python3"
  },
  "language_info": {
   "codemirror_mode": {
    "name": "ipython",
    "version": 3
   },
   "file_extension": ".py",
   "mimetype": "text/x-python",
   "name": "python",
   "nbconvert_exporter": "python",
   "pygments_lexer": "ipython3",
   "version": "3.12.4"
  }
 },
 "nbformat": 4,
 "nbformat_minor": 2
}
