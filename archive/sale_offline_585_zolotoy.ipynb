{
 "cells": [
  {
   "cell_type": "code",
   "execution_count": 41,
   "id": "4364f294",
   "metadata": {
    "tags": []
   },
   "outputs": [],
   "source": [
    "import pandas as pd\n",
    "import numpy as np\n",
    "import datetime as dt\n",
    "import warnings\n",
    "import glob\n",
    "import os\n",
    "\n",
    "warnings.filterwarnings('ignore')\n",
    "pd.options.display.max_columns = None\n",
    "pd.options.display.float_format ='{:,.3f}'.format"
   ]
  },
  {
   "cell_type": "code",
   "execution_count": 42,
   "id": "a23bb8d7",
   "metadata": {},
   "outputs": [],
   "source": [
    "current_date = dt.date.today()\n",
    "day = current_date.day - 1 # данные по продажам мы получаем за предыдущий день\n",
    "month = current_date.month\n",
    "year = current_date.year"
   ]
  },
  {
   "cell_type": "code",
   "execution_count": 43,
   "id": "dbc8a52c-fe30-4824-90d6-4f3438322820",
   "metadata": {
    "tags": []
   },
   "outputs": [
    {
     "ename": "PermissionError",
     "evalue": "[Errno 13] Permission denied: '\\\\\\\\gold585.int\\\\uk\\\\Общее хранилище файлов\\\\Служба аналитики\\\\Выгрузки из DWH\\\\Продажи по КБК из DWH new\\\\~$2024-05-01_2024-05-09.xlsx'",
     "output_type": "error",
     "traceback": [
      "\u001b[1;31m---------------------------------------------------------------------------\u001b[0m",
      "\u001b[1;31mPermissionError\u001b[0m                           Traceback (most recent call last)",
      "Cell \u001b[1;32mIn[43], line 5\u001b[0m\n\u001b[0;32m      2\u001b[0m list_of_files \u001b[38;5;241m=\u001b[39m glob\u001b[38;5;241m.\u001b[39mglob(path \u001b[38;5;241m+\u001b[39m \u001b[38;5;124m'\u001b[39m\u001b[38;5;124m\\\u001b[39m\u001b[38;5;124m*.xlsx\u001b[39m\u001b[38;5;124m'\u001b[39m) \n\u001b[0;32m      3\u001b[0m latest_file \u001b[38;5;241m=\u001b[39m \u001b[38;5;28mmax\u001b[39m(list_of_files, key\u001b[38;5;241m=\u001b[39mos\u001b[38;5;241m.\u001b[39mpath\u001b[38;5;241m.\u001b[39mgetctime)\n\u001b[1;32m----> 5\u001b[0m df_dwh \u001b[38;5;241m=\u001b[39m \u001b[43mpd\u001b[49m\u001b[38;5;241;43m.\u001b[39;49m\u001b[43mread_excel\u001b[49m\u001b[43m(\u001b[49m\u001b[43mlatest_file\u001b[49m\u001b[43m)\u001b[49m\n\u001b[0;32m      7\u001b[0m \u001b[38;5;66;03m# df_dwh = pd.read_excel(r'\\\\gold585.int\\uk\\Общее хранилище файлов\\Служба аналитики\\Выгрузки из DWH\\Продажи по КБК из DWH new\\2024-06-01_2024-06-04.xlsx')\u001b[39;00m\n",
      "File \u001b[1;32mc:\\Users\\Trenkin.Sergey\\AppData\\Local\\Programs\\Python\\Python312\\Lib\\site-packages\\pandas\\io\\excel\\_base.py:504\u001b[0m, in \u001b[0;36mread_excel\u001b[1;34m(io, sheet_name, header, names, index_col, usecols, dtype, engine, converters, true_values, false_values, skiprows, nrows, na_values, keep_default_na, na_filter, verbose, parse_dates, date_parser, date_format, thousands, decimal, comment, skipfooter, storage_options, dtype_backend, engine_kwargs)\u001b[0m\n\u001b[0;32m    502\u001b[0m \u001b[38;5;28;01mif\u001b[39;00m \u001b[38;5;129;01mnot\u001b[39;00m \u001b[38;5;28misinstance\u001b[39m(io, ExcelFile):\n\u001b[0;32m    503\u001b[0m     should_close \u001b[38;5;241m=\u001b[39m \u001b[38;5;28;01mTrue\u001b[39;00m\n\u001b[1;32m--> 504\u001b[0m     io \u001b[38;5;241m=\u001b[39m \u001b[43mExcelFile\u001b[49m\u001b[43m(\u001b[49m\n\u001b[0;32m    505\u001b[0m \u001b[43m        \u001b[49m\u001b[43mio\u001b[49m\u001b[43m,\u001b[49m\n\u001b[0;32m    506\u001b[0m \u001b[43m        \u001b[49m\u001b[43mstorage_options\u001b[49m\u001b[38;5;241;43m=\u001b[39;49m\u001b[43mstorage_options\u001b[49m\u001b[43m,\u001b[49m\n\u001b[0;32m    507\u001b[0m \u001b[43m        \u001b[49m\u001b[43mengine\u001b[49m\u001b[38;5;241;43m=\u001b[39;49m\u001b[43mengine\u001b[49m\u001b[43m,\u001b[49m\n\u001b[0;32m    508\u001b[0m \u001b[43m        \u001b[49m\u001b[43mengine_kwargs\u001b[49m\u001b[38;5;241;43m=\u001b[39;49m\u001b[43mengine_kwargs\u001b[49m\u001b[43m,\u001b[49m\n\u001b[0;32m    509\u001b[0m \u001b[43m    \u001b[49m\u001b[43m)\u001b[49m\n\u001b[0;32m    510\u001b[0m \u001b[38;5;28;01melif\u001b[39;00m engine \u001b[38;5;129;01mand\u001b[39;00m engine \u001b[38;5;241m!=\u001b[39m io\u001b[38;5;241m.\u001b[39mengine:\n\u001b[0;32m    511\u001b[0m     \u001b[38;5;28;01mraise\u001b[39;00m \u001b[38;5;167;01mValueError\u001b[39;00m(\n\u001b[0;32m    512\u001b[0m         \u001b[38;5;124m\"\u001b[39m\u001b[38;5;124mEngine should not be specified when passing \u001b[39m\u001b[38;5;124m\"\u001b[39m\n\u001b[0;32m    513\u001b[0m         \u001b[38;5;124m\"\u001b[39m\u001b[38;5;124man ExcelFile - ExcelFile already has the engine set\u001b[39m\u001b[38;5;124m\"\u001b[39m\n\u001b[0;32m    514\u001b[0m     )\n",
      "File \u001b[1;32mc:\\Users\\Trenkin.Sergey\\AppData\\Local\\Programs\\Python\\Python312\\Lib\\site-packages\\pandas\\io\\excel\\_base.py:1563\u001b[0m, in \u001b[0;36mExcelFile.__init__\u001b[1;34m(self, path_or_buffer, engine, storage_options, engine_kwargs)\u001b[0m\n\u001b[0;32m   1561\u001b[0m     ext \u001b[38;5;241m=\u001b[39m \u001b[38;5;124m\"\u001b[39m\u001b[38;5;124mxls\u001b[39m\u001b[38;5;124m\"\u001b[39m\n\u001b[0;32m   1562\u001b[0m \u001b[38;5;28;01melse\u001b[39;00m:\n\u001b[1;32m-> 1563\u001b[0m     ext \u001b[38;5;241m=\u001b[39m \u001b[43minspect_excel_format\u001b[49m\u001b[43m(\u001b[49m\n\u001b[0;32m   1564\u001b[0m \u001b[43m        \u001b[49m\u001b[43mcontent_or_path\u001b[49m\u001b[38;5;241;43m=\u001b[39;49m\u001b[43mpath_or_buffer\u001b[49m\u001b[43m,\u001b[49m\u001b[43m \u001b[49m\u001b[43mstorage_options\u001b[49m\u001b[38;5;241;43m=\u001b[39;49m\u001b[43mstorage_options\u001b[49m\n\u001b[0;32m   1565\u001b[0m \u001b[43m    \u001b[49m\u001b[43m)\u001b[49m\n\u001b[0;32m   1566\u001b[0m     \u001b[38;5;28;01mif\u001b[39;00m ext \u001b[38;5;129;01mis\u001b[39;00m \u001b[38;5;28;01mNone\u001b[39;00m:\n\u001b[0;32m   1567\u001b[0m         \u001b[38;5;28;01mraise\u001b[39;00m \u001b[38;5;167;01mValueError\u001b[39;00m(\n\u001b[0;32m   1568\u001b[0m             \u001b[38;5;124m\"\u001b[39m\u001b[38;5;124mExcel file format cannot be determined, you must specify \u001b[39m\u001b[38;5;124m\"\u001b[39m\n\u001b[0;32m   1569\u001b[0m             \u001b[38;5;124m\"\u001b[39m\u001b[38;5;124man engine manually.\u001b[39m\u001b[38;5;124m\"\u001b[39m\n\u001b[0;32m   1570\u001b[0m         )\n",
      "File \u001b[1;32mc:\\Users\\Trenkin.Sergey\\AppData\\Local\\Programs\\Python\\Python312\\Lib\\site-packages\\pandas\\io\\excel\\_base.py:1419\u001b[0m, in \u001b[0;36minspect_excel_format\u001b[1;34m(content_or_path, storage_options)\u001b[0m\n\u001b[0;32m   1416\u001b[0m \u001b[38;5;28;01mif\u001b[39;00m \u001b[38;5;28misinstance\u001b[39m(content_or_path, \u001b[38;5;28mbytes\u001b[39m):\n\u001b[0;32m   1417\u001b[0m     content_or_path \u001b[38;5;241m=\u001b[39m BytesIO(content_or_path)\n\u001b[1;32m-> 1419\u001b[0m \u001b[38;5;28;01mwith\u001b[39;00m \u001b[43mget_handle\u001b[49m\u001b[43m(\u001b[49m\n\u001b[0;32m   1420\u001b[0m \u001b[43m    \u001b[49m\u001b[43mcontent_or_path\u001b[49m\u001b[43m,\u001b[49m\u001b[43m \u001b[49m\u001b[38;5;124;43m\"\u001b[39;49m\u001b[38;5;124;43mrb\u001b[39;49m\u001b[38;5;124;43m\"\u001b[39;49m\u001b[43m,\u001b[49m\u001b[43m \u001b[49m\u001b[43mstorage_options\u001b[49m\u001b[38;5;241;43m=\u001b[39;49m\u001b[43mstorage_options\u001b[49m\u001b[43m,\u001b[49m\u001b[43m \u001b[49m\u001b[43mis_text\u001b[49m\u001b[38;5;241;43m=\u001b[39;49m\u001b[38;5;28;43;01mFalse\u001b[39;49;00m\n\u001b[0;32m   1421\u001b[0m \u001b[43m\u001b[49m\u001b[43m)\u001b[49m \u001b[38;5;28;01mas\u001b[39;00m handle:\n\u001b[0;32m   1422\u001b[0m     stream \u001b[38;5;241m=\u001b[39m handle\u001b[38;5;241m.\u001b[39mhandle\n\u001b[0;32m   1423\u001b[0m     stream\u001b[38;5;241m.\u001b[39mseek(\u001b[38;5;241m0\u001b[39m)\n",
      "File \u001b[1;32mc:\\Users\\Trenkin.Sergey\\AppData\\Local\\Programs\\Python\\Python312\\Lib\\site-packages\\pandas\\io\\common.py:872\u001b[0m, in \u001b[0;36mget_handle\u001b[1;34m(path_or_buf, mode, encoding, compression, memory_map, is_text, errors, storage_options)\u001b[0m\n\u001b[0;32m    863\u001b[0m         handle \u001b[38;5;241m=\u001b[39m \u001b[38;5;28mopen\u001b[39m(\n\u001b[0;32m    864\u001b[0m             handle,\n\u001b[0;32m    865\u001b[0m             ioargs\u001b[38;5;241m.\u001b[39mmode,\n\u001b[1;32m   (...)\u001b[0m\n\u001b[0;32m    868\u001b[0m             newline\u001b[38;5;241m=\u001b[39m\u001b[38;5;124m\"\u001b[39m\u001b[38;5;124m\"\u001b[39m,\n\u001b[0;32m    869\u001b[0m         )\n\u001b[0;32m    870\u001b[0m     \u001b[38;5;28;01melse\u001b[39;00m:\n\u001b[0;32m    871\u001b[0m         \u001b[38;5;66;03m# Binary mode\u001b[39;00m\n\u001b[1;32m--> 872\u001b[0m         handle \u001b[38;5;241m=\u001b[39m \u001b[38;5;28;43mopen\u001b[39;49m\u001b[43m(\u001b[49m\u001b[43mhandle\u001b[49m\u001b[43m,\u001b[49m\u001b[43m \u001b[49m\u001b[43mioargs\u001b[49m\u001b[38;5;241;43m.\u001b[39;49m\u001b[43mmode\u001b[49m\u001b[43m)\u001b[49m\n\u001b[0;32m    873\u001b[0m     handles\u001b[38;5;241m.\u001b[39mappend(handle)\n\u001b[0;32m    875\u001b[0m \u001b[38;5;66;03m# Convert BytesIO or file objects passed with an encoding\u001b[39;00m\n",
      "\u001b[1;31mPermissionError\u001b[0m: [Errno 13] Permission denied: '\\\\\\\\gold585.int\\\\uk\\\\Общее хранилище файлов\\\\Служба аналитики\\\\Выгрузки из DWH\\\\Продажи по КБК из DWH new\\\\~$2024-05-01_2024-05-09.xlsx'"
     ]
    }
   ],
   "source": [
    "path = r'\\\\gold585.int\\uk\\Общее хранилище файлов\\Служба аналитики\\Выгрузки из DWH\\Продажи по КБК из DWH new\\\\'\n",
    "list_of_files = glob.glob(path + '\\*.xlsx') \n",
    "latest_file = max(list_of_files, key=os.path.getctime)\n",
    "\n",
    "df_dwh = pd.read_excel(latest_file)\n",
    "\n",
    "# df_dwh = pd.read_excel(r'\\\\gold585.int\\uk\\Общее хранилище файлов\\Служба аналитики\\Выгрузки из DWH\\Продажи по КБК из DWH new\\2024-06-01_2024-06-04.xlsx')"
   ]
  },
  {
   "cell_type": "code",
   "execution_count": 8,
   "id": "3f1cacbb",
   "metadata": {},
   "outputs": [
    {
     "name": "stdout",
     "output_type": "stream",
     "text": [
      "\\\\gold585.int\\uk\\Общее хранилище файлов\\Служба аналитики\\Выгрузки из DWH\\Продажи по КБК из DWH new\\2024-05-20_2024-05-31.xlsx\n"
     ]
    }
   ],
   "source": [
    "# print(latest_file)"
   ]
  },
  {
   "cell_type": "code",
   "execution_count": 13,
   "id": "4bfd7e53",
   "metadata": {},
   "outputs": [],
   "source": [
    "# мы смотрим продажи со времени последнего мониторинга, для этого определяем день недели и в зависимости от этого получаем новые данные\n",
    "data = dt.datetime.isoweekday(dt.date.today())\n",
    "date_now = dt.datetime.now().date().strftime('%d.%m.%Y')\n",
    "if data == 1:\n",
    "    last_monitoring = (dt.date.today() - dt.timedelta(days=3)).strftime('%Y-%m-%d')\n",
    "else:\n",
    "    last_monitoring = (dt.date.today() - dt.timedelta(days=2)).strftime('%Y-%m-%d')\n",
    "    \n",
    "df_dwh = df_dwh[df_dwh['Дата'] >= f'{last_monitoring}']"
   ]
  },
  {
   "cell_type": "code",
   "execution_count": 14,
   "id": "e59d5b05-8a78-43d5-b9fa-f8eca0135972",
   "metadata": {
    "tags": []
   },
   "outputs": [
    {
     "data": {
      "text/html": [
       "<div>\n",
       "<style scoped>\n",
       "    .dataframe tbody tr th:only-of-type {\n",
       "        vertical-align: middle;\n",
       "    }\n",
       "\n",
       "    .dataframe tbody tr th {\n",
       "        vertical-align: top;\n",
       "    }\n",
       "\n",
       "    .dataframe thead th {\n",
       "        text-align: right;\n",
       "    }\n",
       "</style>\n",
       "<table border=\"1\" class=\"dataframe\">\n",
       "  <thead>\n",
       "    <tr style=\"text-align: right;\">\n",
       "      <th></th>\n",
       "      <th>КБК</th>\n",
       "      <th>Дата</th>\n",
       "      <th>Продавец</th>\n",
       "      <th>Номер чека</th>\n",
       "      <th>ID продажи</th>\n",
       "      <th>Тов</th>\n",
       "      <th>Артикул поставщика</th>\n",
       "      <th>Количество</th>\n",
       "      <th>Номенклатура</th>\n",
       "      <th>Номер карты</th>\n",
       "      <th>Товарная группа</th>\n",
       "      <th>Товарное направление</th>\n",
       "      <th>Тип 1</th>\n",
       "      <th>Списание СберСпасибо</th>\n",
       "      <th>Группа наценки</th>\n",
       "      <th>Вес</th>\n",
       "      <th>Проба</th>\n",
       "      <th>Размер</th>\n",
       "      <th>ШК</th>\n",
       "      <th>Цена без скидки</th>\n",
       "      <th>Базовая скидка</th>\n",
       "      <th>Скидка в руб.</th>\n",
       "      <th>Название</th>\n",
       "      <th>Цена после скидки</th>\n",
       "      <th>Phone</th>\n",
       "      <th>Себестоимость</th>\n",
       "      <th>Сумма</th>\n",
       "      <th>Услуга</th>\n",
       "      <th>Общая сумма</th>\n",
       "    </tr>\n",
       "  </thead>\n",
       "  <tbody>\n",
       "    <tr>\n",
       "      <th>82300</th>\n",
       "      <td>6-01-128</td>\n",
       "      <td>2024-06-04 08:34:00</td>\n",
       "      <td>Говорунова Мария Анатольевна</td>\n",
       "      <td>5166</td>\n",
       "      <td>Ch4-000536360</td>\n",
       "      <td>ТОВ1257220</td>\n",
       "      <td>10-02-0001-10839</td>\n",
       "      <td>1</td>\n",
       "      <td>Товар</td>\n",
       "      <td>9000212982201</td>\n",
       "      <td>ИФ СЕРЬГИ</td>\n",
       "      <td>ИФ</td>\n",
       "      <td>СЕРЬГИ</td>\n",
       "      <td>0.000</td>\n",
       "      <td>ИФ.БК_СР</td>\n",
       "      <td>2.388</td>\n",
       "      <td>585.000</td>\n",
       "      <td>0.000</td>\n",
       "      <td>2,078,609,464,420.000</td>\n",
       "      <td>45,784.000</td>\n",
       "      <td>22.000</td>\n",
       "      <td>11,599.610</td>\n",
       "      <td>СЕРЬГИ, ФИАНИТ</td>\n",
       "      <td>16,600.000</td>\n",
       "      <td>+79614058253</td>\n",
       "      <td>7,372.930</td>\n",
       "      <td>16,600.000</td>\n",
       "      <td>3,400.000</td>\n",
       "      <td>20,000.000</td>\n",
       "    </tr>\n",
       "    <tr>\n",
       "      <th>64758</th>\n",
       "      <td>6-01-135</td>\n",
       "      <td>2024-06-03 10:55:00</td>\n",
       "      <td>Плюснина Анастасия Александровна</td>\n",
       "      <td>3593</td>\n",
       "      <td>Ch4-000534767</td>\n",
       "      <td>ТОВ1261812</td>\n",
       "      <td>МТБ1</td>\n",
       "      <td>1</td>\n",
       "      <td>Футляр</td>\n",
       "      <td>9000191580658</td>\n",
       "      <td>ФУТЛЯРЫ</td>\n",
       "      <td>ФУТЛЯРЫ</td>\n",
       "      <td>ПРОЧЕЕ</td>\n",
       "      <td>0.000</td>\n",
       "      <td>NaN</td>\n",
       "      <td>0.000</td>\n",
       "      <td>NaN</td>\n",
       "      <td>0.000</td>\n",
       "      <td>NaN</td>\n",
       "      <td>65.000</td>\n",
       "      <td>0.000</td>\n",
       "      <td>65.000</td>\n",
       "      <td>ФУТЛЯР МЕШОЧЕК БРЕНД</td>\n",
       "      <td>65.000</td>\n",
       "      <td>+79281093240</td>\n",
       "      <td>NaN</td>\n",
       "      <td>65.000</td>\n",
       "      <td>0.000</td>\n",
       "      <td>65.000</td>\n",
       "    </tr>\n",
       "    <tr>\n",
       "      <th>92164</th>\n",
       "      <td>4-05-069</td>\n",
       "      <td>2024-06-04 13:14:00</td>\n",
       "      <td>Данилова Светлана Ярославовна</td>\n",
       "      <td>5547</td>\n",
       "      <td>Ch2-000854741</td>\n",
       "      <td>ТОВ1261812</td>\n",
       "      <td>МТБ1</td>\n",
       "      <td>1</td>\n",
       "      <td>Футляр</td>\n",
       "      <td>9000212761639</td>\n",
       "      <td>ФУТЛЯРЫ</td>\n",
       "      <td>ФУТЛЯРЫ</td>\n",
       "      <td>ПРОЧЕЕ</td>\n",
       "      <td>0.000</td>\n",
       "      <td>NaN</td>\n",
       "      <td>0.000</td>\n",
       "      <td>NaN</td>\n",
       "      <td>0.000</td>\n",
       "      <td>NaN</td>\n",
       "      <td>65.000</td>\n",
       "      <td>0.000</td>\n",
       "      <td>65.000</td>\n",
       "      <td>ФУТЛЯР МЕШОЧЕК БРЕНД</td>\n",
       "      <td>65.000</td>\n",
       "      <td>+79222522012</td>\n",
       "      <td>NaN</td>\n",
       "      <td>65.000</td>\n",
       "      <td>0.000</td>\n",
       "      <td>65.000</td>\n",
       "    </tr>\n",
       "    <tr>\n",
       "      <th>60767</th>\n",
       "      <td>6-04-045</td>\n",
       "      <td>2024-06-03 09:17:00</td>\n",
       "      <td>Михайлова Светлана Юрьевна</td>\n",
       "      <td>212</td>\n",
       "      <td>Ch4-000534393</td>\n",
       "      <td>ТОВ1202674</td>\n",
       "      <td>47-02-1000-29749</td>\n",
       "      <td>1</td>\n",
       "      <td>Товар</td>\n",
       "      <td>NaN</td>\n",
       "      <td>ДК ПОДВЕСКИ</td>\n",
       "      <td>ДК</td>\n",
       "      <td>БРАСЛЕТ</td>\n",
       "      <td>0.000</td>\n",
       "      <td>ДК_ДЕШЕВАЯ</td>\n",
       "      <td>0.617</td>\n",
       "      <td>585.000</td>\n",
       "      <td>0.000</td>\n",
       "      <td>2,078,608,176,931.000</td>\n",
       "      <td>19,967.000</td>\n",
       "      <td>70.000</td>\n",
       "      <td>4,980.000</td>\n",
       "      <td>БРАСЛЕТ КРАСНАЯ НИТЬ</td>\n",
       "      <td>4,980.000</td>\n",
       "      <td>NaN</td>\n",
       "      <td>2,241.600</td>\n",
       "      <td>4,980.000</td>\n",
       "      <td>1,020.000</td>\n",
       "      <td>6,000.000</td>\n",
       "    </tr>\n",
       "    <tr>\n",
       "      <th>74685</th>\n",
       "      <td>1-01-251</td>\n",
       "      <td>2024-06-03 16:25:00</td>\n",
       "      <td>Смирнова Елена Геннадьевна</td>\n",
       "      <td>215</td>\n",
       "      <td>Ch3-000799551</td>\n",
       "      <td>ТОВ0832948</td>\n",
       "      <td>КО 03-00</td>\n",
       "      <td>1</td>\n",
       "      <td>Товар</td>\n",
       "      <td>9000054775382</td>\n",
       "      <td>БК КОЛЬЦА ОБРУЧ</td>\n",
       "      <td>БК</td>\n",
       "      <td>КОЛЬЦО ОБРУЧАЛЬНОЕ</td>\n",
       "      <td>0.000</td>\n",
       "      <td>ИФ.БК_ДЕШ</td>\n",
       "      <td>1.691</td>\n",
       "      <td>585.000</td>\n",
       "      <td>17.000</td>\n",
       "      <td>2,078,610,506,550.000</td>\n",
       "      <td>41,108.000</td>\n",
       "      <td>35.000</td>\n",
       "      <td>11,122.000</td>\n",
       "      <td>КОЛЬЦО ОБРУЧАЛЬНОЕ</td>\n",
       "      <td>11,122.000</td>\n",
       "      <td>+79502274682</td>\n",
       "      <td>5,860.150</td>\n",
       "      <td>11,122.000</td>\n",
       "      <td>2,278.000</td>\n",
       "      <td>13,400.000</td>\n",
       "    </tr>\n",
       "  </tbody>\n",
       "</table>\n",
       "</div>"
      ],
      "text/plain": [
       "            КБК                Дата                          Продавец  \\\n",
       "82300  6-01-128 2024-06-04 08:34:00      Говорунова Мария Анатольевна   \n",
       "64758  6-01-135 2024-06-03 10:55:00  Плюснина Анастасия Александровна   \n",
       "92164  4-05-069 2024-06-04 13:14:00     Данилова Светлана Ярославовна   \n",
       "60767  6-04-045 2024-06-03 09:17:00        Михайлова Светлана Юрьевна   \n",
       "74685  1-01-251 2024-06-03 16:25:00        Смирнова Елена Геннадьевна   \n",
       "\n",
       "       Номер чека     ID продажи         Тов Артикул поставщика  Количество  \\\n",
       "82300        5166  Ch4-000536360  ТОВ1257220   10-02-0001-10839           1   \n",
       "64758        3593  Ch4-000534767  ТОВ1261812               МТБ1           1   \n",
       "92164        5547  Ch2-000854741  ТОВ1261812               МТБ1           1   \n",
       "60767         212  Ch4-000534393  ТОВ1202674   47-02-1000-29749           1   \n",
       "74685         215  Ch3-000799551  ТОВ0832948           КО 03-00           1   \n",
       "\n",
       "      Номенклатура    Номер карты  Товарная группа Товарное направление  \\\n",
       "82300        Товар  9000212982201        ИФ СЕРЬГИ                   ИФ   \n",
       "64758       Футляр  9000191580658          ФУТЛЯРЫ              ФУТЛЯРЫ   \n",
       "92164       Футляр  9000212761639          ФУТЛЯРЫ              ФУТЛЯРЫ   \n",
       "60767        Товар            NaN      ДК ПОДВЕСКИ                   ДК   \n",
       "74685        Товар  9000054775382  БК КОЛЬЦА ОБРУЧ                   БК   \n",
       "\n",
       "                    Тип 1  Списание СберСпасибо Группа наценки   Вес   Проба  \\\n",
       "82300              СЕРЬГИ                 0.000       ИФ.БК_СР 2.388 585.000   \n",
       "64758              ПРОЧЕЕ                 0.000            NaN 0.000     NaN   \n",
       "92164              ПРОЧЕЕ                 0.000            NaN 0.000     NaN   \n",
       "60767             БРАСЛЕТ                 0.000     ДК_ДЕШЕВАЯ 0.617 585.000   \n",
       "74685  КОЛЬЦО ОБРУЧАЛЬНОЕ                 0.000      ИФ.БК_ДЕШ 1.691 585.000   \n",
       "\n",
       "       Размер                    ШК  Цена без скидки  Базовая скидка  \\\n",
       "82300   0.000 2,078,609,464,420.000       45,784.000          22.000   \n",
       "64758   0.000                   NaN           65.000           0.000   \n",
       "92164   0.000                   NaN           65.000           0.000   \n",
       "60767   0.000 2,078,608,176,931.000       19,967.000          70.000   \n",
       "74685  17.000 2,078,610,506,550.000       41,108.000          35.000   \n",
       "\n",
       "       Скидка в руб.              Название  Цена после скидки         Phone  \\\n",
       "82300     11,599.610        СЕРЬГИ, ФИАНИТ         16,600.000  +79614058253   \n",
       "64758         65.000  ФУТЛЯР МЕШОЧЕК БРЕНД             65.000  +79281093240   \n",
       "92164         65.000  ФУТЛЯР МЕШОЧЕК БРЕНД             65.000  +79222522012   \n",
       "60767      4,980.000  БРАСЛЕТ КРАСНАЯ НИТЬ          4,980.000           NaN   \n",
       "74685     11,122.000    КОЛЬЦО ОБРУЧАЛЬНОЕ         11,122.000  +79502274682   \n",
       "\n",
       "       Себестоимость      Сумма    Услуга  Общая сумма  \n",
       "82300      7,372.930 16,600.000 3,400.000   20,000.000  \n",
       "64758            NaN     65.000     0.000       65.000  \n",
       "92164            NaN     65.000     0.000       65.000  \n",
       "60767      2,241.600  4,980.000 1,020.000    6,000.000  \n",
       "74685      5,860.150 11,122.000 2,278.000   13,400.000  "
      ]
     },
     "execution_count": 14,
     "metadata": {},
     "output_type": "execute_result"
    }
   ],
   "source": [
    "df_dwh.sample(5)"
   ]
  },
  {
   "cell_type": "code",
   "execution_count": 15,
   "id": "d04d0d1d",
   "metadata": {},
   "outputs": [
    {
     "data": {
      "text/plain": [
       "Товарная группа\n",
       "False    21890\n",
       "True      8010\n",
       "Name: count, dtype: int64"
      ]
     },
     "execution_count": 15,
     "metadata": {},
     "output_type": "execute_result"
    }
   ],
   "source": [
    "df_dwh['Товарная группа'].str.contains('ЦБ|БК').value_counts()"
   ]
  },
  {
   "cell_type": "code",
   "execution_count": 16,
   "id": "2fd04cca-80c4-4902-93a5-9d63d044b21d",
   "metadata": {
    "tags": []
   },
   "outputs": [],
   "source": [
    "df_dwh = df_dwh[(df_dwh['Товарное направление'].isin(['БК', 'ЦБ'])) & (df_dwh['Проба'] == 585.0)]"
   ]
  },
  {
   "cell_type": "code",
   "execution_count": 17,
   "id": "31ec5a9d-6866-4c10-8329-f9ec20f6fb7c",
   "metadata": {
    "tags": []
   },
   "outputs": [
    {
     "data": {
      "text/html": [
       "<div>\n",
       "<style scoped>\n",
       "    .dataframe tbody tr th:only-of-type {\n",
       "        vertical-align: middle;\n",
       "    }\n",
       "\n",
       "    .dataframe tbody tr th {\n",
       "        vertical-align: top;\n",
       "    }\n",
       "\n",
       "    .dataframe thead th {\n",
       "        text-align: right;\n",
       "    }\n",
       "</style>\n",
       "<table border=\"1\" class=\"dataframe\">\n",
       "  <thead>\n",
       "    <tr style=\"text-align: right;\">\n",
       "      <th></th>\n",
       "      <th>КБК</th>\n",
       "      <th>Дата</th>\n",
       "      <th>Продавец</th>\n",
       "      <th>Номер чека</th>\n",
       "      <th>ID продажи</th>\n",
       "      <th>Тов</th>\n",
       "      <th>Артикул поставщика</th>\n",
       "      <th>Количество</th>\n",
       "      <th>Номенклатура</th>\n",
       "      <th>Номер карты</th>\n",
       "      <th>Товарная группа</th>\n",
       "      <th>Товарное направление</th>\n",
       "      <th>Тип 1</th>\n",
       "      <th>Списание СберСпасибо</th>\n",
       "      <th>Группа наценки</th>\n",
       "      <th>Вес</th>\n",
       "      <th>Проба</th>\n",
       "      <th>Размер</th>\n",
       "      <th>ШК</th>\n",
       "      <th>Цена без скидки</th>\n",
       "      <th>Базовая скидка</th>\n",
       "      <th>Скидка в руб.</th>\n",
       "      <th>Название</th>\n",
       "      <th>Цена после скидки</th>\n",
       "      <th>Phone</th>\n",
       "      <th>Себестоимость</th>\n",
       "      <th>Сумма</th>\n",
       "      <th>Услуга</th>\n",
       "      <th>Общая сумма</th>\n",
       "    </tr>\n",
       "  </thead>\n",
       "  <tbody>\n",
       "    <tr>\n",
       "      <th>52452</th>\n",
       "      <td>3-09-051</td>\n",
       "      <td>2024-06-03 01:03:00</td>\n",
       "      <td>Горбатенко Юлия Олеговна</td>\n",
       "      <td>1099</td>\n",
       "      <td>Ch2-000848842</td>\n",
       "      <td>ТОВ1019800</td>\n",
       "      <td>НЦ18-053-3 D0,45</td>\n",
       "      <td>1</td>\n",
       "      <td>Товар</td>\n",
       "      <td>9000086736238</td>\n",
       "      <td>ЦБ ЦЕПИ</td>\n",
       "      <td>ЦБ</td>\n",
       "      <td>ЦЕПЬ</td>\n",
       "      <td>0.000</td>\n",
       "      <td>ЦБ_АВТОМАТ &gt;3 ГРАММ</td>\n",
       "      <td>3.919</td>\n",
       "      <td>585.000</td>\n",
       "      <td>55.000</td>\n",
       "      <td>2,078,608,177,428.000</td>\n",
       "      <td>66,360.000</td>\n",
       "      <td>11.000</td>\n",
       "      <td>0.000</td>\n",
       "      <td>ЦЕПЬ ЯКОРЬ РОД.</td>\n",
       "      <td>29,423.500</td>\n",
       "      <td>+79140275428</td>\n",
       "      <td>18,076.940</td>\n",
       "      <td>29,423.500</td>\n",
       "      <td>6,026.500</td>\n",
       "      <td>35,450.000</td>\n",
       "    </tr>\n",
       "    <tr>\n",
       "      <th>52457</th>\n",
       "      <td>3-09-025</td>\n",
       "      <td>2024-06-03 01:07:00</td>\n",
       "      <td>Сенотрусова Ирина Анатольевна</td>\n",
       "      <td>4299</td>\n",
       "      <td>Ch2-000848851</td>\n",
       "      <td>ТОВ0980576</td>\n",
       "      <td>НЦ12-087ПГ D0,40</td>\n",
       "      <td>1</td>\n",
       "      <td>Товар</td>\n",
       "      <td>9000085765079</td>\n",
       "      <td>ЦБ ЦЕПИ</td>\n",
       "      <td>ЦБ</td>\n",
       "      <td>ЦЕПЬ</td>\n",
       "      <td>0.000</td>\n",
       "      <td>ЦБ_ПУСТОТЕЛЫЕ &lt;=3 ГРАММ</td>\n",
       "      <td>1.922</td>\n",
       "      <td>585.000</td>\n",
       "      <td>50.000</td>\n",
       "      <td>2,078,609,800,105.000</td>\n",
       "      <td>36,084.000</td>\n",
       "      <td>22.000</td>\n",
       "      <td>12,466.870</td>\n",
       "      <td>ЦЕПЬ ЛАВ ПУСТ</td>\n",
       "      <td>13,114.000</td>\n",
       "      <td>+79243719866</td>\n",
       "      <td>8,449.130</td>\n",
       "      <td>13,114.000</td>\n",
       "      <td>2,686.000</td>\n",
       "      <td>15,800.000</td>\n",
       "    </tr>\n",
       "    <tr>\n",
       "      <th>52461</th>\n",
       "      <td>3-09-043</td>\n",
       "      <td>2024-06-03 01:07:00</td>\n",
       "      <td>Воронова Валентина Игоревна</td>\n",
       "      <td>4473</td>\n",
       "      <td>Ch2-000848829</td>\n",
       "      <td>ТОВ0832984</td>\n",
       "      <td>КО 05-00</td>\n",
       "      <td>1</td>\n",
       "      <td>Товар</td>\n",
       "      <td>9000159920076</td>\n",
       "      <td>БК КОЛЬЦА ОБРУЧ</td>\n",
       "      <td>БК</td>\n",
       "      <td>КОЛЬЦО ОБРУЧАЛЬНОЕ</td>\n",
       "      <td>0.000</td>\n",
       "      <td>ИФ.БК_СР</td>\n",
       "      <td>3.017</td>\n",
       "      <td>585.000</td>\n",
       "      <td>19.000</td>\n",
       "      <td>2,078,607,105,388.000</td>\n",
       "      <td>58,006.000</td>\n",
       "      <td>24.000</td>\n",
       "      <td>0.000</td>\n",
       "      <td>КОЛЬЦО ОБРУЧАЛЬНОЕ</td>\n",
       "      <td>17,596.000</td>\n",
       "      <td>+79141487060</td>\n",
       "      <td>10,453.960</td>\n",
       "      <td>17,596.000</td>\n",
       "      <td>3,604.000</td>\n",
       "      <td>21,200.000</td>\n",
       "    </tr>\n",
       "    <tr>\n",
       "      <th>52477</th>\n",
       "      <td>3-09-046</td>\n",
       "      <td>2024-06-03 01:22:00</td>\n",
       "      <td>Сопова Алина Владимировна</td>\n",
       "      <td>3856</td>\n",
       "      <td>Ch2-000848862</td>\n",
       "      <td>ТОВ0832971</td>\n",
       "      <td>КО 04-00</td>\n",
       "      <td>1</td>\n",
       "      <td>Товар</td>\n",
       "      <td>9000212848972</td>\n",
       "      <td>БК КОЛЬЦА ОБРУЧ</td>\n",
       "      <td>БК</td>\n",
       "      <td>КОЛЬЦО ОБРУЧАЛЬНОЕ</td>\n",
       "      <td>0.000</td>\n",
       "      <td>KVI</td>\n",
       "      <td>2.622</td>\n",
       "      <td>585.000</td>\n",
       "      <td>21.000</td>\n",
       "      <td>2,078,608,885,414.000</td>\n",
       "      <td>42,966.000</td>\n",
       "      <td>70.000</td>\n",
       "      <td>0.000</td>\n",
       "      <td>КОЛЬЦО ОБРУЧАЛЬНОЕ</td>\n",
       "      <td>10,707.000</td>\n",
       "      <td>+79145630370</td>\n",
       "      <td>8,495.600</td>\n",
       "      <td>10,707.000</td>\n",
       "      <td>2,193.000</td>\n",
       "      <td>12,900.000</td>\n",
       "    </tr>\n",
       "    <tr>\n",
       "      <th>52480</th>\n",
       "      <td>3-09-046</td>\n",
       "      <td>2024-06-03 01:22:00</td>\n",
       "      <td>Сопова Алина Владимировна</td>\n",
       "      <td>3856</td>\n",
       "      <td>Ch2-000848862</td>\n",
       "      <td>ТОВ0832970</td>\n",
       "      <td>КО 04-00</td>\n",
       "      <td>1</td>\n",
       "      <td>Товар</td>\n",
       "      <td>9000212848972</td>\n",
       "      <td>БК КОЛЬЦА ОБРУЧ</td>\n",
       "      <td>БК</td>\n",
       "      <td>КОЛЬЦО ОБРУЧАЛЬНОЕ</td>\n",
       "      <td>0.000</td>\n",
       "      <td>KVI</td>\n",
       "      <td>2.566</td>\n",
       "      <td>585.000</td>\n",
       "      <td>20.500</td>\n",
       "      <td>2,078,606,735,037.000</td>\n",
       "      <td>42,966.000</td>\n",
       "      <td>70.000</td>\n",
       "      <td>0.000</td>\n",
       "      <td>КОЛЬЦО ОБРУЧАЛЬНОЕ</td>\n",
       "      <td>10,707.000</td>\n",
       "      <td>+79145630370</td>\n",
       "      <td>7,753.670</td>\n",
       "      <td>10,707.000</td>\n",
       "      <td>2,193.000</td>\n",
       "      <td>12,900.000</td>\n",
       "    </tr>\n",
       "  </tbody>\n",
       "</table>\n",
       "</div>"
      ],
      "text/plain": [
       "            КБК                Дата                       Продавец  \\\n",
       "52452  3-09-051 2024-06-03 01:03:00       Горбатенко Юлия Олеговна   \n",
       "52457  3-09-025 2024-06-03 01:07:00  Сенотрусова Ирина Анатольевна   \n",
       "52461  3-09-043 2024-06-03 01:07:00    Воронова Валентина Игоревна   \n",
       "52477  3-09-046 2024-06-03 01:22:00      Сопова Алина Владимировна   \n",
       "52480  3-09-046 2024-06-03 01:22:00      Сопова Алина Владимировна   \n",
       "\n",
       "       Номер чека     ID продажи         Тов Артикул поставщика  Количество  \\\n",
       "52452        1099  Ch2-000848842  ТОВ1019800   НЦ18-053-3 D0,45           1   \n",
       "52457        4299  Ch2-000848851  ТОВ0980576   НЦ12-087ПГ D0,40           1   \n",
       "52461        4473  Ch2-000848829  ТОВ0832984           КО 05-00           1   \n",
       "52477        3856  Ch2-000848862  ТОВ0832971           КО 04-00           1   \n",
       "52480        3856  Ch2-000848862  ТОВ0832970           КО 04-00           1   \n",
       "\n",
       "      Номенклатура    Номер карты  Товарная группа Товарное направление  \\\n",
       "52452        Товар  9000086736238          ЦБ ЦЕПИ                   ЦБ   \n",
       "52457        Товар  9000085765079          ЦБ ЦЕПИ                   ЦБ   \n",
       "52461        Товар  9000159920076  БК КОЛЬЦА ОБРУЧ                   БК   \n",
       "52477        Товар  9000212848972  БК КОЛЬЦА ОБРУЧ                   БК   \n",
       "52480        Товар  9000212848972  БК КОЛЬЦА ОБРУЧ                   БК   \n",
       "\n",
       "                    Тип 1  Списание СберСпасибо           Группа наценки  \\\n",
       "52452                ЦЕПЬ                 0.000      ЦБ_АВТОМАТ >3 ГРАММ   \n",
       "52457                ЦЕПЬ                 0.000  ЦБ_ПУСТОТЕЛЫЕ <=3 ГРАММ   \n",
       "52461  КОЛЬЦО ОБРУЧАЛЬНОЕ                 0.000                 ИФ.БК_СР   \n",
       "52477  КОЛЬЦО ОБРУЧАЛЬНОЕ                 0.000                      KVI   \n",
       "52480  КОЛЬЦО ОБРУЧАЛЬНОЕ                 0.000                      KVI   \n",
       "\n",
       "        Вес   Проба  Размер                    ШК  Цена без скидки  \\\n",
       "52452 3.919 585.000  55.000 2,078,608,177,428.000       66,360.000   \n",
       "52457 1.922 585.000  50.000 2,078,609,800,105.000       36,084.000   \n",
       "52461 3.017 585.000  19.000 2,078,607,105,388.000       58,006.000   \n",
       "52477 2.622 585.000  21.000 2,078,608,885,414.000       42,966.000   \n",
       "52480 2.566 585.000  20.500 2,078,606,735,037.000       42,966.000   \n",
       "\n",
       "       Базовая скидка  Скидка в руб.            Название  Цена после скидки  \\\n",
       "52452          11.000          0.000     ЦЕПЬ ЯКОРЬ РОД.         29,423.500   \n",
       "52457          22.000     12,466.870       ЦЕПЬ ЛАВ ПУСТ         13,114.000   \n",
       "52461          24.000          0.000  КОЛЬЦО ОБРУЧАЛЬНОЕ         17,596.000   \n",
       "52477          70.000          0.000  КОЛЬЦО ОБРУЧАЛЬНОЕ         10,707.000   \n",
       "52480          70.000          0.000  КОЛЬЦО ОБРУЧАЛЬНОЕ         10,707.000   \n",
       "\n",
       "              Phone  Себестоимость      Сумма    Услуга  Общая сумма  \n",
       "52452  +79140275428     18,076.940 29,423.500 6,026.500   35,450.000  \n",
       "52457  +79243719866      8,449.130 13,114.000 2,686.000   15,800.000  \n",
       "52461  +79141487060     10,453.960 17,596.000 3,604.000   21,200.000  \n",
       "52477  +79145630370      8,495.600 10,707.000 2,193.000   12,900.000  \n",
       "52480  +79145630370      7,753.670 10,707.000 2,193.000   12,900.000  "
      ]
     },
     "execution_count": 17,
     "metadata": {},
     "output_type": "execute_result"
    }
   ],
   "source": [
    "df_dwh.head()"
   ]
  },
  {
   "cell_type": "code",
   "execution_count": 18,
   "id": "7a815429-89ac-47de-beaa-f50f86347a4b",
   "metadata": {
    "tags": []
   },
   "outputs": [
    {
     "data": {
      "text/plain": [
       "array(['ЦБ', 'БК'], dtype=object)"
      ]
     },
     "execution_count": 18,
     "metadata": {},
     "output_type": "execute_result"
    }
   ],
   "source": [
    "df_dwh['Товарное направление'].unique()"
   ]
  },
  {
   "cell_type": "code",
   "execution_count": 19,
   "id": "5e01490c-0d74-40aa-9dbe-0dce5e2c81b0",
   "metadata": {
    "tags": []
   },
   "outputs": [
    {
     "data": {
      "text/plain": [
       "0"
      ]
     },
     "execution_count": 19,
     "metadata": {},
     "output_type": "execute_result"
    }
   ],
   "source": [
    "df_dwh['Название'].isna().sum()"
   ]
  },
  {
   "cell_type": "code",
   "execution_count": 20,
   "id": "3e78909e-d6a5-4d98-85d7-e1510f1b9a2d",
   "metadata": {
    "tags": []
   },
   "outputs": [],
   "source": [
    "df_dwh['Название'] = df_dwh['Название'].fillna('золотое изделие')"
   ]
  },
  {
   "cell_type": "code",
   "execution_count": 21,
   "id": "1cf44d59-c331-40d5-8216-bb1f8dd58c50",
   "metadata": {
    "tags": []
   },
   "outputs": [],
   "source": [
    "df_dwh = df_dwh[(~(df_dwh['Название'].str.lower().str.contains('каучук')))]\n",
    "df_dwh = df_dwh[(~(df_dwh['Название'].str.lower().str.contains('шнурок')))]\n",
    "df_dwh = df_dwh[(~(df_dwh['Название'].str.lower().str.contains('текстиль')))]\n",
    "df_dwh = df_dwh[(~(df_dwh['Название'].str.lower().str.contains('хлопок')))]\n",
    "df_dwh = df_dwh[(~(df_dwh['Название'].str.lower().str.contains('шелк')))]\n",
    "df_dwh = df_dwh[(~(df_dwh['Название'].str.lower().str.contains('на нитке')))]\n",
    "df_dwh = df_dwh[(~(df_dwh['Название'].str.lower().str.contains('кожа')))]\n",
    "df_dwh = df_dwh[(~(df_dwh['Название'].str.lower().str.contains('жемчуг')))]"
   ]
  },
  {
   "cell_type": "code",
   "execution_count": 22,
   "id": "8a714183-7177-403e-abd1-3fbfd97863e2",
   "metadata": {
    "tags": []
   },
   "outputs": [],
   "source": [
    "df_dwh['Дата'] = pd.to_datetime(df_dwh['Дата'], format='%Y-%m-%d')\n",
    "df_dwh['Дата'] = pd.to_datetime(df_dwh['Дата'].apply(lambda x: x.strftime(\"%Y-%m-%d\")))"
   ]
  },
  {
   "cell_type": "code",
   "execution_count": 23,
   "id": "ffeecf8b-cd88-4505-8517-12043a90a749",
   "metadata": {
    "tags": []
   },
   "outputs": [],
   "source": [
    "filtr_date = df_dwh['Дата'].max()"
   ]
  },
  {
   "cell_type": "code",
   "execution_count": 24,
   "id": "e2ded21d-6073-4e6f-a71c-10a234668f5b",
   "metadata": {
    "tags": []
   },
   "outputs": [
    {
     "data": {
      "text/plain": [
       "Timestamp('2024-06-03 00:00:00')"
      ]
     },
     "execution_count": 24,
     "metadata": {},
     "output_type": "execute_result"
    }
   ],
   "source": [
    "df_dwh['Дата'].min()"
   ]
  },
  {
   "cell_type": "code",
   "execution_count": 25,
   "id": "435df7ee-2e1e-4ee8-a5e3-45dbaf0b37c2",
   "metadata": {
    "tags": []
   },
   "outputs": [],
   "source": [
    "df_dwh = df_dwh.query(\"`Дата` <= @filtr_date\")"
   ]
  },
  {
   "cell_type": "code",
   "execution_count": 26,
   "id": "0b6778b1-89b3-451e-9810-d12baff754fb",
   "metadata": {
    "tags": []
   },
   "outputs": [
    {
     "data": {
      "text/plain": [
       "<DatetimeArray>\n",
       "['2024-06-03 00:00:00', '2024-06-04 00:00:00']\n",
       "Length: 2, dtype: datetime64[ns]"
      ]
     },
     "execution_count": 26,
     "metadata": {},
     "output_type": "execute_result"
    }
   ],
   "source": [
    "df_dwh['Дата'].unique()"
   ]
  },
  {
   "cell_type": "code",
   "execution_count": 27,
   "id": "91693521-f7e7-44b7-a46e-faf3a6e448ee",
   "metadata": {
    "tags": []
   },
   "outputs": [
    {
     "data": {
      "text/plain": [
       "Товарное направление\n",
       "БК    2666\n",
       "ЦБ    2238\n",
       "Name: count, dtype: int64"
      ]
     },
     "execution_count": 27,
     "metadata": {},
     "output_type": "execute_result"
    }
   ],
   "source": [
    "df_dwh['Товарное направление'].value_counts()"
   ]
  },
  {
   "cell_type": "code",
   "execution_count": 28,
   "id": "a7e37ab9-694a-4fe0-9c30-40099545004a",
   "metadata": {
    "tags": []
   },
   "outputs": [
    {
     "name": "stdout",
     "output_type": "stream",
     "text": [
      "<class 'pandas.core.frame.DataFrame'>\n",
      "Index: 4904 entries, 52452 to 97921\n",
      "Data columns (total 29 columns):\n",
      " #   Column                Non-Null Count  Dtype         \n",
      "---  ------                --------------  -----         \n",
      " 0   КБК                   4893 non-null   object        \n",
      " 1   Дата                  4904 non-null   datetime64[ns]\n",
      " 2   Продавец              4904 non-null   object        \n",
      " 3   Номер чека            4904 non-null   int64         \n",
      " 4   ID продажи            4904 non-null   object        \n",
      " 5   Тов                   4904 non-null   object        \n",
      " 6   Артикул поставщика    4904 non-null   object        \n",
      " 7   Количество            4904 non-null   int64         \n",
      " 8   Номенклатура          4904 non-null   object        \n",
      " 9   Номер карты           4683 non-null   object        \n",
      " 10  Товарная группа       4904 non-null   object        \n",
      " 11  Товарное направление  4904 non-null   object        \n",
      " 12  Тип 1                 4904 non-null   object        \n",
      " 13  Списание СберСпасибо  4904 non-null   float64       \n",
      " 14  Группа наценки        4904 non-null   object        \n",
      " 15  Вес                   4904 non-null   float64       \n",
      " 16  Проба                 4904 non-null   float64       \n",
      " 17  Размер                4904 non-null   float64       \n",
      " 18  ШК                    4904 non-null   float64       \n",
      " 19  Цена без скидки       4904 non-null   float64       \n",
      " 20  Базовая скидка        4904 non-null   float64       \n",
      " 21  Скидка в руб.         4904 non-null   float64       \n",
      " 22  Название              4904 non-null   object        \n",
      " 23  Цена после скидки     4904 non-null   float64       \n",
      " 24  Phone                 4691 non-null   object        \n",
      " 25  Себестоимость         4904 non-null   float64       \n",
      " 26  Сумма                 4904 non-null   float64       \n",
      " 27  Услуга                4904 non-null   float64       \n",
      " 28  Общая сумма           4904 non-null   float64       \n",
      "dtypes: datetime64[ns](1), float64(13), int64(2), object(13)\n",
      "memory usage: 1.1+ MB\n"
     ]
    }
   ],
   "source": [
    "df_dwh.info()"
   ]
  },
  {
   "cell_type": "code",
   "execution_count": 29,
   "id": "98344b50",
   "metadata": {},
   "outputs": [],
   "source": [
    "tn = df_dwh.groupby(by = 'Товарная группа', as_index= False)[['Себестоимость', 'Вес', 'Общая сумма']].agg('sum')"
   ]
  },
  {
   "cell_type": "code",
   "execution_count": 30,
   "id": "5d5d98ad",
   "metadata": {},
   "outputs": [],
   "source": [
    "tn['Наценка продажи оффлайн'] =  tn['Общая сумма'] / tn['Себестоимость'] - 1"
   ]
  },
  {
   "cell_type": "code",
   "execution_count": 31,
   "id": "0d2a679f",
   "metadata": {},
   "outputs": [],
   "source": [
    "tn = tn[~tn['Товарная группа'].str.contains('ОПТ БК|БК ПЕЧАТКИ|ОПТ КОНГО|ОПТ ОБРУЧИ')]"
   ]
  },
  {
   "cell_type": "code",
   "execution_count": 32,
   "id": "547bb0d2",
   "metadata": {},
   "outputs": [],
   "source": [
    "tn['price_per_gramm'] = ((tn['Общая сумма'] / tn['Вес']).round(0))"
   ]
  },
  {
   "cell_type": "code",
   "execution_count": 33,
   "id": "afc1ac9a-9c72-48fa-8b0d-8240d57ecc23",
   "metadata": {
    "tags": []
   },
   "outputs": [],
   "source": [
    "tn['price_per_gramm'] = tn['price_per_gramm'].replace(',', '')\n",
    "tn['price_per_gramm'] = tn['price_per_gramm'].astype('int')"
   ]
  },
  {
   "cell_type": "code",
   "execution_count": 34,
   "id": "2856b1a9",
   "metadata": {},
   "outputs": [
    {
     "data": {
      "text/html": [
       "<div>\n",
       "<style scoped>\n",
       "    .dataframe tbody tr th:only-of-type {\n",
       "        vertical-align: middle;\n",
       "    }\n",
       "\n",
       "    .dataframe tbody tr th {\n",
       "        vertical-align: top;\n",
       "    }\n",
       "\n",
       "    .dataframe thead th {\n",
       "        text-align: right;\n",
       "    }\n",
       "</style>\n",
       "<table border=\"1\" class=\"dataframe\">\n",
       "  <thead>\n",
       "    <tr style=\"text-align: right;\">\n",
       "      <th></th>\n",
       "      <th>Товарная группа</th>\n",
       "      <th>Себестоимость</th>\n",
       "      <th>Вес</th>\n",
       "      <th>Общая сумма</th>\n",
       "      <th>Наценка продажи оффлайн</th>\n",
       "      <th>price_per_gramm</th>\n",
       "    </tr>\n",
       "  </thead>\n",
       "  <tbody>\n",
       "    <tr>\n",
       "      <th>0</th>\n",
       "      <td>БК КОЛЬЦА</td>\n",
       "      <td>757,441.640</td>\n",
       "      <td>288.868</td>\n",
       "      <td>1,901,056.280</td>\n",
       "      <td>1.510</td>\n",
       "      <td>6581</td>\n",
       "    </tr>\n",
       "    <tr>\n",
       "      <th>1</th>\n",
       "      <td>БК КОЛЬЦА ОБРУЧ</td>\n",
       "      <td>8,038,793.150</td>\n",
       "      <td>2,715.022</td>\n",
       "      <td>17,159,113.500</td>\n",
       "      <td>1.135</td>\n",
       "      <td>6320</td>\n",
       "    </tr>\n",
       "    <tr>\n",
       "      <th>3</th>\n",
       "      <td>БК ПОДВЕС ДЕКОР</td>\n",
       "      <td>550,590.220</td>\n",
       "      <td>184.116</td>\n",
       "      <td>1,325,205.000</td>\n",
       "      <td>1.407</td>\n",
       "      <td>7198</td>\n",
       "    </tr>\n",
       "    <tr>\n",
       "      <th>4</th>\n",
       "      <td>БК ПОДВЕС КУЛЬТ</td>\n",
       "      <td>2,546,927.580</td>\n",
       "      <td>824.351</td>\n",
       "      <td>5,963,869.300</td>\n",
       "      <td>1.342</td>\n",
       "      <td>7235</td>\n",
       "    </tr>\n",
       "    <tr>\n",
       "      <th>5</th>\n",
       "      <td>БК СЕРЬГИ</td>\n",
       "      <td>2,293,118.420</td>\n",
       "      <td>744.548</td>\n",
       "      <td>5,462,206.000</td>\n",
       "      <td>1.382</td>\n",
       "      <td>7336</td>\n",
       "    </tr>\n",
       "    <tr>\n",
       "      <th>9</th>\n",
       "      <td>ЦБ БРАСЛЕТЫ</td>\n",
       "      <td>8,138,955.170</td>\n",
       "      <td>2,442.915</td>\n",
       "      <td>16,993,070.480</td>\n",
       "      <td>1.088</td>\n",
       "      <td>6956</td>\n",
       "    </tr>\n",
       "    <tr>\n",
       "      <th>10</th>\n",
       "      <td>ЦБ ЦЕПИ</td>\n",
       "      <td>17,427,830.270</td>\n",
       "      <td>5,432.433</td>\n",
       "      <td>38,213,552.180</td>\n",
       "      <td>1.193</td>\n",
       "      <td>7034</td>\n",
       "    </tr>\n",
       "  </tbody>\n",
       "</table>\n",
       "</div>"
      ],
      "text/plain": [
       "    Товарная группа  Себестоимость       Вес    Общая сумма  \\\n",
       "0         БК КОЛЬЦА    757,441.640   288.868  1,901,056.280   \n",
       "1   БК КОЛЬЦА ОБРУЧ  8,038,793.150 2,715.022 17,159,113.500   \n",
       "3   БК ПОДВЕС ДЕКОР    550,590.220   184.116  1,325,205.000   \n",
       "4   БК ПОДВЕС КУЛЬТ  2,546,927.580   824.351  5,963,869.300   \n",
       "5         БК СЕРЬГИ  2,293,118.420   744.548  5,462,206.000   \n",
       "9       ЦБ БРАСЛЕТЫ  8,138,955.170 2,442.915 16,993,070.480   \n",
       "10          ЦБ ЦЕПИ 17,427,830.270 5,432.433 38,213,552.180   \n",
       "\n",
       "    Наценка продажи оффлайн  price_per_gramm  \n",
       "0                     1.510             6581  \n",
       "1                     1.135             6320  \n",
       "3                     1.407             7198  \n",
       "4                     1.342             7235  \n",
       "5                     1.382             7336  \n",
       "9                     1.088             6956  \n",
       "10                    1.193             7034  "
      ]
     },
     "execution_count": 34,
     "metadata": {},
     "output_type": "execute_result"
    }
   ],
   "source": [
    "tn"
   ]
  },
  {
   "cell_type": "code",
   "execution_count": 35,
   "id": "0b8fae47",
   "metadata": {},
   "outputs": [
    {
     "name": "stdout",
     "output_type": "stream",
     "text": [
      "Средняя цена продажи оффлайн:  6889.0\n"
     ]
    }
   ],
   "source": [
    "print('Средняя цена продажи оффлайн: ', (tn['Общая сумма'].sum() / tn['Вес'].sum()).round(0))"
   ]
  },
  {
   "cell_type": "code",
   "execution_count": 36,
   "id": "7c9f73db",
   "metadata": {},
   "outputs": [],
   "source": [
    "tn.columns = ['tg', 'cost', 'weight', 'price', 'Наценка продажи оффлайн', 'price_per_gramm']"
   ]
  },
  {
   "cell_type": "code",
   "execution_count": 37,
   "id": "c6a2ea9e",
   "metadata": {},
   "outputs": [],
   "source": [
    "tn.to_excel(rf'\\\\gold585.int\\uk\\Общее хранилище файлов\\Служба аналитики\\Тренкин Сергей\\sales_offline\\offline_sales_{date_now}.xlsx', index = False)"
   ]
  },
  {
   "cell_type": "code",
   "execution_count": 38,
   "id": "451a4285",
   "metadata": {},
   "outputs": [],
   "source": [
    "tn = tn.drop(columns=['cost', 'weight', 'price', 'Наценка продажи оффлайн'])\n",
    "tn.columns = ['tg', '585*Золотой оффлайн продажи']"
   ]
  },
  {
   "cell_type": "code",
   "execution_count": 40,
   "id": "a9fbf8a6",
   "metadata": {},
   "outputs": [],
   "source": [
    "pd.read_excel(rf'\\\\gold585.int\\uk\\Общее хранилище файлов\\Служба аналитики\\Тренкин Сергей\\sklv_sl_data\\grouped_data\\result_{date_now}.xlsx').merge(tn, how = 'left', on = 'tg').to_excel(rf'\\\\gold585.int\\uk\\Общее хранилище файлов\\Служба аналитики\\Тренкин Сергей\\sklv_sl_data\\grouped_data\\result_{date_now}.xlsx', index=False)"
   ]
  },
  {
   "cell_type": "code",
   "execution_count": null,
   "id": "a85e8042",
   "metadata": {},
   "outputs": [],
   "source": []
  }
 ],
 "metadata": {
  "kernelspec": {
   "display_name": "Python 3 (ipykernel)",
   "language": "python",
   "name": "python3"
  },
  "language_info": {
   "codemirror_mode": {
    "name": "ipython",
    "version": 3
   },
   "file_extension": ".py",
   "mimetype": "text/x-python",
   "name": "python",
   "nbconvert_exporter": "python",
   "pygments_lexer": "ipython3",
   "version": "3.12.0"
  }
 },
 "nbformat": 4,
 "nbformat_minor": 5
}
