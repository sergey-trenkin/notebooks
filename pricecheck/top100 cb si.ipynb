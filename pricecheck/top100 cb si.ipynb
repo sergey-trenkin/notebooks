{
 "cells": [
  {
   "cell_type": "code",
   "execution_count": 1,
   "metadata": {},
   "outputs": [],
   "source": [
    "from tqdm import tqdm\n",
    "import datetime as dt\n",
    "import pymssql\n",
    "import pandas as pd\n",
    "import numpy as np\n",
    "import warnings\n",
    "import glob \n",
    "import os\n",
    "\n",
    "warnings.filterwarnings('ignore')"
   ]
  },
  {
   "cell_type": "code",
   "execution_count": 2,
   "metadata": {},
   "outputs": [],
   "source": [
    "conn = pymssql.connect(server='AX-SQL', database='Staging')\n",
    "cursor = conn.cursor()\n",
    "\n",
    "sql = f'''\n",
    "SELECT [ID Сайта], [Артикул поставщика], [Товарная группа], [Товарное направление], [Название товара], [Код склада], [Остаток], [Код товара]\n",
    "from [Staging].[Reports].[Remainings_8h]\n",
    "where [Товарное направление] in (N'ЦБ', N'СИ')\n",
    "'''\n",
    "\n",
    "sql_query = pd.read_sql_query(sql, conn)\n",
    "stock = pd.DataFrame(sql_query)"
   ]
  },
  {
   "cell_type": "code",
   "execution_count": 3,
   "metadata": {},
   "outputs": [],
   "source": [
    "path = r'\\\\gold585.int\\uk\\Общее хранилище файлов\\Служба аналитики\\Архив_отчеты\\Продажи\\По дням\\\\'\n",
    "list_of_files = glob.glob(path + '*.xlsx') \n",
    "latest_file = max(list_of_files, key=os.path.getctime)\n",
    "\n",
    "sklad = pd.read_excel(latest_file, sheet_name = 'Продажи по ассортименту', header = 2)\n",
    "\n",
    "stock['Код склада'] = stock['Код склада'].astype('float64') \n",
    "\n",
    "sklad = sklad[['Unnamed: 0','Торговая марка', 'Юр лицо', 'Код склада', 'Дата открытия объекта', 'Код объекта', 'Город', 'Наименование объекта']]\n",
    "sklad1 = sklad[['Код склада', 'Код объекта']].drop_duplicates().reset_index(drop=True)\n",
    "sklad1 = sklad1[sklad1['Код объекта'].notna()]\n",
    "\n",
    "sklad1['Код объекта'] = sklad1['Код объекта'].astype(str)\n",
    "sklad1['8'] = sklad1['Код объекта'].apply(lambda x: x[0])\n",
    "sklad1 = sklad1[sklad1['8'] != '8']\n",
    "\n",
    "stock = stock.merge(sklad1, left_on='Код склада', right_on = 'Код склада', how='inner')\n",
    "\n",
    "stock = stock.drop(columns=['8'])"
   ]
  },
  {
   "cell_type": "code",
   "execution_count": 4,
   "metadata": {},
   "outputs": [],
   "source": [
    "stock = stock[stock['ID Сайта'] != '']"
   ]
  },
  {
   "cell_type": "code",
   "execution_count": 7,
   "metadata": {},
   "outputs": [],
   "source": [
    "ost = stock.groupby(by = 'ID Сайта', as_index = False)['Остаток'].sum()"
   ]
  },
  {
   "cell_type": "code",
   "execution_count": 11,
   "metadata": {},
   "outputs": [],
   "source": [
    "count = stock.groupby(by=['ID Сайта'], as_index=False)['Код объекта'].nunique()"
   ]
  },
  {
   "cell_type": "code",
   "execution_count": 14,
   "metadata": {},
   "outputs": [],
   "source": [
    "ost = ost.merge(count, how='left', on='ID Сайта')"
   ]
  },
  {
   "cell_type": "code",
   "execution_count": 16,
   "metadata": {},
   "outputs": [],
   "source": [
    "ost.rename(columns={'Код объекта': 'На каком кол-ве действующих объектов есть остаток'}, inplace=True)"
   ]
  },
  {
   "cell_type": "code",
   "execution_count": 17,
   "metadata": {},
   "outputs": [],
   "source": [
    "stock.drop(columns=['Остаток', 'Код объекта', 'Код склада'], inplace=True)"
   ]
  },
  {
   "cell_type": "code",
   "execution_count": 18,
   "metadata": {},
   "outputs": [
    {
     "name": "stderr",
     "output_type": "stream",
     "text": [
      "  0%|          | 0/16 [00:00<?, ?it/s]"
     ]
    },
    {
     "name": "stderr",
     "output_type": "stream",
     "text": [
      "100%|██████████| 16/16 [02:57<00:00, 11.07s/it]\n"
     ]
    }
   ],
   "source": [
    "os.chdir(r'C:\\\\Users\\Trenkin.Sergey\\Desktop\\ecomsales')\n",
    "extension = 'xlsx'\n",
    "all_sales = [i for i in glob.glob('*.{}'.format(extension))]\n",
    "\n",
    "sale = pd.DataFrame()\n",
    "for name in tqdm(all_sales):\n",
    "    sales = pd.read_excel(name)\n",
    "    sale = pd.concat([sales, sale], ignore_index= True)"
   ]
  },
  {
   "cell_type": "code",
   "execution_count": 19,
   "metadata": {},
   "outputs": [],
   "source": [
    "sale = sale.reset_index(drop=True)\n",
    "sale.drop_duplicates(inplace=True)\n",
    "\n",
    "sale = sale[(sale['state_order'] != 'returned') & (sale['state_order'] != 'canceled')]\n",
    "sale = sale[~((sale['delivery_type'] == 'PICKUP_NOW') & (sale['payment_type'] == 'CASHIER') & (sale['type_ibox'] == 'CASHIER'))|\n",
    "                ((sale['delivery_type'] == 'PICKUP') & (sale['payment_type'] == 'CASHIER') & (sale['type_ibox'] == 'CASHIER'))]"
   ]
  },
  {
   "cell_type": "code",
   "execution_count": 20,
   "metadata": {},
   "outputs": [],
   "source": [
    "sale = sale[~sale['client_type'].str.contains('OZON')]"
   ]
  },
  {
   "cell_type": "code",
   "execution_count": 21,
   "metadata": {},
   "outputs": [],
   "source": [
    "sale['result'] = sale['price_wo_manzana']\n",
    "sale['result'].fillna(sale['price'], inplace=True)"
   ]
  },
  {
   "cell_type": "code",
   "execution_count": 22,
   "metadata": {},
   "outputs": [],
   "source": [
    "def str_float(row):\n",
    "    row = str(row)\n",
    "    row = row.replace(',','.')\n",
    "    return row\n",
    "\n",
    "sale['price'] = sale['price'].apply(str_float)\n",
    "sale['price'] = sale['price'].astype(float)\n",
    "sale = sale[sale['price'] > 1].reset_index(drop=True)"
   ]
  },
  {
   "cell_type": "code",
   "execution_count": 23,
   "metadata": {},
   "outputs": [],
   "source": [
    "sebes = sale.groupby(by = 'tov', as_index=False)['cost_price'].sum()"
   ]
  },
  {
   "cell_type": "code",
   "execution_count": 24,
   "metadata": {},
   "outputs": [],
   "source": [
    "online = sale.groupby(by = 'tov', as_index=False)['result'].agg({'sum', 'count'})"
   ]
  },
  {
   "cell_type": "code",
   "execution_count": 25,
   "metadata": {},
   "outputs": [],
   "source": [
    "online = online.merge(sebes, how='left', on='tov')"
   ]
  },
  {
   "cell_type": "code",
   "execution_count": 26,
   "metadata": {},
   "outputs": [],
   "source": [
    "online.rename(columns={'tov': 'Код товара', 'sum': 'Сумма продаж', 'count': 'Количество продаж', 'cost_price': 'Себестоимость'}, inplace=True)"
   ]
  },
  {
   "cell_type": "code",
   "execution_count": 27,
   "metadata": {},
   "outputs": [
    {
     "data": {
      "text/html": [
       "<div>\n",
       "<style scoped>\n",
       "    .dataframe tbody tr th:only-of-type {\n",
       "        vertical-align: middle;\n",
       "    }\n",
       "\n",
       "    .dataframe tbody tr th {\n",
       "        vertical-align: top;\n",
       "    }\n",
       "\n",
       "    .dataframe thead th {\n",
       "        text-align: right;\n",
       "    }\n",
       "</style>\n",
       "<table border=\"1\" class=\"dataframe\">\n",
       "  <thead>\n",
       "    <tr style=\"text-align: right;\">\n",
       "      <th></th>\n",
       "      <th>Код товара</th>\n",
       "      <th>Количество продаж</th>\n",
       "      <th>Сумма продаж</th>\n",
       "      <th>Себестоимость</th>\n",
       "    </tr>\n",
       "  </thead>\n",
       "  <tbody>\n",
       "    <tr>\n",
       "      <th>0</th>\n",
       "      <td>ТОВ0115302</td>\n",
       "      <td>1</td>\n",
       "      <td>33764.000000</td>\n",
       "      <td>15031.88</td>\n",
       "    </tr>\n",
       "    <tr>\n",
       "      <th>1</th>\n",
       "      <td>ТОВ0115418</td>\n",
       "      <td>1</td>\n",
       "      <td>4292.100000</td>\n",
       "      <td>1315.80</td>\n",
       "    </tr>\n",
       "    <tr>\n",
       "      <th>2</th>\n",
       "      <td>ТОВ0120217</td>\n",
       "      <td>1</td>\n",
       "      <td>8424.000000</td>\n",
       "      <td>3680.03</td>\n",
       "    </tr>\n",
       "    <tr>\n",
       "      <th>3</th>\n",
       "      <td>ТОВ0120218</td>\n",
       "      <td>1</td>\n",
       "      <td>8977.500000</td>\n",
       "      <td>4004.34</td>\n",
       "    </tr>\n",
       "    <tr>\n",
       "      <th>4</th>\n",
       "      <td>ТОВ0120219</td>\n",
       "      <td>1</td>\n",
       "      <td>16906.200000</td>\n",
       "      <td>4278.07</td>\n",
       "    </tr>\n",
       "    <tr>\n",
       "      <th>...</th>\n",
       "      <td>...</td>\n",
       "      <td>...</td>\n",
       "      <td>...</td>\n",
       "      <td>...</td>\n",
       "    </tr>\n",
       "    <tr>\n",
       "      <th>82689</th>\n",
       "      <td>ТОВ1329932</td>\n",
       "      <td>1</td>\n",
       "      <td>2450.000000</td>\n",
       "      <td>954.99</td>\n",
       "    </tr>\n",
       "    <tr>\n",
       "      <th>82690</th>\n",
       "      <td>ТОВ1329934</td>\n",
       "      <td>1</td>\n",
       "      <td>5480.000000</td>\n",
       "      <td>2355.00</td>\n",
       "    </tr>\n",
       "    <tr>\n",
       "      <th>82691</th>\n",
       "      <td>ТОВ1329935</td>\n",
       "      <td>1</td>\n",
       "      <td>5480.000000</td>\n",
       "      <td>2355.00</td>\n",
       "    </tr>\n",
       "    <tr>\n",
       "      <th>82692</th>\n",
       "      <td>ТОВ1330947</td>\n",
       "      <td>1</td>\n",
       "      <td>2666.689557</td>\n",
       "      <td>1820.48</td>\n",
       "    </tr>\n",
       "    <tr>\n",
       "      <th>82693</th>\n",
       "      <td>ТОВ1334815</td>\n",
       "      <td>1</td>\n",
       "      <td>10128.315868</td>\n",
       "      <td>4843.72</td>\n",
       "    </tr>\n",
       "  </tbody>\n",
       "</table>\n",
       "<p>82694 rows × 4 columns</p>\n",
       "</div>"
      ],
      "text/plain": [
       "       Код товара  Количество продаж  Сумма продаж  Себестоимость\n",
       "0      ТОВ0115302                  1  33764.000000       15031.88\n",
       "1      ТОВ0115418                  1   4292.100000        1315.80\n",
       "2      ТОВ0120217                  1   8424.000000        3680.03\n",
       "3      ТОВ0120218                  1   8977.500000        4004.34\n",
       "4      ТОВ0120219                  1  16906.200000        4278.07\n",
       "...           ...                ...           ...            ...\n",
       "82689  ТОВ1329932                  1   2450.000000         954.99\n",
       "82690  ТОВ1329934                  1   5480.000000        2355.00\n",
       "82691  ТОВ1329935                  1   5480.000000        2355.00\n",
       "82692  ТОВ1330947                  1   2666.689557        1820.48\n",
       "82693  ТОВ1334815                  1  10128.315868        4843.72\n",
       "\n",
       "[82694 rows x 4 columns]"
      ]
     },
     "execution_count": 27,
     "metadata": {},
     "output_type": "execute_result"
    }
   ],
   "source": [
    "online"
   ]
  },
  {
   "cell_type": "code",
   "execution_count": 28,
   "metadata": {},
   "outputs": [],
   "source": [
    "sale = pd.read_excel(r'C:\\Users\\Trenkin.Sergey\\Desktop\\Продажи по ТОВ СИ, ЦБ янв.23-июн.24.xlsx')"
   ]
  },
  {
   "cell_type": "code",
   "execution_count": 29,
   "metadata": {},
   "outputs": [],
   "source": [
    "sale.rename(columns={'Номер': 'Код товара'}, inplace=True)"
   ]
  },
  {
   "cell_type": "code",
   "execution_count": 30,
   "metadata": {},
   "outputs": [],
   "source": [
    "sale = sale.merge(online, how='left', on='Код товара')"
   ]
  },
  {
   "cell_type": "code",
   "execution_count": 31,
   "metadata": {},
   "outputs": [
    {
     "data": {
      "text/html": [
       "<div>\n",
       "<style scoped>\n",
       "    .dataframe tbody tr th:only-of-type {\n",
       "        vertical-align: middle;\n",
       "    }\n",
       "\n",
       "    .dataframe tbody tr th {\n",
       "        vertical-align: top;\n",
       "    }\n",
       "\n",
       "    .dataframe thead th {\n",
       "        text-align: right;\n",
       "    }\n",
       "</style>\n",
       "<table border=\"1\" class=\"dataframe\">\n",
       "  <thead>\n",
       "    <tr style=\"text-align: right;\">\n",
       "      <th></th>\n",
       "      <th>Код товара</th>\n",
       "      <th>Количество-продажи</th>\n",
       "      <th>Сумма продаж с баллами</th>\n",
       "      <th>Себестоимость продаж</th>\n",
       "      <th>Количество продаж</th>\n",
       "      <th>Сумма продаж</th>\n",
       "      <th>Себестоимость</th>\n",
       "    </tr>\n",
       "  </thead>\n",
       "  <tbody>\n",
       "    <tr>\n",
       "      <th>0</th>\n",
       "      <td>ТОВ0115302</td>\n",
       "      <td>5</td>\n",
       "      <td>198154.16</td>\n",
       "      <td>65596.85</td>\n",
       "      <td>1.0</td>\n",
       "      <td>33764.0</td>\n",
       "      <td>15031.88</td>\n",
       "    </tr>\n",
       "    <tr>\n",
       "      <th>1</th>\n",
       "      <td>ТОВ0115418</td>\n",
       "      <td>1</td>\n",
       "      <td>4292.10</td>\n",
       "      <td>1315.80</td>\n",
       "      <td>1.0</td>\n",
       "      <td>4292.1</td>\n",
       "      <td>1315.80</td>\n",
       "    </tr>\n",
       "    <tr>\n",
       "      <th>2</th>\n",
       "      <td>ТОВ0115554</td>\n",
       "      <td>1</td>\n",
       "      <td>66654.28</td>\n",
       "      <td>15108.45</td>\n",
       "      <td>NaN</td>\n",
       "      <td>NaN</td>\n",
       "      <td>NaN</td>\n",
       "    </tr>\n",
       "    <tr>\n",
       "      <th>3</th>\n",
       "      <td>ТОВ0119984</td>\n",
       "      <td>1</td>\n",
       "      <td>11000.00</td>\n",
       "      <td>2060.18</td>\n",
       "      <td>NaN</td>\n",
       "      <td>NaN</td>\n",
       "      <td>NaN</td>\n",
       "    </tr>\n",
       "    <tr>\n",
       "      <th>4</th>\n",
       "      <td>ТОВ0120217</td>\n",
       "      <td>1</td>\n",
       "      <td>8424.00</td>\n",
       "      <td>3680.03</td>\n",
       "      <td>1.0</td>\n",
       "      <td>8424.0</td>\n",
       "      <td>3680.03</td>\n",
       "    </tr>\n",
       "    <tr>\n",
       "      <th>...</th>\n",
       "      <td>...</td>\n",
       "      <td>...</td>\n",
       "      <td>...</td>\n",
       "      <td>...</td>\n",
       "      <td>...</td>\n",
       "      <td>...</td>\n",
       "      <td>...</td>\n",
       "    </tr>\n",
       "    <tr>\n",
       "      <th>104956</th>\n",
       "      <td>ТОВ1335466</td>\n",
       "      <td>2</td>\n",
       "      <td>10449.30</td>\n",
       "      <td>7512.00</td>\n",
       "      <td>NaN</td>\n",
       "      <td>NaN</td>\n",
       "      <td>NaN</td>\n",
       "    </tr>\n",
       "    <tr>\n",
       "      <th>104957</th>\n",
       "      <td>ТОВ1335467</td>\n",
       "      <td>4</td>\n",
       "      <td>23400.00</td>\n",
       "      <td>15412.00</td>\n",
       "      <td>NaN</td>\n",
       "      <td>NaN</td>\n",
       "      <td>NaN</td>\n",
       "    </tr>\n",
       "    <tr>\n",
       "      <th>104958</th>\n",
       "      <td>ТОВ1335468</td>\n",
       "      <td>1</td>\n",
       "      <td>6060.00</td>\n",
       "      <td>3986.00</td>\n",
       "      <td>NaN</td>\n",
       "      <td>NaN</td>\n",
       "      <td>NaN</td>\n",
       "    </tr>\n",
       "    <tr>\n",
       "      <th>104959</th>\n",
       "      <td>ТОВ1335469</td>\n",
       "      <td>2</td>\n",
       "      <td>12920.00</td>\n",
       "      <td>8498.00</td>\n",
       "      <td>NaN</td>\n",
       "      <td>NaN</td>\n",
       "      <td>NaN</td>\n",
       "    </tr>\n",
       "    <tr>\n",
       "      <th>104960</th>\n",
       "      <td>ТОВ1335470</td>\n",
       "      <td>1</td>\n",
       "      <td>4915.09</td>\n",
       "      <td>4313.00</td>\n",
       "      <td>NaN</td>\n",
       "      <td>NaN</td>\n",
       "      <td>NaN</td>\n",
       "    </tr>\n",
       "  </tbody>\n",
       "</table>\n",
       "<p>104961 rows × 7 columns</p>\n",
       "</div>"
      ],
      "text/plain": [
       "        Код товара  Количество-продажи  Сумма продаж с баллами  \\\n",
       "0       ТОВ0115302                   5               198154.16   \n",
       "1       ТОВ0115418                   1                 4292.10   \n",
       "2       ТОВ0115554                   1                66654.28   \n",
       "3       ТОВ0119984                   1                11000.00   \n",
       "4       ТОВ0120217                   1                 8424.00   \n",
       "...            ...                 ...                     ...   \n",
       "104956  ТОВ1335466                   2                10449.30   \n",
       "104957  ТОВ1335467                   4                23400.00   \n",
       "104958  ТОВ1335468                   1                 6060.00   \n",
       "104959  ТОВ1335469                   2                12920.00   \n",
       "104960  ТОВ1335470                   1                 4915.09   \n",
       "\n",
       "        Себестоимость продаж  Количество продаж  Сумма продаж  Себестоимость  \n",
       "0                   65596.85                1.0       33764.0       15031.88  \n",
       "1                    1315.80                1.0        4292.1        1315.80  \n",
       "2                   15108.45                NaN           NaN            NaN  \n",
       "3                    2060.18                NaN           NaN            NaN  \n",
       "4                    3680.03                1.0        8424.0        3680.03  \n",
       "...                      ...                ...           ...            ...  \n",
       "104956               7512.00                NaN           NaN            NaN  \n",
       "104957              15412.00                NaN           NaN            NaN  \n",
       "104958               3986.00                NaN           NaN            NaN  \n",
       "104959               8498.00                NaN           NaN            NaN  \n",
       "104960               4313.00                NaN           NaN            NaN  \n",
       "\n",
       "[104961 rows x 7 columns]"
      ]
     },
     "execution_count": 31,
     "metadata": {},
     "output_type": "execute_result"
    }
   ],
   "source": [
    "sale"
   ]
  },
  {
   "cell_type": "code",
   "execution_count": 32,
   "metadata": {},
   "outputs": [],
   "source": [
    "sale.fillna(0, inplace=True)"
   ]
  },
  {
   "cell_type": "code",
   "execution_count": 33,
   "metadata": {},
   "outputs": [],
   "source": [
    "sale['Сумма'] = sale['Сумма продаж'] + sale['Сумма продаж с баллами']\n",
    "sale['Себес'] = sale['Себестоимость продаж'] + sale['Себестоимость']\n",
    "sale['Кол-во'] = sale['Количество продаж'] + sale['Количество-продажи']"
   ]
  },
  {
   "cell_type": "code",
   "execution_count": 34,
   "metadata": {},
   "outputs": [],
   "source": [
    "sale.drop(columns= ['Количество-продажи', 'Сумма продаж с баллами', 'Себестоимость продаж', 'Сумма продаж', 'Количество продаж', 'Себестоимость'],\n",
    "        inplace = True)"
   ]
  },
  {
   "cell_type": "code",
   "execution_count": 35,
   "metadata": {},
   "outputs": [],
   "source": [
    "stock = stock.merge(sale, how='left', on='Код товара')"
   ]
  },
  {
   "cell_type": "code",
   "execution_count": 36,
   "metadata": {},
   "outputs": [],
   "source": [
    "stock = stock.merge(ost, how='left', on='ID Сайта')"
   ]
  },
  {
   "cell_type": "code",
   "execution_count": 37,
   "metadata": {},
   "outputs": [],
   "source": [
    "stock.drop_duplicates(subset=['Код товара'], inplace=True)"
   ]
  },
  {
   "cell_type": "code",
   "execution_count": 38,
   "metadata": {},
   "outputs": [],
   "source": [
    "stock.drop(columns=['Код товара'], inplace=True)"
   ]
  },
  {
   "cell_type": "code",
   "execution_count": 39,
   "metadata": {},
   "outputs": [],
   "source": [
    "stock.fillna(0, inplace=True)"
   ]
  },
  {
   "cell_type": "code",
   "execution_count": 40,
   "metadata": {},
   "outputs": [],
   "source": [
    "sales_total = stock.groupby(by=['ID Сайта', 'Артикул поставщика', 'Товарная группа', 'Товарное направление', 'Название товара', 'Остаток', 'На каком кол-ве действующих объектов есть остаток'], \n",
    "                            as_index=False)[['Себес', 'Кол-во',  'Сумма']].sum()"
   ]
  },
  {
   "cell_type": "code",
   "execution_count": 41,
   "metadata": {},
   "outputs": [],
   "source": [
    "sales_total.drop_duplicates(subset=['ID Сайта'], inplace=True)"
   ]
  },
  {
   "cell_type": "code",
   "execution_count": 64,
   "metadata": {},
   "outputs": [],
   "source": [
    "cb = sales_total[sales_total['Товарное направление'] == 'ЦБ']\n",
    "si = sales_total[sales_total['Товарное направление'] == 'СИ']"
   ]
  },
  {
   "cell_type": "code",
   "execution_count": 65,
   "metadata": {},
   "outputs": [],
   "source": [
    "cb.sort_values(by=['Сумма'], ascending=False, inplace=True)\n",
    "si.sort_values(by=['Сумма'], ascending=False, inplace=True)"
   ]
  },
  {
   "cell_type": "code",
   "execution_count": 67,
   "metadata": {},
   "outputs": [],
   "source": [
    "si.reset_index(inplace=True)\n",
    "cb.reset_index(inplace=True)"
   ]
  },
  {
   "cell_type": "code",
   "execution_count": 69,
   "metadata": {},
   "outputs": [],
   "source": [
    "cb = cb[:100]\n",
    "si = si[:100]"
   ]
  },
  {
   "cell_type": "code",
   "execution_count": 71,
   "metadata": {},
   "outputs": [],
   "source": [
    "si.drop(columns=['index'], inplace=True)\n",
    "cb.drop(columns=['index'], inplace=True)"
   ]
  },
  {
   "cell_type": "code",
   "execution_count": 72,
   "metadata": {},
   "outputs": [],
   "source": [
    "si['Приоритет'] = si.index + 1\n",
    "cb['Приоритет'] = si.index + 1"
   ]
  },
  {
   "cell_type": "code",
   "execution_count": 87,
   "metadata": {},
   "outputs": [],
   "source": [
    "result = pd.concat([cb, si], ignore_index=True)"
   ]
  },
  {
   "cell_type": "code",
   "execution_count": 88,
   "metadata": {},
   "outputs": [],
   "source": [
    "result['ID Сайта'] = result['ID Сайта'].astype(str)\n",
    "result['Ссылка на сайт'] = 'https://www.585zolotoy.ru/catalog/products/' + result['ID Сайта'] + '/'"
   ]
  },
  {
   "cell_type": "code",
   "execution_count": 89,
   "metadata": {},
   "outputs": [],
   "source": [
    "result.rename(columns={\n",
    "    'ID Сайта': 'ID сайта',\n",
    "    'Артикул поставщика': 'Артикул товара',\n",
    "    'Товарное направление': 'ТН',\n",
    "    'Остаток': 'Текущий остаток по складам действующих объектов',\n",
    "    'Кол-во': 'Кол-во продаж',\n",
    "    'Сумма': 'Сумма продаж',\n",
    "    'Себес': 'Себестоимость продаж',\n",
    "    'Название товара': 'Описание товара'\n",
    "}, inplace=True)"
   ]
  },
  {
   "cell_type": "code",
   "execution_count": 92,
   "metadata": {},
   "outputs": [
    {
     "data": {
      "text/plain": [
       "Index(['ID сайта', 'Артикул товара', 'Товарная группа', 'ТН',\n",
       "       'Описание товара', 'Текущий остаток по складам действующих объектов',\n",
       "       'На каком кол-ве действующих объектов есть остаток',\n",
       "       'Себестоимость продаж', 'Кол-во продаж', 'Сумма продаж', 'Приоритет',\n",
       "       'Ссылка на сайт', 'Наценка, %', 'Цена 1 шт, руб'],\n",
       "      dtype='object')"
      ]
     },
     "execution_count": 92,
     "metadata": {},
     "output_type": "execute_result"
    }
   ],
   "source": [
    "result.columns"
   ]
  },
  {
   "cell_type": "code",
   "execution_count": 91,
   "metadata": {},
   "outputs": [],
   "source": [
    "result['Наценка, %'] = result['Сумма продаж'] / result['Себестоимость продаж'] - 1 \n",
    "result['Цена 1 шт, руб'] = result['Сумма продаж'] / result['Кол-во продаж']"
   ]
  },
  {
   "cell_type": "code",
   "execution_count": 94,
   "metadata": {},
   "outputs": [],
   "source": [
    "result = result[['Ссылка на сайт', 'Артикул товара', 'Товарная группа', 'ТН', 'Приоритет', \n",
    "                'Описание товара', 'ID сайта', 'Текущий остаток по складам действующих объектов', \n",
    "                'На каком кол-ве действующих объектов есть остаток', 'Кол-во продаж',\n",
    "                'Сумма продаж', 'Себестоимость продаж', 'Наценка, %', 'Цена 1 шт, руб']]"
   ]
  },
  {
   "cell_type": "code",
   "execution_count": 95,
   "metadata": {},
   "outputs": [],
   "source": [
    "result.to_excel(r'C:\\Users\\Trenkin.Sergey\\Desktop\\notebooks\\photo\\image_parser\\dataset\\result.xlsx', index=False)"
   ]
  },
  {
   "cell_type": "code",
   "execution_count": null,
   "metadata": {},
   "outputs": [],
   "source": []
  },
  {
   "cell_type": "code",
   "execution_count": null,
   "metadata": {},
   "outputs": [],
   "source": []
  }
 ],
 "metadata": {
  "kernelspec": {
   "display_name": "Python 3",
   "language": "python",
   "name": "python3"
  },
  "language_info": {
   "codemirror_mode": {
    "name": "ipython",
    "version": 3
   },
   "file_extension": ".py",
   "mimetype": "text/x-python",
   "name": "python",
   "nbconvert_exporter": "python",
   "pygments_lexer": "ipython3",
   "version": "3.12.4"
  }
 },
 "nbformat": 4,
 "nbformat_minor": 2
}
