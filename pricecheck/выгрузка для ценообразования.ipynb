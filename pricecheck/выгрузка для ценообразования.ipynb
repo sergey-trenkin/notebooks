{
 "cells": [
  {
   "cell_type": "code",
   "execution_count": 1,
   "metadata": {},
   "outputs": [],
   "source": [
    "from tqdm import tqdm\n",
    "import datetime as dt\n",
    "import pymssql\n",
    "import pandas as pd\n",
    "import numpy as np\n",
    "import warnings\n",
    "import glob \n",
    "import os\n",
    "\n",
    "warnings.filterwarnings('ignore')"
   ]
  },
  {
   "cell_type": "code",
   "execution_count": 2,
   "metadata": {},
   "outputs": [],
   "source": [
    "conn = pymssql.connect(server='AX-SQL', database='Staging')\n",
    "cursor = conn.cursor()\n",
    "\n",
    "sql = f'''\n",
    "SELECT [Код склада], [Код товара], [Артикул поставщика], [Внутренний артикул], [ID Сайта], [Товарное направление], \n",
    "[Товарная группа], [Товарный кластер], [Проба], [Размер изделия], [Тип изделия 1], [Тип изделия 2],\n",
    "[Тип изделия 3], [Дизайн], [Бренд], [Гендерный признак], [Ценовая корзина], [Группа цен], [Остаток], [Цена Розн., за шт],\n",
    "[Чистый вес], [Общий вес],  [Скидка на изделии], [Запрет скидки], [Цена Закупки за 1 шт. (упр сс с НДС за единицу)], \n",
    "[Дата закупки], [Код поставщика], [Наименование поставщика]\n",
    "from [Staging].[Reports].[Remainings_8h]\n",
    "where [Товарное направление] in (N'ПДК', N'ДК')\n",
    "'''\n",
    "\n",
    "sql_query = pd.read_sql_query(sql, conn)\n",
    "stock = pd.DataFrame(sql_query)"
   ]
  },
  {
   "cell_type": "code",
   "execution_count": 3,
   "metadata": {},
   "outputs": [],
   "source": [
    "path = r'\\\\gold585.int\\uk\\Общее хранилище файлов\\Служба аналитики\\Архив_отчеты\\Продажи\\По дням\\\\'\n",
    "list_of_files = glob.glob(path + '*.xlsx') \n",
    "latest_file = max(list_of_files, key=os.path.getctime)\n",
    "\n",
    "sklad = pd.read_excel(latest_file, sheet_name = 'Продажи по ассортименту', header = 2)\n",
    "\n",
    "stock['Код склада'] = stock['Код склада'].astype('float64') \n",
    "\n",
    "sklad = sklad[['Unnamed: 0','Торговая марка', 'Юр лицо', 'Код склада', 'Дата открытия объекта', 'Код объекта', 'Город', 'Наименование объекта']]\n",
    "sklad1 = sklad[['Код склада', 'Код объекта']].drop_duplicates().reset_index(drop=True)\n",
    "sklad1 = sklad1[sklad1['Код объекта'].notna()]\n",
    "\n",
    "sklad1['Код объекта'] = sklad1['Код объекта'].astype(str)\n",
    "sklad1['8'] = sklad1['Код объекта'].apply(lambda x: x[0])\n",
    "sklad1 = sklad1[sklad1['8'] != '8']\n",
    "\n",
    "stock = stock.merge(sklad1, left_on='Код склада', right_on = 'Код склада', how='inner')\n",
    "\n",
    "stock = stock.drop(columns=['8'])"
   ]
  },
  {
   "cell_type": "code",
   "execution_count": 4,
   "metadata": {},
   "outputs": [],
   "source": [
    "stock['Дата закупки'] = pd.to_datetime(stock['Дата закупки'], dayfirst=True, format='mixed')\n",
    "\n",
    "stock['Старая закупка (до 31.12.2022)'] = np.where(\n",
    "    stock['Дата закупки'] <= pd.to_datetime('2022-12-31', dayfirst=True, format='mixed'), 1, 0\n",
    ")\n",
    "stock['Новая закупка (с 01.01.2023)'] = np.where(\n",
    "    stock['Дата закупки'] >= pd.to_datetime('2023-01-01', dayfirst=True, format='mixed'), 1, 0\n",
    ")\n",
    "\n",
    "data = stock.groupby(by = 'ID Сайта', as_index=False)[['Старая закупка (до 31.12.2022)', 'Новая закупка (с 01.01.2023)']].sum()\n",
    "\n",
    "data['Дата закупки'] = np.where(\n",
    "    (data['Новая закупка (с 01.01.2023)'] > 0) & (data['Старая закупка (до 31.12.2022)'] > 0), 'Старые и новые',\n",
    "    np.where(\n",
    "        (data['Новая закупка (с 01.01.2023)'] > 0) & (data['Старая закупка (до 31.12.2022)'] == 0), 'Новые', \n",
    "        np.where(\n",
    "            (data['Новая закупка (с 01.01.2023)'] == 0) & (data['Старая закупка (до 31.12.2022)'] > 0), 'Старые', 'Старые'\n",
    "        )\n",
    "    )\n",
    ")"
   ]
  },
  {
   "cell_type": "code",
   "execution_count": 5,
   "metadata": {},
   "outputs": [],
   "source": [
    "stock.drop(columns=['Старая закупка (до 31.12.2022)', 'Новая закупка (с 01.01.2023)', 'Дата закупки'], inplace=True)\n",
    "data.drop(columns=['Старая закупка (до 31.12.2022)', 'Новая закупка (с 01.01.2023)'], inplace=True)\n",
    "stock = stock.merge(data, how='outer', on='ID Сайта')"
   ]
  },
  {
   "cell_type": "code",
   "execution_count": 7,
   "metadata": {},
   "outputs": [
    {
     "name": "stderr",
     "output_type": "stream",
     "text": [
      "100%|██████████| 9/9 [13:07<00:00, 87.54s/it] \n"
     ]
    }
   ],
   "source": [
    "os.chdir(r'C:\\\\Users\\Trenkin.Sergey\\Desktop\\sales')\n",
    "extension = 'xlsx'\n",
    "all_sales = [i for i in glob.glob('*.{}'.format(extension))]\n",
    "\n",
    "sale = pd.DataFrame()\n",
    "for name in tqdm(all_sales):\n",
    "    sales = pd.read_excel(name)\n",
    "    sale = pd.concat([sales, sale], ignore_index= True)"
   ]
  },
  {
   "cell_type": "code",
   "execution_count": 8,
   "metadata": {},
   "outputs": [],
   "source": [
    "objects_with_sales = stock['Код объекта'].astype(str).unique().tolist()\n",
    "sale.drop_duplicates(inplace= True)"
   ]
  },
  {
   "cell_type": "code",
   "execution_count": 9,
   "metadata": {},
   "outputs": [],
   "source": [
    "data = dt.datetime.isoweekday(dt.date.today())\n",
    "date_now = dt.datetime.now().date().strftime('%Y-%m-%d')\n",
    "last_monitoring = (dt.date.today() - dt.timedelta(days=90)).strftime('%Y-%m-%d')\n",
    "\n",
    "sale = sale.query('КБК in @objects_with_sales')\n",
    "sale = sale[sale['Дата'] >= last_monitoring]"
   ]
  },
  {
   "cell_type": "code",
   "execution_count": 17,
   "metadata": {},
   "outputs": [],
   "source": [
    "path = r'\\\\gold585.int\\uk\\Общее хранилище файлов\\Служба аналитики\\Тренкин Сергей\\Фото с сайта для отчётности\\\\'\n",
    "list_of_files = glob.glob(path + '*.xlsx') \n",
    "latest_file = max(list_of_files, key=os.path.getctime)\n",
    "\n",
    "images = pd.read_excel(latest_file)"
   ]
  },
  {
   "cell_type": "code",
   "execution_count": 19,
   "metadata": {},
   "outputs": [],
   "source": [
    "zapret = pd.read_excel(r'\\\\gold585.int\\uk\\Общее хранилище файлов\\Служба аналитики\\Тренкин Сергей\\Отчётность для контента\\запрещенные арты и фед. склады\\запрет Артикулы к размещению.xlsx')"
   ]
  },
  {
   "cell_type": "code",
   "execution_count": 21,
   "metadata": {},
   "outputs": [],
   "source": [
    "stock.drop_duplicates(inplace = True)"
   ]
  },
  {
   "cell_type": "code",
   "execution_count": 22,
   "metadata": {},
   "outputs": [],
   "source": [
    "compare_tov_id = stock[['Код товара', 'ID Сайта']]\n",
    "compare_tov_id.columns = ['Тов', 'ID Сайта']"
   ]
  },
  {
   "cell_type": "code",
   "execution_count": 23,
   "metadata": {},
   "outputs": [],
   "source": [
    "compare_tov_id.drop_duplicates(subset=['Тов'], inplace=True)"
   ]
  },
  {
   "cell_type": "code",
   "execution_count": 24,
   "metadata": {},
   "outputs": [],
   "source": [
    "sale = sale.merge(compare_tov_id, how='left', on='Тов')\n",
    "sale = sale.drop(columns=['Тов'])\n",
    "sale = sale[['ID Сайта', 'Количество', 'Общая сумма']]\n",
    "sale.dropna(inplace=True)\n",
    "sale = sale.groupby(by = 'ID Сайта', as_index=False)[['Количество', 'Общая сумма']].sum()\n",
    "sale.columns = ['ID Сайта', 'Количество продаж за последние 90 дней', 'Сумма продаж за последние 90 дней']"
   ]
  },
  {
   "cell_type": "code",
   "execution_count": 25,
   "metadata": {},
   "outputs": [],
   "source": [
    "result = stock.drop_duplicates(subset=['ID Сайта'])\n",
    "result = result.merge(sale, how='outer', on='ID Сайта')"
   ]
  },
  {
   "cell_type": "code",
   "execution_count": 26,
   "metadata": {},
   "outputs": [],
   "source": [
    "del sale, sales"
   ]
  },
  {
   "cell_type": "code",
   "execution_count": 27,
   "metadata": {},
   "outputs": [],
   "source": [
    "ids = stock['ID Сайта'].dropna().tolist()\n",
    "images.rename(columns={'ID Сайта': 'article'}, inplace=True)\n",
    "images['article'] = images['article'].astype(str)\n",
    "images = images.query('article in @ids')\n",
    "\n",
    "# result = stock.merge(images, how='outer', on='ID Сайта')"
   ]
  },
  {
   "cell_type": "code",
   "execution_count": 34,
   "metadata": {},
   "outputs": [],
   "source": [
    "images = images[['article', 'Ссылка на изображение']]\n",
    "images.columns = ['ID Сайта', 'Ссылка на изображение']\n",
    "result = result.merge(images, how='outer', on='ID Сайта')"
   ]
  },
  {
   "cell_type": "code",
   "execution_count": 19,
   "metadata": {},
   "outputs": [],
   "source": [
    "# result = result[result['Тип изделия 1'].str.contains('СЕРЬГИ')]\n",
    "result = result.drop_duplicates(subset=['ID Сайта'])\n",
    "result = result[result['ID Сайта'] != '']"
   ]
  },
  {
   "cell_type": "code",
   "execution_count": 20,
   "metadata": {},
   "outputs": [],
   "source": [
    "result = result.drop(columns=['Остаток'])"
   ]
  },
  {
   "cell_type": "code",
   "execution_count": 21,
   "metadata": {},
   "outputs": [],
   "source": [
    "# df = result\n",
    "df = stock\n",
    "df = df[df['ID Сайта'] != '']"
   ]
  },
  {
   "cell_type": "code",
   "execution_count": 22,
   "metadata": {},
   "outputs": [],
   "source": [
    "sum_weight = df.groupby(by = 'ID Сайта', as_index = False)[['Чистый вес', 'Общий вес']].sum()\n",
    "sum_weight = sum_weight.rename(columns = {'Чистый вес': 'Сумма по чистому весу', 'Общий вес': 'Сумма по общему весу'})"
   ]
  },
  {
   "cell_type": "code",
   "execution_count": 23,
   "metadata": {},
   "outputs": [],
   "source": [
    "result = result.merge(sum_weight, how='inner', on='ID Сайта')"
   ]
  },
  {
   "cell_type": "code",
   "execution_count": 24,
   "metadata": {},
   "outputs": [],
   "source": [
    "percentile_ = df.groupby(by = 'ID Сайта', as_index=False)['Цена Закупки за 1 шт. (упр сс с НДС за единицу)'].quantile(0.8)\n",
    "percentile_ = percentile_.rename(columns={'Цена Закупки за 1 шт. (упр сс с НДС за единицу)': '80-й перцентиль по себестоимости'})"
   ]
  },
  {
   "cell_type": "code",
   "execution_count": 25,
   "metadata": {},
   "outputs": [
    {
     "data": {
      "text/html": [
       "<div>\n",
       "<style scoped>\n",
       "    .dataframe tbody tr th:only-of-type {\n",
       "        vertical-align: middle;\n",
       "    }\n",
       "\n",
       "    .dataframe tbody tr th {\n",
       "        vertical-align: top;\n",
       "    }\n",
       "\n",
       "    .dataframe thead th {\n",
       "        text-align: right;\n",
       "    }\n",
       "</style>\n",
       "<table border=\"1\" class=\"dataframe\">\n",
       "  <thead>\n",
       "    <tr style=\"text-align: right;\">\n",
       "      <th></th>\n",
       "      <th>ID Сайта</th>\n",
       "      <th>80-й перцентиль по себестоимости</th>\n",
       "    </tr>\n",
       "  </thead>\n",
       "  <tbody>\n",
       "    <tr>\n",
       "      <th>0</th>\n",
       "      <td>1135294</td>\n",
       "      <td>7477.224</td>\n",
       "    </tr>\n",
       "  </tbody>\n",
       "</table>\n",
       "</div>"
      ],
      "text/plain": [
       "  ID Сайта  80-й перцентиль по себестоимости\n",
       "0  1135294                          7477.224"
      ]
     },
     "execution_count": 25,
     "metadata": {},
     "output_type": "execute_result"
    }
   ],
   "source": [
    "percentile_"
   ]
  },
  {
   "cell_type": "code",
   "execution_count": 26,
   "metadata": {},
   "outputs": [],
   "source": [
    "result = result.merge(percentile_, how='inner', on='ID Сайта')"
   ]
  },
  {
   "cell_type": "code",
   "execution_count": 27,
   "metadata": {},
   "outputs": [
    {
     "data": {
      "text/html": [
       "<div>\n",
       "<style scoped>\n",
       "    .dataframe tbody tr th:only-of-type {\n",
       "        vertical-align: middle;\n",
       "    }\n",
       "\n",
       "    .dataframe tbody tr th {\n",
       "        vertical-align: top;\n",
       "    }\n",
       "\n",
       "    .dataframe thead th {\n",
       "        text-align: right;\n",
       "    }\n",
       "</style>\n",
       "<table border=\"1\" class=\"dataframe\">\n",
       "  <thead>\n",
       "    <tr style=\"text-align: right;\">\n",
       "      <th></th>\n",
       "      <th>ШК</th>\n",
       "      <th>Код склада</th>\n",
       "      <th>Код товара</th>\n",
       "      <th>Артикул поставщика</th>\n",
       "      <th>Внутренний артикул</th>\n",
       "      <th>ID Сайта</th>\n",
       "      <th>Товарное направление</th>\n",
       "      <th>Товарная группа</th>\n",
       "      <th>Товарный кластер</th>\n",
       "      <th>Проба</th>\n",
       "      <th>...</th>\n",
       "      <th>Наименование поставщика</th>\n",
       "      <th>Код объекта</th>\n",
       "      <th>Дата закупки</th>\n",
       "      <th>Количество продаж за последние 90 дней</th>\n",
       "      <th>Сумма продаж за последние 90 дней</th>\n",
       "      <th>Опубликован</th>\n",
       "      <th>Ссылка на изображение</th>\n",
       "      <th>Сумма по чистому весу</th>\n",
       "      <th>Сумма по общему весу</th>\n",
       "      <th>80-й перцентиль по себестоимости</th>\n",
       "    </tr>\n",
       "  </thead>\n",
       "  <tbody>\n",
       "    <tr>\n",
       "      <th>0</th>\n",
       "      <td>2078606641944</td>\n",
       "      <td>5754.0</td>\n",
       "      <td>ТОВ1295051</td>\n",
       "      <td>47-20-0800-11209#ТД</td>\n",
       "      <td>47-20-0800-11209#ТД_ПДК</td>\n",
       "      <td>1135294</td>\n",
       "      <td>ПДК</td>\n",
       "      <td>ОПТ ПДК</td>\n",
       "      <td>50_ОПТ</td>\n",
       "      <td>585</td>\n",
       "      <td>...</td>\n",
       "      <td></td>\n",
       "      <td>6-01-125</td>\n",
       "      <td>Новые</td>\n",
       "      <td>2</td>\n",
       "      <td>22440.0</td>\n",
       "      <td>NaN</td>\n",
       "      <td>NaN</td>\n",
       "      <td>86.958</td>\n",
       "      <td>98.5</td>\n",
       "      <td>7477.224</td>\n",
       "    </tr>\n",
       "  </tbody>\n",
       "</table>\n",
       "<p>1 rows × 37 columns</p>\n",
       "</div>"
      ],
      "text/plain": [
       "              ШК  Код склада  Код товара   Артикул поставщика  \\\n",
       "0  2078606641944      5754.0  ТОВ1295051  47-20-0800-11209#ТД   \n",
       "\n",
       "        Внутренний артикул ID Сайта Товарное направление Товарная группа  \\\n",
       "0  47-20-0800-11209#ТД_ПДК  1135294                  ПДК         ОПТ ПДК   \n",
       "\n",
       "  Товарный кластер Проба  ...  Наименование поставщика Код объекта  \\\n",
       "0           50_ОПТ   585  ...                             6-01-125   \n",
       "\n",
       "  Дата закупки Количество продаж за последние 90 дней  \\\n",
       "0        Новые                                      2   \n",
       "\n",
       "  Сумма продаж за последние 90 дней Опубликован Ссылка на изображение  \\\n",
       "0                           22440.0         NaN                   NaN   \n",
       "\n",
       "  Сумма по чистому весу Сумма по общему весу  80-й перцентиль по себестоимости  \n",
       "0                86.958                 98.5                          7477.224  \n",
       "\n",
       "[1 rows x 37 columns]"
      ]
     },
     "execution_count": 27,
     "metadata": {},
     "output_type": "execute_result"
    }
   ],
   "source": [
    "result"
   ]
  },
  {
   "cell_type": "code",
   "execution_count": 28,
   "metadata": {},
   "outputs": [],
   "source": [
    "stock = stock.groupby(by = 'ID Сайта', as_index=False)['Остаток'].sum()\n",
    "result = result.merge(stock, how='left', on='ID Сайта')"
   ]
  },
  {
   "cell_type": "code",
   "execution_count": 29,
   "metadata": {},
   "outputs": [],
   "source": [
    "df['Чистый вес'] = df['Чистый вес'].astype(float)\n",
    "clear_weight = df.groupby(by = 'ID Сайта', as_index=False)['Чистый вес'].agg({'min', 'median', 'max'})\n",
    "clear_weight.rename(columns={'median': 'Чистый вес медиана', 'max': 'Чистый вес макс', 'min': 'Чистый вес мин'}, inplace=True)\n",
    "clear_weight['Чистый вес размах, %'] = (clear_weight['Чистый вес макс'] / clear_weight['Чистый вес мин'] - 1) \n",
    "result = result.merge(clear_weight, how='left', on='ID Сайта')"
   ]
  },
  {
   "cell_type": "code",
   "execution_count": 30,
   "metadata": {},
   "outputs": [],
   "source": [
    "price_birka = df.groupby(by = 'ID Сайта', as_index=False)['Цена Розн., за шт'].agg({'min', 'median', 'max'})\n",
    "price_birka.rename(columns={'median': 'Цена изделия на бирке медиана', 'max': 'Цена изделия на бирке макс', 'min': 'Цена изделия на бирке мин'}, inplace=True)\n",
    "result = result.merge(price_birka, how='left', on='ID Сайта')\n",
    "result['Цена изделия на бирке размах, %'] = (result['Цена изделия на бирке макс'] / result['Цена изделия на бирке мин'] - 1) "
   ]
  },
  {
   "cell_type": "code",
   "execution_count": 31,
   "metadata": {},
   "outputs": [],
   "source": [
    "base_discount = df.groupby(by = 'ID Сайта', as_index=False)['Скидка на изделии'].agg({'min', 'max'})\n",
    "base_discount.rename(columns={'max': 'Базовая скидка макс', 'min': 'Базовая скидка мин'}, inplace=True)\n",
    "result = result.merge(base_discount, how='left', on='ID Сайта')"
   ]
  },
  {
   "cell_type": "code",
   "execution_count": 32,
   "metadata": {},
   "outputs": [],
   "source": [
    "df['Цена со скидками'] = np.where(\n",
    "    df['Запрет скидки'] == 'Да', df['Цена Розн., за шт'], df['Цена Розн., за шт'] * (1-df['Скидка на изделии'] / 100) * 0.5\n",
    ")"
   ]
  },
  {
   "cell_type": "code",
   "execution_count": 33,
   "metadata": {},
   "outputs": [],
   "source": [
    "price_skidki = df.groupby(by = 'ID Сайта', as_index=False)['Цена со скидками'].agg({'min', 'median', 'max'})\n",
    "price_skidki.rename(columns={'median': 'Цена со скидками медиана', 'max': 'Цена со скидками макс', 'min': 'Цена со скидками мин'}, inplace=True)\n",
    "price_skidki['Цена со скидками размах, %'] = (price_skidki['Цена со скидками макс'] / price_skidki['Цена со скидками мин'] - 1) \n",
    "result = result.merge(price_skidki, how='left', on='ID Сайта')"
   ]
  },
  {
   "cell_type": "code",
   "execution_count": 34,
   "metadata": {},
   "outputs": [],
   "source": [
    "selfprice = df.groupby(by = 'ID Сайта', as_index=False)['Цена Закупки за 1 шт. (упр сс с НДС за единицу)'].agg({'min', 'median', 'max'})\n",
    "selfprice.rename(columns={'median': 'Себестоимость медиана', 'max': 'Себестоимость макс', 'min': 'Себестоимость мин'}, inplace=True)\n",
    "selfprice['Себестоимость размах, %'] = (selfprice['Себестоимость макс'] / selfprice['Себестоимость мин'] - 1) \n",
    "result = result.merge(selfprice, how='left', on='ID Сайта')"
   ]
  },
  {
   "cell_type": "code",
   "execution_count": 35,
   "metadata": {},
   "outputs": [],
   "source": [
    "df['Наценка'] = df['Цена со скидками'] / df['Цена Закупки за 1 шт. (упр сс с НДС за единицу)'] - 1\n",
    "markup = df.groupby(by = 'ID Сайта', as_index=False)['Наценка'].agg({'min', 'median', 'max'})\n",
    "markup.rename(columns={'median': 'Наценка медиана', 'max': 'Наценка макс', 'min': 'Наценка мин'}, inplace=True)\n",
    "result = result.merge(markup, how='left', on='ID Сайта')"
   ]
  },
  {
   "cell_type": "code",
   "execution_count": 36,
   "metadata": {},
   "outputs": [],
   "source": [
    "zapret['Артикул сайта'] = zapret['Артикул сайта'].astype(str)\n",
    "zapret = zapret['Артикул сайта'].tolist()\n",
    "\n",
    "result['Запрет к размещению'] = np.nan\n",
    "for i in result.index:\n",
    "    if result['ID Сайта'][i] in zapret:\n",
    "        result['Запрет к размещению'][i] = True\n",
    "    else:\n",
    "        result['Запрет к размещению'][i] = False"
   ]
  },
  {
   "cell_type": "code",
   "execution_count": 37,
   "metadata": {},
   "outputs": [],
   "source": [
    "ecom = pd.read_excel(r'\\\\gold585.int\\uk\\Общее хранилище файлов\\Служба аналитики\\МЮР\\ecom_stock_raw\\Остатки 2024.07.12.xlsx')"
   ]
  },
  {
   "cell_type": "code",
   "execution_count": 38,
   "metadata": {},
   "outputs": [],
   "source": [
    "path = r'\\\\gold585.int\\uk\\Общее хранилище файлов\\Служба аналитики\\Тренкин Сергей\\discounts_zolotoy\\\\'\n",
    "list_of_files = glob.glob(path + '\\*.xlsx') \n",
    "latest_file = max(list_of_files, key=os.path.getctime)\n",
    "\n",
    "discount_ecom = pd.read_excel(latest_file)"
   ]
  },
  {
   "cell_type": "code",
   "execution_count": 39,
   "metadata": {},
   "outputs": [],
   "source": [
    "discount_ecom.columns = ['article', 'Опубликован', 'discount_value_promotions_1','discount_value_promotions_2', 'discount_value_promotions_3','discount_value_promotions_4']\n",
    "ecom = ecom.merge(discount_ecom, how='left', on='article')"
   ]
  },
  {
   "cell_type": "code",
   "execution_count": 40,
   "metadata": {},
   "outputs": [],
   "source": [
    "def discount_index(discount):\n",
    "    try:\n",
    "        return 1 - discount / 100\n",
    "    except:\n",
    "        return 1\n",
    "    \n",
    "ecom.discount_value_promotions_1 = ecom.discount_value_promotions_1.apply(discount_index)\n",
    "\n",
    "ecom['Цена со скидками Ecom'] = np.where(\n",
    "    (ecom['price'] == ecom['discount_price']) & (ecom['discount_value_promotions_1'] == 1), ecom['discount_price'] * ecom['discount_value_promotions_1'], \n",
    "    np.where(\n",
    "        ecom['discount_value_promotions_1'] == 0.5, ecom['discount_price'] * ecom['discount_value_promotions_1'], ecom['discount_price'] * ecom['discount_value_promotions_1'] * 0.8\n",
    "    )\n",
    ")"
   ]
  },
  {
   "cell_type": "code",
   "execution_count": 41,
   "metadata": {},
   "outputs": [],
   "source": [
    "ecom['article'] = ecom['article'].astype(str)\n",
    "ecom = ecom[['article', 'Цена со скидками Ecom']]"
   ]
  },
  {
   "cell_type": "code",
   "execution_count": 42,
   "metadata": {},
   "outputs": [],
   "source": [
    "ecom = ecom.query('article in @ids')\n",
    "ecom.columns = ['ID Сайта', 'Цена со скидками Ecom']\n",
    "result = result.merge(ecom, how='left', on='ID Сайта')"
   ]
  },
  {
   "cell_type": "code",
   "execution_count": 43,
   "metadata": {},
   "outputs": [],
   "source": [
    "df['Сумма в себестоимости на остатках'] = df['Остаток'] * df['Цена Закупки за 1 шт. (упр сс с НДС за единицу)']"
   ]
  },
  {
   "cell_type": "code",
   "execution_count": 44,
   "metadata": {},
   "outputs": [],
   "source": [
    "summa_ost = df.groupby(by ='ID Сайта', as_index=False)['Сумма в себестоимости на остатках'].sum()\n",
    "result = result.merge(summa_ost, how='left', on='ID Сайта')"
   ]
  },
  {
   "cell_type": "code",
   "execution_count": 45,
   "metadata": {},
   "outputs": [],
   "source": [
    "df['Цена за грамм'] = df['Цена со скидками'] / df['Чистый вес']\n",
    "price_per_gramm = df.groupby(by = 'ID Сайта', as_index=False)['Цена за грамм'].agg({'min', 'median', 'max'})\n",
    "price_per_gramm.rename(columns={'median': 'Цена за грамм медиана', 'max': 'Цена за грамм макс', 'min': 'Цена за грамм мин'}, inplace=True)\n",
    "result = result.merge(price_per_gramm, how='left', on='ID Сайта')\n",
    "result['Цена за грамм размах, %'] = (result['Цена за грамм макс'] / result['Цена за грамм мин'] - 1) "
   ]
  },
  {
   "cell_type": "code",
   "execution_count": 46,
   "metadata": {},
   "outputs": [],
   "source": [
    "zapret_sk = df.groupby(by = 'ID Сайта', as_index=False)['Запрет скидки'].count()"
   ]
  },
  {
   "cell_type": "code",
   "execution_count": 47,
   "metadata": {},
   "outputs": [],
   "source": [
    "yes = df[df['Запрет скидки'] == 'Да']\n",
    "no = df[df['Запрет скидки'] == 'Нет']\n",
    "\n",
    "yes = yes.groupby(by = 'ID Сайта', as_index=False)['Запрет скидки'].count()\n",
    "no = no.groupby(by = 'ID Сайта', as_index=False)['Запрет скидки'].count()\n",
    "\n",
    "yes.columns = ['ID Сайта', 'Количество с запрещенной скидкой']\n",
    "no.columns = ['ID Сайта', 'Количество с разрешенной скидкой']\n",
    "\n",
    "yes = yes.merge(no, how='outer', on='ID Сайта')\n",
    "\n",
    "result = result.merge(yes, how='left', on='ID Сайта')"
   ]
  },
  {
   "cell_type": "code",
   "execution_count": 48,
   "metadata": {},
   "outputs": [],
   "source": [
    "result = result.drop_duplicates(subset=['ID Сайта'])"
   ]
  },
  {
   "cell_type": "code",
   "execution_count": 49,
   "metadata": {},
   "outputs": [],
   "source": [
    "result['Размах по весу'] = np.where(\n",
    "    result['Чистый вес размах, %'] >= 0.3, '3. Большой размах (>30%)',\n",
    "    np.where(\n",
    "        result['Чистый вес размах, %'] >= 0.1, '2. Средний размах (10-30%)', '1. Небольшой размах (<10%)'\n",
    "    )\n",
    ")\n",
    "\n",
    "result['Размах по себестоимости'] = np.where(\n",
    "    result['Себестоимость размах, %'] >= 0.5, '3. Большой размах (>50%)',\n",
    "    np.where(\n",
    "        result['Себестоимость размах, %'] >= 0.2, '2. Средний размах (20-50%)', '1. Небольшой размах (<10%)'\n",
    "    )\n",
    ")\n",
    "\n",
    "result['Размах по цене со скидками'] = np.where(\n",
    "    result['Цена со скидками размах, %'] >= 0.5, '3. Большой размах (>50%)',\n",
    "    np.where(\n",
    "        result['Цена со скидками размах, %'] >= 0.2, '2. Средний размах (20-50%)', '1. Небольшой размах (<10%)'\n",
    "    )\n",
    ")\n",
    "\n",
    "result['Размах по цене за грамм'] = np.where(\n",
    "    result['Цена за грамм размах, %'] >= 0.3, '3. Большой размах (>30%)',\n",
    "    np.where(\n",
    "        result['Цена за грамм размах, %'] >= 0.1, '2. Средний размах (10-30%)', '1. Небольшой размах (<10%)'\n",
    "    )\n",
    ")\n",
    "\n",
    "result['Размах цена изделия на бирке'] = np.where(\n",
    "    result['Цена изделия на бирке размах, %'] >= 0.5, '3. Большой размах (>50%)',\n",
    "    np.where(\n",
    "        result['Цена изделия на бирке размах, %'] >= 0.2, '2. Средний размах (20-50%)', '1. Небольшой размах (<20%)'\n",
    "    )\n",
    ")"
   ]
  },
  {
   "cell_type": "code",
   "execution_count": 50,
   "metadata": {},
   "outputs": [],
   "source": [
    "result['Скидка разрешена'] = result['Количество с запрещенной скидкой'] + result['Количество с разрешенной скидкой']\n",
    "\n",
    "result['Скидка разрешена'] = np.where(\n",
    "    result['Скидка разрешена'].astype(str).str.contains('nan'), 'Да или нет', 'Да и нет'\n",
    ")"
   ]
  },
  {
   "cell_type": "code",
   "execution_count": 51,
   "metadata": {},
   "outputs": [
    {
     "data": {
      "text/plain": [
       "Index(['ШК', 'Код склада', 'Код товара', 'Артикул поставщика',\n",
       "       'Внутренний артикул', 'ID Сайта', 'Товарное направление',\n",
       "       'Товарная группа', 'Товарный кластер', 'Проба', 'Размер изделия',\n",
       "       'Тип изделия 1', 'Тип изделия 2', 'Тип изделия 3', 'Дизайн', 'Бренд',\n",
       "       'Гендерный признак', 'Ценовая корзина', 'Группа цен',\n",
       "       'Цена Розн., за шт', 'Чистый вес', 'Общий вес', 'Цена изделия на бирке',\n",
       "       'Скидка на изделии', 'Запрет скидки',\n",
       "       'Цена Закупки за 1 шт. (упр сс с НДС за единицу)', 'Код поставщика',\n",
       "       'Наименование поставщика', 'Код объекта', 'Дата закупки',\n",
       "       'Количество продаж за последние 90 дней',\n",
       "       'Сумма продаж за последние 90 дней', 'Опубликован',\n",
       "       'Ссылка на изображение', 'Сумма по чистому весу',\n",
       "       'Сумма по общему весу', '80-й перцентиль по себестоимости', 'Остаток',\n",
       "       'Чистый вес медиана', 'Чистый вес мин', 'Чистый вес макс',\n",
       "       'Чистый вес размах, %', 'Цена изделия на бирке медиана',\n",
       "       'Цена изделия на бирке мин', 'Цена изделия на бирке макс',\n",
       "       'Цена изделия на бирке размах, %', 'Базовая скидка мин',\n",
       "       'Базовая скидка макс', 'Цена со скидками медиана',\n",
       "       'Цена со скидками мин', 'Цена со скидками макс',\n",
       "       'Цена со скидками размах, %', 'Себестоимость медиана',\n",
       "       'Себестоимость мин', 'Себестоимость макс', 'Себестоимость размах, %',\n",
       "       'Наценка медиана', 'Наценка мин', 'Наценка макс', 'Запрет к размещению',\n",
       "       'Цена со скидками Ecom', 'Сумма в себестоимости на остатках',\n",
       "       'Цена за грамм медиана', 'Цена за грамм мин', 'Цена за грамм макс',\n",
       "       'Цена за грамм размах, %', 'Количество с запрещенной скидкой',\n",
       "       'Количество с разрешенной скидкой', 'Размах по весу',\n",
       "       'Размах по себестоимости', 'Размах по цене со скидками',\n",
       "       'Размах по цене за грамм', 'Размах цена изделия на бирке',\n",
       "       'Скидка разрешена'],\n",
       "      dtype='object')"
      ]
     },
     "execution_count": 51,
     "metadata": {},
     "output_type": "execute_result"
    }
   ],
   "source": [
    "result.columns"
   ]
  },
  {
   "cell_type": "code",
   "execution_count": 52,
   "metadata": {},
   "outputs": [],
   "source": [
    "result = result.drop(columns = ['Код склада', 'Код объекта', 'Чистый вес', 'Размер изделия', 'Общий вес', 'Скидка на изделии', 'Запрет скидки', 'Цена Закупки за 1 шт. (упр сс с НДС за единицу)',\n",
    "                                'Запрет скидки', 'Цена Розн., за шт', 'Код товара'])"
   ]
  },
  {
   "cell_type": "code",
   "execution_count": 53,
   "metadata": {},
   "outputs": [],
   "source": [
    "tov = result.groupby(by = 'Товарная группа')['Остаток'].sum()\n",
    "tov_sales = result.groupby(by = 'Товарная группа')['Количество продаж за последние 90 дней'].sum()\n",
    "\n",
    "result['Доля % остатка ID отосительно остатка ТГ'] = np.nan\n",
    "for i in result.index: \n",
    "    t = result['Товарная группа'][i]\n",
    "    result['Доля % остатка ID отосительно остатка ТГ'][i] = result['Остаток'][i] / tov[t] \n",
    "    \n",
    "    \n",
    "result['Доля % относительно продаж ТГ за последние 90 дней'] = np.nan\n",
    "for i in result.index: \n",
    "    t = result['Товарная группа'][i]\n",
    "    result['Доля % относительно продаж ТГ за последние 90 дней'][i] = result['Количество продаж за последние 90 дней'][i] / tov_sales[t] "
   ]
  },
  {
   "cell_type": "code",
   "execution_count": 54,
   "metadata": {},
   "outputs": [
    {
     "name": "stdout",
     "output_type": "stream",
     "text": [
      "<class 'pandas.core.frame.DataFrame'>\n",
      "Index: 1 entries, 0 to 0\n",
      "Data columns (total 64 columns):\n",
      " #   Column                                              Non-Null Count  Dtype  \n",
      "---  ------                                              --------------  -----  \n",
      " 0   Артикул поставщика                                  1 non-null      object \n",
      " 1   Внутренний артикул                                  1 non-null      object \n",
      " 2   ID Сайта                                            1 non-null      object \n",
      " 3   Товарное направление                                1 non-null      object \n",
      " 4   Товарная группа                                     1 non-null      object \n",
      " 5   Товарный кластер                                    1 non-null      object \n",
      " 6   Проба                                               1 non-null      object \n",
      " 7   Тип изделия 1                                       1 non-null      object \n",
      " 8   Тип изделия 2                                       1 non-null      object \n",
      " 9   Тип изделия 3                                       1 non-null      object \n",
      " 10  Дизайн                                              1 non-null      object \n",
      " 11  Бренд                                               1 non-null      object \n",
      " 12  Гендерный признак                                   1 non-null      object \n",
      " 13  Ценовая корзина                                     1 non-null      object \n",
      " 14  Группа цен                                          1 non-null      object \n",
      " 15  Код поставщика                                      1 non-null      object \n",
      " 16  Наименование поставщика                             1 non-null      object \n",
      " 17  Дата закупки                                        1 non-null      object \n",
      " 18  Количество продаж за последние 90 дней              1 non-null      int64  \n",
      " 19  Сумма продаж за последние 90 дней                   1 non-null      float64\n",
      " 20  Опубликован                                         0 non-null      object \n",
      " 21  Ссылка на изображение                               0 non-null      object \n",
      " 22  Сумма по чистому весу                               1 non-null      float64\n",
      " 23  Сумма по общему весу                                1 non-null      float64\n",
      " 24  80-й перцентиль по себестоимости                    1 non-null      float64\n",
      " 25  Остаток                                             1 non-null      float64\n",
      " 26  Чистый вес медиана                                  1 non-null      float64\n",
      " 27  Чистый вес мин                                      1 non-null      float64\n",
      " 28  Чистый вес макс                                     1 non-null      float64\n",
      " 29  Чистый вес размах, %                                1 non-null      float64\n",
      " 30  Цена изделия на бирке медиана                       1 non-null      float64\n",
      " 31  Цена изделия на бирке мин                           1 non-null      float64\n",
      " 32  Цена изделия на бирке макс                          1 non-null      float64\n",
      " 33  Цена изделия на бирке размах, %                     1 non-null      float64\n",
      " 34  Базовая скидка мин                                  1 non-null      float64\n",
      " 35  Базовая скидка макс                                 1 non-null      float64\n",
      " 36  Цена со скидками медиана                            1 non-null      float64\n",
      " 37  Цена со скидками мин                                1 non-null      float64\n",
      " 38  Цена со скидками макс                               1 non-null      float64\n",
      " 39  Цена со скидками размах, %                          1 non-null      float64\n",
      " 40  Себестоимость медиана                               1 non-null      float64\n",
      " 41  Себестоимость мин                                   1 non-null      float64\n",
      " 42  Себестоимость макс                                  1 non-null      float64\n",
      " 43  Себестоимость размах, %                             1 non-null      float64\n",
      " 44  Наценка медиана                                     1 non-null      float64\n",
      " 45  Наценка мин                                         1 non-null      float64\n",
      " 46  Наценка макс                                        1 non-null      float64\n",
      " 47  Запрет к размещению                                 1 non-null      object \n",
      " 48  Цена со скидками Ecom                               1 non-null      float64\n",
      " 49  Сумма в себестоимости на остатках                   1 non-null      float64\n",
      " 50  Цена за грамм медиана                               1 non-null      float64\n",
      " 51  Цена за грамм мин                                   1 non-null      float64\n",
      " 52  Цена за грамм макс                                  1 non-null      float64\n",
      " 53  Цена за грамм размах, %                             1 non-null      float64\n",
      " 54  Количество с запрещенной скидкой                    0 non-null      float64\n",
      " 55  Количество с разрешенной скидкой                    1 non-null      int64  \n",
      " 56  Размах по весу                                      1 non-null      object \n",
      " 57  Размах по себестоимости                             1 non-null      object \n",
      " 58  Размах по цене со скидками                          1 non-null      object \n",
      " 59  Размах по цене за грамм                             1 non-null      object \n",
      " 60  Размах цена изделия на бирке                        1 non-null      object \n",
      " 61  Скидка разрешена                                    1 non-null      object \n",
      " 62  Доля % остатка ID отосительно остатка ТГ            1 non-null      float64\n",
      " 63  Доля % относительно продаж ТГ за последние 90 дней  1 non-null      float64\n",
      "dtypes: float64(35), int64(2), object(27)\n",
      "memory usage: 628.0+ bytes\n"
     ]
    }
   ],
   "source": [
    "result.info()"
   ]
  },
  {
   "cell_type": "code",
   "execution_count": null,
   "metadata": {},
   "outputs": [],
   "source": [
    "# result['Модель'] = np.nan\n",
    "# for i in result.index:\n",
    "#     if (result['Размах по весу'][i] == '1. Небольшой размах (<10%)') and (result['Чистый вес макс'][i] - result['Чистый вес мин'][i]) <= 0.2:\n",
    "#         result['Модель'][i] = 'Штучный'\n",
    "#     else:\n",
    "#         result['Модель'][i] = 'Весовой'"
   ]
  },
  {
   "cell_type": "code",
   "execution_count": null,
   "metadata": {},
   "outputs": [],
   "source": [
    "# result['Оборачиваемость'] = result['Остаток'] / result['Количество продаж за последние 90 дней'] * 3"
   ]
  },
  {
   "cell_type": "code",
   "execution_count": null,
   "metadata": {},
   "outputs": [],
   "source": [
    "# result['Оборач кат'] = np.where(\n",
    "#     result['Оборачиваемость'] > 24, 'от 24 мес', \n",
    "#     np.where(\n",
    "#         result['Оборачиваемость'] > 8, '8-24 мес', 'до 8 мес'\n",
    "#     )\n",
    "# )"
   ]
  },
  {
   "cell_type": "code",
   "execution_count": null,
   "metadata": {},
   "outputs": [],
   "source": [
    "# result['Вес кат'] = np.where(\n",
    "#     result['Чистый вес мин'] > 4, 'Вес от 4 гр', \n",
    "#     np.where(\n",
    "#         result['Чистый вес мин'] > 1.5, 'Вес 1.5 - 4 гр', 'Вес до 1.5 гр'\n",
    "#     )\n",
    "# )"
   ]
  },
  {
   "cell_type": "code",
   "execution_count": null,
   "metadata": {},
   "outputs": [],
   "source": [
    "# result['Ключ ЦП'] = result['Вес кат'] + ' ' + result['Оборач кат']"
   ]
  },
  {
   "cell_type": "code",
   "execution_count": null,
   "metadata": {},
   "outputs": [],
   "source": [
    "# result['Себес за грамм (чистый вес)'] = result['Сумма в себестоимости на остатках'] / result['Сумма по чистому весу']"
   ]
  },
  {
   "cell_type": "code",
   "execution_count": null,
   "metadata": {},
   "outputs": [
    {
     "data": {
      "text/plain": [
       "Ключ ЦП\n",
       "Вес до 1.5 гр до 8 мес      2780\n",
       "Вес 1.5 - 4 гр до 8 мес     2506\n",
       "Вес до 1.5 гр 8-24 мес      2264\n",
       "Вес 1.5 - 4 гр от 24 мес    2153\n",
       "Вес до 1.5 гр от 24 мес     1400\n",
       "Вес 1.5 - 4 гр 8-24 мес     1325\n",
       "Вес от 4 гр до 8 мес         185\n",
       "Вес от 4 гр от 24 мес        104\n",
       "Вес от 4 гр 8-24 мес          65\n",
       "Name: count, dtype: int64"
      ]
     },
     "execution_count": 75,
     "metadata": {},
     "output_type": "execute_result"
    }
   ],
   "source": [
    "# result['Ключ ЦП'].value_counts()"
   ]
  },
  {
   "cell_type": "code",
   "execution_count": null,
   "metadata": {},
   "outputs": [],
   "source": [
    "# result['Ценовая политика'] = np.where(\n",
    "#     result['Группа цен'] == 'ШОК_ЦЕНА', 'Шок',\n",
    "#     np.where(\n",
    "#         result['Группа цен'] == 'KVI', 'KVI', \n",
    "#         np.where(\n",
    "#             result['Ключ ЦП'].str.contains('Вес до 1.5 гр до 8 мес|Вес 1.5 - 4 гр до 8 мес|Вес до 1.5 гр 8-24 мес'), 'Высокая ЦГ',\n",
    "#             np.where(\n",
    "#                 result['Ключ ЦП'].str.contains('Вес от 4 гр до 8 мес|Вес до 1.5 гр 8-24 мес|Вес до 1.5 гр от 24 мес'), 'Средняя ЦГ', 'Низкая ЦГ'\n",
    "#             )\n",
    "#         )        \n",
    "#     )\n",
    "# )"
   ]
  },
  {
   "cell_type": "code",
   "execution_count": 55,
   "metadata": {},
   "outputs": [],
   "source": [
    "result.to_excel(r'C:\\Users\\Trenkin.Sergey\\Desktop\\notebooks\\result_ПДК БРАСЛЕТ.xlsx', index=False)"
   ]
  },
  {
   "cell_type": "code",
   "execution_count": null,
   "metadata": {},
   "outputs": [],
   "source": [
    "# date_today = dt.datetime.today().strftime('%Y-%m-%d')"
   ]
  },
  {
   "cell_type": "code",
   "execution_count": null,
   "metadata": {},
   "outputs": [],
   "source": [
    "# result.to_excel(rf'\\\\gold585.int\\uk\\Общее хранилище файлов\\Служба аналитики\\Тренкин Сергей\\Исследование цен\\\\Исследование цен в разрезе ID {date_today}.xlsx', index=False)\n",
    "# for tn in result['Товарное направление'].unique().tolist():\n",
    "#     result[result['Товарное направление'] == tn].\\\n",
    "#         to_excel(rf'\\\\gold585.int\\uk\\Общее хранилище файлов\\Служба аналитики\\Тренкин Сергей\\Исследование цен\\Исследование цен для {tn} в разрезе ID {date_today}.xlsx', index=False)"
   ]
  },
  {
   "cell_type": "code",
   "execution_count": null,
   "metadata": {},
   "outputs": [],
   "source": []
  }
 ],
 "metadata": {
  "kernelspec": {
   "display_name": "Python 3",
   "language": "python",
   "name": "python3"
  },
  "language_info": {
   "codemirror_mode": {
    "name": "ipython",
    "version": 3
   },
   "file_extension": ".py",
   "mimetype": "text/x-python",
   "name": "python",
   "nbconvert_exporter": "python",
   "pygments_lexer": "ipython3",
   "version": "3.12.4"
  }
 },
 "nbformat": 4,
 "nbformat_minor": 2
}
