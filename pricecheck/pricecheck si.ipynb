{
 "cells": [
  {
   "cell_type": "code",
   "execution_count": 1,
   "metadata": {},
   "outputs": [],
   "source": [
    "from tqdm import tqdm\n",
    "import pymssql\n",
    "import pandas as pd\n",
    "import numpy as np\n",
    "import warnings\n",
    "import glob \n",
    "import os\n",
    "\n",
    "warnings.filterwarnings('ignore')"
   ]
  },
  {
   "cell_type": "code",
   "execution_count": 2,
   "metadata": {},
   "outputs": [],
   "source": [
    "conn = pymssql.connect(server='AX-SQL', database='Staging')\n",
    "cursor = conn.cursor()\n",
    "\n",
    "sql = f'''\n",
    "SELECT [Код склада], [Код товара], [Артикул поставщика], [Внутренний артикул], [ID Сайта], [Товарное направление],\n",
    "[Товарная группа], [Товарный кластер], [Проба], [Размер изделия], [Тип изделия 1], [Тип изделия 2],\n",
    "[Тип изделия 3], [Дизайн], [Бренд], [Гендерный признак], [Ценовая корзина], [Группа цен], [Остаток], [Цена Розн., за шт],\n",
    "[Чистый вес], [Цена изделия на бирке], [Скидка на изделии], [Запрет скидки], [Цена Закупки за 1 шт. (упр сс с НДС за единицу)], [Дата закупки]\n",
    "from [Staging].[Reports].[Remainings_8h]\n",
    "where [Товарное направление] in (N'СИ')\n",
    "'''\n",
    "\n",
    "sql_query = pd.read_sql_query(sql, conn)\n",
    "stock = pd.DataFrame(sql_query)"
   ]
  },
  {
   "cell_type": "code",
   "execution_count": 3,
   "metadata": {},
   "outputs": [],
   "source": [
    "images = pd.read_excel(r'C:\\Users\\Trenkin.Sergey\\Desktop\\Артикул-фото 2024.06.11_.xlsx')"
   ]
  },
  {
   "cell_type": "code",
   "execution_count": 4,
   "metadata": {},
   "outputs": [],
   "source": [
    "zapret = pd.read_excel(r'C:\\Users\\Trenkin.Sergey\\Desktop\\запрет Артикулы к размещению.xlsx')"
   ]
  },
  {
   "cell_type": "code",
   "execution_count": 5,
   "metadata": {},
   "outputs": [],
   "source": [
    "kniga = pd.read_excel(r'C:\\Users\\Trenkin.Sergey\\Desktop\\Книга11.xlsx')"
   ]
  },
  {
   "cell_type": "code",
   "execution_count": 6,
   "metadata": {},
   "outputs": [
    {
     "data": {
      "text/plain": [
       "['2024-03-10_2024-03-19.xlsx',\n",
       " '2024-03-20_2024-03-31.xlsx',\n",
       " '2024-04-01_2024-04-09.xlsx',\n",
       " '2024-04-10_2024-04-19.xlsx',\n",
       " '2024-04-20_2024-04-30.xlsx',\n",
       " '2024-05-01_2024-05-09.xlsx',\n",
       " '2024-05-10_2024-05-19.xlsx',\n",
       " '2024-05-20_2024-05-31.xlsx',\n",
       " '2024-06-01_2024-06-09.xlsx',\n",
       " '2024-06-10_2024-06-10.xlsx',\n",
       " '2024-06-10_2024-06-12.xlsx',\n",
       " '2024-06-10_2024-06-18.xlsx']"
      ]
     },
     "execution_count": 6,
     "metadata": {},
     "output_type": "execute_result"
    }
   ],
   "source": [
    "os.chdir(r'C:\\\\Users\\Trenkin.Sergey\\Desktop\\sales')\n",
    "extension = 'xlsx'\n",
    "all_filenames = [i for i in glob.glob('*.{}'.format(extension))]\n",
    "all_filenames"
   ]
  },
  {
   "cell_type": "code",
   "execution_count": 7,
   "metadata": {},
   "outputs": [
    {
     "name": "stderr",
     "output_type": "stream",
     "text": [
      "100%|██████████| 12/12 [11:39<00:00, 58.27s/it]\n"
     ]
    }
   ],
   "source": [
    "sale = pd.DataFrame()\n",
    "for name in tqdm(all_filenames):\n",
    "    sales = pd.read_excel(name)\n",
    "    sale = pd.concat([sales, sale], ignore_index= True)"
   ]
  },
  {
   "cell_type": "code",
   "execution_count": 8,
   "metadata": {},
   "outputs": [],
   "source": [
    "sale['Дата'] = pd.to_datetime(sale['Дата'], dayfirst=True, format='mixed')"
   ]
  },
  {
   "cell_type": "code",
   "execution_count": 9,
   "metadata": {},
   "outputs": [],
   "source": [
    "sale = sale[(sale['Дата'] >= pd.to_datetime('2024-03-14', dayfirst=True, format='mixed')) & \n",
    "            (sale['Дата'] <= pd.to_datetime('2024-06-19', dayfirst=True, format='mixed'))]"
   ]
  },
  {
   "cell_type": "code",
   "execution_count": 10,
   "metadata": {},
   "outputs": [],
   "source": [
    "sale = sale.groupby(by = 'Тов', as_index=False)[['Количество', 'Общая сумма']].sum()"
   ]
  },
  {
   "cell_type": "code",
   "execution_count": 11,
   "metadata": {},
   "outputs": [],
   "source": [
    "ids = stock[['Код товара', 'ID Сайта']]\n",
    "ids.columns = ['Тов', 'ID Сайта']"
   ]
  },
  {
   "cell_type": "code",
   "execution_count": 12,
   "metadata": {},
   "outputs": [],
   "source": [
    "sale = sale.merge(ids, how='left', on='Тов')\n",
    "sale = sale.drop(columns=['Тов'])\n",
    "sale = sale[['ID Сайта', 'Количество', 'Общая сумма']]"
   ]
  },
  {
   "cell_type": "code",
   "execution_count": 13,
   "metadata": {},
   "outputs": [],
   "source": [
    "kniga['Код склада'] = kniga['Код склада'].astype(str)\n",
    "skladi = kniga['Код склада'].unique().tolist()"
   ]
  },
  {
   "cell_type": "code",
   "execution_count": 14,
   "metadata": {},
   "outputs": [
    {
     "data": {
      "text/plain": [
       "Index(['Код склада', 'Код товара', 'Артикул поставщика', 'Внутренний артикул',\n",
       "       'ID Сайта', 'Товарное направление', 'Товарная группа',\n",
       "       'Товарный кластер', 'Проба', 'Размер изделия', 'Тип изделия 1',\n",
       "       'Тип изделия 2', 'Тип изделия 3', 'Дизайн', 'Бренд',\n",
       "       'Гендерный признак', 'Ценовая корзина', 'Группа цен', 'Остаток',\n",
       "       'Цена Розн., за шт', 'Чистый вес', 'Цена изделия на бирке',\n",
       "       'Скидка на изделии', 'Запрет скидки',\n",
       "       'Цена Закупки за 1 шт. (упр сс с НДС за единицу)', 'Дата закупки'],\n",
       "      dtype='object')"
      ]
     },
     "execution_count": 14,
     "metadata": {},
     "output_type": "execute_result"
    }
   ],
   "source": [
    "stock.columns"
   ]
  },
  {
   "cell_type": "code",
   "execution_count": 15,
   "metadata": {},
   "outputs": [],
   "source": [
    "stock.columns = ['code', 'Код товара', 'Артикул поставщика', 'Внутренний артикул',\n",
    "    'ID Сайта', 'Товарное направление', 'Товарная группа',\n",
    "    'Товарный кластер', 'Проба', 'Размер изделия', 'Тип изделия 1',\n",
    "    'Тип изделия 2', 'Тип изделия 3', 'Дизайн', 'Бренд',\n",
    "    'Гендерный признак', 'Ценовая корзина', 'Группа цен', 'Остаток', 'Цена Розн., за шт',\n",
    "    'Чистый вес', 'Цена изделия на бирке', 'Скидка на изделии',\n",
    "    'Запрет скидки', 'Цена Закупки за 1 шт. (упр сс с НДС за единицу)',\n",
    "    'Дата закупки']"
   ]
  },
  {
   "cell_type": "code",
   "execution_count": 16,
   "metadata": {},
   "outputs": [],
   "source": [
    "stock = stock.query('code in @skladi')"
   ]
  },
  {
   "cell_type": "code",
   "execution_count": 17,
   "metadata": {},
   "outputs": [],
   "source": [
    "stock.columns = ['Код склада', 'Код товара', 'Артикул поставщика', 'Внутренний артикул',\n",
    "    'ID Сайта', 'Товарное направление', 'Товарная группа',\n",
    "    'Товарный кластер', 'Проба', 'Размер изделия', 'Тип изделия 1',\n",
    "    'Тип изделия 2', 'Тип изделия 3', 'Дизайн', 'Бренд',\n",
    "    'Гендерный признак', 'Ценовая корзина', 'Группа цен', 'Остаток', 'Цена Розн., за шт',\n",
    "    'Чистый вес', 'Цена изделия на бирке', 'Скидка на изделии',\n",
    "    'Запрет скидки', 'Цена Закупки за 1 шт. (упр сс с НДС за единицу)',\n",
    "    'Дата закупки']"
   ]
  },
  {
   "cell_type": "code",
   "execution_count": 18,
   "metadata": {},
   "outputs": [],
   "source": [
    "result = stock.drop_duplicates(subset=['ID Сайта'])"
   ]
  },
  {
   "cell_type": "code",
   "execution_count": 19,
   "metadata": {},
   "outputs": [],
   "source": [
    "tovs = result['ID Сайта'].dropna().tolist()"
   ]
  },
  {
   "cell_type": "code",
   "execution_count": 20,
   "metadata": {},
   "outputs": [],
   "source": [
    "images['article'] = images['article'].astype(str)"
   ]
  },
  {
   "cell_type": "code",
   "execution_count": 21,
   "metadata": {},
   "outputs": [],
   "source": [
    "images = images.query('article in @tovs')"
   ]
  },
  {
   "cell_type": "code",
   "execution_count": 22,
   "metadata": {},
   "outputs": [],
   "source": [
    "images = images[['article', 'published', 'Ссылка на изображение']]"
   ]
  },
  {
   "cell_type": "code",
   "execution_count": 23,
   "metadata": {},
   "outputs": [],
   "source": [
    "images.columns = ['ID Сайта', 'Опубликован', 'Ссылка на изображение']"
   ]
  },
  {
   "cell_type": "code",
   "execution_count": 24,
   "metadata": {},
   "outputs": [],
   "source": [
    "result = result.merge(images, how='outer', on='ID Сайта')"
   ]
  },
  {
   "cell_type": "code",
   "execution_count": 25,
   "metadata": {},
   "outputs": [],
   "source": [
    "result = result.drop(columns = ['Остаток'])"
   ]
  },
  {
   "cell_type": "code",
   "execution_count": 26,
   "metadata": {},
   "outputs": [],
   "source": [
    "df = stock"
   ]
  },
  {
   "cell_type": "code",
   "execution_count": 27,
   "metadata": {},
   "outputs": [],
   "source": [
    "stock = df.groupby(by = 'ID Сайта', as_index=False)['Остаток'].sum()"
   ]
  },
  {
   "cell_type": "code",
   "execution_count": 28,
   "metadata": {},
   "outputs": [],
   "source": [
    "result = result.merge(stock, how='left', on='ID Сайта')"
   ]
  },
  {
   "cell_type": "code",
   "execution_count": 29,
   "metadata": {},
   "outputs": [],
   "source": [
    "sale.columns = ['ID Сайта', 'Количество продаж 14.03-19.06', 'Сумма продаж 14.03-19.06']"
   ]
  },
  {
   "cell_type": "code",
   "execution_count": 30,
   "metadata": {},
   "outputs": [],
   "source": [
    "result = result.merge(sale, how='left', on='ID Сайта')"
   ]
  },
  {
   "cell_type": "code",
   "execution_count": 31,
   "metadata": {},
   "outputs": [
    {
     "data": {
      "text/plain": [
       "Index(['Код склада', 'Код товара', 'Артикул поставщика', 'Внутренний артикул',\n",
       "       'ID Сайта', 'Товарное направление', 'Товарная группа',\n",
       "       'Товарный кластер', 'Проба', 'Размер изделия', 'Тип изделия 1',\n",
       "       'Тип изделия 2', 'Тип изделия 3', 'Дизайн', 'Бренд',\n",
       "       'Гендерный признак', 'Ценовая корзина', 'Группа цен',\n",
       "       'Цена Розн., за шт', 'Чистый вес', 'Цена изделия на бирке',\n",
       "       'Скидка на изделии', 'Запрет скидки',\n",
       "       'Цена Закупки за 1 шт. (упр сс с НДС за единицу)', 'Дата закупки',\n",
       "       'Опубликован', 'Ссылка на изображение', 'Остаток',\n",
       "       'Количество продаж 14.03-19.06', 'Сумма продаж 14.03-19.06'],\n",
       "      dtype='object')"
      ]
     },
     "execution_count": 31,
     "metadata": {},
     "output_type": "execute_result"
    }
   ],
   "source": [
    "result.columns"
   ]
  },
  {
   "cell_type": "code",
   "execution_count": 32,
   "metadata": {},
   "outputs": [],
   "source": [
    "result = result.drop_duplicates(subset=['ID Сайта'])"
   ]
  },
  {
   "cell_type": "code",
   "execution_count": 33,
   "metadata": {},
   "outputs": [],
   "source": [
    "df['Чистый вес'] = df['Чистый вес'].astype(float)"
   ]
  },
  {
   "cell_type": "code",
   "execution_count": 36,
   "metadata": {},
   "outputs": [],
   "source": [
    "clear_weight = df.groupby(by = 'ID Сайта', as_index=False)['Чистый вес'].agg({'min', 'median', 'max'})\n",
    "clear_weight.columns = ['ID Сайта', 'Чистый вес макс', 'Чистый вес мин', 'Чистый вес медиана']\n",
    "clear_weight['Чистый вес размах, %'] = (clear_weight['Чистый вес макс'] / clear_weight['Чистый вес мин'] - 1) "
   ]
  },
  {
   "cell_type": "code",
   "execution_count": 37,
   "metadata": {},
   "outputs": [
    {
     "data": {
      "text/html": [
       "<div>\n",
       "<style scoped>\n",
       "    .dataframe tbody tr th:only-of-type {\n",
       "        vertical-align: middle;\n",
       "    }\n",
       "\n",
       "    .dataframe tbody tr th {\n",
       "        vertical-align: top;\n",
       "    }\n",
       "\n",
       "    .dataframe thead th {\n",
       "        text-align: right;\n",
       "    }\n",
       "</style>\n",
       "<table border=\"1\" class=\"dataframe\">\n",
       "  <thead>\n",
       "    <tr style=\"text-align: right;\">\n",
       "      <th></th>\n",
       "      <th>ID Сайта</th>\n",
       "      <th>Чистый вес макс</th>\n",
       "      <th>Чистый вес мин</th>\n",
       "      <th>Чистый вес медиана</th>\n",
       "      <th>Чистый вес размах, %</th>\n",
       "    </tr>\n",
       "  </thead>\n",
       "  <tbody>\n",
       "    <tr>\n",
       "      <th>0</th>\n",
       "      <td></td>\n",
       "      <td>94.789</td>\n",
       "      <td>0.773</td>\n",
       "      <td>5.7695</td>\n",
       "      <td>121.624838</td>\n",
       "    </tr>\n",
       "    <tr>\n",
       "      <th>1</th>\n",
       "      <td>1000030</td>\n",
       "      <td>2.280</td>\n",
       "      <td>2.149</td>\n",
       "      <td>2.2100</td>\n",
       "      <td>0.060959</td>\n",
       "    </tr>\n",
       "    <tr>\n",
       "      <th>2</th>\n",
       "      <td>1000181</td>\n",
       "      <td>4.230</td>\n",
       "      <td>2.981</td>\n",
       "      <td>3.8455</td>\n",
       "      <td>0.418987</td>\n",
       "    </tr>\n",
       "    <tr>\n",
       "      <th>3</th>\n",
       "      <td>1000188</td>\n",
       "      <td>1.480</td>\n",
       "      <td>1.145</td>\n",
       "      <td>1.2640</td>\n",
       "      <td>0.292576</td>\n",
       "    </tr>\n",
       "    <tr>\n",
       "      <th>4</th>\n",
       "      <td>1000336</td>\n",
       "      <td>6.951</td>\n",
       "      <td>5.751</td>\n",
       "      <td>6.3515</td>\n",
       "      <td>0.208659</td>\n",
       "    </tr>\n",
       "    <tr>\n",
       "      <th>...</th>\n",
       "      <td>...</td>\n",
       "      <td>...</td>\n",
       "      <td>...</td>\n",
       "      <td>...</td>\n",
       "      <td>...</td>\n",
       "    </tr>\n",
       "    <tr>\n",
       "      <th>46162</th>\n",
       "      <td>8380059</td>\n",
       "      <td>2.930</td>\n",
       "      <td>2.810</td>\n",
       "      <td>2.8400</td>\n",
       "      <td>0.042705</td>\n",
       "    </tr>\n",
       "    <tr>\n",
       "      <th>46163</th>\n",
       "      <td>8380065</td>\n",
       "      <td>2.880</td>\n",
       "      <td>2.870</td>\n",
       "      <td>2.8700</td>\n",
       "      <td>0.003484</td>\n",
       "    </tr>\n",
       "    <tr>\n",
       "      <th>46164</th>\n",
       "      <td>8380085</td>\n",
       "      <td>2.390</td>\n",
       "      <td>2.360</td>\n",
       "      <td>2.3750</td>\n",
       "      <td>0.012712</td>\n",
       "    </tr>\n",
       "    <tr>\n",
       "      <th>46165</th>\n",
       "      <td>8380087</td>\n",
       "      <td>2.370</td>\n",
       "      <td>2.360</td>\n",
       "      <td>2.3650</td>\n",
       "      <td>0.004237</td>\n",
       "    </tr>\n",
       "    <tr>\n",
       "      <th>46166</th>\n",
       "      <td>8380608</td>\n",
       "      <td>0.960</td>\n",
       "      <td>0.750</td>\n",
       "      <td>0.7900</td>\n",
       "      <td>0.280000</td>\n",
       "    </tr>\n",
       "  </tbody>\n",
       "</table>\n",
       "<p>46167 rows × 5 columns</p>\n",
       "</div>"
      ],
      "text/plain": [
       "      ID Сайта  Чистый вес макс  Чистый вес мин  Чистый вес медиана  \\\n",
       "0                        94.789           0.773              5.7695   \n",
       "1      1000030            2.280           2.149              2.2100   \n",
       "2      1000181            4.230           2.981              3.8455   \n",
       "3      1000188            1.480           1.145              1.2640   \n",
       "4      1000336            6.951           5.751              6.3515   \n",
       "...        ...              ...             ...                 ...   \n",
       "46162  8380059            2.930           2.810              2.8400   \n",
       "46163  8380065            2.880           2.870              2.8700   \n",
       "46164  8380085            2.390           2.360              2.3750   \n",
       "46165  8380087            2.370           2.360              2.3650   \n",
       "46166  8380608            0.960           0.750              0.7900   \n",
       "\n",
       "       Чистый вес размах, %  \n",
       "0                121.624838  \n",
       "1                  0.060959  \n",
       "2                  0.418987  \n",
       "3                  0.292576  \n",
       "4                  0.208659  \n",
       "...                     ...  \n",
       "46162              0.042705  \n",
       "46163              0.003484  \n",
       "46164              0.012712  \n",
       "46165              0.004237  \n",
       "46166              0.280000  \n",
       "\n",
       "[46167 rows x 5 columns]"
      ]
     },
     "execution_count": 37,
     "metadata": {},
     "output_type": "execute_result"
    }
   ],
   "source": [
    "clear_weight"
   ]
  },
  {
   "cell_type": "code",
   "execution_count": 38,
   "metadata": {},
   "outputs": [],
   "source": [
    "result = result.merge(clear_weight, how='left', on='ID Сайта')"
   ]
  },
  {
   "cell_type": "code",
   "execution_count": 39,
   "metadata": {},
   "outputs": [],
   "source": [
    "result = result[result['ID Сайта'] != '']\n",
    "df = df[df['ID Сайта'] != '']"
   ]
  },
  {
   "cell_type": "code",
   "execution_count": 42,
   "metadata": {},
   "outputs": [],
   "source": [
    "price_birka = df.groupby(by = 'ID Сайта', as_index=False)['Цена Розн., за шт'].agg({'min', 'median', 'max'})\n",
    "price_birka.columns = ['ID Сайта', 'Цена изделия на бирке макс', 'Цена изделия на бирке мин', 'Цена изделия на бирке медиана']"
   ]
  },
  {
   "cell_type": "code",
   "execution_count": 45,
   "metadata": {},
   "outputs": [
    {
     "data": {
      "text/html": [
       "<div>\n",
       "<style scoped>\n",
       "    .dataframe tbody tr th:only-of-type {\n",
       "        vertical-align: middle;\n",
       "    }\n",
       "\n",
       "    .dataframe tbody tr th {\n",
       "        vertical-align: top;\n",
       "    }\n",
       "\n",
       "    .dataframe thead th {\n",
       "        text-align: right;\n",
       "    }\n",
       "</style>\n",
       "<table border=\"1\" class=\"dataframe\">\n",
       "  <thead>\n",
       "    <tr style=\"text-align: right;\">\n",
       "      <th></th>\n",
       "      <th>ID Сайта</th>\n",
       "      <th>Цена изделия на бирке макс</th>\n",
       "      <th>Цена изделия на бирке мин</th>\n",
       "      <th>Цена изделия на бирке медиана</th>\n",
       "    </tr>\n",
       "  </thead>\n",
       "  <tbody>\n",
       "    <tr>\n",
       "      <th>17840</th>\n",
       "      <td>2218015</td>\n",
       "      <td>2026.0</td>\n",
       "      <td>2026.0</td>\n",
       "      <td>2026.0</td>\n",
       "    </tr>\n",
       "    <tr>\n",
       "      <th>7404</th>\n",
       "      <td>1459017</td>\n",
       "      <td>3315.0</td>\n",
       "      <td>3314.0</td>\n",
       "      <td>3315.0</td>\n",
       "    </tr>\n",
       "    <tr>\n",
       "      <th>40184</th>\n",
       "      <td>7237881</td>\n",
       "      <td>3826.0</td>\n",
       "      <td>3826.0</td>\n",
       "      <td>3826.0</td>\n",
       "    </tr>\n",
       "    <tr>\n",
       "      <th>14531</th>\n",
       "      <td>1906962</td>\n",
       "      <td>2654.0</td>\n",
       "      <td>2654.0</td>\n",
       "      <td>2654.0</td>\n",
       "    </tr>\n",
       "    <tr>\n",
       "      <th>15925</th>\n",
       "      <td>1990511</td>\n",
       "      <td>7437.0</td>\n",
       "      <td>4290.0</td>\n",
       "      <td>4648.0</td>\n",
       "    </tr>\n",
       "  </tbody>\n",
       "</table>\n",
       "</div>"
      ],
      "text/plain": [
       "      ID Сайта  Цена изделия на бирке макс  Цена изделия на бирке мин  \\\n",
       "17840  2218015                      2026.0                     2026.0   \n",
       "7404   1459017                      3315.0                     3314.0   \n",
       "40184  7237881                      3826.0                     3826.0   \n",
       "14531  1906962                      2654.0                     2654.0   \n",
       "15925  1990511                      7437.0                     4290.0   \n",
       "\n",
       "       Цена изделия на бирке медиана  \n",
       "17840                         2026.0  \n",
       "7404                          3315.0  \n",
       "40184                         3826.0  \n",
       "14531                         2654.0  \n",
       "15925                         4648.0  "
      ]
     },
     "execution_count": 45,
     "metadata": {},
     "output_type": "execute_result"
    }
   ],
   "source": [
    "price_birka.sample(5)"
   ]
  },
  {
   "cell_type": "code",
   "execution_count": 46,
   "metadata": {},
   "outputs": [],
   "source": [
    "result = result.merge(price_birka, how='left', on='ID Сайта')"
   ]
  },
  {
   "cell_type": "code",
   "execution_count": 47,
   "metadata": {},
   "outputs": [],
   "source": [
    "base_discount = df.groupby(by = 'ID Сайта', as_index=False)['Скидка на изделии'].agg({'min', 'max'})\n",
    "base_discount.columns = ['ID Сайта', 'Базовая скидка макс', 'Базовая скидка мин']"
   ]
  },
  {
   "cell_type": "code",
   "execution_count": 48,
   "metadata": {},
   "outputs": [
    {
     "data": {
      "text/html": [
       "<div>\n",
       "<style scoped>\n",
       "    .dataframe tbody tr th:only-of-type {\n",
       "        vertical-align: middle;\n",
       "    }\n",
       "\n",
       "    .dataframe tbody tr th {\n",
       "        vertical-align: top;\n",
       "    }\n",
       "\n",
       "    .dataframe thead th {\n",
       "        text-align: right;\n",
       "    }\n",
       "</style>\n",
       "<table border=\"1\" class=\"dataframe\">\n",
       "  <thead>\n",
       "    <tr style=\"text-align: right;\">\n",
       "      <th></th>\n",
       "      <th>ID Сайта</th>\n",
       "      <th>Базовая скидка макс</th>\n",
       "      <th>Базовая скидка мин</th>\n",
       "    </tr>\n",
       "  </thead>\n",
       "  <tbody>\n",
       "    <tr>\n",
       "      <th>0</th>\n",
       "      <td>1000030</td>\n",
       "      <td>40.0</td>\n",
       "      <td>40.0</td>\n",
       "    </tr>\n",
       "    <tr>\n",
       "      <th>1</th>\n",
       "      <td>1000181</td>\n",
       "      <td>40.0</td>\n",
       "      <td>40.0</td>\n",
       "    </tr>\n",
       "    <tr>\n",
       "      <th>2</th>\n",
       "      <td>1000188</td>\n",
       "      <td>40.0</td>\n",
       "      <td>40.0</td>\n",
       "    </tr>\n",
       "    <tr>\n",
       "      <th>3</th>\n",
       "      <td>1000336</td>\n",
       "      <td>40.0</td>\n",
       "      <td>40.0</td>\n",
       "    </tr>\n",
       "    <tr>\n",
       "      <th>4</th>\n",
       "      <td>1000521</td>\n",
       "      <td>40.0</td>\n",
       "      <td>40.0</td>\n",
       "    </tr>\n",
       "    <tr>\n",
       "      <th>...</th>\n",
       "      <td>...</td>\n",
       "      <td>...</td>\n",
       "      <td>...</td>\n",
       "    </tr>\n",
       "    <tr>\n",
       "      <th>46161</th>\n",
       "      <td>8380059</td>\n",
       "      <td>40.0</td>\n",
       "      <td>0.0</td>\n",
       "    </tr>\n",
       "    <tr>\n",
       "      <th>46162</th>\n",
       "      <td>8380065</td>\n",
       "      <td>40.0</td>\n",
       "      <td>30.0</td>\n",
       "    </tr>\n",
       "    <tr>\n",
       "      <th>46163</th>\n",
       "      <td>8380085</td>\n",
       "      <td>40.0</td>\n",
       "      <td>30.0</td>\n",
       "    </tr>\n",
       "    <tr>\n",
       "      <th>46164</th>\n",
       "      <td>8380087</td>\n",
       "      <td>40.0</td>\n",
       "      <td>30.0</td>\n",
       "    </tr>\n",
       "    <tr>\n",
       "      <th>46165</th>\n",
       "      <td>8380608</td>\n",
       "      <td>40.0</td>\n",
       "      <td>40.0</td>\n",
       "    </tr>\n",
       "  </tbody>\n",
       "</table>\n",
       "<p>46166 rows × 3 columns</p>\n",
       "</div>"
      ],
      "text/plain": [
       "      ID Сайта  Базовая скидка макс  Базовая скидка мин\n",
       "0      1000030                 40.0                40.0\n",
       "1      1000181                 40.0                40.0\n",
       "2      1000188                 40.0                40.0\n",
       "3      1000336                 40.0                40.0\n",
       "4      1000521                 40.0                40.0\n",
       "...        ...                  ...                 ...\n",
       "46161  8380059                 40.0                 0.0\n",
       "46162  8380065                 40.0                30.0\n",
       "46163  8380085                 40.0                30.0\n",
       "46164  8380087                 40.0                30.0\n",
       "46165  8380608                 40.0                40.0\n",
       "\n",
       "[46166 rows x 3 columns]"
      ]
     },
     "execution_count": 48,
     "metadata": {},
     "output_type": "execute_result"
    }
   ],
   "source": [
    "base_discount"
   ]
  },
  {
   "cell_type": "code",
   "execution_count": 49,
   "metadata": {},
   "outputs": [],
   "source": [
    "result = result.merge(base_discount, how='left', on='ID Сайта')"
   ]
  },
  {
   "cell_type": "code",
   "execution_count": 50,
   "metadata": {},
   "outputs": [],
   "source": [
    "df['Цена со скидками'] = np.where(\n",
    "    df['Запрет скидки'] == 'Да', df['Цена Розн., за шт'], df['Цена Розн., за шт'] * (1-df['Скидка на изделии']/100) * 0.8 * 0.6\n",
    ")"
   ]
  },
  {
   "cell_type": "code",
   "execution_count": 53,
   "metadata": {},
   "outputs": [],
   "source": [
    "price_skidki = df.groupby(by = 'ID Сайта', as_index=False)['Цена со скидками'].agg({'min', 'median', 'max'})\n",
    "price_skidki.columns = ['ID Сайта', 'Цена со скидками макс', 'Цена со скидками мин', 'Цена со скидками медиана']\n",
    "price_skidki['Цена со скидками размах, %'] = (price_skidki['Цена со скидками макс'] / price_skidki['Цена со скидками мин'] - 1) "
   ]
  },
  {
   "cell_type": "code",
   "execution_count": 54,
   "metadata": {},
   "outputs": [
    {
     "data": {
      "text/html": [
       "<div>\n",
       "<style scoped>\n",
       "    .dataframe tbody tr th:only-of-type {\n",
       "        vertical-align: middle;\n",
       "    }\n",
       "\n",
       "    .dataframe tbody tr th {\n",
       "        vertical-align: top;\n",
       "    }\n",
       "\n",
       "    .dataframe thead th {\n",
       "        text-align: right;\n",
       "    }\n",
       "</style>\n",
       "<table border=\"1\" class=\"dataframe\">\n",
       "  <thead>\n",
       "    <tr style=\"text-align: right;\">\n",
       "      <th></th>\n",
       "      <th>ID Сайта</th>\n",
       "      <th>Цена со скидками макс</th>\n",
       "      <th>Цена со скидками мин</th>\n",
       "      <th>Цена со скидками медиана</th>\n",
       "      <th>Цена со скидками размах, %</th>\n",
       "    </tr>\n",
       "  </thead>\n",
       "  <tbody>\n",
       "    <tr>\n",
       "      <th>0</th>\n",
       "      <td>1000030</td>\n",
       "      <td>1308.096</td>\n",
       "      <td>1308.096</td>\n",
       "      <td>1308.096</td>\n",
       "      <td>0.000000</td>\n",
       "    </tr>\n",
       "    <tr>\n",
       "      <th>1</th>\n",
       "      <td>1000181</td>\n",
       "      <td>570.816</td>\n",
       "      <td>570.816</td>\n",
       "      <td>570.816</td>\n",
       "      <td>0.000000</td>\n",
       "    </tr>\n",
       "    <tr>\n",
       "      <th>2</th>\n",
       "      <td>1000188</td>\n",
       "      <td>570.528</td>\n",
       "      <td>570.528</td>\n",
       "      <td>570.528</td>\n",
       "      <td>0.000000</td>\n",
       "    </tr>\n",
       "    <tr>\n",
       "      <th>3</th>\n",
       "      <td>1000336</td>\n",
       "      <td>2395.296</td>\n",
       "      <td>2395.008</td>\n",
       "      <td>2395.296</td>\n",
       "      <td>0.000120</td>\n",
       "    </tr>\n",
       "    <tr>\n",
       "      <th>4</th>\n",
       "      <td>1000521</td>\n",
       "      <td>1195.200</td>\n",
       "      <td>1195.200</td>\n",
       "      <td>1195.200</td>\n",
       "      <td>0.000000</td>\n",
       "    </tr>\n",
       "    <tr>\n",
       "      <th>...</th>\n",
       "      <td>...</td>\n",
       "      <td>...</td>\n",
       "      <td>...</td>\n",
       "      <td>...</td>\n",
       "      <td>...</td>\n",
       "    </tr>\n",
       "    <tr>\n",
       "      <th>46161</th>\n",
       "      <td>8380059</td>\n",
       "      <td>3020.640</td>\n",
       "      <td>345.600</td>\n",
       "      <td>345.600</td>\n",
       "      <td>7.740278</td>\n",
       "    </tr>\n",
       "    <tr>\n",
       "      <th>46162</th>\n",
       "      <td>8380065</td>\n",
       "      <td>396.480</td>\n",
       "      <td>339.840</td>\n",
       "      <td>339.840</td>\n",
       "      <td>0.166667</td>\n",
       "    </tr>\n",
       "    <tr>\n",
       "      <th>46163</th>\n",
       "      <td>8380085</td>\n",
       "      <td>235.200</td>\n",
       "      <td>201.600</td>\n",
       "      <td>218.400</td>\n",
       "      <td>0.166667</td>\n",
       "    </tr>\n",
       "    <tr>\n",
       "      <th>46164</th>\n",
       "      <td>8380087</td>\n",
       "      <td>235.200</td>\n",
       "      <td>201.600</td>\n",
       "      <td>218.400</td>\n",
       "      <td>0.166667</td>\n",
       "    </tr>\n",
       "    <tr>\n",
       "      <th>46165</th>\n",
       "      <td>8380608</td>\n",
       "      <td>331.200</td>\n",
       "      <td>331.200</td>\n",
       "      <td>331.200</td>\n",
       "      <td>0.000000</td>\n",
       "    </tr>\n",
       "  </tbody>\n",
       "</table>\n",
       "<p>46166 rows × 5 columns</p>\n",
       "</div>"
      ],
      "text/plain": [
       "      ID Сайта  Цена со скидками макс  Цена со скидками мин  \\\n",
       "0      1000030               1308.096              1308.096   \n",
       "1      1000181                570.816               570.816   \n",
       "2      1000188                570.528               570.528   \n",
       "3      1000336               2395.296              2395.008   \n",
       "4      1000521               1195.200              1195.200   \n",
       "...        ...                    ...                   ...   \n",
       "46161  8380059               3020.640               345.600   \n",
       "46162  8380065                396.480               339.840   \n",
       "46163  8380085                235.200               201.600   \n",
       "46164  8380087                235.200               201.600   \n",
       "46165  8380608                331.200               331.200   \n",
       "\n",
       "       Цена со скидками медиана  Цена со скидками размах, %  \n",
       "0                      1308.096                    0.000000  \n",
       "1                       570.816                    0.000000  \n",
       "2                       570.528                    0.000000  \n",
       "3                      2395.296                    0.000120  \n",
       "4                      1195.200                    0.000000  \n",
       "...                         ...                         ...  \n",
       "46161                   345.600                    7.740278  \n",
       "46162                   339.840                    0.166667  \n",
       "46163                   218.400                    0.166667  \n",
       "46164                   218.400                    0.166667  \n",
       "46165                   331.200                    0.000000  \n",
       "\n",
       "[46166 rows x 5 columns]"
      ]
     },
     "execution_count": 54,
     "metadata": {},
     "output_type": "execute_result"
    }
   ],
   "source": [
    "price_skidki"
   ]
  },
  {
   "cell_type": "code",
   "execution_count": 55,
   "metadata": {},
   "outputs": [],
   "source": [
    "result = result.merge(price_skidki, how='left', on='ID Сайта')"
   ]
  },
  {
   "cell_type": "code",
   "execution_count": 58,
   "metadata": {},
   "outputs": [],
   "source": [
    "selfprice = df.groupby(by = 'ID Сайта', as_index=False)['Цена Закупки за 1 шт. (упр сс с НДС за единицу)'].agg({'min', 'median', 'max'})\n",
    "selfprice.columns = ['ID Сайта', 'Себестоимость макс', 'Себестоимость мин', 'Себестоимость медиана']\n",
    "selfprice['Себестоимость размах, %'] = (selfprice['Себестоимость макс'] / selfprice['Себестоимость мин'] - 1) "
   ]
  },
  {
   "cell_type": "code",
   "execution_count": 59,
   "metadata": {},
   "outputs": [
    {
     "data": {
      "text/html": [
       "<div>\n",
       "<style scoped>\n",
       "    .dataframe tbody tr th:only-of-type {\n",
       "        vertical-align: middle;\n",
       "    }\n",
       "\n",
       "    .dataframe tbody tr th {\n",
       "        vertical-align: top;\n",
       "    }\n",
       "\n",
       "    .dataframe thead th {\n",
       "        text-align: right;\n",
       "    }\n",
       "</style>\n",
       "<table border=\"1\" class=\"dataframe\">\n",
       "  <thead>\n",
       "    <tr style=\"text-align: right;\">\n",
       "      <th></th>\n",
       "      <th>ID Сайта</th>\n",
       "      <th>Себестоимость макс</th>\n",
       "      <th>Себестоимость мин</th>\n",
       "      <th>Себестоимость медиана</th>\n",
       "      <th>Себестоимость размах, %</th>\n",
       "    </tr>\n",
       "  </thead>\n",
       "  <tbody>\n",
       "    <tr>\n",
       "      <th>0</th>\n",
       "      <td>1000030</td>\n",
       "      <td>1064.66</td>\n",
       "      <td>1011.64</td>\n",
       "      <td>1036.100</td>\n",
       "      <td>0.052410</td>\n",
       "    </tr>\n",
       "    <tr>\n",
       "      <th>1</th>\n",
       "      <td>1000181</td>\n",
       "      <td>380.70</td>\n",
       "      <td>268.20</td>\n",
       "      <td>346.050</td>\n",
       "      <td>0.419463</td>\n",
       "    </tr>\n",
       "    <tr>\n",
       "      <th>2</th>\n",
       "      <td>1000188</td>\n",
       "      <td>410.05</td>\n",
       "      <td>219.58</td>\n",
       "      <td>333.775</td>\n",
       "      <td>0.867429</td>\n",
       "    </tr>\n",
       "    <tr>\n",
       "      <th>3</th>\n",
       "      <td>1000336</td>\n",
       "      <td>1807.00</td>\n",
       "      <td>1495.00</td>\n",
       "      <td>1651.000</td>\n",
       "      <td>0.208696</td>\n",
       "    </tr>\n",
       "    <tr>\n",
       "      <th>4</th>\n",
       "      <td>1000521</td>\n",
       "      <td>1393.00</td>\n",
       "      <td>1393.00</td>\n",
       "      <td>1393.000</td>\n",
       "      <td>0.000000</td>\n",
       "    </tr>\n",
       "    <tr>\n",
       "      <th>...</th>\n",
       "      <td>...</td>\n",
       "      <td>...</td>\n",
       "      <td>...</td>\n",
       "      <td>...</td>\n",
       "      <td>...</td>\n",
       "    </tr>\n",
       "    <tr>\n",
       "      <th>46161</th>\n",
       "      <td>8380059</td>\n",
       "      <td>553.51</td>\n",
       "      <td>542.17</td>\n",
       "      <td>547.000</td>\n",
       "      <td>0.020916</td>\n",
       "    </tr>\n",
       "    <tr>\n",
       "      <th>46162</th>\n",
       "      <td>8380065</td>\n",
       "      <td>529.00</td>\n",
       "      <td>529.00</td>\n",
       "      <td>529.000</td>\n",
       "      <td>0.000000</td>\n",
       "    </tr>\n",
       "    <tr>\n",
       "      <th>46163</th>\n",
       "      <td>8380085</td>\n",
       "      <td>321.77</td>\n",
       "      <td>317.73</td>\n",
       "      <td>319.750</td>\n",
       "      <td>0.012715</td>\n",
       "    </tr>\n",
       "    <tr>\n",
       "      <th>46164</th>\n",
       "      <td>8380087</td>\n",
       "      <td>321.54</td>\n",
       "      <td>320.00</td>\n",
       "      <td>320.770</td>\n",
       "      <td>0.004813</td>\n",
       "    </tr>\n",
       "    <tr>\n",
       "      <th>46165</th>\n",
       "      <td>8380608</td>\n",
       "      <td>182.40</td>\n",
       "      <td>141.57</td>\n",
       "      <td>159.200</td>\n",
       "      <td>0.288409</td>\n",
       "    </tr>\n",
       "  </tbody>\n",
       "</table>\n",
       "<p>46166 rows × 5 columns</p>\n",
       "</div>"
      ],
      "text/plain": [
       "      ID Сайта  Себестоимость макс  Себестоимость мин  Себестоимость медиана  \\\n",
       "0      1000030             1064.66            1011.64               1036.100   \n",
       "1      1000181              380.70             268.20                346.050   \n",
       "2      1000188              410.05             219.58                333.775   \n",
       "3      1000336             1807.00            1495.00               1651.000   \n",
       "4      1000521             1393.00            1393.00               1393.000   \n",
       "...        ...                 ...                ...                    ...   \n",
       "46161  8380059              553.51             542.17                547.000   \n",
       "46162  8380065              529.00             529.00                529.000   \n",
       "46163  8380085              321.77             317.73                319.750   \n",
       "46164  8380087              321.54             320.00                320.770   \n",
       "46165  8380608              182.40             141.57                159.200   \n",
       "\n",
       "       Себестоимость размах, %  \n",
       "0                     0.052410  \n",
       "1                     0.419463  \n",
       "2                     0.867429  \n",
       "3                     0.208696  \n",
       "4                     0.000000  \n",
       "...                        ...  \n",
       "46161                 0.020916  \n",
       "46162                 0.000000  \n",
       "46163                 0.012715  \n",
       "46164                 0.004813  \n",
       "46165                 0.288409  \n",
       "\n",
       "[46166 rows x 5 columns]"
      ]
     },
     "execution_count": 59,
     "metadata": {},
     "output_type": "execute_result"
    }
   ],
   "source": [
    "selfprice"
   ]
  },
  {
   "cell_type": "code",
   "execution_count": 60,
   "metadata": {},
   "outputs": [],
   "source": [
    "result = result.merge(selfprice, how='left', on='ID Сайта')"
   ]
  },
  {
   "cell_type": "code",
   "execution_count": 61,
   "metadata": {},
   "outputs": [],
   "source": [
    "df['Наценка'] = df['Цена со скидками'] / df['Цена Закупки за 1 шт. (упр сс с НДС за единицу)'] - 1"
   ]
  },
  {
   "cell_type": "code",
   "execution_count": 64,
   "metadata": {},
   "outputs": [],
   "source": [
    "markup = df.groupby(by = 'ID Сайта', as_index=False)['Наценка'].agg({'min', 'median', 'max'})\n",
    "markup.columns = ['ID Сайта', 'Наценка макс', 'Наценка мин', 'Наценка медиана']"
   ]
  },
  {
   "cell_type": "code",
   "execution_count": 65,
   "metadata": {},
   "outputs": [
    {
     "data": {
      "text/html": [
       "<div>\n",
       "<style scoped>\n",
       "    .dataframe tbody tr th:only-of-type {\n",
       "        vertical-align: middle;\n",
       "    }\n",
       "\n",
       "    .dataframe tbody tr th {\n",
       "        vertical-align: top;\n",
       "    }\n",
       "\n",
       "    .dataframe thead th {\n",
       "        text-align: right;\n",
       "    }\n",
       "</style>\n",
       "<table border=\"1\" class=\"dataframe\">\n",
       "  <thead>\n",
       "    <tr style=\"text-align: right;\">\n",
       "      <th></th>\n",
       "      <th>ID Сайта</th>\n",
       "      <th>Наценка макс</th>\n",
       "      <th>Наценка мин</th>\n",
       "      <th>Наценка медиана</th>\n",
       "    </tr>\n",
       "  </thead>\n",
       "  <tbody>\n",
       "    <tr>\n",
       "      <th>0</th>\n",
       "      <td>1000030</td>\n",
       "      <td>0.293045</td>\n",
       "      <td>0.228651</td>\n",
       "      <td>0.262519</td>\n",
       "    </tr>\n",
       "    <tr>\n",
       "      <th>1</th>\n",
       "      <td>1000181</td>\n",
       "      <td>1.128322</td>\n",
       "      <td>0.499385</td>\n",
       "      <td>0.649522</td>\n",
       "    </tr>\n",
       "    <tr>\n",
       "      <th>2</th>\n",
       "      <td>1000188</td>\n",
       "      <td>1.598269</td>\n",
       "      <td>0.391362</td>\n",
       "      <td>0.709320</td>\n",
       "    </tr>\n",
       "    <tr>\n",
       "      <th>3</th>\n",
       "      <td>1000336</td>\n",
       "      <td>0.602205</td>\n",
       "      <td>0.325565</td>\n",
       "      <td>0.450830</td>\n",
       "    </tr>\n",
       "    <tr>\n",
       "      <th>4</th>\n",
       "      <td>1000521</td>\n",
       "      <td>-0.141996</td>\n",
       "      <td>-0.141996</td>\n",
       "      <td>-0.141996</td>\n",
       "    </tr>\n",
       "    <tr>\n",
       "      <th>...</th>\n",
       "      <td>...</td>\n",
       "      <td>...</td>\n",
       "      <td>...</td>\n",
       "      <td>...</td>\n",
       "    </tr>\n",
       "    <tr>\n",
       "      <th>46161</th>\n",
       "      <td>8380059</td>\n",
       "      <td>4.504082</td>\n",
       "      <td>-0.370262</td>\n",
       "      <td>-0.366388</td>\n",
       "    </tr>\n",
       "    <tr>\n",
       "      <th>46162</th>\n",
       "      <td>8380065</td>\n",
       "      <td>-0.250510</td>\n",
       "      <td>-0.357580</td>\n",
       "      <td>-0.357580</td>\n",
       "    </tr>\n",
       "    <tr>\n",
       "      <th>46163</th>\n",
       "      <td>8380085</td>\n",
       "      <td>-0.259749</td>\n",
       "      <td>-0.373466</td>\n",
       "      <td>-0.316607</td>\n",
       "    </tr>\n",
       "    <tr>\n",
       "      <th>46164</th>\n",
       "      <td>8380087</td>\n",
       "      <td>-0.268520</td>\n",
       "      <td>-0.370000</td>\n",
       "      <td>-0.319260</td>\n",
       "    </tr>\n",
       "    <tr>\n",
       "      <th>46165</th>\n",
       "      <td>8380608</td>\n",
       "      <td>1.339479</td>\n",
       "      <td>0.815789</td>\n",
       "      <td>1.080402</td>\n",
       "    </tr>\n",
       "  </tbody>\n",
       "</table>\n",
       "<p>46166 rows × 4 columns</p>\n",
       "</div>"
      ],
      "text/plain": [
       "      ID Сайта  Наценка макс  Наценка мин  Наценка медиана\n",
       "0      1000030      0.293045     0.228651         0.262519\n",
       "1      1000181      1.128322     0.499385         0.649522\n",
       "2      1000188      1.598269     0.391362         0.709320\n",
       "3      1000336      0.602205     0.325565         0.450830\n",
       "4      1000521     -0.141996    -0.141996        -0.141996\n",
       "...        ...           ...          ...              ...\n",
       "46161  8380059      4.504082    -0.370262        -0.366388\n",
       "46162  8380065     -0.250510    -0.357580        -0.357580\n",
       "46163  8380085     -0.259749    -0.373466        -0.316607\n",
       "46164  8380087     -0.268520    -0.370000        -0.319260\n",
       "46165  8380608      1.339479     0.815789         1.080402\n",
       "\n",
       "[46166 rows x 4 columns]"
      ]
     },
     "execution_count": 65,
     "metadata": {},
     "output_type": "execute_result"
    }
   ],
   "source": [
    "markup"
   ]
  },
  {
   "cell_type": "code",
   "execution_count": 66,
   "metadata": {},
   "outputs": [],
   "source": [
    "result = result.merge(markup, how='left', on='ID Сайта')"
   ]
  },
  {
   "cell_type": "code",
   "execution_count": 67,
   "metadata": {},
   "outputs": [],
   "source": [
    "zapret['Артикул сайта'] = zapret['Артикул сайта'].astype(str)"
   ]
  },
  {
   "cell_type": "code",
   "execution_count": 68,
   "metadata": {},
   "outputs": [],
   "source": [
    "zapret = zapret['Артикул сайта'].tolist()"
   ]
  },
  {
   "cell_type": "code",
   "execution_count": 69,
   "metadata": {},
   "outputs": [],
   "source": [
    "result['Запрет к размещению'] = np.nan\n",
    "for i in result.index:\n",
    "    if result['ID Сайта'][i] in zapret:\n",
    "        result['Запрет к размещению'][i] = True\n",
    "    else:\n",
    "        result['Запрет к размещению'][i] = False"
   ]
  },
  {
   "cell_type": "code",
   "execution_count": 70,
   "metadata": {},
   "outputs": [],
   "source": [
    "ecom = pd.read_excel(r'\\\\gold585.int\\uk\\Общее хранилище файлов\\Служба аналитики\\МЮР\\ecom_stock_raw\\Остатки 2024.06.19.xlsx')"
   ]
  },
  {
   "cell_type": "code",
   "execution_count": 71,
   "metadata": {},
   "outputs": [],
   "source": [
    "path = r'\\\\gold585.int\\uk\\Общее хранилище файлов\\Служба аналитики\\Тренкин Сергей\\discounts_zolotoy\\\\'\n",
    "list_of_files = glob.glob(path + '\\*.xlsx') \n",
    "latest_file = max(list_of_files, key=os.path.getctime)\n",
    "\n",
    "discount_ecom = pd.read_excel(latest_file)"
   ]
  },
  {
   "cell_type": "code",
   "execution_count": 72,
   "metadata": {},
   "outputs": [],
   "source": [
    "discount_ecom.columns = ['article', 'Опубликован', 'discount_value_promotions_1', 'discount_value_promotions_2', 'discount_value_promotions_3', 'discount_value_promotions_4']"
   ]
  },
  {
   "cell_type": "code",
   "execution_count": 73,
   "metadata": {},
   "outputs": [],
   "source": [
    "discount_ecom = discount_ecom.drop(columns=['discount_value_promotions_2', 'discount_value_promotions_3', 'discount_value_promotions_4'])"
   ]
  },
  {
   "cell_type": "code",
   "execution_count": 74,
   "metadata": {},
   "outputs": [],
   "source": [
    "ecom = ecom.merge(discount_ecom, how='left', on='article')"
   ]
  },
  {
   "cell_type": "code",
   "execution_count": 75,
   "metadata": {},
   "outputs": [],
   "source": [
    "def discount_index(discount):\n",
    "    try:\n",
    "        return 1 - discount / 100\n",
    "    except:\n",
    "        return 1"
   ]
  },
  {
   "cell_type": "code",
   "execution_count": 76,
   "metadata": {},
   "outputs": [],
   "source": [
    "ecom.discount_value_promotions_1 = ecom.discount_value_promotions_1.apply(discount_index)"
   ]
  },
  {
   "cell_type": "code",
   "execution_count": 77,
   "metadata": {},
   "outputs": [],
   "source": [
    "ecom['Цена со скидками Ecom'] = np.where(\n",
    "    (ecom['price'] == ecom['discount_price']) & (ecom['discount_value_promotions_1'] == 1), ecom['discount_price'] * ecom['discount_value_promotions_1'], \n",
    "    np.where(\n",
    "        ecom['discount_value_promotions_1'] == 0.5, ecom['discount_price'] * ecom['discount_value_promotions_1'], ecom['discount_price'] * ecom['discount_value_promotions_1'] * 0.8\n",
    "    )\n",
    ")"
   ]
  },
  {
   "cell_type": "code",
   "execution_count": 78,
   "metadata": {},
   "outputs": [],
   "source": [
    "ecom['article'] = ecom['article'].astype(str)\n",
    "ecom = ecom[['article', 'size', 'Цена со скидками Ecom']]"
   ]
  },
  {
   "cell_type": "code",
   "execution_count": 79,
   "metadata": {},
   "outputs": [],
   "source": [
    "ecom = ecom.query('article in @tovs')"
   ]
  },
  {
   "cell_type": "code",
   "execution_count": 80,
   "metadata": {},
   "outputs": [],
   "source": [
    "ecom.columns = ['ID Сайта', 'size', 'Цена со скидками Ecom']"
   ]
  },
  {
   "cell_type": "code",
   "execution_count": 81,
   "metadata": {},
   "outputs": [],
   "source": [
    "result = result[result['ID Сайта'] != '']"
   ]
  },
  {
   "cell_type": "code",
   "execution_count": 82,
   "metadata": {},
   "outputs": [],
   "source": [
    "result['ID Сайта'] = result['ID Сайта'].astype(int).astype(str)\n",
    "result['Размер изделия'] = result['Размер изделия'].astype(str)"
   ]
  },
  {
   "cell_type": "code",
   "execution_count": 83,
   "metadata": {},
   "outputs": [],
   "source": [
    "ecom['size'] = ecom['size'].fillna(0.0)\n",
    "ecom['size'] = ecom['size'].astype(str)"
   ]
  },
  {
   "cell_type": "code",
   "execution_count": 84,
   "metadata": {},
   "outputs": [],
   "source": [
    "ecom['merge'] = ecom['ID Сайта'] + ecom['size']"
   ]
  },
  {
   "cell_type": "code",
   "execution_count": 85,
   "metadata": {},
   "outputs": [],
   "source": [
    "result['merge'] = result['ID Сайта'] + result['Размер изделия']"
   ]
  },
  {
   "cell_type": "code",
   "execution_count": 86,
   "metadata": {},
   "outputs": [],
   "source": [
    "ecom = ecom.drop(columns=['ID Сайта', 'size'])"
   ]
  },
  {
   "cell_type": "code",
   "execution_count": 87,
   "metadata": {},
   "outputs": [],
   "source": [
    "result = result.merge(ecom, how='outer', on='merge')"
   ]
  },
  {
   "cell_type": "code",
   "execution_count": 88,
   "metadata": {},
   "outputs": [],
   "source": [
    "result = result.drop(columns=['merge'])"
   ]
  },
  {
   "cell_type": "code",
   "execution_count": 89,
   "metadata": {},
   "outputs": [],
   "source": [
    "result = result.dropna(subset=['ID Сайта'])"
   ]
  },
  {
   "cell_type": "code",
   "execution_count": 90,
   "metadata": {},
   "outputs": [],
   "source": [
    "df['Сумма в себестоимости на остатках'] = df['Остаток'] * df['Цена Закупки за 1 шт. (упр сс с НДС за единицу)']"
   ]
  },
  {
   "cell_type": "code",
   "execution_count": 91,
   "metadata": {},
   "outputs": [],
   "source": [
    "summa_ost = df.groupby(by ='ID Сайта', as_index=False)['Сумма в себестоимости на остатках'].sum()"
   ]
  },
  {
   "cell_type": "code",
   "execution_count": 92,
   "metadata": {},
   "outputs": [],
   "source": [
    "result = result.merge(summa_ost, how='left', on='ID Сайта')"
   ]
  },
  {
   "cell_type": "code",
   "execution_count": 93,
   "metadata": {},
   "outputs": [],
   "source": [
    "df['Цена за грамм'] = df['Цена со скидками'] / df['Чистый вес']"
   ]
  },
  {
   "cell_type": "code",
   "execution_count": 94,
   "metadata": {},
   "outputs": [],
   "source": [
    "price_per_gramm = df.groupby(by = 'ID Сайта', as_index=False)['Цена за грамм'].agg({'min', 'median', 'max'})\n",
    "price_per_gramm.columns = ['ID Сайта', 'Цена за грамм макс', 'Цена за грамм мин', 'Цена за грамм медиана']"
   ]
  },
  {
   "cell_type": "code",
   "execution_count": 95,
   "metadata": {},
   "outputs": [
    {
     "data": {
      "text/html": [
       "<div>\n",
       "<style scoped>\n",
       "    .dataframe tbody tr th:only-of-type {\n",
       "        vertical-align: middle;\n",
       "    }\n",
       "\n",
       "    .dataframe tbody tr th {\n",
       "        vertical-align: top;\n",
       "    }\n",
       "\n",
       "    .dataframe thead th {\n",
       "        text-align: right;\n",
       "    }\n",
       "</style>\n",
       "<table border=\"1\" class=\"dataframe\">\n",
       "  <thead>\n",
       "    <tr style=\"text-align: right;\">\n",
       "      <th></th>\n",
       "      <th>ID Сайта</th>\n",
       "      <th>Цена за грамм макс</th>\n",
       "      <th>Цена за грамм мин</th>\n",
       "      <th>Цена за грамм медиана</th>\n",
       "    </tr>\n",
       "  </thead>\n",
       "  <tbody>\n",
       "    <tr>\n",
       "      <th>0</th>\n",
       "      <td>1000030</td>\n",
       "      <td>608.699860</td>\n",
       "      <td>573.726316</td>\n",
       "      <td>591.898643</td>\n",
       "    </tr>\n",
       "    <tr>\n",
       "      <th>1</th>\n",
       "      <td>1000181</td>\n",
       "      <td>191.484737</td>\n",
       "      <td>134.944681</td>\n",
       "      <td>148.437698</td>\n",
       "    </tr>\n",
       "    <tr>\n",
       "      <th>2</th>\n",
       "      <td>1000188</td>\n",
       "      <td>498.277729</td>\n",
       "      <td>385.491892</td>\n",
       "      <td>451.367089</td>\n",
       "    </tr>\n",
       "    <tr>\n",
       "      <th>3</th>\n",
       "      <td>1000336</td>\n",
       "      <td>416.500782</td>\n",
       "      <td>344.597324</td>\n",
       "      <td>377.125429</td>\n",
       "    </tr>\n",
       "    <tr>\n",
       "      <th>4</th>\n",
       "      <td>1000521</td>\n",
       "      <td>323.027027</td>\n",
       "      <td>323.027027</td>\n",
       "      <td>323.027027</td>\n",
       "    </tr>\n",
       "    <tr>\n",
       "      <th>...</th>\n",
       "      <td>...</td>\n",
       "      <td>...</td>\n",
       "      <td>...</td>\n",
       "      <td>...</td>\n",
       "    </tr>\n",
       "    <tr>\n",
       "      <th>46161</th>\n",
       "      <td>8380059</td>\n",
       "      <td>1059.873684</td>\n",
       "      <td>119.172414</td>\n",
       "      <td>122.120141</td>\n",
       "    </tr>\n",
       "    <tr>\n",
       "      <th>46162</th>\n",
       "      <td>8380065</td>\n",
       "      <td>138.146341</td>\n",
       "      <td>118.000000</td>\n",
       "      <td>118.411150</td>\n",
       "    </tr>\n",
       "    <tr>\n",
       "      <th>46163</th>\n",
       "      <td>8380085</td>\n",
       "      <td>99.661017</td>\n",
       "      <td>84.351464</td>\n",
       "      <td>92.006241</td>\n",
       "    </tr>\n",
       "    <tr>\n",
       "      <th>46164</th>\n",
       "      <td>8380087</td>\n",
       "      <td>99.240506</td>\n",
       "      <td>85.423729</td>\n",
       "      <td>92.332118</td>\n",
       "    </tr>\n",
       "    <tr>\n",
       "      <th>46165</th>\n",
       "      <td>8380608</td>\n",
       "      <td>441.600000</td>\n",
       "      <td>345.000000</td>\n",
       "      <td>420.318072</td>\n",
       "    </tr>\n",
       "  </tbody>\n",
       "</table>\n",
       "<p>46166 rows × 4 columns</p>\n",
       "</div>"
      ],
      "text/plain": [
       "      ID Сайта  Цена за грамм макс  Цена за грамм мин  Цена за грамм медиана\n",
       "0      1000030          608.699860         573.726316             591.898643\n",
       "1      1000181          191.484737         134.944681             148.437698\n",
       "2      1000188          498.277729         385.491892             451.367089\n",
       "3      1000336          416.500782         344.597324             377.125429\n",
       "4      1000521          323.027027         323.027027             323.027027\n",
       "...        ...                 ...                ...                    ...\n",
       "46161  8380059         1059.873684         119.172414             122.120141\n",
       "46162  8380065          138.146341         118.000000             118.411150\n",
       "46163  8380085           99.661017          84.351464              92.006241\n",
       "46164  8380087           99.240506          85.423729              92.332118\n",
       "46165  8380608          441.600000         345.000000             420.318072\n",
       "\n",
       "[46166 rows x 4 columns]"
      ]
     },
     "execution_count": 95,
     "metadata": {},
     "output_type": "execute_result"
    }
   ],
   "source": [
    "price_per_gramm"
   ]
  },
  {
   "cell_type": "code",
   "execution_count": 96,
   "metadata": {},
   "outputs": [
    {
     "data": {
      "text/plain": [
       "Себестоимость размах, %\n",
       "0.000000    12363\n",
       "0.062500       42\n",
       "0.111111       31\n",
       "0.333333       31\n",
       "0.058824       28\n",
       "            ...  \n",
       "0.349747        1\n",
       "0.520000        1\n",
       "0.167173        1\n",
       "0.624491        1\n",
       "0.018265        1\n",
       "Name: count, Length: 29639, dtype: int64"
      ]
     },
     "execution_count": 96,
     "metadata": {},
     "output_type": "execute_result"
    }
   ],
   "source": [
    "result['Себестоимость размах, %'].value_counts()"
   ]
  },
  {
   "cell_type": "code",
   "execution_count": 97,
   "metadata": {},
   "outputs": [],
   "source": [
    "result = result.merge(price_per_gramm, how='left', on='ID Сайта')"
   ]
  },
  {
   "cell_type": "code",
   "execution_count": 98,
   "metadata": {},
   "outputs": [],
   "source": [
    "result.to_csv('result.csv', index=False)"
   ]
  },
  {
   "cell_type": "code",
   "execution_count": 99,
   "metadata": {},
   "outputs": [],
   "source": [
    "zapret_sk = df.groupby(by = 'ID Сайта', as_index=False)['Запрет скидки'].count()"
   ]
  },
  {
   "cell_type": "code",
   "execution_count": 100,
   "metadata": {},
   "outputs": [],
   "source": [
    "yes = df[df['Запрет скидки'] == 'Да']\n",
    "no = df[df['Запрет скидки'] == 'Нет']"
   ]
  },
  {
   "cell_type": "code",
   "execution_count": 101,
   "metadata": {},
   "outputs": [],
   "source": [
    "yes = yes.groupby(by = 'ID Сайта', as_index=False)['Запрет скидки'].count()\n",
    "no = no.groupby(by = 'ID Сайта', as_index=False)['Запрет скидки'].count()"
   ]
  },
  {
   "cell_type": "code",
   "execution_count": 102,
   "metadata": {},
   "outputs": [],
   "source": [
    "yes.columns = ['ID Сайта', 'Количество с запрещенной скидкой']"
   ]
  },
  {
   "cell_type": "code",
   "execution_count": 103,
   "metadata": {},
   "outputs": [],
   "source": [
    "no.columns = ['ID Сайта', 'Количество с разрешенной скидкой']"
   ]
  },
  {
   "cell_type": "code",
   "execution_count": 104,
   "metadata": {},
   "outputs": [],
   "source": [
    "yes = yes.merge(no, how='outer', on='ID Сайта')"
   ]
  },
  {
   "cell_type": "code",
   "execution_count": 105,
   "metadata": {},
   "outputs": [],
   "source": [
    "result = result.merge(yes, how='left', on='ID Сайта')"
   ]
  },
  {
   "cell_type": "code",
   "execution_count": 106,
   "metadata": {},
   "outputs": [],
   "source": [
    "result = result.drop_duplicates(subset=['ID Сайта'])"
   ]
  },
  {
   "cell_type": "code",
   "execution_count": 107,
   "metadata": {},
   "outputs": [],
   "source": [
    "df['Дата закупки'] = pd.to_datetime(df['Дата закупки'], dayfirst=True, format='mixed')"
   ]
  },
  {
   "cell_type": "code",
   "execution_count": 108,
   "metadata": {},
   "outputs": [],
   "source": [
    "df['Старая закупка (до 31.12.2022)'] = np.where(\n",
    "    df['Дата закупки'] <= pd.to_datetime('2022-12-31', dayfirst=True, format='mixed'), 1, 0\n",
    ")"
   ]
  },
  {
   "cell_type": "code",
   "execution_count": 109,
   "metadata": {},
   "outputs": [],
   "source": [
    "df['Новая закупка (с 01.01.2023)'] = np.where(\n",
    "    df['Дата закупки'] >= pd.to_datetime('2023-01-01', dayfirst=True, format='mixed'), 1, 0\n",
    ")"
   ]
  },
  {
   "cell_type": "code",
   "execution_count": 110,
   "metadata": {},
   "outputs": [],
   "source": [
    "data = df.groupby(by = 'ID Сайта', as_index=False)[['Старая закупка (до 31.12.2022)', 'Новая закупка (с 01.01.2023)']].sum()"
   ]
  },
  {
   "cell_type": "code",
   "execution_count": 111,
   "metadata": {},
   "outputs": [],
   "source": [
    "data['Дата закупки'] = np.where(\n",
    "    (data['Новая закупка (с 01.01.2023)'] > 0) & (data['Старая закупка (до 31.12.2022)'] > 0), 'Старые и новые',\n",
    "    np.where(\n",
    "        (data['Новая закупка (с 01.01.2023)'] > 0) & (data['Старая закупка (до 31.12.2022)'] == 0), 'Новые', \n",
    "        np.where(\n",
    "            (data['Новая закупка (с 01.01.2023)'] == 0) & (data['Старая закупка (до 31.12.2022)'] > 0), 'Старые', 'Старые'\n",
    "        )\n",
    "    )\n",
    ")"
   ]
  },
  {
   "cell_type": "code",
   "execution_count": 112,
   "metadata": {},
   "outputs": [],
   "source": [
    "data = data.drop(columns=['Старая закупка (до 31.12.2022)', 'Новая закупка (с 01.01.2023)'])"
   ]
  },
  {
   "cell_type": "code",
   "execution_count": 113,
   "metadata": {},
   "outputs": [],
   "source": [
    "result = result.merge(data, how='left', on='ID Сайта')"
   ]
  },
  {
   "cell_type": "code",
   "execution_count": 114,
   "metadata": {},
   "outputs": [],
   "source": [
    "result = result.drop(columns=['Дата закупки_x'])"
   ]
  },
  {
   "cell_type": "code",
   "execution_count": 115,
   "metadata": {},
   "outputs": [
    {
     "data": {
      "text/plain": [
       "Index(['Код склада', 'Код товара', 'Артикул поставщика', 'Внутренний артикул',\n",
       "       'ID Сайта', 'Товарное направление', 'Товарная группа',\n",
       "       'Товарный кластер', 'Проба', 'Размер изделия', 'Тип изделия 1',\n",
       "       'Тип изделия 2', 'Тип изделия 3', 'Дизайн', 'Бренд',\n",
       "       'Гендерный признак', 'Ценовая корзина', 'Группа цен',\n",
       "       'Цена Розн., за шт', 'Чистый вес', 'Цена изделия на бирке',\n",
       "       'Скидка на изделии', 'Запрет скидки',\n",
       "       'Цена Закупки за 1 шт. (упр сс с НДС за единицу)', 'Опубликован',\n",
       "       'Ссылка на изображение', 'Остаток', 'Количество продаж 14.03-19.06',\n",
       "       'Сумма продаж 14.03-19.06', 'Чистый вес макс', 'Чистый вес мин',\n",
       "       'Чистый вес медиана', 'Чистый вес размах, %',\n",
       "       'Цена изделия на бирке макс', 'Цена изделия на бирке мин',\n",
       "       'Цена изделия на бирке медиана', 'Базовая скидка макс',\n",
       "       'Базовая скидка мин', 'Цена со скидками макс', 'Цена со скидками мин',\n",
       "       'Цена со скидками медиана', 'Цена со скидками размах, %',\n",
       "       'Себестоимость макс', 'Себестоимость мин', 'Себестоимость медиана',\n",
       "       'Себестоимость размах, %', 'Наценка макс', 'Наценка мин',\n",
       "       'Наценка медиана', 'Запрет к размещению', 'Цена со скидками Ecom',\n",
       "       'Сумма в себестоимости на остатках', 'Цена за грамм макс',\n",
       "       'Цена за грамм мин', 'Цена за грамм медиана',\n",
       "       'Количество с запрещенной скидкой', 'Количество с разрешенной скидкой',\n",
       "       'Дата закупки_y'],\n",
       "      dtype='object')"
      ]
     },
     "execution_count": 115,
     "metadata": {},
     "output_type": "execute_result"
    }
   ],
   "source": [
    "result.columns"
   ]
  },
  {
   "cell_type": "code",
   "execution_count": 116,
   "metadata": {},
   "outputs": [
    {
     "ename": "NameError",
     "evalue": "name 'dsfdsfsd' is not defined",
     "output_type": "error",
     "traceback": [
      "\u001b[1;31m---------------------------------------------------------------------------\u001b[0m",
      "\u001b[1;31mNameError\u001b[0m                                 Traceback (most recent call last)",
      "Cell \u001b[1;32mIn[116], line 1\u001b[0m\n\u001b[1;32m----> 1\u001b[0m \u001b[43mdsfdsfsd\u001b[49m\n",
      "\u001b[1;31mNameError\u001b[0m: name 'dsfdsfsd' is not defined"
     ]
    }
   ],
   "source": [
    "dsfdsfsd"
   ]
  },
  {
   "cell_type": "code",
   "execution_count": 117,
   "metadata": {},
   "outputs": [],
   "source": [
    "result.columns = ['Код склада', 'Код товара', 'Артикул поставщика', 'Внутренний артикул',\n",
    "    'ID Сайта', 'Товарное направление', 'Товарная группа',\n",
    "    'Товарный кластер', 'Проба', 'Размер изделия', 'Тип изделия 1',\n",
    "    'Тип изделия 2', 'Тип изделия 3', 'Дизайн', 'Бренд',\n",
    "    'Гендерный признак', 'Ценовая корзина', 'Группа цен',\n",
    "    'Цена Розн., за шт', 'Чистый вес', 'Цена изделия на бирке',\n",
    "    'Скидка на изделии', 'Запрет скидки',\n",
    "    'Цена Закупки за 1 шт. (упр сс с НДС за единицу)', 'Опубликован',\n",
    "    'Ссылка на изображение', 'Остаток', 'Количество продаж 14.03-19.06',\n",
    "    'Сумма продаж 14.03-19.06', 'Чистый вес макс', 'Чистый вес мин',\n",
    "    'Чистый вес медиана', 'Чистый вес размах, %',\n",
    "    'Цена изделия на бирке макс', 'Цена изделия на бирке мин',\n",
    "    'Цена изделия на бирке медиана', 'Базовая скидка макс',\n",
    "    'Базовая скидка мин', 'Цена со скидками макс', 'Цена со скидками мин',\n",
    "    'Цена со скидками медиана', 'Цена со скидками размах, %',\n",
    "    'Себестоимость макс', 'Себестоимость мин', 'Себестоимость медиана',\n",
    "    'Себестоимость размах, %', 'Наценка макс', 'Наценка мин',\n",
    "    'Наценка медиана', 'Запрет к размещению', 'Цена со скидками Ecom',\n",
    "    'Сумма в себестоимости на остатках', 'Цена за грамм макс',\n",
    "    'Цена за грамм мин', 'Цена за грамм медиана',\n",
    "    'Количество с запрещенной скидкой', 'Количество с разрешенной скидкой',\n",
    "    'Дата закупки']"
   ]
  },
  {
   "cell_type": "code",
   "execution_count": 118,
   "metadata": {},
   "outputs": [
    {
     "data": {
      "text/html": [
       "<div>\n",
       "<style scoped>\n",
       "    .dataframe tbody tr th:only-of-type {\n",
       "        vertical-align: middle;\n",
       "    }\n",
       "\n",
       "    .dataframe tbody tr th {\n",
       "        vertical-align: top;\n",
       "    }\n",
       "\n",
       "    .dataframe thead th {\n",
       "        text-align: right;\n",
       "    }\n",
       "</style>\n",
       "<table border=\"1\" class=\"dataframe\">\n",
       "  <thead>\n",
       "    <tr style=\"text-align: right;\">\n",
       "      <th></th>\n",
       "      <th>Чистый вес размах, %</th>\n",
       "    </tr>\n",
       "  </thead>\n",
       "  <tbody>\n",
       "    <tr>\n",
       "      <th>0</th>\n",
       "      <td>0.693767</td>\n",
       "    </tr>\n",
       "    <tr>\n",
       "      <th>1</th>\n",
       "      <td>0.671159</td>\n",
       "    </tr>\n",
       "    <tr>\n",
       "      <th>2</th>\n",
       "      <td>0.729958</td>\n",
       "    </tr>\n",
       "    <tr>\n",
       "      <th>3</th>\n",
       "      <td>0.617122</td>\n",
       "    </tr>\n",
       "    <tr>\n",
       "      <th>4</th>\n",
       "      <td>0.971477</td>\n",
       "    </tr>\n",
       "    <tr>\n",
       "      <th>...</th>\n",
       "      <td>...</td>\n",
       "    </tr>\n",
       "    <tr>\n",
       "      <th>46161</th>\n",
       "      <td>0.000000</td>\n",
       "    </tr>\n",
       "    <tr>\n",
       "      <th>46162</th>\n",
       "      <td>0.000000</td>\n",
       "    </tr>\n",
       "    <tr>\n",
       "      <th>46163</th>\n",
       "      <td>0.000000</td>\n",
       "    </tr>\n",
       "    <tr>\n",
       "      <th>46164</th>\n",
       "      <td>0.000000</td>\n",
       "    </tr>\n",
       "    <tr>\n",
       "      <th>46165</th>\n",
       "      <td>0.000000</td>\n",
       "    </tr>\n",
       "  </tbody>\n",
       "</table>\n",
       "<p>46166 rows × 1 columns</p>\n",
       "</div>"
      ],
      "text/plain": [
       "       Чистый вес размах, %\n",
       "0                  0.693767\n",
       "1                  0.671159\n",
       "2                  0.729958\n",
       "3                  0.617122\n",
       "4                  0.971477\n",
       "...                     ...\n",
       "46161              0.000000\n",
       "46162              0.000000\n",
       "46163              0.000000\n",
       "46164              0.000000\n",
       "46165              0.000000\n",
       "\n",
       "[46166 rows x 1 columns]"
      ]
     },
     "execution_count": 118,
     "metadata": {},
     "output_type": "execute_result"
    }
   ],
   "source": [
    "result[['Чистый вес размах, %']]"
   ]
  },
  {
   "cell_type": "code",
   "execution_count": 120,
   "metadata": {},
   "outputs": [],
   "source": [
    "result['Размах по весу'] = np.where(\n",
    "    result['Чистый вес размах, %'] >= 0.3, '3. Большой размах (>30%)',\n",
    "    np.where(\n",
    "        result['Чистый вес размах, %'] >= 0.1, '2. Средний размах (10-30%)', '1. Небольшой размах (<10%)'\n",
    "    )\n",
    ")"
   ]
  },
  {
   "cell_type": "code",
   "execution_count": 121,
   "metadata": {},
   "outputs": [],
   "source": [
    "result['Размах по себестоимости'] = np.where(\n",
    "    result['Себестоимость размах, %'] >= 0.5, '3. Большой размах (>50%)',\n",
    "    np.where(\n",
    "        result['Себестоимость размах, %'] >= 0.2, '2. Средний размах (20-50%)', '1. Небольшой размах (<10%)'\n",
    "    )\n",
    ")"
   ]
  },
  {
   "cell_type": "code",
   "execution_count": 122,
   "metadata": {},
   "outputs": [],
   "source": [
    "result['Размах по цене со скидками'] = np.where(\n",
    "    result['Цена со скидками размах, %'] >= 0.5, '3. Большой размах (>50%)',\n",
    "    np.where(\n",
    "        result['Цена со скидками размах, %'] >= 0.2, '2. Средний размах (20-50%)', '1. Небольшой размах (<10%)'\n",
    "    )\n",
    ")"
   ]
  },
  {
   "cell_type": "code",
   "execution_count": 123,
   "metadata": {},
   "outputs": [],
   "source": [
    "result['Цена за грамм размах, %'] = (result['Цена за грамм макс'] / result['Цена за грамм мин'] - 1) "
   ]
  },
  {
   "cell_type": "code",
   "execution_count": 124,
   "metadata": {},
   "outputs": [],
   "source": [
    "result['Размах по цене за грамм'] = np.where(\n",
    "    result['Цена за грамм размах, %'] >= 0.3, '3. Большой размах (>30%)',\n",
    "    np.where(\n",
    "        result['Цена за грамм размах, %'] >= 0.1, '2. Средний размах (10-30%)', '1. Небольшой размах (<10%)'\n",
    "    )\n",
    ")"
   ]
  },
  {
   "cell_type": "code",
   "execution_count": 125,
   "metadata": {},
   "outputs": [],
   "source": [
    "result['Скидка разрешена'] = result['Количество с запрещенной скидкой'] + result['Количество с разрешенной скидкой']"
   ]
  },
  {
   "cell_type": "code",
   "execution_count": 126,
   "metadata": {},
   "outputs": [],
   "source": [
    "result['Скидка разрешена'] = np.where(\n",
    "    result['Скидка разрешена'].astype(str).str.contains('nan'), 'Да или нет', 'Да и нет'\n",
    ")"
   ]
  },
  {
   "cell_type": "code",
   "execution_count": 127,
   "metadata": {},
   "outputs": [
    {
     "data": {
      "text/plain": [
       "Index(['Код склада', 'Код товара', 'Артикул поставщика', 'Внутренний артикул',\n",
       "       'ID Сайта', 'Товарное направление', 'Товарная группа',\n",
       "       'Товарный кластер', 'Проба', 'Размер изделия', 'Тип изделия 1',\n",
       "       'Тип изделия 2', 'Тип изделия 3', 'Дизайн', 'Бренд',\n",
       "       'Гендерный признак', 'Ценовая корзина', 'Группа цен',\n",
       "       'Цена Розн., за шт', 'Чистый вес', 'Цена изделия на бирке',\n",
       "       'Скидка на изделии', 'Запрет скидки',\n",
       "       'Цена Закупки за 1 шт. (упр сс с НДС за единицу)', 'Опубликован',\n",
       "       'Ссылка на изображение', 'Остаток', 'Количество продаж 14.03-19.06',\n",
       "       'Сумма продаж 14.03-19.06', 'Чистый вес макс', 'Чистый вес мин',\n",
       "       'Чистый вес медиана', 'Чистый вес размах, %',\n",
       "       'Цена изделия на бирке макс', 'Цена изделия на бирке мин',\n",
       "       'Цена изделия на бирке медиана', 'Базовая скидка макс',\n",
       "       'Базовая скидка мин', 'Цена со скидками макс', 'Цена со скидками мин',\n",
       "       'Цена со скидками медиана', 'Цена со скидками размах, %',\n",
       "       'Себестоимость макс', 'Себестоимость мин', 'Себестоимость медиана',\n",
       "       'Себестоимость размах, %', 'Наценка макс', 'Наценка мин',\n",
       "       'Наценка медиана', 'Запрет к размещению', 'Цена со скидками Ecom',\n",
       "       'Сумма в себестоимости на остатках', 'Цена за грамм макс',\n",
       "       'Цена за грамм мин', 'Цена за грамм медиана',\n",
       "       'Количество с запрещенной скидкой', 'Количество с разрешенной скидкой',\n",
       "       'Дата закупки', 'Размах по весу', 'Размах по себестоимости',\n",
       "       'Размах по цене со скидками', 'Цена за грамм размах, %',\n",
       "       'Размах по цене за грамм', 'Скидка разрешена'],\n",
       "      dtype='object')"
      ]
     },
     "execution_count": 127,
     "metadata": {},
     "output_type": "execute_result"
    }
   ],
   "source": [
    "result.columns"
   ]
  },
  {
   "cell_type": "code",
   "execution_count": 128,
   "metadata": {},
   "outputs": [],
   "source": [
    "result['Цена изделия на бирке размах, %'] = (result['Цена изделия на бирке макс'] / result['Цена изделия на бирке мин'] - 1) "
   ]
  },
  {
   "cell_type": "code",
   "execution_count": 129,
   "metadata": {},
   "outputs": [],
   "source": [
    "result['Размах цена изделия на бирке'] = np.where(\n",
    "    result['Цена изделия на бирке размах, %'] >= 0.5, '3. Большой размах (>50%)',\n",
    "    np.where(\n",
    "        result['Цена изделия на бирке размах, %'] >= 0.2, '2. Средний размах (20-50%)', '1. Небольшой размах (<20%)'\n",
    "    )\n",
    ")"
   ]
  },
  {
   "cell_type": "code",
   "execution_count": 130,
   "metadata": {},
   "outputs": [],
   "source": [
    "result = result.drop(columns = ['Код склада', 'Чистый вес', 'Цена изделия на бирке', 'Скидка на изделии', 'Запрет скидки', 'Цена Закупки за 1 шт. (упр сс с НДС за единицу)',\n",
    "                                'Запрет скидки'])"
   ]
  },
  {
   "cell_type": "code",
   "execution_count": 131,
   "metadata": {},
   "outputs": [],
   "source": [
    "tov = result.groupby(by = 'Товарная группа')['Остаток'].sum()"
   ]
  },
  {
   "cell_type": "code",
   "execution_count": 132,
   "metadata": {},
   "outputs": [
    {
     "data": {
      "text/plain": [
       "Товарная группа\n",
       "СИ АКСЕССУАР            30307.0\n",
       "СИ БРАСЛЕТ БК          153323.0\n",
       "СИ БРАСЛЕТ БК Декор     35553.0\n",
       "СИ БРАСЛЕТ СК           37800.0\n",
       "СИ БРАСЛЕТ ЦВ/К         16998.0\n",
       "СИ ЖЕМЧУГ               56238.0\n",
       "СИ КЕРАМИКА             27257.0\n",
       "СИ КОЛЬЕ БК              6680.0\n",
       "СИ КОЛЬЕ С ЭМАЛЬЮ        1215.0\n",
       "СИ КОЛЬЕ СК             46415.0\n",
       "СИ КОЛЬЕ ЦВ/К            7207.0\n",
       "СИ КОЛЬЦО БК           116861.0\n",
       "СИ КОЛЬЦО ИФ           330453.0\n",
       "СИ КОЛЬЦО ПЕЧАТ         47963.0\n",
       "СИ КОЛЬЦО ЦВ/К         105519.0\n",
       "СИ ОБРУЧАЛЬНОЕ          51680.0\n",
       "СИ ПОДАРКИ КРОСС        28737.0\n",
       "СИ ПОДВЕС БК           134121.0\n",
       "СИ ПОДВЕС ИФ           121652.0\n",
       "СИ ПОДВЕС ЦВ/К          39882.0\n",
       "СИ ПОСУДА               10182.0\n",
       "СИ СЕРЬГИ БК            40570.0\n",
       "СИ СЕРЬГИ ИФ           141813.0\n",
       "СИ СЕРЬГИ РАЗН         286959.0\n",
       "СИ СЕРЬГИ  ЦВ/К         94329.0\n",
       "СИ ЦЕПЬ                412637.0\n",
       "СИ ШАРМЫ                60132.0\n",
       "СИ ЭМАЛЬ                17063.0\n",
       "СИ ЯНТАРЬ               33709.0\n",
       "Name: Остаток, dtype: float64"
      ]
     },
     "execution_count": 132,
     "metadata": {},
     "output_type": "execute_result"
    }
   ],
   "source": [
    "tov"
   ]
  },
  {
   "cell_type": "code",
   "execution_count": 133,
   "metadata": {},
   "outputs": [],
   "source": [
    "tov_sales = result.groupby(by = 'Товарная группа')['Количество продаж 14.03-19.06'].sum()"
   ]
  },
  {
   "cell_type": "code",
   "execution_count": 134,
   "metadata": {},
   "outputs": [],
   "source": [
    "result['Доля % остатка ID отосительно остатка ТГ'] = np.nan\n",
    "for i in result.index: \n",
    "    t = result['Товарная группа'][i]\n",
    "    result['Доля % остатка ID отосительно остатка ТГ'] = result['Остаток'] / tov[t] "
   ]
  },
  {
   "cell_type": "code",
   "execution_count": 135,
   "metadata": {},
   "outputs": [
    {
     "name": "stdout",
     "output_type": "stream",
     "text": [
      "<class 'pandas.core.frame.DataFrame'>\n",
      "RangeIndex: 46166 entries, 0 to 46165\n",
      "Data columns (total 61 columns):\n",
      " #   Column                                    Non-Null Count  Dtype  \n",
      "---  ------                                    --------------  -----  \n",
      " 0   Код товара                                46166 non-null  object \n",
      " 1   Артикул поставщика                        46166 non-null  object \n",
      " 2   Внутренний артикул                        46166 non-null  object \n",
      " 3   ID Сайта                                  46166 non-null  object \n",
      " 4   Товарное направление                      46166 non-null  object \n",
      " 5   Товарная группа                           46166 non-null  object \n",
      " 6   Товарный кластер                          46166 non-null  object \n",
      " 7   Проба                                     46166 non-null  object \n",
      " 8   Размер изделия                            46166 non-null  object \n",
      " 9   Тип изделия 1                             46166 non-null  object \n",
      " 10  Тип изделия 2                             46166 non-null  object \n",
      " 11  Тип изделия 3                             46166 non-null  object \n",
      " 12  Дизайн                                    46166 non-null  object \n",
      " 13  Бренд                                     46166 non-null  object \n",
      " 14  Гендерный признак                         46166 non-null  object \n",
      " 15  Ценовая корзина                           46166 non-null  object \n",
      " 16  Группа цен                                46166 non-null  object \n",
      " 17  Цена Розн., за шт                         46165 non-null  float64\n",
      " 18  Опубликован                               38083 non-null  object \n",
      " 19  Ссылка на изображение                     38083 non-null  object \n",
      " 20  Остаток                                   46166 non-null  float64\n",
      " 21  Количество продаж 14.03-19.06             26525 non-null  float64\n",
      " 22  Сумма продаж 14.03-19.06                  26525 non-null  float64\n",
      " 23  Чистый вес макс                           46166 non-null  float64\n",
      " 24  Чистый вес мин                            46166 non-null  float64\n",
      " 25  Чистый вес медиана                        46166 non-null  float64\n",
      " 26  Чистый вес размах, %                      46166 non-null  float64\n",
      " 27  Цена изделия на бирке макс                46166 non-null  float64\n",
      " 28  Цена изделия на бирке мин                 46166 non-null  float64\n",
      " 29  Цена изделия на бирке медиана             46166 non-null  float64\n",
      " 30  Базовая скидка макс                       46166 non-null  float64\n",
      " 31  Базовая скидка мин                        46166 non-null  float64\n",
      " 32  Цена со скидками макс                     46166 non-null  float64\n",
      " 33  Цена со скидками мин                      46166 non-null  float64\n",
      " 34  Цена со скидками медиана                  46166 non-null  float64\n",
      " 35  Цена со скидками размах, %                46166 non-null  float64\n",
      " 36  Себестоимость макс                        46166 non-null  float64\n",
      " 37  Себестоимость мин                         46166 non-null  float64\n",
      " 38  Себестоимость медиана                     46166 non-null  float64\n",
      " 39  Себестоимость размах, %                   46166 non-null  float64\n",
      " 40  Наценка макс                              46166 non-null  float64\n",
      " 41  Наценка мин                               46166 non-null  float64\n",
      " 42  Наценка медиана                           46166 non-null  float64\n",
      " 43  Запрет к размещению                       46166 non-null  object \n",
      " 44  Цена со скидками Ecom                     45527 non-null  float64\n",
      " 45  Сумма в себестоимости на остатках         46166 non-null  float64\n",
      " 46  Цена за грамм макс                        46166 non-null  float64\n",
      " 47  Цена за грамм мин                         46166 non-null  float64\n",
      " 48  Цена за грамм медиана                     46166 non-null  float64\n",
      " 49  Количество с запрещенной скидкой          5856 non-null   float64\n",
      " 50  Количество с разрешенной скидкой          40957 non-null  float64\n",
      " 51  Дата закупки                              46166 non-null  object \n",
      " 52  Размах по весу                            46166 non-null  object \n",
      " 53  Размах по себестоимости                   46166 non-null  object \n",
      " 54  Размах по цене со скидками                46166 non-null  object \n",
      " 55  Цена за грамм размах, %                   46166 non-null  float64\n",
      " 56  Размах по цене за грамм                   46166 non-null  object \n",
      " 57  Скидка разрешена                          46166 non-null  object \n",
      " 58  Цена изделия на бирке размах, %           46166 non-null  float64\n",
      " 59  Размах цена изделия на бирке              46166 non-null  object \n",
      " 60  Доля % остатка ID отосительно остатка ТГ  46166 non-null  float64\n",
      "dtypes: float64(34), object(27)\n",
      "memory usage: 21.5+ MB\n"
     ]
    }
   ],
   "source": [
    "result.info()"
   ]
  },
  {
   "cell_type": "code",
   "execution_count": 136,
   "metadata": {},
   "outputs": [],
   "source": [
    "result['Доля % относительно продаж ТГ 14.03-19.06'] = np.nan\n",
    "for i in result.index: \n",
    "    t = result['Товарная группа'][i]\n",
    "    result['Доля % относительно продаж ТГ 14.03-19.06'] = result['Количество продаж 14.03-19.06'] / tov_sales[t] "
   ]
  },
  {
   "cell_type": "code",
   "execution_count": 137,
   "metadata": {},
   "outputs": [
    {
     "data": {
      "text/html": [
       "<div>\n",
       "<style scoped>\n",
       "    .dataframe tbody tr th:only-of-type {\n",
       "        vertical-align: middle;\n",
       "    }\n",
       "\n",
       "    .dataframe tbody tr th {\n",
       "        vertical-align: top;\n",
       "    }\n",
       "\n",
       "    .dataframe thead th {\n",
       "        text-align: right;\n",
       "    }\n",
       "</style>\n",
       "<table border=\"1\" class=\"dataframe\">\n",
       "  <thead>\n",
       "    <tr style=\"text-align: right;\">\n",
       "      <th></th>\n",
       "      <th>Цена за грамм макс</th>\n",
       "      <th>Цена за грамм медиана</th>\n",
       "      <th>Цена за грамм мин</th>\n",
       "      <th>Цена за грамм размах, %</th>\n",
       "    </tr>\n",
       "  </thead>\n",
       "  <tbody>\n",
       "    <tr>\n",
       "      <th>0</th>\n",
       "      <td>616.827586</td>\n",
       "      <td>472.071156</td>\n",
       "      <td>297.216000</td>\n",
       "      <td>1.075351</td>\n",
       "    </tr>\n",
       "    <tr>\n",
       "      <th>1</th>\n",
       "      <td>612.136882</td>\n",
       "      <td>472.071156</td>\n",
       "      <td>299.612903</td>\n",
       "      <td>1.043093</td>\n",
       "    </tr>\n",
       "    <tr>\n",
       "      <th>2</th>\n",
       "      <td>696.289157</td>\n",
       "      <td>470.874525</td>\n",
       "      <td>302.048780</td>\n",
       "      <td>1.305221</td>\n",
       "    </tr>\n",
       "    <tr>\n",
       "      <th>3</th>\n",
       "      <td>564.356718</td>\n",
       "      <td>416.702371</td>\n",
       "      <td>348.988235</td>\n",
       "      <td>0.617122</td>\n",
       "    </tr>\n",
       "    <tr>\n",
       "      <th>4</th>\n",
       "      <td>720.724832</td>\n",
       "      <td>441.018480</td>\n",
       "      <td>345.039416</td>\n",
       "      <td>1.088819</td>\n",
       "    </tr>\n",
       "    <tr>\n",
       "      <th>...</th>\n",
       "      <td>...</td>\n",
       "      <td>...</td>\n",
       "      <td>...</td>\n",
       "      <td>...</td>\n",
       "    </tr>\n",
       "    <tr>\n",
       "      <th>46161</th>\n",
       "      <td>154.192208</td>\n",
       "      <td>154.192208</td>\n",
       "      <td>154.192208</td>\n",
       "      <td>0.000000</td>\n",
       "    </tr>\n",
       "    <tr>\n",
       "      <th>46162</th>\n",
       "      <td>190.843373</td>\n",
       "      <td>190.843373</td>\n",
       "      <td>190.843373</td>\n",
       "      <td>0.000000</td>\n",
       "    </tr>\n",
       "    <tr>\n",
       "      <th>46163</th>\n",
       "      <td>247.129909</td>\n",
       "      <td>247.129909</td>\n",
       "      <td>247.129909</td>\n",
       "      <td>0.000000</td>\n",
       "    </tr>\n",
       "    <tr>\n",
       "      <th>46164</th>\n",
       "      <td>433.333333</td>\n",
       "      <td>433.333333</td>\n",
       "      <td>433.333333</td>\n",
       "      <td>0.000000</td>\n",
       "    </tr>\n",
       "    <tr>\n",
       "      <th>46165</th>\n",
       "      <td>173.309434</td>\n",
       "      <td>173.309434</td>\n",
       "      <td>173.309434</td>\n",
       "      <td>0.000000</td>\n",
       "    </tr>\n",
       "  </tbody>\n",
       "</table>\n",
       "<p>46166 rows × 4 columns</p>\n",
       "</div>"
      ],
      "text/plain": [
       "       Цена за грамм макс  Цена за грамм медиана  Цена за грамм мин  \\\n",
       "0              616.827586             472.071156         297.216000   \n",
       "1              612.136882             472.071156         299.612903   \n",
       "2              696.289157             470.874525         302.048780   \n",
       "3              564.356718             416.702371         348.988235   \n",
       "4              720.724832             441.018480         345.039416   \n",
       "...                   ...                    ...                ...   \n",
       "46161          154.192208             154.192208         154.192208   \n",
       "46162          190.843373             190.843373         190.843373   \n",
       "46163          247.129909             247.129909         247.129909   \n",
       "46164          433.333333             433.333333         433.333333   \n",
       "46165          173.309434             173.309434         173.309434   \n",
       "\n",
       "       Цена за грамм размах, %  \n",
       "0                     1.075351  \n",
       "1                     1.043093  \n",
       "2                     1.305221  \n",
       "3                     0.617122  \n",
       "4                     1.088819  \n",
       "...                        ...  \n",
       "46161                 0.000000  \n",
       "46162                 0.000000  \n",
       "46163                 0.000000  \n",
       "46164                 0.000000  \n",
       "46165                 0.000000  \n",
       "\n",
       "[46166 rows x 4 columns]"
      ]
     },
     "execution_count": 137,
     "metadata": {},
     "output_type": "execute_result"
    }
   ],
   "source": [
    "result[['Цена за грамм макс', 'Цена за грамм медиана', 'Цена за грамм мин',\n",
    "    'Цена за грамм размах, %']]"
   ]
  },
  {
   "cell_type": "code",
   "execution_count": null,
   "metadata": {},
   "outputs": [],
   "source": []
  },
  {
   "cell_type": "code",
   "execution_count": 138,
   "metadata": {},
   "outputs": [],
   "source": [
    "\n",
    "result.to_excel(r'C:\\Users\\Trenkin.Sergey\\Desktop\\notebooks\\result.xlsx', index=False)"
   ]
  },
  {
   "cell_type": "code",
   "execution_count": null,
   "metadata": {},
   "outputs": [],
   "source": [
    "result.to_excel(r'\\\\gold585.int\\uk\\Общее хранилище файлов\\Служба аналитики\\Тренкин Сергей\\Исследование цен\\\\в разрезе ID исправленный.xlsx', index=False)"
   ]
  },
  {
   "cell_type": "code",
   "execution_count": null,
   "metadata": {},
   "outputs": [
    {
     "data": {
      "text/plain": [
       "Товарное направление\n",
       "ПДК    15220\n",
       "ДК     13820\n",
       "ИФ      8328\n",
       "БК      4796\n",
       "ЦБ      2443\n",
       "Name: count, dtype: int64"
      ]
     },
     "execution_count": 149,
     "metadata": {},
     "output_type": "execute_result"
    }
   ],
   "source": [
    "result['Товарное направление'].value_counts()"
   ]
  },
  {
   "cell_type": "code",
   "execution_count": null,
   "metadata": {},
   "outputs": [],
   "source": [
    "for i in result['Товарное направление'].unique():\n",
    "    result[result['Товарное направление'] == i].to_excel(rf'\\\\gold585.int\\uk\\Общее хранилище файлов\\Служба аналитики\\Тренкин Сергей\\Исследование цен\\\\Исследование цен для {i} в разрезе ID.xlsx', index=False) "
   ]
  },
  {
   "cell_type": "code",
   "execution_count": null,
   "metadata": {},
   "outputs": [],
   "source": []
  },
  {
   "cell_type": "code",
   "execution_count": null,
   "metadata": {},
   "outputs": [],
   "source": []
  }
 ],
 "metadata": {
  "kernelspec": {
   "display_name": "Python 3",
   "language": "python",
   "name": "python3"
  },
  "language_info": {
   "codemirror_mode": {
    "name": "ipython",
    "version": 3
   },
   "file_extension": ".py",
   "mimetype": "text/x-python",
   "name": "python",
   "nbconvert_exporter": "python",
   "pygments_lexer": "ipython3",
   "version": "3.12.0"
  }
 },
 "nbformat": 4,
 "nbformat_minor": 2
}
