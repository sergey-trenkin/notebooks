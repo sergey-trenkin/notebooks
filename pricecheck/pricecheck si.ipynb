{
 "cells": [
  {
   "cell_type": "code",
   "execution_count": 1,
   "metadata": {},
   "outputs": [],
   "source": [
    "from tqdm import tqdm\n",
    "import pymssql\n",
    "import pandas as pd\n",
    "import numpy as np\n",
    "import warnings\n",
    "import glob \n",
    "import os\n",
    "\n",
    "warnings.filterwarnings('ignore')"
   ]
  },
  {
   "cell_type": "code",
   "execution_count": 2,
   "metadata": {},
   "outputs": [],
   "source": [
    "conn = pymssql.connect(server='AX-SQL', database='Staging')\n",
    "cursor = conn.cursor()\n",
    "\n",
    "sql = f'''\n",
    "SELECT [Код склада], [Код товара], [Артикул поставщика], [Внутренний артикул], [ID Сайта], [Товарное направление],\n",
    "[Товарная группа], [Товарный кластер], [Проба], [Размер изделия], [Тип изделия 1], [Тип изделия 2],\n",
    "[Тип изделия 3], [Дизайн], [Бренд], [Гендерный признак], [Ценовая корзина], [Группа цен], [Остаток], [Цена Розн., за шт],\n",
    "[Чистый вес], [Цена изделия на бирке], [Скидка на изделии], [Запрет скидки], [Цена Закупки за 1 шт. (упр сс с НДС за единицу)], [Дата закупки]\n",
    "from [Staging].[Reports].[Remainings_8h]\n",
    "where [Товарное направление] in (N'БК', N'ЦБ', N'ИФ', N'ПДК', N'ДК')\n",
    "'''\n",
    "\n",
    "sql_query = pd.read_sql_query(sql, conn)\n",
    "stock = pd.DataFrame(sql_query)"
   ]
  },
  {
   "cell_type": "code",
   "execution_count": 3,
   "metadata": {},
   "outputs": [],
   "source": [
    "images = pd.read_excel(r'C:\\Users\\Trenkin.Sergey\\Desktop\\Артикул-фото 2024.06.11_.xlsx')"
   ]
  },
  {
   "cell_type": "code",
   "execution_count": 4,
   "metadata": {},
   "outputs": [],
   "source": [
    "zapret = pd.read_excel(r'C:\\Users\\Trenkin.Sergey\\Desktop\\запрет Артикулы к размещению.xlsx')"
   ]
  },
  {
   "cell_type": "code",
   "execution_count": 5,
   "metadata": {},
   "outputs": [],
   "source": [
    "kniga = pd.read_excel(r'C:\\Users\\Trenkin.Sergey\\Desktop\\Книга11.xlsx')"
   ]
  },
  {
   "cell_type": "code",
   "execution_count": 6,
   "metadata": {},
   "outputs": [
    {
     "data": {
      "text/plain": [
       "['2024-03-10_2024-03-19.xlsx',\n",
       " '2024-03-20_2024-03-31.xlsx',\n",
       " '2024-04-01_2024-04-09.xlsx',\n",
       " '2024-04-10_2024-04-19.xlsx',\n",
       " '2024-04-20_2024-04-30.xlsx',\n",
       " '2024-05-01_2024-05-09.xlsx',\n",
       " '2024-05-10_2024-05-19.xlsx',\n",
       " '2024-05-20_2024-05-31.xlsx',\n",
       " '2024-06-01_2024-06-09.xlsx',\n",
       " '2024-06-10_2024-06-10.xlsx',\n",
       " '2024-06-10_2024-06-12.xlsx',\n",
       " '2024-06-10_2024-06-18.xlsx']"
      ]
     },
     "execution_count": 6,
     "metadata": {},
     "output_type": "execute_result"
    }
   ],
   "source": [
    "os.chdir(r'C:\\\\Users\\Trenkin.Sergey\\Desktop\\sales')\n",
    "extension = 'xlsx'\n",
    "all_filenames = [i for i in glob.glob('*.{}'.format(extension))]\n",
    "all_filenames"
   ]
  },
  {
   "cell_type": "code",
   "execution_count": 7,
   "metadata": {},
   "outputs": [
    {
     "name": "stderr",
     "output_type": "stream",
     "text": [
      "100%|██████████| 12/12 [11:51<00:00, 59.27s/it]\n"
     ]
    }
   ],
   "source": [
    "sale = pd.DataFrame()\n",
    "for name in tqdm(all_filenames):\n",
    "    sales = pd.read_excel(name)\n",
    "    sale = pd.concat([sales, sale], ignore_index= True)"
   ]
  },
  {
   "cell_type": "code",
   "execution_count": 8,
   "metadata": {},
   "outputs": [],
   "source": [
    "sale['Дата'] = pd.to_datetime(sale['Дата'], dayfirst=True, format='mixed')"
   ]
  },
  {
   "cell_type": "code",
   "execution_count": 9,
   "metadata": {},
   "outputs": [],
   "source": [
    "sale = sale[(sale['Дата'] >= pd.to_datetime('2024-03-14', dayfirst=True, format='mixed')) & \n",
    "            (sale['Дата'] <= pd.to_datetime('2024-06-19', dayfirst=True, format='mixed'))]"
   ]
  },
  {
   "cell_type": "code",
   "execution_count": 10,
   "metadata": {},
   "outputs": [],
   "source": [
    "sale = sale.groupby(by = 'Тов', as_index=False)[['Количество', 'Общая сумма']].sum()"
   ]
  },
  {
   "cell_type": "code",
   "execution_count": 11,
   "metadata": {},
   "outputs": [],
   "source": [
    "ids = stock[['Код товара', 'ID Сайта']]\n",
    "ids.columns = ['Тов', 'ID Сайта']"
   ]
  },
  {
   "cell_type": "code",
   "execution_count": 12,
   "metadata": {},
   "outputs": [],
   "source": [
    "sale = sale.merge(ids, how='left', on='Тов')\n",
    "sale = sale.drop(columns=['Тов'])\n",
    "sale = sale[['ID Сайта', 'Количество', 'Общая сумма']]"
   ]
  },
  {
   "cell_type": "code",
   "execution_count": 13,
   "metadata": {},
   "outputs": [],
   "source": [
    "kniga['Код склада'] = kniga['Код склада'].astype(str)\n",
    "skladi = kniga['Код склада'].unique().tolist()"
   ]
  },
  {
   "cell_type": "code",
   "execution_count": 14,
   "metadata": {},
   "outputs": [
    {
     "data": {
      "text/plain": [
       "Index(['Код склада', 'Код товара', 'Артикул поставщика', 'Внутренний артикул',\n",
       "       'ID Сайта', 'Товарное направление', 'Товарная группа',\n",
       "       'Товарный кластер', 'Проба', 'Размер изделия', 'Тип изделия 1',\n",
       "       'Тип изделия 2', 'Тип изделия 3', 'Дизайн', 'Бренд',\n",
       "       'Гендерный признак', 'Ценовая корзина', 'Группа цен', 'Остаток',\n",
       "       'Цена Розн., за шт', 'Чистый вес', 'Цена изделия на бирке',\n",
       "       'Скидка на изделии', 'Запрет скидки',\n",
       "       'Цена Закупки за 1 шт. (упр сс с НДС за единицу)', 'Дата закупки'],\n",
       "      dtype='object')"
      ]
     },
     "execution_count": 14,
     "metadata": {},
     "output_type": "execute_result"
    }
   ],
   "source": [
    "stock.columns"
   ]
  },
  {
   "cell_type": "code",
   "execution_count": 15,
   "metadata": {},
   "outputs": [],
   "source": [
    "stock.columns = ['code', 'Код товара', 'Артикул поставщика', 'Внутренний артикул',\n",
    "    'ID Сайта', 'Товарное направление', 'Товарная группа',\n",
    "    'Товарный кластер', 'Проба', 'Размер изделия', 'Тип изделия 1',\n",
    "    'Тип изделия 2', 'Тип изделия 3', 'Дизайн', 'Бренд',\n",
    "    'Гендерный признак', 'Ценовая корзина', 'Группа цен', 'Остаток', 'Цена Розн., за шт',\n",
    "    'Чистый вес', 'Цена изделия на бирке', 'Скидка на изделии',\n",
    "    'Запрет скидки', 'Цена Закупки за 1 шт. (упр сс с НДС за единицу)',\n",
    "    'Дата закупки']"
   ]
  },
  {
   "cell_type": "code",
   "execution_count": 16,
   "metadata": {},
   "outputs": [],
   "source": [
    "stock = stock.query('code in @skladi')"
   ]
  },
  {
   "cell_type": "code",
   "execution_count": 17,
   "metadata": {},
   "outputs": [],
   "source": [
    "stock.columns = ['Код склада', 'Код товара', 'Артикул поставщика', 'Внутренний артикул',\n",
    "    'ID Сайта', 'Товарное направление', 'Товарная группа',\n",
    "    'Товарный кластер', 'Проба', 'Размер изделия', 'Тип изделия 1',\n",
    "    'Тип изделия 2', 'Тип изделия 3', 'Дизайн', 'Бренд',\n",
    "    'Гендерный признак', 'Ценовая корзина', 'Группа цен', 'Остаток', 'Цена Розн., за шт',\n",
    "    'Чистый вес', 'Цена изделия на бирке', 'Скидка на изделии',\n",
    "    'Запрет скидки', 'Цена Закупки за 1 шт. (упр сс с НДС за единицу)',\n",
    "    'Дата закупки']"
   ]
  },
  {
   "cell_type": "code",
   "execution_count": 18,
   "metadata": {},
   "outputs": [],
   "source": [
    "result = stock.drop_duplicates(subset=['ID Сайта'])"
   ]
  },
  {
   "cell_type": "code",
   "execution_count": 19,
   "metadata": {},
   "outputs": [],
   "source": [
    "tovs = result['ID Сайта'].dropna().tolist()"
   ]
  },
  {
   "cell_type": "code",
   "execution_count": 20,
   "metadata": {},
   "outputs": [],
   "source": [
    "images['article'] = images['article'].astype(str)"
   ]
  },
  {
   "cell_type": "code",
   "execution_count": 21,
   "metadata": {},
   "outputs": [],
   "source": [
    "images = images.query('article in @tovs')"
   ]
  },
  {
   "cell_type": "code",
   "execution_count": 22,
   "metadata": {},
   "outputs": [],
   "source": [
    "images = images[['article', 'published', 'Ссылка на изображение']]"
   ]
  },
  {
   "cell_type": "code",
   "execution_count": 23,
   "metadata": {},
   "outputs": [],
   "source": [
    "images.columns = ['ID Сайта', 'Опубликован', 'Ссылка на изображение']"
   ]
  },
  {
   "cell_type": "code",
   "execution_count": 24,
   "metadata": {},
   "outputs": [],
   "source": [
    "result = result.merge(images, how='outer', on='ID Сайта')"
   ]
  },
  {
   "cell_type": "code",
   "execution_count": 25,
   "metadata": {},
   "outputs": [],
   "source": [
    "result = result.drop(columns = ['Остаток'])"
   ]
  },
  {
   "cell_type": "code",
   "execution_count": 26,
   "metadata": {},
   "outputs": [],
   "source": [
    "df = stock"
   ]
  },
  {
   "cell_type": "code",
   "execution_count": 27,
   "metadata": {},
   "outputs": [],
   "source": [
    "stock = df.groupby(by = 'ID Сайта', as_index=False)['Остаток'].sum()"
   ]
  },
  {
   "cell_type": "code",
   "execution_count": 28,
   "metadata": {},
   "outputs": [],
   "source": [
    "result = result.merge(stock, how='left', on='ID Сайта')"
   ]
  },
  {
   "cell_type": "code",
   "execution_count": 29,
   "metadata": {},
   "outputs": [],
   "source": [
    "sale.columns = ['ID Сайта', 'Количество продаж 14.03-19.06', 'Сумма продаж 14.03-19.06']"
   ]
  },
  {
   "cell_type": "code",
   "execution_count": 30,
   "metadata": {},
   "outputs": [],
   "source": [
    "result = result.merge(sale, how='left', on='ID Сайта')"
   ]
  },
  {
   "cell_type": "code",
   "execution_count": 31,
   "metadata": {},
   "outputs": [
    {
     "data": {
      "text/plain": [
       "Index(['Код склада', 'Код товара', 'Артикул поставщика', 'Внутренний артикул',\n",
       "       'ID Сайта', 'Товарное направление', 'Товарная группа',\n",
       "       'Товарный кластер', 'Проба', 'Размер изделия', 'Тип изделия 1',\n",
       "       'Тип изделия 2', 'Тип изделия 3', 'Дизайн', 'Бренд',\n",
       "       'Гендерный признак', 'Ценовая корзина', 'Группа цен',\n",
       "       'Цена Розн., за шт', 'Чистый вес', 'Цена изделия на бирке',\n",
       "       'Скидка на изделии', 'Запрет скидки',\n",
       "       'Цена Закупки за 1 шт. (упр сс с НДС за единицу)', 'Дата закупки',\n",
       "       'Опубликован', 'Ссылка на изображение', 'Остаток',\n",
       "       'Количество продаж 14.03-19.06', 'Сумма продаж 14.03-19.06'],\n",
       "      dtype='object')"
      ]
     },
     "execution_count": 31,
     "metadata": {},
     "output_type": "execute_result"
    }
   ],
   "source": [
    "result.columns"
   ]
  },
  {
   "cell_type": "code",
   "execution_count": 32,
   "metadata": {},
   "outputs": [],
   "source": [
    "result = result.drop_duplicates(subset=['ID Сайта'])"
   ]
  },
  {
   "cell_type": "code",
   "execution_count": 33,
   "metadata": {},
   "outputs": [],
   "source": [
    "df['Чистый вес'] = df['Чистый вес'].astype(float)"
   ]
  },
  {
   "cell_type": "code",
   "execution_count": 34,
   "metadata": {},
   "outputs": [],
   "source": [
    "clear_weight = df.groupby(by = 'ID Сайта', as_index=False)['Чистый вес'].agg({'min', 'median', 'max'})"
   ]
  },
  {
   "cell_type": "code",
   "execution_count": 35,
   "metadata": {},
   "outputs": [
    {
     "data": {
      "text/html": [
       "<div>\n",
       "<style scoped>\n",
       "    .dataframe tbody tr th:only-of-type {\n",
       "        vertical-align: middle;\n",
       "    }\n",
       "\n",
       "    .dataframe tbody tr th {\n",
       "        vertical-align: top;\n",
       "    }\n",
       "\n",
       "    .dataframe thead th {\n",
       "        text-align: right;\n",
       "    }\n",
       "</style>\n",
       "<table border=\"1\" class=\"dataframe\">\n",
       "  <thead>\n",
       "    <tr style=\"text-align: right;\">\n",
       "      <th></th>\n",
       "      <th>ID Сайта</th>\n",
       "      <th>max</th>\n",
       "      <th>median</th>\n",
       "      <th>min</th>\n",
       "    </tr>\n",
       "  </thead>\n",
       "  <tbody>\n",
       "    <tr>\n",
       "      <th>0</th>\n",
       "      <td></td>\n",
       "      <td>21.280</td>\n",
       "      <td>1.974</td>\n",
       "      <td>0.206</td>\n",
       "    </tr>\n",
       "    <tr>\n",
       "      <th>1</th>\n",
       "      <td>1000054</td>\n",
       "      <td>1.150</td>\n",
       "      <td>1.080</td>\n",
       "      <td>0.980</td>\n",
       "    </tr>\n",
       "    <tr>\n",
       "      <th>2</th>\n",
       "      <td>1000091</td>\n",
       "      <td>1.154</td>\n",
       "      <td>1.059</td>\n",
       "      <td>0.944</td>\n",
       "    </tr>\n",
       "    <tr>\n",
       "      <th>3</th>\n",
       "      <td>1000339</td>\n",
       "      <td>2.252</td>\n",
       "      <td>2.162</td>\n",
       "      <td>2.092</td>\n",
       "    </tr>\n",
       "    <tr>\n",
       "      <th>4</th>\n",
       "      <td>1000450</td>\n",
       "      <td>3.540</td>\n",
       "      <td>3.540</td>\n",
       "      <td>3.540</td>\n",
       "    </tr>\n",
       "    <tr>\n",
       "      <th>...</th>\n",
       "      <td>...</td>\n",
       "      <td>...</td>\n",
       "      <td>...</td>\n",
       "      <td>...</td>\n",
       "    </tr>\n",
       "    <tr>\n",
       "      <th>44603</th>\n",
       "      <td>8380055</td>\n",
       "      <td>2.140</td>\n",
       "      <td>2.090</td>\n",
       "      <td>2.050</td>\n",
       "    </tr>\n",
       "    <tr>\n",
       "      <th>44604</th>\n",
       "      <td>8380061</td>\n",
       "      <td>1.708</td>\n",
       "      <td>1.700</td>\n",
       "      <td>1.670</td>\n",
       "    </tr>\n",
       "    <tr>\n",
       "      <th>44605</th>\n",
       "      <td>8380063</td>\n",
       "      <td>1.930</td>\n",
       "      <td>1.770</td>\n",
       "      <td>1.510</td>\n",
       "    </tr>\n",
       "    <tr>\n",
       "      <th>44606</th>\n",
       "      <td>8380071</td>\n",
       "      <td>2.610</td>\n",
       "      <td>2.520</td>\n",
       "      <td>2.370</td>\n",
       "    </tr>\n",
       "    <tr>\n",
       "      <th>44607</th>\n",
       "      <td>8380073</td>\n",
       "      <td>3.010</td>\n",
       "      <td>2.670</td>\n",
       "      <td>2.440</td>\n",
       "    </tr>\n",
       "  </tbody>\n",
       "</table>\n",
       "<p>44608 rows × 4 columns</p>\n",
       "</div>"
      ],
      "text/plain": [
       "      ID Сайта     max  median    min\n",
       "0               21.280   1.974  0.206\n",
       "1      1000054   1.150   1.080  0.980\n",
       "2      1000091   1.154   1.059  0.944\n",
       "3      1000339   2.252   2.162  2.092\n",
       "4      1000450   3.540   3.540  3.540\n",
       "...        ...     ...     ...    ...\n",
       "44603  8380055   2.140   2.090  2.050\n",
       "44604  8380061   1.708   1.700  1.670\n",
       "44605  8380063   1.930   1.770  1.510\n",
       "44606  8380071   2.610   2.520  2.370\n",
       "44607  8380073   3.010   2.670  2.440\n",
       "\n",
       "[44608 rows x 4 columns]"
      ]
     },
     "execution_count": 35,
     "metadata": {},
     "output_type": "execute_result"
    }
   ],
   "source": [
    "clear_weight"
   ]
  },
  {
   "cell_type": "code",
   "execution_count": 43,
   "metadata": {},
   "outputs": [],
   "source": [
    "clear_weight = df.groupby(by = 'ID Сайта', as_index=False)['Чистый вес'].agg({'min', 'median', 'max'})\n",
    "clear_weight.columns = ['ID Сайта', 'Чистый вес макс', 'Чистый вес медиана', 'Чистый вес мин']\n",
    "clear_weight['Чистый вес размах, %'] = (clear_weight['Чистый вес макс'] / clear_weight['Чистый вес мин'] - 1) "
   ]
  },
  {
   "cell_type": "code",
   "execution_count": 44,
   "metadata": {},
   "outputs": [
    {
     "data": {
      "text/html": [
       "<div>\n",
       "<style scoped>\n",
       "    .dataframe tbody tr th:only-of-type {\n",
       "        vertical-align: middle;\n",
       "    }\n",
       "\n",
       "    .dataframe tbody tr th {\n",
       "        vertical-align: top;\n",
       "    }\n",
       "\n",
       "    .dataframe thead th {\n",
       "        text-align: right;\n",
       "    }\n",
       "</style>\n",
       "<table border=\"1\" class=\"dataframe\">\n",
       "  <thead>\n",
       "    <tr style=\"text-align: right;\">\n",
       "      <th></th>\n",
       "      <th>ID Сайта</th>\n",
       "      <th>Чистый вес макс</th>\n",
       "      <th>Чистый вес медиана</th>\n",
       "      <th>Чистый вес мин</th>\n",
       "      <th>Чистый вес размах, %</th>\n",
       "    </tr>\n",
       "  </thead>\n",
       "  <tbody>\n",
       "    <tr>\n",
       "      <th>0</th>\n",
       "      <td></td>\n",
       "      <td>21.280</td>\n",
       "      <td>1.974</td>\n",
       "      <td>0.206</td>\n",
       "      <td>102.300971</td>\n",
       "    </tr>\n",
       "    <tr>\n",
       "      <th>1</th>\n",
       "      <td>1000054</td>\n",
       "      <td>1.150</td>\n",
       "      <td>1.080</td>\n",
       "      <td>0.980</td>\n",
       "      <td>0.173469</td>\n",
       "    </tr>\n",
       "    <tr>\n",
       "      <th>2</th>\n",
       "      <td>1000091</td>\n",
       "      <td>1.154</td>\n",
       "      <td>1.059</td>\n",
       "      <td>0.944</td>\n",
       "      <td>0.222458</td>\n",
       "    </tr>\n",
       "    <tr>\n",
       "      <th>3</th>\n",
       "      <td>1000339</td>\n",
       "      <td>2.252</td>\n",
       "      <td>2.162</td>\n",
       "      <td>2.092</td>\n",
       "      <td>0.076482</td>\n",
       "    </tr>\n",
       "    <tr>\n",
       "      <th>4</th>\n",
       "      <td>1000450</td>\n",
       "      <td>3.540</td>\n",
       "      <td>3.540</td>\n",
       "      <td>3.540</td>\n",
       "      <td>0.000000</td>\n",
       "    </tr>\n",
       "    <tr>\n",
       "      <th>...</th>\n",
       "      <td>...</td>\n",
       "      <td>...</td>\n",
       "      <td>...</td>\n",
       "      <td>...</td>\n",
       "      <td>...</td>\n",
       "    </tr>\n",
       "    <tr>\n",
       "      <th>44603</th>\n",
       "      <td>8380055</td>\n",
       "      <td>2.140</td>\n",
       "      <td>2.090</td>\n",
       "      <td>2.050</td>\n",
       "      <td>0.043902</td>\n",
       "    </tr>\n",
       "    <tr>\n",
       "      <th>44604</th>\n",
       "      <td>8380061</td>\n",
       "      <td>1.708</td>\n",
       "      <td>1.700</td>\n",
       "      <td>1.670</td>\n",
       "      <td>0.022754</td>\n",
       "    </tr>\n",
       "    <tr>\n",
       "      <th>44605</th>\n",
       "      <td>8380063</td>\n",
       "      <td>1.930</td>\n",
       "      <td>1.770</td>\n",
       "      <td>1.510</td>\n",
       "      <td>0.278146</td>\n",
       "    </tr>\n",
       "    <tr>\n",
       "      <th>44606</th>\n",
       "      <td>8380071</td>\n",
       "      <td>2.610</td>\n",
       "      <td>2.520</td>\n",
       "      <td>2.370</td>\n",
       "      <td>0.101266</td>\n",
       "    </tr>\n",
       "    <tr>\n",
       "      <th>44607</th>\n",
       "      <td>8380073</td>\n",
       "      <td>3.010</td>\n",
       "      <td>2.670</td>\n",
       "      <td>2.440</td>\n",
       "      <td>0.233607</td>\n",
       "    </tr>\n",
       "  </tbody>\n",
       "</table>\n",
       "<p>44608 rows × 5 columns</p>\n",
       "</div>"
      ],
      "text/plain": [
       "      ID Сайта  Чистый вес макс  Чистый вес медиана  Чистый вес мин  \\\n",
       "0                        21.280               1.974           0.206   \n",
       "1      1000054            1.150               1.080           0.980   \n",
       "2      1000091            1.154               1.059           0.944   \n",
       "3      1000339            2.252               2.162           2.092   \n",
       "4      1000450            3.540               3.540           3.540   \n",
       "...        ...              ...                 ...             ...   \n",
       "44603  8380055            2.140               2.090           2.050   \n",
       "44604  8380061            1.708               1.700           1.670   \n",
       "44605  8380063            1.930               1.770           1.510   \n",
       "44606  8380071            2.610               2.520           2.370   \n",
       "44607  8380073            3.010               2.670           2.440   \n",
       "\n",
       "       Чистый вес размах, %  \n",
       "0                102.300971  \n",
       "1                  0.173469  \n",
       "2                  0.222458  \n",
       "3                  0.076482  \n",
       "4                  0.000000  \n",
       "...                     ...  \n",
       "44603              0.043902  \n",
       "44604              0.022754  \n",
       "44605              0.278146  \n",
       "44606              0.101266  \n",
       "44607              0.233607  \n",
       "\n",
       "[44608 rows x 5 columns]"
      ]
     },
     "execution_count": 44,
     "metadata": {},
     "output_type": "execute_result"
    }
   ],
   "source": [
    "clear_weight"
   ]
  },
  {
   "cell_type": "code",
   "execution_count": 45,
   "metadata": {},
   "outputs": [],
   "source": [
    "result = result.merge(clear_weight, how='left', on='ID Сайта')"
   ]
  },
  {
   "cell_type": "code",
   "execution_count": 54,
   "metadata": {},
   "outputs": [],
   "source": [
    "result = result[result['ID Сайта'] != '']\n",
    "df = df[df['ID Сайта'] != '']"
   ]
  },
  {
   "cell_type": "code",
   "execution_count": 56,
   "metadata": {},
   "outputs": [],
   "source": [
    "price_birka = df.groupby(by = 'ID Сайта', as_index=False)['Цена Розн., за шт'].agg({'min', 'median', 'max'})\n",
    "price_birka.columns = ['ID Сайта', 'Цена изделия на бирке макс', 'Цена изделия на бирке медиана', 'Цена изделия на бирке мин']"
   ]
  },
  {
   "cell_type": "code",
   "execution_count": 57,
   "metadata": {},
   "outputs": [
    {
     "data": {
      "text/html": [
       "<div>\n",
       "<style scoped>\n",
       "    .dataframe tbody tr th:only-of-type {\n",
       "        vertical-align: middle;\n",
       "    }\n",
       "\n",
       "    .dataframe tbody tr th {\n",
       "        vertical-align: top;\n",
       "    }\n",
       "\n",
       "    .dataframe thead th {\n",
       "        text-align: right;\n",
       "    }\n",
       "</style>\n",
       "<table border=\"1\" class=\"dataframe\">\n",
       "  <thead>\n",
       "    <tr style=\"text-align: right;\">\n",
       "      <th></th>\n",
       "      <th>ID Сайта</th>\n",
       "      <th>Цена изделия на бирке макс</th>\n",
       "      <th>Цена изделия на бирке медиана</th>\n",
       "      <th>Цена изделия на бирке мин</th>\n",
       "    </tr>\n",
       "  </thead>\n",
       "  <tbody>\n",
       "    <tr>\n",
       "      <th>0</th>\n",
       "      <td>1000054</td>\n",
       "      <td>30225.0</td>\n",
       "      <td>20249.0</td>\n",
       "      <td>19774.0</td>\n",
       "    </tr>\n",
       "    <tr>\n",
       "      <th>1</th>\n",
       "      <td>1000091</td>\n",
       "      <td>49205.0</td>\n",
       "      <td>37888.0</td>\n",
       "      <td>6442.0</td>\n",
       "    </tr>\n",
       "    <tr>\n",
       "      <th>2</th>\n",
       "      <td>1000339</td>\n",
       "      <td>118218.0</td>\n",
       "      <td>115330.0</td>\n",
       "      <td>104042.0</td>\n",
       "    </tr>\n",
       "    <tr>\n",
       "      <th>3</th>\n",
       "      <td>1000450</td>\n",
       "      <td>294990.0</td>\n",
       "      <td>294990.0</td>\n",
       "      <td>294990.0</td>\n",
       "    </tr>\n",
       "    <tr>\n",
       "      <th>4</th>\n",
       "      <td>1000477</td>\n",
       "      <td>19900.0</td>\n",
       "      <td>19900.0</td>\n",
       "      <td>19900.0</td>\n",
       "    </tr>\n",
       "    <tr>\n",
       "      <th>...</th>\n",
       "      <td>...</td>\n",
       "      <td>...</td>\n",
       "      <td>...</td>\n",
       "      <td>...</td>\n",
       "    </tr>\n",
       "    <tr>\n",
       "      <th>44602</th>\n",
       "      <td>8380055</td>\n",
       "      <td>48832.0</td>\n",
       "      <td>47256.0</td>\n",
       "      <td>40680.0</td>\n",
       "    </tr>\n",
       "    <tr>\n",
       "      <th>44603</th>\n",
       "      <td>8380061</td>\n",
       "      <td>40623.0</td>\n",
       "      <td>37566.0</td>\n",
       "      <td>31895.0</td>\n",
       "    </tr>\n",
       "    <tr>\n",
       "      <th>44604</th>\n",
       "      <td>8380063</td>\n",
       "      <td>71439.0</td>\n",
       "      <td>38843.0</td>\n",
       "      <td>30317.0</td>\n",
       "    </tr>\n",
       "    <tr>\n",
       "      <th>44605</th>\n",
       "      <td>8380071</td>\n",
       "      <td>61569.0</td>\n",
       "      <td>48128.0</td>\n",
       "      <td>42957.0</td>\n",
       "    </tr>\n",
       "    <tr>\n",
       "      <th>44606</th>\n",
       "      <td>8380073</td>\n",
       "      <td>54622.0</td>\n",
       "      <td>50802.0</td>\n",
       "      <td>46600.0</td>\n",
       "    </tr>\n",
       "  </tbody>\n",
       "</table>\n",
       "<p>44607 rows × 4 columns</p>\n",
       "</div>"
      ],
      "text/plain": [
       "      ID Сайта  Цена изделия на бирке макс  Цена изделия на бирке медиана  \\\n",
       "0      1000054                     30225.0                        20249.0   \n",
       "1      1000091                     49205.0                        37888.0   \n",
       "2      1000339                    118218.0                       115330.0   \n",
       "3      1000450                    294990.0                       294990.0   \n",
       "4      1000477                     19900.0                        19900.0   \n",
       "...        ...                         ...                            ...   \n",
       "44602  8380055                     48832.0                        47256.0   \n",
       "44603  8380061                     40623.0                        37566.0   \n",
       "44604  8380063                     71439.0                        38843.0   \n",
       "44605  8380071                     61569.0                        48128.0   \n",
       "44606  8380073                     54622.0                        50802.0   \n",
       "\n",
       "       Цена изделия на бирке мин  \n",
       "0                        19774.0  \n",
       "1                         6442.0  \n",
       "2                       104042.0  \n",
       "3                       294990.0  \n",
       "4                        19900.0  \n",
       "...                          ...  \n",
       "44602                    40680.0  \n",
       "44603                    31895.0  \n",
       "44604                    30317.0  \n",
       "44605                    42957.0  \n",
       "44606                    46600.0  \n",
       "\n",
       "[44607 rows x 4 columns]"
      ]
     },
     "execution_count": 57,
     "metadata": {},
     "output_type": "execute_result"
    }
   ],
   "source": [
    "price_birka"
   ]
  },
  {
   "cell_type": "code",
   "execution_count": 58,
   "metadata": {},
   "outputs": [],
   "source": [
    "result = result.merge(price_birka, how='left', on='ID Сайта')"
   ]
  },
  {
   "cell_type": "code",
   "execution_count": 59,
   "metadata": {},
   "outputs": [],
   "source": [
    "base_discount = df.groupby(by = 'ID Сайта', as_index=False)['Скидка на изделии'].agg({'min', 'max'})\n",
    "base_discount.columns = ['ID Сайта', 'Базовая скидка макс', 'Базовая скидка мин']"
   ]
  },
  {
   "cell_type": "code",
   "execution_count": 60,
   "metadata": {},
   "outputs": [
    {
     "data": {
      "text/html": [
       "<div>\n",
       "<style scoped>\n",
       "    .dataframe tbody tr th:only-of-type {\n",
       "        vertical-align: middle;\n",
       "    }\n",
       "\n",
       "    .dataframe tbody tr th {\n",
       "        vertical-align: top;\n",
       "    }\n",
       "\n",
       "    .dataframe thead th {\n",
       "        text-align: right;\n",
       "    }\n",
       "</style>\n",
       "<table border=\"1\" class=\"dataframe\">\n",
       "  <thead>\n",
       "    <tr style=\"text-align: right;\">\n",
       "      <th></th>\n",
       "      <th>ID Сайта</th>\n",
       "      <th>Базовая скидка макс</th>\n",
       "      <th>Базовая скидка мин</th>\n",
       "    </tr>\n",
       "  </thead>\n",
       "  <tbody>\n",
       "    <tr>\n",
       "      <th>0</th>\n",
       "      <td>1000054</td>\n",
       "      <td>57.0</td>\n",
       "      <td>53.0</td>\n",
       "    </tr>\n",
       "    <tr>\n",
       "      <th>1</th>\n",
       "      <td>1000091</td>\n",
       "      <td>66.0</td>\n",
       "      <td>0.0</td>\n",
       "    </tr>\n",
       "    <tr>\n",
       "      <th>2</th>\n",
       "      <td>1000339</td>\n",
       "      <td>67.0</td>\n",
       "      <td>62.0</td>\n",
       "    </tr>\n",
       "    <tr>\n",
       "      <th>3</th>\n",
       "      <td>1000450</td>\n",
       "      <td>0.0</td>\n",
       "      <td>0.0</td>\n",
       "    </tr>\n",
       "    <tr>\n",
       "      <th>4</th>\n",
       "      <td>1000477</td>\n",
       "      <td>0.0</td>\n",
       "      <td>0.0</td>\n",
       "    </tr>\n",
       "    <tr>\n",
       "      <th>...</th>\n",
       "      <td>...</td>\n",
       "      <td>...</td>\n",
       "      <td>...</td>\n",
       "    </tr>\n",
       "    <tr>\n",
       "      <th>44602</th>\n",
       "      <td>8380055</td>\n",
       "      <td>45.0</td>\n",
       "      <td>37.0</td>\n",
       "    </tr>\n",
       "    <tr>\n",
       "      <th>44603</th>\n",
       "      <td>8380061</td>\n",
       "      <td>38.0</td>\n",
       "      <td>37.0</td>\n",
       "    </tr>\n",
       "    <tr>\n",
       "      <th>44604</th>\n",
       "      <td>8380063</td>\n",
       "      <td>66.0</td>\n",
       "      <td>32.0</td>\n",
       "    </tr>\n",
       "    <tr>\n",
       "      <th>44605</th>\n",
       "      <td>8380071</td>\n",
       "      <td>59.0</td>\n",
       "      <td>24.0</td>\n",
       "    </tr>\n",
       "    <tr>\n",
       "      <th>44606</th>\n",
       "      <td>8380073</td>\n",
       "      <td>46.0</td>\n",
       "      <td>35.0</td>\n",
       "    </tr>\n",
       "  </tbody>\n",
       "</table>\n",
       "<p>44607 rows × 3 columns</p>\n",
       "</div>"
      ],
      "text/plain": [
       "      ID Сайта  Базовая скидка макс  Базовая скидка мин\n",
       "0      1000054                 57.0                53.0\n",
       "1      1000091                 66.0                 0.0\n",
       "2      1000339                 67.0                62.0\n",
       "3      1000450                  0.0                 0.0\n",
       "4      1000477                  0.0                 0.0\n",
       "...        ...                  ...                 ...\n",
       "44602  8380055                 45.0                37.0\n",
       "44603  8380061                 38.0                37.0\n",
       "44604  8380063                 66.0                32.0\n",
       "44605  8380071                 59.0                24.0\n",
       "44606  8380073                 46.0                35.0\n",
       "\n",
       "[44607 rows x 3 columns]"
      ]
     },
     "execution_count": 60,
     "metadata": {},
     "output_type": "execute_result"
    }
   ],
   "source": [
    "base_discount"
   ]
  },
  {
   "cell_type": "code",
   "execution_count": 61,
   "metadata": {},
   "outputs": [],
   "source": [
    "result = result.merge(base_discount, how='left', on='ID Сайта')"
   ]
  },
  {
   "cell_type": "code",
   "execution_count": 62,
   "metadata": {},
   "outputs": [],
   "source": [
    "df['Цена со скидками'] = np.where(\n",
    "    df['Запрет скидки'] == 'Да', df['Цена Розн., за шт'], df['Цена Розн., за шт'] * (1-df['Скидка на изделии']/100) * 0.8 * 0.6\n",
    ")"
   ]
  },
  {
   "cell_type": "code",
   "execution_count": 64,
   "metadata": {},
   "outputs": [],
   "source": [
    "price_skidki = df.groupby(by = 'ID Сайта', as_index=False)['Цена со скидками'].agg({'min', 'median', 'max'})\n",
    "price_skidki.columns = ['ID Сайта', 'Цена со скидками макс', 'Цена со скидками медиана', 'Цена со скидками мин']\n",
    "price_skidki['Цена со скидками размах, %'] = (price_skidki['Цена со скидками макс'] / price_skidki['Цена со скидками мин'] - 1) "
   ]
  },
  {
   "cell_type": "code",
   "execution_count": 66,
   "metadata": {},
   "outputs": [],
   "source": [
    "result = result.merge(price_skidki, how='left', on='ID Сайта')"
   ]
  },
  {
   "cell_type": "code",
   "execution_count": 67,
   "metadata": {},
   "outputs": [],
   "source": [
    "selfprice = df.groupby(by = 'ID Сайта', as_index=False)['Цена Закупки за 1 шт. (упр сс с НДС за единицу)'].agg({'min', 'median', 'max'})\n",
    "selfprice.columns = ['ID Сайта', 'Себестоимость макс', 'Себестоимость медиана', 'Себестоимость мин']\n",
    "selfprice['Себестоимость размах, %'] = (selfprice['Себестоимость макс'] / selfprice['Себестоимость мин'] - 1) "
   ]
  },
  {
   "cell_type": "code",
   "execution_count": 68,
   "metadata": {},
   "outputs": [
    {
     "data": {
      "text/html": [
       "<div>\n",
       "<style scoped>\n",
       "    .dataframe tbody tr th:only-of-type {\n",
       "        vertical-align: middle;\n",
       "    }\n",
       "\n",
       "    .dataframe tbody tr th {\n",
       "        vertical-align: top;\n",
       "    }\n",
       "\n",
       "    .dataframe thead th {\n",
       "        text-align: right;\n",
       "    }\n",
       "</style>\n",
       "<table border=\"1\" class=\"dataframe\">\n",
       "  <thead>\n",
       "    <tr style=\"text-align: right;\">\n",
       "      <th></th>\n",
       "      <th>ID Сайта</th>\n",
       "      <th>Себестоимость макс</th>\n",
       "      <th>Себестоимость медиана</th>\n",
       "      <th>Себестоимость мин</th>\n",
       "      <th>Себестоимость размах, %</th>\n",
       "    </tr>\n",
       "  </thead>\n",
       "  <tbody>\n",
       "    <tr>\n",
       "      <th>0</th>\n",
       "      <td>1000054</td>\n",
       "      <td>2324.99</td>\n",
       "      <td>2249.94</td>\n",
       "      <td>2197.16</td>\n",
       "      <td>0.058180</td>\n",
       "    </tr>\n",
       "    <tr>\n",
       "      <th>1</th>\n",
       "      <td>1000091</td>\n",
       "      <td>4295.00</td>\n",
       "      <td>4294.99</td>\n",
       "      <td>3181.09</td>\n",
       "      <td>0.350166</td>\n",
       "    </tr>\n",
       "    <tr>\n",
       "      <th>2</th>\n",
       "      <td>1000339</td>\n",
       "      <td>8275.26</td>\n",
       "      <td>8073.05</td>\n",
       "      <td>7914.98</td>\n",
       "      <td>0.045519</td>\n",
       "    </tr>\n",
       "    <tr>\n",
       "      <th>3</th>\n",
       "      <td>1000450</td>\n",
       "      <td>218357.44</td>\n",
       "      <td>218357.44</td>\n",
       "      <td>218357.44</td>\n",
       "      <td>0.000000</td>\n",
       "    </tr>\n",
       "    <tr>\n",
       "      <th>4</th>\n",
       "      <td>1000477</td>\n",
       "      <td>10568.98</td>\n",
       "      <td>9276.36</td>\n",
       "      <td>7726.71</td>\n",
       "      <td>0.367850</td>\n",
       "    </tr>\n",
       "    <tr>\n",
       "      <th>...</th>\n",
       "      <td>...</td>\n",
       "      <td>...</td>\n",
       "      <td>...</td>\n",
       "      <td>...</td>\n",
       "      <td>...</td>\n",
       "    </tr>\n",
       "    <tr>\n",
       "      <th>44602</th>\n",
       "      <td>8380055</td>\n",
       "      <td>6510.98</td>\n",
       "      <td>6300.78</td>\n",
       "      <td>4531.52</td>\n",
       "      <td>0.436820</td>\n",
       "    </tr>\n",
       "    <tr>\n",
       "      <th>44603</th>\n",
       "      <td>8380061</td>\n",
       "      <td>5416.40</td>\n",
       "      <td>5008.69</td>\n",
       "      <td>4142.79</td>\n",
       "      <td>0.307428</td>\n",
       "    </tr>\n",
       "    <tr>\n",
       "      <th>44604</th>\n",
       "      <td>8380063</td>\n",
       "      <td>5864.25</td>\n",
       "      <td>5179.11</td>\n",
       "      <td>3402.11</td>\n",
       "      <td>0.723710</td>\n",
       "    </tr>\n",
       "    <tr>\n",
       "      <th>44605</th>\n",
       "      <td>8380071</td>\n",
       "      <td>7482.00</td>\n",
       "      <td>5337.14</td>\n",
       "      <td>4944.87</td>\n",
       "      <td>0.513083</td>\n",
       "    </tr>\n",
       "    <tr>\n",
       "      <th>44606</th>\n",
       "      <td>8380073</td>\n",
       "      <td>7449.00</td>\n",
       "      <td>5710.05</td>\n",
       "      <td>5111.31</td>\n",
       "      <td>0.457356</td>\n",
       "    </tr>\n",
       "  </tbody>\n",
       "</table>\n",
       "<p>44607 rows × 5 columns</p>\n",
       "</div>"
      ],
      "text/plain": [
       "      ID Сайта  Себестоимость макс  Себестоимость медиана  Себестоимость мин  \\\n",
       "0      1000054             2324.99                2249.94            2197.16   \n",
       "1      1000091             4295.00                4294.99            3181.09   \n",
       "2      1000339             8275.26                8073.05            7914.98   \n",
       "3      1000450           218357.44              218357.44          218357.44   \n",
       "4      1000477            10568.98                9276.36            7726.71   \n",
       "...        ...                 ...                    ...                ...   \n",
       "44602  8380055             6510.98                6300.78            4531.52   \n",
       "44603  8380061             5416.40                5008.69            4142.79   \n",
       "44604  8380063             5864.25                5179.11            3402.11   \n",
       "44605  8380071             7482.00                5337.14            4944.87   \n",
       "44606  8380073             7449.00                5710.05            5111.31   \n",
       "\n",
       "       Себестоимость размах, %  \n",
       "0                     0.058180  \n",
       "1                     0.350166  \n",
       "2                     0.045519  \n",
       "3                     0.000000  \n",
       "4                     0.367850  \n",
       "...                        ...  \n",
       "44602                 0.436820  \n",
       "44603                 0.307428  \n",
       "44604                 0.723710  \n",
       "44605                 0.513083  \n",
       "44606                 0.457356  \n",
       "\n",
       "[44607 rows x 5 columns]"
      ]
     },
     "execution_count": 68,
     "metadata": {},
     "output_type": "execute_result"
    }
   ],
   "source": [
    "selfprice"
   ]
  },
  {
   "cell_type": "code",
   "execution_count": 69,
   "metadata": {},
   "outputs": [],
   "source": [
    "result = result.merge(selfprice, how='left', on='ID Сайта')"
   ]
  },
  {
   "cell_type": "code",
   "execution_count": 70,
   "metadata": {},
   "outputs": [],
   "source": [
    "df['Наценка'] = df['Цена со скидками'] / df['Цена Закупки за 1 шт. (упр сс с НДС за единицу)'] - 1"
   ]
  },
  {
   "cell_type": "code",
   "execution_count": 71,
   "metadata": {},
   "outputs": [],
   "source": [
    "markup = df.groupby(by = 'ID Сайта', as_index=False)['Наценка'].agg({'min', 'median', 'max'})\n",
    "markup.columns = ['ID Сайта', 'Наценка макс', 'Наценка медиана', 'Наценка мин']"
   ]
  },
  {
   "cell_type": "code",
   "execution_count": 73,
   "metadata": {},
   "outputs": [],
   "source": [
    "result = result.merge(markup, how='left', on='ID Сайта')"
   ]
  },
  {
   "cell_type": "code",
   "execution_count": 74,
   "metadata": {},
   "outputs": [],
   "source": [
    "zapret['Артикул сайта'] = zapret['Артикул сайта'].astype(str)"
   ]
  },
  {
   "cell_type": "code",
   "execution_count": 75,
   "metadata": {},
   "outputs": [],
   "source": [
    "zapret = zapret['Артикул сайта'].tolist()"
   ]
  },
  {
   "cell_type": "code",
   "execution_count": 76,
   "metadata": {},
   "outputs": [],
   "source": [
    "result['Запрет к размещению'] = np.nan\n",
    "for i in result.index:\n",
    "    if result['ID Сайта'][i] in zapret:\n",
    "        result['Запрет к размещению'][i] = True\n",
    "    else:\n",
    "        result['Запрет к размещению'][i] = False"
   ]
  },
  {
   "cell_type": "code",
   "execution_count": 77,
   "metadata": {},
   "outputs": [],
   "source": [
    "ecom = pd.read_excel(r'\\\\gold585.int\\uk\\Общее хранилище файлов\\Служба аналитики\\МЮР\\ecom_stock_raw\\Остатки 2024.06.19.xlsx')"
   ]
  },
  {
   "cell_type": "code",
   "execution_count": 78,
   "metadata": {},
   "outputs": [],
   "source": [
    "path = r'\\\\gold585.int\\uk\\Общее хранилище файлов\\Служба аналитики\\Тренкин Сергей\\discounts_zolotoy\\\\'\n",
    "list_of_files = glob.glob(path + '\\*.xlsx') \n",
    "latest_file = max(list_of_files, key=os.path.getctime)\n",
    "\n",
    "discount_ecom = pd.read_excel(latest_file)"
   ]
  },
  {
   "cell_type": "code",
   "execution_count": 79,
   "metadata": {},
   "outputs": [],
   "source": [
    "discount_ecom.columns = ['article', 'Опубликован', 'discount_value_promotions_1', 'discount_value_promotions_2', 'discount_value_promotions_3', 'discount_value_promotions_4']"
   ]
  },
  {
   "cell_type": "code",
   "execution_count": 80,
   "metadata": {},
   "outputs": [],
   "source": [
    "discount_ecom = discount_ecom.drop(columns=['discount_value_promotions_2', 'discount_value_promotions_3', 'discount_value_promotions_4'])"
   ]
  },
  {
   "cell_type": "code",
   "execution_count": 81,
   "metadata": {},
   "outputs": [],
   "source": [
    "ecom = ecom.merge(discount_ecom, how='left', on='article')"
   ]
  },
  {
   "cell_type": "code",
   "execution_count": 82,
   "metadata": {},
   "outputs": [],
   "source": [
    "def discount_index(discount):\n",
    "    try:\n",
    "        return 1 - discount / 100\n",
    "    except:\n",
    "        return 1"
   ]
  },
  {
   "cell_type": "code",
   "execution_count": 83,
   "metadata": {},
   "outputs": [],
   "source": [
    "ecom.discount_value_promotions_1 = ecom.discount_value_promotions_1.apply(discount_index)"
   ]
  },
  {
   "cell_type": "code",
   "execution_count": 84,
   "metadata": {},
   "outputs": [],
   "source": [
    "ecom['Цена со скидками Ecom'] = np.where(\n",
    "    (ecom['price'] == ecom['discount_price']) & (ecom['discount_value_promotions_1'] == 1), ecom['discount_price'] * ecom['discount_value_promotions_1'], \n",
    "    np.where(\n",
    "        ecom['discount_value_promotions_1'] == 0.5, ecom['discount_price'] * ecom['discount_value_promotions_1'], ecom['discount_price'] * ecom['discount_value_promotions_1'] * 0.8\n",
    "    )\n",
    ")"
   ]
  },
  {
   "cell_type": "code",
   "execution_count": 85,
   "metadata": {},
   "outputs": [],
   "source": [
    "ecom['article'] = ecom['article'].astype(str)\n",
    "ecom = ecom[['article', 'size', 'Цена со скидками Ecom']]"
   ]
  },
  {
   "cell_type": "code",
   "execution_count": 86,
   "metadata": {},
   "outputs": [],
   "source": [
    "ecom = ecom.query('article in @tovs')"
   ]
  },
  {
   "cell_type": "code",
   "execution_count": 87,
   "metadata": {},
   "outputs": [],
   "source": [
    "ecom.columns = ['ID Сайта', 'size', 'Цена со скидками Ecom']"
   ]
  },
  {
   "cell_type": "code",
   "execution_count": 88,
   "metadata": {},
   "outputs": [],
   "source": [
    "result = result[result['ID Сайта'] != '']"
   ]
  },
  {
   "cell_type": "code",
   "execution_count": 89,
   "metadata": {},
   "outputs": [],
   "source": [
    "result['ID Сайта'] = result['ID Сайта'].astype(int).astype(str)\n",
    "result['Размер изделия'] = result['Размер изделия'].astype(str)"
   ]
  },
  {
   "cell_type": "code",
   "execution_count": 90,
   "metadata": {},
   "outputs": [],
   "source": [
    "ecom['size'] = ecom['size'].fillna(0.0)\n",
    "ecom['size'] = ecom['size'].astype(str)"
   ]
  },
  {
   "cell_type": "code",
   "execution_count": 91,
   "metadata": {},
   "outputs": [],
   "source": [
    "ecom['merge'] = ecom['ID Сайта'] + ecom['size']"
   ]
  },
  {
   "cell_type": "code",
   "execution_count": 92,
   "metadata": {},
   "outputs": [],
   "source": [
    "result['merge'] = result['ID Сайта'] + result['Размер изделия']"
   ]
  },
  {
   "cell_type": "code",
   "execution_count": 93,
   "metadata": {},
   "outputs": [],
   "source": [
    "ecom = ecom.drop(columns=['ID Сайта', 'size'])"
   ]
  },
  {
   "cell_type": "code",
   "execution_count": 94,
   "metadata": {},
   "outputs": [],
   "source": [
    "result = result.merge(ecom, how='outer', on='merge')"
   ]
  },
  {
   "cell_type": "code",
   "execution_count": 95,
   "metadata": {},
   "outputs": [],
   "source": [
    "result = result.drop(columns=['merge'])"
   ]
  },
  {
   "cell_type": "code",
   "execution_count": 96,
   "metadata": {},
   "outputs": [],
   "source": [
    "result = result.dropna(subset=['ID Сайта'])"
   ]
  },
  {
   "cell_type": "code",
   "execution_count": 97,
   "metadata": {},
   "outputs": [],
   "source": [
    "df['Сумма в себестоимости на остатках'] = df['Остаток'] * df['Цена Закупки за 1 шт. (упр сс с НДС за единицу)']"
   ]
  },
  {
   "cell_type": "code",
   "execution_count": 98,
   "metadata": {},
   "outputs": [],
   "source": [
    "summa_ost = df.groupby(by ='ID Сайта', as_index=False)['Сумма в себестоимости на остатках'].sum()"
   ]
  },
  {
   "cell_type": "code",
   "execution_count": 99,
   "metadata": {},
   "outputs": [],
   "source": [
    "result = result.merge(summa_ost, how='left', on='ID Сайта')"
   ]
  },
  {
   "cell_type": "code",
   "execution_count": 100,
   "metadata": {},
   "outputs": [],
   "source": [
    "df['Цена за грамм'] = df['Цена со скидками'] / df['Чистый вес']"
   ]
  },
  {
   "cell_type": "code",
   "execution_count": 101,
   "metadata": {},
   "outputs": [],
   "source": [
    "price_per_gramm = df.groupby(by = 'ID Сайта', as_index=False)['Цена за грамм'].agg({'min', 'median', 'max'})\n",
    "price_per_gramm.columns = ['ID Сайта', 'Цена за грамм макс', 'Цена за грамм медиана', 'Цена за грамм мин']"
   ]
  },
  {
   "cell_type": "code",
   "execution_count": 102,
   "metadata": {},
   "outputs": [
    {
     "data": {
      "text/html": [
       "<div>\n",
       "<style scoped>\n",
       "    .dataframe tbody tr th:only-of-type {\n",
       "        vertical-align: middle;\n",
       "    }\n",
       "\n",
       "    .dataframe tbody tr th {\n",
       "        vertical-align: top;\n",
       "    }\n",
       "\n",
       "    .dataframe thead th {\n",
       "        text-align: right;\n",
       "    }\n",
       "</style>\n",
       "<table border=\"1\" class=\"dataframe\">\n",
       "  <thead>\n",
       "    <tr style=\"text-align: right;\">\n",
       "      <th></th>\n",
       "      <th>ID Сайта</th>\n",
       "      <th>Цена за грамм макс</th>\n",
       "      <th>Цена за грамм медиана</th>\n",
       "      <th>Цена за грамм мин</th>\n",
       "    </tr>\n",
       "  </thead>\n",
       "  <tbody>\n",
       "    <tr>\n",
       "      <th>0</th>\n",
       "      <td>1000054</td>\n",
       "      <td>5424.730435</td>\n",
       "      <td>4661.402449</td>\n",
       "      <td>4130.568889</td>\n",
       "    </tr>\n",
       "    <tr>\n",
       "      <th>1</th>\n",
       "      <td>1000091</td>\n",
       "      <td>10154.753299</td>\n",
       "      <td>8212.036877</td>\n",
       "      <td>6260.447036</td>\n",
       "    </tr>\n",
       "    <tr>\n",
       "      <th>2</th>\n",
       "      <td>1000339</td>\n",
       "      <td>9800.604713</td>\n",
       "      <td>8449.709528</td>\n",
       "      <td>8315.155950</td>\n",
       "    </tr>\n",
       "    <tr>\n",
       "      <th>3</th>\n",
       "      <td>1000450</td>\n",
       "      <td>83330.508475</td>\n",
       "      <td>83330.508475</td>\n",
       "      <td>83330.508475</td>\n",
       "    </tr>\n",
       "    <tr>\n",
       "      <th>4</th>\n",
       "      <td>1000477</td>\n",
       "      <td>6933.797909</td>\n",
       "      <td>6236.289564</td>\n",
       "      <td>5835.777126</td>\n",
       "    </tr>\n",
       "    <tr>\n",
       "      <th>...</th>\n",
       "      <td>...</td>\n",
       "      <td>...</td>\n",
       "      <td>...</td>\n",
       "      <td>...</td>\n",
       "    </tr>\n",
       "    <tr>\n",
       "      <th>44602</th>\n",
       "      <td>8380055</td>\n",
       "      <td>6904.308293</td>\n",
       "      <td>6902.533206</td>\n",
       "      <td>5042.028169</td>\n",
       "    </tr>\n",
       "    <tr>\n",
       "      <th>44603</th>\n",
       "      <td>8380061</td>\n",
       "      <td>7192.268852</td>\n",
       "      <td>6682.328471</td>\n",
       "      <td>5683.803593</td>\n",
       "    </tr>\n",
       "    <tr>\n",
       "      <th>44604</th>\n",
       "      <td>8380063</td>\n",
       "      <td>7602.581333</td>\n",
       "      <td>7042.098462</td>\n",
       "      <td>4675.393684</td>\n",
       "    </tr>\n",
       "    <tr>\n",
       "      <th>44605</th>\n",
       "      <td>8380071</td>\n",
       "      <td>6982.385116</td>\n",
       "      <td>4950.308571</td>\n",
       "      <td>4216.922429</td>\n",
       "    </tr>\n",
       "    <tr>\n",
       "      <th>44606</th>\n",
       "      <td>8380073</td>\n",
       "      <td>6291.766292</td>\n",
       "      <td>4950.330226</td>\n",
       "      <td>4795.200000</td>\n",
       "    </tr>\n",
       "  </tbody>\n",
       "</table>\n",
       "<p>44607 rows × 4 columns</p>\n",
       "</div>"
      ],
      "text/plain": [
       "      ID Сайта  Цена за грамм макс  Цена за грамм медиана  Цена за грамм мин\n",
       "0      1000054         5424.730435            4661.402449        4130.568889\n",
       "1      1000091        10154.753299            8212.036877        6260.447036\n",
       "2      1000339         9800.604713            8449.709528        8315.155950\n",
       "3      1000450        83330.508475           83330.508475       83330.508475\n",
       "4      1000477         6933.797909            6236.289564        5835.777126\n",
       "...        ...                 ...                    ...                ...\n",
       "44602  8380055         6904.308293            6902.533206        5042.028169\n",
       "44603  8380061         7192.268852            6682.328471        5683.803593\n",
       "44604  8380063         7602.581333            7042.098462        4675.393684\n",
       "44605  8380071         6982.385116            4950.308571        4216.922429\n",
       "44606  8380073         6291.766292            4950.330226        4795.200000\n",
       "\n",
       "[44607 rows x 4 columns]"
      ]
     },
     "execution_count": 102,
     "metadata": {},
     "output_type": "execute_result"
    }
   ],
   "source": [
    "price_per_gramm"
   ]
  },
  {
   "cell_type": "code",
   "execution_count": 103,
   "metadata": {},
   "outputs": [
    {
     "data": {
      "text/plain": [
       "Себестоимость размах, %\n",
       "0.000000    11811\n",
       "inf             5\n",
       "2.790509        4\n",
       "0.054348        3\n",
       "0.031250        3\n",
       "            ...  \n",
       "0.112722        1\n",
       "0.506075        1\n",
       "0.586435        1\n",
       "0.182068        1\n",
       "0.235301        1\n",
       "Name: count, Length: 32761, dtype: int64"
      ]
     },
     "execution_count": 103,
     "metadata": {},
     "output_type": "execute_result"
    }
   ],
   "source": [
    "result['Себестоимость размах, %'].value_counts()"
   ]
  },
  {
   "cell_type": "code",
   "execution_count": 104,
   "metadata": {},
   "outputs": [],
   "source": [
    "result = result.merge(price_per_gramm, how='left', on='ID Сайта')"
   ]
  },
  {
   "cell_type": "code",
   "execution_count": 105,
   "metadata": {},
   "outputs": [],
   "source": [
    "result.to_csv('result.csv', index=False)"
   ]
  },
  {
   "cell_type": "code",
   "execution_count": 106,
   "metadata": {},
   "outputs": [],
   "source": [
    "zapret_sk = df.groupby(by = 'ID Сайта', as_index=False)['Запрет скидки'].count()"
   ]
  },
  {
   "cell_type": "code",
   "execution_count": 107,
   "metadata": {},
   "outputs": [],
   "source": [
    "yes = df[df['Запрет скидки'] == 'Да']\n",
    "no = df[df['Запрет скидки'] == 'Нет']"
   ]
  },
  {
   "cell_type": "code",
   "execution_count": 108,
   "metadata": {},
   "outputs": [],
   "source": [
    "yes = yes.groupby(by = 'ID Сайта', as_index=False)['Запрет скидки'].count()\n",
    "no = no.groupby(by = 'ID Сайта', as_index=False)['Запрет скидки'].count()"
   ]
  },
  {
   "cell_type": "code",
   "execution_count": 109,
   "metadata": {},
   "outputs": [],
   "source": [
    "yes.columns = ['ID Сайта', 'Количество с запрещенной скидкой']"
   ]
  },
  {
   "cell_type": "code",
   "execution_count": 110,
   "metadata": {},
   "outputs": [],
   "source": [
    "no.columns = ['ID Сайта', 'Количество с разрешенной скидкой']"
   ]
  },
  {
   "cell_type": "code",
   "execution_count": 111,
   "metadata": {},
   "outputs": [],
   "source": [
    "yes = yes.merge(no, how='outer', on='ID Сайта')"
   ]
  },
  {
   "cell_type": "code",
   "execution_count": 112,
   "metadata": {},
   "outputs": [],
   "source": [
    "result = result.merge(yes, how='left', on='ID Сайта')"
   ]
  },
  {
   "cell_type": "code",
   "execution_count": 113,
   "metadata": {},
   "outputs": [],
   "source": [
    "result = result.drop_duplicates(subset=['ID Сайта'])"
   ]
  },
  {
   "cell_type": "code",
   "execution_count": 114,
   "metadata": {},
   "outputs": [],
   "source": [
    "df['Дата закупки'] = pd.to_datetime(df['Дата закупки'], dayfirst=True, format='mixed')"
   ]
  },
  {
   "cell_type": "code",
   "execution_count": 115,
   "metadata": {},
   "outputs": [],
   "source": [
    "df['Старая закупка (до 31.12.2022)'] = np.where(\n",
    "    df['Дата закупки'] <= pd.to_datetime('2022-12-31', dayfirst=True, format='mixed'), 1, 0\n",
    ")"
   ]
  },
  {
   "cell_type": "code",
   "execution_count": 116,
   "metadata": {},
   "outputs": [],
   "source": [
    "df['Новая закупка (с 01.01.2023)'] = np.where(\n",
    "    df['Дата закупки'] >= pd.to_datetime('2023-01-01', dayfirst=True, format='mixed'), 1, 0\n",
    ")"
   ]
  },
  {
   "cell_type": "code",
   "execution_count": 117,
   "metadata": {},
   "outputs": [],
   "source": [
    "data = df.groupby(by = 'ID Сайта', as_index=False)[['Старая закупка (до 31.12.2022)', 'Новая закупка (с 01.01.2023)']].sum()"
   ]
  },
  {
   "cell_type": "code",
   "execution_count": 118,
   "metadata": {},
   "outputs": [],
   "source": [
    "data['Дата закупки'] = np.where(\n",
    "    (data['Новая закупка (с 01.01.2023)'] > 0) & (data['Старая закупка (до 31.12.2022)'] > 0), 'Старые и новые',\n",
    "    np.where(\n",
    "        (data['Новая закупка (с 01.01.2023)'] > 0) & (data['Старая закупка (до 31.12.2022)'] == 0), 'Новые', \n",
    "        np.where(\n",
    "            (data['Новая закупка (с 01.01.2023)'] == 0) & (data['Старая закупка (до 31.12.2022)'] > 0), 'Старые', 'Старые'\n",
    "        )\n",
    "    )\n",
    ")"
   ]
  },
  {
   "cell_type": "code",
   "execution_count": 119,
   "metadata": {},
   "outputs": [],
   "source": [
    "data = data.drop(columns=['Старая закупка (до 31.12.2022)', 'Новая закупка (с 01.01.2023)'])"
   ]
  },
  {
   "cell_type": "code",
   "execution_count": 120,
   "metadata": {},
   "outputs": [],
   "source": [
    "result = result.merge(data, how='left', on='ID Сайта')"
   ]
  },
  {
   "cell_type": "code",
   "execution_count": 121,
   "metadata": {},
   "outputs": [],
   "source": [
    "result = result.drop(columns=['Дата закупки_x'])"
   ]
  },
  {
   "cell_type": "code",
   "execution_count": 122,
   "metadata": {},
   "outputs": [],
   "source": [
    "result.columns = ['Код склада', 'Код товара', 'Артикул поставщика', 'Внутренний артикул',\n",
    "    'ID Сайта', 'Товарное направление', 'Товарная группа',\n",
    "    'Товарный кластер', 'Проба', 'Размер изделия', 'Тип изделия 1',\n",
    "    'Тип изделия 2', 'Тип изделия 3', 'Дизайн', 'Бренд',\n",
    "    'Гендерный признак', 'Ценовая корзина', 'Группа цен',\n",
    "    'Цена Розн., за шт', 'Чистый вес', 'Цена изделия на бирке',\n",
    "    'Скидка на изделии', 'Запрет скидки',\n",
    "    'Цена Закупки за 1 шт. (упр сс с НДС за единицу)', 'Опубликован',\n",
    "    'Ссылка на изображение', 'Остаток', 'Количество продаж 14.03-19.06',\n",
    "    'Сумма продаж 14.03-19.06', 'Чистый вес макс', 'Чистый вес медиана',\n",
    "    'Чистый вес мин', 'Чистый вес размах, %', 'Цена изделия на бирке макс',\n",
    "    'Цена изделия на бирке медиана', 'Цена изделия на бирке мин',\n",
    "    'Базовая скидка макс', 'Базовая скидка мин', 'Цена со скидками макс',\n",
    "    'Цена со скидками медиана', 'Цена со скидками мин',\n",
    "    'Цена со скидками размах, %', 'Себестоимость макс',\n",
    "    'Себестоимость медиана', 'Себестоимость мин', 'Себестоимость размах, %',\n",
    "    'Наценка макс', 'Наценка медиана', 'Наценка мин', 'Запрет к размещению',\n",
    "    'Цена со скидками Ecom', 'Сумма в себестоимости на остатках',\n",
    "    'Цена за грамм макс', 'Цена за грамм медиана', 'Цена за грамм мин',\n",
    "    'Количество с запрещенной скидкой', 'Количество с разрешенной скидкой',\n",
    "    'Дата закупки']"
   ]
  },
  {
   "cell_type": "code",
   "execution_count": 123,
   "metadata": {},
   "outputs": [
    {
     "data": {
      "text/html": [
       "<div>\n",
       "<style scoped>\n",
       "    .dataframe tbody tr th:only-of-type {\n",
       "        vertical-align: middle;\n",
       "    }\n",
       "\n",
       "    .dataframe tbody tr th {\n",
       "        vertical-align: top;\n",
       "    }\n",
       "\n",
       "    .dataframe thead th {\n",
       "        text-align: right;\n",
       "    }\n",
       "</style>\n",
       "<table border=\"1\" class=\"dataframe\">\n",
       "  <thead>\n",
       "    <tr style=\"text-align: right;\">\n",
       "      <th></th>\n",
       "      <th>Чистый вес размах, %</th>\n",
       "    </tr>\n",
       "  </thead>\n",
       "  <tbody>\n",
       "    <tr>\n",
       "      <th>0</th>\n",
       "      <td>0.244370</td>\n",
       "    </tr>\n",
       "    <tr>\n",
       "      <th>1</th>\n",
       "      <td>0.928866</td>\n",
       "    </tr>\n",
       "    <tr>\n",
       "      <th>2</th>\n",
       "      <td>0.342493</td>\n",
       "    </tr>\n",
       "    <tr>\n",
       "      <th>3</th>\n",
       "      <td>0.410453</td>\n",
       "    </tr>\n",
       "    <tr>\n",
       "      <th>4</th>\n",
       "      <td>0.261246</td>\n",
       "    </tr>\n",
       "    <tr>\n",
       "      <th>...</th>\n",
       "      <td>...</td>\n",
       "    </tr>\n",
       "    <tr>\n",
       "      <th>44602</th>\n",
       "      <td>0.000000</td>\n",
       "    </tr>\n",
       "    <tr>\n",
       "      <th>44603</th>\n",
       "      <td>0.000000</td>\n",
       "    </tr>\n",
       "    <tr>\n",
       "      <th>44604</th>\n",
       "      <td>0.000000</td>\n",
       "    </tr>\n",
       "    <tr>\n",
       "      <th>44605</th>\n",
       "      <td>0.000000</td>\n",
       "    </tr>\n",
       "    <tr>\n",
       "      <th>44606</th>\n",
       "      <td>0.000000</td>\n",
       "    </tr>\n",
       "  </tbody>\n",
       "</table>\n",
       "<p>44607 rows × 1 columns</p>\n",
       "</div>"
      ],
      "text/plain": [
       "       Чистый вес размах, %\n",
       "0                  0.244370\n",
       "1                  0.928866\n",
       "2                  0.342493\n",
       "3                  0.410453\n",
       "4                  0.261246\n",
       "...                     ...\n",
       "44602              0.000000\n",
       "44603              0.000000\n",
       "44604              0.000000\n",
       "44605              0.000000\n",
       "44606              0.000000\n",
       "\n",
       "[44607 rows x 1 columns]"
      ]
     },
     "execution_count": 123,
     "metadata": {},
     "output_type": "execute_result"
    }
   ],
   "source": [
    "result[['Чистый вес размах, %']]"
   ]
  },
  {
   "cell_type": "code",
   "execution_count": 124,
   "metadata": {},
   "outputs": [],
   "source": [
    "result['Размах по весу'] = np.where(\n",
    "    result['Чистый вес размах, %'] >= 0.3, '3. Большой размах (>30%)',\n",
    "    np.where(\n",
    "        result['Чистый вес размах, %'] >= 0.1, '2. Средний размах (10-30%)', '1. Небольшой размах (<10%)'\n",
    "    )\n",
    ")"
   ]
  },
  {
   "cell_type": "code",
   "execution_count": 125,
   "metadata": {},
   "outputs": [],
   "source": [
    "result['Размах по себестоимости'] = np.where(\n",
    "    result['Себестоимость размах, %'] >= 0.5, '3. Большой размах (>50%)',\n",
    "    np.where(\n",
    "        result['Себестоимость размах, %'] >= 0.2, '2. Средний размах (20-50%)', '1. Небольшой размах (<10%)'\n",
    "    )\n",
    ")"
   ]
  },
  {
   "cell_type": "code",
   "execution_count": 126,
   "metadata": {},
   "outputs": [],
   "source": [
    "result['Размах по цене со скидками'] = np.where(\n",
    "    result['Цена со скидками размах, %'] >= 0.5, '3. Большой размах (>50%)',\n",
    "    np.where(\n",
    "        result['Цена со скидками размах, %'] >= 0.2, '2. Средний размах (20-50%)', '1. Небольшой размах (<10%)'\n",
    "    )\n",
    ")"
   ]
  },
  {
   "cell_type": "code",
   "execution_count": 129,
   "metadata": {},
   "outputs": [],
   "source": [
    "result['Цена за грамм размах, %'] = (result['Цена за грамм макс'] / result['Цена за грамм мин'] - 1) "
   ]
  },
  {
   "cell_type": "code",
   "execution_count": 130,
   "metadata": {},
   "outputs": [],
   "source": [
    "result['Размах по цене за грамм'] = np.where(\n",
    "    result['Цена за грамм размах, %'] >= 0.3, '3. Большой размах (>30%)',\n",
    "    np.where(\n",
    "        result['Цена за грамм размах, %'] >= 0.1, '2. Средний размах (10-30%)', '1. Небольшой размах (<10%)'\n",
    "    )\n",
    ")"
   ]
  },
  {
   "cell_type": "code",
   "execution_count": 131,
   "metadata": {},
   "outputs": [],
   "source": [
    "result['Скидка разрешена'] = result['Количество с запрещенной скидкой'] + result['Количество с разрешенной скидкой']"
   ]
  },
  {
   "cell_type": "code",
   "execution_count": 132,
   "metadata": {},
   "outputs": [],
   "source": [
    "result['Скидка разрешена'] = np.where(\n",
    "    result['Скидка разрешена'].astype(str).str.contains('nan'), 'Да или нет', 'Да и нет'\n",
    ")"
   ]
  },
  {
   "cell_type": "code",
   "execution_count": 133,
   "metadata": {},
   "outputs": [
    {
     "data": {
      "text/plain": [
       "Index(['Код склада', 'Код товара', 'Артикул поставщика', 'Внутренний артикул',\n",
       "       'ID Сайта', 'Товарное направление', 'Товарная группа',\n",
       "       'Товарный кластер', 'Проба', 'Размер изделия', 'Тип изделия 1',\n",
       "       'Тип изделия 2', 'Тип изделия 3', 'Дизайн', 'Бренд',\n",
       "       'Гендерный признак', 'Ценовая корзина', 'Группа цен',\n",
       "       'Цена Розн., за шт', 'Чистый вес', 'Цена изделия на бирке',\n",
       "       'Скидка на изделии', 'Запрет скидки',\n",
       "       'Цена Закупки за 1 шт. (упр сс с НДС за единицу)', 'Опубликован',\n",
       "       'Ссылка на изображение', 'Остаток', 'Количество продаж 14.03-19.06',\n",
       "       'Сумма продаж 14.03-19.06', 'Чистый вес макс', 'Чистый вес медиана',\n",
       "       'Чистый вес мин', 'Чистый вес размах, %', 'Цена изделия на бирке макс',\n",
       "       'Цена изделия на бирке медиана', 'Цена изделия на бирке мин',\n",
       "       'Базовая скидка макс', 'Базовая скидка мин', 'Цена со скидками макс',\n",
       "       'Цена со скидками медиана', 'Цена со скидками мин',\n",
       "       'Цена со скидками размах, %', 'Себестоимость макс',\n",
       "       'Себестоимость медиана', 'Себестоимость мин', 'Себестоимость размах, %',\n",
       "       'Наценка макс', 'Наценка медиана', 'Наценка мин', 'Запрет к размещению',\n",
       "       'Цена со скидками Ecom', 'Сумма в себестоимости на остатках',\n",
       "       'Цена за грамм макс', 'Цена за грамм медиана', 'Цена за грамм мин',\n",
       "       'Количество с запрещенной скидкой', 'Количество с разрешенной скидкой',\n",
       "       'Дата закупки', 'Размах по весу', 'Размах по себестоимости',\n",
       "       'Размах по цене со скидками', 'Цена за грамм размах, %',\n",
       "       'Размах по цене за грамм', 'Скидка разрешена'],\n",
       "      dtype='object')"
      ]
     },
     "execution_count": 133,
     "metadata": {},
     "output_type": "execute_result"
    }
   ],
   "source": [
    "result.columns"
   ]
  },
  {
   "cell_type": "code",
   "execution_count": 134,
   "metadata": {},
   "outputs": [],
   "source": [
    "result['Цена изделия на бирке размах, %'] = (result['Цена изделия на бирке макс'] / result['Цена изделия на бирке мин'] - 1) "
   ]
  },
  {
   "cell_type": "code",
   "execution_count": 135,
   "metadata": {},
   "outputs": [],
   "source": [
    "result['Размах цена изделия на бирке'] = np.where(\n",
    "    result['Цена изделия на бирке размах, %'] >= 0.5, '3. Большой размах (>50%)',\n",
    "    np.where(\n",
    "        result['Цена изделия на бирке размах, %'] >= 0.2, '2. Средний размах (20-50%)', '1. Небольшой размах (<20%)'\n",
    "    )\n",
    ")"
   ]
  },
  {
   "cell_type": "code",
   "execution_count": 136,
   "metadata": {},
   "outputs": [],
   "source": [
    "result = result.drop(columns = ['Код склада', 'Чистый вес', 'Цена изделия на бирке', 'Скидка на изделии', 'Запрет скидки', 'Цена Закупки за 1 шт. (упр сс с НДС за единицу)',\n",
    "                                'Запрет скидки'])"
   ]
  },
  {
   "cell_type": "code",
   "execution_count": 137,
   "metadata": {},
   "outputs": [],
   "source": [
    "result = result[['Код товара', 'Артикул поставщика', 'Внутренний артикул', 'ID Сайта',\n",
    "    'Товарное направление', 'Товарная группа', 'Товарный кластер', 'Проба',\n",
    "    'Размер изделия', 'Тип изделия 1', 'Тип изделия 2', 'Тип изделия 3',\n",
    "    'Дизайн', 'Бренд', 'Гендерный признак', 'Ценовая корзина', 'Группа цен',\n",
    "    'Опубликован', 'Ссылка на изображение', 'Остаток', 'Цена Розн., за шт',\n",
    "    'Количество продаж 14.03-19.06', 'Сумма продаж 14.03-19.06',\n",
    "    'Чистый вес макс', 'Чистый вес медиана', 'Чистый вес мин',\n",
    "    'Чистый вес размах, %', 'Цена изделия на бирке макс',\n",
    "    'Цена изделия на бирке медиана', 'Цена изделия на бирке мин', 'Цена изделия на бирке размах, %',\n",
    "    'Базовая скидка макс', 'Базовая скидка мин', 'Цена со скидками макс',\n",
    "    'Цена со скидками медиана', 'Цена со скидками мин',\n",
    "    'Цена со скидками размах, %', 'Себестоимость макс',\n",
    "    'Себестоимость медиана', 'Себестоимость мин', 'Себестоимость размах, %',\n",
    "    'Наценка макс', 'Наценка медиана', 'Наценка мин', 'Запрет к размещению',\n",
    "    'Цена со скидками Ecom', 'Сумма в себестоимости на остатках',\n",
    "    'Цена за грамм макс', 'Цена за грамм медиана', 'Цена за грамм мин', 'Цена за грамм размах, %',\n",
    "    'Количество с запрещенной скидкой', 'Количество с разрешенной скидкой',\n",
    "    'Размах по весу', 'Размах по себестоимости',\n",
    "    'Размах по цене со скидками', 'Размах по цене за грамм', 'Размах цена изделия на бирке', 'Скидка разрешена', 'Дата закупки']]"
   ]
  },
  {
   "cell_type": "code",
   "execution_count": 138,
   "metadata": {},
   "outputs": [],
   "source": [
    "tov = result.groupby(by = 'Товарная группа')['Остаток'].sum()"
   ]
  },
  {
   "cell_type": "code",
   "execution_count": 139,
   "metadata": {},
   "outputs": [
    {
     "data": {
      "text/plain": [
       "Товарная группа\n",
       "БК АКСЕССУАРЫ          98.0\n",
       "БК КОЛЬЦА           68007.0\n",
       "БК КОЛЬЦА ОБРУЧ    218880.0\n",
       "БК ПЕЧАТКИ          18568.0\n",
       "БК ПОДВЕС ДЕКОР     44555.0\n",
       "БК ПОДВЕС КУЛЬТ    180520.0\n",
       "БК СЕРЬГИ          217374.0\n",
       "ДК КАМНИ                6.0\n",
       "ДК КОЛЬЦА          239842.0\n",
       "ДК КОЛЬЦА ОБРУЧ     33501.0\n",
       "ДК ПЕЧАТКИ           6062.0\n",
       "ДК ПОДВЕСКИ         65128.0\n",
       "ДК СЕРЬГИ          167163.0\n",
       "ИФ АКСЕССУАРЫ         433.0\n",
       "ИФ КОЛЬЦА          242694.0\n",
       "ИФ КОЛЬЦА ОБРУЧ     27511.0\n",
       "ИФ ПЕЧАТКИ          26535.0\n",
       "ИФ ПОДВЕС ДЕКОР    123752.0\n",
       "ИФ ПОДВЕС КУЛЬТ     38167.0\n",
       "ИФ СЕРЬГИ          331658.0\n",
       "ОПТ БК               6164.0\n",
       "ОПТ ИФ              12540.0\n",
       "ОПТ КОНГО            1771.0\n",
       "ОПТ ОБРУЧИ           4027.0\n",
       "ОПТ ПДК              2938.0\n",
       "ПДК КОЛЬЦА         186787.0\n",
       "ПДК ПЕЧАТКИ         11563.0\n",
       "ПДК ПОДВЕСКИ       102319.0\n",
       "ПДК СЕРЬГИ         232844.0\n",
       "ЦБ БРАСЛЕТЫ        228330.0\n",
       "ЦБ ЦЕПИ            348324.0\n",
       "Name: Остаток, dtype: float64"
      ]
     },
     "execution_count": 139,
     "metadata": {},
     "output_type": "execute_result"
    }
   ],
   "source": [
    "tov"
   ]
  },
  {
   "cell_type": "code",
   "execution_count": 140,
   "metadata": {},
   "outputs": [],
   "source": [
    "tov_sales = result.groupby(by = 'Товарная группа')['Количество продаж 14.03-19.06'].sum()"
   ]
  },
  {
   "cell_type": "code",
   "execution_count": 141,
   "metadata": {},
   "outputs": [],
   "source": [
    "result['Доля % остатка ID отосительно остатка ТГ'] = np.nan\n",
    "for i in result.index: \n",
    "    t = result['Товарная группа'][i]\n",
    "    result['Доля % остатка ID отосительно остатка ТГ'] = result['Остаток'] / tov[t] "
   ]
  },
  {
   "cell_type": "code",
   "execution_count": 142,
   "metadata": {},
   "outputs": [
    {
     "name": "stdout",
     "output_type": "stream",
     "text": [
      "<class 'pandas.core.frame.DataFrame'>\n",
      "RangeIndex: 44607 entries, 0 to 44606\n",
      "Data columns (total 61 columns):\n",
      " #   Column                                    Non-Null Count  Dtype  \n",
      "---  ------                                    --------------  -----  \n",
      " 0   Код товара                                44607 non-null  object \n",
      " 1   Артикул поставщика                        44607 non-null  object \n",
      " 2   Внутренний артикул                        44607 non-null  object \n",
      " 3   ID Сайта                                  44607 non-null  object \n",
      " 4   Товарное направление                      44607 non-null  object \n",
      " 5   Товарная группа                           44607 non-null  object \n",
      " 6   Товарный кластер                          44607 non-null  object \n",
      " 7   Проба                                     44607 non-null  object \n",
      " 8   Размер изделия                            44607 non-null  object \n",
      " 9   Тип изделия 1                             44607 non-null  object \n",
      " 10  Тип изделия 2                             44607 non-null  object \n",
      " 11  Тип изделия 3                             44607 non-null  object \n",
      " 12  Дизайн                                    44607 non-null  object \n",
      " 13  Бренд                                     44607 non-null  object \n",
      " 14  Гендерный признак                         44607 non-null  object \n",
      " 15  Ценовая корзина                           44607 non-null  object \n",
      " 16  Группа цен                                44607 non-null  object \n",
      " 17  Опубликован                               34608 non-null  object \n",
      " 18  Ссылка на изображение                     34608 non-null  object \n",
      " 19  Остаток                                   44607 non-null  float64\n",
      " 20  Цена Розн., за шт                         44606 non-null  float64\n",
      " 21  Количество продаж 14.03-19.06             25669 non-null  float64\n",
      " 22  Сумма продаж 14.03-19.06                  25669 non-null  float64\n",
      " 23  Чистый вес макс                           44607 non-null  float64\n",
      " 24  Чистый вес медиана                        44607 non-null  float64\n",
      " 25  Чистый вес мин                            44607 non-null  float64\n",
      " 26  Чистый вес размах, %                      44605 non-null  float64\n",
      " 27  Цена изделия на бирке макс                44606 non-null  float64\n",
      " 28  Цена изделия на бирке медиана             44606 non-null  float64\n",
      " 29  Цена изделия на бирке мин                 44606 non-null  float64\n",
      " 30  Цена изделия на бирке размах, %           44606 non-null  float64\n",
      " 31  Базовая скидка макс                       44607 non-null  float64\n",
      " 32  Базовая скидка мин                        44607 non-null  float64\n",
      " 33  Цена со скидками макс                     44606 non-null  float64\n",
      " 34  Цена со скидками медиана                  44606 non-null  float64\n",
      " 35  Цена со скидками мин                      44606 non-null  float64\n",
      " 36  Цена со скидками размах, %                44606 non-null  float64\n",
      " 37  Себестоимость макс                        44607 non-null  float64\n",
      " 38  Себестоимость медиана                     44607 non-null  float64\n",
      " 39  Себестоимость мин                         44607 non-null  float64\n",
      " 40  Себестоимость размах, %                   44606 non-null  float64\n",
      " 41  Наценка макс                              44606 non-null  float64\n",
      " 42  Наценка медиана                           44606 non-null  float64\n",
      " 43  Наценка мин                               44606 non-null  float64\n",
      " 44  Запрет к размещению                       44607 non-null  object \n",
      " 45  Цена со скидками Ecom                     44015 non-null  float64\n",
      " 46  Сумма в себестоимости на остатках         44607 non-null  float64\n",
      " 47  Цена за грамм макс                        44606 non-null  float64\n",
      " 48  Цена за грамм медиана                     44606 non-null  float64\n",
      " 49  Цена за грамм мин                         44606 non-null  float64\n",
      " 50  Цена за грамм размах, %                   44604 non-null  float64\n",
      " 51  Количество с запрещенной скидкой          15265 non-null  float64\n",
      " 52  Количество с разрешенной скидкой          29882 non-null  float64\n",
      " 53  Размах по весу                            44607 non-null  object \n",
      " 54  Размах по себестоимости                   44607 non-null  object \n",
      " 55  Размах по цене со скидками                44607 non-null  object \n",
      " 56  Размах по цене за грамм                   44607 non-null  object \n",
      " 57  Размах цена изделия на бирке              44607 non-null  object \n",
      " 58  Скидка разрешена                          44607 non-null  object \n",
      " 59  Дата закупки                              44607 non-null  object \n",
      " 60  Доля % остатка ID отосительно остатка ТГ  44607 non-null  float64\n",
      "dtypes: float64(34), object(27)\n",
      "memory usage: 20.8+ MB\n"
     ]
    }
   ],
   "source": [
    "result.info()"
   ]
  },
  {
   "cell_type": "code",
   "execution_count": 144,
   "metadata": {},
   "outputs": [
    {
     "data": {
      "text/html": [
       "<div>\n",
       "<style scoped>\n",
       "    .dataframe tbody tr th:only-of-type {\n",
       "        vertical-align: middle;\n",
       "    }\n",
       "\n",
       "    .dataframe tbody tr th {\n",
       "        vertical-align: top;\n",
       "    }\n",
       "\n",
       "    .dataframe thead th {\n",
       "        text-align: right;\n",
       "    }\n",
       "</style>\n",
       "<table border=\"1\" class=\"dataframe\">\n",
       "  <thead>\n",
       "    <tr style=\"text-align: right;\">\n",
       "      <th></th>\n",
       "      <th>Цена изделия на бирке макс</th>\n",
       "      <th>Цена изделия на бирке мин</th>\n",
       "      <th>Цена изделия на бирке медиана</th>\n",
       "    </tr>\n",
       "  </thead>\n",
       "  <tbody>\n",
       "    <tr>\n",
       "      <th>0</th>\n",
       "      <td>93658.0</td>\n",
       "      <td>62896.0</td>\n",
       "      <td>62896.0</td>\n",
       "    </tr>\n",
       "    <tr>\n",
       "      <th>1</th>\n",
       "      <td>130109.0</td>\n",
       "      <td>48404.0</td>\n",
       "      <td>87062.0</td>\n",
       "    </tr>\n",
       "    <tr>\n",
       "      <th>2</th>\n",
       "      <td>169978.0</td>\n",
       "      <td>72238.0</td>\n",
       "      <td>151742.0</td>\n",
       "    </tr>\n",
       "    <tr>\n",
       "      <th>3</th>\n",
       "      <td>104835.0</td>\n",
       "      <td>56497.0</td>\n",
       "      <td>82717.0</td>\n",
       "    </tr>\n",
       "    <tr>\n",
       "      <th>4</th>\n",
       "      <td>47137.0</td>\n",
       "      <td>30916.0</td>\n",
       "      <td>42223.0</td>\n",
       "    </tr>\n",
       "    <tr>\n",
       "      <th>...</th>\n",
       "      <td>...</td>\n",
       "      <td>...</td>\n",
       "      <td>...</td>\n",
       "    </tr>\n",
       "    <tr>\n",
       "      <th>44602</th>\n",
       "      <td>14695.0</td>\n",
       "      <td>14695.0</td>\n",
       "      <td>14695.0</td>\n",
       "    </tr>\n",
       "    <tr>\n",
       "      <th>44603</th>\n",
       "      <td>14490.0</td>\n",
       "      <td>14490.0</td>\n",
       "      <td>14490.0</td>\n",
       "    </tr>\n",
       "    <tr>\n",
       "      <th>44604</th>\n",
       "      <td>11513.0</td>\n",
       "      <td>11513.0</td>\n",
       "      <td>11513.0</td>\n",
       "    </tr>\n",
       "    <tr>\n",
       "      <th>44605</th>\n",
       "      <td>10450.0</td>\n",
       "      <td>10450.0</td>\n",
       "      <td>10450.0</td>\n",
       "    </tr>\n",
       "    <tr>\n",
       "      <th>44606</th>\n",
       "      <td>9220.0</td>\n",
       "      <td>9220.0</td>\n",
       "      <td>9220.0</td>\n",
       "    </tr>\n",
       "  </tbody>\n",
       "</table>\n",
       "<p>44607 rows × 3 columns</p>\n",
       "</div>"
      ],
      "text/plain": [
       "       Цена изделия на бирке макс  Цена изделия на бирке мин  \\\n",
       "0                         93658.0                    62896.0   \n",
       "1                        130109.0                    48404.0   \n",
       "2                        169978.0                    72238.0   \n",
       "3                        104835.0                    56497.0   \n",
       "4                         47137.0                    30916.0   \n",
       "...                           ...                        ...   \n",
       "44602                     14695.0                    14695.0   \n",
       "44603                     14490.0                    14490.0   \n",
       "44604                     11513.0                    11513.0   \n",
       "44605                     10450.0                    10450.0   \n",
       "44606                      9220.0                     9220.0   \n",
       "\n",
       "       Цена изделия на бирке медиана  \n",
       "0                            62896.0  \n",
       "1                            87062.0  \n",
       "2                           151742.0  \n",
       "3                            82717.0  \n",
       "4                            42223.0  \n",
       "...                              ...  \n",
       "44602                        14695.0  \n",
       "44603                        14490.0  \n",
       "44604                        11513.0  \n",
       "44605                        10450.0  \n",
       "44606                         9220.0  \n",
       "\n",
       "[44607 rows x 3 columns]"
      ]
     },
     "execution_count": 144,
     "metadata": {},
     "output_type": "execute_result"
    }
   ],
   "source": [
    "result[['Цена изделия на бирке макс', 'Цена изделия на бирке мин', 'Цена изделия на бирке медиана']]"
   ]
  },
  {
   "cell_type": "code",
   "execution_count": 145,
   "metadata": {},
   "outputs": [
    {
     "data": {
      "text/plain": [
       "Index(['Код товара', 'Артикул поставщика', 'Внутренний артикул', 'ID Сайта',\n",
       "       'Товарное направление', 'Товарная группа', 'Товарный кластер', 'Проба',\n",
       "       'Размер изделия', 'Тип изделия 1', 'Тип изделия 2', 'Тип изделия 3',\n",
       "       'Дизайн', 'Бренд', 'Гендерный признак', 'Ценовая корзина', 'Группа цен',\n",
       "       'Опубликован', 'Ссылка на изображение', 'Остаток', 'Цена Розн., за шт',\n",
       "       'Количество продаж 14.03-19.06', 'Сумма продаж 14.03-19.06',\n",
       "       'Чистый вес макс', 'Чистый вес медиана', 'Чистый вес мин',\n",
       "       'Чистый вес размах, %', 'Цена изделия на бирке макс',\n",
       "       'Цена изделия на бирке медиана', 'Цена изделия на бирке мин',\n",
       "       'Цена изделия на бирке размах, %', 'Базовая скидка макс',\n",
       "       'Базовая скидка мин', 'Цена со скидками макс',\n",
       "       'Цена со скидками медиана', 'Цена со скидками мин',\n",
       "       'Цена со скидками размах, %', 'Себестоимость макс',\n",
       "       'Себестоимость медиана', 'Себестоимость мин', 'Себестоимость размах, %',\n",
       "       'Наценка макс', 'Наценка медиана', 'Наценка мин', 'Запрет к размещению',\n",
       "       'Цена со скидками Ecom', 'Сумма в себестоимости на остатках',\n",
       "       'Цена за грамм макс', 'Цена за грамм медиана', 'Цена за грамм мин',\n",
       "       'Цена за грамм размах, %', 'Количество с запрещенной скидкой',\n",
       "       'Количество с разрешенной скидкой', 'Размах по весу',\n",
       "       'Размах по себестоимости', 'Размах по цене со скидками',\n",
       "       'Размах по цене за грамм', 'Размах цена изделия на бирке',\n",
       "       'Скидка разрешена', 'Дата закупки',\n",
       "       'Доля % остатка ID отосительно остатка ТГ'],\n",
       "      dtype='object')"
      ]
     },
     "execution_count": 145,
     "metadata": {},
     "output_type": "execute_result"
    }
   ],
   "source": [
    "result.columns"
   ]
  },
  {
   "cell_type": "code",
   "execution_count": 146,
   "metadata": {},
   "outputs": [],
   "source": [
    "result['Доля % относительно продаж ТГ 14.03-19.06'] = np.nan\n",
    "for i in result.index: \n",
    "    t = result['Товарная группа'][i]\n",
    "    result['Доля % относительно продаж ТГ 14.03-19.06'] = result['Количество продаж 14.03-19.06'] / tov_sales[t] "
   ]
  },
  {
   "cell_type": "code",
   "execution_count": 147,
   "metadata": {},
   "outputs": [],
   "source": [
    "\n",
    "result.to_excel(r'C:\\Users\\Trenkin.Sergey\\Desktop\\notebooks\\result.xlsx', index=False)"
   ]
  },
  {
   "cell_type": "code",
   "execution_count": 148,
   "metadata": {},
   "outputs": [],
   "source": [
    "result.to_excel(r'\\\\gold585.int\\uk\\Общее хранилище файлов\\Служба аналитики\\Тренкин Сергей\\Исследование цен\\\\в разрезе ID исправленный.xlsx', index=False)"
   ]
  },
  {
   "cell_type": "code",
   "execution_count": 149,
   "metadata": {},
   "outputs": [
    {
     "data": {
      "text/plain": [
       "Товарное направление\n",
       "ПДК    15220\n",
       "ДК     13820\n",
       "ИФ      8328\n",
       "БК      4796\n",
       "ЦБ      2443\n",
       "Name: count, dtype: int64"
      ]
     },
     "execution_count": 149,
     "metadata": {},
     "output_type": "execute_result"
    }
   ],
   "source": [
    "result['Товарное направление'].value_counts()"
   ]
  },
  {
   "cell_type": "code",
   "execution_count": 150,
   "metadata": {},
   "outputs": [],
   "source": [
    "for i in result['Товарное направление'].unique():\n",
    "    result[result['Товарное направление'] == i].to_excel(rf'\\\\gold585.int\\uk\\Общее хранилище файлов\\Служба аналитики\\Тренкин Сергей\\Исследование цен\\\\Исследование цен для {i} в разрезе ID.xlsx', index=False) "
   ]
  },
  {
   "cell_type": "code",
   "execution_count": null,
   "metadata": {},
   "outputs": [],
   "source": []
  },
  {
   "cell_type": "code",
   "execution_count": null,
   "metadata": {},
   "outputs": [],
   "source": []
  }
 ],
 "metadata": {
  "kernelspec": {
   "display_name": "Python 3",
   "language": "python",
   "name": "python3"
  },
  "language_info": {
   "codemirror_mode": {
    "name": "ipython",
    "version": 3
   },
   "file_extension": ".py",
   "mimetype": "text/x-python",
   "name": "python",
   "nbconvert_exporter": "python",
   "pygments_lexer": "ipython3",
   "version": "3.12.0"
  }
 },
 "nbformat": 4,
 "nbformat_minor": 2
}
