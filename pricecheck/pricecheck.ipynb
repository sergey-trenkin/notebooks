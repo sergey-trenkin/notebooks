{
 "cells": [
  {
   "cell_type": "code",
   "execution_count": 1,
   "metadata": {},
   "outputs": [],
   "source": [
    "from tqdm import tqdm\n",
    "import pymssql\n",
    "import pandas as pd\n",
    "import numpy as np\n",
    "import warnings\n",
    "import glob \n",
    "import os\n",
    "\n",
    "warnings.filterwarnings('ignore')"
   ]
  },
  {
   "cell_type": "code",
   "execution_count": 119,
   "metadata": {},
   "outputs": [],
   "source": [
    "conn = pymssql.connect(server='AX-SQL', database='Staging')\n",
    "cursor = conn.cursor()\n",
    "\n",
    "sql = f'''\n",
    "SELECT [Код склада], [Код товара], [Артикул поставщика], [Внутренний артикул], [ID Сайта], [Товарное направление],\n",
    "[Товарная группа], [Товарный кластер], [Проба], [Размер изделия], [Тип изделия 1], [Тип изделия 2],\n",
    "[Тип изделия 3], [Дизайн], [Бренд], [Гендерный признак], [Ценовая корзина], [Группа цен], [Остаток], [Цена Розн., за шт],\n",
    "[Чистый вес], [Цена изделия на бирке], [Скидка на изделии], [Запрет скидки], [Цена Закупки за 1 шт. (упр сс с НДС за единицу)], [Дата закупки]\n",
    "from [Staging].[Reports].[Remainings_8h]\n",
    "where [Товарное направление] in (N'БК', N'ЦБ', N'ИФ', N'ПДК', N'ДК')\n",
    "'''\n",
    "\n",
    "sql_query = pd.read_sql_query(sql, conn)\n",
    "stock = pd.DataFrame(sql_query)"
   ]
  },
  {
   "cell_type": "code",
   "execution_count": 3,
   "metadata": {},
   "outputs": [],
   "source": [
    "images = pd.read_excel(r'C:\\Users\\Trenkin.Sergey\\Desktop\\Артикул-фото 2024.06.11_.xlsx')"
   ]
  },
  {
   "cell_type": "code",
   "execution_count": 4,
   "metadata": {},
   "outputs": [],
   "source": [
    "zapret = pd.read_excel(r'C:\\Users\\Trenkin.Sergey\\Desktop\\запрет Артикулы к размещению.xlsx')"
   ]
  },
  {
   "cell_type": "code",
   "execution_count": 5,
   "metadata": {},
   "outputs": [],
   "source": [
    "kniga = pd.read_excel(r'C:\\Users\\Trenkin.Sergey\\Desktop\\Книга11.xlsx')"
   ]
  },
  {
   "cell_type": "code",
   "execution_count": 6,
   "metadata": {},
   "outputs": [
    {
     "data": {
      "text/plain": [
       "['2024-03-10_2024-03-19.xlsx',\n",
       " '2024-03-20_2024-03-31.xlsx',\n",
       " '2024-04-01_2024-04-09.xlsx',\n",
       " '2024-04-10_2024-04-19.xlsx',\n",
       " '2024-04-20_2024-04-30.xlsx',\n",
       " '2024-05-01_2024-05-09.xlsx',\n",
       " '2024-05-10_2024-05-19.xlsx',\n",
       " '2024-06-01_2024-06-09.xlsx',\n",
       " '2024-06-10_2024-06-10.xlsx',\n",
       " '2024-06-10_2024-06-12.xlsx',\n",
       " 'Книга13.xlsx']"
      ]
     },
     "execution_count": 6,
     "metadata": {},
     "output_type": "execute_result"
    }
   ],
   "source": [
    "os.chdir(r'C:\\\\Users\\Trenkin.Sergey\\Desktop\\sales')\n",
    "extension = 'xlsx'\n",
    "all_filenames = [i for i in glob.glob('*.{}'.format(extension))]\n",
    "all_filenames"
   ]
  },
  {
   "cell_type": "code",
   "execution_count": 7,
   "metadata": {},
   "outputs": [
    {
     "name": "stderr",
     "output_type": "stream",
     "text": [
      "  0%|          | 0/11 [00:00<?, ?it/s]"
     ]
    },
    {
     "name": "stderr",
     "output_type": "stream",
     "text": [
      "100%|██████████| 11/11 [10:37<00:00, 57.91s/it]\n"
     ]
    }
   ],
   "source": [
    "sale = pd.DataFrame()\n",
    "for name in tqdm(all_filenames):\n",
    "    sales = pd.read_excel(name)\n",
    "    sale = pd.concat([sales, sale], ignore_index= True)"
   ]
  },
  {
   "cell_type": "code",
   "execution_count": 8,
   "metadata": {},
   "outputs": [],
   "source": [
    "sale['Дата'] = pd.to_datetime(sale['Дата'], dayfirst=True, format='mixed')"
   ]
  },
  {
   "cell_type": "code",
   "execution_count": 9,
   "metadata": {},
   "outputs": [],
   "source": [
    "sale = sale[(sale['Дата'] >= pd.to_datetime('2024-03-14', dayfirst=True, format='mixed')) & \n",
    "            (sale['Дата'] <= pd.to_datetime('2024-06-11', dayfirst=True, format='mixed'))]"
   ]
  },
  {
   "cell_type": "code",
   "execution_count": 10,
   "metadata": {},
   "outputs": [],
   "source": [
    "sale = sale.groupby(by = 'Тов', as_index=False)[['Количество', 'Общая сумма']].sum()"
   ]
  },
  {
   "cell_type": "code",
   "execution_count": 11,
   "metadata": {},
   "outputs": [],
   "source": [
    "kniga['Код склада'] = kniga['Код склада'].astype(str)\n",
    "skladi = kniga['Код склада'].unique().tolist()"
   ]
  },
  {
   "cell_type": "code",
   "execution_count": 120,
   "metadata": {},
   "outputs": [
    {
     "data": {
      "text/plain": [
       "Index(['Код склада', 'Код товара', 'Артикул поставщика', 'Внутренний артикул',\n",
       "       'ID Сайта', 'Товарное направление', 'Товарная группа',\n",
       "       'Товарный кластер', 'Проба', 'Размер изделия', 'Тип изделия 1',\n",
       "       'Тип изделия 2', 'Тип изделия 3', 'Дизайн', 'Бренд',\n",
       "       'Гендерный признак', 'Ценовая корзина', 'Группа цен', 'Остаток',\n",
       "       'Цена Розн., за шт', 'Чистый вес', 'Цена изделия на бирке',\n",
       "       'Скидка на изделии', 'Запрет скидки',\n",
       "       'Цена Закупки за 1 шт. (упр сс с НДС за единицу)', 'Дата закупки'],\n",
       "      dtype='object')"
      ]
     },
     "execution_count": 120,
     "metadata": {},
     "output_type": "execute_result"
    }
   ],
   "source": [
    "stock.columns"
   ]
  },
  {
   "cell_type": "code",
   "execution_count": 121,
   "metadata": {},
   "outputs": [],
   "source": [
    "stock.columns = ['code', 'Код товара', 'Артикул поставщика', 'Внутренний артикул',\n",
    "    'ID Сайта', 'Товарное направление', 'Товарная группа',\n",
    "    'Товарный кластер', 'Проба', 'Размер изделия', 'Тип изделия 1',\n",
    "    'Тип изделия 2', 'Тип изделия 3', 'Дизайн', 'Бренд',\n",
    "    'Гендерный признак', 'Ценовая корзина', 'Группа цен', 'Остаток', 'Цена Розн., за шт',\n",
    "    'Чистый вес', 'Цена изделия на бирке', 'Скидка на изделии',\n",
    "    'Запрет скидки', 'Цена Закупки за 1 шт. (упр сс с НДС за единицу)',\n",
    "    'Дата закупки']"
   ]
  },
  {
   "cell_type": "code",
   "execution_count": 122,
   "metadata": {},
   "outputs": [],
   "source": [
    "stock = stock.query('code in @skladi')"
   ]
  },
  {
   "cell_type": "code",
   "execution_count": 124,
   "metadata": {},
   "outputs": [],
   "source": [
    "stock.columns = ['Код склада', 'Код товара', 'Артикул поставщика', 'Внутренний артикул',\n",
    "    'ID Сайта', 'Товарное направление', 'Товарная группа',\n",
    "    'Товарный кластер', 'Проба', 'Размер изделия', 'Тип изделия 1',\n",
    "    'Тип изделия 2', 'Тип изделия 3', 'Дизайн', 'Бренд',\n",
    "    'Гендерный признак', 'Ценовая корзина', 'Группа цен', 'Остаток', 'Цена Розн., за шт',\n",
    "    'Чистый вес', 'Цена изделия на бирке', 'Скидка на изделии',\n",
    "    'Запрет скидки', 'Цена Закупки за 1 шт. (упр сс с НДС за единицу)',\n",
    "    'Дата закупки']"
   ]
  },
  {
   "cell_type": "code",
   "execution_count": 125,
   "metadata": {},
   "outputs": [],
   "source": [
    "result = stock.drop_duplicates(subset=['Код товара'])"
   ]
  },
  {
   "cell_type": "code",
   "execution_count": 126,
   "metadata": {},
   "outputs": [],
   "source": [
    "tovs = result['ID Сайта'].dropna().tolist()"
   ]
  },
  {
   "cell_type": "code",
   "execution_count": null,
   "metadata": {},
   "outputs": [],
   "source": [
    "images['article'] = images['article'].astype(str)"
   ]
  },
  {
   "cell_type": "code",
   "execution_count": null,
   "metadata": {},
   "outputs": [],
   "source": [
    "images = images.query('article in @tovs')"
   ]
  },
  {
   "cell_type": "code",
   "execution_count": 19,
   "metadata": {},
   "outputs": [],
   "source": [
    "images = images[['article', 'published', 'Ссылка на изображение']]"
   ]
  },
  {
   "cell_type": "code",
   "execution_count": 20,
   "metadata": {},
   "outputs": [],
   "source": [
    "images.columns = ['ID Сайта', 'Опубликован', 'Ссылка на изображение']"
   ]
  },
  {
   "cell_type": "code",
   "execution_count": 130,
   "metadata": {},
   "outputs": [],
   "source": [
    "result = result.merge(images, how='outer', on='ID Сайта')"
   ]
  },
  {
   "cell_type": "code",
   "execution_count": 131,
   "metadata": {},
   "outputs": [],
   "source": [
    "result = result.drop(columns = ['Остаток'])"
   ]
  },
  {
   "cell_type": "code",
   "execution_count": 132,
   "metadata": {},
   "outputs": [],
   "source": [
    "df = stock"
   ]
  },
  {
   "cell_type": "code",
   "execution_count": 133,
   "metadata": {},
   "outputs": [],
   "source": [
    "stock = df.groupby(by = 'Код товара', as_index=False)['Остаток'].sum()"
   ]
  },
  {
   "cell_type": "code",
   "execution_count": 134,
   "metadata": {},
   "outputs": [],
   "source": [
    "result = result.merge(stock, how='left', on='Код товара')"
   ]
  },
  {
   "cell_type": "code",
   "execution_count": 135,
   "metadata": {},
   "outputs": [],
   "source": [
    "sale.columns = ['Код товара', 'Количество продаж 14.03-11.06', 'Сумма продаж 14.03-11.06']"
   ]
  },
  {
   "cell_type": "code",
   "execution_count": 136,
   "metadata": {},
   "outputs": [],
   "source": [
    "result = result.merge(sale, how='left', on='Код товара')"
   ]
  },
  {
   "cell_type": "code",
   "execution_count": 137,
   "metadata": {},
   "outputs": [
    {
     "data": {
      "text/plain": [
       "Index(['Код склада', 'Код товара', 'Артикул поставщика', 'Внутренний артикул',\n",
       "       'ID Сайта', 'Товарное направление', 'Товарная группа',\n",
       "       'Товарный кластер', 'Проба', 'Размер изделия', 'Тип изделия 1',\n",
       "       'Тип изделия 2', 'Тип изделия 3', 'Дизайн', 'Бренд',\n",
       "       'Гендерный признак', 'Ценовая корзина', 'Группа цен',\n",
       "       'Цена Розн., за шт', 'Чистый вес', 'Цена изделия на бирке',\n",
       "       'Скидка на изделии', 'Запрет скидки',\n",
       "       'Цена Закупки за 1 шт. (упр сс с НДС за единицу)', 'Дата закупки',\n",
       "       'Опубликован', 'Ссылка на изображение', 'Остаток',\n",
       "       'Количество продаж 14.03-11.06', 'Сумма продаж 14.03-11.06'],\n",
       "      dtype='object')"
      ]
     },
     "execution_count": 137,
     "metadata": {},
     "output_type": "execute_result"
    }
   ],
   "source": [
    "result.columns"
   ]
  },
  {
   "cell_type": "code",
   "execution_count": 138,
   "metadata": {},
   "outputs": [],
   "source": [
    "result = result.drop_duplicates(subset=['Код товара'])"
   ]
  },
  {
   "cell_type": "code",
   "execution_count": 139,
   "metadata": {},
   "outputs": [],
   "source": [
    "df['Чистый вес'] = df['Чистый вес'].astype(float)"
   ]
  },
  {
   "cell_type": "code",
   "execution_count": 146,
   "metadata": {},
   "outputs": [],
   "source": [
    "clear_weight = df.groupby(by = 'Код товара', as_index=False)['Чистый вес'].agg({'min', 'median', 'max'})\n",
    "clear_weight.columns = ['Код товара', 'Чистый вес макс', 'Чистый вес медиана', 'Чистый вес мин']\n",
    "clear_weight['Чистый вес размах, %'] = (clear_weight['Чистый вес мин'] / clear_weight['Чистый вес макс'] - 1) * -1"
   ]
  },
  {
   "cell_type": "code",
   "execution_count": 147,
   "metadata": {},
   "outputs": [
    {
     "data": {
      "text/html": [
       "<div>\n",
       "<style scoped>\n",
       "    .dataframe tbody tr th:only-of-type {\n",
       "        vertical-align: middle;\n",
       "    }\n",
       "\n",
       "    .dataframe tbody tr th {\n",
       "        vertical-align: top;\n",
       "    }\n",
       "\n",
       "    .dataframe thead th {\n",
       "        text-align: right;\n",
       "    }\n",
       "</style>\n",
       "<table border=\"1\" class=\"dataframe\">\n",
       "  <thead>\n",
       "    <tr style=\"text-align: right;\">\n",
       "      <th></th>\n",
       "      <th>Код товара</th>\n",
       "      <th>Чистый вес макс</th>\n",
       "      <th>Чистый вес медиана</th>\n",
       "      <th>Чистый вес мин</th>\n",
       "      <th>Чистый вес размах, %</th>\n",
       "    </tr>\n",
       "  </thead>\n",
       "  <tbody>\n",
       "    <tr>\n",
       "      <th>0</th>\n",
       "      <td>ТОВ0115302</td>\n",
       "      <td>6.010</td>\n",
       "      <td>5.825</td>\n",
       "      <td>5.820</td>\n",
       "      <td>0.031614</td>\n",
       "    </tr>\n",
       "    <tr>\n",
       "      <th>1</th>\n",
       "      <td>ТОВ0120225</td>\n",
       "      <td>2.500</td>\n",
       "      <td>2.500</td>\n",
       "      <td>2.500</td>\n",
       "      <td>-0.000000</td>\n",
       "    </tr>\n",
       "    <tr>\n",
       "      <th>2</th>\n",
       "      <td>ТОВ0120668</td>\n",
       "      <td>11.590</td>\n",
       "      <td>11.590</td>\n",
       "      <td>11.590</td>\n",
       "      <td>-0.000000</td>\n",
       "    </tr>\n",
       "    <tr>\n",
       "      <th>3</th>\n",
       "      <td>ТОВ0121528</td>\n",
       "      <td>2.610</td>\n",
       "      <td>2.605</td>\n",
       "      <td>2.600</td>\n",
       "      <td>0.003831</td>\n",
       "    </tr>\n",
       "    <tr>\n",
       "      <th>4</th>\n",
       "      <td>ТОВ0121690</td>\n",
       "      <td>4.640</td>\n",
       "      <td>4.635</td>\n",
       "      <td>4.630</td>\n",
       "      <td>0.002155</td>\n",
       "    </tr>\n",
       "    <tr>\n",
       "      <th>...</th>\n",
       "      <td>...</td>\n",
       "      <td>...</td>\n",
       "      <td>...</td>\n",
       "      <td>...</td>\n",
       "      <td>...</td>\n",
       "    </tr>\n",
       "    <tr>\n",
       "      <th>125009</th>\n",
       "      <td>ТОВ1334829</td>\n",
       "      <td>0.577</td>\n",
       "      <td>0.572</td>\n",
       "      <td>0.567</td>\n",
       "      <td>0.017331</td>\n",
       "    </tr>\n",
       "    <tr>\n",
       "      <th>125010</th>\n",
       "      <td>ТОВ1334830</td>\n",
       "      <td>0.479</td>\n",
       "      <td>0.479</td>\n",
       "      <td>0.469</td>\n",
       "      <td>0.020877</td>\n",
       "    </tr>\n",
       "    <tr>\n",
       "      <th>125011</th>\n",
       "      <td>ТОВ1334831</td>\n",
       "      <td>0.549</td>\n",
       "      <td>0.539</td>\n",
       "      <td>0.539</td>\n",
       "      <td>0.018215</td>\n",
       "    </tr>\n",
       "    <tr>\n",
       "      <th>125012</th>\n",
       "      <td>ТОВ1335481</td>\n",
       "      <td>0.790</td>\n",
       "      <td>0.765</td>\n",
       "      <td>0.720</td>\n",
       "      <td>0.088608</td>\n",
       "    </tr>\n",
       "    <tr>\n",
       "      <th>125013</th>\n",
       "      <td>ТОВ1335482</td>\n",
       "      <td>1.160</td>\n",
       "      <td>1.115</td>\n",
       "      <td>1.070</td>\n",
       "      <td>0.077586</td>\n",
       "    </tr>\n",
       "  </tbody>\n",
       "</table>\n",
       "<p>125014 rows × 5 columns</p>\n",
       "</div>"
      ],
      "text/plain": [
       "        Код товара  Чистый вес макс  Чистый вес медиана  Чистый вес мин  \\\n",
       "0       ТОВ0115302            6.010               5.825           5.820   \n",
       "1       ТОВ0120225            2.500               2.500           2.500   \n",
       "2       ТОВ0120668           11.590              11.590          11.590   \n",
       "3       ТОВ0121528            2.610               2.605           2.600   \n",
       "4       ТОВ0121690            4.640               4.635           4.630   \n",
       "...            ...              ...                 ...             ...   \n",
       "125009  ТОВ1334829            0.577               0.572           0.567   \n",
       "125010  ТОВ1334830            0.479               0.479           0.469   \n",
       "125011  ТОВ1334831            0.549               0.539           0.539   \n",
       "125012  ТОВ1335481            0.790               0.765           0.720   \n",
       "125013  ТОВ1335482            1.160               1.115           1.070   \n",
       "\n",
       "        Чистый вес размах, %  \n",
       "0                   0.031614  \n",
       "1                  -0.000000  \n",
       "2                  -0.000000  \n",
       "3                   0.003831  \n",
       "4                   0.002155  \n",
       "...                      ...  \n",
       "125009              0.017331  \n",
       "125010              0.020877  \n",
       "125011              0.018215  \n",
       "125012              0.088608  \n",
       "125013              0.077586  \n",
       "\n",
       "[125014 rows x 5 columns]"
      ]
     },
     "execution_count": 147,
     "metadata": {},
     "output_type": "execute_result"
    }
   ],
   "source": [
    "clear_weight"
   ]
  },
  {
   "cell_type": "code",
   "execution_count": 148,
   "metadata": {},
   "outputs": [],
   "source": [
    "result = result.merge(clear_weight, how='left', on='Код товара')"
   ]
  },
  {
   "cell_type": "code",
   "execution_count": 149,
   "metadata": {},
   "outputs": [],
   "source": [
    "price_birka = df.groupby(by = 'Код товара', as_index=False)['Цена изделия на бирке'].agg({'min', 'median', 'max'})\n",
    "price_birka.columns = ['Код товара', 'Цена изделия на бирке макс', 'Цена изделия на бирке медиана', 'Цена изделия на бирке мин']"
   ]
  },
  {
   "cell_type": "code",
   "execution_count": 150,
   "metadata": {},
   "outputs": [
    {
     "data": {
      "text/html": [
       "<div>\n",
       "<style scoped>\n",
       "    .dataframe tbody tr th:only-of-type {\n",
       "        vertical-align: middle;\n",
       "    }\n",
       "\n",
       "    .dataframe tbody tr th {\n",
       "        vertical-align: top;\n",
       "    }\n",
       "\n",
       "    .dataframe thead th {\n",
       "        text-align: right;\n",
       "    }\n",
       "</style>\n",
       "<table border=\"1\" class=\"dataframe\">\n",
       "  <thead>\n",
       "    <tr style=\"text-align: right;\">\n",
       "      <th></th>\n",
       "      <th>Код товара</th>\n",
       "      <th>Цена изделия на бирке макс</th>\n",
       "      <th>Цена изделия на бирке медиана</th>\n",
       "      <th>Цена изделия на бирке мин</th>\n",
       "    </tr>\n",
       "  </thead>\n",
       "  <tbody>\n",
       "    <tr>\n",
       "      <th>0</th>\n",
       "      <td>ТОВ0115302</td>\n",
       "      <td>74524.0</td>\n",
       "      <td>72230.0</td>\n",
       "      <td>72168.0</td>\n",
       "    </tr>\n",
       "    <tr>\n",
       "      <th>1</th>\n",
       "      <td>ТОВ0120225</td>\n",
       "      <td>38375.0</td>\n",
       "      <td>38375.0</td>\n",
       "      <td>38375.0</td>\n",
       "    </tr>\n",
       "    <tr>\n",
       "      <th>2</th>\n",
       "      <td>ТОВ0120668</td>\n",
       "      <td>293331.0</td>\n",
       "      <td>293331.0</td>\n",
       "      <td>293331.0</td>\n",
       "    </tr>\n",
       "    <tr>\n",
       "      <th>3</th>\n",
       "      <td>ТОВ0121528</td>\n",
       "      <td>14161.0</td>\n",
       "      <td>14136.5</td>\n",
       "      <td>14112.0</td>\n",
       "    </tr>\n",
       "    <tr>\n",
       "      <th>4</th>\n",
       "      <td>ТОВ0121690</td>\n",
       "      <td>57536.0</td>\n",
       "      <td>39185.5</td>\n",
       "      <td>20835.0</td>\n",
       "    </tr>\n",
       "    <tr>\n",
       "      <th>...</th>\n",
       "      <td>...</td>\n",
       "      <td>...</td>\n",
       "      <td>...</td>\n",
       "      <td>...</td>\n",
       "    </tr>\n",
       "    <tr>\n",
       "      <th>125009</th>\n",
       "      <td>ТОВ1334829</td>\n",
       "      <td>49673.0</td>\n",
       "      <td>49292.5</td>\n",
       "      <td>48912.0</td>\n",
       "    </tr>\n",
       "    <tr>\n",
       "      <th>125010</th>\n",
       "      <td>ТОВ1334830</td>\n",
       "      <td>42847.0</td>\n",
       "      <td>42366.0</td>\n",
       "      <td>41542.0</td>\n",
       "    </tr>\n",
       "    <tr>\n",
       "      <th>125011</th>\n",
       "      <td>ТОВ1334831</td>\n",
       "      <td>44432.0</td>\n",
       "      <td>43672.0</td>\n",
       "      <td>43227.0</td>\n",
       "    </tr>\n",
       "    <tr>\n",
       "      <th>125012</th>\n",
       "      <td>ТОВ1335481</td>\n",
       "      <td>18881.0</td>\n",
       "      <td>18283.5</td>\n",
       "      <td>17208.0</td>\n",
       "    </tr>\n",
       "    <tr>\n",
       "      <th>125013</th>\n",
       "      <td>ТОВ1335482</td>\n",
       "      <td>27724.0</td>\n",
       "      <td>26648.5</td>\n",
       "      <td>25573.0</td>\n",
       "    </tr>\n",
       "  </tbody>\n",
       "</table>\n",
       "<p>125014 rows × 4 columns</p>\n",
       "</div>"
      ],
      "text/plain": [
       "        Код товара  Цена изделия на бирке макс  Цена изделия на бирке медиана  \\\n",
       "0       ТОВ0115302                     74524.0                        72230.0   \n",
       "1       ТОВ0120225                     38375.0                        38375.0   \n",
       "2       ТОВ0120668                    293331.0                       293331.0   \n",
       "3       ТОВ0121528                     14161.0                        14136.5   \n",
       "4       ТОВ0121690                     57536.0                        39185.5   \n",
       "...            ...                         ...                            ...   \n",
       "125009  ТОВ1334829                     49673.0                        49292.5   \n",
       "125010  ТОВ1334830                     42847.0                        42366.0   \n",
       "125011  ТОВ1334831                     44432.0                        43672.0   \n",
       "125012  ТОВ1335481                     18881.0                        18283.5   \n",
       "125013  ТОВ1335482                     27724.0                        26648.5   \n",
       "\n",
       "        Цена изделия на бирке мин  \n",
       "0                         72168.0  \n",
       "1                         38375.0  \n",
       "2                        293331.0  \n",
       "3                         14112.0  \n",
       "4                         20835.0  \n",
       "...                           ...  \n",
       "125009                    48912.0  \n",
       "125010                    41542.0  \n",
       "125011                    43227.0  \n",
       "125012                    17208.0  \n",
       "125013                    25573.0  \n",
       "\n",
       "[125014 rows x 4 columns]"
      ]
     },
     "execution_count": 150,
     "metadata": {},
     "output_type": "execute_result"
    }
   ],
   "source": [
    "price_birka"
   ]
  },
  {
   "cell_type": "code",
   "execution_count": 151,
   "metadata": {},
   "outputs": [],
   "source": [
    "result = result.merge(price_birka, how='left', on='Код товара')"
   ]
  },
  {
   "cell_type": "code",
   "execution_count": 152,
   "metadata": {},
   "outputs": [],
   "source": [
    "base_discount = df.groupby(by = 'Код товара', as_index=False)['Скидка на изделии'].agg({'min', 'max'})\n",
    "base_discount.columns = ['Код товара', 'Базовая скидка макс', 'Базовая скидка мин']"
   ]
  },
  {
   "cell_type": "code",
   "execution_count": 153,
   "metadata": {},
   "outputs": [
    {
     "data": {
      "text/html": [
       "<div>\n",
       "<style scoped>\n",
       "    .dataframe tbody tr th:only-of-type {\n",
       "        vertical-align: middle;\n",
       "    }\n",
       "\n",
       "    .dataframe tbody tr th {\n",
       "        vertical-align: top;\n",
       "    }\n",
       "\n",
       "    .dataframe thead th {\n",
       "        text-align: right;\n",
       "    }\n",
       "</style>\n",
       "<table border=\"1\" class=\"dataframe\">\n",
       "  <thead>\n",
       "    <tr style=\"text-align: right;\">\n",
       "      <th></th>\n",
       "      <th>Код товара</th>\n",
       "      <th>Базовая скидка макс</th>\n",
       "      <th>Базовая скидка мин</th>\n",
       "    </tr>\n",
       "  </thead>\n",
       "  <tbody>\n",
       "    <tr>\n",
       "      <th>0</th>\n",
       "      <td>ТОВ0115302</td>\n",
       "      <td>21.0</td>\n",
       "      <td>16.0</td>\n",
       "    </tr>\n",
       "    <tr>\n",
       "      <th>1</th>\n",
       "      <td>ТОВ0120225</td>\n",
       "      <td>0.0</td>\n",
       "      <td>0.0</td>\n",
       "    </tr>\n",
       "    <tr>\n",
       "      <th>2</th>\n",
       "      <td>ТОВ0120668</td>\n",
       "      <td>46.0</td>\n",
       "      <td>46.0</td>\n",
       "    </tr>\n",
       "    <tr>\n",
       "      <th>3</th>\n",
       "      <td>ТОВ0121528</td>\n",
       "      <td>0.0</td>\n",
       "      <td>0.0</td>\n",
       "    </tr>\n",
       "    <tr>\n",
       "      <th>4</th>\n",
       "      <td>ТОВ0121690</td>\n",
       "      <td>0.0</td>\n",
       "      <td>0.0</td>\n",
       "    </tr>\n",
       "    <tr>\n",
       "      <th>...</th>\n",
       "      <td>...</td>\n",
       "      <td>...</td>\n",
       "      <td>...</td>\n",
       "    </tr>\n",
       "    <tr>\n",
       "      <th>125009</th>\n",
       "      <td>ТОВ1334829</td>\n",
       "      <td>59.0</td>\n",
       "      <td>59.0</td>\n",
       "    </tr>\n",
       "    <tr>\n",
       "      <th>125010</th>\n",
       "      <td>ТОВ1334830</td>\n",
       "      <td>62.0</td>\n",
       "      <td>62.0</td>\n",
       "    </tr>\n",
       "    <tr>\n",
       "      <th>125011</th>\n",
       "      <td>ТОВ1334831</td>\n",
       "      <td>59.0</td>\n",
       "      <td>59.0</td>\n",
       "    </tr>\n",
       "    <tr>\n",
       "      <th>125012</th>\n",
       "      <td>ТОВ1335481</td>\n",
       "      <td>35.0</td>\n",
       "      <td>35.0</td>\n",
       "    </tr>\n",
       "    <tr>\n",
       "      <th>125013</th>\n",
       "      <td>ТОВ1335482</td>\n",
       "      <td>35.0</td>\n",
       "      <td>35.0</td>\n",
       "    </tr>\n",
       "  </tbody>\n",
       "</table>\n",
       "<p>125014 rows × 3 columns</p>\n",
       "</div>"
      ],
      "text/plain": [
       "        Код товара  Базовая скидка макс  Базовая скидка мин\n",
       "0       ТОВ0115302                 21.0                16.0\n",
       "1       ТОВ0120225                  0.0                 0.0\n",
       "2       ТОВ0120668                 46.0                46.0\n",
       "3       ТОВ0121528                  0.0                 0.0\n",
       "4       ТОВ0121690                  0.0                 0.0\n",
       "...            ...                  ...                 ...\n",
       "125009  ТОВ1334829                 59.0                59.0\n",
       "125010  ТОВ1334830                 62.0                62.0\n",
       "125011  ТОВ1334831                 59.0                59.0\n",
       "125012  ТОВ1335481                 35.0                35.0\n",
       "125013  ТОВ1335482                 35.0                35.0\n",
       "\n",
       "[125014 rows x 3 columns]"
      ]
     },
     "execution_count": 153,
     "metadata": {},
     "output_type": "execute_result"
    }
   ],
   "source": [
    "base_discount"
   ]
  },
  {
   "cell_type": "code",
   "execution_count": 154,
   "metadata": {},
   "outputs": [],
   "source": [
    "result = result.merge(base_discount, how='left', on='Код товара')"
   ]
  },
  {
   "cell_type": "code",
   "execution_count": 156,
   "metadata": {},
   "outputs": [],
   "source": [
    "df['Цена со скидками'] = np.where(\n",
    "    df['Запрет скидки'] == 'Да', df['Цена Розн., за шт'], df['Цена Розн., за шт'] * (1-df['Скидка на изделии']/100) * 0.8 * 0.6\n",
    ")"
   ]
  },
  {
   "cell_type": "code",
   "execution_count": 157,
   "metadata": {},
   "outputs": [],
   "source": [
    "price_skidki = df.groupby(by = 'Код товара', as_index=False)['Цена со скидками'].agg({'min', 'median', 'max'})\n",
    "price_skidki.columns = ['Код товара', 'Цена со скидками макс', 'Цена со скидками медиана', 'Цена со скидками мин']\n",
    "price_skidki['Цена со скидками размах, %'] = (price_skidki['Цена со скидками мин'] / price_skidki['Цена со скидками макс'] - 1) * -1"
   ]
  },
  {
   "cell_type": "code",
   "execution_count": 159,
   "metadata": {},
   "outputs": [],
   "source": [
    "result = result.merge(price_skidki, how='left', on='Код товара')"
   ]
  },
  {
   "cell_type": "code",
   "execution_count": 161,
   "metadata": {},
   "outputs": [],
   "source": [
    "selfprice = df.groupby(by = 'Код товара', as_index=False)['Цена Закупки за 1 шт. (упр сс с НДС за единицу)'].agg({'min', 'median', 'max'})\n",
    "selfprice.columns = ['Код товара', 'Себестоимость макс', 'Себестоимость медиана', 'Себестоимость мин']\n",
    "selfprice['Себестоимость размах, %'] = (selfprice['Себестоимость мин'] / selfprice['Себестоимость макс'] - 1) * -1"
   ]
  },
  {
   "cell_type": "code",
   "execution_count": 162,
   "metadata": {},
   "outputs": [],
   "source": [
    "result = result.merge(selfprice, how='left', on='Код товара')"
   ]
  },
  {
   "cell_type": "code",
   "execution_count": 163,
   "metadata": {},
   "outputs": [],
   "source": [
    "df['Наценка'] = df['Цена со скидками'] / df['Цена Закупки за 1 шт. (упр сс с НДС за единицу)'] - 1"
   ]
  },
  {
   "cell_type": "code",
   "execution_count": 164,
   "metadata": {},
   "outputs": [],
   "source": [
    "markup = df.groupby(by = 'Код товара', as_index=False)['Наценка'].agg({'min', 'median', 'max'})\n",
    "markup.columns = ['Код товара', 'Наценка макс', 'Наценка медиана', 'Наценка мин']"
   ]
  },
  {
   "cell_type": "code",
   "execution_count": 166,
   "metadata": {},
   "outputs": [],
   "source": [
    "result = result.merge(markup, how='left', on='Код товара')"
   ]
  },
  {
   "cell_type": "code",
   "execution_count": 169,
   "metadata": {},
   "outputs": [
    {
     "ename": "TypeError",
     "evalue": "list indices must be integers or slices, not str",
     "output_type": "error",
     "traceback": [
      "\u001b[1;31m---------------------------------------------------------------------------\u001b[0m",
      "\u001b[1;31mTypeError\u001b[0m                                 Traceback (most recent call last)",
      "Cell \u001b[1;32mIn[169], line 1\u001b[0m\n\u001b[1;32m----> 1\u001b[0m zapret[\u001b[38;5;124m'\u001b[39m\u001b[38;5;124mАртикул сайта\u001b[39m\u001b[38;5;124m'\u001b[39m] \u001b[38;5;241m=\u001b[39m \u001b[43mzapret\u001b[49m\u001b[43m[\u001b[49m\u001b[38;5;124;43m'\u001b[39;49m\u001b[38;5;124;43mАртикул сайта\u001b[39;49m\u001b[38;5;124;43m'\u001b[39;49m\u001b[43m]\u001b[49m\u001b[38;5;241m.\u001b[39mastype(\u001b[38;5;28mstr\u001b[39m)\n",
      "\u001b[1;31mTypeError\u001b[0m: list indices must be integers or slices, not str"
     ]
    }
   ],
   "source": [
    "zapret['Артикул сайта'] = zapret['Артикул сайта'].astype(str)"
   ]
  },
  {
   "cell_type": "code",
   "execution_count": 60,
   "metadata": {},
   "outputs": [],
   "source": [
    "zapret = zapret['Артикул сайта'].tolist()"
   ]
  },
  {
   "cell_type": "code",
   "execution_count": 170,
   "metadata": {},
   "outputs": [],
   "source": [
    "result['Запрет к размещению'] = np.nan\n",
    "for i in result.index:\n",
    "    if result['ID Сайта'][i] in zapret:\n",
    "        result['Запрет к размещению'][i] = True\n",
    "    else:\n",
    "        result['Запрет к размещению'][i] = False"
   ]
  },
  {
   "cell_type": "code",
   "execution_count": 171,
   "metadata": {},
   "outputs": [],
   "source": [
    "ecom = pd.read_excel(r'\\\\gold585.int\\uk\\Общее хранилище файлов\\Служба аналитики\\МЮР\\ecom_stock_raw\\Остатки 2024.06.17.xlsx')"
   ]
  },
  {
   "cell_type": "code",
   "execution_count": 172,
   "metadata": {},
   "outputs": [],
   "source": [
    "path = r'\\\\gold585.int\\uk\\Общее хранилище файлов\\Служба аналитики\\Тренкин Сергей\\discounts_zolotoy\\\\'\n",
    "list_of_files = glob.glob(path + '\\*.xlsx') \n",
    "latest_file = max(list_of_files, key=os.path.getctime)\n",
    "\n",
    "discount_ecom = pd.read_excel(latest_file)"
   ]
  },
  {
   "cell_type": "code",
   "execution_count": 173,
   "metadata": {},
   "outputs": [],
   "source": [
    "discount_ecom.columns = ['article', 'Опубликован', 'discount_value_promotions_1']"
   ]
  },
  {
   "cell_type": "code",
   "execution_count": 174,
   "metadata": {},
   "outputs": [],
   "source": [
    "ecom = ecom.merge(discount_ecom, how='left', on='article')"
   ]
  },
  {
   "cell_type": "code",
   "execution_count": 175,
   "metadata": {},
   "outputs": [],
   "source": [
    "def discount_index(discount):\n",
    "    try:\n",
    "        return 1 - discount / 100\n",
    "    except:\n",
    "        return 1"
   ]
  },
  {
   "cell_type": "code",
   "execution_count": 176,
   "metadata": {},
   "outputs": [],
   "source": [
    "ecom.discount_value_promotions_1 = ecom.discount_value_promotions_1.apply(discount_index)"
   ]
  },
  {
   "cell_type": "code",
   "execution_count": 177,
   "metadata": {},
   "outputs": [],
   "source": [
    "ecom['Цена со скидками Ecom'] = np.where(\n",
    "    (ecom['price'] == ecom['discount_price']) & (ecom['discount_value_promotions_1'] == 1), ecom['discount_price'] * ecom['discount_value_promotions_1'], \n",
    "    np.where(\n",
    "        ecom['discount_value_promotions_1'] == 0.5, ecom['discount_price'] * ecom['discount_value_promotions_1'], ecom['discount_price'] * ecom['discount_value_promotions_1'] * 0.8\n",
    "    )\n",
    ")"
   ]
  },
  {
   "cell_type": "code",
   "execution_count": 178,
   "metadata": {},
   "outputs": [],
   "source": [
    "ecom['article'] = ecom['article'].astype(str)\n",
    "ecom = ecom[['article', 'size', 'Цена со скидками Ecom']]"
   ]
  },
  {
   "cell_type": "code",
   "execution_count": 179,
   "metadata": {},
   "outputs": [],
   "source": [
    "ecom = ecom.query('article in @tovs')"
   ]
  },
  {
   "cell_type": "code",
   "execution_count": 180,
   "metadata": {},
   "outputs": [],
   "source": [
    "ecom.columns = ['ID Сайта', 'size', 'Цена со скидками Ecom']"
   ]
  },
  {
   "cell_type": "code",
   "execution_count": 181,
   "metadata": {},
   "outputs": [],
   "source": [
    "result = result[result['ID Сайта'] != '']"
   ]
  },
  {
   "cell_type": "code",
   "execution_count": 182,
   "metadata": {},
   "outputs": [],
   "source": [
    "result['ID Сайта'] = result['ID Сайта'].astype(int).astype(str)\n",
    "result['Размер изделия'] = result['Размер изделия'].astype(str)"
   ]
  },
  {
   "cell_type": "code",
   "execution_count": 183,
   "metadata": {},
   "outputs": [],
   "source": [
    "ecom['size'] = ecom['size'].fillna(0.0)\n",
    "ecom['size'] = ecom['size'].astype(str)"
   ]
  },
  {
   "cell_type": "code",
   "execution_count": 184,
   "metadata": {},
   "outputs": [],
   "source": [
    "ecom['merge'] = ecom['ID Сайта'] + ecom['size']"
   ]
  },
  {
   "cell_type": "code",
   "execution_count": 185,
   "metadata": {},
   "outputs": [],
   "source": [
    "result['merge'] = result['ID Сайта'] + result['Размер изделия']"
   ]
  },
  {
   "cell_type": "code",
   "execution_count": 186,
   "metadata": {},
   "outputs": [],
   "source": [
    "ecom = ecom.drop(columns=['ID Сайта', 'size'])"
   ]
  },
  {
   "cell_type": "code",
   "execution_count": 187,
   "metadata": {},
   "outputs": [],
   "source": [
    "result = result.merge(ecom, how='outer', on='merge')"
   ]
  },
  {
   "cell_type": "code",
   "execution_count": 188,
   "metadata": {},
   "outputs": [],
   "source": [
    "result = result.drop(columns=['merge'])"
   ]
  },
  {
   "cell_type": "code",
   "execution_count": 189,
   "metadata": {},
   "outputs": [],
   "source": [
    "result = result.dropna(subset=['Код товара'])"
   ]
  },
  {
   "cell_type": "code",
   "execution_count": 190,
   "metadata": {},
   "outputs": [],
   "source": [
    "df['Сумма в себестоимости на остатках'] = df['Остаток'] * df['Цена Закупки за 1 шт. (упр сс с НДС за единицу)']"
   ]
  },
  {
   "cell_type": "code",
   "execution_count": 191,
   "metadata": {},
   "outputs": [],
   "source": [
    "summa_ost = df.groupby(by ='Код товара', as_index=False)['Сумма в себестоимости на остатках'].sum()"
   ]
  },
  {
   "cell_type": "code",
   "execution_count": 192,
   "metadata": {},
   "outputs": [],
   "source": [
    "result = result.merge(summa_ost, how='left', on='Код товара')"
   ]
  },
  {
   "cell_type": "code",
   "execution_count": 193,
   "metadata": {},
   "outputs": [],
   "source": [
    "df['Цена за грамм'] = df['Цена со скидками'] / df['Чистый вес']"
   ]
  },
  {
   "cell_type": "code",
   "execution_count": 194,
   "metadata": {},
   "outputs": [],
   "source": [
    "price_per_gramm = df.groupby(by = 'Код товара', as_index=False)['Цена за грамм'].agg({'min', 'median', 'max'})\n",
    "price_per_gramm.columns = ['Код товара', 'Цена за грамм макс', 'Цена за грамм медиана', 'Цена за грамм мин']"
   ]
  },
  {
   "cell_type": "code",
   "execution_count": 195,
   "metadata": {},
   "outputs": [
    {
     "data": {
      "text/html": [
       "<div>\n",
       "<style scoped>\n",
       "    .dataframe tbody tr th:only-of-type {\n",
       "        vertical-align: middle;\n",
       "    }\n",
       "\n",
       "    .dataframe tbody tr th {\n",
       "        vertical-align: top;\n",
       "    }\n",
       "\n",
       "    .dataframe thead th {\n",
       "        text-align: right;\n",
       "    }\n",
       "</style>\n",
       "<table border=\"1\" class=\"dataframe\">\n",
       "  <thead>\n",
       "    <tr style=\"text-align: right;\">\n",
       "      <th></th>\n",
       "      <th>Код товара</th>\n",
       "      <th>Цена за грамм макс</th>\n",
       "      <th>Цена за грамм медиана</th>\n",
       "      <th>Цена за грамм мин</th>\n",
       "    </tr>\n",
       "  </thead>\n",
       "  <tbody>\n",
       "    <tr>\n",
       "      <th>0</th>\n",
       "      <td>ТОВ0115302</td>\n",
       "      <td>5947.615670</td>\n",
       "      <td>5947.580377</td>\n",
       "      <td>5448.302696</td>\n",
       "    </tr>\n",
       "    <tr>\n",
       "      <th>1</th>\n",
       "      <td>ТОВ0120225</td>\n",
       "      <td>4500.000000</td>\n",
       "      <td>4500.000000</td>\n",
       "      <td>4500.000000</td>\n",
       "    </tr>\n",
       "    <tr>\n",
       "      <th>2</th>\n",
       "      <td>ТОВ0120668</td>\n",
       "      <td>6560.085867</td>\n",
       "      <td>6560.085867</td>\n",
       "      <td>6560.085867</td>\n",
       "    </tr>\n",
       "    <tr>\n",
       "      <th>3</th>\n",
       "      <td>ТОВ0121528</td>\n",
       "      <td>5183.846154</td>\n",
       "      <td>5182.919246</td>\n",
       "      <td>5181.992337</td>\n",
       "    </tr>\n",
       "    <tr>\n",
       "      <th>4</th>\n",
       "      <td>ТОВ0121690</td>\n",
       "      <td>4500.000000</td>\n",
       "      <td>4500.000000</td>\n",
       "      <td>4500.000000</td>\n",
       "    </tr>\n",
       "    <tr>\n",
       "      <th>...</th>\n",
       "      <td>...</td>\n",
       "      <td>...</td>\n",
       "      <td>...</td>\n",
       "      <td>...</td>\n",
       "    </tr>\n",
       "    <tr>\n",
       "      <th>125009</th>\n",
       "      <td>ТОВ1334829</td>\n",
       "      <td>16976.863492</td>\n",
       "      <td>16959.529146</td>\n",
       "      <td>16942.194801</td>\n",
       "    </tr>\n",
       "    <tr>\n",
       "      <th>125010</th>\n",
       "      <td>ТОВ1334830</td>\n",
       "      <td>16315.851357</td>\n",
       "      <td>16156.206397</td>\n",
       "      <td>16132.689770</td>\n",
       "    </tr>\n",
       "    <tr>\n",
       "      <th>125011</th>\n",
       "      <td>ТОВ1334831</td>\n",
       "      <td>15945.546568</td>\n",
       "      <td>15927.536612</td>\n",
       "      <td>15783.067904</td>\n",
       "    </tr>\n",
       "    <tr>\n",
       "      <th>125012</th>\n",
       "      <td>ТОВ1335481</td>\n",
       "      <td>7456.800000</td>\n",
       "      <td>7456.800000</td>\n",
       "      <td>7456.800000</td>\n",
       "    </tr>\n",
       "    <tr>\n",
       "      <th>125013</th>\n",
       "      <td>ТОВ1335482</td>\n",
       "      <td>7456.800000</td>\n",
       "      <td>7456.800000</td>\n",
       "      <td>7456.800000</td>\n",
       "    </tr>\n",
       "  </tbody>\n",
       "</table>\n",
       "<p>125014 rows × 4 columns</p>\n",
       "</div>"
      ],
      "text/plain": [
       "        Код товара  Цена за грамм макс  Цена за грамм медиана  \\\n",
       "0       ТОВ0115302         5947.615670            5947.580377   \n",
       "1       ТОВ0120225         4500.000000            4500.000000   \n",
       "2       ТОВ0120668         6560.085867            6560.085867   \n",
       "3       ТОВ0121528         5183.846154            5182.919246   \n",
       "4       ТОВ0121690         4500.000000            4500.000000   \n",
       "...            ...                 ...                    ...   \n",
       "125009  ТОВ1334829        16976.863492           16959.529146   \n",
       "125010  ТОВ1334830        16315.851357           16156.206397   \n",
       "125011  ТОВ1334831        15945.546568           15927.536612   \n",
       "125012  ТОВ1335481         7456.800000            7456.800000   \n",
       "125013  ТОВ1335482         7456.800000            7456.800000   \n",
       "\n",
       "        Цена за грамм мин  \n",
       "0             5448.302696  \n",
       "1             4500.000000  \n",
       "2             6560.085867  \n",
       "3             5181.992337  \n",
       "4             4500.000000  \n",
       "...                   ...  \n",
       "125009       16942.194801  \n",
       "125010       16132.689770  \n",
       "125011       15783.067904  \n",
       "125012        7456.800000  \n",
       "125013        7456.800000  \n",
       "\n",
       "[125014 rows x 4 columns]"
      ]
     },
     "execution_count": 195,
     "metadata": {},
     "output_type": "execute_result"
    }
   ],
   "source": [
    "price_per_gramm"
   ]
  },
  {
   "cell_type": "code",
   "execution_count": 196,
   "metadata": {},
   "outputs": [],
   "source": [
    "result = result.merge(price_per_gramm, how='left', on='Код товара')"
   ]
  },
  {
   "cell_type": "code",
   "execution_count": 197,
   "metadata": {},
   "outputs": [],
   "source": [
    "result.to_csv('result.csv', index=False)"
   ]
  },
  {
   "cell_type": "code",
   "execution_count": 198,
   "metadata": {},
   "outputs": [],
   "source": [
    "zapret_sk = df.groupby(by = 'Код товара', as_index=False)['Запрет скидки'].count()"
   ]
  },
  {
   "cell_type": "code",
   "execution_count": 199,
   "metadata": {},
   "outputs": [],
   "source": [
    "yes = df[df['Запрет скидки'] == 'Да']\n",
    "no = df[df['Запрет скидки'] == 'Нет']"
   ]
  },
  {
   "cell_type": "code",
   "execution_count": 200,
   "metadata": {},
   "outputs": [],
   "source": [
    "yes = yes.groupby(by = 'Код товара', as_index=False)['Запрет скидки'].count()\n",
    "no = no.groupby(by = 'Код товара', as_index=False)['Запрет скидки'].count()"
   ]
  },
  {
   "cell_type": "code",
   "execution_count": 201,
   "metadata": {},
   "outputs": [],
   "source": [
    "yes.columns = ['Код товара', 'Количество с запрещенной скидкой']"
   ]
  },
  {
   "cell_type": "code",
   "execution_count": 202,
   "metadata": {},
   "outputs": [],
   "source": [
    "no.columns = ['Код товара', 'Количество с разрешенной скидкой']"
   ]
  },
  {
   "cell_type": "code",
   "execution_count": 203,
   "metadata": {},
   "outputs": [],
   "source": [
    "yes = yes.merge(no, how='outer', on='Код товара')"
   ]
  },
  {
   "cell_type": "code",
   "execution_count": 204,
   "metadata": {},
   "outputs": [],
   "source": [
    "result = result.merge(yes, how='left', on='Код товара')"
   ]
  },
  {
   "cell_type": "code",
   "execution_count": 205,
   "metadata": {},
   "outputs": [],
   "source": [
    "result = result.drop_duplicates(subset=['Код товара'])"
   ]
  },
  {
   "cell_type": "code",
   "execution_count": 206,
   "metadata": {},
   "outputs": [],
   "source": [
    "df['Дата закупки'] = pd.to_datetime(df['Дата закупки'], dayfirst=True, format='mixed')"
   ]
  },
  {
   "cell_type": "code",
   "execution_count": 207,
   "metadata": {},
   "outputs": [],
   "source": [
    "df['Старая закупка (до 31.12.2022)'] = np.where(\n",
    "    df['Дата закупки'] <= pd.to_datetime('2022-12-31', dayfirst=True, format='mixed'), 1, 0\n",
    ")"
   ]
  },
  {
   "cell_type": "code",
   "execution_count": 208,
   "metadata": {},
   "outputs": [],
   "source": [
    "df['Новая закупка (с 01.01.2023)'] = np.where(\n",
    "    df['Дата закупки'] >= pd.to_datetime('2023-01-01', dayfirst=True, format='mixed'), 1, 0\n",
    ")"
   ]
  },
  {
   "cell_type": "code",
   "execution_count": 209,
   "metadata": {},
   "outputs": [],
   "source": [
    "data = df.groupby(by = 'Код товара', as_index=False)[['Старая закупка (до 31.12.2022)', 'Новая закупка (с 01.01.2023)']].sum()"
   ]
  },
  {
   "cell_type": "code",
   "execution_count": 210,
   "metadata": {},
   "outputs": [],
   "source": [
    "# df = df.drop(columns=['Старая закупка (до 31.12.2022)', 'Новая закупка (c 01.01.2023)',\n",
    "#     'Новая закупка (с 01.01.2023)'])"
   ]
  },
  {
   "cell_type": "code",
   "execution_count": 211,
   "metadata": {},
   "outputs": [],
   "source": [
    "test = result[['Код товара', 'Цена со скидками макс',\n",
    "    'Цена со скидками медиана', 'Цена со скидками мин',\n",
    "    'Цена со скидками размах, %']]"
   ]
  },
  {
   "cell_type": "code",
   "execution_count": 212,
   "metadata": {},
   "outputs": [
    {
     "data": {
      "text/html": [
       "<div>\n",
       "<style scoped>\n",
       "    .dataframe tbody tr th:only-of-type {\n",
       "        vertical-align: middle;\n",
       "    }\n",
       "\n",
       "    .dataframe tbody tr th {\n",
       "        vertical-align: top;\n",
       "    }\n",
       "\n",
       "    .dataframe thead th {\n",
       "        text-align: right;\n",
       "    }\n",
       "</style>\n",
       "<table border=\"1\" class=\"dataframe\">\n",
       "  <thead>\n",
       "    <tr style=\"text-align: right;\">\n",
       "      <th></th>\n",
       "      <th>Код товара</th>\n",
       "      <th>Цена со скидками макс</th>\n",
       "      <th>Цена со скидками медиана</th>\n",
       "      <th>Цена со скидками мин</th>\n",
       "      <th>Цена со скидками размах, %</th>\n",
       "    </tr>\n",
       "  </thead>\n",
       "  <tbody>\n",
       "    <tr>\n",
       "      <th>68593</th>\n",
       "      <td>ТОВ1051309</td>\n",
       "      <td>8643.2064</td>\n",
       "      <td>7935.3576</td>\n",
       "      <td>2177.712</td>\n",
       "      <td>0.748044</td>\n",
       "    </tr>\n",
       "  </tbody>\n",
       "</table>\n",
       "</div>"
      ],
      "text/plain": [
       "       Код товара  Цена со скидками макс  Цена со скидками медиана  \\\n",
       "68593  ТОВ1051309              8643.2064                 7935.3576   \n",
       "\n",
       "       Цена со скидками мин  Цена со скидками размах, %  \n",
       "68593              2177.712                    0.748044  "
      ]
     },
     "execution_count": 212,
     "metadata": {},
     "output_type": "execute_result"
    }
   ],
   "source": [
    "test[test['Код товара'] == 'ТОВ1051309']"
   ]
  },
  {
   "cell_type": "code",
   "execution_count": 213,
   "metadata": {},
   "outputs": [],
   "source": [
    "data['Дата закупки'] = np.where(\n",
    "    (data['Новая закупка (с 01.01.2023)'] > 0) & (data['Старая закупка (до 31.12.2022)'] > 0), 'Старые и новые',\n",
    "    np.where(\n",
    "        (data['Новая закупка (с 01.01.2023)'] > 0) & (data['Старая закупка (до 31.12.2022)'] == 0), 'Новые', \n",
    "        np.where(\n",
    "            (data['Новая закупка (с 01.01.2023)'] == 0) & (data['Старая закупка (до 31.12.2022)'] > 0), 'Старые', 'Нет информации о дате'\n",
    "        )\n",
    "    )\n",
    ")"
   ]
  },
  {
   "cell_type": "code",
   "execution_count": 214,
   "metadata": {},
   "outputs": [],
   "source": [
    "data = data.drop(columns=['Старая закупка (до 31.12.2022)', 'Новая закупка (с 01.01.2023)'])"
   ]
  },
  {
   "cell_type": "code",
   "execution_count": 215,
   "metadata": {},
   "outputs": [],
   "source": [
    "result = result.merge(data, how='left', on='Код товара')"
   ]
  },
  {
   "cell_type": "code",
   "execution_count": 216,
   "metadata": {},
   "outputs": [],
   "source": [
    "result = result.drop(columns=['Дата закупки_x'])"
   ]
  },
  {
   "cell_type": "code",
   "execution_count": 220,
   "metadata": {},
   "outputs": [],
   "source": [
    "result.columns = ['Код склада', 'Код товара', 'Артикул поставщика', 'Внутренний артикул',\n",
    "    'ID Сайта', 'Товарное направление', 'Товарная группа',\n",
    "    'Товарный кластер', 'Проба', 'Размер изделия', 'Тип изделия 1',\n",
    "    'Тип изделия 2', 'Тип изделия 3', 'Дизайн', 'Бренд',\n",
    "    'Гендерный признак', 'Ценовая корзина', 'Группа цен',\n",
    "    'Цена Розн., за шт', 'Чистый вес', 'Цена изделия на бирке',\n",
    "    'Скидка на изделии', 'Запрет скидки',\n",
    "    'Цена Закупки за 1 шт. (упр сс с НДС за единицу)', 'Опубликован',\n",
    "    'Ссылка на изображение', 'Остаток', 'Количество продаж 14.03-11.06',\n",
    "    'Сумма продаж 14.03-11.06', 'Чистый вес макс', 'Чистый вес медиана',\n",
    "    'Чистый вес мин', 'Чистый вес размах, %', 'Цена изделия на бирке макс',\n",
    "    'Цена изделия на бирке медиана', 'Цена изделия на бирке мин',\n",
    "    'Базовая скидка макс', 'Базовая скидка мин', 'Цена со скидками макс',\n",
    "    'Цена со скидками медиана', 'Цена со скидками мин',\n",
    "    'Цена со скидками размах, %', 'Себестоимость макс',\n",
    "    'Себестоимость медиана', 'Себестоимость мин', 'Себестоимость размах, %',\n",
    "    'Наценка макс', 'Наценка медиана', 'Наценка мин', 'Запрет к размещению',\n",
    "    'Цена со скидками Ecom', 'Сумма в себестоимости на остатках',\n",
    "    'Цена за грамм макс', 'Цена за грамм медиана', 'Цена за грамм мин',\n",
    "    'Количество с запрещенной скидкой', 'Количество с разрешенной скидкой',\n",
    "    'Дата закупки']"
   ]
  },
  {
   "cell_type": "code",
   "execution_count": 224,
   "metadata": {},
   "outputs": [],
   "source": [
    "result['Размах по весу'] = np.where(\n",
    "    result['Чистый вес размах, %'] >= 0.3, '3. Большой размах (>30%)',\n",
    "    np.where(\n",
    "        result['Чистый вес размах, %'] >= 0.1, '2. Средний размах (10-30%)', '1. Небольшой размах (<10%)'\n",
    "    )\n",
    ")"
   ]
  },
  {
   "cell_type": "code",
   "execution_count": 225,
   "metadata": {},
   "outputs": [],
   "source": [
    "result['Размах по себестоимости'] = np.where(\n",
    "    result['Себестоимость размах, %'] >= 0.5, '3. Большой размах (>50%)',\n",
    "    np.where(\n",
    "        result['Себестоимость размах, %'] >= 0.2, '2. Средний размах (20-50%)', '1. Небольшой размах (<10%)'\n",
    "    )\n",
    ")"
   ]
  },
  {
   "cell_type": "code",
   "execution_count": 226,
   "metadata": {},
   "outputs": [],
   "source": [
    "result['Размах по цене со скидками'] = np.where(\n",
    "    result['Цена со скидками размах, %'] >= 0.5, '3. Большой размах (>50%)',\n",
    "    np.where(\n",
    "        result['Цена со скидками размах, %'] >= 0.2, '2. Средний размах (20-50%)', '1. Небольшой размах (<10%)'\n",
    "    )\n",
    ")"
   ]
  },
  {
   "cell_type": "code",
   "execution_count": 227,
   "metadata": {},
   "outputs": [],
   "source": [
    "result['Цена за грамм размах, %'] = (result['Цена за грамм мин'] / result['Цена за грамм макс'] - 1) * -1"
   ]
  },
  {
   "cell_type": "code",
   "execution_count": 228,
   "metadata": {},
   "outputs": [],
   "source": [
    "result['Размах по цене за грамм'] = np.where(\n",
    "    result['Цена за грамм размах, %'] >= 0.3, '3. Большой размах (>30%)',\n",
    "    np.where(\n",
    "        result['Цена за грамм размах, %'] >= 0.1, '2. Средний размах (10-30%)', '1. Небольшой размах (<10%)'\n",
    "    )\n",
    ")"
   ]
  },
  {
   "cell_type": "code",
   "execution_count": 229,
   "metadata": {},
   "outputs": [],
   "source": [
    "result['Скидка разрешена'] = result['Количество с запрещенной скидкой'] + result['Количество с разрешенной скидкой']"
   ]
  },
  {
   "cell_type": "code",
   "execution_count": 230,
   "metadata": {},
   "outputs": [],
   "source": [
    "result['Скидка разрешена'] = np.where(\n",
    "    result['Скидка разрешена'].astype(str).str.contains('nan'), 'Да или нет', 'Да и нет'\n",
    ")"
   ]
  },
  {
   "cell_type": "code",
   "execution_count": 231,
   "metadata": {},
   "outputs": [
    {
     "data": {
      "text/plain": [
       "Index(['Код склада', 'Код товара', 'Артикул поставщика', 'Внутренний артикул',\n",
       "       'ID Сайта', 'Товарное направление', 'Товарная группа',\n",
       "       'Товарный кластер', 'Проба', 'Размер изделия', 'Тип изделия 1',\n",
       "       'Тип изделия 2', 'Тип изделия 3', 'Дизайн', 'Бренд',\n",
       "       'Гендерный признак', 'Ценовая корзина', 'Группа цен',\n",
       "       'Цена Розн., за шт', 'Чистый вес', 'Цена изделия на бирке',\n",
       "       'Скидка на изделии', 'Запрет скидки',\n",
       "       'Цена Закупки за 1 шт. (упр сс с НДС за единицу)', 'Опубликован',\n",
       "       'Ссылка на изображение', 'Остаток', 'Количество продаж 14.03-11.06',\n",
       "       'Сумма продаж 14.03-11.06', 'Чистый вес макс', 'Чистый вес медиана',\n",
       "       'Чистый вес мин', 'Чистый вес размах, %', 'Цена изделия на бирке макс',\n",
       "       'Цена изделия на бирке медиана', 'Цена изделия на бирке мин',\n",
       "       'Базовая скидка макс', 'Базовая скидка мин', 'Цена со скидками макс',\n",
       "       'Цена со скидками медиана', 'Цена со скидками мин',\n",
       "       'Цена со скидками размах, %', 'Себестоимость макс',\n",
       "       'Себестоимость медиана', 'Себестоимость мин', 'Себестоимость размах, %',\n",
       "       'Наценка макс', 'Наценка медиана', 'Наценка мин', 'Запрет к размещению',\n",
       "       'Цена со скидками Ecom', 'Сумма в себестоимости на остатках',\n",
       "       'Цена за грамм макс', 'Цена за грамм медиана', 'Цена за грамм мин',\n",
       "       'Количество с запрещенной скидкой', 'Количество с разрешенной скидкой',\n",
       "       'Дата закупки', 'Размах по весу', 'Размах по себестоимости',\n",
       "       'Размах по цене со скидками', 'Цена за грамм размах, %',\n",
       "       'Размах по цене за грамм', 'Скидка разрешена'],\n",
       "      dtype='object')"
      ]
     },
     "execution_count": 231,
     "metadata": {},
     "output_type": "execute_result"
    }
   ],
   "source": [
    "result.columns"
   ]
  },
  {
   "cell_type": "code",
   "execution_count": 232,
   "metadata": {},
   "outputs": [],
   "source": [
    "result['Цена изделия на бирке размах, %'] = (result['Цена изделия на бирке мин'] / result['Цена изделия на бирке макс'] - 1) * -1"
   ]
  },
  {
   "cell_type": "code",
   "execution_count": 233,
   "metadata": {},
   "outputs": [],
   "source": [
    "result['Размах цена изделия на бирке'] = np.where(\n",
    "    result['Цена изделия на бирке размах, %'] >= 0.5, '3. Большой размах (>50%)',\n",
    "    np.where(\n",
    "        result['Цена изделия на бирке размах, %'] >= 0.2, '2. Средний размах (20-50%)', '1. Небольшой размах (<20%)'\n",
    "    )\n",
    ")"
   ]
  },
  {
   "cell_type": "code",
   "execution_count": 235,
   "metadata": {},
   "outputs": [],
   "source": [
    "result = result.drop(columns = ['Код склада', 'Чистый вес', 'Цена Розн., за шт', 'Цена изделия на бирке', 'Скидка на изделии', 'Запрет скидки', 'Цена Закупки за 1 шт. (упр сс с НДС за единицу)',\n",
    "                                'Запрет скидки'])"
   ]
  },
  {
   "cell_type": "code",
   "execution_count": 243,
   "metadata": {},
   "outputs": [],
   "source": [
    "result = result[['Код товара', 'Артикул поставщика', 'Внутренний артикул', 'ID Сайта',\n",
    "    'Товарное направление', 'Товарная группа', 'Товарный кластер', 'Проба',\n",
    "    'Размер изделия', 'Тип изделия 1', 'Тип изделия 2', 'Тип изделия 3',\n",
    "    'Дизайн', 'Бренд', 'Гендерный признак', 'Ценовая корзина', 'Группа цен',\n",
    "    'Опубликован', 'Ссылка на изображение', 'Остаток',\n",
    "    'Количество продаж 14.03-11.06', 'Сумма продаж 14.03-11.06',\n",
    "    'Чистый вес макс', 'Чистый вес медиана', 'Чистый вес мин',\n",
    "    'Чистый вес размах, %', 'Цена изделия на бирке макс',\n",
    "    'Цена изделия на бирке медиана', 'Цена изделия на бирке мин', 'Цена изделия на бирке размах, %',\n",
    "    'Базовая скидка макс', 'Базовая скидка мин', 'Цена со скидками макс',\n",
    "    'Цена со скидками медиана', 'Цена со скидками мин',\n",
    "    'Цена со скидками размах, %', 'Себестоимость макс',\n",
    "    'Себестоимость медиана', 'Себестоимость мин', 'Себестоимость размах, %',\n",
    "    'Наценка макс', 'Наценка медиана', 'Наценка мин', 'Запрет к размещению',\n",
    "    'Цена со скидками Ecom', 'Сумма в себестоимости на остатках',\n",
    "    'Цена за грамм макс', 'Цена за грамм медиана', 'Цена за грамм мин', 'Цена за грамм размах, %',\n",
    "    'Количество с запрещенной скидкой', 'Количество с разрешенной скидкой',\n",
    "    'Размах по весу', 'Размах по себестоимости',\n",
    "    'Размах по цене со скидками', 'Размах по цене за грамм', 'Размах цена изделия на бирке', 'Скидка разрешена', 'Дата закупки']]"
   ]
  },
  {
   "cell_type": "code",
   "execution_count": 245,
   "metadata": {},
   "outputs": [],
   "source": [
    "result.to_excel(r'C:\\Users\\Trenkin.Sergey\\Desktop\\notebooks\\result.xlsx', index=False)"
   ]
  },
  {
   "cell_type": "code",
   "execution_count": null,
   "metadata": {},
   "outputs": [],
   "source": []
  }
 ],
 "metadata": {
  "kernelspec": {
   "display_name": "Python 3",
   "language": "python",
   "name": "python3"
  },
  "language_info": {
   "codemirror_mode": {
    "name": "ipython",
    "version": 3
   },
   "file_extension": ".py",
   "mimetype": "text/x-python",
   "name": "python",
   "nbconvert_exporter": "python",
   "pygments_lexer": "ipython3",
   "version": "3.12.0"
  }
 },
 "nbformat": 4,
 "nbformat_minor": 2
}
