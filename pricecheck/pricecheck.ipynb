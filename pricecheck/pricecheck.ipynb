{
 "cells": [
  {
   "cell_type": "code",
   "execution_count": 1,
   "metadata": {},
   "outputs": [],
   "source": [
    "from tqdm import tqdm\n",
    "import pymssql\n",
    "import pandas as pd\n",
    "import numpy as np\n",
    "import warnings\n",
    "import glob \n",
    "import os\n",
    "\n",
    "warnings.filterwarnings('ignore')"
   ]
  },
  {
   "cell_type": "code",
   "execution_count": 2,
   "metadata": {},
   "outputs": [],
   "source": [
    "conn = pymssql.connect(server='AX-SQL', database='Staging')\n",
    "cursor = conn.cursor()\n",
    "\n",
    "sql = f'''\n",
    "SELECT [Код товара], [Артикул поставщика], [Внутренний артикул], [ID Сайта], [Товарное направление],\n",
    "[Товарная группа], [Товарный кластер], [Проба], [Размер изделия], [Тип изделия 1], [Тип изделия 2],\n",
    "[Тип изделия 3], [Дизайн], [Бренд], [Гендерный признак], [Ценовая корзина], [Группа цен], [Остаток],\n",
    "[Чистый вес], [Цена изделия на бирке], [Скидка на изделии], [Запрет скидки], [Цена Закупки за 1 шт. (упр сс с НДС за единицу)]\n",
    "from [Staging].[Reports].[Remainings_8h]\n",
    "where [Товарное направление] in (N'БК', N'ЦБ', N'ИФ', N'ПДК', N'ДК')\n",
    "'''\n",
    "\n",
    "sql_query = pd.read_sql_query(sql, conn)\n",
    "stock = pd.DataFrame(sql_query)"
   ]
  },
  {
   "cell_type": "code",
   "execution_count": 20,
   "metadata": {},
   "outputs": [],
   "source": [
    "images = pd.read_excel(r'C:\\Users\\Trenkin.Sergey\\Desktop\\Артикул-фото 2024.06.11_.xlsx')"
   ]
  },
  {
   "cell_type": "code",
   "execution_count": 4,
   "metadata": {},
   "outputs": [],
   "source": [
    "zapret = pd.read_excel(r'C:\\Users\\Trenkin.Sergey\\Desktop\\запрет Артикулы к размещению.xlsx')"
   ]
  },
  {
   "cell_type": "code",
   "execution_count": 5,
   "metadata": {},
   "outputs": [
    {
     "data": {
      "text/plain": [
       "['2024-03-10_2024-03-19.xlsx',\n",
       " '2024-03-20_2024-03-31.xlsx',\n",
       " '2024-04-01_2024-04-09.xlsx',\n",
       " '2024-04-10_2024-04-19.xlsx',\n",
       " '2024-04-20_2024-04-30.xlsx',\n",
       " '2024-05-01_2024-05-09.xlsx',\n",
       " '2024-05-10_2024-05-19.xlsx',\n",
       " '2024-06-01_2024-06-09.xlsx',\n",
       " '2024-06-10_2024-06-10.xlsx',\n",
       " '2024-06-10_2024-06-12.xlsx',\n",
       " 'Книга13.xlsx']"
      ]
     },
     "execution_count": 5,
     "metadata": {},
     "output_type": "execute_result"
    }
   ],
   "source": [
    "os.chdir(r'C:\\\\Users\\Trenkin.Sergey\\Desktop\\sales')\n",
    "extension = 'xlsx'\n",
    "all_filenames = [i for i in glob.glob('*.{}'.format(extension))]\n",
    "all_filenames"
   ]
  },
  {
   "cell_type": "code",
   "execution_count": 6,
   "metadata": {},
   "outputs": [
    {
     "name": "stderr",
     "output_type": "stream",
     "text": [
      "  0%|          | 0/11 [00:00<?, ?it/s]"
     ]
    },
    {
     "name": "stderr",
     "output_type": "stream",
     "text": [
      "100%|██████████| 11/11 [10:03<00:00, 54.87s/it]\n"
     ]
    }
   ],
   "source": [
    "sale = pd.DataFrame()\n",
    "for name in tqdm(all_filenames):\n",
    "    sales = pd.read_excel(name)\n",
    "    sale = pd.concat([sales, sale], ignore_index= True)"
   ]
  },
  {
   "cell_type": "code",
   "execution_count": 7,
   "metadata": {},
   "outputs": [],
   "source": [
    "sale['Дата'] = pd.to_datetime(sale['Дата'], dayfirst=True, format='mixed')"
   ]
  },
  {
   "cell_type": "code",
   "execution_count": 8,
   "metadata": {},
   "outputs": [],
   "source": [
    "sale = sale[(sale['Дата'] >= pd.to_datetime('2024-03-14', dayfirst=True, format='mixed')) & \n",
    "            (sale['Дата'] <= pd.to_datetime('2024-06-11', dayfirst=True, format='mixed'))]"
   ]
  },
  {
   "cell_type": "code",
   "execution_count": 77,
   "metadata": {},
   "outputs": [],
   "source": [
    "sale = sale.groupby(by = 'Тов', as_index=False)[['Количество', 'Общая сумма']].sum()"
   ]
  },
  {
   "cell_type": "code",
   "execution_count": 30,
   "metadata": {},
   "outputs": [
    {
     "data": {
      "text/html": [
       "<div>\n",
       "<style scoped>\n",
       "    .dataframe tbody tr th:only-of-type {\n",
       "        vertical-align: middle;\n",
       "    }\n",
       "\n",
       "    .dataframe tbody tr th {\n",
       "        vertical-align: top;\n",
       "    }\n",
       "\n",
       "    .dataframe thead th {\n",
       "        text-align: right;\n",
       "    }\n",
       "</style>\n",
       "<table border=\"1\" class=\"dataframe\">\n",
       "  <thead>\n",
       "    <tr style=\"text-align: right;\">\n",
       "      <th></th>\n",
       "      <th>Код товара</th>\n",
       "      <th>Артикул поставщика</th>\n",
       "      <th>Внутренний артикул</th>\n",
       "      <th>ID Сайта</th>\n",
       "      <th>Товарное направление</th>\n",
       "      <th>Товарная группа</th>\n",
       "      <th>Товарный кластер</th>\n",
       "      <th>Проба</th>\n",
       "      <th>Размер изделия</th>\n",
       "      <th>Тип изделия 1</th>\n",
       "      <th>...</th>\n",
       "      <th>Бренд</th>\n",
       "      <th>Гендерный признак</th>\n",
       "      <th>Ценовая корзина</th>\n",
       "      <th>Группа цен</th>\n",
       "      <th>Остаток</th>\n",
       "      <th>Чистый вес</th>\n",
       "      <th>Цена изделия на бирке</th>\n",
       "      <th>Скидка на изделии</th>\n",
       "      <th>Запрет скидки</th>\n",
       "      <th>Цена Закупки за 1 шт. (упр сс с НДС за единицу)</th>\n",
       "    </tr>\n",
       "  </thead>\n",
       "  <tbody>\n",
       "    <tr>\n",
       "      <th>0</th>\n",
       "      <td>ТОВ1281578</td>\n",
       "      <td>12-02-0201-11136#ГР</td>\n",
       "      <td>12-02-0201-11136#ГР_ПДК</td>\n",
       "      <td>1058831</td>\n",
       "      <td>ПДК</td>\n",
       "      <td>ПДК СЕРЬГИ</td>\n",
       "      <td>ДК_2544</td>\n",
       "      <td>585</td>\n",
       "      <td>0.0</td>\n",
       "      <td>СЕРЬГИ</td>\n",
       "      <td>...</td>\n",
       "      <td>Значение по умолчанию</td>\n",
       "      <td>женские</td>\n",
       "      <td>СРЕДНЯЯ</td>\n",
       "      <td>ПДК_В</td>\n",
       "      <td>1.0</td>\n",
       "      <td>2.055</td>\n",
       "      <td>94004.0</td>\n",
       "      <td>30.0</td>\n",
       "      <td>Нет</td>\n",
       "      <td>7231.02</td>\n",
       "    </tr>\n",
       "    <tr>\n",
       "      <th>1</th>\n",
       "      <td>ТОВ1281716</td>\n",
       "      <td>50-90-0000-27940#375</td>\n",
       "      <td>50-90-0000-27940#375_БК</td>\n",
       "      <td>1353652</td>\n",
       "      <td>БК</td>\n",
       "      <td>БК ПОДВЕС ДЕКОР</td>\n",
       "      <td>БК_1604</td>\n",
       "      <td>375</td>\n",
       "      <td>0.0</td>\n",
       "      <td>ПОДВЕС ДЕКОРАТИВНЫЙ</td>\n",
       "      <td>...</td>\n",
       "      <td>Значение по умолчанию</td>\n",
       "      <td>женские</td>\n",
       "      <td>ДЕШЕВАЯ</td>\n",
       "      <td>ИФ_375</td>\n",
       "      <td>1.0</td>\n",
       "      <td>0.470</td>\n",
       "      <td>8789.0</td>\n",
       "      <td>45.0</td>\n",
       "      <td>Нет</td>\n",
       "      <td>1133.68</td>\n",
       "    </tr>\n",
       "    <tr>\n",
       "      <th>2</th>\n",
       "      <td>ТОВ1281720</td>\n",
       "      <td>50-90-0000-24568#375</td>\n",
       "      <td>50-90-0000-24568#375_БК</td>\n",
       "      <td>1465273</td>\n",
       "      <td>БК</td>\n",
       "      <td>БК ПОДВЕС ДЕКОР</td>\n",
       "      <td>БК_1604</td>\n",
       "      <td>375</td>\n",
       "      <td>0.0</td>\n",
       "      <td>ПОДВЕС ДЕКОРАТИВНЫЙ</td>\n",
       "      <td>...</td>\n",
       "      <td>Значение по умолчанию</td>\n",
       "      <td>женские</td>\n",
       "      <td>ДЕШЕВАЯ</td>\n",
       "      <td>ИФ_375</td>\n",
       "      <td>1.0</td>\n",
       "      <td>0.670</td>\n",
       "      <td>12529.0</td>\n",
       "      <td>45.0</td>\n",
       "      <td>Нет</td>\n",
       "      <td>1696.66</td>\n",
       "    </tr>\n",
       "    <tr>\n",
       "      <th>3</th>\n",
       "      <td>ТОВ1281721</td>\n",
       "      <td>50-92-0000-27277#375</td>\n",
       "      <td>50-92-0000-27277#375_БК</td>\n",
       "      <td>1954047</td>\n",
       "      <td>БК</td>\n",
       "      <td>БК ПОДВЕС ДЕКОР</td>\n",
       "      <td>БК_1605</td>\n",
       "      <td>375</td>\n",
       "      <td>0.0</td>\n",
       "      <td>ПОДВЕС ДЕКОРАТИВНЫЙ</td>\n",
       "      <td>...</td>\n",
       "      <td>Значение по умолчанию</td>\n",
       "      <td>женские</td>\n",
       "      <td>СРЕДНЯЯ</td>\n",
       "      <td>ИФ_375</td>\n",
       "      <td>1.0</td>\n",
       "      <td>1.009</td>\n",
       "      <td>18887.0</td>\n",
       "      <td>45.0</td>\n",
       "      <td>Нет</td>\n",
       "      <td>2403.03</td>\n",
       "    </tr>\n",
       "    <tr>\n",
       "      <th>4</th>\n",
       "      <td>ТОВ1281724</td>\n",
       "      <td>50-90-0000-24029#375</td>\n",
       "      <td>50-90-0000-24029#375_БК</td>\n",
       "      <td>1619144</td>\n",
       "      <td>БК</td>\n",
       "      <td>БК ПОДВЕС ДЕКОР</td>\n",
       "      <td>БК_1604</td>\n",
       "      <td>375</td>\n",
       "      <td>0.0</td>\n",
       "      <td>ПОДВЕС ДЕКОРАТИВНЫЙ</td>\n",
       "      <td>...</td>\n",
       "      <td>Значение по умолчанию</td>\n",
       "      <td>детские</td>\n",
       "      <td>ДЕШЕВАЯ</td>\n",
       "      <td>ИФ_375</td>\n",
       "      <td>1.0</td>\n",
       "      <td>0.321</td>\n",
       "      <td>5984.0</td>\n",
       "      <td>45.0</td>\n",
       "      <td>Нет</td>\n",
       "      <td>770.07</td>\n",
       "    </tr>\n",
       "  </tbody>\n",
       "</table>\n",
       "<p>5 rows × 23 columns</p>\n",
       "</div>"
      ],
      "text/plain": [
       "   Код товара    Артикул поставщика       Внутренний артикул ID Сайта  \\\n",
       "0  ТОВ1281578   12-02-0201-11136#ГР  12-02-0201-11136#ГР_ПДК  1058831   \n",
       "1  ТОВ1281716  50-90-0000-27940#375  50-90-0000-27940#375_БК  1353652   \n",
       "2  ТОВ1281720  50-90-0000-24568#375  50-90-0000-24568#375_БК  1465273   \n",
       "3  ТОВ1281721  50-92-0000-27277#375  50-92-0000-27277#375_БК  1954047   \n",
       "4  ТОВ1281724  50-90-0000-24029#375  50-90-0000-24029#375_БК  1619144   \n",
       "\n",
       "  Товарное направление  Товарная группа Товарный кластер Проба  \\\n",
       "0                  ПДК       ПДК СЕРЬГИ          ДК_2544   585   \n",
       "1                   БК  БК ПОДВЕС ДЕКОР          БК_1604   375   \n",
       "2                   БК  БК ПОДВЕС ДЕКОР          БК_1604   375   \n",
       "3                   БК  БК ПОДВЕС ДЕКОР          БК_1605   375   \n",
       "4                   БК  БК ПОДВЕС ДЕКОР          БК_1604   375   \n",
       "\n",
       "   Размер изделия        Тип изделия 1  ...                  Бренд  \\\n",
       "0             0.0               СЕРЬГИ  ...  Значение по умолчанию   \n",
       "1             0.0  ПОДВЕС ДЕКОРАТИВНЫЙ  ...  Значение по умолчанию   \n",
       "2             0.0  ПОДВЕС ДЕКОРАТИВНЫЙ  ...  Значение по умолчанию   \n",
       "3             0.0  ПОДВЕС ДЕКОРАТИВНЫЙ  ...  Значение по умолчанию   \n",
       "4             0.0  ПОДВЕС ДЕКОРАТИВНЫЙ  ...  Значение по умолчанию   \n",
       "\n",
       "  Гендерный признак Ценовая корзина Группа цен Остаток Чистый вес  \\\n",
       "0           женские         СРЕДНЯЯ      ПДК_В     1.0      2.055   \n",
       "1           женские         ДЕШЕВАЯ     ИФ_375     1.0      0.470   \n",
       "2           женские         ДЕШЕВАЯ     ИФ_375     1.0      0.670   \n",
       "3           женские         СРЕДНЯЯ     ИФ_375     1.0      1.009   \n",
       "4           детские         ДЕШЕВАЯ     ИФ_375     1.0      0.321   \n",
       "\n",
       "  Цена изделия на бирке  Скидка на изделии  Запрет скидки  \\\n",
       "0               94004.0               30.0            Нет   \n",
       "1                8789.0               45.0            Нет   \n",
       "2               12529.0               45.0            Нет   \n",
       "3               18887.0               45.0            Нет   \n",
       "4                5984.0               45.0            Нет   \n",
       "\n",
       "   Цена Закупки за 1 шт. (упр сс с НДС за единицу)  \n",
       "0                                          7231.02  \n",
       "1                                          1133.68  \n",
       "2                                          1696.66  \n",
       "3                                          2403.03  \n",
       "4                                           770.07  \n",
       "\n",
       "[5 rows x 23 columns]"
      ]
     },
     "execution_count": 30,
     "metadata": {},
     "output_type": "execute_result"
    }
   ],
   "source": [
    "stock.head()"
   ]
  },
  {
   "cell_type": "code",
   "execution_count": 10,
   "metadata": {},
   "outputs": [],
   "source": [
    "result = stock.drop_duplicates(subset=['Код товара'])"
   ]
  },
  {
   "cell_type": "code",
   "execution_count": 24,
   "metadata": {},
   "outputs": [],
   "source": [
    "tovs = result['ID Сайта'].dropna().tolist()"
   ]
  },
  {
   "cell_type": "code",
   "execution_count": 27,
   "metadata": {},
   "outputs": [],
   "source": [
    "images['article'] = images['article'].astype(str)"
   ]
  },
  {
   "cell_type": "code",
   "execution_count": 28,
   "metadata": {},
   "outputs": [],
   "source": [
    "images = images.query('article in @tovs')"
   ]
  },
  {
   "cell_type": "code",
   "execution_count": 31,
   "metadata": {},
   "outputs": [],
   "source": [
    "images = images[['article', 'published', 'Ссылка на изображение']]"
   ]
  },
  {
   "cell_type": "code",
   "execution_count": 32,
   "metadata": {},
   "outputs": [],
   "source": [
    "images.columns = ['ID Сайта', 'Опубликован', 'Ссылка на изображение']"
   ]
  },
  {
   "cell_type": "code",
   "execution_count": 33,
   "metadata": {},
   "outputs": [],
   "source": [
    "result = result.merge(images, how='left', on='ID Сайта')"
   ]
  },
  {
   "cell_type": "code",
   "execution_count": 37,
   "metadata": {},
   "outputs": [],
   "source": [
    "df = stock"
   ]
  },
  {
   "cell_type": "code",
   "execution_count": 38,
   "metadata": {},
   "outputs": [],
   "source": [
    "stock = df.groupby(by = 'Код товара', as_index=False)['Остаток'].sum()"
   ]
  },
  {
   "cell_type": "code",
   "execution_count": 41,
   "metadata": {},
   "outputs": [],
   "source": [
    "result = result.merge(stock, how='left', on='Код товара')"
   ]
  },
  {
   "cell_type": "code",
   "execution_count": 43,
   "metadata": {},
   "outputs": [],
   "source": [
    "result = result.drop(columns=['Остаток_x'])"
   ]
  },
  {
   "cell_type": "code",
   "execution_count": 45,
   "metadata": {},
   "outputs": [],
   "source": [
    "result.columns = ['Код товара', 'Артикул поставщика', 'Внутренний артикул', 'ID Сайта',\n",
    "    'Товарное направление', 'Товарная группа', 'Товарный кластер', 'Проба',\n",
    "    'Размер изделия', 'Тип изделия 1', 'Тип изделия 2', 'Тип изделия 3',\n",
    "    'Дизайн', 'Бренд', 'Гендерный признак', 'Ценовая корзина', 'Группа цен',\n",
    "    'Чистый вес', 'Цена изделия на бирке', 'Скидка на изделии',\n",
    "    'Запрет скидки', 'Цена Закупки за 1 шт. (упр сс с НДС за единицу)',\n",
    "    'Опубликован', 'Ссылка на изображение', 'Остаток']"
   ]
  },
  {
   "cell_type": "code",
   "execution_count": 61,
   "metadata": {},
   "outputs": [],
   "source": [
    "df['Чистый вес'] = df['Чистый вес'].astype(float)"
   ]
  },
  {
   "cell_type": "code",
   "execution_count": 66,
   "metadata": {},
   "outputs": [],
   "source": [
    "clear_weight = df.groupby(by = 'Код товара', as_index=False)['Чистый вес'].agg({'min', 'median', 'max'})\n",
    "clear_weight.columns = ['Код товара', 'Чистый вес мин', 'Чистый вес медиана', 'Чистый вес макс']\n",
    "clear_weight['Чистый вес размах, %'] = (clear_weight['Чистый вес макс'] - clear_weight['Чистый вес мин']) / ((clear_weight['Чистый вес макс'] + clear_weight['Чистый вес мин']) / 2)"
   ]
  },
  {
   "cell_type": "code",
   "execution_count": 69,
   "metadata": {},
   "outputs": [],
   "source": [
    "result = result.merge(clear_weight, how='left', on='Код товара')"
   ]
  },
  {
   "cell_type": "code",
   "execution_count": 76,
   "metadata": {},
   "outputs": [],
   "source": [
    "price_birka = df.groupby(by = 'Код товара', as_index=False)['Цена изделия на бирке'].agg({'min', 'median', 'max'})\n",
    "price_birka.columns = ['Код товара', 'Цена изделия на бирке мин', 'Цена изделия на бирке медиана', 'Цена изделия на бирке макс']"
   ]
  },
  {
   "cell_type": "code",
   "execution_count": 74,
   "metadata": {},
   "outputs": [],
   "source": [
    "result = result.merge(price_birka, how='left', on='Код товара')"
   ]
  },
  {
   "cell_type": "code",
   "execution_count": 81,
   "metadata": {},
   "outputs": [],
   "source": [
    "base_discount = df.groupby(by = 'Код товара', as_index=False)['Скидка на изделии'].agg({'min', 'max'})\n",
    "base_discount.columns = ['Код товара', 'Базовая скидка мин', 'Базовая скидка макс']"
   ]
  },
  {
   "cell_type": "code",
   "execution_count": 82,
   "metadata": {},
   "outputs": [],
   "source": [
    "result = result.merge(base_discount, how='left', on='Код товара')"
   ]
  },
  {
   "cell_type": "code",
   "execution_count": 90,
   "metadata": {},
   "outputs": [],
   "source": [
    "df['Цена со скидками'] = np.where(\n",
    "    df['Запрет скидки'] == 'Да', df['Цена изделия на бирке'], df['Цена изделия на бирке'] * 0.8 * 0.6 * (1 - df['Скидка на изделии'] / 100)\n",
    ")"
   ]
  },
  {
   "cell_type": "code",
   "execution_count": 94,
   "metadata": {},
   "outputs": [],
   "source": [
    "price_skidki = df.groupby(by = 'Код товара', as_index=False)['Цена со скидками'].agg({'min', 'median', 'max'})\n",
    "price_skidki.columns = ['Код товара', 'Цена со скидками мин', 'Цена со скидками медиана', 'Цена со скидками макс']\n",
    "price_skidki['Цена со скидками размах, %'] = (price_skidki['Цена со скидками макс'] - price_skidki['Цена со скидками мин']) / ((price_skidki['Цена со скидками макс'] + price_skidki['Цена со скидками мин']) / 2)"
   ]
  },
  {
   "cell_type": "code",
   "execution_count": 96,
   "metadata": {},
   "outputs": [],
   "source": [
    "result = result.merge(price_skidki, how='left', on='Код товара')"
   ]
  },
  {
   "cell_type": "code",
   "execution_count": 102,
   "metadata": {},
   "outputs": [],
   "source": [
    "selfprice = df.groupby(by = 'Код товара', as_index=False)['Цена Закупки за 1 шт. (упр сс с НДС за единицу)'].agg({'min', 'median', 'max'})\n",
    "selfprice.columns = ['Код товара', 'Себестоимость мин', 'Себестоимость медиана', 'Себестоимость макс']\n",
    "selfprice['Себестоимость размах, %'] = (selfprice['Себестоимость макс'] - selfprice['Себестоимость мин']) / ((selfprice['Себестоимость макс'] + selfprice['Себестоимость мин']) / 2)"
   ]
  },
  {
   "cell_type": "code",
   "execution_count": 104,
   "metadata": {},
   "outputs": [],
   "source": [
    "result = result.merge(selfprice, how='left', on='Код товара')"
   ]
  },
  {
   "cell_type": "code",
   "execution_count": 118,
   "metadata": {},
   "outputs": [],
   "source": [
    "df['Наценка'] = df['Цена со скидками'] / df['Цена Закупки за 1 шт. (упр сс с НДС за единицу)'] - 1"
   ]
  },
  {
   "cell_type": "code",
   "execution_count": 119,
   "metadata": {},
   "outputs": [],
   "source": [
    "markup = df.groupby(by = 'Код товара', as_index=False)['Наценка'].agg({'min', 'median', 'max'})\n",
    "markup.columns = ['Код товара', 'Наценка мин', 'Наценка медиана', 'Наценка макс']"
   ]
  },
  {
   "cell_type": "code",
   "execution_count": 122,
   "metadata": {},
   "outputs": [],
   "source": [
    "result = result.merge(markup, how='left', on='Код товара')"
   ]
  },
  {
   "cell_type": "code",
   "execution_count": 128,
   "metadata": {},
   "outputs": [],
   "source": [
    "zapret['Артикул сайта'] = zapret['Артикул сайта'].astype(str)"
   ]
  },
  {
   "cell_type": "code",
   "execution_count": 129,
   "metadata": {},
   "outputs": [],
   "source": [
    "zapret = zapret['Артикул сайта'].tolist()"
   ]
  },
  {
   "cell_type": "code",
   "execution_count": 130,
   "metadata": {},
   "outputs": [],
   "source": [
    "result['Запрет к размещению'] = np.nan\n",
    "for i in result.index:\n",
    "    if result['ID Сайта'][i] in zapret:\n",
    "        result['Запрет к размещению'][i] = True\n",
    "    else:\n",
    "        result['Запрет к размещению'][i] = False"
   ]
  },
  {
   "cell_type": "code",
   "execution_count": 132,
   "metadata": {},
   "outputs": [],
   "source": [
    "ecom = pd.read_excel(r'\\\\gold585.int\\uk\\Общее хранилище файлов\\Служба аналитики\\МЮР\\ecom_stock_raw\\Остатки 2024.06.17.xlsx')"
   ]
  },
  {
   "cell_type": "code",
   "execution_count": 140,
   "metadata": {},
   "outputs": [],
   "source": [
    "path = r'\\\\gold585.int\\uk\\Общее хранилище файлов\\Служба аналитики\\Тренкин Сергей\\discounts_zolotoy\\\\'\n",
    "list_of_files = glob.glob(path + '\\*.xlsx') \n",
    "latest_file = max(list_of_files, key=os.path.getctime)\n",
    "\n",
    "discount_ecom = pd.read_excel(latest_file)"
   ]
  },
  {
   "cell_type": "code",
   "execution_count": 141,
   "metadata": {},
   "outputs": [],
   "source": [
    "discount_ecom.columns = ['article', 'Опубликован', 'discount_value_promotions_1']"
   ]
  },
  {
   "cell_type": "code",
   "execution_count": 142,
   "metadata": {},
   "outputs": [],
   "source": [
    "ecom = ecom.merge(discount_ecom, how='left', on='article')"
   ]
  },
  {
   "cell_type": "code",
   "execution_count": 144,
   "metadata": {},
   "outputs": [],
   "source": [
    "def discount_index(discount):\n",
    "    try:\n",
    "        return 1 - discount / 100\n",
    "    except:\n",
    "        return 1"
   ]
  },
  {
   "cell_type": "code",
   "execution_count": 145,
   "metadata": {},
   "outputs": [],
   "source": [
    "ecom.discount_value_promotions_1 = ecom.discount_value_promotions_1.apply(discount_index)"
   ]
  },
  {
   "cell_type": "code",
   "execution_count": 147,
   "metadata": {},
   "outputs": [],
   "source": [
    "ecom['Цена со скидками Ecom'] = np.where(\n",
    "    (ecom['price'] == ecom['discount_price']) & (ecom['discount_value_promotions_1'] == 1), ecom['discount_price'] * ecom['discount_value_promotions_1'], \n",
    "    np.where(\n",
    "        ecom['discount_value_promotions_1'] == 0.5, ecom['discount_price'] * ecom['discount_value_promotions_1'], ecom['discount_price'] * ecom['discount_value_promotions_1'] * 0.8\n",
    "    )\n",
    ")"
   ]
  },
  {
   "cell_type": "code",
   "execution_count": 150,
   "metadata": {},
   "outputs": [],
   "source": [
    "ecom['article'] = ecom['article'].astype(str)\n",
    "ecom = ecom[['article', 'Цена со скидками Ecom']]"
   ]
  },
  {
   "cell_type": "code",
   "execution_count": 152,
   "metadata": {},
   "outputs": [],
   "source": [
    "ecom = ecom.query('article in @tovs')"
   ]
  },
  {
   "cell_type": "code",
   "execution_count": 155,
   "metadata": {},
   "outputs": [],
   "source": [
    "ecom = ecom.groupby(by = 'article', as_index=False)['Цена со скидками Ecom'].agg({'min', 'median', 'max'})"
   ]
  },
  {
   "cell_type": "code",
   "execution_count": 165,
   "metadata": {},
   "outputs": [],
   "source": [
    "ecom.columns = ['ID Сайта', 'Цена со скидками Ecom мин', 'Цена со скидками Ecom медиан', 'Цена со скидками Ecom макс']\n",
    "ecom['Цена со скидками Ecom размах, %'] = (ecom['Цена со скидками Ecom макс'] - ecom['Цена со скидками Ecom мин']) / ((ecom['Цена со скидками Ecom макс'] + ecom['Цена со скидками Ecom мин']) / 2)"
   ]
  },
  {
   "cell_type": "code",
   "execution_count": 167,
   "metadata": {},
   "outputs": [],
   "source": [
    "result = result.merge(ecom, how='left', on='ID Сайта')"
   ]
  },
  {
   "cell_type": "code",
   "execution_count": 169,
   "metadata": {},
   "outputs": [
    {
     "name": "stdout",
     "output_type": "stream",
     "text": [
      "<class 'pandas.core.frame.DataFrame'>\n",
      "RangeIndex: 3538889 entries, 0 to 3538888\n",
      "Data columns (total 25 columns):\n",
      " #   Column                                           Dtype  \n",
      "---  ------                                           -----  \n",
      " 0   Код товара                                       object \n",
      " 1   Артикул поставщика                               object \n",
      " 2   Внутренний артикул                               object \n",
      " 3   ID Сайта                                         object \n",
      " 4   Товарное направление                             object \n",
      " 5   Товарная группа                                  object \n",
      " 6   Товарный кластер                                 object \n",
      " 7   Проба                                            object \n",
      " 8   Размер изделия                                   float64\n",
      " 9   Тип изделия 1                                    object \n",
      " 10  Тип изделия 2                                    object \n",
      " 11  Тип изделия 3                                    object \n",
      " 12  Дизайн                                           object \n",
      " 13  Бренд                                            object \n",
      " 14  Гендерный признак                                object \n",
      " 15  Ценовая корзина                                  object \n",
      " 16  Группа цен                                       object \n",
      " 17  Остаток                                          float64\n",
      " 18  Чистый вес                                       float64\n",
      " 19  Цена изделия на бирке                            float64\n",
      " 20  Скидка на изделии                                float64\n",
      " 21  Запрет скидки                                    object \n",
      " 22  Цена Закупки за 1 шт. (упр сс с НДС за единицу)  float64\n",
      " 23  Цена со скидками                                 float64\n",
      " 24  Наценка                                          float64\n",
      "dtypes: float64(8), object(17)\n",
      "memory usage: 675.0+ MB\n"
     ]
    }
   ],
   "source": [
    "df.info()"
   ]
  },
  {
   "cell_type": "code",
   "execution_count": 170,
   "metadata": {},
   "outputs": [],
   "source": [
    "df['Сумма в себестоимости на остатках'] = df['Остаток'] * df['Цена Закупки за 1 шт. (упр сс с НДС за единицу)']"
   ]
  },
  {
   "cell_type": "code",
   "execution_count": 172,
   "metadata": {},
   "outputs": [],
   "source": [
    "summa_ost = df.groupby(by ='Код товара', as_index=False)['Сумма в себестоимости на остатках'].sum()"
   ]
  },
  {
   "cell_type": "code",
   "execution_count": 174,
   "metadata": {},
   "outputs": [],
   "source": [
    "result = result.merge(summa_ost, how='left', on='Код товара')"
   ]
  },
  {
   "cell_type": "code",
   "execution_count": null,
   "metadata": {},
   "outputs": [],
   "source": [
    "sale = sale.groupby(by ='Тов', as_index=False)['Общая сумма'].agg({'count', 'sum'})"
   ]
  },
  {
   "cell_type": "code",
   "execution_count": 181,
   "metadata": {},
   "outputs": [],
   "source": [
    "sale.columns = ['Код товара', 'Количество продаж 14.03-11.06', 'Сумма продаж 14.03-11.06']"
   ]
  },
  {
   "cell_type": "code",
   "execution_count": 185,
   "metadata": {},
   "outputs": [],
   "source": [
    "result = result.merge(sale, how='left', on='Код товара')"
   ]
  },
  {
   "cell_type": "code",
   "execution_count": 190,
   "metadata": {},
   "outputs": [],
   "source": [
    "df['Цена за грамм'] = df['Цена со скидками'] / df['Чистый вес']"
   ]
  },
  {
   "cell_type": "code",
   "execution_count": 194,
   "metadata": {},
   "outputs": [],
   "source": [
    "price_per_gramm = df.groupby(by = 'Код товара', as_index=False)['Цена за грамм'].agg({'min', 'median', 'max'})\n",
    "price_per_gramm.columns = ['Код товара', 'Цена за грамм мин', 'Цена за грамм медиана', 'Цена за грамм макс']"
   ]
  },
  {
   "cell_type": "code",
   "execution_count": 195,
   "metadata": {},
   "outputs": [],
   "source": [
    "result = result.merge(price_per_gramm, how='left', on='Код товара')"
   ]
  },
  {
   "cell_type": "code",
   "execution_count": 197,
   "metadata": {},
   "outputs": [],
   "source": [
    "result.to_csv('result.csv', index=False)"
   ]
  },
  {
   "cell_type": "code",
   "execution_count": 219,
   "metadata": {},
   "outputs": [],
   "source": [
    "zapret_sk = df.groupby(by = 'Код товара', as_index=False)['Запрет скидки'].count()"
   ]
  },
  {
   "cell_type": "code",
   "execution_count": 220,
   "metadata": {},
   "outputs": [
    {
     "data": {
      "text/html": [
       "<div>\n",
       "<style scoped>\n",
       "    .dataframe tbody tr th:only-of-type {\n",
       "        vertical-align: middle;\n",
       "    }\n",
       "\n",
       "    .dataframe tbody tr th {\n",
       "        vertical-align: top;\n",
       "    }\n",
       "\n",
       "    .dataframe thead th {\n",
       "        text-align: right;\n",
       "    }\n",
       "</style>\n",
       "<table border=\"1\" class=\"dataframe\">\n",
       "  <thead>\n",
       "    <tr style=\"text-align: right;\">\n",
       "      <th></th>\n",
       "      <th>Код товара</th>\n",
       "      <th>Запрет скидки</th>\n",
       "    </tr>\n",
       "  </thead>\n",
       "  <tbody>\n",
       "    <tr>\n",
       "      <th>0</th>\n",
       "      <td>ТОВ0115302</td>\n",
       "      <td>11</td>\n",
       "    </tr>\n",
       "    <tr>\n",
       "      <th>1</th>\n",
       "      <td>ТОВ0120218</td>\n",
       "      <td>1</td>\n",
       "    </tr>\n",
       "    <tr>\n",
       "      <th>2</th>\n",
       "      <td>ТОВ0120219</td>\n",
       "      <td>2</td>\n",
       "    </tr>\n",
       "    <tr>\n",
       "      <th>3</th>\n",
       "      <td>ТОВ0120222</td>\n",
       "      <td>3</td>\n",
       "    </tr>\n",
       "    <tr>\n",
       "      <th>4</th>\n",
       "      <td>ТОВ0120223</td>\n",
       "      <td>2</td>\n",
       "    </tr>\n",
       "    <tr>\n",
       "      <th>...</th>\n",
       "      <td>...</td>\n",
       "      <td>...</td>\n",
       "    </tr>\n",
       "    <tr>\n",
       "      <th>140817</th>\n",
       "      <td>ТОВ1335405</td>\n",
       "      <td>58</td>\n",
       "    </tr>\n",
       "    <tr>\n",
       "      <th>140818</th>\n",
       "      <td>ТОВ1335481</td>\n",
       "      <td>20</td>\n",
       "    </tr>\n",
       "    <tr>\n",
       "      <th>140819</th>\n",
       "      <td>ТОВ1335482</td>\n",
       "      <td>20</td>\n",
       "    </tr>\n",
       "    <tr>\n",
       "      <th>140820</th>\n",
       "      <td>ТОВ1336931</td>\n",
       "      <td>20</td>\n",
       "    </tr>\n",
       "    <tr>\n",
       "      <th>140821</th>\n",
       "      <td>ТОВ1336932</td>\n",
       "      <td>9</td>\n",
       "    </tr>\n",
       "  </tbody>\n",
       "</table>\n",
       "<p>140822 rows × 2 columns</p>\n",
       "</div>"
      ],
      "text/plain": [
       "        Код товара  Запрет скидки\n",
       "0       ТОВ0115302             11\n",
       "1       ТОВ0120218              1\n",
       "2       ТОВ0120219              2\n",
       "3       ТОВ0120222              3\n",
       "4       ТОВ0120223              2\n",
       "...            ...            ...\n",
       "140817  ТОВ1335405             58\n",
       "140818  ТОВ1335481             20\n",
       "140819  ТОВ1335482             20\n",
       "140820  ТОВ1336931             20\n",
       "140821  ТОВ1336932              9\n",
       "\n",
       "[140822 rows x 2 columns]"
      ]
     },
     "execution_count": 220,
     "metadata": {},
     "output_type": "execute_result"
    }
   ],
   "source": [
    "zapret_sk"
   ]
  },
  {
   "cell_type": "code",
   "execution_count": 232,
   "metadata": {},
   "outputs": [],
   "source": [
    "yes = df[df['Запрет скидки'] == 'Да']\n",
    "no = df[df['Запрет скидки'] == 'Нет']"
   ]
  },
  {
   "cell_type": "code",
   "execution_count": 233,
   "metadata": {},
   "outputs": [],
   "source": [
    "yes = yes.groupby(by = 'Код товара', as_index=False)['Запрет скидки'].count()\n",
    "no = no.groupby(by = 'Код товара', as_index=False)['Запрет скидки'].count()"
   ]
  },
  {
   "cell_type": "code",
   "execution_count": 234,
   "metadata": {},
   "outputs": [],
   "source": [
    "yes.columns = ['Код товара', 'Количество с запрещенной скидкой']"
   ]
  },
  {
   "cell_type": "code",
   "execution_count": 235,
   "metadata": {},
   "outputs": [],
   "source": [
    "no.columns = ['Код товара', 'Количество с разрешенной скидкой']"
   ]
  },
  {
   "cell_type": "code",
   "execution_count": 236,
   "metadata": {},
   "outputs": [],
   "source": [
    "yes = yes.merge(no, how='outer', on='Код товара')"
   ]
  },
  {
   "cell_type": "code",
   "execution_count": 239,
   "metadata": {},
   "outputs": [
    {
     "data": {
      "text/html": [
       "<div>\n",
       "<style scoped>\n",
       "    .dataframe tbody tr th:only-of-type {\n",
       "        vertical-align: middle;\n",
       "    }\n",
       "\n",
       "    .dataframe tbody tr th {\n",
       "        vertical-align: top;\n",
       "    }\n",
       "\n",
       "    .dataframe thead th {\n",
       "        text-align: right;\n",
       "    }\n",
       "</style>\n",
       "<table border=\"1\" class=\"dataframe\">\n",
       "  <thead>\n",
       "    <tr style=\"text-align: right;\">\n",
       "      <th></th>\n",
       "      <th>Код товара</th>\n",
       "      <th>Количество с запрещенной скидкой</th>\n",
       "      <th>Количество с разрешенной скидкой</th>\n",
       "    </tr>\n",
       "  </thead>\n",
       "  <tbody>\n",
       "    <tr>\n",
       "      <th>0</th>\n",
       "      <td>ТОВ0120218</td>\n",
       "      <td>1.0</td>\n",
       "      <td>NaN</td>\n",
       "    </tr>\n",
       "    <tr>\n",
       "      <th>1</th>\n",
       "      <td>ТОВ0120219</td>\n",
       "      <td>2.0</td>\n",
       "      <td>NaN</td>\n",
       "    </tr>\n",
       "    <tr>\n",
       "      <th>2</th>\n",
       "      <td>ТОВ0120222</td>\n",
       "      <td>3.0</td>\n",
       "      <td>NaN</td>\n",
       "    </tr>\n",
       "    <tr>\n",
       "      <th>3</th>\n",
       "      <td>ТОВ0120223</td>\n",
       "      <td>2.0</td>\n",
       "      <td>NaN</td>\n",
       "    </tr>\n",
       "    <tr>\n",
       "      <th>4</th>\n",
       "      <td>ТОВ0120224</td>\n",
       "      <td>1.0</td>\n",
       "      <td>NaN</td>\n",
       "    </tr>\n",
       "    <tr>\n",
       "      <th>...</th>\n",
       "      <td>...</td>\n",
       "      <td>...</td>\n",
       "      <td>...</td>\n",
       "    </tr>\n",
       "    <tr>\n",
       "      <th>140817</th>\n",
       "      <td>ТОВ1335405</td>\n",
       "      <td>NaN</td>\n",
       "      <td>58.0</td>\n",
       "    </tr>\n",
       "    <tr>\n",
       "      <th>140818</th>\n",
       "      <td>ТОВ1335481</td>\n",
       "      <td>NaN</td>\n",
       "      <td>20.0</td>\n",
       "    </tr>\n",
       "    <tr>\n",
       "      <th>140819</th>\n",
       "      <td>ТОВ1335482</td>\n",
       "      <td>NaN</td>\n",
       "      <td>20.0</td>\n",
       "    </tr>\n",
       "    <tr>\n",
       "      <th>140820</th>\n",
       "      <td>ТОВ1336931</td>\n",
       "      <td>NaN</td>\n",
       "      <td>20.0</td>\n",
       "    </tr>\n",
       "    <tr>\n",
       "      <th>140821</th>\n",
       "      <td>ТОВ1336932</td>\n",
       "      <td>NaN</td>\n",
       "      <td>9.0</td>\n",
       "    </tr>\n",
       "  </tbody>\n",
       "</table>\n",
       "<p>140822 rows × 3 columns</p>\n",
       "</div>"
      ],
      "text/plain": [
       "        Код товара  Количество с запрещенной скидкой  \\\n",
       "0       ТОВ0120218                               1.0   \n",
       "1       ТОВ0120219                               2.0   \n",
       "2       ТОВ0120222                               3.0   \n",
       "3       ТОВ0120223                               2.0   \n",
       "4       ТОВ0120224                               1.0   \n",
       "...            ...                               ...   \n",
       "140817  ТОВ1335405                               NaN   \n",
       "140818  ТОВ1335481                               NaN   \n",
       "140819  ТОВ1335482                               NaN   \n",
       "140820  ТОВ1336931                               NaN   \n",
       "140821  ТОВ1336932                               NaN   \n",
       "\n",
       "        Количество с разрешенной скидкой  \n",
       "0                                    NaN  \n",
       "1                                    NaN  \n",
       "2                                    NaN  \n",
       "3                                    NaN  \n",
       "4                                    NaN  \n",
       "...                                  ...  \n",
       "140817                              58.0  \n",
       "140818                              20.0  \n",
       "140819                              20.0  \n",
       "140820                              20.0  \n",
       "140821                               9.0  \n",
       "\n",
       "[140822 rows x 3 columns]"
      ]
     },
     "execution_count": 239,
     "metadata": {},
     "output_type": "execute_result"
    }
   ],
   "source": [
    "yes"
   ]
  },
  {
   "cell_type": "code",
   "execution_count": 240,
   "metadata": {},
   "outputs": [],
   "source": [
    "result = result.merge(yes, how='left', on='Код товара')"
   ]
  },
  {
   "cell_type": "code",
   "execution_count": 244,
   "metadata": {},
   "outputs": [],
   "source": [
    "result = result.drop_duplicates(subset=['Код товара'])"
   ]
  },
  {
   "cell_type": "code",
   "execution_count": 245,
   "metadata": {},
   "outputs": [],
   "source": [
    "result.to_excel('Исследование цен доработанный.xlsx', index=False)"
   ]
  },
  {
   "cell_type": "code",
   "execution_count": null,
   "metadata": {},
   "outputs": [],
   "source": []
  }
 ],
 "metadata": {
  "kernelspec": {
   "display_name": "Python 3",
   "language": "python",
   "name": "python3"
  },
  "language_info": {
   "codemirror_mode": {
    "name": "ipython",
    "version": 3
   },
   "file_extension": ".py",
   "mimetype": "text/x-python",
   "name": "python",
   "nbconvert_exporter": "python",
   "pygments_lexer": "ipython3",
   "version": "3.12.0"
  }
 },
 "nbformat": 4,
 "nbformat_minor": 2
}
