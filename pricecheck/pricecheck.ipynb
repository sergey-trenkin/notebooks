{
 "cells": [
  {
   "cell_type": "code",
   "execution_count": 269,
   "metadata": {},
   "outputs": [],
   "source": [
    "from tqdm import tqdm\n",
    "import pymssql\n",
    "import pandas as pd\n",
    "import numpy as np\n",
    "import warnings\n",
    "import glob \n",
    "import os\n",
    "\n",
    "warnings.filterwarnings('ignore')"
   ]
  },
  {
   "cell_type": "code",
   "execution_count": 125,
   "metadata": {},
   "outputs": [],
   "source": [
    "conn = pymssql.connect(server='AX-SQL', database='Staging')\n",
    "cursor = conn.cursor()\n",
    "\n",
    "sql = f'''\n",
    "SELECT [Код склада], [Код товара], [Артикул поставщика], [Внутренний артикул], [ID Сайта], [Товарное направление],\n",
    "[Товарная группа], [Товарный кластер], [Проба], [Размер изделия], [Тип изделия 1], [Тип изделия 2],\n",
    "[Тип изделия 3], [Дизайн], [Бренд], [Гендерный признак], [Ценовая корзина], [Группа цен], [Остаток], [Цена Розн., за шт],\n",
    "[Чистый вес], [Цена изделия на бирке], [Скидка на изделии], [Запрет скидки], [Цена Закупки за 1 шт. (упр сс с НДС за единицу)], [Дата закупки]\n",
    "from [Staging].[Reports].[Remainings_8h]\n",
    "where [Товарное направление] in (N'БК', N'ЦБ', N'ИФ', N'ПДК', N'ДК')\n",
    "'''\n",
    "\n",
    "sql_query = pd.read_sql_query(sql, conn)\n",
    "stock = pd.DataFrame(sql_query)"
   ]
  },
  {
   "cell_type": "code",
   "execution_count": 126,
   "metadata": {},
   "outputs": [],
   "source": [
    "images = pd.read_excel(r'C:\\Users\\Trenkin.Sergey\\Desktop\\Артикул-фото 2024.06.11_.xlsx')"
   ]
  },
  {
   "cell_type": "code",
   "execution_count": 127,
   "metadata": {},
   "outputs": [],
   "source": [
    "zapret = pd.read_excel(r'C:\\Users\\Trenkin.Sergey\\Desktop\\запрет Артикулы к размещению.xlsx')"
   ]
  },
  {
   "cell_type": "code",
   "execution_count": 128,
   "metadata": {},
   "outputs": [],
   "source": [
    "kniga = pd.read_excel(r'C:\\Users\\Trenkin.Sergey\\Desktop\\Книга11.xlsx')"
   ]
  },
  {
   "cell_type": "code",
   "execution_count": 129,
   "metadata": {},
   "outputs": [
    {
     "data": {
      "text/plain": [
       "['2024-03-10_2024-03-19.xlsx',\n",
       " '2024-03-20_2024-03-31.xlsx',\n",
       " '2024-04-01_2024-04-09.xlsx',\n",
       " '2024-04-10_2024-04-19.xlsx',\n",
       " '2024-04-20_2024-04-30.xlsx',\n",
       " '2024-05-01_2024-05-09.xlsx',\n",
       " '2024-05-10_2024-05-19.xlsx',\n",
       " '2024-05-20_2024-05-31.xlsx',\n",
       " '2024-06-01_2024-06-09.xlsx',\n",
       " '2024-06-10_2024-06-10.xlsx',\n",
       " '2024-06-10_2024-06-12.xlsx',\n",
       " '2024-06-10_2024-06-18.xlsx']"
      ]
     },
     "execution_count": 129,
     "metadata": {},
     "output_type": "execute_result"
    }
   ],
   "source": [
    "os.chdir(r'C:\\\\Users\\Trenkin.Sergey\\Desktop\\sales')\n",
    "extension = 'xlsx'\n",
    "all_filenames = [i for i in glob.glob('*.{}'.format(extension))]\n",
    "all_filenames"
   ]
  },
  {
   "cell_type": "code",
   "execution_count": 130,
   "metadata": {},
   "outputs": [
    {
     "name": "stderr",
     "output_type": "stream",
     "text": [
      "100%|██████████| 12/12 [12:21<00:00, 61.81s/it]\n"
     ]
    }
   ],
   "source": [
    "sale = pd.DataFrame()\n",
    "for name in tqdm(all_filenames):\n",
    "    sales = pd.read_excel(name)\n",
    "    sale = pd.concat([sales, sale], ignore_index= True)"
   ]
  },
  {
   "cell_type": "code",
   "execution_count": 131,
   "metadata": {},
   "outputs": [],
   "source": [
    "sale['Дата'] = pd.to_datetime(sale['Дата'], dayfirst=True, format='mixed')"
   ]
  },
  {
   "cell_type": "code",
   "execution_count": 132,
   "metadata": {},
   "outputs": [],
   "source": [
    "sale = sale[(sale['Дата'] >= pd.to_datetime('2024-03-14', dayfirst=True, format='mixed')) & \n",
    "            (sale['Дата'] <= pd.to_datetime('2024-06-19', dayfirst=True, format='mixed'))]"
   ]
  },
  {
   "cell_type": "code",
   "execution_count": 133,
   "metadata": {},
   "outputs": [],
   "source": [
    "sale = sale.groupby(by = 'Тов', as_index=False)[['Количество', 'Общая сумма']].sum()"
   ]
  },
  {
   "cell_type": "code",
   "execution_count": 134,
   "metadata": {},
   "outputs": [],
   "source": [
    "ids = stock[['Код товара', 'ID Сайта']]\n",
    "ids.columns = ['Тов', 'ID Сайта']"
   ]
  },
  {
   "cell_type": "code",
   "execution_count": 135,
   "metadata": {},
   "outputs": [],
   "source": [
    "sale = sale.merge(ids, how='left', on='Тов')\n",
    "sale = sale.drop(columns=['Тов'])\n",
    "sale = sale[['ID Сайта', 'Количество', 'Общая сумма']]"
   ]
  },
  {
   "cell_type": "code",
   "execution_count": 136,
   "metadata": {},
   "outputs": [],
   "source": [
    "kniga['Код склада'] = kniga['Код склада'].astype(str)\n",
    "skladi = kniga['Код склада'].unique().tolist()"
   ]
  },
  {
   "cell_type": "code",
   "execution_count": 137,
   "metadata": {},
   "outputs": [
    {
     "data": {
      "text/plain": [
       "Index(['Код склада', 'Код товара', 'Артикул поставщика', 'Внутренний артикул',\n",
       "       'ID Сайта', 'Товарное направление', 'Товарная группа',\n",
       "       'Товарный кластер', 'Проба', 'Размер изделия', 'Тип изделия 1',\n",
       "       'Тип изделия 2', 'Тип изделия 3', 'Дизайн', 'Бренд',\n",
       "       'Гендерный признак', 'Ценовая корзина', 'Группа цен', 'Остаток',\n",
       "       'Цена Розн., за шт', 'Чистый вес', 'Цена изделия на бирке',\n",
       "       'Скидка на изделии', 'Запрет скидки',\n",
       "       'Цена Закупки за 1 шт. (упр сс с НДС за единицу)', 'Дата закупки'],\n",
       "      dtype='object')"
      ]
     },
     "execution_count": 137,
     "metadata": {},
     "output_type": "execute_result"
    }
   ],
   "source": [
    "stock.columns"
   ]
  },
  {
   "cell_type": "code",
   "execution_count": 138,
   "metadata": {},
   "outputs": [],
   "source": [
    "stock.columns = ['code', 'Код товара', 'Артикул поставщика', 'Внутренний артикул',\n",
    "    'ID Сайта', 'Товарное направление', 'Товарная группа',\n",
    "    'Товарный кластер', 'Проба', 'Размер изделия', 'Тип изделия 1',\n",
    "    'Тип изделия 2', 'Тип изделия 3', 'Дизайн', 'Бренд',\n",
    "    'Гендерный признак', 'Ценовая корзина', 'Группа цен', 'Остаток', 'Цена Розн., за шт',\n",
    "    'Чистый вес', 'Цена изделия на бирке', 'Скидка на изделии',\n",
    "    'Запрет скидки', 'Цена Закупки за 1 шт. (упр сс с НДС за единицу)',\n",
    "    'Дата закупки']"
   ]
  },
  {
   "cell_type": "code",
   "execution_count": 139,
   "metadata": {},
   "outputs": [],
   "source": [
    "stock = stock.query('code in @skladi')"
   ]
  },
  {
   "cell_type": "code",
   "execution_count": 140,
   "metadata": {},
   "outputs": [],
   "source": [
    "stock.columns = ['Код склада', 'Код товара', 'Артикул поставщика', 'Внутренний артикул',\n",
    "    'ID Сайта', 'Товарное направление', 'Товарная группа',\n",
    "    'Товарный кластер', 'Проба', 'Размер изделия', 'Тип изделия 1',\n",
    "    'Тип изделия 2', 'Тип изделия 3', 'Дизайн', 'Бренд',\n",
    "    'Гендерный признак', 'Ценовая корзина', 'Группа цен', 'Остаток', 'Цена Розн., за шт',\n",
    "    'Чистый вес', 'Цена изделия на бирке', 'Скидка на изделии',\n",
    "    'Запрет скидки', 'Цена Закупки за 1 шт. (упр сс с НДС за единицу)',\n",
    "    'Дата закупки']"
   ]
  },
  {
   "cell_type": "code",
   "execution_count": 141,
   "metadata": {},
   "outputs": [],
   "source": [
    "result = stock.drop_duplicates(subset=['ID Сайта'])"
   ]
  },
  {
   "cell_type": "code",
   "execution_count": 142,
   "metadata": {},
   "outputs": [],
   "source": [
    "tovs = result['ID Сайта'].dropna().tolist()"
   ]
  },
  {
   "cell_type": "code",
   "execution_count": 143,
   "metadata": {},
   "outputs": [],
   "source": [
    "images['article'] = images['article'].astype(str)"
   ]
  },
  {
   "cell_type": "code",
   "execution_count": 144,
   "metadata": {},
   "outputs": [],
   "source": [
    "images = images.query('article in @tovs')"
   ]
  },
  {
   "cell_type": "code",
   "execution_count": 145,
   "metadata": {},
   "outputs": [],
   "source": [
    "images = images[['article', 'published', 'Ссылка на изображение']]"
   ]
  },
  {
   "cell_type": "code",
   "execution_count": 146,
   "metadata": {},
   "outputs": [],
   "source": [
    "images.columns = ['ID Сайта', 'Опубликован', 'Ссылка на изображение']"
   ]
  },
  {
   "cell_type": "code",
   "execution_count": 147,
   "metadata": {},
   "outputs": [],
   "source": [
    "result = result.merge(images, how='outer', on='ID Сайта')"
   ]
  },
  {
   "cell_type": "code",
   "execution_count": 148,
   "metadata": {},
   "outputs": [],
   "source": [
    "result = result.drop(columns = ['Остаток'])"
   ]
  },
  {
   "cell_type": "code",
   "execution_count": 149,
   "metadata": {},
   "outputs": [],
   "source": [
    "df = stock"
   ]
  },
  {
   "cell_type": "code",
   "execution_count": 150,
   "metadata": {},
   "outputs": [],
   "source": [
    "stock = df.groupby(by = 'ID Сайта', as_index=False)['Остаток'].sum()"
   ]
  },
  {
   "cell_type": "code",
   "execution_count": 151,
   "metadata": {},
   "outputs": [],
   "source": [
    "result = result.merge(stock, how='left', on='ID Сайта')"
   ]
  },
  {
   "cell_type": "code",
   "execution_count": 152,
   "metadata": {},
   "outputs": [],
   "source": [
    "sale.columns = ['ID Сайта', 'Количество продаж 14.03-19.06', 'Сумма продаж 14.03-19.06']"
   ]
  },
  {
   "cell_type": "code",
   "execution_count": 153,
   "metadata": {},
   "outputs": [],
   "source": [
    "result = result.merge(sale, how='left', on='ID Сайта')"
   ]
  },
  {
   "cell_type": "code",
   "execution_count": 154,
   "metadata": {},
   "outputs": [
    {
     "data": {
      "text/plain": [
       "Index(['Код склада', 'Код товара', 'Артикул поставщика', 'Внутренний артикул',\n",
       "       'ID Сайта', 'Товарное направление', 'Товарная группа',\n",
       "       'Товарный кластер', 'Проба', 'Размер изделия', 'Тип изделия 1',\n",
       "       'Тип изделия 2', 'Тип изделия 3', 'Дизайн', 'Бренд',\n",
       "       'Гендерный признак', 'Ценовая корзина', 'Группа цен',\n",
       "       'Цена Розн., за шт', 'Чистый вес', 'Цена изделия на бирке',\n",
       "       'Скидка на изделии', 'Запрет скидки',\n",
       "       'Цена Закупки за 1 шт. (упр сс с НДС за единицу)', 'Дата закупки',\n",
       "       'Опубликован', 'Ссылка на изображение', 'Остаток',\n",
       "       'Количество продаж 14.03-19.06', 'Сумма продаж 14.03-19.06'],\n",
       "      dtype='object')"
      ]
     },
     "execution_count": 154,
     "metadata": {},
     "output_type": "execute_result"
    }
   ],
   "source": [
    "result.columns"
   ]
  },
  {
   "cell_type": "code",
   "execution_count": 155,
   "metadata": {},
   "outputs": [],
   "source": [
    "result = result.drop_duplicates(subset=['ID Сайта'])"
   ]
  },
  {
   "cell_type": "code",
   "execution_count": 156,
   "metadata": {},
   "outputs": [],
   "source": [
    "df['Чистый вес'] = df['Чистый вес'].astype(float)"
   ]
  },
  {
   "cell_type": "code",
   "execution_count": 157,
   "metadata": {},
   "outputs": [],
   "source": [
    "clear_weight = df.groupby(by = 'ID Сайта', as_index=False)['Чистый вес'].agg({'min', 'median', 'max'})\n",
    "clear_weight.columns = ['ID Сайта', 'Чистый вес макс', 'Чистый вес медиана', 'Чистый вес мин']\n",
    "clear_weight['Чистый вес размах, %'] = (clear_weight['Чистый вес макс'] / clear_weight['Чистый вес мин'] - 1) *-1"
   ]
  },
  {
   "cell_type": "code",
   "execution_count": 158,
   "metadata": {},
   "outputs": [
    {
     "data": {
      "text/html": [
       "<div>\n",
       "<style scoped>\n",
       "    .dataframe tbody tr th:only-of-type {\n",
       "        vertical-align: middle;\n",
       "    }\n",
       "\n",
       "    .dataframe tbody tr th {\n",
       "        vertical-align: top;\n",
       "    }\n",
       "\n",
       "    .dataframe thead th {\n",
       "        text-align: right;\n",
       "    }\n",
       "</style>\n",
       "<table border=\"1\" class=\"dataframe\">\n",
       "  <thead>\n",
       "    <tr style=\"text-align: right;\">\n",
       "      <th></th>\n",
       "      <th>ID Сайта</th>\n",
       "      <th>Чистый вес макс</th>\n",
       "      <th>Чистый вес медиана</th>\n",
       "      <th>Чистый вес мин</th>\n",
       "      <th>Чистый вес размах, %</th>\n",
       "    </tr>\n",
       "  </thead>\n",
       "  <tbody>\n",
       "    <tr>\n",
       "      <th>0</th>\n",
       "      <td></td>\n",
       "      <td>0.206</td>\n",
       "      <td>21.280</td>\n",
       "      <td>1.974</td>\n",
       "      <td>0.895643</td>\n",
       "    </tr>\n",
       "    <tr>\n",
       "      <th>1</th>\n",
       "      <td>1000054</td>\n",
       "      <td>0.980</td>\n",
       "      <td>1.150</td>\n",
       "      <td>1.080</td>\n",
       "      <td>0.092593</td>\n",
       "    </tr>\n",
       "    <tr>\n",
       "      <th>2</th>\n",
       "      <td>1000091</td>\n",
       "      <td>0.944</td>\n",
       "      <td>1.154</td>\n",
       "      <td>1.059</td>\n",
       "      <td>0.108593</td>\n",
       "    </tr>\n",
       "    <tr>\n",
       "      <th>3</th>\n",
       "      <td>1000339</td>\n",
       "      <td>2.092</td>\n",
       "      <td>2.252</td>\n",
       "      <td>2.162</td>\n",
       "      <td>0.032377</td>\n",
       "    </tr>\n",
       "    <tr>\n",
       "      <th>4</th>\n",
       "      <td>1000450</td>\n",
       "      <td>3.540</td>\n",
       "      <td>3.540</td>\n",
       "      <td>3.540</td>\n",
       "      <td>-0.000000</td>\n",
       "    </tr>\n",
       "    <tr>\n",
       "      <th>...</th>\n",
       "      <td>...</td>\n",
       "      <td>...</td>\n",
       "      <td>...</td>\n",
       "      <td>...</td>\n",
       "      <td>...</td>\n",
       "    </tr>\n",
       "    <tr>\n",
       "      <th>44603</th>\n",
       "      <td>8380055</td>\n",
       "      <td>2.050</td>\n",
       "      <td>2.140</td>\n",
       "      <td>2.090</td>\n",
       "      <td>0.019139</td>\n",
       "    </tr>\n",
       "    <tr>\n",
       "      <th>44604</th>\n",
       "      <td>8380061</td>\n",
       "      <td>1.670</td>\n",
       "      <td>1.708</td>\n",
       "      <td>1.700</td>\n",
       "      <td>0.017647</td>\n",
       "    </tr>\n",
       "    <tr>\n",
       "      <th>44605</th>\n",
       "      <td>8380063</td>\n",
       "      <td>1.510</td>\n",
       "      <td>1.930</td>\n",
       "      <td>1.770</td>\n",
       "      <td>0.146893</td>\n",
       "    </tr>\n",
       "    <tr>\n",
       "      <th>44606</th>\n",
       "      <td>8380071</td>\n",
       "      <td>2.370</td>\n",
       "      <td>2.610</td>\n",
       "      <td>2.520</td>\n",
       "      <td>0.059524</td>\n",
       "    </tr>\n",
       "    <tr>\n",
       "      <th>44607</th>\n",
       "      <td>8380073</td>\n",
       "      <td>2.440</td>\n",
       "      <td>3.010</td>\n",
       "      <td>2.670</td>\n",
       "      <td>0.086142</td>\n",
       "    </tr>\n",
       "  </tbody>\n",
       "</table>\n",
       "<p>44608 rows × 5 columns</p>\n",
       "</div>"
      ],
      "text/plain": [
       "      ID Сайта  Чистый вес макс  Чистый вес медиана  Чистый вес мин  \\\n",
       "0                         0.206              21.280           1.974   \n",
       "1      1000054            0.980               1.150           1.080   \n",
       "2      1000091            0.944               1.154           1.059   \n",
       "3      1000339            2.092               2.252           2.162   \n",
       "4      1000450            3.540               3.540           3.540   \n",
       "...        ...              ...                 ...             ...   \n",
       "44603  8380055            2.050               2.140           2.090   \n",
       "44604  8380061            1.670               1.708           1.700   \n",
       "44605  8380063            1.510               1.930           1.770   \n",
       "44606  8380071            2.370               2.610           2.520   \n",
       "44607  8380073            2.440               3.010           2.670   \n",
       "\n",
       "       Чистый вес размах, %  \n",
       "0                  0.895643  \n",
       "1                  0.092593  \n",
       "2                  0.108593  \n",
       "3                  0.032377  \n",
       "4                 -0.000000  \n",
       "...                     ...  \n",
       "44603              0.019139  \n",
       "44604              0.017647  \n",
       "44605              0.146893  \n",
       "44606              0.059524  \n",
       "44607              0.086142  \n",
       "\n",
       "[44608 rows x 5 columns]"
      ]
     },
     "execution_count": 158,
     "metadata": {},
     "output_type": "execute_result"
    }
   ],
   "source": [
    "clear_weight"
   ]
  },
  {
   "cell_type": "code",
   "execution_count": 159,
   "metadata": {},
   "outputs": [],
   "source": [
    "result = result.merge(clear_weight, how='left', on='ID Сайта')"
   ]
  },
  {
   "cell_type": "code",
   "execution_count": 160,
   "metadata": {},
   "outputs": [],
   "source": [
    "price_birka = df.groupby(by = 'ID Сайта', as_index=False)['Цена изделия на бирке'].agg({'min', 'median', 'max'})\n",
    "price_birka.columns = ['ID Сайта', 'Цена изделия на бирке макс', 'Цена изделия на бирке медиана', 'Цена изделия на бирке мин']"
   ]
  },
  {
   "cell_type": "code",
   "execution_count": 161,
   "metadata": {},
   "outputs": [
    {
     "data": {
      "text/html": [
       "<div>\n",
       "<style scoped>\n",
       "    .dataframe tbody tr th:only-of-type {\n",
       "        vertical-align: middle;\n",
       "    }\n",
       "\n",
       "    .dataframe tbody tr th {\n",
       "        vertical-align: top;\n",
       "    }\n",
       "\n",
       "    .dataframe thead th {\n",
       "        text-align: right;\n",
       "    }\n",
       "</style>\n",
       "<table border=\"1\" class=\"dataframe\">\n",
       "  <thead>\n",
       "    <tr style=\"text-align: right;\">\n",
       "      <th></th>\n",
       "      <th>ID Сайта</th>\n",
       "      <th>Цена изделия на бирке макс</th>\n",
       "      <th>Цена изделия на бирке медиана</th>\n",
       "      <th>Цена изделия на бирке мин</th>\n",
       "    </tr>\n",
       "  </thead>\n",
       "  <tbody>\n",
       "    <tr>\n",
       "      <th>0</th>\n",
       "      <td></td>\n",
       "      <td>510.0</td>\n",
       "      <td>553886.0</td>\n",
       "      <td>79836.0</td>\n",
       "    </tr>\n",
       "    <tr>\n",
       "      <th>1</th>\n",
       "      <td>1000054</td>\n",
       "      <td>21972.0</td>\n",
       "      <td>30225.0</td>\n",
       "      <td>22499.0</td>\n",
       "    </tr>\n",
       "    <tr>\n",
       "      <th>2</th>\n",
       "      <td>1000091</td>\n",
       "      <td>9800.0</td>\n",
       "      <td>37888.0</td>\n",
       "      <td>37888.0</td>\n",
       "    </tr>\n",
       "    <tr>\n",
       "      <th>3</th>\n",
       "      <td>1000339</td>\n",
       "      <td>87065.0</td>\n",
       "      <td>104042.0</td>\n",
       "      <td>88906.0</td>\n",
       "    </tr>\n",
       "    <tr>\n",
       "      <th>4</th>\n",
       "      <td>1000450</td>\n",
       "      <td>873430.0</td>\n",
       "      <td>873430.0</td>\n",
       "      <td>873430.0</td>\n",
       "    </tr>\n",
       "    <tr>\n",
       "      <th>...</th>\n",
       "      <td>...</td>\n",
       "      <td>...</td>\n",
       "      <td>...</td>\n",
       "      <td>...</td>\n",
       "    </tr>\n",
       "    <tr>\n",
       "      <th>44603</th>\n",
       "      <td>8380055</td>\n",
       "      <td>33986.0</td>\n",
       "      <td>48832.0</td>\n",
       "      <td>47256.0</td>\n",
       "    </tr>\n",
       "    <tr>\n",
       "      <th>44604</th>\n",
       "      <td>8380061</td>\n",
       "      <td>31071.0</td>\n",
       "      <td>40623.0</td>\n",
       "      <td>37566.0</td>\n",
       "    </tr>\n",
       "    <tr>\n",
       "      <th>44605</th>\n",
       "      <td>8380063</td>\n",
       "      <td>25516.0</td>\n",
       "      <td>71439.0</td>\n",
       "      <td>38843.0</td>\n",
       "    </tr>\n",
       "    <tr>\n",
       "      <th>44606</th>\n",
       "      <td>8380071</td>\n",
       "      <td>37087.0</td>\n",
       "      <td>61569.0</td>\n",
       "      <td>40029.0</td>\n",
       "    </tr>\n",
       "    <tr>\n",
       "      <th>44607</th>\n",
       "      <td>8380073</td>\n",
       "      <td>38335.0</td>\n",
       "      <td>55868.0</td>\n",
       "      <td>41896.0</td>\n",
       "    </tr>\n",
       "  </tbody>\n",
       "</table>\n",
       "<p>44608 rows × 4 columns</p>\n",
       "</div>"
      ],
      "text/plain": [
       "      ID Сайта  Цена изделия на бирке макс  Цена изделия на бирке медиана  \\\n",
       "0                                    510.0                       553886.0   \n",
       "1      1000054                     21972.0                        30225.0   \n",
       "2      1000091                      9800.0                        37888.0   \n",
       "3      1000339                     87065.0                       104042.0   \n",
       "4      1000450                    873430.0                       873430.0   \n",
       "...        ...                         ...                            ...   \n",
       "44603  8380055                     33986.0                        48832.0   \n",
       "44604  8380061                     31071.0                        40623.0   \n",
       "44605  8380063                     25516.0                        71439.0   \n",
       "44606  8380071                     37087.0                        61569.0   \n",
       "44607  8380073                     38335.0                        55868.0   \n",
       "\n",
       "       Цена изделия на бирке мин  \n",
       "0                        79836.0  \n",
       "1                        22499.0  \n",
       "2                        37888.0  \n",
       "3                        88906.0  \n",
       "4                       873430.0  \n",
       "...                          ...  \n",
       "44603                    47256.0  \n",
       "44604                    37566.0  \n",
       "44605                    38843.0  \n",
       "44606                    40029.0  \n",
       "44607                    41896.0  \n",
       "\n",
       "[44608 rows x 4 columns]"
      ]
     },
     "execution_count": 161,
     "metadata": {},
     "output_type": "execute_result"
    }
   ],
   "source": [
    "price_birka"
   ]
  },
  {
   "cell_type": "code",
   "execution_count": 162,
   "metadata": {},
   "outputs": [],
   "source": [
    "result = result.merge(price_birka, how='left', on='ID Сайта')"
   ]
  },
  {
   "cell_type": "code",
   "execution_count": 163,
   "metadata": {},
   "outputs": [],
   "source": [
    "base_discount = df.groupby(by = 'ID Сайта', as_index=False)['Скидка на изделии'].agg({'min', 'max'})\n",
    "base_discount.columns = ['ID Сайта', 'Базовая скидка макс', 'Базовая скидка мин']"
   ]
  },
  {
   "cell_type": "code",
   "execution_count": 164,
   "metadata": {},
   "outputs": [
    {
     "data": {
      "text/html": [
       "<div>\n",
       "<style scoped>\n",
       "    .dataframe tbody tr th:only-of-type {\n",
       "        vertical-align: middle;\n",
       "    }\n",
       "\n",
       "    .dataframe tbody tr th {\n",
       "        vertical-align: top;\n",
       "    }\n",
       "\n",
       "    .dataframe thead th {\n",
       "        text-align: right;\n",
       "    }\n",
       "</style>\n",
       "<table border=\"1\" class=\"dataframe\">\n",
       "  <thead>\n",
       "    <tr style=\"text-align: right;\">\n",
       "      <th></th>\n",
       "      <th>ID Сайта</th>\n",
       "      <th>Базовая скидка макс</th>\n",
       "      <th>Базовая скидка мин</th>\n",
       "    </tr>\n",
       "  </thead>\n",
       "  <tbody>\n",
       "    <tr>\n",
       "      <th>0</th>\n",
       "      <td></td>\n",
       "      <td>0.0</td>\n",
       "      <td>71.0</td>\n",
       "    </tr>\n",
       "    <tr>\n",
       "      <th>1</th>\n",
       "      <td>1000054</td>\n",
       "      <td>53.0</td>\n",
       "      <td>57.0</td>\n",
       "    </tr>\n",
       "    <tr>\n",
       "      <th>2</th>\n",
       "      <td>1000091</td>\n",
       "      <td>0.0</td>\n",
       "      <td>66.0</td>\n",
       "    </tr>\n",
       "    <tr>\n",
       "      <th>3</th>\n",
       "      <td>1000339</td>\n",
       "      <td>62.0</td>\n",
       "      <td>67.0</td>\n",
       "    </tr>\n",
       "    <tr>\n",
       "      <th>4</th>\n",
       "      <td>1000450</td>\n",
       "      <td>0.0</td>\n",
       "      <td>0.0</td>\n",
       "    </tr>\n",
       "    <tr>\n",
       "      <th>...</th>\n",
       "      <td>...</td>\n",
       "      <td>...</td>\n",
       "      <td>...</td>\n",
       "    </tr>\n",
       "    <tr>\n",
       "      <th>44603</th>\n",
       "      <td>8380055</td>\n",
       "      <td>37.0</td>\n",
       "      <td>45.0</td>\n",
       "    </tr>\n",
       "    <tr>\n",
       "      <th>44604</th>\n",
       "      <td>8380061</td>\n",
       "      <td>37.0</td>\n",
       "      <td>38.0</td>\n",
       "    </tr>\n",
       "    <tr>\n",
       "      <th>44605</th>\n",
       "      <td>8380063</td>\n",
       "      <td>32.0</td>\n",
       "      <td>66.0</td>\n",
       "    </tr>\n",
       "    <tr>\n",
       "      <th>44606</th>\n",
       "      <td>8380071</td>\n",
       "      <td>24.0</td>\n",
       "      <td>59.0</td>\n",
       "    </tr>\n",
       "    <tr>\n",
       "      <th>44607</th>\n",
       "      <td>8380073</td>\n",
       "      <td>35.0</td>\n",
       "      <td>46.0</td>\n",
       "    </tr>\n",
       "  </tbody>\n",
       "</table>\n",
       "<p>44608 rows × 3 columns</p>\n",
       "</div>"
      ],
      "text/plain": [
       "      ID Сайта  Базовая скидка макс  Базовая скидка мин\n",
       "0                               0.0                71.0\n",
       "1      1000054                 53.0                57.0\n",
       "2      1000091                  0.0                66.0\n",
       "3      1000339                 62.0                67.0\n",
       "4      1000450                  0.0                 0.0\n",
       "...        ...                  ...                 ...\n",
       "44603  8380055                 37.0                45.0\n",
       "44604  8380061                 37.0                38.0\n",
       "44605  8380063                 32.0                66.0\n",
       "44606  8380071                 24.0                59.0\n",
       "44607  8380073                 35.0                46.0\n",
       "\n",
       "[44608 rows x 3 columns]"
      ]
     },
     "execution_count": 164,
     "metadata": {},
     "output_type": "execute_result"
    }
   ],
   "source": [
    "base_discount"
   ]
  },
  {
   "cell_type": "code",
   "execution_count": 165,
   "metadata": {},
   "outputs": [],
   "source": [
    "result = result.merge(base_discount, how='left', on='ID Сайта')"
   ]
  },
  {
   "cell_type": "code",
   "execution_count": 166,
   "metadata": {},
   "outputs": [],
   "source": [
    "df['Цена со скидками'] = np.where(\n",
    "    df['Запрет скидки'] == 'Да', df['Цена Розн., за шт'], df['Цена Розн., за шт'] * (1-df['Скидка на изделии']/100) * 0.8 * 0.6\n",
    ")"
   ]
  },
  {
   "cell_type": "code",
   "execution_count": 167,
   "metadata": {},
   "outputs": [],
   "source": [
    "price_skidki = df.groupby(by = 'ID Сайта', as_index=False)['Цена со скидками'].agg({'min', 'median', 'max'})\n",
    "price_skidki.columns = ['ID Сайта', 'Цена со скидками макс', 'Цена со скидками медиана', 'Цена со скидками мин']\n",
    "price_skidki['Цена со скидками размах, %'] = (price_skidki['Цена со скидками макс'] / price_skidki['Цена со скидками мин'] - 1) * -1"
   ]
  },
  {
   "cell_type": "code",
   "execution_count": 168,
   "metadata": {},
   "outputs": [],
   "source": [
    "result = result.merge(price_skidki, how='left', on='ID Сайта')"
   ]
  },
  {
   "cell_type": "code",
   "execution_count": 169,
   "metadata": {},
   "outputs": [],
   "source": [
    "selfprice = df.groupby(by = 'ID Сайта', as_index=False)['Цена Закупки за 1 шт. (упр сс с НДС за единицу)'].agg({'min', 'median', 'max'})\n",
    "selfprice.columns = ['ID Сайта', 'Себестоимость макс', 'Себестоимость медиана', 'Себестоимость мин']\n",
    "selfprice['Себестоимость размах, %'] = (selfprice['Себестоимость макс'] / selfprice['Себестоимость мин'] - 1) * -1"
   ]
  },
  {
   "cell_type": "code",
   "execution_count": 170,
   "metadata": {},
   "outputs": [],
   "source": [
    "result = result.merge(selfprice, how='left', on='ID Сайта')"
   ]
  },
  {
   "cell_type": "code",
   "execution_count": 171,
   "metadata": {},
   "outputs": [],
   "source": [
    "df['Наценка'] = df['Цена со скидками'] / df['Цена Закупки за 1 шт. (упр сс с НДС за единицу)'] - 1"
   ]
  },
  {
   "cell_type": "code",
   "execution_count": 172,
   "metadata": {},
   "outputs": [],
   "source": [
    "markup = df.groupby(by = 'ID Сайта', as_index=False)['Наценка'].agg({'min', 'median', 'max'})\n",
    "markup.columns = ['ID Сайта', 'Наценка макс', 'Наценка медиана', 'Наценка мин']"
   ]
  },
  {
   "cell_type": "code",
   "execution_count": 173,
   "metadata": {},
   "outputs": [],
   "source": [
    "result = result.merge(markup, how='left', on='ID Сайта')"
   ]
  },
  {
   "cell_type": "code",
   "execution_count": 174,
   "metadata": {},
   "outputs": [],
   "source": [
    "zapret['Артикул сайта'] = zapret['Артикул сайта'].astype(str)"
   ]
  },
  {
   "cell_type": "code",
   "execution_count": 175,
   "metadata": {},
   "outputs": [],
   "source": [
    "zapret = zapret['Артикул сайта'].tolist()"
   ]
  },
  {
   "cell_type": "code",
   "execution_count": 176,
   "metadata": {},
   "outputs": [],
   "source": [
    "result['Запрет к размещению'] = np.nan\n",
    "for i in result.index:\n",
    "    if result['ID Сайта'][i] in zapret:\n",
    "        result['Запрет к размещению'][i] = True\n",
    "    else:\n",
    "        result['Запрет к размещению'][i] = False"
   ]
  },
  {
   "cell_type": "code",
   "execution_count": 177,
   "metadata": {},
   "outputs": [],
   "source": [
    "ecom = pd.read_excel(r'\\\\gold585.int\\uk\\Общее хранилище файлов\\Служба аналитики\\МЮР\\ecom_stock_raw\\Остатки 2024.06.19.xlsx')"
   ]
  },
  {
   "cell_type": "code",
   "execution_count": 178,
   "metadata": {},
   "outputs": [],
   "source": [
    "path = r'\\\\gold585.int\\uk\\Общее хранилище файлов\\Служба аналитики\\Тренкин Сергей\\discounts_zolotoy\\\\'\n",
    "list_of_files = glob.glob(path + '\\*.xlsx') \n",
    "latest_file = max(list_of_files, key=os.path.getctime)\n",
    "\n",
    "discount_ecom = pd.read_excel(latest_file)"
   ]
  },
  {
   "cell_type": "code",
   "execution_count": 179,
   "metadata": {},
   "outputs": [],
   "source": [
    "discount_ecom.columns = ['article', 'Опубликован', 'discount_value_promotions_1', 'discount_value_promotions_2', 'discount_value_promotions_3', 'discount_value_promotions_4']"
   ]
  },
  {
   "cell_type": "code",
   "execution_count": 180,
   "metadata": {},
   "outputs": [],
   "source": [
    "discount_ecom = discount_ecom.drop(columns=['discount_value_promotions_2', 'discount_value_promotions_3', 'discount_value_promotions_4'])"
   ]
  },
  {
   "cell_type": "code",
   "execution_count": 181,
   "metadata": {},
   "outputs": [],
   "source": [
    "ecom = ecom.merge(discount_ecom, how='left', on='article')"
   ]
  },
  {
   "cell_type": "code",
   "execution_count": 182,
   "metadata": {},
   "outputs": [],
   "source": [
    "def discount_index(discount):\n",
    "    try:\n",
    "        return 1 - discount / 100\n",
    "    except:\n",
    "        return 1"
   ]
  },
  {
   "cell_type": "code",
   "execution_count": 183,
   "metadata": {},
   "outputs": [],
   "source": [
    "ecom.discount_value_promotions_1 = ecom.discount_value_promotions_1.apply(discount_index)"
   ]
  },
  {
   "cell_type": "code",
   "execution_count": 184,
   "metadata": {},
   "outputs": [],
   "source": [
    "ecom['Цена со скидками Ecom'] = np.where(\n",
    "    (ecom['price'] == ecom['discount_price']) & (ecom['discount_value_promotions_1'] == 1), ecom['discount_price'] * ecom['discount_value_promotions_1'], \n",
    "    np.where(\n",
    "        ecom['discount_value_promotions_1'] == 0.5, ecom['discount_price'] * ecom['discount_value_promotions_1'], ecom['discount_price'] * ecom['discount_value_promotions_1'] * 0.8\n",
    "    )\n",
    ")"
   ]
  },
  {
   "cell_type": "code",
   "execution_count": 185,
   "metadata": {},
   "outputs": [],
   "source": [
    "ecom['article'] = ecom['article'].astype(str)\n",
    "ecom = ecom[['article', 'size', 'Цена со скидками Ecom']]"
   ]
  },
  {
   "cell_type": "code",
   "execution_count": 186,
   "metadata": {},
   "outputs": [],
   "source": [
    "ecom = ecom.query('article in @tovs')"
   ]
  },
  {
   "cell_type": "code",
   "execution_count": 187,
   "metadata": {},
   "outputs": [],
   "source": [
    "ecom.columns = ['ID Сайта', 'size', 'Цена со скидками Ecom']"
   ]
  },
  {
   "cell_type": "code",
   "execution_count": 188,
   "metadata": {},
   "outputs": [],
   "source": [
    "result = result[result['ID Сайта'] != '']"
   ]
  },
  {
   "cell_type": "code",
   "execution_count": 189,
   "metadata": {},
   "outputs": [],
   "source": [
    "result['ID Сайта'] = result['ID Сайта'].astype(int).astype(str)\n",
    "result['Размер изделия'] = result['Размер изделия'].astype(str)"
   ]
  },
  {
   "cell_type": "code",
   "execution_count": 190,
   "metadata": {},
   "outputs": [],
   "source": [
    "ecom['size'] = ecom['size'].fillna(0.0)\n",
    "ecom['size'] = ecom['size'].astype(str)"
   ]
  },
  {
   "cell_type": "code",
   "execution_count": 191,
   "metadata": {},
   "outputs": [],
   "source": [
    "ecom['merge'] = ecom['ID Сайта'] + ecom['size']"
   ]
  },
  {
   "cell_type": "code",
   "execution_count": 192,
   "metadata": {},
   "outputs": [],
   "source": [
    "result['merge'] = result['ID Сайта'] + result['Размер изделия']"
   ]
  },
  {
   "cell_type": "code",
   "execution_count": 193,
   "metadata": {},
   "outputs": [],
   "source": [
    "ecom = ecom.drop(columns=['ID Сайта', 'size'])"
   ]
  },
  {
   "cell_type": "code",
   "execution_count": 194,
   "metadata": {},
   "outputs": [],
   "source": [
    "result = result.merge(ecom, how='outer', on='merge')"
   ]
  },
  {
   "cell_type": "code",
   "execution_count": 195,
   "metadata": {},
   "outputs": [],
   "source": [
    "result = result.drop(columns=['merge'])"
   ]
  },
  {
   "cell_type": "code",
   "execution_count": 196,
   "metadata": {},
   "outputs": [],
   "source": [
    "result = result.dropna(subset=['ID Сайта'])"
   ]
  },
  {
   "cell_type": "code",
   "execution_count": 197,
   "metadata": {},
   "outputs": [],
   "source": [
    "df['Сумма в себестоимости на остатках'] = df['Остаток'] * df['Цена Закупки за 1 шт. (упр сс с НДС за единицу)']"
   ]
  },
  {
   "cell_type": "code",
   "execution_count": 198,
   "metadata": {},
   "outputs": [],
   "source": [
    "summa_ost = df.groupby(by ='ID Сайта', as_index=False)['Сумма в себестоимости на остатках'].sum()"
   ]
  },
  {
   "cell_type": "code",
   "execution_count": 199,
   "metadata": {},
   "outputs": [],
   "source": [
    "result = result.merge(summa_ost, how='left', on='ID Сайта')"
   ]
  },
  {
   "cell_type": "code",
   "execution_count": 200,
   "metadata": {},
   "outputs": [],
   "source": [
    "df['Цена за грамм'] = df['Цена со скидками'] / df['Чистый вес']"
   ]
  },
  {
   "cell_type": "code",
   "execution_count": 201,
   "metadata": {},
   "outputs": [],
   "source": [
    "price_per_gramm = df.groupby(by = 'ID Сайта', as_index=False)['Цена за грамм'].agg({'min', 'median', 'max'})\n",
    "price_per_gramm.columns = ['ID Сайта', 'Цена за грамм макс', 'Цена за грамм медиана', 'Цена за грамм мин']"
   ]
  },
  {
   "cell_type": "code",
   "execution_count": 202,
   "metadata": {},
   "outputs": [
    {
     "data": {
      "text/plain": [
       "Себестоимость размах, %\n",
       "-0.000000    12052\n",
       " 1.000000        5\n",
       " 0.582508        4\n",
       " 0.015385        3\n",
       " 0.047619        3\n",
       "             ...  \n",
       " 0.135848        1\n",
       " 0.322675        1\n",
       " 0.033544        1\n",
       " 0.072259        1\n",
       " 0.157813        1\n",
       "Name: count, Length: 32522, dtype: int64"
      ]
     },
     "execution_count": 202,
     "metadata": {},
     "output_type": "execute_result"
    }
   ],
   "source": [
    "result['Себестоимость размах, %'].value_counts()"
   ]
  },
  {
   "cell_type": "code",
   "execution_count": 203,
   "metadata": {},
   "outputs": [],
   "source": [
    "result = result.merge(price_per_gramm, how='left', on='ID Сайта')"
   ]
  },
  {
   "cell_type": "code",
   "execution_count": 204,
   "metadata": {},
   "outputs": [],
   "source": [
    "result.to_csv('result.csv', index=False)"
   ]
  },
  {
   "cell_type": "code",
   "execution_count": 205,
   "metadata": {},
   "outputs": [],
   "source": [
    "zapret_sk = df.groupby(by = 'ID Сайта', as_index=False)['Запрет скидки'].count()"
   ]
  },
  {
   "cell_type": "code",
   "execution_count": 206,
   "metadata": {},
   "outputs": [],
   "source": [
    "yes = df[df['Запрет скидки'] == 'Да']\n",
    "no = df[df['Запрет скидки'] == 'Нет']"
   ]
  },
  {
   "cell_type": "code",
   "execution_count": 207,
   "metadata": {},
   "outputs": [],
   "source": [
    "yes = yes.groupby(by = 'ID Сайта', as_index=False)['Запрет скидки'].count()\n",
    "no = no.groupby(by = 'ID Сайта', as_index=False)['Запрет скидки'].count()"
   ]
  },
  {
   "cell_type": "code",
   "execution_count": 208,
   "metadata": {},
   "outputs": [],
   "source": [
    "yes.columns = ['ID Сайта', 'Количество с запрещенной скидкой']"
   ]
  },
  {
   "cell_type": "code",
   "execution_count": 209,
   "metadata": {},
   "outputs": [],
   "source": [
    "no.columns = ['ID Сайта', 'Количество с разрешенной скидкой']"
   ]
  },
  {
   "cell_type": "code",
   "execution_count": 210,
   "metadata": {},
   "outputs": [],
   "source": [
    "yes = yes.merge(no, how='outer', on='ID Сайта')"
   ]
  },
  {
   "cell_type": "code",
   "execution_count": 211,
   "metadata": {},
   "outputs": [],
   "source": [
    "result = result.merge(yes, how='left', on='ID Сайта')"
   ]
  },
  {
   "cell_type": "code",
   "execution_count": 212,
   "metadata": {},
   "outputs": [],
   "source": [
    "result = result.drop_duplicates(subset=['ID Сайта'])"
   ]
  },
  {
   "cell_type": "code",
   "execution_count": 213,
   "metadata": {},
   "outputs": [],
   "source": [
    "df['Дата закупки'] = pd.to_datetime(df['Дата закупки'], dayfirst=True, format='mixed')"
   ]
  },
  {
   "cell_type": "code",
   "execution_count": 214,
   "metadata": {},
   "outputs": [],
   "source": [
    "df['Старая закупка (до 31.12.2022)'] = np.where(\n",
    "    df['Дата закупки'] <= pd.to_datetime('2022-12-31', dayfirst=True, format='mixed'), 1, 0\n",
    ")"
   ]
  },
  {
   "cell_type": "code",
   "execution_count": 215,
   "metadata": {},
   "outputs": [],
   "source": [
    "df['Новая закупка (с 01.01.2023)'] = np.where(\n",
    "    df['Дата закупки'] >= pd.to_datetime('2023-01-01', dayfirst=True, format='mixed'), 1, 0\n",
    ")"
   ]
  },
  {
   "cell_type": "code",
   "execution_count": 216,
   "metadata": {},
   "outputs": [],
   "source": [
    "data = df.groupby(by = 'ID Сайта', as_index=False)[['Старая закупка (до 31.12.2022)', 'Новая закупка (с 01.01.2023)']].sum()"
   ]
  },
  {
   "cell_type": "code",
   "execution_count": 217,
   "metadata": {},
   "outputs": [],
   "source": [
    "data['Дата закупки'] = np.where(\n",
    "    (data['Новая закупка (с 01.01.2023)'] > 0) & (data['Старая закупка (до 31.12.2022)'] > 0), 'Старые и новые',\n",
    "    np.where(\n",
    "        (data['Новая закупка (с 01.01.2023)'] > 0) & (data['Старая закупка (до 31.12.2022)'] == 0), 'Новые', \n",
    "        np.where(\n",
    "            (data['Новая закупка (с 01.01.2023)'] == 0) & (data['Старая закупка (до 31.12.2022)'] > 0), 'Старые', 'Старые'\n",
    "        )\n",
    "    )\n",
    ")"
   ]
  },
  {
   "cell_type": "code",
   "execution_count": 218,
   "metadata": {},
   "outputs": [],
   "source": [
    "data = data.drop(columns=['Старая закупка (до 31.12.2022)', 'Новая закупка (с 01.01.2023)'])"
   ]
  },
  {
   "cell_type": "code",
   "execution_count": 219,
   "metadata": {},
   "outputs": [],
   "source": [
    "result = result.merge(data, how='left', on='ID Сайта')"
   ]
  },
  {
   "cell_type": "code",
   "execution_count": 220,
   "metadata": {},
   "outputs": [],
   "source": [
    "result = result.drop(columns=['Дата закупки_x'])"
   ]
  },
  {
   "cell_type": "code",
   "execution_count": 221,
   "metadata": {},
   "outputs": [],
   "source": [
    "result.columns = ['Код склада', 'Код товара', 'Артикул поставщика', 'Внутренний артикул',\n",
    "    'ID Сайта', 'Товарное направление', 'Товарная группа',\n",
    "    'Товарный кластер', 'Проба', 'Размер изделия', 'Тип изделия 1',\n",
    "    'Тип изделия 2', 'Тип изделия 3', 'Дизайн', 'Бренд',\n",
    "    'Гендерный признак', 'Ценовая корзина', 'Группа цен',\n",
    "    'Цена Розн., за шт', 'Чистый вес', 'Цена изделия на бирке',\n",
    "    'Скидка на изделии', 'Запрет скидки',\n",
    "    'Цена Закупки за 1 шт. (упр сс с НДС за единицу)', 'Опубликован',\n",
    "    'Ссылка на изображение', 'Остаток', 'Количество продаж 14.03-19.06',\n",
    "    'Сумма продаж 14.03-19.06', 'Чистый вес макс', 'Чистый вес медиана',\n",
    "    'Чистый вес мин', 'Чистый вес размах, %', 'Цена изделия на бирке макс',\n",
    "    'Цена изделия на бирке медиана', 'Цена изделия на бирке мин',\n",
    "    'Базовая скидка макс', 'Базовая скидка мин', 'Цена со скидками макс',\n",
    "    'Цена со скидками медиана', 'Цена со скидками мин',\n",
    "    'Цена со скидками размах, %', 'Себестоимость макс',\n",
    "    'Себестоимость медиана', 'Себестоимость мин', 'Себестоимость размах, %',\n",
    "    'Наценка макс', 'Наценка медиана', 'Наценка мин', 'Запрет к размещению',\n",
    "    'Цена со скидками Ecom', 'Сумма в себестоимости на остатках',\n",
    "    'Цена за грамм макс', 'Цена за грамм медиана', 'Цена за грамм мин',\n",
    "    'Количество с запрещенной скидкой', 'Количество с разрешенной скидкой',\n",
    "    'Дата закупки']"
   ]
  },
  {
   "cell_type": "code",
   "execution_count": 222,
   "metadata": {},
   "outputs": [
    {
     "data": {
      "text/html": [
       "<div>\n",
       "<style scoped>\n",
       "    .dataframe tbody tr th:only-of-type {\n",
       "        vertical-align: middle;\n",
       "    }\n",
       "\n",
       "    .dataframe tbody tr th {\n",
       "        vertical-align: top;\n",
       "    }\n",
       "\n",
       "    .dataframe thead th {\n",
       "        text-align: right;\n",
       "    }\n",
       "</style>\n",
       "<table border=\"1\" class=\"dataframe\">\n",
       "  <thead>\n",
       "    <tr style=\"text-align: right;\">\n",
       "      <th></th>\n",
       "      <th>Чистый вес размах, %</th>\n",
       "    </tr>\n",
       "  </thead>\n",
       "  <tbody>\n",
       "    <tr>\n",
       "      <th>0</th>\n",
       "      <td>0.111537</td>\n",
       "    </tr>\n",
       "    <tr>\n",
       "      <th>1</th>\n",
       "      <td>0.379001</td>\n",
       "    </tr>\n",
       "    <tr>\n",
       "      <th>2</th>\n",
       "      <td>0.163383</td>\n",
       "    </tr>\n",
       "    <tr>\n",
       "      <th>3</th>\n",
       "      <td>0.156837</td>\n",
       "    </tr>\n",
       "    <tr>\n",
       "      <th>4</th>\n",
       "      <td>0.095462</td>\n",
       "    </tr>\n",
       "    <tr>\n",
       "      <th>...</th>\n",
       "      <td>...</td>\n",
       "    </tr>\n",
       "    <tr>\n",
       "      <th>44602</th>\n",
       "      <td>-0.000000</td>\n",
       "    </tr>\n",
       "    <tr>\n",
       "      <th>44603</th>\n",
       "      <td>-0.000000</td>\n",
       "    </tr>\n",
       "    <tr>\n",
       "      <th>44604</th>\n",
       "      <td>-0.000000</td>\n",
       "    </tr>\n",
       "    <tr>\n",
       "      <th>44605</th>\n",
       "      <td>-0.000000</td>\n",
       "    </tr>\n",
       "    <tr>\n",
       "      <th>44606</th>\n",
       "      <td>-0.000000</td>\n",
       "    </tr>\n",
       "  </tbody>\n",
       "</table>\n",
       "<p>44607 rows × 1 columns</p>\n",
       "</div>"
      ],
      "text/plain": [
       "       Чистый вес размах, %\n",
       "0                  0.111537\n",
       "1                  0.379001\n",
       "2                  0.163383\n",
       "3                  0.156837\n",
       "4                  0.095462\n",
       "...                     ...\n",
       "44602             -0.000000\n",
       "44603             -0.000000\n",
       "44604             -0.000000\n",
       "44605             -0.000000\n",
       "44606             -0.000000\n",
       "\n",
       "[44607 rows x 1 columns]"
      ]
     },
     "execution_count": 222,
     "metadata": {},
     "output_type": "execute_result"
    }
   ],
   "source": [
    "result[['Чистый вес размах, %']]"
   ]
  },
  {
   "cell_type": "code",
   "execution_count": 223,
   "metadata": {},
   "outputs": [],
   "source": [
    "result['Размах по весу'] = np.where(\n",
    "    result['Чистый вес размах, %'] >= 0.3, '3. Большой размах (>30%)',\n",
    "    np.where(\n",
    "        result['Чистый вес размах, %'] >= 0.1, '2. Средний размах (10-30%)', '1. Небольшой размах (<10%)'\n",
    "    )\n",
    ")"
   ]
  },
  {
   "cell_type": "code",
   "execution_count": 224,
   "metadata": {},
   "outputs": [],
   "source": [
    "result['Размах по себестоимости'] = np.where(\n",
    "    result['Себестоимость размах, %'] >= 0.5, '3. Большой размах (>50%)',\n",
    "    np.where(\n",
    "        result['Себестоимость размах, %'] >= 0.2, '2. Средний размах (20-50%)', '1. Небольшой размах (<10%)'\n",
    "    )\n",
    ")"
   ]
  },
  {
   "cell_type": "code",
   "execution_count": 225,
   "metadata": {},
   "outputs": [],
   "source": [
    "result['Размах по цене со скидками'] = np.where(\n",
    "    result['Цена со скидками размах, %'] >= 0.5, '3. Большой размах (>50%)',\n",
    "    np.where(\n",
    "        result['Цена со скидками размах, %'] >= 0.2, '2. Средний размах (20-50%)', '1. Небольшой размах (<10%)'\n",
    "    )\n",
    ")"
   ]
  },
  {
   "cell_type": "code",
   "execution_count": 226,
   "metadata": {},
   "outputs": [],
   "source": [
    "result['Цена за грамм размах, %'] = (result['Цена за грамм макс'] / result['Цена за грамм мин'] - 1) * -1"
   ]
  },
  {
   "cell_type": "code",
   "execution_count": 227,
   "metadata": {},
   "outputs": [],
   "source": [
    "result['Размах по цене за грамм'] = np.where(\n",
    "    result['Цена за грамм размах, %'] >= 0.3, '3. Большой размах (>30%)',\n",
    "    np.where(\n",
    "        result['Цена за грамм размах, %'] >= 0.1, '2. Средний размах (10-30%)', '1. Небольшой размах (<10%)'\n",
    "    )\n",
    ")"
   ]
  },
  {
   "cell_type": "code",
   "execution_count": 228,
   "metadata": {},
   "outputs": [],
   "source": [
    "result['Скидка разрешена'] = result['Количество с запрещенной скидкой'] + result['Количество с разрешенной скидкой']"
   ]
  },
  {
   "cell_type": "code",
   "execution_count": 229,
   "metadata": {},
   "outputs": [],
   "source": [
    "result['Скидка разрешена'] = np.where(\n",
    "    result['Скидка разрешена'].astype(str).str.contains('nan'), 'Да или нет', 'Да и нет'\n",
    ")"
   ]
  },
  {
   "cell_type": "code",
   "execution_count": 230,
   "metadata": {},
   "outputs": [
    {
     "data": {
      "text/plain": [
       "Index(['Код склада', 'Код товара', 'Артикул поставщика', 'Внутренний артикул',\n",
       "       'ID Сайта', 'Товарное направление', 'Товарная группа',\n",
       "       'Товарный кластер', 'Проба', 'Размер изделия', 'Тип изделия 1',\n",
       "       'Тип изделия 2', 'Тип изделия 3', 'Дизайн', 'Бренд',\n",
       "       'Гендерный признак', 'Ценовая корзина', 'Группа цен',\n",
       "       'Цена Розн., за шт', 'Чистый вес', 'Цена изделия на бирке',\n",
       "       'Скидка на изделии', 'Запрет скидки',\n",
       "       'Цена Закупки за 1 шт. (упр сс с НДС за единицу)', 'Опубликован',\n",
       "       'Ссылка на изображение', 'Остаток', 'Количество продаж 14.03-19.06',\n",
       "       'Сумма продаж 14.03-19.06', 'Чистый вес макс', 'Чистый вес медиана',\n",
       "       'Чистый вес мин', 'Чистый вес размах, %', 'Цена изделия на бирке макс',\n",
       "       'Цена изделия на бирке медиана', 'Цена изделия на бирке мин',\n",
       "       'Базовая скидка макс', 'Базовая скидка мин', 'Цена со скидками макс',\n",
       "       'Цена со скидками медиана', 'Цена со скидками мин',\n",
       "       'Цена со скидками размах, %', 'Себестоимость макс',\n",
       "       'Себестоимость медиана', 'Себестоимость мин', 'Себестоимость размах, %',\n",
       "       'Наценка макс', 'Наценка медиана', 'Наценка мин', 'Запрет к размещению',\n",
       "       'Цена со скидками Ecom', 'Сумма в себестоимости на остатках',\n",
       "       'Цена за грамм макс', 'Цена за грамм медиана', 'Цена за грамм мин',\n",
       "       'Количество с запрещенной скидкой', 'Количество с разрешенной скидкой',\n",
       "       'Дата закупки', 'Размах по весу', 'Размах по себестоимости',\n",
       "       'Размах по цене со скидками', 'Цена за грамм размах, %',\n",
       "       'Размах по цене за грамм', 'Скидка разрешена'],\n",
       "      dtype='object')"
      ]
     },
     "execution_count": 230,
     "metadata": {},
     "output_type": "execute_result"
    }
   ],
   "source": [
    "result.columns"
   ]
  },
  {
   "cell_type": "code",
   "execution_count": 231,
   "metadata": {},
   "outputs": [],
   "source": [
    "result['Цена изделия на бирке размах, %'] = (result['Цена изделия на бирке макс'] / result['Цена изделия на бирке мин'] - 1) * -1"
   ]
  },
  {
   "cell_type": "code",
   "execution_count": 232,
   "metadata": {},
   "outputs": [],
   "source": [
    "result['Размах цена изделия на бирке'] = np.where(\n",
    "    result['Цена изделия на бирке размах, %'] >= 0.5, '3. Большой размах (>50%)',\n",
    "    np.where(\n",
    "        result['Цена изделия на бирке размах, %'] >= 0.2, '2. Средний размах (20-50%)', '1. Небольшой размах (<20%)'\n",
    "    )\n",
    ")"
   ]
  },
  {
   "cell_type": "code",
   "execution_count": 233,
   "metadata": {},
   "outputs": [],
   "source": [
    "result = result.drop(columns = ['Код склада', 'Чистый вес', 'Цена изделия на бирке', 'Скидка на изделии', 'Запрет скидки', 'Цена Закупки за 1 шт. (упр сс с НДС за единицу)',\n",
    "                                'Запрет скидки'])"
   ]
  },
  {
   "cell_type": "code",
   "execution_count": 234,
   "metadata": {},
   "outputs": [],
   "source": [
    "result = result[['Код товара', 'Артикул поставщика', 'Внутренний артикул', 'ID Сайта',\n",
    "    'Товарное направление', 'Товарная группа', 'Товарный кластер', 'Проба',\n",
    "    'Размер изделия', 'Тип изделия 1', 'Тип изделия 2', 'Тип изделия 3',\n",
    "    'Дизайн', 'Бренд', 'Гендерный признак', 'Ценовая корзина', 'Группа цен',\n",
    "    'Опубликован', 'Ссылка на изображение', 'Остаток', 'Цена Розн., за шт',\n",
    "    'Количество продаж 14.03-19.06', 'Сумма продаж 14.03-19.06',\n",
    "    'Чистый вес макс', 'Чистый вес медиана', 'Чистый вес мин',\n",
    "    'Чистый вес размах, %', 'Цена изделия на бирке макс',\n",
    "    'Цена изделия на бирке медиана', 'Цена изделия на бирке мин', 'Цена изделия на бирке размах, %',\n",
    "    'Базовая скидка макс', 'Базовая скидка мин', 'Цена со скидками макс',\n",
    "    'Цена со скидками медиана', 'Цена со скидками мин',\n",
    "    'Цена со скидками размах, %', 'Себестоимость макс',\n",
    "    'Себестоимость медиана', 'Себестоимость мин', 'Себестоимость размах, %',\n",
    "    'Наценка макс', 'Наценка медиана', 'Наценка мин', 'Запрет к размещению',\n",
    "    'Цена со скидками Ecom', 'Сумма в себестоимости на остатках',\n",
    "    'Цена за грамм макс', 'Цена за грамм медиана', 'Цена за грамм мин', 'Цена за грамм размах, %',\n",
    "    'Количество с запрещенной скидкой', 'Количество с разрешенной скидкой',\n",
    "    'Размах по весу', 'Размах по себестоимости',\n",
    "    'Размах по цене со скидками', 'Размах по цене за грамм', 'Размах цена изделия на бирке', 'Скидка разрешена', 'Дата закупки']]"
   ]
  },
  {
   "cell_type": "code",
   "execution_count": 240,
   "metadata": {},
   "outputs": [],
   "source": [
    "tov = result.groupby(by = 'Товарная группа')['Остаток'].sum()"
   ]
  },
  {
   "cell_type": "code",
   "execution_count": 246,
   "metadata": {},
   "outputs": [
    {
     "data": {
      "text/plain": [
       "Товарная группа\n",
       "БК АКСЕССУАРЫ          98.0\n",
       "БК КОЛЬЦА           68007.0\n",
       "БК КОЛЬЦА ОБРУЧ    218880.0\n",
       "БК ПЕЧАТКИ          18568.0\n",
       "БК ПОДВЕС ДЕКОР     44555.0\n",
       "БК ПОДВЕС КУЛЬТ    180520.0\n",
       "БК СЕРЬГИ          217374.0\n",
       "ДК КАМНИ                6.0\n",
       "ДК КОЛЬЦА          239842.0\n",
       "ДК КОЛЬЦА ОБРУЧ     33501.0\n",
       "ДК ПЕЧАТКИ           6062.0\n",
       "ДК ПОДВЕСКИ         65128.0\n",
       "ДК СЕРЬГИ          167163.0\n",
       "ИФ АКСЕССУАРЫ         433.0\n",
       "ИФ КОЛЬЦА          242694.0\n",
       "ИФ КОЛЬЦА ОБРУЧ     27511.0\n",
       "ИФ ПЕЧАТКИ          26535.0\n",
       "ИФ ПОДВЕС ДЕКОР    123752.0\n",
       "ИФ ПОДВЕС КУЛЬТ     38167.0\n",
       "ИФ СЕРЬГИ          331658.0\n",
       "ОПТ БК               6164.0\n",
       "ОПТ ИФ              12540.0\n",
       "ОПТ КОНГО            1771.0\n",
       "ОПТ ОБРУЧИ           4027.0\n",
       "ОПТ ПДК              2938.0\n",
       "ПДК КОЛЬЦА         186787.0\n",
       "ПДК ПЕЧАТКИ         11563.0\n",
       "ПДК ПОДВЕСКИ       102319.0\n",
       "ПДК СЕРЬГИ         232844.0\n",
       "ЦБ БРАСЛЕТЫ        228330.0\n",
       "ЦБ ЦЕПИ            348324.0\n",
       "Name: Остаток, dtype: float64"
      ]
     },
     "execution_count": 246,
     "metadata": {},
     "output_type": "execute_result"
    }
   ],
   "source": [
    "tov"
   ]
  },
  {
   "cell_type": "code",
   "execution_count": 252,
   "metadata": {},
   "outputs": [],
   "source": [
    "tov_sales = result.groupby(by = 'Товарная группа')['Количество продаж 14.03-19.06'].sum()"
   ]
  },
  {
   "cell_type": "code",
   "execution_count": 250,
   "metadata": {},
   "outputs": [],
   "source": [
    "result['Доля % остатка ID отосительно остатка ТГ'] = np.nan\n",
    "for i in result.index: \n",
    "    t = result['Товарная группа'][i]\n",
    "    result['Доля % остатка ID отосительно остатка ТГ'] = result['Остаток'] / tov[t] "
   ]
  },
  {
   "cell_type": "code",
   "execution_count": 267,
   "metadata": {},
   "outputs": [
    {
     "name": "stdout",
     "output_type": "stream",
     "text": [
      "<class 'pandas.core.frame.DataFrame'>\n",
      "RangeIndex: 44607 entries, 0 to 44606\n",
      "Data columns (total 62 columns):\n",
      " #   Column                                     Non-Null Count  Dtype  \n",
      "---  ------                                     --------------  -----  \n",
      " 0   Код товара                                 44607 non-null  object \n",
      " 1   Артикул поставщика                         44607 non-null  object \n",
      " 2   Внутренний артикул                         44607 non-null  object \n",
      " 3   ID Сайта                                   44607 non-null  object \n",
      " 4   Товарное направление                       44607 non-null  object \n",
      " 5   Товарная группа                            44607 non-null  object \n",
      " 6   Товарный кластер                           44607 non-null  object \n",
      " 7   Проба                                      44607 non-null  object \n",
      " 8   Размер изделия                             44607 non-null  object \n",
      " 9   Тип изделия 1                              44607 non-null  object \n",
      " 10  Тип изделия 2                              44607 non-null  object \n",
      " 11  Тип изделия 3                              44607 non-null  object \n",
      " 12  Дизайн                                     44607 non-null  object \n",
      " 13  Бренд                                      44607 non-null  object \n",
      " 14  Гендерный признак                          44607 non-null  object \n",
      " 15  Ценовая корзина                            44607 non-null  object \n",
      " 16  Группа цен                                 44607 non-null  object \n",
      " 17  Опубликован                                34608 non-null  object \n",
      " 18  Ссылка на изображение                      34608 non-null  object \n",
      " 19  Остаток                                    44607 non-null  float64\n",
      " 20  Цена Розн., за шт                          44606 non-null  float64\n",
      " 21  Количество продаж 14.03-19.06              25669 non-null  float64\n",
      " 22  Сумма продаж 14.03-19.06                   25669 non-null  float64\n",
      " 23  Чистый вес макс                            44607 non-null  float64\n",
      " 24  Чистый вес медиана                         44607 non-null  float64\n",
      " 25  Чистый вес мин                             44607 non-null  float64\n",
      " 26  Чистый вес размах, %                       44605 non-null  float64\n",
      " 27  Цена изделия на бирке макс                 44607 non-null  float64\n",
      " 28  Цена изделия на бирке медиана              44607 non-null  float64\n",
      " 29  Цена изделия на бирке мин                  44607 non-null  float64\n",
      " 30  Цена изделия на бирке размах, %            44584 non-null  float64\n",
      " 31  Базовая скидка макс                        44607 non-null  float64\n",
      " 32  Базовая скидка мин                         44607 non-null  float64\n",
      " 33  Цена со скидками макс                      44606 non-null  float64\n",
      " 34  Цена со скидками медиана                   44606 non-null  float64\n",
      " 35  Цена со скидками мин                       44606 non-null  float64\n",
      " 36  Цена со скидками размах, %                 44606 non-null  float64\n",
      " 37  Себестоимость макс                         44607 non-null  float64\n",
      " 38  Себестоимость медиана                      44607 non-null  float64\n",
      " 39  Себестоимость мин                          44607 non-null  float64\n",
      " 40  Себестоимость размах, %                    44606 non-null  float64\n",
      " 41  Наценка макс                               44606 non-null  float64\n",
      " 42  Наценка медиана                            44606 non-null  float64\n",
      " 43  Наценка мин                                44606 non-null  float64\n",
      " 44  Запрет к размещению                        44607 non-null  object \n",
      " 45  Цена со скидками Ecom                      44015 non-null  float64\n",
      " 46  Сумма в себестоимости на остатках          44607 non-null  float64\n",
      " 47  Цена за грамм макс                         44606 non-null  float64\n",
      " 48  Цена за грамм медиана                      44606 non-null  float64\n",
      " 49  Цена за грамм мин                          44606 non-null  float64\n",
      " 50  Цена за грамм размах, %                    44604 non-null  float64\n",
      " 51  Количество с запрещенной скидкой           15265 non-null  float64\n",
      " 52  Количество с разрешенной скидкой           29882 non-null  float64\n",
      " 53  Размах по весу                             44607 non-null  object \n",
      " 54  Размах по себестоимости                    44607 non-null  object \n",
      " 55  Размах по цене со скидками                 44607 non-null  object \n",
      " 56  Размах по цене за грамм                    44607 non-null  object \n",
      " 57  Размах цена изделия на бирке               44607 non-null  object \n",
      " 58  Скидка разрешена                           44607 non-null  object \n",
      " 59  Дата закупки                               44607 non-null  object \n",
      " 60  Доля % остатка ID отосительно остатка ТГ   44607 non-null  float64\n",
      " 61  Доля % относительно продаж ТГ 14.03-19.06  25669 non-null  float64\n",
      "dtypes: float64(35), object(27)\n",
      "memory usage: 21.1+ MB\n"
     ]
    }
   ],
   "source": [
    "result.info()"
   ]
  },
  {
   "cell_type": "code",
   "execution_count": 268,
   "metadata": {},
   "outputs": [
    {
     "ename": "KeyError",
     "evalue": "('Цена изделия на бирке макс', 'Цена изделия на бирке мин', 'Цена изделия на бирке медиана')",
     "output_type": "error",
     "traceback": [
      "\u001b[1;31m---------------------------------------------------------------------------\u001b[0m",
      "\u001b[1;31mKeyError\u001b[0m                                  Traceback (most recent call last)",
      "File \u001b[1;32mc:\\Users\\Trenkin.Sergey\\AppData\\Local\\Programs\\Python\\Python312\\Lib\\site-packages\\pandas\\core\\indexes\\base.py:3790\u001b[0m, in \u001b[0;36mIndex.get_loc\u001b[1;34m(self, key)\u001b[0m\n\u001b[0;32m   3789\u001b[0m \u001b[38;5;28;01mtry\u001b[39;00m:\n\u001b[1;32m-> 3790\u001b[0m     \u001b[38;5;28;01mreturn\u001b[39;00m \u001b[38;5;28;43mself\u001b[39;49m\u001b[38;5;241;43m.\u001b[39;49m\u001b[43m_engine\u001b[49m\u001b[38;5;241;43m.\u001b[39;49m\u001b[43mget_loc\u001b[49m\u001b[43m(\u001b[49m\u001b[43mcasted_key\u001b[49m\u001b[43m)\u001b[49m\n\u001b[0;32m   3791\u001b[0m \u001b[38;5;28;01mexcept\u001b[39;00m \u001b[38;5;167;01mKeyError\u001b[39;00m \u001b[38;5;28;01mas\u001b[39;00m err:\n",
      "File \u001b[1;32mindex.pyx:152\u001b[0m, in \u001b[0;36mpandas._libs.index.IndexEngine.get_loc\u001b[1;34m()\u001b[0m\n",
      "File \u001b[1;32mindex.pyx:181\u001b[0m, in \u001b[0;36mpandas._libs.index.IndexEngine.get_loc\u001b[1;34m()\u001b[0m\n",
      "File \u001b[1;32mpandas\\_libs\\hashtable_class_helper.pxi:7080\u001b[0m, in \u001b[0;36mpandas._libs.hashtable.PyObjectHashTable.get_item\u001b[1;34m()\u001b[0m\n",
      "File \u001b[1;32mpandas\\_libs\\hashtable_class_helper.pxi:7088\u001b[0m, in \u001b[0;36mpandas._libs.hashtable.PyObjectHashTable.get_item\u001b[1;34m()\u001b[0m\n",
      "\u001b[1;31mKeyError\u001b[0m: ('Цена изделия на бирке макс', 'Цена изделия на бирке мин', 'Цена изделия на бирке медиана')",
      "\nThe above exception was the direct cause of the following exception:\n",
      "\u001b[1;31mKeyError\u001b[0m                                  Traceback (most recent call last)",
      "Cell \u001b[1;32mIn[268], line 1\u001b[0m\n\u001b[1;32m----> 1\u001b[0m result[\u001b[43mresult\u001b[49m\u001b[43m[\u001b[49m\u001b[38;5;124;43m'\u001b[39;49m\u001b[38;5;124;43mЦена изделия на бирке макс\u001b[39;49m\u001b[38;5;124;43m'\u001b[39;49m\u001b[43m,\u001b[49m\u001b[43m \u001b[49m\u001b[38;5;124;43m'\u001b[39;49m\u001b[38;5;124;43mЦена изделия на бирке мин\u001b[39;49m\u001b[38;5;124;43m'\u001b[39;49m\u001b[43m,\u001b[49m\u001b[43m \u001b[49m\u001b[38;5;124;43m'\u001b[39;49m\u001b[38;5;124;43mЦена изделия на бирке медиана\u001b[39;49m\u001b[38;5;124;43m'\u001b[39;49m\u001b[43m]\u001b[49m]\n",
      "File \u001b[1;32mc:\\Users\\Trenkin.Sergey\\AppData\\Local\\Programs\\Python\\Python312\\Lib\\site-packages\\pandas\\core\\frame.py:3896\u001b[0m, in \u001b[0;36mDataFrame.__getitem__\u001b[1;34m(self, key)\u001b[0m\n\u001b[0;32m   3894\u001b[0m \u001b[38;5;28;01mif\u001b[39;00m \u001b[38;5;28mself\u001b[39m\u001b[38;5;241m.\u001b[39mcolumns\u001b[38;5;241m.\u001b[39mnlevels \u001b[38;5;241m>\u001b[39m \u001b[38;5;241m1\u001b[39m:\n\u001b[0;32m   3895\u001b[0m     \u001b[38;5;28;01mreturn\u001b[39;00m \u001b[38;5;28mself\u001b[39m\u001b[38;5;241m.\u001b[39m_getitem_multilevel(key)\n\u001b[1;32m-> 3896\u001b[0m indexer \u001b[38;5;241m=\u001b[39m \u001b[38;5;28;43mself\u001b[39;49m\u001b[38;5;241;43m.\u001b[39;49m\u001b[43mcolumns\u001b[49m\u001b[38;5;241;43m.\u001b[39;49m\u001b[43mget_loc\u001b[49m\u001b[43m(\u001b[49m\u001b[43mkey\u001b[49m\u001b[43m)\u001b[49m\n\u001b[0;32m   3897\u001b[0m \u001b[38;5;28;01mif\u001b[39;00m is_integer(indexer):\n\u001b[0;32m   3898\u001b[0m     indexer \u001b[38;5;241m=\u001b[39m [indexer]\n",
      "File \u001b[1;32mc:\\Users\\Trenkin.Sergey\\AppData\\Local\\Programs\\Python\\Python312\\Lib\\site-packages\\pandas\\core\\indexes\\base.py:3797\u001b[0m, in \u001b[0;36mIndex.get_loc\u001b[1;34m(self, key)\u001b[0m\n\u001b[0;32m   3792\u001b[0m     \u001b[38;5;28;01mif\u001b[39;00m \u001b[38;5;28misinstance\u001b[39m(casted_key, \u001b[38;5;28mslice\u001b[39m) \u001b[38;5;129;01mor\u001b[39;00m (\n\u001b[0;32m   3793\u001b[0m         \u001b[38;5;28misinstance\u001b[39m(casted_key, abc\u001b[38;5;241m.\u001b[39mIterable)\n\u001b[0;32m   3794\u001b[0m         \u001b[38;5;129;01mand\u001b[39;00m \u001b[38;5;28many\u001b[39m(\u001b[38;5;28misinstance\u001b[39m(x, \u001b[38;5;28mslice\u001b[39m) \u001b[38;5;28;01mfor\u001b[39;00m x \u001b[38;5;129;01min\u001b[39;00m casted_key)\n\u001b[0;32m   3795\u001b[0m     ):\n\u001b[0;32m   3796\u001b[0m         \u001b[38;5;28;01mraise\u001b[39;00m InvalidIndexError(key)\n\u001b[1;32m-> 3797\u001b[0m     \u001b[38;5;28;01mraise\u001b[39;00m \u001b[38;5;167;01mKeyError\u001b[39;00m(key) \u001b[38;5;28;01mfrom\u001b[39;00m \u001b[38;5;21;01merr\u001b[39;00m\n\u001b[0;32m   3798\u001b[0m \u001b[38;5;28;01mexcept\u001b[39;00m \u001b[38;5;167;01mTypeError\u001b[39;00m:\n\u001b[0;32m   3799\u001b[0m     \u001b[38;5;66;03m# If we have a listlike key, _check_indexing_error will raise\u001b[39;00m\n\u001b[0;32m   3800\u001b[0m     \u001b[38;5;66;03m#  InvalidIndexError. Otherwise we fall through and re-raise\u001b[39;00m\n\u001b[0;32m   3801\u001b[0m     \u001b[38;5;66;03m#  the TypeError.\u001b[39;00m\n\u001b[0;32m   3802\u001b[0m     \u001b[38;5;28mself\u001b[39m\u001b[38;5;241m.\u001b[39m_check_indexing_error(key)\n",
      "\u001b[1;31mKeyError\u001b[0m: ('Цена изделия на бирке макс', 'Цена изделия на бирке мин', 'Цена изделия на бирке медиана')"
     ]
    }
   ],
   "source": [
    "result[result['Цена изделия на бирке макс', 'Цена изделия на бирке мин', 'Цена изделия на бирке медиана']]"
   ]
  },
  {
   "cell_type": "code",
   "execution_count": 265,
   "metadata": {},
   "outputs": [
    {
     "data": {
      "text/plain": [
       "Index(['Код товара', 'Артикул поставщика', 'Внутренний артикул', 'ID Сайта',\n",
       "       'Товарное направление', 'Товарная группа', 'Товарный кластер', 'Проба',\n",
       "       'Размер изделия', 'Тип изделия 1', 'Тип изделия 2', 'Тип изделия 3',\n",
       "       'Дизайн', 'Бренд', 'Гендерный признак', 'Ценовая корзина', 'Группа цен',\n",
       "       'Опубликован', 'Ссылка на изображение', 'Остаток', 'Цена Розн., за шт',\n",
       "       'Количество продаж 14.03-19.06', 'Сумма продаж 14.03-19.06',\n",
       "       'Чистый вес макс', 'Чистый вес медиана', 'Чистый вес мин',\n",
       "       'Чистый вес размах, %', 'Цена изделия на бирке макс',\n",
       "       'Цена изделия на бирке медиана', 'Цена изделия на бирке мин',\n",
       "       'Цена изделия на бирке размах, %', 'Базовая скидка макс',\n",
       "       'Базовая скидка мин', 'Цена со скидками макс',\n",
       "       'Цена со скидками медиана', 'Цена со скидками мин',\n",
       "       'Цена со скидками размах, %', 'Себестоимость макс',\n",
       "       'Себестоимость медиана', 'Себестоимость мин', 'Себестоимость размах, %',\n",
       "       'Наценка макс', 'Наценка медиана', 'Наценка мин', 'Запрет к размещению',\n",
       "       'Цена со скидками Ecom', 'Сумма в себестоимости на остатках',\n",
       "       'Цена за грамм макс', 'Цена за грамм медиана', 'Цена за грамм мин',\n",
       "       'Цена за грамм размах, %', 'Количество с запрещенной скидкой',\n",
       "       'Количество с разрешенной скидкой', 'Размах по весу',\n",
       "       'Размах по себестоимости', 'Размах по цене со скидками',\n",
       "       'Размах по цене за грамм', 'Размах цена изделия на бирке',\n",
       "       'Скидка разрешена', 'Дата закупки',\n",
       "       'Доля % остатка ID отосительно остатка ТГ',\n",
       "       'Доля % относительно продаж ТГ 14.03-19.06'],\n",
       "      dtype='object')"
      ]
     },
     "execution_count": 265,
     "metadata": {},
     "output_type": "execute_result"
    }
   ],
   "source": [
    "result.columns"
   ]
  },
  {
   "cell_type": "code",
   "execution_count": 254,
   "metadata": {},
   "outputs": [],
   "source": [
    "result['Доля % относительно продаж ТГ 14.03-19.06'] = np.nan\n",
    "for i in result.index: \n",
    "    t = result['Товарная группа'][i]\n",
    "    result['Доля % относительно продаж ТГ 14.03-19.06'] = result['Количество продаж 14.03-19.06'] / tov_sales[t] "
   ]
  },
  {
   "cell_type": "code",
   "execution_count": 256,
   "metadata": {},
   "outputs": [],
   "source": [
    "\n",
    "result.to_excel(r'C:\\Users\\Trenkin.Sergey\\Desktop\\notebooks\\result.xlsx', index=False)"
   ]
  },
  {
   "cell_type": "code",
   "execution_count": 257,
   "metadata": {},
   "outputs": [],
   "source": [
    "result.to_excel(r'\\\\gold585.int\\uk\\Общее хранилище файлов\\Служба аналитики\\Тренкин Сергей\\Исследование цен\\\\в разрезе ID.xlsx', index=False)"
   ]
  },
  {
   "cell_type": "code",
   "execution_count": 258,
   "metadata": {},
   "outputs": [
    {
     "data": {
      "text/plain": [
       "Товарное направление\n",
       "ПДК    15220\n",
       "ДК     13820\n",
       "ИФ      8328\n",
       "БК      4796\n",
       "ЦБ      2443\n",
       "Name: count, dtype: int64"
      ]
     },
     "execution_count": 258,
     "metadata": {},
     "output_type": "execute_result"
    }
   ],
   "source": [
    "result['Товарное направление'].value_counts()"
   ]
  },
  {
   "cell_type": "code",
   "execution_count": 264,
   "metadata": {},
   "outputs": [],
   "source": [
    "for i in result['Товарное направление'].unique():\n",
    "    result[result['Товарное направление'] == i].to_excel(rf'\\\\gold585.int\\uk\\Общее хранилище файлов\\Служба аналитики\\Тренкин Сергей\\Исследование цен\\\\Исследование цен для {i} в разрезе ID.xlsx', index=False) "
   ]
  },
  {
   "cell_type": "code",
   "execution_count": null,
   "metadata": {},
   "outputs": [],
   "source": []
  },
  {
   "cell_type": "code",
   "execution_count": null,
   "metadata": {},
   "outputs": [],
   "source": []
  }
 ],
 "metadata": {
  "kernelspec": {
   "display_name": "Python 3",
   "language": "python",
   "name": "python3"
  },
  "language_info": {
   "codemirror_mode": {
    "name": "ipython",
    "version": 3
   },
   "file_extension": ".py",
   "mimetype": "text/x-python",
   "name": "python",
   "nbconvert_exporter": "python",
   "pygments_lexer": "ipython3",
   "version": "3.12.0"
  }
 },
 "nbformat": 4,
 "nbformat_minor": 2
}
