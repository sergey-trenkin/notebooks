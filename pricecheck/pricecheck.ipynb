{
 "cells": [
  {
   "cell_type": "code",
   "execution_count": 1,
   "metadata": {},
   "outputs": [],
   "source": [
    "from tqdm import tqdm\n",
    "import pymssql\n",
    "import pandas as pd\n",
    "import numpy as np\n",
    "import warnings\n",
    "import glob \n",
    "import os\n",
    "\n",
    "warnings.filterwarnings('ignore')"
   ]
  },
  {
   "cell_type": "code",
   "execution_count": 2,
   "metadata": {},
   "outputs": [],
   "source": [
    "conn = pymssql.connect(server='AX-SQL', database='Staging')\n",
    "cursor = conn.cursor()\n",
    "\n",
    "sql = f'''\n",
    "SELECT [Код склада], [Код товара], [Артикул поставщика], [Внутренний артикул], [ID Сайта], [Товарное направление],\n",
    "[Товарная группа], [Товарный кластер], [Проба], [Размер изделия], [Тип изделия 1], [Тип изделия 2],\n",
    "[Тип изделия 3], [Дизайн], [Бренд], [Гендерный признак], [Ценовая корзина], [Группа цен], [Остаток],\n",
    "[Чистый вес], [Цена изделия на бирке], [Скидка на изделии], [Запрет скидки], [Цена Закупки за 1 шт. (упр сс с НДС за единицу)], [Дата закупки]\n",
    "from [Staging].[Reports].[Remainings_8h]\n",
    "where [Товарное направление] in (N'БК', N'ЦБ', N'ИФ', N'ПДК', N'ДК')\n",
    "'''\n",
    "\n",
    "sql_query = pd.read_sql_query(sql, conn)\n",
    "stock = pd.DataFrame(sql_query)"
   ]
  },
  {
   "cell_type": "code",
   "execution_count": 3,
   "metadata": {},
   "outputs": [],
   "source": [
    "images = pd.read_excel(r'C:\\Users\\Trenkin.Sergey\\Desktop\\Артикул-фото 2024.06.11_.xlsx')"
   ]
  },
  {
   "cell_type": "code",
   "execution_count": 4,
   "metadata": {},
   "outputs": [],
   "source": [
    "zapret = pd.read_excel(r'C:\\Users\\Trenkin.Sergey\\Desktop\\запрет Артикулы к размещению.xlsx')"
   ]
  },
  {
   "cell_type": "code",
   "execution_count": 5,
   "metadata": {},
   "outputs": [],
   "source": [
    "kniga = pd.read_excel(r'C:\\Users\\Trenkin.Sergey\\Desktop\\Книга11.xlsx')"
   ]
  },
  {
   "cell_type": "code",
   "execution_count": 14,
   "metadata": {},
   "outputs": [
    {
     "data": {
      "text/html": [
       "<div>\n",
       "<style scoped>\n",
       "    .dataframe tbody tr th:only-of-type {\n",
       "        vertical-align: middle;\n",
       "    }\n",
       "\n",
       "    .dataframe tbody tr th {\n",
       "        vertical-align: top;\n",
       "    }\n",
       "\n",
       "    .dataframe thead th {\n",
       "        text-align: right;\n",
       "    }\n",
       "</style>\n",
       "<table border=\"1\" class=\"dataframe\">\n",
       "  <thead>\n",
       "    <tr style=\"text-align: right;\">\n",
       "      <th></th>\n",
       "      <th>Код склада</th>\n",
       "      <th>Дата открытия объекта</th>\n",
       "      <th>Код объекта</th>\n",
       "      <th>Город</th>\n",
       "      <th>Наименование объекта</th>\n",
       "    </tr>\n",
       "  </thead>\n",
       "  <tbody>\n",
       "    <tr>\n",
       "      <th>0</th>\n",
       "      <td>4383</td>\n",
       "      <td>2018-05-14</td>\n",
       "      <td>3-04-039</td>\n",
       "      <td>Киселевск</td>\n",
       "      <td>Киселевск, Ленина, 41</td>\n",
       "    </tr>\n",
       "    <tr>\n",
       "      <th>1</th>\n",
       "      <td>496</td>\n",
       "      <td>2008-06-16</td>\n",
       "      <td>3-04-010</td>\n",
       "      <td>Междуреченск</td>\n",
       "      <td>Междуреченск, Коммунистический, 26</td>\n",
       "    </tr>\n",
       "    <tr>\n",
       "      <th>2</th>\n",
       "      <td>4783</td>\n",
       "      <td>2019-12-05</td>\n",
       "      <td>3-04-046</td>\n",
       "      <td>Новокузнецк</td>\n",
       "      <td>Новокузнецк, Доз, 10а, ТРЦ Планета</td>\n",
       "    </tr>\n",
       "    <tr>\n",
       "      <th>3</th>\n",
       "      <td>474</td>\n",
       "      <td>2008-03-17</td>\n",
       "      <td>3-04-009</td>\n",
       "      <td>Новокузнецк</td>\n",
       "      <td>Новокузнецк, Ленина, 40</td>\n",
       "    </tr>\n",
       "    <tr>\n",
       "      <th>4</th>\n",
       "      <td>479</td>\n",
       "      <td>2008-04-17</td>\n",
       "      <td>3-04-008</td>\n",
       "      <td>Новокузнецк</td>\n",
       "      <td>Новокузнецк, Мориса Тореза, 75</td>\n",
       "    </tr>\n",
       "    <tr>\n",
       "      <th>...</th>\n",
       "      <td>...</td>\n",
       "      <td>...</td>\n",
       "      <td>...</td>\n",
       "      <td>...</td>\n",
       "      <td>...</td>\n",
       "    </tr>\n",
       "    <tr>\n",
       "      <th>923</th>\n",
       "      <td>4918</td>\n",
       "      <td>2021-03-07</td>\n",
       "      <td>8-01-041</td>\n",
       "      <td>Санкт-Петербург</td>\n",
       "      <td>Санкт-Петербург, Комендантский, 12</td>\n",
       "    </tr>\n",
       "    <tr>\n",
       "      <th>924</th>\n",
       "      <td>4333</td>\n",
       "      <td>2018-12-11</td>\n",
       "      <td>8-01-021</td>\n",
       "      <td>Санкт-Петербург</td>\n",
       "      <td>Санкт-Петербург, ТРЦ МЕГА Дыбенко</td>\n",
       "    </tr>\n",
       "    <tr>\n",
       "      <th>925</th>\n",
       "      <td>5409</td>\n",
       "      <td>2021-10-03</td>\n",
       "      <td>8-01-049</td>\n",
       "      <td>Сланцы</td>\n",
       "      <td>Сланцы, Ленина, 11</td>\n",
       "    </tr>\n",
       "    <tr>\n",
       "      <th>926</th>\n",
       "      <td>5413</td>\n",
       "      <td>2021-09-30</td>\n",
       "      <td>8-01-051</td>\n",
       "      <td>Тихвин</td>\n",
       "      <td>Тихвин, Карла Маркса, 50Б</td>\n",
       "    </tr>\n",
       "    <tr>\n",
       "      <th>927</th>\n",
       "      <td>5442</td>\n",
       "      <td>2021-12-16</td>\n",
       "      <td>2-09-151</td>\n",
       "      <td>Москва</td>\n",
       "      <td>Москва, Красного Маяка, 2Б, ТРЦ COLUMBUS (585*...</td>\n",
       "    </tr>\n",
       "  </tbody>\n",
       "</table>\n",
       "<p>928 rows × 5 columns</p>\n",
       "</div>"
      ],
      "text/plain": [
       "     Код склада Дата открытия объекта Код объекта            Город  \\\n",
       "0          4383            2018-05-14    3-04-039        Киселевск   \n",
       "1           496            2008-06-16    3-04-010     Междуреченск   \n",
       "2          4783            2019-12-05    3-04-046      Новокузнецк   \n",
       "3           474            2008-03-17    3-04-009      Новокузнецк   \n",
       "4           479            2008-04-17    3-04-008      Новокузнецк   \n",
       "..          ...                   ...         ...              ...   \n",
       "923        4918            2021-03-07    8-01-041  Санкт-Петербург   \n",
       "924        4333            2018-12-11    8-01-021  Санкт-Петербург   \n",
       "925        5409            2021-10-03    8-01-049           Сланцы   \n",
       "926        5413            2021-09-30    8-01-051           Тихвин   \n",
       "927        5442            2021-12-16    2-09-151           Москва   \n",
       "\n",
       "                                  Наименование объекта  \n",
       "0                                Киселевск, Ленина, 41  \n",
       "1                   Междуреченск, Коммунистический, 26  \n",
       "2                   Новокузнецк, Доз, 10а, ТРЦ Планета  \n",
       "3                              Новокузнецк, Ленина, 40  \n",
       "4                       Новокузнецк, Мориса Тореза, 75  \n",
       "..                                                 ...  \n",
       "923                 Санкт-Петербург, Комендантский, 12  \n",
       "924                  Санкт-Петербург, ТРЦ МЕГА Дыбенко  \n",
       "925                                 Сланцы, Ленина, 11  \n",
       "926                          Тихвин, Карла Маркса, 50Б  \n",
       "927  Москва, Красного Маяка, 2Б, ТРЦ COLUMBUS (585*...  \n",
       "\n",
       "[928 rows x 5 columns]"
      ]
     },
     "execution_count": 14,
     "metadata": {},
     "output_type": "execute_result"
    }
   ],
   "source": []
  },
  {
   "cell_type": "code",
   "execution_count": 6,
   "metadata": {},
   "outputs": [
    {
     "data": {
      "text/plain": [
       "['2024-03-10_2024-03-19.xlsx',\n",
       " '2024-03-20_2024-03-31.xlsx',\n",
       " '2024-04-01_2024-04-09.xlsx',\n",
       " '2024-04-10_2024-04-19.xlsx',\n",
       " '2024-04-20_2024-04-30.xlsx',\n",
       " '2024-05-01_2024-05-09.xlsx',\n",
       " '2024-05-10_2024-05-19.xlsx',\n",
       " '2024-06-01_2024-06-09.xlsx',\n",
       " '2024-06-10_2024-06-10.xlsx',\n",
       " '2024-06-10_2024-06-12.xlsx',\n",
       " 'Книга13.xlsx']"
      ]
     },
     "execution_count": 6,
     "metadata": {},
     "output_type": "execute_result"
    }
   ],
   "source": [
    "os.chdir(r'C:\\\\Users\\Trenkin.Sergey\\Desktop\\sales')\n",
    "extension = 'xlsx'\n",
    "all_filenames = [i for i in glob.glob('*.{}'.format(extension))]\n",
    "all_filenames"
   ]
  },
  {
   "cell_type": "code",
   "execution_count": 7,
   "metadata": {},
   "outputs": [
    {
     "name": "stderr",
     "output_type": "stream",
     "text": [
      "100%|██████████| 11/11 [10:11<00:00, 55.60s/it]\n"
     ]
    }
   ],
   "source": [
    "sale = pd.DataFrame()\n",
    "for name in tqdm(all_filenames):\n",
    "    sales = pd.read_excel(name)\n",
    "    sale = pd.concat([sales, sale], ignore_index= True)"
   ]
  },
  {
   "cell_type": "code",
   "execution_count": 9,
   "metadata": {},
   "outputs": [],
   "source": [
    "sale['Дата'] = pd.to_datetime(sale['Дата'], dayfirst=True, format='mixed')"
   ]
  },
  {
   "cell_type": "code",
   "execution_count": 10,
   "metadata": {},
   "outputs": [],
   "source": [
    "sale = sale[(sale['Дата'] >= pd.to_datetime('2024-03-14', dayfirst=True, format='mixed')) & \n",
    "            (sale['Дата'] <= pd.to_datetime('2024-06-11', dayfirst=True, format='mixed'))]"
   ]
  },
  {
   "cell_type": "code",
   "execution_count": 11,
   "metadata": {},
   "outputs": [],
   "source": [
    "sale = sale.groupby(by = 'Тов', as_index=False)[['Количество', 'Общая сумма']].sum()"
   ]
  },
  {
   "cell_type": "code",
   "execution_count": 15,
   "metadata": {},
   "outputs": [],
   "source": [
    "kniga['Код склада'] = kniga['Код склада'].astype(str)\n",
    "skladi = kniga['Код склада'].unique().tolist()"
   ]
  },
  {
   "cell_type": "code",
   "execution_count": 12,
   "metadata": {},
   "outputs": [],
   "source": [
    "stock.columns = ['code', 'Код товара', 'Артикул поставщика', 'Внутренний артикул',\n",
    "    'ID Сайта', 'Товарное направление', 'Товарная группа',\n",
    "    'Товарный кластер', 'Проба', 'Размер изделия', 'Тип изделия 1',\n",
    "    'Тип изделия 2', 'Тип изделия 3', 'Дизайн', 'Бренд',\n",
    "    'Гендерный признак', 'Ценовая корзина', 'Группа цен', 'Остаток',\n",
    "    'Чистый вес', 'Цена изделия на бирке', 'Скидка на изделии',\n",
    "    'Запрет скидки', 'Цена Закупки за 1 шт. (упр сс с НДС за единицу)',\n",
    "    'Дата закупки']"
   ]
  },
  {
   "cell_type": "code",
   "execution_count": 16,
   "metadata": {},
   "outputs": [],
   "source": [
    "stock = stock.query('code in @skladi')"
   ]
  },
  {
   "cell_type": "code",
   "execution_count": 17,
   "metadata": {},
   "outputs": [],
   "source": [
    "stock.columns = ['Код склада', 'Код товара', 'Артикул поставщика', 'Внутренний артикул',\n",
    "    'ID Сайта', 'Товарное направление', 'Товарная группа',\n",
    "    'Товарный кластер', 'Проба', 'Размер изделия', 'Тип изделия 1',\n",
    "    'Тип изделия 2', 'Тип изделия 3', 'Дизайн', 'Бренд',\n",
    "    'Гендерный признак', 'Ценовая корзина', 'Группа цен', 'Остаток',\n",
    "    'Чистый вес', 'Цена изделия на бирке', 'Скидка на изделии',\n",
    "    'Запрет скидки', 'Цена Закупки за 1 шт. (упр сс с НДС за единицу)',\n",
    "    'Дата закупки']"
   ]
  },
  {
   "cell_type": "code",
   "execution_count": 18,
   "metadata": {},
   "outputs": [],
   "source": [
    "result = stock.drop_duplicates(subset=['Код товара'])"
   ]
  },
  {
   "cell_type": "code",
   "execution_count": 19,
   "metadata": {},
   "outputs": [],
   "source": [
    "tovs = result['ID Сайта'].dropna().tolist()"
   ]
  },
  {
   "cell_type": "code",
   "execution_count": 20,
   "metadata": {},
   "outputs": [],
   "source": [
    "images['article'] = images['article'].astype(str)"
   ]
  },
  {
   "cell_type": "code",
   "execution_count": 21,
   "metadata": {},
   "outputs": [],
   "source": [
    "images = images.query('article in @tovs')"
   ]
  },
  {
   "cell_type": "code",
   "execution_count": 22,
   "metadata": {},
   "outputs": [],
   "source": [
    "images = images[['article', 'published', 'Ссылка на изображение']]"
   ]
  },
  {
   "cell_type": "code",
   "execution_count": 23,
   "metadata": {},
   "outputs": [],
   "source": [
    "images.columns = ['ID Сайта', 'Опубликован', 'Ссылка на изображение']"
   ]
  },
  {
   "cell_type": "code",
   "execution_count": 24,
   "metadata": {},
   "outputs": [],
   "source": [
    "result = result.merge(images, how='outer', on='ID Сайта')"
   ]
  },
  {
   "cell_type": "code",
   "execution_count": 25,
   "metadata": {},
   "outputs": [],
   "source": [
    "result = result.drop(columns = ['Остаток'])"
   ]
  },
  {
   "cell_type": "code",
   "execution_count": 26,
   "metadata": {},
   "outputs": [],
   "source": [
    "df = stock"
   ]
  },
  {
   "cell_type": "code",
   "execution_count": 27,
   "metadata": {},
   "outputs": [],
   "source": [
    "stock = df.groupby(by = 'Код товара', as_index=False)['Остаток'].sum()"
   ]
  },
  {
   "cell_type": "code",
   "execution_count": 28,
   "metadata": {},
   "outputs": [],
   "source": [
    "result = result.merge(stock, how='left', on='Код товара')"
   ]
  },
  {
   "cell_type": "code",
   "execution_count": 29,
   "metadata": {},
   "outputs": [],
   "source": [
    "sale.columns = ['Код товара', 'Количество продаж 14.03-11.06', 'Сумма продаж 14.03-11.06']"
   ]
  },
  {
   "cell_type": "code",
   "execution_count": 30,
   "metadata": {},
   "outputs": [],
   "source": [
    "result = result.merge(sale, how='left', on='Код товара')"
   ]
  },
  {
   "cell_type": "code",
   "execution_count": 31,
   "metadata": {},
   "outputs": [
    {
     "data": {
      "text/plain": [
       "Index(['Код склада', 'Код товара', 'Артикул поставщика', 'Внутренний артикул',\n",
       "       'ID Сайта', 'Товарное направление', 'Товарная группа',\n",
       "       'Товарный кластер', 'Проба', 'Размер изделия', 'Тип изделия 1',\n",
       "       'Тип изделия 2', 'Тип изделия 3', 'Дизайн', 'Бренд',\n",
       "       'Гендерный признак', 'Ценовая корзина', 'Группа цен', 'Чистый вес',\n",
       "       'Цена изделия на бирке', 'Скидка на изделии', 'Запрет скидки',\n",
       "       'Цена Закупки за 1 шт. (упр сс с НДС за единицу)', 'Дата закупки',\n",
       "       'Опубликован', 'Ссылка на изображение', 'Остаток',\n",
       "       'Количество продаж 14.03-11.06', 'Сумма продаж 14.03-11.06'],\n",
       "      dtype='object')"
      ]
     },
     "execution_count": 31,
     "metadata": {},
     "output_type": "execute_result"
    }
   ],
   "source": [
    "result.columns"
   ]
  },
  {
   "cell_type": "code",
   "execution_count": 32,
   "metadata": {},
   "outputs": [],
   "source": [
    "result = result.drop_duplicates(subset=['Код товара'])"
   ]
  },
  {
   "cell_type": "code",
   "execution_count": 33,
   "metadata": {},
   "outputs": [],
   "source": [
    "df['Чистый вес'] = df['Чистый вес'].astype(float)"
   ]
  },
  {
   "cell_type": "code",
   "execution_count": 34,
   "metadata": {},
   "outputs": [],
   "source": [
    "clear_weight = df.groupby(by = 'Код товара', as_index=False)['Чистый вес'].agg({'min', 'median', 'max'})\n",
    "clear_weight.columns = ['Код товара', 'Чистый вес мин', 'Чистый вес медиана', 'Чистый вес макс']\n",
    "clear_weight['Чистый вес размах, %'] = (clear_weight['Чистый вес макс'] - clear_weight['Чистый вес мин']) / ((clear_weight['Чистый вес макс'] + clear_weight['Чистый вес мин']) / 2)"
   ]
  },
  {
   "cell_type": "code",
   "execution_count": 35,
   "metadata": {},
   "outputs": [],
   "source": [
    "result = result.merge(clear_weight, how='left', on='Код товара')"
   ]
  },
  {
   "cell_type": "code",
   "execution_count": 36,
   "metadata": {},
   "outputs": [],
   "source": [
    "price_birka = df.groupby(by = 'Код товара', as_index=False)['Цена изделия на бирке'].agg({'min', 'median', 'max'})\n",
    "price_birka.columns = ['Код товара', 'Цена изделия на бирке мин', 'Цена изделия на бирке медиана', 'Цена изделия на бирке макс']"
   ]
  },
  {
   "cell_type": "code",
   "execution_count": 37,
   "metadata": {},
   "outputs": [],
   "source": [
    "result = result.merge(price_birka, how='left', on='Код товара')"
   ]
  },
  {
   "cell_type": "code",
   "execution_count": 38,
   "metadata": {},
   "outputs": [],
   "source": [
    "base_discount = df.groupby(by = 'Код товара', as_index=False)['Скидка на изделии'].agg({'min', 'max'})\n",
    "base_discount.columns = ['Код товара', 'Базовая скидка мин', 'Базовая скидка макс']"
   ]
  },
  {
   "cell_type": "code",
   "execution_count": 39,
   "metadata": {},
   "outputs": [],
   "source": [
    "result = result.merge(base_discount, how='left', on='Код товара')"
   ]
  },
  {
   "cell_type": "code",
   "execution_count": 40,
   "metadata": {},
   "outputs": [],
   "source": [
    "df['Цена со скидками'] = np.where(\n",
    "    df['Запрет скидки'] == 'Да', df['Цена изделия на бирке'], df['Цена изделия на бирке'] * 0.8 * 0.6 * (1 - df['Скидка на изделии'] / 100)\n",
    ")"
   ]
  },
  {
   "cell_type": "code",
   "execution_count": 41,
   "metadata": {},
   "outputs": [],
   "source": [
    "price_skidki = df.groupby(by = 'Код товара', as_index=False)['Цена со скидками'].agg({'min', 'median', 'max'})\n",
    "price_skidki.columns = ['Код товара', 'Цена со скидками мин', 'Цена со скидками медиана', 'Цена со скидками макс']\n",
    "price_skidki['Цена со скидками размах, %'] = (price_skidki['Цена со скидками макс'] - price_skidki['Цена со скидками мин']) / ((price_skidki['Цена со скидками макс'] + price_skidki['Цена со скидками мин']) / 2)"
   ]
  },
  {
   "cell_type": "code",
   "execution_count": 42,
   "metadata": {},
   "outputs": [],
   "source": [
    "result = result.merge(price_skidki, how='left', on='Код товара')"
   ]
  },
  {
   "cell_type": "code",
   "execution_count": 43,
   "metadata": {},
   "outputs": [],
   "source": [
    "selfprice = df.groupby(by = 'Код товара', as_index=False)['Цена Закупки за 1 шт. (упр сс с НДС за единицу)'].agg({'min', 'median', 'max'})\n",
    "selfprice.columns = ['Код товара', 'Себестоимость мин', 'Себестоимость медиана', 'Себестоимость макс']\n",
    "selfprice['Себестоимость размах, %'] = (selfprice['Себестоимость макс'] - selfprice['Себестоимость мин']) / ((selfprice['Себестоимость макс'] + selfprice['Себестоимость мин']) / 2)"
   ]
  },
  {
   "cell_type": "code",
   "execution_count": 44,
   "metadata": {},
   "outputs": [],
   "source": [
    "result = result.merge(selfprice, how='left', on='Код товара')"
   ]
  },
  {
   "cell_type": "code",
   "execution_count": 45,
   "metadata": {},
   "outputs": [],
   "source": [
    "df['Наценка'] = df['Цена со скидками'] / df['Цена Закупки за 1 шт. (упр сс с НДС за единицу)'] - 1"
   ]
  },
  {
   "cell_type": "code",
   "execution_count": 46,
   "metadata": {},
   "outputs": [],
   "source": [
    "markup = df.groupby(by = 'Код товара', as_index=False)['Наценка'].agg({'min', 'median', 'max'})\n",
    "markup.columns = ['Код товара', 'Наценка мин', 'Наценка медиана', 'Наценка макс']"
   ]
  },
  {
   "cell_type": "code",
   "execution_count": 47,
   "metadata": {},
   "outputs": [],
   "source": [
    "result = result.merge(markup, how='left', on='Код товара')"
   ]
  },
  {
   "cell_type": "code",
   "execution_count": 48,
   "metadata": {},
   "outputs": [],
   "source": [
    "zapret['Артикул сайта'] = zapret['Артикул сайта'].astype(str)"
   ]
  },
  {
   "cell_type": "code",
   "execution_count": 49,
   "metadata": {},
   "outputs": [],
   "source": [
    "zapret = zapret['Артикул сайта'].tolist()"
   ]
  },
  {
   "cell_type": "code",
   "execution_count": 50,
   "metadata": {},
   "outputs": [],
   "source": [
    "result['Запрет к размещению'] = np.nan\n",
    "for i in result.index:\n",
    "    if result['ID Сайта'][i] in zapret:\n",
    "        result['Запрет к размещению'][i] = True\n",
    "    else:\n",
    "        result['Запрет к размещению'][i] = False"
   ]
  },
  {
   "cell_type": "code",
   "execution_count": 51,
   "metadata": {},
   "outputs": [],
   "source": [
    "ecom = pd.read_excel(r'\\\\gold585.int\\uk\\Общее хранилище файлов\\Служба аналитики\\МЮР\\ecom_stock_raw\\Остатки 2024.06.17.xlsx')"
   ]
  },
  {
   "cell_type": "code",
   "execution_count": 52,
   "metadata": {},
   "outputs": [],
   "source": [
    "path = r'\\\\gold585.int\\uk\\Общее хранилище файлов\\Служба аналитики\\Тренкин Сергей\\discounts_zolotoy\\\\'\n",
    "list_of_files = glob.glob(path + '\\*.xlsx') \n",
    "latest_file = max(list_of_files, key=os.path.getctime)\n",
    "\n",
    "discount_ecom = pd.read_excel(latest_file)"
   ]
  },
  {
   "cell_type": "code",
   "execution_count": 53,
   "metadata": {},
   "outputs": [],
   "source": [
    "discount_ecom.columns = ['article', 'Опубликован', 'discount_value_promotions_1']"
   ]
  },
  {
   "cell_type": "code",
   "execution_count": 54,
   "metadata": {},
   "outputs": [],
   "source": [
    "ecom = ecom.merge(discount_ecom, how='left', on='article')"
   ]
  },
  {
   "cell_type": "code",
   "execution_count": 55,
   "metadata": {},
   "outputs": [],
   "source": [
    "def discount_index(discount):\n",
    "    try:\n",
    "        return 1 - discount / 100\n",
    "    except:\n",
    "        return 1"
   ]
  },
  {
   "cell_type": "code",
   "execution_count": 56,
   "metadata": {},
   "outputs": [],
   "source": [
    "ecom.discount_value_promotions_1 = ecom.discount_value_promotions_1.apply(discount_index)"
   ]
  },
  {
   "cell_type": "code",
   "execution_count": 57,
   "metadata": {},
   "outputs": [],
   "source": [
    "ecom['Цена со скидками Ecom'] = np.where(\n",
    "    (ecom['price'] == ecom['discount_price']) & (ecom['discount_value_promotions_1'] == 1), ecom['discount_price'] * ecom['discount_value_promotions_1'], \n",
    "    np.where(\n",
    "        ecom['discount_value_promotions_1'] == 0.5, ecom['discount_price'] * ecom['discount_value_promotions_1'], ecom['discount_price'] * ecom['discount_value_promotions_1'] * 0.8\n",
    "    )\n",
    ")"
   ]
  },
  {
   "cell_type": "code",
   "execution_count": 58,
   "metadata": {},
   "outputs": [],
   "source": [
    "ecom['article'] = ecom['article'].astype(str)\n",
    "ecom = ecom[['article', 'size', 'Цена со скидками Ecom']]"
   ]
  },
  {
   "cell_type": "code",
   "execution_count": 59,
   "metadata": {},
   "outputs": [],
   "source": [
    "ecom = ecom.query('article in @tovs')"
   ]
  },
  {
   "cell_type": "code",
   "execution_count": 61,
   "metadata": {},
   "outputs": [],
   "source": [
    "ecom.columns = ['ID Сайта', 'size', 'Цена со скидками Ecom']"
   ]
  },
  {
   "cell_type": "code",
   "execution_count": 62,
   "metadata": {},
   "outputs": [],
   "source": [
    "result = result[result['ID Сайта'] != '']"
   ]
  },
  {
   "cell_type": "code",
   "execution_count": 63,
   "metadata": {},
   "outputs": [],
   "source": [
    "result['ID Сайта'] = result['ID Сайта'].astype(int).astype(str)\n",
    "result['Размер изделия'] = result['Размер изделия'].astype(str)"
   ]
  },
  {
   "cell_type": "code",
   "execution_count": 64,
   "metadata": {},
   "outputs": [],
   "source": [
    "ecom['size'] = ecom['size'].fillna(0.0)\n",
    "ecom['size'] = ecom['size'].astype(str)"
   ]
  },
  {
   "cell_type": "code",
   "execution_count": 65,
   "metadata": {},
   "outputs": [],
   "source": [
    "ecom['merge'] = ecom['ID Сайта'] + ecom['size']"
   ]
  },
  {
   "cell_type": "code",
   "execution_count": 66,
   "metadata": {},
   "outputs": [],
   "source": [
    "result['merge'] = result['ID Сайта'] + result['Размер изделия']"
   ]
  },
  {
   "cell_type": "code",
   "execution_count": 67,
   "metadata": {},
   "outputs": [],
   "source": [
    "ecom = ecom.drop(columns=['ID Сайта', 'size'])"
   ]
  },
  {
   "cell_type": "code",
   "execution_count": 68,
   "metadata": {},
   "outputs": [],
   "source": [
    "result = result.merge(ecom, how='outer', on='merge')"
   ]
  },
  {
   "cell_type": "code",
   "execution_count": 69,
   "metadata": {},
   "outputs": [],
   "source": [
    "result = result.drop(columns=['merge'])"
   ]
  },
  {
   "cell_type": "code",
   "execution_count": 70,
   "metadata": {},
   "outputs": [],
   "source": [
    "result = result.dropna(subset=['Код товара'])"
   ]
  },
  {
   "cell_type": "code",
   "execution_count": 71,
   "metadata": {},
   "outputs": [],
   "source": [
    "result.columns =['Код склада', 'Код товара', 'Артикул поставщика', 'Внутренний артикул',\n",
    "    'ID Сайта', 'Товарное направление', 'Товарная группа',\n",
    "    'Товарный кластер', 'Проба', 'Размер изделия', 'Тип изделия 1',\n",
    "    'Тип изделия 2', 'Тип изделия 3', 'Дизайн', 'Бренд',\n",
    "    'Гендерный признак', 'Ценовая корзина', 'Группа цен', 'Чистый вес',\n",
    "    'Цена изделия на бирке', 'Скидка на изделии', 'Запрет скидки',\n",
    "    'Цена Закупки за 1 шт. (упр сс с НДС за единицу)', 'Дата закупки',\n",
    "    'Опубликован', 'Ссылка на изображение', 'Остаток',\n",
    "    'Количество продаж 14.03-11.06', 'Сумма продаж 14.03-11.06',\n",
    "    'Чистый вес мин', 'Чистый вес медиана', 'Чистый вес макс',\n",
    "    'Чистый вес размах, %', 'Цена изделия на бирке мин',\n",
    "    'Цена изделия на бирке медиана', 'Цена изделия на бирке макс',\n",
    "    'Базовая скидка мин', 'Базовая скидка макс', 'Цена со скидками мин',\n",
    "    'Цена со скидками медиана', 'Цена со скидками макс',\n",
    "    'Цена со скидками размах, %', 'Себестоимость мин',\n",
    "    'Себестоимость медиана', 'Себестоимость макс',\n",
    "    'Себестоимость размах, %', 'Наценка мин', 'Наценка медиана',\n",
    "    'Наценка макс', 'Запрет к размещению', 'Цена со скидками Ecom']"
   ]
  },
  {
   "cell_type": "code",
   "execution_count": 72,
   "metadata": {},
   "outputs": [],
   "source": [
    "df['Сумма в себестоимости на остатках'] = df['Остаток'] * df['Цена Закупки за 1 шт. (упр сс с НДС за единицу)']"
   ]
  },
  {
   "cell_type": "code",
   "execution_count": 73,
   "metadata": {},
   "outputs": [],
   "source": [
    "summa_ost = df.groupby(by ='Код товара', as_index=False)['Сумма в себестоимости на остатках'].sum()"
   ]
  },
  {
   "cell_type": "code",
   "execution_count": 74,
   "metadata": {},
   "outputs": [],
   "source": [
    "result = result.merge(summa_ost, how='left', on='Код товара')"
   ]
  },
  {
   "cell_type": "code",
   "execution_count": 75,
   "metadata": {},
   "outputs": [],
   "source": [
    "df['Цена за грамм'] = df['Цена со скидками'] / df['Чистый вес']"
   ]
  },
  {
   "cell_type": "code",
   "execution_count": 76,
   "metadata": {},
   "outputs": [],
   "source": [
    "price_per_gramm = df.groupby(by = 'Код товара', as_index=False)['Цена за грамм'].agg({'min', 'median', 'max'})\n",
    "price_per_gramm.columns = ['Код товара', 'Цена за грамм мин', 'Цена за грамм медиана', 'Цена за грамм макс']"
   ]
  },
  {
   "cell_type": "code",
   "execution_count": 77,
   "metadata": {},
   "outputs": [],
   "source": [
    "result = result.merge(price_per_gramm, how='left', on='Код товара')"
   ]
  },
  {
   "cell_type": "code",
   "execution_count": 78,
   "metadata": {},
   "outputs": [],
   "source": [
    "result.to_csv('result.csv', index=False)"
   ]
  },
  {
   "cell_type": "code",
   "execution_count": 79,
   "metadata": {},
   "outputs": [],
   "source": [
    "zapret_sk = df.groupby(by = 'Код товара', as_index=False)['Запрет скидки'].count()"
   ]
  },
  {
   "cell_type": "code",
   "execution_count": 81,
   "metadata": {},
   "outputs": [],
   "source": [
    "yes = df[df['Запрет скидки'] == 'Да']\n",
    "no = df[df['Запрет скидки'] == 'Нет']"
   ]
  },
  {
   "cell_type": "code",
   "execution_count": 82,
   "metadata": {},
   "outputs": [],
   "source": [
    "yes = yes.groupby(by = 'Код товара', as_index=False)['Запрет скидки'].count()\n",
    "no = no.groupby(by = 'Код товара', as_index=False)['Запрет скидки'].count()"
   ]
  },
  {
   "cell_type": "code",
   "execution_count": 83,
   "metadata": {},
   "outputs": [],
   "source": [
    "yes.columns = ['Код товара', 'Количество с запрещенной скидкой']"
   ]
  },
  {
   "cell_type": "code",
   "execution_count": 84,
   "metadata": {},
   "outputs": [],
   "source": [
    "no.columns = ['Код товара', 'Количество с разрешенной скидкой']"
   ]
  },
  {
   "cell_type": "code",
   "execution_count": 85,
   "metadata": {},
   "outputs": [],
   "source": [
    "yes = yes.merge(no, how='outer', on='Код товара')"
   ]
  },
  {
   "cell_type": "code",
   "execution_count": 87,
   "metadata": {},
   "outputs": [],
   "source": [
    "result = result.merge(yes, how='left', on='Код товара')"
   ]
  },
  {
   "cell_type": "code",
   "execution_count": 88,
   "metadata": {},
   "outputs": [],
   "source": [
    "result = result.drop_duplicates(subset=['Код товара'])"
   ]
  },
  {
   "cell_type": "code",
   "execution_count": 93,
   "metadata": {},
   "outputs": [],
   "source": [
    "df['Дата закупки'] = pd.to_datetime(df['Дата закупки'], dayfirst=True, format='mixed')"
   ]
  },
  {
   "cell_type": "code",
   "execution_count": 155,
   "metadata": {},
   "outputs": [],
   "source": [
    "df['Старая закупка (до 31.12.2022)'] = np.where(\n",
    "    df['Дата закупки'] <= pd.to_datetime('2022-12-31', dayfirst=True, format='mixed'), 1, 0\n",
    ")"
   ]
  },
  {
   "cell_type": "code",
   "execution_count": 156,
   "metadata": {},
   "outputs": [],
   "source": [
    "df['Новая закупка (с 01.01.2023)'] = np.where(\n",
    "    df['Дата закупки'] >= pd.to_datetime('2023-01-01', dayfirst=True, format='mixed'), 1, 0\n",
    ")"
   ]
  },
  {
   "cell_type": "code",
   "execution_count": 157,
   "metadata": {},
   "outputs": [],
   "source": [
    "data = df.groupby(by = 'Код товара', as_index=False)[['Старая закупка (до 31.12.2022)', 'Новая закупка (с 01.01.2023)']].sum()"
   ]
  },
  {
   "cell_type": "code",
   "execution_count": 154,
   "metadata": {},
   "outputs": [],
   "source": [
    "# df = df.drop(columns=['Старая закупка (до 31.12.2022)', 'Новая закупка (c 01.01.2023)',\n",
    "#     'Новая закупка (с 01.01.2023)'])"
   ]
  },
  {
   "cell_type": "code",
   "execution_count": 160,
   "metadata": {},
   "outputs": [],
   "source": [
    "data['Дата закупки'] = np.where(\n",
    "    (data['Новая закупка (с 01.01.2023)'] > 0) & (data['Старая закупка (до 31.12.2022)'] > 0), 'Старые и новые',\n",
    "    np.where(\n",
    "        (data['Новая закупка (с 01.01.2023)'] > 0) & (data['Старая закупка (до 31.12.2022)'] == 0), 'Новые', \n",
    "        np.where(\n",
    "            (data['Новая закупка (с 01.01.2023)'] == 0) & (data['Старая закупка (до 31.12.2022)'] > 0), 'Старые', 'Нет информации о дате'\n",
    "        )\n",
    "    )\n",
    ")"
   ]
  },
  {
   "cell_type": "code",
   "execution_count": 164,
   "metadata": {},
   "outputs": [],
   "source": [
    "data = data.drop(columns=['Старая закупка (до 31.12.2022)', 'Новая закупка (с 01.01.2023)'])"
   ]
  },
  {
   "cell_type": "code",
   "execution_count": 166,
   "metadata": {},
   "outputs": [],
   "source": [
    "result = result.merge(data, how='left', on='Код товара')"
   ]
  },
  {
   "cell_type": "code",
   "execution_count": 170,
   "metadata": {},
   "outputs": [],
   "source": [
    "result = result.drop(columns=['Дата закупки_x'])"
   ]
  },
  {
   "cell_type": "code",
   "execution_count": 171,
   "metadata": {},
   "outputs": [],
   "source": [
    "result.columns = ['Код склада', 'Код товара', 'Артикул поставщика', 'Внутренний артикул',\n",
    "    'ID Сайта', 'Товарное направление', 'Товарная группа',\n",
    "    'Товарный кластер', 'Проба', 'Размер изделия', 'Тип изделия 1',\n",
    "    'Тип изделия 2', 'Тип изделия 3', 'Дизайн', 'Бренд',\n",
    "    'Гендерный признак', 'Ценовая корзина', 'Группа цен', 'Чистый вес',\n",
    "    'Цена изделия на бирке', 'Скидка на изделии', 'Запрет скидки',\n",
    "    'Цена Закупки за 1 шт. (упр сс с НДС за единицу)',\n",
    "    'Опубликован', 'Ссылка на изображение', 'Остаток',\n",
    "    'Количество продаж 14.03-11.06', 'Сумма продаж 14.03-11.06',\n",
    "    'Чистый вес мин', 'Чистый вес медиана', 'Чистый вес макс',\n",
    "    'Чистый вес размах, %', 'Цена изделия на бирке мин',\n",
    "    'Цена изделия на бирке медиана', 'Цена изделия на бирке макс',\n",
    "    'Базовая скидка мин', 'Базовая скидка макс', 'Цена со скидками мин',\n",
    "    'Цена со скидками медиана', 'Цена со скидками макс',\n",
    "    'Цена со скидками размах, %', 'Себестоимость мин',\n",
    "    'Себестоимость медиана', 'Себестоимость макс',\n",
    "    'Себестоимость размах, %', 'Наценка мин', 'Наценка медиана',\n",
    "    'Наценка макс', 'Запрет к размещению', 'Цена со скидками Ecom',\n",
    "    'Сумма в себестоимости на остатках', 'Цена за грамм мин',\n",
    "    'Цена за грамм медиана', 'Цена за грамм макс',\n",
    "    'Количество с запрещенной скидкой', 'Количество с разрешенной скидкой',\n",
    "    'Дата закупки']"
   ]
  },
  {
   "cell_type": "code",
   "execution_count": 184,
   "metadata": {},
   "outputs": [],
   "source": [
    "result['Чистый вес размах, %'] = result['Чистый вес размах, %'] * -1"
   ]
  },
  {
   "cell_type": "code",
   "execution_count": 197,
   "metadata": {},
   "outputs": [],
   "source": [
    "result['Размах по весу'] = np.where(\n",
    "    result['Чистый вес размах, %'] >= 0.3, '3. Большой размах (>30%)',\n",
    "    np.where(\n",
    "        result['Чистый вес размах, %'] >= 0.1, '2. Средний размах (10-30%)', '1. Небольшой размах (<10%)'\n",
    "    )\n",
    ")"
   ]
  },
  {
   "cell_type": "code",
   "execution_count": 196,
   "metadata": {},
   "outputs": [],
   "source": [
    "result['Себестоимость размах, %'] = result['Себестоимость размах, %'] * -1"
   ]
  },
  {
   "cell_type": "code",
   "execution_count": 199,
   "metadata": {},
   "outputs": [],
   "source": [
    "result['Размах по себестоимости'] = np.where(\n",
    "    result['Себестоимость размах, %'] >= 0.5, '3. Большой размах (>50%)',\n",
    "    np.where(\n",
    "        result['Себестоимость размах, %'] >= 0.2, '2. Средний размах (20-50%)', '1. Небольшой размах (<10%)'\n",
    "    )\n",
    ")"
   ]
  },
  {
   "cell_type": "code",
   "execution_count": 201,
   "metadata": {},
   "outputs": [],
   "source": [
    "result['Цена со скидками размах, %'] = result['Цена со скидками размах, %'] * -1"
   ]
  },
  {
   "cell_type": "code",
   "execution_count": 203,
   "metadata": {},
   "outputs": [],
   "source": [
    "result['Размах по цене со скидками'] = np.where(\n",
    "    result['Цена со скидками размах, %'] >= 0.5, '3. Большой размах (>50%)',\n",
    "    np.where(\n",
    "        result['Цена со скидками размах, %'] >= 0.2, '2. Средний размах (20-50%)', '1. Небольшой размах (<10%)'\n",
    "    )\n",
    ")"
   ]
  },
  {
   "cell_type": "code",
   "execution_count": 207,
   "metadata": {},
   "outputs": [],
   "source": [
    "result['Цена за грамм размах, %'] = (result['Цена за грамм макс'] - result['Цена за грамм мин']) / ((result['Цена за грамм макс'] + result['Цена за грамм мин']) / 2)"
   ]
  },
  {
   "cell_type": "code",
   "execution_count": 208,
   "metadata": {},
   "outputs": [],
   "source": [
    "result['Цена за грамм размах, %'] = result['Цена за грамм размах, %'] * -1"
   ]
  },
  {
   "cell_type": "code",
   "execution_count": 210,
   "metadata": {},
   "outputs": [],
   "source": [
    "result['Размах по цене за грамм'] = np.where(\n",
    "    result['Цена за грамм размах, %'] >= 0.3, '3. Большой размах (>30%)',\n",
    "    np.where(\n",
    "        result['Цена за грамм размах, %'] >= 0.1, '2. Средний размах (10-30%)', '1. Небольшой размах (<10%)'\n",
    "    )\n",
    ")"
   ]
  },
  {
   "cell_type": "code",
   "execution_count": 258,
   "metadata": {},
   "outputs": [],
   "source": [
    "result['Скидка разрешена'] = result['Количество с запрещенной скидкой'] + result['Количество с разрешенной скидкой']"
   ]
  },
  {
   "cell_type": "code",
   "execution_count": 267,
   "metadata": {},
   "outputs": [],
   "source": [
    "result['Скидка разрешена'] = np.where(\n",
    "    result['Скидка разрешена'].astype(str).str.contains('nan'), 'Да или нет', 'Да и нет'\n",
    ")"
   ]
  },
  {
   "cell_type": "code",
   "execution_count": 272,
   "metadata": {},
   "outputs": [
    {
     "data": {
      "text/plain": [
       "Index(['Код склада', 'Код товара', 'Артикул поставщика', 'Внутренний артикул',\n",
       "       'ID Сайта', 'Товарное направление', 'Товарная группа',\n",
       "       'Товарный кластер', 'Проба', 'Размер изделия', 'Тип изделия 1',\n",
       "       'Тип изделия 2', 'Тип изделия 3', 'Дизайн', 'Бренд',\n",
       "       'Гендерный признак', 'Ценовая корзина', 'Группа цен', 'Чистый вес',\n",
       "       'Цена изделия на бирке', 'Скидка на изделии', 'Запрет скидки',\n",
       "       'Цена Закупки за 1 шт. (упр сс с НДС за единицу)', 'Опубликован',\n",
       "       'Ссылка на изображение', 'Остаток', 'Количество продаж 14.03-11.06',\n",
       "       'Сумма продаж 14.03-11.06', 'Чистый вес мин', 'Чистый вес медиана',\n",
       "       'Чистый вес макс', 'Чистый вес размах, %', 'Цена изделия на бирке мин',\n",
       "       'Цена изделия на бирке медиана', 'Цена изделия на бирке макс',\n",
       "       'Базовая скидка мин', 'Базовая скидка макс', 'Цена со скидками мин',\n",
       "       'Цена со скидками медиана', 'Цена со скидками макс',\n",
       "       'Цена со скидками размах, %', 'Себестоимость мин',\n",
       "       'Себестоимость медиана', 'Себестоимость макс',\n",
       "       'Себестоимость размах, %', 'Наценка мин', 'Наценка медиана',\n",
       "       'Наценка макс', 'Запрет к размещению', 'Цена со скидками Ecom',\n",
       "       'Сумма в себестоимости на остатках', 'Цена за грамм мин',\n",
       "       'Цена за грамм медиана', 'Цена за грамм макс',\n",
       "       'Количество с запрещенной скидкой', 'Количество с разрешенной скидкой',\n",
       "       'Дата закупки', 'Размах по весу', 'Размах по себестоимости',\n",
       "       'Размах по цене со скидками', 'Цена за грамм размах, %',\n",
       "       'Размах по цене за грамм', 'Скидка разрешена'],\n",
       "      dtype='object')"
      ]
     },
     "execution_count": 272,
     "metadata": {},
     "output_type": "execute_result"
    }
   ],
   "source": [
    "result.columns"
   ]
  },
  {
   "cell_type": "code",
   "execution_count": 274,
   "metadata": {},
   "outputs": [],
   "source": [
    "result['Цена изделия на бирке размах, %'] = (result['Цена изделия на бирке макс'] - result['Цена изделия на бирке мин']) / ((result['Цена изделия на бирке макс'] + result['Цена изделия на бирке мин']) / 2)"
   ]
  },
  {
   "cell_type": "code",
   "execution_count": 276,
   "metadata": {},
   "outputs": [],
   "source": [
    "result['Цена изделия на бирке размах, %'] = result['Цена изделия на бирке размах, %'] * -1"
   ]
  },
  {
   "cell_type": "code",
   "execution_count": 279,
   "metadata": {},
   "outputs": [],
   "source": [
    "result['Размах цена изделия на бирке'] = np.where(\n",
    "    result['Цена изделия на бирке размах, %'] >= 0.5, '3. Большой размах (>50%)',\n",
    "    np.where(\n",
    "        result['Цена изделия на бирке размах, %'] >= 0.2, '2. Средний размах (20-50%)', '1. Небольшой размах (<20%)'\n",
    "    )\n",
    ")"
   ]
  },
  {
   "cell_type": "code",
   "execution_count": 281,
   "metadata": {},
   "outputs": [],
   "source": [
    "result.to_excel(r'C:\\Users\\Trenkin.Sergey\\Desktop\\notebooks\\result.xlsx', index=False)"
   ]
  },
  {
   "cell_type": "code",
   "execution_count": 265,
   "metadata": {},
   "outputs": [],
   "source": [
    "# result[result['Товарное направление'].str.contains('ПДК|ДК|ИФ')].to_excel(r'\\\\gold585.int\\uk\\Общее хранилище файлов\\Служба аналитики\\Тренкин Сергей\\Исследование цен\\Исследование цен ПДК ДК ИФ 18.06.24.xlsx', index=False)"
   ]
  },
  {
   "cell_type": "code",
   "execution_count": 266,
   "metadata": {},
   "outputs": [],
   "source": [
    "# result[result['Товарное направление'].str.contains('БК|ЦБ')].to_excel(r'\\\\gold585.int\\uk\\Общее хранилище файлов\\Служба аналитики\\Тренкин Сергей\\Исследование цен\\Исследование цен БК ЦБ 18.06.24.xlsx', index=False)"
   ]
  },
  {
   "cell_type": "code",
   "execution_count": null,
   "metadata": {},
   "outputs": [],
   "source": []
  }
 ],
 "metadata": {
  "kernelspec": {
   "display_name": "Python 3",
   "language": "python",
   "name": "python3"
  },
  "language_info": {
   "codemirror_mode": {
    "name": "ipython",
    "version": 3
   },
   "file_extension": ".py",
   "mimetype": "text/x-python",
   "name": "python",
   "nbconvert_exporter": "python",
   "pygments_lexer": "ipython3",
   "version": "3.12.0"
  }
 },
 "nbformat": 4,
 "nbformat_minor": 2
}
