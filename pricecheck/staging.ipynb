{
 "cells": [
  {
   "cell_type": "code",
   "execution_count": 1,
   "metadata": {},
   "outputs": [
    {
     "data": {
      "text/plain": [
       "'ru_RU.UTF-8'"
      ]
     },
     "execution_count": 1,
     "metadata": {},
     "output_type": "execute_result"
    }
   ],
   "source": [
    "import pandas as pd\n",
    "import numpy as np\n",
    "import warnings\n",
    "import pymssql\n",
    "import locale\n",
    "import glob\n",
    "import os\n",
    "\n",
    "warnings.filterwarnings('ignore')\n",
    "pd.set_option('use_inf_as_na', True)\n",
    "pd.options.display.max_columns = None\n",
    "pd.set_option('float_format', '{:.2f}'.format)\n",
    "locale.setlocale(locale.LC_ALL, 'ru_RU.UTF-8')"
   ]
  },
  {
   "cell_type": "code",
   "execution_count": 2,
   "metadata": {},
   "outputs": [],
   "source": [
    "conn = pymssql.connect(server='AX-SQL', database='Staging')\n",
    "cursor = conn.cursor()\n",
    "\n",
    "sql = f'''\n",
    "SELECT [Код склада], [Код товара], [Название склада], [Название товара], [Артикул поставщика], [Остаток], \n",
    "[Проба], [Чистый вес], [Товарное направление], [Товарная группа], [Тип изделия 1], [Тип изделия 2],\n",
    "[Тип изделия 3], [Группа цен], [Скидка на изделии], [Запрет скидки], [Дизайн], [Бренд], [Дата закупки], \n",
    "[Цена Розн., за шт], [Гендерный признак], [Ценовая корзина], [Товарный кластер], [Внутренний артикул],\n",
    "[ID Сайта], [Цена Закупки за 1 шт. (упр сс с НДС за единицу)]\n",
    "from [Staging].[Reports].[Remainings_8h]\n",
    "where [Товарное направление] in (N'БК', N'ЦБ', N'СИ', N'ИФ', N'ПДК', N'ДК', N'ВЫРИЦА', N'ЧАСЫ')\n",
    "'''\n",
    "\n",
    "sql_query = pd.read_sql_query(sql, conn)\n",
    "stock = pd.DataFrame(sql_query)"
   ]
  },
  {
   "cell_type": "code",
   "execution_count": 29,
   "metadata": {},
   "outputs": [],
   "source": [
    "images = pd.read_excel(r'C:\\Users\\Trenkin.Sergey\\Desktop\\Артикул-фото 2024.06.11_.xlsx')"
   ]
  },
  {
   "cell_type": "code",
   "execution_count": 3,
   "metadata": {},
   "outputs": [],
   "source": [
    "df = stock"
   ]
  },
  {
   "cell_type": "code",
   "execution_count": 4,
   "metadata": {},
   "outputs": [],
   "source": [
    "ids = df.groupby(by = 'Артикул поставщика', as_index=False)['Остаток'].sum()"
   ]
  },
  {
   "cell_type": "code",
   "execution_count": 5,
   "metadata": {},
   "outputs": [],
   "source": [
    "ids = ids[~ids['Товарное направление'].str.contains('ФУТЛЯРЫ|БУ')]\n",
    "ids = ids[~ids['Товарная группа'].str.contains('АКСЕССУАР|ОПТ|ПОСУДА|КРОСС|ЦВ/К|РАЗН|КЕРАМИКА|ЭМАЛЬ|ЯНТАРЬ')]\n",
    "ids = ids.query('Остаток >= 50')\n",
    "ids = ids[ids['Проба'].str.contains('585|925')]"
   ]
  },
  {
   "cell_type": "code",
   "execution_count": 7,
   "metadata": {},
   "outputs": [],
   "source": [
    "idss = df[['Код склада', 'Код товара', 'Название склада', 'Название товара',\n",
    "    'Артикул поставщика', 'Остаток', 'Проба', 'Чистый вес',\n",
    "    'Товарное направление', 'Товарная группа', 'Тип изделия 1',\n",
    "    'Тип изделия 2', 'Тип изделия 3', 'Группа цен', 'Скидка на изделии',\n",
    "    'Запрет скидки', 'Дизайн', 'Бренд', 'Дата закупки', 'Цена Розн., за шт',\n",
    "    'Гендерный признак', 'Ценовая корзина', 'Товарный кластер',\n",
    "    'Внутренний артикул', 'ID Сайта',\n",
    "    'Цена Закупки за 1 шт. (упр сс с НДС за единицу)']]"
   ]
  },
  {
   "cell_type": "code",
   "execution_count": 8,
   "metadata": {},
   "outputs": [],
   "source": [
    "ids = ids.drop_duplicates(subset=['Артикул поставщика'])\n",
    "ids = idss.merge(ids, how='left', on='Артикул поставщика')"
   ]
  },
  {
   "cell_type": "code",
   "execution_count": 10,
   "metadata": {},
   "outputs": [],
   "source": [
    "ids = ids.query('Остаток_y >= 50')"
   ]
  },
  {
   "cell_type": "code",
   "execution_count": 19,
   "metadata": {},
   "outputs": [],
   "source": [
    "articles = ids['Артикул поставщика'].tolist()\n",
    "arts = ids['ID Сайта'].tolist()"
   ]
  },
  {
   "cell_type": "code",
   "execution_count": 30,
   "metadata": {},
   "outputs": [],
   "source": [
    "images = images[['article', 'Ссылка на изображение', 'published']]\n",
    "images = images.drop_duplicates(subset = ['article'])\n",
    "images['article'] = images['article'].astype(str)\n",
    "images = images.query('article in @arts')\n",
    "images.columns = ['ID Сайта', 'Ссылка на изображение', 'published']"
   ]
  },
  {
   "cell_type": "code",
   "execution_count": 37,
   "metadata": {},
   "outputs": [],
   "source": [
    "ids = ids.merge(images, how='left', on='ID Сайта')"
   ]
  },
  {
   "cell_type": "code",
   "execution_count": 38,
   "metadata": {},
   "outputs": [
    {
     "data": {
      "text/plain": [
       "Index(['Код склада', 'Код товара', 'Название склада', 'Название товара',\n",
       "       'Артикул поставщика', 'Остаток_x', 'Проба', 'Чистый вес',\n",
       "       'Товарное направление', 'Товарная группа', 'Тип изделия 1',\n",
       "       'Тип изделия 2', 'Тип изделия 3', 'Группа цен', 'Скидка на изделии',\n",
       "       'Запрет скидки', 'Дизайн', 'Бренд', 'Дата закупки', 'Цена Розн., за шт',\n",
       "       'Гендерный признак', 'Ценовая корзина', 'Товарный кластер',\n",
       "       'Внутренний артикул', 'ID Сайта',\n",
       "       'Цена Закупки за 1 шт. (упр сс с НДС за единицу)', 'Остаток_y',\n",
       "       'Количество', 'Ссылка на изображение', 'published'],\n",
       "      dtype='object')"
      ]
     },
     "execution_count": 38,
     "metadata": {},
     "output_type": "execute_result"
    }
   ],
   "source": [
    "ids.columns"
   ]
  },
  {
   "cell_type": "code",
   "execution_count": 39,
   "metadata": {},
   "outputs": [],
   "source": [
    "ids.columns = ['Код склада', 'Код товара', 'Название склада', 'Название товара',\n",
    "    'Артикул поставщика', 'Остаток_x', 'Проба', 'Чистый вес',\n",
    "    'Товарное направление', 'Товарная группа', 'Тип изделия 1',\n",
    "    'Тип изделия 2', 'Тип изделия 3', 'Группа цен', 'Скидка на изделии',\n",
    "    'Запрет скидки', 'Дизайн', 'Бренд', 'Дата закупки', 'Цена Розн., за шт',\n",
    "    'Гендерный признак', 'Ценовая корзина', 'Товарный кластер',\n",
    "    'Внутренний артикул', 'ID Сайта',\n",
    "    'Цена Закупки за 1 шт. (упр сс с НДС за единицу)', 'Остаток_y',\n",
    "    'Количество продаж за май', 'Ссылка на изображение', 'published']"
   ]
  },
  {
   "cell_type": "code",
   "execution_count": 42,
   "metadata": {},
   "outputs": [],
   "source": [
    "ids = ids.drop(columns=['Остаток_x'])"
   ]
  },
  {
   "cell_type": "code",
   "execution_count": 44,
   "metadata": {},
   "outputs": [],
   "source": [
    "ids['price_personal'] = np.where(\n",
    "    ids['Запрет скидки'] == 'Да', ids['Цена Розн., за шт'], \n",
    "    np.where(\n",
    "        ids['Проба'] == 925, ids['Цена Розн., за шт'] * 0.7 * 0.8 * (1 - (ids['Скидка на изделии'] / 100)), ids['Цена Розн., за шт'] * 0.6 * 0.8 * (1 - (ids['Скидка на изделии'] / 100))\n",
    "    )\n",
    ")"
   ]
  },
  {
   "cell_type": "code",
   "execution_count": 45,
   "metadata": {},
   "outputs": [],
   "source": [
    "ids['Наценка'] = ids['price_personal'] / ids['Цена Закупки за 1 шт. (упр сс с НДС за единицу)'] - 1"
   ]
  },
  {
   "cell_type": "code",
   "execution_count": 46,
   "metadata": {},
   "outputs": [
    {
     "data": {
      "text/plain": [
       "Index(['Код склада', 'Код товара', 'Название склада', 'Название товара',\n",
       "       'Артикул поставщика', 'Проба', 'Чистый вес', 'Товарное направление',\n",
       "       'Товарная группа', 'Тип изделия 1', 'Тип изделия 2', 'Тип изделия 3',\n",
       "       'Группа цен', 'Скидка на изделии', 'Запрет скидки', 'Дизайн', 'Бренд',\n",
       "       'Дата закупки', 'Цена Розн., за шт', 'Гендерный признак',\n",
       "       'Ценовая корзина', 'Товарный кластер', 'Внутренний артикул', 'ID Сайта',\n",
       "       'Цена Закупки за 1 шт. (упр сс с НДС за единицу)', 'Остаток_y',\n",
       "       'Количество продаж за май', 'Ссылка на изображение', 'published',\n",
       "       'price_personal', 'Наценка'],\n",
       "      dtype='object')"
      ]
     },
     "execution_count": 46,
     "metadata": {},
     "output_type": "execute_result"
    }
   ],
   "source": [
    "ids.columns"
   ]
  },
  {
   "cell_type": "code",
   "execution_count": 47,
   "metadata": {},
   "outputs": [],
   "source": [
    "ids.columns = ['Код склада', 'Код товара', 'Название склада', 'Название товара',\n",
    "    'Артикул поставщика', 'Проба', 'Чистый вес', 'Товарное направление',\n",
    "    'Товарная группа', 'Тип изделия 1', 'Тип изделия 2', 'Тип изделия 3',\n",
    "    'Группа цен', 'Скидка на изделии', 'Запрет скидки', 'Дизайн', 'Бренд',\n",
    "    'Дата закупки', 'Цена Розн., за шт', 'Гендерный признак',\n",
    "    'Ценовая корзина', 'Товарный кластер', 'Внутренний артикул', 'ID Сайта',\n",
    "    'Себестоимость', 'Остаток',\n",
    "    'Количество продаж за май', 'Ссылка на изображение', 'published',\n",
    "    'Итоговая цена на изделии', 'Наценка']"
   ]
  },
  {
   "cell_type": "code",
   "execution_count": 48,
   "metadata": {},
   "outputs": [],
   "source": [
    "stock['Дата закупки'] = pd.to_datetime(stock['Дата закупки'], dayfirst=True)"
   ]
  },
  {
   "cell_type": "code",
   "execution_count": 49,
   "metadata": {},
   "outputs": [],
   "source": [
    "min_date = stock.groupby(by = 'Артикул поставщика', as_index=False)['Дата закупки'].min()"
   ]
  },
  {
   "cell_type": "code",
   "execution_count": 50,
   "metadata": {},
   "outputs": [],
   "source": [
    "min_date.columns = ['article', 'date']"
   ]
  },
  {
   "cell_type": "code",
   "execution_count": 51,
   "metadata": {},
   "outputs": [],
   "source": [
    "articles = df['Артикул поставщика'].tolist()"
   ]
  },
  {
   "cell_type": "code",
   "execution_count": 52,
   "metadata": {},
   "outputs": [],
   "source": [
    "min_date = min_date.query('article in @articles')"
   ]
  },
  {
   "cell_type": "code",
   "execution_count": 53,
   "metadata": {},
   "outputs": [],
   "source": [
    "min_date.columns = ['Артикул поставщика', 'Дата закупки']"
   ]
  },
  {
   "cell_type": "code",
   "execution_count": 54,
   "metadata": {},
   "outputs": [],
   "source": [
    "ids = ids.drop(columns=['Дата закупки'])"
   ]
  },
  {
   "cell_type": "code",
   "execution_count": 55,
   "metadata": {},
   "outputs": [],
   "source": [
    "ids = ids.merge(min_date, how='left', on='Артикул поставщика')"
   ]
  },
  {
   "cell_type": "code",
   "execution_count": 103,
   "metadata": {},
   "outputs": [
    {
     "data": {
      "text/plain": [
       "['2024-05-20_2024-05-31.xlsx']"
      ]
     },
     "execution_count": 103,
     "metadata": {},
     "output_type": "execute_result"
    }
   ],
   "source": [
    "os.chdir(r'C:\\\\Users\\Trenkin.Sergey\\Desktop\\sales')\n",
    "extension = 'xlsx'\n",
    "all_filenames = [i for i in glob.glob('*.{}'.format(extension))]\n",
    "all_filenames"
   ]
  },
  {
   "cell_type": "code",
   "execution_count": 57,
   "metadata": {},
   "outputs": [],
   "source": [
    "sale = pd.DataFrame()\n",
    "for name in all_filenames:\n",
    "    sales = pd.read_excel(name)\n",
    "    sale = pd.concat([sales, sale], ignore_index= True)"
   ]
  },
  {
   "cell_type": "code",
   "execution_count": 58,
   "metadata": {},
   "outputs": [],
   "source": [
    "sale['Дата'] = pd.to_datetime(sale['Дата'], dayfirst=True, format='mixed')"
   ]
  },
  {
   "cell_type": "code",
   "execution_count": 59,
   "metadata": {},
   "outputs": [],
   "source": [
    "sale = sale[(sale['Дата'] >= pd.to_datetime('2024-03-14', dayfirst=True, format='mixed')) & \n",
    "            (sale['Дата'] <= pd.to_datetime('2024-06-11', dayfirst=True, format='mixed'))]"
   ]
  },
  {
   "cell_type": "code",
   "execution_count": 60,
   "metadata": {},
   "outputs": [],
   "source": [
    "sale.columns = ['КБК', 'Дата', 'Продавец', 'Номер чека', 'ID продажи', 'Тов',\n",
    "    'article', 'Количество', 'Номенклатура', 'Номер карты',\n",
    "    'Товарная группа', 'Товарное направление', 'Тип 1',\n",
    "    'Списание СберСпасибо', 'Группа наценки', 'Вес', 'Проба', 'Размер',\n",
    "    'ШК', 'Цена без скидки', 'Базовая скидка', 'Скидка в руб.', 'Название',\n",
    "    'Цена после скидки', 'Phone', 'Себестоимость', 'Сумма', 'Услуга',\n",
    "    'Общая сумма']"
   ]
  },
  {
   "cell_type": "code",
   "execution_count": 61,
   "metadata": {},
   "outputs": [],
   "source": [
    "sale = sale.query('article in @articles')"
   ]
  },
  {
   "cell_type": "code",
   "execution_count": 62,
   "metadata": {},
   "outputs": [],
   "source": [
    "sale = sale.groupby(by = 'article', as_index=False)[['Количество', 'Общая сумма']].sum()"
   ]
  },
  {
   "cell_type": "code",
   "execution_count": 63,
   "metadata": {},
   "outputs": [],
   "source": [
    "sale.columns = ['Артикул поставщика', 'Количество продаж', 'Общая сумма продаж']"
   ]
  },
  {
   "cell_type": "code",
   "execution_count": 64,
   "metadata": {},
   "outputs": [],
   "source": [
    "ids = ids.merge(sale, how='left', on='Артикул поставщика')"
   ]
  },
  {
   "cell_type": "code",
   "execution_count": 65,
   "metadata": {},
   "outputs": [
    {
     "data": {
      "text/plain": [
       "Index(['Код склада', 'Код товара', 'Название склада', 'Название товара',\n",
       "       'Артикул поставщика', 'Проба', 'Чистый вес', 'Товарное направление',\n",
       "       'Товарная группа', 'Тип изделия 1', 'Тип изделия 2', 'Тип изделия 3',\n",
       "       'Группа цен', 'Скидка на изделии', 'Запрет скидки', 'Дизайн', 'Бренд',\n",
       "       'Цена Розн., за шт', 'Гендерный признак', 'Ценовая корзина',\n",
       "       'Товарный кластер', 'Внутренний артикул', 'ID Сайта', 'Себестоимость',\n",
       "       'Остаток', 'Количество продаж за май', 'Ссылка на изображение',\n",
       "       'published', 'Итоговая цена на изделии', 'Наценка', 'Дата закупки',\n",
       "       'Количество продаж', 'Общая сумма продаж'],\n",
       "      dtype='object')"
      ]
     },
     "execution_count": 65,
     "metadata": {},
     "output_type": "execute_result"
    }
   ],
   "source": [
    "ids.columns"
   ]
  },
  {
   "cell_type": "code",
   "execution_count": 66,
   "metadata": {},
   "outputs": [],
   "source": [
    "ids.columns = ['Код склада', 'Код товара', 'Название склада', 'Название товара',\n",
    "    'Артикул поставщика', 'Проба', 'Чистый вес', 'Товарное направление',\n",
    "    'Товарная группа', 'Тип изделия 1', 'Тип изделия 2', 'Тип изделия 3',\n",
    "    'Группа цен', 'Скидка на изделии', 'Запрет скидки', 'Дизайн', 'Бренд',\n",
    "    'Цена Розн., за шт', 'Гендерный признак', 'Ценовая корзина',\n",
    "    'Товарный кластер', 'Внутренний артикул', 'ID Сайта', 'Себестоимость',\n",
    "    'Остаток', 'Количество продаж за май', 'Ссылка на изображение',\n",
    "    'published', 'Итоговая цена на изделии', 'Наценка', 'Минимальная дата закупки', 'Количество продаж 14.03-11.06', 'Общая сумма продаж 14.03-11.06']"
   ]
  },
  {
   "cell_type": "code",
   "execution_count": 69,
   "metadata": {},
   "outputs": [],
   "source": [
    "center = stock[stock['Код склада'] == '3075']\n",
    "center = center.groupby(by = 'Артикул поставщика', as_index=False)['Остаток'].sum()\n",
    "center.columns = ['Артикул поставщика', 'Остаток на центральном складе']"
   ]
  },
  {
   "cell_type": "code",
   "execution_count": 70,
   "metadata": {},
   "outputs": [],
   "source": [
    "kolambus = stock[stock['Код склада'] == '5442']\n",
    "kolambus = kolambus.groupby(by = 'Артикул поставщика', as_index=False)['Остаток'].sum()\n",
    "kolambus.columns = ['Артикул поставщика', 'Остаток на складе коламбуса']"
   ]
  },
  {
   "cell_type": "code",
   "execution_count": 71,
   "metadata": {},
   "outputs": [],
   "source": [
    "federal = pd.read_excel(r'C:\\Users\\Trenkin.Sergey\\Desktop\\Федеральные склады 11.06.xlsx')"
   ]
  },
  {
   "cell_type": "code",
   "execution_count": 72,
   "metadata": {},
   "outputs": [],
   "source": [
    "federal = federal['outlet_name'].tolist() "
   ]
  },
  {
   "cell_type": "code",
   "execution_count": 73,
   "metadata": {},
   "outputs": [],
   "source": [
    "stock.columns = ['Код склада', 'Код товара', 'name', 'Название товара',\n",
    "    'Артикул поставщика', 'Остаток', 'Проба', 'Чистый вес',\n",
    "    'Товарное направление', 'Товарная группа', 'Тип изделия 1',\n",
    "    'Тип изделия 2', 'Тип изделия 3', 'Группа цен', 'Скидка на изделии',\n",
    "    'Запрет скидки', 'Дизайн', 'Бренд', 'Дата закупки', 'Цена Розн., за шт',\n",
    "    'Гендерный признак', 'Ценовая корзина', 'Товарный кластер',\n",
    "    'Внутренний артикул', 'ID Сайта',\n",
    "    'Цена Закупки за 1 шт. (упр сс с НДС за единицу)']"
   ]
  },
  {
   "cell_type": "code",
   "execution_count": 74,
   "metadata": {},
   "outputs": [],
   "source": [
    "federal = stock.query('name in @federal')"
   ]
  },
  {
   "cell_type": "code",
   "execution_count": 75,
   "metadata": {},
   "outputs": [],
   "source": [
    "federal = federal.groupby(by = 'Артикул поставщика', as_index=False)['Остаток'].sum()\n",
    "federal.columns = ['Артикул поставщика', 'Остаток на федеральных складах']"
   ]
  },
  {
   "cell_type": "code",
   "execution_count": 76,
   "metadata": {},
   "outputs": [
    {
     "data": {
      "text/html": [
       "<div>\n",
       "<style scoped>\n",
       "    .dataframe tbody tr th:only-of-type {\n",
       "        vertical-align: middle;\n",
       "    }\n",
       "\n",
       "    .dataframe tbody tr th {\n",
       "        vertical-align: top;\n",
       "    }\n",
       "\n",
       "    .dataframe thead th {\n",
       "        text-align: right;\n",
       "    }\n",
       "</style>\n",
       "<table border=\"1\" class=\"dataframe\">\n",
       "  <thead>\n",
       "    <tr style=\"text-align: right;\">\n",
       "      <th></th>\n",
       "      <th>Артикул поставщика</th>\n",
       "      <th>Остаток на федеральных складах</th>\n",
       "    </tr>\n",
       "  </thead>\n",
       "  <tbody>\n",
       "    <tr>\n",
       "      <th>0</th>\n",
       "      <td>К-392</td>\n",
       "      <td>1.00</td>\n",
       "    </tr>\n",
       "    <tr>\n",
       "      <th>1</th>\n",
       "      <td>0-017</td>\n",
       "      <td>5.00</td>\n",
       "    </tr>\n",
       "    <tr>\n",
       "      <th>2</th>\n",
       "      <td>00-03-0858</td>\n",
       "      <td>1.00</td>\n",
       "    </tr>\n",
       "    <tr>\n",
       "      <th>3</th>\n",
       "      <td>00008-П</td>\n",
       "      <td>1.00</td>\n",
       "    </tr>\n",
       "    <tr>\n",
       "      <th>4</th>\n",
       "      <td>00013Ч</td>\n",
       "      <td>1.00</td>\n",
       "    </tr>\n",
       "    <tr>\n",
       "      <th>...</th>\n",
       "      <td>...</td>\n",
       "      <td>...</td>\n",
       "    </tr>\n",
       "    <tr>\n",
       "      <th>19550</th>\n",
       "      <td>с35-04</td>\n",
       "      <td>6.00</td>\n",
       "    </tr>\n",
       "    <tr>\n",
       "      <th>19551</th>\n",
       "      <td>с462-20</td>\n",
       "      <td>2.00</td>\n",
       "    </tr>\n",
       "    <tr>\n",
       "      <th>19552</th>\n",
       "      <td>с9-16</td>\n",
       "      <td>3.00</td>\n",
       "    </tr>\n",
       "    <tr>\n",
       "      <th>19553</th>\n",
       "      <td>сCRM-026#КЕРАМИК</td>\n",
       "      <td>1.00</td>\n",
       "    </tr>\n",
       "    <tr>\n",
       "      <th>19554</th>\n",
       "      <td>ск010</td>\n",
       "      <td>5.00</td>\n",
       "    </tr>\n",
       "  </tbody>\n",
       "</table>\n",
       "<p>19555 rows × 2 columns</p>\n",
       "</div>"
      ],
      "text/plain": [
       "      Артикул поставщика  Остаток на федеральных складах\n",
       "0                  К-392                            1.00\n",
       "1                  0-017                            5.00\n",
       "2             00-03-0858                            1.00\n",
       "3                00008-П                            1.00\n",
       "4                 00013Ч                            1.00\n",
       "...                  ...                             ...\n",
       "19550             с35-04                            6.00\n",
       "19551            с462-20                            2.00\n",
       "19552              с9-16                            3.00\n",
       "19553   сCRM-026#КЕРАМИК                            1.00\n",
       "19554              ск010                            5.00\n",
       "\n",
       "[19555 rows x 2 columns]"
      ]
     },
     "execution_count": 76,
     "metadata": {},
     "output_type": "execute_result"
    }
   ],
   "source": [
    "federal"
   ]
  },
  {
   "cell_type": "code",
   "execution_count": 77,
   "metadata": {},
   "outputs": [],
   "source": [
    "ids = ids.merge(federal, how='left', on='Артикул поставщика')"
   ]
  },
  {
   "cell_type": "code",
   "execution_count": 78,
   "metadata": {},
   "outputs": [],
   "source": [
    "ids = ids.merge(kolambus, how='left', on='Артикул поставщика')"
   ]
  },
  {
   "cell_type": "code",
   "execution_count": 79,
   "metadata": {},
   "outputs": [],
   "source": [
    "ids = ids.merge(center, how='left', on='Артикул поставщика')"
   ]
  },
  {
   "cell_type": "code",
   "execution_count": 80,
   "metadata": {},
   "outputs": [],
   "source": [
    "ids.to_excel('предварительный.xlsx', index=False)"
   ]
  },
  {
   "cell_type": "code",
   "execution_count": 81,
   "metadata": {},
   "outputs": [],
   "source": [
    "ids['Сумма в себестоимости на остатках'] = ids['Себестоимость'] * ids['Остаток']"
   ]
  },
  {
   "cell_type": "code",
   "execution_count": 82,
   "metadata": {},
   "outputs": [],
   "source": [
    "zapret = pd.read_excel(r'C:\\Users\\Trenkin.Sergey\\Desktop\\запрет Артикулы к размещению.xlsx')"
   ]
  },
  {
   "cell_type": "code",
   "execution_count": 83,
   "metadata": {},
   "outputs": [],
   "source": [
    "zapret.columns = ['ТГ', 'article', 'Описание', 'Рейтинг по размещению 30.04.2024',\n",
    "    'Артикул сайта', 'Опубликован', 'Остаток на 30.04.24',\n",
    "    'Себестоимость остатка на 30.04.2024',\n",
    "    'Среднее количество продаж, шт/мес', 'Средняя сумма продаж, руб/мес',\n",
    "    'Cредняя себестоимость, руб/мес', 'Средняя валовая прибыль,  руб/мес',\n",
    "    'Средняя цена продажи, шт', 'Причина блокировки']"
   ]
  },
  {
   "cell_type": "code",
   "execution_count": 84,
   "metadata": {},
   "outputs": [],
   "source": [
    "zapret = zapret['article'].tolist()"
   ]
  },
  {
   "cell_type": "code",
   "execution_count": 85,
   "metadata": {},
   "outputs": [],
   "source": [
    "ids['Запрет к размещению'] = np.nan\n",
    "for i in ids.index:\n",
    "    if ids['Артикул поставщика'][i] in zapret:\n",
    "        ids['Запрет к размещению'][i] = True\n",
    "    else:\n",
    "        ids['Запрет к размещению'][i] = False"
   ]
  },
  {
   "cell_type": "code",
   "execution_count": 86,
   "metadata": {},
   "outputs": [
    {
     "data": {
      "text/html": [
       "<div>\n",
       "<style scoped>\n",
       "    .dataframe tbody tr th:only-of-type {\n",
       "        vertical-align: middle;\n",
       "    }\n",
       "\n",
       "    .dataframe tbody tr th {\n",
       "        vertical-align: top;\n",
       "    }\n",
       "\n",
       "    .dataframe thead th {\n",
       "        text-align: right;\n",
       "    }\n",
       "</style>\n",
       "<table border=\"1\" class=\"dataframe\">\n",
       "  <thead>\n",
       "    <tr style=\"text-align: right;\">\n",
       "      <th></th>\n",
       "      <th>Код склада</th>\n",
       "      <th>Код товара</th>\n",
       "      <th>Название склада</th>\n",
       "      <th>Название товара</th>\n",
       "      <th>Артикул поставщика</th>\n",
       "      <th>Проба</th>\n",
       "      <th>Чистый вес</th>\n",
       "      <th>Товарное направление</th>\n",
       "      <th>Товарная группа</th>\n",
       "      <th>Тип изделия 1</th>\n",
       "      <th>Тип изделия 2</th>\n",
       "      <th>Тип изделия 3</th>\n",
       "      <th>Группа цен</th>\n",
       "      <th>Скидка на изделии</th>\n",
       "      <th>Запрет скидки</th>\n",
       "      <th>Дизайн</th>\n",
       "      <th>Бренд</th>\n",
       "      <th>Цена Розн., за шт</th>\n",
       "      <th>Гендерный признак</th>\n",
       "      <th>Ценовая корзина</th>\n",
       "      <th>Товарный кластер</th>\n",
       "      <th>Внутренний артикул</th>\n",
       "      <th>ID Сайта</th>\n",
       "      <th>Себестоимость</th>\n",
       "      <th>Остаток</th>\n",
       "      <th>Количество продаж за май</th>\n",
       "      <th>Ссылка на изображение</th>\n",
       "      <th>published</th>\n",
       "      <th>Итоговая цена на изделии</th>\n",
       "      <th>Наценка</th>\n",
       "      <th>Минимальная дата закупки</th>\n",
       "      <th>Количество продаж 14.03-11.06</th>\n",
       "      <th>Общая сумма продаж 14.03-11.06</th>\n",
       "      <th>Остаток на федеральных складах</th>\n",
       "      <th>Остаток на складе коламбуса</th>\n",
       "      <th>Остаток на центральном складе</th>\n",
       "      <th>Сумма в себестоимости на остатках</th>\n",
       "      <th>Запрет к размещению</th>\n",
       "    </tr>\n",
       "  </thead>\n",
       "  <tbody>\n",
       "    <tr>\n",
       "      <th>0</th>\n",
       "      <td>4336</td>\n",
       "      <td>ТОВ1286504</td>\n",
       "      <td>Вятские Поляны, Мира, 44</td>\n",
       "      <td>Кольцо с брилл., с родир.</td>\n",
       "      <td>20-02-1000-13114</td>\n",
       "      <td>585</td>\n",
       "      <td>1.15</td>\n",
       "      <td>ДК</td>\n",
       "      <td>ДК КОЛЬЦА</td>\n",
       "      <td>КОЛЬЦО</td>\n",
       "      <td>С ДРАГОЦЕННЫМИ КАМНЯМИ</td>\n",
       "      <td>КРАСНЫЙ</td>\n",
       "      <td>ДК_ДЕШЕВАЯ</td>\n",
       "      <td>64.00</td>\n",
       "      <td>Нет</td>\n",
       "      <td>ДК ГЕОМЕТРИЯ</td>\n",
       "      <td>Значение по умолчанию</td>\n",
       "      <td>63234.00</td>\n",
       "      <td>женские</td>\n",
       "      <td>ДЕШЕВАЯ</td>\n",
       "      <td>ДК_2019</td>\n",
       "      <td>1365803 1 1 1_ДК</td>\n",
       "      <td>1689425</td>\n",
       "      <td>5188.22</td>\n",
       "      <td>2326.00</td>\n",
       "      <td>87.00</td>\n",
       "      <td>https://static2.585.cloud/media/products/3a4ad...</td>\n",
       "      <td>True</td>\n",
       "      <td>10926.84</td>\n",
       "      <td>1.11</td>\n",
       "      <td>2023-08-05</td>\n",
       "      <td>277.00</td>\n",
       "      <td>3189708.00</td>\n",
       "      <td>16.00</td>\n",
       "      <td>4.00</td>\n",
       "      <td>23.00</td>\n",
       "      <td>12067799.72</td>\n",
       "      <td>False</td>\n",
       "    </tr>\n",
       "    <tr>\n",
       "      <th>1</th>\n",
       "      <td>4336</td>\n",
       "      <td>ТОВ1286507</td>\n",
       "      <td>Вятские Поляны, Мира, 44</td>\n",
       "      <td>Кольцо с брилл., с родир.+шайба+алм.гр.</td>\n",
       "      <td>20-33-1000-13115</td>\n",
       "      <td>585</td>\n",
       "      <td>1.24</td>\n",
       "      <td>ДК</td>\n",
       "      <td>ДК КОЛЬЦА</td>\n",
       "      <td>КОЛЬЦО</td>\n",
       "      <td>С ДРАГОЦЕННЫМИ КАМНЯМИ</td>\n",
       "      <td>КРАСНЫЙ</td>\n",
       "      <td>ДК_ДЕШЕВАЯ</td>\n",
       "      <td>62.00</td>\n",
       "      <td>Нет</td>\n",
       "      <td>ДК С ОДНИМ КАМНЕМ</td>\n",
       "      <td>Значение по умолчанию</td>\n",
       "      <td>60920.00</td>\n",
       "      <td>женские</td>\n",
       "      <td>ДЕШЕВАЯ</td>\n",
       "      <td>ДК_2016</td>\n",
       "      <td>1398903 1 5 1#БР._ДК</td>\n",
       "      <td>1847403</td>\n",
       "      <td>5152.14</td>\n",
       "      <td>1609.00</td>\n",
       "      <td>610.00</td>\n",
       "      <td>https://static2.585.cloud/media/products/5d363...</td>\n",
       "      <td>True</td>\n",
       "      <td>11111.81</td>\n",
       "      <td>1.16</td>\n",
       "      <td>2023-08-15</td>\n",
       "      <td>1709.00</td>\n",
       "      <td>15465980.00</td>\n",
       "      <td>7.00</td>\n",
       "      <td>31.00</td>\n",
       "      <td>130.00</td>\n",
       "      <td>8289793.26</td>\n",
       "      <td>False</td>\n",
       "    </tr>\n",
       "    <tr>\n",
       "      <th>2</th>\n",
       "      <td>4336</td>\n",
       "      <td>ТОВ1286512</td>\n",
       "      <td>Вятские Поляны, Мира, 44</td>\n",
       "      <td>Кольцо с брилл., с родир.+шайба+алм.гр.</td>\n",
       "      <td>20-33-1000-13117</td>\n",
       "      <td>585</td>\n",
       "      <td>1.22</td>\n",
       "      <td>ДК</td>\n",
       "      <td>ДК КОЛЬЦА</td>\n",
       "      <td>КОЛЬЦО</td>\n",
       "      <td>С ДРАГОЦЕННЫМИ КАМНЯМИ</td>\n",
       "      <td>КРАСНЫЙ</td>\n",
       "      <td>ДК_ДЕШЕВАЯ</td>\n",
       "      <td>67.00</td>\n",
       "      <td>Нет</td>\n",
       "      <td>ДК С ОДНИМ КАМНЕМ</td>\n",
       "      <td>Значение по умолчанию</td>\n",
       "      <td>59575.00</td>\n",
       "      <td>женские</td>\n",
       "      <td>ДЕШЕВАЯ</td>\n",
       "      <td>ДК_2016</td>\n",
       "      <td>1399203 1 5 1#БР._ДК</td>\n",
       "      <td>1865051</td>\n",
       "      <td>4586.64</td>\n",
       "      <td>1778.00</td>\n",
       "      <td>114.00</td>\n",
       "      <td>https://static2.585.cloud/media/products/d9bdb...</td>\n",
       "      <td>True</td>\n",
       "      <td>9436.68</td>\n",
       "      <td>1.06</td>\n",
       "      <td>2023-09-03</td>\n",
       "      <td>318.00</td>\n",
       "      <td>3546368.00</td>\n",
       "      <td>10.00</td>\n",
       "      <td>4.00</td>\n",
       "      <td>17.00</td>\n",
       "      <td>8155045.92</td>\n",
       "      <td>False</td>\n",
       "    </tr>\n",
       "    <tr>\n",
       "      <th>3</th>\n",
       "      <td>4336</td>\n",
       "      <td>ТОВ1307981</td>\n",
       "      <td>Вятские Поляны, Мира, 44</td>\n",
       "      <td>Колье с фиан. род.</td>\n",
       "      <td>TL011624-1</td>\n",
       "      <td>925</td>\n",
       "      <td>3.19</td>\n",
       "      <td>СИ</td>\n",
       "      <td>СИ КОЛЬЕ СК</td>\n",
       "      <td>ЦЕПЬ</td>\n",
       "      <td>С ФИАНИТАМИ</td>\n",
       "      <td>БЕЛЫЙ С РОДИРОВАНИЕМ</td>\n",
       "      <td>СИ_ЦБ_СРЕДН</td>\n",
       "      <td>40.00</td>\n",
       "      <td>Нет</td>\n",
       "      <td>СИ ФАНТАЗИЙКА</td>\n",
       "      <td>Значение по умолчанию</td>\n",
       "      <td>7465.00</td>\n",
       "      <td>женские</td>\n",
       "      <td>ДЕШЕВАЯ</td>\n",
       "      <td>6135_СИ</td>\n",
       "      <td>TL011624-1_СИ</td>\n",
       "      <td>1544525</td>\n",
       "      <td>1480.50</td>\n",
       "      <td>59.00</td>\n",
       "      <td>1.00</td>\n",
       "      <td>NaN</td>\n",
       "      <td>NaN</td>\n",
       "      <td>2149.92</td>\n",
       "      <td>0.45</td>\n",
       "      <td>2023-10-03</td>\n",
       "      <td>2.00</td>\n",
       "      <td>5380.00</td>\n",
       "      <td>1.00</td>\n",
       "      <td>NaN</td>\n",
       "      <td>2.00</td>\n",
       "      <td>87349.50</td>\n",
       "      <td>False</td>\n",
       "    </tr>\n",
       "    <tr>\n",
       "      <th>4</th>\n",
       "      <td>4336</td>\n",
       "      <td>ТОВ1308353</td>\n",
       "      <td>Вятские Поляны, Мира, 44</td>\n",
       "      <td>Цепь Ромб двойной с а/г род.</td>\n",
       "      <td>40-55030-23</td>\n",
       "      <td>925</td>\n",
       "      <td>1.63</td>\n",
       "      <td>СИ</td>\n",
       "      <td>СИ ЦЕПЬ</td>\n",
       "      <td>ЦЕПЬ</td>\n",
       "      <td>БЕЗ КАМНЕЙ</td>\n",
       "      <td>БЕЛЫЙ С РОДИРОВАНИЕМ</td>\n",
       "      <td>СИ_ЦБ_СРЕДН</td>\n",
       "      <td>40.00</td>\n",
       "      <td>Нет</td>\n",
       "      <td>СИ ЦБ РОМБ ДВОЙНОЙ</td>\n",
       "      <td>Значение по умолчанию</td>\n",
       "      <td>1782.00</td>\n",
       "      <td>женские</td>\n",
       "      <td>ДЕШЕВАЯ</td>\n",
       "      <td>6117_СИ</td>\n",
       "      <td>40-55030-23_СИ</td>\n",
       "      <td>1294074</td>\n",
       "      <td>272.20</td>\n",
       "      <td>821.00</td>\n",
       "      <td>45.00</td>\n",
       "      <td>NaN</td>\n",
       "      <td>NaN</td>\n",
       "      <td>513.22</td>\n",
       "      <td>0.89</td>\n",
       "      <td>2023-10-09</td>\n",
       "      <td>107.00</td>\n",
       "      <td>88030.00</td>\n",
       "      <td>3.00</td>\n",
       "      <td>4.00</td>\n",
       "      <td>21.00</td>\n",
       "      <td>223476.20</td>\n",
       "      <td>False</td>\n",
       "    </tr>\n",
       "    <tr>\n",
       "      <th>...</th>\n",
       "      <td>...</td>\n",
       "      <td>...</td>\n",
       "      <td>...</td>\n",
       "      <td>...</td>\n",
       "      <td>...</td>\n",
       "      <td>...</td>\n",
       "      <td>...</td>\n",
       "      <td>...</td>\n",
       "      <td>...</td>\n",
       "      <td>...</td>\n",
       "      <td>...</td>\n",
       "      <td>...</td>\n",
       "      <td>...</td>\n",
       "      <td>...</td>\n",
       "      <td>...</td>\n",
       "      <td>...</td>\n",
       "      <td>...</td>\n",
       "      <td>...</td>\n",
       "      <td>...</td>\n",
       "      <td>...</td>\n",
       "      <td>...</td>\n",
       "      <td>...</td>\n",
       "      <td>...</td>\n",
       "      <td>...</td>\n",
       "      <td>...</td>\n",
       "      <td>...</td>\n",
       "      <td>...</td>\n",
       "      <td>...</td>\n",
       "      <td>...</td>\n",
       "      <td>...</td>\n",
       "      <td>...</td>\n",
       "      <td>...</td>\n",
       "      <td>...</td>\n",
       "      <td>...</td>\n",
       "      <td>...</td>\n",
       "      <td>...</td>\n",
       "      <td>...</td>\n",
       "      <td>...</td>\n",
       "    </tr>\n",
       "    <tr>\n",
       "      <th>17369</th>\n",
       "      <td>3075</td>\n",
       "      <td>ТОВ1307674</td>\n",
       "      <td>Центральный склад Регент Голд</td>\n",
       "      <td>Кольцо с бриллиантами, с родир.</td>\n",
       "      <td>20-12-1000-13346</td>\n",
       "      <td>585</td>\n",
       "      <td>1.30</td>\n",
       "      <td>ДК</td>\n",
       "      <td>ДК КОЛЬЦА</td>\n",
       "      <td>КОЛЬЦО</td>\n",
       "      <td>С ДРАГОЦЕННЫМИ КАМНЯМИ</td>\n",
       "      <td>БЕЛЫЙ</td>\n",
       "      <td>ДК_ДОРОГАЯ</td>\n",
       "      <td>0.00</td>\n",
       "      <td>Нет</td>\n",
       "      <td>ДК ГЕОМЕТРИЯ</td>\n",
       "      <td>Значение по умолчанию</td>\n",
       "      <td>NaN</td>\n",
       "      <td>женские</td>\n",
       "      <td>ДОРОГАЯ</td>\n",
       "      <td>ДК_2021</td>\n",
       "      <td>20-12-1000-13346_ДК</td>\n",
       "      <td></td>\n",
       "      <td>0.00</td>\n",
       "      <td>100.00</td>\n",
       "      <td>NaN</td>\n",
       "      <td>NaN</td>\n",
       "      <td>NaN</td>\n",
       "      <td>NaN</td>\n",
       "      <td>NaN</td>\n",
       "      <td>2024-06-18</td>\n",
       "      <td>NaN</td>\n",
       "      <td>NaN</td>\n",
       "      <td>NaN</td>\n",
       "      <td>NaN</td>\n",
       "      <td>100.00</td>\n",
       "      <td>0.00</td>\n",
       "      <td>False</td>\n",
       "    </tr>\n",
       "    <tr>\n",
       "      <th>17370</th>\n",
       "      <td>3075</td>\n",
       "      <td>ТОВ1307724</td>\n",
       "      <td>Центральный склад Регент Голд</td>\n",
       "      <td>Кольцо с бриллиантами+шайба+алм.грань, с родир.</td>\n",
       "      <td>20-33-1000-13351</td>\n",
       "      <td>585</td>\n",
       "      <td>1.61</td>\n",
       "      <td>ДК</td>\n",
       "      <td>ДК КОЛЬЦА</td>\n",
       "      <td>КОЛЬЦО</td>\n",
       "      <td>С ДРАГОЦЕННЫМИ КАМНЯМИ</td>\n",
       "      <td>КРАСНЫЙ</td>\n",
       "      <td>ДК_СРЕДНЯЯ</td>\n",
       "      <td>0.00</td>\n",
       "      <td>Нет</td>\n",
       "      <td>ДК МАЛИНКА</td>\n",
       "      <td>Значение по умолчанию</td>\n",
       "      <td>NaN</td>\n",
       "      <td>женские</td>\n",
       "      <td>СРЕДНЯЯ</td>\n",
       "      <td>ДК_2026</td>\n",
       "      <td>20-33-1000-13351_ДК</td>\n",
       "      <td></td>\n",
       "      <td>8356.21</td>\n",
       "      <td>100.00</td>\n",
       "      <td>NaN</td>\n",
       "      <td>NaN</td>\n",
       "      <td>NaN</td>\n",
       "      <td>NaN</td>\n",
       "      <td>NaN</td>\n",
       "      <td>2024-06-10</td>\n",
       "      <td>NaN</td>\n",
       "      <td>NaN</td>\n",
       "      <td>NaN</td>\n",
       "      <td>NaN</td>\n",
       "      <td>100.00</td>\n",
       "      <td>835621.00</td>\n",
       "      <td>False</td>\n",
       "    </tr>\n",
       "    <tr>\n",
       "      <th>17371</th>\n",
       "      <td>3075</td>\n",
       "      <td>ТОВ1336459</td>\n",
       "      <td>Центральный склад Регент Голд</td>\n",
       "      <td>Подвес позолота, культивированный жемчуг</td>\n",
       "      <td>18.104</td>\n",
       "      <td>925</td>\n",
       "      <td>2.30</td>\n",
       "      <td>ВЫРИЦА</td>\n",
       "      <td>ВЫРИЦА СЕРЕБРО</td>\n",
       "      <td>ПОДВЕС</td>\n",
       "      <td>С ЖЕМЧУГОМ</td>\n",
       "      <td>ЖЕЛТЫЙ</td>\n",
       "      <td>СИ_ВЫРИЦА_ДЕШ</td>\n",
       "      <td>0.00</td>\n",
       "      <td>Нет</td>\n",
       "      <td>В_ПРОЧЕЕ</td>\n",
       "      <td>ВЫРИЦА</td>\n",
       "      <td>NaN</td>\n",
       "      <td>Значение по умолчанию</td>\n",
       "      <td>СРЕДНЯЯ</td>\n",
       "      <td></td>\n",
       "      <td>18.104_ВЫРИЦА</td>\n",
       "      <td></td>\n",
       "      <td>1912.00</td>\n",
       "      <td>101.00</td>\n",
       "      <td>NaN</td>\n",
       "      <td>NaN</td>\n",
       "      <td>NaN</td>\n",
       "      <td>NaN</td>\n",
       "      <td>NaN</td>\n",
       "      <td>2024-06-11</td>\n",
       "      <td>NaN</td>\n",
       "      <td>NaN</td>\n",
       "      <td>NaN</td>\n",
       "      <td>NaN</td>\n",
       "      <td>101.00</td>\n",
       "      <td>193112.00</td>\n",
       "      <td>False</td>\n",
       "    </tr>\n",
       "    <tr>\n",
       "      <th>17372</th>\n",
       "      <td>3075</td>\n",
       "      <td>ТОВ1324092</td>\n",
       "      <td>Центральный склад Регент Голд</td>\n",
       "      <td>Кольцо Спаси и Сохрани с б/ц фиан., род.</td>\n",
       "      <td>20-72-0001-11906</td>\n",
       "      <td>925</td>\n",
       "      <td>2.08</td>\n",
       "      <td>СИ</td>\n",
       "      <td>СИ КОЛЬЦО ИФ</td>\n",
       "      <td>КОЛЬЦО</td>\n",
       "      <td>С ФИАНИТАМИ</td>\n",
       "      <td>БЕЛЫЙ С РОДИРОВАНИЕМ</td>\n",
       "      <td>СИ_КОЛЬЦА_СРЕДН</td>\n",
       "      <td>0.00</td>\n",
       "      <td>Нет</td>\n",
       "      <td>СИ ПРОЧЕЕ</td>\n",
       "      <td>Значение по умолчанию</td>\n",
       "      <td>NaN</td>\n",
       "      <td>женские</td>\n",
       "      <td>СРЕДНЯЯ</td>\n",
       "      <td>6311_СИ</td>\n",
       "      <td>20-72-0001-11906_СИ</td>\n",
       "      <td></td>\n",
       "      <td>598.40</td>\n",
       "      <td>161.00</td>\n",
       "      <td>NaN</td>\n",
       "      <td>NaN</td>\n",
       "      <td>NaN</td>\n",
       "      <td>NaN</td>\n",
       "      <td>NaN</td>\n",
       "      <td>2024-06-14</td>\n",
       "      <td>NaN</td>\n",
       "      <td>NaN</td>\n",
       "      <td>NaN</td>\n",
       "      <td>NaN</td>\n",
       "      <td>161.00</td>\n",
       "      <td>96342.40</td>\n",
       "      <td>False</td>\n",
       "    </tr>\n",
       "    <tr>\n",
       "      <th>17373</th>\n",
       "      <td>3075</td>\n",
       "      <td>ТОВ1333308</td>\n",
       "      <td>Центральный склад Регент Голд</td>\n",
       "      <td>Подвес</td>\n",
       "      <td>50-00-0000-13609#ER</td>\n",
       "      <td>585</td>\n",
       "      <td>0.42</td>\n",
       "      <td>БК</td>\n",
       "      <td>БК ПОДВЕС ДЕКОР</td>\n",
       "      <td>ПОДВЕС ДЕКОРАТИВНЫЙ</td>\n",
       "      <td>БЕЗ КАМНЕЙ</td>\n",
       "      <td>КРАСНЫЙ</td>\n",
       "      <td>ИФ.БК_ДЕШ</td>\n",
       "      <td>0.00</td>\n",
       "      <td>Нет</td>\n",
       "      <td>ИФ ПРОЧЕЕ</td>\n",
       "      <td>Значение по умолчанию</td>\n",
       "      <td>NaN</td>\n",
       "      <td>Унисекс</td>\n",
       "      <td>ДЕШЕВАЯ</td>\n",
       "      <td>БК_1592</td>\n",
       "      <td>50-00-0000-13609#ER_БК</td>\n",
       "      <td></td>\n",
       "      <td>1500.84</td>\n",
       "      <td>55.00</td>\n",
       "      <td>NaN</td>\n",
       "      <td>NaN</td>\n",
       "      <td>NaN</td>\n",
       "      <td>NaN</td>\n",
       "      <td>NaN</td>\n",
       "      <td>2024-06-17</td>\n",
       "      <td>NaN</td>\n",
       "      <td>NaN</td>\n",
       "      <td>NaN</td>\n",
       "      <td>NaN</td>\n",
       "      <td>55.00</td>\n",
       "      <td>82546.20</td>\n",
       "      <td>False</td>\n",
       "    </tr>\n",
       "  </tbody>\n",
       "</table>\n",
       "<p>17374 rows × 38 columns</p>\n",
       "</div>"
      ],
      "text/plain": [
       "      Код склада  Код товара                Название склада  \\\n",
       "0           4336  ТОВ1286504       Вятские Поляны, Мира, 44   \n",
       "1           4336  ТОВ1286507       Вятские Поляны, Мира, 44   \n",
       "2           4336  ТОВ1286512       Вятские Поляны, Мира, 44   \n",
       "3           4336  ТОВ1307981       Вятские Поляны, Мира, 44   \n",
       "4           4336  ТОВ1308353       Вятские Поляны, Мира, 44   \n",
       "...          ...         ...                            ...   \n",
       "17369       3075  ТОВ1307674  Центральный склад Регент Голд   \n",
       "17370       3075  ТОВ1307724  Центральный склад Регент Голд   \n",
       "17371       3075  ТОВ1336459  Центральный склад Регент Голд   \n",
       "17372       3075  ТОВ1324092  Центральный склад Регент Голд   \n",
       "17373       3075  ТОВ1333308  Центральный склад Регент Голд   \n",
       "\n",
       "                                       Название товара   Артикул поставщика  \\\n",
       "0                            Кольцо с брилл., с родир.     20-02-1000-13114   \n",
       "1              Кольцо с брилл., с родир.+шайба+алм.гр.     20-33-1000-13115   \n",
       "2              Кольцо с брилл., с родир.+шайба+алм.гр.     20-33-1000-13117   \n",
       "3                                   Колье с фиан. род.           TL011624-1   \n",
       "4                         Цепь Ромб двойной с а/г род.          40-55030-23   \n",
       "...                                                ...                  ...   \n",
       "17369                  Кольцо с бриллиантами, с родир.     20-12-1000-13346   \n",
       "17370  Кольцо с бриллиантами+шайба+алм.грань, с родир.     20-33-1000-13351   \n",
       "17371         Подвес позолота, культивированный жемчуг               18.104   \n",
       "17372         Кольцо Спаси и Сохрани с б/ц фиан., род.     20-72-0001-11906   \n",
       "17373                                           Подвес  50-00-0000-13609#ER   \n",
       "\n",
       "      Проба  Чистый вес Товарное направление  Товарная группа  \\\n",
       "0       585        1.15                   ДК        ДК КОЛЬЦА   \n",
       "1       585        1.24                   ДК        ДК КОЛЬЦА   \n",
       "2       585        1.22                   ДК        ДК КОЛЬЦА   \n",
       "3       925        3.19                   СИ      СИ КОЛЬЕ СК   \n",
       "4       925        1.63                   СИ          СИ ЦЕПЬ   \n",
       "...     ...         ...                  ...              ...   \n",
       "17369   585        1.30                   ДК        ДК КОЛЬЦА   \n",
       "17370   585        1.61                   ДК        ДК КОЛЬЦА   \n",
       "17371   925        2.30               ВЫРИЦА   ВЫРИЦА СЕРЕБРО   \n",
       "17372   925        2.08                   СИ     СИ КОЛЬЦО ИФ   \n",
       "17373   585        0.42                   БК  БК ПОДВЕС ДЕКОР   \n",
       "\n",
       "             Тип изделия 1           Тип изделия 2         Тип изделия 3  \\\n",
       "0                   КОЛЬЦО  С ДРАГОЦЕННЫМИ КАМНЯМИ               КРАСНЫЙ   \n",
       "1                   КОЛЬЦО  С ДРАГОЦЕННЫМИ КАМНЯМИ               КРАСНЫЙ   \n",
       "2                   КОЛЬЦО  С ДРАГОЦЕННЫМИ КАМНЯМИ               КРАСНЫЙ   \n",
       "3                     ЦЕПЬ             С ФИАНИТАМИ  БЕЛЫЙ С РОДИРОВАНИЕМ   \n",
       "4                     ЦЕПЬ              БЕЗ КАМНЕЙ  БЕЛЫЙ С РОДИРОВАНИЕМ   \n",
       "...                    ...                     ...                   ...   \n",
       "17369               КОЛЬЦО  С ДРАГОЦЕННЫМИ КАМНЯМИ                 БЕЛЫЙ   \n",
       "17370               КОЛЬЦО  С ДРАГОЦЕННЫМИ КАМНЯМИ               КРАСНЫЙ   \n",
       "17371               ПОДВЕС              С ЖЕМЧУГОМ                ЖЕЛТЫЙ   \n",
       "17372               КОЛЬЦО             С ФИАНИТАМИ  БЕЛЫЙ С РОДИРОВАНИЕМ   \n",
       "17373  ПОДВЕС ДЕКОРАТИВНЫЙ              БЕЗ КАМНЕЙ               КРАСНЫЙ   \n",
       "\n",
       "            Группа цен  Скидка на изделии Запрет скидки              Дизайн  \\\n",
       "0           ДК_ДЕШЕВАЯ              64.00           Нет        ДК ГЕОМЕТРИЯ   \n",
       "1           ДК_ДЕШЕВАЯ              62.00           Нет   ДК С ОДНИМ КАМНЕМ   \n",
       "2           ДК_ДЕШЕВАЯ              67.00           Нет   ДК С ОДНИМ КАМНЕМ   \n",
       "3          СИ_ЦБ_СРЕДН              40.00           Нет       СИ ФАНТАЗИЙКА   \n",
       "4          СИ_ЦБ_СРЕДН              40.00           Нет  СИ ЦБ РОМБ ДВОЙНОЙ   \n",
       "...                ...                ...           ...                 ...   \n",
       "17369       ДК_ДОРОГАЯ               0.00           Нет        ДК ГЕОМЕТРИЯ   \n",
       "17370       ДК_СРЕДНЯЯ               0.00           Нет          ДК МАЛИНКА   \n",
       "17371    СИ_ВЫРИЦА_ДЕШ               0.00           Нет            В_ПРОЧЕЕ   \n",
       "17372  СИ_КОЛЬЦА_СРЕДН               0.00           Нет           СИ ПРОЧЕЕ   \n",
       "17373        ИФ.БК_ДЕШ               0.00           Нет           ИФ ПРОЧЕЕ   \n",
       "\n",
       "                       Бренд  Цена Розн., за шт      Гендерный признак  \\\n",
       "0      Значение по умолчанию           63234.00                женские   \n",
       "1      Значение по умолчанию           60920.00                женские   \n",
       "2      Значение по умолчанию           59575.00                женские   \n",
       "3      Значение по умолчанию            7465.00                женские   \n",
       "4      Значение по умолчанию            1782.00                женские   \n",
       "...                      ...                ...                    ...   \n",
       "17369  Значение по умолчанию                NaN                женские   \n",
       "17370  Значение по умолчанию                NaN                женские   \n",
       "17371                 ВЫРИЦА                NaN  Значение по умолчанию   \n",
       "17372  Значение по умолчанию                NaN                женские   \n",
       "17373  Значение по умолчанию                NaN                Унисекс   \n",
       "\n",
       "      Ценовая корзина Товарный кластер      Внутренний артикул ID Сайта  \\\n",
       "0             ДЕШЕВАЯ          ДК_2019        1365803 1 1 1_ДК  1689425   \n",
       "1             ДЕШЕВАЯ          ДК_2016    1398903 1 5 1#БР._ДК  1847403   \n",
       "2             ДЕШЕВАЯ          ДК_2016    1399203 1 5 1#БР._ДК  1865051   \n",
       "3             ДЕШЕВАЯ          6135_СИ           TL011624-1_СИ  1544525   \n",
       "4             ДЕШЕВАЯ          6117_СИ          40-55030-23_СИ  1294074   \n",
       "...               ...              ...                     ...      ...   \n",
       "17369         ДОРОГАЯ          ДК_2021     20-12-1000-13346_ДК            \n",
       "17370         СРЕДНЯЯ          ДК_2026     20-33-1000-13351_ДК            \n",
       "17371         СРЕДНЯЯ                            18.104_ВЫРИЦА            \n",
       "17372         СРЕДНЯЯ          6311_СИ     20-72-0001-11906_СИ            \n",
       "17373         ДЕШЕВАЯ          БК_1592  50-00-0000-13609#ER_БК            \n",
       "\n",
       "       Себестоимость  Остаток  Количество продаж за май  \\\n",
       "0            5188.22  2326.00                     87.00   \n",
       "1            5152.14  1609.00                    610.00   \n",
       "2            4586.64  1778.00                    114.00   \n",
       "3            1480.50    59.00                      1.00   \n",
       "4             272.20   821.00                     45.00   \n",
       "...              ...      ...                       ...   \n",
       "17369           0.00   100.00                       NaN   \n",
       "17370        8356.21   100.00                       NaN   \n",
       "17371        1912.00   101.00                       NaN   \n",
       "17372         598.40   161.00                       NaN   \n",
       "17373        1500.84    55.00                       NaN   \n",
       "\n",
       "                                   Ссылка на изображение published  \\\n",
       "0      https://static2.585.cloud/media/products/3a4ad...      True   \n",
       "1      https://static2.585.cloud/media/products/5d363...      True   \n",
       "2      https://static2.585.cloud/media/products/d9bdb...      True   \n",
       "3                                                    NaN       NaN   \n",
       "4                                                    NaN       NaN   \n",
       "...                                                  ...       ...   \n",
       "17369                                                NaN       NaN   \n",
       "17370                                                NaN       NaN   \n",
       "17371                                                NaN       NaN   \n",
       "17372                                                NaN       NaN   \n",
       "17373                                                NaN       NaN   \n",
       "\n",
       "       Итоговая цена на изделии  Наценка Минимальная дата закупки  \\\n",
       "0                      10926.84     1.11               2023-08-05   \n",
       "1                      11111.81     1.16               2023-08-15   \n",
       "2                       9436.68     1.06               2023-09-03   \n",
       "3                       2149.92     0.45               2023-10-03   \n",
       "4                        513.22     0.89               2023-10-09   \n",
       "...                         ...      ...                      ...   \n",
       "17369                       NaN      NaN               2024-06-18   \n",
       "17370                       NaN      NaN               2024-06-10   \n",
       "17371                       NaN      NaN               2024-06-11   \n",
       "17372                       NaN      NaN               2024-06-14   \n",
       "17373                       NaN      NaN               2024-06-17   \n",
       "\n",
       "       Количество продаж 14.03-11.06  Общая сумма продаж 14.03-11.06  \\\n",
       "0                             277.00                      3189708.00   \n",
       "1                            1709.00                     15465980.00   \n",
       "2                             318.00                      3546368.00   \n",
       "3                               2.00                         5380.00   \n",
       "4                             107.00                        88030.00   \n",
       "...                              ...                             ...   \n",
       "17369                            NaN                             NaN   \n",
       "17370                            NaN                             NaN   \n",
       "17371                            NaN                             NaN   \n",
       "17372                            NaN                             NaN   \n",
       "17373                            NaN                             NaN   \n",
       "\n",
       "       Остаток на федеральных складах  Остаток на складе коламбуса  \\\n",
       "0                               16.00                         4.00   \n",
       "1                                7.00                        31.00   \n",
       "2                               10.00                         4.00   \n",
       "3                                1.00                          NaN   \n",
       "4                                3.00                         4.00   \n",
       "...                               ...                          ...   \n",
       "17369                             NaN                          NaN   \n",
       "17370                             NaN                          NaN   \n",
       "17371                             NaN                          NaN   \n",
       "17372                             NaN                          NaN   \n",
       "17373                             NaN                          NaN   \n",
       "\n",
       "       Остаток на центральном складе  Сумма в себестоимости на остатках  \\\n",
       "0                              23.00                        12067799.72   \n",
       "1                             130.00                         8289793.26   \n",
       "2                              17.00                         8155045.92   \n",
       "3                               2.00                           87349.50   \n",
       "4                              21.00                          223476.20   \n",
       "...                              ...                                ...   \n",
       "17369                         100.00                               0.00   \n",
       "17370                         100.00                          835621.00   \n",
       "17371                         101.00                          193112.00   \n",
       "17372                         161.00                           96342.40   \n",
       "17373                          55.00                           82546.20   \n",
       "\n",
       "      Запрет к размещению  \n",
       "0                   False  \n",
       "1                   False  \n",
       "2                   False  \n",
       "3                   False  \n",
       "4                   False  \n",
       "...                   ...  \n",
       "17369               False  \n",
       "17370               False  \n",
       "17371               False  \n",
       "17372               False  \n",
       "17373               False  \n",
       "\n",
       "[17374 rows x 38 columns]"
      ]
     },
     "execution_count": 86,
     "metadata": {},
     "output_type": "execute_result"
    }
   ],
   "source": [
    "ids"
   ]
  },
  {
   "cell_type": "code",
   "execution_count": 88,
   "metadata": {},
   "outputs": [
    {
     "data": {
      "text/plain": [
       "Запрет к размещению\n",
       "False    17338\n",
       "True        36\n",
       "Name: count, dtype: int64"
      ]
     },
     "execution_count": 88,
     "metadata": {},
     "output_type": "execute_result"
    }
   ],
   "source": [
    "ids['Запрет к размещению'].value_counts()"
   ]
  },
  {
   "cell_type": "code",
   "execution_count": 89,
   "metadata": {},
   "outputs": [],
   "source": [
    "ids['rank1'] = ids['Остаток на федеральных складах'].rank()\n",
    "ids['rank2'] = ids['Сумма в себестоимости на остатках'].rank()\n",
    "ids['rank3'] = ids['Общая сумма продаж 14.03-11.06'].rank()"
   ]
  },
  {
   "cell_type": "code",
   "execution_count": 90,
   "metadata": {},
   "outputs": [],
   "source": [
    "ids['rank'] = (ids['rank1'] + ids['rank2'] + ids['rank3'])/3"
   ]
  },
  {
   "cell_type": "code",
   "execution_count": 91,
   "metadata": {},
   "outputs": [],
   "source": [
    "ids = ids.sort_values(by = ['rank'], ascending=False)"
   ]
  },
  {
   "cell_type": "code",
   "execution_count": 94,
   "metadata": {},
   "outputs": [],
   "source": [
    "# ids = ids.drop(columns=['index'])"
   ]
  },
  {
   "cell_type": "code",
   "execution_count": 95,
   "metadata": {},
   "outputs": [],
   "source": [
    "ids = ids.reset_index()\n",
    "ids['Рейтинг'] = np.nan\n",
    "for i in ids.index:\n",
    "    ids['Рейтинг'][i] = i + 1"
   ]
  },
  {
   "cell_type": "code",
   "execution_count": 96,
   "metadata": {},
   "outputs": [],
   "source": [
    "ids = ids.drop(columns=['rank1', 'rank2', 'rank3'])"
   ]
  },
  {
   "cell_type": "code",
   "execution_count": 98,
   "metadata": {},
   "outputs": [],
   "source": [
    "# df = df.drop(columns=['Скидка на изделии', 'level_0', 'index'])"
   ]
  },
  {
   "cell_type": "code",
   "execution_count": 99,
   "metadata": {},
   "outputs": [],
   "source": [
    "ids.to_excel('final.xlsx', index=False)"
   ]
  },
  {
   "cell_type": "code",
   "execution_count": null,
   "metadata": {},
   "outputs": [],
   "source": [
    "df = pd.read_excel('final.xlsx')"
   ]
  },
  {
   "cell_type": "code",
   "execution_count": null,
   "metadata": {},
   "outputs": [
    {
     "name": "stdout",
     "output_type": "stream",
     "text": [
      "<class 'pandas.core.frame.DataFrame'>\n",
      "RangeIndex: 17363 entries, 0 to 17362\n",
      "Data columns (total 39 columns):\n",
      " #   Column                             Non-Null Count  Dtype         \n",
      "---  ------                             --------------  -----         \n",
      " 0   Код склада                         17363 non-null  object        \n",
      " 1   Название склада                    17363 non-null  object        \n",
      " 2   Название товара                    17363 non-null  object        \n",
      " 3   Артикул поставщика                 17363 non-null  object        \n",
      " 4   Проба                              17363 non-null  object        \n",
      " 5   Чистый вес                         17363 non-null  float64       \n",
      " 6   Товарное направление               17363 non-null  object        \n",
      " 7   Товарная группа                    17363 non-null  object        \n",
      " 8   Тип изделия 1                      17363 non-null  object        \n",
      " 9   Тип изделия 2                      17363 non-null  object        \n",
      " 10  Тип изделия 3                      17363 non-null  object        \n",
      " 11  Группа цен                         17363 non-null  object        \n",
      " 12  Скидка на изделии                  17363 non-null  float64       \n",
      " 13  Запрет скидки                      17363 non-null  object        \n",
      " 14  Дизайн                             17363 non-null  object        \n",
      " 15  Бренд                              17363 non-null  object        \n",
      " 16  Цена Розн., за шт                  17251 non-null  float64       \n",
      " 17  Гендерный признак                  17363 non-null  object        \n",
      " 18  Ценовая корзина                    17363 non-null  object        \n",
      " 19  Товарный кластер                   17363 non-null  object        \n",
      " 20  Внутренний артикул                 17363 non-null  object        \n",
      " 21  ID Сайта                           17363 non-null  object        \n",
      " 22  Себестоимость                      17363 non-null  float64       \n",
      " 23  Остаток                            17363 non-null  float64       \n",
      " 24  Количество продаж за май           14595 non-null  float64       \n",
      " 25  Ссылка на изображение              14688 non-null  object        \n",
      " 26  published                          14688 non-null  object        \n",
      " 27  Итоговая цена на изделии           17251 non-null  float64       \n",
      " 28  Наценка                            17251 non-null  float64       \n",
      " 29  Минимальная дата закупки           14598 non-null  datetime64[ns]\n",
      " 30  Количество продаж 14.03-11.06      16299 non-null  float64       \n",
      " 31  Общая сумма продаж 14.03-11.06     16299 non-null  float64       \n",
      " 32  Остаток на федеральных складах     10667 non-null  float64       \n",
      " 33  Остаток на складе коламбуса        12788 non-null  float64       \n",
      " 34  Остаток на центральном складе      12836 non-null  float64       \n",
      " 35  Сумма в себестоимости на остатках  17363 non-null  float64       \n",
      " 36  Запрет к размещению                17363 non-null  object        \n",
      " 37  rank                               10229 non-null  float64       \n",
      " 38  Рейтинг                            17363 non-null  float64       \n",
      "dtypes: datetime64[ns](1), float64(16), object(22)\n",
      "memory usage: 5.2+ MB\n"
     ]
    }
   ],
   "source": [
    "ids.info()"
   ]
  },
  {
   "cell_type": "code",
   "execution_count": null,
   "metadata": {},
   "outputs": [],
   "source": []
  }
 ],
 "metadata": {
  "kernelspec": {
   "display_name": "Python 3",
   "language": "python",
   "name": "python3"
  },
  "language_info": {
   "codemirror_mode": {
    "name": "ipython",
    "version": 3
   },
   "file_extension": ".py",
   "mimetype": "text/x-python",
   "name": "python",
   "nbconvert_exporter": "python",
   "pygments_lexer": "ipython3",
   "version": "3.12.0"
  }
 },
 "nbformat": 4,
 "nbformat_minor": 2
}
