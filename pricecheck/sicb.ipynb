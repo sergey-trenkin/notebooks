{
 "cells": [
  {
   "cell_type": "code",
   "execution_count": 1,
   "metadata": {},
   "outputs": [],
   "source": [
    "from tqdm import tqdm\n",
    "import datetime as dt\n",
    "import pymssql\n",
    "import pandas as pd\n",
    "import numpy as np\n",
    "import warnings\n",
    "import glob \n",
    "import os\n",
    "\n",
    "warnings.filterwarnings('ignore')"
   ]
  },
  {
   "cell_type": "code",
   "execution_count": 2,
   "metadata": {},
   "outputs": [],
   "source": [
    "df = pd.read_excel(r'C:\\Users\\Trenkin.Sergey\\Desktop\\sicb.xlsx')"
   ]
  },
  {
   "cell_type": "code",
   "execution_count": 3,
   "metadata": {},
   "outputs": [],
   "source": [
    "conn = pymssql.connect(server='AX-SQL', database='Staging')\n",
    "cursor = conn.cursor()\n",
    "\n",
    "sql = f'''\n",
    "SELECT [ШК], [Код склада], [Код товара], [Артикул поставщика], [Внутренний артикул], [ID Сайта], [Товарное направление], \n",
    "[Товарная группа], [Товарный кластер], [Проба], [Размер изделия], [Тип изделия 1], [Тип изделия 2],\n",
    "[Тип изделия 3], [Дизайн], [Бренд], [Гендерный признак], [Ценовая корзина], [Группа цен], [Остаток], [Цена Розн., за шт],\n",
    "[Чистый вес], [Общий вес], [Цена изделия на бирке], [Скидка на изделии], [Запрет скидки], [Цена Закупки за 1 шт. (упр сс с НДС за единицу)], \n",
    "[Дата закупки], [Код поставщика], [Наименование поставщика]\n",
    "from [Staging].[Reports].[Remainings_8h]\n",
    "where [Товарная группа] in (N'СИ БРАСЛЕТ БК', N'СИ ЦЕПЬ')\n",
    "'''\n",
    "\n",
    "sql_query = pd.read_sql_query(sql, conn)\n",
    "stock = pd.DataFrame(sql_query)"
   ]
  },
  {
   "cell_type": "code",
   "execution_count": 4,
   "metadata": {},
   "outputs": [],
   "source": [
    "df['ID Сайта'] = df['ID Сайта'].astype(str)"
   ]
  },
  {
   "cell_type": "code",
   "execution_count": 5,
   "metadata": {},
   "outputs": [],
   "source": [
    "df = df[['ID Сайта', 'Цена за грамм расчёт по модели']]"
   ]
  },
  {
   "cell_type": "code",
   "execution_count": 6,
   "metadata": {},
   "outputs": [],
   "source": [
    "stock = stock.merge(df, how='left', on='ID Сайта')"
   ]
  },
  {
   "cell_type": "code",
   "execution_count": 7,
   "metadata": {},
   "outputs": [],
   "source": [
    "stock = stock[['ШК', 'Код склада', 'Код товара', 'Артикул поставщика',\n",
    "    'Внутренний артикул', 'ID Сайта', 'Товарное направление',\n",
    "    'Товарная группа', 'Товарный кластер', 'Проба', 'Размер изделия',\n",
    "    'Тип изделия 1', 'Тип изделия 2', 'Тип изделия 3', 'Дизайн', 'Бренд',\n",
    "    'Гендерный признак', 'Ценовая корзина', 'Группа цен', 'Остаток', 'Чистый вес', \n",
    "    'Цена Закупки за 1 шт. (упр сс с НДС за единицу)', 'Размер изделия',\n",
    "    'Цена за грамм расчёт по модели']]"
   ]
  },
  {
   "cell_type": "code",
   "execution_count": 8,
   "metadata": {},
   "outputs": [],
   "source": [
    "stock['Себес за грамм было'] = stock['Цена Закупки за 1 шт. (упр сс с НДС за единицу)'] / stock['Чистый вес']"
   ]
  },
  {
   "cell_type": "code",
   "execution_count": 10,
   "metadata": {},
   "outputs": [],
   "source": [
    "stock['Наценка после перерасчёта'] = stock['Цена за грамм расчёт по модели'] / stock['Себес за грамм было'] - 1"
   ]
  },
  {
   "cell_type": "code",
   "execution_count": 11,
   "metadata": {},
   "outputs": [],
   "source": [
    "stock.to_excel('цена за грамм после применения модельной цены.xlsx', index=False)"
   ]
  },
  {
   "cell_type": "code",
   "execution_count": 4,
   "metadata": {},
   "outputs": [],
   "source": [
    "# discounts = pd.read_excel(r'\\\\gold585.int\\uk\\Общее хранилище файлов\\Служба аналитики\\Тренкин Сергей\\discounts_zolotoy\\Артикул сайта-скидки по ПК 2024.07.12.xlsx')\n",
    "# discounts = discounts[['Артикул сайта', 'discount_value_promotions_1']]\n",
    "\n",
    "# def discount_index(discount):\n",
    "#     try:\n",
    "#         return 1 - discount / 100\n",
    "#     except:\n",
    "#         return 1\n",
    "    \n",
    "# discounts.discount_value_promotions_1 = discounts.discount_value_promotions_1.apply(discount_index)\n",
    "\n",
    "# discounts.rename(columns={'Артикул сайта': 'ID Сайта', \n",
    "#                         'discount_value_promotions_1': 'discounts'},\n",
    "#                 inplace=True)\n",
    "\n",
    "# stock = stock[stock['ID Сайта'] != '']\n",
    "# stock['ID Сайта'] = stock['ID Сайта'].astype(int)\n",
    "\n",
    "# stock = stock.merge(discounts, how='left', on='ID Сайта')"
   ]
  },
  {
   "cell_type": "code",
   "execution_count": 8,
   "metadata": {},
   "outputs": [],
   "source": []
  },
  {
   "cell_type": "code",
   "execution_count": 9,
   "metadata": {},
   "outputs": [],
   "source": []
  }
 ],
 "metadata": {
  "kernelspec": {
   "display_name": "Python 3",
   "language": "python",
   "name": "python3"
  },
  "language_info": {
   "codemirror_mode": {
    "name": "ipython",
    "version": 3
   },
   "file_extension": ".py",
   "mimetype": "text/x-python",
   "name": "python",
   "nbconvert_exporter": "python",
   "pygments_lexer": "ipython3",
   "version": "3.12.4"
  }
 },
 "nbformat": 4,
 "nbformat_minor": 2
}
