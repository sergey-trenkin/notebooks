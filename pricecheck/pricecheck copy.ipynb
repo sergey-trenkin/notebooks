{
 "cells": [
  {
   "cell_type": "code",
   "execution_count": 60,
   "metadata": {},
   "outputs": [],
   "source": [
    "from tqdm import tqdm\n",
    "import datetime as dt\n",
    "import pymssql\n",
    "import pandas as pd\n",
    "import numpy as np\n",
    "import warnings\n",
    "import glob \n",
    "import os\n",
    "\n",
    "warnings.filterwarnings('ignore')"
   ]
  },
  {
   "cell_type": "code",
   "execution_count": 67,
   "metadata": {},
   "outputs": [],
   "source": [
    "conn = pymssql.connect(server='AX-SQL', database='Staging')\n",
    "cursor = conn.cursor()\n",
    "\n",
    "sql = f'''\n",
    "SELECT [ШК], [Код склада], [Код товара], [Артикул поставщика], [Внутренний артикул], [ID Сайта], [Товарное направление],\n",
    "[Товарная группа], [Товарный кластер], [Проба], [Размер изделия], [Тип изделия 1], [Тип изделия 2],\n",
    "[Тип изделия 3], [Дизайн], [Бренд], [Гендерный признак], [Ценовая корзина], [Группа цен], [Остаток], [Цена Розн., за шт],\n",
    "[Чистый вес], [Общий вес], [Цена изделия на бирке], [Скидка на изделии], [Запрет скидки], [Цена Закупки за 1 шт. (упр сс с НДС за единицу)], [Дата закупки]\n",
    "from [Staging].[Reports].[Remainings_8h]\n",
    "where [Товарное направление] in (N'ПДК', N'ДК')\n",
    "'''\n",
    "\n",
    "sql_query = pd.read_sql_query(sql, conn)\n",
    "stock = pd.DataFrame(sql_query)"
   ]
  },
  {
   "cell_type": "code",
   "execution_count": 3,
   "metadata": {},
   "outputs": [],
   "source": [
    "path = r'\\\\gold585.int\\uk\\Общее хранилище файлов\\Служба аналитики\\Архив_отчеты\\Продажи\\По дням\\\\'\n",
    "list_of_files = glob.glob(path + '*.xlsx') \n",
    "latest_file = max(list_of_files, key=os.path.getctime)\n",
    "\n",
    "sklad = pd.read_excel(latest_file, sheet_name = 'Продажи по ассортименту', header = 2)\n",
    "\n",
    "stock['Код склада'] = stock['Код склада'].astype('float64') \n",
    "\n",
    "sklad = sklad[['Unnamed: 0','Торговая марка', 'Юр лицо', 'Код склада', 'Дата открытия объекта', 'Код объекта', 'Город', 'Наименование объекта']]\n",
    "sklad1 = sklad[['Код склада', 'Код объекта']].drop_duplicates().reset_index(drop=True)\n",
    "sklad1 = sklad1[sklad1['Код объекта'].notna()]\n",
    "\n",
    "sklad1['Код объекта'] = sklad1['Код объекта'].astype(str)\n",
    "sklad1['8'] = sklad1['Код объекта'].apply(lambda x: x[0])\n",
    "sklad1 = sklad1[sklad1['8'] != '8']\n",
    "\n",
    "stock = stock.merge(sklad1, left_on='Код склада', right_on = 'Код склада', how='inner')\n",
    "\n",
    "stock = stock.drop(columns=['8'])"
   ]
  },
  {
   "cell_type": "code",
   "execution_count": 4,
   "metadata": {},
   "outputs": [],
   "source": [
    "stock['Дата закупки'] = pd.to_datetime(stock['Дата закупки'], dayfirst=True, format='mixed')\n",
    "\n",
    "stock['Старая закупка (до 31.12.2022)'] = np.where(\n",
    "    stock['Дата закупки'] <= pd.to_datetime('2022-12-31', dayfirst=True, format='mixed'), 1, 0\n",
    ")\n",
    "stock['Новая закупка (с 01.01.2023)'] = np.where(\n",
    "    stock['Дата закупки'] >= pd.to_datetime('2023-01-01', dayfirst=True, format='mixed'), 1, 0\n",
    ")\n",
    "\n",
    "data = stock.groupby(by = 'ID Сайта', as_index=False)[['Старая закупка (до 31.12.2022)', 'Новая закупка (с 01.01.2023)']].sum()\n",
    "\n",
    "data['Дата закупки'] = np.where(\n",
    "    (data['Новая закупка (с 01.01.2023)'] > 0) & (data['Старая закупка (до 31.12.2022)'] > 0), 'Старые и новые',\n",
    "    np.where(\n",
    "        (data['Новая закупка (с 01.01.2023)'] > 0) & (data['Старая закупка (до 31.12.2022)'] == 0), 'Новые', \n",
    "        np.where(\n",
    "            (data['Новая закупка (с 01.01.2023)'] == 0) & (data['Старая закупка (до 31.12.2022)'] > 0), 'Старые', 'Старые'\n",
    "        )\n",
    "    )\n",
    ")"
   ]
  },
  {
   "cell_type": "code",
   "execution_count": 5,
   "metadata": {},
   "outputs": [],
   "source": [
    "stock.drop(columns=['Старая закупка (до 31.12.2022)', 'Новая закупка (с 01.01.2023)', 'Дата закупки'], inplace=True)\n",
    "data.drop(columns=['Старая закупка (до 31.12.2022)', 'Новая закупка (с 01.01.2023)'], inplace=True)\n",
    "stock = stock.merge(data, how='outer', on='ID Сайта')"
   ]
  },
  {
   "cell_type": "code",
   "execution_count": 6,
   "metadata": {},
   "outputs": [
    {
     "name": "stderr",
     "output_type": "stream",
     "text": [
      "  0%|          | 0/9 [00:00<?, ?it/s]"
     ]
    },
    {
     "name": "stderr",
     "output_type": "stream",
     "text": [
      "100%|██████████| 9/9 [10:32<00:00, 70.32s/it]\n"
     ]
    }
   ],
   "source": [
    "os.chdir(r'C:\\\\Users\\Trenkin.Sergey\\Desktop\\sales')\n",
    "extension = 'xlsx'\n",
    "all_sales = [i for i in glob.glob('*.{}'.format(extension))]\n",
    "\n",
    "sale = pd.DataFrame()\n",
    "for name in tqdm(all_sales):\n",
    "    sales = pd.read_excel(name)\n",
    "    sale = pd.concat([sales, sale], ignore_index= True)"
   ]
  },
  {
   "cell_type": "code",
   "execution_count": 7,
   "metadata": {},
   "outputs": [],
   "source": [
    "objects_with_sales = stock['Код объекта'].astype(str).unique().tolist()"
   ]
  },
  {
   "cell_type": "code",
   "execution_count": 8,
   "metadata": {},
   "outputs": [],
   "source": [
    "data = dt.datetime.isoweekday(dt.date.today())\n",
    "date_now = dt.datetime.now().date().strftime('%Y-%m-%d')\n",
    "last_monitoring = (dt.date.today() - dt.timedelta(days=90)).strftime('%Y-%m-%d')\n",
    "\n",
    "sale = sale.query('КБК in @objects_with_sales')\n",
    "sale = sale[sale['Дата'] >= last_monitoring]"
   ]
  },
  {
   "cell_type": "code",
   "execution_count": 9,
   "metadata": {},
   "outputs": [],
   "source": [
    "images = pd.read_excel(r'C:\\Users\\Trenkin.Sergey\\Desktop\\Артикул-фото 2024.06.11_.xlsx')\n",
    "zapret = pd.read_excel(r'C:\\Users\\Trenkin.Sergey\\Desktop\\запрет Артикулы к размещению.xlsx')"
   ]
  },
  {
   "cell_type": "code",
   "execution_count": 10,
   "metadata": {},
   "outputs": [],
   "source": [
    "stock.drop_duplicates(inplace = True)"
   ]
  },
  {
   "cell_type": "code",
   "execution_count": 11,
   "metadata": {},
   "outputs": [],
   "source": [
    "compare_tov_id = stock[['Код товара', 'ID Сайта']]\n",
    "compare_tov_id.columns = ['Тов', 'ID Сайта']"
   ]
  },
  {
   "cell_type": "code",
   "execution_count": 12,
   "metadata": {},
   "outputs": [],
   "source": [
    "compare_tov_id.drop_duplicates(subset=['Тов'], inplace=True)"
   ]
  },
  {
   "cell_type": "code",
   "execution_count": 13,
   "metadata": {},
   "outputs": [],
   "source": [
    "sale = sale.merge(compare_tov_id, how='left', on='Тов')\n",
    "sale = sale.drop(columns=['Тов'])\n",
    "sale = sale[['ID Сайта', 'Количество', 'Общая сумма']]\n",
    "sale.dropna(inplace=True)\n",
    "sale = sale.groupby(by = 'ID Сайта', as_index=False)[['Количество', 'Общая сумма']].sum()\n",
    "sale.columns = ['ID Сайта', 'Количество продаж за последние 90 дней', 'Сумма продаж за последние 90 дней']"
   ]
  },
  {
   "cell_type": "code",
   "execution_count": 14,
   "metadata": {},
   "outputs": [],
   "source": [
    "result = stock.drop_duplicates(subset=['ID Сайта'])\n",
    "result = result.merge(sale, how='outer', on='ID Сайта')"
   ]
  },
  {
   "cell_type": "code",
   "execution_count": 15,
   "metadata": {},
   "outputs": [],
   "source": [
    "ids = result['ID Сайта'].dropna().tolist()"
   ]
  },
  {
   "cell_type": "code",
   "execution_count": 16,
   "metadata": {},
   "outputs": [],
   "source": [
    "images['article'] = images['article'].astype(str)\n",
    "images = images.query('article in @ids')"
   ]
  },
  {
   "cell_type": "code",
   "execution_count": 17,
   "metadata": {},
   "outputs": [],
   "source": [
    "images = images[['article', 'published', 'Ссылка на изображение']]\n",
    "images.columns = ['ID Сайта', 'Опубликован', 'Ссылка на изображение']\n",
    "result = result.merge(images, how='outer', on='ID Сайта')"
   ]
  },
  {
   "cell_type": "code",
   "execution_count": 18,
   "metadata": {},
   "outputs": [],
   "source": [
    "result = result.drop_duplicates(subset=['ID Сайта'])\n",
    "result = result[result['ID Сайта'] != '']"
   ]
  },
  {
   "cell_type": "code",
   "execution_count": 19,
   "metadata": {},
   "outputs": [],
   "source": [
    "result = result.drop(columns=['Остаток'])"
   ]
  },
  {
   "cell_type": "code",
   "execution_count": 20,
   "metadata": {},
   "outputs": [],
   "source": [
    "df = stock\n",
    "df = df[df['ID Сайта'] != '']"
   ]
  },
  {
   "cell_type": "code",
   "execution_count": 21,
   "metadata": {},
   "outputs": [],
   "source": [
    "sum_weight = df.groupby(by = 'ID Сайта', as_index = False)[['Чистый вес', 'Общий вес']].sum()\n",
    "sum_weight = sum_weight.rename(columns = {'Чистый вес': 'Сумма по чистому весу', 'Общий вес': 'Сумма по общему весу'})"
   ]
  },
  {
   "cell_type": "code",
   "execution_count": 22,
   "metadata": {},
   "outputs": [],
   "source": [
    "result = result.merge(sum_weight, how='inner', on='ID Сайта')"
   ]
  },
  {
   "cell_type": "code",
   "execution_count": 23,
   "metadata": {},
   "outputs": [],
   "source": [
    "percentile_ = df.groupby(by = 'ID Сайта', as_index=False)['Цена Закупки за 1 шт. (упр сс с НДС за единицу)'].quantile(0.8)\n",
    "percentile_ = percentile_.rename(columns={'Цена Закупки за 1 шт. (упр сс с НДС за единицу)': '80-й перцентиль по себестоимости'})"
   ]
  },
  {
   "cell_type": "code",
   "execution_count": 24,
   "metadata": {},
   "outputs": [
    {
     "data": {
      "text/html": [
       "<div>\n",
       "<style scoped>\n",
       "    .dataframe tbody tr th:only-of-type {\n",
       "        vertical-align: middle;\n",
       "    }\n",
       "\n",
       "    .dataframe tbody tr th {\n",
       "        vertical-align: top;\n",
       "    }\n",
       "\n",
       "    .dataframe thead th {\n",
       "        text-align: right;\n",
       "    }\n",
       "</style>\n",
       "<table border=\"1\" class=\"dataframe\">\n",
       "  <thead>\n",
       "    <tr style=\"text-align: right;\">\n",
       "      <th></th>\n",
       "      <th>ID Сайта</th>\n",
       "      <th>80-й перцентиль по себестоимости</th>\n",
       "    </tr>\n",
       "  </thead>\n",
       "  <tbody>\n",
       "    <tr>\n",
       "      <th>0</th>\n",
       "      <td>1000054</td>\n",
       "      <td>2294.970</td>\n",
       "    </tr>\n",
       "    <tr>\n",
       "      <th>1</th>\n",
       "      <td>1000091</td>\n",
       "      <td>4295.000</td>\n",
       "    </tr>\n",
       "    <tr>\n",
       "      <th>2</th>\n",
       "      <td>1000339</td>\n",
       "      <td>8124.630</td>\n",
       "    </tr>\n",
       "    <tr>\n",
       "      <th>3</th>\n",
       "      <td>1000450</td>\n",
       "      <td>218357.440</td>\n",
       "    </tr>\n",
       "    <tr>\n",
       "      <th>4</th>\n",
       "      <td>1000593</td>\n",
       "      <td>3372.440</td>\n",
       "    </tr>\n",
       "    <tr>\n",
       "      <th>...</th>\n",
       "      <td>...</td>\n",
       "      <td>...</td>\n",
       "    </tr>\n",
       "    <tr>\n",
       "      <th>28730</th>\n",
       "      <td>8380055</td>\n",
       "      <td>6384.892</td>\n",
       "    </tr>\n",
       "    <tr>\n",
       "      <th>28731</th>\n",
       "      <td>8380061</td>\n",
       "      <td>5253.316</td>\n",
       "    </tr>\n",
       "    <tr>\n",
       "      <th>28732</th>\n",
       "      <td>8380063</td>\n",
       "      <td>5590.150</td>\n",
       "    </tr>\n",
       "    <tr>\n",
       "      <th>28733</th>\n",
       "      <td>8380071</td>\n",
       "      <td>5440.430</td>\n",
       "    </tr>\n",
       "    <tr>\n",
       "      <th>28734</th>\n",
       "      <td>8380073</td>\n",
       "      <td>6003.242</td>\n",
       "    </tr>\n",
       "  </tbody>\n",
       "</table>\n",
       "<p>28735 rows × 2 columns</p>\n",
       "</div>"
      ],
      "text/plain": [
       "      ID Сайта  80-й перцентиль по себестоимости\n",
       "0      1000054                          2294.970\n",
       "1      1000091                          4295.000\n",
       "2      1000339                          8124.630\n",
       "3      1000450                        218357.440\n",
       "4      1000593                          3372.440\n",
       "...        ...                               ...\n",
       "28730  8380055                          6384.892\n",
       "28731  8380061                          5253.316\n",
       "28732  8380063                          5590.150\n",
       "28733  8380071                          5440.430\n",
       "28734  8380073                          6003.242\n",
       "\n",
       "[28735 rows x 2 columns]"
      ]
     },
     "execution_count": 24,
     "metadata": {},
     "output_type": "execute_result"
    }
   ],
   "source": [
    "percentile_"
   ]
  },
  {
   "cell_type": "code",
   "execution_count": 25,
   "metadata": {},
   "outputs": [],
   "source": [
    "result = result.merge(percentile_, how='inner', on='ID Сайта')"
   ]
  },
  {
   "cell_type": "code",
   "execution_count": 26,
   "metadata": {},
   "outputs": [
    {
     "data": {
      "text/html": [
       "<div>\n",
       "<style scoped>\n",
       "    .dataframe tbody tr th:only-of-type {\n",
       "        vertical-align: middle;\n",
       "    }\n",
       "\n",
       "    .dataframe tbody tr th {\n",
       "        vertical-align: top;\n",
       "    }\n",
       "\n",
       "    .dataframe thead th {\n",
       "        text-align: right;\n",
       "    }\n",
       "</style>\n",
       "<table border=\"1\" class=\"dataframe\">\n",
       "  <thead>\n",
       "    <tr style=\"text-align: right;\">\n",
       "      <th></th>\n",
       "      <th>ШК</th>\n",
       "      <th>Код склада</th>\n",
       "      <th>Код товара</th>\n",
       "      <th>Артикул поставщика</th>\n",
       "      <th>Внутренний артикул</th>\n",
       "      <th>ID Сайта</th>\n",
       "      <th>Товарное направление</th>\n",
       "      <th>Товарная группа</th>\n",
       "      <th>Товарный кластер</th>\n",
       "      <th>Проба</th>\n",
       "      <th>...</th>\n",
       "      <th>Цена Закупки за 1 шт. (упр сс с НДС за единицу)</th>\n",
       "      <th>Код объекта</th>\n",
       "      <th>Дата закупки</th>\n",
       "      <th>Количество продаж за последние 90 дней</th>\n",
       "      <th>Сумма продаж за последние 90 дней</th>\n",
       "      <th>Опубликован</th>\n",
       "      <th>Ссылка на изображение</th>\n",
       "      <th>Сумма по чистому весу</th>\n",
       "      <th>Сумма по общему весу</th>\n",
       "      <th>80-й перцентиль по себестоимости</th>\n",
       "    </tr>\n",
       "  </thead>\n",
       "  <tbody>\n",
       "    <tr>\n",
       "      <th>0</th>\n",
       "      <td>2078609049701</td>\n",
       "      <td>5705.0</td>\n",
       "      <td>ТОВ1309103</td>\n",
       "      <td>К115-8282Икорс</td>\n",
       "      <td>К115-8282Икорс_ДК</td>\n",
       "      <td>1455900</td>\n",
       "      <td>ДК</td>\n",
       "      <td>ДК КОЛЬЦА</td>\n",
       "      <td>ДК_2036</td>\n",
       "      <td>585</td>\n",
       "      <td>...</td>\n",
       "      <td>11450.59</td>\n",
       "      <td>4-07-015</td>\n",
       "      <td>Новые</td>\n",
       "      <td>36.0</td>\n",
       "      <td>969300.00</td>\n",
       "      <td>True</td>\n",
       "      <td>https://static2.585.cloud/media/products/e75ab...</td>\n",
       "      <td>535.836</td>\n",
       "      <td>592.59</td>\n",
       "      <td>12018.512</td>\n",
       "    </tr>\n",
       "    <tr>\n",
       "      <th>1</th>\n",
       "      <td>2078608278761</td>\n",
       "      <td>5705.0</td>\n",
       "      <td>ТОВ1309367</td>\n",
       "      <td>10-22-И000-80708</td>\n",
       "      <td>10-22-И000-80708_ДК</td>\n",
       "      <td>1426086</td>\n",
       "      <td>ДК</td>\n",
       "      <td>ДК СЕРЬГИ</td>\n",
       "      <td>ДК_2108</td>\n",
       "      <td>585</td>\n",
       "      <td>...</td>\n",
       "      <td>8481.67</td>\n",
       "      <td>4-07-015</td>\n",
       "      <td>Новые</td>\n",
       "      <td>66.0</td>\n",
       "      <td>1477127.00</td>\n",
       "      <td>True</td>\n",
       "      <td>https://static2.585.cloud/media/products/ebfcb...</td>\n",
       "      <td>513.444</td>\n",
       "      <td>548.30</td>\n",
       "      <td>8641.810</td>\n",
       "    </tr>\n",
       "    <tr>\n",
       "      <th>2</th>\n",
       "      <td>2078607997614</td>\n",
       "      <td>5705.0</td>\n",
       "      <td>ТОВ1309977</td>\n",
       "      <td>3158401ГИ</td>\n",
       "      <td>3158401ГИ_ДК</td>\n",
       "      <td>1698328</td>\n",
       "      <td>ДК</td>\n",
       "      <td>ДК ПОДВЕСКИ</td>\n",
       "      <td>ДК_2164</td>\n",
       "      <td>585</td>\n",
       "      <td>...</td>\n",
       "      <td>2423.94</td>\n",
       "      <td>4-07-015</td>\n",
       "      <td>Новые</td>\n",
       "      <td>85.0</td>\n",
       "      <td>537750.00</td>\n",
       "      <td>True</td>\n",
       "      <td>https://static2.585.cloud/media/products/a7dc2...</td>\n",
       "      <td>1249.630</td>\n",
       "      <td>1251.64</td>\n",
       "      <td>2537.690</td>\n",
       "    </tr>\n",
       "    <tr>\n",
       "      <th>3</th>\n",
       "      <td>2078608776919</td>\n",
       "      <td>5705.0</td>\n",
       "      <td>ТОВ1310018</td>\n",
       "      <td>21-33-1000-13435</td>\n",
       "      <td>21-33-1000-13435_ДК</td>\n",
       "      <td>1804661</td>\n",
       "      <td>ДК</td>\n",
       "      <td>ДК ПЕЧАТКИ</td>\n",
       "      <td>ДК_2003</td>\n",
       "      <td>585</td>\n",
       "      <td>...</td>\n",
       "      <td>14895.99</td>\n",
       "      <td>4-07-015</td>\n",
       "      <td>Новые</td>\n",
       "      <td>177.0</td>\n",
       "      <td>6221795.25</td>\n",
       "      <td>True</td>\n",
       "      <td>https://static2.585.cloud/media/products/a829e...</td>\n",
       "      <td>3540.097</td>\n",
       "      <td>3581.14</td>\n",
       "      <td>16159.184</td>\n",
       "    </tr>\n",
       "    <tr>\n",
       "      <th>4</th>\n",
       "      <td>2078608846028</td>\n",
       "      <td>5705.0</td>\n",
       "      <td>ТОВ1310095</td>\n",
       "      <td>ПСбр 1966</td>\n",
       "      <td>ПСбр 1966 _ДК</td>\n",
       "      <td>1041295</td>\n",
       "      <td>ДК</td>\n",
       "      <td>ДК СЕРЬГИ</td>\n",
       "      <td>ДК_2089</td>\n",
       "      <td>585</td>\n",
       "      <td>...</td>\n",
       "      <td>6361.58</td>\n",
       "      <td>4-07-015</td>\n",
       "      <td>Новые</td>\n",
       "      <td>309.0</td>\n",
       "      <td>3060297.96</td>\n",
       "      <td>True</td>\n",
       "      <td>https://static2.585.cloud/media/products/a5d14...</td>\n",
       "      <td>1728.098</td>\n",
       "      <td>1750.94</td>\n",
       "      <td>7032.260</td>\n",
       "    </tr>\n",
       "    <tr>\n",
       "      <th>...</th>\n",
       "      <td>...</td>\n",
       "      <td>...</td>\n",
       "      <td>...</td>\n",
       "      <td>...</td>\n",
       "      <td>...</td>\n",
       "      <td>...</td>\n",
       "      <td>...</td>\n",
       "      <td>...</td>\n",
       "      <td>...</td>\n",
       "      <td>...</td>\n",
       "      <td>...</td>\n",
       "      <td>...</td>\n",
       "      <td>...</td>\n",
       "      <td>...</td>\n",
       "      <td>...</td>\n",
       "      <td>...</td>\n",
       "      <td>...</td>\n",
       "      <td>...</td>\n",
       "      <td>...</td>\n",
       "      <td>...</td>\n",
       "      <td>...</td>\n",
       "    </tr>\n",
       "    <tr>\n",
       "      <th>28730</th>\n",
       "      <td>2078584570552</td>\n",
       "      <td>4745.0</td>\n",
       "      <td>ТОВ1245663</td>\n",
       "      <td>С122-4418ГР</td>\n",
       "      <td>С122-4418ГР_ПДК</td>\n",
       "      <td>1715277</td>\n",
       "      <td>ПДК</td>\n",
       "      <td>ПДК СЕРЬГИ</td>\n",
       "      <td>ДК_2545</td>\n",
       "      <td>585</td>\n",
       "      <td>...</td>\n",
       "      <td>9559.04</td>\n",
       "      <td>2-11-002</td>\n",
       "      <td>Старые</td>\n",
       "      <td>NaN</td>\n",
       "      <td>NaN</td>\n",
       "      <td>NaN</td>\n",
       "      <td>NaN</td>\n",
       "      <td>3.380</td>\n",
       "      <td>3.84</td>\n",
       "      <td>9559.040</td>\n",
       "    </tr>\n",
       "    <tr>\n",
       "      <th>28731</th>\n",
       "      <td>2078584550196</td>\n",
       "      <td>4745.0</td>\n",
       "      <td>ТОВ1245691</td>\n",
       "      <td>С124-6050ТР</td>\n",
       "      <td>С124-6050ТР_ПДК</td>\n",
       "      <td>1992170</td>\n",
       "      <td>ПДК</td>\n",
       "      <td>ПДК СЕРЬГИ</td>\n",
       "      <td>ДК_2554</td>\n",
       "      <td>585</td>\n",
       "      <td>...</td>\n",
       "      <td>10252.97</td>\n",
       "      <td>2-11-002</td>\n",
       "      <td>Старые</td>\n",
       "      <td>NaN</td>\n",
       "      <td>NaN</td>\n",
       "      <td>True</td>\n",
       "      <td>https://static2.585.cloud/media/products/8235a...</td>\n",
       "      <td>3.540</td>\n",
       "      <td>4.02</td>\n",
       "      <td>10252.970</td>\n",
       "    </tr>\n",
       "    <tr>\n",
       "      <th>28732</th>\n",
       "      <td>2078370261091</td>\n",
       "      <td>3963.0</td>\n",
       "      <td>ТОВ1053973</td>\n",
       "      <td>10100030076</td>\n",
       "      <td>10100030076_ДК</td>\n",
       "      <td>2221311</td>\n",
       "      <td>ДК</td>\n",
       "      <td>ДК ПОДВЕСКИ</td>\n",
       "      <td>ДК_2156</td>\n",
       "      <td>585</td>\n",
       "      <td>...</td>\n",
       "      <td>1648.72</td>\n",
       "      <td>2-09-105</td>\n",
       "      <td>Старые</td>\n",
       "      <td>NaN</td>\n",
       "      <td>NaN</td>\n",
       "      <td>NaN</td>\n",
       "      <td>NaN</td>\n",
       "      <td>0.710</td>\n",
       "      <td>0.71</td>\n",
       "      <td>1648.720</td>\n",
       "    </tr>\n",
       "    <tr>\n",
       "      <th>28733</th>\n",
       "      <td>2078584582814</td>\n",
       "      <td>3963.0</td>\n",
       "      <td>ТОВ1245126</td>\n",
       "      <td>К122-4591АМ</td>\n",
       "      <td>К122-4591АМ_ПДК</td>\n",
       "      <td>1185991</td>\n",
       "      <td>ПДК</td>\n",
       "      <td>ПДК КОЛЬЦА</td>\n",
       "      <td>ДК_2511</td>\n",
       "      <td>585</td>\n",
       "      <td>...</td>\n",
       "      <td>5264.31</td>\n",
       "      <td>2-09-105</td>\n",
       "      <td>Старые</td>\n",
       "      <td>NaN</td>\n",
       "      <td>NaN</td>\n",
       "      <td>NaN</td>\n",
       "      <td>NaN</td>\n",
       "      <td>1.850</td>\n",
       "      <td>2.10</td>\n",
       "      <td>5264.310</td>\n",
       "    </tr>\n",
       "    <tr>\n",
       "      <th>28734</th>\n",
       "      <td>2078609683988</td>\n",
       "      <td>3963.0</td>\n",
       "      <td>ТОВ1329155</td>\n",
       "      <td>К120-6077Хд</td>\n",
       "      <td>К120-6077Хд_ПДК</td>\n",
       "      <td>1140913</td>\n",
       "      <td>ПДК</td>\n",
       "      <td>ПДК КОЛЬЦА</td>\n",
       "      <td>ДК_2526</td>\n",
       "      <td>585</td>\n",
       "      <td>...</td>\n",
       "      <td>6231.06</td>\n",
       "      <td>2-09-105</td>\n",
       "      <td>Новые</td>\n",
       "      <td>NaN</td>\n",
       "      <td>NaN</td>\n",
       "      <td>NaN</td>\n",
       "      <td>NaN</td>\n",
       "      <td>1.332</td>\n",
       "      <td>1.39</td>\n",
       "      <td>6231.060</td>\n",
       "    </tr>\n",
       "  </tbody>\n",
       "</table>\n",
       "<p>28735 rows × 35 columns</p>\n",
       "</div>"
      ],
      "text/plain": [
       "                  ШК  Код склада  Код товара Артикул поставщика  \\\n",
       "0      2078609049701      5705.0  ТОВ1309103     К115-8282Икорс   \n",
       "1      2078608278761      5705.0  ТОВ1309367   10-22-И000-80708   \n",
       "2      2078607997614      5705.0  ТОВ1309977          3158401ГИ   \n",
       "3      2078608776919      5705.0  ТОВ1310018   21-33-1000-13435   \n",
       "4      2078608846028      5705.0  ТОВ1310095          ПСбр 1966   \n",
       "...              ...         ...         ...                ...   \n",
       "28730  2078584570552      4745.0  ТОВ1245663        С122-4418ГР   \n",
       "28731  2078584550196      4745.0  ТОВ1245691        С124-6050ТР   \n",
       "28732  2078370261091      3963.0  ТОВ1053973        10100030076   \n",
       "28733  2078584582814      3963.0  ТОВ1245126        К122-4591АМ   \n",
       "28734  2078609683988      3963.0  ТОВ1329155        К120-6077Хд   \n",
       "\n",
       "        Внутренний артикул ID Сайта Товарное направление Товарная группа  \\\n",
       "0        К115-8282Икорс_ДК  1455900                   ДК       ДК КОЛЬЦА   \n",
       "1      10-22-И000-80708_ДК  1426086                   ДК       ДК СЕРЬГИ   \n",
       "2             3158401ГИ_ДК  1698328                   ДК     ДК ПОДВЕСКИ   \n",
       "3      21-33-1000-13435_ДК  1804661                   ДК      ДК ПЕЧАТКИ   \n",
       "4            ПСбр 1966 _ДК  1041295                   ДК       ДК СЕРЬГИ   \n",
       "...                    ...      ...                  ...             ...   \n",
       "28730      С122-4418ГР_ПДК  1715277                  ПДК      ПДК СЕРЬГИ   \n",
       "28731      С124-6050ТР_ПДК  1992170                  ПДК      ПДК СЕРЬГИ   \n",
       "28732       10100030076_ДК  2221311                   ДК     ДК ПОДВЕСКИ   \n",
       "28733      К122-4591АМ_ПДК  1185991                  ПДК      ПДК КОЛЬЦА   \n",
       "28734      К120-6077Хд_ПДК  1140913                  ПДК      ПДК КОЛЬЦА   \n",
       "\n",
       "      Товарный кластер Проба  ...  \\\n",
       "0              ДК_2036   585  ...   \n",
       "1              ДК_2108   585  ...   \n",
       "2              ДК_2164   585  ...   \n",
       "3              ДК_2003   585  ...   \n",
       "4              ДК_2089   585  ...   \n",
       "...                ...   ...  ...   \n",
       "28730          ДК_2545   585  ...   \n",
       "28731          ДК_2554   585  ...   \n",
       "28732          ДК_2156   585  ...   \n",
       "28733          ДК_2511   585  ...   \n",
       "28734          ДК_2526   585  ...   \n",
       "\n",
       "       Цена Закупки за 1 шт. (упр сс с НДС за единицу) Код объекта  \\\n",
       "0                                             11450.59    4-07-015   \n",
       "1                                              8481.67    4-07-015   \n",
       "2                                              2423.94    4-07-015   \n",
       "3                                             14895.99    4-07-015   \n",
       "4                                              6361.58    4-07-015   \n",
       "...                                                ...         ...   \n",
       "28730                                          9559.04    2-11-002   \n",
       "28731                                         10252.97    2-11-002   \n",
       "28732                                          1648.72    2-09-105   \n",
       "28733                                          5264.31    2-09-105   \n",
       "28734                                          6231.06    2-09-105   \n",
       "\n",
       "      Дата закупки Количество продаж за последние 90 дней  \\\n",
       "0            Новые                                   36.0   \n",
       "1            Новые                                   66.0   \n",
       "2            Новые                                   85.0   \n",
       "3            Новые                                  177.0   \n",
       "4            Новые                                  309.0   \n",
       "...            ...                                    ...   \n",
       "28730       Старые                                    NaN   \n",
       "28731       Старые                                    NaN   \n",
       "28732       Старые                                    NaN   \n",
       "28733       Старые                                    NaN   \n",
       "28734        Новые                                    NaN   \n",
       "\n",
       "      Сумма продаж за последние 90 дней Опубликован  \\\n",
       "0                             969300.00        True   \n",
       "1                            1477127.00        True   \n",
       "2                             537750.00        True   \n",
       "3                            6221795.25        True   \n",
       "4                            3060297.96        True   \n",
       "...                                 ...         ...   \n",
       "28730                               NaN         NaN   \n",
       "28731                               NaN        True   \n",
       "28732                               NaN         NaN   \n",
       "28733                               NaN         NaN   \n",
       "28734                               NaN         NaN   \n",
       "\n",
       "                                   Ссылка на изображение  \\\n",
       "0      https://static2.585.cloud/media/products/e75ab...   \n",
       "1      https://static2.585.cloud/media/products/ebfcb...   \n",
       "2      https://static2.585.cloud/media/products/a7dc2...   \n",
       "3      https://static2.585.cloud/media/products/a829e...   \n",
       "4      https://static2.585.cloud/media/products/a5d14...   \n",
       "...                                                  ...   \n",
       "28730                                                NaN   \n",
       "28731  https://static2.585.cloud/media/products/8235a...   \n",
       "28732                                                NaN   \n",
       "28733                                                NaN   \n",
       "28734                                                NaN   \n",
       "\n",
       "      Сумма по чистому весу Сумма по общему весу  \\\n",
       "0                   535.836               592.59   \n",
       "1                   513.444               548.30   \n",
       "2                  1249.630              1251.64   \n",
       "3                  3540.097              3581.14   \n",
       "4                  1728.098              1750.94   \n",
       "...                     ...                  ...   \n",
       "28730                 3.380                 3.84   \n",
       "28731                 3.540                 4.02   \n",
       "28732                 0.710                 0.71   \n",
       "28733                 1.850                 2.10   \n",
       "28734                 1.332                 1.39   \n",
       "\n",
       "       80-й перцентиль по себестоимости  \n",
       "0                             12018.512  \n",
       "1                              8641.810  \n",
       "2                              2537.690  \n",
       "3                             16159.184  \n",
       "4                              7032.260  \n",
       "...                                 ...  \n",
       "28730                          9559.040  \n",
       "28731                         10252.970  \n",
       "28732                          1648.720  \n",
       "28733                          5264.310  \n",
       "28734                          6231.060  \n",
       "\n",
       "[28735 rows x 35 columns]"
      ]
     },
     "execution_count": 26,
     "metadata": {},
     "output_type": "execute_result"
    }
   ],
   "source": [
    "result"
   ]
  },
  {
   "cell_type": "code",
   "execution_count": 27,
   "metadata": {},
   "outputs": [],
   "source": [
    "stock = stock.groupby(by = 'ID Сайта', as_index=False)['Остаток'].sum()\n",
    "result = result.merge(stock, how='left', on='ID Сайта')"
   ]
  },
  {
   "cell_type": "code",
   "execution_count": 28,
   "metadata": {},
   "outputs": [],
   "source": [
    "df['Чистый вес'] = df['Чистый вес'].astype(float)\n",
    "clear_weight = df.groupby(by = 'ID Сайта', as_index=False)['Чистый вес'].agg({'min', 'median', 'max'})\n",
    "clear_weight.rename(columns={'median': 'Чистый вес медиана', 'max': 'Чистый вес макс', 'min': 'Чистый вес мин'}, inplace=True)\n",
    "clear_weight['Чистый вес размах, %'] = (clear_weight['Чистый вес макс'] / clear_weight['Чистый вес мин'] - 1) \n",
    "result = result.merge(clear_weight, how='left', on='ID Сайта')"
   ]
  },
  {
   "cell_type": "code",
   "execution_count": 29,
   "metadata": {},
   "outputs": [],
   "source": [
    "price_birka = df.groupby(by = 'ID Сайта', as_index=False)['Цена Розн., за шт'].agg({'min', 'median', 'max'})\n",
    "price_birka.rename(columns={'median': 'Цена изделия на бирке медиана', 'max': 'Цена изделия на бирке макс', 'min': 'Цена изделия на бирке мин'}, inplace=True)\n",
    "result = result.merge(price_birka, how='left', on='ID Сайта')\n",
    "result['Цена изделия на бирке размах, %'] = (result['Цена изделия на бирке макс'] / result['Цена изделия на бирке мин'] - 1) "
   ]
  },
  {
   "cell_type": "code",
   "execution_count": 30,
   "metadata": {},
   "outputs": [],
   "source": [
    "base_discount = df.groupby(by = 'ID Сайта', as_index=False)['Скидка на изделии'].agg({'min', 'max'})\n",
    "base_discount.rename(columns={'max': 'Базовая скидка макс', 'min': 'Базовая скидка мин'}, inplace=True)\n",
    "result = result.merge(base_discount, how='left', on='ID Сайта')"
   ]
  },
  {
   "cell_type": "code",
   "execution_count": 31,
   "metadata": {},
   "outputs": [],
   "source": [
    "df['Цена со скидками'] = np.where(\n",
    "    df['Запрет скидки'] == 'Да', df['Цена Розн., за шт'], df['Цена Розн., за шт'] * (1-df['Скидка на изделии'] / 100) * 0.8 * 0.6\n",
    ")"
   ]
  },
  {
   "cell_type": "code",
   "execution_count": 32,
   "metadata": {},
   "outputs": [],
   "source": [
    "price_skidki = df.groupby(by = 'ID Сайта', as_index=False)['Цена со скидками'].agg({'min', 'median', 'max'})\n",
    "price_skidki.rename(columns={'median': 'Цена со скидками медиана', 'max': 'Цена со скидками макс', 'min': 'Цена со скидками мин'}, inplace=True)\n",
    "price_skidki['Цена со скидками размах, %'] = (price_skidki['Цена со скидками макс'] / price_skidki['Цена со скидками мин'] - 1) \n",
    "result = result.merge(price_skidki, how='left', on='ID Сайта')"
   ]
  },
  {
   "cell_type": "code",
   "execution_count": 33,
   "metadata": {},
   "outputs": [],
   "source": [
    "selfprice = df.groupby(by = 'ID Сайта', as_index=False)['Цена Закупки за 1 шт. (упр сс с НДС за единицу)'].agg({'min', 'median', 'max'})\n",
    "selfprice.rename(columns={'median': 'Себестоимость медиана', 'max': 'Себестоимость макс', 'min': 'Себестоимость мин'}, inplace=True)\n",
    "selfprice['Себестоимость размах, %'] = (selfprice['Себестоимость макс'] / selfprice['Себестоимость мин'] - 1) \n",
    "result = result.merge(selfprice, how='left', on='ID Сайта')"
   ]
  },
  {
   "cell_type": "code",
   "execution_count": 34,
   "metadata": {},
   "outputs": [],
   "source": [
    "df['Наценка'] = df['Цена со скидками'] / df['Цена Закупки за 1 шт. (упр сс с НДС за единицу)'] - 1\n",
    "markup = df.groupby(by = 'ID Сайта', as_index=False)['Наценка'].agg({'min', 'median', 'max'})\n",
    "markup.rename(columns={'median': 'Наценка медиана', 'max': 'Наценка макс', 'min': 'Наценка мин'}, inplace=True)\n",
    "result = result.merge(markup, how='left', on='ID Сайта')"
   ]
  },
  {
   "cell_type": "code",
   "execution_count": 35,
   "metadata": {},
   "outputs": [],
   "source": [
    "zapret['Артикул сайта'] = zapret['Артикул сайта'].astype(str)\n",
    "zapret = zapret['Артикул сайта'].tolist()\n",
    "\n",
    "result['Запрет к размещению'] = np.nan\n",
    "for i in result.index:\n",
    "    if result['ID Сайта'][i] in zapret:\n",
    "        result['Запрет к размещению'][i] = True\n",
    "    else:\n",
    "        result['Запрет к размещению'][i] = False"
   ]
  },
  {
   "cell_type": "code",
   "execution_count": 36,
   "metadata": {},
   "outputs": [],
   "source": [
    "ecom = pd.read_excel(r'\\\\gold585.int\\uk\\Общее хранилище файлов\\Служба аналитики\\МЮР\\ecom_stock_raw\\Остатки 2024.06.28.xlsx')"
   ]
  },
  {
   "cell_type": "code",
   "execution_count": 37,
   "metadata": {},
   "outputs": [],
   "source": [
    "path = r'\\\\gold585.int\\uk\\Общее хранилище файлов\\Служба аналитики\\Тренкин Сергей\\discounts_zolotoy\\\\'\n",
    "list_of_files = glob.glob(path + '\\*.xlsx') \n",
    "latest_file = max(list_of_files, key=os.path.getctime)\n",
    "\n",
    "discount_ecom = pd.read_excel(latest_file)"
   ]
  },
  {
   "cell_type": "code",
   "execution_count": 38,
   "metadata": {},
   "outputs": [],
   "source": [
    "discount_ecom.columns = ['article', 'Опубликован', 'discount_value_promotions_1','discount_value_promotions_2', 'discount_value_promotions_3','discount_value_promotions_4']\n",
    "ecom = ecom.merge(discount_ecom, how='left', on='article')"
   ]
  },
  {
   "cell_type": "code",
   "execution_count": 39,
   "metadata": {},
   "outputs": [],
   "source": [
    "def discount_index(discount):\n",
    "    try:\n",
    "        return 1 - discount / 100\n",
    "    except:\n",
    "        return 1\n",
    "    \n",
    "ecom.discount_value_promotions_1 = ecom.discount_value_promotions_1.apply(discount_index)\n",
    "\n",
    "ecom['Цена со скидками Ecom'] = np.where(\n",
    "    (ecom['price'] == ecom['discount_price']) & (ecom['discount_value_promotions_1'] == 1), ecom['discount_price'] * ecom['discount_value_promotions_1'], \n",
    "    np.where(\n",
    "        ecom['discount_value_promotions_1'] == 0.5, ecom['discount_price'] * ecom['discount_value_promotions_1'], ecom['discount_price'] * ecom['discount_value_promotions_1'] * 0.8\n",
    "    )\n",
    ")"
   ]
  },
  {
   "cell_type": "code",
   "execution_count": 40,
   "metadata": {},
   "outputs": [],
   "source": [
    "ecom['article'] = ecom['article'].astype(str)\n",
    "ecom = ecom[['article', 'Цена со скидками Ecom']]"
   ]
  },
  {
   "cell_type": "code",
   "execution_count": 41,
   "metadata": {},
   "outputs": [],
   "source": [
    "ecom = ecom.query('article in @ids')\n",
    "ecom.columns = ['ID Сайта', 'Цена со скидками Ecom']\n",
    "result = result.merge(ecom, how='left', on='ID Сайта')"
   ]
  },
  {
   "cell_type": "code",
   "execution_count": 42,
   "metadata": {},
   "outputs": [],
   "source": [
    "df['Сумма в себестоимости на остатках'] = df['Остаток'] * df['Цена Закупки за 1 шт. (упр сс с НДС за единицу)']"
   ]
  },
  {
   "cell_type": "code",
   "execution_count": 43,
   "metadata": {},
   "outputs": [],
   "source": [
    "summa_ost = df.groupby(by ='ID Сайта', as_index=False)['Сумма в себестоимости на остатках'].sum()\n",
    "result = result.merge(summa_ost, how='left', on='ID Сайта')"
   ]
  },
  {
   "cell_type": "code",
   "execution_count": 44,
   "metadata": {},
   "outputs": [],
   "source": [
    "df['Цена за грамм'] = df['Цена со скидками'] / df['Чистый вес']\n",
    "price_per_gramm = df.groupby(by = 'ID Сайта', as_index=False)['Цена за грамм'].agg({'min', 'median', 'max'})\n",
    "price_per_gramm.rename(columns={'median': 'Цена за грамм медиана', 'max': 'Цена за грамм макс', 'min': 'Цена за грамм мин'}, inplace=True)\n",
    "result = result.merge(price_per_gramm, how='left', on='ID Сайта')\n",
    "result['Цена за грамм размах, %'] = (result['Цена за грамм макс'] / result['Цена за грамм мин'] - 1) "
   ]
  },
  {
   "cell_type": "code",
   "execution_count": 45,
   "metadata": {},
   "outputs": [],
   "source": [
    "zapret_sk = df.groupby(by = 'ID Сайта', as_index=False)['Запрет скидки'].count()"
   ]
  },
  {
   "cell_type": "code",
   "execution_count": 46,
   "metadata": {},
   "outputs": [],
   "source": [
    "yes = df[df['Запрет скидки'] == 'Да']\n",
    "no = df[df['Запрет скидки'] == 'Нет']\n",
    "\n",
    "yes = yes.groupby(by = 'ID Сайта', as_index=False)['Запрет скидки'].count()\n",
    "no = no.groupby(by = 'ID Сайта', as_index=False)['Запрет скидки'].count()\n",
    "\n",
    "yes.columns = ['ID Сайта', 'Количество с запрещенной скидкой']\n",
    "no.columns = ['ID Сайта', 'Количество с разрешенной скидкой']\n",
    "\n",
    "yes = yes.merge(no, how='outer', on='ID Сайта')\n",
    "\n",
    "result = result.merge(yes, how='left', on='ID Сайта')"
   ]
  },
  {
   "cell_type": "code",
   "execution_count": 47,
   "metadata": {},
   "outputs": [],
   "source": [
    "result = result.drop_duplicates(subset=['ID Сайта'])"
   ]
  },
  {
   "cell_type": "code",
   "execution_count": 48,
   "metadata": {},
   "outputs": [],
   "source": [
    "result['Размах по весу'] = np.where(\n",
    "    result['Чистый вес размах, %'] >= 0.3, '3. Большой размах (>30%)',\n",
    "    np.where(\n",
    "        result['Чистый вес размах, %'] >= 0.1, '2. Средний размах (10-30%)', '1. Небольшой размах (<10%)'\n",
    "    )\n",
    ")\n",
    "\n",
    "result['Размах по себестоимости'] = np.where(\n",
    "    result['Себестоимость размах, %'] >= 0.5, '3. Большой размах (>50%)',\n",
    "    np.where(\n",
    "        result['Себестоимость размах, %'] >= 0.2, '2. Средний размах (20-50%)', '1. Небольшой размах (<10%)'\n",
    "    )\n",
    ")\n",
    "\n",
    "result['Размах по цене со скидками'] = np.where(\n",
    "    result['Цена со скидками размах, %'] >= 0.5, '3. Большой размах (>50%)',\n",
    "    np.where(\n",
    "        result['Цена со скидками размах, %'] >= 0.2, '2. Средний размах (20-50%)', '1. Небольшой размах (<10%)'\n",
    "    )\n",
    ")\n",
    "\n",
    "result['Размах по цене за грамм'] = np.where(\n",
    "    result['Цена за грамм размах, %'] >= 0.3, '3. Большой размах (>30%)',\n",
    "    np.where(\n",
    "        result['Цена за грамм размах, %'] >= 0.1, '2. Средний размах (10-30%)', '1. Небольшой размах (<10%)'\n",
    "    )\n",
    ")\n",
    "\n",
    "result['Размах цена изделия на бирке'] = np.where(\n",
    "    result['Цена изделия на бирке размах, %'] >= 0.5, '3. Большой размах (>50%)',\n",
    "    np.where(\n",
    "        result['Цена изделия на бирке размах, %'] >= 0.2, '2. Средний размах (20-50%)', '1. Небольшой размах (<20%)'\n",
    "    )\n",
    ")"
   ]
  },
  {
   "cell_type": "code",
   "execution_count": 49,
   "metadata": {},
   "outputs": [],
   "source": [
    "result['Скидка разрешена'] = result['Количество с запрещенной скидкой'] + result['Количество с разрешенной скидкой']\n",
    "\n",
    "result['Скидка разрешена'] = np.where(\n",
    "    result['Скидка разрешена'].astype(str).str.contains('nan'), 'Да или нет', 'Да и нет'\n",
    ")"
   ]
  },
  {
   "cell_type": "code",
   "execution_count": 50,
   "metadata": {},
   "outputs": [
    {
     "data": {
      "text/plain": [
       "Index(['ШК', 'Код склада', 'Код товара', 'Артикул поставщика',\n",
       "       'Внутренний артикул', 'ID Сайта', 'Товарное направление',\n",
       "       'Товарная группа', 'Товарный кластер', 'Проба', 'Размер изделия',\n",
       "       'Тип изделия 1', 'Тип изделия 2', 'Тип изделия 3', 'Дизайн', 'Бренд',\n",
       "       'Гендерный признак', 'Ценовая корзина', 'Группа цен',\n",
       "       'Цена Розн., за шт', 'Чистый вес', 'Общий вес', 'Цена изделия на бирке',\n",
       "       'Скидка на изделии', 'Запрет скидки',\n",
       "       'Цена Закупки за 1 шт. (упр сс с НДС за единицу)', 'Код объекта',\n",
       "       'Дата закупки', 'Количество продаж за последние 90 дней',\n",
       "       'Сумма продаж за последние 90 дней', 'Опубликован',\n",
       "       'Ссылка на изображение', 'Сумма по чистому весу',\n",
       "       'Сумма по общему весу', '80-й перцентиль по себестоимости', 'Остаток',\n",
       "       'Чистый вес макс', 'Чистый вес медиана', 'Чистый вес мин',\n",
       "       'Чистый вес размах, %', 'Цена изделия на бирке макс',\n",
       "       'Цена изделия на бирке медиана', 'Цена изделия на бирке мин',\n",
       "       'Цена изделия на бирке размах, %', 'Базовая скидка макс',\n",
       "       'Базовая скидка мин', 'Цена со скидками макс',\n",
       "       'Цена со скидками медиана', 'Цена со скидками мин',\n",
       "       'Цена со скидками размах, %', 'Себестоимость макс',\n",
       "       'Себестоимость медиана', 'Себестоимость мин', 'Себестоимость размах, %',\n",
       "       'Наценка макс', 'Наценка медиана', 'Наценка мин', 'Запрет к размещению',\n",
       "       'Цена со скидками Ecom', 'Сумма в себестоимости на остатках',\n",
       "       'Цена за грамм макс', 'Цена за грамм медиана', 'Цена за грамм мин',\n",
       "       'Цена за грамм размах, %', 'Количество с запрещенной скидкой',\n",
       "       'Количество с разрешенной скидкой', 'Размах по весу',\n",
       "       'Размах по себестоимости', 'Размах по цене со скидками',\n",
       "       'Размах по цене за грамм', 'Размах цена изделия на бирке',\n",
       "       'Скидка разрешена'],\n",
       "      dtype='object')"
      ]
     },
     "execution_count": 50,
     "metadata": {},
     "output_type": "execute_result"
    }
   ],
   "source": [
    "result.columns\n"
   ]
  },
  {
   "cell_type": "code",
   "execution_count": 51,
   "metadata": {},
   "outputs": [],
   "source": [
    "result = result.drop(columns = ['ШК', 'Код склада', 'Код объекта', 'Чистый вес', 'Цена изделия на бирке', 'Размер изделия', 'Общий вес', 'Скидка на изделии', 'Запрет скидки', 'Цена Закупки за 1 шт. (упр сс с НДС за единицу)',\n",
    "                                'Запрет скидки', 'Цена Розн., за шт', 'Код товара'])"
   ]
  },
  {
   "cell_type": "code",
   "execution_count": 52,
   "metadata": {},
   "outputs": [],
   "source": [
    "tov = result.groupby(by = 'Товарная группа')['Остаток'].sum()\n",
    "tov_sales = result.groupby(by = 'Товарная группа')['Количество продаж за последние 90 дней'].sum()\n",
    "\n",
    "result['Доля % остатка ID отосительно остатка ТГ'] = np.nan\n",
    "for i in result.index: \n",
    "    t = result['Товарная группа'][i]\n",
    "    result['Доля % остатка ID отосительно остатка ТГ'][i] = result['Остаток'][i] / tov[t] \n",
    "    \n",
    "    \n",
    "result['Доля % относительно продаж ТГ за последние 90 дней'] = np.nan\n",
    "for i in result.index: \n",
    "    t = result['Товарная группа'][i]\n",
    "    result['Доля % относительно продаж ТГ за последние 90 дней'][i] = result['Количество продаж за последние 90 дней'][i] / tov_sales[t] "
   ]
  },
  {
   "cell_type": "code",
   "execution_count": 54,
   "metadata": {},
   "outputs": [],
   "source": [
    "result.to_excel(r'C:\\Users\\Trenkin.Sergey\\Desktop\\notebooks\\result.xlsx', index=False)"
   ]
  },
  {
   "cell_type": "code",
   "execution_count": null,
   "metadata": {},
   "outputs": [],
   "source": [
    "date_today = dt.datetime.today().strftime('%Y-%m-%d')"
   ]
  },
  {
   "cell_type": "code",
   "execution_count": null,
   "metadata": {},
   "outputs": [],
   "source": [
    "result.to_excel(rf'\\\\gold585.int\\uk\\Общее хранилище файлов\\Служба аналитики\\Тренкин Сергей\\Исследование цен\\\\Исследование цен в разрезе ID {date_today}.xlsx', index=False)\n",
    "# for tn in result['Товарное направление'].unique().tolist():\n",
    "#     result[result['Товарное направление'] == tn].\\\n",
    "#         to_excel(rf'\\\\gold585.int\\uk\\Общее хранилище файлов\\Служба аналитики\\Тренкин Сергей\\Исследование цен\\Исследование цен для {tn} в разрезе ID {date_today}.xlsx', index=False)"
   ]
  },
  {
   "cell_type": "code",
   "execution_count": null,
   "metadata": {},
   "outputs": [],
   "source": []
  }
 ],
 "metadata": {
  "kernelspec": {
   "display_name": "Python 3",
   "language": "python",
   "name": "python3"
  },
  "language_info": {
   "codemirror_mode": {
    "name": "ipython",
    "version": 3
   },
   "file_extension": ".py",
   "mimetype": "text/x-python",
   "name": "python",
   "nbconvert_exporter": "python",
   "pygments_lexer": "ipython3",
   "version": "3.12.4"
  }
 },
 "nbformat": 4,
 "nbformat_minor": 2
}
