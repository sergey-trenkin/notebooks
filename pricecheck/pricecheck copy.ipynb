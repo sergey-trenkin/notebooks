{
 "cells": [
  {
   "cell_type": "code",
   "execution_count": 1,
   "metadata": {},
   "outputs": [],
   "source": [
    "from tqdm import tqdm\n",
    "import datetime as dt\n",
    "import pymssql\n",
    "import pandas as pd\n",
    "import numpy as np\n",
    "import warnings\n",
    "import glob \n",
    "import os\n",
    "\n",
    "warnings.filterwarnings('ignore')"
   ]
  },
  {
   "cell_type": "code",
   "execution_count": null,
   "metadata": {},
   "outputs": [],
   "source": [
    "conn = pymssql.connect(server='AX-SQL', database='Staging')\n",
    "cursor = conn.cursor()\n",
    "\n",
    "sql = f'''\n",
    "SELECT [Код склада], [Код товара], [Артикул поставщика], [Внутренний артикул], [ID Сайта], [Товарное направление],\n",
    "[Товарная группа], [Товарный кластер], [Проба], [Размер изделия], [Тип изделия 1], [Тип изделия 2],\n",
    "[Тип изделия 3], [Дизайн], [Бренд], [Гендерный признак], [Ценовая корзина], [Группа цен], [Остаток], [Цена Розн., за шт],\n",
    "[Чистый вес], [Цена изделия на бирке], [Скидка на изделии], [Запрет скидки], [Цена Закупки за 1 шт. (упр сс с НДС за единицу)], [Дата закупки]\n",
    "from [Staging].[Reports].[Remainings_8h]\n",
    "where [Товарное направление] in (N'БК', N'ЦБ', N'ИФ', N'ПДК', N'ДК')\n",
    "'''\n",
    "\n",
    "sql_query = pd.read_sql_query(sql, conn)\n",
    "stock = pd.DataFrame(sql_query)"
   ]
  },
  {
   "cell_type": "code",
   "execution_count": 5,
   "metadata": {},
   "outputs": [
    {
     "data": {
      "text/html": [
       "<div>\n",
       "<style scoped>\n",
       "    .dataframe tbody tr th:only-of-type {\n",
       "        vertical-align: middle;\n",
       "    }\n",
       "\n",
       "    .dataframe tbody tr th {\n",
       "        vertical-align: top;\n",
       "    }\n",
       "\n",
       "    .dataframe thead th {\n",
       "        text-align: right;\n",
       "    }\n",
       "</style>\n",
       "<table border=\"1\" class=\"dataframe\">\n",
       "  <thead>\n",
       "    <tr style=\"text-align: right;\">\n",
       "      <th></th>\n",
       "      <th>Код склада</th>\n",
       "      <th>Код товара</th>\n",
       "      <th>Артикул поставщика</th>\n",
       "      <th>Внутренний артикул</th>\n",
       "      <th>ID Сайта</th>\n",
       "      <th>Товарное направление</th>\n",
       "      <th>Товарная группа</th>\n",
       "      <th>Товарный кластер</th>\n",
       "      <th>Проба</th>\n",
       "      <th>Размер изделия</th>\n",
       "      <th>...</th>\n",
       "      <th>Ценовая корзина</th>\n",
       "      <th>Группа цен</th>\n",
       "      <th>Остаток</th>\n",
       "      <th>Цена Розн., за шт</th>\n",
       "      <th>Чистый вес</th>\n",
       "      <th>Цена изделия на бирке</th>\n",
       "      <th>Скидка на изделии</th>\n",
       "      <th>Запрет скидки</th>\n",
       "      <th>Цена Закупки за 1 шт. (упр сс с НДС за единицу)</th>\n",
       "      <th>Дата закупки</th>\n",
       "    </tr>\n",
       "  </thead>\n",
       "  <tbody>\n",
       "    <tr>\n",
       "      <th>0</th>\n",
       "      <td>3907</td>\n",
       "      <td>ТОВ0891348</td>\n",
       "      <td>КО 06-00</td>\n",
       "      <td>КО 06-00_БК</td>\n",
       "      <td>2014579</td>\n",
       "      <td>БК</td>\n",
       "      <td>БК КОЛЬЦА ОБРУЧ</td>\n",
       "      <td>БК_1521</td>\n",
       "      <td>585</td>\n",
       "      <td>18.5</td>\n",
       "      <td>...</td>\n",
       "      <td>ДОРОГАЯ</td>\n",
       "      <td>ИФ.БК_ДОР</td>\n",
       "      <td>1.0</td>\n",
       "      <td>54890.0</td>\n",
       "      <td>3.780</td>\n",
       "      <td>46872.0</td>\n",
       "      <td>15.0</td>\n",
       "      <td>Нет</td>\n",
       "      <td>5703.26</td>\n",
       "      <td>None</td>\n",
       "    </tr>\n",
       "    <tr>\n",
       "      <th>1</th>\n",
       "      <td>3907</td>\n",
       "      <td>ТОВ0891350</td>\n",
       "      <td>КО 06-00</td>\n",
       "      <td>КО 06-00_БК</td>\n",
       "      <td>2014579</td>\n",
       "      <td>БК</td>\n",
       "      <td>БК КОЛЬЦА ОБРУЧ</td>\n",
       "      <td>БК_1521</td>\n",
       "      <td>585</td>\n",
       "      <td>19.5</td>\n",
       "      <td>...</td>\n",
       "      <td>ДОРОГАЯ</td>\n",
       "      <td>ИФ.БК_ДОР</td>\n",
       "      <td>1.0</td>\n",
       "      <td>52364.0</td>\n",
       "      <td>3.460</td>\n",
       "      <td>42904.0</td>\n",
       "      <td>25.0</td>\n",
       "      <td>Нет</td>\n",
       "      <td>10044.26</td>\n",
       "      <td>2022-10-04</td>\n",
       "    </tr>\n",
       "    <tr>\n",
       "      <th>2</th>\n",
       "      <td>3907</td>\n",
       "      <td>ТОВ0891352</td>\n",
       "      <td>КО 06-00</td>\n",
       "      <td>КО 06-00_БК</td>\n",
       "      <td>2014579</td>\n",
       "      <td>БК</td>\n",
       "      <td>БК КОЛЬЦА ОБРУЧ</td>\n",
       "      <td>БК_1521</td>\n",
       "      <td>585</td>\n",
       "      <td>21.0</td>\n",
       "      <td>...</td>\n",
       "      <td>ДОРОГАЯ</td>\n",
       "      <td>ИФ.БК_ДОР</td>\n",
       "      <td>1.0</td>\n",
       "      <td>65800.0</td>\n",
       "      <td>3.760</td>\n",
       "      <td>65800.0</td>\n",
       "      <td>20.0</td>\n",
       "      <td>Нет</td>\n",
       "      <td>12704.81</td>\n",
       "      <td>2024-05-14</td>\n",
       "    </tr>\n",
       "    <tr>\n",
       "      <th>3</th>\n",
       "      <td>3907</td>\n",
       "      <td>ТОВ0891353</td>\n",
       "      <td>КО 06-00</td>\n",
       "      <td>КО 06-00_БК</td>\n",
       "      <td>2014579</td>\n",
       "      <td>БК</td>\n",
       "      <td>БК КОЛЬЦА ОБРУЧ</td>\n",
       "      <td>БК_1521</td>\n",
       "      <td>585</td>\n",
       "      <td>21.5</td>\n",
       "      <td>...</td>\n",
       "      <td>ДОРОГАЯ</td>\n",
       "      <td>ИФ.БК_ДОР</td>\n",
       "      <td>1.0</td>\n",
       "      <td>70700.0</td>\n",
       "      <td>4.039</td>\n",
       "      <td>70700.0</td>\n",
       "      <td>20.0</td>\n",
       "      <td>Нет</td>\n",
       "      <td>13768.60</td>\n",
       "      <td>2024-05-31</td>\n",
       "    </tr>\n",
       "    <tr>\n",
       "      <th>4</th>\n",
       "      <td>3907</td>\n",
       "      <td>ТОВ0891354</td>\n",
       "      <td>КО 06-00</td>\n",
       "      <td>КО 06-00_БК</td>\n",
       "      <td>2014579</td>\n",
       "      <td>БК</td>\n",
       "      <td>БК КОЛЬЦА ОБРУЧ</td>\n",
       "      <td>БК_1521</td>\n",
       "      <td>585</td>\n",
       "      <td>22.0</td>\n",
       "      <td>...</td>\n",
       "      <td>ДОРОГАЯ</td>\n",
       "      <td>ИФ.БК_ДОР</td>\n",
       "      <td>1.0</td>\n",
       "      <td>63700.0</td>\n",
       "      <td>3.640</td>\n",
       "      <td>63700.0</td>\n",
       "      <td>20.0</td>\n",
       "      <td>Нет</td>\n",
       "      <td>12641.13</td>\n",
       "      <td>2024-05-31</td>\n",
       "    </tr>\n",
       "    <tr>\n",
       "      <th>...</th>\n",
       "      <td>...</td>\n",
       "      <td>...</td>\n",
       "      <td>...</td>\n",
       "      <td>...</td>\n",
       "      <td>...</td>\n",
       "      <td>...</td>\n",
       "      <td>...</td>\n",
       "      <td>...</td>\n",
       "      <td>...</td>\n",
       "      <td>...</td>\n",
       "      <td>...</td>\n",
       "      <td>...</td>\n",
       "      <td>...</td>\n",
       "      <td>...</td>\n",
       "      <td>...</td>\n",
       "      <td>...</td>\n",
       "      <td>...</td>\n",
       "      <td>...</td>\n",
       "      <td>...</td>\n",
       "      <td>...</td>\n",
       "      <td>...</td>\n",
       "    </tr>\n",
       "    <tr>\n",
       "      <th>3569483</th>\n",
       "      <td>4443</td>\n",
       "      <td>ТОВ1186512</td>\n",
       "      <td>НЦ12-200ПГ D0,4</td>\n",
       "      <td>НЦ12-200ПГ D0,4_ЦБ</td>\n",
       "      <td>1741627</td>\n",
       "      <td>ЦБ</td>\n",
       "      <td>ЦБ ЦЕПИ</td>\n",
       "      <td>7146_ЦБ</td>\n",
       "      <td>585</td>\n",
       "      <td>50.0</td>\n",
       "      <td>...</td>\n",
       "      <td>ДЕШЕВАЯ</td>\n",
       "      <td>ЦБ_ПУСТОТЕЛЫЕ &lt;=3 ГРАММ</td>\n",
       "      <td>1.0</td>\n",
       "      <td>41580.0</td>\n",
       "      <td>2.088</td>\n",
       "      <td>41580.0</td>\n",
       "      <td>22.0</td>\n",
       "      <td>Нет</td>\n",
       "      <td>7779.57</td>\n",
       "      <td>2024-05-19</td>\n",
       "    </tr>\n",
       "    <tr>\n",
       "      <th>3569484</th>\n",
       "      <td>4443</td>\n",
       "      <td>ТОВ1186513</td>\n",
       "      <td>НЦ12-200ПГ D0,40</td>\n",
       "      <td>НЦ12-200ПГ D0,40_ЦБ</td>\n",
       "      <td>1741627</td>\n",
       "      <td>ЦБ</td>\n",
       "      <td>ЦБ ЦЕПИ</td>\n",
       "      <td>7147_ЦБ</td>\n",
       "      <td>585</td>\n",
       "      <td>55.0</td>\n",
       "      <td>...</td>\n",
       "      <td>ДЕШЕВАЯ</td>\n",
       "      <td>ЦБ_ПУСТОТЕЛЫЕ &lt;=3 ГРАММ</td>\n",
       "      <td>1.0</td>\n",
       "      <td>43456.0</td>\n",
       "      <td>2.231</td>\n",
       "      <td>43456.0</td>\n",
       "      <td>20.0</td>\n",
       "      <td>Нет</td>\n",
       "      <td>7749.93</td>\n",
       "      <td>2023-12-17</td>\n",
       "    </tr>\n",
       "    <tr>\n",
       "      <th>3569485</th>\n",
       "      <td>4443</td>\n",
       "      <td>ТОВ1187325</td>\n",
       "      <td>30-01-0030-30087</td>\n",
       "      <td>310-01-0030-30087_ЦБ</td>\n",
       "      <td>1860003</td>\n",
       "      <td>ЦБ</td>\n",
       "      <td>ЦБ ЦЕПИ</td>\n",
       "      <td>7131_ЦБ</td>\n",
       "      <td>585</td>\n",
       "      <td>50.0</td>\n",
       "      <td>...</td>\n",
       "      <td>ДЕШЕВАЯ</td>\n",
       "      <td>ЦБ_АВТОМАТ &lt;=3 ГРАММ</td>\n",
       "      <td>1.0</td>\n",
       "      <td>43290.0</td>\n",
       "      <td>2.600</td>\n",
       "      <td>43290.0</td>\n",
       "      <td>26.0</td>\n",
       "      <td>Нет</td>\n",
       "      <td>6832.26</td>\n",
       "      <td>2022-12-26</td>\n",
       "    </tr>\n",
       "    <tr>\n",
       "      <th>3569486</th>\n",
       "      <td>4443</td>\n",
       "      <td>ТОВ1187559</td>\n",
       "      <td>052143421</td>\n",
       "      <td>052143421_ДК</td>\n",
       "      <td>1321084</td>\n",
       "      <td>ДК</td>\n",
       "      <td>ДК ПОДВЕСКИ</td>\n",
       "      <td>ДК_2155</td>\n",
       "      <td>585</td>\n",
       "      <td>0.0</td>\n",
       "      <td>...</td>\n",
       "      <td>ДЕШЕВАЯ</td>\n",
       "      <td>ДК_ДЕШЕВАЯ</td>\n",
       "      <td>1.0</td>\n",
       "      <td>31692.0</td>\n",
       "      <td>0.690</td>\n",
       "      <td>24403.0</td>\n",
       "      <td>62.0</td>\n",
       "      <td>Нет</td>\n",
       "      <td>2711.49</td>\n",
       "      <td>None</td>\n",
       "    </tr>\n",
       "    <tr>\n",
       "      <th>3569487</th>\n",
       "      <td>4443</td>\n",
       "      <td>ТОВ1187631</td>\n",
       "      <td>2125007 1 1 1</td>\n",
       "      <td>2125007 1 1 1_ИФ</td>\n",
       "      <td>1187467</td>\n",
       "      <td>ИФ</td>\n",
       "      <td>ИФ СЕРЬГИ</td>\n",
       "      <td>ИФ_1047</td>\n",
       "      <td>585</td>\n",
       "      <td>0.0</td>\n",
       "      <td>...</td>\n",
       "      <td>СРЕДНЯЯ</td>\n",
       "      <td>ИФ.БК_СР</td>\n",
       "      <td>1.0</td>\n",
       "      <td>42329.0</td>\n",
       "      <td>2.410</td>\n",
       "      <td>38682.0</td>\n",
       "      <td>24.0</td>\n",
       "      <td>Нет</td>\n",
       "      <td>6054.86</td>\n",
       "      <td>None</td>\n",
       "    </tr>\n",
       "  </tbody>\n",
       "</table>\n",
       "<p>3569488 rows × 26 columns</p>\n",
       "</div>"
      ],
      "text/plain": [
       "        Код склада  Код товара Артикул поставщика    Внутренний артикул  \\\n",
       "0             3907  ТОВ0891348           КО 06-00           КО 06-00_БК   \n",
       "1             3907  ТОВ0891350           КО 06-00           КО 06-00_БК   \n",
       "2             3907  ТОВ0891352           КО 06-00           КО 06-00_БК   \n",
       "3             3907  ТОВ0891353           КО 06-00           КО 06-00_БК   \n",
       "4             3907  ТОВ0891354           КО 06-00           КО 06-00_БК   \n",
       "...            ...         ...                ...                   ...   \n",
       "3569483       4443  ТОВ1186512    НЦ12-200ПГ D0,4    НЦ12-200ПГ D0,4_ЦБ   \n",
       "3569484       4443  ТОВ1186513   НЦ12-200ПГ D0,40   НЦ12-200ПГ D0,40_ЦБ   \n",
       "3569485       4443  ТОВ1187325   30-01-0030-30087  310-01-0030-30087_ЦБ   \n",
       "3569486       4443  ТОВ1187559          052143421          052143421_ДК   \n",
       "3569487       4443  ТОВ1187631      2125007 1 1 1      2125007 1 1 1_ИФ   \n",
       "\n",
       "        ID Сайта Товарное направление  Товарная группа Товарный кластер Проба  \\\n",
       "0        2014579                   БК  БК КОЛЬЦА ОБРУЧ          БК_1521   585   \n",
       "1        2014579                   БК  БК КОЛЬЦА ОБРУЧ          БК_1521   585   \n",
       "2        2014579                   БК  БК КОЛЬЦА ОБРУЧ          БК_1521   585   \n",
       "3        2014579                   БК  БК КОЛЬЦА ОБРУЧ          БК_1521   585   \n",
       "4        2014579                   БК  БК КОЛЬЦА ОБРУЧ          БК_1521   585   \n",
       "...          ...                  ...              ...              ...   ...   \n",
       "3569483  1741627                   ЦБ          ЦБ ЦЕПИ          7146_ЦБ   585   \n",
       "3569484  1741627                   ЦБ          ЦБ ЦЕПИ          7147_ЦБ   585   \n",
       "3569485  1860003                   ЦБ          ЦБ ЦЕПИ          7131_ЦБ   585   \n",
       "3569486  1321084                   ДК      ДК ПОДВЕСКИ          ДК_2155   585   \n",
       "3569487  1187467                   ИФ        ИФ СЕРЬГИ          ИФ_1047   585   \n",
       "\n",
       "         Размер изделия  ... Ценовая корзина               Группа цен Остаток  \\\n",
       "0                  18.5  ...         ДОРОГАЯ                ИФ.БК_ДОР     1.0   \n",
       "1                  19.5  ...         ДОРОГАЯ                ИФ.БК_ДОР     1.0   \n",
       "2                  21.0  ...         ДОРОГАЯ                ИФ.БК_ДОР     1.0   \n",
       "3                  21.5  ...         ДОРОГАЯ                ИФ.БК_ДОР     1.0   \n",
       "4                  22.0  ...         ДОРОГАЯ                ИФ.БК_ДОР     1.0   \n",
       "...                 ...  ...             ...                      ...     ...   \n",
       "3569483            50.0  ...         ДЕШЕВАЯ  ЦБ_ПУСТОТЕЛЫЕ <=3 ГРАММ     1.0   \n",
       "3569484            55.0  ...         ДЕШЕВАЯ  ЦБ_ПУСТОТЕЛЫЕ <=3 ГРАММ     1.0   \n",
       "3569485            50.0  ...         ДЕШЕВАЯ     ЦБ_АВТОМАТ <=3 ГРАММ     1.0   \n",
       "3569486             0.0  ...         ДЕШЕВАЯ               ДК_ДЕШЕВАЯ     1.0   \n",
       "3569487             0.0  ...         СРЕДНЯЯ                 ИФ.БК_СР     1.0   \n",
       "\n",
       "        Цена Розн., за шт Чистый вес Цена изделия на бирке Скидка на изделии  \\\n",
       "0                 54890.0      3.780               46872.0              15.0   \n",
       "1                 52364.0      3.460               42904.0              25.0   \n",
       "2                 65800.0      3.760               65800.0              20.0   \n",
       "3                 70700.0      4.039               70700.0              20.0   \n",
       "4                 63700.0      3.640               63700.0              20.0   \n",
       "...                   ...        ...                   ...               ...   \n",
       "3569483           41580.0      2.088               41580.0              22.0   \n",
       "3569484           43456.0      2.231               43456.0              20.0   \n",
       "3569485           43290.0      2.600               43290.0              26.0   \n",
       "3569486           31692.0      0.690               24403.0              62.0   \n",
       "3569487           42329.0      2.410               38682.0              24.0   \n",
       "\n",
       "        Запрет скидки  Цена Закупки за 1 шт. (упр сс с НДС за единицу)  \\\n",
       "0                 Нет                                          5703.26   \n",
       "1                 Нет                                         10044.26   \n",
       "2                 Нет                                         12704.81   \n",
       "3                 Нет                                         13768.60   \n",
       "4                 Нет                                         12641.13   \n",
       "...               ...                                              ...   \n",
       "3569483           Нет                                          7779.57   \n",
       "3569484           Нет                                          7749.93   \n",
       "3569485           Нет                                          6832.26   \n",
       "3569486           Нет                                          2711.49   \n",
       "3569487           Нет                                          6054.86   \n",
       "\n",
       "         Дата закупки  \n",
       "0                None  \n",
       "1          2022-10-04  \n",
       "2          2024-05-14  \n",
       "3          2024-05-31  \n",
       "4          2024-05-31  \n",
       "...               ...  \n",
       "3569483    2024-05-19  \n",
       "3569484    2023-12-17  \n",
       "3569485    2022-12-26  \n",
       "3569486          None  \n",
       "3569487          None  \n",
       "\n",
       "[3569488 rows x 26 columns]"
      ]
     },
     "execution_count": 5,
     "metadata": {},
     "output_type": "execute_result"
    }
   ],
   "source": [
    "stock "
   ]
  },
  {
   "cell_type": "code",
   "execution_count": 3,
   "metadata": {},
   "outputs": [],
   "source": [
    "images = pd.read_excel(r'C:\\Users\\Trenkin.Sergey\\Desktop\\Артикул-фото 2024.06.11_.xlsx')\n",
    "zapret = pd.read_excel(r'C:\\Users\\Trenkin.Sergey\\Desktop\\запрет Артикулы к размещению.xlsx')\n",
    "objects = pd.read_excel(r'C:\\Users\\Trenkin.Sergey\\Desktop\\Книга11.xlsx')"
   ]
  },
  {
   "cell_type": "code",
   "execution_count": 4,
   "metadata": {},
   "outputs": [],
   "source": [
    "stock.drop_duplicates(inplace = True)"
   ]
  },
  {
   "cell_type": "code",
   "execution_count": 5,
   "metadata": {},
   "outputs": [
    {
     "name": "stderr",
     "output_type": "stream",
     "text": [
      "  0%|          | 0/13 [00:00<?, ?it/s]"
     ]
    },
    {
     "name": "stderr",
     "output_type": "stream",
     "text": [
      "100%|██████████| 13/13 [14:04<00:00, 64.97s/it]\n"
     ]
    }
   ],
   "source": [
    "os.chdir(r'C:\\\\Users\\Trenkin.Sergey\\Desktop\\sales')\n",
    "extension = 'xlsx'\n",
    "all_sales = [i for i in glob.glob('*.{}'.format(extension))]\n",
    "\n",
    "sale = pd.DataFrame()\n",
    "for name in tqdm(all_sales):\n",
    "    sales = pd.read_excel(name)\n",
    "    sale = pd.concat([sales, sale], ignore_index= True)"
   ]
  },
  {
   "cell_type": "code",
   "execution_count": 6,
   "metadata": {},
   "outputs": [],
   "source": [
    "objects_with_sales = objects['Код объекта'].unique().tolist()\n",
    "\n",
    "sale = sale.query('КБК in @objects_with_sales')\n",
    "sale = sale[(sale['Дата'] >= pd.to_datetime('2024-03-14', dayfirst=True, format='mixed')) & \n",
    "            (sale['Дата'] <= pd.to_datetime('2024-06-24', dayfirst=True, format='mixed'))]"
   ]
  },
  {
   "cell_type": "code",
   "execution_count": 7,
   "metadata": {},
   "outputs": [],
   "source": [
    "compare_tov_id = stock[['Код товара', 'ID Сайта']]\n",
    "compare_tov_id.columns = ['Тов', 'ID Сайта']"
   ]
  },
  {
   "cell_type": "code",
   "execution_count": 8,
   "metadata": {},
   "outputs": [],
   "source": [
    "compare_tov_id.drop_duplicates(subset=['Тов'], inplace=True)"
   ]
  },
  {
   "cell_type": "code",
   "execution_count": 9,
   "metadata": {},
   "outputs": [],
   "source": [
    "sale = sale.merge(compare_tov_id, how='left', on='Тов')\n",
    "sale = sale.drop(columns=['Тов'])\n",
    "sale = sale[['ID Сайта', 'Количество', 'Общая сумма']]\n",
    "sale.dropna(inplace=True)\n",
    "sale = sale.groupby(by = 'ID Сайта', as_index=False)[['Количество', 'Общая сумма']].sum()\n",
    "sale.columns = ['ID Сайта', 'Количество продаж 14.03-24.06', 'Сумма продаж 14.03-24.06']"
   ]
  },
  {
   "cell_type": "code",
   "execution_count": 10,
   "metadata": {},
   "outputs": [],
   "source": [
    "result = stock.drop_duplicates(subset=['ID Сайта'])\n",
    "result = result.merge(sale, how='outer', on='ID Сайта')"
   ]
  },
  {
   "cell_type": "code",
   "execution_count": 11,
   "metadata": {},
   "outputs": [],
   "source": [
    "ids = result['ID Сайта'].dropna().tolist()"
   ]
  },
  {
   "cell_type": "code",
   "execution_count": 12,
   "metadata": {},
   "outputs": [],
   "source": [
    "images['article'] = images['article'].astype(str)\n",
    "images = images.query('article in @ids')"
   ]
  },
  {
   "cell_type": "code",
   "execution_count": 13,
   "metadata": {},
   "outputs": [],
   "source": [
    "images = images[['article', 'published', 'Ссылка на изображение']]\n",
    "images.columns = ['ID Сайта', 'Опубликован', 'Ссылка на изображение']\n",
    "result = result.merge(images, how='outer', on='ID Сайта')"
   ]
  },
  {
   "cell_type": "code",
   "execution_count": 14,
   "metadata": {},
   "outputs": [],
   "source": [
    "result = result.drop_duplicates(subset=['ID Сайта'])\n",
    "result = result[result['ID Сайта'] != '']"
   ]
  },
  {
   "cell_type": "code",
   "execution_count": 15,
   "metadata": {},
   "outputs": [],
   "source": [
    "result = result.drop(columns=['Остаток'])"
   ]
  },
  {
   "cell_type": "code",
   "execution_count": 17,
   "metadata": {},
   "outputs": [],
   "source": [
    "df = stock\n",
    "df = df[df['ID Сайта'] != '']"
   ]
  },
  {
   "cell_type": "code",
   "execution_count": 18,
   "metadata": {},
   "outputs": [],
   "source": [
    "stock = stock.groupby(by = 'ID Сайта', as_index=False)['Остаток'].sum()\n",
    "result = result.merge(stock, how='left', on='ID Сайта')"
   ]
  },
  {
   "cell_type": "code",
   "execution_count": 19,
   "metadata": {},
   "outputs": [],
   "source": [
    "df['Чистый вес'] = df['Чистый вес'].astype(float)\n",
    "clear_weight = df.groupby(by = 'ID Сайта', as_index=False)['Чистый вес'].agg({'min', 'median', 'max'})\n",
    "clear_weight.rename(columns={'median': 'Чистый вес медиана', 'max': 'Чистый вес макс', 'min': 'Чистый вес мин'}, inplace=True)\n",
    "clear_weight['Чистый вес размах, %'] = (clear_weight['Чистый вес макс'] / clear_weight['Чистый вес мин'] - 1) \n",
    "result = result.merge(clear_weight, how='left', on='ID Сайта')"
   ]
  },
  {
   "cell_type": "code",
   "execution_count": 20,
   "metadata": {},
   "outputs": [],
   "source": [
    "price_birka = df.groupby(by = 'ID Сайта', as_index=False)['Цена Розн., за шт'].agg({'min', 'median', 'max'})\n",
    "price_birka.rename(columns={'median': 'Цена изделия на бирке медиана', 'max': 'Цена изделия на бирке макс', 'min': 'Цена изделия на бирке мин'}, inplace=True)\n",
    "result = result.merge(price_birka, how='left', on='ID Сайта')\n",
    "result['Цена изделия на бирке размах, %'] = (result['Цена изделия на бирке макс'] / result['Цена изделия на бирке мин'] - 1) "
   ]
  },
  {
   "cell_type": "code",
   "execution_count": 21,
   "metadata": {},
   "outputs": [],
   "source": [
    "base_discount = df.groupby(by = 'ID Сайта', as_index=False)['Скидка на изделии'].agg({'min', 'max'})\n",
    "base_discount.rename(columns={'max': 'Базовая скидка макс', 'min': 'Базовая скидка мин'}, inplace=True)\n",
    "result = result.merge(base_discount, how='left', on='ID Сайта')"
   ]
  },
  {
   "cell_type": "code",
   "execution_count": 22,
   "metadata": {},
   "outputs": [],
   "source": [
    "df['Цена со скидками'] = np.where(\n",
    "    df['Запрет скидки'] == 'Да', df['Цена Розн., за шт'], df['Цена Розн., за шт'] * (1-df['Скидка на изделии'] / 100) * 0.8 * 0.6\n",
    ")"
   ]
  },
  {
   "cell_type": "code",
   "execution_count": 23,
   "metadata": {},
   "outputs": [],
   "source": [
    "price_skidki = df.groupby(by = 'ID Сайта', as_index=False)['Цена со скидками'].agg({'min', 'median', 'max'})\n",
    "price_skidki.rename(columns={'median': 'Цена со скидками медиана', 'max': 'Цена со скидками макс', 'min': 'Цена со скидками мин'}, inplace=True)\n",
    "price_skidki['Цена со скидками размах, %'] = (price_skidki['Цена со скидками макс'] / price_skidki['Цена со скидками мин'] - 1) \n",
    "result = result.merge(price_skidki, how='left', on='ID Сайта')"
   ]
  },
  {
   "cell_type": "code",
   "execution_count": 24,
   "metadata": {},
   "outputs": [],
   "source": [
    "selfprice = df.groupby(by = 'ID Сайта', as_index=False)['Цена Закупки за 1 шт. (упр сс с НДС за единицу)'].agg({'min', 'median', 'max'})\n",
    "selfprice.rename(columns={'median': 'Себестоимость медиана', 'max': 'Себестоимость макс', 'min': 'Себестоимость мин'}, inplace=True)\n",
    "selfprice['Себестоимость размах, %'] = (selfprice['Себестоимость макс'] / selfprice['Себестоимость мин'] - 1) \n",
    "result = result.merge(selfprice, how='left', on='ID Сайта')"
   ]
  },
  {
   "cell_type": "code",
   "execution_count": 25,
   "metadata": {},
   "outputs": [],
   "source": [
    "df['Наценка'] = df['Цена со скидками'] / df['Цена Закупки за 1 шт. (упр сс с НДС за единицу)'] - 1\n",
    "markup = df.groupby(by = 'ID Сайта', as_index=False)['Наценка'].agg({'min', 'median', 'max'})\n",
    "markup.rename(columns={'median': 'Наценка медиана', 'max': 'Наценка макс', 'min': 'Наценка мин'}, inplace=True)\n",
    "result = result.merge(markup, how='left', on='ID Сайта')"
   ]
  },
  {
   "cell_type": "code",
   "execution_count": 26,
   "metadata": {},
   "outputs": [],
   "source": [
    "zapret['Артикул сайта'] = zapret['Артикул сайта'].astype(str)\n",
    "zapret = zapret['Артикул сайта'].tolist()\n",
    "\n",
    "result['Запрет к размещению'] = np.nan\n",
    "for i in result.index:\n",
    "    if result['ID Сайта'][i] in zapret:\n",
    "        result['Запрет к размещению'][i] = True\n",
    "    else:\n",
    "        result['Запрет к размещению'][i] = False"
   ]
  },
  {
   "cell_type": "code",
   "execution_count": 27,
   "metadata": {},
   "outputs": [],
   "source": [
    "ecom = pd.read_excel(r'\\\\gold585.int\\uk\\Общее хранилище файлов\\Служба аналитики\\МЮР\\ecom_stock_raw\\Остатки 2024.06.24.xlsx')"
   ]
  },
  {
   "cell_type": "code",
   "execution_count": 28,
   "metadata": {},
   "outputs": [],
   "source": [
    "path = r'\\\\gold585.int\\uk\\Общее хранилище файлов\\Служба аналитики\\Тренкин Сергей\\discounts_zolotoy\\\\'\n",
    "list_of_files = glob.glob(path + '\\*.xlsx') \n",
    "latest_file = max(list_of_files, key=os.path.getctime)\n",
    "\n",
    "discount_ecom = pd.read_excel(latest_file)"
   ]
  },
  {
   "cell_type": "code",
   "execution_count": 29,
   "metadata": {},
   "outputs": [],
   "source": [
    "discount_ecom.columns = ['article', 'Опубликован', 'discount_value_promotions_1']\n",
    "ecom = ecom.merge(discount_ecom, how='left', on='article')"
   ]
  },
  {
   "cell_type": "code",
   "execution_count": 30,
   "metadata": {},
   "outputs": [],
   "source": [
    "def discount_index(discount):\n",
    "    try:\n",
    "        return 1 - discount / 100\n",
    "    except:\n",
    "        return 1\n",
    "    \n",
    "ecom.discount_value_promotions_1 = ecom.discount_value_promotions_1.apply(discount_index)\n",
    "\n",
    "ecom['Цена со скидками Ecom'] = np.where(\n",
    "    (ecom['price'] == ecom['discount_price']) & (ecom['discount_value_promotions_1'] == 1), ecom['discount_price'] * ecom['discount_value_promotions_1'], \n",
    "    np.where(\n",
    "        ecom['discount_value_promotions_1'] == 0.5, ecom['discount_price'] * ecom['discount_value_promotions_1'], ecom['discount_price'] * ecom['discount_value_promotions_1'] * 0.8\n",
    "    )\n",
    ")"
   ]
  },
  {
   "cell_type": "code",
   "execution_count": 31,
   "metadata": {},
   "outputs": [],
   "source": [
    "ecom['article'] = ecom['article'].astype(str)\n",
    "ecom = ecom[['article', 'Цена со скидками Ecom']]"
   ]
  },
  {
   "cell_type": "code",
   "execution_count": 32,
   "metadata": {},
   "outputs": [],
   "source": [
    "ecom = ecom.query('article in @ids')\n",
    "ecom.columns = ['ID Сайта', 'Цена со скидками Ecom']\n",
    "result = result.merge(ecom, how='left', on='ID Сайта')"
   ]
  },
  {
   "cell_type": "code",
   "execution_count": 33,
   "metadata": {},
   "outputs": [],
   "source": [
    "df['Сумма в себестоимости на остатках'] = df['Остаток'] * df['Цена Закупки за 1 шт. (упр сс с НДС за единицу)']"
   ]
  },
  {
   "cell_type": "code",
   "execution_count": 34,
   "metadata": {},
   "outputs": [],
   "source": [
    "summa_ost = df.groupby(by ='ID Сайта', as_index=False)['Сумма в себестоимости на остатках'].sum()\n",
    "result = result.merge(summa_ost, how='left', on='ID Сайта')"
   ]
  },
  {
   "cell_type": "code",
   "execution_count": 35,
   "metadata": {},
   "outputs": [],
   "source": [
    "df['Цена за грамм'] = df['Цена со скидками'] / df['Чистый вес']\n",
    "price_per_gramm = df.groupby(by = 'ID Сайта', as_index=False)['Цена за грамм'].agg({'min', 'median', 'max'})\n",
    "price_per_gramm.rename(columns={'median': 'Цена за грамм медиана', 'max': 'Цена за грамм макс', 'min': 'Цена за грамм мин'}, inplace=True)\n",
    "result = result.merge(price_per_gramm, how='left', on='ID Сайта')\n",
    "result['Цена за грамм размах, %'] = (result['Цена за грамм макс'] / result['Цена за грамм мин'] - 1) "
   ]
  },
  {
   "cell_type": "code",
   "execution_count": 36,
   "metadata": {},
   "outputs": [],
   "source": [
    "zapret_sk = df.groupby(by = 'ID Сайта', as_index=False)['Запрет скидки'].count()"
   ]
  },
  {
   "cell_type": "code",
   "execution_count": 37,
   "metadata": {},
   "outputs": [],
   "source": [
    "yes = df[df['Запрет скидки'] == 'Да']\n",
    "no = df[df['Запрет скидки'] == 'Нет']\n",
    "\n",
    "yes = yes.groupby(by = 'ID Сайта', as_index=False)['Запрет скидки'].count()\n",
    "no = no.groupby(by = 'ID Сайта', as_index=False)['Запрет скидки'].count()\n",
    "\n",
    "yes.columns = ['ID Сайта', 'Количество с запрещенной скидкой']\n",
    "no.columns = ['ID Сайта', 'Количество с разрешенной скидкой']\n",
    "\n",
    "yes = yes.merge(no, how='outer', on='ID Сайта')\n",
    "\n",
    "result = result.merge(yes, how='left', on='ID Сайта')"
   ]
  },
  {
   "cell_type": "code",
   "execution_count": 38,
   "metadata": {},
   "outputs": [],
   "source": [
    "result = result.drop_duplicates(subset=['ID Сайта'])"
   ]
  },
  {
   "cell_type": "code",
   "execution_count": 39,
   "metadata": {},
   "outputs": [],
   "source": [
    "df['Дата закупки'] = pd.to_datetime(df['Дата закупки'], dayfirst=True, format='mixed')\n",
    "\n",
    "df['Старая закупка (до 31.12.2022)'] = np.where(\n",
    "    df['Дата закупки'] <= pd.to_datetime('2022-12-31', dayfirst=True, format='mixed'), 1, 0\n",
    ")\n",
    "df['Новая закупка (с 01.01.2023)'] = np.where(\n",
    "    df['Дата закупки'] >= pd.to_datetime('2023-01-01', dayfirst=True, format='mixed'), 1, 0\n",
    ")\n",
    "\n",
    "data = df.groupby(by = 'ID Сайта', as_index=False)[['Старая закупка (до 31.12.2022)', 'Новая закупка (с 01.01.2023)']].sum()\n",
    "\n",
    "\n",
    "data['Дата закупки'] = np.where(\n",
    "    (data['Новая закупка (с 01.01.2023)'] > 0) & (data['Старая закупка (до 31.12.2022)'] > 0), 'Старые и новые',\n",
    "    np.where(\n",
    "        (data['Новая закупка (с 01.01.2023)'] > 0) & (data['Старая закупка (до 31.12.2022)'] == 0), 'Новые', \n",
    "        np.where(\n",
    "            (data['Новая закупка (с 01.01.2023)'] == 0) & (data['Старая закупка (до 31.12.2022)'] > 0), 'Старые', 'Старые'\n",
    "        )\n",
    "    )\n",
    ")"
   ]
  },
  {
   "cell_type": "code",
   "execution_count": 40,
   "metadata": {},
   "outputs": [],
   "source": [
    "data = data.drop(columns=['Старая закупка (до 31.12.2022)', 'Новая закупка (с 01.01.2023)'])\n",
    "result = result.merge(data, how='left', on='ID Сайта')"
   ]
  },
  {
   "cell_type": "code",
   "execution_count": 41,
   "metadata": {},
   "outputs": [],
   "source": [
    "result = result.drop(columns=['Дата закупки_x'])"
   ]
  },
  {
   "cell_type": "code",
   "execution_count": 42,
   "metadata": {},
   "outputs": [],
   "source": [
    "result.rename(columns={'Дата закупки_y': 'Дата закупки'}, inplace=True)"
   ]
  },
  {
   "cell_type": "code",
   "execution_count": 43,
   "metadata": {},
   "outputs": [],
   "source": [
    "result['Размах по весу'] = np.where(\n",
    "    result['Чистый вес размах, %'] >= 0.3, '3. Большой размах (>30%)',\n",
    "    np.where(\n",
    "        result['Чистый вес размах, %'] >= 0.1, '2. Средний размах (10-30%)', '1. Небольшой размах (<10%)'\n",
    "    )\n",
    ")\n",
    "\n",
    "result['Размах по себестоимости'] = np.where(\n",
    "    result['Себестоимость размах, %'] >= 0.5, '3. Большой размах (>50%)',\n",
    "    np.where(\n",
    "        result['Себестоимость размах, %'] >= 0.2, '2. Средний размах (20-50%)', '1. Небольшой размах (<10%)'\n",
    "    )\n",
    ")\n",
    "\n",
    "result['Размах по цене со скидками'] = np.where(\n",
    "    result['Цена со скидками размах, %'] >= 0.5, '3. Большой размах (>50%)',\n",
    "    np.where(\n",
    "        result['Цена со скидками размах, %'] >= 0.2, '2. Средний размах (20-50%)', '1. Небольшой размах (<10%)'\n",
    "    )\n",
    ")\n",
    "\n",
    "result['Размах по цене за грамм'] = np.where(\n",
    "    result['Цена за грамм размах, %'] >= 0.3, '3. Большой размах (>30%)',\n",
    "    np.where(\n",
    "        result['Цена за грамм размах, %'] >= 0.1, '2. Средний размах (10-30%)', '1. Небольшой размах (<10%)'\n",
    "    )\n",
    ")\n",
    "\n",
    "result['Размах цена изделия на бирке'] = np.where(\n",
    "    result['Цена изделия на бирке размах, %'] >= 0.5, '3. Большой размах (>50%)',\n",
    "    np.where(\n",
    "        result['Цена изделия на бирке размах, %'] >= 0.2, '2. Средний размах (20-50%)', '1. Небольшой размах (<20%)'\n",
    "    )\n",
    ")"
   ]
  },
  {
   "cell_type": "code",
   "execution_count": 44,
   "metadata": {},
   "outputs": [],
   "source": [
    "result['Скидка разрешена'] = result['Количество с запрещенной скидкой'] + result['Количество с разрешенной скидкой']\n",
    "\n",
    "result['Скидка разрешена'] = np.where(\n",
    "    result['Скидка разрешена'].astype(str).str.contains('nan'), 'Да или нет', 'Да и нет'\n",
    ")"
   ]
  },
  {
   "cell_type": "code",
   "execution_count": 45,
   "metadata": {},
   "outputs": [],
   "source": [
    "result = result.drop(columns = ['Код склада', 'Чистый вес', 'Цена изделия на бирке', 'Скидка на изделии', 'Запрет скидки', 'Цена Закупки за 1 шт. (упр сс с НДС за единицу)',\n",
    "                                'Запрет скидки', 'Цена Розн., за шт', 'Код товара'])"
   ]
  },
  {
   "cell_type": "code",
   "execution_count": 46,
   "metadata": {},
   "outputs": [
    {
     "data": {
      "text/plain": [
       "Index(['Артикул поставщика', 'Внутренний артикул', 'ID Сайта',\n",
       "       'Товарное направление', 'Товарная группа', 'Товарный кластер', 'Проба',\n",
       "       'Размер изделия', 'Тип изделия 1', 'Тип изделия 2', 'Тип изделия 3',\n",
       "       'Дизайн', 'Бренд', 'Гендерный признак', 'Ценовая корзина', 'Группа цен',\n",
       "       'Количество продаж 14.03-24.06', 'Сумма продаж 14.03-24.06',\n",
       "       'Опубликован', 'Ссылка на изображение', 'Остаток', 'Чистый вес мин',\n",
       "       'Чистый вес медиана', 'Чистый вес макс', 'Чистый вес размах, %',\n",
       "       'Цена изделия на бирке мин', 'Цена изделия на бирке медиана',\n",
       "       'Цена изделия на бирке макс', 'Цена изделия на бирке размах, %',\n",
       "       'Базовая скидка мин', 'Базовая скидка макс', 'Цена со скидками мин',\n",
       "       'Цена со скидками медиана', 'Цена со скидками макс',\n",
       "       'Цена со скидками размах, %', 'Себестоимость мин',\n",
       "       'Себестоимость медиана', 'Себестоимость макс',\n",
       "       'Себестоимость размах, %', 'Наценка мин', 'Наценка медиана',\n",
       "       'Наценка макс', 'Запрет к размещению', 'Цена со скидками Ecom',\n",
       "       'Сумма в себестоимости на остатках', 'Цена за грамм мин',\n",
       "       'Цена за грамм медиана', 'Цена за грамм макс',\n",
       "       'Цена за грамм размах, %', 'Количество с запрещенной скидкой',\n",
       "       'Количество с разрешенной скидкой', 'Дата закупки', 'Размах по весу',\n",
       "       'Размах по себестоимости', 'Размах по цене со скидками',\n",
       "       'Размах по цене за грамм', 'Размах цена изделия на бирке',\n",
       "       'Скидка разрешена'],\n",
       "      dtype='object')"
      ]
     },
     "execution_count": 46,
     "metadata": {},
     "output_type": "execute_result"
    }
   ],
   "source": [
    "result.columns"
   ]
  },
  {
   "cell_type": "code",
   "execution_count": 47,
   "metadata": {},
   "outputs": [],
   "source": [
    "tov = result.groupby(by = 'Товарная группа')['Остаток'].sum()\n",
    "tov_sales = result.groupby(by = 'Товарная группа')['Количество продаж 14.03-24.06'].sum()\n",
    "\n",
    "result['Доля % остатка ID отосительно остатка ТГ'] = np.nan\n",
    "for i in result.index: \n",
    "    t = result['Товарная группа'][i]\n",
    "    result['Доля % остатка ID отосительно остатка ТГ'][i] = result['Остаток'][i] / tov[t] \n",
    "    \n",
    "    \n",
    "result['Доля % относительно продаж ТГ 14.03-24.06'] = np.nan\n",
    "for i in result.index: \n",
    "    t = result['Товарная группа'][i]\n",
    "    result['Доля % относительно продаж ТГ 14.03-24.06'][i] = result['Количество продаж 14.03-24.06'][i] / tov_sales[t] "
   ]
  },
  {
   "cell_type": "code",
   "execution_count": 48,
   "metadata": {},
   "outputs": [],
   "source": [
    "result.to_excel(r'C:\\Users\\Trenkin.Sergey\\Desktop\\notebooks\\result.xlsx', index=False)"
   ]
  },
  {
   "cell_type": "code",
   "execution_count": 54,
   "metadata": {},
   "outputs": [],
   "source": [
    "date_today = dt.datetime.today().strftime('%Y-%m-%d')"
   ]
  },
  {
   "cell_type": "code",
   "execution_count": null,
   "metadata": {},
   "outputs": [],
   "source": [
    "result.to_excel(rf'\\\\gold585.int\\uk\\Общее хранилище файлов\\Служба аналитики\\Тренкин Сергей\\Исследование цен\\\\Исследование цен в разрезе ID {date_today}.xlsx', index=False)\n",
    "for tn in result['Товарное направление'].unique().tolist():\n",
    "    result[result['Товарное направление'] == tn].\\\n",
    "        to_excel(rf'\\\\gold585.int\\uk\\Общее хранилище файлов\\Служба аналитики\\Тренкин Сергей\\Исследование цен\\Исследование цен для {tn} в разрезе ID {date_today}.xlsx', index=False)"
   ]
  },
  {
   "cell_type": "code",
   "execution_count": null,
   "metadata": {},
   "outputs": [],
   "source": []
  }
 ],
 "metadata": {
  "kernelspec": {
   "display_name": "Python 3",
   "language": "python",
   "name": "python3"
  },
  "language_info": {
   "codemirror_mode": {
    "name": "ipython",
    "version": 3
   },
   "file_extension": ".py",
   "mimetype": "text/x-python",
   "name": "python",
   "nbconvert_exporter": "python",
   "pygments_lexer": "ipython3",
   "version": "3.12.4"
  }
 },
 "nbformat": 4,
 "nbformat_minor": 2
}
