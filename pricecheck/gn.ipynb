{
 "cells": [
  {
   "cell_type": "code",
   "execution_count": 2,
   "metadata": {},
   "outputs": [
    {
     "data": {
      "text/plain": [
       "'ru_RU.UTF-8'"
      ]
     },
     "execution_count": 2,
     "metadata": {},
     "output_type": "execute_result"
    }
   ],
   "source": [
    "import pandas as pd\n",
    "import numpy as np\n",
    "import warnings\n",
    "import pymssql\n",
    "import locale\n",
    "import glob\n",
    "import os\n",
    "\n",
    "warnings.filterwarnings('ignore')\n",
    "pd.set_option('use_inf_as_na', True)\n",
    "pd.options.display.max_columns = None\n",
    "pd.set_option('float_format', '{:.2f}'.format)\n",
    "locale.setlocale(locale.LC_ALL, 'ru_RU.UTF-8')"
   ]
  },
  {
   "cell_type": "code",
   "execution_count": 3,
   "metadata": {},
   "outputs": [],
   "source": [
    "conn = pymssql.connect(server='AX-SQL', database='Staging')\n",
    "cursor = conn.cursor()\n",
    "\n",
    "sql = f'''\n",
    "SELECT [Группа цен], [ID Сайта]\n",
    "from [Staging].[Reports].[Remainings_8h]\n",
    "where [Товарное направление] in (N'БК', N'ЦБ', N'СИ', N'ИФ', N'ПДК', N'ДК', N'ВЫРИЦА', N'ЧАСЫ')\n",
    "'''\n",
    "\n",
    "sql_query = pd.read_sql_query(sql, conn)\n",
    "stock = pd.DataFrame(sql_query)"
   ]
  },
  {
   "cell_type": "code",
   "execution_count": 4,
   "metadata": {},
   "outputs": [],
   "source": [
    "path = r'\\\\gold585.int\\uk\\Общее хранилище файлов\\Служба аналитики\\МЮР\\ecom_stock_raw\\\\'\n",
    "list_of_files = glob.glob(path + '\\*.xlsx') \n",
    "latest_file = max(list_of_files, key=os.path.getctime) \n",
    "df = pd.read_excel(latest_file)"
   ]
  },
  {
   "cell_type": "code",
   "execution_count": 5,
   "metadata": {},
   "outputs": [],
   "source": [
    "df = df[['article', 'published']]"
   ]
  },
  {
   "cell_type": "code",
   "execution_count": 7,
   "metadata": {},
   "outputs": [],
   "source": [
    "df = df[df['published'] == True]"
   ]
  },
  {
   "cell_type": "code",
   "execution_count": 10,
   "metadata": {},
   "outputs": [],
   "source": [
    "df.rename(columns={'article': 'ID Сайта'}, inplace=True)"
   ]
  },
  {
   "cell_type": "code",
   "execution_count": 13,
   "metadata": {},
   "outputs": [],
   "source": [
    "stock = stock[stock['Группа цен'].str.lower().str.contains('шок')]"
   ]
  },
  {
   "cell_type": "code",
   "execution_count": 15,
   "metadata": {},
   "outputs": [],
   "source": [
    "stock.drop_duplicates(subset=['ID Сайта'], inplace=True)"
   ]
  },
  {
   "cell_type": "code",
   "execution_count": 24,
   "metadata": {},
   "outputs": [],
   "source": [
    "stock = stock[stock['ID Сайта'] != '']"
   ]
  },
  {
   "cell_type": "code",
   "execution_count": 25,
   "metadata": {},
   "outputs": [],
   "source": [
    "stock['ID Сайта'] = stock['ID Сайта'].astype(int)"
   ]
  },
  {
   "cell_type": "code",
   "execution_count": 26,
   "metadata": {},
   "outputs": [],
   "source": [
    "stock = stock.merge(df, how='left', on='ID Сайта')"
   ]
  },
  {
   "cell_type": "code",
   "execution_count": 28,
   "metadata": {},
   "outputs": [],
   "source": [
    "stock = stock.drop_duplicates(subset=['ID Сайта'])"
   ]
  },
  {
   "cell_type": "code",
   "execution_count": 33,
   "metadata": {},
   "outputs": [],
   "source": [
    "stock = stock[(stock['published'] == True) & (stock['Группа цен'] != 'РЕМЕШОК')]"
   ]
  },
  {
   "cell_type": "code",
   "execution_count": 34,
   "metadata": {},
   "outputs": [],
   "source": [
    "stock.to_excel('опубликованные ID шоков.xlsx', index=False)"
   ]
  },
  {
   "cell_type": "code",
   "execution_count": null,
   "metadata": {},
   "outputs": [],
   "source": []
  }
 ],
 "metadata": {
  "kernelspec": {
   "display_name": "Python 3",
   "language": "python",
   "name": "python3"
  },
  "language_info": {
   "codemirror_mode": {
    "name": "ipython",
    "version": 3
   },
   "file_extension": ".py",
   "mimetype": "text/x-python",
   "name": "python",
   "nbconvert_exporter": "python",
   "pygments_lexer": "ipython3",
   "version": "3.12.4"
  }
 },
 "nbformat": 4,
 "nbformat_minor": 2
}
