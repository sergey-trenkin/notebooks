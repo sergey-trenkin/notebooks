{
 "cells": [
  {
   "cell_type": "code",
   "execution_count": 34,
   "metadata": {},
   "outputs": [],
   "source": [
    "from tqdm import tqdm\n",
    "import pymssql\n",
    "import pandas as pd\n",
    "import numpy as np\n",
    "import warnings\n",
    "import glob \n",
    "import os\n",
    "\n",
    "warnings.filterwarnings('ignore')"
   ]
  },
  {
   "cell_type": "code",
   "execution_count": 54,
   "metadata": {},
   "outputs": [],
   "source": [
    "df = pd.read_csv(r'C:\\Users\\Trenkin.Sergey\\Downloads\\Telegram Desktop\\result.csv')"
   ]
  },
  {
   "cell_type": "code",
   "execution_count": 95,
   "metadata": {},
   "outputs": [],
   "source": [
    "df2 = pd.read_excel(r'\\\\gold585.int\\uk\\Общее хранилище файлов\\Служба аналитики\\Петров Илья\\sql\\группировка.xlsx', header=1)"
   ]
  },
  {
   "cell_type": "code",
   "execution_count": 66,
   "metadata": {},
   "outputs": [],
   "source": [
    "df2 = df2[['Unnamed: 0', 'min.5', 'max.5', 'median.5']]"
   ]
  },
  {
   "cell_type": "code",
   "execution_count": 67,
   "metadata": {},
   "outputs": [],
   "source": [
    "df2.columns = ['Код товара', 'Наценка мин', 'Наценка макс', 'Наценка медиана']"
   ]
  },
  {
   "cell_type": "code",
   "execution_count": 3,
   "metadata": {},
   "outputs": [
    {
     "data": {
      "text/plain": [
       "['2024-03-10_2024-03-19.xlsx',\n",
       " '2024-03-20_2024-03-31.xlsx',\n",
       " '2024-04-01_2024-04-09.xlsx',\n",
       " '2024-04-10_2024-04-19.xlsx',\n",
       " '2024-04-20_2024-04-30.xlsx',\n",
       " '2024-05-01_2024-05-09.xlsx',\n",
       " '2024-05-10_2024-05-19.xlsx',\n",
       " '2024-06-01_2024-06-09.xlsx',\n",
       " '2024-06-10_2024-06-10.xlsx',\n",
       " '2024-06-10_2024-06-12.xlsx']"
      ]
     },
     "execution_count": 3,
     "metadata": {},
     "output_type": "execute_result"
    }
   ],
   "source": [
    "os.chdir(r'C:\\\\Users\\Trenkin.Sergey\\Desktop\\sales')\n",
    "extension = 'xlsx'\n",
    "all_filenames = [i for i in glob.glob('*.{}'.format(extension))]\n",
    "all_filenames"
   ]
  },
  {
   "cell_type": "code",
   "execution_count": 4,
   "metadata": {},
   "outputs": [],
   "source": [
    "zapret = pd.read_excel(r'C:\\Users\\Trenkin.Sergey\\Desktop\\запрет Артикулы к размещению.xlsx')"
   ]
  },
  {
   "cell_type": "code",
   "execution_count": 5,
   "metadata": {},
   "outputs": [],
   "source": [
    "images = pd.read_excel(r'C:\\Users\\Trenkin.Sergey\\Desktop\\Артикул-фото 2024.06.11_.xlsx')"
   ]
  },
  {
   "cell_type": "code",
   "execution_count": 73,
   "metadata": {},
   "outputs": [
    {
     "name": "stderr",
     "output_type": "stream",
     "text": [
      "100%|██████████| 10/10 [09:44<00:00, 58.47s/it]\n"
     ]
    }
   ],
   "source": [
    "sale = pd.DataFrame()\n",
    "for name in tqdm(all_filenames):\n",
    "    sales = pd.read_excel(name)\n",
    "    sale = pd.concat([sales, sale], ignore_index= True)"
   ]
  },
  {
   "cell_type": "code",
   "execution_count": 74,
   "metadata": {},
   "outputs": [],
   "source": [
    "sale['Дата'] = pd.to_datetime(sale['Дата'], dayfirst=True, format='mixed')"
   ]
  },
  {
   "cell_type": "code",
   "execution_count": 75,
   "metadata": {},
   "outputs": [],
   "source": [
    "sale = sale[(sale['Дата'] >= pd.to_datetime('2024-03-14', dayfirst=True, format='mixed')) & \n",
    "            (sale['Дата'] <= pd.to_datetime('2024-06-11', dayfirst=True, format='mixed'))]"
   ]
  },
  {
   "cell_type": "code",
   "execution_count": 77,
   "metadata": {},
   "outputs": [],
   "source": [
    "sale = sale.groupby(by = 'Тов', as_index=False)[['Количество', 'Общая сумма']].sum()"
   ]
  },
  {
   "cell_type": "code",
   "execution_count": 80,
   "metadata": {},
   "outputs": [],
   "source": [
    "sale = sale.query('Тов in @tovs')"
   ]
  },
  {
   "cell_type": "code",
   "execution_count": 82,
   "metadata": {},
   "outputs": [],
   "source": [
    "sale.columns = ['Код товара', 'Количество продаж 14.03-11.06', 'Общая сумма продаж 14.03-11.06']"
   ]
  },
  {
   "cell_type": "code",
   "execution_count": 17,
   "metadata": {},
   "outputs": [],
   "source": [
    "tovs = df['Код товара'].tolist()"
   ]
  },
  {
   "cell_type": "code",
   "execution_count": 23,
   "metadata": {},
   "outputs": [],
   "source": [
    "zapret = zapret['Артикул сайта'].tolist()"
   ]
  },
  {
   "cell_type": "code",
   "execution_count": 60,
   "metadata": {},
   "outputs": [],
   "source": [
    "df = df.dropna(subset=['ID Сайта'])\n",
    "df['ID Сайта'] = df['ID Сайта'].astype(int)"
   ]
  },
  {
   "cell_type": "code",
   "execution_count": 61,
   "metadata": {},
   "outputs": [],
   "source": [
    "df['Запрет к размещению'] = np.nan\n",
    "for i in df.index:\n",
    "    if df['ID Сайта'][i] in zapret:\n",
    "        df['Запрет к размещению'][i] = True\n",
    "    else:\n",
    "        df['Запрет к размещению'][i] = False"
   ]
  },
  {
   "cell_type": "code",
   "execution_count": 62,
   "metadata": {},
   "outputs": [],
   "source": [
    "df2.dropna(inplace = True)"
   ]
  },
  {
   "cell_type": "code",
   "execution_count": 69,
   "metadata": {},
   "outputs": [],
   "source": [
    "df = df.drop_duplicates(subset=['Код товара'])"
   ]
  },
  {
   "cell_type": "code",
   "execution_count": 70,
   "metadata": {},
   "outputs": [],
   "source": [
    "df = df.merge(df2, how='left', on='Код товара')"
   ]
  },
  {
   "cell_type": "code",
   "execution_count": 83,
   "metadata": {},
   "outputs": [],
   "source": [
    "df = df.merge(sale, how='left', on='Код товара')"
   ]
  },
  {
   "cell_type": "code",
   "execution_count": 90,
   "metadata": {},
   "outputs": [
    {
     "name": "stdout",
     "output_type": "stream",
     "text": [
      "<class 'pandas.core.frame.DataFrame'>\n",
      "RangeIndex: 138542 entries, 0 to 138541\n",
      "Data columns (total 42 columns):\n",
      " #   Column                          Non-Null Count   Dtype  \n",
      "---  ------                          --------------   -----  \n",
      " 0   Код товара                      138542 non-null  object \n",
      " 1   Артикул поставщика              138542 non-null  object \n",
      " 2   Внутренний артикул              138478 non-null  object \n",
      " 3   ID Сайта                        138542 non-null  int32  \n",
      " 4   Товарное направление            138542 non-null  object \n",
      " 5   Товарная группа                 138479 non-null  object \n",
      " 6   Товарный кластер                138333 non-null  object \n",
      " 7   Проба                           138532 non-null  float64\n",
      " 8   Размер изделия                  138542 non-null  float64\n",
      " 9   Тип изделия 1                   138532 non-null  object \n",
      " 10  Тип изделия 2                   138479 non-null  object \n",
      " 11  Тип изделия 3                   138540 non-null  object \n",
      " 12  Дизайн                          138325 non-null  object \n",
      " 13  Бренд                           113046 non-null  object \n",
      " 14  Гендерный признак               128673 non-null  object \n",
      " 15  Ценовая корзина                 133252 non-null  object \n",
      " 16  Группа цен                      138541 non-null  object \n",
      " 17  Чистый вес                      138542 non-null  float64\n",
      " 18  Цена изделия на бирке           138542 non-null  float64\n",
      " 19  Скидка на изделии               138542 non-null  float64\n",
      " 20  Запрет скидки                   138542 non-null  object \n",
      " 21  Чистый вес мин                  138542 non-null  float64\n",
      " 22  Чистый вес медиана              138542 non-null  float64\n",
      " 23  Чистый вес макс                 138542 non-null  float64\n",
      " 24  Чистый вес размах, %            138538 non-null  float64\n",
      " 25  Цена изделия на бирке мин       138542 non-null  float64\n",
      " 26  Цена изделия на бирке медиана   138542 non-null  float64\n",
      " 27  Цена изделия на бирке макс      138542 non-null  float64\n",
      " 28  Скидка на изделии мин           138542 non-null  float64\n",
      " 29  Скидка на изделии медиана       138542 non-null  float64\n",
      " 30  Скидка на изделии макс          138542 non-null  float64\n",
      " 31  Цена со скидками мин            138542 non-null  float64\n",
      " 32  Цена со скидками медиана        138542 non-null  float64\n",
      " 33  Цена со скидками макс           138542 non-null  float64\n",
      " 34  Цена со скидками размах, %      136629 non-null  float64\n",
      " 35  Остаток                         138542 non-null  float64\n",
      " 36  Запрет к размещению             138542 non-null  object \n",
      " 37  Наценка мин                     138046 non-null  float64\n",
      " 38  Наценка макс                    138046 non-null  float64\n",
      " 39  Наценка медиана                 138046 non-null  float64\n",
      " 40  Количество продаж 14.03-11.06   51708 non-null   float64\n",
      " 41  Общая сумма продаж 14.03-11.06  51708 non-null   float64\n",
      "dtypes: float64(25), int32(1), object(16)\n",
      "memory usage: 43.9+ MB\n"
     ]
    }
   ],
   "source": [
    "df.info()"
   ]
  },
  {
   "cell_type": "code",
   "execution_count": null,
   "metadata": {},
   "outputs": [],
   "source": [
    "df2 = pd.read_excel(r'\\\\gold585.int\\uk\\Общее хранилище файлов\\Служба аналитики\\Петров Илья\\sql\\группировка.xlsx', header=1)"
   ]
  },
  {
   "cell_type": "code",
   "execution_count": 97,
   "metadata": {},
   "outputs": [],
   "source": [
    "df2 = df2[['Unnamed: 0', 'min.4', 'max.4', 'median.4']]"
   ]
  },
  {
   "cell_type": "code",
   "execution_count": 99,
   "metadata": {},
   "outputs": [],
   "source": [
    "df2.columns = ['Код товара', 'Себестоимость мин', 'Себестоимость макс', 'Себестоимость медиана']"
   ]
  },
  {
   "cell_type": "code",
   "execution_count": 100,
   "metadata": {},
   "outputs": [],
   "source": [
    "df2 = df2.drop_duplicates(subset=['Код товара'])"
   ]
  },
  {
   "cell_type": "code",
   "execution_count": 101,
   "metadata": {},
   "outputs": [],
   "source": [
    "df = df.merge(df2, how='left', on='Код товара')"
   ]
  },
  {
   "cell_type": "code",
   "execution_count": 102,
   "metadata": {},
   "outputs": [],
   "source": [
    "df['Себестоимость размах'] = (df['Себестоимость макс'] - df['Себестоимость мин']) / ((df['Себестоимость макс'] + df['Себестоимость мин']) / 2)"
   ]
  },
  {
   "cell_type": "code",
   "execution_count": 104,
   "metadata": {},
   "outputs": [],
   "source": [
    "df.to_excel('Исследование цен.xlsx', index=False)"
   ]
  },
  {
   "cell_type": "code",
   "execution_count": null,
   "metadata": {},
   "outputs": [],
   "source": []
  }
 ],
 "metadata": {
  "kernelspec": {
   "display_name": "Python 3",
   "language": "python",
   "name": "python3"
  },
  "language_info": {
   "codemirror_mode": {
    "name": "ipython",
    "version": 3
   },
   "file_extension": ".py",
   "mimetype": "text/x-python",
   "name": "python",
   "nbconvert_exporter": "python",
   "pygments_lexer": "ipython3",
   "version": "3.12.0"
  }
 },
 "nbformat": 4,
 "nbformat_minor": 2
}
