{
 "cells": [
  {
   "cell_type": "code",
   "execution_count": 1,
   "metadata": {},
   "outputs": [],
   "source": [
    "from openpyxl.drawing.image import Image as im\n",
    "from openpyxl import load_workbook\n",
    "from bs4 import BeautifulSoup\n",
    "from PIL import Image \n",
    "from tqdm import tqdm\n",
    "import pandas as pd\n",
    "import urllib.request \n",
    "import requests\n",
    "import glob\n",
    "import time\n",
    "import os"
   ]
  },
  {
   "cell_type": "code",
   "execution_count": 2,
   "metadata": {},
   "outputs": [],
   "source": [
    "number = 0\n",
    "articles = pd.read_excel(r'C:\\Users\\Trenkin.Sergey\\Desktop\\notebooks\\archive\\result.xlsx')"
   ]
  },
  {
   "cell_type": "code",
   "execution_count": 3,
   "metadata": {},
   "outputs": [],
   "source": [
    "articles = articles['ID Сайта'].tolist()"
   ]
  },
  {
   "cell_type": "code",
   "execution_count": 4,
   "metadata": {},
   "outputs": [],
   "source": [
    "cookies = {\n",
    "    'auth.strategy': 'local',\n",
    "    '_userGUID': '0:lnn40txn:JEPB84JjDJ~x29~snVGrM3payi4w4YCW',\n",
    "    '_ym_uid': '1697110920165939740',\n",
    "    'tmr_lvid': '578baf44e80a2b6851f9edc9592c746e',\n",
    "    'tmr_lvidTS': '1697110926919',\n",
    "    'auth._token_expiration.local': 'false',\n",
    "    'auth._token.local': 'Token%20140b02da54724215f013de495f0bd8c9ed42ca0a',\n",
    "    '_ga_750VBXG7ZL': 'deleted',\n",
    "    '_ga_750VBXG7ZL': 'deleted',\n",
    "    'dashamailDeviceUUID': '7aee45f4-e1c4-4807-8b29-8057f642b79d',\n",
    "    'DM-session': '%7B%22deviceGuid%22%3A%227aee45f4-e1c4-4807-8b29-8057f642b79d%22%7D',\n",
    "    '_ym_d': '1713254315',\n",
    "    'zolotoy_region': 'fe1031da-4ab7-42d1-9713-2f60c326c3af',\n",
    "    'advcake_track_id': '2b6a344f-4daf-4707-4678-0c3a3b9b2aae',\n",
    "    'advcake_session_id': '080be046-357d-7c8a-5bc5-083d912732e2',\n",
    "    '_gid': 'GA1.2.897622599.1721628686',\n",
    "    'top-line-banner-identified': '%7B%7D',\n",
    "    '_ym_isad': '1',\n",
    "    '_ga': 'GA1.2.626517317.1710829321',\n",
    "    'advcake_track_url': '%3D20240722cwNZnrJxUDWMHAKkIlup7L43AG7UMplP4QMx7OAqqTx41e2cYhVCzcOfMY5Tw94bdtASTFrd6bA4WJmDdlxHpBN1GTrvox58wOIsY4TpBFHwn5I%2Fc7bOMSzZ6D0V2MLjpxYWSJ0wXfWV%2Fzu92%2FtnaPYj6V6AaSEfSyPtFNgNmaemVdDO4R1Y4XFvO7tIMNlQpY6zYDqs%2BSsj%2FpwvQ88zSwuEtLYhd4A3FlJS76HevKS2w3zT9HkU65al%2F0n1c6tgyyfilO7BQOz5kcp61S%2FFnUN7gjvL%2FyepeEiIsVmR1TfPq68Cz1WyNqZ9%2B9ApNfM8jZ7V9IF%2FjdlOSNHT8kn%2BpDp940V35z%2BqV%2FILiTgE3YDBAtLjc4pYEB2VHMBw5vbHbG9x%2F3PiBjhUmusPA%2Flalz73m08SDRmRAp997vSu6WquMr2cDYyIEIwXEdigHS8aL06D4Xux1NsHg0UQ4%2Bc%2B7cutNhLKobGcrPtWa4VNlEncuDDBrdmPm8T%2BWtALPwhJfje62bE%2B%2F%2F1qOfXaCq5DjPgAlQXj23KJMCEyhgN0vCwf0c6GGsj%2Fjjf%2FJxZaiWNT9ZroI8H6YQeXrwaeEtaCNmhAFxsiHZRqlNU%2FFsVjaGnxy66HLse1ct1gydvo9IfL7IDrCpXvOuAFzNEMG6f40loN0%2FLA%2BNaO9Gu2u52GCehufKWw54Ov3Vw%3D',\n",
    "    '_dc_gtm_UA-37204495-1': '1',\n",
    "    '_ga_1RZK4JTBYW': 'GS1.2.1721720083.235.0.1721720083.60.0.0',\n",
    "    'qrator_jsr': '1721720083.273.OBg3RlMrg0lawbzD-7fmq9rfb0u2psuoqe71eu394r5m5idin-00',\n",
    "    '_ga_750VBXG7ZL': 'GS1.1.1721720083.77.0.1721720083.0.0.0',\n",
    "    'qrator_jsid': '1721720083.273.OBg3RlMrg0lawbzD-c083km74ng9jun52f5po2rbcmdgl9v3h',\n",
    "}\n",
    "\n",
    "headers = {\n",
    "    'accept': 'text/html,application/xhtml+xml,application/xml;q=0.9,image/avif,image/webp,image/apng,*/*;q=0.8,application/signed-exchange;v=b3;q=0.7',\n",
    "    'accept-language': 'ru-RU,ru;q=0.9,en-US;q=0.8,en;q=0.7',\n",
    "    'cache-control': 'max-age=0',\n",
    "    # 'cookie': 'auth.strategy=local; _userGUID=0:lnn40txn:JEPB84JjDJ~x29~snVGrM3payi4w4YCW; _ym_uid=1697110920165939740; tmr_lvid=578baf44e80a2b6851f9edc9592c746e; tmr_lvidTS=1697110926919; auth._token_expiration.local=false; auth._token.local=Token%20140b02da54724215f013de495f0bd8c9ed42ca0a; _ga_750VBXG7ZL=deleted; _ga_750VBXG7ZL=deleted; dashamailDeviceUUID=7aee45f4-e1c4-4807-8b29-8057f642b79d; DM-session=%7B%22deviceGuid%22%3A%227aee45f4-e1c4-4807-8b29-8057f642b79d%22%7D; _ym_d=1713254315; zolotoy_region=fe1031da-4ab7-42d1-9713-2f60c326c3af; advcake_track_id=2b6a344f-4daf-4707-4678-0c3a3b9b2aae; advcake_session_id=080be046-357d-7c8a-5bc5-083d912732e2; _gid=GA1.2.897622599.1721628686; top-line-banner-identified=%7B%7D; _ym_isad=1; _ga=GA1.2.626517317.1710829321; advcake_track_url=%3D20240722cwNZnrJxUDWMHAKkIlup7L43AG7UMplP4QMx7OAqqTx41e2cYhVCzcOfMY5Tw94bdtASTFrd6bA4WJmDdlxHpBN1GTrvox58wOIsY4TpBFHwn5I%2Fc7bOMSzZ6D0V2MLjpxYWSJ0wXfWV%2Fzu92%2FtnaPYj6V6AaSEfSyPtFNgNmaemVdDO4R1Y4XFvO7tIMNlQpY6zYDqs%2BSsj%2FpwvQ88zSwuEtLYhd4A3FlJS76HevKS2w3zT9HkU65al%2F0n1c6tgyyfilO7BQOz5kcp61S%2FFnUN7gjvL%2FyepeEiIsVmR1TfPq68Cz1WyNqZ9%2B9ApNfM8jZ7V9IF%2FjdlOSNHT8kn%2BpDp940V35z%2BqV%2FILiTgE3YDBAtLjc4pYEB2VHMBw5vbHbG9x%2F3PiBjhUmusPA%2Flalz73m08SDRmRAp997vSu6WquMr2cDYyIEIwXEdigHS8aL06D4Xux1NsHg0UQ4%2Bc%2B7cutNhLKobGcrPtWa4VNlEncuDDBrdmPm8T%2BWtALPwhJfje62bE%2B%2F%2F1qOfXaCq5DjPgAlQXj23KJMCEyhgN0vCwf0c6GGsj%2Fjjf%2FJxZaiWNT9ZroI8H6YQeXrwaeEtaCNmhAFxsiHZRqlNU%2FFsVjaGnxy66HLse1ct1gydvo9IfL7IDrCpXvOuAFzNEMG6f40loN0%2FLA%2BNaO9Gu2u52GCehufKWw54Ov3Vw%3D; _dc_gtm_UA-37204495-1=1; _ga_1RZK4JTBYW=GS1.2.1721720083.235.0.1721720083.60.0.0; qrator_jsr=1721720083.273.OBg3RlMrg0lawbzD-7fmq9rfb0u2psuoqe71eu394r5m5idin-00; _ga_750VBXG7ZL=GS1.1.1721720083.77.0.1721720083.0.0.0; qrator_jsid=1721720083.273.OBg3RlMrg0lawbzD-c083km74ng9jun52f5po2rbcmdgl9v3h',\n",
    "    'priority': 'u=0, i',\n",
    "    'sec-ch-ua': '\"Not/A)Brand\";v=\"8\", \"Chromium\";v=\"126\", \"Google Chrome\";v=\"126\"',\n",
    "    'sec-ch-ua-mobile': '?0',\n",
    "    'sec-ch-ua-platform': '\"Windows\"',\n",
    "    'sec-fetch-dest': 'document',\n",
    "    'sec-fetch-mode': 'navigate',\n",
    "    'sec-fetch-site': 'same-origin',\n",
    "    'upgrade-insecure-requests': '1',\n",
    "    'user-agent': 'Mozilla/5.0 (Windows NT 10.0; Win64; x64) AppleWebKit/537.36 (KHTML, like Gecko) Chrome/126.0.0.0 Safari/537.36',\n",
    "}\n"
   ]
  },
  {
   "cell_type": "code",
   "execution_count": 5,
   "metadata": {},
   "outputs": [],
   "source": [
    "published = []\n",
    "links = []"
   ]
  },
  {
   "cell_type": "code",
   "execution_count": 7,
   "metadata": {},
   "outputs": [],
   "source": [
    "def parser(article):\n",
    "    global number\n",
    "    article = f'https://www.585zolotoy.ru/catalog/products/{article}/'\n",
    "    try:\n",
    "        response = requests.get(article, cookies=cookies, headers=headers, timeout=30)\n",
    "        soup = BeautifulSoup(response.content, \"html.parser\")\n",
    "    except:\n",
    "        time.sleep(10)\n",
    "        response = requests.get(article, cookies=cookies, headers=headers, timeout=30)\n",
    "        soup = BeautifulSoup(response.content, \"html.parser\")\n",
    "    \n",
    "    img_tags = soup.find_all(\"img\")\n",
    "    images = []\n",
    "\n",
    "    for img_tag in img_tags:\n",
    "        src = img_tag.get(\"src\")\n",
    "        images.append(src)\n",
    "    \n",
    "    for image in images:\n",
    "        if 'products' in image:\n",
    "            links.append(image)\n",
    "            break\n",
    "    number += 1\n",
    "    urllib.request.urlretrieve(image, f\"{number}.png\")  "
   ]
  },
  {
   "cell_type": "code",
   "execution_count": 8,
   "metadata": {},
   "outputs": [
    {
     "name": "stderr",
     "output_type": "stream",
     "text": [
      "100%|██████████| 200/200 [07:38<00:00,  2.29s/it]\n"
     ]
    }
   ],
   "source": [
    "for article in tqdm(articles):\n",
    "    parser(article)"
   ]
  },
  {
   "cell_type": "code",
   "execution_count": 9,
   "metadata": {},
   "outputs": [],
   "source": [
    "df = pd.read_excel(r'C:\\Users\\Trenkin.Sergey\\Desktop\\notebooks\\archive\\result.xlsx')\n",
    "\n",
    "count = len(articles)\n",
    "\n",
    "os.chdir(r'C:\\Users\\Trenkin.Sergey\\Desktop\\download image')\n",
    "extension = 'png'\n",
    "all_filenames = [i for i in glob.glob('*.{}'.format(extension))]"
   ]
  },
  {
   "cell_type": "code",
   "execution_count": 10,
   "metadata": {},
   "outputs": [
    {
     "name": "stderr",
     "output_type": "stream",
     "text": [
      "100%|██████████| 200/200 [00:02<00:00, 66.96it/s]\n"
     ]
    }
   ],
   "source": [
    "for name in tqdm(all_filenames):    \n",
    "    try:\n",
    "        img = Image.open(f\"{name}\") \n",
    "        new_image = img.resize((100, 100))\n",
    "        new_image.save(f\"{name}\")   \n",
    "    except:\n",
    "        pass"
   ]
  },
  {
   "cell_type": "code",
   "execution_count": 11,
   "metadata": {},
   "outputs": [],
   "source": [
    "num = 1"
   ]
  },
  {
   "cell_type": "code",
   "execution_count": 12,
   "metadata": {},
   "outputs": [
    {
     "name": "stderr",
     "output_type": "stream",
     "text": [
      "100%|██████████| 200/200 [00:25<00:00,  7.76it/s]\n"
     ]
    }
   ],
   "source": [
    "for i in tqdm(range(1, count + 1)):\n",
    "    try: \n",
    "        wb = load_workbook(r'C:\\Users\\Trenkin.Sergey\\Desktop\\notebooks\\archive\\result.xlsx')\n",
    "        ws = wb.active\n",
    "        ws.column_dimensions['A'].width = 10 # здесь вместо B указать нужный тебе столбец, куда собираешься грузить картинки\n",
    "        logo = im(f\"{num}.png\")\n",
    "        logo.height = 50\n",
    "        logo.width = 50\n",
    "        ws.row_dimensions[num].height = 50\n",
    "        ws.add_image(logo, f\"A{num + 1}\")  # и тут\n",
    "    except:\n",
    "        pass\n",
    "    num += 1\n",
    "    wb.save(r'C:\\Users\\Trenkin.Sergey\\Desktop\\notebooks\\archive\\result.xlsx')"
   ]
  },
  {
   "cell_type": "code",
   "execution_count": null,
   "metadata": {},
   "outputs": [],
   "source": []
  }
 ],
 "metadata": {
  "kernelspec": {
   "display_name": "Python 3",
   "language": "python",
   "name": "python3"
  },
  "language_info": {
   "codemirror_mode": {
    "name": "ipython",
    "version": 3
   },
   "file_extension": ".py",
   "mimetype": "text/x-python",
   "name": "python",
   "nbconvert_exporter": "python",
   "pygments_lexer": "ipython3",
   "version": "3.12.4"
  }
 },
 "nbformat": 4,
 "nbformat_minor": 2
}
