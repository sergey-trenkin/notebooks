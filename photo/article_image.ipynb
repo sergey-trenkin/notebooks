{
 "cells": [
  {
   "cell_type": "code",
   "execution_count": 33,
   "metadata": {},
   "outputs": [
    {
     "data": {
      "text/plain": [
       "'ru_RU.UTF-8'"
      ]
     },
     "execution_count": 33,
     "metadata": {},
     "output_type": "execute_result"
    }
   ],
   "source": [
    "import datetime as dt\n",
    "import pandas as pd\n",
    "import warnings\n",
    "import pymssql\n",
    "import locale\n",
    "\n",
    "warnings.filterwarnings('ignore')\n",
    "locale.setlocale(locale.LC_ALL, 'ru_RU.UTF-8')"
   ]
  },
  {
   "cell_type": "code",
   "execution_count": 2,
   "metadata": {},
   "outputs": [],
   "source": [
    "conn = pymssql.connect(server='spb-s-sql-dwh', database='DWH_DEV', charset='WINDOWS-1251')\n",
    "cursor = conn.cursor()\n",
    "\n",
    "productimage = f'''\n",
    "select \n",
    "[image], [sort], [product_id], [deleted]\n",
    "from [DWH_DEV].[ecom].[catalog_productimage]\n",
    "where [deleted] is NULL\n",
    "'''\n",
    "\n",
    "product = f'''\n",
    "select \n",
    "[id], [article], [published]\n",
    "from [DWH_DEV].[ecom].[catalog_product]\n",
    "'''\n",
    "\n",
    "catalog_productimage = pd.read_sql_query(productimage, conn)\n",
    "catalog_product = pd.read_sql_query(product, conn)"
   ]
  },
  {
   "cell_type": "code",
   "execution_count": 4,
   "metadata": {},
   "outputs": [],
   "source": [
    "catalog_product = catalog_product.query('published == True')\n",
    "catalog_productimage.rename(columns={'product_id': 'id'},\n",
    "                            inplace=True)\n",
    "photos = catalog_product.merge(catalog_productimage, how='left', on='id')\n",
    "photos['image'] = 'https://static2.585.cloud/media/' + photos['image']\n",
    "photos = photos.query('sort == 1')\n",
    "photos = photos[['article', 'image']]\n",
    "date = dt.date.today().strftime('%d.%m.%Y')\n",
    "photos.to_excel(f'Актуальные фото с сайта {date}.xlsx', index=False)"
   ]
  }
 ],
 "metadata": {
  "kernelspec": {
   "display_name": "Python 3",
   "language": "python",
   "name": "python3"
  },
  "language_info": {
   "codemirror_mode": {
    "name": "ipython",
    "version": 3
   },
   "file_extension": ".py",
   "mimetype": "text/x-python",
   "name": "python",
   "nbconvert_exporter": "python",
   "pygments_lexer": "ipython3",
   "version": "3.12.4"
  }
 },
 "nbformat": 4,
 "nbformat_minor": 2
}
