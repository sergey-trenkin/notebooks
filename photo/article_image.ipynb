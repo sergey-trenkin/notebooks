{
 "cells": [
  {
   "cell_type": "code",
   "execution_count": 1,
   "metadata": {},
   "outputs": [
    {
     "data": {
      "text/plain": [
       "'ru_RU.UTF-8'"
      ]
     },
     "execution_count": 1,
     "metadata": {},
     "output_type": "execute_result"
    }
   ],
   "source": [
    "import datetime as dt\n",
    "import pandas as pd\n",
    "import warnings\n",
    "import pymssql\n",
    "import locale\n",
    "\n",
    "warnings.filterwarnings('ignore')\n",
    "locale.setlocale(locale.LC_ALL, 'ru_RU.UTF-8')"
   ]
  },
  {
   "cell_type": "code",
   "execution_count": 2,
   "metadata": {},
   "outputs": [],
   "source": [
    "conn = pymssql.connect(server='spb-s-sql-dwh', database='DWH_DEV', charset='WINDOWS-1251')\n",
    "cursor = conn.cursor()\n",
    "\n",
    "productimage = f'''\n",
    "select \n",
    "[image], [sort], [product_id], [deleted]\n",
    "from [DWH_DEV].[ecom].[catalog_productimage]\n",
    "where [deleted] is NULL\n",
    "'''\n",
    "\n",
    "product = f'''\n",
    "select \n",
    "[id], [article], [published]\n",
    "from [DWH_DEV].[ecom].[catalog_product]\n",
    "'''\n",
    "\n",
    "catalog_productimage = pd.read_sql_query(productimage, conn)\n",
    "catalog_product = pd.read_sql_query(product, conn)"
   ]
  },
  {
   "cell_type": "code",
   "execution_count": 3,
   "metadata": {},
   "outputs": [],
   "source": [
    "# catalog_product = catalog_product.query('published == True')\n",
    "catalog_productimage.rename(columns={'product_id': 'id'},\n",
    "                            inplace=True)\n",
    "photos = catalog_product.merge(catalog_productimage, how='left', on='id')\n",
    "photos['image'] = 'https://static2.585.cloud/media/' + photos['image']\n",
    "photos = photos.query('sort == 1')\n",
    "photos = photos[['article', 'published', 'image']]\n",
    "photos.rename(columns={'article': 'ID Сайта', 'image': 'Ссылка на изображение'}, inplace=True)\n",
    "date = dt.date.today().strftime('%d.%m.%Y')\n",
    "photos.to_excel(fr'\\\\gold585.int\\uk\\Общее хранилище файлов\\Служба аналитики\\Тренкин Сергей\\Фото с сайта для отчётности\\фото с сайта {date}.xlsx', index=False)"
   ]
  },
  {
   "cell_type": "code",
   "execution_count": 12,
   "metadata": {},
   "outputs": [],
   "source": [
    "filename = r'C:\\Users\\Trenkin.Sergey\\Desktop\\Остаток Коламбус по 3 ступени_1.xlsx'\n",
    "df = pd.read_excel(filename)\n",
    "df['ID Сайта'] = df['ID Сайта'].astype(str)"
   ]
  },
  {
   "cell_type": "code",
   "execution_count": 15,
   "metadata": {},
   "outputs": [],
   "source": [
    "df = df.merge(photos, how='left', on='ID Сайта')"
   ]
  },
  {
   "cell_type": "code",
   "execution_count": 16,
   "metadata": {},
   "outputs": [],
   "source": [
    "df.to_excel(filename, index=False)"
   ]
  },
  {
   "cell_type": "code",
   "execution_count": null,
   "metadata": {},
   "outputs": [],
   "source": []
  }
 ],
 "metadata": {
  "kernelspec": {
   "display_name": "Python 3",
   "language": "python",
   "name": "python3"
  },
  "language_info": {
   "codemirror_mode": {
    "name": "ipython",
    "version": 3
   },
   "file_extension": ".py",
   "mimetype": "text/x-python",
   "name": "python",
   "nbconvert_exporter": "python",
   "pygments_lexer": "ipython3",
   "version": "3.12.4"
  }
 },
 "nbformat": 4,
 "nbformat_minor": 2
}
